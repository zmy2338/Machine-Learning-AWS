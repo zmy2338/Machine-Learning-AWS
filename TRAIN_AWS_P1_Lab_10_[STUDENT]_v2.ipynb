{
  "cells": [
    {
      "cell_type": "markdown",
      "metadata": {
        "id": "view-in-github",
        "colab_type": "text"
      },
      "source": [
        "<a href=\"https://colab.research.google.com/github/zmy2338/Machine-Learning-AWS/blob/main/TRAIN_AWS_P1_Lab_10_%5BSTUDENT%5D_v2.ipynb\" target=\"_parent\"><img src=\"https://colab.research.google.com/assets/colab-badge.svg\" alt=\"Open In Colab\"/></a>"
      ]
    },
    {
      "cell_type": "markdown",
      "metadata": {
        "id": "mbZXQ3rA3NwL"
      },
      "source": [
        "# **Lab #10: ML Ethics - Analyzing UCI's Adult Data Set** \n",
        "---\n",
        "\n",
        "### **Description**: \n",
        "In this lab, we will analyze UCI's Adult Data set and explore ethical issues with the dataset and models created from it, as well as attempt to mitigate any bias we find. Then, we will explore Amazon's Clarify.\n",
        "\n",
        "\n",
        "### **Lab Structure**\n",
        "**Part 1**: [Using Visualizations to Identify Bias](#p1)\n",
        "**Part 2**: [Using AWS Clarify to Identify Bias](#p2)\n",
        "**Part 3**: [Mitigating Bias](#p3)\n",
        "\n",
        "\n",
        "</br>\n",
        "\n",
        "\n",
        "### **Goals:** \n",
        "By the end of this lab, you will be able to:\n",
        "* Explain why imbalanced data can lead to bias in models.\n",
        "* You will be able to identify bias through different means like data exploration and using AWS Clarify.\n",
        "* Mitigate bias in data once you have found it using several different approaches.\n",
        "\n",
        "\n",
        "<br>\n",
        "\n",
        "**Before starting, run the code below to import all necessary functions and libraries.**\n"
      ]
    },
    {
      "cell_type": "code",
      "source": [
        "#!pip install scikit-learn\n",
        "#!pip install --quiet smclarify\n",
        "\n",
        "import warnings\n",
        "warnings.filterwarnings('ignore')\n",
        "\n",
        "import pandas as pd\n",
        "import numpy as np\n",
        "import matplotlib.pyplot as plt\n",
        "\n",
        "from smclarify.bias.report import *\n",
        "\n",
        "from sklearn.preprocessing import OneHotEncoder, StandardScaler\n",
        "from sklearn.neighbors import KNeighborsClassifier\n",
        "from sklearn.model_selection import train_test_split\n",
        "from sklearn.metrics import accuracy_score, confusion_matrix, ConfusionMatrixDisplay"
      ],
      "metadata": {
        "id": "lOtzKrWQL9aH"
      },
      "execution_count": null,
      "outputs": []
    },
    {
      "cell_type": "markdown",
      "metadata": {
        "id": "oQSANzasIUX3"
      },
      "source": [
        "<a name=\"p1\"></a>\n",
        "\n",
        "---\n",
        "## **Part 1: Using Visualizations to Identify Bias**\n",
        "---\n",
        "\n",
        "We will be exploring UCI's [Adult Data Set](https://archive-beta.ics.uci.edu/ml/datasets/adult) and the bias inherent within it. This data was intended to inspect incomes over $50K based on census data in 1994, but as we will discover, there are some pitfalls with this data set. The following table will provide a description of what each column in the data set represents.\n",
        "\n",
        "<br>\n",
        "\n",
        "**NOTE:** This data set was derived from 'Census Data'. For this project, we are assuming this refers to the US Census Data for the year 1994. Our comparisons for visualizations reflect this assumption.\n",
        "\n",
        "<br>\n",
        "\n",
        "**Run the cell below to load the data.**"
      ]
    },
    {
      "cell_type": "code",
      "execution_count": null,
      "metadata": {
        "id": "MvEtVccZzaDl"
      },
      "outputs": [],
      "source": [
        "url = \"https://raw.githubusercontent.com/batuhansahincanel/UCIsAdultDataset/main/adult.data\" #\"https://raw.githubusercontent.com/batuhansahincanel/UCIsAdultDataset/main/adult.data\" \n",
        "names=[\"Age\", \"Workclass\", \"Final-Weight\", \"Education\", \"Education-number-of-years\", \"Marital-status\",\n",
        "        \"Occupation\", \"Relationship\", \"Race\", \"Sex\", \"Capital-gain\", \"Capital-loss\",\n",
        "        \"Hours-per-week\", \"Native-country\", \"Target\"]\n",
        "        \n",
        "adult = pd.read_csv(url, names = names)\n",
        "adult = adult.dropna()\n",
        "adult.head()"
      ]
    },
    {
      "cell_type": "markdown",
      "metadata": {
        "id": "12SLuFwL7HRF"
      },
      "source": [
        "### **Problem #1: Sex Distribution**\n",
        "---\n",
        "Complete the code below to create a bar graph for the sex distribution in this dataset. What do you notice in the visualization?"
      ]
    },
    {
      "cell_type": "code",
      "source": [
        "sex_labels = adult[\"Sex\"].# COMPLETE THIS LINE\n",
        "sex_counts = adult[\"Sex\"].# COMPLETE THIS LINE\n",
        "\n",
        "plt.# COMPLETE THIS LINE\n",
        "\n",
        "plt.title('Sex Distribution in the Data', fontweight = 'bold')\n",
        "plt.xlabel('Sex', fontweight = 'bold')\n",
        "plt.ylabel('Number of Adults', fontweight = 'bold')\n",
        "\n",
        "plt.show()"
      ],
      "metadata": {
        "id": "5BtRPrnnNe06"
      },
      "execution_count": null,
      "outputs": []
    },
    {
      "cell_type": "markdown",
      "metadata": {
        "id": "PekvfD-8OTFD"
      },
      "source": [
        "### **Problem #2: Race Distribution**\n",
        "---\n",
        "Complete the code below to create a bar graph for the race distribution in this dataset. What do you notice in the visualization?\n",
        "\n",
        "<br>\n",
        "\n",
        "Consider using the following when creating your graph to make the x-ticks more readable: `plt.xticks(rotation = 45)`."
      ]
    },
    {
      "cell_type": "code",
      "source": [
        "race_labels = # COMPLETE THIS LINE\n",
        "race_counts = # COMPLETE THIS LINE\n",
        "\n",
        "plt.# COMPLETE THIS LINE\n",
        "\n",
        "plt.title(# COMPLETE THIS LINE\n",
        "plt.xlabel(# COMPLETE THIS LINE\n",
        "plt.ylabel(# COMPLETE THIS LINE\n",
        "plt.xticks(# COMPLETE THIS LINE\n",
        "\n",
        "plt.show()"
      ],
      "metadata": {
        "id": "NDY7T73QOTFE"
      },
      "execution_count": null,
      "outputs": []
    },
    {
      "cell_type": "markdown",
      "metadata": {
        "id": "Mxs_wHnWPTBj"
      },
      "source": [
        "### **Problem #3: Education Distribution**\n",
        "---\n",
        "Create a bar graph for the education distribution in this dataset. What do you notice in the visualization?"
      ]
    },
    {
      "cell_type": "code",
      "source": [
        "# COMPLETE THIS CODE"
      ],
      "metadata": {
        "id": "2vCbiuyQPTBk"
      },
      "execution_count": null,
      "outputs": []
    },
    {
      "cell_type": "markdown",
      "metadata": {
        "id": "wmS3l9rYQUjr"
      },
      "source": [
        "### **[OPTIONAL] Problem #4: Education Distribution Revised**\n",
        "---\n",
        "\n",
        "Modify your solution from above so that the counts for:\n",
        "* `1st-4th` and `5th-6th` are grouped under a new label: `Elementary`.\n",
        "* `9th`, `10th`, `11th`, `12th` are grouped under a new label: `High School`."
      ]
    },
    {
      "cell_type": "code",
      "source": [
        "# COMPLETE THIS CODE"
      ],
      "metadata": {
        "id": "keR6Z5sgQUjr"
      },
      "execution_count": null,
      "outputs": []
    },
    {
      "cell_type": "markdown",
      "metadata": {
        "id": "mAzN3_hNRA89"
      },
      "source": [
        "### **Problem #5: Income Distribution**\n",
        "---\n",
        "\n",
        "Create a bar graph for the target (income above or below 50K). What do you notice?"
      ]
    },
    {
      "cell_type": "code",
      "source": [
        "# COMPLETE THIS CODE"
      ],
      "metadata": {
        "id": "HRjQ9u6VRA8-"
      },
      "execution_count": null,
      "outputs": []
    },
    {
      "cell_type": "markdown",
      "metadata": {
        "id": "gJ8eXh9WRT9Y"
      },
      "source": [
        "### **Problem #6: Target by Sex**\n",
        "---\n",
        "\n",
        "Create a new feature, `Target by Sex`, that designates any person with:\n",
        "* `Target` of `' <=50K'` and `Sex` of `' Male'` as `'Male <=50K'`.\n",
        "* `Target` of `' <=50K'` and `Sex` of `' Female'` as `'Female <=50K'`.\n",
        "* `Target` of `' >50K'` and `Sex` of `' Male'` as `'Male >50K'`.\n",
        "* `Target` of `' >50K'` and `Sex` of `' Female'` as `'Female >50K'`.\n",
        "\n",
        "\n",
        "Then create a bar plot of this feature."
      ]
    },
    {
      "cell_type": "code",
      "source": [
        "# COMPLETE THIS CODE"
      ],
      "metadata": {
        "id": "JJHRFj6wRT9Y"
      },
      "execution_count": null,
      "outputs": []
    },
    {
      "cell_type": "markdown",
      "metadata": {
        "id": "DmqbxTGdIXlV"
      },
      "source": [
        "<a name=\"p2\"></a>\n",
        "\n",
        "---\n",
        "## **Part 2: Using AWS Clarify to Identify Bias**\n",
        "---\n",
        "\n",
        "In this section, we are going to use Clarify to identify bias. This method is *much faster* than creating bar graphs for every column.\n",
        "\n",
        "Here is a AWS Clarify [cheatsheet](https://docs.google.com/document/d/1SPnA_Bqewm3tG2gLF_SmG2DIKdm9Jinm1cRBoURv1yw/edit?usp=sharing) for interpretting results.\n",
        "\n",
        "<br>\n",
        "\n",
        "**NOTE**: Steps #1 - 2 have already been taken care of above."
      ]
    },
    {
      "cell_type": "markdown",
      "source": [
        "### **Step #3: Denote the facet column, the label column, and the group variable.**\n",
        "---\n",
        "\n",
        "Set the:\n",
        "* Facet column as `Sex`.\n",
        "* Label column with `Target` as the target column and `' >50K'` as the positive label.\n",
        "* `Sex` as the group variable."
      ],
      "metadata": {
        "id": "Oz1fxr_Ho2M9"
      }
    },
    {
      "cell_type": "code",
      "source": [
        "facet_column = FacetColumn(# COMPLETE THIS LINE\n",
        "label_column = LabelColumn(# COMPLETE THIS LINE\n",
        "group_variable = # COMPLETE THIS LINE"
      ],
      "metadata": {
        "id": "5T211wR_WOmh"
      },
      "execution_count": null,
      "outputs": []
    },
    {
      "cell_type": "markdown",
      "source": [
        "### **Step #4: Generate bias report.**\n",
        "---\n",
        "Check out this [cheatsheet](https://docs.google.com/document/d/1SPnA_Bqewm3tG2gLF_SmG2DIKdm9Jinm1cRBoURv1yw/edit?usp=sharing) for how to interpret pre-training metrics. Using this page, interpret what the following report is saying.\n",
        "\n",
        "<br>\n",
        "\n",
        "**Run the cell below to generate your bias report.**"
      ],
      "metadata": {
        "id": "heQjrb8ko7hV"
      }
    },
    {
      "cell_type": "code",
      "execution_count": null,
      "metadata": {
        "id": "BUmS-Ol_5V0i"
      },
      "outputs": [],
      "source": [
        "report = bias_report(adult, facet_column, label_column, stage_type=StageType.PRE_TRAINING, group_variable=group_variable)\n",
        "\n",
        "# use this to print your report - call it \"report\" for the code to work\n",
        "for cl in report:\n",
        "    print(\"\\n\\n\",\"-\"*35)\n",
        "    print(\"-\"*15, cl[\"value_or_threshold\"], \"-\"*15)\n",
        "    for metric in cl['metrics']:\n",
        "        print(f\"{metric['description']}: {metric['value']}\")"
      ]
    },
    {
      "cell_type": "markdown",
      "metadata": {
        "id": "DDBZLr4m5V0i"
      },
      "source": [
        "### **Step #5 Look at the imbalance.**\n",
        "---\n",
        "\n",
        "Use the [cheatsheet](https://docs.google.com/document/d/1SPnA_Bqewm3tG2gLF_SmG2DIKdm9Jinm1cRBoURv1yw/edit?usp=sharing) provided to interpret what the bias report is telling you. "
      ]
    },
    {
      "cell_type": "code",
      "source": [
        "# Write Male Results here"
      ],
      "metadata": {
        "id": "R-nNr8AaEP1u"
      },
      "execution_count": null,
      "outputs": []
    },
    {
      "cell_type": "code",
      "source": [
        "# Write Female Results"
      ],
      "metadata": {
        "id": "Vbb4ZiyEXTzj"
      },
      "execution_count": null,
      "outputs": []
    },
    {
      "cell_type": "markdown",
      "source": [
        "<a name=\"p3\"></a>\n",
        "\n",
        "---\n",
        "## **Part 3: Mitigating Bias**\n",
        "---\n",
        "In this section, we will implement a KNN model before and after using different techniques for mitigating bias."
      ],
      "metadata": {
        "id": "wt9l2sGtF7ZG"
      }
    },
    {
      "cell_type": "markdown",
      "source": [
        "### **Problem #1: Convert `Sex` to numerical values.**\n",
        "\n",
        "We need to convert any non-numerical binary values into numerical ones that can be used by our model. Specifically convert,\n",
        "* `Sex` from `' Female'` and `' Male'` to 0 and 1 respectively.\n",
        "\n",
        "<br>\n",
        "\n",
        "**NOTE**: There are several ways you could do this that you have learned, including label encoding."
      ],
      "metadata": {
        "id": "ovgPUZBwjOAe"
      }
    },
    {
      "cell_type": "code",
      "source": [
        "# COMPLETE THIS CODE"
      ],
      "metadata": {
        "id": "RGOrRb7Cazwj"
      },
      "execution_count": null,
      "outputs": []
    },
    {
      "cell_type": "markdown",
      "metadata": {
        "id": "zzuVpJmTaop7"
      },
      "source": [
        "### **Problem #2: Dummy variable encode non-numerical categorical variables.**\n",
        "\n",
        "Dummy variable encode the following non-numerical categorical variables:\n",
        "* `Workclass`\n",
        "* `Education`\n",
        "* `Marital-status`\n",
        "* `Occupation`\n",
        "* `Relationship`\n",
        "* `Race`\n",
        "* `Native-country`\n",
        "\n",
        "<br>\n",
        "\n",
        "**NOTE**: Now that you have seen how to do this in yesterday's lab, you can use just one `OneHotEncoder` to transform all these variables at once."
      ]
    },
    {
      "cell_type": "code",
      "source": [
        "# Create the new dataframe\n",
        "new_adult = adult.drop(columns = ['Workclass', 'Education', 'Marital-status', 'Occupation', 'Relationship', 'Race', 'Native-country', 'Target by Sex'], axis = 1)\n",
        "\n",
        "# Create the encoder and transform the desired columns\n",
        "ohe = OneHotEncoder(drop = 'first', sparse_output = False)\n",
        "ohe.set_output(transform = 'pandas')\n",
        "\n",
        "transformed = ohe.fit_transform(adult[[# COMPLETE THIS LINE BY LISTING ALL COLUMNS TO ENCODE\n",
        "\n",
        "# Create the new dataframe\n",
        "new_adult[# COMPLETE THIS LINE\n",
        "\n",
        "\n",
        "new_adult.head()"
      ],
      "metadata": {
        "id": "cC59NltvcnPI"
      },
      "execution_count": null,
      "outputs": []
    },
    {
      "cell_type": "markdown",
      "source": [
        "### **Problem #3: Prepare the data for modeling.**\n",
        "---\n",
        "\n",
        "Specifically,\n",
        "* Decide the independent and dependent variables (only including numerical variables).\n",
        "* Split the data into train and test sets such that 20% is left for testing.\n",
        "* Scale your data.\n"
      ],
      "metadata": {
        "id": "zK9wS9JatKUs"
      }
    },
    {
      "cell_type": "code",
      "source": [
        "# Decide the independent and dependent variables\n",
        "features = # COMPLETE THIS LINE\n",
        "label = # COMPLETE THIS LINE\n",
        "\n",
        "# Split the data into train and test sets\n",
        "X_train, X_test, y_train, y_test = train_test_split(# COMPLETE THIS LINE\n",
        "\n",
        "# Scale your data\n",
        "scaler = # COMPLETE THIS LINE\n",
        "\n",
        "X_train_scaled = scaler.# COMPLETE THIS LINE\n",
        "X_test_scaled = scaler.# COMPLETE THIS LINE"
      ],
      "metadata": {
        "id": "vLtH2pD0tKUs"
      },
      "execution_count": null,
      "outputs": []
    },
    {
      "cell_type": "markdown",
      "source": [
        "### **Problem #3: Initialize and train your model.**\n",
        "---\n",
        "\n",
        "Use a KNN model with K = 5."
      ],
      "metadata": {
        "id": "FQF2UOQktKUt"
      }
    },
    {
      "cell_type": "code",
      "source": [
        "knn = # COMPLETE THIS LINE\n",
        "knn. # COMPLETE THIS LINE"
      ],
      "metadata": {
        "id": "EM3kjM39tKUt"
      },
      "execution_count": null,
      "outputs": []
    },
    {
      "cell_type": "markdown",
      "source": [
        "### **Problem #4: Make predictions for the standardized test data.**\n",
        "---"
      ],
      "metadata": {
        "id": "Qb8gPQuWtKUt"
      }
    },
    {
      "cell_type": "code",
      "source": [
        "y_pred = # COMPLETE THIS LINE"
      ],
      "metadata": {
        "id": "Kaqkb4SotKUt"
      },
      "execution_count": null,
      "outputs": []
    },
    {
      "cell_type": "markdown",
      "source": [
        "### **Problem #5: Evaluate your model.**\n",
        "---\n",
        "\n",
        "Specifically,\n",
        "* Print the accuracy score.\n",
        "* Plot the confusion matrix.\n",
        "\n",
        "<br>\n",
        "\n",
        "**NOTE**: Since we are using `type1` as the label directly here, we just use `display_labels=clf.classes_`. This is one good reason for using non-encoded labels."
      ],
      "metadata": {
        "id": "ZPVhbERLtKUt"
      }
    },
    {
      "cell_type": "code",
      "source": [
        "# Print the accuracy score\n",
        "accuracy = # COMPLETE THIS LINE\n",
        "print(f'Accuracy: {accuracy}')\n",
        "\n",
        "# Plot the confusion matrix\n",
        "cm = confusion_matrix(# COMPLETE THIS LINE\n",
        "\n",
        "disp = ConfusionMatrixDisplay(# COMPLETE THIS LINE\n",
        "disp.plot()\n",
        "\n",
        "plt.xticks(rotation = 90)\n",
        "plt.show()"
      ],
      "metadata": {
        "id": "6nDJP4aWtKUt"
      },
      "execution_count": null,
      "outputs": []
    },
    {
      "cell_type": "markdown",
      "metadata": {
        "id": "PEmRSIJYcrMF"
      },
      "source": [
        "### **Problem #6: Mitigating bias by blinding.**\n",
        "---\n",
        "\n",
        "This method involves just *removing* sex as an input for our model. The hope is that by blinding our model to a feature we have explicitly shown to be biased in the previous Parts, we can remove this bias.\n",
        "\n",
        "<br>\n",
        "\n",
        "**NOTE**: Although it is often one of the first thoughts, blinding to bias is not considered good practice! There are patterns in the data correlated to the removed features that mean we have not really removed the bias. In fact, this can be even more problematic since we believe we have mitigated the bias and take the results more seriously, when in fact the results still reflect biases."
      ]
    },
    {
      "cell_type": "code",
      "source": [
        "# Decide the independent and dependent variables\n",
        "features = new_adult.drop(# COMPLETE THIS LINE SUCH THAT 'Sex' IS NOT A FEATURE\n",
        "label = new_adult['Target']\n",
        "\n",
        "# Split the data into train and test sets\n",
        "X_train, X_test, y_train, y_test = train_test_split(# COMPLETE THIS LINE\n",
        "\n",
        "# Scale your data\n",
        "scaler = # COMPLETE THIS LINE\n",
        "\n",
        "X_train_scaled = # COMPLETE THIS LINE\n",
        "X_test_scaled = # COMPLETE THIS LINE\n",
        "\n",
        "\n",
        "# Initialize and train your model\n",
        "knn = # COMPLETE THIS LINE\n",
        "knn.# COMPLETE THIS LINE\n",
        "\n",
        "\n",
        "# Make predictions for the standardized test data\n",
        "y_pred = knn.# COMPLETE THIS LINE\n",
        "\n",
        "\n",
        "# Evaluate your model\n",
        "# Print the accuracy score\n",
        "accuracy = # COMPLETE THIS LINE\n",
        "print(f'Accuracy: {accuracy}')\n",
        "\n",
        "# Plot the confusion matrix\n",
        "cm = confusion_matrix(# COMPLETE THIS LINE\n",
        "\n",
        "disp = ConfusionMatrixDisplay(# COMPLETE THIS LINE\n",
        "disp.plot()\n",
        "\n",
        "plt.xticks(rotation = 90)\n",
        "plt.show()"
      ],
      "metadata": {
        "id": "kPmODkhUgrqo"
      },
      "execution_count": null,
      "outputs": []
    },
    {
      "cell_type": "markdown",
      "metadata": {
        "id": "f0m1V4vthEvu"
      },
      "source": [
        "### **Problem #7: Mitigate bias by balancing.**\n",
        "---\n",
        "\n",
        "This method involves making the data distribution more equal. In this step, we will balance the sex distribtuion by ensuring there are equal amount of data points for male and female entries being used in our model.\n",
        "\n",
        "<br>\n",
        "\n",
        "**Run the cell below to create this balanced dataset.**"
      ]
    },
    {
      "cell_type": "code",
      "source": [
        "# get two data frames by sex\n",
        "females, males = new_adult.query(\"Sex == 0\"), new_adult.query(\"Sex == 1\")\n",
        "\n",
        "# make the males the minimum between females and males\n",
        "sampled_males = males.sample(n=int(min(females.shape[0], males.shape[0]))).reset_index(drop=True)\n",
        "\n",
        "# combine\n",
        "balanced_adult = pd.concat([sampled_males, females]).sample(frac=1).reset_index(drop=True)"
      ],
      "metadata": {
        "id": "WSIxkl-yhajv"
      },
      "execution_count": null,
      "outputs": []
    },
    {
      "cell_type": "code",
      "source": [
        "# Decide the independent and dependent variables\n",
        "features = balanced_adult.drop(# COMPLETE THIS LINE\n",
        "label = balanced_adult['Target']\n",
        "\n",
        "# Split the data into train and test sets\n",
        "X_train, X_test, y_train, y_test = train_test_split(# COMPLETE THIS LINE\n",
        "\n",
        "# Scale your data\n",
        "scaler = # COMPLETE THIS LINE\n",
        "\n",
        "X_train_scaled = # COMPLETE THIS LINE\n",
        "X_test_scaled = # COMPLETE THIS LINE\n",
        "\n",
        "\n",
        "# Initialize and train your model\n",
        "knn = # COMPLETE THIS LINE\n",
        "knn.# COMPLETE THIS LINE\n",
        "\n",
        "\n",
        "# Make predictions for the standardized test data\n",
        "y_pred = knn.# COMPLETE THIS LINE\n",
        "\n",
        "\n",
        "# Evaluate your model\n",
        "# Print the accuracy score\n",
        "accuracy = # COMPLETE THIS LINE\n",
        "print(f'Accuracy: {accuracy}')\n",
        "\n",
        "# Plot the confusion matrix\n",
        "cm = confusion_matrix(# COMPLETE THIS LINE\n",
        "\n",
        "disp = ConfusionMatrixDisplay(# COMPLETE THIS LINE\n",
        "disp.plot()\n",
        "\n",
        "plt.xticks(rotation = 90)\n",
        "plt.show()"
      ],
      "metadata": {
        "id": "SKCF09s3hEvu"
      },
      "execution_count": null,
      "outputs": []
    },
    {
      "cell_type": "markdown",
      "source": [
        "# End of Lab\n",
        "\n",
        "---\n",
        "© 2023 The Coding School, All rights reserved"
      ],
      "metadata": {
        "id": "nD5aj7Um5k-S"
      }
    }
  ],
  "metadata": {
    "colab": {
      "provenance": [],
      "toc_visible": true,
      "include_colab_link": true
    },
    "kernelspec": {
      "display_name": "default:Python",
      "language": "python",
      "name": "conda-env-default-py"
    },
    "language_info": {
      "codemirror_mode": {
        "name": "ipython",
        "version": 3
      },
      "file_extension": ".py",
      "mimetype": "text/x-python",
      "name": "python",
      "nbconvert_exporter": "python",
      "pygments_lexer": "ipython3",
      "version": "3.9.13"
    }
  },
  "nbformat": 4,
  "nbformat_minor": 0
}