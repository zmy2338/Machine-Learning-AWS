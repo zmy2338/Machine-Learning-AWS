{
  "nbformat": 4,
  "nbformat_minor": 0,
  "metadata": {
    "colab": {
      "provenance": [],
      "collapsed_sections": [
        "mNRDLM5pXPxT",
        "Lz4Z837iYmMx",
        "jLIXb88MZGHb",
        "2vmG75AAZlQ-",
        "Rl_2JhsDZ_I_",
        "vjAgF3aPaMDa",
        "_PlhSOPRahgK",
        "RwQj_FpxVVPR"
      ],
      "include_colab_link": true
    },
    "kernelspec": {
      "name": "python3",
      "display_name": "Python 3"
    },
    "language_info": {
      "name": "python"
    }
  },
  "cells": [
    {
      "cell_type": "markdown",
      "metadata": {
        "id": "view-in-github",
        "colab_type": "text"
      },
      "source": [
        "<a href=\"https://colab.research.google.com/github/zmy2338/Machine-Learning-AWS/blob/main/Another_copy_of_AWS_Part_II_Day_2_Lab_Notebook_%5BSOLUTIONS%5D.ipynb\" target=\"_parent\"><img src=\"https://colab.research.google.com/assets/colab-badge.svg\" alt=\"Open In Colab\"/></a>"
      ]
    },
    {
      "cell_type": "markdown",
      "metadata": {
        "id": "mbZXQ3rA3NwL"
      },
      "source": [
        "# **Day 2: Review II - Advanced Topics**\n",
        "---\n",
        "\n",
        "### **Description**\n",
        "In this lab, you will practice implementing advanced ML techniques including: standardization and normalization; ordinal, one hot, and dummy variable encodings; GridSearchCV, K-Folds Cross Validation; and regularization.\n",
        "\n",
        "\n",
        "### **Lab Structure**\n",
        "**Part 1**: [Investigating Scaling](#p1)\n",
        "\n",
        "**Part 2**: [Investigating Feature Encoding](#p2)\n",
        "\n",
        "\n",
        "**Part 3**: [Optimizing K with GridSearchCV](#p3)\n",
        "\n",
        "**Part 4**: [K-Folds Cross Validation](#p4)\n",
        "\n",
        "**Part 5**: [[OPTIONAL] Investigating Regularization](#p5)\n",
        "\n",
        "\n",
        "\n",
        "</br>\n",
        "\n",
        "\n",
        "### **Goals**\n",
        "By the end of this lab, you will be able to:\n",
        "* Scale data using sklearn's `StandardScaler(...)` and `Normalizer(...)`.\n",
        "* Encode categorical data using ordinal encoding, one-hot encoding, and dummy variable encoding.\n",
        "* Evaluate a model's ability to handle unseen data by using K-Folds Cross Validation.\n",
        "\n",
        "</br>\n",
        "\n",
        "### **Cheat Sheets**\n",
        "* [Advanced ML Techniques](https://docs.google.com/document/d/1IngTBMQSV65iybpEI-WAN1wIZtijxfO5dpM0TBwqQo8/edit?usp=sharing)\n",
        "\n",
        "* [Logistic Regression](https://docs.google.com/document/d/1dAlAlRI1YAKa2Od08TJ9Z7JUysxcUucZXvNMVMvLA4w/edit?usp=share_link)\n",
        "\n",
        "* [K-Nearest Neighbors](https://docs.google.com/document/d/1Z0Uk43jYmRPHgzIyg0s1YIU6hNIw43PFFtqbl8lbj64/edit?usp=share_link)\n",
        "\n",
        "\n",
        "<br>\n",
        "\n",
        "**Before starting, run the code below to import all necessary functions and libraries.**\n"
      ]
    },
    {
      "cell_type": "code",
      "source": [
        "import warnings\n",
        "warnings.filterwarnings('ignore')\n",
        "\n",
        "import pandas as pd\n",
        "import numpy as np\n",
        "import matplotlib.pyplot as plt\n",
        "\n",
        "from sklearn import datasets\n",
        "from sklearn.model_selection import train_test_split, KFold\n",
        "from sklearn.preprocessing import StandardScaler, Normalizer\n",
        "from sklearn.preprocessing import OrdinalEncoder, OneHotEncoder\n",
        "\n",
        "from sklearn.linear_model import LogisticRegression\n",
        "from sklearn.neighbors import KNeighborsClassifier\n",
        "\n",
        "from sklearn import metrics\n",
        "from sklearn.metrics import accuracy_score, r2_score, classification_report\n",
        "from sklearn.metrics import confusion_matrix, ConfusionMatrixDisplay\n",
        "from sklearn.model_selection import cross_val_score"
      ],
      "metadata": {
        "id": "RJXqn4ZQOaFD"
      },
      "execution_count": null,
      "outputs": []
    },
    {
      "cell_type": "markdown",
      "source": [
        "<a name=\"p1\"></a>\n",
        "\n",
        "---\n",
        "## **Part 1: Investigating Scaling**\n",
        "---\n",
        "\n",
        "In this section, we will investigate the role that no scaling versus standardization versus normalization can have on a model's performance. Specifically, we will use logistic regression to predict the type of crop that will grow the most successfully in a given set of conditions.\n",
        "\n",
        "**Run the cell below to load and view the data frame we will be using this section.**"
      ],
      "metadata": {
        "id": "mNRDLM5pXPxT"
      }
    },
    {
      "cell_type": "code",
      "execution_count": null,
      "metadata": {
        "colab": {
          "base_uri": "https://localhost:8080/",
          "height": 206
        },
        "id": "p9UtLBEkOUtS",
        "outputId": "3bf15a8a-5b7b-4d81-c7db-165020f05ee2"
      },
      "outputs": [
        {
          "output_type": "execute_result",
          "data": {
            "text/plain": [
              "   nitrogen  phosphorus  potassium  temperature   humidity        ph  \\\n",
              "0        90          42         43    20.879744  82.002744  6.502985   \n",
              "1        85          58         41    21.770462  80.319644  7.038096   \n",
              "2        60          55         44    23.004459  82.320763  7.840207   \n",
              "3        74          35         40    26.491096  80.158363  6.980401   \n",
              "4        78          42         42    20.130175  81.604873  7.628473   \n",
              "\n",
              "     rainfall  crop  \n",
              "0  202.935536  rice  \n",
              "1  226.655537  rice  \n",
              "2  263.964248  rice  \n",
              "3  242.864034  rice  \n",
              "4  262.717340  rice  "
            ],
            "text/html": [
              "\n",
              "\n",
              "  <div id=\"df-cecdad3e-7655-4c67-bb00-f84071fac292\">\n",
              "    <div class=\"colab-df-container\">\n",
              "      <div>\n",
              "<style scoped>\n",
              "    .dataframe tbody tr th:only-of-type {\n",
              "        vertical-align: middle;\n",
              "    }\n",
              "\n",
              "    .dataframe tbody tr th {\n",
              "        vertical-align: top;\n",
              "    }\n",
              "\n",
              "    .dataframe thead th {\n",
              "        text-align: right;\n",
              "    }\n",
              "</style>\n",
              "<table border=\"1\" class=\"dataframe\">\n",
              "  <thead>\n",
              "    <tr style=\"text-align: right;\">\n",
              "      <th></th>\n",
              "      <th>nitrogen</th>\n",
              "      <th>phosphorus</th>\n",
              "      <th>potassium</th>\n",
              "      <th>temperature</th>\n",
              "      <th>humidity</th>\n",
              "      <th>ph</th>\n",
              "      <th>rainfall</th>\n",
              "      <th>crop</th>\n",
              "    </tr>\n",
              "  </thead>\n",
              "  <tbody>\n",
              "    <tr>\n",
              "      <th>0</th>\n",
              "      <td>90</td>\n",
              "      <td>42</td>\n",
              "      <td>43</td>\n",
              "      <td>20.879744</td>\n",
              "      <td>82.002744</td>\n",
              "      <td>6.502985</td>\n",
              "      <td>202.935536</td>\n",
              "      <td>rice</td>\n",
              "    </tr>\n",
              "    <tr>\n",
              "      <th>1</th>\n",
              "      <td>85</td>\n",
              "      <td>58</td>\n",
              "      <td>41</td>\n",
              "      <td>21.770462</td>\n",
              "      <td>80.319644</td>\n",
              "      <td>7.038096</td>\n",
              "      <td>226.655537</td>\n",
              "      <td>rice</td>\n",
              "    </tr>\n",
              "    <tr>\n",
              "      <th>2</th>\n",
              "      <td>60</td>\n",
              "      <td>55</td>\n",
              "      <td>44</td>\n",
              "      <td>23.004459</td>\n",
              "      <td>82.320763</td>\n",
              "      <td>7.840207</td>\n",
              "      <td>263.964248</td>\n",
              "      <td>rice</td>\n",
              "    </tr>\n",
              "    <tr>\n",
              "      <th>3</th>\n",
              "      <td>74</td>\n",
              "      <td>35</td>\n",
              "      <td>40</td>\n",
              "      <td>26.491096</td>\n",
              "      <td>80.158363</td>\n",
              "      <td>6.980401</td>\n",
              "      <td>242.864034</td>\n",
              "      <td>rice</td>\n",
              "    </tr>\n",
              "    <tr>\n",
              "      <th>4</th>\n",
              "      <td>78</td>\n",
              "      <td>42</td>\n",
              "      <td>42</td>\n",
              "      <td>20.130175</td>\n",
              "      <td>81.604873</td>\n",
              "      <td>7.628473</td>\n",
              "      <td>262.717340</td>\n",
              "      <td>rice</td>\n",
              "    </tr>\n",
              "  </tbody>\n",
              "</table>\n",
              "</div>\n",
              "      <button class=\"colab-df-convert\" onclick=\"convertToInteractive('df-cecdad3e-7655-4c67-bb00-f84071fac292')\"\n",
              "              title=\"Convert this dataframe to an interactive table.\"\n",
              "              style=\"display:none;\">\n",
              "\n",
              "  <svg xmlns=\"http://www.w3.org/2000/svg\" height=\"24px\"viewBox=\"0 0 24 24\"\n",
              "       width=\"24px\">\n",
              "    <path d=\"M0 0h24v24H0V0z\" fill=\"none\"/>\n",
              "    <path d=\"M18.56 5.44l.94 2.06.94-2.06 2.06-.94-2.06-.94-.94-2.06-.94 2.06-2.06.94zm-11 1L8.5 8.5l.94-2.06 2.06-.94-2.06-.94L8.5 2.5l-.94 2.06-2.06.94zm10 10l.94 2.06.94-2.06 2.06-.94-2.06-.94-.94-2.06-.94 2.06-2.06.94z\"/><path d=\"M17.41 7.96l-1.37-1.37c-.4-.4-.92-.59-1.43-.59-.52 0-1.04.2-1.43.59L10.3 9.45l-7.72 7.72c-.78.78-.78 2.05 0 2.83L4 21.41c.39.39.9.59 1.41.59.51 0 1.02-.2 1.41-.59l7.78-7.78 2.81-2.81c.8-.78.8-2.07 0-2.86zM5.41 20L4 18.59l7.72-7.72 1.47 1.35L5.41 20z\"/>\n",
              "  </svg>\n",
              "      </button>\n",
              "\n",
              "\n",
              "\n",
              "    <div id=\"df-e88dbfbc-e0eb-434b-af46-98c1e539668d\">\n",
              "      <button class=\"colab-df-quickchart\" onclick=\"quickchart('df-e88dbfbc-e0eb-434b-af46-98c1e539668d')\"\n",
              "              title=\"Suggest charts.\"\n",
              "              style=\"display:none;\">\n",
              "\n",
              "<svg xmlns=\"http://www.w3.org/2000/svg\" height=\"24px\"viewBox=\"0 0 24 24\"\n",
              "     width=\"24px\">\n",
              "    <g>\n",
              "        <path d=\"M19 3H5c-1.1 0-2 .9-2 2v14c0 1.1.9 2 2 2h14c1.1 0 2-.9 2-2V5c0-1.1-.9-2-2-2zM9 17H7v-7h2v7zm4 0h-2V7h2v10zm4 0h-2v-4h2v4z\"/>\n",
              "    </g>\n",
              "</svg>\n",
              "      </button>\n",
              "    </div>\n",
              "\n",
              "<style>\n",
              "  .colab-df-quickchart {\n",
              "    background-color: #E8F0FE;\n",
              "    border: none;\n",
              "    border-radius: 50%;\n",
              "    cursor: pointer;\n",
              "    display: none;\n",
              "    fill: #1967D2;\n",
              "    height: 32px;\n",
              "    padding: 0 0 0 0;\n",
              "    width: 32px;\n",
              "  }\n",
              "\n",
              "  .colab-df-quickchart:hover {\n",
              "    background-color: #E2EBFA;\n",
              "    box-shadow: 0px 1px 2px rgba(60, 64, 67, 0.3), 0px 1px 3px 1px rgba(60, 64, 67, 0.15);\n",
              "    fill: #174EA6;\n",
              "  }\n",
              "\n",
              "  [theme=dark] .colab-df-quickchart {\n",
              "    background-color: #3B4455;\n",
              "    fill: #D2E3FC;\n",
              "  }\n",
              "\n",
              "  [theme=dark] .colab-df-quickchart:hover {\n",
              "    background-color: #434B5C;\n",
              "    box-shadow: 0px 1px 3px 1px rgba(0, 0, 0, 0.15);\n",
              "    filter: drop-shadow(0px 1px 2px rgba(0, 0, 0, 0.3));\n",
              "    fill: #FFFFFF;\n",
              "  }\n",
              "</style>\n",
              "\n",
              "    <script>\n",
              "      async function quickchart(key) {\n",
              "        const containerElement = document.querySelector('#' + key);\n",
              "        const charts = await google.colab.kernel.invokeFunction(\n",
              "            'suggestCharts', [key], {});\n",
              "      }\n",
              "    </script>\n",
              "\n",
              "      <script>\n",
              "\n",
              "function displayQuickchartButton(domScope) {\n",
              "  let quickchartButtonEl =\n",
              "    domScope.querySelector('#df-e88dbfbc-e0eb-434b-af46-98c1e539668d button.colab-df-quickchart');\n",
              "  quickchartButtonEl.style.display =\n",
              "    google.colab.kernel.accessAllowed ? 'block' : 'none';\n",
              "}\n",
              "\n",
              "        displayQuickchartButton(document);\n",
              "      </script>\n",
              "      <style>\n",
              "    .colab-df-container {\n",
              "      display:flex;\n",
              "      flex-wrap:wrap;\n",
              "      gap: 12px;\n",
              "    }\n",
              "\n",
              "    .colab-df-convert {\n",
              "      background-color: #E8F0FE;\n",
              "      border: none;\n",
              "      border-radius: 50%;\n",
              "      cursor: pointer;\n",
              "      display: none;\n",
              "      fill: #1967D2;\n",
              "      height: 32px;\n",
              "      padding: 0 0 0 0;\n",
              "      width: 32px;\n",
              "    }\n",
              "\n",
              "    .colab-df-convert:hover {\n",
              "      background-color: #E2EBFA;\n",
              "      box-shadow: 0px 1px 2px rgba(60, 64, 67, 0.3), 0px 1px 3px 1px rgba(60, 64, 67, 0.15);\n",
              "      fill: #174EA6;\n",
              "    }\n",
              "\n",
              "    [theme=dark] .colab-df-convert {\n",
              "      background-color: #3B4455;\n",
              "      fill: #D2E3FC;\n",
              "    }\n",
              "\n",
              "    [theme=dark] .colab-df-convert:hover {\n",
              "      background-color: #434B5C;\n",
              "      box-shadow: 0px 1px 3px 1px rgba(0, 0, 0, 0.15);\n",
              "      filter: drop-shadow(0px 1px 2px rgba(0, 0, 0, 0.3));\n",
              "      fill: #FFFFFF;\n",
              "    }\n",
              "  </style>\n",
              "\n",
              "      <script>\n",
              "        const buttonEl =\n",
              "          document.querySelector('#df-cecdad3e-7655-4c67-bb00-f84071fac292 button.colab-df-convert');\n",
              "        buttonEl.style.display =\n",
              "          google.colab.kernel.accessAllowed ? 'block' : 'none';\n",
              "\n",
              "        async function convertToInteractive(key) {\n",
              "          const element = document.querySelector('#df-cecdad3e-7655-4c67-bb00-f84071fac292');\n",
              "          const dataTable =\n",
              "            await google.colab.kernel.invokeFunction('convertToInteractive',\n",
              "                                                     [key], {});\n",
              "          if (!dataTable) return;\n",
              "\n",
              "          const docLinkHtml = 'Like what you see? Visit the ' +\n",
              "            '<a target=\"_blank\" href=https://colab.research.google.com/notebooks/data_table.ipynb>data table notebook</a>'\n",
              "            + ' to learn more about interactive tables.';\n",
              "          element.innerHTML = '';\n",
              "          dataTable['output_type'] = 'display_data';\n",
              "          await google.colab.output.renderOutput(dataTable, element);\n",
              "          const docLink = document.createElement('div');\n",
              "          docLink.innerHTML = docLinkHtml;\n",
              "          element.appendChild(docLink);\n",
              "        }\n",
              "      </script>\n",
              "    </div>\n",
              "  </div>\n"
            ]
          },
          "metadata": {},
          "execution_count": 3
        }
      ],
      "source": [
        "url = 'https://raw.githubusercontent.com/the-codingschool/TRAIN-datasets/main/crop%20recommendation%20clean.csv'\n",
        "df = pd.read_csv(url)\n",
        "\n",
        "df.head()"
      ]
    },
    {
      "cell_type": "markdown",
      "source": [
        "#### **Problem #1.1**\n",
        "\n",
        "Define the features and label given that we are attempting to predict the type of crop based on environmental conditions."
      ],
      "metadata": {
        "id": "GDbj6uYAXsz_"
      }
    },
    {
      "cell_type": "code",
      "source": [
        "features = # COMPLETE THIS LINE\n",
        "label = # COMPLETE THIS LINE"
      ],
      "metadata": {
        "id": "c61WoA7kYU8V"
      },
      "execution_count": null,
      "outputs": []
    },
    {
      "cell_type": "markdown",
      "source": [
        "##### **Solution**"
      ],
      "metadata": {
        "id": "gQ7GTcJ4YVOs"
      }
    },
    {
      "cell_type": "code",
      "source": [
        "features = df.drop(columns = 'crop')\n",
        "label = df['crop']"
      ],
      "metadata": {
        "id": "tEy7ceU9TRUA"
      },
      "execution_count": null,
      "outputs": []
    },
    {
      "cell_type": "markdown",
      "source": [
        "#### **Problem #1.2**\n",
        "\n",
        "Split the data into training and test sets such that 20% of the data is reserved for testing."
      ],
      "metadata": {
        "id": "rvRAuI3oYcEi"
      }
    },
    {
      "cell_type": "code",
      "source": [
        "X_train, X_test, y_train, y_test = # COMPLETE THIS LINE"
      ],
      "metadata": {
        "id": "G2cw8AV-Yh6o"
      },
      "execution_count": null,
      "outputs": []
    },
    {
      "cell_type": "markdown",
      "source": [
        "##### **Solution**"
      ],
      "metadata": {
        "id": "krZEeeNtYiMN"
      }
    },
    {
      "cell_type": "code",
      "source": [
        "X_train, X_test, y_train, y_test = train_test_split(features, label, test_size=0.2, random_state=42)"
      ],
      "metadata": {
        "id": "6zUIlMi8TVik"
      },
      "execution_count": null,
      "outputs": []
    },
    {
      "cell_type": "markdown",
      "source": [
        "#### **Problem #1.3**\n",
        "\n",
        "Now, create a *standardized* version of the training and testing data using sklearn's `StandardScaler()`. We will use this to compare to the original training and test sets."
      ],
      "metadata": {
        "id": "Lz4Z837iYmMx"
      }
    },
    {
      "cell_type": "code",
      "source": [
        "std_scaler = StandardScaler()\n",
        "X_train_std = std_scaler.# COMPLETE THIS LINE\n",
        "X_test_std = std_scaler.# COMPLETE THIS LINE"
      ],
      "metadata": {
        "id": "gBObc0FuYx4k",
        "colab": {
          "base_uri": "https://localhost:8080/",
          "height": 132
        },
        "outputId": "1186ebb4-29ab-418f-b8e7-7258fe414602"
      },
      "execution_count": null,
      "outputs": [
        {
          "output_type": "error",
          "ename": "SyntaxError",
          "evalue": "ignored",
          "traceback": [
            "\u001b[0;36m  File \u001b[0;32m\"<ipython-input-8-16ae135b7c11>\"\u001b[0;36m, line \u001b[0;32m2\u001b[0m\n\u001b[0;31m    X_train_std = std_scaler.# COMPLETE THIS LINE\u001b[0m\n\u001b[0m                             ^\u001b[0m\n\u001b[0;31mSyntaxError\u001b[0m\u001b[0;31m:\u001b[0m invalid syntax\n"
          ]
        }
      ]
    },
    {
      "cell_type": "markdown",
      "source": [
        "##### **Solution**"
      ],
      "metadata": {
        "id": "FKkkWxvVYyMk"
      }
    },
    {
      "cell_type": "code",
      "source": [
        "std_scaler = StandardScaler()\n",
        "X_train_std = std_scaler.fit_transform(X_train)\n",
        "X_test_std = std_scaler.transform(X_test)"
      ],
      "metadata": {
        "id": "F37AG9UXTbHm"
      },
      "execution_count": null,
      "outputs": []
    },
    {
      "cell_type": "markdown",
      "source": [
        "#### **Problem #1.4**\n",
        "\n",
        "Now, create a *normalized* version of the training and testing data using sklearn's `Normalizer()`. We will use this to compare to the original training and test sets and to the standardized versions."
      ],
      "metadata": {
        "id": "C8y841ctY8QO"
      }
    },
    {
      "cell_type": "code",
      "source": [
        "norm_scaler = Normalizer()\n",
        "X_train_norm = norm_scaler.# COMPLETE THIS LINE\n",
        "X_test_norm = norm_scaler.# COMPLETE THIS LINE"
      ],
      "metadata": {
        "id": "_wIRB6uXY8QP",
        "colab": {
          "base_uri": "https://localhost:8080/",
          "height": 132
        },
        "outputId": "7e61537d-c63d-45c5-d54b-2bc15defc30d"
      },
      "execution_count": null,
      "outputs": [
        {
          "output_type": "error",
          "ename": "SyntaxError",
          "evalue": "ignored",
          "traceback": [
            "\u001b[0;36m  File \u001b[0;32m\"<ipython-input-7-c96157b1571d>\"\u001b[0;36m, line \u001b[0;32m2\u001b[0m\n\u001b[0;31m    X_train_norm = norm_scaler.# COMPLETE THIS LINE\u001b[0m\n\u001b[0m                               ^\u001b[0m\n\u001b[0;31mSyntaxError\u001b[0m\u001b[0;31m:\u001b[0m invalid syntax\n"
          ]
        }
      ]
    },
    {
      "cell_type": "markdown",
      "source": [
        "##### **Solution**"
      ],
      "metadata": {
        "id": "8N4Do60gY8QQ"
      }
    },
    {
      "cell_type": "code",
      "source": [
        "norm_scaler = Normalizer()\n",
        "X_train_norm = norm_scaler.fit_transform(X_train)\n",
        "X_test_norm = norm_scaler.transform(X_test)"
      ],
      "metadata": {
        "id": "dE_m0yBITkED"
      },
      "execution_count": null,
      "outputs": []
    },
    {
      "cell_type": "markdown",
      "source": [
        "#### **Problem #1.5**\n",
        "\n",
        "Before moving onto modeling, let's see if we can visually detect any differences between these types of scaling. Specifically, create three scatter plots as follows:\n",
        "1. One comparing the original training data's 0th column to the *standardized* data's 0th column.\n",
        "2. Another comparing the original training data's 0th column to the *normalized* data's 0th column.\n",
        "3. A third one comparing the *standardized* training data's 0th column to the *normalized* data's 0th column."
      ],
      "metadata": {
        "id": "jLIXb88MZGHb"
      }
    },
    {
      "cell_type": "markdown",
      "source": [
        "##### **1. Create a scatter plot comparing the original training data's 0th column to the *standardized* data's 0th column.**\n",
        "\n",
        "**Run the code below to accomplish this task.**"
      ],
      "metadata": {
        "id": "2vmG75AAZlQ-"
      }
    },
    {
      "cell_type": "code",
      "source": [
        "plt.scatter(X_train.iloc[:, 0], X_train_std[:, 0])\n",
        "\n",
        "plt.xlabel('Unscaled Feature 0')\n",
        "plt.ylabel('Standardized Feature 0')\n",
        "plt.title('Comparing Unscaled to Standardized Feature 0')\n",
        "\n",
        "plt.show()"
      ],
      "metadata": {
        "colab": {
          "base_uri": "https://localhost:8080/"
        },
        "id": "2sfVNQb2TsQj",
        "outputId": "16661aa0-71a9-403c-d227-7c5844982eab"
      },
      "execution_count": null,
      "outputs": [
        {
          "output_type": "display_data",
          "data": {
            "text/plain": [
              "<Figure size 640x480 with 1 Axes>"
            ],
            "image/png": "[encoded data removed]"
          },
          "metadata": {}
        }
      ]
    },
    {
      "cell_type": "markdown",
      "source": [
        "##### **2. Create a scatter plot comparing the original training data's 0th column to the *normalized* data's 0th column.**"
      ],
      "metadata": {
        "id": "Rl_2JhsDZ_I_"
      }
    },
    {
      "cell_type": "code",
      "source": [
        "# COMPLETE THIS CODE"
      ],
      "metadata": {
        "id": "k7F84ZrGaDWc"
      },
      "execution_count": null,
      "outputs": []
    },
    {
      "cell_type": "markdown",
      "source": [
        "##### **Solution**"
      ],
      "metadata": {
        "id": "oah2Ayy7aDnE"
      }
    },
    {
      "cell_type": "code",
      "source": [
        "plt.scatter(X_train.iloc[:, 0], X_train_norm[:, 0])\n",
        "\n",
        "plt.xlabel('Unscaled Feature 0')\n",
        "plt.ylabel('Normalized Feature 0')\n",
        "plt.title('Comparing Unscaled to Normalized Feature 0')\n",
        "\n",
        "plt.show()"
      ],
      "metadata": {
        "colab": {
          "base_uri": "https://localhost:8080/"
        },
        "id": "B2egdWwZaE2Z",
        "outputId": "d57e863e-2820-4fef-d0cc-063cc408bbe6"
      },
      "execution_count": null,
      "outputs": [
        {
          "output_type": "display_data",
          "data": {
            "text/plain": [
              "<Figure size 640x480 with 1 Axes>"
            ],
            "image/png": "[encoded data removed]"
          },
          "metadata": {}
        }
      ]
    },
    {
      "cell_type": "markdown",
      "source": [
        "##### **3. Create a scatter plot comparing the *standardized* data's 0th column to the *normalized* data's 0th column.**"
      ],
      "metadata": {
        "id": "vjAgF3aPaMDa"
      }
    },
    {
      "cell_type": "code",
      "source": [
        "# COMPLETE THIS CODE"
      ],
      "metadata": {
        "id": "vvVz7M7YaMDb"
      },
      "execution_count": null,
      "outputs": []
    },
    {
      "cell_type": "markdown",
      "source": [
        "##### **Solution**"
      ],
      "metadata": {
        "id": "dl6cAy0OaMDk"
      }
    },
    {
      "cell_type": "code",
      "source": [
        "plt.scatter(X_train_std[:, 0], X_train_norm[:, 0])\n",
        "\n",
        "plt.xlabel('Standardized Feature 0')\n",
        "plt.ylabel('Normalized Feature 0')\n",
        "plt.title('Comparing Standardized to Normalized Feature 0')\n",
        "\n",
        "plt.show()"
      ],
      "metadata": {
        "colab": {
          "base_uri": "https://localhost:8080/",
          "height": 245
        },
        "outputId": "8def261a-d707-4369-eec3-faecb4721003",
        "id": "EwOfXeHAaMDk"
      },
      "execution_count": null,
      "outputs": [
        {
          "output_type": "error",
          "ename": "NameError",
          "evalue": "ignored",
          "traceback": [
            "\u001b[0;31m---------------------------------------------------------------------------\u001b[0m",
            "\u001b[0;31mNameError\u001b[0m                                 Traceback (most recent call last)",
            "\u001b[0;32m<ipython-input-2-3585a2ac1537>\u001b[0m in \u001b[0;36m<cell line: 1>\u001b[0;34m()\u001b[0m\n\u001b[0;32m----> 1\u001b[0;31m \u001b[0mplt\u001b[0m\u001b[0;34m.\u001b[0m\u001b[0mscatter\u001b[0m\u001b[0;34m(\u001b[0m\u001b[0mX_train_std\u001b[0m\u001b[0;34m[\u001b[0m\u001b[0;34m:\u001b[0m\u001b[0;34m,\u001b[0m \u001b[0;36m0\u001b[0m\u001b[0;34m]\u001b[0m\u001b[0;34m,\u001b[0m \u001b[0mX_train_norm\u001b[0m\u001b[0;34m[\u001b[0m\u001b[0;34m:\u001b[0m\u001b[0;34m,\u001b[0m \u001b[0;36m0\u001b[0m\u001b[0;34m]\u001b[0m\u001b[0;34m)\u001b[0m\u001b[0;34m\u001b[0m\u001b[0;34m\u001b[0m\u001b[0m\n\u001b[0m\u001b[1;32m      2\u001b[0m \u001b[0;34m\u001b[0m\u001b[0m\n\u001b[1;32m      3\u001b[0m \u001b[0mplt\u001b[0m\u001b[0;34m.\u001b[0m\u001b[0mxlabel\u001b[0m\u001b[0;34m(\u001b[0m\u001b[0;34m'Standardized Feature 0'\u001b[0m\u001b[0;34m)\u001b[0m\u001b[0;34m\u001b[0m\u001b[0;34m\u001b[0m\u001b[0m\n\u001b[1;32m      4\u001b[0m \u001b[0mplt\u001b[0m\u001b[0;34m.\u001b[0m\u001b[0mylabel\u001b[0m\u001b[0;34m(\u001b[0m\u001b[0;34m'Normalized Feature 0'\u001b[0m\u001b[0;34m)\u001b[0m\u001b[0;34m\u001b[0m\u001b[0;34m\u001b[0m\u001b[0m\n\u001b[1;32m      5\u001b[0m \u001b[0mplt\u001b[0m\u001b[0;34m.\u001b[0m\u001b[0mtitle\u001b[0m\u001b[0;34m(\u001b[0m\u001b[0;34m'Comparing Standardized to Normalized Feature 0'\u001b[0m\u001b[0;34m)\u001b[0m\u001b[0;34m\u001b[0m\u001b[0;34m\u001b[0m\u001b[0m\n",
            "\u001b[0;31mNameError\u001b[0m: name 'X_train_std' is not defined"
          ]
        }
      ]
    },
    {
      "cell_type": "markdown",
      "source": [
        "#### **Problem #1.6**\n",
        "\n",
        "**Discussion Questions**: Based on the visualizations above, does normalization or standardization seem to cause a larger change in the distribution of data? How might this affect a model's ability to make predictions?"
      ],
      "metadata": {
        "id": "_PlhSOPRahgK"
      }
    },
    {
      "cell_type": "markdown",
      "source": [
        "##### **Solution**\n",
        "\n",
        "Normalization definitely causes a bigger change visually. The standardized and unscaled features seem to be nearly identical in distribution, as evidenced by a nearly perfect straight line when comparing. On the other hand, the normalized and unscaled features exhibit a much more complex pattern.\n",
        "\n",
        "In turn, this *may* mean that normalizing the data will make it harder for a model to predict the original distribution of outcomes."
      ],
      "metadata": {
        "id": "wtxzuHowa-Vo"
      }
    },
    {
      "cell_type": "markdown",
      "source": [
        "#### **Problem #1.7**\n",
        "\n",
        "Now it's time to model our data. Specifically, create three logistic regression models as follows:\n",
        "\n",
        "1. Modeling with the original, unscaled training data and testing on the test set using a classifcation report and confusion matrix.\n",
        "\n",
        "2. Modeling with the *standardized* training data and testing on the test set using a classifcation report and confusion matrix.\n",
        "\n",
        "3. Modeling with the *normalized* training data and testing on the test set using a classifcation report and confusion matrix."
      ],
      "metadata": {
        "id": "ebdkHYYIbh_X"
      }
    },
    {
      "cell_type": "markdown",
      "source": [
        "##### **1. Create a logistic regression model with the original, unscaled training data and test it on the test set using a classifcation report and confusion matrix.**"
      ],
      "metadata": {
        "id": "fIv1gvXYcFtR"
      }
    },
    {
      "cell_type": "code",
      "source": [
        "model_unscaled = # COMPLETE LINE\n",
        "\n",
        "model_unscaled.fit(# COMPLETE LINE\n",
        "\n",
        "\n",
        "pred_unscaled = model_unscaled.# COMPLETE LINE\n",
        "\n",
        "print(classification_report(y_test, pred_unscaled, labels = model_unscaled.classes_))"
      ],
      "metadata": {
        "id": "JLC6EFmacMTX"
      },
      "execution_count": null,
      "outputs": []
    },
    {
      "cell_type": "code",
      "source": [
        "cm = confusion_matrix(y_test, pred_unscaled, labels=model_unscaled.classes_)\n",
        "\n",
        "disp = ConfusionMatrixDisplay(confusion_matrix=cm, display_labels=model_unscaled.classes_)\n",
        "disp.plot()\n",
        "\n",
        "plt.xticks(rotation = 90)\n",
        "plt.show()"
      ],
      "metadata": {
        "id": "8urBAsyhcYIL"
      },
      "execution_count": null,
      "outputs": []
    },
    {
      "cell_type": "markdown",
      "source": [
        "##### **Solution**"
      ],
      "metadata": {
        "id": "9ZXuKHFacMjd"
      }
    },
    {
      "cell_type": "code",
      "source": [
        "model_unscaled = LogisticRegression()\n",
        "\n",
        "model_unscaled.fit(X_train, y_train)\n",
        "\n",
        "\n",
        "pred_unscaled = model_unscaled.predict(X_test)\n",
        "\n",
        "print(classification_report(y_test, pred_unscaled, labels = model_unscaled.classes_))"
      ],
      "metadata": {
        "colab": {
          "base_uri": "https://localhost:8080/"
        },
        "id": "oduwszebU1Tr",
        "outputId": "195b85e6-d9df-40d7-9132-235a5a960991"
      },
      "execution_count": null,
      "outputs": [
        {
          "output_type": "stream",
          "name": "stdout",
          "text": [
            "              precision    recall  f1-score   support\n",
            "\n",
            "       apple       1.00      1.00      1.00        23\n",
            "      banana       0.95      1.00      0.98        21\n",
            "   blackgram       0.83      0.75      0.79        20\n",
            "    chickpea       1.00      1.00      1.00        26\n",
            "     coconut       1.00      1.00      1.00        27\n",
            "      coffee       0.94      1.00      0.97        17\n",
            "      cotton       0.80      0.94      0.86        17\n",
            "      grapes       1.00      1.00      1.00        14\n",
            "        jute       0.91      0.87      0.89        23\n",
            " kidneybeans       1.00      0.95      0.97        20\n",
            "      lentil       0.83      0.91      0.87        11\n",
            "       maize       0.94      0.76      0.84        21\n",
            "       mango       0.95      1.00      0.97        19\n",
            "   mothbeans       0.85      0.92      0.88        24\n",
            "    mungbean       0.95      1.00      0.97        19\n",
            "   muskmelon       1.00      1.00      1.00        17\n",
            "      orange       1.00      1.00      1.00        14\n",
            "      papaya       0.95      0.91      0.93        23\n",
            "  pigeonpeas       0.95      0.91      0.93        23\n",
            " pomegranate       1.00      1.00      1.00        23\n",
            "        rice       0.89      0.89      0.89        19\n",
            "  watermelon       1.00      1.00      1.00        19\n",
            "\n",
            "    accuracy                           0.95       440\n",
            "   macro avg       0.94      0.95      0.94       440\n",
            "weighted avg       0.95      0.95      0.94       440\n",
            "\n"
          ]
        }
      ]
    },
    {
      "cell_type": "code",
      "source": [
        "cm = confusion_matrix(y_test, pred_unscaled, labels=model_unscaled.classes_)\n",
        "\n",
        "disp = ConfusionMatrixDisplay(confusion_matrix=cm, display_labels=model_unscaled.classes_)\n",
        "disp.plot()\n",
        "\n",
        "plt.xticks(rotation = 90)\n",
        "plt.show()"
      ],
      "metadata": {
        "colab": {
          "base_uri": "https://localhost:8080/"
        },
        "id": "w_dUqKoAVT7f",
        "outputId": "196e1b27-6e30-44af-a1bc-e2677694e6bd"
      },
      "execution_count": null,
      "outputs": [
        {
          "output_type": "display_data",
          "data": {
            "text/plain": [
              "<Figure size 640x480 with 2 Axes>"
            ],
            "image/png": "[encoded data removed]"
          },
          "metadata": {}
        }
      ]
    },
    {
      "cell_type": "markdown",
      "source": [
        "##### **2. Create a logistic regression model with the *standardized* training data and test it on the test set using a classifcation report and confusion matrix.**"
      ],
      "metadata": {
        "id": "UVhqBYvQcb8R"
      }
    },
    {
      "cell_type": "code",
      "source": [
        "model_std = # COMPLETE THIS LINE\n",
        "\n",
        "model_std.fit(# COMPLETE THIS LINE\n",
        "\n",
        "pred_std =  # COMPLETE THIS LINE\n",
        "\n",
        "print(classification_report(# COMPLETE THIS LINE"
      ],
      "metadata": {
        "id": "v8WO792qch_m"
      },
      "execution_count": null,
      "outputs": []
    },
    {
      "cell_type": "code",
      "source": [
        "cm = confusion_matrix(# COMPLETE THIS LINE\n",
        "\n",
        "disp = ConfusionMatrixDisplay(confusion_matrix=cm, display_labels=# COMPLETE THIS LINE\n",
        "disp.plot()\n",
        "\n",
        "plt.xticks(rotation = 90)\n",
        "plt.show()"
      ],
      "metadata": {
        "id": "JHYwWU7achgt"
      },
      "execution_count": null,
      "outputs": []
    },
    {
      "cell_type": "markdown",
      "source": [
        "##### **Solution**"
      ],
      "metadata": {
        "id": "rSOu8xNmcid8"
      }
    },
    {
      "cell_type": "code",
      "source": [
        "model_std = LogisticRegression()\n",
        "\n",
        "model_std.fit(X_train_std, y_train)\n",
        "\n",
        "pred_std = model_std.predict(X_test_std)\n",
        "\n",
        "print(classification_report(y_test, pred_std, labels = model_std.classes_))"
      ],
      "metadata": {
        "colab": {
          "base_uri": "https://localhost:8080/"
        },
        "outputId": "4d16c18f-db60-4c31-ed67-34ee1289af5d",
        "id": "9CIK3S9CV2LA"
      },
      "execution_count": null,
      "outputs": [
        {
          "output_type": "stream",
          "name": "stdout",
          "text": [
            "              precision    recall  f1-score   support\n",
            "\n",
            "       apple       1.00      1.00      1.00        23\n",
            "      banana       1.00      1.00      1.00        21\n",
            "   blackgram       0.90      0.95      0.93        20\n",
            "    chickpea       1.00      1.00      1.00        26\n",
            "     coconut       1.00      1.00      1.00        27\n",
            "      coffee       0.94      1.00      0.97        17\n",
            "      cotton       0.94      1.00      0.97        17\n",
            "      grapes       1.00      1.00      1.00        14\n",
            "        jute       0.83      0.87      0.85        23\n",
            " kidneybeans       0.95      0.95      0.95        20\n",
            "      lentil       0.85      1.00      0.92        11\n",
            "       maize       1.00      0.95      0.98        21\n",
            "       mango       1.00      1.00      1.00        19\n",
            "   mothbeans       1.00      0.92      0.96        24\n",
            "    mungbean       1.00      1.00      1.00        19\n",
            "   muskmelon       1.00      1.00      1.00        17\n",
            "      orange       1.00      1.00      1.00        14\n",
            "      papaya       0.96      0.96      0.96        23\n",
            "  pigeonpeas       0.91      0.87      0.89        23\n",
            " pomegranate       1.00      1.00      1.00        23\n",
            "        rice       0.88      0.79      0.83        19\n",
            "  watermelon       1.00      1.00      1.00        19\n",
            "\n",
            "    accuracy                           0.96       440\n",
            "   macro avg       0.96      0.97      0.96       440\n",
            "weighted avg       0.96      0.96      0.96       440\n",
            "\n"
          ]
        }
      ]
    },
    {
      "cell_type": "code",
      "source": [
        "cm = confusion_matrix(y_test, pred_std, labels=model_std.classes_)\n",
        "\n",
        "disp = ConfusionMatrixDisplay(confusion_matrix=cm, display_labels=model_std.classes_)\n",
        "disp.plot()\n",
        "\n",
        "plt.xticks(rotation = 90)\n",
        "plt.show()"
      ],
      "metadata": {
        "colab": {
          "base_uri": "https://localhost:8080/"
        },
        "outputId": "152b8cb4-d58b-4e2e-cc37-82670c7da1dc",
        "id": "5KGZE0J7V2LN"
      },
      "execution_count": null,
      "outputs": [
        {
          "output_type": "display_data",
          "data": {
            "text/plain": [
              "<Figure size 640x480 with 2 Axes>"
            ],
            "image/png": "[encoded data removed]"
          },
          "metadata": {}
        }
      ]
    },
    {
      "cell_type": "markdown",
      "source": [
        "##### **3. Create a logistic regression model with the *normalized* training data and test it on the test set using a classifcation report and confusion matrix.**"
      ],
      "metadata": {
        "id": "BuFM3HfkcwzK"
      }
    },
    {
      "cell_type": "code",
      "source": [
        "model_norm = # COMPLETE THIS LINE\n",
        "\n",
        "# COMPLETE THIS CODE"
      ],
      "metadata": {
        "id": "pUTHpSHcczW6"
      },
      "execution_count": null,
      "outputs": []
    },
    {
      "cell_type": "code",
      "source": [
        "# COMPLETE THIS CODE"
      ],
      "metadata": {
        "id": "oXi2Igtpczwn"
      },
      "execution_count": null,
      "outputs": []
    },
    {
      "cell_type": "markdown",
      "source": [
        "##### **Solution**"
      ],
      "metadata": {
        "id": "OjLGH5I5cz-c"
      }
    },
    {
      "cell_type": "code",
      "source": [
        "model_norm = LogisticRegression()\n",
        "\n",
        "model_norm.fit(X_train_norm, y_train)\n",
        "\n",
        "pred_norm = model_norm.predict(X_test_norm)\n",
        "\n",
        "print(classification_report(y_test, pred_norm, labels = model_norm.classes_))"
      ],
      "metadata": {
        "colab": {
          "base_uri": "https://localhost:8080/"
        },
        "outputId": "ca92c550-43db-4cd9-d23b-07752ef11bb2",
        "id": "k9LIoz8HWPhH"
      },
      "execution_count": null,
      "outputs": [
        {
          "output_type": "stream",
          "name": "stdout",
          "text": [
            "              precision    recall  f1-score   support\n",
            "\n",
            "       apple       1.00      0.83      0.90        23\n",
            "      banana       0.95      1.00      0.98        21\n",
            "   blackgram       0.70      0.70      0.70        20\n",
            "    chickpea       1.00      1.00      1.00        26\n",
            "     coconut       1.00      0.85      0.92        27\n",
            "      coffee       0.65      1.00      0.79        17\n",
            "      cotton       0.61      1.00      0.76        17\n",
            "      grapes       0.78      1.00      0.88        14\n",
            "        jute       1.00      0.35      0.52        23\n",
            " kidneybeans       0.82      0.90      0.86        20\n",
            "      lentil       0.52      1.00      0.69        11\n",
            "       maize       1.00      0.38      0.55        21\n",
            "       mango       0.83      1.00      0.90        19\n",
            "   mothbeans       0.92      0.46      0.61        24\n",
            "    mungbean       0.73      1.00      0.84        19\n",
            "   muskmelon       0.94      1.00      0.97        17\n",
            "      orange       0.82      1.00      0.90        14\n",
            "      papaya       1.00      0.39      0.56        23\n",
            "  pigeonpeas       0.76      0.70      0.73        23\n",
            " pomegranate       0.96      1.00      0.98        23\n",
            "        rice       0.55      0.89      0.68        19\n",
            "  watermelon       1.00      0.95      0.97        19\n",
            "\n",
            "    accuracy                           0.82       440\n",
            "   macro avg       0.84      0.84      0.80       440\n",
            "weighted avg       0.86      0.82      0.80       440\n",
            "\n"
          ]
        }
      ]
    },
    {
      "cell_type": "code",
      "source": [
        "cm = confusion_matrix(y_test, pred_norm, labels=model_norm.classes_)\n",
        "\n",
        "disp = ConfusionMatrixDisplay(confusion_matrix=cm, display_labels=model_norm.classes_)\n",
        "disp.plot()\n",
        "\n",
        "plt.xticks(rotation = 90)\n",
        "plt.show()"
      ],
      "metadata": {
        "colab": {
          "base_uri": "https://localhost:8080/"
        },
        "outputId": "47f548ee-3ab2-4ab6-f97b-da2c0136d535",
        "id": "akpwkFslWPhH"
      },
      "execution_count": null,
      "outputs": [
        {
          "output_type": "display_data",
          "data": {
            "text/plain": [
              "<Figure size 640x480 with 2 Axes>"
            ],
            "image/png": "[encoded data removed]"
          },
          "metadata": {}
        }
      ]
    },
    {
      "cell_type": "markdown",
      "source": [
        "#### **Reflection questions**\n",
        "Answer the following questions:\n",
        "\n",
        "1. Which of the three models had the highest performance?\n",
        "\n",
        "2. Which of the three models had the lowest performance?\n",
        "\n",
        "3. For the highest performing model, what two classes did it struggle with the most according to the f1-score.\n",
        "\n",
        "4. Using the confusion matrix, can you explain what the model may be struggling with for these two classes?\n",
        "\n",
        "5. What might this struggle to identify these two classes reveal about them?"
      ],
      "metadata": {
        "id": "omgegSJa9dR9"
      }
    },
    {
      "cell_type": "markdown",
      "source": [
        "##### **Solution**\n",
        "\n",
        "1. The model trained on standardized data performed the most highly, just a little better than the model trained on unscaled data.\n",
        "\n",
        "2. The model trained on normalized data performed significantly worse than the other two models.\n",
        "\n",
        "3. The highest performing model struggled most with `rice` and `jute` according to the f1-scores.\n",
        "\n",
        "4. The confusion matrix shows that while the model seems to do well overall with these crops, it does have a tendency to misclassify `rice` as `jute`.\n",
        "\n",
        "5. While this may be an issue from an ML perspective (our model misclassifying points), it actually offers a potentially interesting insight. In particular, the model may be struggling to distinguish these crops because they need very similar conditions to grow well. From a farmer's perspective, this is extremely helpful to know because they can perhaps grow both without having to create or work with multiple land and environment types."
      ],
      "metadata": {
        "id": "dFlnAKATfLJQ"
      }
    },
    {
      "cell_type": "markdown",
      "source": [
        "<a name=\"p2\"></a>\n",
        "\n",
        "---\n",
        "## **Part 2: Investigating Feature Encoding**\n",
        "---\n",
        "\n",
        "In this section, we will investigate the role that different forms of encoding have on a model's performance. Specifically, we will use logistic regression to predict a high school student's final grade according to a discrete category of 0 - 20. This dataset contains many features, as described below:\n",
        "\n",
        "* `school`: `GP` or `MS` are two different schools in Portugal where the data was collected.\n",
        "\n",
        "* `sex`: `F` or `M` as the students identified.\n",
        "\n",
        "* `age`: ranging from 15 - 22.\n",
        "\n",
        "* `address`: `U` for urban and `R` for rural.\n",
        "\n",
        "* `famsize`: `GT3` for greater than 3 family members and `LE3` for less than or equal to 3 family members.\n",
        "\n",
        "* `Pstatus`: `T` if parents are living together and `A` if parents are living apart.\n",
        "\n",
        "* `Medu`: Mother's education status. 'none' for no education, 'primary' for through 4th grade, 'middleschool' for through 9th grade, 'highschool' for through 12th grade, 'higher' for anything over 12th grade.\n",
        "\n",
        "* `Fedu`: Father's education status. Same categories as `Medu`.\n",
        "\n",
        "* `Mjob`: Mother's job.\n",
        "\n",
        "* `Fjob`: Father's job.\n",
        "\n",
        "* `reason`: Reason parents chose this school, which can be close to `home`, school `reputation`, `course` preference or `other`.\n",
        "\n",
        "* `guardian`: Student's main guardian, which can be `father`, `mother`, or `other`.\n",
        "\n",
        "* `traveltime`: How many minutes the student has to travel to get to school.\n",
        "\n",
        "* `studytime`: How many hours the student studies per week.\n",
        "\n",
        "* `failures`: How many classes the student has failed in the past.\n",
        "\n",
        "* `schoolsup`: Whether the student is receiving any extra educational support.\n",
        "\n",
        "* `famsup`: Whether the student is receiving any family educational support.\n",
        "\n",
        "* `paid`: Whether the student is taking any extra paid courses within a course subject.\n",
        "\n",
        "* `activities`: Whether the student is engaged in any extra-curricular activities.\n",
        "\n",
        "* `nursery`: Whether the student attended nursery school.\n",
        "\n",
        "* `higher`: Whether the student has expressed interested in taking higher education after graduating high school.\n",
        "\n",
        "* `internet`: Whether the student has internet access at home.\n",
        "\n",
        "* `romantic`: Whether the student has said they are engaged in a romantic relationship.\n",
        "\n",
        "* `famrel`: How the student has rated the quality of their family relationships on a scale from 1 (very bad) to 5 (excellent).\n",
        "\n",
        "* `freetime`: How the student has rated the amount of free time after school on a scale from 1 (very low) to 5 (very high).\n",
        "\n",
        "* `goout`: How the student has rated how often they go out with friends on a scale from 1 (very low) to 5 (very high).\n",
        "\n",
        "* `Dalc`: How the student has rated their weekday alcohol consumption on a scale from 1 (very low) to 5 (very high).\n",
        "\n",
        "* `Walc`: How the student has rated their weekend alcohol consumption on a scale from 1 (very low) to 5 (very high).\n",
        "\n",
        "* `health`: How the student's health ranks on a scale from 1 (very bady) to 5 (very good).\n",
        "\n",
        "* `absences`: The number of days the student has been absent.\n",
        "\n",
        "* `G1`: Grade in first period.\n",
        "\n",
        "* `G2`: Grade in second period.\n",
        "\n",
        "* `G3`: The overall grade of the student at the end of the year."
      ],
      "metadata": {
        "id": "oNjVGclegfzH"
      }
    },
    {
      "cell_type": "code",
      "source": [
        "import pandas as pd\n",
        "url = 'https://raw.githubusercontent.com/the-codingschool/TRAIN-datasets/main/student-por.csv'\n",
        "df = pd.read_csv(url)\n",
        "\n",
        "edu_map = {0: 'none', 1: 'primary', 2: 'middleschool', 3: 'highschool', 4: 'higher'}\n",
        "df['Medu'] = df['Medu'].map(edu_map)\n",
        "df['Fedu'] = df['Fedu'].map(edu_map)\n",
        "\n",
        "df['traveltime'] *= 15\n",
        "df['studytime'] *= 2.5\n",
        "\n",
        "\n",
        "df.head()\n",
        "df.describe()"
      ],
      "metadata": {
        "colab": {
          "base_uri": "https://localhost:8080/",
          "height": 364
        },
        "id": "StWl7r2jl84-",
        "outputId": "9b70d737-df35-4fea-de1c-5980893cc0f2"
      },
      "execution_count": null,
      "outputs": [
        {
          "output_type": "execute_result",
          "data": {
            "text/plain": [
              "              age  traveltime   studytime    failures      famrel    freetime  \\\n",
              "count  649.000000  649.000000  649.000000  649.000000  649.000000  649.000000   \n",
              "mean    16.744222   23.528505    4.826656    0.221880    3.930663    3.180277   \n",
              "std      1.218138   11.229901    2.073774    0.593235    0.955717    1.051093   \n",
              "min     15.000000   15.000000    2.500000    0.000000    1.000000    1.000000   \n",
              "25%     16.000000   15.000000    2.500000    0.000000    4.000000    3.000000   \n",
              "50%     17.000000   15.000000    5.000000    0.000000    4.000000    3.000000   \n",
              "75%     18.000000   30.000000    5.000000    0.000000    5.000000    4.000000   \n",
              "max     22.000000   60.000000   10.000000    3.000000    5.000000    5.000000   \n",
              "\n",
              "            goout        Dalc        Walc      health    absences          G1  \\\n",
              "count  649.000000  649.000000  649.000000  649.000000  649.000000  649.000000   \n",
              "mean     3.184900    1.502311    2.280431    3.536210    3.659476   11.399076   \n",
              "std      1.175766    0.924834    1.284380    1.446259    4.640759    2.745265   \n",
              "min      1.000000    1.000000    1.000000    1.000000    0.000000    0.000000   \n",
              "25%      2.000000    1.000000    1.000000    2.000000    0.000000   10.000000   \n",
              "50%      3.000000    1.000000    2.000000    4.000000    2.000000   11.000000   \n",
              "75%      4.000000    2.000000    3.000000    5.000000    6.000000   13.000000   \n",
              "max      5.000000    5.000000    5.000000    5.000000   32.000000   19.000000   \n",
              "\n",
              "               G2          G3  \n",
              "count  649.000000  649.000000  \n",
              "mean    11.570108   11.906009  \n",
              "std      2.913639    3.230656  \n",
              "min      0.000000    0.000000  \n",
              "25%     10.000000   10.000000  \n",
              "50%     11.000000   12.000000  \n",
              "75%     13.000000   14.000000  \n",
              "max     19.000000   19.000000  "
            ],
            "text/html": [
              "\n",
              "\n",
              "  <div id=\"df-1c1124d1-a467-487c-9531-f5445b37e4c2\">\n",
              "    <div class=\"colab-df-container\">\n",
              "      <div>\n",
              "<style scoped>\n",
              "    .dataframe tbody tr th:only-of-type {\n",
              "        vertical-align: middle;\n",
              "    }\n",
              "\n",
              "    .dataframe tbody tr th {\n",
              "        vertical-align: top;\n",
              "    }\n",
              "\n",
              "    .dataframe thead th {\n",
              "        text-align: right;\n",
              "    }\n",
              "</style>\n",
              "<table border=\"1\" class=\"dataframe\">\n",
              "  <thead>\n",
              "    <tr style=\"text-align: right;\">\n",
              "      <th></th>\n",
              "      <th>age</th>\n",
              "      <th>traveltime</th>\n",
              "      <th>studytime</th>\n",
              "      <th>failures</th>\n",
              "      <th>famrel</th>\n",
              "      <th>freetime</th>\n",
              "      <th>goout</th>\n",
              "      <th>Dalc</th>\n",
              "      <th>Walc</th>\n",
              "      <th>health</th>\n",
              "      <th>absences</th>\n",
              "      <th>G1</th>\n",
              "      <th>G2</th>\n",
              "      <th>G3</th>\n",
              "    </tr>\n",
              "  </thead>\n",
              "  <tbody>\n",
              "    <tr>\n",
              "      <th>count</th>\n",
              "      <td>649.000000</td>\n",
              "      <td>649.000000</td>\n",
              "      <td>649.000000</td>\n",
              "      <td>649.000000</td>\n",
              "      <td>649.000000</td>\n",
              "      <td>649.000000</td>\n",
              "      <td>649.000000</td>\n",
              "      <td>649.000000</td>\n",
              "      <td>649.000000</td>\n",
              "      <td>649.000000</td>\n",
              "      <td>649.000000</td>\n",
              "      <td>649.000000</td>\n",
              "      <td>649.000000</td>\n",
              "      <td>649.000000</td>\n",
              "    </tr>\n",
              "    <tr>\n",
              "      <th>mean</th>\n",
              "      <td>16.744222</td>\n",
              "      <td>23.528505</td>\n",
              "      <td>4.826656</td>\n",
              "      <td>0.221880</td>\n",
              "      <td>3.930663</td>\n",
              "      <td>3.180277</td>\n",
              "      <td>3.184900</td>\n",
              "      <td>1.502311</td>\n",
              "      <td>2.280431</td>\n",
              "      <td>3.536210</td>\n",
              "      <td>3.659476</td>\n",
              "      <td>11.399076</td>\n",
              "      <td>11.570108</td>\n",
              "      <td>11.906009</td>\n",
              "    </tr>\n",
              "    <tr>\n",
              "      <th>std</th>\n",
              "      <td>1.218138</td>\n",
              "      <td>11.229901</td>\n",
              "      <td>2.073774</td>\n",
              "      <td>0.593235</td>\n",
              "      <td>0.955717</td>\n",
              "      <td>1.051093</td>\n",
              "      <td>1.175766</td>\n",
              "      <td>0.924834</td>\n",
              "      <td>1.284380</td>\n",
              "      <td>1.446259</td>\n",
              "      <td>4.640759</td>\n",
              "      <td>2.745265</td>\n",
              "      <td>2.913639</td>\n",
              "      <td>3.230656</td>\n",
              "    </tr>\n",
              "    <tr>\n",
              "      <th>min</th>\n",
              "      <td>15.000000</td>\n",
              "      <td>15.000000</td>\n",
              "      <td>2.500000</td>\n",
              "      <td>0.000000</td>\n",
              "      <td>1.000000</td>\n",
              "      <td>1.000000</td>\n",
              "      <td>1.000000</td>\n",
              "      <td>1.000000</td>\n",
              "      <td>1.000000</td>\n",
              "      <td>1.000000</td>\n",
              "      <td>0.000000</td>\n",
              "      <td>0.000000</td>\n",
              "      <td>0.000000</td>\n",
              "      <td>0.000000</td>\n",
              "    </tr>\n",
              "    <tr>\n",
              "      <th>25%</th>\n",
              "      <td>16.000000</td>\n",
              "      <td>15.000000</td>\n",
              "      <td>2.500000</td>\n",
              "      <td>0.000000</td>\n",
              "      <td>4.000000</td>\n",
              "      <td>3.000000</td>\n",
              "      <td>2.000000</td>\n",
              "      <td>1.000000</td>\n",
              "      <td>1.000000</td>\n",
              "      <td>2.000000</td>\n",
              "      <td>0.000000</td>\n",
              "      <td>10.000000</td>\n",
              "      <td>10.000000</td>\n",
              "      <td>10.000000</td>\n",
              "    </tr>\n",
              "    <tr>\n",
              "      <th>50%</th>\n",
              "      <td>17.000000</td>\n",
              "      <td>15.000000</td>\n",
              "      <td>5.000000</td>\n",
              "      <td>0.000000</td>\n",
              "      <td>4.000000</td>\n",
              "      <td>3.000000</td>\n",
              "      <td>3.000000</td>\n",
              "      <td>1.000000</td>\n",
              "      <td>2.000000</td>\n",
              "      <td>4.000000</td>\n",
              "      <td>2.000000</td>\n",
              "      <td>11.000000</td>\n",
              "      <td>11.000000</td>\n",
              "      <td>12.000000</td>\n",
              "    </tr>\n",
              "    <tr>\n",
              "      <th>75%</th>\n",
              "      <td>18.000000</td>\n",
              "      <td>30.000000</td>\n",
              "      <td>5.000000</td>\n",
              "      <td>0.000000</td>\n",
              "      <td>5.000000</td>\n",
              "      <td>4.000000</td>\n",
              "      <td>4.000000</td>\n",
              "      <td>2.000000</td>\n",
              "      <td>3.000000</td>\n",
              "      <td>5.000000</td>\n",
              "      <td>6.000000</td>\n",
              "      <td>13.000000</td>\n",
              "      <td>13.000000</td>\n",
              "      <td>14.000000</td>\n",
              "    </tr>\n",
              "    <tr>\n",
              "      <th>max</th>\n",
              "      <td>22.000000</td>\n",
              "      <td>60.000000</td>\n",
              "      <td>10.000000</td>\n",
              "      <td>3.000000</td>\n",
              "      <td>5.000000</td>\n",
              "      <td>5.000000</td>\n",
              "      <td>5.000000</td>\n",
              "      <td>5.000000</td>\n",
              "      <td>5.000000</td>\n",
              "      <td>5.000000</td>\n",
              "      <td>32.000000</td>\n",
              "      <td>19.000000</td>\n",
              "      <td>19.000000</td>\n",
              "      <td>19.000000</td>\n",
              "    </tr>\n",
              "  </tbody>\n",
              "</table>\n",
              "</div>\n",
              "      <button class=\"colab-df-convert\" onclick=\"convertToInteractive('df-1c1124d1-a467-487c-9531-f5445b37e4c2')\"\n",
              "              title=\"Convert this dataframe to an interactive table.\"\n",
              "              style=\"display:none;\">\n",
              "\n",
              "  <svg xmlns=\"http://www.w3.org/2000/svg\" height=\"24px\"viewBox=\"0 0 24 24\"\n",
              "       width=\"24px\">\n",
              "    <path d=\"M0 0h24v24H0V0z\" fill=\"none\"/>\n",
              "    <path d=\"M18.56 5.44l.94 2.06.94-2.06 2.06-.94-2.06-.94-.94-2.06-.94 2.06-2.06.94zm-11 1L8.5 8.5l.94-2.06 2.06-.94-2.06-.94L8.5 2.5l-.94 2.06-2.06.94zm10 10l.94 2.06.94-2.06 2.06-.94-2.06-.94-.94-2.06-.94 2.06-2.06.94z\"/><path d=\"M17.41 7.96l-1.37-1.37c-.4-.4-.92-.59-1.43-.59-.52 0-1.04.2-1.43.59L10.3 9.45l-7.72 7.72c-.78.78-.78 2.05 0 2.83L4 21.41c.39.39.9.59 1.41.59.51 0 1.02-.2 1.41-.59l7.78-7.78 2.81-2.81c.8-.78.8-2.07 0-2.86zM5.41 20L4 18.59l7.72-7.72 1.47 1.35L5.41 20z\"/>\n",
              "  </svg>\n",
              "      </button>\n",
              "\n",
              "\n",
              "\n",
              "    <div id=\"df-25495cff-e0e9-4f0d-8f60-5cd5aa0ab1b8\">\n",
              "      <button class=\"colab-df-quickchart\" onclick=\"quickchart('df-25495cff-e0e9-4f0d-8f60-5cd5aa0ab1b8')\"\n",
              "              title=\"Suggest charts.\"\n",
              "              style=\"display:none;\">\n",
              "\n",
              "<svg xmlns=\"http://www.w3.org/2000/svg\" height=\"24px\"viewBox=\"0 0 24 24\"\n",
              "     width=\"24px\">\n",
              "    <g>\n",
              "        <path d=\"M19 3H5c-1.1 0-2 .9-2 2v14c0 1.1.9 2 2 2h14c1.1 0 2-.9 2-2V5c0-1.1-.9-2-2-2zM9 17H7v-7h2v7zm4 0h-2V7h2v10zm4 0h-2v-4h2v4z\"/>\n",
              "    </g>\n",
              "</svg>\n",
              "      </button>\n",
              "    </div>\n",
              "\n",
              "<style>\n",
              "  .colab-df-quickchart {\n",
              "    background-color: #E8F0FE;\n",
              "    border: none;\n",
              "    border-radius: 50%;\n",
              "    cursor: pointer;\n",
              "    display: none;\n",
              "    fill: #1967D2;\n",
              "    height: 32px;\n",
              "    padding: 0 0 0 0;\n",
              "    width: 32px;\n",
              "  }\n",
              "\n",
              "  .colab-df-quickchart:hover {\n",
              "    background-color: #E2EBFA;\n",
              "    box-shadow: 0px 1px 2px rgba(60, 64, 67, 0.3), 0px 1px 3px 1px rgba(60, 64, 67, 0.15);\n",
              "    fill: #174EA6;\n",
              "  }\n",
              "\n",
              "  [theme=dark] .colab-df-quickchart {\n",
              "    background-color: #3B4455;\n",
              "    fill: #D2E3FC;\n",
              "  }\n",
              "\n",
              "  [theme=dark] .colab-df-quickchart:hover {\n",
              "    background-color: #434B5C;\n",
              "    box-shadow: 0px 1px 3px 1px rgba(0, 0, 0, 0.15);\n",
              "    filter: drop-shadow(0px 1px 2px rgba(0, 0, 0, 0.3));\n",
              "    fill: #FFFFFF;\n",
              "  }\n",
              "</style>\n",
              "\n",
              "    <script>\n",
              "      async function quickchart(key) {\n",
              "        const containerElement = document.querySelector('#' + key);\n",
              "        const charts = await google.colab.kernel.invokeFunction(\n",
              "            'suggestCharts', [key], {});\n",
              "      }\n",
              "    </script>\n",
              "\n",
              "      <script>\n",
              "\n",
              "function displayQuickchartButton(domScope) {\n",
              "  let quickchartButtonEl =\n",
              "    domScope.querySelector('#df-25495cff-e0e9-4f0d-8f60-5cd5aa0ab1b8 button.colab-df-quickchart');\n",
              "  quickchartButtonEl.style.display =\n",
              "    google.colab.kernel.accessAllowed ? 'block' : 'none';\n",
              "}\n",
              "\n",
              "        displayQuickchartButton(document);\n",
              "      </script>\n",
              "      <style>\n",
              "    .colab-df-container {\n",
              "      display:flex;\n",
              "      flex-wrap:wrap;\n",
              "      gap: 12px;\n",
              "    }\n",
              "\n",
              "    .colab-df-convert {\n",
              "      background-color: #E8F0FE;\n",
              "      border: none;\n",
              "      border-radius: 50%;\n",
              "      cursor: pointer;\n",
              "      display: none;\n",
              "      fill: #1967D2;\n",
              "      height: 32px;\n",
              "      padding: 0 0 0 0;\n",
              "      width: 32px;\n",
              "    }\n",
              "\n",
              "    .colab-df-convert:hover {\n",
              "      background-color: #E2EBFA;\n",
              "      box-shadow: 0px 1px 2px rgba(60, 64, 67, 0.3), 0px 1px 3px 1px rgba(60, 64, 67, 0.15);\n",
              "      fill: #174EA6;\n",
              "    }\n",
              "\n",
              "    [theme=dark] .colab-df-convert {\n",
              "      background-color: #3B4455;\n",
              "      fill: #D2E3FC;\n",
              "    }\n",
              "\n",
              "    [theme=dark] .colab-df-convert:hover {\n",
              "      background-color: #434B5C;\n",
              "      box-shadow: 0px 1px 3px 1px rgba(0, 0, 0, 0.15);\n",
              "      filter: drop-shadow(0px 1px 2px rgba(0, 0, 0, 0.3));\n",
              "      fill: #FFFFFF;\n",
              "    }\n",
              "  </style>\n",
              "\n",
              "      <script>\n",
              "        const buttonEl =\n",
              "          document.querySelector('#df-1c1124d1-a467-487c-9531-f5445b37e4c2 button.colab-df-convert');\n",
              "        buttonEl.style.display =\n",
              "          google.colab.kernel.accessAllowed ? 'block' : 'none';\n",
              "\n",
              "        async function convertToInteractive(key) {\n",
              "          const element = document.querySelector('#df-1c1124d1-a467-487c-9531-f5445b37e4c2');\n",
              "          const dataTable =\n",
              "            await google.colab.kernel.invokeFunction('convertToInteractive',\n",
              "                                                     [key], {});\n",
              "          if (!dataTable) return;\n",
              "\n",
              "          const docLinkHtml = 'Like what you see? Visit the ' +\n",
              "            '<a target=\"_blank\" href=https://colab.research.google.com/notebooks/data_table.ipynb>data table notebook</a>'\n",
              "            + ' to learn more about interactive tables.';\n",
              "          element.innerHTML = '';\n",
              "          dataTable['output_type'] = 'display_data';\n",
              "          await google.colab.output.renderOutput(dataTable, element);\n",
              "          const docLink = document.createElement('div');\n",
              "          docLink.innerHTML = docLinkHtml;\n",
              "          element.appendChild(docLink);\n",
              "        }\n",
              "      </script>\n",
              "    </div>\n",
              "  </div>\n"
            ]
          },
          "metadata": {},
          "execution_count": 1
        }
      ]
    },
    {
      "cell_type": "markdown",
      "source": [
        "#### **Problem #2.1**\n",
        "\n",
        "Just like with scaling, we must first split our training and test data *before* encoding to ensure there is no possible way for information to be exchanged between the training and test sets.\n",
        "\n",
        "In particular, use `G3` as the label and split the data using the conventional 80/20 train/test split."
      ],
      "metadata": {
        "id": "oeVy_kNhBOI2"
      }
    },
    {
      "cell_type": "code",
      "source": [
        "features = # COMPLETE THIS LINE\n",
        "label = # COMPLETE THIS LINE\n",
        "\n",
        "X_train, X_test, y_train, y_test = train_test_split(# COMPLETE THIS LINE"
      ],
      "metadata": {
        "id": "vevQUihBBj3J"
      },
      "execution_count": null,
      "outputs": []
    },
    {
      "cell_type": "markdown",
      "source": [
        "##### **Solution**"
      ],
      "metadata": {
        "id": "cDB24CitBkFx"
      }
    },
    {
      "cell_type": "code",
      "source": [
        "features = df.drop(columns = 'G3')\n",
        "label = df['G3']\n",
        "\n",
        "X_train, X_test, y_train, y_test = train_test_split(features, label, test_size=0.2, random_state=42)"
      ],
      "metadata": {
        "id": "WHbJ7rq0BG8O"
      },
      "execution_count": null,
      "outputs": []
    },
    {
      "cell_type": "markdown",
      "source": [
        "#### **Problem #2.2**\n",
        "\n",
        "To motivate why we need encodings, attempt training a logistic regression model on the raw training set below."
      ],
      "metadata": {
        "id": "aYBVI7quB-OB"
      }
    },
    {
      "cell_type": "code",
      "source": [
        "model = LogisticRegression()\n",
        "\n",
        "model.fit(# COMPLETE THIS LINE"
      ],
      "metadata": {
        "id": "GN1rmeThCFNd"
      },
      "execution_count": null,
      "outputs": []
    },
    {
      "cell_type": "markdown",
      "source": [
        "##### **Solution**\n",
        "\n",
        "**NOTE**: This code *should* run into an error. The point is that sklearn doesn't allow us to model using categorical variables in this form. They must be made numerical."
      ],
      "metadata": {
        "id": "elKkmiXmCFho"
      }
    },
    {
      "cell_type": "code",
      "source": [
        "model = LogisticRegression()\n",
        "\n",
        "model.fit(X_train, y_train)"
      ],
      "metadata": {
        "colab": {
          "base_uri": "https://localhost:8080/",
          "height": 362
        },
        "id": "sG7pnvWrCQNr",
        "outputId": "5821dd5e-de71-43a6-839b-806a8fca0900"
      },
      "execution_count": null,
      "outputs": [
        {
          "output_type": "error",
          "ename": "ValueError",
          "evalue": "ignored",
          "traceback": [
            "\u001b[0;31m---------------------------------------------------------------------------\u001b[0m",
            "\u001b[0;31mValueError\u001b[0m                                Traceback (most recent call last)",
            "\u001b[0;32m<ipython-input-8-756523d0bf0e>\u001b[0m in \u001b[0;36m<cell line: 3>\u001b[0;34m()\u001b[0m\n\u001b[1;32m      1\u001b[0m \u001b[0mmodel\u001b[0m \u001b[0;34m=\u001b[0m \u001b[0mLogisticRegression\u001b[0m\u001b[0;34m(\u001b[0m\u001b[0;34m)\u001b[0m\u001b[0;34m\u001b[0m\u001b[0;34m\u001b[0m\u001b[0m\n\u001b[1;32m      2\u001b[0m \u001b[0;34m\u001b[0m\u001b[0m\n\u001b[0;32m----> 3\u001b[0;31m \u001b[0mmodel\u001b[0m\u001b[0;34m.\u001b[0m\u001b[0mfit\u001b[0m\u001b[0;34m(\u001b[0m\u001b[0mX_train\u001b[0m\u001b[0;34m,\u001b[0m \u001b[0my_train\u001b[0m\u001b[0;34m)\u001b[0m\u001b[0;34m\u001b[0m\u001b[0;34m\u001b[0m\u001b[0m\n\u001b[0m",
            "\u001b[0;32m/usr/local/lib/python3.10/dist-packages/sklearn/linear_model/_logistic.py\u001b[0m in \u001b[0;36mfit\u001b[0;34m(self, X, y, sample_weight)\u001b[0m\n\u001b[1;32m   1194\u001b[0m             \u001b[0m_dtype\u001b[0m \u001b[0;34m=\u001b[0m \u001b[0;34m[\u001b[0m\u001b[0mnp\u001b[0m\u001b[0;34m.\u001b[0m\u001b[0mfloat64\u001b[0m\u001b[0;34m,\u001b[0m \u001b[0mnp\u001b[0m\u001b[0;34m.\u001b[0m\u001b[0mfloat32\u001b[0m\u001b[0;34m]\u001b[0m\u001b[0;34m\u001b[0m\u001b[0;34m\u001b[0m\u001b[0m\n\u001b[1;32m   1195\u001b[0m \u001b[0;34m\u001b[0m\u001b[0m\n\u001b[0;32m-> 1196\u001b[0;31m         X, y = self._validate_data(\n\u001b[0m\u001b[1;32m   1197\u001b[0m             \u001b[0mX\u001b[0m\u001b[0;34m,\u001b[0m\u001b[0;34m\u001b[0m\u001b[0;34m\u001b[0m\u001b[0m\n\u001b[1;32m   1198\u001b[0m             \u001b[0my\u001b[0m\u001b[0;34m,\u001b[0m\u001b[0;34m\u001b[0m\u001b[0;34m\u001b[0m\u001b[0m\n",
            "\u001b[0;32m/usr/local/lib/python3.10/dist-packages/sklearn/base.py\u001b[0m in \u001b[0;36m_validate_data\u001b[0;34m(self, X, y, reset, validate_separately, **check_params)\u001b[0m\n\u001b[1;32m    582\u001b[0m                 \u001b[0my\u001b[0m \u001b[0;34m=\u001b[0m \u001b[0mcheck_array\u001b[0m\u001b[0;34m(\u001b[0m\u001b[0my\u001b[0m\u001b[0;34m,\u001b[0m \u001b[0minput_name\u001b[0m\u001b[0;34m=\u001b[0m\u001b[0;34m\"y\"\u001b[0m\u001b[0;34m,\u001b[0m \u001b[0;34m**\u001b[0m\u001b[0mcheck_y_params\u001b[0m\u001b[0;34m)\u001b[0m\u001b[0;34m\u001b[0m\u001b[0;34m\u001b[0m\u001b[0m\n\u001b[1;32m    583\u001b[0m             \u001b[0;32melse\u001b[0m\u001b[0;34m:\u001b[0m\u001b[0;34m\u001b[0m\u001b[0;34m\u001b[0m\u001b[0m\n\u001b[0;32m--> 584\u001b[0;31m                 \u001b[0mX\u001b[0m\u001b[0;34m,\u001b[0m \u001b[0my\u001b[0m \u001b[0;34m=\u001b[0m \u001b[0mcheck_X_y\u001b[0m\u001b[0;34m(\u001b[0m\u001b[0mX\u001b[0m\u001b[0;34m,\u001b[0m \u001b[0my\u001b[0m\u001b[0;34m,\u001b[0m \u001b[0;34m**\u001b[0m\u001b[0mcheck_params\u001b[0m\u001b[0;34m)\u001b[0m\u001b[0;34m\u001b[0m\u001b[0;34m\u001b[0m\u001b[0m\n\u001b[0m\u001b[1;32m    585\u001b[0m             \u001b[0mout\u001b[0m \u001b[0;34m=\u001b[0m \u001b[0mX\u001b[0m\u001b[0;34m,\u001b[0m \u001b[0my\u001b[0m\u001b[0;34m\u001b[0m\u001b[0;34m\u001b[0m\u001b[0m\n\u001b[1;32m    586\u001b[0m \u001b[0;34m\u001b[0m\u001b[0m\n",
            "\u001b[0;32m/usr/local/lib/python3.10/dist-packages/sklearn/utils/validation.py\u001b[0m in \u001b[0;36mcheck_X_y\u001b[0;34m(X, y, accept_sparse, accept_large_sparse, dtype, order, copy, force_all_finite, ensure_2d, allow_nd, multi_output, ensure_min_samples, ensure_min_features, y_numeric, estimator)\u001b[0m\n\u001b[1;32m   1104\u001b[0m         )\n\u001b[1;32m   1105\u001b[0m \u001b[0;34m\u001b[0m\u001b[0m\n\u001b[0;32m-> 1106\u001b[0;31m     X = check_array(\n\u001b[0m\u001b[1;32m   1107\u001b[0m         \u001b[0mX\u001b[0m\u001b[0;34m,\u001b[0m\u001b[0;34m\u001b[0m\u001b[0;34m\u001b[0m\u001b[0m\n\u001b[1;32m   1108\u001b[0m         \u001b[0maccept_sparse\u001b[0m\u001b[0;34m=\u001b[0m\u001b[0maccept_sparse\u001b[0m\u001b[0;34m,\u001b[0m\u001b[0;34m\u001b[0m\u001b[0;34m\u001b[0m\u001b[0m\n",
            "\u001b[0;32m/usr/local/lib/python3.10/dist-packages/sklearn/utils/validation.py\u001b[0m in \u001b[0;36mcheck_array\u001b[0;34m(array, accept_sparse, accept_large_sparse, dtype, order, copy, force_all_finite, ensure_2d, allow_nd, ensure_min_samples, ensure_min_features, estimator, input_name)\u001b[0m\n\u001b[1;32m    877\u001b[0m                     \u001b[0marray\u001b[0m \u001b[0;34m=\u001b[0m \u001b[0mxp\u001b[0m\u001b[0;34m.\u001b[0m\u001b[0mastype\u001b[0m\u001b[0;34m(\u001b[0m\u001b[0marray\u001b[0m\u001b[0;34m,\u001b[0m \u001b[0mdtype\u001b[0m\u001b[0;34m,\u001b[0m \u001b[0mcopy\u001b[0m\u001b[0;34m=\u001b[0m\u001b[0;32mFalse\u001b[0m\u001b[0;34m)\u001b[0m\u001b[0;34m\u001b[0m\u001b[0;34m\u001b[0m\u001b[0m\n\u001b[1;32m    878\u001b[0m                 \u001b[0;32melse\u001b[0m\u001b[0;34m:\u001b[0m\u001b[0;34m\u001b[0m\u001b[0;34m\u001b[0m\u001b[0m\n\u001b[0;32m--> 879\u001b[0;31m                     \u001b[0marray\u001b[0m \u001b[0;34m=\u001b[0m \u001b[0m_asarray_with_order\u001b[0m\u001b[0;34m(\u001b[0m\u001b[0marray\u001b[0m\u001b[0;34m,\u001b[0m \u001b[0morder\u001b[0m\u001b[0;34m=\u001b[0m\u001b[0morder\u001b[0m\u001b[0;34m,\u001b[0m \u001b[0mdtype\u001b[0m\u001b[0;34m=\u001b[0m\u001b[0mdtype\u001b[0m\u001b[0;34m,\u001b[0m \u001b[0mxp\u001b[0m\u001b[0;34m=\u001b[0m\u001b[0mxp\u001b[0m\u001b[0;34m)\u001b[0m\u001b[0;34m\u001b[0m\u001b[0;34m\u001b[0m\u001b[0m\n\u001b[0m\u001b[1;32m    880\u001b[0m             \u001b[0;32mexcept\u001b[0m \u001b[0mComplexWarning\u001b[0m \u001b[0;32mas\u001b[0m \u001b[0mcomplex_warning\u001b[0m\u001b[0;34m:\u001b[0m\u001b[0;34m\u001b[0m\u001b[0;34m\u001b[0m\u001b[0m\n\u001b[1;32m    881\u001b[0m                 raise ValueError(\n",
            "\u001b[0;32m/usr/local/lib/python3.10/dist-packages/sklearn/utils/_array_api.py\u001b[0m in \u001b[0;36m_asarray_with_order\u001b[0;34m(array, dtype, order, copy, xp)\u001b[0m\n\u001b[1;32m    183\u001b[0m     \u001b[0;32mif\u001b[0m \u001b[0mxp\u001b[0m\u001b[0;34m.\u001b[0m\u001b[0m__name__\u001b[0m \u001b[0;32min\u001b[0m \u001b[0;34m{\u001b[0m\u001b[0;34m\"numpy\"\u001b[0m\u001b[0;34m,\u001b[0m \u001b[0;34m\"numpy.array_api\"\u001b[0m\u001b[0;34m}\u001b[0m\u001b[0;34m:\u001b[0m\u001b[0;34m\u001b[0m\u001b[0;34m\u001b[0m\u001b[0m\n\u001b[1;32m    184\u001b[0m         \u001b[0;31m# Use NumPy API to support order\u001b[0m\u001b[0;34m\u001b[0m\u001b[0;34m\u001b[0m\u001b[0m\n\u001b[0;32m--> 185\u001b[0;31m         \u001b[0marray\u001b[0m \u001b[0;34m=\u001b[0m \u001b[0mnumpy\u001b[0m\u001b[0;34m.\u001b[0m\u001b[0masarray\u001b[0m\u001b[0;34m(\u001b[0m\u001b[0marray\u001b[0m\u001b[0;34m,\u001b[0m \u001b[0morder\u001b[0m\u001b[0;34m=\u001b[0m\u001b[0morder\u001b[0m\u001b[0;34m,\u001b[0m \u001b[0mdtype\u001b[0m\u001b[0;34m=\u001b[0m\u001b[0mdtype\u001b[0m\u001b[0;34m)\u001b[0m\u001b[0;34m\u001b[0m\u001b[0;34m\u001b[0m\u001b[0m\n\u001b[0m\u001b[1;32m    186\u001b[0m         \u001b[0;32mreturn\u001b[0m \u001b[0mxp\u001b[0m\u001b[0;34m.\u001b[0m\u001b[0masarray\u001b[0m\u001b[0;34m(\u001b[0m\u001b[0marray\u001b[0m\u001b[0;34m,\u001b[0m \u001b[0mcopy\u001b[0m\u001b[0;34m=\u001b[0m\u001b[0mcopy\u001b[0m\u001b[0;34m)\u001b[0m\u001b[0;34m\u001b[0m\u001b[0;34m\u001b[0m\u001b[0m\n\u001b[1;32m    187\u001b[0m     \u001b[0;32melse\u001b[0m\u001b[0;34m:\u001b[0m\u001b[0;34m\u001b[0m\u001b[0;34m\u001b[0m\u001b[0m\n",
            "\u001b[0;32m/usr/local/lib/python3.10/dist-packages/pandas/core/generic.py\u001b[0m in \u001b[0;36m__array__\u001b[0;34m(self, dtype)\u001b[0m\n\u001b[1;32m   2068\u001b[0m \u001b[0;34m\u001b[0m\u001b[0m\n\u001b[1;32m   2069\u001b[0m     \u001b[0;32mdef\u001b[0m \u001b[0m__array__\u001b[0m\u001b[0;34m(\u001b[0m\u001b[0mself\u001b[0m\u001b[0;34m,\u001b[0m \u001b[0mdtype\u001b[0m\u001b[0;34m:\u001b[0m \u001b[0mnpt\u001b[0m\u001b[0;34m.\u001b[0m\u001b[0mDTypeLike\u001b[0m \u001b[0;34m|\u001b[0m \u001b[0;32mNone\u001b[0m \u001b[0;34m=\u001b[0m \u001b[0;32mNone\u001b[0m\u001b[0;34m)\u001b[0m \u001b[0;34m->\u001b[0m \u001b[0mnp\u001b[0m\u001b[0;34m.\u001b[0m\u001b[0mndarray\u001b[0m\u001b[0;34m:\u001b[0m\u001b[0;34m\u001b[0m\u001b[0;34m\u001b[0m\u001b[0m\n\u001b[0;32m-> 2070\u001b[0;31m         \u001b[0;32mreturn\u001b[0m \u001b[0mnp\u001b[0m\u001b[0;34m.\u001b[0m\u001b[0masarray\u001b[0m\u001b[0;34m(\u001b[0m\u001b[0mself\u001b[0m\u001b[0;34m.\u001b[0m\u001b[0m_values\u001b[0m\u001b[0;34m,\u001b[0m \u001b[0mdtype\u001b[0m\u001b[0;34m=\u001b[0m\u001b[0mdtype\u001b[0m\u001b[0;34m)\u001b[0m\u001b[0;34m\u001b[0m\u001b[0;34m\u001b[0m\u001b[0m\n\u001b[0m\u001b[1;32m   2071\u001b[0m \u001b[0;34m\u001b[0m\u001b[0m\n\u001b[1;32m   2072\u001b[0m     def __array_wrap__(\n",
            "\u001b[0;31mValueError\u001b[0m: could not convert string to float: 'GP'"
          ]
        }
      ]
    },
    {
      "cell_type": "markdown",
      "source": [
        "#### **Problem #2.3**\n",
        "\n",
        "\n",
        "Now, let's create 4 versions of the training and test sets to compare how different approaches to dealing with categorical variables work. Specifically,\n",
        "\n",
        "1. Create a version of `X_train` and `X_test` where the unencoded categorical variables are just dropped.\n",
        "\n",
        "2. Create a version of `X_train` and `X_test` where the unencoded categorical variables are encoded using ordinal encoding.\n",
        "\n",
        "3. Create a version of `X_train` and `X_test` where the unencoded categorical variables are one hot encoded.\n",
        "\n",
        "4. Create a version of `X_train` and `X_test` where the unencoded categorical variables are dummy variable encoded.\n",
        "\n",
        "<br>\n",
        "\n",
        "**Run the cell below to see the subset of all categorical (`object` type) columns in this data frame.**"
      ],
      "metadata": {
        "id": "fT__nIpQ8Qz-"
      }
    },
    {
      "cell_type": "code",
      "source": [
        "columns_to_encode = df.select_dtypes(include = object).columns\n",
        "\n",
        "print(columns_to_encode)"
      ],
      "metadata": {
        "colab": {
          "base_uri": "https://localhost:8080/"
        },
        "id": "8qWdlGJT8T8H",
        "outputId": "bf3171aa-22c0-4060-9e81-dee8e4225a59"
      },
      "execution_count": null,
      "outputs": [
        {
          "output_type": "stream",
          "name": "stdout",
          "text": [
            "Index(['school', 'sex', 'address', 'famsize', 'Pstatus', 'Medu', 'Fedu',\n",
            "       'Mjob', 'Fjob', 'reason', 'guardian', 'schoolsup', 'famsup', 'paid',\n",
            "       'activities', 'nursery', 'higher', 'internet', 'romantic'],\n",
            "      dtype='object')\n"
          ]
        }
      ]
    },
    {
      "cell_type": "markdown",
      "source": [
        "##### **1. Create a version of `X_train` and `X_test` where the unencoded categorical variables are just dropped.**"
      ],
      "metadata": {
        "id": "2zQOnPaMDBDl"
      }
    },
    {
      "cell_type": "code",
      "source": [
        "X_train_drop = X_train.drop(# COMPLETE THIS LINE\n",
        "X_test_drop = # COMPLETE THIS LINE\n",
        "\n",
        "X_train_drop.head()"
      ],
      "metadata": {
        "id": "W5ywJHjwDFLA"
      },
      "execution_count": null,
      "outputs": []
    },
    {
      "cell_type": "markdown",
      "source": [
        "##### **Solution**"
      ],
      "metadata": {
        "id": "Ibb-7TF4DFXC"
      }
    },
    {
      "cell_type": "code",
      "source": [
        "X_train_drop = X_train.drop(columns = columns_to_encode)\n",
        "X_test_drop = X_test.drop(columns = columns_to_encode)\n",
        "\n",
        "X_train_drop.head()"
      ],
      "metadata": {
        "colab": {
          "base_uri": "https://localhost:8080/",
          "height": 206
        },
        "id": "mKaPLWg9DGoh",
        "outputId": "63cae189-46e4-4d8e-bf1b-f5723763ef5d"
      },
      "execution_count": null,
      "outputs": [
        {
          "output_type": "execute_result",
          "data": {
            "text/plain": [
              "     age  traveltime  studytime  failures  famrel  freetime  goout  Dalc  \\\n",
              "332   18          15        7.5         0       4         3      3     1   \n",
              "29    16          15        5.0         0       4         4      5     5   \n",
              "302   18          15        7.5         0       5         3      2     1   \n",
              "286   17          15        2.5         0       4         4      2     2   \n",
              "554   17          30        2.5         0       3         5      5     2   \n",
              "\n",
              "     Walc  health  absences  G1  G2  \n",
              "332     2       2         0  18  18  \n",
              "29      5       5         4  12  11  \n",
              "302     1       3         2  10  11  \n",
              "286     4       5         0  12  12  \n",
              "554     2       4         3  10  11  "
            ],
            "text/html": [
              "\n",
              "  <div id=\"df-a45e8e6e-05ae-4069-a13b-d08c971dfed5\">\n",
              "    <div class=\"colab-df-container\">\n",
              "      <div>\n",
              "<style scoped>\n",
              "    .dataframe tbody tr th:only-of-type {\n",
              "        vertical-align: middle;\n",
              "    }\n",
              "\n",
              "    .dataframe tbody tr th {\n",
              "        vertical-align: top;\n",
              "    }\n",
              "\n",
              "    .dataframe thead th {\n",
              "        text-align: right;\n",
              "    }\n",
              "</style>\n",
              "<table border=\"1\" class=\"dataframe\">\n",
              "  <thead>\n",
              "    <tr style=\"text-align: right;\">\n",
              "      <th></th>\n",
              "      <th>age</th>\n",
              "      <th>traveltime</th>\n",
              "      <th>studytime</th>\n",
              "      <th>failures</th>\n",
              "      <th>famrel</th>\n",
              "      <th>freetime</th>\n",
              "      <th>goout</th>\n",
              "      <th>Dalc</th>\n",
              "      <th>Walc</th>\n",
              "      <th>health</th>\n",
              "      <th>absences</th>\n",
              "      <th>G1</th>\n",
              "      <th>G2</th>\n",
              "    </tr>\n",
              "  </thead>\n",
              "  <tbody>\n",
              "    <tr>\n",
              "      <th>332</th>\n",
              "      <td>18</td>\n",
              "      <td>15</td>\n",
              "      <td>7.5</td>\n",
              "      <td>0</td>\n",
              "      <td>4</td>\n",
              "      <td>3</td>\n",
              "      <td>3</td>\n",
              "      <td>1</td>\n",
              "      <td>2</td>\n",
              "      <td>2</td>\n",
              "      <td>0</td>\n",
              "      <td>18</td>\n",
              "      <td>18</td>\n",
              "    </tr>\n",
              "    <tr>\n",
              "      <th>29</th>\n",
              "      <td>16</td>\n",
              "      <td>15</td>\n",
              "      <td>5.0</td>\n",
              "      <td>0</td>\n",
              "      <td>4</td>\n",
              "      <td>4</td>\n",
              "      <td>5</td>\n",
              "      <td>5</td>\n",
              "      <td>5</td>\n",
              "      <td>5</td>\n",
              "      <td>4</td>\n",
              "      <td>12</td>\n",
              "      <td>11</td>\n",
              "    </tr>\n",
              "    <tr>\n",
              "      <th>302</th>\n",
              "      <td>18</td>\n",
              "      <td>15</td>\n",
              "      <td>7.5</td>\n",
              "      <td>0</td>\n",
              "      <td>5</td>\n",
              "      <td>3</td>\n",
              "      <td>2</td>\n",
              "      <td>1</td>\n",
              "      <td>1</td>\n",
              "      <td>3</td>\n",
              "      <td>2</td>\n",
              "      <td>10</td>\n",
              "      <td>11</td>\n",
              "    </tr>\n",
              "    <tr>\n",
              "      <th>286</th>\n",
              "      <td>17</td>\n",
              "      <td>15</td>\n",
              "      <td>2.5</td>\n",
              "      <td>0</td>\n",
              "      <td>4</td>\n",
              "      <td>4</td>\n",
              "      <td>2</td>\n",
              "      <td>2</td>\n",
              "      <td>4</td>\n",
              "      <td>5</td>\n",
              "      <td>0</td>\n",
              "      <td>12</td>\n",
              "      <td>12</td>\n",
              "    </tr>\n",
              "    <tr>\n",
              "      <th>554</th>\n",
              "      <td>17</td>\n",
              "      <td>30</td>\n",
              "      <td>2.5</td>\n",
              "      <td>0</td>\n",
              "      <td>3</td>\n",
              "      <td>5</td>\n",
              "      <td>5</td>\n",
              "      <td>2</td>\n",
              "      <td>2</td>\n",
              "      <td>4</td>\n",
              "      <td>3</td>\n",
              "      <td>10</td>\n",
              "      <td>11</td>\n",
              "    </tr>\n",
              "  </tbody>\n",
              "</table>\n",
              "</div>\n",
              "      <button class=\"colab-df-convert\" onclick=\"convertToInteractive('df-a45e8e6e-05ae-4069-a13b-d08c971dfed5')\"\n",
              "              title=\"Convert this dataframe to an interactive table.\"\n",
              "              style=\"display:none;\">\n",
              "        \n",
              "  <svg xmlns=\"http://www.w3.org/2000/svg\" height=\"24px\"viewBox=\"0 0 24 24\"\n",
              "       width=\"24px\">\n",
              "    <path d=\"M0 0h24v24H0V0z\" fill=\"none\"/>\n",
              "    <path d=\"M18.56 5.44l.94 2.06.94-2.06 2.06-.94-2.06-.94-.94-2.06-.94 2.06-2.06.94zm-11 1L8.5 8.5l.94-2.06 2.06-.94-2.06-.94L8.5 2.5l-.94 2.06-2.06.94zm10 10l.94 2.06.94-2.06 2.06-.94-2.06-.94-.94-2.06-.94 2.06-2.06.94z\"/><path d=\"M17.41 7.96l-1.37-1.37c-.4-.4-.92-.59-1.43-.59-.52 0-1.04.2-1.43.59L10.3 9.45l-7.72 7.72c-.78.78-.78 2.05 0 2.83L4 21.41c.39.39.9.59 1.41.59.51 0 1.02-.2 1.41-.59l7.78-7.78 2.81-2.81c.8-.78.8-2.07 0-2.86zM5.41 20L4 18.59l7.72-7.72 1.47 1.35L5.41 20z\"/>\n",
              "  </svg>\n",
              "      </button>\n",
              "      \n",
              "  <style>\n",
              "    .colab-df-container {\n",
              "      display:flex;\n",
              "      flex-wrap:wrap;\n",
              "      gap: 12px;\n",
              "    }\n",
              "\n",
              "    .colab-df-convert {\n",
              "      background-color: #E8F0FE;\n",
              "      border: none;\n",
              "      border-radius: 50%;\n",
              "      cursor: pointer;\n",
              "      display: none;\n",
              "      fill: #1967D2;\n",
              "      height: 32px;\n",
              "      padding: 0 0 0 0;\n",
              "      width: 32px;\n",
              "    }\n",
              "\n",
              "    .colab-df-convert:hover {\n",
              "      background-color: #E2EBFA;\n",
              "      box-shadow: 0px 1px 2px rgba(60, 64, 67, 0.3), 0px 1px 3px 1px rgba(60, 64, 67, 0.15);\n",
              "      fill: #174EA6;\n",
              "    }\n",
              "\n",
              "    [theme=dark] .colab-df-convert {\n",
              "      background-color: #3B4455;\n",
              "      fill: #D2E3FC;\n",
              "    }\n",
              "\n",
              "    [theme=dark] .colab-df-convert:hover {\n",
              "      background-color: #434B5C;\n",
              "      box-shadow: 0px 1px 3px 1px rgba(0, 0, 0, 0.15);\n",
              "      filter: drop-shadow(0px 1px 2px rgba(0, 0, 0, 0.3));\n",
              "      fill: #FFFFFF;\n",
              "    }\n",
              "  </style>\n",
              "\n",
              "      <script>\n",
              "        const buttonEl =\n",
              "          document.querySelector('#df-a45e8e6e-05ae-4069-a13b-d08c971dfed5 button.colab-df-convert');\n",
              "        buttonEl.style.display =\n",
              "          google.colab.kernel.accessAllowed ? 'block' : 'none';\n",
              "\n",
              "        async function convertToInteractive(key) {\n",
              "          const element = document.querySelector('#df-a45e8e6e-05ae-4069-a13b-d08c971dfed5');\n",
              "          const dataTable =\n",
              "            await google.colab.kernel.invokeFunction('convertToInteractive',\n",
              "                                                     [key], {});\n",
              "          if (!dataTable) return;\n",
              "\n",
              "          const docLinkHtml = 'Like what you see? Visit the ' +\n",
              "            '<a target=\"_blank\" href=https://colab.research.google.com/notebooks/data_table.ipynb>data table notebook</a>'\n",
              "            + ' to learn more about interactive tables.';\n",
              "          element.innerHTML = '';\n",
              "          dataTable['output_type'] = 'display_data';\n",
              "          await google.colab.output.renderOutput(dataTable, element);\n",
              "          const docLink = document.createElement('div');\n",
              "          docLink.innerHTML = docLinkHtml;\n",
              "          element.appendChild(docLink);\n",
              "        }\n",
              "      </script>\n",
              "    </div>\n",
              "  </div>\n",
              "  "
            ]
          },
          "metadata": {},
          "execution_count": 12
        }
      ]
    },
    {
      "cell_type": "markdown",
      "source": [
        "##### **2. Create a version of `X_train` and `X_test` where the unencoded categorical variables are encoded using ordinal encoding.**\n",
        "\n",
        "**NOTE**: We must make copies of the original training and test sets using `.copy()` so that any modifications we make to these training and test sets do not modify the original ones."
      ],
      "metadata": {
        "id": "X9W647w_DVyn"
      }
    },
    {
      "cell_type": "code",
      "source": [
        "X_train_ord = X_train.copy()\n",
        "X_test_ord = X_test.copy()\n",
        "\n",
        "\n",
        "ord_enc = OrdinalEncoder()\n",
        "\n",
        "X_train_ord[columns_to_encode] = ord_enc.fit_transform(# COMPLETE THIS LINE\n",
        "X_test_ord[columns_to_encode] = ord_enc.transform(# COMPLETE THIS LINE\n",
        "\n",
        "X_train_ord.head()"
      ],
      "metadata": {
        "id": "BdAWJhVKDhZr"
      },
      "execution_count": null,
      "outputs": []
    },
    {
      "cell_type": "markdown",
      "source": [
        "##### **Solution**"
      ],
      "metadata": {
        "id": "rzX6-IK8Dg49"
      }
    },
    {
      "cell_type": "code",
      "source": [
        "X_train_ord = X_train.copy()\n",
        "X_test_ord = X_test.copy()\n",
        "\n",
        "\n",
        "ord_enc = OrdinalEncoder()\n",
        "\n",
        "X_train_ord[columns_to_encode] = ord_enc.fit_transform(X_train[columns_to_encode])\n",
        "X_test_ord[columns_to_encode] = ord_enc.transform(X_test[columns_to_encode])\n",
        "\n",
        "X_train_ord.head()"
      ],
      "metadata": {
        "colab": {
          "base_uri": "https://localhost:8080/",
          "height": 235
        },
        "id": "_qWCUnZuDhxT",
        "outputId": "8e8085ce-2a96-4bd4-8905-5f3373f979f2"
      },
      "execution_count": null,
      "outputs": [
        {
          "output_type": "execute_result",
          "data": {
            "text/plain": [
              "     school  sex  age  address  famsize  Pstatus  Medu  Fedu  Mjob  Fjob  ...  \\\n",
              "332     0.0  0.0   18      1.0      0.0      1.0   2.0   2.0   0.0   0.0  ...   \n",
              "29      0.0  1.0   16      1.0      0.0      1.0   0.0   0.0   4.0   4.0  ...   \n",
              "302     0.0  1.0   18      0.0      0.0      1.0   1.0   2.0   2.0   2.0  ...   \n",
              "286     0.0  1.0   17      0.0      0.0      1.0   2.0   4.0   2.0   2.0  ...   \n",
              "554     1.0  0.0   17      0.0      0.0      1.0   4.0   4.0   0.0   0.0  ...   \n",
              "\n",
              "     romantic  famrel  freetime  goout  Dalc  Walc  health  absences  G1  G2  \n",
              "332       0.0       4         3      3     1     2       2         0  18  18  \n",
              "29        1.0       4         4      5     5     5       5         4  12  11  \n",
              "302       0.0       5         3      2     1     1       3         2  10  11  \n",
              "286       0.0       4         4      2     2     4       5         0  12  12  \n",
              "554       1.0       3         5      5     2     2       4         3  10  11  \n",
              "\n",
              "[5 rows x 32 columns]"
            ],
            "text/html": [
              "\n",
              "  <div id=\"df-1e7c1765-3079-4927-9ca9-ecb8f4d87f71\">\n",
              "    <div class=\"colab-df-container\">\n",
              "      <div>\n",
              "<style scoped>\n",
              "    .dataframe tbody tr th:only-of-type {\n",
              "        vertical-align: middle;\n",
              "    }\n",
              "\n",
              "    .dataframe tbody tr th {\n",
              "        vertical-align: top;\n",
              "    }\n",
              "\n",
              "    .dataframe thead th {\n",
              "        text-align: right;\n",
              "    }\n",
              "</style>\n",
              "<table border=\"1\" class=\"dataframe\">\n",
              "  <thead>\n",
              "    <tr style=\"text-align: right;\">\n",
              "      <th></th>\n",
              "      <th>school</th>\n",
              "      <th>sex</th>\n",
              "      <th>age</th>\n",
              "      <th>address</th>\n",
              "      <th>famsize</th>\n",
              "      <th>Pstatus</th>\n",
              "      <th>Medu</th>\n",
              "      <th>Fedu</th>\n",
              "      <th>Mjob</th>\n",
              "      <th>Fjob</th>\n",
              "      <th>...</th>\n",
              "      <th>romantic</th>\n",
              "      <th>famrel</th>\n",
              "      <th>freetime</th>\n",
              "      <th>goout</th>\n",
              "      <th>Dalc</th>\n",
              "      <th>Walc</th>\n",
              "      <th>health</th>\n",
              "      <th>absences</th>\n",
              "      <th>G1</th>\n",
              "      <th>G2</th>\n",
              "    </tr>\n",
              "  </thead>\n",
              "  <tbody>\n",
              "    <tr>\n",
              "      <th>332</th>\n",
              "      <td>0.0</td>\n",
              "      <td>0.0</td>\n",
              "      <td>18</td>\n",
              "      <td>1.0</td>\n",
              "      <td>0.0</td>\n",
              "      <td>1.0</td>\n",
              "      <td>2.0</td>\n",
              "      <td>2.0</td>\n",
              "      <td>0.0</td>\n",
              "      <td>0.0</td>\n",
              "      <td>...</td>\n",
              "      <td>0.0</td>\n",
              "      <td>4</td>\n",
              "      <td>3</td>\n",
              "      <td>3</td>\n",
              "      <td>1</td>\n",
              "      <td>2</td>\n",
              "      <td>2</td>\n",
              "      <td>0</td>\n",
              "      <td>18</td>\n",
              "      <td>18</td>\n",
              "    </tr>\n",
              "    <tr>\n",
              "      <th>29</th>\n",
              "      <td>0.0</td>\n",
              "      <td>1.0</td>\n",
              "      <td>16</td>\n",
              "      <td>1.0</td>\n",
              "      <td>0.0</td>\n",
              "      <td>1.0</td>\n",
              "      <td>0.0</td>\n",
              "      <td>0.0</td>\n",
              "      <td>4.0</td>\n",
              "      <td>4.0</td>\n",
              "      <td>...</td>\n",
              "      <td>1.0</td>\n",
              "      <td>4</td>\n",
              "      <td>4</td>\n",
              "      <td>5</td>\n",
              "      <td>5</td>\n",
              "      <td>5</td>\n",
              "      <td>5</td>\n",
              "      <td>4</td>\n",
              "      <td>12</td>\n",
              "      <td>11</td>\n",
              "    </tr>\n",
              "    <tr>\n",
              "      <th>302</th>\n",
              "      <td>0.0</td>\n",
              "      <td>1.0</td>\n",
              "      <td>18</td>\n",
              "      <td>0.0</td>\n",
              "      <td>0.0</td>\n",
              "      <td>1.0</td>\n",
              "      <td>1.0</td>\n",
              "      <td>2.0</td>\n",
              "      <td>2.0</td>\n",
              "      <td>2.0</td>\n",
              "      <td>...</td>\n",
              "      <td>0.0</td>\n",
              "      <td>5</td>\n",
              "      <td>3</td>\n",
              "      <td>2</td>\n",
              "      <td>1</td>\n",
              "      <td>1</td>\n",
              "      <td>3</td>\n",
              "      <td>2</td>\n",
              "      <td>10</td>\n",
              "      <td>11</td>\n",
              "    </tr>\n",
              "    <tr>\n",
              "      <th>286</th>\n",
              "      <td>0.0</td>\n",
              "      <td>1.0</td>\n",
              "      <td>17</td>\n",
              "      <td>0.0</td>\n",
              "      <td>0.0</td>\n",
              "      <td>1.0</td>\n",
              "      <td>2.0</td>\n",
              "      <td>4.0</td>\n",
              "      <td>2.0</td>\n",
              "      <td>2.0</td>\n",
              "      <td>...</td>\n",
              "      <td>0.0</td>\n",
              "      <td>4</td>\n",
              "      <td>4</td>\n",
              "      <td>2</td>\n",
              "      <td>2</td>\n",
              "      <td>4</td>\n",
              "      <td>5</td>\n",
              "      <td>0</td>\n",
              "      <td>12</td>\n",
              "      <td>12</td>\n",
              "    </tr>\n",
              "    <tr>\n",
              "      <th>554</th>\n",
              "      <td>1.0</td>\n",
              "      <td>0.0</td>\n",
              "      <td>17</td>\n",
              "      <td>0.0</td>\n",
              "      <td>0.0</td>\n",
              "      <td>1.0</td>\n",
              "      <td>4.0</td>\n",
              "      <td>4.0</td>\n",
              "      <td>0.0</td>\n",
              "      <td>0.0</td>\n",
              "      <td>...</td>\n",
              "      <td>1.0</td>\n",
              "      <td>3</td>\n",
              "      <td>5</td>\n",
              "      <td>5</td>\n",
              "      <td>2</td>\n",
              "      <td>2</td>\n",
              "      <td>4</td>\n",
              "      <td>3</td>\n",
              "      <td>10</td>\n",
              "      <td>11</td>\n",
              "    </tr>\n",
              "  </tbody>\n",
              "</table>\n",
              "<p>5 rows × 32 columns</p>\n",
              "</div>\n",
              "      <button class=\"colab-df-convert\" onclick=\"convertToInteractive('df-1e7c1765-3079-4927-9ca9-ecb8f4d87f71')\"\n",
              "              title=\"Convert this dataframe to an interactive table.\"\n",
              "              style=\"display:none;\">\n",
              "        \n",
              "  <svg xmlns=\"http://www.w3.org/2000/svg\" height=\"24px\"viewBox=\"0 0 24 24\"\n",
              "       width=\"24px\">\n",
              "    <path d=\"M0 0h24v24H0V0z\" fill=\"none\"/>\n",
              "    <path d=\"M18.56 5.44l.94 2.06.94-2.06 2.06-.94-2.06-.94-.94-2.06-.94 2.06-2.06.94zm-11 1L8.5 8.5l.94-2.06 2.06-.94-2.06-.94L8.5 2.5l-.94 2.06-2.06.94zm10 10l.94 2.06.94-2.06 2.06-.94-2.06-.94-.94-2.06-.94 2.06-2.06.94z\"/><path d=\"M17.41 7.96l-1.37-1.37c-.4-.4-.92-.59-1.43-.59-.52 0-1.04.2-1.43.59L10.3 9.45l-7.72 7.72c-.78.78-.78 2.05 0 2.83L4 21.41c.39.39.9.59 1.41.59.51 0 1.02-.2 1.41-.59l7.78-7.78 2.81-2.81c.8-.78.8-2.07 0-2.86zM5.41 20L4 18.59l7.72-7.72 1.47 1.35L5.41 20z\"/>\n",
              "  </svg>\n",
              "      </button>\n",
              "      \n",
              "  <style>\n",
              "    .colab-df-container {\n",
              "      display:flex;\n",
              "      flex-wrap:wrap;\n",
              "      gap: 12px;\n",
              "    }\n",
              "\n",
              "    .colab-df-convert {\n",
              "      background-color: #E8F0FE;\n",
              "      border: none;\n",
              "      border-radius: 50%;\n",
              "      cursor: pointer;\n",
              "      display: none;\n",
              "      fill: #1967D2;\n",
              "      height: 32px;\n",
              "      padding: 0 0 0 0;\n",
              "      width: 32px;\n",
              "    }\n",
              "\n",
              "    .colab-df-convert:hover {\n",
              "      background-color: #E2EBFA;\n",
              "      box-shadow: 0px 1px 2px rgba(60, 64, 67, 0.3), 0px 1px 3px 1px rgba(60, 64, 67, 0.15);\n",
              "      fill: #174EA6;\n",
              "    }\n",
              "\n",
              "    [theme=dark] .colab-df-convert {\n",
              "      background-color: #3B4455;\n",
              "      fill: #D2E3FC;\n",
              "    }\n",
              "\n",
              "    [theme=dark] .colab-df-convert:hover {\n",
              "      background-color: #434B5C;\n",
              "      box-shadow: 0px 1px 3px 1px rgba(0, 0, 0, 0.15);\n",
              "      filter: drop-shadow(0px 1px 2px rgba(0, 0, 0, 0.3));\n",
              "      fill: #FFFFFF;\n",
              "    }\n",
              "  </style>\n",
              "\n",
              "      <script>\n",
              "        const buttonEl =\n",
              "          document.querySelector('#df-1e7c1765-3079-4927-9ca9-ecb8f4d87f71 button.colab-df-convert');\n",
              "        buttonEl.style.display =\n",
              "          google.colab.kernel.accessAllowed ? 'block' : 'none';\n",
              "\n",
              "        async function convertToInteractive(key) {\n",
              "          const element = document.querySelector('#df-1e7c1765-3079-4927-9ca9-ecb8f4d87f71');\n",
              "          const dataTable =\n",
              "            await google.colab.kernel.invokeFunction('convertToInteractive',\n",
              "                                                     [key], {});\n",
              "          if (!dataTable) return;\n",
              "\n",
              "          const docLinkHtml = 'Like what you see? Visit the ' +\n",
              "            '<a target=\"_blank\" href=https://colab.research.google.com/notebooks/data_table.ipynb>data table notebook</a>'\n",
              "            + ' to learn more about interactive tables.';\n",
              "          element.innerHTML = '';\n",
              "          dataTable['output_type'] = 'display_data';\n",
              "          await google.colab.output.renderOutput(dataTable, element);\n",
              "          const docLink = document.createElement('div');\n",
              "          docLink.innerHTML = docLinkHtml;\n",
              "          element.appendChild(docLink);\n",
              "        }\n",
              "      </script>\n",
              "    </div>\n",
              "  </div>\n",
              "  "
            ]
          },
          "metadata": {},
          "execution_count": 13
        }
      ]
    },
    {
      "cell_type": "markdown",
      "source": [
        "##### **3. Create a version of `X_train` and `X_test` where the unencoded categorical variables are one hot encoded.**\n",
        "\n",
        "Since one hot encoding creates a new feature for every possible value of categorical features, the number of columns will grow dramatically. To account for this, we will break this process into two steps:\n",
        "\n",
        "1. Fit the one hot encoder to the training data and determine the new features.\n",
        "\n",
        "2. Transform (encode) the training and test sets accordingly."
      ],
      "metadata": {
        "id": "ImN_jRh_Dbt-"
      }
    },
    {
      "cell_type": "code",
      "source": [
        "X_train_ohe = X_train_drop.copy()\n",
        "X_test_ohe = X_test_drop.copy()\n",
        "\n",
        "\n",
        "ohe_enc = OneHotEncoder(sparse_output = False)\n",
        "ohe_enc.set_output(transform = 'pandas')\n",
        "\n",
        "ohe_enc.fit(X_train[# COMPLETE THIS LINE\n",
        "\n",
        "ohe_columns = ohe_enc.get_feature_names_out()\n",
        "print(ohe_columns)"
      ],
      "metadata": {
        "id": "BknQMiiIHPZB"
      },
      "execution_count": null,
      "outputs": []
    },
    {
      "cell_type": "code",
      "source": [
        "X_train_ohe[ohe_columns] = ohe_enc.transform(X_train[# COMPLETE THIS LINE\n",
        "X_test_ohe[# COMPLETE THIS LINE\n",
        "\n",
        "X_train_ohe.head()"
      ],
      "metadata": {
        "id": "Cj_Iwf7LHPZD"
      },
      "execution_count": null,
      "outputs": []
    },
    {
      "cell_type": "markdown",
      "source": [
        "##### **Solution**"
      ],
      "metadata": {
        "id": "jzZ9YHBaFMFI"
      }
    },
    {
      "cell_type": "code",
      "source": [
        "X_train_ohe = X_train_drop.copy()\n",
        "X_test_ohe = X_test_drop.copy()\n",
        "\n",
        "\n",
        "ohe_enc = OneHotEncoder(sparse_output = False)\n",
        "ohe_enc.set_output(transform = 'pandas')\n",
        "\n",
        "ohe_enc.fit(X_train[columns_to_encode])\n",
        "\n",
        "ohe_columns = ohe_enc.get_feature_names_out()\n",
        "print(ohe_columns)"
      ],
      "metadata": {
        "colab": {
          "base_uri": "https://localhost:8080/"
        },
        "outputId": "d75a7169-d851-4fa1-e9bf-117ef10efe11",
        "id": "1Nq_f3LWFMFJ"
      },
      "execution_count": null,
      "outputs": [
        {
          "output_type": "stream",
          "name": "stdout",
          "text": [
            "['school_GP' 'school_MS' 'sex_F' 'sex_M' 'address_R' 'address_U'\n",
            " 'famsize_GT3' 'famsize_LE3' 'Pstatus_A' 'Pstatus_T' 'Medu_higher'\n",
            " 'Medu_highschool' 'Medu_middleschool' 'Medu_none' 'Medu_primary'\n",
            " 'Fedu_higher' 'Fedu_highschool' 'Fedu_middleschool' 'Fedu_none'\n",
            " 'Fedu_primary' 'Mjob_at_home' 'Mjob_health' 'Mjob_other' 'Mjob_services'\n",
            " 'Mjob_teacher' 'Fjob_at_home' 'Fjob_health' 'Fjob_other' 'Fjob_services'\n",
            " 'Fjob_teacher' 'reason_course' 'reason_home' 'reason_other'\n",
            " 'reason_reputation' 'guardian_father' 'guardian_mother' 'guardian_other'\n",
            " 'schoolsup_no' 'schoolsup_yes' 'famsup_no' 'famsup_yes' 'paid_no'\n",
            " 'paid_yes' 'activities_no' 'activities_yes' 'nursery_no' 'nursery_yes'\n",
            " 'higher_no' 'higher_yes' 'internet_no' 'internet_yes' 'romantic_no'\n",
            " 'romantic_yes']\n"
          ]
        }
      ]
    },
    {
      "cell_type": "code",
      "source": [
        "X_train_ohe[ohe_columns] = ohe_enc.transform(X_train[columns_to_encode])\n",
        "X_test_ohe[ohe_columns] = ohe_enc.transform(X_test[columns_to_encode])\n",
        "\n",
        "X_train_ohe.head()"
      ],
      "metadata": {
        "colab": {
          "base_uri": "https://localhost:8080/",
          "height": 300
        },
        "id": "qbH6boHRG-cJ",
        "outputId": "f804e355-e8ce-43c6-d5b5-6c39b023ef09"
      },
      "execution_count": null,
      "outputs": [
        {
          "output_type": "execute_result",
          "data": {
            "text/plain": [
              "     age  traveltime  studytime  failures  famrel  freetime  goout  Dalc  \\\n",
              "332   18          15        7.5         0       4         3      3     1   \n",
              "29    16          15        5.0         0       4         4      5     5   \n",
              "302   18          15        7.5         0       5         3      2     1   \n",
              "286   17          15        2.5         0       4         4      2     2   \n",
              "554   17          30        2.5         0       3         5      5     2   \n",
              "\n",
              "     Walc  health  ...  activities_no  activities_yes  nursery_no  \\\n",
              "332     2       2  ...            1.0             0.0         0.0   \n",
              "29      5       5  ...            0.0             1.0         0.0   \n",
              "302     1       3  ...            0.0             1.0         1.0   \n",
              "286     4       5  ...            1.0             0.0         1.0   \n",
              "554     2       4  ...            0.0             1.0         0.0   \n",
              "\n",
              "     nursery_yes  higher_no  higher_yes  internet_no  internet_yes  \\\n",
              "332          1.0        0.0         1.0          0.0           1.0   \n",
              "29           1.0        0.0         1.0          0.0           1.0   \n",
              "302          0.0        0.0         1.0          1.0           0.0   \n",
              "286          0.0        0.0         1.0          0.0           1.0   \n",
              "554          1.0        1.0         0.0          0.0           1.0   \n",
              "\n",
              "     romantic_no  romantic_yes  \n",
              "332          1.0           0.0  \n",
              "29           0.0           1.0  \n",
              "302          1.0           0.0  \n",
              "286          1.0           0.0  \n",
              "554          0.0           1.0  \n",
              "\n",
              "[5 rows x 66 columns]"
            ],
            "text/html": [
              "\n",
              "  <div id=\"df-64747575-c259-43f8-a20a-5fcad424f11d\">\n",
              "    <div class=\"colab-df-container\">\n",
              "      <div>\n",
              "<style scoped>\n",
              "    .dataframe tbody tr th:only-of-type {\n",
              "        vertical-align: middle;\n",
              "    }\n",
              "\n",
              "    .dataframe tbody tr th {\n",
              "        vertical-align: top;\n",
              "    }\n",
              "\n",
              "    .dataframe thead th {\n",
              "        text-align: right;\n",
              "    }\n",
              "</style>\n",
              "<table border=\"1\" class=\"dataframe\">\n",
              "  <thead>\n",
              "    <tr style=\"text-align: right;\">\n",
              "      <th></th>\n",
              "      <th>age</th>\n",
              "      <th>traveltime</th>\n",
              "      <th>studytime</th>\n",
              "      <th>failures</th>\n",
              "      <th>famrel</th>\n",
              "      <th>freetime</th>\n",
              "      <th>goout</th>\n",
              "      <th>Dalc</th>\n",
              "      <th>Walc</th>\n",
              "      <th>health</th>\n",
              "      <th>...</th>\n",
              "      <th>activities_no</th>\n",
              "      <th>activities_yes</th>\n",
              "      <th>nursery_no</th>\n",
              "      <th>nursery_yes</th>\n",
              "      <th>higher_no</th>\n",
              "      <th>higher_yes</th>\n",
              "      <th>internet_no</th>\n",
              "      <th>internet_yes</th>\n",
              "      <th>romantic_no</th>\n",
              "      <th>romantic_yes</th>\n",
              "    </tr>\n",
              "  </thead>\n",
              "  <tbody>\n",
              "    <tr>\n",
              "      <th>332</th>\n",
              "      <td>18</td>\n",
              "      <td>15</td>\n",
              "      <td>7.5</td>\n",
              "      <td>0</td>\n",
              "      <td>4</td>\n",
              "      <td>3</td>\n",
              "      <td>3</td>\n",
              "      <td>1</td>\n",
              "      <td>2</td>\n",
              "      <td>2</td>\n",
              "      <td>...</td>\n",
              "      <td>1.0</td>\n",
              "      <td>0.0</td>\n",
              "      <td>0.0</td>\n",
              "      <td>1.0</td>\n",
              "      <td>0.0</td>\n",
              "      <td>1.0</td>\n",
              "      <td>0.0</td>\n",
              "      <td>1.0</td>\n",
              "      <td>1.0</td>\n",
              "      <td>0.0</td>\n",
              "    </tr>\n",
              "    <tr>\n",
              "      <th>29</th>\n",
              "      <td>16</td>\n",
              "      <td>15</td>\n",
              "      <td>5.0</td>\n",
              "      <td>0</td>\n",
              "      <td>4</td>\n",
              "      <td>4</td>\n",
              "      <td>5</td>\n",
              "      <td>5</td>\n",
              "      <td>5</td>\n",
              "      <td>5</td>\n",
              "      <td>...</td>\n",
              "      <td>0.0</td>\n",
              "      <td>1.0</td>\n",
              "      <td>0.0</td>\n",
              "      <td>1.0</td>\n",
              "      <td>0.0</td>\n",
              "      <td>1.0</td>\n",
              "      <td>0.0</td>\n",
              "      <td>1.0</td>\n",
              "      <td>0.0</td>\n",
              "      <td>1.0</td>\n",
              "    </tr>\n",
              "    <tr>\n",
              "      <th>302</th>\n",
              "      <td>18</td>\n",
              "      <td>15</td>\n",
              "      <td>7.5</td>\n",
              "      <td>0</td>\n",
              "      <td>5</td>\n",
              "      <td>3</td>\n",
              "      <td>2</td>\n",
              "      <td>1</td>\n",
              "      <td>1</td>\n",
              "      <td>3</td>\n",
              "      <td>...</td>\n",
              "      <td>0.0</td>\n",
              "      <td>1.0</td>\n",
              "      <td>1.0</td>\n",
              "      <td>0.0</td>\n",
              "      <td>0.0</td>\n",
              "      <td>1.0</td>\n",
              "      <td>1.0</td>\n",
              "      <td>0.0</td>\n",
              "      <td>1.0</td>\n",
              "      <td>0.0</td>\n",
              "    </tr>\n",
              "    <tr>\n",
              "      <th>286</th>\n",
              "      <td>17</td>\n",
              "      <td>15</td>\n",
              "      <td>2.5</td>\n",
              "      <td>0</td>\n",
              "      <td>4</td>\n",
              "      <td>4</td>\n",
              "      <td>2</td>\n",
              "      <td>2</td>\n",
              "      <td>4</td>\n",
              "      <td>5</td>\n",
              "      <td>...</td>\n",
              "      <td>1.0</td>\n",
              "      <td>0.0</td>\n",
              "      <td>1.0</td>\n",
              "      <td>0.0</td>\n",
              "      <td>0.0</td>\n",
              "      <td>1.0</td>\n",
              "      <td>0.0</td>\n",
              "      <td>1.0</td>\n",
              "      <td>1.0</td>\n",
              "      <td>0.0</td>\n",
              "    </tr>\n",
              "    <tr>\n",
              "      <th>554</th>\n",
              "      <td>17</td>\n",
              "      <td>30</td>\n",
              "      <td>2.5</td>\n",
              "      <td>0</td>\n",
              "      <td>3</td>\n",
              "      <td>5</td>\n",
              "      <td>5</td>\n",
              "      <td>2</td>\n",
              "      <td>2</td>\n",
              "      <td>4</td>\n",
              "      <td>...</td>\n",
              "      <td>0.0</td>\n",
              "      <td>1.0</td>\n",
              "      <td>0.0</td>\n",
              "      <td>1.0</td>\n",
              "      <td>1.0</td>\n",
              "      <td>0.0</td>\n",
              "      <td>0.0</td>\n",
              "      <td>1.0</td>\n",
              "      <td>0.0</td>\n",
              "      <td>1.0</td>\n",
              "    </tr>\n",
              "  </tbody>\n",
              "</table>\n",
              "<p>5 rows × 66 columns</p>\n",
              "</div>\n",
              "      <button class=\"colab-df-convert\" onclick=\"convertToInteractive('df-64747575-c259-43f8-a20a-5fcad424f11d')\"\n",
              "              title=\"Convert this dataframe to an interactive table.\"\n",
              "              style=\"display:none;\">\n",
              "        \n",
              "  <svg xmlns=\"http://www.w3.org/2000/svg\" height=\"24px\"viewBox=\"0 0 24 24\"\n",
              "       width=\"24px\">\n",
              "    <path d=\"M0 0h24v24H0V0z\" fill=\"none\"/>\n",
              "    <path d=\"M18.56 5.44l.94 2.06.94-2.06 2.06-.94-2.06-.94-.94-2.06-.94 2.06-2.06.94zm-11 1L8.5 8.5l.94-2.06 2.06-.94-2.06-.94L8.5 2.5l-.94 2.06-2.06.94zm10 10l.94 2.06.94-2.06 2.06-.94-2.06-.94-.94-2.06-.94 2.06-2.06.94z\"/><path d=\"M17.41 7.96l-1.37-1.37c-.4-.4-.92-.59-1.43-.59-.52 0-1.04.2-1.43.59L10.3 9.45l-7.72 7.72c-.78.78-.78 2.05 0 2.83L4 21.41c.39.39.9.59 1.41.59.51 0 1.02-.2 1.41-.59l7.78-7.78 2.81-2.81c.8-.78.8-2.07 0-2.86zM5.41 20L4 18.59l7.72-7.72 1.47 1.35L5.41 20z\"/>\n",
              "  </svg>\n",
              "      </button>\n",
              "      \n",
              "  <style>\n",
              "    .colab-df-container {\n",
              "      display:flex;\n",
              "      flex-wrap:wrap;\n",
              "      gap: 12px;\n",
              "    }\n",
              "\n",
              "    .colab-df-convert {\n",
              "      background-color: #E8F0FE;\n",
              "      border: none;\n",
              "      border-radius: 50%;\n",
              "      cursor: pointer;\n",
              "      display: none;\n",
              "      fill: #1967D2;\n",
              "      height: 32px;\n",
              "      padding: 0 0 0 0;\n",
              "      width: 32px;\n",
              "    }\n",
              "\n",
              "    .colab-df-convert:hover {\n",
              "      background-color: #E2EBFA;\n",
              "      box-shadow: 0px 1px 2px rgba(60, 64, 67, 0.3), 0px 1px 3px 1px rgba(60, 64, 67, 0.15);\n",
              "      fill: #174EA6;\n",
              "    }\n",
              "\n",
              "    [theme=dark] .colab-df-convert {\n",
              "      background-color: #3B4455;\n",
              "      fill: #D2E3FC;\n",
              "    }\n",
              "\n",
              "    [theme=dark] .colab-df-convert:hover {\n",
              "      background-color: #434B5C;\n",
              "      box-shadow: 0px 1px 3px 1px rgba(0, 0, 0, 0.15);\n",
              "      filter: drop-shadow(0px 1px 2px rgba(0, 0, 0, 0.3));\n",
              "      fill: #FFFFFF;\n",
              "    }\n",
              "  </style>\n",
              "\n",
              "      <script>\n",
              "        const buttonEl =\n",
              "          document.querySelector('#df-64747575-c259-43f8-a20a-5fcad424f11d button.colab-df-convert');\n",
              "        buttonEl.style.display =\n",
              "          google.colab.kernel.accessAllowed ? 'block' : 'none';\n",
              "\n",
              "        async function convertToInteractive(key) {\n",
              "          const element = document.querySelector('#df-64747575-c259-43f8-a20a-5fcad424f11d');\n",
              "          const dataTable =\n",
              "            await google.colab.kernel.invokeFunction('convertToInteractive',\n",
              "                                                     [key], {});\n",
              "          if (!dataTable) return;\n",
              "\n",
              "          const docLinkHtml = 'Like what you see? Visit the ' +\n",
              "            '<a target=\"_blank\" href=https://colab.research.google.com/notebooks/data_table.ipynb>data table notebook</a>'\n",
              "            + ' to learn more about interactive tables.';\n",
              "          element.innerHTML = '';\n",
              "          dataTable['output_type'] = 'display_data';\n",
              "          await google.colab.output.renderOutput(dataTable, element);\n",
              "          const docLink = document.createElement('div');\n",
              "          docLink.innerHTML = docLinkHtml;\n",
              "          element.appendChild(docLink);\n",
              "        }\n",
              "      </script>\n",
              "    </div>\n",
              "  </div>\n",
              "  "
            ]
          },
          "metadata": {},
          "execution_count": 206
        }
      ]
    },
    {
      "cell_type": "markdown",
      "source": [
        "##### **4. Create a version of `X_train` and `X_test` where the unencoded categorical variables are dummy variable encoded.**\n",
        "\n",
        "Since dummy variable encoding is very similar to one hot encoding, we will follow the same process as above:\n",
        "\n",
        "1. Fit the one hot encoder to the training data and determine the new features.\n",
        "\n",
        "2. Transform (encode) the training and test sets accordingly."
      ],
      "metadata": {
        "id": "l_893EzuHzLi"
      }
    },
    {
      "cell_type": "code",
      "source": [
        "X_train_ohe = X_train_drop.copy()\n",
        "X_test_ohe = X_test_drop.copy()\n",
        "\n",
        "\n",
        "ohe_enc = OneHotEncoder(sparse_output = False)\n",
        "ohe_enc.set_output(transform = 'pandas')\n",
        "\n",
        "ohe_enc.fit(X_train[# COMPLETE THIS LINE\n",
        "\n",
        "ohe_columns = ohe_enc.get_feature_names_out()\n",
        "print(ohe_columns)"
      ],
      "metadata": {
        "id": "JWJ4Z2k0HzLr"
      },
      "execution_count": null,
      "outputs": []
    },
    {
      "cell_type": "code",
      "source": [
        "X_train_ohe[ohe_columns] = ohe_enc.transform(X_train[# COMPLETE THIS LINE\n",
        "X_test_ohe[# COMPLETE THIS LINE\n",
        "\n",
        "X_train_ohe.head()"
      ],
      "metadata": {
        "id": "_9_jDxEzHzLs"
      },
      "execution_count": null,
      "outputs": []
    },
    {
      "cell_type": "markdown",
      "source": [
        "##### **Solution**"
      ],
      "metadata": {
        "id": "bF7FAu7DHzLs"
      }
    },
    {
      "cell_type": "code",
      "source": [
        "X_train_dv = X_train_drop.copy()\n",
        "X_test_dv = X_test_drop.copy()\n",
        "\n",
        "\n",
        "dv_enc = OneHotEncoder(sparse_output = False, drop = 'first')\n",
        "dv_enc.set_output(transform = 'pandas')\n",
        "\n",
        "dv_enc.fit(X_train[columns_to_encode])\n",
        "\n",
        "dv_columns = dv_enc.get_feature_names_out()\n",
        "print(dv_columns)"
      ],
      "metadata": {
        "colab": {
          "base_uri": "https://localhost:8080/"
        },
        "outputId": "c7a77cf1-d9cd-4d9d-cecf-ae89adaac4cd",
        "id": "-XLZASfvHzLs"
      },
      "execution_count": null,
      "outputs": [
        {
          "output_type": "stream",
          "name": "stdout",
          "text": [
            "['school_MS' 'sex_M' 'address_U' 'famsize_LE3' 'Pstatus_T'\n",
            " 'Medu_highschool' 'Medu_middleschool' 'Medu_none' 'Medu_primary'\n",
            " 'Fedu_highschool' 'Fedu_middleschool' 'Fedu_none' 'Fedu_primary'\n",
            " 'Mjob_health' 'Mjob_other' 'Mjob_services' 'Mjob_teacher' 'Fjob_health'\n",
            " 'Fjob_other' 'Fjob_services' 'Fjob_teacher' 'reason_home' 'reason_other'\n",
            " 'reason_reputation' 'guardian_mother' 'guardian_other' 'schoolsup_yes'\n",
            " 'famsup_yes' 'paid_yes' 'activities_yes' 'nursery_yes' 'higher_yes'\n",
            " 'internet_yes' 'romantic_yes']\n"
          ]
        }
      ]
    },
    {
      "cell_type": "code",
      "source": [
        "X_train_dv[dv_columns] = dv_enc.transform(X_train[columns_to_encode])\n",
        "X_test_dv[dv_columns] = dv_enc.transform(X_test[columns_to_encode])\n",
        "\n",
        "X_train_dv.head()"
      ],
      "metadata": {
        "colab": {
          "base_uri": "https://localhost:8080/",
          "height": 300
        },
        "outputId": "7e4e5629-2443-48d7-ba20-e418cba13ad2",
        "id": "AO_0eePxHzLs"
      },
      "execution_count": null,
      "outputs": [
        {
          "output_type": "execute_result",
          "data": {
            "text/plain": [
              "     age  traveltime  studytime  failures  famrel  freetime  goout  Dalc  \\\n",
              "332   18          15        7.5         0       4         3      3     1   \n",
              "29    16          15        5.0         0       4         4      5     5   \n",
              "302   18          15        7.5         0       5         3      2     1   \n",
              "286   17          15        2.5         0       4         4      2     2   \n",
              "554   17          30        2.5         0       3         5      5     2   \n",
              "\n",
              "     Walc  health  ...  guardian_mother  guardian_other  schoolsup_yes  \\\n",
              "332     2       2  ...              1.0             0.0            0.0   \n",
              "29      5       5  ...              1.0             0.0            0.0   \n",
              "302     1       3  ...              1.0             0.0            0.0   \n",
              "286     4       5  ...              1.0             0.0            0.0   \n",
              "554     2       4  ...              0.0             0.0            0.0   \n",
              "\n",
              "     famsup_yes  paid_yes  activities_yes  nursery_yes  higher_yes  \\\n",
              "332         1.0       0.0             0.0          1.0         1.0   \n",
              "29          1.0       1.0             1.0          1.0         1.0   \n",
              "302         0.0       0.0             1.0          0.0         1.0   \n",
              "286         0.0       0.0             0.0          0.0         1.0   \n",
              "554         1.0       0.0             1.0          1.0         0.0   \n",
              "\n",
              "     internet_yes  romantic_yes  \n",
              "332           1.0           0.0  \n",
              "29            1.0           1.0  \n",
              "302           0.0           0.0  \n",
              "286           1.0           0.0  \n",
              "554           1.0           1.0  \n",
              "\n",
              "[5 rows x 47 columns]"
            ],
            "text/html": [
              "\n",
              "  <div id=\"df-d962d91b-c741-4774-b226-a71a7b830069\">\n",
              "    <div class=\"colab-df-container\">\n",
              "      <div>\n",
              "<style scoped>\n",
              "    .dataframe tbody tr th:only-of-type {\n",
              "        vertical-align: middle;\n",
              "    }\n",
              "\n",
              "    .dataframe tbody tr th {\n",
              "        vertical-align: top;\n",
              "    }\n",
              "\n",
              "    .dataframe thead th {\n",
              "        text-align: right;\n",
              "    }\n",
              "</style>\n",
              "<table border=\"1\" class=\"dataframe\">\n",
              "  <thead>\n",
              "    <tr style=\"text-align: right;\">\n",
              "      <th></th>\n",
              "      <th>age</th>\n",
              "      <th>traveltime</th>\n",
              "      <th>studytime</th>\n",
              "      <th>failures</th>\n",
              "      <th>famrel</th>\n",
              "      <th>freetime</th>\n",
              "      <th>goout</th>\n",
              "      <th>Dalc</th>\n",
              "      <th>Walc</th>\n",
              "      <th>health</th>\n",
              "      <th>...</th>\n",
              "      <th>guardian_mother</th>\n",
              "      <th>guardian_other</th>\n",
              "      <th>schoolsup_yes</th>\n",
              "      <th>famsup_yes</th>\n",
              "      <th>paid_yes</th>\n",
              "      <th>activities_yes</th>\n",
              "      <th>nursery_yes</th>\n",
              "      <th>higher_yes</th>\n",
              "      <th>internet_yes</th>\n",
              "      <th>romantic_yes</th>\n",
              "    </tr>\n",
              "  </thead>\n",
              "  <tbody>\n",
              "    <tr>\n",
              "      <th>332</th>\n",
              "      <td>18</td>\n",
              "      <td>15</td>\n",
              "      <td>7.5</td>\n",
              "      <td>0</td>\n",
              "      <td>4</td>\n",
              "      <td>3</td>\n",
              "      <td>3</td>\n",
              "      <td>1</td>\n",
              "      <td>2</td>\n",
              "      <td>2</td>\n",
              "      <td>...</td>\n",
              "      <td>1.0</td>\n",
              "      <td>0.0</td>\n",
              "      <td>0.0</td>\n",
              "      <td>1.0</td>\n",
              "      <td>0.0</td>\n",
              "      <td>0.0</td>\n",
              "      <td>1.0</td>\n",
              "      <td>1.0</td>\n",
              "      <td>1.0</td>\n",
              "      <td>0.0</td>\n",
              "    </tr>\n",
              "    <tr>\n",
              "      <th>29</th>\n",
              "      <td>16</td>\n",
              "      <td>15</td>\n",
              "      <td>5.0</td>\n",
              "      <td>0</td>\n",
              "      <td>4</td>\n",
              "      <td>4</td>\n",
              "      <td>5</td>\n",
              "      <td>5</td>\n",
              "      <td>5</td>\n",
              "      <td>5</td>\n",
              "      <td>...</td>\n",
              "      <td>1.0</td>\n",
              "      <td>0.0</td>\n",
              "      <td>0.0</td>\n",
              "      <td>1.0</td>\n",
              "      <td>1.0</td>\n",
              "      <td>1.0</td>\n",
              "      <td>1.0</td>\n",
              "      <td>1.0</td>\n",
              "      <td>1.0</td>\n",
              "      <td>1.0</td>\n",
              "    </tr>\n",
              "    <tr>\n",
              "      <th>302</th>\n",
              "      <td>18</td>\n",
              "      <td>15</td>\n",
              "      <td>7.5</td>\n",
              "      <td>0</td>\n",
              "      <td>5</td>\n",
              "      <td>3</td>\n",
              "      <td>2</td>\n",
              "      <td>1</td>\n",
              "      <td>1</td>\n",
              "      <td>3</td>\n",
              "      <td>...</td>\n",
              "      <td>1.0</td>\n",
              "      <td>0.0</td>\n",
              "      <td>0.0</td>\n",
              "      <td>0.0</td>\n",
              "      <td>0.0</td>\n",
              "      <td>1.0</td>\n",
              "      <td>0.0</td>\n",
              "      <td>1.0</td>\n",
              "      <td>0.0</td>\n",
              "      <td>0.0</td>\n",
              "    </tr>\n",
              "    <tr>\n",
              "      <th>286</th>\n",
              "      <td>17</td>\n",
              "      <td>15</td>\n",
              "      <td>2.5</td>\n",
              "      <td>0</td>\n",
              "      <td>4</td>\n",
              "      <td>4</td>\n",
              "      <td>2</td>\n",
              "      <td>2</td>\n",
              "      <td>4</td>\n",
              "      <td>5</td>\n",
              "      <td>...</td>\n",
              "      <td>1.0</td>\n",
              "      <td>0.0</td>\n",
              "      <td>0.0</td>\n",
              "      <td>0.0</td>\n",
              "      <td>0.0</td>\n",
              "      <td>0.0</td>\n",
              "      <td>0.0</td>\n",
              "      <td>1.0</td>\n",
              "      <td>1.0</td>\n",
              "      <td>0.0</td>\n",
              "    </tr>\n",
              "    <tr>\n",
              "      <th>554</th>\n",
              "      <td>17</td>\n",
              "      <td>30</td>\n",
              "      <td>2.5</td>\n",
              "      <td>0</td>\n",
              "      <td>3</td>\n",
              "      <td>5</td>\n",
              "      <td>5</td>\n",
              "      <td>2</td>\n",
              "      <td>2</td>\n",
              "      <td>4</td>\n",
              "      <td>...</td>\n",
              "      <td>0.0</td>\n",
              "      <td>0.0</td>\n",
              "      <td>0.0</td>\n",
              "      <td>1.0</td>\n",
              "      <td>0.0</td>\n",
              "      <td>1.0</td>\n",
              "      <td>1.0</td>\n",
              "      <td>0.0</td>\n",
              "      <td>1.0</td>\n",
              "      <td>1.0</td>\n",
              "    </tr>\n",
              "  </tbody>\n",
              "</table>\n",
              "<p>5 rows × 47 columns</p>\n",
              "</div>\n",
              "      <button class=\"colab-df-convert\" onclick=\"convertToInteractive('df-d962d91b-c741-4774-b226-a71a7b830069')\"\n",
              "              title=\"Convert this dataframe to an interactive table.\"\n",
              "              style=\"display:none;\">\n",
              "        \n",
              "  <svg xmlns=\"http://www.w3.org/2000/svg\" height=\"24px\"viewBox=\"0 0 24 24\"\n",
              "       width=\"24px\">\n",
              "    <path d=\"M0 0h24v24H0V0z\" fill=\"none\"/>\n",
              "    <path d=\"M18.56 5.44l.94 2.06.94-2.06 2.06-.94-2.06-.94-.94-2.06-.94 2.06-2.06.94zm-11 1L8.5 8.5l.94-2.06 2.06-.94-2.06-.94L8.5 2.5l-.94 2.06-2.06.94zm10 10l.94 2.06.94-2.06 2.06-.94-2.06-.94-.94-2.06-.94 2.06-2.06.94z\"/><path d=\"M17.41 7.96l-1.37-1.37c-.4-.4-.92-.59-1.43-.59-.52 0-1.04.2-1.43.59L10.3 9.45l-7.72 7.72c-.78.78-.78 2.05 0 2.83L4 21.41c.39.39.9.59 1.41.59.51 0 1.02-.2 1.41-.59l7.78-7.78 2.81-2.81c.8-.78.8-2.07 0-2.86zM5.41 20L4 18.59l7.72-7.72 1.47 1.35L5.41 20z\"/>\n",
              "  </svg>\n",
              "      </button>\n",
              "      \n",
              "  <style>\n",
              "    .colab-df-container {\n",
              "      display:flex;\n",
              "      flex-wrap:wrap;\n",
              "      gap: 12px;\n",
              "    }\n",
              "\n",
              "    .colab-df-convert {\n",
              "      background-color: #E8F0FE;\n",
              "      border: none;\n",
              "      border-radius: 50%;\n",
              "      cursor: pointer;\n",
              "      display: none;\n",
              "      fill: #1967D2;\n",
              "      height: 32px;\n",
              "      padding: 0 0 0 0;\n",
              "      width: 32px;\n",
              "    }\n",
              "\n",
              "    .colab-df-convert:hover {\n",
              "      background-color: #E2EBFA;\n",
              "      box-shadow: 0px 1px 2px rgba(60, 64, 67, 0.3), 0px 1px 3px 1px rgba(60, 64, 67, 0.15);\n",
              "      fill: #174EA6;\n",
              "    }\n",
              "\n",
              "    [theme=dark] .colab-df-convert {\n",
              "      background-color: #3B4455;\n",
              "      fill: #D2E3FC;\n",
              "    }\n",
              "\n",
              "    [theme=dark] .colab-df-convert:hover {\n",
              "      background-color: #434B5C;\n",
              "      box-shadow: 0px 1px 3px 1px rgba(0, 0, 0, 0.15);\n",
              "      filter: drop-shadow(0px 1px 2px rgba(0, 0, 0, 0.3));\n",
              "      fill: #FFFFFF;\n",
              "    }\n",
              "  </style>\n",
              "\n",
              "      <script>\n",
              "        const buttonEl =\n",
              "          document.querySelector('#df-d962d91b-c741-4774-b226-a71a7b830069 button.colab-df-convert');\n",
              "        buttonEl.style.display =\n",
              "          google.colab.kernel.accessAllowed ? 'block' : 'none';\n",
              "\n",
              "        async function convertToInteractive(key) {\n",
              "          const element = document.querySelector('#df-d962d91b-c741-4774-b226-a71a7b830069');\n",
              "          const dataTable =\n",
              "            await google.colab.kernel.invokeFunction('convertToInteractive',\n",
              "                                                     [key], {});\n",
              "          if (!dataTable) return;\n",
              "\n",
              "          const docLinkHtml = 'Like what you see? Visit the ' +\n",
              "            '<a target=\"_blank\" href=https://colab.research.google.com/notebooks/data_table.ipynb>data table notebook</a>'\n",
              "            + ' to learn more about interactive tables.';\n",
              "          element.innerHTML = '';\n",
              "          dataTable['output_type'] = 'display_data';\n",
              "          await google.colab.output.renderOutput(dataTable, element);\n",
              "          const docLink = document.createElement('div');\n",
              "          docLink.innerHTML = docLinkHtml;\n",
              "          element.appendChild(docLink);\n",
              "        }\n",
              "      </script>\n",
              "    </div>\n",
              "  </div>\n",
              "  "
            ]
          },
          "metadata": {},
          "execution_count": 208
        }
      ]
    },
    {
      "cell_type": "markdown",
      "source": [
        "#### **Problem #2.4**\n",
        "\n",
        "We now have 4 distinct datasets to train models on:\n",
        "1. `X_train_drop` and `X_test_drop`\n",
        "2. `X_train_ord` and `X_test_ord`\n",
        "3. `X_train_ohe` and `X_test_ohe`\n",
        "4. `X_train_dv` and `X_test_dv`\n",
        "\n",
        "To understand the effect that these different approaches can have, fit a logistic regression model to each dataset and evaluate it using the classification report and confusion matrix."
      ],
      "metadata": {
        "id": "xj3Q2f5QIlJF"
      }
    },
    {
      "cell_type": "markdown",
      "source": [
        "##### **1. `X_train_drop` and `X_test_drop`**"
      ],
      "metadata": {
        "id": "CvKDemYSJQKy"
      }
    },
    {
      "cell_type": "code",
      "source": [
        "model_drop = LogisticRegression()\n",
        "\n",
        "model_drop.fit(# COMPLETE THIS LINE\n",
        "\n",
        "pred_drop = model_drop.predict(# COMPLETE THIS LINE\n",
        "\n",
        "print(classification_report(y_test, pred_drop, labels = model_drop.classes_))"
      ],
      "metadata": {
        "id": "Hw1r72JkJa5x"
      },
      "execution_count": null,
      "outputs": []
    },
    {
      "cell_type": "code",
      "source": [
        "cm = confusion_matrix(y_test, pred_drop, labels=model_drop.classes_)\n",
        "\n",
        "disp = ConfusionMatrixDisplay(confusion_matrix=cm, display_labels=model_drop.classes_)\n",
        "disp.plot()\n",
        "\n",
        "plt.xticks(rotation = 90)\n",
        "plt.show()"
      ],
      "metadata": {
        "id": "T-h-4STBKQTB"
      },
      "execution_count": null,
      "outputs": []
    },
    {
      "cell_type": "markdown",
      "source": [
        "##### **Solution**"
      ],
      "metadata": {
        "id": "qb3wpybiJbcQ"
      }
    },
    {
      "cell_type": "code",
      "source": [
        "model_drop = LogisticRegression()\n",
        "\n",
        "model_drop.fit(X_train_drop, y_train)\n",
        "\n",
        "pred_drop = model_drop.predict(X_test_drop)\n",
        "\n",
        "print(classification_report(y_test, pred_drop, labels = model_drop.classes_))"
      ],
      "metadata": {
        "colab": {
          "base_uri": "https://localhost:8080/"
        },
        "outputId": "59998a24-b43d-4aea-d812-3b039f56698e",
        "id": "uD0aSs90Ju0z"
      },
      "execution_count": null,
      "outputs": [
        {
          "output_type": "stream",
          "name": "stdout",
          "text": [
            "              precision    recall  f1-score   support\n",
            "\n",
            "           0       1.00      0.50      0.67         2\n",
            "           1       0.00      0.00      0.00         0\n",
            "           5       0.00      0.00      0.00         0\n",
            "           6       0.00      0.00      0.00         0\n",
            "           7       0.00      0.00      0.00         1\n",
            "           8       0.75      0.43      0.55         7\n",
            "           9       0.00      0.00      0.00         5\n",
            "          10       0.32      0.53      0.40        17\n",
            "          11       0.50      0.24      0.32        25\n",
            "          12       0.31      0.25      0.28        16\n",
            "          13       0.26      0.62      0.36        13\n",
            "          14       0.00      0.00      0.00        12\n",
            "          15       0.25      0.10      0.14        10\n",
            "          16       0.29      0.56      0.38         9\n",
            "          17       0.12      0.20      0.15         5\n",
            "          18       0.00      0.00      0.00         7\n",
            "          19       0.00      0.00      0.00         1\n",
            "\n",
            "   micro avg       0.29      0.29      0.29       130\n",
            "   macro avg       0.22      0.20      0.19       130\n",
            "weighted avg       0.30      0.29      0.27       130\n",
            "\n"
          ]
        }
      ]
    },
    {
      "cell_type": "code",
      "source": [
        "cm = confusion_matrix(y_test, pred_drop, labels=model_drop.classes_)\n",
        "\n",
        "disp = ConfusionMatrixDisplay(confusion_matrix=cm, display_labels=model_drop.classes_)\n",
        "disp.plot()\n",
        "\n",
        "plt.xticks(rotation = 90)\n",
        "plt.show()"
      ],
      "metadata": {
        "colab": {
          "base_uri": "https://localhost:8080/",
          "height": 459
        },
        "outputId": "1f514226-94d7-41bb-919d-d4a5c67788a8",
        "id": "c3l7TILeJu08"
      },
      "execution_count": null,
      "outputs": [
        {
          "output_type": "display_data",
          "data": {
            "text/plain": [
              "<Figure size 640x480 with 2 Axes>"
            ],
            "image/png": "[encoded data removed]"
          },
          "metadata": {}
        }
      ]
    },
    {
      "cell_type": "markdown",
      "source": [
        "##### **2. `X_train_ord` and `X_test_ord`**"
      ],
      "metadata": {
        "id": "IX1m8f_LJWhy"
      }
    },
    {
      "cell_type": "code",
      "source": [],
      "metadata": {
        "id": "HwmjME43KYuw"
      },
      "execution_count": null,
      "outputs": []
    },
    {
      "cell_type": "code",
      "source": [],
      "metadata": {
        "id": "g6F26AODKYux"
      },
      "execution_count": null,
      "outputs": []
    },
    {
      "cell_type": "markdown",
      "source": [
        "##### **Solution**"
      ],
      "metadata": {
        "id": "JfxBw-_jKYux"
      }
    },
    {
      "cell_type": "code",
      "source": [
        "model_ord = LogisticRegression()\n",
        "\n",
        "model_ord.fit(X_train_ord, y_train)\n",
        "\n",
        "pred_ord = model_ord.predict(X_test_ord)\n",
        "\n",
        "print(classification_report(y_test, pred_ord, labels = model_ord.classes_))"
      ],
      "metadata": {
        "colab": {
          "base_uri": "https://localhost:8080/"
        },
        "outputId": "3df7915b-c11e-4bef-a14f-7d5f37f0180b",
        "id": "pJ6Bv2WQKYux"
      },
      "execution_count": null,
      "outputs": [
        {
          "output_type": "stream",
          "name": "stdout",
          "text": [
            "              precision    recall  f1-score   support\n",
            "\n",
            "           0       1.00      0.50      0.67         2\n",
            "           1       0.00      0.00      0.00         0\n",
            "           5       0.00      0.00      0.00         0\n",
            "           6       0.00      0.00      0.00         0\n",
            "           7       0.00      0.00      0.00         1\n",
            "           8       0.33      0.29      0.31         7\n",
            "           9       0.00      0.00      0.00         5\n",
            "          10       0.36      0.59      0.44        17\n",
            "          11       0.47      0.28      0.35        25\n",
            "          12       0.14      0.12      0.13        16\n",
            "          13       0.24      0.38      0.29        13\n",
            "          14       0.00      0.00      0.00        12\n",
            "          15       0.40      0.20      0.27        10\n",
            "          16       0.27      0.44      0.33         9\n",
            "          17       0.20      0.40      0.27         5\n",
            "          18       0.67      0.29      0.40         7\n",
            "          19       0.00      0.00      0.00         1\n",
            "\n",
            "   micro avg       0.28      0.28      0.28       130\n",
            "   macro avg       0.24      0.21      0.20       130\n",
            "weighted avg       0.30      0.28      0.27       130\n",
            "\n"
          ]
        }
      ]
    },
    {
      "cell_type": "code",
      "source": [
        "cm = confusion_matrix(y_test, pred_ord, labels=model_ord.classes_)\n",
        "\n",
        "disp = ConfusionMatrixDisplay(confusion_matrix=cm, display_labels=model_ord.classes_)\n",
        "disp.plot()\n",
        "\n",
        "plt.xticks(rotation = 90)\n",
        "plt.show()"
      ],
      "metadata": {
        "colab": {
          "base_uri": "https://localhost:8080/",
          "height": 459
        },
        "outputId": "88a24a38-9a3a-481c-d1d5-134b72c23464",
        "id": "ruyw44hZKYuy"
      },
      "execution_count": null,
      "outputs": [
        {
          "output_type": "display_data",
          "data": {
            "text/plain": [
              "<Figure size 640x480 with 2 Axes>"
            ],
            "image/png": "[encoded data removed]"
          },
          "metadata": {}
        }
      ]
    },
    {
      "cell_type": "markdown",
      "source": [
        "##### **3. `X_train_ohe` and `X_test_ohe`**"
      ],
      "metadata": {
        "id": "SRSUyJi9JXYR"
      }
    },
    {
      "cell_type": "code",
      "source": [],
      "metadata": {
        "id": "9inzm51nJeVD"
      },
      "execution_count": null,
      "outputs": []
    },
    {
      "cell_type": "markdown",
      "source": [
        "##### **Solution**"
      ],
      "metadata": {
        "id": "FUBHlghiJeVE"
      }
    },
    {
      "cell_type": "code",
      "source": [
        "model_ohe = LogisticRegression()\n",
        "\n",
        "model_ohe.fit(X_train_ohe, y_train)\n",
        "\n",
        "pred_ohe = model_ohe.predict(X_test_ohe)\n",
        "\n",
        "print(classification_report(y_test, pred_ohe, labels = model_ohe.classes_))"
      ],
      "metadata": {
        "colab": {
          "base_uri": "https://localhost:8080/"
        },
        "outputId": "74739be7-2123-4c66-8c57-9e71ec5ea273",
        "id": "KKCzx-H5Kkiy"
      },
      "execution_count": null,
      "outputs": [
        {
          "output_type": "stream",
          "name": "stdout",
          "text": [
            "              precision    recall  f1-score   support\n",
            "\n",
            "           0       1.00      0.50      0.67         2\n",
            "           1       0.00      0.00      0.00         0\n",
            "           5       0.00      0.00      0.00         0\n",
            "           6       0.00      0.00      0.00         0\n",
            "           7       0.00      0.00      0.00         1\n",
            "           8       0.57      0.57      0.57         7\n",
            "           9       0.00      0.00      0.00         5\n",
            "          10       0.27      0.35      0.31        17\n",
            "          11       0.53      0.40      0.45        25\n",
            "          12       0.33      0.31      0.32        16\n",
            "          13       0.28      0.38      0.32        13\n",
            "          14       0.00      0.00      0.00        12\n",
            "          15       0.50      0.30      0.37        10\n",
            "          16       0.21      0.33      0.26         9\n",
            "          17       0.20      0.40      0.27         5\n",
            "          18       0.33      0.14      0.20         7\n",
            "          19       0.00      0.00      0.00         1\n",
            "\n",
            "   micro avg       0.31      0.31      0.31       130\n",
            "   macro avg       0.25      0.22      0.22       130\n",
            "weighted avg       0.33      0.31      0.31       130\n",
            "\n"
          ]
        }
      ]
    },
    {
      "cell_type": "code",
      "source": [
        "cm = confusion_matrix(y_test, pred_ohe, labels=model_ohe.classes_)\n",
        "\n",
        "disp = ConfusionMatrixDisplay(confusion_matrix=cm, display_labels=model_ohe.classes_)\n",
        "disp.plot()\n",
        "\n",
        "plt.xticks(rotation = 90)\n",
        "plt.show()"
      ],
      "metadata": {
        "colab": {
          "base_uri": "https://localhost:8080/",
          "height": 459
        },
        "outputId": "c1c0bd85-eb0f-403b-ac5a-38c2f1b7f807",
        "id": "SDCygbXQKki9"
      },
      "execution_count": null,
      "outputs": [
        {
          "output_type": "display_data",
          "data": {
            "text/plain": [
              "<Figure size 640x480 with 2 Axes>"
            ],
            "image/png": "[encoded data removed]"
          },
          "metadata": {}
        }
      ]
    },
    {
      "cell_type": "markdown",
      "source": [
        "##### **4. `X_train_dv` and `X_test_dv`**"
      ],
      "metadata": {
        "id": "LDGbr8vgJYR6"
      }
    },
    {
      "cell_type": "code",
      "source": [],
      "metadata": {
        "id": "rxUBCW8mJfDS"
      },
      "execution_count": null,
      "outputs": []
    },
    {
      "cell_type": "markdown",
      "source": [
        "##### **Solution**"
      ],
      "metadata": {
        "id": "UC20FwKuJfDT"
      }
    },
    {
      "cell_type": "code",
      "source": [
        "model_dv = LogisticRegression()\n",
        "\n",
        "model_dv.fit(X_train_dv, y_train)\n",
        "\n",
        "pred_dv = model_dv.predict(X_test_dv)\n",
        "\n",
        "print(classification_report(y_test, pred_dv, labels = model_dv.classes_))"
      ],
      "metadata": {
        "colab": {
          "base_uri": "https://localhost:8080/"
        },
        "outputId": "e07e3e8f-b6c2-4877-8670-a065dddbe0e7",
        "id": "kqo-NiGRKxiB"
      },
      "execution_count": null,
      "outputs": [
        {
          "output_type": "stream",
          "name": "stdout",
          "text": [
            "              precision    recall  f1-score   support\n",
            "\n",
            "           0       1.00      0.50      0.67         2\n",
            "           1       0.00      0.00      0.00         0\n",
            "           5       0.00      0.00      0.00         0\n",
            "           6       0.00      0.00      0.00         0\n",
            "           7       0.00      0.00      0.00         1\n",
            "           8       0.50      0.43      0.46         7\n",
            "           9       0.00      0.00      0.00         5\n",
            "          10       0.33      0.47      0.39        17\n",
            "          11       0.47      0.32      0.38        25\n",
            "          12       0.31      0.25      0.28        16\n",
            "          13       0.19      0.31      0.24        13\n",
            "          14       0.00      0.00      0.00        12\n",
            "          15       0.38      0.30      0.33        10\n",
            "          16       0.21      0.33      0.26         9\n",
            "          17       0.12      0.20      0.15         5\n",
            "          18       0.00      0.00      0.00         7\n",
            "          19       0.00      0.00      0.00         1\n",
            "\n",
            "   micro avg       0.27      0.27      0.27       130\n",
            "   macro avg       0.21      0.18      0.19       130\n",
            "weighted avg       0.28      0.27      0.27       130\n",
            "\n"
          ]
        }
      ]
    },
    {
      "cell_type": "code",
      "source": [
        "cm = confusion_matrix(y_test, pred_ohe, labels=model_ohe.classes_)\n",
        "\n",
        "disp = ConfusionMatrixDisplay(confusion_matrix=cm, display_labels=model_ohe.classes_)\n",
        "disp.plot()\n",
        "\n",
        "plt.xticks(rotation = 90)\n",
        "plt.show()"
      ],
      "metadata": {
        "colab": {
          "base_uri": "https://localhost:8080/",
          "height": 459
        },
        "outputId": "9c3d24f5-99c6-4e44-8e9e-bf5c524443aa",
        "id": "B-ckdcGuKxiM"
      },
      "execution_count": null,
      "outputs": [
        {
          "output_type": "display_data",
          "data": {
            "text/plain": [
              "<Figure size 640x480 with 2 Axes>"
            ],
            "image/png": "[encoded data removed]"
          },
          "metadata": {}
        }
      ]
    },
    {
      "cell_type": "markdown",
      "source": [
        "### **Reflection questions**\n",
        "Answer the following questions:\n",
        "\n",
        "1. Which of the four models had the highest performance?\n",
        "\n",
        "2. Which of the four models had the lowest performance?\n",
        "\n",
        "3. How does the highest performing model compare to randomly guessing the grade (from 0 - 19)? **NOTE**: We can use the model's weighted avg f1-score as a comparison."
      ],
      "metadata": {
        "id": "Td0fDPyION-7"
      }
    },
    {
      "cell_type": "markdown",
      "source": [
        "##### **Solution**\n",
        "\n",
        "1. The model trained on one hot encoded data performed the best by a slim margin.\n",
        "\n",
        "2. The model trained on dummy variable encoded data performed worst by a slim margin.\n",
        "\n",
        "3. Randomly guessing out of 20 would give us a 5% chance of getting the correct answer. On the other hand, the best model achieved a 31% chance. Although this may seem like relatively low performing results, they are still 6 times better than if we had no model at all!"
      ],
      "metadata": {
        "id": "7l-tKHEzON-8"
      }
    },
    {
      "cell_type": "markdown",
      "source": [
        "<a name=\"p3\"></a>\n",
        "\n",
        "---\n",
        "## **Part 3: GridSearchCV**\n",
        "---"
      ],
      "metadata": {
        "id": "Wc0iVDLoJBoZ"
      }
    },
    {
      "cell_type": "markdown",
      "source": [
        "#### **Problem #3.1**\n",
        "\n",
        "Run the code below to create and determine the performance of your KNN model for many K values.\n",
        "\n",
        "<br>\n"
      ],
      "metadata": {
        "id": "muOIF3KiJI2t"
      }
    },
    {
      "cell_type": "code",
      "source": [
        "url = \"https://docs.google.com/spreadsheets/d/e/2PACX-1vQgXRAZvBDRckm_Ll_LGXM7NTSHgBmoZA93QUDI6PBP37gMtq98ZNEE6PNf-WwUx1SGWT0diVo8JgGb/pub?gid=23834121&single=true&output=csv\"\n",
        "rainfall_df = pd.read_csv(url)\n",
        "\n",
        "rainfall_df.head()\n",
        "\n",
        "features = rainfall_df[[\"WindSpeed\", \"Temp\"]]\n",
        "label = rainfall_df[\"RainToday\"]\n",
        "\n",
        "X_train, X_test, y_train, y_test = train_test_split(features, label, test_size=0.2, random_state=42)\n",
        "\n",
        "scaler = StandardScaler()\n",
        "scaler.fit(X_train)\n",
        "\n",
        "X_train_scaled = scaler.transform(X_train)\n",
        "X_test_scaled = scaler.transform(X_test)\n",
        "\n",
        "from sklearn.neighbors import KNeighborsClassifier\n",
        "\n",
        "model = KNeighborsClassifier(n_neighbors = 5)\n",
        "model_scaled = KNeighborsClassifier(n_neighbors = 5)\n",
        "\n",
        "model.fit(X_train, y_train)\n",
        "\n",
        "model_scaled.fit(X_train_scaled, y_train)\n",
        "\n",
        "predictions = model.predict(X_test)\n",
        "metrics.accuracy_score(y_test, predictions)\n",
        "\n",
        "predictions_scaled = model_scaled.predict(X_test_scaled)\n",
        "metrics.accuracy_score(y_test, predictions_scaled)\n"
      ],
      "metadata": {
        "colab": {
          "base_uri": "https://localhost:8080/"
        },
        "id": "rx4a-x9NGSN7",
        "outputId": "2052172e-5c08-4db7-a553-7c4ffda32a51"
      },
      "execution_count": null,
      "outputs": [
        {
          "output_type": "execute_result",
          "data": {
            "text/plain": [
              "0.7385385610620465"
            ]
          },
          "metadata": {},
          "execution_count": 3
        }
      ]
    },
    {
      "cell_type": "code",
      "source": [
        "from sklearn.model_selection import GridSearchCV\n",
        "\n",
        "# defining range of ks\n",
        "ks = list(range(1, 50, 2))\n",
        "param_grid = dict(n_neighbors=ks)\n",
        "\n",
        "\n",
        "# creating grid searcher for KNN Classifier\n",
        "knn = KNeighborsClassifier()\n",
        "grid = GridSearchCV(knn, param_grid)\n",
        "\n",
        "\n",
        "# fitting the model for grid search\n",
        "grid_search = grid.fit(X_train, y_train)\n",
        "\n",
        "\n",
        "# looking at the scores for this range\n",
        "print(grid_search.cv_results_['mean_test_score'])\n",
        "\n",
        "\n",
        "# looking at the best k value\n",
        "print(grid_search.best_params_)\n",
        "\n",
        "# plotting results\n",
        "plt.scatter(ks, grid_search.cv_results_['mean_test_score'])\n",
        "\n",
        "plt.title(\"Accuracy vs. K Value\")\n",
        "plt.xlabel(\"K\")\n",
        "plt.ylabel(\"Accuracy\")\n",
        "plt.show()"
      ],
      "metadata": {
        "id": "UAsB8rKBI0NE",
        "colab": {
          "base_uri": "https://localhost:8080/",
          "height": 576
        },
        "outputId": "12141db3-b7ea-4bd5-d654-341fe9b3411d"
      },
      "execution_count": null,
      "outputs": [
        {
          "output_type": "stream",
          "name": "stdout",
          "text": [
            "[0.66942771 0.71762264 0.74259914 0.75414509 0.76078296 0.76549426\n",
            " 0.76763192 0.77013516 0.7717384  0.77334162 0.77415729 0.77466359\n",
            " 0.77540893 0.77563393 0.77550737 0.77581676 0.77615426 0.77618238\n",
            " 0.77616832 0.77654803 0.77674492 0.7765621  0.77682929 0.77649177\n",
            " 0.7767449 ]\n",
            "{'n_neighbors': 45}\n"
          ]
        },
        {
          "output_type": "display_data",
          "data": {
            "text/plain": [
              "<Figure size 640x480 with 1 Axes>"
            ],
            "image/png": "[encoded data removed]"
          },
          "metadata": {}
        }
      ]
    },
    {
      "cell_type": "markdown",
      "source": [
        "#### **Problem #3.2**\n",
        "\n",
        "Using the best K value found above, create a KNN model. Then look at its accuracy. Compare to the previous results."
      ],
      "metadata": {
        "id": "NEG4PIqsJpq5"
      }
    },
    {
      "cell_type": "code",
      "source": [
        "model = KNeighborsClassifier(n_neighbors = #COMPLETE THIS CODE)\n",
        "model.fit(X_train, y_train)\n",
        "\n",
        "predictions = model.predict(X_test)\n",
        "metrics.accuracy_score(y_test, predictions)"
      ],
      "metadata": {
        "id": "82SNiJV8J1Pz"
      },
      "execution_count": null,
      "outputs": []
    },
    {
      "cell_type": "markdown",
      "source": [
        "##### **Solution**"
      ],
      "metadata": {
        "id": "R9IA8g6FLYxJ"
      }
    },
    {
      "cell_type": "code",
      "source": [
        "model = KNeighborsClassifier(n_neighbors = 45)\n",
        "model.fit(X_train, y_train)\n",
        "\n",
        "predictions = model.predict(X_test)\n",
        "metrics.accuracy_score(y_test, predictions)"
      ],
      "metadata": {
        "colab": {
          "base_uri": "https://localhost:8080/"
        },
        "id": "t2CTtBH2LbcF",
        "outputId": "78c1144a-0034-4cf6-f490-77fc72aec196"
      },
      "execution_count": null,
      "outputs": [
        {
          "output_type": "execute_result",
          "data": {
            "text/plain": [
              "0.7745401361309557"
            ]
          },
          "metadata": {},
          "execution_count": 82
        }
      ]
    },
    {
      "cell_type": "markdown",
      "source": [
        "---\n",
        "### **Try Problems #3.3 - 3.4 on your own!**\n",
        "---"
      ],
      "metadata": {
        "id": "o-9dYWRYK7q2"
      }
    },
    {
      "cell_type": "markdown",
      "source": [
        "#### **Problem #3.3**\n",
        "\n",
        "Now, run the code below to perform the same grid search but with the *scaled data*."
      ],
      "metadata": {
        "id": "FTZZ9HRGrbXx"
      }
    },
    {
      "cell_type": "code",
      "source": [
        "from sklearn.model_selection import GridSearchCV\n",
        "\n",
        "# defining range of ks\n",
        "ks = list(range(1, 50, 2))\n",
        "param_grid = dict(n_neighbors=ks)\n",
        "\n",
        "\n",
        "# creating grid searcher for KNN Classifier\n",
        "knn = KNeighborsClassifier()\n",
        "grid = GridSearchCV(knn, param_grid)\n",
        "\n",
        "\n",
        "# fitting the model for grid search\n",
        "grid_search_scaled = grid.fit(X_train_scaled, y_train)\n",
        "\n",
        "\n",
        "# looking at the scores for this range\n",
        "print(grid_search_scaled.cv_results_['mean_test_score'])\n",
        "\n",
        "\n",
        "# looking at the best k value\n",
        "print(grid_search_scaled.best_params_)\n",
        "\n",
        "# plotting results\n",
        "plt.scatter(ks, grid_search_scaled.cv_results_['mean_test_score'])\n",
        "\n",
        "plt.title(\"Accuracy vs. K Value\")\n",
        "plt.xlabel(\"K\")\n",
        "plt.ylabel(\"Accuracy\")\n",
        "plt.show()"
      ],
      "metadata": {
        "colab": {
          "base_uri": "https://localhost:8080/",
          "height": 579
        },
        "id": "n7vgDlNwqg9B",
        "outputId": "d251ec31-75bd-4dc6-9bca-fdb04377d7e2"
      },
      "execution_count": null,
      "outputs": [
        {
          "output_type": "stream",
          "name": "stdout",
          "text": [
            "[0.66830255 0.71646949 0.74326014 0.75458108 0.76010796 0.76528328\n",
            " 0.76777254 0.77038832 0.77190717 0.77280722 0.77415731 0.77483233\n",
            " 0.775648   0.77592925 0.77576051 0.77622459 0.77605582 0.77664648\n",
            " 0.77654803 0.77670274 0.77702619 0.77674492 0.77651991 0.77653396\n",
            " 0.77642145]\n",
            "{'n_neighbors': 41}\n"
          ]
        },
        {
          "output_type": "display_data",
          "data": {
            "text/plain": [
              "<Figure size 640x480 with 1 Axes>"
            ],
            "image/png": "[encoded data removed]"
          },
          "metadata": {}
        }
      ]
    },
    {
      "cell_type": "markdown",
      "source": [
        "#### **Problem #3.4**\n",
        "\n",
        "Using the best K value found above, create a KNN model. Then look at its accuracy. Compare to the previous results."
      ],
      "metadata": {
        "id": "Nwcz2AAerT9V"
      }
    },
    {
      "cell_type": "code",
      "source": [
        "model = KNeighborsClassifier(n_neighbors = #COMPLETE THIS CODE)\n",
        "model.fit(X_train_scaled, y_train)\n",
        "\n",
        "predictions_scaled = model.predict(X_test_scaled)\n",
        "metrics.accuracy_score(y_test, predictions_scaled)"
      ],
      "metadata": {
        "id": "rQONiyKnrT9i"
      },
      "execution_count": null,
      "outputs": []
    },
    {
      "cell_type": "markdown",
      "source": [
        "##### **Solution**"
      ],
      "metadata": {
        "id": "D37nQ3KWrT9i"
      }
    },
    {
      "cell_type": "code",
      "source": [
        "model = KNeighborsClassifier(n_neighbors = 41)\n",
        "model.fit(X_train_scaled, y_train)\n",
        "\n",
        "predictions_scaled = model.predict(X_test_scaled)\n",
        "metrics.accuracy_score(y_test, predictions_scaled)"
      ],
      "metadata": {
        "colab": {
          "base_uri": "https://localhost:8080/"
        },
        "outputId": "377a2c1b-983e-442c-9b91-0821c8388025",
        "id": "Ryy81p9mrT9i"
      },
      "execution_count": null,
      "outputs": [
        {
          "output_type": "execute_result",
          "data": {
            "text/plain": [
              "0.7747651459751365"
            ]
          },
          "metadata": {},
          "execution_count": 84
        }
      ]
    },
    {
      "cell_type": "markdown",
      "metadata": {
        "id": "K4jGMPNPYWEF"
      },
      "source": [
        "<a name=\"p4\"></a>\n",
        "\n",
        "---\n",
        "## **Part 4: K-Folds**\n",
        "---\n",
        "\n",
        "In this section, we will explore how to use K-Folds to evaluate and compare models before deciding on the final model we will use. Only once we have selected our final model should we evaluate it on the test set.\n",
        "\n",
        "In particular, we will use K-Folds Cross Validation to determine the best model for several datasets."
      ]
    },
    {
      "cell_type": "markdown",
      "source": [
        "#### **Problem #4.1**\n",
        "\n",
        "To start, let's train and evaluate a 5NN model on the Iris dataset as usual. This is *bad practice*, but will help motivate why we should use cross validation."
      ],
      "metadata": {
        "id": "cogaXgg3Q5VY"
      }
    },
    {
      "cell_type": "code",
      "source": [
        "iris = load_iris()\n",
        "\n",
        "features = iris.data\n",
        "label = iris.target\n",
        "\n",
        "X_train, X_test, y_train, y_test = sklearn.model_selection.train_test_split(features, label, test_size=0.2, random_state=42)\n",
        "\n",
        "scaler = StandardScaler()\n",
        "X_train = scaler.fit_transform(X_train)\n",
        "X_test = scaler.transform(X_test)"
      ],
      "metadata": {
        "id": "2FJoen-OUOFP"
      },
      "execution_count": null,
      "outputs": []
    },
    {
      "cell_type": "code",
      "source": [
        "knn_5 = KNeighborsClassifier(n_neighbors = # COMPLETE THIS LINE\n",
        "\n",
        "knn_5.fit(# COMPLETE THIS LINE\n",
        "\n",
        "pred = knn_5.predict(# COMPLETE THIS LINE\n",
        "\n",
        "print(classification_report(# COMPLETE THIS LINE"
      ],
      "metadata": {
        "id": "JMBI1bI6UOFb"
      },
      "execution_count": null,
      "outputs": []
    },
    {
      "cell_type": "markdown",
      "source": [
        "##### **Solution**"
      ],
      "metadata": {
        "id": "91lntbDvUMFh"
      }
    },
    {
      "cell_type": "code",
      "source": [
        "iris = load_iris()\n",
        "\n",
        "features = iris.data\n",
        "label = iris.target\n",
        "\n",
        "X_train, X_test, y_train, y_test = sklearn.model_selection.train_test_split(features, label, test_size=0.2, random_state=42)\n",
        "\n",
        "scaler = StandardScaler()\n",
        "X_train = scaler.fit_transform(X_train)\n",
        "X_test = scaler.transform(X_test)"
      ],
      "metadata": {
        "id": "gdLEfGfURA8l"
      },
      "execution_count": null,
      "outputs": []
    },
    {
      "cell_type": "code",
      "source": [
        "knn_5 = KNeighborsClassifier(n_neighbors = 5)\n",
        "\n",
        "knn_5.fit(X_train, y_train)\n",
        "\n",
        "pred = knn_5.predict(X_test)\n",
        "\n",
        "print(classification_report(y_test, pred))"
      ],
      "metadata": {
        "colab": {
          "base_uri": "https://localhost:8080/"
        },
        "id": "N72XcGMyRPr0",
        "outputId": "62097e4d-f68c-4b44-b35c-9141b4574bbf"
      },
      "execution_count": null,
      "outputs": [
        {
          "output_type": "stream",
          "name": "stdout",
          "text": [
            "              precision    recall  f1-score   support\n",
            "\n",
            "           0       1.00      1.00      1.00        10\n",
            "           1       1.00      1.00      1.00         9\n",
            "           2       1.00      1.00      1.00        11\n",
            "\n",
            "    accuracy                           1.00        30\n",
            "   macro avg       1.00      1.00      1.00        30\n",
            "weighted avg       1.00      1.00      1.00        30\n",
            "\n"
          ]
        }
      ]
    },
    {
      "cell_type": "markdown",
      "source": [
        "#### **Problem #4.2**\n",
        "\n",
        "Now, let's take the proper and more insightful approach: evaluating the model using K-Folds Cross Validation. Complete the code below to evaluate a 5NN model using 10-Folds Cross Validation."
      ],
      "metadata": {
        "id": "qNQCuzYCUKuU"
      }
    },
    {
      "cell_type": "code",
      "source": [
        "knn_5 = KNeighborsClassifier(n_neighbors = 5)\n",
        "\n",
        "scores_5 = cross_val_score(knn_5, X_train, y_train, cv = # COMPLETE THIS LINE\n",
        "print(\"10-Folds CV Scores: \" + str(scores_5.mean()) + \" +/- \" + str(scores_5.std()))"
      ],
      "metadata": {
        "id": "blo0EzUvVIFo"
      },
      "execution_count": null,
      "outputs": []
    },
    {
      "cell_type": "markdown",
      "source": [
        "##### **Solution**"
      ],
      "metadata": {
        "id": "jYJWjvAjVI3h"
      }
    },
    {
      "cell_type": "code",
      "source": [
        "knn_5 = KNeighborsClassifier(n_neighbors = 5)\n",
        "\n",
        "scores_5 = cross_val_score(knn_5, X_train, y_train, cv=10)\n",
        "print(\"10-Folds CV Scores: \" + str(scores_5.mean()) + \" +/- \" + str(scores_5.std()))"
      ],
      "metadata": {
        "colab": {
          "base_uri": "https://localhost:8080/"
        },
        "id": "PhZHIJ_rRli8",
        "outputId": "538f19bb-8b63-4cb4-bea7-28e9af33812b"
      },
      "execution_count": null,
      "outputs": [
        {
          "output_type": "stream",
          "name": "stdout",
          "text": [
            "10-Folds CV Scores: 0.9333333333333333 +/- 0.07264831572567787\n"
          ]
        }
      ]
    },
    {
      "cell_type": "markdown",
      "source": [
        "#### **Visualize the scores by running the cell below.**"
      ],
      "metadata": {
        "id": "_Ww2gbWnVOEz"
      }
    },
    {
      "cell_type": "code",
      "source": [
        "plt.plot(scores_5, label = '5NN')\n",
        "plt.plot([scores_5.mean() for i in range(10)], label = 'average')\n",
        "\n",
        "plt.xlabel('Fold')\n",
        "plt.ylabel('Accuracy')\n",
        "plt.legend()\n",
        "\n",
        "plt.show()"
      ],
      "metadata": {
        "colab": {
          "base_uri": "https://localhost:8080/",
          "height": 449
        },
        "id": "MyVEIW62SBA1",
        "outputId": "780d7237-20e0-4d74-9eb9-a9bdd8d03a69"
      },
      "execution_count": null,
      "outputs": [
        {
          "output_type": "display_data",
          "data": {
            "text/plain": [
              "<Figure size 640x480 with 1 Axes>"
            ],
            "image/png": "[encoded data removed]"
          },
          "metadata": {}
        }
      ]
    },
    {
      "cell_type": "markdown",
      "source": [
        "#### **Problem #4.3**\n",
        "\n",
        "Now, use 10-Folds Cross Validation to evaluate and compare to the following models:\n",
        "1. 1NN\n",
        "2. 11NN (**NOTE**: $\\sqrt{\\text{length of training data}} \\approx 11$)\n",
        "3. 99NN\n",
        "4. Logistic Regression\n",
        "\n",
        "<br>\n",
        "\n",
        "**NOTE**: There is code at the end that will visualize all of these results together.\n"
      ],
      "metadata": {
        "id": "RwQj_FpxVVPR"
      }
    },
    {
      "cell_type": "markdown",
      "source": [
        "#### **1. 1NN**"
      ],
      "metadata": {
        "id": "M37J6c2uV5WI"
      }
    },
    {
      "cell_type": "code",
      "source": [
        "knn_1 = KNeighborsClassifier(# COMPLETE THIS LINE\n",
        "\n",
        "scores_1 = cross_val_score(# COMPLETE THIS LINE\n",
        "print(\"10-Folds CV Scores: \" + str(scores_1.mean()) + \" +/- \" + str(scores_1.std()))"
      ],
      "metadata": {
        "id": "zbnadEPuVVPR"
      },
      "execution_count": null,
      "outputs": []
    },
    {
      "cell_type": "markdown",
      "source": [
        "##### **Solution**"
      ],
      "metadata": {
        "id": "ggNuwVQ2VVPS"
      }
    },
    {
      "cell_type": "code",
      "source": [
        "knn_1 = KNeighborsClassifier(n_neighbors = 1)\n",
        "\n",
        "scores_1 = cross_val_score(knn_1, X_train, y_train, cv=10)\n",
        "print(\"10-Folds CV Scores: \" + str(scores_1.mean()) + \" +/- \" + str(scores_1.std()))"
      ],
      "metadata": {
        "colab": {
          "base_uri": "https://localhost:8080/"
        },
        "outputId": "f02661a8-3723-4cf6-8b8f-88126331bbf6",
        "id": "umPVHb_HVVPS"
      },
      "execution_count": null,
      "outputs": [
        {
          "output_type": "stream",
          "name": "stdout",
          "text": [
            "10-Folds CV Scores: 0.9416666666666667 +/- 0.08374896350934075\n"
          ]
        }
      ]
    },
    {
      "cell_type": "markdown",
      "source": [
        "#### **2. 11NN (**NOTE**: $\\sqrt{\\text{length of training data}} \\approx 11$)**"
      ],
      "metadata": {
        "id": "_hI7TFXtV--B"
      }
    },
    {
      "cell_type": "code",
      "source": [
        "knn_11 = # COMPLETE THIS LINE\n",
        "\n",
        "# COMPLETE THIS CODE"
      ],
      "metadata": {
        "id": "EjxzPIpgWee2"
      },
      "execution_count": null,
      "outputs": []
    },
    {
      "cell_type": "markdown",
      "source": [
        "##### **Solution**"
      ],
      "metadata": {
        "id": "q04NXggoWefC"
      }
    },
    {
      "cell_type": "code",
      "source": [
        "knn_11 = KNeighborsClassifier(n_neighbors = 11)\n",
        "\n",
        "scores_11 = cross_val_score(knn_11, X_train, y_train, cv=10)\n",
        "print(\"10-Folds CV Scores: \" + str(scores_11.mean()) + \" +/- \" + str(scores_11.std()))"
      ],
      "metadata": {
        "colab": {
          "base_uri": "https://localhost:8080/"
        },
        "outputId": "761fe61b-4bae-47e3-fb84-1ab758d0f245",
        "id": "ldHZqxc0WefC"
      },
      "execution_count": null,
      "outputs": [
        {
          "output_type": "stream",
          "name": "stdout",
          "text": [
            "10-Folds CV Scores: 0.9583333333333333 +/- 0.05590169943749474\n"
          ]
        }
      ]
    },
    {
      "cell_type": "markdown",
      "source": [
        "#### **3. 99NN**"
      ],
      "metadata": {
        "id": "m7Eil1tOWFCF"
      }
    },
    {
      "cell_type": "code",
      "source": [
        "knn_99 = # COMPLETE THIS LINE\n",
        "\n",
        "# COMPLETE THIS CODE"
      ],
      "metadata": {
        "id": "QenmHDIPW8Bq"
      },
      "execution_count": null,
      "outputs": []
    },
    {
      "cell_type": "markdown",
      "source": [
        "##### **Solution**"
      ],
      "metadata": {
        "id": "JH5UhOcSW8B2"
      }
    },
    {
      "cell_type": "code",
      "source": [
        "knn_99 = KNeighborsClassifier(n_neighbors = 99)\n",
        "\n",
        "scores_99 = cross_val_score(knn_99, X_train, y_train, cv=10)\n",
        "print(\"10-Folds CV Scores: \" + str(scores_99.mean()) + \" +/- \" + str(scores_99.std()))"
      ],
      "metadata": {
        "colab": {
          "base_uri": "https://localhost:8080/"
        },
        "outputId": "08232e36-826b-44b6-aa43-b50d0307b639",
        "id": "3Jo-Y4cqW8B2"
      },
      "execution_count": null,
      "outputs": [
        {
          "output_type": "stream",
          "name": "stdout",
          "text": [
            "10-Folds CV Scores: 0.4 +/- 0.08975274678557509\n"
          ]
        }
      ]
    },
    {
      "cell_type": "markdown",
      "source": [
        "#### **4. Logistic Regression**"
      ],
      "metadata": {
        "id": "cCTC9HWuWGl7"
      }
    },
    {
      "cell_type": "code",
      "source": [
        "log = # COMPLETE THIS LINE\n",
        "\n",
        "# COMPLETE THIS CODE"
      ],
      "metadata": {
        "id": "lYg9lpVGXC2S"
      },
      "execution_count": null,
      "outputs": []
    },
    {
      "cell_type": "markdown",
      "source": [
        "##### **Solution**"
      ],
      "metadata": {
        "id": "reh83vQxXC2S"
      }
    },
    {
      "cell_type": "code",
      "source": [
        "log = LogisticRegression()\n",
        "\n",
        "scores_log = cross_val_score(log, X_train, y_train, cv=10)\n",
        "print(\"10-Folds CV Scores: \" + str(scores_log.mean()) + \" +/- \" + str(scores_log.std()))"
      ],
      "metadata": {
        "colab": {
          "base_uri": "https://localhost:8080/"
        },
        "outputId": "6de290ab-a103-465b-e9d7-400eaf9062b7",
        "id": "4ToQr74MXC2T"
      },
      "execution_count": null,
      "outputs": [
        {
          "output_type": "stream",
          "name": "stdout",
          "text": [
            "10-Folds CV Scores: 0.9333333333333332 +/- 0.10408329997330665\n"
          ]
        }
      ]
    },
    {
      "cell_type": "markdown",
      "source": [
        "#### **Visualize the scores by running the cell below.**"
      ],
      "metadata": {
        "id": "rczz1JAsVVPS"
      }
    },
    {
      "cell_type": "code",
      "source": [
        "plt.plot(scores_1, label = '1NN')\n",
        "plt.plot(scores_5, label = '5NN')\n",
        "plt.plot(scores_11, label = '11NN')\n",
        "plt.plot(scores_99, label = '99NN')\n",
        "plt.plot(scores_log, label = 'Logistic Regression')\n",
        "\n",
        "plt.xlabel('Fold')\n",
        "plt.ylabel('Accuracy')\n",
        "plt.legend()\n",
        "\n",
        "plt.show()"
      ],
      "metadata": {
        "colab": {
          "base_uri": "https://localhost:8080/",
          "height": 449
        },
        "outputId": "621372c8-81af-4771-e8b8-2c59a7a01690",
        "id": "hb1UMa1FVVPS"
      },
      "execution_count": null,
      "outputs": [
        {
          "output_type": "display_data",
          "data": {
            "text/plain": [
              "<Figure size 640x480 with 1 Axes>"
            ],
            "image/png": "[encoded data removed]"
          },
          "metadata": {}
        }
      ]
    },
    {
      "cell_type": "markdown",
      "source": [
        "#### **Problem #4.4**\n",
        "\n",
        "Assuming we do not plan to try out any other models, we can safely train our final model and evaluate it on the test set. Consider the average, standard deviation, and individual scores we visualized to pick one of the models from above and:\n",
        "* Train it on the entire training set.\n",
        "* Evaluate it on the test set with a classification report.\n"
      ],
      "metadata": {
        "id": "3fecx0jaX0bT"
      }
    },
    {
      "cell_type": "code",
      "source": [],
      "metadata": {
        "id": "6D1RoOmymV9W"
      },
      "execution_count": null,
      "outputs": []
    },
    {
      "cell_type": "markdown",
      "source": [
        "##### **Solution**"
      ],
      "metadata": {
        "id": "et7pLNSsmWQM"
      }
    },
    {
      "cell_type": "code",
      "source": [
        "model = KNeighborsClassifier(n_neighbors = 11)\n",
        "\n",
        "model.fit(X_train, y_train)\n",
        "\n",
        "pred = model.predict(X_test)\n",
        "\n",
        "print(classification_report(y_test, pred))"
      ],
      "metadata": {
        "colab": {
          "base_uri": "https://localhost:8080/"
        },
        "id": "9zpy4QTEYaPg",
        "outputId": "bf56fdd1-54a3-4fca-e127-4175a0fa0ad1"
      },
      "execution_count": null,
      "outputs": [
        {
          "output_type": "stream",
          "name": "stdout",
          "text": [
            "              precision    recall  f1-score   support\n",
            "\n",
            "           0       1.00      1.00      1.00        10\n",
            "           1       1.00      1.00      1.00         9\n",
            "           2       1.00      1.00      1.00        11\n",
            "\n",
            "    accuracy                           1.00        30\n",
            "   macro avg       1.00      1.00      1.00        30\n",
            "weighted avg       1.00      1.00      1.00        30\n",
            "\n"
          ]
        }
      ]
    },
    {
      "cell_type": "markdown",
      "source": [
        "### **Reflection questions**\n",
        "Answer the following questions:\n",
        "\n",
        "1. Which of the five models had the highest performance during cross validation?\n",
        "\n",
        "2. Which of the five models had the lowest performance during cross validation?\n",
        "\n",
        "3. How do the top performing model's cross validation metrics compare to the test metrics? In other words, how does this model perform in Problem #3.3 versus #3.4?"
      ],
      "metadata": {
        "id": "lLpAXtV5Xs20"
      }
    },
    {
      "cell_type": "markdown",
      "source": [
        "#### **Solution**\n",
        "\n",
        "1. The 11NN model had the highest performance during cross validation.\n",
        "\n",
        "2. The 99NN mode had the worst performance by far during the cross validation.\n",
        "\n",
        "3. The 11NN model had an accuracy of roughly 0.9583 +/- 0.056 during cross validation, but 1.0 accuracy (and all other metrics) during testing. This is a great example of how much more insight cross validation can provide. It is often a much needed reality check and a number that will gain much more respect from the community than just the test metrics."
      ],
      "metadata": {
        "id": "GRgg2Vv3Xs2_"
      }
    },
    {
      "cell_type": "markdown",
      "metadata": {
        "id": "Ivwj6LpqbD78"
      },
      "source": [
        "<a name=\"p5\"></a>\n",
        "\n",
        "---\n",
        "## **Part 5: Regularization**\n",
        "---\n",
        "\n",
        "In this section, we will see how regularization can affect model performance. Regularization attempts to reduce overfitting by trying to make the coefficients as small as possible. This is done through a \"penalty term\" that needs to be made as small as possible during training in addition to finding a good fit for the training data.\n",
        "\n",
        "We will use the techniques we have learned throughout this notebook to properly compare logistic regression models using three of the regularization or `penalty` options provided by sklearn:\n",
        "\n",
        "* `None`: no penalty is added.\n",
        "* `'l2'` (Ridge): add a L2 penalty term and it is the default choice. (This equals $\\text{coefficient}_1^2 + \\text{coefficient}_2^2 + \\text{coefficient}_3^2 + ...$.)\n",
        "* `'l1'` (Lasso): add a L1 penalty term. (This equals $|\\text{coefficient}_1| + |\\text{coefficient}_2| + |\\text{coefficient}_3| + ...$.)\n",
        "\n",
        "\n",
        "\n",
        "<br>\n",
        "\n",
        "In particular, we will attempt to find the best possible model for detecting breast cancer based on the [UCI ML Breast Cancer Wisconsin (Diagnostic) dataset](https://archive.ics.uci.edu/ml/datasets/breast+cancer+wisconsin+(diagnostic)). The dataset contains mammography exam results and whether or not cancer was detected."
      ]
    },
    {
      "cell_type": "code",
      "source": [
        "cancer_dataset = datasets.load_breast_cancer()\n",
        "cancer_df = pd.DataFrame(data=cancer_dataset.data, columns=cancer_dataset.feature_names)\n",
        "cancer_df['TARGET'] = cancer_dataset.target\n",
        "\n",
        "features = cancer_df[[\"mean radius\",\"mean texture\"]].values\n",
        "label = cancer_df[[\"TARGET\"]].values\n",
        "\n",
        "X_train, X_test, y_train, y_test = train_test_split(features, label, test_size=0.2, random_state=42)\n",
        "\n",
        "scaler = StandardScaler()\n",
        "X_train = scaler.fit_transform(X_train)\n",
        "X_test = scaler.transform(X_test)"
      ],
      "metadata": {
        "id": "PLb1I2XmcX-K"
      },
      "execution_count": null,
      "outputs": []
    },
    {
      "cell_type": "markdown",
      "source": [
        "#### **Problem #5.1**\n",
        "\n",
        "Let's use 10-Folds Cross Validation to evaluate and compare to the following models:\n",
        "1. Logistic Regression with `penalty = None`.\n",
        "2. Logistic Regression with `penalty = 'l2'`.\n",
        "3. Logistic Regression with `penalty = 'l1'`.\n",
        "\n",
        "<br>\n",
        "\n",
        "**NOTE**: There is code at the end that will visualize all of these results together.\n"
      ],
      "metadata": {
        "id": "YtO-sIpbcM8V"
      }
    },
    {
      "cell_type": "markdown",
      "source": [
        "##### **1. Logistic Regression with `penalty = None`.**\n",
        "\n",
        "**NOTE**: There are different \"solvers\" available to find the best logistic function. We will specify `solver = 'saga'` since this one works with all penalties available. You can read more in the [sklearn Logistic Regression documentation](https://scikit-learn.org/stable/modules/generated/sklearn.linear_model.LogisticRegression.html) if you would like.\n",
        "\n",
        "<br>\n",
        "\n",
        "**Run the code below to accomplish this task.**"
      ],
      "metadata": {
        "id": "2GfrrfNIcM8f"
      }
    },
    {
      "cell_type": "code",
      "source": [
        "model_none = LogisticRegression(solver = 'saga', penalty = None)\n",
        "\n",
        "scores_none = cross_val_score(model_none, X_train, y_train, cv=10)\n",
        "print(\"10-Folds CV Scores: \" + str(scores_none.mean()) + \" +/- \" + str(scores_none.std()))"
      ],
      "metadata": {
        "colab": {
          "base_uri": "https://localhost:8080/"
        },
        "outputId": "c06f44f7-6d31-4229-b6ab-3c87f00c04f5",
        "id": "HAHGapZycM8g"
      },
      "execution_count": null,
      "outputs": [
        {
          "output_type": "stream",
          "name": "stdout",
          "text": [
            "10-Folds CV Scores: 0.8833816425120773 +/- 0.04882344629880826\n"
          ]
        }
      ]
    },
    {
      "cell_type": "markdown",
      "source": [
        "##### **2. Logistic Regression with `penalty = 'l2'`.**\n",
        "\n",
        "**NOTE**: This is the default."
      ],
      "metadata": {
        "id": "k-Vw-k1NcM8g"
      }
    },
    {
      "cell_type": "code",
      "source": [
        "model_l2 = # COMPLETE THIS CODE"
      ],
      "metadata": {
        "id": "EXl0UCGpcM8g"
      },
      "execution_count": null,
      "outputs": []
    },
    {
      "cell_type": "markdown",
      "source": [
        "##### **Solution**"
      ],
      "metadata": {
        "id": "mfTTcVgWcM8g"
      }
    },
    {
      "cell_type": "code",
      "source": [
        "model_l2 = LogisticRegression(solver = 'saga', penalty = 'l2')\n",
        "\n",
        "scores_l2 = cross_val_score(model_l2, X_train, y_train, cv=10)\n",
        "print(\"10-Folds CV Scores: \" + str(scores_l2.mean()) + \" +/- \" + str(scores_l2.std()))"
      ],
      "metadata": {
        "colab": {
          "base_uri": "https://localhost:8080/"
        },
        "outputId": "4eb806fe-2a4f-4612-bf69-74b7ecef2ac0",
        "id": "sRfBTK0ycM8g"
      },
      "execution_count": null,
      "outputs": [
        {
          "output_type": "stream",
          "name": "stdout",
          "text": [
            "10-Folds CV Scores: 0.8855555555555557 +/- 0.05147566853811395\n"
          ]
        }
      ]
    },
    {
      "cell_type": "markdown",
      "source": [
        "##### **3. Logistic Regression with `penalty = 'l1'`.**"
      ],
      "metadata": {
        "id": "k2fSA-p4cM8g"
      }
    },
    {
      "cell_type": "code",
      "source": [
        "model_l1 = # COMPLETE THIS LINE\n",
        "\n",
        "# COMPLETE THIS CODE"
      ],
      "metadata": {
        "id": "QH9JsK_DcM8g"
      },
      "execution_count": null,
      "outputs": []
    },
    {
      "cell_type": "markdown",
      "source": [
        "##### **Solution**"
      ],
      "metadata": {
        "id": "lN7Lam-ZcM8g"
      }
    },
    {
      "cell_type": "code",
      "source": [
        "model_l1 = LogisticRegression(solver = 'saga', penalty = 'l1')\n",
        "\n",
        "scores_l1 = cross_val_score(model_l1, X_train, y_train, cv=10)\n",
        "print(\"10-Folds CV Scores: \" + str(scores_l1.mean()) + \" +/- \" + str(scores_l1.std()))"
      ],
      "metadata": {
        "colab": {
          "base_uri": "https://localhost:8080/"
        },
        "outputId": "505f503c-c7d0-4d02-d194-2ff2dd2403a4",
        "id": "2kjwv--dcM8g"
      },
      "execution_count": null,
      "outputs": [
        {
          "output_type": "stream",
          "name": "stdout",
          "text": [
            "10-Folds CV Scores: 0.8833816425120773 +/- 0.04882344629880826\n"
          ]
        }
      ]
    },
    {
      "cell_type": "markdown",
      "source": [
        "##### **Visualize the scores by running the cell below.**"
      ],
      "metadata": {
        "id": "RFKJaFb0cM8h"
      }
    },
    {
      "cell_type": "code",
      "source": [
        "model_none = LogisticRegression(solver = 'saga', penalty = None)\n",
        "model_l2 = LogisticRegression(solver = 'saga', penalty = 'l2')\n",
        "model_l1 = LogisticRegression(solver = 'saga', penalty = 'l1')\n",
        "\n",
        "model_none.fit(X_train, y_train)\n",
        "model_l2.fit(X_train, y_train)\n",
        "model_l1.fit(X_train, y_train)\n",
        "\n",
        "model_none_params = [str(round(model_none.coef_[0][0], 2)), str(round(model_none.coef_[0][1], 2)), str(round(model_none.intercept_[0], 2))]\n",
        "model_l2_params = [str(round(model_l2.coef_[0][0], 2)), str(round(model_l2.coef_[0][1], 2)), str(round(model_l2.intercept_[0], 2))]\n",
        "model_l1_params = [str(round(model_l1.coef_[0][0], 2)), str(round(model_l1.coef_[0][1], 2)), str(round(model_l1.intercept_[0], 2))]\n",
        "\n",
        "plt.plot(scores_none, label = 'No penalty: ' + model_none_params[0] + '*mean radius + ' + model_none_params[1] + '*mean texture + ' + model_none_params[2])\n",
        "plt.plot(scores_l2, label = 'L2 penalty/Ridge: ' + model_l2_params[0] + '*mean radius + ' + model_l2_params[1] + '*mean texture + ' + model_l2_params[2])\n",
        "plt.plot(scores_l1, label = 'L1 penalty/Lasso: ' + model_l1_params[0] + '*mean radius + ' + model_l1_params[1] + '*mean texture + ' + model_l1_params[2])\n",
        "\n",
        "plt.xlabel('Fold')\n",
        "plt.ylabel('Accuracy')\n",
        "plt.legend(bbox_to_anchor=(1.1, 1.05))\n",
        "\n",
        "plt.show()"
      ],
      "metadata": {
        "colab": {
          "base_uri": "https://localhost:8080/",
          "height": 418
        },
        "outputId": "4c721e9d-f237-411f-c654-dc391fc96303",
        "id": "7YwynrarcM8h"
      },
      "execution_count": null,
      "outputs": [
        {
          "output_type": "display_data",
          "data": {
            "text/plain": [
              "<Figure size 640x480 with 1 Axes>"
            ],
            "image/png": "[encoded data removed]"
          },
          "metadata": {}
        }
      ]
    },
    {
      "cell_type": "markdown",
      "source": [
        "#### **Problem #5.2**\n",
        "\n",
        "Consider the average, standard deviation, and individual scores we visualized to pick one of the models from above and evaluate it on the test set with a classification report."
      ],
      "metadata": {
        "id": "If4mKhASmP9G"
      }
    },
    {
      "cell_type": "code",
      "source": [],
      "metadata": {
        "id": "LGrFj5udmZqG"
      },
      "execution_count": null,
      "outputs": []
    },
    {
      "cell_type": "markdown",
      "source": [
        "##### **Solution**\n",
        "\n",
        "**NOTE**: No penalty and L2 were very close, so really either would be fine here. However, L2 is generally preferable (which is why it's the default)."
      ],
      "metadata": {
        "id": "s4p05SIKmZ-r"
      }
    },
    {
      "cell_type": "code",
      "source": [
        "pred = model_l2.predict(X_test)\n",
        "\n",
        "print(classification_report(y_test, pred))"
      ],
      "metadata": {
        "colab": {
          "base_uri": "https://localhost:8080/"
        },
        "outputId": "502fd863-6eea-453b-d8d0-24a700214f4c",
        "id": "XWBqE13YmP9H"
      },
      "execution_count": null,
      "outputs": [
        {
          "output_type": "stream",
          "name": "stdout",
          "text": [
            "              precision    recall  f1-score   support\n",
            "\n",
            "           0       0.90      0.84      0.87        43\n",
            "           1       0.91      0.94      0.92        71\n",
            "\n",
            "    accuracy                           0.90       114\n",
            "   macro avg       0.90      0.89      0.90       114\n",
            "weighted avg       0.90      0.90      0.90       114\n",
            "\n"
          ]
        }
      ]
    },
    {
      "cell_type": "markdown",
      "source": [
        "#### **Reflection questions**\n",
        "Answer the following questions:\n",
        "\n",
        "1. Which of the three models had the highest performance during cross validation?\n",
        "\n",
        "2. Which of the three models had the lowest performance during cross validation?\n",
        "\n",
        "3. How do the top performing model's cross validation metrics compare to the test metrics?"
      ],
      "metadata": {
        "id": "f7n-YNEomP9H"
      }
    },
    {
      "cell_type": "markdown",
      "source": [
        "##### **Solution**\n",
        "\n",
        "1. The L2 and no penalty models performed nearly identical, so it's hard to say. On the one hand, L2 is considered the go to choice because smaller coefficients are preferable. However, the no penalty model's cross validation metrics had a smaller standard deviation, meaning that they were slightly more consistent.\n",
        "\n",
        "2. The L1 penalty model performed slightly worse than the others.\n",
        "\n",
        "3. The 11NN model had an accuracy of roughly 0.887 +/- 0.071 during cross validation, but .90 accuracy during testing. This should give some confidence that the model will perform at around this level, but generally it'd be safer to consider it as roughly 88% rather than 90%."
      ],
      "metadata": {
        "id": "tCrv2LZmmP9H"
      }
    },
    {
      "cell_type": "markdown",
      "metadata": {
        "id": "7dzC09dLlEhm"
      },
      "source": [
        "---\n",
        "#End of Notebook\n",
        "\n",
        "© 2023 The Coding School, All rights reserved"
      ]
    }
  ]
}