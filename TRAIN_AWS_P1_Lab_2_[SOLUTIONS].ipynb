{
  "nbformat": 4,
  "nbformat_minor": 0,
  "metadata": {
    "colab": {
      "provenance": [],
      "collapsed_sections": [
        "VRWhnEk5XMJZ",
        "sm13t4Yh_9hA"
      ],
      "include_colab_link": true
    },
    "kernelspec": {
      "name": "python3",
      "display_name": "Python 3"
    },
    "language_info": {
      "name": "python"
    }
  },
  "cells": [
    {
      "cell_type": "markdown",
      "metadata": {
        "id": "view-in-github",
        "colab_type": "text"
      },
      "source": [
        "<a href=\"https://colab.research.google.com/github/zmy2338/Machine-Learning-AWS/blob/main/TRAIN_AWS_P1_Lab_2_%5BSOLUTIONS%5D.ipynb\" target=\"_parent\"><img src=\"https://colab.research.google.com/assets/colab-badge.svg\" alt=\"Open In Colab\"/></a>"
      ]
    },
    {
      "cell_type": "markdown",
      "source": [
        "# **Lab #2: Exploratory Data Analysis (EDA)**\n",
        "---\n",
        "**Description:**  Exploratory Data Analysis (EDA) is a crucial step in the data analysis process that involves exploring and understanding the data to gain insights, identify patterns, and detect anomalies. EDA allows us to understand the underlying structure of the data, test assumptions, and prepare the data for further analysis. This lab will provide practice utilizing basic Pandas commands to explore different datasets, utilizing rows, columns and calculating the mean, median and sum, as part of the EDA process.\n",
        "<br>\n",
        "\n",
        "\n",
        "**Lab Structure:**\n",
        "\n",
        "**Part 1**: [Review: Basic Pandas Commands](#p1)\n",
        "\n",
        "\n",
        "> **Part 1.1**: [Review: Exploring rows and columns](#p1.1)\n",
        "\n",
        "**Part 1.2**: [[Additional Practice] Exploratory Data Analysis (EDA) with Gapminder Data](#p4)\n",
        "\n",
        "**Part 2**: [Data Cleaning Practice](#p2)\n",
        "\n",
        "**Part 3**: [[OPTIONAL] Data Cleaning Practice](#p3)\n",
        "\n",
        "\n",
        "</br>\n",
        "\n",
        "\n",
        "**Goals:** By the end of this lab, you will:\n",
        "* Be able to use basic Pandas commands.\n",
        "* Be able to explore basic information about datasets.\n",
        "* Know how to explore columns, rows, values, outliers, and more.\n",
        "* Be able to remove missing values, or incorrect values.\n",
        "* Practice data cleaning on real-world datasets.\n",
        "\n",
        "</br> \n",
        "\n",
        "### **Cheat Sheets**\n",
        "[EDA cheatsheet](https://drive.google.com/file/d/1ZZnIzgcT8dYcGwWVAR9DDFIwGXTGbIiU/view?usp=sharing)\n",
        "\n",
        "[Pandas cheatsheet](https://docs.google.com/document/d/1v-MZCgoZJGRcK-69OOu5fYhm58x2G0JUWyi2H53j8Ls/edit)"
      ],
      "metadata": {
        "id": "VmbS0drqZVLW"
      }
    },
    {
      "cell_type": "markdown",
      "source": [
        "<a name=\"p1\"></a>\n",
        "## **Part 1: Reviewing Basic Pandas Commands**\n",
        "\n",
        "---\n",
        "Let's practice a few of the Pandas commands we learned in the previous lab. \n",
        "\n",
        "**About the dataset:** The dataset is a small example dataset containing information about 5 individuals, including their name, age, gender, country of residence, and salary. \n",
        "\n",
        "**Run the code below to create a dictionary of sample data.**"
      ],
      "metadata": {
        "id": "zAgv0uKdER-t"
      }
    },
    {
      "cell_type": "code",
      "source": [
        " # import pandas as pd \n",
        "import pandas as pd\n",
        "\n",
        "# Create a dictionary of sample data\n",
        "data = {'Name': ['Alice', 'Bob', 'Charlie', 'David', 'Emily'],\n",
        "        'Age': [25, 30, 35, 40, 45],\n",
        "        'Gender': ['Female', 'Male', 'Male', 'Male', 'Female'],\n",
        "        'Country': ['USA', 'Canada', 'UK', 'Australia', 'USA'],\n",
        "        'Salary': [50000, 60000, 70000, 80000, 90000]}\n",
        "\n",
        "# Create a Pandas dataframe from the dictionary\n",
        "df = pd.DataFrame(data)"
      ],
      "metadata": {
        "id": "ErPYLC7IFOR9"
      },
      "execution_count": null,
      "outputs": []
    },
    {
      "cell_type": "markdown",
      "source": [
        "### **Exercise #1:** Print the first 5 rows of the dataframe.\n"
      ],
      "metadata": {
        "id": "bSmXNl8cFREu"
      }
    },
    {
      "cell_type": "code",
      "source": [
        "# Print the first 5 rows of the dataframe\n"
      ],
      "metadata": {
        "id": "Wuy7XXyXFa2j"
      },
      "execution_count": null,
      "outputs": []
    },
    {
      "cell_type": "markdown",
      "source": [
        "#### **Solution**"
      ],
      "metadata": {
        "id": "RqfNL2KRFbkP"
      }
    },
    {
      "cell_type": "code",
      "source": [
        "# Print the first 5 rows of the dataframe\n",
        "print(df.head())"
      ],
      "metadata": {
        "id": "Hgl6aQDHFZi5"
      },
      "execution_count": null,
      "outputs": []
    },
    {
      "cell_type": "markdown",
      "source": [
        "### **Exercise #2:** Print the column headers."
      ],
      "metadata": {
        "id": "BUmrUc0EFcxY"
      }
    },
    {
      "cell_type": "code",
      "source": [
        "# Print the column headers and data types of the dataframe\n"
      ],
      "metadata": {
        "id": "kEm8-shrFi2W"
      },
      "execution_count": null,
      "outputs": []
    },
    {
      "cell_type": "markdown",
      "source": [
        "#### **Solution**"
      ],
      "metadata": {
        "id": "lmxQmWEXFj_v"
      }
    },
    {
      "cell_type": "code",
      "source": [
        "# Print the column headers and data types of the dataframe\n",
        "print(df.info())"
      ],
      "metadata": {
        "id": "_yJCeXrHFgXg"
      },
      "execution_count": null,
      "outputs": []
    },
    {
      "cell_type": "markdown",
      "source": [
        "### **Exercise #3:** Print the column headings."
      ],
      "metadata": {
        "id": "bNM3Qe7eFmlA"
      }
    },
    {
      "cell_type": "code",
      "source": [
        "# Print the column headings\n",
        "print(df.columns)"
      ],
      "metadata": {
        "id": "PSp379HBHSwV"
      },
      "execution_count": null,
      "outputs": []
    },
    {
      "cell_type": "markdown",
      "source": [
        "####  **Solution**"
      ],
      "metadata": {
        "id": "C5IV2UB3HYqF"
      }
    },
    {
      "cell_type": "code",
      "source": [
        "# Print the column headings\n",
        "print(df.columns)"
      ],
      "metadata": {
        "id": "ka5OU_yvHZ0q"
      },
      "execution_count": null,
      "outputs": []
    },
    {
      "cell_type": "markdown",
      "source": [
        "### **Exercise #4:** What is the shape (dimensions) of the dataframe?\n"
      ],
      "metadata": {
        "id": "tZDV0YC6He9G"
      }
    },
    {
      "cell_type": "code",
      "source": [
        "# Print the shape of the dataframe\n"
      ],
      "metadata": {
        "id": "8ZFPkfgSHkGd"
      },
      "execution_count": null,
      "outputs": []
    },
    {
      "cell_type": "markdown",
      "source": [
        "#### **Solution**"
      ],
      "metadata": {
        "id": "YnhmOx86Hmkl"
      }
    },
    {
      "cell_type": "code",
      "source": [
        "# Print the dimensions of the dataframe\n",
        "print(df.shape)"
      ],
      "metadata": {
        "id": "adb0BubCHmRp"
      },
      "execution_count": null,
      "outputs": []
    },
    {
      "cell_type": "markdown",
      "source": [
        "### **Exercise #5:** What is the dimension of the dataframe?"
      ],
      "metadata": {
        "id": "YuvRDNzkHpGn"
      }
    },
    {
      "cell_type": "code",
      "source": [
        "# Print the dimension of the dataframe\n"
      ],
      "metadata": {
        "id": "AgFilSZ2H646"
      },
      "execution_count": null,
      "outputs": []
    },
    {
      "cell_type": "markdown",
      "source": [
        "#### **Solution**"
      ],
      "metadata": {
        "id": "e7z_YgucH7sI"
      }
    },
    {
      "cell_type": "code",
      "source": [
        "# Print the dimension of the dataframe\n",
        "print(df.ndim)"
      ],
      "metadata": {
        "id": "LAV3yVceH-Pg"
      },
      "execution_count": null,
      "outputs": []
    },
    {
      "cell_type": "markdown",
      "source": [
        "### **Exercise #6:** Print basic statistical data for the dataset (mean, standard deviation, etc)."
      ],
      "metadata": {
        "id": "ui2jkTB4IAZR"
      }
    },
    {
      "cell_type": "code",
      "source": [],
      "metadata": {
        "id": "O6Us1AdLIJOa"
      },
      "execution_count": null,
      "outputs": []
    },
    {
      "cell_type": "markdown",
      "source": [
        "#### **Solution**"
      ],
      "metadata": {
        "id": "i65WzjyeIJc2"
      }
    },
    {
      "cell_type": "code",
      "source": [
        "print(df.describe())"
      ],
      "metadata": {
        "id": "7vshgTv9IIhv"
      },
      "execution_count": null,
      "outputs": []
    },
    {
      "cell_type": "markdown",
      "source": [
        "### **Exercise #7:** How many counts of unique values are there in the `Gender` column?\n"
      ],
      "metadata": {
        "id": "d1i4UdMLINg4"
      }
    },
    {
      "cell_type": "code",
      "source": [
        "# Print counts of unique values in the 'Gender' column\n",
        "print(df['Gender'].value_counts())"
      ],
      "metadata": {
        "id": "3J6NmT8CIalP"
      },
      "execution_count": null,
      "outputs": []
    },
    {
      "cell_type": "markdown",
      "source": [
        "#### **Solution**"
      ],
      "metadata": {
        "id": "17bOQ2hJIZE4"
      }
    },
    {
      "cell_type": "code",
      "source": [
        "print(df['Gender'].value_counts())"
      ],
      "metadata": {
        "id": "d2qNl9LCIb9Z"
      },
      "execution_count": null,
      "outputs": []
    },
    {
      "cell_type": "markdown",
      "source": [
        "### **Exercise #8:** Print all unique values in the `Country` column.\n"
      ],
      "metadata": {
        "id": "7RvaT7KvIdB8"
      }
    },
    {
      "cell_type": "code",
      "source": [
        "# Unique values in 'Country'"
      ],
      "metadata": {
        "id": "kAJ682GIIitV"
      },
      "execution_count": null,
      "outputs": []
    },
    {
      "cell_type": "markdown",
      "source": [
        "#### **Solution**"
      ],
      "metadata": {
        "id": "bmbHZcpdInKb"
      }
    },
    {
      "cell_type": "code",
      "source": [
        "print(df['Country'].unique())"
      ],
      "metadata": {
        "id": "3ZVjz7nYIl2b"
      },
      "execution_count": null,
      "outputs": []
    },
    {
      "cell_type": "markdown",
      "source": [
        "<a name=\"p1.1\"></a>\n",
        "\n",
        "## **Part 1.1: Exploring Rows and Columns**\n",
        "---\n",
        "The dataset contains information on the number of page views for a website over 5 days. Each row represents a day, and the columns represent the number of page views for the following pages:\n",
        "\n",
        "- home page\n",
        "- about page\n",
        "- contact page\n",
        "- products page\n",
        "\n",
        "**Run the cell below to create the dataframe.**"
      ],
      "metadata": {
        "id": "fIVE5p7uojz1"
      }
    },
    {
      "cell_type": "code",
      "source": [
        "import pandas as pd\n",
        "\n",
        "data = {\n",
        "    'home page': [100, 150, 200, 250, 300],\n",
        "    'about page': [50, 75, 100, 125, 150],\n",
        "    'contact page': [20, 25, 30, 35, 40],\n",
        "    'products page': [75, 100, 125, 150, 175]\n",
        "}\n",
        "\n",
        "page_views_df = pd.DataFrame(data)\n",
        "page_views_df\n",
        "\n"
      ],
      "metadata": {
        "id": "7JoY2x9AoxO4"
      },
      "execution_count": null,
      "outputs": []
    },
    {
      "cell_type": "markdown",
      "source": [
        "### **Exercise #1:** Print the entire dataframe."
      ],
      "metadata": {
        "id": "btJ5i75lo8Es"
      }
    },
    {
      "cell_type": "code",
      "source": [],
      "metadata": {
        "id": "0qJeXCC0o_ZH"
      },
      "execution_count": null,
      "outputs": []
    },
    {
      "cell_type": "markdown",
      "source": [
        "#### **Solution**"
      ],
      "metadata": {
        "id": "m5N80BxTo_nM"
      }
    },
    {
      "cell_type": "code",
      "source": [
        "print(page_views_df)"
      ],
      "metadata": {
        "id": "p4Y6nTNJo95u"
      },
      "execution_count": null,
      "outputs": []
    },
    {
      "cell_type": "markdown",
      "source": [
        "### **Exercise #2:** Print only the \"about page\" column."
      ],
      "metadata": {
        "id": "Fi58k0mlpBNC"
      }
    },
    {
      "cell_type": "code",
      "source": [],
      "metadata": {
        "id": "Yxa4Ru7npF-y"
      },
      "execution_count": null,
      "outputs": []
    },
    {
      "cell_type": "markdown",
      "source": [
        "#### **Solution**"
      ],
      "metadata": {
        "id": "AUsyca13pHcR"
      }
    },
    {
      "cell_type": "code",
      "source": [
        "print(page_views_df['about page'])\n"
      ],
      "metadata": {
        "id": "uRKHCJ2mpHJ0"
      },
      "execution_count": null,
      "outputs": []
    },
    {
      "cell_type": "markdown",
      "source": [
        "### **Exercise #3:** Print only the first two rows of the dataframe."
      ],
      "metadata": {
        "id": "Bj9gCNt8pLIa"
      }
    },
    {
      "cell_type": "code",
      "source": [],
      "metadata": {
        "id": "0rZb0yAxpPvX"
      },
      "execution_count": null,
      "outputs": []
    },
    {
      "cell_type": "markdown",
      "source": [
        "#### **Solution**"
      ],
      "metadata": {
        "id": "5dHDzqFOpP8Z"
      }
    },
    {
      "cell_type": "code",
      "source": [
        "print(page_views_df.iloc[:2])\n"
      ],
      "metadata": {
        "id": "Gcsx5xwLpOFg"
      },
      "execution_count": null,
      "outputs": []
    },
    {
      "cell_type": "markdown",
      "source": [
        "### **Exercise #4:** What is the value in the 3rd row for `products page`?"
      ],
      "metadata": {
        "id": "a46nleYJpuk4"
      }
    },
    {
      "cell_type": "code",
      "source": [],
      "metadata": {
        "id": "Eo7hRutMpzdO"
      },
      "execution_count": null,
      "outputs": []
    },
    {
      "cell_type": "markdown",
      "source": [
        "#### **Solution**"
      ],
      "metadata": {
        "id": "eLd7i7wopzxq"
      }
    },
    {
      "cell_type": "code",
      "source": [
        "page_views_df['products page'][2]"
      ],
      "metadata": {
        "id": "m9lwnKi_p1Bu"
      },
      "execution_count": null,
      "outputs": []
    },
    {
      "cell_type": "markdown",
      "source": [
        "### **Exercise #5:** Print the mean, median, and standard deviation of the \"home page\" column."
      ],
      "metadata": {
        "id": "QjFiZk2qPFYb"
      }
    },
    {
      "cell_type": "markdown",
      "source": [
        "#### **Solution**"
      ],
      "metadata": {
        "id": "hyTXWWMaPIJo"
      }
    },
    {
      "cell_type": "code",
      "source": [],
      "metadata": {
        "id": "Hj1C45rXPI3H"
      },
      "execution_count": null,
      "outputs": []
    },
    {
      "cell_type": "markdown",
      "source": [
        "### **Exercise #6 [Challenge]:** Print only the values of the 'about page' column for the first three rows of the dataframe."
      ],
      "metadata": {
        "id": "eE9HxwARC8TJ"
      }
    },
    {
      "cell_type": "code",
      "source": [],
      "metadata": {
        "id": "NTxdQljXDQZN"
      },
      "execution_count": null,
      "outputs": []
    },
    {
      "cell_type": "markdown",
      "source": [
        "#### **Solution**"
      ],
      "metadata": {
        "id": "bTHHMPjODOeU"
      }
    },
    {
      "cell_type": "code",
      "source": [
        "print(page_views_df.loc[:2, 'about page'])"
      ],
      "metadata": {
        "id": "-XyveR7JDFIG"
      },
      "execution_count": null,
      "outputs": []
    },
    {
      "cell_type": "markdown",
      "source": [
        "### **Exercise #7 [Challenge]:** Print the value at the third row and second column."
      ],
      "metadata": {
        "id": "6PuMWD9fECcO"
      }
    },
    {
      "cell_type": "code",
      "source": [],
      "metadata": {
        "id": "wLcTpLKAEF4X"
      },
      "execution_count": null,
      "outputs": []
    },
    {
      "cell_type": "markdown",
      "source": [
        "#### **Solution**"
      ],
      "metadata": {
        "id": "JCGaicgKEGNA"
      }
    },
    {
      "cell_type": "code",
      "source": [
        "print(page_views_df.iloc[2, 1])"
      ],
      "metadata": {
        "id": "3GVfktBlEHiQ"
      },
      "execution_count": null,
      "outputs": []
    },
    {
      "cell_type": "markdown",
      "source": [
        "### **Exercise #8 [Challenge]:** Print the first three rows and the first two columns."
      ],
      "metadata": {
        "id": "SZ7hCNWDELKw"
      }
    },
    {
      "cell_type": "code",
      "source": [],
      "metadata": {
        "id": "upB0L7TLEOcX"
      },
      "execution_count": null,
      "outputs": []
    },
    {
      "cell_type": "markdown",
      "source": [
        "#### **Solution**"
      ],
      "metadata": {
        "id": "x1yNWEfzO1oN"
      }
    },
    {
      "cell_type": "code",
      "source": [
        "print(page_views_df.iloc[:3, :2])"
      ],
      "metadata": {
        "id": "jO4tcUjhO03y"
      },
      "execution_count": null,
      "outputs": []
    },
    {
      "cell_type": "markdown",
      "source": [
        "---\n",
        "\n",
        "<center>\n",
        "\n",
        "#### **Back to lecture**\n",
        "\n",
        "---"
      ],
      "metadata": {
        "id": "bYdvfrw1O5NQ"
      }
    },
    {
      "cell_type": "markdown",
      "source": [
        "<a name=\"p4\"></a>\n",
        "## [Additional Practice] **Part #1.2: Exploratory Data Analysis (EDA) using the Gapminder dataset**\n",
        "---\n",
        "This part focuses on Exploratory Data Analysis (EDA) using the Gapminder dataset, which contains socio-economic indicators for different countries over time.\n",
        "\n",
        "First, we need to install the gapminder package to access the dataset. **Run the next cell to install the packages and create the dataframe.**"
      ],
      "metadata": {
        "id": "hNhIAiHiKPqL"
      }
    },
    {
      "cell_type": "code",
      "source": [
        "!pip install gapminder\n",
        "\n",
        "from gapminder import gapminder\n",
        "\n",
        "# Create dataframe\n",
        "gapminder_df = pd.DataFrame(gapminder)\n",
        "gapminder_df.head()"
      ],
      "metadata": {
        "id": "u7JWvCtXP1Q4"
      },
      "execution_count": null,
      "outputs": []
    },
    {
      "cell_type": "markdown",
      "source": [
        "### **Exercise #1:** How many countries are there in the dataset?"
      ],
      "metadata": {
        "id": "Fr2EVO21QZiq"
      }
    },
    {
      "cell_type": "code",
      "source": [
        "unique_countries = # YOUR CODE HERE #\n",
        "\n",
        "print(f\"There are {unique_countries} countries in the dataset.\")"
      ],
      "metadata": {
        "id": "r3wRnRKQSy15"
      },
      "execution_count": null,
      "outputs": []
    },
    {
      "cell_type": "markdown",
      "source": [
        "#### **Solution**"
      ],
      "metadata": {
        "id": "8OuDXyUNSxaM"
      }
    },
    {
      "cell_type": "code",
      "source": [
        "#\n",
        "unique_countries = gapminder_df['country'].unique()\n",
        "\n",
        "print(f\"There are {unique_countries} countries in the dataset.\")"
      ],
      "metadata": {
        "id": "y4ueNdXdSsmk"
      },
      "execution_count": null,
      "outputs": []
    },
    {
      "cell_type": "markdown",
      "source": [
        "### **Exercise #2:** How many instances are there?"
      ],
      "metadata": {
        "id": "G4R1MXRkS5Xh"
      }
    },
    {
      "cell_type": "code",
      "source": [],
      "metadata": {
        "id": "4zczUPUUTRoN"
      },
      "execution_count": null,
      "outputs": []
    },
    {
      "cell_type": "markdown",
      "source": [
        "#### **Solution**"
      ],
      "metadata": {
        "id": "YDUnxF6TTRcs"
      }
    },
    {
      "cell_type": "code",
      "source": [
        "#1704\n",
        "\n",
        "gapminder_df.shape"
      ],
      "metadata": {
        "id": "p64ebkrrTQ9T",
        "colab": {
          "base_uri": "https://localhost:8080/"
        },
        "outputId": "6f0018cc-c178-4c4e-c1e4-25c82550a1b9"
      },
      "execution_count": null,
      "outputs": [
        {
          "output_type": "execute_result",
          "data": {
            "text/plain": [
              "(1704, 6)"
            ]
          },
          "metadata": {},
          "execution_count": 3
        }
      ]
    },
    {
      "cell_type": "markdown",
      "source": [
        "### **Exercise #3:** What is the average life expectancy for all of the countries?"
      ],
      "metadata": {
        "id": "6CN03LfJLkI1"
      }
    },
    {
      "cell_type": "code",
      "source": [],
      "metadata": {
        "id": "nsI7ptCeLp8Z"
      },
      "execution_count": null,
      "outputs": []
    },
    {
      "cell_type": "markdown",
      "source": [
        "#### **Solution**"
      ],
      "metadata": {
        "id": "pJrb8m_1LpY-"
      }
    },
    {
      "cell_type": "code",
      "source": [
        "#59.4\n",
        "gapminder_df[\"lifeExp\"].mean()"
      ],
      "metadata": {
        "colab": {
          "base_uri": "https://localhost:8080/"
        },
        "id": "eQehAvF_LpsI",
        "outputId": "84ac8a80-cc20-4141-d107-53f8053fd77b"
      },
      "execution_count": null,
      "outputs": [
        {
          "output_type": "execute_result",
          "data": {
            "text/plain": [
              "59.474439366197174"
            ]
          },
          "metadata": {},
          "execution_count": 7
        }
      ]
    },
    {
      "cell_type": "markdown",
      "source": [
        "### **Exercise #4:** How many years are documented in the dataset?"
      ],
      "metadata": {
        "id": "v7Id9UBBMkYz"
      }
    },
    {
      "cell_type": "code",
      "source": [],
      "metadata": {
        "id": "YNRZ8FXGPznC"
      },
      "execution_count": null,
      "outputs": []
    },
    {
      "cell_type": "markdown",
      "source": [
        "#### **Solution**"
      ],
      "metadata": {
        "id": "A89IGbvMMrk3"
      }
    },
    {
      "cell_type": "code",
      "source": [
        "# 12 years\n",
        "gapminder_df[\"year\"].value_counts()"
      ],
      "metadata": {
        "id": "oMyKj531MsB7"
      },
      "execution_count": null,
      "outputs": []
    },
    {
      "cell_type": "markdown",
      "source": [
        "### **Exercise #5:** What is the datatype of `GDP per capita`? "
      ],
      "metadata": {
        "id": "Q5eIPdx5Ml1p"
      }
    },
    {
      "cell_type": "code",
      "source": [],
      "metadata": {
        "id": "z4EYlnr_P1Nh"
      },
      "execution_count": null,
      "outputs": []
    },
    {
      "cell_type": "markdown",
      "source": [
        "#### **Solution**"
      ],
      "metadata": {
        "id": "mDUZVoJTMsbN"
      }
    },
    {
      "cell_type": "code",
      "source": [
        "# float\n",
        "gapminder_df.info()"
      ],
      "metadata": {
        "colab": {
          "base_uri": "https://localhost:8080/"
        },
        "id": "zA6D-5ndMs__",
        "outputId": "6066b42b-6b4b-4bcc-9c47-d1552d53d424"
      },
      "execution_count": null,
      "outputs": [
        {
          "output_type": "stream",
          "name": "stdout",
          "text": [
            "<class 'pandas.core.frame.DataFrame'>\n",
            "RangeIndex: 1704 entries, 0 to 1703\n",
            "Data columns (total 6 columns):\n",
            " #   Column     Non-Null Count  Dtype  \n",
            "---  ------     --------------  -----  \n",
            " 0   country    1704 non-null   object \n",
            " 1   continent  1704 non-null   object \n",
            " 2   year       1704 non-null   int64  \n",
            " 3   lifeExp    1704 non-null   float64\n",
            " 4   pop        1704 non-null   int64  \n",
            " 5   gdpPercap  1704 non-null   float64\n",
            "dtypes: float64(2), int64(2), object(2)\n",
            "memory usage: 80.0+ KB\n"
          ]
        }
      ]
    },
    {
      "cell_type": "markdown",
      "source": [
        "### **Exercise #6:** What is the lowest value for `life expectancy`?"
      ],
      "metadata": {
        "id": "3ibMprwnMmir"
      }
    },
    {
      "cell_type": "code",
      "source": [],
      "metadata": {
        "id": "6lmLL5BtP1mk"
      },
      "execution_count": null,
      "outputs": []
    },
    {
      "cell_type": "markdown",
      "source": [
        "#### **Solution**"
      ],
      "metadata": {
        "id": "tbfaE--gMwqC"
      }
    },
    {
      "cell_type": "code",
      "source": [
        "# 23.599 years\n",
        "\n",
        "gapminder_df.describe()"
      ],
      "metadata": {
        "colab": {
          "base_uri": "https://localhost:8080/",
          "height": 300
        },
        "id": "IAxfx7vYMw58",
        "outputId": "7a8a5139-ee2d-415d-a4c2-423d4838da4f"
      },
      "execution_count": null,
      "outputs": [
        {
          "output_type": "execute_result",
          "data": {
            "text/plain": [
              "             year      lifeExp           pop      gdpPercap\n",
              "count  1704.00000  1704.000000  1.704000e+03    1704.000000\n",
              "mean   1979.50000    59.474439  2.960121e+07    7215.327081\n",
              "std      17.26533    12.917107  1.061579e+08    9857.454543\n",
              "min    1952.00000    23.599000  6.001100e+04     241.165876\n",
              "25%    1965.75000    48.198000  2.793664e+06    1202.060309\n",
              "50%    1979.50000    60.712500  7.023596e+06    3531.846988\n",
              "75%    1993.25000    70.845500  1.958522e+07    9325.462346\n",
              "max    2007.00000    82.603000  1.318683e+09  113523.132900"
            ],
            "text/html": [
              "\n",
              "  <div id=\"df-ba623b96-2d99-4460-9ca0-6236816d81ac\">\n",
              "    <div class=\"colab-df-container\">\n",
              "      <div>\n",
              "<style scoped>\n",
              "    .dataframe tbody tr th:only-of-type {\n",
              "        vertical-align: middle;\n",
              "    }\n",
              "\n",
              "    .dataframe tbody tr th {\n",
              "        vertical-align: top;\n",
              "    }\n",
              "\n",
              "    .dataframe thead th {\n",
              "        text-align: right;\n",
              "    }\n",
              "</style>\n",
              "<table border=\"1\" class=\"dataframe\">\n",
              "  <thead>\n",
              "    <tr style=\"text-align: right;\">\n",
              "      <th></th>\n",
              "      <th>year</th>\n",
              "      <th>lifeExp</th>\n",
              "      <th>pop</th>\n",
              "      <th>gdpPercap</th>\n",
              "    </tr>\n",
              "  </thead>\n",
              "  <tbody>\n",
              "    <tr>\n",
              "      <th>count</th>\n",
              "      <td>1704.00000</td>\n",
              "      <td>1704.000000</td>\n",
              "      <td>1.704000e+03</td>\n",
              "      <td>1704.000000</td>\n",
              "    </tr>\n",
              "    <tr>\n",
              "      <th>mean</th>\n",
              "      <td>1979.50000</td>\n",
              "      <td>59.474439</td>\n",
              "      <td>2.960121e+07</td>\n",
              "      <td>7215.327081</td>\n",
              "    </tr>\n",
              "    <tr>\n",
              "      <th>std</th>\n",
              "      <td>17.26533</td>\n",
              "      <td>12.917107</td>\n",
              "      <td>1.061579e+08</td>\n",
              "      <td>9857.454543</td>\n",
              "    </tr>\n",
              "    <tr>\n",
              "      <th>min</th>\n",
              "      <td>1952.00000</td>\n",
              "      <td>23.599000</td>\n",
              "      <td>6.001100e+04</td>\n",
              "      <td>241.165876</td>\n",
              "    </tr>\n",
              "    <tr>\n",
              "      <th>25%</th>\n",
              "      <td>1965.75000</td>\n",
              "      <td>48.198000</td>\n",
              "      <td>2.793664e+06</td>\n",
              "      <td>1202.060309</td>\n",
              "    </tr>\n",
              "    <tr>\n",
              "      <th>50%</th>\n",
              "      <td>1979.50000</td>\n",
              "      <td>60.712500</td>\n",
              "      <td>7.023596e+06</td>\n",
              "      <td>3531.846988</td>\n",
              "    </tr>\n",
              "    <tr>\n",
              "      <th>75%</th>\n",
              "      <td>1993.25000</td>\n",
              "      <td>70.845500</td>\n",
              "      <td>1.958522e+07</td>\n",
              "      <td>9325.462346</td>\n",
              "    </tr>\n",
              "    <tr>\n",
              "      <th>max</th>\n",
              "      <td>2007.00000</td>\n",
              "      <td>82.603000</td>\n",
              "      <td>1.318683e+09</td>\n",
              "      <td>113523.132900</td>\n",
              "    </tr>\n",
              "  </tbody>\n",
              "</table>\n",
              "</div>\n",
              "      <button class=\"colab-df-convert\" onclick=\"convertToInteractive('df-ba623b96-2d99-4460-9ca0-6236816d81ac')\"\n",
              "              title=\"Convert this dataframe to an interactive table.\"\n",
              "              style=\"display:none;\">\n",
              "        \n",
              "  <svg xmlns=\"http://www.w3.org/2000/svg\" height=\"24px\"viewBox=\"0 0 24 24\"\n",
              "       width=\"24px\">\n",
              "    <path d=\"M0 0h24v24H0V0z\" fill=\"none\"/>\n",
              "    <path d=\"M18.56 5.44l.94 2.06.94-2.06 2.06-.94-2.06-.94-.94-2.06-.94 2.06-2.06.94zm-11 1L8.5 8.5l.94-2.06 2.06-.94-2.06-.94L8.5 2.5l-.94 2.06-2.06.94zm10 10l.94 2.06.94-2.06 2.06-.94-2.06-.94-.94-2.06-.94 2.06-2.06.94z\"/><path d=\"M17.41 7.96l-1.37-1.37c-.4-.4-.92-.59-1.43-.59-.52 0-1.04.2-1.43.59L10.3 9.45l-7.72 7.72c-.78.78-.78 2.05 0 2.83L4 21.41c.39.39.9.59 1.41.59.51 0 1.02-.2 1.41-.59l7.78-7.78 2.81-2.81c.8-.78.8-2.07 0-2.86zM5.41 20L4 18.59l7.72-7.72 1.47 1.35L5.41 20z\"/>\n",
              "  </svg>\n",
              "      </button>\n",
              "      \n",
              "  <style>\n",
              "    .colab-df-container {\n",
              "      display:flex;\n",
              "      flex-wrap:wrap;\n",
              "      gap: 12px;\n",
              "    }\n",
              "\n",
              "    .colab-df-convert {\n",
              "      background-color: #E8F0FE;\n",
              "      border: none;\n",
              "      border-radius: 50%;\n",
              "      cursor: pointer;\n",
              "      display: none;\n",
              "      fill: #1967D2;\n",
              "      height: 32px;\n",
              "      padding: 0 0 0 0;\n",
              "      width: 32px;\n",
              "    }\n",
              "\n",
              "    .colab-df-convert:hover {\n",
              "      background-color: #E2EBFA;\n",
              "      box-shadow: 0px 1px 2px rgba(60, 64, 67, 0.3), 0px 1px 3px 1px rgba(60, 64, 67, 0.15);\n",
              "      fill: #174EA6;\n",
              "    }\n",
              "\n",
              "    [theme=dark] .colab-df-convert {\n",
              "      background-color: #3B4455;\n",
              "      fill: #D2E3FC;\n",
              "    }\n",
              "\n",
              "    [theme=dark] .colab-df-convert:hover {\n",
              "      background-color: #434B5C;\n",
              "      box-shadow: 0px 1px 3px 1px rgba(0, 0, 0, 0.15);\n",
              "      filter: drop-shadow(0px 1px 2px rgba(0, 0, 0, 0.3));\n",
              "      fill: #FFFFFF;\n",
              "    }\n",
              "  </style>\n",
              "\n",
              "      <script>\n",
              "        const buttonEl =\n",
              "          document.querySelector('#df-ba623b96-2d99-4460-9ca0-6236816d81ac button.colab-df-convert');\n",
              "        buttonEl.style.display =\n",
              "          google.colab.kernel.accessAllowed ? 'block' : 'none';\n",
              "\n",
              "        async function convertToInteractive(key) {\n",
              "          const element = document.querySelector('#df-ba623b96-2d99-4460-9ca0-6236816d81ac');\n",
              "          const dataTable =\n",
              "            await google.colab.kernel.invokeFunction('convertToInteractive',\n",
              "                                                     [key], {});\n",
              "          if (!dataTable) return;\n",
              "\n",
              "          const docLinkHtml = 'Like what you see? Visit the ' +\n",
              "            '<a target=\"_blank\" href=https://colab.research.google.com/notebooks/data_table.ipynb>data table notebook</a>'\n",
              "            + ' to learn more about interactive tables.';\n",
              "          element.innerHTML = '';\n",
              "          dataTable['output_type'] = 'display_data';\n",
              "          await google.colab.output.renderOutput(dataTable, element);\n",
              "          const docLink = document.createElement('div');\n",
              "          docLink.innerHTML = docLinkHtml;\n",
              "          element.appendChild(docLink);\n",
              "        }\n",
              "      </script>\n",
              "    </div>\n",
              "  </div>\n",
              "  "
            ]
          },
          "metadata": {},
          "execution_count": 12
        }
      ]
    },
    {
      "cell_type": "markdown",
      "source": [
        "### **Exercise #7:** What is the highest value for `life expectancy`?"
      ],
      "metadata": {
        "id": "dor_JIBMMnL4"
      }
    },
    {
      "cell_type": "code",
      "source": [],
      "metadata": {
        "id": "KazKR6VLP2Rx"
      },
      "execution_count": null,
      "outputs": []
    },
    {
      "cell_type": "markdown",
      "source": [
        "#### **Solution**"
      ],
      "metadata": {
        "id": "KczizW5uMvr5"
      }
    },
    {
      "cell_type": "code",
      "source": [
        "# 82.603 years\n",
        "\n",
        "gapminder_df.describe()"
      ],
      "metadata": {
        "id": "Kt67TV-zMwSb"
      },
      "execution_count": null,
      "outputs": []
    },
    {
      "cell_type": "markdown",
      "source": [
        "### **Exercise #8:** Print the `continents` column."
      ],
      "metadata": {
        "id": "svV8X-1mMoJH"
      }
    },
    {
      "cell_type": "code",
      "source": [],
      "metadata": {
        "id": "BnA06WQkP2wn"
      },
      "execution_count": null,
      "outputs": []
    },
    {
      "cell_type": "markdown",
      "source": [
        "#### **Solution**"
      ],
      "metadata": {
        "id": "zB-G_lXtMuG_"
      }
    },
    {
      "cell_type": "code",
      "source": [
        "gapminder_df['continent']"
      ],
      "metadata": {
        "colab": {
          "base_uri": "https://localhost:8080/"
        },
        "id": "00iEKO8uMu9H",
        "outputId": "85dd5250-f908-4f4e-eb66-2f71717a1735"
      },
      "execution_count": null,
      "outputs": [
        {
          "output_type": "execute_result",
          "data": {
            "text/plain": [
              "0         Asia\n",
              "1         Asia\n",
              "2         Asia\n",
              "3         Asia\n",
              "4         Asia\n",
              "         ...  \n",
              "1699    Africa\n",
              "1700    Africa\n",
              "1701    Africa\n",
              "1702    Africa\n",
              "1703    Africa\n",
              "Name: continent, Length: 1704, dtype: object"
            ]
          },
          "metadata": {},
          "execution_count": 13
        }
      ]
    },
    {
      "cell_type": "markdown",
      "source": [
        "### **Exercise #9:** Explore rows 500 through 525."
      ],
      "metadata": {
        "id": "sUqvwfGcMpGQ"
      }
    },
    {
      "cell_type": "code",
      "source": [],
      "metadata": {
        "id": "y0KdsbtPP3Uw"
      },
      "execution_count": null,
      "outputs": []
    },
    {
      "cell_type": "markdown",
      "source": [
        "#### **Solution**"
      ],
      "metadata": {
        "id": "wSG8WZyMMtht"
      }
    },
    {
      "cell_type": "code",
      "source": [
        "gapminder_df.iloc[499:525]"
      ],
      "metadata": {
        "id": "wNgr94YIMtzM"
      },
      "execution_count": null,
      "outputs": []
    },
    {
      "cell_type": "markdown",
      "source": [
        "### **Exercise #10 [Challenge]:** Print the entire row for the United States in 1962."
      ],
      "metadata": {
        "id": "PyZHbYnDUQiB"
      }
    },
    {
      "cell_type": "code",
      "source": [],
      "metadata": {
        "id": "mTJNUrXKUjFJ"
      },
      "execution_count": null,
      "outputs": []
    },
    {
      "cell_type": "markdown",
      "source": [
        "#### **Solution**"
      ],
      "metadata": {
        "id": "H_O8TFOZUjTg"
      }
    },
    {
      "cell_type": "code",
      "source": [
        "us_1962 = gapminder_df[(gapminder_df['country'] == 'United States') & (gapminder_df['year'] == 1962)]\n",
        "print(us_1962)"
      ],
      "metadata": {
        "id": "SYZZpAzBUkot"
      },
      "execution_count": null,
      "outputs": []
    },
    {
      "cell_type": "markdown",
      "source": [
        "### **Exercise #11 [Challenge]:**  What is the average life expectancy for Japan in 2007?"
      ],
      "metadata": {
        "id": "43OosutBT-Xh"
      }
    },
    {
      "cell_type": "code",
      "source": [],
      "metadata": {
        "id": "L0T6xhErUFrK"
      },
      "execution_count": null,
      "outputs": []
    },
    {
      "cell_type": "markdown",
      "source": [
        "#### **Solution**"
      ],
      "metadata": {
        "id": "xdt6YhkVUDm6"
      }
    },
    {
      "cell_type": "code",
      "source": [
        "japan_2007 = gapminder_df[(gapminder_df['country'] == 'Japan') & (gapminder_df['year'] == 2007)]\n",
        "avg_life_exp = japan_2007['lifeExp'].mean()\n",
        "\n",
        "print(f\"The average life expectancy for Japan in 2007 is {avg_life_exp:.2f} years.\")"
      ],
      "metadata": {
        "id": "ijesB3LHUDAb"
      },
      "execution_count": null,
      "outputs": []
    },
    {
      "cell_type": "markdown",
      "source": [
        "### **Exercise #12 [Challenge]:** What is the global mean life expectancy in 1997?"
      ],
      "metadata": {
        "id": "Zl8f5BqaUk9l"
      }
    },
    {
      "cell_type": "code",
      "source": [],
      "metadata": {
        "id": "XS9Dg2JMVIrw"
      },
      "execution_count": null,
      "outputs": []
    },
    {
      "cell_type": "markdown",
      "source": [
        "#### **Solution**"
      ],
      "metadata": {
        "id": "pEBgFxjvUp__"
      }
    },
    {
      "cell_type": "code",
      "source": [
        "mean_life_exp_1997 = gapminder_df[gapminder_df['year'] == 1997]['lifeExp'].mean()\n",
        "print(\"The global mean life expectancy in 1997 is {mean_life_exp_1997:.2f} years.\")"
      ],
      "metadata": {
        "id": "-A0uSh1CUqVo"
      },
      "execution_count": null,
      "outputs": []
    },
    {
      "cell_type": "markdown",
      "source": [
        "### **Exercise #13 [Challenge]:** What is the median GDP per capita globally in 1982?"
      ],
      "metadata": {
        "id": "BIPTFuyqVMG5"
      }
    },
    {
      "cell_type": "code",
      "source": [],
      "metadata": {
        "id": "DqNBRPF5VTSz"
      },
      "execution_count": null,
      "outputs": []
    },
    {
      "cell_type": "markdown",
      "source": [
        "#### **Solution**"
      ],
      "metadata": {
        "id": "UtVir4_XVTks"
      }
    },
    {
      "cell_type": "code",
      "source": [
        "median_gdp_1982 = gapminder_df[gapminder_df['year'] == 1982]['gdpPercap'].median()\n",
        "print(f\"The global median GDP per capita in 1982 is {median_gdp_1982:.2f} USD.\")"
      ],
      "metadata": {
        "id": "m1W1CkYlVUhW"
      },
      "execution_count": null,
      "outputs": []
    },
    {
      "cell_type": "markdown",
      "source": [
        "### **Exercise #14 [Challenge]:** What is the total population of Asia in 1957?"
      ],
      "metadata": {
        "id": "gRyaB3WXVYFC"
      }
    },
    {
      "cell_type": "code",
      "source": [],
      "metadata": {
        "id": "Sx4o4zvtVd1o"
      },
      "execution_count": null,
      "outputs": []
    },
    {
      "cell_type": "markdown",
      "source": [
        "#### **Solution**"
      ],
      "metadata": {
        "id": "g2-f9uf1VeFB"
      }
    },
    {
      "cell_type": "code",
      "source": [
        "asia_1957 = gapminder_df[(gapminder_df['continent'] == 'Asia') & (gapminder_df['year'] == 1957)]\n",
        "total_population_asia_1957 = asia_1957['pop'].sum()\n",
        "print(f\"The total population of Asia in 1957 was {total_population_asia_1957:.2f}.\")"
      ],
      "metadata": {
        "id": "v7kBvY6TVek0"
      },
      "execution_count": null,
      "outputs": []
    },
    {
      "cell_type": "markdown",
      "source": [
        "---\n",
        "\n",
        "<center>\n",
        "\n",
        "#### **Back to lecture**\n",
        "\n",
        "---"
      ],
      "metadata": {
        "id": "Er3TWTxtKq4i"
      }
    },
    {
      "cell_type": "markdown",
      "source": [
        "<a name=\"p2\"></a>\n",
        "## **Part 2: Data Cleaning Practice**\n",
        "---\n",
        "\n",
        "Use the DataFrame below on NBA basketball players to answer Exercises #1-3. Take a moment to explore the created dataframe in the cell below, which contains the names of famous NBA players, ages, heights and their respective teams. \n",
        "\n",
        "**Remember to run the cell below to load the DataFrame before continuing onto the problems.**"
      ],
      "metadata": {
        "id": "VRWhnEk5XMJZ"
      }
    },
    {
      "cell_type": "code",
      "source": [
        "#import numpy\n",
        "import numpy as np\n",
        "import pandas as pd\n",
        "\n",
        "# create dataframe\n",
        "df = pd.DataFrame(\n",
        "  {'Name':['Giannis Antetokounmpo','Kevin Durant','Stephen Curry','Nikola Jokic', 'Joel Embiid'],\n",
        "  'Age':[28, 34, 34, 27, np.nan],\n",
        "  'Height (in)':[83, 82, 74, 83, np.nan],\n",
        "  'Team':['Milwaukee Bucks', np.nan, 'Golden State Warriors', 'Denver Nuggets', np.nan] })\n",
        "df"
      ],
      "metadata": {
        "id": "T7pt9cd_aWry"
      },
      "execution_count": null,
      "outputs": []
    },
    {
      "cell_type": "markdown",
      "source": [
        "### **Exercise #1:** Use `isnull()` to see which values are missing."
      ],
      "metadata": {
        "id": "1t4gLFwXaWyT"
      }
    },
    {
      "cell_type": "code",
      "source": [],
      "metadata": {
        "id": "PZf7PoFEuYqW"
      },
      "execution_count": null,
      "outputs": []
    },
    {
      "cell_type": "markdown",
      "source": [
        "#### **Solution**"
      ],
      "metadata": {
        "id": "cyxlggRUuYfV"
      }
    },
    {
      "cell_type": "code",
      "source": [
        "df.isnull()"
      ],
      "metadata": {
        "id": "M3UbnG2naa2R"
      },
      "execution_count": null,
      "outputs": []
    },
    {
      "cell_type": "markdown",
      "source": [
        "---\n",
        "\n",
        "<center>\n",
        "\n",
        "#### **Back to lecture**\n",
        "\n",
        "---"
      ],
      "metadata": {
        "id": "mC4_8trgDtPX"
      }
    },
    {
      "cell_type": "markdown",
      "source": [
        "### **Exercise #2:** Since Joel Embiid's data is missing, drop the row. "
      ],
      "metadata": {
        "id": "2uT8xHdzadL_"
      }
    },
    {
      "cell_type": "code",
      "source": [],
      "metadata": {
        "id": "nqV0jh1FuaKR"
      },
      "execution_count": null,
      "outputs": []
    },
    {
      "cell_type": "markdown",
      "source": [
        "#### **Solution**"
      ],
      "metadata": {
        "id": "KsCMwvAxuZwP"
      }
    },
    {
      "cell_type": "code",
      "source": [
        "df.drop(index =[4])"
      ],
      "metadata": {
        "id": "WNVyFi4TagRW"
      },
      "execution_count": null,
      "outputs": []
    },
    {
      "cell_type": "markdown",
      "source": [
        "### **Exercise #3:** Remove any missing values in the \"Age\" column."
      ],
      "metadata": {
        "id": "xnC6adFs7XtI"
      }
    },
    {
      "cell_type": "code",
      "source": [],
      "metadata": {
        "id": "aEsE-4em7lqT"
      },
      "execution_count": null,
      "outputs": []
    },
    {
      "cell_type": "markdown",
      "source": [
        "#### **Solution**"
      ],
      "metadata": {
        "id": "mylxlkiL7l79"
      }
    },
    {
      "cell_type": "code",
      "source": [
        "df_dropped = df.dropna(subset=['Age'])"
      ],
      "metadata": {
        "id": "Pvl9DzTx7nVq"
      },
      "execution_count": null,
      "outputs": []
    },
    {
      "cell_type": "markdown",
      "source": [
        "---\n",
        "\n",
        "<center>\n",
        "\n",
        "#### **Back to lecture**\n",
        "\n",
        "---"
      ],
      "metadata": {
        "id": "YmDzeSdmDvW2"
      }
    },
    {
      "cell_type": "markdown",
      "source": [
        "The following students have applied for an on-campus university job as a Research Assistant. However, some data is missing. It is your job to fix the missing data. Use this data to answer Problems #4-5.\n",
        "\n",
        "**Remember to run the cell below to load the DataFrame before continuing onto the problems.**"
      ],
      "metadata": {
        "id": "XXeqYqj6agY5"
      }
    },
    {
      "cell_type": "code",
      "source": [
        "# create dataframe\n",
        "students_df = pd.DataFrame(\n",
        "  {'name':['Jen','Akiro','Jamil','Benny', 'Aster', 'Raj', 'Alisha'],\n",
        "  'age':[19, 18, 21, 23, 26, np.nan, 30],\n",
        "   'gpa':[np.nan, 4.0, 3.0, 2.3, np.nan, 3.9, 3.8],\n",
        "   'year':['Freshman', 'Freshman', 'Junior', 'Junior', 'Senior', 'Sophomore', 'Senior'] })\n",
        "students_df"
      ],
      "metadata": {
        "id": "J_maZf2Takqr"
      },
      "execution_count": null,
      "outputs": []
    },
    {
      "cell_type": "markdown",
      "source": [
        "### **Exercise #4:** Raj's age is missing. Use the mean for the non-missing values in the column `age` to replace the missing value with the mean. "
      ],
      "metadata": {
        "id": "7mF1zMSLakiC"
      }
    },
    {
      "cell_type": "code",
      "source": [],
      "metadata": {
        "id": "OgZ_S_bWubCG"
      },
      "execution_count": null,
      "outputs": []
    },
    {
      "cell_type": "markdown",
      "source": [
        "#### **Solution**"
      ],
      "metadata": {
        "id": "40Yj3Z8_ua2E"
      }
    },
    {
      "cell_type": "code",
      "source": [
        "mean_age = students_df['age'].mean()\n",
        "\n",
        "students_df['age'] = students_df['age'].fillna(value = mean_age)\n",
        "\n",
        "students_df"
      ],
      "metadata": {
        "id": "fFQ2ropzapIe"
      },
      "execution_count": null,
      "outputs": []
    },
    {
      "cell_type": "markdown",
      "source": [
        "### **Exercise #5:** Jen and Aster's GPA are missing. Use the median value of `gpa` to replace these missing values."
      ],
      "metadata": {
        "id": "XCI_QGcIatSc"
      }
    },
    {
      "cell_type": "code",
      "source": [],
      "metadata": {
        "id": "h6UZskUMubxP"
      },
      "execution_count": null,
      "outputs": []
    },
    {
      "cell_type": "markdown",
      "source": [
        "#### **Solution**"
      ],
      "metadata": {
        "id": "DBMdsNBEubli"
      }
    },
    {
      "cell_type": "code",
      "source": [
        "median_gpa = students_df['gpa'].median()\n",
        "\n",
        "students_df['gpa'] = students_df['gpa'].fillna(value = median_gpa)\n",
        "\n",
        "students_df"
      ],
      "metadata": {
        "id": "I0BrfX10an5m"
      },
      "execution_count": null,
      "outputs": []
    },
    {
      "cell_type": "markdown",
      "source": [
        "---\n",
        "\n",
        "<center>\n",
        "\n",
        "#### **Back to lecture**\n",
        "\n",
        "---"
      ],
      "metadata": {
        "id": "0R4DMAvvEsQx"
      }
    },
    {
      "cell_type": "markdown",
      "source": [
        "### **Exercise #6:** Use the `students_df` DataFrame and rename `gpa` to `GPA`. "
      ],
      "metadata": {
        "id": "io9fvuRVayfS"
      }
    },
    {
      "cell_type": "code",
      "source": [],
      "metadata": {
        "id": "fnvR7yYHuc-Q"
      },
      "execution_count": null,
      "outputs": []
    },
    {
      "cell_type": "markdown",
      "source": [
        "#### **Solution**"
      ],
      "metadata": {
        "id": "_vVxTznaucwr"
      }
    },
    {
      "cell_type": "code",
      "source": [
        "students_df = students_df.rename(columns={'gpa': 'GPA'})\n",
        "students_df"
      ],
      "metadata": {
        "id": "LhsOuyPDaynS"
      },
      "execution_count": null,
      "outputs": []
    },
    {
      "cell_type": "markdown",
      "source": [
        "### **Exercise #7:** Rename the rest of columns so all column names begin with a capital letter."
      ],
      "metadata": {
        "id": "mRgM1dWPa5En"
      }
    },
    {
      "cell_type": "code",
      "source": [],
      "metadata": {
        "id": "bF06TpYrudtD"
      },
      "execution_count": null,
      "outputs": []
    },
    {
      "cell_type": "markdown",
      "source": [
        "#### **Solution**"
      ],
      "metadata": {
        "id": "21NVdRRSudgS"
      }
    },
    {
      "cell_type": "code",
      "source": [
        "students_df = students_df.rename(columns={'name': 'Name', 'age': 'Age', 'year': 'Year'})\n",
        "students_df"
      ],
      "metadata": {
        "id": "ULrtjXXda5K0"
      },
      "execution_count": null,
      "outputs": []
    },
    {
      "cell_type": "markdown",
      "source": [
        "---\n",
        "\n",
        "<center>\n",
        "\n",
        "#### **Back to lecture**\n",
        "\n",
        "---"
      ],
      "metadata": {
        "id": "JUGlYTFfE6_N"
      }
    },
    {
      "cell_type": "markdown",
      "source": [
        "### **Exercise #8:** Change the data type of the \"age\" and \"gpa\" columns to float.\n"
      ],
      "metadata": {
        "id": "ocm9lNPr88P2"
      }
    },
    {
      "cell_type": "code",
      "source": [],
      "metadata": {
        "id": "_tPagovL9CFf"
      },
      "execution_count": null,
      "outputs": []
    },
    {
      "cell_type": "markdown",
      "source": [
        "#### **Solution**"
      ],
      "metadata": {
        "id": "wwoc_CLZ9CVD"
      }
    },
    {
      "cell_type": "code",
      "source": [
        "students_df = students_df.astype({'age': 'float', 'gpa': 'float'})\n"
      ],
      "metadata": {
        "id": "SBkRpeHD8_fe"
      },
      "execution_count": null,
      "outputs": []
    },
    {
      "cell_type": "markdown",
      "source": [
        "### **Exercise #9:** Add a new column \"major\" at index position 2 with the following values: \"Math\", \"Chemistry\", \"English\", \"Physics\", \"Computer Science\", \"Economics\", \"Biology\"."
      ],
      "metadata": {
        "id": "XL7rhLp1-XPA"
      }
    },
    {
      "cell_type": "code",
      "source": [],
      "metadata": {
        "id": "kcJUAiyX-cH7"
      },
      "execution_count": null,
      "outputs": []
    },
    {
      "cell_type": "markdown",
      "source": [
        "#### **Solution**"
      ],
      "metadata": {
        "id": "ovdMK303-cz5"
      }
    },
    {
      "cell_type": "code",
      "source": [
        "students_df.insert(2, \"major\", [\"Math\", \"Chemistry\", \"English\", \"Physics\", \"Computer Science\", \"Economics\", \"Biology\"])"
      ],
      "metadata": {
        "id": "j82JWNLU-eXL"
      },
      "execution_count": null,
      "outputs": []
    },
    {
      "cell_type": "markdown",
      "source": [
        "---\n",
        "\n",
        "<center>\n",
        "\n",
        "#### **Back to lecture**\n",
        "\n",
        "---"
      ],
      "metadata": {
        "id": "Rq9BJ9ohKsL4"
      }
    },
    {
      "cell_type": "markdown",
      "source": [
        "<a name=\"p5\"></a>\n",
        "\n",
        "## **Part 3: Data Cleaning Practice [Optional]**\n",
        "---\n",
        "The given dataframe contains information about countries in North and South America, including their capital city, population, official language, GDP, and the name of the country. The dataframe has five columns and five rows, each row representing a different country."
      ],
      "metadata": {
        "id": "sm13t4Yh_9hA"
      }
    },
    {
      "cell_type": "code",
      "source": [
        "import pandas as pd\n",
        "import numpy as np\n",
        "\n",
        "data = {\n",
        "    'Country': ['USA', 'Canada', 'Mexico', 'Brazil', 'Argentina'],\n",
        "    'Capital': ['Washington, D.C.', np.nan, 'Mexico City', 'Brasília', 'Buenos Aires'],\n",
        "    'Population (millions)': [328, np.nan, 130, 211, 45],\n",
        "    'Official Language': ['English', np.nan, 'Spanish', 'Portuguese', 'Spanish'],\n",
        "    'GDP (trillions USD)': [21.44, 1.84, np.nan, 2.05, 0.45]\n",
        "}\n",
        "\n",
        "countries_df = pd.DataFrame(data)\n",
        "countries_df\n"
      ],
      "metadata": {
        "id": "KcYchUaRAGj5"
      },
      "execution_count": null,
      "outputs": []
    },
    {
      "cell_type": "markdown",
      "source": [
        "### **Exercise #1:** Identify which values are missing."
      ],
      "metadata": {
        "id": "lucUtKanAqZ8"
      }
    },
    {
      "cell_type": "code",
      "source": [],
      "metadata": {
        "id": "iwUO0R_aAutG"
      },
      "execution_count": null,
      "outputs": []
    },
    {
      "cell_type": "markdown",
      "source": [
        "#### **Solution**"
      ],
      "metadata": {
        "id": "c2EhXnWGAu9U"
      }
    },
    {
      "cell_type": "code",
      "source": [
        "countries_df.isnull()"
      ],
      "metadata": {
        "colab": {
          "base_uri": "https://localhost:8080/",
          "height": 206
        },
        "id": "ZDygFN8HAv3V",
        "outputId": "5617c19f-c90f-4108-9a96-410032877fcb"
      },
      "execution_count": null,
      "outputs": [
        {
          "output_type": "execute_result",
          "data": {
            "text/plain": [
              "   Country  Capital  Population (millions)  Official Language  \\\n",
              "0    False    False                  False              False   \n",
              "1    False     True                   True               True   \n",
              "2    False    False                  False              False   \n",
              "3    False    False                  False              False   \n",
              "4    False    False                  False              False   \n",
              "\n",
              "   GDP (trillions USD)  \n",
              "0                False  \n",
              "1                False  \n",
              "2                 True  \n",
              "3                False  \n",
              "4                False  "
            ],
            "text/html": [
              "\n",
              "  <div id=\"df-a84d7100-1639-4928-aba1-bbfd730e8926\">\n",
              "    <div class=\"colab-df-container\">\n",
              "      <div>\n",
              "<style scoped>\n",
              "    .dataframe tbody tr th:only-of-type {\n",
              "        vertical-align: middle;\n",
              "    }\n",
              "\n",
              "    .dataframe tbody tr th {\n",
              "        vertical-align: top;\n",
              "    }\n",
              "\n",
              "    .dataframe thead th {\n",
              "        text-align: right;\n",
              "    }\n",
              "</style>\n",
              "<table border=\"1\" class=\"dataframe\">\n",
              "  <thead>\n",
              "    <tr style=\"text-align: right;\">\n",
              "      <th></th>\n",
              "      <th>Country</th>\n",
              "      <th>Capital</th>\n",
              "      <th>Population (millions)</th>\n",
              "      <th>Official Language</th>\n",
              "      <th>GDP (trillions USD)</th>\n",
              "    </tr>\n",
              "  </thead>\n",
              "  <tbody>\n",
              "    <tr>\n",
              "      <th>0</th>\n",
              "      <td>False</td>\n",
              "      <td>False</td>\n",
              "      <td>False</td>\n",
              "      <td>False</td>\n",
              "      <td>False</td>\n",
              "    </tr>\n",
              "    <tr>\n",
              "      <th>1</th>\n",
              "      <td>False</td>\n",
              "      <td>True</td>\n",
              "      <td>True</td>\n",
              "      <td>True</td>\n",
              "      <td>False</td>\n",
              "    </tr>\n",
              "    <tr>\n",
              "      <th>2</th>\n",
              "      <td>False</td>\n",
              "      <td>False</td>\n",
              "      <td>False</td>\n",
              "      <td>False</td>\n",
              "      <td>True</td>\n",
              "    </tr>\n",
              "    <tr>\n",
              "      <th>3</th>\n",
              "      <td>False</td>\n",
              "      <td>False</td>\n",
              "      <td>False</td>\n",
              "      <td>False</td>\n",
              "      <td>False</td>\n",
              "    </tr>\n",
              "    <tr>\n",
              "      <th>4</th>\n",
              "      <td>False</td>\n",
              "      <td>False</td>\n",
              "      <td>False</td>\n",
              "      <td>False</td>\n",
              "      <td>False</td>\n",
              "    </tr>\n",
              "  </tbody>\n",
              "</table>\n",
              "</div>\n",
              "      <button class=\"colab-df-convert\" onclick=\"convertToInteractive('df-a84d7100-1639-4928-aba1-bbfd730e8926')\"\n",
              "              title=\"Convert this dataframe to an interactive table.\"\n",
              "              style=\"display:none;\">\n",
              "        \n",
              "  <svg xmlns=\"http://www.w3.org/2000/svg\" height=\"24px\"viewBox=\"0 0 24 24\"\n",
              "       width=\"24px\">\n",
              "    <path d=\"M0 0h24v24H0V0z\" fill=\"none\"/>\n",
              "    <path d=\"M18.56 5.44l.94 2.06.94-2.06 2.06-.94-2.06-.94-.94-2.06-.94 2.06-2.06.94zm-11 1L8.5 8.5l.94-2.06 2.06-.94-2.06-.94L8.5 2.5l-.94 2.06-2.06.94zm10 10l.94 2.06.94-2.06 2.06-.94-2.06-.94-.94-2.06-.94 2.06-2.06.94z\"/><path d=\"M17.41 7.96l-1.37-1.37c-.4-.4-.92-.59-1.43-.59-.52 0-1.04.2-1.43.59L10.3 9.45l-7.72 7.72c-.78.78-.78 2.05 0 2.83L4 21.41c.39.39.9.59 1.41.59.51 0 1.02-.2 1.41-.59l7.78-7.78 2.81-2.81c.8-.78.8-2.07 0-2.86zM5.41 20L4 18.59l7.72-7.72 1.47 1.35L5.41 20z\"/>\n",
              "  </svg>\n",
              "      </button>\n",
              "      \n",
              "  <style>\n",
              "    .colab-df-container {\n",
              "      display:flex;\n",
              "      flex-wrap:wrap;\n",
              "      gap: 12px;\n",
              "    }\n",
              "\n",
              "    .colab-df-convert {\n",
              "      background-color: #E8F0FE;\n",
              "      border: none;\n",
              "      border-radius: 50%;\n",
              "      cursor: pointer;\n",
              "      display: none;\n",
              "      fill: #1967D2;\n",
              "      height: 32px;\n",
              "      padding: 0 0 0 0;\n",
              "      width: 32px;\n",
              "    }\n",
              "\n",
              "    .colab-df-convert:hover {\n",
              "      background-color: #E2EBFA;\n",
              "      box-shadow: 0px 1px 2px rgba(60, 64, 67, 0.3), 0px 1px 3px 1px rgba(60, 64, 67, 0.15);\n",
              "      fill: #174EA6;\n",
              "    }\n",
              "\n",
              "    [theme=dark] .colab-df-convert {\n",
              "      background-color: #3B4455;\n",
              "      fill: #D2E3FC;\n",
              "    }\n",
              "\n",
              "    [theme=dark] .colab-df-convert:hover {\n",
              "      background-color: #434B5C;\n",
              "      box-shadow: 0px 1px 3px 1px rgba(0, 0, 0, 0.15);\n",
              "      filter: drop-shadow(0px 1px 2px rgba(0, 0, 0, 0.3));\n",
              "      fill: #FFFFFF;\n",
              "    }\n",
              "  </style>\n",
              "\n",
              "      <script>\n",
              "        const buttonEl =\n",
              "          document.querySelector('#df-a84d7100-1639-4928-aba1-bbfd730e8926 button.colab-df-convert');\n",
              "        buttonEl.style.display =\n",
              "          google.colab.kernel.accessAllowed ? 'block' : 'none';\n",
              "\n",
              "        async function convertToInteractive(key) {\n",
              "          const element = document.querySelector('#df-a84d7100-1639-4928-aba1-bbfd730e8926');\n",
              "          const dataTable =\n",
              "            await google.colab.kernel.invokeFunction('convertToInteractive',\n",
              "                                                     [key], {});\n",
              "          if (!dataTable) return;\n",
              "\n",
              "          const docLinkHtml = 'Like what you see? Visit the ' +\n",
              "            '<a target=\"_blank\" href=https://colab.research.google.com/notebooks/data_table.ipynb>data table notebook</a>'\n",
              "            + ' to learn more about interactive tables.';\n",
              "          element.innerHTML = '';\n",
              "          dataTable['output_type'] = 'display_data';\n",
              "          await google.colab.output.renderOutput(dataTable, element);\n",
              "          const docLink = document.createElement('div');\n",
              "          docLink.innerHTML = docLinkHtml;\n",
              "          element.appendChild(docLink);\n",
              "        }\n",
              "      </script>\n",
              "    </div>\n",
              "  </div>\n",
              "  "
            ]
          },
          "metadata": {},
          "execution_count": 3
        }
      ]
    },
    {
      "cell_type": "markdown",
      "source": [
        "### **Exercise #2:** Drop any rows with missing values."
      ],
      "metadata": {
        "id": "QLR4nIzJAzgL"
      }
    },
    {
      "cell_type": "code",
      "source": [],
      "metadata": {
        "id": "r0W2sLRfA3yg"
      },
      "execution_count": null,
      "outputs": []
    },
    {
      "cell_type": "markdown",
      "source": [
        "**Solution**"
      ],
      "metadata": {
        "id": "I29zejFnA4M0"
      }
    },
    {
      "cell_type": "code",
      "source": [
        "countries_df.dropna()"
      ],
      "metadata": {
        "colab": {
          "base_uri": "https://localhost:8080/",
          "height": 143
        },
        "id": "Oyl1A3zDA4dh",
        "outputId": "5a3a9d09-1860-442b-b0d3-b0c037ae4574"
      },
      "execution_count": null,
      "outputs": [
        {
          "output_type": "execute_result",
          "data": {
            "text/plain": [
              "     Country           Capital  Population (millions) Official Language  \\\n",
              "0        USA  Washington, D.C.                  328.0           English   \n",
              "3     Brazil          Brasília                  211.0        Portuguese   \n",
              "4  Argentina      Buenos Aires                   45.0           Spanish   \n",
              "\n",
              "   GDP (trillions USD)  \n",
              "0                21.44  \n",
              "3                 2.05  \n",
              "4                 0.45  "
            ],
            "text/html": [
              "\n",
              "  <div id=\"df-209c7784-cbda-4b12-b1ba-0d0a39fd527d\">\n",
              "    <div class=\"colab-df-container\">\n",
              "      <div>\n",
              "<style scoped>\n",
              "    .dataframe tbody tr th:only-of-type {\n",
              "        vertical-align: middle;\n",
              "    }\n",
              "\n",
              "    .dataframe tbody tr th {\n",
              "        vertical-align: top;\n",
              "    }\n",
              "\n",
              "    .dataframe thead th {\n",
              "        text-align: right;\n",
              "    }\n",
              "</style>\n",
              "<table border=\"1\" class=\"dataframe\">\n",
              "  <thead>\n",
              "    <tr style=\"text-align: right;\">\n",
              "      <th></th>\n",
              "      <th>Country</th>\n",
              "      <th>Capital</th>\n",
              "      <th>Population (millions)</th>\n",
              "      <th>Official Language</th>\n",
              "      <th>GDP (trillions USD)</th>\n",
              "    </tr>\n",
              "  </thead>\n",
              "  <tbody>\n",
              "    <tr>\n",
              "      <th>0</th>\n",
              "      <td>USA</td>\n",
              "      <td>Washington, D.C.</td>\n",
              "      <td>328.0</td>\n",
              "      <td>English</td>\n",
              "      <td>21.44</td>\n",
              "    </tr>\n",
              "    <tr>\n",
              "      <th>3</th>\n",
              "      <td>Brazil</td>\n",
              "      <td>Brasília</td>\n",
              "      <td>211.0</td>\n",
              "      <td>Portuguese</td>\n",
              "      <td>2.05</td>\n",
              "    </tr>\n",
              "    <tr>\n",
              "      <th>4</th>\n",
              "      <td>Argentina</td>\n",
              "      <td>Buenos Aires</td>\n",
              "      <td>45.0</td>\n",
              "      <td>Spanish</td>\n",
              "      <td>0.45</td>\n",
              "    </tr>\n",
              "  </tbody>\n",
              "</table>\n",
              "</div>\n",
              "      <button class=\"colab-df-convert\" onclick=\"convertToInteractive('df-209c7784-cbda-4b12-b1ba-0d0a39fd527d')\"\n",
              "              title=\"Convert this dataframe to an interactive table.\"\n",
              "              style=\"display:none;\">\n",
              "        \n",
              "  <svg xmlns=\"http://www.w3.org/2000/svg\" height=\"24px\"viewBox=\"0 0 24 24\"\n",
              "       width=\"24px\">\n",
              "    <path d=\"M0 0h24v24H0V0z\" fill=\"none\"/>\n",
              "    <path d=\"M18.56 5.44l.94 2.06.94-2.06 2.06-.94-2.06-.94-.94-2.06-.94 2.06-2.06.94zm-11 1L8.5 8.5l.94-2.06 2.06-.94-2.06-.94L8.5 2.5l-.94 2.06-2.06.94zm10 10l.94 2.06.94-2.06 2.06-.94-2.06-.94-.94-2.06-.94 2.06-2.06.94z\"/><path d=\"M17.41 7.96l-1.37-1.37c-.4-.4-.92-.59-1.43-.59-.52 0-1.04.2-1.43.59L10.3 9.45l-7.72 7.72c-.78.78-.78 2.05 0 2.83L4 21.41c.39.39.9.59 1.41.59.51 0 1.02-.2 1.41-.59l7.78-7.78 2.81-2.81c.8-.78.8-2.07 0-2.86zM5.41 20L4 18.59l7.72-7.72 1.47 1.35L5.41 20z\"/>\n",
              "  </svg>\n",
              "      </button>\n",
              "      \n",
              "  <style>\n",
              "    .colab-df-container {\n",
              "      display:flex;\n",
              "      flex-wrap:wrap;\n",
              "      gap: 12px;\n",
              "    }\n",
              "\n",
              "    .colab-df-convert {\n",
              "      background-color: #E8F0FE;\n",
              "      border: none;\n",
              "      border-radius: 50%;\n",
              "      cursor: pointer;\n",
              "      display: none;\n",
              "      fill: #1967D2;\n",
              "      height: 32px;\n",
              "      padding: 0 0 0 0;\n",
              "      width: 32px;\n",
              "    }\n",
              "\n",
              "    .colab-df-convert:hover {\n",
              "      background-color: #E2EBFA;\n",
              "      box-shadow: 0px 1px 2px rgba(60, 64, 67, 0.3), 0px 1px 3px 1px rgba(60, 64, 67, 0.15);\n",
              "      fill: #174EA6;\n",
              "    }\n",
              "\n",
              "    [theme=dark] .colab-df-convert {\n",
              "      background-color: #3B4455;\n",
              "      fill: #D2E3FC;\n",
              "    }\n",
              "\n",
              "    [theme=dark] .colab-df-convert:hover {\n",
              "      background-color: #434B5C;\n",
              "      box-shadow: 0px 1px 3px 1px rgba(0, 0, 0, 0.15);\n",
              "      filter: drop-shadow(0px 1px 2px rgba(0, 0, 0, 0.3));\n",
              "      fill: #FFFFFF;\n",
              "    }\n",
              "  </style>\n",
              "\n",
              "      <script>\n",
              "        const buttonEl =\n",
              "          document.querySelector('#df-209c7784-cbda-4b12-b1ba-0d0a39fd527d button.colab-df-convert');\n",
              "        buttonEl.style.display =\n",
              "          google.colab.kernel.accessAllowed ? 'block' : 'none';\n",
              "\n",
              "        async function convertToInteractive(key) {\n",
              "          const element = document.querySelector('#df-209c7784-cbda-4b12-b1ba-0d0a39fd527d');\n",
              "          const dataTable =\n",
              "            await google.colab.kernel.invokeFunction('convertToInteractive',\n",
              "                                                     [key], {});\n",
              "          if (!dataTable) return;\n",
              "\n",
              "          const docLinkHtml = 'Like what you see? Visit the ' +\n",
              "            '<a target=\"_blank\" href=https://colab.research.google.com/notebooks/data_table.ipynb>data table notebook</a>'\n",
              "            + ' to learn more about interactive tables.';\n",
              "          element.innerHTML = '';\n",
              "          dataTable['output_type'] = 'display_data';\n",
              "          await google.colab.output.renderOutput(dataTable, element);\n",
              "          const docLink = document.createElement('div');\n",
              "          docLink.innerHTML = docLinkHtml;\n",
              "          element.appendChild(docLink);\n",
              "        }\n",
              "      </script>\n",
              "    </div>\n",
              "  </div>\n",
              "  "
            ]
          },
          "metadata": {},
          "execution_count": 4
        }
      ]
    },
    {
      "cell_type": "markdown",
      "source": [
        "### **Exercise #3:** Drop rows with missing values in the `Capital` column."
      ],
      "metadata": {
        "id": "Xd7fmlfQAqW3"
      }
    },
    {
      "cell_type": "code",
      "source": [],
      "metadata": {
        "id": "kj3L3euNBF5h"
      },
      "execution_count": null,
      "outputs": []
    },
    {
      "cell_type": "markdown",
      "source": [
        "#### **Solution**"
      ],
      "metadata": {
        "id": "pdyvZ4nCBGJJ"
      }
    },
    {
      "cell_type": "code",
      "source": [
        "countries_df.dropna(subset=['Capital'])"
      ],
      "metadata": {
        "colab": {
          "base_uri": "https://localhost:8080/",
          "height": 175
        },
        "id": "p4zt6WbDBEgz",
        "outputId": "3176b705-506e-46ff-e787-15dcf74d6808"
      },
      "execution_count": null,
      "outputs": [
        {
          "output_type": "execute_result",
          "data": {
            "text/plain": [
              "     Country           Capital  Population (millions) Official Language  \\\n",
              "0        USA  Washington, D.C.                  328.0           English   \n",
              "2     Mexico       Mexico City                  130.0           Spanish   \n",
              "3     Brazil          Brasília                  211.0        Portuguese   \n",
              "4  Argentina      Buenos Aires                   45.0           Spanish   \n",
              "\n",
              "   GDP (trillions USD)  \n",
              "0                21.44  \n",
              "2                  NaN  \n",
              "3                 2.05  \n",
              "4                 0.45  "
            ],
            "text/html": [
              "\n",
              "  <div id=\"df-c89249ed-d60d-466c-8b1f-f51eddf46174\">\n",
              "    <div class=\"colab-df-container\">\n",
              "      <div>\n",
              "<style scoped>\n",
              "    .dataframe tbody tr th:only-of-type {\n",
              "        vertical-align: middle;\n",
              "    }\n",
              "\n",
              "    .dataframe tbody tr th {\n",
              "        vertical-align: top;\n",
              "    }\n",
              "\n",
              "    .dataframe thead th {\n",
              "        text-align: right;\n",
              "    }\n",
              "</style>\n",
              "<table border=\"1\" class=\"dataframe\">\n",
              "  <thead>\n",
              "    <tr style=\"text-align: right;\">\n",
              "      <th></th>\n",
              "      <th>Country</th>\n",
              "      <th>Capital</th>\n",
              "      <th>Population (millions)</th>\n",
              "      <th>Official Language</th>\n",
              "      <th>GDP (trillions USD)</th>\n",
              "    </tr>\n",
              "  </thead>\n",
              "  <tbody>\n",
              "    <tr>\n",
              "      <th>0</th>\n",
              "      <td>USA</td>\n",
              "      <td>Washington, D.C.</td>\n",
              "      <td>328.0</td>\n",
              "      <td>English</td>\n",
              "      <td>21.44</td>\n",
              "    </tr>\n",
              "    <tr>\n",
              "      <th>2</th>\n",
              "      <td>Mexico</td>\n",
              "      <td>Mexico City</td>\n",
              "      <td>130.0</td>\n",
              "      <td>Spanish</td>\n",
              "      <td>NaN</td>\n",
              "    </tr>\n",
              "    <tr>\n",
              "      <th>3</th>\n",
              "      <td>Brazil</td>\n",
              "      <td>Brasília</td>\n",
              "      <td>211.0</td>\n",
              "      <td>Portuguese</td>\n",
              "      <td>2.05</td>\n",
              "    </tr>\n",
              "    <tr>\n",
              "      <th>4</th>\n",
              "      <td>Argentina</td>\n",
              "      <td>Buenos Aires</td>\n",
              "      <td>45.0</td>\n",
              "      <td>Spanish</td>\n",
              "      <td>0.45</td>\n",
              "    </tr>\n",
              "  </tbody>\n",
              "</table>\n",
              "</div>\n",
              "      <button class=\"colab-df-convert\" onclick=\"convertToInteractive('df-c89249ed-d60d-466c-8b1f-f51eddf46174')\"\n",
              "              title=\"Convert this dataframe to an interactive table.\"\n",
              "              style=\"display:none;\">\n",
              "        \n",
              "  <svg xmlns=\"http://www.w3.org/2000/svg\" height=\"24px\"viewBox=\"0 0 24 24\"\n",
              "       width=\"24px\">\n",
              "    <path d=\"M0 0h24v24H0V0z\" fill=\"none\"/>\n",
              "    <path d=\"M18.56 5.44l.94 2.06.94-2.06 2.06-.94-2.06-.94-.94-2.06-.94 2.06-2.06.94zm-11 1L8.5 8.5l.94-2.06 2.06-.94-2.06-.94L8.5 2.5l-.94 2.06-2.06.94zm10 10l.94 2.06.94-2.06 2.06-.94-2.06-.94-.94-2.06-.94 2.06-2.06.94z\"/><path d=\"M17.41 7.96l-1.37-1.37c-.4-.4-.92-.59-1.43-.59-.52 0-1.04.2-1.43.59L10.3 9.45l-7.72 7.72c-.78.78-.78 2.05 0 2.83L4 21.41c.39.39.9.59 1.41.59.51 0 1.02-.2 1.41-.59l7.78-7.78 2.81-2.81c.8-.78.8-2.07 0-2.86zM5.41 20L4 18.59l7.72-7.72 1.47 1.35L5.41 20z\"/>\n",
              "  </svg>\n",
              "      </button>\n",
              "      \n",
              "  <style>\n",
              "    .colab-df-container {\n",
              "      display:flex;\n",
              "      flex-wrap:wrap;\n",
              "      gap: 12px;\n",
              "    }\n",
              "\n",
              "    .colab-df-convert {\n",
              "      background-color: #E8F0FE;\n",
              "      border: none;\n",
              "      border-radius: 50%;\n",
              "      cursor: pointer;\n",
              "      display: none;\n",
              "      fill: #1967D2;\n",
              "      height: 32px;\n",
              "      padding: 0 0 0 0;\n",
              "      width: 32px;\n",
              "    }\n",
              "\n",
              "    .colab-df-convert:hover {\n",
              "      background-color: #E2EBFA;\n",
              "      box-shadow: 0px 1px 2px rgba(60, 64, 67, 0.3), 0px 1px 3px 1px rgba(60, 64, 67, 0.15);\n",
              "      fill: #174EA6;\n",
              "    }\n",
              "\n",
              "    [theme=dark] .colab-df-convert {\n",
              "      background-color: #3B4455;\n",
              "      fill: #D2E3FC;\n",
              "    }\n",
              "\n",
              "    [theme=dark] .colab-df-convert:hover {\n",
              "      background-color: #434B5C;\n",
              "      box-shadow: 0px 1px 3px 1px rgba(0, 0, 0, 0.15);\n",
              "      filter: drop-shadow(0px 1px 2px rgba(0, 0, 0, 0.3));\n",
              "      fill: #FFFFFF;\n",
              "    }\n",
              "  </style>\n",
              "\n",
              "      <script>\n",
              "        const buttonEl =\n",
              "          document.querySelector('#df-c89249ed-d60d-466c-8b1f-f51eddf46174 button.colab-df-convert');\n",
              "        buttonEl.style.display =\n",
              "          google.colab.kernel.accessAllowed ? 'block' : 'none';\n",
              "\n",
              "        async function convertToInteractive(key) {\n",
              "          const element = document.querySelector('#df-c89249ed-d60d-466c-8b1f-f51eddf46174');\n",
              "          const dataTable =\n",
              "            await google.colab.kernel.invokeFunction('convertToInteractive',\n",
              "                                                     [key], {});\n",
              "          if (!dataTable) return;\n",
              "\n",
              "          const docLinkHtml = 'Like what you see? Visit the ' +\n",
              "            '<a target=\"_blank\" href=https://colab.research.google.com/notebooks/data_table.ipynb>data table notebook</a>'\n",
              "            + ' to learn more about interactive tables.';\n",
              "          element.innerHTML = '';\n",
              "          dataTable['output_type'] = 'display_data';\n",
              "          await google.colab.output.renderOutput(dataTable, element);\n",
              "          const docLink = document.createElement('div');\n",
              "          docLink.innerHTML = docLinkHtml;\n",
              "          element.appendChild(docLink);\n",
              "        }\n",
              "      </script>\n",
              "    </div>\n",
              "  </div>\n",
              "  "
            ]
          },
          "metadata": {},
          "execution_count": 5
        }
      ]
    },
    {
      "cell_type": "markdown",
      "source": [
        "### **Exercise #4:** Drop the `Population (millions)` column."
      ],
      "metadata": {
        "id": "WM_tET9xBIqE"
      }
    },
    {
      "cell_type": "code",
      "source": [],
      "metadata": {
        "id": "epzWCPuiBN3u"
      },
      "execution_count": null,
      "outputs": []
    },
    {
      "cell_type": "markdown",
      "source": [
        "#### **Solution**"
      ],
      "metadata": {
        "id": "MTr9rTZlBOH-"
      }
    },
    {
      "cell_type": "code",
      "source": [
        "countries_df.drop(columns='Population (millions)')"
      ],
      "metadata": {
        "colab": {
          "base_uri": "https://localhost:8080/",
          "height": 206
        },
        "id": "hex8A-mDBPoK",
        "outputId": "ed7a0bd9-5aa3-4363-f736-0d34b06fe72b"
      },
      "execution_count": null,
      "outputs": [
        {
          "output_type": "execute_result",
          "data": {
            "text/plain": [
              "     Country           Capital Official Language  GDP (trillions USD)\n",
              "0        USA  Washington, D.C.           English                21.44\n",
              "1     Canada               NaN               NaN                 1.84\n",
              "2     Mexico       Mexico City           Spanish                  NaN\n",
              "3     Brazil          Brasília        Portuguese                 2.05\n",
              "4  Argentina      Buenos Aires           Spanish                 0.45"
            ],
            "text/html": [
              "\n",
              "  <div id=\"df-f363354e-aef2-485f-ba61-bbf35c196e4b\">\n",
              "    <div class=\"colab-df-container\">\n",
              "      <div>\n",
              "<style scoped>\n",
              "    .dataframe tbody tr th:only-of-type {\n",
              "        vertical-align: middle;\n",
              "    }\n",
              "\n",
              "    .dataframe tbody tr th {\n",
              "        vertical-align: top;\n",
              "    }\n",
              "\n",
              "    .dataframe thead th {\n",
              "        text-align: right;\n",
              "    }\n",
              "</style>\n",
              "<table border=\"1\" class=\"dataframe\">\n",
              "  <thead>\n",
              "    <tr style=\"text-align: right;\">\n",
              "      <th></th>\n",
              "      <th>Country</th>\n",
              "      <th>Capital</th>\n",
              "      <th>Official Language</th>\n",
              "      <th>GDP (trillions USD)</th>\n",
              "    </tr>\n",
              "  </thead>\n",
              "  <tbody>\n",
              "    <tr>\n",
              "      <th>0</th>\n",
              "      <td>USA</td>\n",
              "      <td>Washington, D.C.</td>\n",
              "      <td>English</td>\n",
              "      <td>21.44</td>\n",
              "    </tr>\n",
              "    <tr>\n",
              "      <th>1</th>\n",
              "      <td>Canada</td>\n",
              "      <td>NaN</td>\n",
              "      <td>NaN</td>\n",
              "      <td>1.84</td>\n",
              "    </tr>\n",
              "    <tr>\n",
              "      <th>2</th>\n",
              "      <td>Mexico</td>\n",
              "      <td>Mexico City</td>\n",
              "      <td>Spanish</td>\n",
              "      <td>NaN</td>\n",
              "    </tr>\n",
              "    <tr>\n",
              "      <th>3</th>\n",
              "      <td>Brazil</td>\n",
              "      <td>Brasília</td>\n",
              "      <td>Portuguese</td>\n",
              "      <td>2.05</td>\n",
              "    </tr>\n",
              "    <tr>\n",
              "      <th>4</th>\n",
              "      <td>Argentina</td>\n",
              "      <td>Buenos Aires</td>\n",
              "      <td>Spanish</td>\n",
              "      <td>0.45</td>\n",
              "    </tr>\n",
              "  </tbody>\n",
              "</table>\n",
              "</div>\n",
              "      <button class=\"colab-df-convert\" onclick=\"convertToInteractive('df-f363354e-aef2-485f-ba61-bbf35c196e4b')\"\n",
              "              title=\"Convert this dataframe to an interactive table.\"\n",
              "              style=\"display:none;\">\n",
              "        \n",
              "  <svg xmlns=\"http://www.w3.org/2000/svg\" height=\"24px\"viewBox=\"0 0 24 24\"\n",
              "       width=\"24px\">\n",
              "    <path d=\"M0 0h24v24H0V0z\" fill=\"none\"/>\n",
              "    <path d=\"M18.56 5.44l.94 2.06.94-2.06 2.06-.94-2.06-.94-.94-2.06-.94 2.06-2.06.94zm-11 1L8.5 8.5l.94-2.06 2.06-.94-2.06-.94L8.5 2.5l-.94 2.06-2.06.94zm10 10l.94 2.06.94-2.06 2.06-.94-2.06-.94-.94-2.06-.94 2.06-2.06.94z\"/><path d=\"M17.41 7.96l-1.37-1.37c-.4-.4-.92-.59-1.43-.59-.52 0-1.04.2-1.43.59L10.3 9.45l-7.72 7.72c-.78.78-.78 2.05 0 2.83L4 21.41c.39.39.9.59 1.41.59.51 0 1.02-.2 1.41-.59l7.78-7.78 2.81-2.81c.8-.78.8-2.07 0-2.86zM5.41 20L4 18.59l7.72-7.72 1.47 1.35L5.41 20z\"/>\n",
              "  </svg>\n",
              "      </button>\n",
              "      \n",
              "  <style>\n",
              "    .colab-df-container {\n",
              "      display:flex;\n",
              "      flex-wrap:wrap;\n",
              "      gap: 12px;\n",
              "    }\n",
              "\n",
              "    .colab-df-convert {\n",
              "      background-color: #E8F0FE;\n",
              "      border: none;\n",
              "      border-radius: 50%;\n",
              "      cursor: pointer;\n",
              "      display: none;\n",
              "      fill: #1967D2;\n",
              "      height: 32px;\n",
              "      padding: 0 0 0 0;\n",
              "      width: 32px;\n",
              "    }\n",
              "\n",
              "    .colab-df-convert:hover {\n",
              "      background-color: #E2EBFA;\n",
              "      box-shadow: 0px 1px 2px rgba(60, 64, 67, 0.3), 0px 1px 3px 1px rgba(60, 64, 67, 0.15);\n",
              "      fill: #174EA6;\n",
              "    }\n",
              "\n",
              "    [theme=dark] .colab-df-convert {\n",
              "      background-color: #3B4455;\n",
              "      fill: #D2E3FC;\n",
              "    }\n",
              "\n",
              "    [theme=dark] .colab-df-convert:hover {\n",
              "      background-color: #434B5C;\n",
              "      box-shadow: 0px 1px 3px 1px rgba(0, 0, 0, 0.15);\n",
              "      filter: drop-shadow(0px 1px 2px rgba(0, 0, 0, 0.3));\n",
              "      fill: #FFFFFF;\n",
              "    }\n",
              "  </style>\n",
              "\n",
              "      <script>\n",
              "        const buttonEl =\n",
              "          document.querySelector('#df-f363354e-aef2-485f-ba61-bbf35c196e4b button.colab-df-convert');\n",
              "        buttonEl.style.display =\n",
              "          google.colab.kernel.accessAllowed ? 'block' : 'none';\n",
              "\n",
              "        async function convertToInteractive(key) {\n",
              "          const element = document.querySelector('#df-f363354e-aef2-485f-ba61-bbf35c196e4b');\n",
              "          const dataTable =\n",
              "            await google.colab.kernel.invokeFunction('convertToInteractive',\n",
              "                                                     [key], {});\n",
              "          if (!dataTable) return;\n",
              "\n",
              "          const docLinkHtml = 'Like what you see? Visit the ' +\n",
              "            '<a target=\"_blank\" href=https://colab.research.google.com/notebooks/data_table.ipynb>data table notebook</a>'\n",
              "            + ' to learn more about interactive tables.';\n",
              "          element.innerHTML = '';\n",
              "          dataTable['output_type'] = 'display_data';\n",
              "          await google.colab.output.renderOutput(dataTable, element);\n",
              "          const docLink = document.createElement('div');\n",
              "          docLink.innerHTML = docLinkHtml;\n",
              "          element.appendChild(docLink);\n",
              "        }\n",
              "      </script>\n",
              "    </div>\n",
              "  </div>\n",
              "  "
            ]
          },
          "metadata": {},
          "execution_count": 6
        }
      ]
    },
    {
      "cell_type": "markdown",
      "source": [
        "### **Exercise #5:** Drop the second row."
      ],
      "metadata": {
        "id": "HQZGWV9iBQiZ"
      }
    },
    {
      "cell_type": "code",
      "source": [],
      "metadata": {
        "id": "6uF-Rm1rBTtZ"
      },
      "execution_count": null,
      "outputs": []
    },
    {
      "cell_type": "markdown",
      "source": [
        "#### **Solution**"
      ],
      "metadata": {
        "id": "p3aqWK37BV2d"
      }
    },
    {
      "cell_type": "code",
      "source": [
        "countries_df.drop(index=1)"
      ],
      "metadata": {
        "colab": {
          "base_uri": "https://localhost:8080/",
          "height": 175
        },
        "id": "I5Yj4psOBT_j",
        "outputId": "5d9f2f5f-3e5f-421f-865e-b7fbb2d5f938"
      },
      "execution_count": null,
      "outputs": [
        {
          "output_type": "execute_result",
          "data": {
            "text/plain": [
              "     Country           Capital  Population (millions) Official Language  \\\n",
              "0        USA  Washington, D.C.                  328.0           English   \n",
              "2     Mexico       Mexico City                  130.0           Spanish   \n",
              "3     Brazil          Brasília                  211.0        Portuguese   \n",
              "4  Argentina      Buenos Aires                   45.0           Spanish   \n",
              "\n",
              "   GDP (trillions USD)  \n",
              "0                21.44  \n",
              "2                  NaN  \n",
              "3                 2.05  \n",
              "4                 0.45  "
            ],
            "text/html": [
              "\n",
              "  <div id=\"df-a75c1f4b-3836-46cc-8d13-0870852cb1a5\">\n",
              "    <div class=\"colab-df-container\">\n",
              "      <div>\n",
              "<style scoped>\n",
              "    .dataframe tbody tr th:only-of-type {\n",
              "        vertical-align: middle;\n",
              "    }\n",
              "\n",
              "    .dataframe tbody tr th {\n",
              "        vertical-align: top;\n",
              "    }\n",
              "\n",
              "    .dataframe thead th {\n",
              "        text-align: right;\n",
              "    }\n",
              "</style>\n",
              "<table border=\"1\" class=\"dataframe\">\n",
              "  <thead>\n",
              "    <tr style=\"text-align: right;\">\n",
              "      <th></th>\n",
              "      <th>Country</th>\n",
              "      <th>Capital</th>\n",
              "      <th>Population (millions)</th>\n",
              "      <th>Official Language</th>\n",
              "      <th>GDP (trillions USD)</th>\n",
              "    </tr>\n",
              "  </thead>\n",
              "  <tbody>\n",
              "    <tr>\n",
              "      <th>0</th>\n",
              "      <td>USA</td>\n",
              "      <td>Washington, D.C.</td>\n",
              "      <td>328.0</td>\n",
              "      <td>English</td>\n",
              "      <td>21.44</td>\n",
              "    </tr>\n",
              "    <tr>\n",
              "      <th>2</th>\n",
              "      <td>Mexico</td>\n",
              "      <td>Mexico City</td>\n",
              "      <td>130.0</td>\n",
              "      <td>Spanish</td>\n",
              "      <td>NaN</td>\n",
              "    </tr>\n",
              "    <tr>\n",
              "      <th>3</th>\n",
              "      <td>Brazil</td>\n",
              "      <td>Brasília</td>\n",
              "      <td>211.0</td>\n",
              "      <td>Portuguese</td>\n",
              "      <td>2.05</td>\n",
              "    </tr>\n",
              "    <tr>\n",
              "      <th>4</th>\n",
              "      <td>Argentina</td>\n",
              "      <td>Buenos Aires</td>\n",
              "      <td>45.0</td>\n",
              "      <td>Spanish</td>\n",
              "      <td>0.45</td>\n",
              "    </tr>\n",
              "  </tbody>\n",
              "</table>\n",
              "</div>\n",
              "      <button class=\"colab-df-convert\" onclick=\"convertToInteractive('df-a75c1f4b-3836-46cc-8d13-0870852cb1a5')\"\n",
              "              title=\"Convert this dataframe to an interactive table.\"\n",
              "              style=\"display:none;\">\n",
              "        \n",
              "  <svg xmlns=\"http://www.w3.org/2000/svg\" height=\"24px\"viewBox=\"0 0 24 24\"\n",
              "       width=\"24px\">\n",
              "    <path d=\"M0 0h24v24H0V0z\" fill=\"none\"/>\n",
              "    <path d=\"M18.56 5.44l.94 2.06.94-2.06 2.06-.94-2.06-.94-.94-2.06-.94 2.06-2.06.94zm-11 1L8.5 8.5l.94-2.06 2.06-.94-2.06-.94L8.5 2.5l-.94 2.06-2.06.94zm10 10l.94 2.06.94-2.06 2.06-.94-2.06-.94-.94-2.06-.94 2.06-2.06.94z\"/><path d=\"M17.41 7.96l-1.37-1.37c-.4-.4-.92-.59-1.43-.59-.52 0-1.04.2-1.43.59L10.3 9.45l-7.72 7.72c-.78.78-.78 2.05 0 2.83L4 21.41c.39.39.9.59 1.41.59.51 0 1.02-.2 1.41-.59l7.78-7.78 2.81-2.81c.8-.78.8-2.07 0-2.86zM5.41 20L4 18.59l7.72-7.72 1.47 1.35L5.41 20z\"/>\n",
              "  </svg>\n",
              "      </button>\n",
              "      \n",
              "  <style>\n",
              "    .colab-df-container {\n",
              "      display:flex;\n",
              "      flex-wrap:wrap;\n",
              "      gap: 12px;\n",
              "    }\n",
              "\n",
              "    .colab-df-convert {\n",
              "      background-color: #E8F0FE;\n",
              "      border: none;\n",
              "      border-radius: 50%;\n",
              "      cursor: pointer;\n",
              "      display: none;\n",
              "      fill: #1967D2;\n",
              "      height: 32px;\n",
              "      padding: 0 0 0 0;\n",
              "      width: 32px;\n",
              "    }\n",
              "\n",
              "    .colab-df-convert:hover {\n",
              "      background-color: #E2EBFA;\n",
              "      box-shadow: 0px 1px 2px rgba(60, 64, 67, 0.3), 0px 1px 3px 1px rgba(60, 64, 67, 0.15);\n",
              "      fill: #174EA6;\n",
              "    }\n",
              "\n",
              "    [theme=dark] .colab-df-convert {\n",
              "      background-color: #3B4455;\n",
              "      fill: #D2E3FC;\n",
              "    }\n",
              "\n",
              "    [theme=dark] .colab-df-convert:hover {\n",
              "      background-color: #434B5C;\n",
              "      box-shadow: 0px 1px 3px 1px rgba(0, 0, 0, 0.15);\n",
              "      filter: drop-shadow(0px 1px 2px rgba(0, 0, 0, 0.3));\n",
              "      fill: #FFFFFF;\n",
              "    }\n",
              "  </style>\n",
              "\n",
              "      <script>\n",
              "        const buttonEl =\n",
              "          document.querySelector('#df-a75c1f4b-3836-46cc-8d13-0870852cb1a5 button.colab-df-convert');\n",
              "        buttonEl.style.display =\n",
              "          google.colab.kernel.accessAllowed ? 'block' : 'none';\n",
              "\n",
              "        async function convertToInteractive(key) {\n",
              "          const element = document.querySelector('#df-a75c1f4b-3836-46cc-8d13-0870852cb1a5');\n",
              "          const dataTable =\n",
              "            await google.colab.kernel.invokeFunction('convertToInteractive',\n",
              "                                                     [key], {});\n",
              "          if (!dataTable) return;\n",
              "\n",
              "          const docLinkHtml = 'Like what you see? Visit the ' +\n",
              "            '<a target=\"_blank\" href=https://colab.research.google.com/notebooks/data_table.ipynb>data table notebook</a>'\n",
              "            + ' to learn more about interactive tables.';\n",
              "          element.innerHTML = '';\n",
              "          dataTable['output_type'] = 'display_data';\n",
              "          await google.colab.output.renderOutput(dataTable, element);\n",
              "          const docLink = document.createElement('div');\n",
              "          docLink.innerHTML = docLinkHtml;\n",
              "          element.appendChild(docLink);\n",
              "        }\n",
              "      </script>\n",
              "    </div>\n",
              "  </div>\n",
              "  "
            ]
          },
          "metadata": {},
          "execution_count": 7
        }
      ]
    },
    {
      "cell_type": "markdown",
      "source": [
        "### **Exercise #6:**  Calculate the mean of the `GDP (trillions USD)` column and then fill missing values with the mean of the column."
      ],
      "metadata": {
        "id": "pbCGgs2MBXFQ"
      }
    },
    {
      "cell_type": "code",
      "source": [],
      "metadata": {
        "id": "Y8rrkcs7BcRQ"
      },
      "execution_count": null,
      "outputs": []
    },
    {
      "cell_type": "code",
      "source": [
        "mean_gdp = countries_df['GDP (trillions USD)'].mean()\n",
        "countries_df['GDP (trillions USD)'] = countries_df['GDP (trillions USD)'].fillna(value=mean_gdp)"
      ],
      "metadata": {
        "id": "JpTKcQH4BjeI"
      },
      "execution_count": null,
      "outputs": []
    },
    {
      "cell_type": "markdown",
      "source": [
        "### **Exercise #7:** Replace `Mexico City` with `CDMX` in the `Capital` column"
      ],
      "metadata": {
        "id": "RUit9TUqBmbg"
      }
    },
    {
      "cell_type": "code",
      "source": [],
      "metadata": {
        "id": "FsJ5KJPaBpu-"
      },
      "execution_count": null,
      "outputs": []
    },
    {
      "cell_type": "markdown",
      "source": [
        "#### **Solution**"
      ],
      "metadata": {
        "id": "rHMaoQz9Bp9V"
      }
    },
    {
      "cell_type": "code",
      "source": [
        "countries_df = countries_df.rename(columns={'Official Language': 'Language'})"
      ],
      "metadata": {
        "id": "DbUJzIWfBrPT"
      },
      "execution_count": null,
      "outputs": []
    },
    {
      "cell_type": "markdown",
      "source": [
        "### **Exercise #8:** What is the data type for each of the columns?"
      ],
      "metadata": {
        "id": "a_odNDY9BuFm"
      }
    },
    {
      "cell_type": "code",
      "source": [],
      "metadata": {
        "id": "btZFgDG7Bx8X"
      },
      "execution_count": null,
      "outputs": []
    },
    {
      "cell_type": "markdown",
      "source": [
        "#### **Solution**"
      ],
      "metadata": {
        "id": "z8Mt0QpSByUK"
      }
    },
    {
      "cell_type": "code",
      "source": [
        "print(countries_df.dtypes)"
      ],
      "metadata": {
        "colab": {
          "base_uri": "https://localhost:8080/"
        },
        "id": "qs8aqINVBzSh",
        "outputId": "2752f4a2-753c-4bcb-a2b3-950242391fd5"
      },
      "execution_count": null,
      "outputs": [
        {
          "output_type": "stream",
          "name": "stdout",
          "text": [
            "Country                   object\n",
            "Capital                   object\n",
            "Population (millions)    float64\n",
            "Language                  object\n",
            "GDP (trillions USD)      float64\n",
            "dtype: object\n"
          ]
        }
      ]
    },
    {
      "cell_type": "markdown",
      "source": [
        "### **Exercise #9:** Insert a new column called `Population Density`."
      ],
      "metadata": {
        "id": "NiSLDN1_B3zL"
      }
    },
    {
      "cell_type": "code",
      "source": [],
      "metadata": {
        "id": "n2s6fcKoB8VS"
      },
      "execution_count": null,
      "outputs": []
    },
    {
      "cell_type": "markdown",
      "source": [
        "#### **Solution**"
      ],
      "metadata": {
        "id": "WlNQauqNB7dd"
      }
    },
    {
      "cell_type": "code",
      "source": [
        "countries_df.insert(3, 'Population Density', countries_df['Population (millions)'] / 3)"
      ],
      "metadata": {
        "id": "v5AtLZm8B60b"
      },
      "execution_count": null,
      "outputs": []
    },
    {
      "cell_type": "markdown",
      "source": [
        "---\n",
        "© 2023 The Coding School, All rights reserved"
      ],
      "metadata": {
        "id": "LsY-B5oVKVW_"
      }
    }
  ]
}