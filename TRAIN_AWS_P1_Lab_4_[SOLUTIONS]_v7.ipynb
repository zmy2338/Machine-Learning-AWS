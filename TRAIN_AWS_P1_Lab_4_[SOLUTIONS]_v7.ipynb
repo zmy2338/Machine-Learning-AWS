{
  "nbformat": 4,
  "nbformat_minor": 0,
  "metadata": {
    "colab": {
      "provenance": [],
      "collapsed_sections": [
        "mbZXQ3rA3NwL",
        "k-WeayqxbFvW",
        "pEFGq1aXb8Ob",
        "hhcCrOIrb-xz",
        "TmujqDuMDmua",
        "8kCYTBSCFaM9",
        "bThXkKxiIhmK",
        "A7ZZMz9CJQKU",
        "h9Xvd-tBJkja",
        "ZBbQ_A7SHG84",
        "XvDIuw6vlsKN",
        "CZtWT0XX_S-6",
        "xYJJNN4i_KfH"
      ],
      "include_colab_link": true
    },
    "kernelspec": {
      "name": "python3",
      "display_name": "Python 3"
    },
    "language_info": {
      "name": "python"
    }
  },
  "cells": [
    {
      "cell_type": "markdown",
      "metadata": {
        "id": "view-in-github",
        "colab_type": "text"
      },
      "source": [
        "<a href=\"https://colab.research.google.com/github/zmy2338/Machine-Learning-AWS/blob/main/TRAIN_AWS_P1_Lab_4_%5BSOLUTIONS%5D_v7.ipynb\" target=\"_parent\"><img src=\"https://colab.research.google.com/assets/colab-badge.svg\" alt=\"Open In Colab\"/></a>"
      ]
    },
    {
      "cell_type": "markdown",
      "source": [
        "# **Lab #4 : Review and Titanic Project**\n",
        "---\n",
        "\n",
        "### **Description**\n",
        "In this lab, you will hone and apply your skills through review and your first official project, particularly working with the Titanic dataset.\n",
        "\n",
        "\n",
        "<br>\n",
        "\n",
        "### **Lab Structure**\n",
        "\n",
        "**Part 0**: [Review](#p0)\n",
        "> **Part 0.1**: [Data Cleaning](#p01)\n",
        "\n",
        "> **Part 0.2**: [Feature Engineering and Selection](#p02)\n",
        "\n",
        "> **Part 0.3**: [Data Visualization](#p03)\n",
        "\n",
        "\n",
        "#### **[Titanic Project](#tp)**\n",
        "\n",
        "**Part 1**: [Data Cleaning](#p1)\n",
        "\n",
        "**Part 2**: [Feature Engineering](#p2)\n",
        "> **Part 2.1**: [Feature Creation](#p21)\n",
        "\n",
        "> **Part 2.2**: [Feature Encoding](#p22)\n",
        "\n",
        "**Part 3**: [EDA and Visualization](#p3)\n",
        "\n",
        "\n",
        "\n",
        "<br>\n",
        "\n",
        "### **Goals** \n",
        "By the end of this lab, you will:\n",
        "* Be comfortable using pandas to clean data.\n",
        "* Understand how to engineer features to better represent characteristics of the data.\n",
        "* Know how to use visualizations to study trends in the data.\n",
        "* Understand what role different factors (features) played in the survival of passengers aboard the Titanic.\n",
        "\n",
        "<br>\n",
        "\n",
        "### **Cheat Sheets**\n",
        "* [Pandas Commands](https://docs.google.com/document/d/1v-MZCgoZJGRcK-69OOu5fYhm58x2G0JUWyi2H53j8Ls/edit)\n",
        "\n",
        "* [Feature Engineering and Selection with Pandas](https://docs.google.com/document/d/191CH-X6zf4lESuThrdIGH6ovzpHK6nb9NRlqSIl30Ig/edit?usp=sharing)\n",
        "\n",
        "* [Data Visualizations](https://docs.google.com/document/d/1EC3tTjRRL5ruNjc1n8UmJNGvN82_S-7rx7LLkMvv1Qk/edit?usp=share_link)\n",
        "\n",
        "<br>\n",
        "\n",
        "**Before starting, run the code below to import all necessary functions and libraries as well as today's datasets.**\n"
      ],
      "metadata": {
        "id": "mbZXQ3rA3NwL"
      }
    },
    {
      "cell_type": "code",
      "source": [
        "import warnings\n",
        "warnings.filterwarnings('ignore')\n",
        "\n",
        "import pandas as pd\n",
        "import matplotlib.pyplot as plt\n",
        "\n",
        "from sklearn.feature_selection import SelectKBest\n",
        "\n",
        "url = \"https://docs.google.com/spreadsheets/d/e/2PACX-1vS9jPkeKJ8QUuAl-fFdg3nJPDP6vx1byvIBl4yW8UZZJ9QEscyALJp1eywKeAg7aAffwdKP63D9osF1/pub?gid=169291584&single=true&output=csv\"\n",
        "movie_df = pd.read_csv(url)\n",
        "\n",
        "data = pd.read_csv(\"https://raw.githubusercontent.com/n-sachdeva/titanic/main/train.csv\")"
      ],
      "metadata": {
        "id": "YAvvLhRIoqYp"
      },
      "execution_count": null,
      "outputs": []
    },
    {
      "cell_type": "markdown",
      "source": [
        "<a name=\"p0\"></a>\n",
        "\n",
        "---\n",
        "## **Part 0: Review [OPTIONAL]**\n",
        "---\n",
        "\n",
        "This section contains optional review problems for the topics we have learned so far. You can use these to prepare for the project below or at a later time to brush up on these topics. In particular, this will look at a dataset containing the top 1000 movies according to the Internet Movie Database (IMDB)."
      ],
      "metadata": {
        "id": "k-WeayqxbFvW"
      }
    },
    {
      "cell_type": "code",
      "source": [
        "movie_df.head()"
      ],
      "metadata": {
        "colab": {
          "base_uri": "https://localhost:8080/",
          "height": 337
        },
        "id": "aN1Zo5Oc1U6G",
        "outputId": "c6f73855-17a1-4cda-fe30-e17ccac7fa78"
      },
      "execution_count": null,
      "outputs": [
        {
          "output_type": "execute_result",
          "data": {
            "text/plain": [
              "               Series_Title  Released_Year  Runtime   Genre  IMDB_Rating  \\\n",
              "0  The Shawshank Redemption           1994    142.0   Drama          9.3   \n",
              "1             The Godfather           1972    175.0   Crime          9.2   \n",
              "2           The Dark Knight           2008    152.0  Action          9.0   \n",
              "3    The Godfather: Part II           1974    202.0   Crime          9.0   \n",
              "4              12 Angry Men           1957     96.0   Crime          9.0   \n",
              "\n",
              "                                            Overview              Director  \\\n",
              "0  Two imprisoned men bond over a number of years...        Frank Darabont   \n",
              "1  An organized crime dynasty's aging patriarch t...  Francis Ford Coppola   \n",
              "2  When the menace known as the Joker wreaks havo...     Christopher Nolan   \n",
              "3  The early life and career of Vito Corleone in ...  Francis Ford Coppola   \n",
              "4  A jury holdout attempts to prevent a miscarria...          Sidney Lumet   \n",
              "\n",
              "            Star1           Star2          Star3           Star4  No_of_Votes  \\\n",
              "0     Tim Robbins  Morgan Freeman     Bob Gunton  William Sadler      2343110   \n",
              "1   Marlon Brando       Al Pacino     James Caan    Diane Keaton      1620367   \n",
              "2  Christian Bale    Heath Ledger  Aaron Eckhart   Michael Caine      2303232   \n",
              "3       Al Pacino  Robert De Niro  Robert Duvall    Diane Keaton      1129952   \n",
              "4     Henry Fonda     Lee J. Cobb  Martin Balsam    John Fiedler       689845   \n",
              "\n",
              "       Gross  \n",
              "0   28341469  \n",
              "1  134966411  \n",
              "2  534858444  \n",
              "3   57300000  \n",
              "4    4360000  "
            ],
            "text/html": [
              "\n",
              "  <div id=\"df-bd4c07bb-58c1-41a5-b2ca-2696de10fec3\">\n",
              "    <div class=\"colab-df-container\">\n",
              "      <div>\n",
              "<style scoped>\n",
              "    .dataframe tbody tr th:only-of-type {\n",
              "        vertical-align: middle;\n",
              "    }\n",
              "\n",
              "    .dataframe tbody tr th {\n",
              "        vertical-align: top;\n",
              "    }\n",
              "\n",
              "    .dataframe thead th {\n",
              "        text-align: right;\n",
              "    }\n",
              "</style>\n",
              "<table border=\"1\" class=\"dataframe\">\n",
              "  <thead>\n",
              "    <tr style=\"text-align: right;\">\n",
              "      <th></th>\n",
              "      <th>Series_Title</th>\n",
              "      <th>Released_Year</th>\n",
              "      <th>Runtime</th>\n",
              "      <th>Genre</th>\n",
              "      <th>IMDB_Rating</th>\n",
              "      <th>Overview</th>\n",
              "      <th>Director</th>\n",
              "      <th>Star1</th>\n",
              "      <th>Star2</th>\n",
              "      <th>Star3</th>\n",
              "      <th>Star4</th>\n",
              "      <th>No_of_Votes</th>\n",
              "      <th>Gross</th>\n",
              "    </tr>\n",
              "  </thead>\n",
              "  <tbody>\n",
              "    <tr>\n",
              "      <th>0</th>\n",
              "      <td>The Shawshank Redemption</td>\n",
              "      <td>1994</td>\n",
              "      <td>142.0</td>\n",
              "      <td>Drama</td>\n",
              "      <td>9.3</td>\n",
              "      <td>Two imprisoned men bond over a number of years...</td>\n",
              "      <td>Frank Darabont</td>\n",
              "      <td>Tim Robbins</td>\n",
              "      <td>Morgan Freeman</td>\n",
              "      <td>Bob Gunton</td>\n",
              "      <td>William Sadler</td>\n",
              "      <td>2343110</td>\n",
              "      <td>28341469</td>\n",
              "    </tr>\n",
              "    <tr>\n",
              "      <th>1</th>\n",
              "      <td>The Godfather</td>\n",
              "      <td>1972</td>\n",
              "      <td>175.0</td>\n",
              "      <td>Crime</td>\n",
              "      <td>9.2</td>\n",
              "      <td>An organized crime dynasty's aging patriarch t...</td>\n",
              "      <td>Francis Ford Coppola</td>\n",
              "      <td>Marlon Brando</td>\n",
              "      <td>Al Pacino</td>\n",
              "      <td>James Caan</td>\n",
              "      <td>Diane Keaton</td>\n",
              "      <td>1620367</td>\n",
              "      <td>134966411</td>\n",
              "    </tr>\n",
              "    <tr>\n",
              "      <th>2</th>\n",
              "      <td>The Dark Knight</td>\n",
              "      <td>2008</td>\n",
              "      <td>152.0</td>\n",
              "      <td>Action</td>\n",
              "      <td>9.0</td>\n",
              "      <td>When the menace known as the Joker wreaks havo...</td>\n",
              "      <td>Christopher Nolan</td>\n",
              "      <td>Christian Bale</td>\n",
              "      <td>Heath Ledger</td>\n",
              "      <td>Aaron Eckhart</td>\n",
              "      <td>Michael Caine</td>\n",
              "      <td>2303232</td>\n",
              "      <td>534858444</td>\n",
              "    </tr>\n",
              "    <tr>\n",
              "      <th>3</th>\n",
              "      <td>The Godfather: Part II</td>\n",
              "      <td>1974</td>\n",
              "      <td>202.0</td>\n",
              "      <td>Crime</td>\n",
              "      <td>9.0</td>\n",
              "      <td>The early life and career of Vito Corleone in ...</td>\n",
              "      <td>Francis Ford Coppola</td>\n",
              "      <td>Al Pacino</td>\n",
              "      <td>Robert De Niro</td>\n",
              "      <td>Robert Duvall</td>\n",
              "      <td>Diane Keaton</td>\n",
              "      <td>1129952</td>\n",
              "      <td>57300000</td>\n",
              "    </tr>\n",
              "    <tr>\n",
              "      <th>4</th>\n",
              "      <td>12 Angry Men</td>\n",
              "      <td>1957</td>\n",
              "      <td>96.0</td>\n",
              "      <td>Crime</td>\n",
              "      <td>9.0</td>\n",
              "      <td>A jury holdout attempts to prevent a miscarria...</td>\n",
              "      <td>Sidney Lumet</td>\n",
              "      <td>Henry Fonda</td>\n",
              "      <td>Lee J. Cobb</td>\n",
              "      <td>Martin Balsam</td>\n",
              "      <td>John Fiedler</td>\n",
              "      <td>689845</td>\n",
              "      <td>4360000</td>\n",
              "    </tr>\n",
              "  </tbody>\n",
              "</table>\n",
              "</div>\n",
              "      <button class=\"colab-df-convert\" onclick=\"convertToInteractive('df-bd4c07bb-58c1-41a5-b2ca-2696de10fec3')\"\n",
              "              title=\"Convert this dataframe to an interactive table.\"\n",
              "              style=\"display:none;\">\n",
              "        \n",
              "  <svg xmlns=\"http://www.w3.org/2000/svg\" height=\"24px\"viewBox=\"0 0 24 24\"\n",
              "       width=\"24px\">\n",
              "    <path d=\"M0 0h24v24H0V0z\" fill=\"none\"/>\n",
              "    <path d=\"M18.56 5.44l.94 2.06.94-2.06 2.06-.94-2.06-.94-.94-2.06-.94 2.06-2.06.94zm-11 1L8.5 8.5l.94-2.06 2.06-.94-2.06-.94L8.5 2.5l-.94 2.06-2.06.94zm10 10l.94 2.06.94-2.06 2.06-.94-2.06-.94-.94-2.06-.94 2.06-2.06.94z\"/><path d=\"M17.41 7.96l-1.37-1.37c-.4-.4-.92-.59-1.43-.59-.52 0-1.04.2-1.43.59L10.3 9.45l-7.72 7.72c-.78.78-.78 2.05 0 2.83L4 21.41c.39.39.9.59 1.41.59.51 0 1.02-.2 1.41-.59l7.78-7.78 2.81-2.81c.8-.78.8-2.07 0-2.86zM5.41 20L4 18.59l7.72-7.72 1.47 1.35L5.41 20z\"/>\n",
              "  </svg>\n",
              "      </button>\n",
              "      \n",
              "  <style>\n",
              "    .colab-df-container {\n",
              "      display:flex;\n",
              "      flex-wrap:wrap;\n",
              "      gap: 12px;\n",
              "    }\n",
              "\n",
              "    .colab-df-convert {\n",
              "      background-color: #E8F0FE;\n",
              "      border: none;\n",
              "      border-radius: 50%;\n",
              "      cursor: pointer;\n",
              "      display: none;\n",
              "      fill: #1967D2;\n",
              "      height: 32px;\n",
              "      padding: 0 0 0 0;\n",
              "      width: 32px;\n",
              "    }\n",
              "\n",
              "    .colab-df-convert:hover {\n",
              "      background-color: #E2EBFA;\n",
              "      box-shadow: 0px 1px 2px rgba(60, 64, 67, 0.3), 0px 1px 3px 1px rgba(60, 64, 67, 0.15);\n",
              "      fill: #174EA6;\n",
              "    }\n",
              "\n",
              "    [theme=dark] .colab-df-convert {\n",
              "      background-color: #3B4455;\n",
              "      fill: #D2E3FC;\n",
              "    }\n",
              "\n",
              "    [theme=dark] .colab-df-convert:hover {\n",
              "      background-color: #434B5C;\n",
              "      box-shadow: 0px 1px 3px 1px rgba(0, 0, 0, 0.15);\n",
              "      filter: drop-shadow(0px 1px 2px rgba(0, 0, 0, 0.3));\n",
              "      fill: #FFFFFF;\n",
              "    }\n",
              "  </style>\n",
              "\n",
              "      <script>\n",
              "        const buttonEl =\n",
              "          document.querySelector('#df-bd4c07bb-58c1-41a5-b2ca-2696de10fec3 button.colab-df-convert');\n",
              "        buttonEl.style.display =\n",
              "          google.colab.kernel.accessAllowed ? 'block' : 'none';\n",
              "\n",
              "        async function convertToInteractive(key) {\n",
              "          const element = document.querySelector('#df-bd4c07bb-58c1-41a5-b2ca-2696de10fec3');\n",
              "          const dataTable =\n",
              "            await google.colab.kernel.invokeFunction('convertToInteractive',\n",
              "                                                     [key], {});\n",
              "          if (!dataTable) return;\n",
              "\n",
              "          const docLinkHtml = 'Like what you see? Visit the ' +\n",
              "            '<a target=\"_blank\" href=https://colab.research.google.com/notebooks/data_table.ipynb>data table notebook</a>'\n",
              "            + ' to learn more about interactive tables.';\n",
              "          element.innerHTML = '';\n",
              "          dataTable['output_type'] = 'display_data';\n",
              "          await google.colab.output.renderOutput(dataTable, element);\n",
              "          const docLink = document.createElement('div');\n",
              "          docLink.innerHTML = docLinkHtml;\n",
              "          element.appendChild(docLink);\n",
              "        }\n",
              "      </script>\n",
              "    </div>\n",
              "  </div>\n",
              "  "
            ]
          },
          "metadata": {},
          "execution_count": 2
        }
      ]
    },
    {
      "cell_type": "markdown",
      "source": [
        "<a name=\"p01\"></a>\n",
        "\n",
        "---\n",
        "### **Part 0.1: Data Cleaning**\n",
        "---"
      ],
      "metadata": {
        "id": "pEFGq1aXb8Ob"
      }
    },
    {
      "cell_type": "markdown",
      "source": [
        "#### **Exercise #1: Remove duplicates using `drop_duplicates()`.**\n",
        "---"
      ],
      "metadata": {
        "id": "AAKEaPKk3PLp"
      }
    },
    {
      "cell_type": "code",
      "source": [
        "movie_df.drop_# COMPLETE THIS LINE"
      ],
      "metadata": {
        "id": "om9bIGBV3PLr",
        "colab": {
          "base_uri": "https://localhost:8080/",
          "height": 287
        },
        "outputId": "fecf2f44-4746-4790-eaaa-175b4bf22cca"
      },
      "execution_count": null,
      "outputs": [
        {
          "output_type": "error",
          "ename": "AttributeError",
          "evalue": "ignored",
          "traceback": [
            "\u001b[0;31m---------------------------------------------------------------------------\u001b[0m",
            "\u001b[0;31mAttributeError\u001b[0m                            Traceback (most recent call last)",
            "\u001b[0;32m<ipython-input-3-dc51d0e0a648>\u001b[0m in \u001b[0;36m<cell line: 1>\u001b[0;34m()\u001b[0m\n\u001b[0;32m----> 1\u001b[0;31m \u001b[0mmovie_df\u001b[0m\u001b[0;34m.\u001b[0m\u001b[0mdrop_\u001b[0m\u001b[0;31m# COMPLETE THIS LINE\u001b[0m\u001b[0;34m\u001b[0m\u001b[0;34m\u001b[0m\u001b[0m\n\u001b[0m",
            "\u001b[0;32m/usr/local/lib/python3.9/dist-packages/pandas/core/generic.py\u001b[0m in \u001b[0;36m__getattr__\u001b[0;34m(self, name)\u001b[0m\n\u001b[1;32m   5900\u001b[0m         ):\n\u001b[1;32m   5901\u001b[0m             \u001b[0;32mreturn\u001b[0m \u001b[0mself\u001b[0m\u001b[0;34m[\u001b[0m\u001b[0mname\u001b[0m\u001b[0;34m]\u001b[0m\u001b[0;34m\u001b[0m\u001b[0;34m\u001b[0m\u001b[0m\n\u001b[0;32m-> 5902\u001b[0;31m         \u001b[0;32mreturn\u001b[0m \u001b[0mobject\u001b[0m\u001b[0;34m.\u001b[0m\u001b[0m__getattribute__\u001b[0m\u001b[0;34m(\u001b[0m\u001b[0mself\u001b[0m\u001b[0;34m,\u001b[0m \u001b[0mname\u001b[0m\u001b[0;34m)\u001b[0m\u001b[0;34m\u001b[0m\u001b[0;34m\u001b[0m\u001b[0m\n\u001b[0m\u001b[1;32m   5903\u001b[0m \u001b[0;34m\u001b[0m\u001b[0m\n\u001b[1;32m   5904\u001b[0m     \u001b[0;32mdef\u001b[0m \u001b[0m__setattr__\u001b[0m\u001b[0;34m(\u001b[0m\u001b[0mself\u001b[0m\u001b[0;34m,\u001b[0m \u001b[0mname\u001b[0m\u001b[0;34m:\u001b[0m \u001b[0mstr\u001b[0m\u001b[0;34m,\u001b[0m \u001b[0mvalue\u001b[0m\u001b[0;34m)\u001b[0m \u001b[0;34m->\u001b[0m \u001b[0;32mNone\u001b[0m\u001b[0;34m:\u001b[0m\u001b[0;34m\u001b[0m\u001b[0;34m\u001b[0m\u001b[0m\n",
            "\u001b[0;31mAttributeError\u001b[0m: 'DataFrame' object has no attribute 'drop_'"
          ]
        }
      ]
    },
    {
      "cell_type": "markdown",
      "source": [
        "##### **Solution**"
      ],
      "metadata": {
        "id": "6Su1e5ts3PLr"
      }
    },
    {
      "cell_type": "code",
      "source": [
        "movie_df.drop_duplicates(inplace=True)"
      ],
      "metadata": {
        "id": "pDMjFsy83PLr"
      },
      "execution_count": null,
      "outputs": []
    },
    {
      "cell_type": "markdown",
      "source": [
        "#### **Exercise #2: Drop specific columns.**\n",
        "---\n",
        "\n",
        "Drop the following columns: `Star3` and `Star4`."
      ],
      "metadata": {
        "id": "orVpBSUZ3PLr"
      }
    },
    {
      "cell_type": "code",
      "source": [
        "movie_df = movie_df.# COMPLETE THIS LINE"
      ],
      "metadata": {
        "id": "ncFDsVXd3PLr"
      },
      "execution_count": null,
      "outputs": []
    },
    {
      "cell_type": "markdown",
      "source": [
        "##### **Solution**"
      ],
      "metadata": {
        "id": "-i-HkJfl3PLs"
      }
    },
    {
      "cell_type": "code",
      "source": [
        "movie_df = movie_df.drop(['Star3', 'Star4'], axis=1)"
      ],
      "metadata": {
        "id": "uRPJyhrh3PLs"
      },
      "execution_count": null,
      "outputs": []
    },
    {
      "cell_type": "markdown",
      "source": [
        "#### **Exercise #3: Fill missing values.**\n",
        "---\n",
        "\n",
        "Fill missing values in the `Runtime` column with the most frequent value (mean).\n"
      ],
      "metadata": {
        "id": "ivYmSjKU3PLs"
      }
    },
    {
      "cell_type": "code",
      "source": [
        "mean_runtime = movie_df[# COMPLETE THIS LINE].mean()[0]\n",
        "\n",
        "# COMPLETE THIS CODE"
      ],
      "metadata": {
        "id": "3MtVzCzn3PLs"
      },
      "execution_count": null,
      "outputs": []
    },
    {
      "cell_type": "markdown",
      "source": [
        "###### **Solution**"
      ],
      "metadata": {
        "id": "rQwnjM4n3PLs"
      }
    },
    {
      "cell_type": "code",
      "source": [
        "mean_runtime = movie_df['Runtime'].mean()\n",
        "\n",
        "movie_df['Runtime'] = movie_df['Runtime'].fillna(mean_runtime)"
      ],
      "metadata": {
        "id": "9YiTHoi13PLs"
      },
      "execution_count": null,
      "outputs": []
    },
    {
      "cell_type": "markdown",
      "source": [
        "#### **Exercise #4: Rename the `Runtime` column to `Runtime (min)`.**\n",
        "---\n"
      ],
      "metadata": {
        "id": "rk-P71lW5CRm"
      }
    },
    {
      "cell_type": "code",
      "source": [
        "# COMPLETE THIS CODE"
      ],
      "metadata": {
        "id": "q1J27LVJ5CRn"
      },
      "execution_count": null,
      "outputs": []
    },
    {
      "cell_type": "markdown",
      "source": [
        "###### **Solution**"
      ],
      "metadata": {
        "id": "Z6l8Qgxn5CRn"
      }
    },
    {
      "cell_type": "code",
      "source": [
        "movie_df = movie_df.rename(columns = {\"Runtime\": \"Runtime (min)\"})"
      ],
      "metadata": {
        "id": "7TNCBdDR5CRn"
      },
      "execution_count": null,
      "outputs": []
    },
    {
      "cell_type": "markdown",
      "source": [
        "#### **Exercise #5: Change the data type of `Runtime (min)` to `'int64'`.**\n",
        "---\n"
      ],
      "metadata": {
        "id": "xOfPS0E75uaR"
      }
    },
    {
      "cell_type": "code",
      "source": [
        "# COMPLETE THIS CODE"
      ],
      "metadata": {
        "id": "2NxR_4XF5uaS"
      },
      "execution_count": null,
      "outputs": []
    },
    {
      "cell_type": "markdown",
      "source": [
        "###### **Solution**"
      ],
      "metadata": {
        "id": "nu0sFLdo5uaS"
      }
    },
    {
      "cell_type": "code",
      "source": [
        "movie_df = movie_df.astype({\"Runtime (min)\": \"int64\"})"
      ],
      "metadata": {
        "id": "sQM0yGmv5uaS"
      },
      "execution_count": null,
      "outputs": []
    },
    {
      "cell_type": "markdown",
      "source": [
        "<a name=\"p02\"></a>\n",
        "\n",
        "---\n",
        "### **Part 0.2: Feature Engineering and Selection**\n",
        "---\n",
        "\n",
        "**If you did not complete Part 0.1, then run the cell below before continuing.**"
      ],
      "metadata": {
        "id": "hhcCrOIrb-xz"
      }
    },
    {
      "cell_type": "code",
      "source": [
        "movie_df.drop_duplicates(inplace=True)\n",
        "\n",
        "mean_runtime = movie_df['Runtime'].mean()\n",
        "movie_df['Runtime'] = movie_df['Runtime'].fillna(mean_runtime)\n",
        "\n",
        "movie_df = movie_df.rename(columns = {\"Runtime\": \"Runtime (min)\"})\n",
        "movie_df = movie_df.astype({\"Runtime (min)\": \"int64\"})"
      ],
      "metadata": {
        "id": "z0Am-lQsEAfc"
      },
      "execution_count": null,
      "outputs": []
    },
    {
      "cell_type": "markdown",
      "source": [
        "#### **Exercise #1: Create a new feature `Runtime (hr)`.**\n",
        "---\n",
        "\n",
        "Create new feature called `Runtime (hr)` that converts `Runtime (min)` to hours by dividing that data by 60."
      ],
      "metadata": {
        "id": "aVMQqH4o9SIh"
      }
    },
    {
      "cell_type": "code",
      "source": [
        "movie_df['Runtime (hr)'] = # COMPLETE THIS LINE"
      ],
      "metadata": {
        "id": "4GuYgii4SgMW"
      },
      "execution_count": null,
      "outputs": []
    },
    {
      "cell_type": "markdown",
      "source": [
        "##### **Solution**"
      ],
      "metadata": {
        "id": "nd2csfOY9SIh"
      }
    },
    {
      "cell_type": "code",
      "source": [
        "movie_df['Runtime (hr)'] = movie_df['Runtime (min)'] / 60"
      ],
      "metadata": {
        "id": "h1CCszgg-NCq"
      },
      "execution_count": null,
      "outputs": []
    },
    {
      "cell_type": "markdown",
      "source": [
        "#### **Exercise #2: Create a new feature `Runtime (short, medium, long)`.**\n",
        "---\n",
        "\n",
        "Create new feature called `Runtime (short, medium, long)` that designates any movie with a runtime:\n",
        "* Less than 90 minutes as 'short'.\n",
        "* Between 90 and 120 minutes as 'medium'.\n",
        "* Longer than 120 minutes as 'long'."
      ],
      "metadata": {
        "id": "At_diuGn-Sjw"
      }
    },
    {
      "cell_type": "code",
      "source": [
        "movie_df.loc[movie_df['Runtime (min)'] < 90, 'Runtime (short, medium, long)'] = # COMPLETE THIS LINE\n",
        "# COMPLETE THIS CODE"
      ],
      "metadata": {
        "id": "yFTDYE4d-Sjx"
      },
      "execution_count": null,
      "outputs": []
    },
    {
      "cell_type": "markdown",
      "source": [
        "##### **Solution**"
      ],
      "metadata": {
        "id": "M_SC3ZKz-Sjx"
      }
    },
    {
      "cell_type": "code",
      "source": [
        "movie_df.loc[movie_df['Runtime (min)'] < 90, 'Runtime (short, medium, long)'] = 'short'\n",
        "movie_df.loc[(movie_df['Runtime (min)'] >= 90) & (movie_df['Runtime (min)'] <= 120), 'Runtime (short, medium, long)'] = 'medium'\n",
        "movie_df.loc[movie_df['Runtime (min)'] > 120, 'Runtime (short, medium, long)'] = 'long'"
      ],
      "metadata": {
        "id": "qBrwQLeL-Sjx"
      },
      "execution_count": null,
      "outputs": []
    },
    {
      "cell_type": "markdown",
      "source": [
        "#### **Exercise #3: Create a new feature `Dollar_Per_Hour`.**\n",
        "---\n",
        "\n",
        "Create new feature called `Dollar_Per_Hour` that stores the result of dividing `Gross` by `Runtime (hr)`."
      ],
      "metadata": {
        "id": "Q7CSHh8BZ9PY"
      }
    },
    {
      "cell_type": "code",
      "source": [
        "# COMPLETE THIS CODE"
      ],
      "metadata": {
        "id": "HLSXLnmCAGOh"
      },
      "execution_count": null,
      "outputs": []
    },
    {
      "cell_type": "markdown",
      "source": [
        "##### **Solution**"
      ],
      "metadata": {
        "id": "xS0M9C0BAGOi"
      }
    },
    {
      "cell_type": "code",
      "source": [
        "movie_df['Dollar_Per_Hour'] = movie_df['Gross'] / movie_df['Runtime (hr)']"
      ],
      "metadata": {
        "id": "btLdaF1PAGOi"
      },
      "execution_count": null,
      "outputs": []
    },
    {
      "cell_type": "markdown",
      "source": [
        "#### **Exercise #4: Create an encoded version of the categorical feature `Genre`.**\n",
        "---\n",
        "\n",
        "Call the feature `Genre_Encoded`. You may find it necessary to use the pandas `unique()` function to find the unique genres to be encoded."
      ],
      "metadata": {
        "id": "oZyNFWe_cbi2"
      }
    },
    {
      "cell_type": "code",
      "source": [],
      "metadata": {
        "id": "_WqprTJmcbi2"
      },
      "execution_count": null,
      "outputs": []
    },
    {
      "cell_type": "markdown",
      "source": [
        "##### **Solution**"
      ],
      "metadata": {
        "id": "YwllLlHXcbi2"
      }
    },
    {
      "cell_type": "code",
      "source": [
        "movie_df['Genre'].unique()"
      ],
      "metadata": {
        "id": "vaVG-iOicbi2"
      },
      "execution_count": null,
      "outputs": []
    },
    {
      "cell_type": "code",
      "source": [
        "genre_map = {'Drama': 0, 'Crime': 1, 'Action': 2, 'Biography': 3, \n",
        "             'Western': 4, 'Comedy': 5, 'Adventure': 6, 'Animation': 7, \n",
        "             'Horror': 8, 'Mystery': 9, 'Film-Noir': 10, 'Fantasy': 11, \n",
        "             'Family': 12, 'Thriller': 13}\n",
        "\n",
        "movie_df['Genre_Encoded'] = movie_df['Genre'].map(genre_map)"
      ],
      "metadata": {
        "id": "r2PosUhqBql0"
      },
      "execution_count": null,
      "outputs": []
    },
    {
      "cell_type": "markdown",
      "source": [
        "#### **Exercise #5: Select the 4 best features using `SelectKBest(...)` to predict the `IMDB_Rating`.**\n",
        "---\n",
        "\n",
        "**Run the cell below to organize the data into numerical features and a label.**"
      ],
      "metadata": {
        "id": "PZcSzCBSetM7"
      }
    },
    {
      "cell_type": "code",
      "source": [
        "features = movie_df.select_dtypes('number')\n",
        "features = features.drop(columns = 'IMDB_Rating')\n",
        "\n",
        "label = movie_df['IMDB_Rating']"
      ],
      "metadata": {
        "id": "tp7V6dXrCnmT"
      },
      "execution_count": null,
      "outputs": []
    },
    {
      "cell_type": "code",
      "source": [
        "feature_selector = # COMPLETE THIS LINE\n",
        "feature_selector.fit_transform(features, label)\n",
        "\n",
        "best_features = movie_df[feature_selector.get_feature_names_out()]\n",
        "\n",
        "best_features.head()"
      ],
      "metadata": {
        "id": "J3q560HfetM8"
      },
      "execution_count": null,
      "outputs": []
    },
    {
      "cell_type": "markdown",
      "source": [
        "##### **Solution**"
      ],
      "metadata": {
        "id": "3aDWuNlXetM8"
      }
    },
    {
      "cell_type": "code",
      "source": [
        "feature_selector = SelectKBest(k = 4)\n",
        "feature_selector.fit_transform(features, label)\n",
        "\n",
        "best_features = movie_df[feature_selector.get_feature_names_out()]\n",
        "\n",
        "best_features.head()"
      ],
      "metadata": {
        "id": "6kB-azLySkH2"
      },
      "execution_count": null,
      "outputs": []
    },
    {
      "cell_type": "markdown",
      "source": [
        "<a name=\"p03\"></a>\n",
        "\n",
        "---\n",
        "### **Part 0.3: Data Visualization**\n",
        "---\n",
        "\n",
        "**If you did not complete Part 0.1, then run the cell below before continuing.**"
      ],
      "metadata": {
        "id": "XxQR7m6jcBOg"
      }
    },
    {
      "cell_type": "code",
      "source": [
        "movie_df.drop_duplicates(inplace=True)\n",
        "\n",
        "mean_runtime = movie_df['Runtime'].mean()\n",
        "movie_df['Runtime'] = movie_df['Runtime'].fillna(mean_runtime)\n",
        "\n",
        "movie_df = movie_df.rename(columns = {\"Runtime\": \"Runtime (min)\"})\n",
        "movie_df = movie_df.astype({\"Runtime (min)\": \"int64\"})"
      ],
      "metadata": {
        "id": "UK2iLU34EYX_"
      },
      "execution_count": null,
      "outputs": []
    },
    {
      "cell_type": "markdown",
      "source": [
        "#### **Exercise #1: Create a scatterplot using `Runtime (min)` as the x-axis value and `Gross` as the y-axis value.**\n",
        "---\n",
        "\n",
        "Make sure to include a meaningful:\n",
        "* Title, ex: `'Gross Money vs. Runtime'`.\n",
        "* X-axis label including units `'min'`.\n",
        "* Y-axis label including units `'USD'`."
      ],
      "metadata": {
        "id": "TmujqDuMDmua"
      }
    },
    {
      "cell_type": "code",
      "source": [],
      "metadata": {
        "id": "4z1ytVFrDmub"
      },
      "execution_count": null,
      "outputs": []
    },
    {
      "cell_type": "markdown",
      "source": [
        "##### **Solution**"
      ],
      "metadata": {
        "id": "kh8jakeJDmuc"
      }
    },
    {
      "cell_type": "code",
      "source": [
        "plt.scatter(movie_df['Runtime (min)'], movie_df['Gross'])\n",
        "\n",
        "plt.title(\"Gross Money vs. Runtime\")\n",
        "plt.xlabel('Runtime (min)')\n",
        "plt.ylabel('Gross (USD)')\n",
        "\n",
        "plt.show()"
      ],
      "metadata": {
        "id": "WW3yEyKCDmuc"
      },
      "execution_count": null,
      "outputs": []
    },
    {
      "cell_type": "markdown",
      "source": [
        "#### **Exercise #2: Create a scatterplot using `Released_Year` as the x-axis value and `Runtime (min)` as the y-axis value.**\n",
        "---\n",
        "\n",
        "Make sure to include a meaningful:\n",
        "* Title, ex: `'Runtime vs. Released_Year'`.\n",
        "* X-axis label.\n",
        "* Y-axis label including units `'min'`."
      ],
      "metadata": {
        "id": "8kCYTBSCFaM9"
      }
    },
    {
      "cell_type": "code",
      "source": [],
      "metadata": {
        "id": "wAuYh9xqFaM-"
      },
      "execution_count": null,
      "outputs": []
    },
    {
      "cell_type": "markdown",
      "source": [
        "##### **Solution**"
      ],
      "metadata": {
        "id": "pP4tVkGaFaM-"
      }
    },
    {
      "cell_type": "code",
      "source": [
        "plt.scatter(movie_df['Released_Year'], movie_df['Runtime (min)'])\n",
        "\n",
        "plt.title(\"Gross Money vs. Runtime\")\n",
        "plt.xlabel('Year')\n",
        "plt.ylabel('Runtime (min)')\n",
        "\n",
        "plt.show()"
      ],
      "metadata": {
        "id": "xSgj0Cp9FaM-"
      },
      "execution_count": null,
      "outputs": []
    },
    {
      "cell_type": "markdown",
      "source": [
        "#### **Exercise #3: Create a *lineplot* using `Runtime (min)` as the x-axis value and `Gross` as the y-axis value.**\n",
        "---\n",
        "\n",
        "Make sure to include a meaningful:\n",
        "* Title, ex: `'Gross Money vs. Runtime'`.\n",
        "* X-axis label including units `'min'`.\n",
        "* Y-axis label including units `'USD'`.\n",
        "\n",
        "<br>\n",
        "\n",
        "**NOTE**: This is not going to be a particularly helpful graph (the scatter plot is a better choice), but we oftentimes can't know this ahead of time. A lot of EDA and Visualizations involves trying a number of things and seeing what helps."
      ],
      "metadata": {
        "id": "bThXkKxiIhmK"
      }
    },
    {
      "cell_type": "code",
      "source": [],
      "metadata": {
        "id": "nPLGxALqIhmK"
      },
      "execution_count": null,
      "outputs": []
    },
    {
      "cell_type": "markdown",
      "source": [
        "##### **Solution**"
      ],
      "metadata": {
        "id": "xGdtkX8nIhmK"
      }
    },
    {
      "cell_type": "code",
      "source": [
        "plt.plot(movie_df['Runtime (min)'], movie_df['Gross'])\n",
        "\n",
        "plt.title(\"Gross Money vs. Runtime\")\n",
        "plt.xlabel('Runtime (min)')\n",
        "plt.ylabel('Gross (USD)')\n",
        "\n",
        "plt.show()"
      ],
      "metadata": {
        "id": "MK_nFrORIhmK"
      },
      "execution_count": null,
      "outputs": []
    },
    {
      "cell_type": "markdown",
      "source": [
        "#### **Exercise #3: Create a *lineplot* using `Runtime (min)` as the x-axis value and `Gross` as the y-axis value.**\n",
        "---\n",
        "\n",
        "Make sure to include a meaningful:\n",
        "* Title, ex: `'Gross Money vs. Runtime'`.\n",
        "* X-axis label including units `'min'`.\n",
        "* Y-axis label including units `'USD'`.\n",
        "\n",
        "<br>\n",
        "\n",
        "**NOTE**: This is not going to be a particularly helpful graph (the scatter plot is a better choice), but we oftentimes can't know this ahead of time. A lot of EDA and Visualizations involves trying a number of things and seeing what helps."
      ],
      "metadata": {
        "id": "A7ZZMz9CJQKU"
      }
    },
    {
      "cell_type": "code",
      "source": [],
      "metadata": {
        "id": "V9Nwq-BhJQKU"
      },
      "execution_count": null,
      "outputs": []
    },
    {
      "cell_type": "markdown",
      "source": [
        "##### **Solution**"
      ],
      "metadata": {
        "id": "pUB5YfGMJQKV"
      }
    },
    {
      "cell_type": "code",
      "source": [
        "plt.plot(movie_df['Runtime (min)'], movie_df['Gross'])\n",
        "\n",
        "plt.title(\"Gross Money vs. Runtime\")\n",
        "plt.xlabel('Runtime (min)')\n",
        "plt.ylabel('Gross (USD)')\n",
        "\n",
        "plt.show()"
      ],
      "metadata": {
        "id": "n0f53-3yJQKV"
      },
      "execution_count": null,
      "outputs": []
    },
    {
      "cell_type": "markdown",
      "source": [
        "#### **Exercise #4: Create a *lineplot* using `Released_Year` as the x-axis value and `Average Gross in Year` as the y-axis value.**\n",
        "---\n",
        "\n",
        "Make sure to include a meaningful:\n",
        "* Title, ex: `'Average Gross Money vs. Released Year'`.\n",
        "* X-axis label.\n",
        "* Y-axis label including units `'USD'`."
      ],
      "metadata": {
        "id": "h9Xvd-tBJkja"
      }
    },
    {
      "cell_type": "code",
      "source": [
        "mean_gross = movie_df.groupby(# COMPLETE THIS LINE\n"
      ],
      "metadata": {
        "id": "Tugg473VJkjb"
      },
      "execution_count": null,
      "outputs": []
    },
    {
      "cell_type": "markdown",
      "source": [
        "##### **Solution**"
      ],
      "metadata": {
        "id": "BG0Vf_8aJkjb"
      }
    },
    {
      "cell_type": "code",
      "source": [
        "mean_gross = movie_df.groupby('Released_Year')['Gross'].mean()\n",
        "\n",
        "plt.plot(mean_gross.index, mean_gross)\n",
        "\n",
        "plt.title(\"Gross Money vs. Released Year\")\n",
        "plt.xlabel('Released Year')\n",
        "plt.ylabel('Gross (USD)')\n",
        "\n",
        "plt.show()"
      ],
      "metadata": {
        "id": "4uunTNSeJkjb"
      },
      "execution_count": null,
      "outputs": []
    },
    {
      "cell_type": "markdown",
      "source": [
        "#### **Exercise #5: Create a bar plot of the number of movies released per year**\n",
        "---\n",
        "\n",
        "Use the DataFrame provided, `movies_per_year` and make sure to include a meaningful:\n",
        "* Title.\n",
        "* X-axis label.\n",
        "* Y-axis label."
      ],
      "metadata": {
        "id": "ZBbQ_A7SHG84"
      }
    },
    {
      "cell_type": "code",
      "source": [
        "movies_per_year = movie_df['Released_Year'].value_counts()\n",
        "\n",
        "plt.bar(movies_per_year.index, # COMPLETE THIS CODE"
      ],
      "metadata": {
        "id": "1mgDNmnWHG85"
      },
      "execution_count": null,
      "outputs": []
    },
    {
      "cell_type": "markdown",
      "source": [
        "##### **Solution**"
      ],
      "metadata": {
        "id": "dmWvStJNHG85"
      }
    },
    {
      "cell_type": "code",
      "source": [
        "movies_per_year = movie_df['Released_Year'].value_counts()\n",
        "\n",
        "plt.bar(movies_per_year.index, movies_per_year)\n",
        "\n",
        "plt.title('Movies Released per Year')\n",
        "plt.xlabel('Year')\n",
        "plt.ylabel('Number of Movies')\n",
        "\n",
        "plt.show()"
      ],
      "metadata": {
        "id": "-vDPF8BEHG85"
      },
      "execution_count": null,
      "outputs": []
    },
    {
      "cell_type": "markdown",
      "source": [
        "#### **Exercise #6: Create a bar plot of the number of Dramas released per year**\n",
        "---\n",
        "\n",
        "Use the DataFrame provided, `movies_per_year` and make sure to include a meaningful:\n",
        "* Title.\n",
        "* X-axis label.\n",
        "* Y-axis label.\n",
        "\n",
        "<br>\n",
        "\n",
        "**Hint**: Recall that you can use `.loc[CRITERIA, :]` to find all data matching given criteria and the example in Exercise #6 for finding the number of movies realeased per year."
      ],
      "metadata": {
        "id": "hA9Yjy0UGHtS"
      }
    },
    {
      "cell_type": "code",
      "source": [
        "# COMPLETE THIS CODE"
      ],
      "metadata": {
        "id": "OTLvzDLNGHtT"
      },
      "execution_count": null,
      "outputs": []
    },
    {
      "cell_type": "markdown",
      "source": [
        "##### **Solution**"
      ],
      "metadata": {
        "id": "gDpMy3F0GHtT"
      }
    },
    {
      "cell_type": "code",
      "source": [
        "drama_df = movie_df.loc[movie_df[\"Genre\"] == \"Drama\", :]\n",
        "dramas_per_year = drama_df['Released_Year'].value_counts()\n",
        "\n",
        "plt.bar(dramas_per_year.index, dramas_per_year)\n",
        "\n",
        "plt.title('Dramas Released per Year')\n",
        "plt.xlabel('Year')\n",
        "plt.ylabel('Number of Dramas')\n",
        "\n",
        "plt.show()"
      ],
      "metadata": {
        "id": "GTXid5xpGHtT"
      },
      "execution_count": null,
      "outputs": []
    },
    {
      "cell_type": "markdown",
      "source": [
        "<a name=\"tp\"></a>\n",
        "\n",
        "---\n",
        "# **Titanic Project**\n",
        "---\n",
        "\n",
        "In the following parts, you will hone and apply your skills to a famous dataset containing information about passengers on the Titanic and whether they survived or not: [Titanic dataset from Kaggle](https://www.kaggle.com/competitions/titanic/overview).\n",
        "\n",
        "\n",
        "<br>\n",
        "\n",
        "There are twelve columns in the dataset. The target column is `Survived` which designates if a passenger survived (1) or not (0). The features initially available are:\n",
        "\n",
        "* `PassengerId`: Numeric, a unique number for each passenger.\n",
        "* `Pclass`: Numeric, the ticket class.\t1 = 1st, 2 = 2nd, 3 = 3rd.\n",
        "* `Name`: Categorical, the name of the passenger.\n",
        "* `Sex`: Categorical, the sex of the passenger.\t\n",
        "* `Age`: Numeric, the passenger's age in years.\n",
        "* `Sibsp`: Numeric, the number of siblings / spouses aboard the Titanic.\n",
        "* `Parch`: Numeric, the number of parents / children aboard the Titanic.\n",
        "* `Ticket`: Categorical, ticket number.\n",
        "* `Fare`: Numeric, passenger fare.\n",
        "* `Cabin`: Categorical, cabin number.\n",
        "* `Embarked`: Categorical, port of embarkation.\tC = Cherbourg, Q = Queenstown, S = Southampton."
      ],
      "metadata": {
        "id": "Ji7AqfTKLQ57"
      }
    },
    {
      "cell_type": "markdown",
      "source": [
        "<a name=\"p1\"></a>\n",
        "\n",
        "---\n",
        "## **Part 1: Data Cleaning**\n",
        "---\n",
        "\n",
        "To help us decide how to clean our data, we will start with some *light* EDA. Then we will drop any duplicates and unnecessary columns and fill in any values as needed."
      ],
      "metadata": {
        "id": "idga37M2FsMR"
      }
    },
    {
      "cell_type": "markdown",
      "source": [
        "### **Exercise #1: Print the first 10 rows of the data.**\n",
        "\n",
        "---"
      ],
      "metadata": {
        "id": "b-soLic_vu7S"
      }
    },
    {
      "cell_type": "code",
      "source": [],
      "metadata": {
        "id": "BwX1p4cz4xIG"
      },
      "execution_count": null,
      "outputs": []
    },
    {
      "cell_type": "markdown",
      "source": [
        "#### **Solution**"
      ],
      "metadata": {
        "id": "VIRi3voV4xng"
      }
    },
    {
      "cell_type": "code",
      "source": [
        "data.head(10)"
      ],
      "metadata": {
        "colab": {
          "base_uri": "https://localhost:8080/",
          "height": 494
        },
        "id": "94BlW-9nLqKv",
        "outputId": "3f04b215-4d0a-4a22-8499-d78046e88e6e"
      },
      "execution_count": null,
      "outputs": [
        {
          "output_type": "execute_result",
          "data": {
            "text/plain": [
              "   PassengerId  Survived  Pclass  \\\n",
              "0            1         0       3   \n",
              "1            2         1       1   \n",
              "2            3         1       3   \n",
              "3            4         1       1   \n",
              "4            5         0       3   \n",
              "5            6         0       3   \n",
              "6            7         0       1   \n",
              "7            8         0       3   \n",
              "8            9         1       3   \n",
              "9           10         1       2   \n",
              "\n",
              "                                                Name     Sex   Age  SibSp  \\\n",
              "0                            Braund, Mr. Owen Harris    male  22.0      1   \n",
              "1  Cumings, Mrs. John Bradley (Florence Briggs Th...  female  38.0      1   \n",
              "2                             Heikkinen, Miss. Laina  female  26.0      0   \n",
              "3       Futrelle, Mrs. Jacques Heath (Lily May Peel)  female  35.0      1   \n",
              "4                           Allen, Mr. William Henry    male  35.0      0   \n",
              "5                                   Moran, Mr. James    male   NaN      0   \n",
              "6                            McCarthy, Mr. Timothy J    male  54.0      0   \n",
              "7                     Palsson, Master. Gosta Leonard    male   2.0      3   \n",
              "8  Johnson, Mrs. Oscar W (Elisabeth Vilhelmina Berg)  female  27.0      0   \n",
              "9                Nasser, Mrs. Nicholas (Adele Achem)  female  14.0      1   \n",
              "\n",
              "   Parch            Ticket     Fare Cabin Embarked  \n",
              "0      0         A/5 21171   7.2500   NaN        S  \n",
              "1      0          PC 17599  71.2833   C85        C  \n",
              "2      0  STON/O2. 3101282   7.9250   NaN        S  \n",
              "3      0            113803  53.1000  C123        S  \n",
              "4      0            373450   8.0500   NaN        S  \n",
              "5      0            330877   8.4583   NaN        Q  \n",
              "6      0             17463  51.8625   E46        S  \n",
              "7      1            349909  21.0750   NaN        S  \n",
              "8      2            347742  11.1333   NaN        S  \n",
              "9      0            237736  30.0708   NaN        C  "
            ],
            "text/html": [
              "\n",
              "  <div id=\"df-9cf419db-6762-41bc-9284-0dee345fdb88\">\n",
              "    <div class=\"colab-df-container\">\n",
              "      <div>\n",
              "<style scoped>\n",
              "    .dataframe tbody tr th:only-of-type {\n",
              "        vertical-align: middle;\n",
              "    }\n",
              "\n",
              "    .dataframe tbody tr th {\n",
              "        vertical-align: top;\n",
              "    }\n",
              "\n",
              "    .dataframe thead th {\n",
              "        text-align: right;\n",
              "    }\n",
              "</style>\n",
              "<table border=\"1\" class=\"dataframe\">\n",
              "  <thead>\n",
              "    <tr style=\"text-align: right;\">\n",
              "      <th></th>\n",
              "      <th>PassengerId</th>\n",
              "      <th>Survived</th>\n",
              "      <th>Pclass</th>\n",
              "      <th>Name</th>\n",
              "      <th>Sex</th>\n",
              "      <th>Age</th>\n",
              "      <th>SibSp</th>\n",
              "      <th>Parch</th>\n",
              "      <th>Ticket</th>\n",
              "      <th>Fare</th>\n",
              "      <th>Cabin</th>\n",
              "      <th>Embarked</th>\n",
              "    </tr>\n",
              "  </thead>\n",
              "  <tbody>\n",
              "    <tr>\n",
              "      <th>0</th>\n",
              "      <td>1</td>\n",
              "      <td>0</td>\n",
              "      <td>3</td>\n",
              "      <td>Braund, Mr. Owen Harris</td>\n",
              "      <td>male</td>\n",
              "      <td>22.0</td>\n",
              "      <td>1</td>\n",
              "      <td>0</td>\n",
              "      <td>A/5 21171</td>\n",
              "      <td>7.2500</td>\n",
              "      <td>NaN</td>\n",
              "      <td>S</td>\n",
              "    </tr>\n",
              "    <tr>\n",
              "      <th>1</th>\n",
              "      <td>2</td>\n",
              "      <td>1</td>\n",
              "      <td>1</td>\n",
              "      <td>Cumings, Mrs. John Bradley (Florence Briggs Th...</td>\n",
              "      <td>female</td>\n",
              "      <td>38.0</td>\n",
              "      <td>1</td>\n",
              "      <td>0</td>\n",
              "      <td>PC 17599</td>\n",
              "      <td>71.2833</td>\n",
              "      <td>C85</td>\n",
              "      <td>C</td>\n",
              "    </tr>\n",
              "    <tr>\n",
              "      <th>2</th>\n",
              "      <td>3</td>\n",
              "      <td>1</td>\n",
              "      <td>3</td>\n",
              "      <td>Heikkinen, Miss. Laina</td>\n",
              "      <td>female</td>\n",
              "      <td>26.0</td>\n",
              "      <td>0</td>\n",
              "      <td>0</td>\n",
              "      <td>STON/O2. 3101282</td>\n",
              "      <td>7.9250</td>\n",
              "      <td>NaN</td>\n",
              "      <td>S</td>\n",
              "    </tr>\n",
              "    <tr>\n",
              "      <th>3</th>\n",
              "      <td>4</td>\n",
              "      <td>1</td>\n",
              "      <td>1</td>\n",
              "      <td>Futrelle, Mrs. Jacques Heath (Lily May Peel)</td>\n",
              "      <td>female</td>\n",
              "      <td>35.0</td>\n",
              "      <td>1</td>\n",
              "      <td>0</td>\n",
              "      <td>113803</td>\n",
              "      <td>53.1000</td>\n",
              "      <td>C123</td>\n",
              "      <td>S</td>\n",
              "    </tr>\n",
              "    <tr>\n",
              "      <th>4</th>\n",
              "      <td>5</td>\n",
              "      <td>0</td>\n",
              "      <td>3</td>\n",
              "      <td>Allen, Mr. William Henry</td>\n",
              "      <td>male</td>\n",
              "      <td>35.0</td>\n",
              "      <td>0</td>\n",
              "      <td>0</td>\n",
              "      <td>373450</td>\n",
              "      <td>8.0500</td>\n",
              "      <td>NaN</td>\n",
              "      <td>S</td>\n",
              "    </tr>\n",
              "    <tr>\n",
              "      <th>5</th>\n",
              "      <td>6</td>\n",
              "      <td>0</td>\n",
              "      <td>3</td>\n",
              "      <td>Moran, Mr. James</td>\n",
              "      <td>male</td>\n",
              "      <td>NaN</td>\n",
              "      <td>0</td>\n",
              "      <td>0</td>\n",
              "      <td>330877</td>\n",
              "      <td>8.4583</td>\n",
              "      <td>NaN</td>\n",
              "      <td>Q</td>\n",
              "    </tr>\n",
              "    <tr>\n",
              "      <th>6</th>\n",
              "      <td>7</td>\n",
              "      <td>0</td>\n",
              "      <td>1</td>\n",
              "      <td>McCarthy, Mr. Timothy J</td>\n",
              "      <td>male</td>\n",
              "      <td>54.0</td>\n",
              "      <td>0</td>\n",
              "      <td>0</td>\n",
              "      <td>17463</td>\n",
              "      <td>51.8625</td>\n",
              "      <td>E46</td>\n",
              "      <td>S</td>\n",
              "    </tr>\n",
              "    <tr>\n",
              "      <th>7</th>\n",
              "      <td>8</td>\n",
              "      <td>0</td>\n",
              "      <td>3</td>\n",
              "      <td>Palsson, Master. Gosta Leonard</td>\n",
              "      <td>male</td>\n",
              "      <td>2.0</td>\n",
              "      <td>3</td>\n",
              "      <td>1</td>\n",
              "      <td>349909</td>\n",
              "      <td>21.0750</td>\n",
              "      <td>NaN</td>\n",
              "      <td>S</td>\n",
              "    </tr>\n",
              "    <tr>\n",
              "      <th>8</th>\n",
              "      <td>9</td>\n",
              "      <td>1</td>\n",
              "      <td>3</td>\n",
              "      <td>Johnson, Mrs. Oscar W (Elisabeth Vilhelmina Berg)</td>\n",
              "      <td>female</td>\n",
              "      <td>27.0</td>\n",
              "      <td>0</td>\n",
              "      <td>2</td>\n",
              "      <td>347742</td>\n",
              "      <td>11.1333</td>\n",
              "      <td>NaN</td>\n",
              "      <td>S</td>\n",
              "    </tr>\n",
              "    <tr>\n",
              "      <th>9</th>\n",
              "      <td>10</td>\n",
              "      <td>1</td>\n",
              "      <td>2</td>\n",
              "      <td>Nasser, Mrs. Nicholas (Adele Achem)</td>\n",
              "      <td>female</td>\n",
              "      <td>14.0</td>\n",
              "      <td>1</td>\n",
              "      <td>0</td>\n",
              "      <td>237736</td>\n",
              "      <td>30.0708</td>\n",
              "      <td>NaN</td>\n",
              "      <td>C</td>\n",
              "    </tr>\n",
              "  </tbody>\n",
              "</table>\n",
              "</div>\n",
              "      <button class=\"colab-df-convert\" onclick=\"convertToInteractive('df-9cf419db-6762-41bc-9284-0dee345fdb88')\"\n",
              "              title=\"Convert this dataframe to an interactive table.\"\n",
              "              style=\"display:none;\">\n",
              "        \n",
              "  <svg xmlns=\"http://www.w3.org/2000/svg\" height=\"24px\"viewBox=\"0 0 24 24\"\n",
              "       width=\"24px\">\n",
              "    <path d=\"M0 0h24v24H0V0z\" fill=\"none\"/>\n",
              "    <path d=\"M18.56 5.44l.94 2.06.94-2.06 2.06-.94-2.06-.94-.94-2.06-.94 2.06-2.06.94zm-11 1L8.5 8.5l.94-2.06 2.06-.94-2.06-.94L8.5 2.5l-.94 2.06-2.06.94zm10 10l.94 2.06.94-2.06 2.06-.94-2.06-.94-.94-2.06-.94 2.06-2.06.94z\"/><path d=\"M17.41 7.96l-1.37-1.37c-.4-.4-.92-.59-1.43-.59-.52 0-1.04.2-1.43.59L10.3 9.45l-7.72 7.72c-.78.78-.78 2.05 0 2.83L4 21.41c.39.39.9.59 1.41.59.51 0 1.02-.2 1.41-.59l7.78-7.78 2.81-2.81c.8-.78.8-2.07 0-2.86zM5.41 20L4 18.59l7.72-7.72 1.47 1.35L5.41 20z\"/>\n",
              "  </svg>\n",
              "      </button>\n",
              "      \n",
              "  <style>\n",
              "    .colab-df-container {\n",
              "      display:flex;\n",
              "      flex-wrap:wrap;\n",
              "      gap: 12px;\n",
              "    }\n",
              "\n",
              "    .colab-df-convert {\n",
              "      background-color: #E8F0FE;\n",
              "      border: none;\n",
              "      border-radius: 50%;\n",
              "      cursor: pointer;\n",
              "      display: none;\n",
              "      fill: #1967D2;\n",
              "      height: 32px;\n",
              "      padding: 0 0 0 0;\n",
              "      width: 32px;\n",
              "    }\n",
              "\n",
              "    .colab-df-convert:hover {\n",
              "      background-color: #E2EBFA;\n",
              "      box-shadow: 0px 1px 2px rgba(60, 64, 67, 0.3), 0px 1px 3px 1px rgba(60, 64, 67, 0.15);\n",
              "      fill: #174EA6;\n",
              "    }\n",
              "\n",
              "    [theme=dark] .colab-df-convert {\n",
              "      background-color: #3B4455;\n",
              "      fill: #D2E3FC;\n",
              "    }\n",
              "\n",
              "    [theme=dark] .colab-df-convert:hover {\n",
              "      background-color: #434B5C;\n",
              "      box-shadow: 0px 1px 3px 1px rgba(0, 0, 0, 0.15);\n",
              "      filter: drop-shadow(0px 1px 2px rgba(0, 0, 0, 0.3));\n",
              "      fill: #FFFFFF;\n",
              "    }\n",
              "  </style>\n",
              "\n",
              "      <script>\n",
              "        const buttonEl =\n",
              "          document.querySelector('#df-9cf419db-6762-41bc-9284-0dee345fdb88 button.colab-df-convert');\n",
              "        buttonEl.style.display =\n",
              "          google.colab.kernel.accessAllowed ? 'block' : 'none';\n",
              "\n",
              "        async function convertToInteractive(key) {\n",
              "          const element = document.querySelector('#df-9cf419db-6762-41bc-9284-0dee345fdb88');\n",
              "          const dataTable =\n",
              "            await google.colab.kernel.invokeFunction('convertToInteractive',\n",
              "                                                     [key], {});\n",
              "          if (!dataTable) return;\n",
              "\n",
              "          const docLinkHtml = 'Like what you see? Visit the ' +\n",
              "            '<a target=\"_blank\" href=https://colab.research.google.com/notebooks/data_table.ipynb>data table notebook</a>'\n",
              "            + ' to learn more about interactive tables.';\n",
              "          element.innerHTML = '';\n",
              "          dataTable['output_type'] = 'display_data';\n",
              "          await google.colab.output.renderOutput(dataTable, element);\n",
              "          const docLink = document.createElement('div');\n",
              "          docLink.innerHTML = docLinkHtml;\n",
              "          element.appendChild(docLink);\n",
              "        }\n",
              "      </script>\n",
              "    </div>\n",
              "  </div>\n",
              "  "
            ]
          },
          "metadata": {},
          "execution_count": 2
        }
      ]
    },
    {
      "cell_type": "markdown",
      "source": [
        "### **Exercise #2: Print a summary of the dataset.**\n",
        "\n",
        "---\n",
        "\n",
        "Next, let's check if we have any missing values using the `pandas` `info()` function."
      ],
      "metadata": {
        "id": "PpqP2XZg92DQ"
      }
    },
    {
      "cell_type": "code",
      "source": [],
      "metadata": {
        "id": "yjc7caDhG618"
      },
      "execution_count": null,
      "outputs": []
    },
    {
      "cell_type": "markdown",
      "source": [
        "#### **Solution**"
      ],
      "metadata": {
        "id": "tOjUmI35G7Mc"
      }
    },
    {
      "cell_type": "code",
      "source": [
        "data.info()"
      ],
      "metadata": {
        "colab": {
          "base_uri": "https://localhost:8080/"
        },
        "id": "iYa7q65D2F0N",
        "outputId": "bea55da8-24f7-487a-d18b-e40e0e8ca8e3"
      },
      "execution_count": null,
      "outputs": [
        {
          "output_type": "stream",
          "name": "stdout",
          "text": [
            "<class 'pandas.core.frame.DataFrame'>\n",
            "RangeIndex: 891 entries, 0 to 890\n",
            "Data columns (total 12 columns):\n",
            " #   Column       Non-Null Count  Dtype  \n",
            "---  ------       --------------  -----  \n",
            " 0   PassengerId  891 non-null    int64  \n",
            " 1   Survived     891 non-null    int64  \n",
            " 2   Pclass       891 non-null    int64  \n",
            " 3   Name         891 non-null    object \n",
            " 4   Sex          891 non-null    object \n",
            " 5   Age          714 non-null    float64\n",
            " 6   SibSp        891 non-null    int64  \n",
            " 7   Parch        891 non-null    int64  \n",
            " 8   Ticket       891 non-null    object \n",
            " 9   Fare         891 non-null    float64\n",
            " 10  Cabin        204 non-null    object \n",
            " 11  Embarked     889 non-null    object \n",
            "dtypes: float64(2), int64(5), object(5)\n",
            "memory usage: 83.7+ KB\n"
          ]
        }
      ]
    },
    {
      "cell_type": "markdown",
      "source": [
        "### **General Questions To Think About**\n",
        "\n",
        "At this point in the process, it's generally good to consider:\n",
        "\n",
        "* Which columns contain missing values?\n",
        "* Why might it not be a good idea to drop all rows with a missing value?\n",
        "* For a numerical feature, what can you fill the missing values with?\n",
        "* For a categorical feature, what can you fill the missing values with?\n",
        "* Are there any columns will not be useful for the analysis? If so, why?\n",
        "\n",
        "\n",
        "<br>\n",
        "\n",
        "Now that we have some basic information on our dataset, let's do some data cleaning."
      ],
      "metadata": {
        "id": "4zbLfm2oL9ga"
      }
    },
    {
      "cell_type": "markdown",
      "source": [
        "### **Exercise #3: Remove duplicates using `drop_duplicates()`.**\n",
        "---"
      ],
      "metadata": {
        "id": "9YaUcbqiwdyq"
      }
    },
    {
      "cell_type": "code",
      "source": [],
      "metadata": {
        "id": "0N5S_2v25PPG"
      },
      "execution_count": null,
      "outputs": []
    },
    {
      "cell_type": "markdown",
      "source": [
        "#### **Solution**"
      ],
      "metadata": {
        "id": "AMY6m2755Pqe"
      }
    },
    {
      "cell_type": "code",
      "source": [
        "data.drop_duplicates(inplace=True)"
      ],
      "metadata": {
        "id": "IbZQvX8jwj2h"
      },
      "execution_count": null,
      "outputs": []
    },
    {
      "cell_type": "markdown",
      "source": [
        "### **Exercise #4: Drop unnecessary columns.**\n",
        "---\n",
        "\n",
        "Drop the following columns: `PassengerId`, `Name`, `Ticket`, and `Cabin`."
      ],
      "metadata": {
        "id": "dt1wfEdDwnWx"
      }
    },
    {
      "cell_type": "code",
      "source": [],
      "metadata": {
        "id": "TPnkiEjQ5RTe"
      },
      "execution_count": null,
      "outputs": []
    },
    {
      "cell_type": "markdown",
      "source": [
        "#### **Solution**"
      ],
      "metadata": {
        "id": "YvRxBbFh5Rst"
      }
    },
    {
      "cell_type": "code",
      "source": [
        "data = data.drop(['PassengerId', 'Name', 'Ticket', 'Cabin'], axis=1)"
      ],
      "metadata": {
        "id": "Z5Eak2xhw4HR"
      },
      "execution_count": null,
      "outputs": []
    },
    {
      "cell_type": "markdown",
      "source": [
        "### **Exercise #5: Fill missing values.**\n",
        "---\n",
        "\n",
        "Fill missing values in the `Embarked` column with the most frequent value (mode).\n"
      ],
      "metadata": {
        "id": "202R6dLMxArK"
      }
    },
    {
      "cell_type": "code",
      "source": [
        "most_frequent = data['Embarked'].mode()[0]\n",
        "\n",
        "# COMPLETE THIS CODE"
      ],
      "metadata": {
        "id": "pWoFJ0Xn5TUJ"
      },
      "execution_count": null,
      "outputs": []
    },
    {
      "cell_type": "markdown",
      "source": [
        "###### **Solution**"
      ],
      "metadata": {
        "id": "nNuJtisy5UR9"
      }
    },
    {
      "cell_type": "code",
      "source": [
        "most_frequent = data['Embarked'].mode()[0]\n",
        "\n",
        "data['Embarked'] = data['Embarked'].fillna(most_frequent)"
      ],
      "metadata": {
        "id": "G4BeDqwtw_lX"
      },
      "execution_count": null,
      "outputs": []
    },
    {
      "cell_type": "markdown",
      "source": [
        "### **Exercise #6: Fill missing values.**\n",
        "---\n",
        "\n",
        "Fill missing values in the `Age` column with the median value.\n"
      ],
      "metadata": {
        "id": "g5r-t0K9-W3a"
      }
    },
    {
      "cell_type": "code",
      "source": [
        "median_age = data['Age'].median()\n",
        "\n",
        "# COMPLETE THIS CODE"
      ],
      "metadata": {
        "id": "rltP1H_U-W3a"
      },
      "execution_count": null,
      "outputs": []
    },
    {
      "cell_type": "markdown",
      "source": [
        "#### **Solution**"
      ],
      "metadata": {
        "id": "zndQcu3--W3b"
      }
    },
    {
      "cell_type": "code",
      "source": [
        "median_age = data['Age'].median()\n",
        "\n",
        "data['Age'] = data['Age'].fillna(median_age)"
      ],
      "metadata": {
        "id": "sEOVaftp-W3b"
      },
      "execution_count": null,
      "outputs": []
    },
    {
      "cell_type": "markdown",
      "metadata": {
        "id": "XvDIuw6vlsKN"
      },
      "source": [
        "<a name=\"p2\"></a>\n",
        "\n",
        "---\n",
        "## **Part 2: Feature Engineering**\n",
        "---\n",
        "\n",
        "Now that we have cleaned our data, we can move on to feature engineering. Specifically, we will create new relevant features and encode categorical ones."
      ]
    },
    {
      "cell_type": "markdown",
      "source": [
        "<a name=\"p21\"></a>\n",
        "\n",
        "---\n",
        "### **Part 2.1: Feature Creation**\n",
        "---"
      ],
      "metadata": {
        "id": "CZtWT0XX_S-6"
      }
    },
    {
      "cell_type": "markdown",
      "source": [
        "#### **Exercise #1: Create a new feature `AgeGroup`.**\n",
        "---\n",
        "\n",
        "Create a new feature that designates anyone:\n",
        "* Younger than 18 as `Child`.\n",
        "* Between 18 and 65 as `Adult`.\n",
        "* Over 65 as `Elderly`."
      ],
      "metadata": {
        "id": "-KWx9geR0RM3"
      }
    },
    {
      "cell_type": "code",
      "source": [],
      "metadata": {
        "id": "MrUnsZvnJeXy"
      },
      "execution_count": null,
      "outputs": []
    },
    {
      "cell_type": "markdown",
      "source": [
        "##### **Solution**"
      ],
      "metadata": {
        "id": "JEjYFqY65YEO"
      }
    },
    {
      "cell_type": "code",
      "source": [
        "data.loc[data['Age'] < 18, 'AgeGroup'] = 'Child'\n",
        "data.loc[(data['Age'] >= 18) & (data['Age'] < 65), 'AgeGroup'] = 'Adult'\n",
        "data.loc[data['Age'] >= 65, 'AgeGroup'] = 'Elderly'"
      ],
      "metadata": {
        "id": "-jJbdH-l0fV4"
      },
      "execution_count": null,
      "outputs": []
    },
    {
      "cell_type": "markdown",
      "source": [
        "#### **Exercise #2: Create a new feature `FareGroup`.**\n",
        "---\n",
        "\n",
        "Using `pd.qcut()`, divide fares into four buckets: `Cheap`, `Low`, `High`, `Expensive`.\n",
        "\n"
      ],
      "metadata": {
        "id": "TnO2ED3f06B0"
      }
    },
    {
      "cell_type": "code",
      "source": [],
      "metadata": {
        "id": "GIzAd3_95Zj_"
      },
      "execution_count": null,
      "outputs": []
    },
    {
      "cell_type": "markdown",
      "source": [
        "##### **Solution**"
      ],
      "metadata": {
        "id": "CeBpSvkP5aG1"
      }
    },
    {
      "cell_type": "code",
      "source": [
        "data['FareGroup'] = pd.qcut(data['Fare'], 4, labels=['Cheap','Low','High','Expensive'])"
      ],
      "metadata": {
        "id": "hAl5MQGZ05CQ"
      },
      "execution_count": null,
      "outputs": []
    },
    {
      "cell_type": "markdown",
      "source": [
        "#### **Exercise #3: Create a new feature `FamilySize`.**\n",
        "---\n",
        "\n",
        "Create a new feature by adding the columns `Sibsp` and `Parch` and including the ticket-holder themselves.\n"
      ],
      "metadata": {
        "id": "6BaL1gMi0Fd1"
      }
    },
    {
      "cell_type": "code",
      "source": [],
      "metadata": {
        "id": "wQ-xHV--5V7_"
      },
      "execution_count": null,
      "outputs": []
    },
    {
      "cell_type": "markdown",
      "source": [
        "##### **Solution**"
      ],
      "metadata": {
        "id": "1cKQVNN55WT8"
      }
    },
    {
      "cell_type": "code",
      "source": [
        "data['FamilySize'] = data['SibSp'] + data['Parch'] + 1"
      ],
      "metadata": {
        "id": "2baYzt240OEk"
      },
      "execution_count": null,
      "outputs": []
    },
    {
      "cell_type": "markdown",
      "source": [
        "<a name=\"p22\"></a>\n",
        "\n",
        "---\n",
        "### **Part 2.2: Feature Encoding**\n",
        "---\n",
        "\n",
        "We need to convert categorical variables to numerical ones. We will use the approach you learned yesterday: label encoding."
      ],
      "metadata": {
        "id": "xYJJNN4i_KfH"
      }
    },
    {
      "cell_type": "markdown",
      "source": [
        "#### **Exercise #1: Create an encoded version of the categorical feature `Sex`.**"
      ],
      "metadata": {
        "id": "9g8F5ArdJ4e0"
      }
    },
    {
      "cell_type": "code",
      "source": [
        "# Define the mapping of labels to integers\n",
        "label_map = {# COMPLETE THIS LINE\n",
        "\n",
        "# Use the map() function to replace the labels with their corresponding integers\n",
        "data['Sex_encoded'] = # COMPLETE THIS LINE"
      ],
      "metadata": {
        "id": "Pf7wysCSJ4e_"
      },
      "execution_count": null,
      "outputs": []
    },
    {
      "cell_type": "markdown",
      "source": [
        "##### **Solution**"
      ],
      "metadata": {
        "id": "UVI427RFJ4e_"
      }
    },
    {
      "cell_type": "code",
      "source": [
        "# Define the mapping of labels to integers\n",
        "label_map = {'male': 0, 'female': 1}\n",
        "\n",
        "# Use the map() function to replace the labels with their corresponding integers\n",
        "data['Sex_encoded'] = data['Sex'].map(label_map)"
      ],
      "metadata": {
        "id": "i1Sry99_AAUB"
      },
      "execution_count": null,
      "outputs": []
    },
    {
      "cell_type": "markdown",
      "source": [
        "#### **Exercise #2: Create an encoded version of the categorical feature `AgeGroup`.**"
      ],
      "metadata": {
        "id": "K5tWcercATc5"
      }
    },
    {
      "cell_type": "code",
      "source": [
        "# Define the mapping of labels to integers\n",
        "age_map = # COMPLETE THIS LINE\n",
        "\n",
        "# Use the map() function to replace the labels with their corresponding integers\n",
        "data['AgeGroup_encoded'] = # COMPLETE THIS LINE"
      ],
      "metadata": {
        "id": "67hLDLZy5bgU"
      },
      "execution_count": null,
      "outputs": []
    },
    {
      "cell_type": "markdown",
      "source": [
        "##### **Solution**"
      ],
      "metadata": {
        "id": "mdwAggTC5b94"
      }
    },
    {
      "cell_type": "code",
      "source": [
        "# Define the mapping of labels to integers\n",
        "label_map = {'Child': 0, 'Adult': 1, 'Elderly': 2}\n",
        "\n",
        "# Use the map() function to replace the labels with their corresponding integers\n",
        "data['AgeGroup_encoded'] = data['AgeGroup'].map(label_map)"
      ],
      "metadata": {
        "id": "pH8hpoFaAKiW"
      },
      "execution_count": null,
      "outputs": []
    },
    {
      "cell_type": "markdown",
      "source": [
        "#### **Exercise #3: Create an encoded version of the categorical feature `FareGroup`.**"
      ],
      "metadata": {
        "id": "pTo3oXSn6nA4"
      }
    },
    {
      "cell_type": "code",
      "source": [
        "# COMPLETE THIS CODE"
      ],
      "metadata": {
        "id": "tAFZ8xTR6-y3"
      },
      "execution_count": null,
      "outputs": []
    },
    {
      "cell_type": "markdown",
      "source": [
        "##### **Solution**"
      ],
      "metadata": {
        "id": "fhbjc_rV7GCc"
      }
    },
    {
      "cell_type": "code",
      "source": [
        "# Define the mapping of labels to integers\n",
        "fare_map = {'Cheap': 0, 'Low': 1, 'High': 2, 'Expensive': 3}\n",
        "\n",
        "# Use the map() function to replace the labels with their corresponding integers\n",
        "data['FareGroup_encoded'] = data['FareGroup'].map(fare_map)"
      ],
      "metadata": {
        "id": "RhrqcTLA7KYF"
      },
      "execution_count": null,
      "outputs": []
    },
    {
      "cell_type": "markdown",
      "source": [
        "#### **Exercise #4: Create an encoded version of the categorical feature `Embarked`.**"
      ],
      "metadata": {
        "id": "hDbyuF2F6zr6"
      }
    },
    {
      "cell_type": "code",
      "source": [
        "# COMPLETE THIS CODE"
      ],
      "metadata": {
        "id": "9nVs_2ot6_Mi"
      },
      "execution_count": null,
      "outputs": []
    },
    {
      "cell_type": "markdown",
      "source": [
        "##### **Solution**"
      ],
      "metadata": {
        "id": "YWr5e_TC7I_l"
      }
    },
    {
      "cell_type": "code",
      "source": [
        "# Define the mapping of labels to integers\n",
        "embark_map = {'S': 0, 'C': 1, 'Q': 2}\n",
        "\n",
        "# Use the map() function to replace the labels with their corresponding integers\n",
        "data['Embarked_encoded'] = data['Embarked'].map(embark_map)"
      ],
      "metadata": {
        "id": "y3PGjlA27Jmp"
      },
      "execution_count": null,
      "outputs": []
    },
    {
      "cell_type": "code",
      "source": [],
      "metadata": {
        "id": "ReSXq5G7SdlY"
      },
      "execution_count": null,
      "outputs": []
    },
    {
      "cell_type": "markdown",
      "source": [
        "<a name=\"p3\"></a>\n",
        "\n",
        "---\n",
        "## **Part 3: EDA and Visualization**\n",
        "---\n",
        "\n",
        "In this section, we will explore and visualize the data to gain insight into what factors contribute to a passenger's survival.\n",
        "\n",
        "<br>\n",
        "\n",
        "**NOTE**: Because we will eventually use this data to build ML models, it is necessary to split the data into a training and validation set *before* we do EDA. Not doing so is an example of how data leakage can occur. \n",
        "\n",
        "We can split the dataframe in `pandas` using the `sample()` function. **You do not need to remember this.**\n",
        "\n",
        "<br>\n",
        "\n",
        "**Run the code below to split the dataset.**"
      ],
      "metadata": {
        "id": "PRXvpimQ4hdz"
      }
    },
    {
      "cell_type": "code",
      "source": [
        "train = data.sample(frac = 0.8)\n",
        " \n",
        "# Creating dataframe with the remaining 20%\n",
        "validation = data.drop(train.index)"
      ],
      "metadata": {
        "id": "wjueNffl3xsg"
      },
      "execution_count": null,
      "outputs": []
    },
    {
      "cell_type": "markdown",
      "source": [
        "**It is vital that we only use the `train` data for the EDA below.**"
      ],
      "metadata": {
        "id": "YLz_Up-A45TW"
      }
    },
    {
      "cell_type": "markdown",
      "source": [
        "### **Exercise #1: Create a bar plot that shows passenger counts by gender.**\n",
        "\n",
        "---\n",
        "\n",
        "**Hint:** Use `value_counts()`."
      ],
      "metadata": {
        "id": "BSxVIXuEaEYp"
      }
    },
    {
      "cell_type": "code",
      "source": [
        "mf_counts = train# COMPLETE THIS LINE\n",
        "\n",
        "\n",
        "plt.bar(mf_counts.index, mf_counts.values)\n",
        "\n",
        "plt.title(# COMPLETE THIS LINE\n",
        "plt.xlabel(# COMPLETE THIS LINE\n",
        "plt.ylabel(# COMPLETE THIS LINE\n",
        "\n",
        "plt.show()"
      ],
      "metadata": {
        "id": "OgGxETGwad9R"
      },
      "execution_count": null,
      "outputs": []
    },
    {
      "cell_type": "markdown",
      "source": [
        "#### **Solution**"
      ],
      "metadata": {
        "id": "SFcLBENaaeZn"
      }
    },
    {
      "cell_type": "code",
      "source": [
        "mf_counts = train['Sex'].value_counts()\n",
        "\n",
        "\n",
        "plt.bar(mf_counts.index, mf_counts.values)\n",
        "\n",
        "plt.title('Passenger Counts by Sex')\n",
        "plt.xlabel('Sex')\n",
        "plt.ylabel('Count')\n",
        "\n",
        "plt.show()"
      ],
      "metadata": {
        "colab": {
          "base_uri": "https://localhost:8080/",
          "height": 472
        },
        "id": "BaPWYhH98LUC",
        "outputId": "6a00c8f1-631e-4c2e-c18b-e1245b3366d0"
      },
      "execution_count": null,
      "outputs": [
        {
          "output_type": "display_data",
          "data": {
            "text/plain": [
              "<Figure size 640x480 with 1 Axes>"
            ],
            "image/png": "[encoded data removed]"
          },
          "metadata": {}
        }
      ]
    },
    {
      "cell_type": "markdown",
      "source": [
        "### **Exercise #2: Use `groupby()` to get the survival rate of passengers grouped by age.**\n",
        "\n",
        "---\n",
        "\n",
        "Use `AgeGroup` as the input to `groupby`, then aggregate `Survived` by mean."
      ],
      "metadata": {
        "id": "ZUPeLtFxamjs"
      }
    },
    {
      "cell_type": "code",
      "source": [
        "grouped_by_age = train.# COMPLETE THIS LINE\n",
        "\n",
        "grouped_by_age[# COMPLETE THIS LINE].mean()"
      ],
      "metadata": {
        "id": "pCECblN2bg9M"
      },
      "execution_count": null,
      "outputs": []
    },
    {
      "cell_type": "markdown",
      "source": [
        "#### **Solution**"
      ],
      "metadata": {
        "id": "Su6PFgSqbhk4"
      }
    },
    {
      "cell_type": "code",
      "source": [
        "grouped_by_age = train.groupby('AgeGroup')\n",
        "\n",
        "grouped_by_age['Survived'].mean()"
      ],
      "metadata": {
        "colab": {
          "base_uri": "https://localhost:8080/"
        },
        "id": "2OV69EP2ZW6l",
        "outputId": "3247b344-0140-4c2e-b53b-0afefbfde4be"
      },
      "execution_count": null,
      "outputs": [
        {
          "output_type": "execute_result",
          "data": {
            "text/plain": [
              "AgeGroup\n",
              "Adult      0.381494\n",
              "Child      0.551724\n",
              "Elderly    0.100000\n",
              "Name: Survived, dtype: float64"
            ]
          },
          "metadata": {},
          "execution_count": 18
        }
      ]
    },
    {
      "cell_type": "markdown",
      "source": [
        "### **Exercise #3: Make a scatter plot of `Age` vs. `Fare`.**\n",
        "\n",
        "---"
      ],
      "metadata": {
        "id": "gGpNPvP-dAz6"
      }
    },
    {
      "cell_type": "code",
      "source": [],
      "metadata": {
        "id": "7RtEWhE4dTp5"
      },
      "execution_count": null,
      "outputs": []
    },
    {
      "cell_type": "markdown",
      "source": [
        "#### **Solution**"
      ],
      "metadata": {
        "id": "ecsQk5WadUFP"
      }
    },
    {
      "cell_type": "code",
      "source": [
        "plt.scatter(train['Age'], train['Fare'])\n",
        "\n",
        "plt.title('Age vs Fare')\n",
        "plt.xlabel('Age')\n",
        "plt.ylabel('Fare')\n",
        "\n",
        "plt.show()"
      ],
      "metadata": {
        "colab": {
          "base_uri": "https://localhost:8080/",
          "height": 472
        },
        "id": "-PY3hxMr5yQO",
        "outputId": "48f291a2-013e-4a7f-f235-731328b5dd3e"
      },
      "execution_count": null,
      "outputs": [
        {
          "output_type": "display_data",
          "data": {
            "text/plain": [
              "<Figure size 640x480 with 1 Axes>"
            ],
            "image/png": "[encoded data removed]"
          },
          "metadata": {}
        }
      ]
    },
    {
      "cell_type": "markdown",
      "source": [
        "### **Define the `plot_survival(column)` function.**\n",
        "\n",
        "---\n",
        "\n",
        "To wrap up, you will need to answer several questions about this dataset using your work above, what you have learned about pandas and matplotlib, and a plotting function we've defined below. \n",
        "\n",
        "<br>\n",
        "\n",
        "This function, `plot_survival(column)` makes bar plots of survival rates and counts of any categorical variable passed in as `column`.\n",
        "\n",
        "**Run the code below to define this plotting function.**"
      ],
      "metadata": {
        "id": "gey1vQ06MaK0"
      }
    },
    {
      "cell_type": "code",
      "source": [
        "def plot_survival(column):\n",
        "  survival_rate = train.groupby(column)['Survived'].mean()\n",
        "\n",
        "  # create a bar plot for survival rate\n",
        "  fig, (ax1, ax2) = plt.subplots(1,2,figsize=(10,5))\n",
        "  ax1.bar(x=survival_rate.index, height=survival_rate.values, color=['tab:blue'])\n",
        "  ax1.set_ylabel('Survival rate')\n",
        "  ax1.set_xlabel(column)\n",
        "\n",
        "  # create a count plot for a given column\n",
        "  counts = train.groupby([column, 'Survived']).size().unstack()\n",
        "  width = 0.5\n",
        "  x = counts.index\n",
        "  survived = counts[1]\n",
        "  not_survived = counts[0]\n",
        "  ax2.bar(x, survived, width, label='Survived', color='tab:blue')\n",
        "  ax2.bar(x, not_survived, width, bottom=survived, label='Not Survived', color='tab:orange')\n",
        "\n",
        "  # set the labels and legend\n",
        "  ax2.set_ylabel('Counts')\n",
        "  ax2.set_xlabel(column)\n",
        "  ax2.legend()\n",
        "  plt.show()"
      ],
      "metadata": {
        "id": "OmorV_rNlB-f"
      },
      "execution_count": null,
      "outputs": []
    },
    {
      "cell_type": "markdown",
      "source": [
        "Below is an example of how to use the function. Run the cell below to plot survival by age group."
      ],
      "metadata": {
        "id": "2a1vdxhoeAg9"
      }
    },
    {
      "cell_type": "code",
      "source": [
        "plot_survival('AgeGroup')"
      ],
      "metadata": {
        "colab": {
          "base_uri": "https://localhost:8080/",
          "height": 465
        },
        "id": "FBxgEvH4cPNH",
        "outputId": "4ca13571-ac0e-40c2-adb8-2f04d8ffb1a2"
      },
      "execution_count": null,
      "outputs": [
        {
          "output_type": "display_data",
          "data": {
            "text/plain": [
              "<Figure size 1000x500 with 2 Axes>"
            ],
            "image/png": "[encoded data removed]"
          },
          "metadata": {}
        }
      ]
    },
    {
      "cell_type": "markdown",
      "source": [
        "### **Question #1: How many passengers survived vs. didn't survive?**\n",
        "\n",
        "---\n",
        "\n",
        "**Hint**: This is a matter of *counting* how many *values* of the `Survived` column are 0 (didn't survive) vs. 1 (did survive)."
      ],
      "metadata": {
        "id": "-6a_iVoTOW4_"
      }
    },
    {
      "cell_type": "code",
      "source": [],
      "metadata": {
        "id": "5kWQCtjCRqu1"
      },
      "execution_count": null,
      "outputs": []
    },
    {
      "cell_type": "markdown",
      "source": [
        "#### **Solution**"
      ],
      "metadata": {
        "id": "Ut1A-nBpOW5A"
      }
    },
    {
      "cell_type": "code",
      "source": [
        "train['Survived'].value_counts()"
      ],
      "metadata": {
        "colab": {
          "base_uri": "https://localhost:8080/"
        },
        "id": "1WyIvhUFOm4g",
        "outputId": "598e0088-caa9-419e-ea60-d1c381c3568c"
      },
      "execution_count": null,
      "outputs": [
        {
          "output_type": "execute_result",
          "data": {
            "text/plain": [
              "0    429\n",
              "1    284\n",
              "Name: Survived, dtype: int64"
            ]
          },
          "metadata": {},
          "execution_count": 25
        }
      ]
    },
    {
      "cell_type": "markdown",
      "source": [
        "### **Question #2: How did passenger class affect survival rates?**\n",
        "\n",
        "---\n",
        "\n",
        "**Hint**: This is the kind of question that the `plot_survival(column)` function can help with. Furthermore, if you don't remember an exact column name off the top of your head, it can be useful to print out `train.columns` to see a list of all available columns."
      ],
      "metadata": {
        "id": "UXfpupuOPqCI"
      }
    },
    {
      "cell_type": "code",
      "source": [],
      "metadata": {
        "id": "ZUVTFWrnPqCS"
      },
      "execution_count": null,
      "outputs": []
    },
    {
      "cell_type": "markdown",
      "source": [
        "#### **Solution**"
      ],
      "metadata": {
        "id": "I4TmmGeXPqCS"
      }
    },
    {
      "cell_type": "code",
      "source": [
        "plot_survival('Pclass')"
      ],
      "metadata": {
        "colab": {
          "base_uri": "https://localhost:8080/",
          "height": 465
        },
        "id": "DXB9f2hpPvbp",
        "outputId": "52eb2d79-9e59-4f44-d146-cef908c5917b"
      },
      "execution_count": null,
      "outputs": [
        {
          "output_type": "display_data",
          "data": {
            "text/plain": [
              "<Figure size 1000x500 with 2 Axes>"
            ],
            "image/png": "[encoded data removed]"
          },
          "metadata": {}
        }
      ]
    },
    {
      "cell_type": "markdown",
      "source": [
        "### **Question #3: How did being male or female affect survival rates?**\n",
        "\n",
        "---"
      ],
      "metadata": {
        "id": "u4AdwEigQMMJ"
      }
    },
    {
      "cell_type": "code",
      "source": [],
      "metadata": {
        "id": "JRkbDveGQMMJ"
      },
      "execution_count": null,
      "outputs": []
    },
    {
      "cell_type": "markdown",
      "source": [
        "#### **Solution**"
      ],
      "metadata": {
        "id": "AXz6FEn8QMMJ"
      }
    },
    {
      "cell_type": "code",
      "source": [
        "plot_survival('Sex')"
      ],
      "metadata": {
        "colab": {
          "base_uri": "https://localhost:8080/",
          "height": 465
        },
        "outputId": "3c397530-b196-4902-85b7-b079d52a4122",
        "id": "2LNxOTu1QMMJ"
      },
      "execution_count": null,
      "outputs": [
        {
          "output_type": "display_data",
          "data": {
            "text/plain": [
              "<Figure size 1000x500 with 2 Axes>"
            ],
            "image/png": "[encoded data removed]"
          },
          "metadata": {}
        }
      ]
    },
    {
      "cell_type": "markdown",
      "source": [
        "### **Question #4: How did having family members onboard affect survival rates?**\n",
        "\n",
        "---"
      ],
      "metadata": {
        "id": "ePaDM4QVRgF4"
      }
    },
    {
      "cell_type": "code",
      "source": [],
      "metadata": {
        "id": "URliaZjKRgF4"
      },
      "execution_count": null,
      "outputs": []
    },
    {
      "cell_type": "markdown",
      "source": [
        "#### **Solution**"
      ],
      "metadata": {
        "id": "LsXgwJLARgF4"
      }
    },
    {
      "cell_type": "code",
      "source": [
        "plot_survival('FamilySize')"
      ],
      "metadata": {
        "colab": {
          "base_uri": "https://localhost:8080/",
          "height": 465
        },
        "outputId": "9b499f6e-02c4-48bc-8002-490a9ad4b846",
        "id": "COMZGm0CRgF4"
      },
      "execution_count": null,
      "outputs": [
        {
          "output_type": "display_data",
          "data": {
            "text/plain": [
              "<Figure size 1000x500 with 2 Axes>"
            ],
            "image/png": "[encoded data removed]"
          },
          "metadata": {}
        }
      ]
    },
    {
      "cell_type": "markdown",
      "source": [
        "### **Question #5: How did age group affect survival rates?**\n",
        "\n",
        "---"
      ],
      "metadata": {
        "id": "IiTQVcbeR3dI"
      }
    },
    {
      "cell_type": "code",
      "source": [],
      "metadata": {
        "id": "S062GWODR3dJ"
      },
      "execution_count": null,
      "outputs": []
    },
    {
      "cell_type": "markdown",
      "source": [
        "#### **Solution**"
      ],
      "metadata": {
        "id": "rCsy2lnSR3dJ"
      }
    },
    {
      "cell_type": "code",
      "source": [
        "plot_survival('AgeGroup')"
      ],
      "metadata": {
        "colab": {
          "base_uri": "https://localhost:8080/",
          "height": 465
        },
        "outputId": "c5314baa-23e8-46ac-9707-8243e6e66425",
        "id": "hNuF2yYJR3dJ"
      },
      "execution_count": null,
      "outputs": [
        {
          "output_type": "display_data",
          "data": {
            "text/plain": [
              "<Figure size 1000x500 with 2 Axes>"
            ],
            "image/png": "[encoded data removed]"
          },
          "metadata": {}
        }
      ]
    },
    {
      "cell_type": "markdown",
      "source": [
        "### **Question #6: How did fare group affect survival rates?**\n",
        "\n",
        "---"
      ],
      "metadata": {
        "id": "Katq9PC4R_QN"
      }
    },
    {
      "cell_type": "code",
      "source": [],
      "metadata": {
        "id": "DCmhyvQdR_QN"
      },
      "execution_count": null,
      "outputs": []
    },
    {
      "cell_type": "markdown",
      "source": [
        "#### **Solution**"
      ],
      "metadata": {
        "id": "FisC2YfqR_QO"
      }
    },
    {
      "cell_type": "code",
      "source": [
        "plot_survival('FareGroup')"
      ],
      "metadata": {
        "colab": {
          "base_uri": "https://localhost:8080/",
          "height": 465
        },
        "outputId": "c78f3c5b-4e95-411f-877f-e2122d53eb02",
        "id": "YSEl0Co4R_QO"
      },
      "execution_count": null,
      "outputs": [
        {
          "output_type": "display_data",
          "data": {
            "text/plain": [
              "<Figure size 1000x500 with 2 Axes>"
            ],
            "image/png": "[encoded data removed]"
          },
          "metadata": {}
        }
      ]
    },
    {
      "cell_type": "markdown",
      "source": [
        "### **Question #7: How did the port of embarkation affect survival rates?**\n",
        "\n",
        "---"
      ],
      "metadata": {
        "id": "wo1JIZkYSHwf"
      }
    },
    {
      "cell_type": "code",
      "source": [],
      "metadata": {
        "id": "cZ4CAHiySHwg"
      },
      "execution_count": null,
      "outputs": []
    },
    {
      "cell_type": "markdown",
      "source": [
        "#### **Solution**"
      ],
      "metadata": {
        "id": "qZAZ4Ft6SHwg"
      }
    },
    {
      "cell_type": "code",
      "source": [
        "plot_survival('Embarked')"
      ],
      "metadata": {
        "colab": {
          "base_uri": "https://localhost:8080/",
          "height": 465
        },
        "outputId": "0c9cca6a-10bb-40cb-d589-4f434d7343b3",
        "id": "x1fFl3kgSHwg"
      },
      "execution_count": null,
      "outputs": [
        {
          "output_type": "display_data",
          "data": {
            "text/plain": [
              "<Figure size 1000x500 with 2 Axes>"
            ],
            "image/png": "[encoded data removed]"
          },
          "metadata": {}
        }
      ]
    },
    {
      "cell_type": "markdown",
      "source": [
        "### **Question #8: What 3 features would be most useful for predicting survival?**\n",
        "\n",
        "---\n",
        "\n",
        "**Hint**: `SelectKBest(...)` would be helpful here.\n",
        "\n",
        "**Run the code below to organize the data into numerical features and the label.**"
      ],
      "metadata": {
        "id": "pSTPwenvcGEJ"
      }
    },
    {
      "cell_type": "code",
      "source": [
        "features = train.select_dtypes('number')\n",
        "features = features.drop('Survived', axis = 1)\n",
        "\n",
        "label = train['Survived']"
      ],
      "metadata": {
        "id": "R5RNc4B2caqz"
      },
      "execution_count": null,
      "outputs": []
    },
    {
      "cell_type": "code",
      "source": [],
      "metadata": {
        "id": "g8pWekJucGEK"
      },
      "execution_count": null,
      "outputs": []
    },
    {
      "cell_type": "markdown",
      "source": [
        "#### **Solution**"
      ],
      "metadata": {
        "id": "DN-9Ic4vcGEK"
      }
    },
    {
      "cell_type": "code",
      "source": [
        "feature_selector = SelectKBest(k = 3)\n",
        "feature_selector.fit_transform(features, label)\n",
        "\n",
        "best_features = train[feature_selector.get_feature_names_out()]\n",
        "\n",
        "best_features.head()"
      ],
      "metadata": {
        "colab": {
          "base_uri": "https://localhost:8080/",
          "height": 206
        },
        "outputId": "1d5910ae-b97b-4128-9b40-58ca456cf7e9",
        "id": "BsiNEq7fcGEK"
      },
      "execution_count": null,
      "outputs": [
        {
          "output_type": "execute_result",
          "data": {
            "text/plain": [
              "     Pclass     Fare  Sex_encoded\n",
              "169       3  56.4958            0\n",
              "316       2  26.0000            1\n",
              "410       3   7.8958            0\n",
              "295       1  27.7208            0\n",
              "432       2  26.0000            1"
            ],
            "text/html": [
              "\n",
              "  <div id=\"df-6ec47324-2e0a-42df-965f-c38dd93b76f4\">\n",
              "    <div class=\"colab-df-container\">\n",
              "      <div>\n",
              "<style scoped>\n",
              "    .dataframe tbody tr th:only-of-type {\n",
              "        vertical-align: middle;\n",
              "    }\n",
              "\n",
              "    .dataframe tbody tr th {\n",
              "        vertical-align: top;\n",
              "    }\n",
              "\n",
              "    .dataframe thead th {\n",
              "        text-align: right;\n",
              "    }\n",
              "</style>\n",
              "<table border=\"1\" class=\"dataframe\">\n",
              "  <thead>\n",
              "    <tr style=\"text-align: right;\">\n",
              "      <th></th>\n",
              "      <th>Pclass</th>\n",
              "      <th>Fare</th>\n",
              "      <th>Sex_encoded</th>\n",
              "    </tr>\n",
              "  </thead>\n",
              "  <tbody>\n",
              "    <tr>\n",
              "      <th>169</th>\n",
              "      <td>3</td>\n",
              "      <td>56.4958</td>\n",
              "      <td>0</td>\n",
              "    </tr>\n",
              "    <tr>\n",
              "      <th>316</th>\n",
              "      <td>2</td>\n",
              "      <td>26.0000</td>\n",
              "      <td>1</td>\n",
              "    </tr>\n",
              "    <tr>\n",
              "      <th>410</th>\n",
              "      <td>3</td>\n",
              "      <td>7.8958</td>\n",
              "      <td>0</td>\n",
              "    </tr>\n",
              "    <tr>\n",
              "      <th>295</th>\n",
              "      <td>1</td>\n",
              "      <td>27.7208</td>\n",
              "      <td>0</td>\n",
              "    </tr>\n",
              "    <tr>\n",
              "      <th>432</th>\n",
              "      <td>2</td>\n",
              "      <td>26.0000</td>\n",
              "      <td>1</td>\n",
              "    </tr>\n",
              "  </tbody>\n",
              "</table>\n",
              "</div>\n",
              "      <button class=\"colab-df-convert\" onclick=\"convertToInteractive('df-6ec47324-2e0a-42df-965f-c38dd93b76f4')\"\n",
              "              title=\"Convert this dataframe to an interactive table.\"\n",
              "              style=\"display:none;\">\n",
              "        \n",
              "  <svg xmlns=\"http://www.w3.org/2000/svg\" height=\"24px\"viewBox=\"0 0 24 24\"\n",
              "       width=\"24px\">\n",
              "    <path d=\"M0 0h24v24H0V0z\" fill=\"none\"/>\n",
              "    <path d=\"M18.56 5.44l.94 2.06.94-2.06 2.06-.94-2.06-.94-.94-2.06-.94 2.06-2.06.94zm-11 1L8.5 8.5l.94-2.06 2.06-.94-2.06-.94L8.5 2.5l-.94 2.06-2.06.94zm10 10l.94 2.06.94-2.06 2.06-.94-2.06-.94-.94-2.06-.94 2.06-2.06.94z\"/><path d=\"M17.41 7.96l-1.37-1.37c-.4-.4-.92-.59-1.43-.59-.52 0-1.04.2-1.43.59L10.3 9.45l-7.72 7.72c-.78.78-.78 2.05 0 2.83L4 21.41c.39.39.9.59 1.41.59.51 0 1.02-.2 1.41-.59l7.78-7.78 2.81-2.81c.8-.78.8-2.07 0-2.86zM5.41 20L4 18.59l7.72-7.72 1.47 1.35L5.41 20z\"/>\n",
              "  </svg>\n",
              "      </button>\n",
              "      \n",
              "  <style>\n",
              "    .colab-df-container {\n",
              "      display:flex;\n",
              "      flex-wrap:wrap;\n",
              "      gap: 12px;\n",
              "    }\n",
              "\n",
              "    .colab-df-convert {\n",
              "      background-color: #E8F0FE;\n",
              "      border: none;\n",
              "      border-radius: 50%;\n",
              "      cursor: pointer;\n",
              "      display: none;\n",
              "      fill: #1967D2;\n",
              "      height: 32px;\n",
              "      padding: 0 0 0 0;\n",
              "      width: 32px;\n",
              "    }\n",
              "\n",
              "    .colab-df-convert:hover {\n",
              "      background-color: #E2EBFA;\n",
              "      box-shadow: 0px 1px 2px rgba(60, 64, 67, 0.3), 0px 1px 3px 1px rgba(60, 64, 67, 0.15);\n",
              "      fill: #174EA6;\n",
              "    }\n",
              "\n",
              "    [theme=dark] .colab-df-convert {\n",
              "      background-color: #3B4455;\n",
              "      fill: #D2E3FC;\n",
              "    }\n",
              "\n",
              "    [theme=dark] .colab-df-convert:hover {\n",
              "      background-color: #434B5C;\n",
              "      box-shadow: 0px 1px 3px 1px rgba(0, 0, 0, 0.15);\n",
              "      filter: drop-shadow(0px 1px 2px rgba(0, 0, 0, 0.3));\n",
              "      fill: #FFFFFF;\n",
              "    }\n",
              "  </style>\n",
              "\n",
              "      <script>\n",
              "        const buttonEl =\n",
              "          document.querySelector('#df-6ec47324-2e0a-42df-965f-c38dd93b76f4 button.colab-df-convert');\n",
              "        buttonEl.style.display =\n",
              "          google.colab.kernel.accessAllowed ? 'block' : 'none';\n",
              "\n",
              "        async function convertToInteractive(key) {\n",
              "          const element = document.querySelector('#df-6ec47324-2e0a-42df-965f-c38dd93b76f4');\n",
              "          const dataTable =\n",
              "            await google.colab.kernel.invokeFunction('convertToInteractive',\n",
              "                                                     [key], {});\n",
              "          if (!dataTable) return;\n",
              "\n",
              "          const docLinkHtml = 'Like what you see? Visit the ' +\n",
              "            '<a target=\"_blank\" href=https://colab.research.google.com/notebooks/data_table.ipynb>data table notebook</a>'\n",
              "            + ' to learn more about interactive tables.';\n",
              "          element.innerHTML = '';\n",
              "          dataTable['output_type'] = 'display_data';\n",
              "          await google.colab.output.renderOutput(dataTable, element);\n",
              "          const docLink = document.createElement('div');\n",
              "          docLink.innerHTML = docLinkHtml;\n",
              "          element.appendChild(docLink);\n",
              "        }\n",
              "      </script>\n",
              "    </div>\n",
              "  </div>\n",
              "  "
            ]
          },
          "metadata": {},
          "execution_count": 47
        }
      ]
    },
    {
      "cell_type": "markdown",
      "source": [
        "## **Wrapping Up**\n",
        "\n",
        "Congratulations on completing a data science project! Not all data science projects include machine learning. Drawing insights from data through EDA, feature engineering, and visualizations is data science! In a later lab, you will continue your project with machine learning to make survival predictions for individual passengers."
      ],
      "metadata": {
        "id": "Tma6WvJZ4SW9"
      }
    },
    {
      "cell_type": "markdown",
      "source": [
        "#End of notebook\n",
        "---\n",
        "© 2023 The Coding School, All rights reserved"
      ],
      "metadata": {
        "id": "7dzC09dLlEhm"
      }
    }
  ]
}