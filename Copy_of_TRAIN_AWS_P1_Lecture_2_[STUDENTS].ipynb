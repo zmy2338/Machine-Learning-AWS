{
  "nbformat": 4,
  "nbformat_minor": 0,
  "metadata": {
    "colab": {
      "provenance": [],
      "include_colab_link": true
    },
    "kernelspec": {
      "name": "python3",
      "display_name": "Python 3"
    },
    "language_info": {
      "name": "python"
    }
  },
  "cells": [
    {
      "cell_type": "markdown",
      "metadata": {
        "id": "view-in-github",
        "colab_type": "text"
      },
      "source": [
        "<a href=\"https://colab.research.google.com/github/zmy2338/Machine-Learning-AWS/blob/main/Copy_of_TRAIN_AWS_P1_Lecture_2_%5BSTUDENTS%5D.ipynb\" target=\"_parent\"><img src=\"https://colab.research.google.com/assets/colab-badge.svg\" alt=\"Open In Colab\"/></a>"
      ]
    },
    {
      "cell_type": "markdown",
      "source": [
        "# **Lecture #2: Exploratory Data Analysis (EDA)**\n",
        "---\n",
        "### **Description:**  Exploratory Data Analysis (EDA) is a crucial step in the data analysis process that involves exploring and understanding the data to gain insights, identify patterns, and detect anomalies. EDA allows us to understand the underlying structure of the data, test assumptions, and prepare the data for further analysis. This lecture notebook will provide practice utilizing basic Pandas commands and exploring rows and columns as part of the EDA process.\n",
        "<br>\n",
        "\n",
        "\n",
        "### **Lecture Notebook Structure**\n",
        "\n",
        "**Part 1**: [Working with rows and columns on the Linnerud dataset](#p1)\n",
        "\n",
        "**Part 2**: [Exploring the mean, median and sum](#p2)\n",
        "\n",
        "**Part 3**: [Reviewing EDA](#p3)\n",
        "\n",
        "\n",
        "\n",
        "</br>\n",
        "\n",
        "\n",
        "**Goals:** By the end of this project, you will:\n",
        "* Be able to use basic Pandas commands.\n",
        "* Be able to explore basic information about datasets.\n",
        "* Know how to explore columns, rows, values, outliers, and more.\n",
        "* Be able to remove missing values, or incorrect values.\n",
        "* Practice data cleaning on real-world datasets.\n",
        "\n",
        "</br> \n",
        "\n",
        "### **Cheat Sheets**\n",
        "[EDA cheatsheet](https://drive.google.com/file/d/1ZZnIzgcT8dYcGwWVAR9DDFIwGXTGbIiU/view?usp=sharing)\n",
        "\n",
        "[Pandas cheatsheet](https://docs.google.com/document/d/1v-MZCgoZJGRcK-69OOu5fYhm58x2G0JUWyi2H53j8Ls/edit)"
      ],
      "metadata": {
        "id": "v0TX4pWV4FLr"
      }
    },
    {
      "cell_type": "markdown",
      "source": [
        "<a name=\"p1\"></a>\n",
        "## **Part 1: Working with rows and columns on the Linnerud dataset**\n",
        "\n",
        "---\n",
        "\n",
        "The Linnerud dataset is a small but useful dataset that consists of data on three different exercises performed by 20 middle-aged men at a fitness center. The three exercise variables included in the dataset are `chins`, `situps`, and `jumps`.\n",
        "\n",
        "- `chins`: number of chin-ups performed by each participant\n",
        "- `situps`: number of sit-ups performed by each participant\n",
        "- `jumps`: number of jumping jacks performed by each participant\n",
        "\n",
        "By analyzing the data, we can gain insights into which exercises are most effective at building strength and endurance in this population.\n",
        "\n",
        "<br>\n",
        "\n",
        "**Run the following code before answering questions.**"
      ],
      "metadata": {
        "id": "ikcUW1sva8x9"
      }
    },
    {
      "cell_type": "code",
      "source": [
        " # import pandas as pd \n",
        "import pandas as pd\n",
        "\n",
        "# Import datasets submodule\n",
        "from sklearn import datasets\n",
        "\n",
        "# Load dataset (actual data with associated documentation)\n",
        "linnerud = datasets.load_linnerud()\n",
        "#The load_linnerud() function from the scikit-learn datasets module loads a sample dataset containing the physical and physiological measurements of 20 athletes. The dataset has three tables: \"exercise\", \"physiological\", and \"performance\", each with different variables. Here's an example of how to load and access the dataset using Python:\n",
        "\n",
        "# Create dataframe\n",
        "linnerud_df = pd.DataFrame(data=linnerud.data,columns=linnerud.feature_names)\n",
        "linnerud_df"
      ],
      "metadata": {
        "id": "Y2CMMuJNWesG",
        "colab": {
          "base_uri": "https://localhost:8080/",
          "height": 676
        },
        "outputId": "cbfe527b-9690-4726-80d4-c10e342b33cf"
      },
      "execution_count": null,
      "outputs": [
        {
          "output_type": "execute_result",
          "data": {
            "text/plain": [
              "    Chins  Situps  Jumps\n",
              "0     5.0   162.0   60.0\n",
              "1     2.0   110.0   60.0\n",
              "2    12.0   101.0  101.0\n",
              "3    12.0   105.0   37.0\n",
              "4    13.0   155.0   58.0\n",
              "5     4.0   101.0   42.0\n",
              "6     8.0   101.0   38.0\n",
              "7     6.0   125.0   40.0\n",
              "8    15.0   200.0   40.0\n",
              "9    17.0   251.0  250.0\n",
              "10   17.0   120.0   38.0\n",
              "11   13.0   210.0  115.0\n",
              "12   14.0   215.0  105.0\n",
              "13    1.0    50.0   50.0\n",
              "14    6.0    70.0   31.0\n",
              "15   12.0   210.0  120.0\n",
              "16    4.0    60.0   25.0\n",
              "17   11.0   230.0   80.0\n",
              "18   15.0   225.0   73.0\n",
              "19    2.0   110.0   43.0"
            ],
            "text/html": [
              "\n",
              "  <div id=\"df-ea939290-9157-4976-847e-934221a2d213\">\n",
              "    <div class=\"colab-df-container\">\n",
              "      <div>\n",
              "<style scoped>\n",
              "    .dataframe tbody tr th:only-of-type {\n",
              "        vertical-align: middle;\n",
              "    }\n",
              "\n",
              "    .dataframe tbody tr th {\n",
              "        vertical-align: top;\n",
              "    }\n",
              "\n",
              "    .dataframe thead th {\n",
              "        text-align: right;\n",
              "    }\n",
              "</style>\n",
              "<table border=\"1\" class=\"dataframe\">\n",
              "  <thead>\n",
              "    <tr style=\"text-align: right;\">\n",
              "      <th></th>\n",
              "      <th>Chins</th>\n",
              "      <th>Situps</th>\n",
              "      <th>Jumps</th>\n",
              "    </tr>\n",
              "  </thead>\n",
              "  <tbody>\n",
              "    <tr>\n",
              "      <th>0</th>\n",
              "      <td>5.0</td>\n",
              "      <td>162.0</td>\n",
              "      <td>60.0</td>\n",
              "    </tr>\n",
              "    <tr>\n",
              "      <th>1</th>\n",
              "      <td>2.0</td>\n",
              "      <td>110.0</td>\n",
              "      <td>60.0</td>\n",
              "    </tr>\n",
              "    <tr>\n",
              "      <th>2</th>\n",
              "      <td>12.0</td>\n",
              "      <td>101.0</td>\n",
              "      <td>101.0</td>\n",
              "    </tr>\n",
              "    <tr>\n",
              "      <th>3</th>\n",
              "      <td>12.0</td>\n",
              "      <td>105.0</td>\n",
              "      <td>37.0</td>\n",
              "    </tr>\n",
              "    <tr>\n",
              "      <th>4</th>\n",
              "      <td>13.0</td>\n",
              "      <td>155.0</td>\n",
              "      <td>58.0</td>\n",
              "    </tr>\n",
              "    <tr>\n",
              "      <th>5</th>\n",
              "      <td>4.0</td>\n",
              "      <td>101.0</td>\n",
              "      <td>42.0</td>\n",
              "    </tr>\n",
              "    <tr>\n",
              "      <th>6</th>\n",
              "      <td>8.0</td>\n",
              "      <td>101.0</td>\n",
              "      <td>38.0</td>\n",
              "    </tr>\n",
              "    <tr>\n",
              "      <th>7</th>\n",
              "      <td>6.0</td>\n",
              "      <td>125.0</td>\n",
              "      <td>40.0</td>\n",
              "    </tr>\n",
              "    <tr>\n",
              "      <th>8</th>\n",
              "      <td>15.0</td>\n",
              "      <td>200.0</td>\n",
              "      <td>40.0</td>\n",
              "    </tr>\n",
              "    <tr>\n",
              "      <th>9</th>\n",
              "      <td>17.0</td>\n",
              "      <td>251.0</td>\n",
              "      <td>250.0</td>\n",
              "    </tr>\n",
              "    <tr>\n",
              "      <th>10</th>\n",
              "      <td>17.0</td>\n",
              "      <td>120.0</td>\n",
              "      <td>38.0</td>\n",
              "    </tr>\n",
              "    <tr>\n",
              "      <th>11</th>\n",
              "      <td>13.0</td>\n",
              "      <td>210.0</td>\n",
              "      <td>115.0</td>\n",
              "    </tr>\n",
              "    <tr>\n",
              "      <th>12</th>\n",
              "      <td>14.0</td>\n",
              "      <td>215.0</td>\n",
              "      <td>105.0</td>\n",
              "    </tr>\n",
              "    <tr>\n",
              "      <th>13</th>\n",
              "      <td>1.0</td>\n",
              "      <td>50.0</td>\n",
              "      <td>50.0</td>\n",
              "    </tr>\n",
              "    <tr>\n",
              "      <th>14</th>\n",
              "      <td>6.0</td>\n",
              "      <td>70.0</td>\n",
              "      <td>31.0</td>\n",
              "    </tr>\n",
              "    <tr>\n",
              "      <th>15</th>\n",
              "      <td>12.0</td>\n",
              "      <td>210.0</td>\n",
              "      <td>120.0</td>\n",
              "    </tr>\n",
              "    <tr>\n",
              "      <th>16</th>\n",
              "      <td>4.0</td>\n",
              "      <td>60.0</td>\n",
              "      <td>25.0</td>\n",
              "    </tr>\n",
              "    <tr>\n",
              "      <th>17</th>\n",
              "      <td>11.0</td>\n",
              "      <td>230.0</td>\n",
              "      <td>80.0</td>\n",
              "    </tr>\n",
              "    <tr>\n",
              "      <th>18</th>\n",
              "      <td>15.0</td>\n",
              "      <td>225.0</td>\n",
              "      <td>73.0</td>\n",
              "    </tr>\n",
              "    <tr>\n",
              "      <th>19</th>\n",
              "      <td>2.0</td>\n",
              "      <td>110.0</td>\n",
              "      <td>43.0</td>\n",
              "    </tr>\n",
              "  </tbody>\n",
              "</table>\n",
              "</div>\n",
              "      <button class=\"colab-df-convert\" onclick=\"convertToInteractive('df-ea939290-9157-4976-847e-934221a2d213')\"\n",
              "              title=\"Convert this dataframe to an interactive table.\"\n",
              "              style=\"display:none;\">\n",
              "        \n",
              "  <svg xmlns=\"http://www.w3.org/2000/svg\" height=\"24px\"viewBox=\"0 0 24 24\"\n",
              "       width=\"24px\">\n",
              "    <path d=\"M0 0h24v24H0V0z\" fill=\"none\"/>\n",
              "    <path d=\"M18.56 5.44l.94 2.06.94-2.06 2.06-.94-2.06-.94-.94-2.06-.94 2.06-2.06.94zm-11 1L8.5 8.5l.94-2.06 2.06-.94-2.06-.94L8.5 2.5l-.94 2.06-2.06.94zm10 10l.94 2.06.94-2.06 2.06-.94-2.06-.94-.94-2.06-.94 2.06-2.06.94z\"/><path d=\"M17.41 7.96l-1.37-1.37c-.4-.4-.92-.59-1.43-.59-.52 0-1.04.2-1.43.59L10.3 9.45l-7.72 7.72c-.78.78-.78 2.05 0 2.83L4 21.41c.39.39.9.59 1.41.59.51 0 1.02-.2 1.41-.59l7.78-7.78 2.81-2.81c.8-.78.8-2.07 0-2.86zM5.41 20L4 18.59l7.72-7.72 1.47 1.35L5.41 20z\"/>\n",
              "  </svg>\n",
              "      </button>\n",
              "      \n",
              "  <style>\n",
              "    .colab-df-container {\n",
              "      display:flex;\n",
              "      flex-wrap:wrap;\n",
              "      gap: 12px;\n",
              "    }\n",
              "\n",
              "    .colab-df-convert {\n",
              "      background-color: #E8F0FE;\n",
              "      border: none;\n",
              "      border-radius: 50%;\n",
              "      cursor: pointer;\n",
              "      display: none;\n",
              "      fill: #1967D2;\n",
              "      height: 32px;\n",
              "      padding: 0 0 0 0;\n",
              "      width: 32px;\n",
              "    }\n",
              "\n",
              "    .colab-df-convert:hover {\n",
              "      background-color: #E2EBFA;\n",
              "      box-shadow: 0px 1px 2px rgba(60, 64, 67, 0.3), 0px 1px 3px 1px rgba(60, 64, 67, 0.15);\n",
              "      fill: #174EA6;\n",
              "    }\n",
              "\n",
              "    [theme=dark] .colab-df-convert {\n",
              "      background-color: #3B4455;\n",
              "      fill: #D2E3FC;\n",
              "    }\n",
              "\n",
              "    [theme=dark] .colab-df-convert:hover {\n",
              "      background-color: #434B5C;\n",
              "      box-shadow: 0px 1px 3px 1px rgba(0, 0, 0, 0.15);\n",
              "      filter: drop-shadow(0px 1px 2px rgba(0, 0, 0, 0.3));\n",
              "      fill: #FFFFFF;\n",
              "    }\n",
              "  </style>\n",
              "\n",
              "      <script>\n",
              "        const buttonEl =\n",
              "          document.querySelector('#df-ea939290-9157-4976-847e-934221a2d213 button.colab-df-convert');\n",
              "        buttonEl.style.display =\n",
              "          google.colab.kernel.accessAllowed ? 'block' : 'none';\n",
              "\n",
              "        async function convertToInteractive(key) {\n",
              "          const element = document.querySelector('#df-ea939290-9157-4976-847e-934221a2d213');\n",
              "          const dataTable =\n",
              "            await google.colab.kernel.invokeFunction('convertToInteractive',\n",
              "                                                     [key], {});\n",
              "          if (!dataTable) return;\n",
              "\n",
              "          const docLinkHtml = 'Like what you see? Visit the ' +\n",
              "            '<a target=\"_blank\" href=https://colab.research.google.com/notebooks/data_table.ipynb>data table notebook</a>'\n",
              "            + ' to learn more about interactive tables.';\n",
              "          element.innerHTML = '';\n",
              "          dataTable['output_type'] = 'display_data';\n",
              "          await google.colab.output.renderOutput(dataTable, element);\n",
              "          const docLink = document.createElement('div');\n",
              "          docLink.innerHTML = docLinkHtml;\n",
              "          element.appendChild(docLink);\n",
              "        }\n",
              "      </script>\n",
              "    </div>\n",
              "  </div>\n",
              "  "
            ]
          },
          "metadata": {},
          "execution_count": 1
        }
      ]
    },
    {
      "cell_type": "markdown",
      "source": [
        "### **Exercise #1:** What is the 16th value for `Chins`?\n",
        "\n",
        "There are numerous ways to select and display a specific value. Remember, **Python uses 0-based indexing**, so the 16th row has an index of 15. You can either access only the 16th row to retrieve the 16th value, *or* you can select the 16th row and 1st column."
      ],
      "metadata": {
        "id": "Y0jjxuXWWe8Q"
      }
    },
    {
      "cell_type": "code",
      "source": [
        "# Print the 16th value for Chins\n",
        "chins_value = linnerud_df['Chins'][15]\n",
        "\n",
        "print(\"16th value for Chins: \", chins_value)"
      ],
      "metadata": {
        "id": "KItXyQ1msYkF",
        "colab": {
          "base_uri": "https://localhost:8080/"
        },
        "outputId": "8ef67ebb-9740-45c8-a8db-febc478a6203"
      },
      "execution_count": null,
      "outputs": [
        {
          "output_type": "stream",
          "name": "stdout",
          "text": [
            "16th value for Chins:  12.0\n"
          ]
        }
      ]
    },
    {
      "cell_type": "markdown",
      "source": [
        "#### **Exercise #2:** What is the 9th value for `Situps`?"
      ],
      "metadata": {
        "id": "1HZCHIyAWnp0"
      }
    },
    {
      "cell_type": "code",
      "source": [
        "# Print the 9th value for Situps\n",
        "linnerud_df['Situps'][8]"
      ],
      "metadata": {
        "id": "8dQWp91CuLGr",
        "colab": {
          "base_uri": "https://localhost:8080/"
        },
        "outputId": "ce650780-7000-4d87-9922-d7fcea5c84c2"
      },
      "execution_count": null,
      "outputs": [
        {
          "output_type": "execute_result",
          "data": {
            "text/plain": [
              "200.0"
            ]
          },
          "metadata": {},
          "execution_count": 17
        }
      ]
    },
    {
      "cell_type": "markdown",
      "source": [
        "### **Exercise #3:** Print the entire fourth row."
      ],
      "metadata": {
        "id": "rfB4f8spWqe_"
      }
    },
    {
      "cell_type": "code",
      "source": [
        "# Print the entire fourth row\n",
        "linnerud_df.loc[3]"
      ],
      "metadata": {
        "id": "kK0dY9CjuL_N",
        "colab": {
          "base_uri": "https://localhost:8080/"
        },
        "outputId": "22d3a759-9bf4-406b-f1ef-0a71efaea40c"
      },
      "execution_count": null,
      "outputs": [
        {
          "output_type": "execute_result",
          "data": {
            "text/plain": [
              "Chins      12.0\n",
              "Situps    105.0\n",
              "Jumps      37.0\n",
              "Name: 3, dtype: float64"
            ]
          },
          "metadata": {},
          "execution_count": 18
        }
      ]
    },
    {
      "cell_type": "markdown",
      "source": [
        "### **Exercise #4:** Print the `Jumps` column."
      ],
      "metadata": {
        "id": "mHX2gQZlWuZy"
      }
    },
    {
      "cell_type": "code",
      "source": [
        "# Print the Jumps column\n",
        "jumps_values = linnerud_df['Jumps'] # extract the values for the \"Jumps\" column from the \"performance\" table\n",
        "print(\"The Jumps column values are: \", jumps_values)   # print the values for the \"Jumps\" column"
      ],
      "metadata": {
        "id": "woGaCsK-uMzT",
        "colab": {
          "base_uri": "https://localhost:8080/"
        },
        "outputId": "4cbd6412-9730-4a22-a5c8-a391d937985f"
      },
      "execution_count": null,
      "outputs": [
        {
          "output_type": "stream",
          "name": "stdout",
          "text": [
            "The Jumps column values are:  0      60.0\n",
            "1      60.0\n",
            "2     101.0\n",
            "3      37.0\n",
            "4      58.0\n",
            "5      42.0\n",
            "6      38.0\n",
            "7      40.0\n",
            "8      40.0\n",
            "9     250.0\n",
            "10     38.0\n",
            "11    115.0\n",
            "12    105.0\n",
            "13     50.0\n",
            "14     31.0\n",
            "15    120.0\n",
            "16     25.0\n",
            "17     80.0\n",
            "18     73.0\n",
            "19     43.0\n",
            "Name: Jumps, dtype: float64\n"
          ]
        }
      ]
    },
    {
      "cell_type": "markdown",
      "source": [
        "### **Exercise #5:** Print the 12th-16th rows."
      ],
      "metadata": {
        "id": "I19hBFaUWyUi"
      }
    },
    {
      "cell_type": "markdown",
      "source": [],
      "metadata": {
        "id": "N-DGPpxooOfU"
      }
    },
    {
      "cell_type": "code",
      "source": [
        "# Print the 12th-16th rows\n",
        "rows_12_16 = linnerud_df.iloc[12:16, :]\n",
        "print(rows_12_16)\n",
        "rows_12_16 = linnerud_df.loc[12:15, :]\n",
        "print(rows_12_16)"
      ],
      "metadata": {
        "id": "UO9uhlRwuNrI",
        "colab": {
          "base_uri": "https://localhost:8080/"
        },
        "outputId": "ede606d3-edd2-4d60-bb48-578ec42313e8"
      },
      "execution_count": null,
      "outputs": [
        {
          "output_type": "stream",
          "name": "stdout",
          "text": [
            "    Chins  Situps  Jumps\n",
            "12   14.0   215.0  105.0\n",
            "13    1.0    50.0   50.0\n",
            "14    6.0    70.0   31.0\n",
            "15   12.0   210.0  120.0\n",
            "    Chins  Situps  Jumps\n",
            "12   14.0   215.0  105.0\n",
            "13    1.0    50.0   50.0\n",
            "14    6.0    70.0   31.0\n",
            "15   12.0   210.0  120.0\n"
          ]
        }
      ]
    },
    {
      "cell_type": "markdown",
      "source": [
        "<a name=\"p2\"></a>\n",
        "## **Part 2: Exploring the mean, median and sum**\n",
        "---\n",
        "We will continue with the Linnerud dataset, exploring this time the mean, median and sum for each of the variables. \n",
        "\n",
        "These statistics can provide insights into the overall distribution of the data, which can be useful in understanding the characteristics of the dataset that help researchers make data-driven decisions."
      ],
      "metadata": {
        "id": "ivRt-96jWOKR"
      }
    },
    {
      "cell_type": "code",
      "source": [],
      "metadata": {
        "id": "xrd8BEXZod0S"
      },
      "execution_count": null,
      "outputs": []
    },
    {
      "cell_type": "markdown",
      "source": [
        "### **Exercise #1:** Find the mean, median, and sum for `Jumps`.\n",
        "\n",
        "The mean and median can give an idea of the typical or central value of a variable, while the sum can indicate the total amount of a variable across all observations. These statistics can be used to summarize the data for a report or visualize the data in a chart, as well as for inferential purposes (i.e. testing hypotheses or making predictions). "
      ],
      "metadata": {
        "id": "TEn19UcgW9JT"
      }
    },
    {
      "cell_type": "markdown",
      "source": [
        "In pandas, iloc uses 0-based indexing and includes the start position and excludes the end position, while loc uses label-based indexing and includes both the start and end positions.\n",
        "\n",
        "So, when you use linnerud_df.iloc[11:16, :], you are selecting the rows with index 11, 12, 13, 14, and 15 (i.e., rows 12-16), while when you use linnerud_df.loc[11:15, :], you are selecting the rows with label (or index name) 11, 12, 13, 14, and 15 (i.e., rows 12-15).\n",
        "\n",
        "However, in this case, the two statements will return the same result because the index of the rows in the dataframe is the same as the row labels. So, using either iloc or loc will give you the same output for this particular dataset.\n",
        "\n",
        "Note that it is important to use the appropriate indexing method depending on your dataframe and what you want to accomplish. If the index is not the same as the row labels, using the wrong indexing method can result in unexpected behavior or errors."
      ],
      "metadata": {
        "id": "fJq1qr5Qobel"
      }
    },
    {
      "cell_type": "code",
      "source": [
        "# Mean, median and sum for Jumps\n",
        "jumps_mean = linnerud_df['Jumps'].mean()   # calculate the mean for the \"Jumps\" column\n",
        "jumps_median = linnerud_df['Jumps'].median()   # calculate the median for the \"Jumps\" column\n",
        "jumps_sum = linnerud_df['Jumps'].sum()   # calculate the sum for the \"Jumps\" column\n",
        "\n",
        "print(\"Mean Jumps:\", jumps_mean)\n",
        "print(\"Median Jumps:\", jumps_median)\n",
        "print(\"Sum Jumps:\", jumps_sum)"
      ],
      "metadata": {
        "id": "b_5mEYKFuPIa",
        "colab": {
          "base_uri": "https://localhost:8080/"
        },
        "outputId": "69e8158b-855a-4e4d-e42c-2650fcdd3162"
      },
      "execution_count": null,
      "outputs": [
        {
          "output_type": "stream",
          "name": "stdout",
          "text": [
            "Mean Jumps: 70.3\n",
            "Median Jumps: 54.0\n",
            "Sum Jumps: 1406.0\n"
          ]
        }
      ]
    },
    {
      "cell_type": "markdown",
      "source": [
        "---\n",
        "#### **Try Exercise #2 on your own!**\n",
        "---"
      ],
      "metadata": {
        "id": "I67Q5HpdZr7K"
      }
    },
    {
      "cell_type": "markdown",
      "source": [
        "### **Exercise #2:** Find the mean, median, and sum for `Situps`."
      ],
      "metadata": {
        "id": "ZUCPD7TeW-yg"
      }
    },
    {
      "cell_type": "code",
      "source": [
        "# Mean, median and sum for Situps\n",
        "jumps_mean = linnerud_df['Situps'].mean()   # calculate the mean for the \"Jumps\" column\n",
        "jumps_median = linnerud_df['Situps'].median()   # calculate the median for the \"Jumps\" column\n",
        "jumps_sum = linnerud_df['Situps'].sum()   # calculate the sum for the \"Jumps\" column\n",
        "\n",
        "print(\"Mean Situps:\", jumps_mean)\n",
        "print(\"Median Situps:\", jumps_median)\n",
        "print(\"Sum Situps:\", jumps_sum)"
      ],
      "metadata": {
        "id": "7bxc_RMNuQxX",
        "colab": {
          "base_uri": "https://localhost:8080/"
        },
        "outputId": "69acb202-0900-4754-f402-a521bb941d1f"
      },
      "execution_count": null,
      "outputs": [
        {
          "output_type": "stream",
          "name": "stdout",
          "text": [
            "Mean Situps: 145.55\n",
            "Median Situps: 122.5\n",
            "Sum Situps: 2911.0\n"
          ]
        }
      ]
    },
    {
      "cell_type": "markdown",
      "source": [
        "<a name=\"p3\"></a>\n",
        "\n",
        "## **Part 3: Reviewing EDA**\n",
        "---\n",
        "This dataset contains information on five students and their test scores in three subjects: math, English, and science. \n",
        "\n",
        "**Run the cell to import the dataset and create the dataframe.**"
      ],
      "metadata": {
        "id": "It4Nwgcu8ySy"
      }
    },
    {
      "cell_type": "code",
      "source": [
        "data = {'Name': ['Alice', 'Bob', 'Charlie', 'David', 'Emma'],\n",
        "'Math Score': [75, 80, 90, 70, 85],\n",
        "'English Score': [80, 70, 85, 90, 75],\n",
        "'Science Score': [90, 85, 80, 75, 95]}\n",
        "\n",
        "student_df = pd.DataFrame(data)\n",
        "student_df"
      ],
      "metadata": {
        "colab": {
          "base_uri": "https://localhost:8080/",
          "height": 206
        },
        "id": "gkG4ItWD9ALn",
        "outputId": "3f7b4705-3e6f-4015-da8e-713b5ac5a610"
      },
      "execution_count": null,
      "outputs": [
        {
          "output_type": "execute_result",
          "data": {
            "text/plain": [
              "      Name  Math Score  English Score  Science Score\n",
              "0    Alice          75             80             90\n",
              "1      Bob          80             70             85\n",
              "2  Charlie          90             85             80\n",
              "3    David          70             90             75\n",
              "4     Emma          85             75             95"
            ],
            "text/html": [
              "\n",
              "  <div id=\"df-de02773c-a2f4-4705-b11b-10502a861327\">\n",
              "    <div class=\"colab-df-container\">\n",
              "      <div>\n",
              "<style scoped>\n",
              "    .dataframe tbody tr th:only-of-type {\n",
              "        vertical-align: middle;\n",
              "    }\n",
              "\n",
              "    .dataframe tbody tr th {\n",
              "        vertical-align: top;\n",
              "    }\n",
              "\n",
              "    .dataframe thead th {\n",
              "        text-align: right;\n",
              "    }\n",
              "</style>\n",
              "<table border=\"1\" class=\"dataframe\">\n",
              "  <thead>\n",
              "    <tr style=\"text-align: right;\">\n",
              "      <th></th>\n",
              "      <th>Name</th>\n",
              "      <th>Math Score</th>\n",
              "      <th>English Score</th>\n",
              "      <th>Science Score</th>\n",
              "    </tr>\n",
              "  </thead>\n",
              "  <tbody>\n",
              "    <tr>\n",
              "      <th>0</th>\n",
              "      <td>Alice</td>\n",
              "      <td>75</td>\n",
              "      <td>80</td>\n",
              "      <td>90</td>\n",
              "    </tr>\n",
              "    <tr>\n",
              "      <th>1</th>\n",
              "      <td>Bob</td>\n",
              "      <td>80</td>\n",
              "      <td>70</td>\n",
              "      <td>85</td>\n",
              "    </tr>\n",
              "    <tr>\n",
              "      <th>2</th>\n",
              "      <td>Charlie</td>\n",
              "      <td>90</td>\n",
              "      <td>85</td>\n",
              "      <td>80</td>\n",
              "    </tr>\n",
              "    <tr>\n",
              "      <th>3</th>\n",
              "      <td>David</td>\n",
              "      <td>70</td>\n",
              "      <td>90</td>\n",
              "      <td>75</td>\n",
              "    </tr>\n",
              "    <tr>\n",
              "      <th>4</th>\n",
              "      <td>Emma</td>\n",
              "      <td>85</td>\n",
              "      <td>75</td>\n",
              "      <td>95</td>\n",
              "    </tr>\n",
              "  </tbody>\n",
              "</table>\n",
              "</div>\n",
              "      <button class=\"colab-df-convert\" onclick=\"convertToInteractive('df-de02773c-a2f4-4705-b11b-10502a861327')\"\n",
              "              title=\"Convert this dataframe to an interactive table.\"\n",
              "              style=\"display:none;\">\n",
              "        \n",
              "  <svg xmlns=\"http://www.w3.org/2000/svg\" height=\"24px\"viewBox=\"0 0 24 24\"\n",
              "       width=\"24px\">\n",
              "    <path d=\"M0 0h24v24H0V0z\" fill=\"none\"/>\n",
              "    <path d=\"M18.56 5.44l.94 2.06.94-2.06 2.06-.94-2.06-.94-.94-2.06-.94 2.06-2.06.94zm-11 1L8.5 8.5l.94-2.06 2.06-.94-2.06-.94L8.5 2.5l-.94 2.06-2.06.94zm10 10l.94 2.06.94-2.06 2.06-.94-2.06-.94-.94-2.06-.94 2.06-2.06.94z\"/><path d=\"M17.41 7.96l-1.37-1.37c-.4-.4-.92-.59-1.43-.59-.52 0-1.04.2-1.43.59L10.3 9.45l-7.72 7.72c-.78.78-.78 2.05 0 2.83L4 21.41c.39.39.9.59 1.41.59.51 0 1.02-.2 1.41-.59l7.78-7.78 2.81-2.81c.8-.78.8-2.07 0-2.86zM5.41 20L4 18.59l7.72-7.72 1.47 1.35L5.41 20z\"/>\n",
              "  </svg>\n",
              "      </button>\n",
              "      \n",
              "  <style>\n",
              "    .colab-df-container {\n",
              "      display:flex;\n",
              "      flex-wrap:wrap;\n",
              "      gap: 12px;\n",
              "    }\n",
              "\n",
              "    .colab-df-convert {\n",
              "      background-color: #E8F0FE;\n",
              "      border: none;\n",
              "      border-radius: 50%;\n",
              "      cursor: pointer;\n",
              "      display: none;\n",
              "      fill: #1967D2;\n",
              "      height: 32px;\n",
              "      padding: 0 0 0 0;\n",
              "      width: 32px;\n",
              "    }\n",
              "\n",
              "    .colab-df-convert:hover {\n",
              "      background-color: #E2EBFA;\n",
              "      box-shadow: 0px 1px 2px rgba(60, 64, 67, 0.3), 0px 1px 3px 1px rgba(60, 64, 67, 0.15);\n",
              "      fill: #174EA6;\n",
              "    }\n",
              "\n",
              "    [theme=dark] .colab-df-convert {\n",
              "      background-color: #3B4455;\n",
              "      fill: #D2E3FC;\n",
              "    }\n",
              "\n",
              "    [theme=dark] .colab-df-convert:hover {\n",
              "      background-color: #434B5C;\n",
              "      box-shadow: 0px 1px 3px 1px rgba(0, 0, 0, 0.15);\n",
              "      filter: drop-shadow(0px 1px 2px rgba(0, 0, 0, 0.3));\n",
              "      fill: #FFFFFF;\n",
              "    }\n",
              "  </style>\n",
              "\n",
              "      <script>\n",
              "        const buttonEl =\n",
              "          document.querySelector('#df-de02773c-a2f4-4705-b11b-10502a861327 button.colab-df-convert');\n",
              "        buttonEl.style.display =\n",
              "          google.colab.kernel.accessAllowed ? 'block' : 'none';\n",
              "\n",
              "        async function convertToInteractive(key) {\n",
              "          const element = document.querySelector('#df-de02773c-a2f4-4705-b11b-10502a861327');\n",
              "          const dataTable =\n",
              "            await google.colab.kernel.invokeFunction('convertToInteractive',\n",
              "                                                     [key], {});\n",
              "          if (!dataTable) return;\n",
              "\n",
              "          const docLinkHtml = 'Like what you see? Visit the ' +\n",
              "            '<a target=\"_blank\" href=https://colab.research.google.com/notebooks/data_table.ipynb>data table notebook</a>'\n",
              "            + ' to learn more about interactive tables.';\n",
              "          element.innerHTML = '';\n",
              "          dataTable['output_type'] = 'display_data';\n",
              "          await google.colab.output.renderOutput(dataTable, element);\n",
              "          const docLink = document.createElement('div');\n",
              "          docLink.innerHTML = docLinkHtml;\n",
              "          element.appendChild(docLink);\n",
              "        }\n",
              "      </script>\n",
              "    </div>\n",
              "  </div>\n",
              "  "
            ]
          },
          "metadata": {},
          "execution_count": 29
        }
      ]
    },
    {
      "cell_type": "markdown",
      "source": [
        "### **Exercise #1:** How many rows are in the dataset?"
      ],
      "metadata": {
        "id": "pgEiB9239MhK"
      }
    },
    {
      "cell_type": "code",
      "source": [
        "num_rows = student_df.shape[0]\n",
        "print(\"Number of rows in the dataset: \", num_rows)"
      ],
      "metadata": {
        "id": "VcsATRco9S1c",
        "colab": {
          "base_uri": "https://localhost:8080/"
        },
        "outputId": "15a94682-e4a5-41d7-b34c-32a0fcd5a892"
      },
      "execution_count": null,
      "outputs": [
        {
          "output_type": "stream",
          "name": "stdout",
          "text": [
            "Number of rows in the dataset:  5\n"
          ]
        }
      ]
    },
    {
      "cell_type": "markdown",
      "source": [
        "### **Exercise #2:** How many columns are in the dataset?"
      ],
      "metadata": {
        "id": "CXkLNZLI-jNZ"
      }
    },
    {
      "cell_type": "code",
      "source": [
        "num_cols = student_df.shape[1]\n",
        "print(\"Number of columns in the dataset: \", num_cols)"
      ],
      "metadata": {
        "id": "-NQIjswk-mvr"
      },
      "execution_count": null,
      "outputs": []
    },
    {
      "cell_type": "markdown",
      "source": [
        "\n",
        "What are the column names in the dataset"
      ],
      "metadata": {
        "id": "G2Fwta6W9VEp"
      }
    },
    {
      "cell_type": "code",
      "source": [
        "print(\"Column names in the dataset: \", student_df.columns)"
      ],
      "metadata": {
        "id": "_IJ5XA6Z9aYr",
        "colab": {
          "base_uri": "https://localhost:8080/"
        },
        "outputId": "225a825d-7a5b-44f6-f4ef-fe9dc87f240d"
      },
      "execution_count": null,
      "outputs": [
        {
          "output_type": "stream",
          "name": "stdout",
          "text": [
            "Column names in the dataset:  Index(['Name', 'Math Score', 'English Score', 'Science Score'], dtype='object')\n"
          ]
        }
      ]
    },
    {
      "cell_type": "markdown",
      "source": [
        "### **Exercise #4:** Print the entire second row."
      ],
      "metadata": {
        "id": "h05DRjDt9blL"
      }
    },
    {
      "cell_type": "code",
      "source": [
        "second_row = student_df.iloc[1, :]   # extract the second row of the dataframe\n",
        "print(\"The second row is:\\n\", second_row)   # print the second row"
      ],
      "metadata": {
        "id": "MBF8zaXr9ex1",
        "colab": {
          "base_uri": "https://localhost:8080/"
        },
        "outputId": "717752fa-f660-438e-f573-d81b7b44704d"
      },
      "execution_count": null,
      "outputs": [
        {
          "output_type": "stream",
          "name": "stdout",
          "text": [
            "The second row is:\n",
            " Name             Bob\n",
            "Math Score        80\n",
            "English Score     70\n",
            "Science Score     85\n",
            "Name: 1, dtype: object\n"
          ]
        }
      ]
    },
    {
      "cell_type": "markdown",
      "source": [
        "\\n is an escape sequence in Python (and many other programming languages) that represents a new line character. It is used to insert a line break or newline in a string, so that the following text is printed on a new line."
      ],
      "metadata": {
        "id": "0EUDLe6LpXrW"
      }
    },
    {
      "cell_type": "markdown",
      "source": [
        "### **Exercise #5:** Print the Math Score column."
      ],
      "metadata": {
        "id": "FG-D3TF39uCM"
      }
    },
    {
      "cell_type": "code",
      "source": [
        "math_scores = student_df['Math Score']   # extract the \"Math Score\" column of the dataframe\n",
        "print(\"The Math Score column is:\\n\", math_scores)   # print the \"Math Score\" column"
      ],
      "metadata": {
        "id": "yt1eBOPM9xza",
        "colab": {
          "base_uri": "https://localhost:8080/"
        },
        "outputId": "8c44f0cb-438d-4c48-b6ca-53b1e0539e01"
      },
      "execution_count": null,
      "outputs": [
        {
          "output_type": "stream",
          "name": "stdout",
          "text": [
            "The Math Score column is:\n",
            " 0    75\n",
            "1    80\n",
            "2    90\n",
            "3    70\n",
            "4    85\n",
            "Name: Math Score, dtype: int64\n"
          ]
        }
      ]
    },
    {
      "cell_type": "markdown",
      "source": [
        "### **Exercise #5:** Print the first three rows."
      ],
      "metadata": {
        "id": "GrzYxy_z-6Lz"
      }
    },
    {
      "cell_type": "code",
      "source": [
        "first_three_rows = student_df.head(3)   # extract the first three rows of the dataframe\n",
        "print(\"The first three rows are:\\n\", first_three_rows)   # print the first three rows"
      ],
      "metadata": {
        "id": "eub-M5GI-8zP",
        "colab": {
          "base_uri": "https://localhost:8080/"
        },
        "outputId": "81b2eb11-5fbe-4345-b2e0-ab5153b0e2ef"
      },
      "execution_count": null,
      "outputs": [
        {
          "output_type": "stream",
          "name": "stdout",
          "text": [
            "The first three rows are:\n",
            "       Name  Math Score  English Score  Science Score\n",
            "0    Alice          75             80             90\n",
            "1      Bob          80             70             85\n",
            "2  Charlie          90             85             80\n"
          ]
        }
      ]
    },
    {
      "cell_type": "markdown",
      "source": [
        "### **Exercise #6:** What is the dimension of the dataframe?"
      ],
      "metadata": {
        "id": "YuvRDNzkHpGn"
      }
    },
    {
      "cell_type": "code",
      "source": [
        "num_rows, num_cols = student_df.shape   # get the number of rows and columns of the dataframe\n",
        "print(\"The dataframe has\", num_rows, \"rows and\", num_cols, \"columns.\")   # print the dimensions of the dataframe"
      ],
      "metadata": {
        "id": "qJgfDK45-GWf",
        "colab": {
          "base_uri": "https://localhost:8080/"
        },
        "outputId": "6330c40c-d160-4653-b116-ffae4efcdd48"
      },
      "execution_count": null,
      "outputs": [
        {
          "output_type": "stream",
          "name": "stdout",
          "text": [
            "The dataframe has 5 rows and 4 columns.\n"
          ]
        }
      ]
    },
    {
      "cell_type": "markdown",
      "source": [
        "### **Exercise #7:** Print basic statistical data for the dataset (mean, standard deviation, etc)."
      ],
      "metadata": {
        "id": "O5pXaelP99pT"
      }
    },
    {
      "cell_type": "code",
      "source": [
        "stats = student_df.describe()   # compute basic statistics for the dataframe\n",
        "print(\"Basic statistical data for the dataset:\\n\", stats)   # print the statistics"
      ],
      "metadata": {
        "id": "3ve_vKoe_N4r",
        "colab": {
          "base_uri": "https://localhost:8080/"
        },
        "outputId": "37ee95ef-1d2d-47d7-92e8-556041fcbb9d"
      },
      "execution_count": null,
      "outputs": [
        {
          "output_type": "stream",
          "name": "stdout",
          "text": [
            "Basic statistical data for the dataset:\n",
            "        Math Score  English Score  Science Score\n",
            "count    5.000000       5.000000       5.000000\n",
            "mean    80.000000      80.000000      85.000000\n",
            "std      7.905694       7.905694       7.905694\n",
            "min     70.000000      70.000000      75.000000\n",
            "25%     75.000000      75.000000      80.000000\n",
            "50%     80.000000      80.000000      85.000000\n",
            "75%     85.000000      85.000000      90.000000\n",
            "max     90.000000      90.000000      95.000000\n"
          ]
        }
      ]
    },
    {
      "cell_type": "markdown",
      "source": [
        "### **Exercise #8: What is the mean for Science Score?**"
      ],
      "metadata": {
        "id": "zcBND2T2_Rf1"
      }
    },
    {
      "cell_type": "code",
      "source": [
        "\"\"\"\n",
        "\n",
        "\" Answer here \"\n",
        "\n",
        "\n",
        "\"\"\";"
      ],
      "metadata": {
        "id": "_SuQme8B_XzN"
      },
      "execution_count": null,
      "outputs": []
    },
    {
      "cell_type": "code",
      "source": [
        "science_score_mean = student_df['Science Score'].mean()   # compute the mean for the \"Science Score\" column\n",
        "print(\"The mean for the Science Score column is:\", science_score_mean)"
      ],
      "metadata": {
        "id": "8GuLPA8iqZBH",
        "outputId": "efc88a2b-efc7-423a-d9b2-4cf49ab94bfe",
        "colab": {
          "base_uri": "https://localhost:8080/"
        }
      },
      "execution_count": null,
      "outputs": [
        {
          "output_type": "stream",
          "name": "stdout",
          "text": [
            "The mean for the Science Score column is: 85.0\n"
          ]
        }
      ]
    },
    {
      "cell_type": "markdown",
      "source": [
        "---\n",
        "© 2023 The Coding School, All rights reserved"
      ],
      "metadata": {
        "id": "ZIqjH8JA4sMR"
      }
    }
  ]
}