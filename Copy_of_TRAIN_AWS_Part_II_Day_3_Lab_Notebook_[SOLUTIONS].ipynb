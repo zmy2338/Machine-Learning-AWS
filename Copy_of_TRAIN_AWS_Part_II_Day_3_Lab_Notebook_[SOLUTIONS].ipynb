{
  "cells": [
    {
      "cell_type": "markdown",
      "metadata": {
        "id": "view-in-github",
        "colab_type": "text"
      },
      "source": [
        "<a href=\"https://colab.research.google.com/github/zmy2338/Machine-Learning-AWS/blob/main/Copy_of_TRAIN_AWS_Part_II_Day_3_Lab_Notebook_%5BSOLUTIONS%5D.ipynb\" target=\"_parent\"><img src=\"https://colab.research.google.com/assets/colab-badge.svg\" alt=\"Open In Colab\"/></a>"
      ]
    },
    {
      "cell_type": "markdown",
      "metadata": {
        "id": "mbZXQ3rA3NwL"
      },
      "source": [
        "# **Lab #3: Introduction to Neural Networks in PyTorch**\n",
        "---\n",
        "\n",
        "\n",
        "### **Description**\n",
        "This lab focuses on building, visualizing, and training neural networks using the `pytorch` Python library. This will cover key topics including loading data for deep learning models, building neural networks by layer (sequential models), and visualizing neural networks.\n",
        "\n",
        "<br>\n",
        "\n",
        "### **Lab Structure**\n",
        "* **Part 1**: [Loading Data for Deep Learning](#p1)\n",
        "\n",
        "* **Part 2**: [Building and Visualizing a Neural Network](#p2)\n",
        "\n",
        "  >  **Part 2.1**: [Simple Neural Networks](#p2.1)\n",
        "\n",
        "  >  **Part 2.2**: [Adding Activation Functions](#p2.2)\n",
        "\n",
        "\n",
        "* **Part 3**: [Training](#p3)\n",
        "  >  **Part 3.1**: [Training a Neural Network](#p3.1)\n",
        "\n",
        "  >  **Part 3.2**: [Different Activation Functions](#p3.2)\n",
        "\n",
        "\n",
        "* **Part 4**: [[ADDITIONAL PRACTICE] Independent Work](#p4)\n",
        "\n",
        "* **Part 5**: [[ADDITIONAL PRACTICE] Building Neural Networks](#p5)\n",
        "\n",
        "\n",
        "\n",
        "\n",
        "<br>\n",
        "\n",
        "### **Learning Objectives**\n",
        "By the end of this lab, you will:\n",
        "* Recognize the basic components of deep learning with pytorch/fast.ai.\n",
        "* Recognize how to build a basic sequential model.\n",
        "\n",
        "<br>\n",
        "\n",
        "\n",
        "### **Cheat Sheets**:\n",
        "[Deep Learning with pytorch](https://docs.google.com/document/d/1yCDNlluOSp3HId_WUXQqi8AH0hCMOgZbDKzvCrRfrY8/edit?usp=sharing)\n",
        "\n",
        "<br>\n",
        "\n",
        "**Before starting, run the code below to import all necessary functions and libraries.**"
      ]
    },
    {
      "cell_type": "code",
      "execution_count": null,
      "metadata": {
        "id": "H-9mWOwb0zuW",
        "tags": [],
        "outputId": "2e8a8ed6-75b3-4ceb-a232-a287ed71f688"
      },
      "outputs": [
        {
          "name": "stdout",
          "output_type": "stream",
          "text": [
            "Collecting package metadata (current_repodata.json): ...working... done\n",
            "Solving environment: ...working... done\n",
            "\n",
            "# All requested packages already installed.\n",
            "\n"
          ]
        }
      ],
      "source": [
        "!pip --quiet install torchview\n",
        "!pip --quiet install torch\n",
        "!pip --quiet install graphviz\n",
        "!pip --quiet install fastai\n",
        "!conda install -q python-graphviz\n",
        "\n",
        "import torch\n",
        "import torch.nn as nn\n",
        "from torchview import draw_graph\n",
        "from fastai.tabular.all import *\n",
        "\n",
        "import matplotlib.pyplot as plt\n",
        "import numpy as np\n",
        "import pandas as pd\n",
        "\n",
        "from sklearn.model_selection import train_test_split\n",
        "from sklearn.datasets import fetch_california_housing"
      ]
    },
    {
      "cell_type": "markdown",
      "metadata": {
        "id": "xxkfmS_iP5Vi"
      },
      "source": [
        "<a name=\"p1\"></a>\n",
        "\n",
        "---\n",
        "## **Part #1: Loading Data for Deep Learning**\n",
        "---\n",
        "\n",
        "Recall the steps for Deep Learning:\n",
        "\n",
        "1. Import and split the data into a train/validation set\n",
        "2. Determine the dimensions of the data\n",
        "3. Initialize the Network Model\n",
        "4. Add an Input layer to the model\n",
        "5. Add the hidden Layers to the model\n",
        "6. Add the output layer\n",
        "7. Fit the model\n",
        "8. Evaluate the model\n",
        "\n",
        "Deep learning requires *a lot* of data. This requires special tools to handle large datasets. In PyTorch, we use DataLoaders.\n",
        "\n",
        "Let's use the California housing dataset to practice loading data. We will revisit this dataset in the analysis in Part 3. For now, let's just focus on the syntax for loading the data.\n"
      ]
    },
    {
      "cell_type": "markdown",
      "metadata": {
        "id": "4fpcfFVtdlvi"
      },
      "source": [
        "#### **Problem #1: Split the data into training and validation datasets.**\n",
        "\n",
        "---"
      ]
    },
    {
      "cell_type": "code",
      "execution_count": null,
      "metadata": {
        "id": "399UZaP1dxAo"
      },
      "outputs": [],
      "source": [
        "data = fetch_california_housing()\n",
        "X = data['data']\n",
        "y = data['target']\n",
        "\n",
        "# Split the data into training and validation sets with a 80/20 split\n",
        "X_train, X_valid, y_train, y_valid = # WRITE YOUR CODE HERE"
      ]
    },
    {
      "cell_type": "markdown",
      "metadata": {
        "id": "yLRy2HsKdxPQ"
      },
      "source": [
        "###### **Solution**"
      ]
    },
    {
      "cell_type": "code",
      "execution_count": null,
      "metadata": {
        "id": "RgX01xcJdxj4",
        "tags": []
      },
      "outputs": [],
      "source": [
        "data = fetch_california_housing()\n",
        "X = data['data']\n",
        "y = data['target']\n",
        "\n",
        "# Split the data into training and validation sets with a 80/20 split\n",
        "X_train, X_valid, y_train, y_valid = train_test_split(X, y, test_size=0.2)"
      ]
    },
    {
      "cell_type": "markdown",
      "metadata": {
        "id": "zmKIgXWreEIl"
      },
      "source": [
        "#### **Problem #2: Convert the data to PyTorch tensors.**\n",
        "---\n",
        "\n",
        "*Hint*: Remember to unsqueeze `y_train` and `y_valid`."
      ]
    },
    {
      "cell_type": "code",
      "execution_count": null,
      "metadata": {
        "id": "F92MMo15eEIn"
      },
      "outputs": [],
      "source": [
        "# Convert the numpy arrays to PyTorch tensors with float32 data type\n",
        "X_train = # WRITE YOUR CODE HERE\n",
        "y_train = # WRITE YOUR CODE HERE\n",
        "\n",
        "X_valid = # WRITE YOUR CODE HERE\n",
        "y_valid = # WRITE YOUR CODE HERE"
      ]
    },
    {
      "cell_type": "markdown",
      "metadata": {
        "id": "rTkxVY_weEIn"
      },
      "source": [
        "###### **Solution**"
      ]
    },
    {
      "cell_type": "code",
      "execution_count": null,
      "metadata": {
        "id": "w1rXhMHueEIo",
        "tags": []
      },
      "outputs": [],
      "source": [
        "# Convert the numpy arrays to PyTorch tensors with float32 data type\n",
        "X_train = torch.tensor(X_train, dtype=torch.float32)\n",
        "y_train = torch.tensor(y_train, dtype=torch.float32).unsqueeze(1)\n",
        "\n",
        "X_valid = torch.tensor(X_valid, dtype=torch.float32)\n",
        "y_valid = torch.tensor(y_valid, dtype=torch.float32).unsqueeze(1)"
      ]
    },
    {
      "cell_type": "markdown",
      "metadata": {
        "id": "usDRI7p4fK3Z"
      },
      "source": [
        "#### **Problem #3: Define the DataLoaders.**\n",
        "---\n",
        "\n",
        "We will provide the code for defining the datasets. Fill in the code below to define each DataLoader and define the DataLoaders object that contains both. Use the following parameters for each DataLoader:\n",
        "\n",
        "* `batch_size=64`\n",
        "* `shuffle=True`\n",
        "\n"
      ]
    },
    {
      "cell_type": "code",
      "execution_count": null,
      "metadata": {
        "id": "bRBLw1fofd-Q"
      },
      "outputs": [],
      "source": [
        "# Create dataset object\n",
        "train_ds = list(zip(X_train, y_train))\n",
        "valid_ds = list(zip(X_valid, y_valid))\n",
        "\n",
        "# Define the DataLoaders\n",
        "train_dl = # WRITE YOUR CODE HERE\n",
        "valid_dl = # WRITE YOUR CODE HERE\n",
        "\n",
        "dls = # WRITE YOUR CODE HERE"
      ]
    },
    {
      "cell_type": "markdown",
      "metadata": {
        "id": "ArT0bLRRfeff"
      },
      "source": [
        "###### **Solution**"
      ]
    },
    {
      "cell_type": "code",
      "execution_count": null,
      "metadata": {
        "id": "1sFTJUncfamv",
        "tags": []
      },
      "outputs": [],
      "source": [
        "# Create dataset object\n",
        "train_ds = list(zip(X_train, y_train))\n",
        "valid_ds = list(zip(X_valid, y_valid))\n",
        "\n",
        "# Define the DataLoaders\n",
        "train_dl = DataLoader(train_ds, batch_size=64, shuffle=True)\n",
        "valid_dl = DataLoader(valid_ds, batch_size=64, shuffle=True)\n",
        "\n",
        "dls = DataLoaders(train_dl, valid_dl)"
      ]
    },
    {
      "cell_type": "markdown",
      "metadata": {
        "id": "v5FJcNtGlKdM"
      },
      "source": [
        "---\n",
        "\n",
        "<center>\n",
        "\n",
        "#### **Wait for Your Instructor to Continue**\n",
        "\n",
        "---"
      ]
    },
    {
      "cell_type": "markdown",
      "metadata": {
        "id": "Q1LEIFKvlUWb"
      },
      "source": [
        "<a name=\"p2\"></a>\n",
        "\n",
        "---\n",
        "## **Part #2: Building and Visualizing a Neural Network**\n",
        "---\n",
        "\n",
        "Let's start by familiarizing ourselves with keras and visualizing a neural network. In this part, we will focus on Steps #3 - 6:\n",
        "\n",
        "1. Import and split the data into a train/test set\n",
        "2. Determine the dimensions of the data\n",
        "3. **Initialize the Network Model**\n",
        "4. **Add an Input layer to the model**\n",
        "5. **Add the hidden Layers to the model**\n",
        "6. **Add the output layer**\n",
        "7. Fit the model\n",
        "8. Evaluate the model"
      ]
    },
    {
      "cell_type": "markdown",
      "metadata": {
        "id": "h2RSPghCiLk9"
      },
      "source": [
        "<a name=\"p2.1\"></a>\n",
        "\n",
        "### **Part #2.1: Simple Neural Networks**\n",
        "---"
      ]
    },
    {
      "cell_type": "markdown",
      "metadata": {
        "id": "b1WtSGmHlXUq"
      },
      "source": [
        "#### **Steps #3 - 4: Initialize Neural Net and Add Input Layer**\n",
        "---\n",
        "\n",
        "Intialize a neural network using `nn.Sequential()` and use `add_module` to add an input layer with input size 8 and output size 10."
      ]
    },
    {
      "cell_type": "code",
      "execution_count": null,
      "metadata": {
        "id": "21OoYxEyD0TK"
      },
      "outputs": [],
      "source": []
    },
    {
      "cell_type": "markdown",
      "metadata": {
        "id": "m2bDcCOwDybZ"
      },
      "source": [
        "##### **Solution**"
      ]
    },
    {
      "cell_type": "code",
      "execution_count": null,
      "metadata": {
        "id": "OFnLe5bx_W73",
        "tags": []
      },
      "outputs": [],
      "source": [
        "# Build the model\n",
        "model = nn.Sequential()\n",
        "\n",
        "# Input Layer\n",
        "model.add_module('input', nn.Linear(8, 10))"
      ]
    },
    {
      "cell_type": "markdown",
      "metadata": {
        "id": "2b1HrfyvJiiw"
      },
      "source": [
        "#### **Step #5: Add Hidden Layers**\n",
        "---\n",
        "\n",
        "Now, add two hidden layers such that:\n",
        "\n",
        "* The first hidden layer has `10` neurons\n",
        "\n",
        "* The second hidden layer has `6` neurons and an output size of 8"
      ]
    },
    {
      "cell_type": "code",
      "execution_count": null,
      "metadata": {
        "id": "CGSO5_ZEJii6"
      },
      "outputs": [],
      "source": []
    },
    {
      "cell_type": "markdown",
      "metadata": {
        "id": "Z2fhzuQpJii6"
      },
      "source": [
        "##### **Solution**"
      ]
    },
    {
      "cell_type": "code",
      "execution_count": null,
      "metadata": {
        "id": "qWZJAGVJJii6",
        "tags": []
      },
      "outputs": [],
      "source": [
        "# Hidden Layers\n",
        "model.add_module('hidden1', nn.Linear(10, 6))\n",
        "model.add_module('hidden2', nn.Linear(6, 8))"
      ]
    },
    {
      "cell_type": "markdown",
      "metadata": {
        "id": "l1c6y4ghXZQV"
      },
      "source": [
        "#### **Step #6: Add Output Layer**\n",
        "---\n",
        "\n",
        "Lastly, add an output layer that has 1 output node. This could be used for tasks such as binary classification (0 or 1 output) or regression as we will see."
      ]
    },
    {
      "cell_type": "code",
      "execution_count": null,
      "metadata": {
        "id": "INNMWA3LXZQf"
      },
      "outputs": [],
      "source": []
    },
    {
      "cell_type": "markdown",
      "metadata": {
        "id": "4PBKOK9HXZQg"
      },
      "source": [
        "##### **Solution**"
      ]
    },
    {
      "cell_type": "code",
      "execution_count": null,
      "metadata": {
        "id": "WNSLjw7sXZQg",
        "tags": []
      },
      "outputs": [],
      "source": [
        "# Output layer\n",
        "model.add_module('output', nn.Linear(8, 1))"
      ]
    },
    {
      "cell_type": "markdown",
      "source": [
        "---\n",
        "\n",
        "<center>\n",
        "\n",
        "#### **Wait for Your Instructor to Continue**\n",
        "\n",
        "---"
      ],
      "metadata": {
        "id": "Bg5YDVORp4WX"
      }
    },
    {
      "cell_type": "markdown",
      "metadata": {
        "id": "kX06cGFqDlI-"
      },
      "source": [
        "#### **Problem #2.1.1**\n",
        "\n",
        "Confirm we've made our model correctly using the `draw_graph` function.\n",
        "\n",
        "**Run the code below to perform this step.**"
      ]
    },
    {
      "cell_type": "code",
      "execution_count": null,
      "metadata": {
        "id": "jNyhH6kt5Dnu",
        "tags": [],
        "outputId": "57b3f38f-695b-4ef0-f6fb-23df10bcab36"
      },
      "outputs": [
        {
          "data": {
            "image/svg+xml": [
              "<?xml version=\"1.0\" encoding=\"UTF-8\" standalone=\"no\"?>\n",
              "<!DOCTYPE svg PUBLIC \"-//W3C//DTD SVG 1.1//EN\"\n",
              " \"http://www.w3.org/Graphics/SVG/1.1/DTD/svg11.dtd\">\n",
              "<!-- Generated by graphviz version 7.1.0 (20230122.1345)\n",
              " -->\n",
              "<!-- Title: model Pages: 1 -->\n",
              "<svg width=\"139pt\" height=\"420pt\"\n",
              " viewBox=\"0.00 0.00 139.00 420.00\" xmlns=\"http://www.w3.org/2000/svg\" xmlns:xlink=\"http://www.w3.org/1999/xlink\">\n",
              "<g id=\"graph0\" class=\"graph\" transform=\"scale(1 1) rotate(0) translate(4 416)\">\n",
              "<title>model</title>\n",
              "<polygon fill=\"white\" stroke=\"none\" points=\"-4,4 -4,-416 135,-416 135,4 -4,4\"/>\n",
              "<!-- 0 -->\n",
              "<g id=\"node1\" class=\"node\">\n",
              "<title>0</title>\n",
              "<polygon fill=\"lightyellow\" stroke=\"none\" points=\"114,-412 17,-412 17,-380 114,-380 114,-412\"/>\n",
              "<polygon fill=\"none\" stroke=\"black\" points=\"17.5,-380 17.5,-412 87.5,-412 87.5,-380 17.5,-380\"/>\n",
              "<text text-anchor=\"start\" x=\"22.5\" y=\"-399\" font-family=\"Linux libertine\" font-size=\"10.00\">input&#45;tensor</text>\n",
              "<text text-anchor=\"start\" x=\"34\" y=\"-388\" font-family=\"Linux libertine\" font-size=\"10.00\">depth:0</text>\n",
              "<polygon fill=\"none\" stroke=\"black\" points=\"87.5,-380 87.5,-412 114.5,-412 114.5,-380 87.5,-380\"/>\n",
              "<text text-anchor=\"start\" x=\"92.5\" y=\"-393.5\" font-family=\"Linux libertine\" font-size=\"10.00\">(8,)</text>\n",
              "</g>\n",
              "<!-- 1 -->\n",
              "<g id=\"node2\" class=\"node\">\n",
              "<title>1</title>\n",
              "<polygon fill=\"#c1ffc1\" stroke=\"none\" points=\"131,-344 0,-344 0,-302 131,-302 131,-344\"/>\n",
              "<polygon fill=\"none\" stroke=\"black\" points=\"0.5,-302 0.5,-344 47.5,-344 47.5,-302 0.5,-302\"/>\n",
              "<text text-anchor=\"start\" x=\"8.5\" y=\"-326\" font-family=\"Linux libertine\" font-size=\"10.00\">Linear</text>\n",
              "<text text-anchor=\"start\" x=\"5.5\" y=\"-315\" font-family=\"Linux libertine\" font-size=\"10.00\">depth:1</text>\n",
              "<polygon fill=\"none\" stroke=\"black\" points=\"47.5,-323 47.5,-344 95.5,-344 95.5,-323 47.5,-323\"/>\n",
              "<text text-anchor=\"start\" x=\"57.5\" y=\"-331\" font-family=\"Linux libertine\" font-size=\"10.00\">input:</text>\n",
              "<polygon fill=\"none\" stroke=\"black\" points=\"95.5,-323 95.5,-344 131.5,-344 131.5,-323 95.5,-323\"/>\n",
              "<text text-anchor=\"start\" x=\"103.5\" y=\"-331\" font-family=\"Linux libertine\" font-size=\"10.00\">(8,) </text>\n",
              "<polygon fill=\"none\" stroke=\"black\" points=\"47.5,-302 47.5,-323 95.5,-323 95.5,-302 47.5,-302\"/>\n",
              "<text text-anchor=\"start\" x=\"52.5\" y=\"-310\" font-family=\"Linux libertine\" font-size=\"10.00\">output: </text>\n",
              "<polygon fill=\"none\" stroke=\"black\" points=\"95.5,-302 95.5,-323 131.5,-323 131.5,-302 95.5,-302\"/>\n",
              "<text text-anchor=\"start\" x=\"100.5\" y=\"-310\" font-family=\"Linux libertine\" font-size=\"10.00\">(10,) </text>\n",
              "</g>\n",
              "<!-- 0&#45;&gt;1 -->\n",
              "<g id=\"edge1\" class=\"edge\">\n",
              "<title>0&#45;&gt;1</title>\n",
              "<path fill=\"none\" stroke=\"black\" d=\"M65.5,-380.29C65.5,-373.03 65.5,-363.98 65.5,-355.27\"/>\n",
              "<polygon fill=\"black\" stroke=\"black\" points=\"69,-355.32 65.5,-345.32 62,-355.32 69,-355.32\"/>\n",
              "</g>\n",
              "<!-- 2 -->\n",
              "<g id=\"node3\" class=\"node\">\n",
              "<title>2</title>\n",
              "<polygon fill=\"#c1ffc1\" stroke=\"none\" points=\"131,-266 0,-266 0,-224 131,-224 131,-266\"/>\n",
              "<polygon fill=\"none\" stroke=\"black\" points=\"0.5,-224 0.5,-266 47.5,-266 47.5,-224 0.5,-224\"/>\n",
              "<text text-anchor=\"start\" x=\"8.5\" y=\"-248\" font-family=\"Linux libertine\" font-size=\"10.00\">Linear</text>\n",
              "<text text-anchor=\"start\" x=\"5.5\" y=\"-237\" font-family=\"Linux libertine\" font-size=\"10.00\">depth:1</text>\n",
              "<polygon fill=\"none\" stroke=\"black\" points=\"47.5,-245 47.5,-266 95.5,-266 95.5,-245 47.5,-245\"/>\n",
              "<text text-anchor=\"start\" x=\"57.5\" y=\"-253\" font-family=\"Linux libertine\" font-size=\"10.00\">input:</text>\n",
              "<polygon fill=\"none\" stroke=\"black\" points=\"95.5,-245 95.5,-266 131.5,-266 131.5,-245 95.5,-245\"/>\n",
              "<text text-anchor=\"start\" x=\"100.5\" y=\"-253\" font-family=\"Linux libertine\" font-size=\"10.00\">(10,) </text>\n",
              "<polygon fill=\"none\" stroke=\"black\" points=\"47.5,-224 47.5,-245 95.5,-245 95.5,-224 47.5,-224\"/>\n",
              "<text text-anchor=\"start\" x=\"52.5\" y=\"-232\" font-family=\"Linux libertine\" font-size=\"10.00\">output: </text>\n",
              "<polygon fill=\"none\" stroke=\"black\" points=\"95.5,-224 95.5,-245 131.5,-245 131.5,-224 95.5,-224\"/>\n",
              "<text text-anchor=\"start\" x=\"103.5\" y=\"-232\" font-family=\"Linux libertine\" font-size=\"10.00\">(6,) </text>\n",
              "</g>\n",
              "<!-- 1&#45;&gt;2 -->\n",
              "<g id=\"edge2\" class=\"edge\">\n",
              "<title>1&#45;&gt;2</title>\n",
              "<path fill=\"none\" stroke=\"black\" d=\"M65.5,-302.03C65.5,-294.44 65.5,-285.6 65.5,-277.21\"/>\n",
              "<polygon fill=\"black\" stroke=\"black\" points=\"69,-277.35 65.5,-267.35 62,-277.35 69,-277.35\"/>\n",
              "</g>\n",
              "<!-- 3 -->\n",
              "<g id=\"node4\" class=\"node\">\n",
              "<title>3</title>\n",
              "<polygon fill=\"#c1ffc1\" stroke=\"none\" points=\"128,-188 3,-188 3,-146 128,-146 128,-188\"/>\n",
              "<polygon fill=\"none\" stroke=\"black\" points=\"3.5,-146 3.5,-188 50.5,-188 50.5,-146 3.5,-146\"/>\n",
              "<text text-anchor=\"start\" x=\"11.5\" y=\"-170\" font-family=\"Linux libertine\" font-size=\"10.00\">Linear</text>\n",
              "<text text-anchor=\"start\" x=\"8.5\" y=\"-159\" font-family=\"Linux libertine\" font-size=\"10.00\">depth:1</text>\n",
              "<polygon fill=\"none\" stroke=\"black\" points=\"50.5,-167 50.5,-188 98.5,-188 98.5,-167 50.5,-167\"/>\n",
              "<text text-anchor=\"start\" x=\"60.5\" y=\"-175\" font-family=\"Linux libertine\" font-size=\"10.00\">input:</text>\n",
              "<polygon fill=\"none\" stroke=\"black\" points=\"98.5,-167 98.5,-188 128.5,-188 128.5,-167 98.5,-167\"/>\n",
              "<text text-anchor=\"start\" x=\"103.5\" y=\"-175\" font-family=\"Linux libertine\" font-size=\"10.00\">(6,) </text>\n",
              "<polygon fill=\"none\" stroke=\"black\" points=\"50.5,-146 50.5,-167 98.5,-167 98.5,-146 50.5,-146\"/>\n",
              "<text text-anchor=\"start\" x=\"55.5\" y=\"-154\" font-family=\"Linux libertine\" font-size=\"10.00\">output: </text>\n",
              "<polygon fill=\"none\" stroke=\"black\" points=\"98.5,-146 98.5,-167 128.5,-167 128.5,-146 98.5,-146\"/>\n",
              "<text text-anchor=\"start\" x=\"103.5\" y=\"-154\" font-family=\"Linux libertine\" font-size=\"10.00\">(8,) </text>\n",
              "</g>\n",
              "<!-- 2&#45;&gt;3 -->\n",
              "<g id=\"edge3\" class=\"edge\">\n",
              "<title>2&#45;&gt;3</title>\n",
              "<path fill=\"none\" stroke=\"black\" d=\"M65.5,-224.03C65.5,-216.44 65.5,-207.6 65.5,-199.21\"/>\n",
              "<polygon fill=\"black\" stroke=\"black\" points=\"69,-199.35 65.5,-189.35 62,-199.35 69,-199.35\"/>\n",
              "</g>\n",
              "<!-- 4 -->\n",
              "<g id=\"node5\" class=\"node\">\n",
              "<title>4</title>\n",
              "<polygon fill=\"#c1ffc1\" stroke=\"none\" points=\"128,-110 3,-110 3,-68 128,-68 128,-110\"/>\n",
              "<polygon fill=\"none\" stroke=\"black\" points=\"3.5,-68 3.5,-110 50.5,-110 50.5,-68 3.5,-68\"/>\n",
              "<text text-anchor=\"start\" x=\"11.5\" y=\"-92\" font-family=\"Linux libertine\" font-size=\"10.00\">Linear</text>\n",
              "<text text-anchor=\"start\" x=\"8.5\" y=\"-81\" font-family=\"Linux libertine\" font-size=\"10.00\">depth:1</text>\n",
              "<polygon fill=\"none\" stroke=\"black\" points=\"50.5,-89 50.5,-110 98.5,-110 98.5,-89 50.5,-89\"/>\n",
              "<text text-anchor=\"start\" x=\"60.5\" y=\"-97\" font-family=\"Linux libertine\" font-size=\"10.00\">input:</text>\n",
              "<polygon fill=\"none\" stroke=\"black\" points=\"98.5,-89 98.5,-110 128.5,-110 128.5,-89 98.5,-89\"/>\n",
              "<text text-anchor=\"start\" x=\"103.5\" y=\"-97\" font-family=\"Linux libertine\" font-size=\"10.00\">(8,) </text>\n",
              "<polygon fill=\"none\" stroke=\"black\" points=\"50.5,-68 50.5,-89 98.5,-89 98.5,-68 50.5,-68\"/>\n",
              "<text text-anchor=\"start\" x=\"55.5\" y=\"-76\" font-family=\"Linux libertine\" font-size=\"10.00\">output: </text>\n",
              "<polygon fill=\"none\" stroke=\"black\" points=\"98.5,-68 98.5,-89 128.5,-89 128.5,-68 98.5,-68\"/>\n",
              "<text text-anchor=\"start\" x=\"103.5\" y=\"-76\" font-family=\"Linux libertine\" font-size=\"10.00\">(1,) </text>\n",
              "</g>\n",
              "<!-- 3&#45;&gt;4 -->\n",
              "<g id=\"edge4\" class=\"edge\">\n",
              "<title>3&#45;&gt;4</title>\n",
              "<path fill=\"none\" stroke=\"black\" d=\"M65.5,-146.03C65.5,-138.44 65.5,-129.6 65.5,-121.21\"/>\n",
              "<polygon fill=\"black\" stroke=\"black\" points=\"69,-121.35 65.5,-111.35 62,-121.35 69,-121.35\"/>\n",
              "</g>\n",
              "<!-- 5 -->\n",
              "<g id=\"node6\" class=\"node\">\n",
              "<title>5</title>\n",
              "<polygon fill=\"lightyellow\" stroke=\"none\" points=\"117.5,-32 13.5,-32 13.5,0 117.5,0 117.5,-32\"/>\n",
              "<polygon fill=\"none\" stroke=\"black\" points=\"13.5,0 13.5,-32 90.5,-32 90.5,0 13.5,0\"/>\n",
              "<text text-anchor=\"start\" x=\"18.5\" y=\"-19\" font-family=\"Linux libertine\" font-size=\"10.00\">output&#45;tensor</text>\n",
              "<text text-anchor=\"start\" x=\"33.5\" y=\"-8\" font-family=\"Linux libertine\" font-size=\"10.00\">depth:0</text>\n",
              "<polygon fill=\"none\" stroke=\"black\" points=\"90.5,0 90.5,-32 117.5,-32 117.5,0 90.5,0\"/>\n",
              "<text text-anchor=\"start\" x=\"95.5\" y=\"-13.5\" font-family=\"Linux libertine\" font-size=\"10.00\">(1,)</text>\n",
              "</g>\n",
              "<!-- 4&#45;&gt;5 -->\n",
              "<g id=\"edge5\" class=\"edge\">\n",
              "<title>4&#45;&gt;5</title>\n",
              "<path fill=\"none\" stroke=\"black\" d=\"M65.5,-68.22C65.5,-60.5 65.5,-51.54 65.5,-43.29\"/>\n",
              "<polygon fill=\"black\" stroke=\"black\" points=\"69,-43.46 65.5,-33.46 62,-43.46 69,-43.46\"/>\n",
              "</g>\n",
              "</g>\n",
              "</svg>\n"
            ],
            "text/plain": [
              "<graphviz.graphs.Digraph at 0x7f7e9442bb80>"
            ]
          },
          "execution_count": 15,
          "metadata": {},
          "output_type": "execute_result"
        }
      ],
      "source": [
        "model_graph = draw_graph(model, input_size=(8,))\n",
        "model_graph.visual_graph"
      ]
    },
    {
      "cell_type": "markdown",
      "metadata": {
        "id": "XybTVCf7fZud"
      },
      "source": [
        "#### **Problem #2.1.2**\n",
        "\n",
        "Now, make and visualize a neural net with the following structure:\n",
        "* An input layer with 3 neurons\n",
        "* One hidden layer with 9 neurons\n",
        "* An output layer with 4 neurons"
      ]
    },
    {
      "cell_type": "code",
      "execution_count": null,
      "metadata": {
        "id": "Uz-7leO_fZue"
      },
      "outputs": [],
      "source": [
        "model = # COMPLETE THIS LINE\n",
        "\n",
        "# Input Layer\n",
        "model.add_module('input', nn.Linear(# COMPLETE THIS LINE\n",
        "model.add_module('output', n# COMPLETE THIS LINE\n",
        "\n",
        "# Visualizing the network\n",
        "model_graph = draw_graph(model, input_size=(# COMPLETE THIS LINE\n",
        "model_graph.visual_graph"
      ]
    },
    {
      "cell_type": "markdown",
      "metadata": {
        "id": "buzPVEA5fZue"
      },
      "source": [
        "##### **Solution**"
      ]
    },
    {
      "cell_type": "code",
      "execution_count": null,
      "metadata": {
        "id": "Mz1Lg1c6fZue",
        "tags": [],
        "outputId": "e2c89daa-8821-4810-a236-6754a73dbe56"
      },
      "outputs": [
        {
          "data": {
            "image/svg+xml": [
              "<?xml version=\"1.0\" encoding=\"UTF-8\" standalone=\"no\"?>\n",
              "<!DOCTYPE svg PUBLIC \"-//W3C//DTD SVG 1.1//EN\"\n",
              " \"http://www.w3.org/Graphics/SVG/1.1/DTD/svg11.dtd\">\n",
              "<!-- Generated by graphviz version 7.1.0 (20230122.1345)\n",
              " -->\n",
              "<!-- Title: model Pages: 1 -->\n",
              "<svg width=\"133pt\" height=\"264pt\"\n",
              " viewBox=\"0.00 0.00 133.00 264.00\" xmlns=\"http://www.w3.org/2000/svg\" xmlns:xlink=\"http://www.w3.org/1999/xlink\">\n",
              "<g id=\"graph0\" class=\"graph\" transform=\"scale(1 1) rotate(0) translate(4 260)\">\n",
              "<title>model</title>\n",
              "<polygon fill=\"white\" stroke=\"none\" points=\"-4,4 -4,-260 129,-260 129,4 -4,4\"/>\n",
              "<!-- 0 -->\n",
              "<g id=\"node1\" class=\"node\">\n",
              "<title>0</title>\n",
              "<polygon fill=\"lightyellow\" stroke=\"none\" points=\"111,-256 14,-256 14,-224 111,-224 111,-256\"/>\n",
              "<polygon fill=\"none\" stroke=\"black\" points=\"14.5,-224 14.5,-256 84.5,-256 84.5,-224 14.5,-224\"/>\n",
              "<text text-anchor=\"start\" x=\"19.5\" y=\"-243\" font-family=\"Linux libertine\" font-size=\"10.00\">input&#45;tensor</text>\n",
              "<text text-anchor=\"start\" x=\"31\" y=\"-232\" font-family=\"Linux libertine\" font-size=\"10.00\">depth:0</text>\n",
              "<polygon fill=\"none\" stroke=\"black\" points=\"84.5,-224 84.5,-256 111.5,-256 111.5,-224 84.5,-224\"/>\n",
              "<text text-anchor=\"start\" x=\"89.5\" y=\"-237.5\" font-family=\"Linux libertine\" font-size=\"10.00\">(3,)</text>\n",
              "</g>\n",
              "<!-- 1 -->\n",
              "<g id=\"node2\" class=\"node\">\n",
              "<title>1</title>\n",
              "<polygon fill=\"#c1ffc1\" stroke=\"none\" points=\"125,-188 0,-188 0,-146 125,-146 125,-188\"/>\n",
              "<polygon fill=\"none\" stroke=\"black\" points=\"0.5,-146 0.5,-188 47.5,-188 47.5,-146 0.5,-146\"/>\n",
              "<text text-anchor=\"start\" x=\"8.5\" y=\"-170\" font-family=\"Linux libertine\" font-size=\"10.00\">Linear</text>\n",
              "<text text-anchor=\"start\" x=\"5.5\" y=\"-159\" font-family=\"Linux libertine\" font-size=\"10.00\">depth:1</text>\n",
              "<polygon fill=\"none\" stroke=\"black\" points=\"47.5,-167 47.5,-188 95.5,-188 95.5,-167 47.5,-167\"/>\n",
              "<text text-anchor=\"start\" x=\"57.5\" y=\"-175\" font-family=\"Linux libertine\" font-size=\"10.00\">input:</text>\n",
              "<polygon fill=\"none\" stroke=\"black\" points=\"95.5,-167 95.5,-188 125.5,-188 125.5,-167 95.5,-167\"/>\n",
              "<text text-anchor=\"start\" x=\"100.5\" y=\"-175\" font-family=\"Linux libertine\" font-size=\"10.00\">(3,) </text>\n",
              "<polygon fill=\"none\" stroke=\"black\" points=\"47.5,-146 47.5,-167 95.5,-167 95.5,-146 47.5,-146\"/>\n",
              "<text text-anchor=\"start\" x=\"52.5\" y=\"-154\" font-family=\"Linux libertine\" font-size=\"10.00\">output: </text>\n",
              "<polygon fill=\"none\" stroke=\"black\" points=\"95.5,-146 95.5,-167 125.5,-167 125.5,-146 95.5,-146\"/>\n",
              "<text text-anchor=\"start\" x=\"100.5\" y=\"-154\" font-family=\"Linux libertine\" font-size=\"10.00\">(9,) </text>\n",
              "</g>\n",
              "<!-- 0&#45;&gt;1 -->\n",
              "<g id=\"edge1\" class=\"edge\">\n",
              "<title>0&#45;&gt;1</title>\n",
              "<path fill=\"none\" stroke=\"black\" d=\"M62.5,-224.29C62.5,-217.03 62.5,-207.98 62.5,-199.27\"/>\n",
              "<polygon fill=\"black\" stroke=\"black\" points=\"66,-199.32 62.5,-189.32 59,-199.32 66,-199.32\"/>\n",
              "</g>\n",
              "<!-- 2 -->\n",
              "<g id=\"node3\" class=\"node\">\n",
              "<title>2</title>\n",
              "<polygon fill=\"#c1ffc1\" stroke=\"none\" points=\"125,-110 0,-110 0,-68 125,-68 125,-110\"/>\n",
              "<polygon fill=\"none\" stroke=\"black\" points=\"0.5,-68 0.5,-110 47.5,-110 47.5,-68 0.5,-68\"/>\n",
              "<text text-anchor=\"start\" x=\"8.5\" y=\"-92\" font-family=\"Linux libertine\" font-size=\"10.00\">Linear</text>\n",
              "<text text-anchor=\"start\" x=\"5.5\" y=\"-81\" font-family=\"Linux libertine\" font-size=\"10.00\">depth:1</text>\n",
              "<polygon fill=\"none\" stroke=\"black\" points=\"47.5,-89 47.5,-110 95.5,-110 95.5,-89 47.5,-89\"/>\n",
              "<text text-anchor=\"start\" x=\"57.5\" y=\"-97\" font-family=\"Linux libertine\" font-size=\"10.00\">input:</text>\n",
              "<polygon fill=\"none\" stroke=\"black\" points=\"95.5,-89 95.5,-110 125.5,-110 125.5,-89 95.5,-89\"/>\n",
              "<text text-anchor=\"start\" x=\"100.5\" y=\"-97\" font-family=\"Linux libertine\" font-size=\"10.00\">(9,) </text>\n",
              "<polygon fill=\"none\" stroke=\"black\" points=\"47.5,-68 47.5,-89 95.5,-89 95.5,-68 47.5,-68\"/>\n",
              "<text text-anchor=\"start\" x=\"52.5\" y=\"-76\" font-family=\"Linux libertine\" font-size=\"10.00\">output: </text>\n",
              "<polygon fill=\"none\" stroke=\"black\" points=\"95.5,-68 95.5,-89 125.5,-89 125.5,-68 95.5,-68\"/>\n",
              "<text text-anchor=\"start\" x=\"100.5\" y=\"-76\" font-family=\"Linux libertine\" font-size=\"10.00\">(4,) </text>\n",
              "</g>\n",
              "<!-- 1&#45;&gt;2 -->\n",
              "<g id=\"edge2\" class=\"edge\">\n",
              "<title>1&#45;&gt;2</title>\n",
              "<path fill=\"none\" stroke=\"black\" d=\"M62.5,-146.03C62.5,-138.44 62.5,-129.6 62.5,-121.21\"/>\n",
              "<polygon fill=\"black\" stroke=\"black\" points=\"66,-121.35 62.5,-111.35 59,-121.35 66,-121.35\"/>\n",
              "</g>\n",
              "<!-- 3 -->\n",
              "<g id=\"node4\" class=\"node\">\n",
              "<title>3</title>\n",
              "<polygon fill=\"lightyellow\" stroke=\"none\" points=\"114.5,-32 10.5,-32 10.5,0 114.5,0 114.5,-32\"/>\n",
              "<polygon fill=\"none\" stroke=\"black\" points=\"10.5,0 10.5,-32 87.5,-32 87.5,0 10.5,0\"/>\n",
              "<text text-anchor=\"start\" x=\"15.5\" y=\"-19\" font-family=\"Linux libertine\" font-size=\"10.00\">output&#45;tensor</text>\n",
              "<text text-anchor=\"start\" x=\"30.5\" y=\"-8\" font-family=\"Linux libertine\" font-size=\"10.00\">depth:0</text>\n",
              "<polygon fill=\"none\" stroke=\"black\" points=\"87.5,0 87.5,-32 114.5,-32 114.5,0 87.5,0\"/>\n",
              "<text text-anchor=\"start\" x=\"92.5\" y=\"-13.5\" font-family=\"Linux libertine\" font-size=\"10.00\">(4,)</text>\n",
              "</g>\n",
              "<!-- 2&#45;&gt;3 -->\n",
              "<g id=\"edge3\" class=\"edge\">\n",
              "<title>2&#45;&gt;3</title>\n",
              "<path fill=\"none\" stroke=\"black\" d=\"M62.5,-68.22C62.5,-60.5 62.5,-51.54 62.5,-43.29\"/>\n",
              "<polygon fill=\"black\" stroke=\"black\" points=\"66,-43.46 62.5,-33.46 59,-43.46 66,-43.46\"/>\n",
              "</g>\n",
              "</g>\n",
              "</svg>\n"
            ],
            "text/plain": [
              "<graphviz.graphs.Digraph at 0x7f7f70464850>"
            ]
          },
          "execution_count": 16,
          "metadata": {},
          "output_type": "execute_result"
        }
      ],
      "source": [
        "model = nn.Sequential()\n",
        "\n",
        "# Input Layer\n",
        "model.add_module('input', nn.Linear(3, 9))\n",
        "model.add_module('output', nn.Linear(9, 4))\n",
        "\n",
        "# Visualizing the network\n",
        "model_graph = draw_graph(model, input_size=(3,))\n",
        "model_graph.visual_graph"
      ]
    },
    {
      "cell_type": "markdown",
      "metadata": {
        "id": "fHuV5l_IgCeb"
      },
      "source": [
        "#### **Problem #2.1.3**\n",
        "\n",
        "\n",
        "`Sequential(...)` can also take a list of layers that you want to add. Complete the code below to recreate the same NN from the problem above.\n",
        "\n",
        "<br>\n",
        "\n",
        "**NOTE**: This is just a more succinct way to acheive the same thing that's worth knowing about. In the beginning, it can often be helpful to take the other approach since it emphasizes the process of building the NN layer by layer."
      ]
    },
    {
      "cell_type": "code",
      "execution_count": null,
      "metadata": {
        "id": "wQy0qyXtgCec"
      },
      "outputs": [],
      "source": [
        "model = nn.Sequential(\n",
        "    # COMPLETE THIS LINE,\n",
        "    # COMPLETE THIS LINE\n",
        ")\n",
        "\n",
        "# Visualizing the network\n",
        "model_graph = draw_graph(model, input_size=(3,))\n",
        "model_graph.visual_graph"
      ]
    },
    {
      "cell_type": "markdown",
      "metadata": {
        "id": "mvEA9DzlgCec"
      },
      "source": [
        "##### **Solution**"
      ]
    },
    {
      "cell_type": "code",
      "execution_count": null,
      "metadata": {
        "id": "UuMeeasVgCec",
        "tags": [],
        "outputId": "045d914c-5ab3-4829-b852-08ffedc144e6"
      },
      "outputs": [
        {
          "data": {
            "image/svg+xml": [
              "<?xml version=\"1.0\" encoding=\"UTF-8\" standalone=\"no\"?>\n",
              "<!DOCTYPE svg PUBLIC \"-//W3C//DTD SVG 1.1//EN\"\n",
              " \"http://www.w3.org/Graphics/SVG/1.1/DTD/svg11.dtd\">\n",
              "<!-- Generated by graphviz version 7.1.0 (20230122.1345)\n",
              " -->\n",
              "<!-- Title: model Pages: 1 -->\n",
              "<svg width=\"133pt\" height=\"264pt\"\n",
              " viewBox=\"0.00 0.00 133.00 264.00\" xmlns=\"http://www.w3.org/2000/svg\" xmlns:xlink=\"http://www.w3.org/1999/xlink\">\n",
              "<g id=\"graph0\" class=\"graph\" transform=\"scale(1 1) rotate(0) translate(4 260)\">\n",
              "<title>model</title>\n",
              "<polygon fill=\"white\" stroke=\"none\" points=\"-4,4 -4,-260 129,-260 129,4 -4,4\"/>\n",
              "<!-- 0 -->\n",
              "<g id=\"node1\" class=\"node\">\n",
              "<title>0</title>\n",
              "<polygon fill=\"lightyellow\" stroke=\"none\" points=\"111,-256 14,-256 14,-224 111,-224 111,-256\"/>\n",
              "<polygon fill=\"none\" stroke=\"black\" points=\"14.5,-224 14.5,-256 84.5,-256 84.5,-224 14.5,-224\"/>\n",
              "<text text-anchor=\"start\" x=\"19.5\" y=\"-243\" font-family=\"Linux libertine\" font-size=\"10.00\">input&#45;tensor</text>\n",
              "<text text-anchor=\"start\" x=\"31\" y=\"-232\" font-family=\"Linux libertine\" font-size=\"10.00\">depth:0</text>\n",
              "<polygon fill=\"none\" stroke=\"black\" points=\"84.5,-224 84.5,-256 111.5,-256 111.5,-224 84.5,-224\"/>\n",
              "<text text-anchor=\"start\" x=\"89.5\" y=\"-237.5\" font-family=\"Linux libertine\" font-size=\"10.00\">(3,)</text>\n",
              "</g>\n",
              "<!-- 1 -->\n",
              "<g id=\"node2\" class=\"node\">\n",
              "<title>1</title>\n",
              "<polygon fill=\"#c1ffc1\" stroke=\"none\" points=\"125,-188 0,-188 0,-146 125,-146 125,-188\"/>\n",
              "<polygon fill=\"none\" stroke=\"black\" points=\"0.5,-146 0.5,-188 47.5,-188 47.5,-146 0.5,-146\"/>\n",
              "<text text-anchor=\"start\" x=\"8.5\" y=\"-170\" font-family=\"Linux libertine\" font-size=\"10.00\">Linear</text>\n",
              "<text text-anchor=\"start\" x=\"5.5\" y=\"-159\" font-family=\"Linux libertine\" font-size=\"10.00\">depth:1</text>\n",
              "<polygon fill=\"none\" stroke=\"black\" points=\"47.5,-167 47.5,-188 95.5,-188 95.5,-167 47.5,-167\"/>\n",
              "<text text-anchor=\"start\" x=\"57.5\" y=\"-175\" font-family=\"Linux libertine\" font-size=\"10.00\">input:</text>\n",
              "<polygon fill=\"none\" stroke=\"black\" points=\"95.5,-167 95.5,-188 125.5,-188 125.5,-167 95.5,-167\"/>\n",
              "<text text-anchor=\"start\" x=\"100.5\" y=\"-175\" font-family=\"Linux libertine\" font-size=\"10.00\">(3,) </text>\n",
              "<polygon fill=\"none\" stroke=\"black\" points=\"47.5,-146 47.5,-167 95.5,-167 95.5,-146 47.5,-146\"/>\n",
              "<text text-anchor=\"start\" x=\"52.5\" y=\"-154\" font-family=\"Linux libertine\" font-size=\"10.00\">output: </text>\n",
              "<polygon fill=\"none\" stroke=\"black\" points=\"95.5,-146 95.5,-167 125.5,-167 125.5,-146 95.5,-146\"/>\n",
              "<text text-anchor=\"start\" x=\"100.5\" y=\"-154\" font-family=\"Linux libertine\" font-size=\"10.00\">(9,) </text>\n",
              "</g>\n",
              "<!-- 0&#45;&gt;1 -->\n",
              "<g id=\"edge1\" class=\"edge\">\n",
              "<title>0&#45;&gt;1</title>\n",
              "<path fill=\"none\" stroke=\"black\" d=\"M62.5,-224.29C62.5,-217.03 62.5,-207.98 62.5,-199.27\"/>\n",
              "<polygon fill=\"black\" stroke=\"black\" points=\"66,-199.32 62.5,-189.32 59,-199.32 66,-199.32\"/>\n",
              "</g>\n",
              "<!-- 2 -->\n",
              "<g id=\"node3\" class=\"node\">\n",
              "<title>2</title>\n",
              "<polygon fill=\"#c1ffc1\" stroke=\"none\" points=\"125,-110 0,-110 0,-68 125,-68 125,-110\"/>\n",
              "<polygon fill=\"none\" stroke=\"black\" points=\"0.5,-68 0.5,-110 47.5,-110 47.5,-68 0.5,-68\"/>\n",
              "<text text-anchor=\"start\" x=\"8.5\" y=\"-92\" font-family=\"Linux libertine\" font-size=\"10.00\">Linear</text>\n",
              "<text text-anchor=\"start\" x=\"5.5\" y=\"-81\" font-family=\"Linux libertine\" font-size=\"10.00\">depth:1</text>\n",
              "<polygon fill=\"none\" stroke=\"black\" points=\"47.5,-89 47.5,-110 95.5,-110 95.5,-89 47.5,-89\"/>\n",
              "<text text-anchor=\"start\" x=\"57.5\" y=\"-97\" font-family=\"Linux libertine\" font-size=\"10.00\">input:</text>\n",
              "<polygon fill=\"none\" stroke=\"black\" points=\"95.5,-89 95.5,-110 125.5,-110 125.5,-89 95.5,-89\"/>\n",
              "<text text-anchor=\"start\" x=\"100.5\" y=\"-97\" font-family=\"Linux libertine\" font-size=\"10.00\">(9,) </text>\n",
              "<polygon fill=\"none\" stroke=\"black\" points=\"47.5,-68 47.5,-89 95.5,-89 95.5,-68 47.5,-68\"/>\n",
              "<text text-anchor=\"start\" x=\"52.5\" y=\"-76\" font-family=\"Linux libertine\" font-size=\"10.00\">output: </text>\n",
              "<polygon fill=\"none\" stroke=\"black\" points=\"95.5,-68 95.5,-89 125.5,-89 125.5,-68 95.5,-68\"/>\n",
              "<text text-anchor=\"start\" x=\"100.5\" y=\"-76\" font-family=\"Linux libertine\" font-size=\"10.00\">(4,) </text>\n",
              "</g>\n",
              "<!-- 1&#45;&gt;2 -->\n",
              "<g id=\"edge2\" class=\"edge\">\n",
              "<title>1&#45;&gt;2</title>\n",
              "<path fill=\"none\" stroke=\"black\" d=\"M62.5,-146.03C62.5,-138.44 62.5,-129.6 62.5,-121.21\"/>\n",
              "<polygon fill=\"black\" stroke=\"black\" points=\"66,-121.35 62.5,-111.35 59,-121.35 66,-121.35\"/>\n",
              "</g>\n",
              "<!-- 3 -->\n",
              "<g id=\"node4\" class=\"node\">\n",
              "<title>3</title>\n",
              "<polygon fill=\"lightyellow\" stroke=\"none\" points=\"114.5,-32 10.5,-32 10.5,0 114.5,0 114.5,-32\"/>\n",
              "<polygon fill=\"none\" stroke=\"black\" points=\"10.5,0 10.5,-32 87.5,-32 87.5,0 10.5,0\"/>\n",
              "<text text-anchor=\"start\" x=\"15.5\" y=\"-19\" font-family=\"Linux libertine\" font-size=\"10.00\">output&#45;tensor</text>\n",
              "<text text-anchor=\"start\" x=\"30.5\" y=\"-8\" font-family=\"Linux libertine\" font-size=\"10.00\">depth:0</text>\n",
              "<polygon fill=\"none\" stroke=\"black\" points=\"87.5,0 87.5,-32 114.5,-32 114.5,0 87.5,0\"/>\n",
              "<text text-anchor=\"start\" x=\"92.5\" y=\"-13.5\" font-family=\"Linux libertine\" font-size=\"10.00\">(4,)</text>\n",
              "</g>\n",
              "<!-- 2&#45;&gt;3 -->\n",
              "<g id=\"edge3\" class=\"edge\">\n",
              "<title>2&#45;&gt;3</title>\n",
              "<path fill=\"none\" stroke=\"black\" d=\"M62.5,-68.22C62.5,-60.5 62.5,-51.54 62.5,-43.29\"/>\n",
              "<polygon fill=\"black\" stroke=\"black\" points=\"66,-43.46 62.5,-33.46 59,-43.46 66,-43.46\"/>\n",
              "</g>\n",
              "</g>\n",
              "</svg>\n"
            ],
            "text/plain": [
              "<graphviz.graphs.Digraph at 0x7f7e9442b790>"
            ]
          },
          "execution_count": 17,
          "metadata": {},
          "output_type": "execute_result"
        }
      ],
      "source": [
        "model = nn.Sequential(\n",
        "    nn.Linear(3, 9),\n",
        "    nn.Linear(9, 4)\n",
        ")\n",
        "\n",
        "# Visualizing the network\n",
        "model_graph = draw_graph(model, input_size=(3,))\n",
        "model_graph.visual_graph"
      ]
    },
    {
      "cell_type": "markdown",
      "source": [
        "---\n",
        "#### **Try Problems #2.1.4 - #2.1.6 on your own.**\n",
        "---"
      ],
      "metadata": {
        "id": "-sJ42emesYAW"
      }
    },
    {
      "cell_type": "markdown",
      "metadata": {
        "id": "-cYtjZ7KBEOm"
      },
      "source": [
        "#### **Problem #2.1.4**\n",
        "\n",
        "Using either approach we've seen (Problems #1 - 2 or Problem #3), make and visualize a neural net with the following structure:\n",
        "* An input layer with 10 neurons\n",
        "* One hidden layer with 256 neurons\n",
        "* Another hidden layer with 128 neurons\n",
        "* Another hidden layer with 64 neurons\n",
        "* Another hidden layer with 32 neurons\n",
        "* Another hidden layer with 16 neurons\n",
        "* An output layer with 4 neurons"
      ]
    },
    {
      "cell_type": "code",
      "execution_count": null,
      "metadata": {
        "id": "rFjkEzlhDHTz"
      },
      "outputs": [],
      "source": [
        "# Build the model\n",
        "model = # COMPLETE THIS LINE\n",
        "\n",
        "# Input Layer\n",
        "model.add_module('input', # COMPLETE THIS LINE\n",
        "\n",
        "# Hidden Layers\n",
        "model.add_module('hidden1', # COMPLETE THIS LINE\n",
        "model.add_module('hidden2', # COMPLETE THIS LINE\n",
        "model.add_module(# COMPLETE THIS LINE\n",
        "model.add_module(# COMPLETE THIS LINE\n",
        "\n",
        "# Output Layer\n",
        "model.add_module('output', # COMPLETE THIS LINE\n",
        "\n",
        "# Visualizing the network\n",
        "model_graph = draw_graph(model, input_size=(# COMPLETE THIS LINE\n",
        "model_graph.visual_graph"
      ]
    },
    {
      "cell_type": "markdown",
      "metadata": {
        "id": "L5szv8JADHjM"
      },
      "source": [
        "##### **Solution**"
      ]
    },
    {
      "cell_type": "code",
      "execution_count": null,
      "metadata": {
        "id": "CJlmGZUVB77m",
        "tags": [],
        "outputId": "68a26e48-75ca-476e-af86-d622a8da9424"
      },
      "outputs": [
        {
          "data": {
            "image/svg+xml": [
              "<?xml version=\"1.0\" encoding=\"UTF-8\" standalone=\"no\"?>\n",
              "<!DOCTYPE svg PUBLIC \"-//W3C//DTD SVG 1.1//EN\"\n",
              " \"http://www.w3.org/Graphics/SVG/1.1/DTD/svg11.dtd\">\n",
              "<!-- Generated by graphviz version 7.1.0 (20230122.1345)\n",
              " -->\n",
              "<!-- Title: model Pages: 1 -->\n",
              "<svg width=\"145pt\" height=\"576pt\"\n",
              " viewBox=\"0.00 0.00 145.00 576.00\" xmlns=\"http://www.w3.org/2000/svg\" xmlns:xlink=\"http://www.w3.org/1999/xlink\">\n",
              "<g id=\"graph0\" class=\"graph\" transform=\"scale(1 1) rotate(0) translate(4 572)\">\n",
              "<title>model</title>\n",
              "<polygon fill=\"white\" stroke=\"none\" points=\"-4,4 -4,-572 141,-572 141,4 -4,4\"/>\n",
              "<!-- 0 -->\n",
              "<g id=\"node1\" class=\"node\">\n",
              "<title>0</title>\n",
              "<polygon fill=\"lightyellow\" stroke=\"none\" points=\"120,-568 17,-568 17,-536 120,-536 120,-568\"/>\n",
              "<polygon fill=\"none\" stroke=\"black\" points=\"17.5,-536 17.5,-568 87.5,-568 87.5,-536 17.5,-536\"/>\n",
              "<text text-anchor=\"start\" x=\"22.5\" y=\"-555\" font-family=\"Linux libertine\" font-size=\"10.00\">input&#45;tensor</text>\n",
              "<text text-anchor=\"start\" x=\"34\" y=\"-544\" font-family=\"Linux libertine\" font-size=\"10.00\">depth:0</text>\n",
              "<polygon fill=\"none\" stroke=\"black\" points=\"87.5,-536 87.5,-568 120.5,-568 120.5,-536 87.5,-536\"/>\n",
              "<text text-anchor=\"start\" x=\"92.5\" y=\"-549.5\" font-family=\"Linux libertine\" font-size=\"10.00\">(10,)</text>\n",
              "</g>\n",
              "<!-- 1 -->\n",
              "<g id=\"node2\" class=\"node\">\n",
              "<title>1</title>\n",
              "<polygon fill=\"#c1ffc1\" stroke=\"none\" points=\"137,-500 0,-500 0,-458 137,-458 137,-500\"/>\n",
              "<polygon fill=\"none\" stroke=\"black\" points=\"0.5,-458 0.5,-500 47.5,-500 47.5,-458 0.5,-458\"/>\n",
              "<text text-anchor=\"start\" x=\"8.5\" y=\"-482\" font-family=\"Linux libertine\" font-size=\"10.00\">Linear</text>\n",
              "<text text-anchor=\"start\" x=\"5.5\" y=\"-471\" font-family=\"Linux libertine\" font-size=\"10.00\">depth:1</text>\n",
              "<polygon fill=\"none\" stroke=\"black\" points=\"47.5,-479 47.5,-500 95.5,-500 95.5,-479 47.5,-479\"/>\n",
              "<text text-anchor=\"start\" x=\"57.5\" y=\"-487\" font-family=\"Linux libertine\" font-size=\"10.00\">input:</text>\n",
              "<polygon fill=\"none\" stroke=\"black\" points=\"95.5,-479 95.5,-500 137.5,-500 137.5,-479 95.5,-479\"/>\n",
              "<text text-anchor=\"start\" x=\"103.5\" y=\"-487\" font-family=\"Linux libertine\" font-size=\"10.00\">(10,) </text>\n",
              "<polygon fill=\"none\" stroke=\"black\" points=\"47.5,-458 47.5,-479 95.5,-479 95.5,-458 47.5,-458\"/>\n",
              "<text text-anchor=\"start\" x=\"52.5\" y=\"-466\" font-family=\"Linux libertine\" font-size=\"10.00\">output: </text>\n",
              "<polygon fill=\"none\" stroke=\"black\" points=\"95.5,-458 95.5,-479 137.5,-479 137.5,-458 95.5,-458\"/>\n",
              "<text text-anchor=\"start\" x=\"100.5\" y=\"-466\" font-family=\"Linux libertine\" font-size=\"10.00\">(256,) </text>\n",
              "</g>\n",
              "<!-- 0&#45;&gt;1 -->\n",
              "<g id=\"edge1\" class=\"edge\">\n",
              "<title>0&#45;&gt;1</title>\n",
              "<path fill=\"none\" stroke=\"black\" d=\"M68.5,-536.29C68.5,-529.03 68.5,-519.98 68.5,-511.27\"/>\n",
              "<polygon fill=\"black\" stroke=\"black\" points=\"72,-511.32 68.5,-501.32 65,-511.32 72,-511.32\"/>\n",
              "</g>\n",
              "<!-- 2 -->\n",
              "<g id=\"node3\" class=\"node\">\n",
              "<title>2</title>\n",
              "<polygon fill=\"#c1ffc1\" stroke=\"none\" points=\"137,-422 0,-422 0,-380 137,-380 137,-422\"/>\n",
              "<polygon fill=\"none\" stroke=\"black\" points=\"0.5,-380 0.5,-422 47.5,-422 47.5,-380 0.5,-380\"/>\n",
              "<text text-anchor=\"start\" x=\"8.5\" y=\"-404\" font-family=\"Linux libertine\" font-size=\"10.00\">Linear</text>\n",
              "<text text-anchor=\"start\" x=\"5.5\" y=\"-393\" font-family=\"Linux libertine\" font-size=\"10.00\">depth:1</text>\n",
              "<polygon fill=\"none\" stroke=\"black\" points=\"47.5,-401 47.5,-422 95.5,-422 95.5,-401 47.5,-401\"/>\n",
              "<text text-anchor=\"start\" x=\"57.5\" y=\"-409\" font-family=\"Linux libertine\" font-size=\"10.00\">input:</text>\n",
              "<polygon fill=\"none\" stroke=\"black\" points=\"95.5,-401 95.5,-422 137.5,-422 137.5,-401 95.5,-401\"/>\n",
              "<text text-anchor=\"start\" x=\"100.5\" y=\"-409\" font-family=\"Linux libertine\" font-size=\"10.00\">(256,) </text>\n",
              "<polygon fill=\"none\" stroke=\"black\" points=\"47.5,-380 47.5,-401 95.5,-401 95.5,-380 47.5,-380\"/>\n",
              "<text text-anchor=\"start\" x=\"52.5\" y=\"-388\" font-family=\"Linux libertine\" font-size=\"10.00\">output: </text>\n",
              "<polygon fill=\"none\" stroke=\"black\" points=\"95.5,-380 95.5,-401 137.5,-401 137.5,-380 95.5,-380\"/>\n",
              "<text text-anchor=\"start\" x=\"100.5\" y=\"-388\" font-family=\"Linux libertine\" font-size=\"10.00\">(128,) </text>\n",
              "</g>\n",
              "<!-- 1&#45;&gt;2 -->\n",
              "<g id=\"edge2\" class=\"edge\">\n",
              "<title>1&#45;&gt;2</title>\n",
              "<path fill=\"none\" stroke=\"black\" d=\"M68.5,-458.03C68.5,-450.44 68.5,-441.6 68.5,-433.21\"/>\n",
              "<polygon fill=\"black\" stroke=\"black\" points=\"72,-433.35 68.5,-423.35 65,-433.35 72,-433.35\"/>\n",
              "</g>\n",
              "<!-- 3 -->\n",
              "<g id=\"node4\" class=\"node\">\n",
              "<title>3</title>\n",
              "<polygon fill=\"#c1ffc1\" stroke=\"none\" points=\"137,-344 0,-344 0,-302 137,-302 137,-344\"/>\n",
              "<polygon fill=\"none\" stroke=\"black\" points=\"0.5,-302 0.5,-344 47.5,-344 47.5,-302 0.5,-302\"/>\n",
              "<text text-anchor=\"start\" x=\"8.5\" y=\"-326\" font-family=\"Linux libertine\" font-size=\"10.00\">Linear</text>\n",
              "<text text-anchor=\"start\" x=\"5.5\" y=\"-315\" font-family=\"Linux libertine\" font-size=\"10.00\">depth:1</text>\n",
              "<polygon fill=\"none\" stroke=\"black\" points=\"47.5,-323 47.5,-344 95.5,-344 95.5,-323 47.5,-323\"/>\n",
              "<text text-anchor=\"start\" x=\"57.5\" y=\"-331\" font-family=\"Linux libertine\" font-size=\"10.00\">input:</text>\n",
              "<polygon fill=\"none\" stroke=\"black\" points=\"95.5,-323 95.5,-344 137.5,-344 137.5,-323 95.5,-323\"/>\n",
              "<text text-anchor=\"start\" x=\"100.5\" y=\"-331\" font-family=\"Linux libertine\" font-size=\"10.00\">(128,) </text>\n",
              "<polygon fill=\"none\" stroke=\"black\" points=\"47.5,-302 47.5,-323 95.5,-323 95.5,-302 47.5,-302\"/>\n",
              "<text text-anchor=\"start\" x=\"52.5\" y=\"-310\" font-family=\"Linux libertine\" font-size=\"10.00\">output: </text>\n",
              "<polygon fill=\"none\" stroke=\"black\" points=\"95.5,-302 95.5,-323 137.5,-323 137.5,-302 95.5,-302\"/>\n",
              "<text text-anchor=\"start\" x=\"103.5\" y=\"-310\" font-family=\"Linux libertine\" font-size=\"10.00\">(64,) </text>\n",
              "</g>\n",
              "<!-- 2&#45;&gt;3 -->\n",
              "<g id=\"edge3\" class=\"edge\">\n",
              "<title>2&#45;&gt;3</title>\n",
              "<path fill=\"none\" stroke=\"black\" d=\"M68.5,-380.03C68.5,-372.44 68.5,-363.6 68.5,-355.21\"/>\n",
              "<polygon fill=\"black\" stroke=\"black\" points=\"72,-355.35 68.5,-345.35 65,-355.35 72,-355.35\"/>\n",
              "</g>\n",
              "<!-- 4 -->\n",
              "<g id=\"node5\" class=\"node\">\n",
              "<title>4</title>\n",
              "<polygon fill=\"#c1ffc1\" stroke=\"none\" points=\"134,-266 3,-266 3,-224 134,-224 134,-266\"/>\n",
              "<polygon fill=\"none\" stroke=\"black\" points=\"3.5,-224 3.5,-266 50.5,-266 50.5,-224 3.5,-224\"/>\n",
              "<text text-anchor=\"start\" x=\"11.5\" y=\"-248\" font-family=\"Linux libertine\" font-size=\"10.00\">Linear</text>\n",
              "<text text-anchor=\"start\" x=\"8.5\" y=\"-237\" font-family=\"Linux libertine\" font-size=\"10.00\">depth:1</text>\n",
              "<polygon fill=\"none\" stroke=\"black\" points=\"50.5,-245 50.5,-266 98.5,-266 98.5,-245 50.5,-245\"/>\n",
              "<text text-anchor=\"start\" x=\"60.5\" y=\"-253\" font-family=\"Linux libertine\" font-size=\"10.00\">input:</text>\n",
              "<polygon fill=\"none\" stroke=\"black\" points=\"98.5,-245 98.5,-266 134.5,-266 134.5,-245 98.5,-245\"/>\n",
              "<text text-anchor=\"start\" x=\"103.5\" y=\"-253\" font-family=\"Linux libertine\" font-size=\"10.00\">(64,) </text>\n",
              "<polygon fill=\"none\" stroke=\"black\" points=\"50.5,-224 50.5,-245 98.5,-245 98.5,-224 50.5,-224\"/>\n",
              "<text text-anchor=\"start\" x=\"55.5\" y=\"-232\" font-family=\"Linux libertine\" font-size=\"10.00\">output: </text>\n",
              "<polygon fill=\"none\" stroke=\"black\" points=\"98.5,-224 98.5,-245 134.5,-245 134.5,-224 98.5,-224\"/>\n",
              "<text text-anchor=\"start\" x=\"103.5\" y=\"-232\" font-family=\"Linux libertine\" font-size=\"10.00\">(32,) </text>\n",
              "</g>\n",
              "<!-- 3&#45;&gt;4 -->\n",
              "<g id=\"edge4\" class=\"edge\">\n",
              "<title>3&#45;&gt;4</title>\n",
              "<path fill=\"none\" stroke=\"black\" d=\"M68.5,-302.03C68.5,-294.44 68.5,-285.6 68.5,-277.21\"/>\n",
              "<polygon fill=\"black\" stroke=\"black\" points=\"72,-277.35 68.5,-267.35 65,-277.35 72,-277.35\"/>\n",
              "</g>\n",
              "<!-- 5 -->\n",
              "<g id=\"node6\" class=\"node\">\n",
              "<title>5</title>\n",
              "<polygon fill=\"#c1ffc1\" stroke=\"none\" points=\"134,-188 3,-188 3,-146 134,-146 134,-188\"/>\n",
              "<polygon fill=\"none\" stroke=\"black\" points=\"3.5,-146 3.5,-188 50.5,-188 50.5,-146 3.5,-146\"/>\n",
              "<text text-anchor=\"start\" x=\"11.5\" y=\"-170\" font-family=\"Linux libertine\" font-size=\"10.00\">Linear</text>\n",
              "<text text-anchor=\"start\" x=\"8.5\" y=\"-159\" font-family=\"Linux libertine\" font-size=\"10.00\">depth:1</text>\n",
              "<polygon fill=\"none\" stroke=\"black\" points=\"50.5,-167 50.5,-188 98.5,-188 98.5,-167 50.5,-167\"/>\n",
              "<text text-anchor=\"start\" x=\"60.5\" y=\"-175\" font-family=\"Linux libertine\" font-size=\"10.00\">input:</text>\n",
              "<polygon fill=\"none\" stroke=\"black\" points=\"98.5,-167 98.5,-188 134.5,-188 134.5,-167 98.5,-167\"/>\n",
              "<text text-anchor=\"start\" x=\"103.5\" y=\"-175\" font-family=\"Linux libertine\" font-size=\"10.00\">(32,) </text>\n",
              "<polygon fill=\"none\" stroke=\"black\" points=\"50.5,-146 50.5,-167 98.5,-167 98.5,-146 50.5,-146\"/>\n",
              "<text text-anchor=\"start\" x=\"55.5\" y=\"-154\" font-family=\"Linux libertine\" font-size=\"10.00\">output: </text>\n",
              "<polygon fill=\"none\" stroke=\"black\" points=\"98.5,-146 98.5,-167 134.5,-167 134.5,-146 98.5,-146\"/>\n",
              "<text text-anchor=\"start\" x=\"103.5\" y=\"-154\" font-family=\"Linux libertine\" font-size=\"10.00\">(16,) </text>\n",
              "</g>\n",
              "<!-- 4&#45;&gt;5 -->\n",
              "<g id=\"edge5\" class=\"edge\">\n",
              "<title>4&#45;&gt;5</title>\n",
              "<path fill=\"none\" stroke=\"black\" d=\"M68.5,-224.03C68.5,-216.44 68.5,-207.6 68.5,-199.21\"/>\n",
              "<polygon fill=\"black\" stroke=\"black\" points=\"72,-199.35 68.5,-189.35 65,-199.35 72,-199.35\"/>\n",
              "</g>\n",
              "<!-- 6 -->\n",
              "<g id=\"node7\" class=\"node\">\n",
              "<title>6</title>\n",
              "<polygon fill=\"#c1ffc1\" stroke=\"none\" points=\"134,-110 3,-110 3,-68 134,-68 134,-110\"/>\n",
              "<polygon fill=\"none\" stroke=\"black\" points=\"3.5,-68 3.5,-110 50.5,-110 50.5,-68 3.5,-68\"/>\n",
              "<text text-anchor=\"start\" x=\"11.5\" y=\"-92\" font-family=\"Linux libertine\" font-size=\"10.00\">Linear</text>\n",
              "<text text-anchor=\"start\" x=\"8.5\" y=\"-81\" font-family=\"Linux libertine\" font-size=\"10.00\">depth:1</text>\n",
              "<polygon fill=\"none\" stroke=\"black\" points=\"50.5,-89 50.5,-110 98.5,-110 98.5,-89 50.5,-89\"/>\n",
              "<text text-anchor=\"start\" x=\"60.5\" y=\"-97\" font-family=\"Linux libertine\" font-size=\"10.00\">input:</text>\n",
              "<polygon fill=\"none\" stroke=\"black\" points=\"98.5,-89 98.5,-110 134.5,-110 134.5,-89 98.5,-89\"/>\n",
              "<text text-anchor=\"start\" x=\"103.5\" y=\"-97\" font-family=\"Linux libertine\" font-size=\"10.00\">(16,) </text>\n",
              "<polygon fill=\"none\" stroke=\"black\" points=\"50.5,-68 50.5,-89 98.5,-89 98.5,-68 50.5,-68\"/>\n",
              "<text text-anchor=\"start\" x=\"55.5\" y=\"-76\" font-family=\"Linux libertine\" font-size=\"10.00\">output: </text>\n",
              "<polygon fill=\"none\" stroke=\"black\" points=\"98.5,-68 98.5,-89 134.5,-89 134.5,-68 98.5,-68\"/>\n",
              "<text text-anchor=\"start\" x=\"106.5\" y=\"-76\" font-family=\"Linux libertine\" font-size=\"10.00\">(4,) </text>\n",
              "</g>\n",
              "<!-- 5&#45;&gt;6 -->\n",
              "<g id=\"edge6\" class=\"edge\">\n",
              "<title>5&#45;&gt;6</title>\n",
              "<path fill=\"none\" stroke=\"black\" d=\"M68.5,-146.03C68.5,-138.44 68.5,-129.6 68.5,-121.21\"/>\n",
              "<polygon fill=\"black\" stroke=\"black\" points=\"72,-121.35 68.5,-111.35 65,-121.35 72,-121.35\"/>\n",
              "</g>\n",
              "<!-- 7 -->\n",
              "<g id=\"node8\" class=\"node\">\n",
              "<title>7</title>\n",
              "<polygon fill=\"lightyellow\" stroke=\"none\" points=\"120.5,-32 16.5,-32 16.5,0 120.5,0 120.5,-32\"/>\n",
              "<polygon fill=\"none\" stroke=\"black\" points=\"16.5,0 16.5,-32 93.5,-32 93.5,0 16.5,0\"/>\n",
              "<text text-anchor=\"start\" x=\"21.5\" y=\"-19\" font-family=\"Linux libertine\" font-size=\"10.00\">output&#45;tensor</text>\n",
              "<text text-anchor=\"start\" x=\"36.5\" y=\"-8\" font-family=\"Linux libertine\" font-size=\"10.00\">depth:0</text>\n",
              "<polygon fill=\"none\" stroke=\"black\" points=\"93.5,0 93.5,-32 120.5,-32 120.5,0 93.5,0\"/>\n",
              "<text text-anchor=\"start\" x=\"98.5\" y=\"-13.5\" font-family=\"Linux libertine\" font-size=\"10.00\">(4,)</text>\n",
              "</g>\n",
              "<!-- 6&#45;&gt;7 -->\n",
              "<g id=\"edge7\" class=\"edge\">\n",
              "<title>6&#45;&gt;7</title>\n",
              "<path fill=\"none\" stroke=\"black\" d=\"M68.5,-68.22C68.5,-60.5 68.5,-51.54 68.5,-43.29\"/>\n",
              "<polygon fill=\"black\" stroke=\"black\" points=\"72,-43.46 68.5,-33.46 65,-43.46 72,-43.46\"/>\n",
              "</g>\n",
              "</g>\n",
              "</svg>\n"
            ],
            "text/plain": [
              "<graphviz.graphs.Digraph at 0x7f7f72d85c10>"
            ]
          },
          "execution_count": 18,
          "metadata": {},
          "output_type": "execute_result"
        }
      ],
      "source": [
        "# Build the model\n",
        "model = nn.Sequential()\n",
        "\n",
        "# Input Layer\n",
        "model.add_module('input', nn.Linear(10, 256))\n",
        "\n",
        "# Hidden Layers\n",
        "model.add_module('hidden1', nn.Linear(256, 128))\n",
        "model.add_module('hidden2', nn.Linear(128, 64))\n",
        "model.add_module('hidden3', nn.Linear(64, 32))\n",
        "model.add_module('hidden4', nn.Linear(32, 16))\n",
        "\n",
        "# Output Layer\n",
        "model.add_module('output', nn.Linear(16, 4))\n",
        "\n",
        "# Visualizing the network\n",
        "model_graph = draw_graph(model, input_size=(10,))\n",
        "model_graph.visual_graph"
      ]
    },
    {
      "cell_type": "markdown",
      "metadata": {
        "id": "AEZcuWPsDJas"
      },
      "source": [
        "#### **Problem #2.1.5**\n",
        "\n",
        "\n",
        "Using either approach we've seen (Problems #1 - 2 or Problem #3), make and visualize a neural net with the following structure:\n",
        "* An input layer with 100 neurons\n",
        "* One hidden layer with 100 neurons\n",
        "* Another hidden layer with 50 neurons\n",
        "* An output layer with 5 neurons"
      ]
    },
    {
      "cell_type": "code",
      "execution_count": null,
      "metadata": {
        "id": "8uwxvpHrDJat"
      },
      "outputs": [],
      "source": []
    },
    {
      "cell_type": "markdown",
      "metadata": {
        "id": "tMFKmxZJDJat"
      },
      "source": [
        "##### **Solution**"
      ]
    },
    {
      "cell_type": "code",
      "execution_count": null,
      "metadata": {
        "id": "YpYEq7MfDJat",
        "tags": [],
        "outputId": "c7a588f4-4f80-469e-bf19-d2b729cc0b7a"
      },
      "outputs": [
        {
          "data": {
            "image/svg+xml": [
              "<?xml version=\"1.0\" encoding=\"UTF-8\" standalone=\"no\"?>\n",
              "<!DOCTYPE svg PUBLIC \"-//W3C//DTD SVG 1.1//EN\"\n",
              " \"http://www.w3.org/Graphics/SVG/1.1/DTD/svg11.dtd\">\n",
              "<!-- Generated by graphviz version 7.1.0 (20230122.1345)\n",
              " -->\n",
              "<!-- Title: model Pages: 1 -->\n",
              "<svg width=\"145pt\" height=\"342pt\"\n",
              " viewBox=\"0.00 0.00 145.00 342.00\" xmlns=\"http://www.w3.org/2000/svg\" xmlns:xlink=\"http://www.w3.org/1999/xlink\">\n",
              "<g id=\"graph0\" class=\"graph\" transform=\"scale(1 1) rotate(0) translate(4 338)\">\n",
              "<title>model</title>\n",
              "<polygon fill=\"white\" stroke=\"none\" points=\"-4,4 -4,-338 141,-338 141,4 -4,4\"/>\n",
              "<!-- 0 -->\n",
              "<g id=\"node1\" class=\"node\">\n",
              "<title>0</title>\n",
              "<polygon fill=\"lightyellow\" stroke=\"none\" points=\"123,-334 14,-334 14,-302 123,-302 123,-334\"/>\n",
              "<polygon fill=\"none\" stroke=\"black\" points=\"14.5,-302 14.5,-334 84.5,-334 84.5,-302 14.5,-302\"/>\n",
              "<text text-anchor=\"start\" x=\"19.5\" y=\"-321\" font-family=\"Linux libertine\" font-size=\"10.00\">input&#45;tensor</text>\n",
              "<text text-anchor=\"start\" x=\"31\" y=\"-310\" font-family=\"Linux libertine\" font-size=\"10.00\">depth:0</text>\n",
              "<polygon fill=\"none\" stroke=\"black\" points=\"84.5,-302 84.5,-334 123.5,-334 123.5,-302 84.5,-302\"/>\n",
              "<text text-anchor=\"start\" x=\"89.5\" y=\"-315.5\" font-family=\"Linux libertine\" font-size=\"10.00\">(100,)</text>\n",
              "</g>\n",
              "<!-- 1 -->\n",
              "<g id=\"node2\" class=\"node\">\n",
              "<title>1</title>\n",
              "<polygon fill=\"#c1ffc1\" stroke=\"none\" points=\"137,-266 0,-266 0,-224 137,-224 137,-266\"/>\n",
              "<polygon fill=\"none\" stroke=\"black\" points=\"0.5,-224 0.5,-266 47.5,-266 47.5,-224 0.5,-224\"/>\n",
              "<text text-anchor=\"start\" x=\"8.5\" y=\"-248\" font-family=\"Linux libertine\" font-size=\"10.00\">Linear</text>\n",
              "<text text-anchor=\"start\" x=\"5.5\" y=\"-237\" font-family=\"Linux libertine\" font-size=\"10.00\">depth:1</text>\n",
              "<polygon fill=\"none\" stroke=\"black\" points=\"47.5,-245 47.5,-266 95.5,-266 95.5,-245 47.5,-245\"/>\n",
              "<text text-anchor=\"start\" x=\"57.5\" y=\"-253\" font-family=\"Linux libertine\" font-size=\"10.00\">input:</text>\n",
              "<polygon fill=\"none\" stroke=\"black\" points=\"95.5,-245 95.5,-266 137.5,-266 137.5,-245 95.5,-245\"/>\n",
              "<text text-anchor=\"start\" x=\"100.5\" y=\"-253\" font-family=\"Linux libertine\" font-size=\"10.00\">(100,) </text>\n",
              "<polygon fill=\"none\" stroke=\"black\" points=\"47.5,-224 47.5,-245 95.5,-245 95.5,-224 47.5,-224\"/>\n",
              "<text text-anchor=\"start\" x=\"52.5\" y=\"-232\" font-family=\"Linux libertine\" font-size=\"10.00\">output: </text>\n",
              "<polygon fill=\"none\" stroke=\"black\" points=\"95.5,-224 95.5,-245 137.5,-245 137.5,-224 95.5,-224\"/>\n",
              "<text text-anchor=\"start\" x=\"100.5\" y=\"-232\" font-family=\"Linux libertine\" font-size=\"10.00\">(100,) </text>\n",
              "</g>\n",
              "<!-- 0&#45;&gt;1 -->\n",
              "<g id=\"edge1\" class=\"edge\">\n",
              "<title>0&#45;&gt;1</title>\n",
              "<path fill=\"none\" stroke=\"black\" d=\"M68.5,-302.29C68.5,-295.03 68.5,-285.98 68.5,-277.27\"/>\n",
              "<polygon fill=\"black\" stroke=\"black\" points=\"72,-277.32 68.5,-267.32 65,-277.32 72,-277.32\"/>\n",
              "</g>\n",
              "<!-- 2 -->\n",
              "<g id=\"node3\" class=\"node\">\n",
              "<title>2</title>\n",
              "<polygon fill=\"#c1ffc1\" stroke=\"none\" points=\"137,-188 0,-188 0,-146 137,-146 137,-188\"/>\n",
              "<polygon fill=\"none\" stroke=\"black\" points=\"0.5,-146 0.5,-188 47.5,-188 47.5,-146 0.5,-146\"/>\n",
              "<text text-anchor=\"start\" x=\"8.5\" y=\"-170\" font-family=\"Linux libertine\" font-size=\"10.00\">Linear</text>\n",
              "<text text-anchor=\"start\" x=\"5.5\" y=\"-159\" font-family=\"Linux libertine\" font-size=\"10.00\">depth:1</text>\n",
              "<polygon fill=\"none\" stroke=\"black\" points=\"47.5,-167 47.5,-188 95.5,-188 95.5,-167 47.5,-167\"/>\n",
              "<text text-anchor=\"start\" x=\"57.5\" y=\"-175\" font-family=\"Linux libertine\" font-size=\"10.00\">input:</text>\n",
              "<polygon fill=\"none\" stroke=\"black\" points=\"95.5,-167 95.5,-188 137.5,-188 137.5,-167 95.5,-167\"/>\n",
              "<text text-anchor=\"start\" x=\"100.5\" y=\"-175\" font-family=\"Linux libertine\" font-size=\"10.00\">(100,) </text>\n",
              "<polygon fill=\"none\" stroke=\"black\" points=\"47.5,-146 47.5,-167 95.5,-167 95.5,-146 47.5,-146\"/>\n",
              "<text text-anchor=\"start\" x=\"52.5\" y=\"-154\" font-family=\"Linux libertine\" font-size=\"10.00\">output: </text>\n",
              "<polygon fill=\"none\" stroke=\"black\" points=\"95.5,-146 95.5,-167 137.5,-167 137.5,-146 95.5,-146\"/>\n",
              "<text text-anchor=\"start\" x=\"103.5\" y=\"-154\" font-family=\"Linux libertine\" font-size=\"10.00\">(50,) </text>\n",
              "</g>\n",
              "<!-- 1&#45;&gt;2 -->\n",
              "<g id=\"edge2\" class=\"edge\">\n",
              "<title>1&#45;&gt;2</title>\n",
              "<path fill=\"none\" stroke=\"black\" d=\"M68.5,-224.03C68.5,-216.44 68.5,-207.6 68.5,-199.21\"/>\n",
              "<polygon fill=\"black\" stroke=\"black\" points=\"72,-199.35 68.5,-189.35 65,-199.35 72,-199.35\"/>\n",
              "</g>\n",
              "<!-- 3 -->\n",
              "<g id=\"node4\" class=\"node\">\n",
              "<title>3</title>\n",
              "<polygon fill=\"#c1ffc1\" stroke=\"none\" points=\"134,-110 3,-110 3,-68 134,-68 134,-110\"/>\n",
              "<polygon fill=\"none\" stroke=\"black\" points=\"3.5,-68 3.5,-110 50.5,-110 50.5,-68 3.5,-68\"/>\n",
              "<text text-anchor=\"start\" x=\"11.5\" y=\"-92\" font-family=\"Linux libertine\" font-size=\"10.00\">Linear</text>\n",
              "<text text-anchor=\"start\" x=\"8.5\" y=\"-81\" font-family=\"Linux libertine\" font-size=\"10.00\">depth:1</text>\n",
              "<polygon fill=\"none\" stroke=\"black\" points=\"50.5,-89 50.5,-110 98.5,-110 98.5,-89 50.5,-89\"/>\n",
              "<text text-anchor=\"start\" x=\"60.5\" y=\"-97\" font-family=\"Linux libertine\" font-size=\"10.00\">input:</text>\n",
              "<polygon fill=\"none\" stroke=\"black\" points=\"98.5,-89 98.5,-110 134.5,-110 134.5,-89 98.5,-89\"/>\n",
              "<text text-anchor=\"start\" x=\"103.5\" y=\"-97\" font-family=\"Linux libertine\" font-size=\"10.00\">(50,) </text>\n",
              "<polygon fill=\"none\" stroke=\"black\" points=\"50.5,-68 50.5,-89 98.5,-89 98.5,-68 50.5,-68\"/>\n",
              "<text text-anchor=\"start\" x=\"55.5\" y=\"-76\" font-family=\"Linux libertine\" font-size=\"10.00\">output: </text>\n",
              "<polygon fill=\"none\" stroke=\"black\" points=\"98.5,-68 98.5,-89 134.5,-89 134.5,-68 98.5,-68\"/>\n",
              "<text text-anchor=\"start\" x=\"106.5\" y=\"-76\" font-family=\"Linux libertine\" font-size=\"10.00\">(5,) </text>\n",
              "</g>\n",
              "<!-- 2&#45;&gt;3 -->\n",
              "<g id=\"edge3\" class=\"edge\">\n",
              "<title>2&#45;&gt;3</title>\n",
              "<path fill=\"none\" stroke=\"black\" d=\"M68.5,-146.03C68.5,-138.44 68.5,-129.6 68.5,-121.21\"/>\n",
              "<polygon fill=\"black\" stroke=\"black\" points=\"72,-121.35 68.5,-111.35 65,-121.35 72,-121.35\"/>\n",
              "</g>\n",
              "<!-- 4 -->\n",
              "<g id=\"node5\" class=\"node\">\n",
              "<title>4</title>\n",
              "<polygon fill=\"lightyellow\" stroke=\"none\" points=\"120.5,-32 16.5,-32 16.5,0 120.5,0 120.5,-32\"/>\n",
              "<polygon fill=\"none\" stroke=\"black\" points=\"16.5,0 16.5,-32 93.5,-32 93.5,0 16.5,0\"/>\n",
              "<text text-anchor=\"start\" x=\"21.5\" y=\"-19\" font-family=\"Linux libertine\" font-size=\"10.00\">output&#45;tensor</text>\n",
              "<text text-anchor=\"start\" x=\"36.5\" y=\"-8\" font-family=\"Linux libertine\" font-size=\"10.00\">depth:0</text>\n",
              "<polygon fill=\"none\" stroke=\"black\" points=\"93.5,0 93.5,-32 120.5,-32 120.5,0 93.5,0\"/>\n",
              "<text text-anchor=\"start\" x=\"98.5\" y=\"-13.5\" font-family=\"Linux libertine\" font-size=\"10.00\">(5,)</text>\n",
              "</g>\n",
              "<!-- 3&#45;&gt;4 -->\n",
              "<g id=\"edge4\" class=\"edge\">\n",
              "<title>3&#45;&gt;4</title>\n",
              "<path fill=\"none\" stroke=\"black\" d=\"M68.5,-68.22C68.5,-60.5 68.5,-51.54 68.5,-43.29\"/>\n",
              "<polygon fill=\"black\" stroke=\"black\" points=\"72,-43.46 68.5,-33.46 65,-43.46 72,-43.46\"/>\n",
              "</g>\n",
              "</g>\n",
              "</svg>\n"
            ],
            "text/plain": [
              "<graphviz.graphs.Digraph at 0x7f7e944107c0>"
            ]
          },
          "execution_count": 19,
          "metadata": {},
          "output_type": "execute_result"
        }
      ],
      "source": [
        "# Build the model\n",
        "model = nn.Sequential()\n",
        "\n",
        "# Input Layer\n",
        "model.add_module('input', nn.Linear(100, 100))\n",
        "\n",
        "# Hidden Layers\n",
        "model.add_module('hidden1', nn.Linear(100, 50))\n",
        "\n",
        "# Output Layer\n",
        "model.add_module('output', nn.Linear(50, 5))\n",
        "\n",
        "# Visualizing the network\n",
        "model_graph = draw_graph(model, input_size=(100,))\n",
        "model_graph.visual_graph"
      ]
    },
    {
      "cell_type": "markdown",
      "metadata": {
        "id": "zaImZeyEDkrK"
      },
      "source": [
        "#### **Problem #2.1.6**\n",
        "\n",
        "\n",
        "Complete the code below so that it successfully builds and visualizes a NN.\n",
        "\n",
        "**Hint.** Use the parts that have already been provided to determine the rest."
      ]
    },
    {
      "cell_type": "code",
      "execution_count": null,
      "metadata": {
        "id": "PjKNlYq9DkrL"
      },
      "outputs": [],
      "source": [
        "# Build the model\n",
        "model = nn.Sequential()\n",
        "\n",
        "# Input Layer\n",
        "model.add_module('input', nn.Linear(100, # COMPLETE THIS LINE\n",
        "\n",
        "# Hidden Layers\n",
        "model.add_module('hidden1', nn.Linear(200, 50))\n",
        "model.add_module('hidden2', nn.Linear(# COMPLETE THIS LINE\n",
        "model.add_module('hidden3', nn.Linear(25, # COMPLETE THIS LINE\n",
        "\n",
        "# Output Layer\n",
        "model.add_module('output', nn.Linear(10, 1))\n",
        "\n",
        "# Visualizing the network\n",
        "model_graph = draw_graph(model, input_size=(# COMPLETE THIS LINE\n",
        "model_graph.visual_graph"
      ]
    },
    {
      "cell_type": "markdown",
      "metadata": {
        "id": "SkgLb6tvDkrL"
      },
      "source": [
        "##### **Solution**"
      ]
    },
    {
      "cell_type": "code",
      "execution_count": null,
      "metadata": {
        "id": "0PJkfGOiDkrL",
        "tags": [],
        "outputId": "6331adb7-6b08-4408-d0e5-231c802b2cde"
      },
      "outputs": [
        {
          "data": {
            "image/svg+xml": [
              "<?xml version=\"1.0\" encoding=\"UTF-8\" standalone=\"no\"?>\n",
              "<!DOCTYPE svg PUBLIC \"-//W3C//DTD SVG 1.1//EN\"\n",
              " \"http://www.w3.org/Graphics/SVG/1.1/DTD/svg11.dtd\">\n",
              "<!-- Generated by graphviz version 7.1.0 (20230122.1345)\n",
              " -->\n",
              "<!-- Title: model Pages: 1 -->\n",
              "<svg width=\"145pt\" height=\"498pt\"\n",
              " viewBox=\"0.00 0.00 145.00 498.00\" xmlns=\"http://www.w3.org/2000/svg\" xmlns:xlink=\"http://www.w3.org/1999/xlink\">\n",
              "<g id=\"graph0\" class=\"graph\" transform=\"scale(1 1) rotate(0) translate(4 494)\">\n",
              "<title>model</title>\n",
              "<polygon fill=\"white\" stroke=\"none\" points=\"-4,4 -4,-494 141,-494 141,4 -4,4\"/>\n",
              "<!-- 0 -->\n",
              "<g id=\"node1\" class=\"node\">\n",
              "<title>0</title>\n",
              "<polygon fill=\"lightyellow\" stroke=\"none\" points=\"123,-490 14,-490 14,-458 123,-458 123,-490\"/>\n",
              "<polygon fill=\"none\" stroke=\"black\" points=\"14.5,-458 14.5,-490 84.5,-490 84.5,-458 14.5,-458\"/>\n",
              "<text text-anchor=\"start\" x=\"19.5\" y=\"-477\" font-family=\"Linux libertine\" font-size=\"10.00\">input&#45;tensor</text>\n",
              "<text text-anchor=\"start\" x=\"31\" y=\"-466\" font-family=\"Linux libertine\" font-size=\"10.00\">depth:0</text>\n",
              "<polygon fill=\"none\" stroke=\"black\" points=\"84.5,-458 84.5,-490 123.5,-490 123.5,-458 84.5,-458\"/>\n",
              "<text text-anchor=\"start\" x=\"89.5\" y=\"-471.5\" font-family=\"Linux libertine\" font-size=\"10.00\">(100,)</text>\n",
              "</g>\n",
              "<!-- 1 -->\n",
              "<g id=\"node2\" class=\"node\">\n",
              "<title>1</title>\n",
              "<polygon fill=\"#c1ffc1\" stroke=\"none\" points=\"137,-422 0,-422 0,-380 137,-380 137,-422\"/>\n",
              "<polygon fill=\"none\" stroke=\"black\" points=\"0.5,-380 0.5,-422 47.5,-422 47.5,-380 0.5,-380\"/>\n",
              "<text text-anchor=\"start\" x=\"8.5\" y=\"-404\" font-family=\"Linux libertine\" font-size=\"10.00\">Linear</text>\n",
              "<text text-anchor=\"start\" x=\"5.5\" y=\"-393\" font-family=\"Linux libertine\" font-size=\"10.00\">depth:1</text>\n",
              "<polygon fill=\"none\" stroke=\"black\" points=\"47.5,-401 47.5,-422 95.5,-422 95.5,-401 47.5,-401\"/>\n",
              "<text text-anchor=\"start\" x=\"57.5\" y=\"-409\" font-family=\"Linux libertine\" font-size=\"10.00\">input:</text>\n",
              "<polygon fill=\"none\" stroke=\"black\" points=\"95.5,-401 95.5,-422 137.5,-422 137.5,-401 95.5,-401\"/>\n",
              "<text text-anchor=\"start\" x=\"100.5\" y=\"-409\" font-family=\"Linux libertine\" font-size=\"10.00\">(100,) </text>\n",
              "<polygon fill=\"none\" stroke=\"black\" points=\"47.5,-380 47.5,-401 95.5,-401 95.5,-380 47.5,-380\"/>\n",
              "<text text-anchor=\"start\" x=\"52.5\" y=\"-388\" font-family=\"Linux libertine\" font-size=\"10.00\">output: </text>\n",
              "<polygon fill=\"none\" stroke=\"black\" points=\"95.5,-380 95.5,-401 137.5,-401 137.5,-380 95.5,-380\"/>\n",
              "<text text-anchor=\"start\" x=\"100.5\" y=\"-388\" font-family=\"Linux libertine\" font-size=\"10.00\">(200,) </text>\n",
              "</g>\n",
              "<!-- 0&#45;&gt;1 -->\n",
              "<g id=\"edge1\" class=\"edge\">\n",
              "<title>0&#45;&gt;1</title>\n",
              "<path fill=\"none\" stroke=\"black\" d=\"M68.5,-458.29C68.5,-451.03 68.5,-441.98 68.5,-433.27\"/>\n",
              "<polygon fill=\"black\" stroke=\"black\" points=\"72,-433.32 68.5,-423.32 65,-433.32 72,-433.32\"/>\n",
              "</g>\n",
              "<!-- 2 -->\n",
              "<g id=\"node3\" class=\"node\">\n",
              "<title>2</title>\n",
              "<polygon fill=\"#c1ffc1\" stroke=\"none\" points=\"137,-344 0,-344 0,-302 137,-302 137,-344\"/>\n",
              "<polygon fill=\"none\" stroke=\"black\" points=\"0.5,-302 0.5,-344 47.5,-344 47.5,-302 0.5,-302\"/>\n",
              "<text text-anchor=\"start\" x=\"8.5\" y=\"-326\" font-family=\"Linux libertine\" font-size=\"10.00\">Linear</text>\n",
              "<text text-anchor=\"start\" x=\"5.5\" y=\"-315\" font-family=\"Linux libertine\" font-size=\"10.00\">depth:1</text>\n",
              "<polygon fill=\"none\" stroke=\"black\" points=\"47.5,-323 47.5,-344 95.5,-344 95.5,-323 47.5,-323\"/>\n",
              "<text text-anchor=\"start\" x=\"57.5\" y=\"-331\" font-family=\"Linux libertine\" font-size=\"10.00\">input:</text>\n",
              "<polygon fill=\"none\" stroke=\"black\" points=\"95.5,-323 95.5,-344 137.5,-344 137.5,-323 95.5,-323\"/>\n",
              "<text text-anchor=\"start\" x=\"100.5\" y=\"-331\" font-family=\"Linux libertine\" font-size=\"10.00\">(200,) </text>\n",
              "<polygon fill=\"none\" stroke=\"black\" points=\"47.5,-302 47.5,-323 95.5,-323 95.5,-302 47.5,-302\"/>\n",
              "<text text-anchor=\"start\" x=\"52.5\" y=\"-310\" font-family=\"Linux libertine\" font-size=\"10.00\">output: </text>\n",
              "<polygon fill=\"none\" stroke=\"black\" points=\"95.5,-302 95.5,-323 137.5,-323 137.5,-302 95.5,-302\"/>\n",
              "<text text-anchor=\"start\" x=\"103.5\" y=\"-310\" font-family=\"Linux libertine\" font-size=\"10.00\">(50,) </text>\n",
              "</g>\n",
              "<!-- 1&#45;&gt;2 -->\n",
              "<g id=\"edge2\" class=\"edge\">\n",
              "<title>1&#45;&gt;2</title>\n",
              "<path fill=\"none\" stroke=\"black\" d=\"M68.5,-380.03C68.5,-372.44 68.5,-363.6 68.5,-355.21\"/>\n",
              "<polygon fill=\"black\" stroke=\"black\" points=\"72,-355.35 68.5,-345.35 65,-355.35 72,-355.35\"/>\n",
              "</g>\n",
              "<!-- 3 -->\n",
              "<g id=\"node4\" class=\"node\">\n",
              "<title>3</title>\n",
              "<polygon fill=\"#c1ffc1\" stroke=\"none\" points=\"134,-266 3,-266 3,-224 134,-224 134,-266\"/>\n",
              "<polygon fill=\"none\" stroke=\"black\" points=\"3.5,-224 3.5,-266 50.5,-266 50.5,-224 3.5,-224\"/>\n",
              "<text text-anchor=\"start\" x=\"11.5\" y=\"-248\" font-family=\"Linux libertine\" font-size=\"10.00\">Linear</text>\n",
              "<text text-anchor=\"start\" x=\"8.5\" y=\"-237\" font-family=\"Linux libertine\" font-size=\"10.00\">depth:1</text>\n",
              "<polygon fill=\"none\" stroke=\"black\" points=\"50.5,-245 50.5,-266 98.5,-266 98.5,-245 50.5,-245\"/>\n",
              "<text text-anchor=\"start\" x=\"60.5\" y=\"-253\" font-family=\"Linux libertine\" font-size=\"10.00\">input:</text>\n",
              "<polygon fill=\"none\" stroke=\"black\" points=\"98.5,-245 98.5,-266 134.5,-266 134.5,-245 98.5,-245\"/>\n",
              "<text text-anchor=\"start\" x=\"103.5\" y=\"-253\" font-family=\"Linux libertine\" font-size=\"10.00\">(50,) </text>\n",
              "<polygon fill=\"none\" stroke=\"black\" points=\"50.5,-224 50.5,-245 98.5,-245 98.5,-224 50.5,-224\"/>\n",
              "<text text-anchor=\"start\" x=\"55.5\" y=\"-232\" font-family=\"Linux libertine\" font-size=\"10.00\">output: </text>\n",
              "<polygon fill=\"none\" stroke=\"black\" points=\"98.5,-224 98.5,-245 134.5,-245 134.5,-224 98.5,-224\"/>\n",
              "<text text-anchor=\"start\" x=\"103.5\" y=\"-232\" font-family=\"Linux libertine\" font-size=\"10.00\">(25,) </text>\n",
              "</g>\n",
              "<!-- 2&#45;&gt;3 -->\n",
              "<g id=\"edge3\" class=\"edge\">\n",
              "<title>2&#45;&gt;3</title>\n",
              "<path fill=\"none\" stroke=\"black\" d=\"M68.5,-302.03C68.5,-294.44 68.5,-285.6 68.5,-277.21\"/>\n",
              "<polygon fill=\"black\" stroke=\"black\" points=\"72,-277.35 68.5,-267.35 65,-277.35 72,-277.35\"/>\n",
              "</g>\n",
              "<!-- 4 -->\n",
              "<g id=\"node5\" class=\"node\">\n",
              "<title>4</title>\n",
              "<polygon fill=\"#c1ffc1\" stroke=\"none\" points=\"134,-188 3,-188 3,-146 134,-146 134,-188\"/>\n",
              "<polygon fill=\"none\" stroke=\"black\" points=\"3.5,-146 3.5,-188 50.5,-188 50.5,-146 3.5,-146\"/>\n",
              "<text text-anchor=\"start\" x=\"11.5\" y=\"-170\" font-family=\"Linux libertine\" font-size=\"10.00\">Linear</text>\n",
              "<text text-anchor=\"start\" x=\"8.5\" y=\"-159\" font-family=\"Linux libertine\" font-size=\"10.00\">depth:1</text>\n",
              "<polygon fill=\"none\" stroke=\"black\" points=\"50.5,-167 50.5,-188 98.5,-188 98.5,-167 50.5,-167\"/>\n",
              "<text text-anchor=\"start\" x=\"60.5\" y=\"-175\" font-family=\"Linux libertine\" font-size=\"10.00\">input:</text>\n",
              "<polygon fill=\"none\" stroke=\"black\" points=\"98.5,-167 98.5,-188 134.5,-188 134.5,-167 98.5,-167\"/>\n",
              "<text text-anchor=\"start\" x=\"103.5\" y=\"-175\" font-family=\"Linux libertine\" font-size=\"10.00\">(25,) </text>\n",
              "<polygon fill=\"none\" stroke=\"black\" points=\"50.5,-146 50.5,-167 98.5,-167 98.5,-146 50.5,-146\"/>\n",
              "<text text-anchor=\"start\" x=\"55.5\" y=\"-154\" font-family=\"Linux libertine\" font-size=\"10.00\">output: </text>\n",
              "<polygon fill=\"none\" stroke=\"black\" points=\"98.5,-146 98.5,-167 134.5,-167 134.5,-146 98.5,-146\"/>\n",
              "<text text-anchor=\"start\" x=\"103.5\" y=\"-154\" font-family=\"Linux libertine\" font-size=\"10.00\">(10,) </text>\n",
              "</g>\n",
              "<!-- 3&#45;&gt;4 -->\n",
              "<g id=\"edge4\" class=\"edge\">\n",
              "<title>3&#45;&gt;4</title>\n",
              "<path fill=\"none\" stroke=\"black\" d=\"M68.5,-224.03C68.5,-216.44 68.5,-207.6 68.5,-199.21\"/>\n",
              "<polygon fill=\"black\" stroke=\"black\" points=\"72,-199.35 68.5,-189.35 65,-199.35 72,-199.35\"/>\n",
              "</g>\n",
              "<!-- 5 -->\n",
              "<g id=\"node6\" class=\"node\">\n",
              "<title>5</title>\n",
              "<polygon fill=\"#c1ffc1\" stroke=\"none\" points=\"134,-110 3,-110 3,-68 134,-68 134,-110\"/>\n",
              "<polygon fill=\"none\" stroke=\"black\" points=\"3.5,-68 3.5,-110 50.5,-110 50.5,-68 3.5,-68\"/>\n",
              "<text text-anchor=\"start\" x=\"11.5\" y=\"-92\" font-family=\"Linux libertine\" font-size=\"10.00\">Linear</text>\n",
              "<text text-anchor=\"start\" x=\"8.5\" y=\"-81\" font-family=\"Linux libertine\" font-size=\"10.00\">depth:1</text>\n",
              "<polygon fill=\"none\" stroke=\"black\" points=\"50.5,-89 50.5,-110 98.5,-110 98.5,-89 50.5,-89\"/>\n",
              "<text text-anchor=\"start\" x=\"60.5\" y=\"-97\" font-family=\"Linux libertine\" font-size=\"10.00\">input:</text>\n",
              "<polygon fill=\"none\" stroke=\"black\" points=\"98.5,-89 98.5,-110 134.5,-110 134.5,-89 98.5,-89\"/>\n",
              "<text text-anchor=\"start\" x=\"103.5\" y=\"-97\" font-family=\"Linux libertine\" font-size=\"10.00\">(10,) </text>\n",
              "<polygon fill=\"none\" stroke=\"black\" points=\"50.5,-68 50.5,-89 98.5,-89 98.5,-68 50.5,-68\"/>\n",
              "<text text-anchor=\"start\" x=\"55.5\" y=\"-76\" font-family=\"Linux libertine\" font-size=\"10.00\">output: </text>\n",
              "<polygon fill=\"none\" stroke=\"black\" points=\"98.5,-68 98.5,-89 134.5,-89 134.5,-68 98.5,-68\"/>\n",
              "<text text-anchor=\"start\" x=\"106.5\" y=\"-76\" font-family=\"Linux libertine\" font-size=\"10.00\">(1,) </text>\n",
              "</g>\n",
              "<!-- 4&#45;&gt;5 -->\n",
              "<g id=\"edge5\" class=\"edge\">\n",
              "<title>4&#45;&gt;5</title>\n",
              "<path fill=\"none\" stroke=\"black\" d=\"M68.5,-146.03C68.5,-138.44 68.5,-129.6 68.5,-121.21\"/>\n",
              "<polygon fill=\"black\" stroke=\"black\" points=\"72,-121.35 68.5,-111.35 65,-121.35 72,-121.35\"/>\n",
              "</g>\n",
              "<!-- 6 -->\n",
              "<g id=\"node7\" class=\"node\">\n",
              "<title>6</title>\n",
              "<polygon fill=\"lightyellow\" stroke=\"none\" points=\"120.5,-32 16.5,-32 16.5,0 120.5,0 120.5,-32\"/>\n",
              "<polygon fill=\"none\" stroke=\"black\" points=\"16.5,0 16.5,-32 93.5,-32 93.5,0 16.5,0\"/>\n",
              "<text text-anchor=\"start\" x=\"21.5\" y=\"-19\" font-family=\"Linux libertine\" font-size=\"10.00\">output&#45;tensor</text>\n",
              "<text text-anchor=\"start\" x=\"36.5\" y=\"-8\" font-family=\"Linux libertine\" font-size=\"10.00\">depth:0</text>\n",
              "<polygon fill=\"none\" stroke=\"black\" points=\"93.5,0 93.5,-32 120.5,-32 120.5,0 93.5,0\"/>\n",
              "<text text-anchor=\"start\" x=\"98.5\" y=\"-13.5\" font-family=\"Linux libertine\" font-size=\"10.00\">(1,)</text>\n",
              "</g>\n",
              "<!-- 5&#45;&gt;6 -->\n",
              "<g id=\"edge6\" class=\"edge\">\n",
              "<title>5&#45;&gt;6</title>\n",
              "<path fill=\"none\" stroke=\"black\" d=\"M68.5,-68.22C68.5,-60.5 68.5,-51.54 68.5,-43.29\"/>\n",
              "<polygon fill=\"black\" stroke=\"black\" points=\"72,-43.46 68.5,-33.46 65,-43.46 72,-43.46\"/>\n",
              "</g>\n",
              "</g>\n",
              "</svg>\n"
            ],
            "text/plain": [
              "<graphviz.graphs.Digraph at 0x7f7e96bdfe20>"
            ]
          },
          "execution_count": 20,
          "metadata": {},
          "output_type": "execute_result"
        }
      ],
      "source": [
        "# Build the model\n",
        "model = nn.Sequential()\n",
        "\n",
        "# Input Layer\n",
        "model.add_module('input', nn.Linear(100, 200))\n",
        "\n",
        "# Hidden Layers\n",
        "model.add_module('hidden1', nn.Linear(200, 50))\n",
        "model.add_module('hidden2', nn.Linear(50, 25))\n",
        "model.add_module('hidden3', nn.Linear(25, 10))\n",
        "\n",
        "# Output Layer\n",
        "model.add_module('output', nn.Linear(10, 1))\n",
        "\n",
        "# Visualizing the network\n",
        "model_graph = draw_graph(model, input_size=(100,))\n",
        "model_graph.visual_graph"
      ]
    },
    {
      "cell_type": "markdown",
      "metadata": {
        "id": "oriMnLc8eTWM"
      },
      "source": [
        "---\n",
        "\n",
        "<center>\n",
        "\n",
        "#### **Wait for Your Instructor to Continue**\n",
        "\n",
        "---"
      ]
    },
    {
      "cell_type": "markdown",
      "metadata": {
        "id": "ivJ3N0WuP3Sl"
      },
      "source": [
        "<a name=\"p2.2\"></a>\n",
        "\n",
        "### **Part #2.2: Adding Activation Functions**\n",
        "---\n",
        "\n",
        "In this part, we will expand on what we learned before by including activation functions."
      ]
    },
    {
      "cell_type": "markdown",
      "metadata": {
        "id": "B6j-lbYMnqtt"
      },
      "source": [
        "#### **Problem #2.2.1:**\n",
        "\n",
        "Create and visualize a new model with 1 hidden layer.\n",
        "\n",
        "* The input layer should have `2` neurons\n",
        "\n",
        "* The hidden layer should have `3` neurons with activation function: `\"relu\"`\n",
        "\n",
        "* The output layer should have `4` neurons with activation function: `\"relu\"`"
      ]
    },
    {
      "cell_type": "code",
      "execution_count": null,
      "metadata": {
        "id": "1T7RhA4_nqtu"
      },
      "outputs": [],
      "source": []
    },
    {
      "cell_type": "markdown",
      "metadata": {
        "id": "AlS-RRQ8nqtu"
      },
      "source": [
        "##### **Solution**"
      ]
    },
    {
      "cell_type": "code",
      "execution_count": null,
      "metadata": {
        "id": "F13loPmrnqtu",
        "tags": [],
        "outputId": "6683c60b-962e-488c-d193-10e844cb0e0c"
      },
      "outputs": [
        {
          "data": {
            "image/svg+xml": [
              "<?xml version=\"1.0\" encoding=\"UTF-8\" standalone=\"no\"?>\n",
              "<!DOCTYPE svg PUBLIC \"-//W3C//DTD SVG 1.1//EN\"\n",
              " \"http://www.w3.org/Graphics/SVG/1.1/DTD/svg11.dtd\">\n",
              "<!-- Generated by graphviz version 7.1.0 (20230122.1345)\n",
              " -->\n",
              "<!-- Title: model Pages: 1 -->\n",
              "<svg width=\"133pt\" height=\"420pt\"\n",
              " viewBox=\"0.00 0.00 133.00 420.00\" xmlns=\"http://www.w3.org/2000/svg\" xmlns:xlink=\"http://www.w3.org/1999/xlink\">\n",
              "<g id=\"graph0\" class=\"graph\" transform=\"scale(1 1) rotate(0) translate(4 416)\">\n",
              "<title>model</title>\n",
              "<polygon fill=\"white\" stroke=\"none\" points=\"-4,4 -4,-416 129,-416 129,4 -4,4\"/>\n",
              "<!-- 0 -->\n",
              "<g id=\"node1\" class=\"node\">\n",
              "<title>0</title>\n",
              "<polygon fill=\"lightyellow\" stroke=\"none\" points=\"111,-412 14,-412 14,-380 111,-380 111,-412\"/>\n",
              "<polygon fill=\"none\" stroke=\"black\" points=\"14.5,-380 14.5,-412 84.5,-412 84.5,-380 14.5,-380\"/>\n",
              "<text text-anchor=\"start\" x=\"19.5\" y=\"-399\" font-family=\"Linux libertine\" font-size=\"10.00\">input&#45;tensor</text>\n",
              "<text text-anchor=\"start\" x=\"31\" y=\"-388\" font-family=\"Linux libertine\" font-size=\"10.00\">depth:0</text>\n",
              "<polygon fill=\"none\" stroke=\"black\" points=\"84.5,-380 84.5,-412 111.5,-412 111.5,-380 84.5,-380\"/>\n",
              "<text text-anchor=\"start\" x=\"89.5\" y=\"-393.5\" font-family=\"Linux libertine\" font-size=\"10.00\">(2,)</text>\n",
              "</g>\n",
              "<!-- 1 -->\n",
              "<g id=\"node2\" class=\"node\">\n",
              "<title>1</title>\n",
              "<polygon fill=\"#c1ffc1\" stroke=\"none\" points=\"125,-344 0,-344 0,-302 125,-302 125,-344\"/>\n",
              "<polygon fill=\"none\" stroke=\"black\" points=\"0.5,-302 0.5,-344 47.5,-344 47.5,-302 0.5,-302\"/>\n",
              "<text text-anchor=\"start\" x=\"8.5\" y=\"-326\" font-family=\"Linux libertine\" font-size=\"10.00\">Linear</text>\n",
              "<text text-anchor=\"start\" x=\"5.5\" y=\"-315\" font-family=\"Linux libertine\" font-size=\"10.00\">depth:1</text>\n",
              "<polygon fill=\"none\" stroke=\"black\" points=\"47.5,-323 47.5,-344 95.5,-344 95.5,-323 47.5,-323\"/>\n",
              "<text text-anchor=\"start\" x=\"57.5\" y=\"-331\" font-family=\"Linux libertine\" font-size=\"10.00\">input:</text>\n",
              "<polygon fill=\"none\" stroke=\"black\" points=\"95.5,-323 95.5,-344 125.5,-344 125.5,-323 95.5,-323\"/>\n",
              "<text text-anchor=\"start\" x=\"100.5\" y=\"-331\" font-family=\"Linux libertine\" font-size=\"10.00\">(2,) </text>\n",
              "<polygon fill=\"none\" stroke=\"black\" points=\"47.5,-302 47.5,-323 95.5,-323 95.5,-302 47.5,-302\"/>\n",
              "<text text-anchor=\"start\" x=\"52.5\" y=\"-310\" font-family=\"Linux libertine\" font-size=\"10.00\">output: </text>\n",
              "<polygon fill=\"none\" stroke=\"black\" points=\"95.5,-302 95.5,-323 125.5,-323 125.5,-302 95.5,-302\"/>\n",
              "<text text-anchor=\"start\" x=\"100.5\" y=\"-310\" font-family=\"Linux libertine\" font-size=\"10.00\">(3,) </text>\n",
              "</g>\n",
              "<!-- 0&#45;&gt;1 -->\n",
              "<g id=\"edge1\" class=\"edge\">\n",
              "<title>0&#45;&gt;1</title>\n",
              "<path fill=\"none\" stroke=\"black\" d=\"M62.5,-380.29C62.5,-373.03 62.5,-363.98 62.5,-355.27\"/>\n",
              "<polygon fill=\"black\" stroke=\"black\" points=\"66,-355.32 62.5,-345.32 59,-355.32 66,-355.32\"/>\n",
              "</g>\n",
              "<!-- 2 -->\n",
              "<g id=\"node3\" class=\"node\">\n",
              "<title>2</title>\n",
              "<polygon fill=\"#c1ffc1\" stroke=\"none\" points=\"125,-266 0,-266 0,-224 125,-224 125,-266\"/>\n",
              "<polygon fill=\"none\" stroke=\"black\" points=\"0.5,-224 0.5,-266 47.5,-266 47.5,-224 0.5,-224\"/>\n",
              "<text text-anchor=\"start\" x=\"11\" y=\"-248\" font-family=\"Linux libertine\" font-size=\"10.00\">ReLU</text>\n",
              "<text text-anchor=\"start\" x=\"5.5\" y=\"-237\" font-family=\"Linux libertine\" font-size=\"10.00\">depth:1</text>\n",
              "<polygon fill=\"none\" stroke=\"black\" points=\"47.5,-245 47.5,-266 95.5,-266 95.5,-245 47.5,-245\"/>\n",
              "<text text-anchor=\"start\" x=\"57.5\" y=\"-253\" font-family=\"Linux libertine\" font-size=\"10.00\">input:</text>\n",
              "<polygon fill=\"none\" stroke=\"black\" points=\"95.5,-245 95.5,-266 125.5,-266 125.5,-245 95.5,-245\"/>\n",
              "<text text-anchor=\"start\" x=\"100.5\" y=\"-253\" font-family=\"Linux libertine\" font-size=\"10.00\">(3,) </text>\n",
              "<polygon fill=\"none\" stroke=\"black\" points=\"47.5,-224 47.5,-245 95.5,-245 95.5,-224 47.5,-224\"/>\n",
              "<text text-anchor=\"start\" x=\"52.5\" y=\"-232\" font-family=\"Linux libertine\" font-size=\"10.00\">output: </text>\n",
              "<polygon fill=\"none\" stroke=\"black\" points=\"95.5,-224 95.5,-245 125.5,-245 125.5,-224 95.5,-224\"/>\n",
              "<text text-anchor=\"start\" x=\"100.5\" y=\"-232\" font-family=\"Linux libertine\" font-size=\"10.00\">(3,) </text>\n",
              "</g>\n",
              "<!-- 1&#45;&gt;2 -->\n",
              "<g id=\"edge2\" class=\"edge\">\n",
              "<title>1&#45;&gt;2</title>\n",
              "<path fill=\"none\" stroke=\"black\" d=\"M62.5,-302.03C62.5,-294.44 62.5,-285.6 62.5,-277.21\"/>\n",
              "<polygon fill=\"black\" stroke=\"black\" points=\"66,-277.35 62.5,-267.35 59,-277.35 66,-277.35\"/>\n",
              "</g>\n",
              "<!-- 3 -->\n",
              "<g id=\"node4\" class=\"node\">\n",
              "<title>3</title>\n",
              "<polygon fill=\"#c1ffc1\" stroke=\"none\" points=\"125,-188 0,-188 0,-146 125,-146 125,-188\"/>\n",
              "<polygon fill=\"none\" stroke=\"black\" points=\"0.5,-146 0.5,-188 47.5,-188 47.5,-146 0.5,-146\"/>\n",
              "<text text-anchor=\"start\" x=\"8.5\" y=\"-170\" font-family=\"Linux libertine\" font-size=\"10.00\">Linear</text>\n",
              "<text text-anchor=\"start\" x=\"5.5\" y=\"-159\" font-family=\"Linux libertine\" font-size=\"10.00\">depth:1</text>\n",
              "<polygon fill=\"none\" stroke=\"black\" points=\"47.5,-167 47.5,-188 95.5,-188 95.5,-167 47.5,-167\"/>\n",
              "<text text-anchor=\"start\" x=\"57.5\" y=\"-175\" font-family=\"Linux libertine\" font-size=\"10.00\">input:</text>\n",
              "<polygon fill=\"none\" stroke=\"black\" points=\"95.5,-167 95.5,-188 125.5,-188 125.5,-167 95.5,-167\"/>\n",
              "<text text-anchor=\"start\" x=\"100.5\" y=\"-175\" font-family=\"Linux libertine\" font-size=\"10.00\">(3,) </text>\n",
              "<polygon fill=\"none\" stroke=\"black\" points=\"47.5,-146 47.5,-167 95.5,-167 95.5,-146 47.5,-146\"/>\n",
              "<text text-anchor=\"start\" x=\"52.5\" y=\"-154\" font-family=\"Linux libertine\" font-size=\"10.00\">output: </text>\n",
              "<polygon fill=\"none\" stroke=\"black\" points=\"95.5,-146 95.5,-167 125.5,-167 125.5,-146 95.5,-146\"/>\n",
              "<text text-anchor=\"start\" x=\"100.5\" y=\"-154\" font-family=\"Linux libertine\" font-size=\"10.00\">(4,) </text>\n",
              "</g>\n",
              "<!-- 2&#45;&gt;3 -->\n",
              "<g id=\"edge3\" class=\"edge\">\n",
              "<title>2&#45;&gt;3</title>\n",
              "<path fill=\"none\" stroke=\"black\" d=\"M62.5,-224.03C62.5,-216.44 62.5,-207.6 62.5,-199.21\"/>\n",
              "<polygon fill=\"black\" stroke=\"black\" points=\"66,-199.35 62.5,-189.35 59,-199.35 66,-199.35\"/>\n",
              "</g>\n",
              "<!-- 4 -->\n",
              "<g id=\"node5\" class=\"node\">\n",
              "<title>4</title>\n",
              "<polygon fill=\"#c1ffc1\" stroke=\"none\" points=\"125,-110 0,-110 0,-68 125,-68 125,-110\"/>\n",
              "<polygon fill=\"none\" stroke=\"black\" points=\"0.5,-68 0.5,-110 47.5,-110 47.5,-68 0.5,-68\"/>\n",
              "<text text-anchor=\"start\" x=\"11\" y=\"-92\" font-family=\"Linux libertine\" font-size=\"10.00\">ReLU</text>\n",
              "<text text-anchor=\"start\" x=\"5.5\" y=\"-81\" font-family=\"Linux libertine\" font-size=\"10.00\">depth:1</text>\n",
              "<polygon fill=\"none\" stroke=\"black\" points=\"47.5,-89 47.5,-110 95.5,-110 95.5,-89 47.5,-89\"/>\n",
              "<text text-anchor=\"start\" x=\"57.5\" y=\"-97\" font-family=\"Linux libertine\" font-size=\"10.00\">input:</text>\n",
              "<polygon fill=\"none\" stroke=\"black\" points=\"95.5,-89 95.5,-110 125.5,-110 125.5,-89 95.5,-89\"/>\n",
              "<text text-anchor=\"start\" x=\"100.5\" y=\"-97\" font-family=\"Linux libertine\" font-size=\"10.00\">(4,) </text>\n",
              "<polygon fill=\"none\" stroke=\"black\" points=\"47.5,-68 47.5,-89 95.5,-89 95.5,-68 47.5,-68\"/>\n",
              "<text text-anchor=\"start\" x=\"52.5\" y=\"-76\" font-family=\"Linux libertine\" font-size=\"10.00\">output: </text>\n",
              "<polygon fill=\"none\" stroke=\"black\" points=\"95.5,-68 95.5,-89 125.5,-89 125.5,-68 95.5,-68\"/>\n",
              "<text text-anchor=\"start\" x=\"100.5\" y=\"-76\" font-family=\"Linux libertine\" font-size=\"10.00\">(4,) </text>\n",
              "</g>\n",
              "<!-- 3&#45;&gt;4 -->\n",
              "<g id=\"edge4\" class=\"edge\">\n",
              "<title>3&#45;&gt;4</title>\n",
              "<path fill=\"none\" stroke=\"black\" d=\"M62.5,-146.03C62.5,-138.44 62.5,-129.6 62.5,-121.21\"/>\n",
              "<polygon fill=\"black\" stroke=\"black\" points=\"66,-121.35 62.5,-111.35 59,-121.35 66,-121.35\"/>\n",
              "</g>\n",
              "<!-- 5 -->\n",
              "<g id=\"node6\" class=\"node\">\n",
              "<title>5</title>\n",
              "<polygon fill=\"lightyellow\" stroke=\"none\" points=\"114.5,-32 10.5,-32 10.5,0 114.5,0 114.5,-32\"/>\n",
              "<polygon fill=\"none\" stroke=\"black\" points=\"10.5,0 10.5,-32 87.5,-32 87.5,0 10.5,0\"/>\n",
              "<text text-anchor=\"start\" x=\"15.5\" y=\"-19\" font-family=\"Linux libertine\" font-size=\"10.00\">output&#45;tensor</text>\n",
              "<text text-anchor=\"start\" x=\"30.5\" y=\"-8\" font-family=\"Linux libertine\" font-size=\"10.00\">depth:0</text>\n",
              "<polygon fill=\"none\" stroke=\"black\" points=\"87.5,0 87.5,-32 114.5,-32 114.5,0 87.5,0\"/>\n",
              "<text text-anchor=\"start\" x=\"92.5\" y=\"-13.5\" font-family=\"Linux libertine\" font-size=\"10.00\">(4,)</text>\n",
              "</g>\n",
              "<!-- 4&#45;&gt;5 -->\n",
              "<g id=\"edge5\" class=\"edge\">\n",
              "<title>4&#45;&gt;5</title>\n",
              "<path fill=\"none\" stroke=\"black\" d=\"M62.5,-68.22C62.5,-60.5 62.5,-51.54 62.5,-43.29\"/>\n",
              "<polygon fill=\"black\" stroke=\"black\" points=\"66,-43.46 62.5,-33.46 59,-43.46 66,-43.46\"/>\n",
              "</g>\n",
              "</g>\n",
              "</svg>\n"
            ],
            "text/plain": [
              "<graphviz.graphs.Digraph at 0x7f7e9347ffd0>"
            ]
          },
          "execution_count": 21,
          "metadata": {},
          "output_type": "execute_result"
        }
      ],
      "source": [
        "model = nn.Sequential(\n",
        "    nn.Linear(2, 3),\n",
        "    nn.ReLU(),\n",
        "    nn.Linear(3, 4),\n",
        "    nn.ReLU()\n",
        ")\n",
        "\n",
        "# Visualizing the network\n",
        "model_graph = draw_graph(model, input_size=(2,))\n",
        "model_graph.visual_graph"
      ]
    },
    {
      "cell_type": "markdown",
      "source": [
        "---\n",
        "#### **Try Problems #2.2.2 - #2.2.3 on your own.**\n",
        "---"
      ],
      "metadata": {
        "id": "Gza8NUdqzPLc"
      }
    },
    {
      "cell_type": "markdown",
      "metadata": {
        "id": "sKJL_lNaxkbj"
      },
      "source": [
        "#### **Problem #2.2.2:**\n",
        "\n",
        "Create and visualize a new model with three hidden layers.\n",
        "\n",
        "* The input layer should have `15` neurons\n",
        "\n",
        "* The first hidden layer should have `8` neurons with ReLU activation.\n",
        "\n",
        "* The second hidden layer should have `6` neurons with no activation function (also called Identity activation).\n",
        "\n",
        "* The third hidden layer should have `4` neurons with ReLU activation.\n",
        "\n",
        "* The output layer should have `4` neurons."
      ]
    },
    {
      "cell_type": "code",
      "execution_count": null,
      "metadata": {
        "id": "zDun7i15wAgO"
      },
      "outputs": [],
      "source": []
    },
    {
      "cell_type": "markdown",
      "metadata": {
        "id": "Cuhjoj_-wAgW"
      },
      "source": [
        "###### **Solution**"
      ]
    },
    {
      "cell_type": "code",
      "execution_count": null,
      "metadata": {
        "id": "LHPPTcJYP3Sl",
        "tags": [],
        "outputId": "f4af4ef7-2dad-4496-81a7-523a7be761ba"
      },
      "outputs": [
        {
          "data": {
            "image/svg+xml": [
              "<?xml version=\"1.0\" encoding=\"UTF-8\" standalone=\"no\"?>\n",
              "<!DOCTYPE svg PUBLIC \"-//W3C//DTD SVG 1.1//EN\"\n",
              " \"http://www.w3.org/Graphics/SVG/1.1/DTD/svg11.dtd\">\n",
              "<!-- Generated by graphviz version 7.1.0 (20230122.1345)\n",
              " -->\n",
              "<!-- Title: model Pages: 1 -->\n",
              "<svg width=\"139pt\" height=\"654pt\"\n",
              " viewBox=\"0.00 0.00 139.00 654.00\" xmlns=\"http://www.w3.org/2000/svg\" xmlns:xlink=\"http://www.w3.org/1999/xlink\">\n",
              "<g id=\"graph0\" class=\"graph\" transform=\"scale(1 1) rotate(0) translate(4 650)\">\n",
              "<title>model</title>\n",
              "<polygon fill=\"white\" stroke=\"none\" points=\"-4,4 -4,-650 135,-650 135,4 -4,4\"/>\n",
              "<!-- 0 -->\n",
              "<g id=\"node1\" class=\"node\">\n",
              "<title>0</title>\n",
              "<polygon fill=\"lightyellow\" stroke=\"none\" points=\"117,-646 14,-646 14,-614 117,-614 117,-646\"/>\n",
              "<polygon fill=\"none\" stroke=\"black\" points=\"14.5,-614 14.5,-646 84.5,-646 84.5,-614 14.5,-614\"/>\n",
              "<text text-anchor=\"start\" x=\"19.5\" y=\"-633\" font-family=\"Linux libertine\" font-size=\"10.00\">input&#45;tensor</text>\n",
              "<text text-anchor=\"start\" x=\"31\" y=\"-622\" font-family=\"Linux libertine\" font-size=\"10.00\">depth:0</text>\n",
              "<polygon fill=\"none\" stroke=\"black\" points=\"84.5,-614 84.5,-646 117.5,-646 117.5,-614 84.5,-614\"/>\n",
              "<text text-anchor=\"start\" x=\"89.5\" y=\"-627.5\" font-family=\"Linux libertine\" font-size=\"10.00\">(15,)</text>\n",
              "</g>\n",
              "<!-- 1 -->\n",
              "<g id=\"node2\" class=\"node\">\n",
              "<title>1</title>\n",
              "<polygon fill=\"#c1ffc1\" stroke=\"none\" points=\"131,-578 0,-578 0,-536 131,-536 131,-578\"/>\n",
              "<polygon fill=\"none\" stroke=\"black\" points=\"0.5,-536 0.5,-578 47.5,-578 47.5,-536 0.5,-536\"/>\n",
              "<text text-anchor=\"start\" x=\"8.5\" y=\"-560\" font-family=\"Linux libertine\" font-size=\"10.00\">Linear</text>\n",
              "<text text-anchor=\"start\" x=\"5.5\" y=\"-549\" font-family=\"Linux libertine\" font-size=\"10.00\">depth:1</text>\n",
              "<polygon fill=\"none\" stroke=\"black\" points=\"47.5,-557 47.5,-578 95.5,-578 95.5,-557 47.5,-557\"/>\n",
              "<text text-anchor=\"start\" x=\"57.5\" y=\"-565\" font-family=\"Linux libertine\" font-size=\"10.00\">input:</text>\n",
              "<polygon fill=\"none\" stroke=\"black\" points=\"95.5,-557 95.5,-578 131.5,-578 131.5,-557 95.5,-557\"/>\n",
              "<text text-anchor=\"start\" x=\"100.5\" y=\"-565\" font-family=\"Linux libertine\" font-size=\"10.00\">(15,) </text>\n",
              "<polygon fill=\"none\" stroke=\"black\" points=\"47.5,-536 47.5,-557 95.5,-557 95.5,-536 47.5,-536\"/>\n",
              "<text text-anchor=\"start\" x=\"52.5\" y=\"-544\" font-family=\"Linux libertine\" font-size=\"10.00\">output: </text>\n",
              "<polygon fill=\"none\" stroke=\"black\" points=\"95.5,-536 95.5,-557 131.5,-557 131.5,-536 95.5,-536\"/>\n",
              "<text text-anchor=\"start\" x=\"103.5\" y=\"-544\" font-family=\"Linux libertine\" font-size=\"10.00\">(8,) </text>\n",
              "</g>\n",
              "<!-- 0&#45;&gt;1 -->\n",
              "<g id=\"edge1\" class=\"edge\">\n",
              "<title>0&#45;&gt;1</title>\n",
              "<path fill=\"none\" stroke=\"black\" d=\"M65.5,-614.29C65.5,-607.03 65.5,-597.98 65.5,-589.27\"/>\n",
              "<polygon fill=\"black\" stroke=\"black\" points=\"69,-589.32 65.5,-579.32 62,-589.32 69,-589.32\"/>\n",
              "</g>\n",
              "<!-- 2 -->\n",
              "<g id=\"node3\" class=\"node\">\n",
              "<title>2</title>\n",
              "<polygon fill=\"#c1ffc1\" stroke=\"none\" points=\"129.5,-500 1.5,-500 1.5,-458 129.5,-458 129.5,-500\"/>\n",
              "<polygon fill=\"none\" stroke=\"black\" points=\"1.5,-458 1.5,-500 51.5,-500 51.5,-458 1.5,-458\"/>\n",
              "<text text-anchor=\"start\" x=\"6.5\" y=\"-482\" font-family=\"Linux libertine\" font-size=\"10.00\">Sigmoid</text>\n",
              "<text text-anchor=\"start\" x=\"8\" y=\"-471\" font-family=\"Linux libertine\" font-size=\"10.00\">depth:1</text>\n",
              "<polygon fill=\"none\" stroke=\"black\" points=\"51.5,-479 51.5,-500 99.5,-500 99.5,-479 51.5,-479\"/>\n",
              "<text text-anchor=\"start\" x=\"61.5\" y=\"-487\" font-family=\"Linux libertine\" font-size=\"10.00\">input:</text>\n",
              "<polygon fill=\"none\" stroke=\"black\" points=\"99.5,-479 99.5,-500 129.5,-500 129.5,-479 99.5,-479\"/>\n",
              "<text text-anchor=\"start\" x=\"104.5\" y=\"-487\" font-family=\"Linux libertine\" font-size=\"10.00\">(8,) </text>\n",
              "<polygon fill=\"none\" stroke=\"black\" points=\"51.5,-458 51.5,-479 99.5,-479 99.5,-458 51.5,-458\"/>\n",
              "<text text-anchor=\"start\" x=\"56.5\" y=\"-466\" font-family=\"Linux libertine\" font-size=\"10.00\">output: </text>\n",
              "<polygon fill=\"none\" stroke=\"black\" points=\"99.5,-458 99.5,-479 129.5,-479 129.5,-458 99.5,-458\"/>\n",
              "<text text-anchor=\"start\" x=\"104.5\" y=\"-466\" font-family=\"Linux libertine\" font-size=\"10.00\">(8,) </text>\n",
              "</g>\n",
              "<!-- 1&#45;&gt;2 -->\n",
              "<g id=\"edge2\" class=\"edge\">\n",
              "<title>1&#45;&gt;2</title>\n",
              "<path fill=\"none\" stroke=\"black\" d=\"M65.5,-536.03C65.5,-528.44 65.5,-519.6 65.5,-511.21\"/>\n",
              "<polygon fill=\"black\" stroke=\"black\" points=\"69,-511.35 65.5,-501.35 62,-511.35 69,-511.35\"/>\n",
              "</g>\n",
              "<!-- 3 -->\n",
              "<g id=\"node4\" class=\"node\">\n",
              "<title>3</title>\n",
              "<polygon fill=\"#c1ffc1\" stroke=\"none\" points=\"128,-422 3,-422 3,-380 128,-380 128,-422\"/>\n",
              "<polygon fill=\"none\" stroke=\"black\" points=\"3.5,-380 3.5,-422 50.5,-422 50.5,-380 3.5,-380\"/>\n",
              "<text text-anchor=\"start\" x=\"11.5\" y=\"-404\" font-family=\"Linux libertine\" font-size=\"10.00\">Linear</text>\n",
              "<text text-anchor=\"start\" x=\"8.5\" y=\"-393\" font-family=\"Linux libertine\" font-size=\"10.00\">depth:1</text>\n",
              "<polygon fill=\"none\" stroke=\"black\" points=\"50.5,-401 50.5,-422 98.5,-422 98.5,-401 50.5,-401\"/>\n",
              "<text text-anchor=\"start\" x=\"60.5\" y=\"-409\" font-family=\"Linux libertine\" font-size=\"10.00\">input:</text>\n",
              "<polygon fill=\"none\" stroke=\"black\" points=\"98.5,-401 98.5,-422 128.5,-422 128.5,-401 98.5,-401\"/>\n",
              "<text text-anchor=\"start\" x=\"103.5\" y=\"-409\" font-family=\"Linux libertine\" font-size=\"10.00\">(8,) </text>\n",
              "<polygon fill=\"none\" stroke=\"black\" points=\"50.5,-380 50.5,-401 98.5,-401 98.5,-380 50.5,-380\"/>\n",
              "<text text-anchor=\"start\" x=\"55.5\" y=\"-388\" font-family=\"Linux libertine\" font-size=\"10.00\">output: </text>\n",
              "<polygon fill=\"none\" stroke=\"black\" points=\"98.5,-380 98.5,-401 128.5,-401 128.5,-380 98.5,-380\"/>\n",
              "<text text-anchor=\"start\" x=\"103.5\" y=\"-388\" font-family=\"Linux libertine\" font-size=\"10.00\">(6,) </text>\n",
              "</g>\n",
              "<!-- 2&#45;&gt;3 -->\n",
              "<g id=\"edge3\" class=\"edge\">\n",
              "<title>2&#45;&gt;3</title>\n",
              "<path fill=\"none\" stroke=\"black\" d=\"M65.5,-458.03C65.5,-450.44 65.5,-441.6 65.5,-433.21\"/>\n",
              "<polygon fill=\"black\" stroke=\"black\" points=\"69,-433.35 65.5,-423.35 62,-433.35 69,-433.35\"/>\n",
              "</g>\n",
              "<!-- 4 -->\n",
              "<g id=\"node5\" class=\"node\">\n",
              "<title>4</title>\n",
              "<polygon fill=\"#c1ffc1\" stroke=\"none\" points=\"128.5,-344 2.5,-344 2.5,-302 128.5,-302 128.5,-344\"/>\n",
              "<polygon fill=\"none\" stroke=\"black\" points=\"2.5,-302 2.5,-344 50.5,-344 50.5,-302 2.5,-302\"/>\n",
              "<text text-anchor=\"start\" x=\"7.5\" y=\"-326\" font-family=\"Linux libertine\" font-size=\"10.00\">Identity</text>\n",
              "<text text-anchor=\"start\" x=\"8\" y=\"-315\" font-family=\"Linux libertine\" font-size=\"10.00\">depth:1</text>\n",
              "<polygon fill=\"none\" stroke=\"black\" points=\"50.5,-323 50.5,-344 98.5,-344 98.5,-323 50.5,-323\"/>\n",
              "<text text-anchor=\"start\" x=\"60.5\" y=\"-331\" font-family=\"Linux libertine\" font-size=\"10.00\">input:</text>\n",
              "<polygon fill=\"none\" stroke=\"black\" points=\"98.5,-323 98.5,-344 128.5,-344 128.5,-323 98.5,-323\"/>\n",
              "<text text-anchor=\"start\" x=\"103.5\" y=\"-331\" font-family=\"Linux libertine\" font-size=\"10.00\">(6,) </text>\n",
              "<polygon fill=\"none\" stroke=\"black\" points=\"50.5,-302 50.5,-323 98.5,-323 98.5,-302 50.5,-302\"/>\n",
              "<text text-anchor=\"start\" x=\"55.5\" y=\"-310\" font-family=\"Linux libertine\" font-size=\"10.00\">output: </text>\n",
              "<polygon fill=\"none\" stroke=\"black\" points=\"98.5,-302 98.5,-323 128.5,-323 128.5,-302 98.5,-302\"/>\n",
              "<text text-anchor=\"start\" x=\"103.5\" y=\"-310\" font-family=\"Linux libertine\" font-size=\"10.00\">(6,) </text>\n",
              "</g>\n",
              "<!-- 3&#45;&gt;4 -->\n",
              "<g id=\"edge4\" class=\"edge\">\n",
              "<title>3&#45;&gt;4</title>\n",
              "<path fill=\"none\" stroke=\"black\" d=\"M65.5,-380.03C65.5,-372.44 65.5,-363.6 65.5,-355.21\"/>\n",
              "<polygon fill=\"black\" stroke=\"black\" points=\"69,-355.35 65.5,-345.35 62,-355.35 69,-355.35\"/>\n",
              "</g>\n",
              "<!-- 5 -->\n",
              "<g id=\"node6\" class=\"node\">\n",
              "<title>5</title>\n",
              "<polygon fill=\"#c1ffc1\" stroke=\"none\" points=\"128,-266 3,-266 3,-224 128,-224 128,-266\"/>\n",
              "<polygon fill=\"none\" stroke=\"black\" points=\"3.5,-224 3.5,-266 50.5,-266 50.5,-224 3.5,-224\"/>\n",
              "<text text-anchor=\"start\" x=\"11.5\" y=\"-248\" font-family=\"Linux libertine\" font-size=\"10.00\">Linear</text>\n",
              "<text text-anchor=\"start\" x=\"8.5\" y=\"-237\" font-family=\"Linux libertine\" font-size=\"10.00\">depth:1</text>\n",
              "<polygon fill=\"none\" stroke=\"black\" points=\"50.5,-245 50.5,-266 98.5,-266 98.5,-245 50.5,-245\"/>\n",
              "<text text-anchor=\"start\" x=\"60.5\" y=\"-253\" font-family=\"Linux libertine\" font-size=\"10.00\">input:</text>\n",
              "<polygon fill=\"none\" stroke=\"black\" points=\"98.5,-245 98.5,-266 128.5,-266 128.5,-245 98.5,-245\"/>\n",
              "<text text-anchor=\"start\" x=\"103.5\" y=\"-253\" font-family=\"Linux libertine\" font-size=\"10.00\">(6,) </text>\n",
              "<polygon fill=\"none\" stroke=\"black\" points=\"50.5,-224 50.5,-245 98.5,-245 98.5,-224 50.5,-224\"/>\n",
              "<text text-anchor=\"start\" x=\"55.5\" y=\"-232\" font-family=\"Linux libertine\" font-size=\"10.00\">output: </text>\n",
              "<polygon fill=\"none\" stroke=\"black\" points=\"98.5,-224 98.5,-245 128.5,-245 128.5,-224 98.5,-224\"/>\n",
              "<text text-anchor=\"start\" x=\"103.5\" y=\"-232\" font-family=\"Linux libertine\" font-size=\"10.00\">(4,) </text>\n",
              "</g>\n",
              "<!-- 4&#45;&gt;5 -->\n",
              "<g id=\"edge5\" class=\"edge\">\n",
              "<title>4&#45;&gt;5</title>\n",
              "<path fill=\"none\" stroke=\"black\" d=\"M65.5,-302.03C65.5,-294.44 65.5,-285.6 65.5,-277.21\"/>\n",
              "<polygon fill=\"black\" stroke=\"black\" points=\"69,-277.35 65.5,-267.35 62,-277.35 69,-277.35\"/>\n",
              "</g>\n",
              "<!-- 6 -->\n",
              "<g id=\"node7\" class=\"node\">\n",
              "<title>6</title>\n",
              "<polygon fill=\"#c1ffc1\" stroke=\"none\" points=\"128,-188 3,-188 3,-146 128,-146 128,-188\"/>\n",
              "<polygon fill=\"none\" stroke=\"black\" points=\"3.5,-146 3.5,-188 50.5,-188 50.5,-146 3.5,-146\"/>\n",
              "<text text-anchor=\"start\" x=\"14\" y=\"-170\" font-family=\"Linux libertine\" font-size=\"10.00\">ReLU</text>\n",
              "<text text-anchor=\"start\" x=\"8.5\" y=\"-159\" font-family=\"Linux libertine\" font-size=\"10.00\">depth:1</text>\n",
              "<polygon fill=\"none\" stroke=\"black\" points=\"50.5,-167 50.5,-188 98.5,-188 98.5,-167 50.5,-167\"/>\n",
              "<text text-anchor=\"start\" x=\"60.5\" y=\"-175\" font-family=\"Linux libertine\" font-size=\"10.00\">input:</text>\n",
              "<polygon fill=\"none\" stroke=\"black\" points=\"98.5,-167 98.5,-188 128.5,-188 128.5,-167 98.5,-167\"/>\n",
              "<text text-anchor=\"start\" x=\"103.5\" y=\"-175\" font-family=\"Linux libertine\" font-size=\"10.00\">(4,) </text>\n",
              "<polygon fill=\"none\" stroke=\"black\" points=\"50.5,-146 50.5,-167 98.5,-167 98.5,-146 50.5,-146\"/>\n",
              "<text text-anchor=\"start\" x=\"55.5\" y=\"-154\" font-family=\"Linux libertine\" font-size=\"10.00\">output: </text>\n",
              "<polygon fill=\"none\" stroke=\"black\" points=\"98.5,-146 98.5,-167 128.5,-167 128.5,-146 98.5,-146\"/>\n",
              "<text text-anchor=\"start\" x=\"103.5\" y=\"-154\" font-family=\"Linux libertine\" font-size=\"10.00\">(4,) </text>\n",
              "</g>\n",
              "<!-- 5&#45;&gt;6 -->\n",
              "<g id=\"edge6\" class=\"edge\">\n",
              "<title>5&#45;&gt;6</title>\n",
              "<path fill=\"none\" stroke=\"black\" d=\"M65.5,-224.03C65.5,-216.44 65.5,-207.6 65.5,-199.21\"/>\n",
              "<polygon fill=\"black\" stroke=\"black\" points=\"69,-199.35 65.5,-189.35 62,-199.35 69,-199.35\"/>\n",
              "</g>\n",
              "<!-- 7 -->\n",
              "<g id=\"node8\" class=\"node\">\n",
              "<title>7</title>\n",
              "<polygon fill=\"#c1ffc1\" stroke=\"none\" points=\"128,-110 3,-110 3,-68 128,-68 128,-110\"/>\n",
              "<polygon fill=\"none\" stroke=\"black\" points=\"3.5,-68 3.5,-110 50.5,-110 50.5,-68 3.5,-68\"/>\n",
              "<text text-anchor=\"start\" x=\"11.5\" y=\"-92\" font-family=\"Linux libertine\" font-size=\"10.00\">Linear</text>\n",
              "<text text-anchor=\"start\" x=\"8.5\" y=\"-81\" font-family=\"Linux libertine\" font-size=\"10.00\">depth:1</text>\n",
              "<polygon fill=\"none\" stroke=\"black\" points=\"50.5,-89 50.5,-110 98.5,-110 98.5,-89 50.5,-89\"/>\n",
              "<text text-anchor=\"start\" x=\"60.5\" y=\"-97\" font-family=\"Linux libertine\" font-size=\"10.00\">input:</text>\n",
              "<polygon fill=\"none\" stroke=\"black\" points=\"98.5,-89 98.5,-110 128.5,-110 128.5,-89 98.5,-89\"/>\n",
              "<text text-anchor=\"start\" x=\"103.5\" y=\"-97\" font-family=\"Linux libertine\" font-size=\"10.00\">(4,) </text>\n",
              "<polygon fill=\"none\" stroke=\"black\" points=\"50.5,-68 50.5,-89 98.5,-89 98.5,-68 50.5,-68\"/>\n",
              "<text text-anchor=\"start\" x=\"55.5\" y=\"-76\" font-family=\"Linux libertine\" font-size=\"10.00\">output: </text>\n",
              "<polygon fill=\"none\" stroke=\"black\" points=\"98.5,-68 98.5,-89 128.5,-89 128.5,-68 98.5,-68\"/>\n",
              "<text text-anchor=\"start\" x=\"103.5\" y=\"-76\" font-family=\"Linux libertine\" font-size=\"10.00\">(4,) </text>\n",
              "</g>\n",
              "<!-- 6&#45;&gt;7 -->\n",
              "<g id=\"edge7\" class=\"edge\">\n",
              "<title>6&#45;&gt;7</title>\n",
              "<path fill=\"none\" stroke=\"black\" d=\"M65.5,-146.03C65.5,-138.44 65.5,-129.6 65.5,-121.21\"/>\n",
              "<polygon fill=\"black\" stroke=\"black\" points=\"69,-121.35 65.5,-111.35 62,-121.35 69,-121.35\"/>\n",
              "</g>\n",
              "<!-- 8 -->\n",
              "<g id=\"node9\" class=\"node\">\n",
              "<title>8</title>\n",
              "<polygon fill=\"lightyellow\" stroke=\"none\" points=\"117.5,-32 13.5,-32 13.5,0 117.5,0 117.5,-32\"/>\n",
              "<polygon fill=\"none\" stroke=\"black\" points=\"13.5,0 13.5,-32 90.5,-32 90.5,0 13.5,0\"/>\n",
              "<text text-anchor=\"start\" x=\"18.5\" y=\"-19\" font-family=\"Linux libertine\" font-size=\"10.00\">output&#45;tensor</text>\n",
              "<text text-anchor=\"start\" x=\"33.5\" y=\"-8\" font-family=\"Linux libertine\" font-size=\"10.00\">depth:0</text>\n",
              "<polygon fill=\"none\" stroke=\"black\" points=\"90.5,0 90.5,-32 117.5,-32 117.5,0 90.5,0\"/>\n",
              "<text text-anchor=\"start\" x=\"95.5\" y=\"-13.5\" font-family=\"Linux libertine\" font-size=\"10.00\">(4,)</text>\n",
              "</g>\n",
              "<!-- 7&#45;&gt;8 -->\n",
              "<g id=\"edge8\" class=\"edge\">\n",
              "<title>7&#45;&gt;8</title>\n",
              "<path fill=\"none\" stroke=\"black\" d=\"M65.5,-68.22C65.5,-60.5 65.5,-51.54 65.5,-43.29\"/>\n",
              "<polygon fill=\"black\" stroke=\"black\" points=\"69,-43.46 65.5,-33.46 62,-43.46 69,-43.46\"/>\n",
              "</g>\n",
              "</g>\n",
              "</svg>\n"
            ],
            "text/plain": [
              "<graphviz.graphs.Digraph at 0x7f7e9349bd30>"
            ]
          },
          "execution_count": 22,
          "metadata": {},
          "output_type": "execute_result"
        }
      ],
      "source": [
        "model = nn.Sequential(\n",
        "    nn.Linear(15, 8),\n",
        "    nn.Sigmoid(),\n",
        "    nn.Linear(8, 6),\n",
        "    nn.Identity(), # alternatively just omit this line because linear activation means no activation\n",
        "    nn.Linear(6, 4),\n",
        "    nn.ReLU(),\n",
        "    nn.Linear(4, 4)\n",
        ")\n",
        "\n",
        "# Visualizing the network\n",
        "model_graph = draw_graph(model, input_size=(15,))\n",
        "model_graph.visual_graph"
      ]
    },
    {
      "cell_type": "markdown",
      "metadata": {
        "id": "J-DPeyiNvwk0"
      },
      "source": [
        "#### **Problem #2.2.3:**\n",
        "\n",
        "Create and visualize a new model with four hidden layers.\n",
        "\n",
        "* The input layer should have `10` neurons\n",
        "\n",
        "* The first hidden layer should have `5` neurons with no activation.\n",
        "\n",
        "* The second hidden layer should have `12` neurons with sigmoid function.\n",
        "\n",
        "* The third hidden layer should have `8` neurons with ReLU activation.\n",
        "\n",
        "* The output layer should have `2` neurons."
      ]
    },
    {
      "cell_type": "code",
      "execution_count": null,
      "metadata": {
        "id": "wyDeE8-qvwlB"
      },
      "outputs": [],
      "source": []
    },
    {
      "cell_type": "markdown",
      "metadata": {
        "id": "izWMYztuvwlB"
      },
      "source": [
        "###### **Solution**"
      ]
    },
    {
      "cell_type": "code",
      "execution_count": null,
      "metadata": {
        "tags": [],
        "outputId": "f4af4ef7-2dad-4496-81a7-523a7be761ba",
        "id": "OO9D5Gi9vwlB"
      },
      "outputs": [
        {
          "data": {
            "image/svg+xml": [
              "<?xml version=\"1.0\" encoding=\"UTF-8\" standalone=\"no\"?>\n",
              "<!DOCTYPE svg PUBLIC \"-//W3C//DTD SVG 1.1//EN\"\n",
              " \"http://www.w3.org/Graphics/SVG/1.1/DTD/svg11.dtd\">\n",
              "<!-- Generated by graphviz version 7.1.0 (20230122.1345)\n",
              " -->\n",
              "<!-- Title: model Pages: 1 -->\n",
              "<svg width=\"139pt\" height=\"654pt\"\n",
              " viewBox=\"0.00 0.00 139.00 654.00\" xmlns=\"http://www.w3.org/2000/svg\" xmlns:xlink=\"http://www.w3.org/1999/xlink\">\n",
              "<g id=\"graph0\" class=\"graph\" transform=\"scale(1 1) rotate(0) translate(4 650)\">\n",
              "<title>model</title>\n",
              "<polygon fill=\"white\" stroke=\"none\" points=\"-4,4 -4,-650 135,-650 135,4 -4,4\"/>\n",
              "<!-- 0 -->\n",
              "<g id=\"node1\" class=\"node\">\n",
              "<title>0</title>\n",
              "<polygon fill=\"lightyellow\" stroke=\"none\" points=\"117,-646 14,-646 14,-614 117,-614 117,-646\"/>\n",
              "<polygon fill=\"none\" stroke=\"black\" points=\"14.5,-614 14.5,-646 84.5,-646 84.5,-614 14.5,-614\"/>\n",
              "<text text-anchor=\"start\" x=\"19.5\" y=\"-633\" font-family=\"Linux libertine\" font-size=\"10.00\">input&#45;tensor</text>\n",
              "<text text-anchor=\"start\" x=\"31\" y=\"-622\" font-family=\"Linux libertine\" font-size=\"10.00\">depth:0</text>\n",
              "<polygon fill=\"none\" stroke=\"black\" points=\"84.5,-614 84.5,-646 117.5,-646 117.5,-614 84.5,-614\"/>\n",
              "<text text-anchor=\"start\" x=\"89.5\" y=\"-627.5\" font-family=\"Linux libertine\" font-size=\"10.00\">(15,)</text>\n",
              "</g>\n",
              "<!-- 1 -->\n",
              "<g id=\"node2\" class=\"node\">\n",
              "<title>1</title>\n",
              "<polygon fill=\"#c1ffc1\" stroke=\"none\" points=\"131,-578 0,-578 0,-536 131,-536 131,-578\"/>\n",
              "<polygon fill=\"none\" stroke=\"black\" points=\"0.5,-536 0.5,-578 47.5,-578 47.5,-536 0.5,-536\"/>\n",
              "<text text-anchor=\"start\" x=\"8.5\" y=\"-560\" font-family=\"Linux libertine\" font-size=\"10.00\">Linear</text>\n",
              "<text text-anchor=\"start\" x=\"5.5\" y=\"-549\" font-family=\"Linux libertine\" font-size=\"10.00\">depth:1</text>\n",
              "<polygon fill=\"none\" stroke=\"black\" points=\"47.5,-557 47.5,-578 95.5,-578 95.5,-557 47.5,-557\"/>\n",
              "<text text-anchor=\"start\" x=\"57.5\" y=\"-565\" font-family=\"Linux libertine\" font-size=\"10.00\">input:</text>\n",
              "<polygon fill=\"none\" stroke=\"black\" points=\"95.5,-557 95.5,-578 131.5,-578 131.5,-557 95.5,-557\"/>\n",
              "<text text-anchor=\"start\" x=\"100.5\" y=\"-565\" font-family=\"Linux libertine\" font-size=\"10.00\">(15,) </text>\n",
              "<polygon fill=\"none\" stroke=\"black\" points=\"47.5,-536 47.5,-557 95.5,-557 95.5,-536 47.5,-536\"/>\n",
              "<text text-anchor=\"start\" x=\"52.5\" y=\"-544\" font-family=\"Linux libertine\" font-size=\"10.00\">output: </text>\n",
              "<polygon fill=\"none\" stroke=\"black\" points=\"95.5,-536 95.5,-557 131.5,-557 131.5,-536 95.5,-536\"/>\n",
              "<text text-anchor=\"start\" x=\"103.5\" y=\"-544\" font-family=\"Linux libertine\" font-size=\"10.00\">(8,) </text>\n",
              "</g>\n",
              "<!-- 0&#45;&gt;1 -->\n",
              "<g id=\"edge1\" class=\"edge\">\n",
              "<title>0&#45;&gt;1</title>\n",
              "<path fill=\"none\" stroke=\"black\" d=\"M65.5,-614.29C65.5,-607.03 65.5,-597.98 65.5,-589.27\"/>\n",
              "<polygon fill=\"black\" stroke=\"black\" points=\"69,-589.32 65.5,-579.32 62,-589.32 69,-589.32\"/>\n",
              "</g>\n",
              "<!-- 2 -->\n",
              "<g id=\"node3\" class=\"node\">\n",
              "<title>2</title>\n",
              "<polygon fill=\"#c1ffc1\" stroke=\"none\" points=\"129.5,-500 1.5,-500 1.5,-458 129.5,-458 129.5,-500\"/>\n",
              "<polygon fill=\"none\" stroke=\"black\" points=\"1.5,-458 1.5,-500 51.5,-500 51.5,-458 1.5,-458\"/>\n",
              "<text text-anchor=\"start\" x=\"6.5\" y=\"-482\" font-family=\"Linux libertine\" font-size=\"10.00\">Sigmoid</text>\n",
              "<text text-anchor=\"start\" x=\"8\" y=\"-471\" font-family=\"Linux libertine\" font-size=\"10.00\">depth:1</text>\n",
              "<polygon fill=\"none\" stroke=\"black\" points=\"51.5,-479 51.5,-500 99.5,-500 99.5,-479 51.5,-479\"/>\n",
              "<text text-anchor=\"start\" x=\"61.5\" y=\"-487\" font-family=\"Linux libertine\" font-size=\"10.00\">input:</text>\n",
              "<polygon fill=\"none\" stroke=\"black\" points=\"99.5,-479 99.5,-500 129.5,-500 129.5,-479 99.5,-479\"/>\n",
              "<text text-anchor=\"start\" x=\"104.5\" y=\"-487\" font-family=\"Linux libertine\" font-size=\"10.00\">(8,) </text>\n",
              "<polygon fill=\"none\" stroke=\"black\" points=\"51.5,-458 51.5,-479 99.5,-479 99.5,-458 51.5,-458\"/>\n",
              "<text text-anchor=\"start\" x=\"56.5\" y=\"-466\" font-family=\"Linux libertine\" font-size=\"10.00\">output: </text>\n",
              "<polygon fill=\"none\" stroke=\"black\" points=\"99.5,-458 99.5,-479 129.5,-479 129.5,-458 99.5,-458\"/>\n",
              "<text text-anchor=\"start\" x=\"104.5\" y=\"-466\" font-family=\"Linux libertine\" font-size=\"10.00\">(8,) </text>\n",
              "</g>\n",
              "<!-- 1&#45;&gt;2 -->\n",
              "<g id=\"edge2\" class=\"edge\">\n",
              "<title>1&#45;&gt;2</title>\n",
              "<path fill=\"none\" stroke=\"black\" d=\"M65.5,-536.03C65.5,-528.44 65.5,-519.6 65.5,-511.21\"/>\n",
              "<polygon fill=\"black\" stroke=\"black\" points=\"69,-511.35 65.5,-501.35 62,-511.35 69,-511.35\"/>\n",
              "</g>\n",
              "<!-- 3 -->\n",
              "<g id=\"node4\" class=\"node\">\n",
              "<title>3</title>\n",
              "<polygon fill=\"#c1ffc1\" stroke=\"none\" points=\"128,-422 3,-422 3,-380 128,-380 128,-422\"/>\n",
              "<polygon fill=\"none\" stroke=\"black\" points=\"3.5,-380 3.5,-422 50.5,-422 50.5,-380 3.5,-380\"/>\n",
              "<text text-anchor=\"start\" x=\"11.5\" y=\"-404\" font-family=\"Linux libertine\" font-size=\"10.00\">Linear</text>\n",
              "<text text-anchor=\"start\" x=\"8.5\" y=\"-393\" font-family=\"Linux libertine\" font-size=\"10.00\">depth:1</text>\n",
              "<polygon fill=\"none\" stroke=\"black\" points=\"50.5,-401 50.5,-422 98.5,-422 98.5,-401 50.5,-401\"/>\n",
              "<text text-anchor=\"start\" x=\"60.5\" y=\"-409\" font-family=\"Linux libertine\" font-size=\"10.00\">input:</text>\n",
              "<polygon fill=\"none\" stroke=\"black\" points=\"98.5,-401 98.5,-422 128.5,-422 128.5,-401 98.5,-401\"/>\n",
              "<text text-anchor=\"start\" x=\"103.5\" y=\"-409\" font-family=\"Linux libertine\" font-size=\"10.00\">(8,) </text>\n",
              "<polygon fill=\"none\" stroke=\"black\" points=\"50.5,-380 50.5,-401 98.5,-401 98.5,-380 50.5,-380\"/>\n",
              "<text text-anchor=\"start\" x=\"55.5\" y=\"-388\" font-family=\"Linux libertine\" font-size=\"10.00\">output: </text>\n",
              "<polygon fill=\"none\" stroke=\"black\" points=\"98.5,-380 98.5,-401 128.5,-401 128.5,-380 98.5,-380\"/>\n",
              "<text text-anchor=\"start\" x=\"103.5\" y=\"-388\" font-family=\"Linux libertine\" font-size=\"10.00\">(6,) </text>\n",
              "</g>\n",
              "<!-- 2&#45;&gt;3 -->\n",
              "<g id=\"edge3\" class=\"edge\">\n",
              "<title>2&#45;&gt;3</title>\n",
              "<path fill=\"none\" stroke=\"black\" d=\"M65.5,-458.03C65.5,-450.44 65.5,-441.6 65.5,-433.21\"/>\n",
              "<polygon fill=\"black\" stroke=\"black\" points=\"69,-433.35 65.5,-423.35 62,-433.35 69,-433.35\"/>\n",
              "</g>\n",
              "<!-- 4 -->\n",
              "<g id=\"node5\" class=\"node\">\n",
              "<title>4</title>\n",
              "<polygon fill=\"#c1ffc1\" stroke=\"none\" points=\"128.5,-344 2.5,-344 2.5,-302 128.5,-302 128.5,-344\"/>\n",
              "<polygon fill=\"none\" stroke=\"black\" points=\"2.5,-302 2.5,-344 50.5,-344 50.5,-302 2.5,-302\"/>\n",
              "<text text-anchor=\"start\" x=\"7.5\" y=\"-326\" font-family=\"Linux libertine\" font-size=\"10.00\">Identity</text>\n",
              "<text text-anchor=\"start\" x=\"8\" y=\"-315\" font-family=\"Linux libertine\" font-size=\"10.00\">depth:1</text>\n",
              "<polygon fill=\"none\" stroke=\"black\" points=\"50.5,-323 50.5,-344 98.5,-344 98.5,-323 50.5,-323\"/>\n",
              "<text text-anchor=\"start\" x=\"60.5\" y=\"-331\" font-family=\"Linux libertine\" font-size=\"10.00\">input:</text>\n",
              "<polygon fill=\"none\" stroke=\"black\" points=\"98.5,-323 98.5,-344 128.5,-344 128.5,-323 98.5,-323\"/>\n",
              "<text text-anchor=\"start\" x=\"103.5\" y=\"-331\" font-family=\"Linux libertine\" font-size=\"10.00\">(6,) </text>\n",
              "<polygon fill=\"none\" stroke=\"black\" points=\"50.5,-302 50.5,-323 98.5,-323 98.5,-302 50.5,-302\"/>\n",
              "<text text-anchor=\"start\" x=\"55.5\" y=\"-310\" font-family=\"Linux libertine\" font-size=\"10.00\">output: </text>\n",
              "<polygon fill=\"none\" stroke=\"black\" points=\"98.5,-302 98.5,-323 128.5,-323 128.5,-302 98.5,-302\"/>\n",
              "<text text-anchor=\"start\" x=\"103.5\" y=\"-310\" font-family=\"Linux libertine\" font-size=\"10.00\">(6,) </text>\n",
              "</g>\n",
              "<!-- 3&#45;&gt;4 -->\n",
              "<g id=\"edge4\" class=\"edge\">\n",
              "<title>3&#45;&gt;4</title>\n",
              "<path fill=\"none\" stroke=\"black\" d=\"M65.5,-380.03C65.5,-372.44 65.5,-363.6 65.5,-355.21\"/>\n",
              "<polygon fill=\"black\" stroke=\"black\" points=\"69,-355.35 65.5,-345.35 62,-355.35 69,-355.35\"/>\n",
              "</g>\n",
              "<!-- 5 -->\n",
              "<g id=\"node6\" class=\"node\">\n",
              "<title>5</title>\n",
              "<polygon fill=\"#c1ffc1\" stroke=\"none\" points=\"128,-266 3,-266 3,-224 128,-224 128,-266\"/>\n",
              "<polygon fill=\"none\" stroke=\"black\" points=\"3.5,-224 3.5,-266 50.5,-266 50.5,-224 3.5,-224\"/>\n",
              "<text text-anchor=\"start\" x=\"11.5\" y=\"-248\" font-family=\"Linux libertine\" font-size=\"10.00\">Linear</text>\n",
              "<text text-anchor=\"start\" x=\"8.5\" y=\"-237\" font-family=\"Linux libertine\" font-size=\"10.00\">depth:1</text>\n",
              "<polygon fill=\"none\" stroke=\"black\" points=\"50.5,-245 50.5,-266 98.5,-266 98.5,-245 50.5,-245\"/>\n",
              "<text text-anchor=\"start\" x=\"60.5\" y=\"-253\" font-family=\"Linux libertine\" font-size=\"10.00\">input:</text>\n",
              "<polygon fill=\"none\" stroke=\"black\" points=\"98.5,-245 98.5,-266 128.5,-266 128.5,-245 98.5,-245\"/>\n",
              "<text text-anchor=\"start\" x=\"103.5\" y=\"-253\" font-family=\"Linux libertine\" font-size=\"10.00\">(6,) </text>\n",
              "<polygon fill=\"none\" stroke=\"black\" points=\"50.5,-224 50.5,-245 98.5,-245 98.5,-224 50.5,-224\"/>\n",
              "<text text-anchor=\"start\" x=\"55.5\" y=\"-232\" font-family=\"Linux libertine\" font-size=\"10.00\">output: </text>\n",
              "<polygon fill=\"none\" stroke=\"black\" points=\"98.5,-224 98.5,-245 128.5,-245 128.5,-224 98.5,-224\"/>\n",
              "<text text-anchor=\"start\" x=\"103.5\" y=\"-232\" font-family=\"Linux libertine\" font-size=\"10.00\">(4,) </text>\n",
              "</g>\n",
              "<!-- 4&#45;&gt;5 -->\n",
              "<g id=\"edge5\" class=\"edge\">\n",
              "<title>4&#45;&gt;5</title>\n",
              "<path fill=\"none\" stroke=\"black\" d=\"M65.5,-302.03C65.5,-294.44 65.5,-285.6 65.5,-277.21\"/>\n",
              "<polygon fill=\"black\" stroke=\"black\" points=\"69,-277.35 65.5,-267.35 62,-277.35 69,-277.35\"/>\n",
              "</g>\n",
              "<!-- 6 -->\n",
              "<g id=\"node7\" class=\"node\">\n",
              "<title>6</title>\n",
              "<polygon fill=\"#c1ffc1\" stroke=\"none\" points=\"128,-188 3,-188 3,-146 128,-146 128,-188\"/>\n",
              "<polygon fill=\"none\" stroke=\"black\" points=\"3.5,-146 3.5,-188 50.5,-188 50.5,-146 3.5,-146\"/>\n",
              "<text text-anchor=\"start\" x=\"14\" y=\"-170\" font-family=\"Linux libertine\" font-size=\"10.00\">ReLU</text>\n",
              "<text text-anchor=\"start\" x=\"8.5\" y=\"-159\" font-family=\"Linux libertine\" font-size=\"10.00\">depth:1</text>\n",
              "<polygon fill=\"none\" stroke=\"black\" points=\"50.5,-167 50.5,-188 98.5,-188 98.5,-167 50.5,-167\"/>\n",
              "<text text-anchor=\"start\" x=\"60.5\" y=\"-175\" font-family=\"Linux libertine\" font-size=\"10.00\">input:</text>\n",
              "<polygon fill=\"none\" stroke=\"black\" points=\"98.5,-167 98.5,-188 128.5,-188 128.5,-167 98.5,-167\"/>\n",
              "<text text-anchor=\"start\" x=\"103.5\" y=\"-175\" font-family=\"Linux libertine\" font-size=\"10.00\">(4,) </text>\n",
              "<polygon fill=\"none\" stroke=\"black\" points=\"50.5,-146 50.5,-167 98.5,-167 98.5,-146 50.5,-146\"/>\n",
              "<text text-anchor=\"start\" x=\"55.5\" y=\"-154\" font-family=\"Linux libertine\" font-size=\"10.00\">output: </text>\n",
              "<polygon fill=\"none\" stroke=\"black\" points=\"98.5,-146 98.5,-167 128.5,-167 128.5,-146 98.5,-146\"/>\n",
              "<text text-anchor=\"start\" x=\"103.5\" y=\"-154\" font-family=\"Linux libertine\" font-size=\"10.00\">(4,) </text>\n",
              "</g>\n",
              "<!-- 5&#45;&gt;6 -->\n",
              "<g id=\"edge6\" class=\"edge\">\n",
              "<title>5&#45;&gt;6</title>\n",
              "<path fill=\"none\" stroke=\"black\" d=\"M65.5,-224.03C65.5,-216.44 65.5,-207.6 65.5,-199.21\"/>\n",
              "<polygon fill=\"black\" stroke=\"black\" points=\"69,-199.35 65.5,-189.35 62,-199.35 69,-199.35\"/>\n",
              "</g>\n",
              "<!-- 7 -->\n",
              "<g id=\"node8\" class=\"node\">\n",
              "<title>7</title>\n",
              "<polygon fill=\"#c1ffc1\" stroke=\"none\" points=\"128,-110 3,-110 3,-68 128,-68 128,-110\"/>\n",
              "<polygon fill=\"none\" stroke=\"black\" points=\"3.5,-68 3.5,-110 50.5,-110 50.5,-68 3.5,-68\"/>\n",
              "<text text-anchor=\"start\" x=\"11.5\" y=\"-92\" font-family=\"Linux libertine\" font-size=\"10.00\">Linear</text>\n",
              "<text text-anchor=\"start\" x=\"8.5\" y=\"-81\" font-family=\"Linux libertine\" font-size=\"10.00\">depth:1</text>\n",
              "<polygon fill=\"none\" stroke=\"black\" points=\"50.5,-89 50.5,-110 98.5,-110 98.5,-89 50.5,-89\"/>\n",
              "<text text-anchor=\"start\" x=\"60.5\" y=\"-97\" font-family=\"Linux libertine\" font-size=\"10.00\">input:</text>\n",
              "<polygon fill=\"none\" stroke=\"black\" points=\"98.5,-89 98.5,-110 128.5,-110 128.5,-89 98.5,-89\"/>\n",
              "<text text-anchor=\"start\" x=\"103.5\" y=\"-97\" font-family=\"Linux libertine\" font-size=\"10.00\">(4,) </text>\n",
              "<polygon fill=\"none\" stroke=\"black\" points=\"50.5,-68 50.5,-89 98.5,-89 98.5,-68 50.5,-68\"/>\n",
              "<text text-anchor=\"start\" x=\"55.5\" y=\"-76\" font-family=\"Linux libertine\" font-size=\"10.00\">output: </text>\n",
              "<polygon fill=\"none\" stroke=\"black\" points=\"98.5,-68 98.5,-89 128.5,-89 128.5,-68 98.5,-68\"/>\n",
              "<text text-anchor=\"start\" x=\"103.5\" y=\"-76\" font-family=\"Linux libertine\" font-size=\"10.00\">(4,) </text>\n",
              "</g>\n",
              "<!-- 6&#45;&gt;7 -->\n",
              "<g id=\"edge7\" class=\"edge\">\n",
              "<title>6&#45;&gt;7</title>\n",
              "<path fill=\"none\" stroke=\"black\" d=\"M65.5,-146.03C65.5,-138.44 65.5,-129.6 65.5,-121.21\"/>\n",
              "<polygon fill=\"black\" stroke=\"black\" points=\"69,-121.35 65.5,-111.35 62,-121.35 69,-121.35\"/>\n",
              "</g>\n",
              "<!-- 8 -->\n",
              "<g id=\"node9\" class=\"node\">\n",
              "<title>8</title>\n",
              "<polygon fill=\"lightyellow\" stroke=\"none\" points=\"117.5,-32 13.5,-32 13.5,0 117.5,0 117.5,-32\"/>\n",
              "<polygon fill=\"none\" stroke=\"black\" points=\"13.5,0 13.5,-32 90.5,-32 90.5,0 13.5,0\"/>\n",
              "<text text-anchor=\"start\" x=\"18.5\" y=\"-19\" font-family=\"Linux libertine\" font-size=\"10.00\">output&#45;tensor</text>\n",
              "<text text-anchor=\"start\" x=\"33.5\" y=\"-8\" font-family=\"Linux libertine\" font-size=\"10.00\">depth:0</text>\n",
              "<polygon fill=\"none\" stroke=\"black\" points=\"90.5,0 90.5,-32 117.5,-32 117.5,0 90.5,0\"/>\n",
              "<text text-anchor=\"start\" x=\"95.5\" y=\"-13.5\" font-family=\"Linux libertine\" font-size=\"10.00\">(4,)</text>\n",
              "</g>\n",
              "<!-- 7&#45;&gt;8 -->\n",
              "<g id=\"edge8\" class=\"edge\">\n",
              "<title>7&#45;&gt;8</title>\n",
              "<path fill=\"none\" stroke=\"black\" d=\"M65.5,-68.22C65.5,-60.5 65.5,-51.54 65.5,-43.29\"/>\n",
              "<polygon fill=\"black\" stroke=\"black\" points=\"69,-43.46 65.5,-33.46 62,-43.46 69,-43.46\"/>\n",
              "</g>\n",
              "</g>\n",
              "</svg>\n"
            ],
            "text/plain": [
              "<graphviz.graphs.Digraph at 0x7f7e9349bd30>"
            ]
          },
          "execution_count": 22,
          "metadata": {},
          "output_type": "execute_result"
        }
      ],
      "source": [
        "model = nn.Sequential(\n",
        "    nn.Linear(10, 5),\n",
        "    nn.Identity(),  # No activation function for the first hidden layer\n",
        "    nn.Linear(5, 12),\n",
        "    nn.Sigmoid(),  # Sigmoid activation for the second hidden layer\n",
        "    nn.Linear(12, 8),\n",
        "    nn.ReLU(),  # ReLU activation for the third hidden layer\n",
        "    nn.Linear(8, 2)  # Output layer with 2 neurons\n",
        ")\n",
        "\n",
        "# Visualizing the network\n",
        "model_graph = draw_graph(model, input_size=(10,))\n",
        "model_graph.visual_graph"
      ]
    },
    {
      "cell_type": "markdown",
      "metadata": {
        "id": "bheLJyRBmnWX"
      },
      "source": [
        "---\n",
        "\n",
        "<center>\n",
        "\n",
        "#### **Wait for Your Instructor to Continue**\n",
        "\n",
        "---"
      ]
    },
    {
      "cell_type": "markdown",
      "metadata": {
        "id": "-8zs9KES_VBk"
      },
      "source": [
        "<a name=\"p3\"></a>\n",
        "\n",
        "---\n",
        "## **Part 3: Training**\n",
        "---"
      ]
    },
    {
      "cell_type": "markdown",
      "metadata": {
        "id": "dBJFPmxaVczl"
      },
      "source": [
        "<a name=\"p3.1\"></a>\n",
        "\n",
        "---\n",
        "### **Part #3.1: Training a Neural Network**\n",
        "---\n",
        "In this part, we will see how to train a neural network using the California housing dataset. The California Housing dataset is a dataset containing information about houses in California in the early 1990s. The dataset has 20,640 observations with 8 features, including information about the location, size, and quality of the houses, as well as the income and occupation of the people living in the area.\n",
        "\n",
        "The problem we're trying to solve with this dataset is to predict the median value of owner-occupied homes in the area (in units of $100,000), given the other features of the house and the area. This is a regression problem, as the target variable (median value) is continuous, rather than categorical.\n",
        "\n",
        "The California Housing dataset is often used as a benchmark dataset for regression problems in machine learning and has been studied extensively in the literature.\n",
        "\n",
        "In this part, we will walk through all steps 1 - 8:\n",
        "\n",
        "1. **Import and split the data into a train/test set**\n",
        "2. **Determine the dimensions of the data**\n",
        "3. **Initialize the Network Model**\n",
        "4. **Add an Input layer to the model**\n",
        "5. **Add the hidden Layers to the model**\n",
        "6. **Add the output layer**\n",
        "7. **Fit the model**\n",
        "8. **Evaluate the model**"
      ]
    },
    {
      "cell_type": "markdown",
      "metadata": {
        "id": "-8DEgdMbV9IT"
      },
      "source": [
        "#### **Step #1: Import and split the data into a train/test set**\n",
        "---\n",
        "\n",
        "Use your code from Part 1 for this step."
      ]
    },
    {
      "cell_type": "code",
      "execution_count": null,
      "metadata": {
        "id": "9D7zw3BHl7a3"
      },
      "outputs": [],
      "source": [
        "# Load the California Housing dataset\n",
        "data = fetch_california_housing()\n",
        "X = data['data']\n",
        "y = data['target']\n",
        "\n",
        "# Split the data into training and validation sets\n",
        "X_train, X_valid, y_train, y_valid = # WRITE YOUR CODE HERE\n",
        "\n",
        "# Convert the numpy arrays to PyTorch tensors with float32 data type\n",
        "X_train = # WRITE YOUR CODE HERE\n",
        "y_train = # WRITE YOUR CODE HERE\n",
        "\n",
        "X_valid = # WRITE YOUR CODE HERE\n",
        "y_valid = # WRITE YOUR CODE HERE\n",
        "\n",
        "# Create dataset object\n",
        "train_ds = list(zip(X_train, y_train))\n",
        "valid_ds = list(zip(X_valid, y_valid))\n",
        "\n",
        "# Define the DataLoaders\n",
        "train_dl = # WRITE YOUR CODE HERE\n",
        "valid_dl = # WRITE YOUR CODE HERE\n",
        "\n",
        "dls = # WRITE YOUR CODE HERE"
      ]
    },
    {
      "cell_type": "markdown",
      "metadata": {
        "id": "qJX6-jPjl7qm"
      },
      "source": [
        "###### **Solution**"
      ]
    },
    {
      "cell_type": "code",
      "execution_count": null,
      "metadata": {
        "id": "nPdsRMpfWyED",
        "tags": []
      },
      "outputs": [],
      "source": [
        "# Load the California Housing dataset\n",
        "data = fetch_california_housing()\n",
        "X = data['data']\n",
        "y = data['target']\n",
        "\n",
        "# Split the data into training and validation sets\n",
        "X_train, X_valid, y_train, y_valid = train_test_split(X, y, test_size=0.2, random_state=42)\n",
        "\n",
        "# Convert the numpy arrays to PyTorch tensors with float32 data type\n",
        "X_train = torch.tensor(X_train, dtype=torch.float32)\n",
        "y_train = torch.tensor(y_train, dtype=torch.float32).unsqueeze(1)\n",
        "\n",
        "X_valid = torch.tensor(X_valid, dtype=torch.float32)\n",
        "y_valid = torch.tensor(y_valid, dtype=torch.float32).unsqueeze(1)\n",
        "\n",
        "# Create dataset object\n",
        "train_ds = list(zip(X_train, y_train))\n",
        "valid_ds = list(zip(X_valid, y_valid))\n",
        "\n",
        "# Define the DataLoaders\n",
        "train_dl = DataLoader(train_ds, batch_size=64, shuffle=True)\n",
        "valid_dl = DataLoader(valid_ds, batch_size=64, shuffle=True)\n",
        "\n",
        "dls = DataLoaders(train_dl, valid_dl)"
      ]
    },
    {
      "cell_type": "markdown",
      "metadata": {
        "id": "oHglRNkUnNPo"
      },
      "source": [
        "#### **Step #2: Determine the dimensions of the data**\n",
        "---\n",
        "\n",
        "We will do this in two parts here: determine the overall dimensions and then determine the size of each data point."
      ]
    },
    {
      "cell_type": "markdown",
      "metadata": {
        "id": "QgDkscPcRcMa"
      },
      "source": [
        "##### **1. Overall Dimensions**\n",
        "\n",
        "Run the code provided below to get the shape of this data. The attribute `.shape` provides the number of rows and columns."
      ]
    },
    {
      "cell_type": "code",
      "execution_count": null,
      "metadata": {
        "id": "oeqbWDQBnRFt",
        "tags": [],
        "outputId": "169ea34c-0fbf-4b9d-ab8e-55c6658a837a"
      },
      "outputs": [
        {
          "data": {
            "text/plain": [
              "torch.Size([16512, 8])"
            ]
          },
          "execution_count": 24,
          "metadata": {},
          "output_type": "execute_result"
        }
      ],
      "source": [
        "X_train.shape"
      ]
    },
    {
      "cell_type": "markdown",
      "metadata": {
        "id": "gsHGE7CT9YFq"
      },
      "source": [
        "##### **2. Number of features**\n",
        "\n",
        "\n",
        "To start building the NN, we will only need number of features (columns). Print this number out."
      ]
    },
    {
      "cell_type": "code",
      "execution_count": null,
      "metadata": {
        "id": "ctCJhXxL9YFq"
      },
      "outputs": [],
      "source": []
    },
    {
      "cell_type": "markdown",
      "metadata": {
        "id": "M_Q02XfJ_-97"
      },
      "source": [
        "###### **Solution**"
      ]
    },
    {
      "cell_type": "code",
      "execution_count": null,
      "metadata": {
        "id": "UdcIRCTD_-98",
        "tags": [],
        "outputId": "28f51fbd-f00c-421c-b0ca-55085e1c0980"
      },
      "outputs": [
        {
          "data": {
            "text/plain": [
              "8"
            ]
          },
          "execution_count": 25,
          "metadata": {},
          "output_type": "execute_result"
        }
      ],
      "source": [
        "X_train.shape[1]"
      ]
    },
    {
      "cell_type": "markdown",
      "metadata": {
        "id": "UvmOnG7ynRvZ"
      },
      "source": [
        "#### **Steps #3-6: Build Neural Network**\n",
        "---\n",
        "\n",
        "Create and visualize a new model with three hidden layers.\n",
        "\n",
        "* The input layer should have a number of neurons equal to the number of features.\n",
        "\n",
        "* The first hidden layer should have `16` neurons with ReLU activation.\n",
        "\n",
        "* The second hidden layer should have `8` neurons with ReLU activation.\n",
        "\n",
        "* The output layer should have `1` neuron"
      ]
    },
    {
      "cell_type": "code",
      "execution_count": null,
      "metadata": {
        "id": "rLN6dF5sACnI"
      },
      "outputs": [],
      "source": []
    },
    {
      "cell_type": "markdown",
      "metadata": {
        "id": "OzoyD0HoACnI"
      },
      "source": [
        "##### **Solution**"
      ]
    },
    {
      "cell_type": "code",
      "execution_count": null,
      "metadata": {
        "id": "IBk228tgnT2x",
        "tags": [],
        "outputId": "24327f1d-a228-43c6-8db0-20f94f5b9e3b"
      },
      "outputs": [
        {
          "data": {
            "image/svg+xml": [
              "<?xml version=\"1.0\" encoding=\"UTF-8\" standalone=\"no\"?>\n",
              "<!DOCTYPE svg PUBLIC \"-//W3C//DTD SVG 1.1//EN\"\n",
              " \"http://www.w3.org/Graphics/SVG/1.1/DTD/svg11.dtd\">\n",
              "<!-- Generated by graphviz version 7.1.0 (20230122.1345)\n",
              " -->\n",
              "<!-- Title: model Pages: 1 -->\n",
              "<svg width=\"139pt\" height=\"498pt\"\n",
              " viewBox=\"0.00 0.00 139.00 498.00\" xmlns=\"http://www.w3.org/2000/svg\" xmlns:xlink=\"http://www.w3.org/1999/xlink\">\n",
              "<g id=\"graph0\" class=\"graph\" transform=\"scale(1 1) rotate(0) translate(4 494)\">\n",
              "<title>model</title>\n",
              "<polygon fill=\"white\" stroke=\"none\" points=\"-4,4 -4,-494 135,-494 135,4 -4,4\"/>\n",
              "<!-- 0 -->\n",
              "<g id=\"node1\" class=\"node\">\n",
              "<title>0</title>\n",
              "<polygon fill=\"lightyellow\" stroke=\"none\" points=\"114,-490 17,-490 17,-458 114,-458 114,-490\"/>\n",
              "<polygon fill=\"none\" stroke=\"black\" points=\"17.5,-458 17.5,-490 87.5,-490 87.5,-458 17.5,-458\"/>\n",
              "<text text-anchor=\"start\" x=\"22.5\" y=\"-477\" font-family=\"Linux libertine\" font-size=\"10.00\">input&#45;tensor</text>\n",
              "<text text-anchor=\"start\" x=\"34\" y=\"-466\" font-family=\"Linux libertine\" font-size=\"10.00\">depth:0</text>\n",
              "<polygon fill=\"none\" stroke=\"black\" points=\"87.5,-458 87.5,-490 114.5,-490 114.5,-458 87.5,-458\"/>\n",
              "<text text-anchor=\"start\" x=\"92.5\" y=\"-471.5\" font-family=\"Linux libertine\" font-size=\"10.00\">(8,)</text>\n",
              "</g>\n",
              "<!-- 1 -->\n",
              "<g id=\"node2\" class=\"node\">\n",
              "<title>1</title>\n",
              "<polygon fill=\"#c1ffc1\" stroke=\"none\" points=\"131,-422 0,-422 0,-380 131,-380 131,-422\"/>\n",
              "<polygon fill=\"none\" stroke=\"black\" points=\"0.5,-380 0.5,-422 47.5,-422 47.5,-380 0.5,-380\"/>\n",
              "<text text-anchor=\"start\" x=\"8.5\" y=\"-404\" font-family=\"Linux libertine\" font-size=\"10.00\">Linear</text>\n",
              "<text text-anchor=\"start\" x=\"5.5\" y=\"-393\" font-family=\"Linux libertine\" font-size=\"10.00\">depth:1</text>\n",
              "<polygon fill=\"none\" stroke=\"black\" points=\"47.5,-401 47.5,-422 95.5,-422 95.5,-401 47.5,-401\"/>\n",
              "<text text-anchor=\"start\" x=\"57.5\" y=\"-409\" font-family=\"Linux libertine\" font-size=\"10.00\">input:</text>\n",
              "<polygon fill=\"none\" stroke=\"black\" points=\"95.5,-401 95.5,-422 131.5,-422 131.5,-401 95.5,-401\"/>\n",
              "<text text-anchor=\"start\" x=\"103.5\" y=\"-409\" font-family=\"Linux libertine\" font-size=\"10.00\">(8,) </text>\n",
              "<polygon fill=\"none\" stroke=\"black\" points=\"47.5,-380 47.5,-401 95.5,-401 95.5,-380 47.5,-380\"/>\n",
              "<text text-anchor=\"start\" x=\"52.5\" y=\"-388\" font-family=\"Linux libertine\" font-size=\"10.00\">output: </text>\n",
              "<polygon fill=\"none\" stroke=\"black\" points=\"95.5,-380 95.5,-401 131.5,-401 131.5,-380 95.5,-380\"/>\n",
              "<text text-anchor=\"start\" x=\"100.5\" y=\"-388\" font-family=\"Linux libertine\" font-size=\"10.00\">(16,) </text>\n",
              "</g>\n",
              "<!-- 0&#45;&gt;1 -->\n",
              "<g id=\"edge1\" class=\"edge\">\n",
              "<title>0&#45;&gt;1</title>\n",
              "<path fill=\"none\" stroke=\"black\" d=\"M65.5,-458.29C65.5,-451.03 65.5,-441.98 65.5,-433.27\"/>\n",
              "<polygon fill=\"black\" stroke=\"black\" points=\"69,-433.32 65.5,-423.32 62,-433.32 69,-433.32\"/>\n",
              "</g>\n",
              "<!-- 2 -->\n",
              "<g id=\"node3\" class=\"node\">\n",
              "<title>2</title>\n",
              "<polygon fill=\"#c1ffc1\" stroke=\"none\" points=\"131,-344 0,-344 0,-302 131,-302 131,-344\"/>\n",
              "<polygon fill=\"none\" stroke=\"black\" points=\"0.5,-302 0.5,-344 47.5,-344 47.5,-302 0.5,-302\"/>\n",
              "<text text-anchor=\"start\" x=\"11\" y=\"-326\" font-family=\"Linux libertine\" font-size=\"10.00\">ReLU</text>\n",
              "<text text-anchor=\"start\" x=\"5.5\" y=\"-315\" font-family=\"Linux libertine\" font-size=\"10.00\">depth:1</text>\n",
              "<polygon fill=\"none\" stroke=\"black\" points=\"47.5,-323 47.5,-344 95.5,-344 95.5,-323 47.5,-323\"/>\n",
              "<text text-anchor=\"start\" x=\"57.5\" y=\"-331\" font-family=\"Linux libertine\" font-size=\"10.00\">input:</text>\n",
              "<polygon fill=\"none\" stroke=\"black\" points=\"95.5,-323 95.5,-344 131.5,-344 131.5,-323 95.5,-323\"/>\n",
              "<text text-anchor=\"start\" x=\"100.5\" y=\"-331\" font-family=\"Linux libertine\" font-size=\"10.00\">(16,) </text>\n",
              "<polygon fill=\"none\" stroke=\"black\" points=\"47.5,-302 47.5,-323 95.5,-323 95.5,-302 47.5,-302\"/>\n",
              "<text text-anchor=\"start\" x=\"52.5\" y=\"-310\" font-family=\"Linux libertine\" font-size=\"10.00\">output: </text>\n",
              "<polygon fill=\"none\" stroke=\"black\" points=\"95.5,-302 95.5,-323 131.5,-323 131.5,-302 95.5,-302\"/>\n",
              "<text text-anchor=\"start\" x=\"100.5\" y=\"-310\" font-family=\"Linux libertine\" font-size=\"10.00\">(16,) </text>\n",
              "</g>\n",
              "<!-- 1&#45;&gt;2 -->\n",
              "<g id=\"edge2\" class=\"edge\">\n",
              "<title>1&#45;&gt;2</title>\n",
              "<path fill=\"none\" stroke=\"black\" d=\"M65.5,-380.03C65.5,-372.44 65.5,-363.6 65.5,-355.21\"/>\n",
              "<polygon fill=\"black\" stroke=\"black\" points=\"69,-355.35 65.5,-345.35 62,-355.35 69,-355.35\"/>\n",
              "</g>\n",
              "<!-- 3 -->\n",
              "<g id=\"node4\" class=\"node\">\n",
              "<title>3</title>\n",
              "<polygon fill=\"#c1ffc1\" stroke=\"none\" points=\"131,-266 0,-266 0,-224 131,-224 131,-266\"/>\n",
              "<polygon fill=\"none\" stroke=\"black\" points=\"0.5,-224 0.5,-266 47.5,-266 47.5,-224 0.5,-224\"/>\n",
              "<text text-anchor=\"start\" x=\"8.5\" y=\"-248\" font-family=\"Linux libertine\" font-size=\"10.00\">Linear</text>\n",
              "<text text-anchor=\"start\" x=\"5.5\" y=\"-237\" font-family=\"Linux libertine\" font-size=\"10.00\">depth:1</text>\n",
              "<polygon fill=\"none\" stroke=\"black\" points=\"47.5,-245 47.5,-266 95.5,-266 95.5,-245 47.5,-245\"/>\n",
              "<text text-anchor=\"start\" x=\"57.5\" y=\"-253\" font-family=\"Linux libertine\" font-size=\"10.00\">input:</text>\n",
              "<polygon fill=\"none\" stroke=\"black\" points=\"95.5,-245 95.5,-266 131.5,-266 131.5,-245 95.5,-245\"/>\n",
              "<text text-anchor=\"start\" x=\"100.5\" y=\"-253\" font-family=\"Linux libertine\" font-size=\"10.00\">(16,) </text>\n",
              "<polygon fill=\"none\" stroke=\"black\" points=\"47.5,-224 47.5,-245 95.5,-245 95.5,-224 47.5,-224\"/>\n",
              "<text text-anchor=\"start\" x=\"52.5\" y=\"-232\" font-family=\"Linux libertine\" font-size=\"10.00\">output: </text>\n",
              "<polygon fill=\"none\" stroke=\"black\" points=\"95.5,-224 95.5,-245 131.5,-245 131.5,-224 95.5,-224\"/>\n",
              "<text text-anchor=\"start\" x=\"103.5\" y=\"-232\" font-family=\"Linux libertine\" font-size=\"10.00\">(8,) </text>\n",
              "</g>\n",
              "<!-- 2&#45;&gt;3 -->\n",
              "<g id=\"edge3\" class=\"edge\">\n",
              "<title>2&#45;&gt;3</title>\n",
              "<path fill=\"none\" stroke=\"black\" d=\"M65.5,-302.03C65.5,-294.44 65.5,-285.6 65.5,-277.21\"/>\n",
              "<polygon fill=\"black\" stroke=\"black\" points=\"69,-277.35 65.5,-267.35 62,-277.35 69,-277.35\"/>\n",
              "</g>\n",
              "<!-- 4 -->\n",
              "<g id=\"node5\" class=\"node\">\n",
              "<title>4</title>\n",
              "<polygon fill=\"#c1ffc1\" stroke=\"none\" points=\"128,-188 3,-188 3,-146 128,-146 128,-188\"/>\n",
              "<polygon fill=\"none\" stroke=\"black\" points=\"3.5,-146 3.5,-188 50.5,-188 50.5,-146 3.5,-146\"/>\n",
              "<text text-anchor=\"start\" x=\"14\" y=\"-170\" font-family=\"Linux libertine\" font-size=\"10.00\">ReLU</text>\n",
              "<text text-anchor=\"start\" x=\"8.5\" y=\"-159\" font-family=\"Linux libertine\" font-size=\"10.00\">depth:1</text>\n",
              "<polygon fill=\"none\" stroke=\"black\" points=\"50.5,-167 50.5,-188 98.5,-188 98.5,-167 50.5,-167\"/>\n",
              "<text text-anchor=\"start\" x=\"60.5\" y=\"-175\" font-family=\"Linux libertine\" font-size=\"10.00\">input:</text>\n",
              "<polygon fill=\"none\" stroke=\"black\" points=\"98.5,-167 98.5,-188 128.5,-188 128.5,-167 98.5,-167\"/>\n",
              "<text text-anchor=\"start\" x=\"103.5\" y=\"-175\" font-family=\"Linux libertine\" font-size=\"10.00\">(8,) </text>\n",
              "<polygon fill=\"none\" stroke=\"black\" points=\"50.5,-146 50.5,-167 98.5,-167 98.5,-146 50.5,-146\"/>\n",
              "<text text-anchor=\"start\" x=\"55.5\" y=\"-154\" font-family=\"Linux libertine\" font-size=\"10.00\">output: </text>\n",
              "<polygon fill=\"none\" stroke=\"black\" points=\"98.5,-146 98.5,-167 128.5,-167 128.5,-146 98.5,-146\"/>\n",
              "<text text-anchor=\"start\" x=\"103.5\" y=\"-154\" font-family=\"Linux libertine\" font-size=\"10.00\">(8,) </text>\n",
              "</g>\n",
              "<!-- 3&#45;&gt;4 -->\n",
              "<g id=\"edge4\" class=\"edge\">\n",
              "<title>3&#45;&gt;4</title>\n",
              "<path fill=\"none\" stroke=\"black\" d=\"M65.5,-224.03C65.5,-216.44 65.5,-207.6 65.5,-199.21\"/>\n",
              "<polygon fill=\"black\" stroke=\"black\" points=\"69,-199.35 65.5,-189.35 62,-199.35 69,-199.35\"/>\n",
              "</g>\n",
              "<!-- 5 -->\n",
              "<g id=\"node6\" class=\"node\">\n",
              "<title>5</title>\n",
              "<polygon fill=\"#c1ffc1\" stroke=\"none\" points=\"128,-110 3,-110 3,-68 128,-68 128,-110\"/>\n",
              "<polygon fill=\"none\" stroke=\"black\" points=\"3.5,-68 3.5,-110 50.5,-110 50.5,-68 3.5,-68\"/>\n",
              "<text text-anchor=\"start\" x=\"11.5\" y=\"-92\" font-family=\"Linux libertine\" font-size=\"10.00\">Linear</text>\n",
              "<text text-anchor=\"start\" x=\"8.5\" y=\"-81\" font-family=\"Linux libertine\" font-size=\"10.00\">depth:1</text>\n",
              "<polygon fill=\"none\" stroke=\"black\" points=\"50.5,-89 50.5,-110 98.5,-110 98.5,-89 50.5,-89\"/>\n",
              "<text text-anchor=\"start\" x=\"60.5\" y=\"-97\" font-family=\"Linux libertine\" font-size=\"10.00\">input:</text>\n",
              "<polygon fill=\"none\" stroke=\"black\" points=\"98.5,-89 98.5,-110 128.5,-110 128.5,-89 98.5,-89\"/>\n",
              "<text text-anchor=\"start\" x=\"103.5\" y=\"-97\" font-family=\"Linux libertine\" font-size=\"10.00\">(8,) </text>\n",
              "<polygon fill=\"none\" stroke=\"black\" points=\"50.5,-68 50.5,-89 98.5,-89 98.5,-68 50.5,-68\"/>\n",
              "<text text-anchor=\"start\" x=\"55.5\" y=\"-76\" font-family=\"Linux libertine\" font-size=\"10.00\">output: </text>\n",
              "<polygon fill=\"none\" stroke=\"black\" points=\"98.5,-68 98.5,-89 128.5,-89 128.5,-68 98.5,-68\"/>\n",
              "<text text-anchor=\"start\" x=\"103.5\" y=\"-76\" font-family=\"Linux libertine\" font-size=\"10.00\">(1,) </text>\n",
              "</g>\n",
              "<!-- 4&#45;&gt;5 -->\n",
              "<g id=\"edge5\" class=\"edge\">\n",
              "<title>4&#45;&gt;5</title>\n",
              "<path fill=\"none\" stroke=\"black\" d=\"M65.5,-146.03C65.5,-138.44 65.5,-129.6 65.5,-121.21\"/>\n",
              "<polygon fill=\"black\" stroke=\"black\" points=\"69,-121.35 65.5,-111.35 62,-121.35 69,-121.35\"/>\n",
              "</g>\n",
              "<!-- 6 -->\n",
              "<g id=\"node7\" class=\"node\">\n",
              "<title>6</title>\n",
              "<polygon fill=\"lightyellow\" stroke=\"none\" points=\"117.5,-32 13.5,-32 13.5,0 117.5,0 117.5,-32\"/>\n",
              "<polygon fill=\"none\" stroke=\"black\" points=\"13.5,0 13.5,-32 90.5,-32 90.5,0 13.5,0\"/>\n",
              "<text text-anchor=\"start\" x=\"18.5\" y=\"-19\" font-family=\"Linux libertine\" font-size=\"10.00\">output&#45;tensor</text>\n",
              "<text text-anchor=\"start\" x=\"33.5\" y=\"-8\" font-family=\"Linux libertine\" font-size=\"10.00\">depth:0</text>\n",
              "<polygon fill=\"none\" stroke=\"black\" points=\"90.5,0 90.5,-32 117.5,-32 117.5,0 90.5,0\"/>\n",
              "<text text-anchor=\"start\" x=\"95.5\" y=\"-13.5\" font-family=\"Linux libertine\" font-size=\"10.00\">(1,)</text>\n",
              "</g>\n",
              "<!-- 5&#45;&gt;6 -->\n",
              "<g id=\"edge6\" class=\"edge\">\n",
              "<title>5&#45;&gt;6</title>\n",
              "<path fill=\"none\" stroke=\"black\" d=\"M65.5,-68.22C65.5,-60.5 65.5,-51.54 65.5,-43.29\"/>\n",
              "<polygon fill=\"black\" stroke=\"black\" points=\"69,-43.46 65.5,-33.46 62,-43.46 69,-43.46\"/>\n",
              "</g>\n",
              "</g>\n",
              "</svg>\n"
            ],
            "text/plain": [
              "<graphviz.graphs.Digraph at 0x7f7e94542a00>"
            ]
          },
          "execution_count": 26,
          "metadata": {},
          "output_type": "execute_result"
        }
      ],
      "source": [
        "# Define the neural network architecture\n",
        "model = nn.Sequential(\n",
        "    nn.Linear(8, 16),\n",
        "    nn.ReLU(),\n",
        "    nn.Linear(16, 8),\n",
        "    nn.ReLU(),\n",
        "    nn.Linear(8, 1)\n",
        ")\n",
        "\n",
        "# Visualizing the network\n",
        "model_graph = draw_graph(model, input_size=(8,))\n",
        "model_graph.visual_graph"
      ]
    },
    {
      "cell_type": "markdown",
      "metadata": {
        "id": "QA2fiMlpUsIp"
      },
      "source": [
        "---\n",
        "\n",
        "<center>\n",
        "\n",
        "#### **Wait for Your Instructor to Continue**\n",
        "\n",
        "---"
      ]
    },
    {
      "cell_type": "markdown",
      "metadata": {
        "id": "b2SnceHRnXTf"
      },
      "source": [
        "#### **Step #7: Fit the model**\n",
        "---\n",
        "\n",
        "**Run the code below to perform this step.**\n",
        "\n",
        "<br>\n",
        "\n",
        "In particular, this will:\n",
        "1. Define the loss function. We will use `nn.MSELoss()`.\n",
        "\n",
        "2. Create the `Learner` object. We will use root-mean-squared-error (RMSE) as the metric.\n",
        "\n",
        "3. Fit the model. We will use 10 epochs and a learning rate of `0.001`.\n",
        "\n",
        "\n",
        "<br>\n",
        "\n",
        "**Note:** There are many calculations needed to train a neural network and it may take a few minutes. Please be patient!\n"
      ]
    },
    {
      "cell_type": "code",
      "execution_count": null,
      "metadata": {
        "id": "kNp6D4-gnaH7",
        "tags": [],
        "outputId": "7f0b7b15-fc59-4cc5-c7fa-c7482888eff9"
      },
      "outputs": [
        {
          "data": {
            "text/html": [
              "\n",
              "<style>\n",
              "    /* Turns off some styling */\n",
              "    progress {\n",
              "        /* gets rid of default border in Firefox and Opera. */\n",
              "        border: none;\n",
              "        /* Needs to be in here for Safari polyfill so background images work as expected. */\n",
              "        background-size: auto;\n",
              "    }\n",
              "    progress:not([value]), progress:not([value])::-webkit-progress-bar {\n",
              "        background: repeating-linear-gradient(45deg, #7e7e7e, #7e7e7e 10px, #5c5c5c 10px, #5c5c5c 20px);\n",
              "    }\n",
              "    .progress-bar-interrupted, .progress-bar-interrupted::-webkit-progress-bar {\n",
              "        background: #F44336;\n",
              "    }\n",
              "</style>\n"
            ],
            "text/plain": [
              "<IPython.core.display.HTML object>"
            ]
          },
          "metadata": {},
          "output_type": "display_data"
        },
        {
          "data": {
            "text/html": [
              "<table border=\"1\" class=\"dataframe\">\n",
              "  <thead>\n",
              "    <tr style=\"text-align: left;\">\n",
              "      <th>epoch</th>\n",
              "      <th>train_loss</th>\n",
              "      <th>valid_loss</th>\n",
              "      <th>_rmse</th>\n",
              "      <th>time</th>\n",
              "    </tr>\n",
              "  </thead>\n",
              "  <tbody>\n",
              "    <tr>\n",
              "      <td>0</td>\n",
              "      <td>26.373337</td>\n",
              "      <td>1.474266</td>\n",
              "      <td>1.214194</td>\n",
              "      <td>00:00</td>\n",
              "    </tr>\n",
              "    <tr>\n",
              "      <td>1</td>\n",
              "      <td>1.512594</td>\n",
              "      <td>1.305076</td>\n",
              "      <td>1.142400</td>\n",
              "      <td>00:00</td>\n",
              "    </tr>\n",
              "    <tr>\n",
              "      <td>2</td>\n",
              "      <td>1.264551</td>\n",
              "      <td>1.245630</td>\n",
              "      <td>1.116078</td>\n",
              "      <td>00:00</td>\n",
              "    </tr>\n",
              "    <tr>\n",
              "      <td>3</td>\n",
              "      <td>1.383553</td>\n",
              "      <td>1.292606</td>\n",
              "      <td>1.136928</td>\n",
              "      <td>00:00</td>\n",
              "    </tr>\n",
              "    <tr>\n",
              "      <td>4</td>\n",
              "      <td>1.221448</td>\n",
              "      <td>1.201050</td>\n",
              "      <td>1.095924</td>\n",
              "      <td>00:00</td>\n",
              "    </tr>\n",
              "    <tr>\n",
              "      <td>5</td>\n",
              "      <td>1.155729</td>\n",
              "      <td>1.017995</td>\n",
              "      <td>1.008958</td>\n",
              "      <td>00:00</td>\n",
              "    </tr>\n",
              "    <tr>\n",
              "      <td>6</td>\n",
              "      <td>1.306513</td>\n",
              "      <td>0.968170</td>\n",
              "      <td>0.983956</td>\n",
              "      <td>00:00</td>\n",
              "    </tr>\n",
              "    <tr>\n",
              "      <td>7</td>\n",
              "      <td>0.976915</td>\n",
              "      <td>0.871864</td>\n",
              "      <td>0.933737</td>\n",
              "      <td>00:00</td>\n",
              "    </tr>\n",
              "    <tr>\n",
              "      <td>8</td>\n",
              "      <td>0.829330</td>\n",
              "      <td>0.898080</td>\n",
              "      <td>0.947671</td>\n",
              "      <td>00:00</td>\n",
              "    </tr>\n",
              "    <tr>\n",
              "      <td>9</td>\n",
              "      <td>0.942617</td>\n",
              "      <td>0.789181</td>\n",
              "      <td>0.888359</td>\n",
              "      <td>00:00</td>\n",
              "    </tr>\n",
              "  </tbody>\n",
              "</table>"
            ],
            "text/plain": [
              "<IPython.core.display.HTML object>"
            ]
          },
          "metadata": {},
          "output_type": "display_data"
        }
      ],
      "source": [
        "# Define the loss function\n",
        "loss_func = nn.MSELoss()\n",
        "\n",
        "# Create the Learner object\n",
        "learn = Learner(dls, model, loss_func=loss_func, metrics=[rmse])\n",
        "\n",
        "# Train the model\n",
        "learn.fit(n_epoch=10, lr=0.001)"
      ]
    },
    {
      "cell_type": "markdown",
      "metadata": {
        "id": "hYTaAz_lDcN8"
      },
      "source": [
        "#### **Step #8: Evaluate and test the model**\n",
        "---\n",
        "\n",
        "After training our models, it's always important to get a sense of how well they've learned. So, let's evaluate and test our model! Specifically,\n",
        "\n",
        "1. Evaluate the model on the test set\n",
        "2. Plot the actual vs. predicted values\n"
      ]
    },
    {
      "cell_type": "markdown",
      "metadata": {
        "id": "TVl0f_dTHMKC"
      },
      "source": [
        "##### **1.** Evaluate the model on the test set.\n",
        "\n",
        "**Run the code below to perform this step.**"
      ]
    },
    {
      "cell_type": "code",
      "execution_count": null,
      "metadata": {
        "id": "t2sPJMGTSQ4h",
        "tags": [],
        "outputId": "b4873ccb-916d-495d-fd3b-a544484f6795"
      },
      "outputs": [
        {
          "data": {
            "text/html": [
              "\n",
              "<style>\n",
              "    /* Turns off some styling */\n",
              "    progress {\n",
              "        /* gets rid of default border in Firefox and Opera. */\n",
              "        border: none;\n",
              "        /* Needs to be in here for Safari polyfill so background images work as expected. */\n",
              "        background-size: auto;\n",
              "    }\n",
              "    progress:not([value]), progress:not([value])::-webkit-progress-bar {\n",
              "        background: repeating-linear-gradient(45deg, #7e7e7e, #7e7e7e 10px, #5c5c5c 10px, #5c5c5c 20px);\n",
              "    }\n",
              "    .progress-bar-interrupted, .progress-bar-interrupted::-webkit-progress-bar {\n",
              "        background: #F44336;\n",
              "    }\n",
              "</style>\n"
            ],
            "text/plain": [
              "<IPython.core.display.HTML object>"
            ]
          },
          "metadata": {},
          "output_type": "display_data"
        },
        {
          "data": {
            "text/html": [],
            "text/plain": [
              "<IPython.core.display.HTML object>"
            ]
          },
          "metadata": {},
          "output_type": "display_data"
        },
        {
          "name": "stdout",
          "output_type": "stream",
          "text": [
            "Validation RMSE: 0.8883587121963501\n"
          ]
        }
      ],
      "source": [
        "# Evaluate the model on the validation set\n",
        "valid_preds, valid_targets = learn.get_preds()\n",
        "rmse_score = rmse(valid_preds, valid_targets)\n",
        "print(\"Validation RMSE:\", rmse_score.item())"
      ]
    },
    {
      "cell_type": "markdown",
      "metadata": {
        "id": "p88RfyuGHjt8"
      },
      "source": [
        "##### **2.** Plot the actual vs. predicted value.\n",
        "\n",
        "**Run the code below to perform this step.**"
      ]
    },
    {
      "cell_type": "code",
      "execution_count": null,
      "metadata": {
        "id": "qLO0VIh3HdhS",
        "tags": [],
        "outputId": "9d6768b1-623f-46d9-b456-d7c7ab5985d9"
      },
      "outputs": [
        {
          "data": {
            "image/png": "[encoded data removed]",
            "text/plain": [
              "<Figure size 640x480 with 1 Axes>"
            ]
          },
          "metadata": {},
          "output_type": "display_data"
        }
      ],
      "source": [
        "# Convert the predictions and targets back to numpy arrays\n",
        "valid_preds_np = valid_preds.squeeze().numpy()\n",
        "valid_targets_np = valid_targets.numpy()\n",
        "\n",
        "# Plot actual vs predicted prices\n",
        "plt.scatter(valid_targets_np, valid_preds_np, alpha=0.5)\n",
        "plt.xlabel('Actual Prices')\n",
        "plt.ylabel('Predicted Prices')\n",
        "plt.title('Actual vs Predicted Prices')\n",
        "plt.plot([min(valid_targets_np), max(valid_targets_np)], [min(valid_targets_np), max(valid_targets_np)], 'r--', lw=2)\n",
        "plt.show()"
      ]
    },
    {
      "cell_type": "markdown",
      "metadata": {
        "id": "o0TmnFBqIYaI"
      },
      "source": [
        "<a name=\"p3.2\"></a>\n",
        "\n",
        "---\n",
        "### **Part #3.2: Different Activation Functions**\n",
        "---\n",
        "\n",
        "Now repeat the process above with a neural net of the same shape (number of layers/neurons), but with hidden layer activation function as \"sigmoid\" instead of \"relu\". Part of the challenge here is knowing what to change and what to keep and then fitting it all into the cell below.\n",
        "\n",
        "<br>\n",
        "\n",
        "**NOTE**: This will look like a lot of code, but almost all of it will be identical to what you have done above!"
      ]
    },
    {
      "cell_type": "code",
      "execution_count": null,
      "metadata": {
        "id": "oLymicdRIcH5"
      },
      "outputs": [],
      "source": [
        "# Steps 3 - 6: Building\n",
        "#======================\n",
        "# COMPLETE THE CODE HERE TO BUILD THE NN\n",
        "\n",
        "\n",
        "# Step 7: Fitting\n",
        "#================\n",
        "# COMPLETE THE CODE HERE TO FIT THE NN TO THE TRAINING DATA\n",
        "\n",
        "\n",
        "# Step 8: Evaluating\n",
        "#===================\n",
        "# COMPLETE THE CODE HERE TO EVALUTE AND VISUALIZE THE MODEL"
      ]
    },
    {
      "cell_type": "markdown",
      "metadata": {
        "id": "qdxepkGyIbmP"
      },
      "source": [
        "##### **Solution**"
      ]
    },
    {
      "cell_type": "code",
      "execution_count": null,
      "metadata": {
        "id": "VPPQ_GkDIciz",
        "tags": [],
        "outputId": "e6a6dd92-50db-4eb3-a56a-e243301946a9"
      },
      "outputs": [
        {
          "data": {
            "text/html": [
              "\n",
              "<style>\n",
              "    /* Turns off some styling */\n",
              "    progress {\n",
              "        /* gets rid of default border in Firefox and Opera. */\n",
              "        border: none;\n",
              "        /* Needs to be in here for Safari polyfill so background images work as expected. */\n",
              "        background-size: auto;\n",
              "    }\n",
              "    progress:not([value]), progress:not([value])::-webkit-progress-bar {\n",
              "        background: repeating-linear-gradient(45deg, #7e7e7e, #7e7e7e 10px, #5c5c5c 10px, #5c5c5c 20px);\n",
              "    }\n",
              "    .progress-bar-interrupted, .progress-bar-interrupted::-webkit-progress-bar {\n",
              "        background: #F44336;\n",
              "    }\n",
              "</style>\n"
            ],
            "text/plain": [
              "<IPython.core.display.HTML object>"
            ]
          },
          "metadata": {},
          "output_type": "display_data"
        },
        {
          "data": {
            "text/html": [
              "<table border=\"1\" class=\"dataframe\">\n",
              "  <thead>\n",
              "    <tr style=\"text-align: left;\">\n",
              "      <th>epoch</th>\n",
              "      <th>train_loss</th>\n",
              "      <th>valid_loss</th>\n",
              "      <th>_rmse</th>\n",
              "      <th>time</th>\n",
              "    </tr>\n",
              "  </thead>\n",
              "  <tbody>\n",
              "    <tr>\n",
              "      <td>0</td>\n",
              "      <td>2.009859</td>\n",
              "      <td>1.584471</td>\n",
              "      <td>1.258758</td>\n",
              "      <td>00:00</td>\n",
              "    </tr>\n",
              "    <tr>\n",
              "      <td>1</td>\n",
              "      <td>1.336197</td>\n",
              "      <td>1.311822</td>\n",
              "      <td>1.145348</td>\n",
              "      <td>00:00</td>\n",
              "    </tr>\n",
              "    <tr>\n",
              "      <td>2</td>\n",
              "      <td>1.334165</td>\n",
              "      <td>1.313619</td>\n",
              "      <td>1.146132</td>\n",
              "      <td>00:00</td>\n",
              "    </tr>\n",
              "    <tr>\n",
              "      <td>3</td>\n",
              "      <td>1.332513</td>\n",
              "      <td>1.310777</td>\n",
              "      <td>1.144892</td>\n",
              "      <td>00:00</td>\n",
              "    </tr>\n",
              "    <tr>\n",
              "      <td>4</td>\n",
              "      <td>1.346556</td>\n",
              "      <td>1.311674</td>\n",
              "      <td>1.145284</td>\n",
              "      <td>00:00</td>\n",
              "    </tr>\n",
              "    <tr>\n",
              "      <td>5</td>\n",
              "      <td>1.333884</td>\n",
              "      <td>1.309018</td>\n",
              "      <td>1.144123</td>\n",
              "      <td>00:00</td>\n",
              "    </tr>\n",
              "    <tr>\n",
              "      <td>6</td>\n",
              "      <td>1.301031</td>\n",
              "      <td>1.283299</td>\n",
              "      <td>1.132828</td>\n",
              "      <td>00:00</td>\n",
              "    </tr>\n",
              "    <tr>\n",
              "      <td>7</td>\n",
              "      <td>1.201334</td>\n",
              "      <td>1.179327</td>\n",
              "      <td>1.085968</td>\n",
              "      <td>00:00</td>\n",
              "    </tr>\n",
              "    <tr>\n",
              "      <td>8</td>\n",
              "      <td>1.105544</td>\n",
              "      <td>1.012792</td>\n",
              "      <td>1.006375</td>\n",
              "      <td>00:00</td>\n",
              "    </tr>\n",
              "    <tr>\n",
              "      <td>9</td>\n",
              "      <td>0.892925</td>\n",
              "      <td>0.850283</td>\n",
              "      <td>0.922108</td>\n",
              "      <td>00:00</td>\n",
              "    </tr>\n",
              "  </tbody>\n",
              "</table>"
            ],
            "text/plain": [
              "<IPython.core.display.HTML object>"
            ]
          },
          "metadata": {},
          "output_type": "display_data"
        },
        {
          "data": {
            "text/html": [
              "\n",
              "<style>\n",
              "    /* Turns off some styling */\n",
              "    progress {\n",
              "        /* gets rid of default border in Firefox and Opera. */\n",
              "        border: none;\n",
              "        /* Needs to be in here for Safari polyfill so background images work as expected. */\n",
              "        background-size: auto;\n",
              "    }\n",
              "    progress:not([value]), progress:not([value])::-webkit-progress-bar {\n",
              "        background: repeating-linear-gradient(45deg, #7e7e7e, #7e7e7e 10px, #5c5c5c 10px, #5c5c5c 20px);\n",
              "    }\n",
              "    .progress-bar-interrupted, .progress-bar-interrupted::-webkit-progress-bar {\n",
              "        background: #F44336;\n",
              "    }\n",
              "</style>\n"
            ],
            "text/plain": [
              "<IPython.core.display.HTML object>"
            ]
          },
          "metadata": {},
          "output_type": "display_data"
        },
        {
          "data": {
            "text/html": [],
            "text/plain": [
              "<IPython.core.display.HTML object>"
            ]
          },
          "metadata": {},
          "output_type": "display_data"
        },
        {
          "name": "stdout",
          "output_type": "stream",
          "text": [
            "Validation RMSE: 0.9221082329750061\n"
          ]
        },
        {
          "data": {
            "image/png": "[encoded data removed]",
            "text/plain": [
              "<Figure size 640x480 with 1 Axes>"
            ]
          },
          "metadata": {},
          "output_type": "display_data"
        }
      ],
      "source": [
        "# Steps 3 - 6: Building\n",
        "#======================\n",
        "# Define the neural network architecture\n",
        "model = nn.Sequential(\n",
        "    nn.Linear(8, 16),\n",
        "    nn.Sigmoid(),\n",
        "    nn.Linear(16, 8),\n",
        "    nn.Sigmoid(),\n",
        "    nn.Linear(8, 1)\n",
        ")\n",
        "\n",
        "\n",
        "\n",
        "# Step 7: Fitting\n",
        "#================\n",
        "# Define the loss function\n",
        "loss_func = nn.MSELoss()\n",
        "\n",
        "# Create the Learner object\n",
        "learn = Learner(dls, model, loss_func=loss_func, metrics=[rmse])\n",
        "\n",
        "# Train the model\n",
        "learn.fit(n_epoch=10, lr=0.001)\n",
        "\n",
        "\n",
        "\n",
        "# Step 8: Evaluating\n",
        "#===================\n",
        "# Evaluate the model on the validation set\n",
        "valid_preds, valid_targets = learn.get_preds()\n",
        "rmse_score = rmse(valid_preds, valid_targets)\n",
        "print(\"Validation RMSE:\", rmse_score.item())\n",
        "\n",
        "# Convert the predictions and targets back to numpy arrays\n",
        "valid_preds_np = valid_preds.squeeze().numpy()\n",
        "valid_targets_np = valid_targets.numpy()\n",
        "\n",
        "# Plot actual vs predicted prices\n",
        "plt.scatter(valid_targets_np, valid_preds_np, alpha=0.5)\n",
        "plt.xlabel('Actual Prices')\n",
        "plt.ylabel('Predicted Prices')\n",
        "plt.title('Actual vs Predicted Prices')\n",
        "plt.plot([min(valid_targets_np), max(valid_targets_np)], [min(valid_targets_np), max(valid_targets_np)], 'r--', lw=2)\n",
        "plt.show()"
      ]
    },
    {
      "cell_type": "markdown",
      "metadata": {
        "id": "eZRs0NaZsNWX"
      },
      "source": [
        "<a name=\"p4\"></a>\n",
        "\n",
        "---\n",
        "## **Part #4: Independent Work**\n",
        "---"
      ]
    },
    {
      "cell_type": "markdown",
      "metadata": {
        "id": "HwWds60H1cLl"
      },
      "source": [
        "\n",
        "In this section, you will build and fit a NN model to the another dataset `winequality-red.csv`. This dataset rates the quality of red variants of the Portuguese \"Vinho Verde\" wine according to a variety of chemical properties.\n",
        "\n",
        "In particular, these are the available features:\n",
        "1. fixed acidity\n",
        "2. volatile acidity\n",
        "3. citric acid\n",
        "4. residual sugar\n",
        "5. chlorides\n",
        "6. free sulfur dioxide\n",
        "7. total sulfur dioxide\n",
        "8. density\n",
        "9. pH\n",
        "10. sulphates\n",
        "11. alcohol\n",
        "\n",
        "**You will use deep learning for regression to predict this variable**:\n",
        "12. quality (continuous score between 0 and 10)"
      ]
    },
    {
      "cell_type": "markdown",
      "metadata": {
        "id": "MBFmYwD9pTpG"
      },
      "source": [
        "#### **Problem #1: Load the dataset and split into training and test**\n",
        "---"
      ]
    },
    {
      "cell_type": "code",
      "execution_count": null,
      "metadata": {
        "id": "FFBviF8uxUWs"
      },
      "outputs": [],
      "source": [
        "# Load the dataset\n",
        "url = \"https://docs.google.com/spreadsheets/d/e/2PACX-1vSXznmcXoHsnmcRgMl-4UQK_O0xsjHOgknGTzZGWwUP6vHffTYJ2-_QNtwmJCbELi8in3msD3dVFTzF/pub?gid=456238604&single=true&output=csv\"\n",
        "df = pd.read_csv(url)\n",
        "\n",
        "# Split the dataset into features and target\n",
        "X = df# COMPLETE THIS LINE\n",
        "y = df# COMPLETE THIS LINE\n",
        "\n",
        "# Split the data into training and test sets\n",
        "from sklearn.model_selection import train_test_split\n",
        "x_train, x_test, y_train, y_test = # COMPLETE THIS LINE TO SPLIT THE DATA"
      ]
    },
    {
      "cell_type": "markdown",
      "metadata": {
        "id": "qMlJjYqghtj0"
      },
      "source": [
        "##### **Solution**"
      ]
    },
    {
      "cell_type": "code",
      "execution_count": null,
      "metadata": {
        "id": "6YuM-iSpkl-a",
        "tags": []
      },
      "outputs": [],
      "source": [
        "# Load the dataset\n",
        "url = \"https://docs.google.com/spreadsheets/d/e/2PACX-1vSXznmcXoHsnmcRgMl-4UQK_O0xsjHOgknGTzZGWwUP6vHffTYJ2-_QNtwmJCbELi8in3msD3dVFTzF/pub?gid=456238604&single=true&output=csv\"\n",
        "df = pd.read_csv(url)\n",
        "\n",
        "# Prepare the input features and target variable\n",
        "X = df.drop(columns=[\"quality\"]).values\n",
        "y = df[\"quality\"].values\n",
        "\n",
        "# Split the data into training and validation sets\n",
        "X_train, X_valid, y_train, y_valid = train_test_split(X, y, test_size=0.2, random_state=42)"
      ]
    },
    {
      "cell_type": "markdown",
      "metadata": {
        "id": "kgDM8bjMpifV"
      },
      "source": [
        "**Run the code provided below to scale the data, convert to PyTorch, and define DataLoaders.**"
      ]
    },
    {
      "cell_type": "code",
      "execution_count": null,
      "metadata": {
        "id": "pzIc5MeBxzVG",
        "tags": []
      },
      "outputs": [],
      "source": [
        "# Standardize the input features\n",
        "from sklearn.preprocessing import StandardScaler\n",
        "\n",
        "scaler = StandardScaler()\n",
        "X_train = scaler.fit_transform(X_train)\n",
        "X_valid = scaler.transform(X_valid)\n",
        "\n",
        "# This is another method to convert to tensors using Python's map function\n",
        "X_train, y_train = map(lambda x: torch.tensor(x, dtype=torch.float32), (X_train, y_train))\n",
        "X_valid, y_valid = map(lambda x: torch.tensor(x, dtype=torch.float32), (X_valid, y_valid))\n",
        "\n",
        "# Define the DataLoaders\n",
        "train_dl = DataLoader(list(zip(X_train, y_train.unsqueeze(1))), batch_size=64, shuffle=True)\n",
        "valid_dl = DataLoader(list(zip(X_valid, y_valid.unsqueeze(1))), batch_size=64)\n",
        "dls = DataLoaders(train_dl, valid_dl)"
      ]
    },
    {
      "cell_type": "markdown",
      "metadata": {
        "id": "8Te9HoZUkiik"
      },
      "source": [
        "#### **Problem #2: Determine the dimensions of the data**\n",
        "---\n",
        "\n",
        "Look at the shape of the data to determine the number of input neurons needed."
      ]
    },
    {
      "cell_type": "code",
      "execution_count": null,
      "metadata": {
        "id": "JpPZsjOhksZd"
      },
      "outputs": [],
      "source": []
    },
    {
      "cell_type": "markdown",
      "metadata": {
        "id": "5gaKV1ikktZn"
      },
      "source": [
        "##### **Solution**"
      ]
    },
    {
      "cell_type": "code",
      "execution_count": null,
      "metadata": {
        "id": "gu6naW3HktxH",
        "tags": [],
        "outputId": "b87e4f4e-b30b-47a0-dffd-37aced2129c5"
      },
      "outputs": [
        {
          "data": {
            "text/plain": [
              "11"
            ]
          },
          "execution_count": 33,
          "metadata": {},
          "output_type": "execute_result"
        }
      ],
      "source": [
        "X_train.shape[1]"
      ]
    },
    {
      "cell_type": "markdown",
      "metadata": {
        "id": "d2BSn7q4poaT"
      },
      "source": [
        "#### **Problem #3: Build the model**\n",
        "---\n",
        "\n",
        "Build a NN such that it has:\n",
        "* The correct number of input neurons.\n",
        "* Two hidden layers of size 16 with an appropriately picked activation function.\n",
        "* One output neuron that has an appropriately picked activation function.\n",
        "\n",
        "<br>\n",
        "\n",
        "**Hint:** We will treat this as a regression problem, so you can refer to the work we did on the California Housing dataset."
      ]
    },
    {
      "cell_type": "code",
      "execution_count": null,
      "metadata": {
        "id": "Ju6ZGWkUx8Uq"
      },
      "outputs": [],
      "source": [
        "# Define the neural network architecture\n"
      ]
    },
    {
      "cell_type": "markdown",
      "metadata": {
        "id": "ozcGwHpriBYo"
      },
      "source": [
        "##### **Solution**"
      ]
    },
    {
      "cell_type": "code",
      "execution_count": null,
      "metadata": {
        "id": "jeJV5WNch6XE",
        "tags": []
      },
      "outputs": [],
      "source": [
        "# Define the neural network architecture\n",
        "model = nn.Sequential(\n",
        "    nn.Linear(11, 32),\n",
        "    nn.ReLU(),\n",
        "    nn.Linear(32, 16),\n",
        "    nn.ReLU(),\n",
        "    nn.Linear(16, 1)\n",
        ")"
      ]
    },
    {
      "cell_type": "markdown",
      "metadata": {
        "id": "r2waalaIpxBz"
      },
      "source": [
        "#### **Problem #4: Fit the model**\n",
        "---\n",
        "\n",
        "1. Define the loss functio using `nn.MSELoss()`.\n",
        "\n",
        "2. Create the `Learner` object. We will use root-mean-squared-error (RMSE) as the metric.\n",
        "\n",
        "3. Fit the model. We will use 10 epochs and a learning rate of `0.001`.\n",
        "\n",
        "\n",
        "**NOTE**: Consider trying different values for these parameters (learning rate and number of epochs) to start getting a feel for the role they play."
      ]
    },
    {
      "cell_type": "code",
      "execution_count": null,
      "metadata": {
        "id": "B-GA895WyCr2"
      },
      "outputs": [],
      "source": [
        "# Define the loss function\n",
        "\n",
        "# Create the Learner object\n",
        "\n",
        "# Train the model\n"
      ]
    },
    {
      "cell_type": "markdown",
      "metadata": {
        "id": "LkXLpYMuiCZL"
      },
      "source": [
        "##### **Solution**"
      ]
    },
    {
      "cell_type": "code",
      "execution_count": null,
      "metadata": {
        "id": "VhjPb748nQEL",
        "tags": [],
        "outputId": "0a507362-4c8f-4cf5-a3df-c3bd992232a4"
      },
      "outputs": [
        {
          "data": {
            "text/html": [
              "\n",
              "<style>\n",
              "    /* Turns off some styling */\n",
              "    progress {\n",
              "        /* gets rid of default border in Firefox and Opera. */\n",
              "        border: none;\n",
              "        /* Needs to be in here for Safari polyfill so background images work as expected. */\n",
              "        background-size: auto;\n",
              "    }\n",
              "    progress:not([value]), progress:not([value])::-webkit-progress-bar {\n",
              "        background: repeating-linear-gradient(45deg, #7e7e7e, #7e7e7e 10px, #5c5c5c 10px, #5c5c5c 20px);\n",
              "    }\n",
              "    .progress-bar-interrupted, .progress-bar-interrupted::-webkit-progress-bar {\n",
              "        background: #F44336;\n",
              "    }\n",
              "</style>\n"
            ],
            "text/plain": [
              "<IPython.core.display.HTML object>"
            ]
          },
          "metadata": {},
          "output_type": "display_data"
        },
        {
          "data": {
            "text/html": [
              "<table border=\"1\" class=\"dataframe\">\n",
              "  <thead>\n",
              "    <tr style=\"text-align: left;\">\n",
              "      <th>epoch</th>\n",
              "      <th>train_loss</th>\n",
              "      <th>valid_loss</th>\n",
              "      <th>_rmse</th>\n",
              "      <th>time</th>\n",
              "    </tr>\n",
              "  </thead>\n",
              "  <tbody>\n",
              "    <tr>\n",
              "      <td>0</td>\n",
              "      <td>20.145077</td>\n",
              "      <td>18.411058</td>\n",
              "      <td>4.290811</td>\n",
              "      <td>00:00</td>\n",
              "    </tr>\n",
              "    <tr>\n",
              "      <td>1</td>\n",
              "      <td>19.154020</td>\n",
              "      <td>16.640669</td>\n",
              "      <td>4.079298</td>\n",
              "      <td>00:00</td>\n",
              "    </tr>\n",
              "    <tr>\n",
              "      <td>2</td>\n",
              "      <td>17.973965</td>\n",
              "      <td>14.427365</td>\n",
              "      <td>3.798337</td>\n",
              "      <td>00:00</td>\n",
              "    </tr>\n",
              "    <tr>\n",
              "      <td>3</td>\n",
              "      <td>16.333134</td>\n",
              "      <td>11.656163</td>\n",
              "      <td>3.414112</td>\n",
              "      <td>00:00</td>\n",
              "    </tr>\n",
              "    <tr>\n",
              "      <td>4</td>\n",
              "      <td>14.431253</td>\n",
              "      <td>8.627155</td>\n",
              "      <td>2.937202</td>\n",
              "      <td>00:00</td>\n",
              "    </tr>\n",
              "    <tr>\n",
              "      <td>5</td>\n",
              "      <td>12.274407</td>\n",
              "      <td>5.868725</td>\n",
              "      <td>2.422545</td>\n",
              "      <td>00:00</td>\n",
              "    </tr>\n",
              "    <tr>\n",
              "      <td>6</td>\n",
              "      <td>10.114082</td>\n",
              "      <td>4.013583</td>\n",
              "      <td>2.003393</td>\n",
              "      <td>00:00</td>\n",
              "    </tr>\n",
              "    <tr>\n",
              "      <td>7</td>\n",
              "      <td>8.184569</td>\n",
              "      <td>3.145138</td>\n",
              "      <td>1.773454</td>\n",
              "      <td>00:00</td>\n",
              "    </tr>\n",
              "    <tr>\n",
              "      <td>8</td>\n",
              "      <td>6.637846</td>\n",
              "      <td>2.835221</td>\n",
              "      <td>1.683811</td>\n",
              "      <td>00:00</td>\n",
              "    </tr>\n",
              "    <tr>\n",
              "      <td>9</td>\n",
              "      <td>5.507145</td>\n",
              "      <td>2.714986</td>\n",
              "      <td>1.647722</td>\n",
              "      <td>00:00</td>\n",
              "    </tr>\n",
              "  </tbody>\n",
              "</table>"
            ],
            "text/plain": [
              "<IPython.core.display.HTML object>"
            ]
          },
          "metadata": {},
          "output_type": "display_data"
        }
      ],
      "source": [
        "# Define the loss function\n",
        "loss_func = nn.MSELoss()\n",
        "\n",
        "# Create the Learner object\n",
        "learn = Learner(dls, model, loss_func=loss_func, metrics=[rmse])\n",
        "\n",
        "# Train the model\n",
        "learn.fit(n_epoch=10, lr=0.001)"
      ]
    },
    {
      "cell_type": "markdown",
      "metadata": {
        "id": "FarDmcjsqTX8"
      },
      "source": [
        "#### **Problem #5: Evaluate and visualize the model**\n",
        "---\n",
        "\n",
        "Using the same approach as in the previous problems, evaluate this model and visualize its predictions versus the actual values in the test data."
      ]
    },
    {
      "cell_type": "code",
      "execution_count": null,
      "metadata": {
        "id": "jrxgAIiivc5t"
      },
      "outputs": [],
      "source": [
        "# Evaluate the model on the validation set\n",
        "valid_preds, valid_targets = # FILL IN CODE HERE\n",
        "rmse_score = rmse(valid_preds, valid_targets)\n",
        "print(\"Validation RMSE:\", rmse_score.item())\n",
        "\n",
        "# Convert the predictions and targets back to numpy arrays\n",
        "valid_preds_np = valid_preds.squeeze().numpy()\n",
        "valid_targets_np = valid_targets.numpy()\n",
        "\n",
        "# Plot actual vs predicted prices\n",
        "plt.scatter(#FILL IN INPUTS HERE, alpha=0.5)\n",
        "plt.xlabel('Actual Prices')\n",
        "plt.ylabel('Predicted Prices')\n",
        "plt.title('Actual vs Predicted Prices')\n",
        "plt.plot([min(valid_targets_np), max(valid_targets_np)], [min(valid_targets_np), max(valid_targets_np)], 'r--', lw=2)\n",
        "plt.show()"
      ]
    },
    {
      "cell_type": "markdown",
      "metadata": {
        "id": "4JlW1ElBiDy_"
      },
      "source": [
        "##### **Solution**"
      ]
    },
    {
      "cell_type": "code",
      "execution_count": null,
      "metadata": {
        "id": "pNKny6vxqS-C",
        "tags": [],
        "outputId": "c3c74c90-9c78-466c-8617-cc1e5f149690"
      },
      "outputs": [
        {
          "data": {
            "text/html": [
              "\n",
              "<style>\n",
              "    /* Turns off some styling */\n",
              "    progress {\n",
              "        /* gets rid of default border in Firefox and Opera. */\n",
              "        border: none;\n",
              "        /* Needs to be in here for Safari polyfill so background images work as expected. */\n",
              "        background-size: auto;\n",
              "    }\n",
              "    progress:not([value]), progress:not([value])::-webkit-progress-bar {\n",
              "        background: repeating-linear-gradient(45deg, #7e7e7e, #7e7e7e 10px, #5c5c5c 10px, #5c5c5c 20px);\n",
              "    }\n",
              "    .progress-bar-interrupted, .progress-bar-interrupted::-webkit-progress-bar {\n",
              "        background: #F44336;\n",
              "    }\n",
              "</style>\n"
            ],
            "text/plain": [
              "<IPython.core.display.HTML object>"
            ]
          },
          "metadata": {},
          "output_type": "display_data"
        },
        {
          "data": {
            "text/html": [],
            "text/plain": [
              "<IPython.core.display.HTML object>"
            ]
          },
          "metadata": {},
          "output_type": "display_data"
        },
        {
          "name": "stdout",
          "output_type": "stream",
          "text": [
            "Validation RMSE: 1.6477216482162476\n"
          ]
        },
        {
          "data": {
            "image/png": "[encoded data removed]",
            "text/plain": [
              "<Figure size 640x480 with 1 Axes>"
            ]
          },
          "metadata": {},
          "output_type": "display_data"
        }
      ],
      "source": [
        "# Evaluate the model on the validation set\n",
        "valid_preds, valid_targets = learn.get_preds()\n",
        "rmse_score = rmse(valid_preds, valid_targets)\n",
        "print(\"Validation RMSE:\", rmse_score.item())\n",
        "\n",
        "# Convert the predictions and targets back to numpy arrays\n",
        "valid_preds_np = valid_preds.squeeze().numpy()\n",
        "valid_targets_np = valid_targets.numpy()\n",
        "\n",
        "# Plot actual vs predicted prices\n",
        "plt.scatter(valid_targets_np, valid_preds_np, alpha=0.5)\n",
        "plt.xlabel('Actual Prices')\n",
        "plt.ylabel('Predicted Prices')\n",
        "plt.title('Actual vs Predicted Prices')\n",
        "plt.plot([min(valid_targets_np), max(valid_targets_np)], [min(valid_targets_np), max(valid_targets_np)], 'r--', lw=2)\n",
        "plt.show()"
      ]
    },
    {
      "cell_type": "markdown",
      "metadata": {
        "id": "a_J7TGOlvPBG"
      },
      "source": [
        "#### **Problem #6: Visualize the loss after each epoch**\n",
        "---\n",
        "\n",
        "**Run the code provided below to visualize the loss after each epoch.**\n",
        "\n",
        "\n",
        "Some questions to consider:\n",
        "* Does the loss tend to increase or decrease?\n",
        "* Should we have let the model train for more epochs?\n",
        "* Could we have gotten away with fewer epochs?\n"
      ]
    },
    {
      "cell_type": "code",
      "execution_count": null,
      "metadata": {
        "id": "kZGyXuG5v3Hu",
        "tags": [],
        "outputId": "4969f35b-992b-4053-b58d-7f08a979201c"
      },
      "outputs": [
        {
          "data": {
            "image/png": "[encoded data removed]",
            "text/plain": [
              "<Figure size 640x480 with 1 Axes>"
            ]
          },
          "metadata": {},
          "output_type": "display_data"
        }
      ],
      "source": [
        "learn.recorder.plot_loss()"
      ]
    },
    {
      "cell_type": "code",
      "execution_count": null,
      "metadata": {
        "id": "SglmuKN6Ck7P"
      },
      "outputs": [],
      "source": [
        "\"\"\"\n",
        "\n",
        "# ANSWER THE REFLECTION QUESTIONS HERE\n",
        "\n",
        "\"\"\";"
      ]
    },
    {
      "cell_type": "markdown",
      "metadata": {
        "id": "-SLhTj8HCgUk"
      },
      "source": [
        "<a name=\"p5\"></a>\n",
        "\n",
        "---\n",
        "## **Part #5: [ADDITIONAL PRACTICE] Building Neural Networks**\n",
        "---\n",
        "\n",
        "\n",
        "\n"
      ]
    },
    {
      "cell_type": "markdown",
      "metadata": {
        "id": "7Gj8dA_XCgUy"
      },
      "source": [
        "#### **Problem #5.1:**\n",
        "\n",
        "Create and visualize a new model with 2 hidden layers.\n",
        "\n",
        "* The input layer should have `4` neurons\n",
        "\n",
        "* The first hidden layer should have `6` neurons with activation function: `\"tanh\"`\n",
        "\n",
        "* The second hidden layer should have `5` neurons with activation function: `\"relu\"`\n",
        "\n",
        "* The output layer should have `3` neurons with activation function: `\"sigmoid\"`"
      ]
    },
    {
      "cell_type": "code",
      "execution_count": null,
      "metadata": {
        "id": "d60ACz_BCgUy"
      },
      "outputs": [],
      "source": []
    },
    {
      "cell_type": "markdown",
      "metadata": {
        "id": "woD8rqyTCgUy"
      },
      "source": [
        "##### **Solution**"
      ]
    },
    {
      "cell_type": "code",
      "source": [
        "model = nn.Sequential(\n",
        "    nn.Linear(4, 6),\n",
        "    nn.Tanh(),\n",
        "    nn.Linear(6, 5),\n",
        "    nn.ReLU(),\n",
        "    nn.Linear(5, 3),\n",
        "    nn.Sigmoid(),\n",
        ")\n",
        "\n",
        "# Visualizing the network\n",
        "model_graph = draw_graph(model, input_size=(4,))\n",
        "model_graph.visual_graph"
      ],
      "metadata": {
        "id": "14kuGyv8DVk2"
      },
      "execution_count": null,
      "outputs": []
    },
    {
      "cell_type": "markdown",
      "metadata": {
        "id": "r02HhDt5CgUy"
      },
      "source": [
        "#### **Problem #5.2:**\n",
        "\n",
        "Create and visualize a new model with three hidden layers.\n",
        "\n",
        "* The input layer should have `12` neurons\n",
        "\n",
        "* The first hidden layer should have `4` neurons with sigmoid activation.\n",
        "\n",
        "* The second hidden layer should have `8` neurons with ReLU activation function.\n",
        "\n",
        "* The third hidden layer should have `2` neurons with no activation.\n",
        "\n",
        "* The output layer should have `1` neurons."
      ]
    },
    {
      "cell_type": "code",
      "execution_count": null,
      "metadata": {
        "id": "SeIB6lb2CgUy"
      },
      "outputs": [],
      "source": []
    },
    {
      "cell_type": "markdown",
      "metadata": {
        "id": "MvpkdZd2CgUy"
      },
      "source": [
        "###### **Solution**"
      ]
    },
    {
      "cell_type": "code",
      "execution_count": null,
      "metadata": {
        "tags": [],
        "outputId": "f4af4ef7-2dad-4496-81a7-523a7be761ba",
        "id": "LZEU6FLuCgUy"
      },
      "outputs": [
        {
          "data": {
            "image/svg+xml": [
              "<?xml version=\"1.0\" encoding=\"UTF-8\" standalone=\"no\"?>\n",
              "<!DOCTYPE svg PUBLIC \"-//W3C//DTD SVG 1.1//EN\"\n",
              " \"http://www.w3.org/Graphics/SVG/1.1/DTD/svg11.dtd\">\n",
              "<!-- Generated by graphviz version 7.1.0 (20230122.1345)\n",
              " -->\n",
              "<!-- Title: model Pages: 1 -->\n",
              "<svg width=\"139pt\" height=\"654pt\"\n",
              " viewBox=\"0.00 0.00 139.00 654.00\" xmlns=\"http://www.w3.org/2000/svg\" xmlns:xlink=\"http://www.w3.org/1999/xlink\">\n",
              "<g id=\"graph0\" class=\"graph\" transform=\"scale(1 1) rotate(0) translate(4 650)\">\n",
              "<title>model</title>\n",
              "<polygon fill=\"white\" stroke=\"none\" points=\"-4,4 -4,-650 135,-650 135,4 -4,4\"/>\n",
              "<!-- 0 -->\n",
              "<g id=\"node1\" class=\"node\">\n",
              "<title>0</title>\n",
              "<polygon fill=\"lightyellow\" stroke=\"none\" points=\"117,-646 14,-646 14,-614 117,-614 117,-646\"/>\n",
              "<polygon fill=\"none\" stroke=\"black\" points=\"14.5,-614 14.5,-646 84.5,-646 84.5,-614 14.5,-614\"/>\n",
              "<text text-anchor=\"start\" x=\"19.5\" y=\"-633\" font-family=\"Linux libertine\" font-size=\"10.00\">input&#45;tensor</text>\n",
              "<text text-anchor=\"start\" x=\"31\" y=\"-622\" font-family=\"Linux libertine\" font-size=\"10.00\">depth:0</text>\n",
              "<polygon fill=\"none\" stroke=\"black\" points=\"84.5,-614 84.5,-646 117.5,-646 117.5,-614 84.5,-614\"/>\n",
              "<text text-anchor=\"start\" x=\"89.5\" y=\"-627.5\" font-family=\"Linux libertine\" font-size=\"10.00\">(15,)</text>\n",
              "</g>\n",
              "<!-- 1 -->\n",
              "<g id=\"node2\" class=\"node\">\n",
              "<title>1</title>\n",
              "<polygon fill=\"#c1ffc1\" stroke=\"none\" points=\"131,-578 0,-578 0,-536 131,-536 131,-578\"/>\n",
              "<polygon fill=\"none\" stroke=\"black\" points=\"0.5,-536 0.5,-578 47.5,-578 47.5,-536 0.5,-536\"/>\n",
              "<text text-anchor=\"start\" x=\"8.5\" y=\"-560\" font-family=\"Linux libertine\" font-size=\"10.00\">Linear</text>\n",
              "<text text-anchor=\"start\" x=\"5.5\" y=\"-549\" font-family=\"Linux libertine\" font-size=\"10.00\">depth:1</text>\n",
              "<polygon fill=\"none\" stroke=\"black\" points=\"47.5,-557 47.5,-578 95.5,-578 95.5,-557 47.5,-557\"/>\n",
              "<text text-anchor=\"start\" x=\"57.5\" y=\"-565\" font-family=\"Linux libertine\" font-size=\"10.00\">input:</text>\n",
              "<polygon fill=\"none\" stroke=\"black\" points=\"95.5,-557 95.5,-578 131.5,-578 131.5,-557 95.5,-557\"/>\n",
              "<text text-anchor=\"start\" x=\"100.5\" y=\"-565\" font-family=\"Linux libertine\" font-size=\"10.00\">(15,) </text>\n",
              "<polygon fill=\"none\" stroke=\"black\" points=\"47.5,-536 47.5,-557 95.5,-557 95.5,-536 47.5,-536\"/>\n",
              "<text text-anchor=\"start\" x=\"52.5\" y=\"-544\" font-family=\"Linux libertine\" font-size=\"10.00\">output: </text>\n",
              "<polygon fill=\"none\" stroke=\"black\" points=\"95.5,-536 95.5,-557 131.5,-557 131.5,-536 95.5,-536\"/>\n",
              "<text text-anchor=\"start\" x=\"103.5\" y=\"-544\" font-family=\"Linux libertine\" font-size=\"10.00\">(8,) </text>\n",
              "</g>\n",
              "<!-- 0&#45;&gt;1 -->\n",
              "<g id=\"edge1\" class=\"edge\">\n",
              "<title>0&#45;&gt;1</title>\n",
              "<path fill=\"none\" stroke=\"black\" d=\"M65.5,-614.29C65.5,-607.03 65.5,-597.98 65.5,-589.27\"/>\n",
              "<polygon fill=\"black\" stroke=\"black\" points=\"69,-589.32 65.5,-579.32 62,-589.32 69,-589.32\"/>\n",
              "</g>\n",
              "<!-- 2 -->\n",
              "<g id=\"node3\" class=\"node\">\n",
              "<title>2</title>\n",
              "<polygon fill=\"#c1ffc1\" stroke=\"none\" points=\"129.5,-500 1.5,-500 1.5,-458 129.5,-458 129.5,-500\"/>\n",
              "<polygon fill=\"none\" stroke=\"black\" points=\"1.5,-458 1.5,-500 51.5,-500 51.5,-458 1.5,-458\"/>\n",
              "<text text-anchor=\"start\" x=\"6.5\" y=\"-482\" font-family=\"Linux libertine\" font-size=\"10.00\">Sigmoid</text>\n",
              "<text text-anchor=\"start\" x=\"8\" y=\"-471\" font-family=\"Linux libertine\" font-size=\"10.00\">depth:1</text>\n",
              "<polygon fill=\"none\" stroke=\"black\" points=\"51.5,-479 51.5,-500 99.5,-500 99.5,-479 51.5,-479\"/>\n",
              "<text text-anchor=\"start\" x=\"61.5\" y=\"-487\" font-family=\"Linux libertine\" font-size=\"10.00\">input:</text>\n",
              "<polygon fill=\"none\" stroke=\"black\" points=\"99.5,-479 99.5,-500 129.5,-500 129.5,-479 99.5,-479\"/>\n",
              "<text text-anchor=\"start\" x=\"104.5\" y=\"-487\" font-family=\"Linux libertine\" font-size=\"10.00\">(8,) </text>\n",
              "<polygon fill=\"none\" stroke=\"black\" points=\"51.5,-458 51.5,-479 99.5,-479 99.5,-458 51.5,-458\"/>\n",
              "<text text-anchor=\"start\" x=\"56.5\" y=\"-466\" font-family=\"Linux libertine\" font-size=\"10.00\">output: </text>\n",
              "<polygon fill=\"none\" stroke=\"black\" points=\"99.5,-458 99.5,-479 129.5,-479 129.5,-458 99.5,-458\"/>\n",
              "<text text-anchor=\"start\" x=\"104.5\" y=\"-466\" font-family=\"Linux libertine\" font-size=\"10.00\">(8,) </text>\n",
              "</g>\n",
              "<!-- 1&#45;&gt;2 -->\n",
              "<g id=\"edge2\" class=\"edge\">\n",
              "<title>1&#45;&gt;2</title>\n",
              "<path fill=\"none\" stroke=\"black\" d=\"M65.5,-536.03C65.5,-528.44 65.5,-519.6 65.5,-511.21\"/>\n",
              "<polygon fill=\"black\" stroke=\"black\" points=\"69,-511.35 65.5,-501.35 62,-511.35 69,-511.35\"/>\n",
              "</g>\n",
              "<!-- 3 -->\n",
              "<g id=\"node4\" class=\"node\">\n",
              "<title>3</title>\n",
              "<polygon fill=\"#c1ffc1\" stroke=\"none\" points=\"128,-422 3,-422 3,-380 128,-380 128,-422\"/>\n",
              "<polygon fill=\"none\" stroke=\"black\" points=\"3.5,-380 3.5,-422 50.5,-422 50.5,-380 3.5,-380\"/>\n",
              "<text text-anchor=\"start\" x=\"11.5\" y=\"-404\" font-family=\"Linux libertine\" font-size=\"10.00\">Linear</text>\n",
              "<text text-anchor=\"start\" x=\"8.5\" y=\"-393\" font-family=\"Linux libertine\" font-size=\"10.00\">depth:1</text>\n",
              "<polygon fill=\"none\" stroke=\"black\" points=\"50.5,-401 50.5,-422 98.5,-422 98.5,-401 50.5,-401\"/>\n",
              "<text text-anchor=\"start\" x=\"60.5\" y=\"-409\" font-family=\"Linux libertine\" font-size=\"10.00\">input:</text>\n",
              "<polygon fill=\"none\" stroke=\"black\" points=\"98.5,-401 98.5,-422 128.5,-422 128.5,-401 98.5,-401\"/>\n",
              "<text text-anchor=\"start\" x=\"103.5\" y=\"-409\" font-family=\"Linux libertine\" font-size=\"10.00\">(8,) </text>\n",
              "<polygon fill=\"none\" stroke=\"black\" points=\"50.5,-380 50.5,-401 98.5,-401 98.5,-380 50.5,-380\"/>\n",
              "<text text-anchor=\"start\" x=\"55.5\" y=\"-388\" font-family=\"Linux libertine\" font-size=\"10.00\">output: </text>\n",
              "<polygon fill=\"none\" stroke=\"black\" points=\"98.5,-380 98.5,-401 128.5,-401 128.5,-380 98.5,-380\"/>\n",
              "<text text-anchor=\"start\" x=\"103.5\" y=\"-388\" font-family=\"Linux libertine\" font-size=\"10.00\">(6,) </text>\n",
              "</g>\n",
              "<!-- 2&#45;&gt;3 -->\n",
              "<g id=\"edge3\" class=\"edge\">\n",
              "<title>2&#45;&gt;3</title>\n",
              "<path fill=\"none\" stroke=\"black\" d=\"M65.5,-458.03C65.5,-450.44 65.5,-441.6 65.5,-433.21\"/>\n",
              "<polygon fill=\"black\" stroke=\"black\" points=\"69,-433.35 65.5,-423.35 62,-433.35 69,-433.35\"/>\n",
              "</g>\n",
              "<!-- 4 -->\n",
              "<g id=\"node5\" class=\"node\">\n",
              "<title>4</title>\n",
              "<polygon fill=\"#c1ffc1\" stroke=\"none\" points=\"128.5,-344 2.5,-344 2.5,-302 128.5,-302 128.5,-344\"/>\n",
              "<polygon fill=\"none\" stroke=\"black\" points=\"2.5,-302 2.5,-344 50.5,-344 50.5,-302 2.5,-302\"/>\n",
              "<text text-anchor=\"start\" x=\"7.5\" y=\"-326\" font-family=\"Linux libertine\" font-size=\"10.00\">Identity</text>\n",
              "<text text-anchor=\"start\" x=\"8\" y=\"-315\" font-family=\"Linux libertine\" font-size=\"10.00\">depth:1</text>\n",
              "<polygon fill=\"none\" stroke=\"black\" points=\"50.5,-323 50.5,-344 98.5,-344 98.5,-323 50.5,-323\"/>\n",
              "<text text-anchor=\"start\" x=\"60.5\" y=\"-331\" font-family=\"Linux libertine\" font-size=\"10.00\">input:</text>\n",
              "<polygon fill=\"none\" stroke=\"black\" points=\"98.5,-323 98.5,-344 128.5,-344 128.5,-323 98.5,-323\"/>\n",
              "<text text-anchor=\"start\" x=\"103.5\" y=\"-331\" font-family=\"Linux libertine\" font-size=\"10.00\">(6,) </text>\n",
              "<polygon fill=\"none\" stroke=\"black\" points=\"50.5,-302 50.5,-323 98.5,-323 98.5,-302 50.5,-302\"/>\n",
              "<text text-anchor=\"start\" x=\"55.5\" y=\"-310\" font-family=\"Linux libertine\" font-size=\"10.00\">output: </text>\n",
              "<polygon fill=\"none\" stroke=\"black\" points=\"98.5,-302 98.5,-323 128.5,-323 128.5,-302 98.5,-302\"/>\n",
              "<text text-anchor=\"start\" x=\"103.5\" y=\"-310\" font-family=\"Linux libertine\" font-size=\"10.00\">(6,) </text>\n",
              "</g>\n",
              "<!-- 3&#45;&gt;4 -->\n",
              "<g id=\"edge4\" class=\"edge\">\n",
              "<title>3&#45;&gt;4</title>\n",
              "<path fill=\"none\" stroke=\"black\" d=\"M65.5,-380.03C65.5,-372.44 65.5,-363.6 65.5,-355.21\"/>\n",
              "<polygon fill=\"black\" stroke=\"black\" points=\"69,-355.35 65.5,-345.35 62,-355.35 69,-355.35\"/>\n",
              "</g>\n",
              "<!-- 5 -->\n",
              "<g id=\"node6\" class=\"node\">\n",
              "<title>5</title>\n",
              "<polygon fill=\"#c1ffc1\" stroke=\"none\" points=\"128,-266 3,-266 3,-224 128,-224 128,-266\"/>\n",
              "<polygon fill=\"none\" stroke=\"black\" points=\"3.5,-224 3.5,-266 50.5,-266 50.5,-224 3.5,-224\"/>\n",
              "<text text-anchor=\"start\" x=\"11.5\" y=\"-248\" font-family=\"Linux libertine\" font-size=\"10.00\">Linear</text>\n",
              "<text text-anchor=\"start\" x=\"8.5\" y=\"-237\" font-family=\"Linux libertine\" font-size=\"10.00\">depth:1</text>\n",
              "<polygon fill=\"none\" stroke=\"black\" points=\"50.5,-245 50.5,-266 98.5,-266 98.5,-245 50.5,-245\"/>\n",
              "<text text-anchor=\"start\" x=\"60.5\" y=\"-253\" font-family=\"Linux libertine\" font-size=\"10.00\">input:</text>\n",
              "<polygon fill=\"none\" stroke=\"black\" points=\"98.5,-245 98.5,-266 128.5,-266 128.5,-245 98.5,-245\"/>\n",
              "<text text-anchor=\"start\" x=\"103.5\" y=\"-253\" font-family=\"Linux libertine\" font-size=\"10.00\">(6,) </text>\n",
              "<polygon fill=\"none\" stroke=\"black\" points=\"50.5,-224 50.5,-245 98.5,-245 98.5,-224 50.5,-224\"/>\n",
              "<text text-anchor=\"start\" x=\"55.5\" y=\"-232\" font-family=\"Linux libertine\" font-size=\"10.00\">output: </text>\n",
              "<polygon fill=\"none\" stroke=\"black\" points=\"98.5,-224 98.5,-245 128.5,-245 128.5,-224 98.5,-224\"/>\n",
              "<text text-anchor=\"start\" x=\"103.5\" y=\"-232\" font-family=\"Linux libertine\" font-size=\"10.00\">(4,) </text>\n",
              "</g>\n",
              "<!-- 4&#45;&gt;5 -->\n",
              "<g id=\"edge5\" class=\"edge\">\n",
              "<title>4&#45;&gt;5</title>\n",
              "<path fill=\"none\" stroke=\"black\" d=\"M65.5,-302.03C65.5,-294.44 65.5,-285.6 65.5,-277.21\"/>\n",
              "<polygon fill=\"black\" stroke=\"black\" points=\"69,-277.35 65.5,-267.35 62,-277.35 69,-277.35\"/>\n",
              "</g>\n",
              "<!-- 6 -->\n",
              "<g id=\"node7\" class=\"node\">\n",
              "<title>6</title>\n",
              "<polygon fill=\"#c1ffc1\" stroke=\"none\" points=\"128,-188 3,-188 3,-146 128,-146 128,-188\"/>\n",
              "<polygon fill=\"none\" stroke=\"black\" points=\"3.5,-146 3.5,-188 50.5,-188 50.5,-146 3.5,-146\"/>\n",
              "<text text-anchor=\"start\" x=\"14\" y=\"-170\" font-family=\"Linux libertine\" font-size=\"10.00\">ReLU</text>\n",
              "<text text-anchor=\"start\" x=\"8.5\" y=\"-159\" font-family=\"Linux libertine\" font-size=\"10.00\">depth:1</text>\n",
              "<polygon fill=\"none\" stroke=\"black\" points=\"50.5,-167 50.5,-188 98.5,-188 98.5,-167 50.5,-167\"/>\n",
              "<text text-anchor=\"start\" x=\"60.5\" y=\"-175\" font-family=\"Linux libertine\" font-size=\"10.00\">input:</text>\n",
              "<polygon fill=\"none\" stroke=\"black\" points=\"98.5,-167 98.5,-188 128.5,-188 128.5,-167 98.5,-167\"/>\n",
              "<text text-anchor=\"start\" x=\"103.5\" y=\"-175\" font-family=\"Linux libertine\" font-size=\"10.00\">(4,) </text>\n",
              "<polygon fill=\"none\" stroke=\"black\" points=\"50.5,-146 50.5,-167 98.5,-167 98.5,-146 50.5,-146\"/>\n",
              "<text text-anchor=\"start\" x=\"55.5\" y=\"-154\" font-family=\"Linux libertine\" font-size=\"10.00\">output: </text>\n",
              "<polygon fill=\"none\" stroke=\"black\" points=\"98.5,-146 98.5,-167 128.5,-167 128.5,-146 98.5,-146\"/>\n",
              "<text text-anchor=\"start\" x=\"103.5\" y=\"-154\" font-family=\"Linux libertine\" font-size=\"10.00\">(4,) </text>\n",
              "</g>\n",
              "<!-- 5&#45;&gt;6 -->\n",
              "<g id=\"edge6\" class=\"edge\">\n",
              "<title>5&#45;&gt;6</title>\n",
              "<path fill=\"none\" stroke=\"black\" d=\"M65.5,-224.03C65.5,-216.44 65.5,-207.6 65.5,-199.21\"/>\n",
              "<polygon fill=\"black\" stroke=\"black\" points=\"69,-199.35 65.5,-189.35 62,-199.35 69,-199.35\"/>\n",
              "</g>\n",
              "<!-- 7 -->\n",
              "<g id=\"node8\" class=\"node\">\n",
              "<title>7</title>\n",
              "<polygon fill=\"#c1ffc1\" stroke=\"none\" points=\"128,-110 3,-110 3,-68 128,-68 128,-110\"/>\n",
              "<polygon fill=\"none\" stroke=\"black\" points=\"3.5,-68 3.5,-110 50.5,-110 50.5,-68 3.5,-68\"/>\n",
              "<text text-anchor=\"start\" x=\"11.5\" y=\"-92\" font-family=\"Linux libertine\" font-size=\"10.00\">Linear</text>\n",
              "<text text-anchor=\"start\" x=\"8.5\" y=\"-81\" font-family=\"Linux libertine\" font-size=\"10.00\">depth:1</text>\n",
              "<polygon fill=\"none\" stroke=\"black\" points=\"50.5,-89 50.5,-110 98.5,-110 98.5,-89 50.5,-89\"/>\n",
              "<text text-anchor=\"start\" x=\"60.5\" y=\"-97\" font-family=\"Linux libertine\" font-size=\"10.00\">input:</text>\n",
              "<polygon fill=\"none\" stroke=\"black\" points=\"98.5,-89 98.5,-110 128.5,-110 128.5,-89 98.5,-89\"/>\n",
              "<text text-anchor=\"start\" x=\"103.5\" y=\"-97\" font-family=\"Linux libertine\" font-size=\"10.00\">(4,) </text>\n",
              "<polygon fill=\"none\" stroke=\"black\" points=\"50.5,-68 50.5,-89 98.5,-89 98.5,-68 50.5,-68\"/>\n",
              "<text text-anchor=\"start\" x=\"55.5\" y=\"-76\" font-family=\"Linux libertine\" font-size=\"10.00\">output: </text>\n",
              "<polygon fill=\"none\" stroke=\"black\" points=\"98.5,-68 98.5,-89 128.5,-89 128.5,-68 98.5,-68\"/>\n",
              "<text text-anchor=\"start\" x=\"103.5\" y=\"-76\" font-family=\"Linux libertine\" font-size=\"10.00\">(4,) </text>\n",
              "</g>\n",
              "<!-- 6&#45;&gt;7 -->\n",
              "<g id=\"edge7\" class=\"edge\">\n",
              "<title>6&#45;&gt;7</title>\n",
              "<path fill=\"none\" stroke=\"black\" d=\"M65.5,-146.03C65.5,-138.44 65.5,-129.6 65.5,-121.21\"/>\n",
              "<polygon fill=\"black\" stroke=\"black\" points=\"69,-121.35 65.5,-111.35 62,-121.35 69,-121.35\"/>\n",
              "</g>\n",
              "<!-- 8 -->\n",
              "<g id=\"node9\" class=\"node\">\n",
              "<title>8</title>\n",
              "<polygon fill=\"lightyellow\" stroke=\"none\" points=\"117.5,-32 13.5,-32 13.5,0 117.5,0 117.5,-32\"/>\n",
              "<polygon fill=\"none\" stroke=\"black\" points=\"13.5,0 13.5,-32 90.5,-32 90.5,0 13.5,0\"/>\n",
              "<text text-anchor=\"start\" x=\"18.5\" y=\"-19\" font-family=\"Linux libertine\" font-size=\"10.00\">output&#45;tensor</text>\n",
              "<text text-anchor=\"start\" x=\"33.5\" y=\"-8\" font-family=\"Linux libertine\" font-size=\"10.00\">depth:0</text>\n",
              "<polygon fill=\"none\" stroke=\"black\" points=\"90.5,0 90.5,-32 117.5,-32 117.5,0 90.5,0\"/>\n",
              "<text text-anchor=\"start\" x=\"95.5\" y=\"-13.5\" font-family=\"Linux libertine\" font-size=\"10.00\">(4,)</text>\n",
              "</g>\n",
              "<!-- 7&#45;&gt;8 -->\n",
              "<g id=\"edge8\" class=\"edge\">\n",
              "<title>7&#45;&gt;8</title>\n",
              "<path fill=\"none\" stroke=\"black\" d=\"M65.5,-68.22C65.5,-60.5 65.5,-51.54 65.5,-43.29\"/>\n",
              "<polygon fill=\"black\" stroke=\"black\" points=\"69,-43.46 65.5,-33.46 62,-43.46 69,-43.46\"/>\n",
              "</g>\n",
              "</g>\n",
              "</svg>\n"
            ],
            "text/plain": [
              "<graphviz.graphs.Digraph at 0x7f7e9349bd30>"
            ]
          },
          "execution_count": 22,
          "metadata": {},
          "output_type": "execute_result"
        }
      ],
      "source": [
        "model = nn.Sequential(\n",
        "    nn.Linear(12, 4),\n",
        "    nn.Sigmoid(),\n",
        "    nn.Linear(4, 8),\n",
        "    nn.Relu(),\n",
        "    nn.Linear(8, 2),\n",
        "    nn.Identity(),\n",
        "    nn.Linear(2, 1)\n",
        ")\n",
        "\n",
        "# Visualizing the network\n",
        "model_graph = draw_graph(model, input_size=(12,))\n",
        "model_graph.visual_graph"
      ]
    },
    {
      "cell_type": "markdown",
      "metadata": {
        "id": "7dzC09dLlEhm"
      },
      "source": [
        "#End of notebook\n",
        "---\n",
        "© 2023 The Coding School, All rights reserved"
      ]
    }
  ],
  "metadata": {
    "colab": {
      "collapsed_sections": [
        "h2RSPghCiLk9"
      ],
      "provenance": [],
      "include_colab_link": true
    },
    "kernelspec": {
      "display_name": "default:Python",
      "language": "python",
      "name": "conda-env-default-py"
    },
    "language_info": {
      "codemirror_mode": {
        "name": "ipython",
        "version": 3
      },
      "file_extension": ".py",
      "mimetype": "text/x-python",
      "name": "python",
      "nbconvert_exporter": "python",
      "pygments_lexer": "ipython3",
      "version": "3.9.16"
    }
  },
  "nbformat": 4,
  "nbformat_minor": 0
}