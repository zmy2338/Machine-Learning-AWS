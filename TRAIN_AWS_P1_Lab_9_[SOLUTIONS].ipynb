{
  "cells": [
    {
      "cell_type": "markdown",
      "metadata": {
        "id": "view-in-github",
        "colab_type": "text"
      },
      "source": [
        "<a href=\"https://colab.research.google.com/github/zmy2338/Machine-Learning-AWS/blob/main/TRAIN_AWS_P1_Lab_9_%5BSOLUTIONS%5D.ipynb\" target=\"_parent\"><img src=\"https://colab.research.google.com/assets/colab-badge.svg\" alt=\"Open In Colab\"/></a>"
      ]
    },
    {
      "cell_type": "markdown",
      "metadata": {
        "id": "mbZXQ3rA3NwL"
      },
      "source": [
        "# **Lab #9: Logistic Regression, One Hot Encoding, and Data Preprocessing** \n",
        "---\n",
        "\n",
        "### **Description**: \n",
        "In this lab, you will practice implementing a logistic regression model using standardization and label encoding. You will also learn how to implement one-hot encoding and dummy variable encoding. And you will learn how to evaluate a model's ability to handle unseen data using K-Folds.\n",
        "\n",
        "\n",
        "### **Lab Structure**\n",
        "**Part 1**: [Logistic Regression](#p1)\n",
        "\n",
        "**Part 2**: [One-hot Encoding](#p2)\n",
        "\n",
        "**Part 3**: [Dummy Variable Encoding](#p2)\n",
        "\n",
        "**Part 4**: [K-Folds](#p4)\n",
        "\n",
        "\n",
        "</br>\n",
        "\n",
        "\n",
        "### **Goals:** \n",
        "By the end of this lab, you will be able to:\n",
        "* Standardize data using sklearn's `StandardScaler(...)`. \n",
        "* Encode categorical data using label encoding, one-hot encoding, and dummy variable encoding.\n",
        "* Evaluate a model's ability to handle unseen data using K-Folds Cross Validation.\n",
        "\n",
        "</br> \n",
        "\n",
        "### **Cheat Sheets**\n",
        "[Logistic Regression with sklearn](https://docs.google.com/document/d/1rLTuWGgx9E-K1pgWYxUF4B1ExKKxt6MVSkgEKoUbhuE/edit?usp=sharing)\n",
        "\n",
        "[Standardization, Encoding, and K-Folds with sklearn](https://docs.google.com/document/d/1wu_J33O9PooGahfrnyyN2-Mwza869Ab8GnzDypqjTaw/edit?usp=sharing)\n",
        "\n",
        "\n",
        "<br>\n",
        "\n",
        "**Before starting, run the code below to import all necessary functions and libraries.**\n"
      ]
    },
    {
      "cell_type": "code",
      "execution_count": null,
      "metadata": {
        "id": "vB9RKj5mu8g0"
      },
      "outputs": [],
      "source": [
        "#!pip install pandas\n",
        "#!pip install scikit-learn\n",
        "\n",
        "import warnings\n",
        "warnings.filterwarnings('ignore')\n",
        "\n",
        "import pandas as pd\n",
        "import numpy as np\n",
        "import matplotlib.pyplot as plt\n",
        "\n",
        "import sklearn\n",
        "from sklearn import datasets\n",
        "from sklearn.datasets import load_iris\n",
        "from sklearn.model_selection import train_test_split, KFold\n",
        "from sklearn.preprocessing import StandardScaler\n",
        "from sklearn.preprocessing import OneHotEncoder\n",
        "\n",
        "from sklearn.linear_model import LogisticRegression\n",
        "from sklearn.linear_model import LinearRegression\n",
        "from sklearn.metrics import mean_squared_error\n",
        "from sklearn import metrics\n",
        "\n",
        "from sklearn.metrics import accuracy_score, r2_score\n",
        "from sklearn.metrics import confusion_matrix, ConfusionMatrixDisplay"
      ]
    },
    {
      "cell_type": "markdown",
      "metadata": {
        "id": "idga37M2FsMR"
      },
      "source": [
        "<a name=\"p1\"></a>\n",
        "\n",
        "---\n",
        "## **Part 1: Logistic Regression Independent Practice**\n",
        "---\n",
        "We will build a logistic regression model to classify pokemon types based on their attributes.\n",
        "\n",
        "**Dataset Description:**\n",
        "This data set includes 898 Pokemon, 1072 including alternate forms, including their number, name, first and second type, the stat total and basic stats: HP, Attack, Defense, Special Attack, Special Defense, and Speed, generation, and legendary status. The attributes of each Pokemon are as follows:\n",
        "\n",
        "* `Name`: The name of each pokemon\n",
        "\n",
        "* `Type 1`: Each pokemon has a type, this determines weakness/resistance to attacks\n",
        "\n",
        "* `Type 2`: Some pokemon are dual type and have 2\n",
        "\n",
        "* `Total`: Sum of all stats that come after this, a general guide to how strong a pokemon is\n",
        "\n",
        "* `HP`: Hit points, or health, defines how much damage a pokemon can withstand before fainting\n",
        "\n",
        "* `Attack`: The base modifier for normal attacks (eg. Scratch, Punch)\n",
        "\n",
        "* `Defense`: The base damage resistance against normal attacks\n",
        "\n",
        "* `SP Atk`: Special attack, the base modifier for special attacks (e.g. fire blast, bubble beam)\n",
        "\n",
        "* `SP Def`: Special defense, the base damage resistance against special attacks\n",
        "\n",
        "* `Speed`: Determines which pokemon attacks first each round\n",
        "\n",
        "* `Generation`: The generation of games where the pokemon was first introduced\n",
        "\n",
        "* `Legendary`: Some pokemon are much rarer than others, and are dubbed \"legendary\"\n",
        "\n",
        "<br>\n",
        "\n",
        "\n",
        "**Source:** [data.world](https://data.world/data-society/pokemon-with-stats)\n",
        "\n",
        "\n",
        "<br>\n",
        "\n",
        "**Run the cell below to load in the dataset.**"
      ]
    },
    {
      "cell_type": "code",
      "execution_count": null,
      "metadata": {
        "id": "Rv91EPyiEYO2",
        "colab": {
          "base_uri": "https://localhost:8080/",
          "height": 226
        },
        "outputId": "b3493c20-f057-49b6-a6e3-ea1189913e9a"
      },
      "outputs": [
        {
          "output_type": "execute_result",
          "data": {
            "text/plain": [
              "                  name  type1   type2  total  hp  attack  defense  sp_attack  \\\n",
              "0            Bulbasaur  Grass  Poison    318  45      49       49         65   \n",
              "1              Ivysaur  Grass  Poison    405  60      62       63         80   \n",
              "2             Venusaur  Grass  Poison    525  80      82       83        100   \n",
              "3        Mega Venusaur  Grass  Poison    625  80     100      123        122   \n",
              "4  Gigantamax Venusaur  Grass  Poison    525  80      82       83        100   \n",
              "\n",
              "   sp_defense  speed  generation  legendary  \n",
              "0          65     45           1      False  \n",
              "1          80     60           1      False  \n",
              "2         100     80           1      False  \n",
              "3         120     80           1      False  \n",
              "4         100     80           1      False  "
            ],
            "text/html": [
              "\n",
              "  <div id=\"df-03544925-13eb-4efb-a7bd-8285a6ea2272\">\n",
              "    <div class=\"colab-df-container\">\n",
              "      <div>\n",
              "<style scoped>\n",
              "    .dataframe tbody tr th:only-of-type {\n",
              "        vertical-align: middle;\n",
              "    }\n",
              "\n",
              "    .dataframe tbody tr th {\n",
              "        vertical-align: top;\n",
              "    }\n",
              "\n",
              "    .dataframe thead th {\n",
              "        text-align: right;\n",
              "    }\n",
              "</style>\n",
              "<table border=\"1\" class=\"dataframe\">\n",
              "  <thead>\n",
              "    <tr style=\"text-align: right;\">\n",
              "      <th></th>\n",
              "      <th>name</th>\n",
              "      <th>type1</th>\n",
              "      <th>type2</th>\n",
              "      <th>total</th>\n",
              "      <th>hp</th>\n",
              "      <th>attack</th>\n",
              "      <th>defense</th>\n",
              "      <th>sp_attack</th>\n",
              "      <th>sp_defense</th>\n",
              "      <th>speed</th>\n",
              "      <th>generation</th>\n",
              "      <th>legendary</th>\n",
              "    </tr>\n",
              "  </thead>\n",
              "  <tbody>\n",
              "    <tr>\n",
              "      <th>0</th>\n",
              "      <td>Bulbasaur</td>\n",
              "      <td>Grass</td>\n",
              "      <td>Poison</td>\n",
              "      <td>318</td>\n",
              "      <td>45</td>\n",
              "      <td>49</td>\n",
              "      <td>49</td>\n",
              "      <td>65</td>\n",
              "      <td>65</td>\n",
              "      <td>45</td>\n",
              "      <td>1</td>\n",
              "      <td>False</td>\n",
              "    </tr>\n",
              "    <tr>\n",
              "      <th>1</th>\n",
              "      <td>Ivysaur</td>\n",
              "      <td>Grass</td>\n",
              "      <td>Poison</td>\n",
              "      <td>405</td>\n",
              "      <td>60</td>\n",
              "      <td>62</td>\n",
              "      <td>63</td>\n",
              "      <td>80</td>\n",
              "      <td>80</td>\n",
              "      <td>60</td>\n",
              "      <td>1</td>\n",
              "      <td>False</td>\n",
              "    </tr>\n",
              "    <tr>\n",
              "      <th>2</th>\n",
              "      <td>Venusaur</td>\n",
              "      <td>Grass</td>\n",
              "      <td>Poison</td>\n",
              "      <td>525</td>\n",
              "      <td>80</td>\n",
              "      <td>82</td>\n",
              "      <td>83</td>\n",
              "      <td>100</td>\n",
              "      <td>100</td>\n",
              "      <td>80</td>\n",
              "      <td>1</td>\n",
              "      <td>False</td>\n",
              "    </tr>\n",
              "    <tr>\n",
              "      <th>3</th>\n",
              "      <td>Mega Venusaur</td>\n",
              "      <td>Grass</td>\n",
              "      <td>Poison</td>\n",
              "      <td>625</td>\n",
              "      <td>80</td>\n",
              "      <td>100</td>\n",
              "      <td>123</td>\n",
              "      <td>122</td>\n",
              "      <td>120</td>\n",
              "      <td>80</td>\n",
              "      <td>1</td>\n",
              "      <td>False</td>\n",
              "    </tr>\n",
              "    <tr>\n",
              "      <th>4</th>\n",
              "      <td>Gigantamax Venusaur</td>\n",
              "      <td>Grass</td>\n",
              "      <td>Poison</td>\n",
              "      <td>525</td>\n",
              "      <td>80</td>\n",
              "      <td>82</td>\n",
              "      <td>83</td>\n",
              "      <td>100</td>\n",
              "      <td>100</td>\n",
              "      <td>80</td>\n",
              "      <td>1</td>\n",
              "      <td>False</td>\n",
              "    </tr>\n",
              "  </tbody>\n",
              "</table>\n",
              "</div>\n",
              "      <button class=\"colab-df-convert\" onclick=\"convertToInteractive('df-03544925-13eb-4efb-a7bd-8285a6ea2272')\"\n",
              "              title=\"Convert this dataframe to an interactive table.\"\n",
              "              style=\"display:none;\">\n",
              "        \n",
              "  <svg xmlns=\"http://www.w3.org/2000/svg\" height=\"24px\"viewBox=\"0 0 24 24\"\n",
              "       width=\"24px\">\n",
              "    <path d=\"M0 0h24v24H0V0z\" fill=\"none\"/>\n",
              "    <path d=\"M18.56 5.44l.94 2.06.94-2.06 2.06-.94-2.06-.94-.94-2.06-.94 2.06-2.06.94zm-11 1L8.5 8.5l.94-2.06 2.06-.94-2.06-.94L8.5 2.5l-.94 2.06-2.06.94zm10 10l.94 2.06.94-2.06 2.06-.94-2.06-.94-.94-2.06-.94 2.06-2.06.94z\"/><path d=\"M17.41 7.96l-1.37-1.37c-.4-.4-.92-.59-1.43-.59-.52 0-1.04.2-1.43.59L10.3 9.45l-7.72 7.72c-.78.78-.78 2.05 0 2.83L4 21.41c.39.39.9.59 1.41.59.51 0 1.02-.2 1.41-.59l7.78-7.78 2.81-2.81c.8-.78.8-2.07 0-2.86zM5.41 20L4 18.59l7.72-7.72 1.47 1.35L5.41 20z\"/>\n",
              "  </svg>\n",
              "      </button>\n",
              "      \n",
              "  <style>\n",
              "    .colab-df-container {\n",
              "      display:flex;\n",
              "      flex-wrap:wrap;\n",
              "      gap: 12px;\n",
              "    }\n",
              "\n",
              "    .colab-df-convert {\n",
              "      background-color: #E8F0FE;\n",
              "      border: none;\n",
              "      border-radius: 50%;\n",
              "      cursor: pointer;\n",
              "      display: none;\n",
              "      fill: #1967D2;\n",
              "      height: 32px;\n",
              "      padding: 0 0 0 0;\n",
              "      width: 32px;\n",
              "    }\n",
              "\n",
              "    .colab-df-convert:hover {\n",
              "      background-color: #E2EBFA;\n",
              "      box-shadow: 0px 1px 2px rgba(60, 64, 67, 0.3), 0px 1px 3px 1px rgba(60, 64, 67, 0.15);\n",
              "      fill: #174EA6;\n",
              "    }\n",
              "\n",
              "    [theme=dark] .colab-df-convert {\n",
              "      background-color: #3B4455;\n",
              "      fill: #D2E3FC;\n",
              "    }\n",
              "\n",
              "    [theme=dark] .colab-df-convert:hover {\n",
              "      background-color: #434B5C;\n",
              "      box-shadow: 0px 1px 3px 1px rgba(0, 0, 0, 0.15);\n",
              "      filter: drop-shadow(0px 1px 2px rgba(0, 0, 0, 0.3));\n",
              "      fill: #FFFFFF;\n",
              "    }\n",
              "  </style>\n",
              "\n",
              "      <script>\n",
              "        const buttonEl =\n",
              "          document.querySelector('#df-03544925-13eb-4efb-a7bd-8285a6ea2272 button.colab-df-convert');\n",
              "        buttonEl.style.display =\n",
              "          google.colab.kernel.accessAllowed ? 'block' : 'none';\n",
              "\n",
              "        async function convertToInteractive(key) {\n",
              "          const element = document.querySelector('#df-03544925-13eb-4efb-a7bd-8285a6ea2272');\n",
              "          const dataTable =\n",
              "            await google.colab.kernel.invokeFunction('convertToInteractive',\n",
              "                                                     [key], {});\n",
              "          if (!dataTable) return;\n",
              "\n",
              "          const docLinkHtml = 'Like what you see? Visit the ' +\n",
              "            '<a target=\"_blank\" href=https://colab.research.google.com/notebooks/data_table.ipynb>data table notebook</a>'\n",
              "            + ' to learn more about interactive tables.';\n",
              "          element.innerHTML = '';\n",
              "          dataTable['output_type'] = 'display_data';\n",
              "          await google.colab.output.renderOutput(dataTable, element);\n",
              "          const docLink = document.createElement('div');\n",
              "          docLink.innerHTML = docLinkHtml;\n",
              "          element.appendChild(docLink);\n",
              "        }\n",
              "      </script>\n",
              "    </div>\n",
              "  </div>\n",
              "  "
            ]
          },
          "metadata": {},
          "execution_count": 2
        }
      ],
      "source": [
        "url =\"https://query.data.world/s/p4tnasnlximnov7fpjlu2msnmegyrb\"\n",
        "pokemon_df = pd.read_csv(url,  sep = \",\").drop(columns = 'number', axis = 1)\n",
        "pokemon_df.head()"
      ]
    },
    {
      "cell_type": "markdown",
      "metadata": {
        "id": "agoHgZwzEYp6"
      },
      "source": [
        "### **Problem #1: Encode all categorical variables.**\n",
        "---\n",
        "\n",
        "Logistic regression can only deal with numerical variables since it creates an equation of them. So, complete the code below to encode `type1`, `type2`, and `legendary` using label encoding as we learned on Day 3.\n",
        "\n",
        "<br>\n",
        "\n",
        "**NOTE**: It's important to save the DataFrame with encoded variables in `new_pokemon_df` since we will end up trying a different encoding in Part 2 of the original dataset."
      ]
    },
    {
      "cell_type": "code",
      "source": [
        "type1_list = pokemon_df[# COMPLETE THIS LINE].unique().tolist()\n",
        "type1_map = {type1_list[i] : i for i in range(len(type1_list))}\n",
        "\n",
        "new_pokemon_df['type1_encoded'] = pokemon_df['# COMPLETE THIS LINE"
      ],
      "metadata": {
        "id": "R11QGNVBrrqN"
      },
      "execution_count": null,
      "outputs": []
    },
    {
      "cell_type": "code",
      "source": [
        "type2_list = # COMPLETE THIS LINE\n",
        "type2_map = {type2_list[i] : i for i in range(len(type2_list))}\n",
        "\n",
        "new_pokemon_df['type2_encoded'] = new_pokemon_df['# COMPLETE THIS LINE"
      ],
      "metadata": {
        "id": "Bd5a35gNswsh"
      },
      "execution_count": null,
      "outputs": []
    },
    {
      "cell_type": "code",
      "source": [
        "# COMPLETE THIS CODE\n",
        "\n",
        "new_pokemon_df.head()"
      ],
      "metadata": {
        "id": "8-hvUHTpsw-C"
      },
      "execution_count": null,
      "outputs": []
    },
    {
      "cell_type": "markdown",
      "source": [
        "#### **Solution**"
      ],
      "metadata": {
        "id": "9DGE-4pxrr5p"
      }
    },
    {
      "cell_type": "code",
      "source": [
        "type1_list = pokemon_df['type1'].unique().tolist()\n",
        "print(type1_list)\n",
        "type1_map = {type1_list[i] : i for i in range(len(type1_list))}\n",
        "\n",
        "pokemon_df['type1_encoded'] = pokemon_df['type1'].map(type1_map)\n",
        "pokemon_df"
      ],
      "metadata": {
        "id": "KPkHk5TlrnvQ",
        "colab": {
          "base_uri": "https://localhost:8080/",
          "height": 592
        },
        "outputId": "7cf7dfb9-bb83-4355-d037-ceadbb35da26"
      },
      "execution_count": null,
      "outputs": [
        {
          "output_type": "stream",
          "name": "stdout",
          "text": [
            "['Grass', 'Fire', 'Water', 'Blastoise', 'Bug', 'Normal', 'Dark', 'Poison', 'Electric', 'Ground', 'Ice', 'Fairy', 'Steel', 'Fighting', 'Psychic', 'Rock', 'Ghost', 'Dragon', 'Flying', 'Graass']\n"
          ]
        },
        {
          "output_type": "execute_result",
          "data": {
            "text/plain": [
              "                      name    type1   type2  total   hp  attack  defense  \\\n",
              "0                Bulbasaur    Grass  Poison    318   45      49       49   \n",
              "1                  Ivysaur    Grass  Poison    405   60      62       63   \n",
              "2                 Venusaur    Grass  Poison    525   80      82       83   \n",
              "3            Mega Venusaur    Grass  Poison    625   80     100      123   \n",
              "4      Gigantamax Venusaur    Grass  Poison    525   80      82       83   \n",
              "...                    ...      ...     ...    ...  ...     ...      ...   \n",
              "1067             Glastrier      Ice     NaN    580  100     145      130   \n",
              "1068             Spectrier    Ghost     NaN    580  100      65       60   \n",
              "1069               Calyrex  Psychic   Grass    500  100      80       80   \n",
              "1070     Ice Rider Calyrex  Psychic     Ice    680  100     165      150   \n",
              "1071  Shadow Rider Calyrex  Psychic   Ghost    680  100      85       80   \n",
              "\n",
              "      sp_attack  sp_defense  speed  generation  legendary  type1_encoded  \n",
              "0            65          65     45           1      False              0  \n",
              "1            80          80     60           1      False              0  \n",
              "2           100         100     80           1      False              0  \n",
              "3           122         120     80           1      False              0  \n",
              "4           100         100     80           1      False              0  \n",
              "...         ...         ...    ...         ...        ...            ...  \n",
              "1067         65         110     30           8       True             10  \n",
              "1068        145          80    130           8       True             16  \n",
              "1069         80          80     80           8       True             14  \n",
              "1070         85         130     50           8       True             14  \n",
              "1071        165         100    150           8       True             14  \n",
              "\n",
              "[1072 rows x 13 columns]"
            ],
            "text/html": [
              "\n",
              "  <div id=\"df-507607e6-d48a-44de-ab69-dccfaefed45e\">\n",
              "    <div class=\"colab-df-container\">\n",
              "      <div>\n",
              "<style scoped>\n",
              "    .dataframe tbody tr th:only-of-type {\n",
              "        vertical-align: middle;\n",
              "    }\n",
              "\n",
              "    .dataframe tbody tr th {\n",
              "        vertical-align: top;\n",
              "    }\n",
              "\n",
              "    .dataframe thead th {\n",
              "        text-align: right;\n",
              "    }\n",
              "</style>\n",
              "<table border=\"1\" class=\"dataframe\">\n",
              "  <thead>\n",
              "    <tr style=\"text-align: right;\">\n",
              "      <th></th>\n",
              "      <th>name</th>\n",
              "      <th>type1</th>\n",
              "      <th>type2</th>\n",
              "      <th>total</th>\n",
              "      <th>hp</th>\n",
              "      <th>attack</th>\n",
              "      <th>defense</th>\n",
              "      <th>sp_attack</th>\n",
              "      <th>sp_defense</th>\n",
              "      <th>speed</th>\n",
              "      <th>generation</th>\n",
              "      <th>legendary</th>\n",
              "      <th>type1_encoded</th>\n",
              "    </tr>\n",
              "  </thead>\n",
              "  <tbody>\n",
              "    <tr>\n",
              "      <th>0</th>\n",
              "      <td>Bulbasaur</td>\n",
              "      <td>Grass</td>\n",
              "      <td>Poison</td>\n",
              "      <td>318</td>\n",
              "      <td>45</td>\n",
              "      <td>49</td>\n",
              "      <td>49</td>\n",
              "      <td>65</td>\n",
              "      <td>65</td>\n",
              "      <td>45</td>\n",
              "      <td>1</td>\n",
              "      <td>False</td>\n",
              "      <td>0</td>\n",
              "    </tr>\n",
              "    <tr>\n",
              "      <th>1</th>\n",
              "      <td>Ivysaur</td>\n",
              "      <td>Grass</td>\n",
              "      <td>Poison</td>\n",
              "      <td>405</td>\n",
              "      <td>60</td>\n",
              "      <td>62</td>\n",
              "      <td>63</td>\n",
              "      <td>80</td>\n",
              "      <td>80</td>\n",
              "      <td>60</td>\n",
              "      <td>1</td>\n",
              "      <td>False</td>\n",
              "      <td>0</td>\n",
              "    </tr>\n",
              "    <tr>\n",
              "      <th>2</th>\n",
              "      <td>Venusaur</td>\n",
              "      <td>Grass</td>\n",
              "      <td>Poison</td>\n",
              "      <td>525</td>\n",
              "      <td>80</td>\n",
              "      <td>82</td>\n",
              "      <td>83</td>\n",
              "      <td>100</td>\n",
              "      <td>100</td>\n",
              "      <td>80</td>\n",
              "      <td>1</td>\n",
              "      <td>False</td>\n",
              "      <td>0</td>\n",
              "    </tr>\n",
              "    <tr>\n",
              "      <th>3</th>\n",
              "      <td>Mega Venusaur</td>\n",
              "      <td>Grass</td>\n",
              "      <td>Poison</td>\n",
              "      <td>625</td>\n",
              "      <td>80</td>\n",
              "      <td>100</td>\n",
              "      <td>123</td>\n",
              "      <td>122</td>\n",
              "      <td>120</td>\n",
              "      <td>80</td>\n",
              "      <td>1</td>\n",
              "      <td>False</td>\n",
              "      <td>0</td>\n",
              "    </tr>\n",
              "    <tr>\n",
              "      <th>4</th>\n",
              "      <td>Gigantamax Venusaur</td>\n",
              "      <td>Grass</td>\n",
              "      <td>Poison</td>\n",
              "      <td>525</td>\n",
              "      <td>80</td>\n",
              "      <td>82</td>\n",
              "      <td>83</td>\n",
              "      <td>100</td>\n",
              "      <td>100</td>\n",
              "      <td>80</td>\n",
              "      <td>1</td>\n",
              "      <td>False</td>\n",
              "      <td>0</td>\n",
              "    </tr>\n",
              "    <tr>\n",
              "      <th>...</th>\n",
              "      <td>...</td>\n",
              "      <td>...</td>\n",
              "      <td>...</td>\n",
              "      <td>...</td>\n",
              "      <td>...</td>\n",
              "      <td>...</td>\n",
              "      <td>...</td>\n",
              "      <td>...</td>\n",
              "      <td>...</td>\n",
              "      <td>...</td>\n",
              "      <td>...</td>\n",
              "      <td>...</td>\n",
              "      <td>...</td>\n",
              "    </tr>\n",
              "    <tr>\n",
              "      <th>1067</th>\n",
              "      <td>Glastrier</td>\n",
              "      <td>Ice</td>\n",
              "      <td>NaN</td>\n",
              "      <td>580</td>\n",
              "      <td>100</td>\n",
              "      <td>145</td>\n",
              "      <td>130</td>\n",
              "      <td>65</td>\n",
              "      <td>110</td>\n",
              "      <td>30</td>\n",
              "      <td>8</td>\n",
              "      <td>True</td>\n",
              "      <td>10</td>\n",
              "    </tr>\n",
              "    <tr>\n",
              "      <th>1068</th>\n",
              "      <td>Spectrier</td>\n",
              "      <td>Ghost</td>\n",
              "      <td>NaN</td>\n",
              "      <td>580</td>\n",
              "      <td>100</td>\n",
              "      <td>65</td>\n",
              "      <td>60</td>\n",
              "      <td>145</td>\n",
              "      <td>80</td>\n",
              "      <td>130</td>\n",
              "      <td>8</td>\n",
              "      <td>True</td>\n",
              "      <td>16</td>\n",
              "    </tr>\n",
              "    <tr>\n",
              "      <th>1069</th>\n",
              "      <td>Calyrex</td>\n",
              "      <td>Psychic</td>\n",
              "      <td>Grass</td>\n",
              "      <td>500</td>\n",
              "      <td>100</td>\n",
              "      <td>80</td>\n",
              "      <td>80</td>\n",
              "      <td>80</td>\n",
              "      <td>80</td>\n",
              "      <td>80</td>\n",
              "      <td>8</td>\n",
              "      <td>True</td>\n",
              "      <td>14</td>\n",
              "    </tr>\n",
              "    <tr>\n",
              "      <th>1070</th>\n",
              "      <td>Ice Rider Calyrex</td>\n",
              "      <td>Psychic</td>\n",
              "      <td>Ice</td>\n",
              "      <td>680</td>\n",
              "      <td>100</td>\n",
              "      <td>165</td>\n",
              "      <td>150</td>\n",
              "      <td>85</td>\n",
              "      <td>130</td>\n",
              "      <td>50</td>\n",
              "      <td>8</td>\n",
              "      <td>True</td>\n",
              "      <td>14</td>\n",
              "    </tr>\n",
              "    <tr>\n",
              "      <th>1071</th>\n",
              "      <td>Shadow Rider Calyrex</td>\n",
              "      <td>Psychic</td>\n",
              "      <td>Ghost</td>\n",
              "      <td>680</td>\n",
              "      <td>100</td>\n",
              "      <td>85</td>\n",
              "      <td>80</td>\n",
              "      <td>165</td>\n",
              "      <td>100</td>\n",
              "      <td>150</td>\n",
              "      <td>8</td>\n",
              "      <td>True</td>\n",
              "      <td>14</td>\n",
              "    </tr>\n",
              "  </tbody>\n",
              "</table>\n",
              "<p>1072 rows × 13 columns</p>\n",
              "</div>\n",
              "      <button class=\"colab-df-convert\" onclick=\"convertToInteractive('df-507607e6-d48a-44de-ab69-dccfaefed45e')\"\n",
              "              title=\"Convert this dataframe to an interactive table.\"\n",
              "              style=\"display:none;\">\n",
              "        \n",
              "  <svg xmlns=\"http://www.w3.org/2000/svg\" height=\"24px\"viewBox=\"0 0 24 24\"\n",
              "       width=\"24px\">\n",
              "    <path d=\"M0 0h24v24H0V0z\" fill=\"none\"/>\n",
              "    <path d=\"M18.56 5.44l.94 2.06.94-2.06 2.06-.94-2.06-.94-.94-2.06-.94 2.06-2.06.94zm-11 1L8.5 8.5l.94-2.06 2.06-.94-2.06-.94L8.5 2.5l-.94 2.06-2.06.94zm10 10l.94 2.06.94-2.06 2.06-.94-2.06-.94-.94-2.06-.94 2.06-2.06.94z\"/><path d=\"M17.41 7.96l-1.37-1.37c-.4-.4-.92-.59-1.43-.59-.52 0-1.04.2-1.43.59L10.3 9.45l-7.72 7.72c-.78.78-.78 2.05 0 2.83L4 21.41c.39.39.9.59 1.41.59.51 0 1.02-.2 1.41-.59l7.78-7.78 2.81-2.81c.8-.78.8-2.07 0-2.86zM5.41 20L4 18.59l7.72-7.72 1.47 1.35L5.41 20z\"/>\n",
              "  </svg>\n",
              "      </button>\n",
              "      \n",
              "  <style>\n",
              "    .colab-df-container {\n",
              "      display:flex;\n",
              "      flex-wrap:wrap;\n",
              "      gap: 12px;\n",
              "    }\n",
              "\n",
              "    .colab-df-convert {\n",
              "      background-color: #E8F0FE;\n",
              "      border: none;\n",
              "      border-radius: 50%;\n",
              "      cursor: pointer;\n",
              "      display: none;\n",
              "      fill: #1967D2;\n",
              "      height: 32px;\n",
              "      padding: 0 0 0 0;\n",
              "      width: 32px;\n",
              "    }\n",
              "\n",
              "    .colab-df-convert:hover {\n",
              "      background-color: #E2EBFA;\n",
              "      box-shadow: 0px 1px 2px rgba(60, 64, 67, 0.3), 0px 1px 3px 1px rgba(60, 64, 67, 0.15);\n",
              "      fill: #174EA6;\n",
              "    }\n",
              "\n",
              "    [theme=dark] .colab-df-convert {\n",
              "      background-color: #3B4455;\n",
              "      fill: #D2E3FC;\n",
              "    }\n",
              "\n",
              "    [theme=dark] .colab-df-convert:hover {\n",
              "      background-color: #434B5C;\n",
              "      box-shadow: 0px 1px 3px 1px rgba(0, 0, 0, 0.15);\n",
              "      filter: drop-shadow(0px 1px 2px rgba(0, 0, 0, 0.3));\n",
              "      fill: #FFFFFF;\n",
              "    }\n",
              "  </style>\n",
              "\n",
              "      <script>\n",
              "        const buttonEl =\n",
              "          document.querySelector('#df-507607e6-d48a-44de-ab69-dccfaefed45e button.colab-df-convert');\n",
              "        buttonEl.style.display =\n",
              "          google.colab.kernel.accessAllowed ? 'block' : 'none';\n",
              "\n",
              "        async function convertToInteractive(key) {\n",
              "          const element = document.querySelector('#df-507607e6-d48a-44de-ab69-dccfaefed45e');\n",
              "          const dataTable =\n",
              "            await google.colab.kernel.invokeFunction('convertToInteractive',\n",
              "                                                     [key], {});\n",
              "          if (!dataTable) return;\n",
              "\n",
              "          const docLinkHtml = 'Like what you see? Visit the ' +\n",
              "            '<a target=\"_blank\" href=https://colab.research.google.com/notebooks/data_table.ipynb>data table notebook</a>'\n",
              "            + ' to learn more about interactive tables.';\n",
              "          element.innerHTML = '';\n",
              "          dataTable['output_type'] = 'display_data';\n",
              "          await google.colab.output.renderOutput(dataTable, element);\n",
              "          const docLink = document.createElement('div');\n",
              "          docLink.innerHTML = docLinkHtml;\n",
              "          element.appendChild(docLink);\n",
              "        }\n",
              "      </script>\n",
              "    </div>\n",
              "  </div>\n",
              "  "
            ]
          },
          "metadata": {},
          "execution_count": 7
        }
      ]
    },
    {
      "cell_type": "code",
      "source": [
        "type2_list = pokemon_df['type2'].unique().tolist()\n",
        "type2_map = {type2_list[i] : i for i in range(len(type2_list))}\n",
        "\n",
        "pokemon_df['type2_encoded'] = pokemon_df['type2'].map(type2_map)"
      ],
      "metadata": {
        "id": "4NrSM-S-sf8I"
      },
      "execution_count": null,
      "outputs": []
    },
    {
      "cell_type": "code",
      "source": [
        "legendary_list = pokemon_df['legendary'].unique().tolist()\n",
        "legendary_map = {legendary_list[i] : i for i in range(len(legendary_list))}\n",
        "\n",
        "pokemon_df['legendary_encoded'] = pokemon_df['legendary'].map(legendary_map)\n",
        "\n",
        "pokemon_df"
      ],
      "metadata": {
        "colab": {
          "base_uri": "https://localhost:8080/",
          "height": 574
        },
        "id": "ni7VHyKmsgiw",
        "outputId": "099a3ede-7cd4-4292-af94-3d0db31e5396"
      },
      "execution_count": null,
      "outputs": [
        {
          "output_type": "execute_result",
          "data": {
            "text/plain": [
              "                      name    type1   type2  total   hp  attack  defense  \\\n",
              "0                Bulbasaur    Grass  Poison    318   45      49       49   \n",
              "1                  Ivysaur    Grass  Poison    405   60      62       63   \n",
              "2                 Venusaur    Grass  Poison    525   80      82       83   \n",
              "3            Mega Venusaur    Grass  Poison    625   80     100      123   \n",
              "4      Gigantamax Venusaur    Grass  Poison    525   80      82       83   \n",
              "...                    ...      ...     ...    ...  ...     ...      ...   \n",
              "1067             Glastrier      Ice     NaN    580  100     145      130   \n",
              "1068             Spectrier    Ghost     NaN    580  100      65       60   \n",
              "1069               Calyrex  Psychic   Grass    500  100      80       80   \n",
              "1070     Ice Rider Calyrex  Psychic     Ice    680  100     165      150   \n",
              "1071  Shadow Rider Calyrex  Psychic   Ghost    680  100      85       80   \n",
              "\n",
              "      sp_attack  sp_defense  speed  generation  legendary  type1_encoded  \\\n",
              "0            65          65     45           1      False              0   \n",
              "1            80          80     60           1      False              0   \n",
              "2           100         100     80           1      False              0   \n",
              "3           122         120     80           1      False              0   \n",
              "4           100         100     80           1      False              0   \n",
              "...         ...         ...    ...         ...        ...            ...   \n",
              "1067         65         110     30           8       True             10   \n",
              "1068        145          80    130           8       True             16   \n",
              "1069         80          80     80           8       True             14   \n",
              "1070         85         130     50           8       True             14   \n",
              "1071        165         100    150           8       True             14   \n",
              "\n",
              "      type2_encoded  legendary_encoded  \n",
              "0                 0                  0  \n",
              "1                 0                  0  \n",
              "2                 0                  0  \n",
              "3                 0                  0  \n",
              "4                 0                  0  \n",
              "...             ...                ...  \n",
              "1067              1                  1  \n",
              "1068              1                  1  \n",
              "1069             10                  1  \n",
              "1070             13                  1  \n",
              "1071             15                  1  \n",
              "\n",
              "[1072 rows x 15 columns]"
            ],
            "text/html": [
              "\n",
              "  <div id=\"df-6ae41b94-d8b3-419f-b1a6-46f6ca1ac444\">\n",
              "    <div class=\"colab-df-container\">\n",
              "      <div>\n",
              "<style scoped>\n",
              "    .dataframe tbody tr th:only-of-type {\n",
              "        vertical-align: middle;\n",
              "    }\n",
              "\n",
              "    .dataframe tbody tr th {\n",
              "        vertical-align: top;\n",
              "    }\n",
              "\n",
              "    .dataframe thead th {\n",
              "        text-align: right;\n",
              "    }\n",
              "</style>\n",
              "<table border=\"1\" class=\"dataframe\">\n",
              "  <thead>\n",
              "    <tr style=\"text-align: right;\">\n",
              "      <th></th>\n",
              "      <th>name</th>\n",
              "      <th>type1</th>\n",
              "      <th>type2</th>\n",
              "      <th>total</th>\n",
              "      <th>hp</th>\n",
              "      <th>attack</th>\n",
              "      <th>defense</th>\n",
              "      <th>sp_attack</th>\n",
              "      <th>sp_defense</th>\n",
              "      <th>speed</th>\n",
              "      <th>generation</th>\n",
              "      <th>legendary</th>\n",
              "      <th>type1_encoded</th>\n",
              "      <th>type2_encoded</th>\n",
              "      <th>legendary_encoded</th>\n",
              "    </tr>\n",
              "  </thead>\n",
              "  <tbody>\n",
              "    <tr>\n",
              "      <th>0</th>\n",
              "      <td>Bulbasaur</td>\n",
              "      <td>Grass</td>\n",
              "      <td>Poison</td>\n",
              "      <td>318</td>\n",
              "      <td>45</td>\n",
              "      <td>49</td>\n",
              "      <td>49</td>\n",
              "      <td>65</td>\n",
              "      <td>65</td>\n",
              "      <td>45</td>\n",
              "      <td>1</td>\n",
              "      <td>False</td>\n",
              "      <td>0</td>\n",
              "      <td>0</td>\n",
              "      <td>0</td>\n",
              "    </tr>\n",
              "    <tr>\n",
              "      <th>1</th>\n",
              "      <td>Ivysaur</td>\n",
              "      <td>Grass</td>\n",
              "      <td>Poison</td>\n",
              "      <td>405</td>\n",
              "      <td>60</td>\n",
              "      <td>62</td>\n",
              "      <td>63</td>\n",
              "      <td>80</td>\n",
              "      <td>80</td>\n",
              "      <td>60</td>\n",
              "      <td>1</td>\n",
              "      <td>False</td>\n",
              "      <td>0</td>\n",
              "      <td>0</td>\n",
              "      <td>0</td>\n",
              "    </tr>\n",
              "    <tr>\n",
              "      <th>2</th>\n",
              "      <td>Venusaur</td>\n",
              "      <td>Grass</td>\n",
              "      <td>Poison</td>\n",
              "      <td>525</td>\n",
              "      <td>80</td>\n",
              "      <td>82</td>\n",
              "      <td>83</td>\n",
              "      <td>100</td>\n",
              "      <td>100</td>\n",
              "      <td>80</td>\n",
              "      <td>1</td>\n",
              "      <td>False</td>\n",
              "      <td>0</td>\n",
              "      <td>0</td>\n",
              "      <td>0</td>\n",
              "    </tr>\n",
              "    <tr>\n",
              "      <th>3</th>\n",
              "      <td>Mega Venusaur</td>\n",
              "      <td>Grass</td>\n",
              "      <td>Poison</td>\n",
              "      <td>625</td>\n",
              "      <td>80</td>\n",
              "      <td>100</td>\n",
              "      <td>123</td>\n",
              "      <td>122</td>\n",
              "      <td>120</td>\n",
              "      <td>80</td>\n",
              "      <td>1</td>\n",
              "      <td>False</td>\n",
              "      <td>0</td>\n",
              "      <td>0</td>\n",
              "      <td>0</td>\n",
              "    </tr>\n",
              "    <tr>\n",
              "      <th>4</th>\n",
              "      <td>Gigantamax Venusaur</td>\n",
              "      <td>Grass</td>\n",
              "      <td>Poison</td>\n",
              "      <td>525</td>\n",
              "      <td>80</td>\n",
              "      <td>82</td>\n",
              "      <td>83</td>\n",
              "      <td>100</td>\n",
              "      <td>100</td>\n",
              "      <td>80</td>\n",
              "      <td>1</td>\n",
              "      <td>False</td>\n",
              "      <td>0</td>\n",
              "      <td>0</td>\n",
              "      <td>0</td>\n",
              "    </tr>\n",
              "    <tr>\n",
              "      <th>...</th>\n",
              "      <td>...</td>\n",
              "      <td>...</td>\n",
              "      <td>...</td>\n",
              "      <td>...</td>\n",
              "      <td>...</td>\n",
              "      <td>...</td>\n",
              "      <td>...</td>\n",
              "      <td>...</td>\n",
              "      <td>...</td>\n",
              "      <td>...</td>\n",
              "      <td>...</td>\n",
              "      <td>...</td>\n",
              "      <td>...</td>\n",
              "      <td>...</td>\n",
              "      <td>...</td>\n",
              "    </tr>\n",
              "    <tr>\n",
              "      <th>1067</th>\n",
              "      <td>Glastrier</td>\n",
              "      <td>Ice</td>\n",
              "      <td>NaN</td>\n",
              "      <td>580</td>\n",
              "      <td>100</td>\n",
              "      <td>145</td>\n",
              "      <td>130</td>\n",
              "      <td>65</td>\n",
              "      <td>110</td>\n",
              "      <td>30</td>\n",
              "      <td>8</td>\n",
              "      <td>True</td>\n",
              "      <td>10</td>\n",
              "      <td>1</td>\n",
              "      <td>1</td>\n",
              "    </tr>\n",
              "    <tr>\n",
              "      <th>1068</th>\n",
              "      <td>Spectrier</td>\n",
              "      <td>Ghost</td>\n",
              "      <td>NaN</td>\n",
              "      <td>580</td>\n",
              "      <td>100</td>\n",
              "      <td>65</td>\n",
              "      <td>60</td>\n",
              "      <td>145</td>\n",
              "      <td>80</td>\n",
              "      <td>130</td>\n",
              "      <td>8</td>\n",
              "      <td>True</td>\n",
              "      <td>16</td>\n",
              "      <td>1</td>\n",
              "      <td>1</td>\n",
              "    </tr>\n",
              "    <tr>\n",
              "      <th>1069</th>\n",
              "      <td>Calyrex</td>\n",
              "      <td>Psychic</td>\n",
              "      <td>Grass</td>\n",
              "      <td>500</td>\n",
              "      <td>100</td>\n",
              "      <td>80</td>\n",
              "      <td>80</td>\n",
              "      <td>80</td>\n",
              "      <td>80</td>\n",
              "      <td>80</td>\n",
              "      <td>8</td>\n",
              "      <td>True</td>\n",
              "      <td>14</td>\n",
              "      <td>10</td>\n",
              "      <td>1</td>\n",
              "    </tr>\n",
              "    <tr>\n",
              "      <th>1070</th>\n",
              "      <td>Ice Rider Calyrex</td>\n",
              "      <td>Psychic</td>\n",
              "      <td>Ice</td>\n",
              "      <td>680</td>\n",
              "      <td>100</td>\n",
              "      <td>165</td>\n",
              "      <td>150</td>\n",
              "      <td>85</td>\n",
              "      <td>130</td>\n",
              "      <td>50</td>\n",
              "      <td>8</td>\n",
              "      <td>True</td>\n",
              "      <td>14</td>\n",
              "      <td>13</td>\n",
              "      <td>1</td>\n",
              "    </tr>\n",
              "    <tr>\n",
              "      <th>1071</th>\n",
              "      <td>Shadow Rider Calyrex</td>\n",
              "      <td>Psychic</td>\n",
              "      <td>Ghost</td>\n",
              "      <td>680</td>\n",
              "      <td>100</td>\n",
              "      <td>85</td>\n",
              "      <td>80</td>\n",
              "      <td>165</td>\n",
              "      <td>100</td>\n",
              "      <td>150</td>\n",
              "      <td>8</td>\n",
              "      <td>True</td>\n",
              "      <td>14</td>\n",
              "      <td>15</td>\n",
              "      <td>1</td>\n",
              "    </tr>\n",
              "  </tbody>\n",
              "</table>\n",
              "<p>1072 rows × 15 columns</p>\n",
              "</div>\n",
              "      <button class=\"colab-df-convert\" onclick=\"convertToInteractive('df-6ae41b94-d8b3-419f-b1a6-46f6ca1ac444')\"\n",
              "              title=\"Convert this dataframe to an interactive table.\"\n",
              "              style=\"display:none;\">\n",
              "        \n",
              "  <svg xmlns=\"http://www.w3.org/2000/svg\" height=\"24px\"viewBox=\"0 0 24 24\"\n",
              "       width=\"24px\">\n",
              "    <path d=\"M0 0h24v24H0V0z\" fill=\"none\"/>\n",
              "    <path d=\"M18.56 5.44l.94 2.06.94-2.06 2.06-.94-2.06-.94-.94-2.06-.94 2.06-2.06.94zm-11 1L8.5 8.5l.94-2.06 2.06-.94-2.06-.94L8.5 2.5l-.94 2.06-2.06.94zm10 10l.94 2.06.94-2.06 2.06-.94-2.06-.94-.94-2.06-.94 2.06-2.06.94z\"/><path d=\"M17.41 7.96l-1.37-1.37c-.4-.4-.92-.59-1.43-.59-.52 0-1.04.2-1.43.59L10.3 9.45l-7.72 7.72c-.78.78-.78 2.05 0 2.83L4 21.41c.39.39.9.59 1.41.59.51 0 1.02-.2 1.41-.59l7.78-7.78 2.81-2.81c.8-.78.8-2.07 0-2.86zM5.41 20L4 18.59l7.72-7.72 1.47 1.35L5.41 20z\"/>\n",
              "  </svg>\n",
              "      </button>\n",
              "      \n",
              "  <style>\n",
              "    .colab-df-container {\n",
              "      display:flex;\n",
              "      flex-wrap:wrap;\n",
              "      gap: 12px;\n",
              "    }\n",
              "\n",
              "    .colab-df-convert {\n",
              "      background-color: #E8F0FE;\n",
              "      border: none;\n",
              "      border-radius: 50%;\n",
              "      cursor: pointer;\n",
              "      display: none;\n",
              "      fill: #1967D2;\n",
              "      height: 32px;\n",
              "      padding: 0 0 0 0;\n",
              "      width: 32px;\n",
              "    }\n",
              "\n",
              "    .colab-df-convert:hover {\n",
              "      background-color: #E2EBFA;\n",
              "      box-shadow: 0px 1px 2px rgba(60, 64, 67, 0.3), 0px 1px 3px 1px rgba(60, 64, 67, 0.15);\n",
              "      fill: #174EA6;\n",
              "    }\n",
              "\n",
              "    [theme=dark] .colab-df-convert {\n",
              "      background-color: #3B4455;\n",
              "      fill: #D2E3FC;\n",
              "    }\n",
              "\n",
              "    [theme=dark] .colab-df-convert:hover {\n",
              "      background-color: #434B5C;\n",
              "      box-shadow: 0px 1px 3px 1px rgba(0, 0, 0, 0.15);\n",
              "      filter: drop-shadow(0px 1px 2px rgba(0, 0, 0, 0.3));\n",
              "      fill: #FFFFFF;\n",
              "    }\n",
              "  </style>\n",
              "\n",
              "      <script>\n",
              "        const buttonEl =\n",
              "          document.querySelector('#df-6ae41b94-d8b3-419f-b1a6-46f6ca1ac444 button.colab-df-convert');\n",
              "        buttonEl.style.display =\n",
              "          google.colab.kernel.accessAllowed ? 'block' : 'none';\n",
              "\n",
              "        async function convertToInteractive(key) {\n",
              "          const element = document.querySelector('#df-6ae41b94-d8b3-419f-b1a6-46f6ca1ac444');\n",
              "          const dataTable =\n",
              "            await google.colab.kernel.invokeFunction('convertToInteractive',\n",
              "                                                     [key], {});\n",
              "          if (!dataTable) return;\n",
              "\n",
              "          const docLinkHtml = 'Like what you see? Visit the ' +\n",
              "            '<a target=\"_blank\" href=https://colab.research.google.com/notebooks/data_table.ipynb>data table notebook</a>'\n",
              "            + ' to learn more about interactive tables.';\n",
              "          element.innerHTML = '';\n",
              "          dataTable['output_type'] = 'display_data';\n",
              "          await google.colab.output.renderOutput(dataTable, element);\n",
              "          const docLink = document.createElement('div');\n",
              "          docLink.innerHTML = docLinkHtml;\n",
              "          element.appendChild(docLink);\n",
              "        }\n",
              "      </script>\n",
              "    </div>\n",
              "  </div>\n",
              "  "
            ]
          },
          "metadata": {},
          "execution_count": 11
        }
      ]
    },
    {
      "cell_type": "markdown",
      "source": [
        "### **Problem #2: Decide the independent and dependent variables.**\n",
        "---\n",
        "\n",
        "Complete the code below to decide the features and label for this problem. **NOTE**: These should only include numerical variables."
      ],
      "metadata": {
        "id": "a13CS47RuAQP"
      }
    },
    {
      "cell_type": "code",
      "source": [
        "features = \n",
        "label = "
      ],
      "metadata": {
        "id": "k4ZP2wRzuHf7"
      },
      "execution_count": null,
      "outputs": []
    },
    {
      "cell_type": "markdown",
      "source": [
        "#### **Solution**"
      ],
      "metadata": {
        "id": "KMd0UhP0uH2M"
      }
    },
    {
      "cell_type": "code",
      "source": [
        "new_pokemon_df = pokemon_df"
      ],
      "metadata": {
        "id": "aGrUzc9iGOJ1"
      },
      "execution_count": null,
      "outputs": []
    },
    {
      "cell_type": "code",
      "source": [
        "features = new_pokemon_df.drop(columns = ['name', 'type1', 'type2', 'legendary', 'type1_encoded'], axis = 1)\n",
        "label = new_pokemon_df['type1_encoded']\n",
        "label"
      ],
      "metadata": {
        "id": "KrO5kr95uINN",
        "colab": {
          "base_uri": "https://localhost:8080/"
        },
        "outputId": "663b0a50-2ecc-447a-d94d-da0bd7eee0b4"
      },
      "execution_count": null,
      "outputs": [
        {
          "output_type": "execute_result",
          "data": {
            "text/plain": [
              "0        0\n",
              "1        0\n",
              "2        0\n",
              "3        0\n",
              "4        0\n",
              "        ..\n",
              "1067    10\n",
              "1068    16\n",
              "1069    14\n",
              "1070    14\n",
              "1071    14\n",
              "Name: type1_encoded, Length: 1072, dtype: int64"
            ]
          },
          "metadata": {},
          "execution_count": 24
        }
      ]
    },
    {
      "cell_type": "markdown",
      "source": [
        "### **Problem #3: Split the data into train and test sets.**\n",
        "---\n",
        "\n",
        "For now, we will skip adding a validation set this time. Make sure the test dataset is 20% of the original dataset."
      ],
      "metadata": {
        "id": "CR-vjxr7eWEf"
      }
    },
    {
      "cell_type": "code",
      "source": [
        "X_train, X_test, y_train, y_test = train_test_split(# COMPLETE THIS LINE"
      ],
      "metadata": {
        "id": "TYCTFDv7hZT6"
      },
      "execution_count": null,
      "outputs": []
    },
    {
      "cell_type": "markdown",
      "source": [
        "###### **Solution**"
      ],
      "metadata": {
        "id": "eS7AwKedhYhy"
      }
    },
    {
      "cell_type": "code",
      "source": [
        "X_train, X_test, y_train, y_test = train_test_split(features, label, test_size=0.2, random_state=42)"
      ],
      "metadata": {
        "id": "pMP6RzSCeTEP"
      },
      "execution_count": null,
      "outputs": []
    },
    {
      "cell_type": "markdown",
      "metadata": {
        "id": "rQg6Z_lTcg3e"
      },
      "source": [
        "### **Problem #4: Scale your data**\n",
        "---"
      ]
    },
    {
      "cell_type": "code",
      "source": [
        "\n",
        "scaler = # COMPLETE THIS LINE\n",
        "\n",
        "X_train_scaled = scaler.# COMPLETE THIS LINE\n",
        "X_test_scaled = scaler.# COMPLETE THIS LINE"
      ],
      "metadata": {
        "id": "sdhNoIloVOFR"
      },
      "execution_count": null,
      "outputs": []
    },
    {
      "cell_type": "markdown",
      "source": [
        "#### **Solution**"
      ],
      "metadata": {
        "id": "_-TRENkzVPEZ"
      }
    },
    {
      "cell_type": "code",
      "execution_count": null,
      "metadata": {
        "id": "xh55GS9Pcqgb"
      },
      "outputs": [],
      "source": [
        "scaler = StandardScaler()\n",
        "\n",
        "#X_train_scaled_onlyTransform = scaler.transform(X_train)\n",
        "X_train_scaled = scaler.fit_transform(X_train)\n",
        "X_test_scaled = scaler.transform(X_test)\n"
      ]
    },
    {
      "cell_type": "markdown",
      "source": [
        "### **Problem #5: Initialize a Multi-Class Logistic Regression model and train it.**\n",
        "---\n",
        "\n",
        "Use one versus rest multi-class classification and the standardized training data."
      ],
      "metadata": {
        "id": "F24ferHretdr"
      }
    },
    {
      "cell_type": "code",
      "source": [
        "clf = # COMPLETE THIS LINE\n",
        "clf.# COMPLETE THIS LINE"
      ],
      "metadata": {
        "id": "1br90axohZ7N"
      },
      "execution_count": null,
      "outputs": []
    },
    {
      "cell_type": "markdown",
      "source": [
        "###### **Solution**"
      ],
      "metadata": {
        "id": "awEIxFGAhXe9"
      }
    },
    {
      "cell_type": "code",
      "source": [
        "clf = LogisticRegression(multi_class='ovr')\n",
        "clf.fit(X_train_scaled, y_train)"
      ],
      "metadata": {
        "id": "GUpvNAwx1nBJ",
        "colab": {
          "base_uri": "https://localhost:8080/",
          "height": 95
        },
        "outputId": "0d6beecd-434b-412e-b389-1839a87e0dfd"
      },
      "execution_count": null,
      "outputs": [
        {
          "output_type": "execute_result",
          "data": {
            "text/plain": [
              "LogisticRegression(multi_class='ovr')"
            ],
            "text/html": [
              "<style>#sk-container-id-1 {color: black;background-color: white;}#sk-container-id-1 pre{padding: 0;}#sk-container-id-1 div.sk-toggleable {background-color: white;}#sk-container-id-1 label.sk-toggleable__label {cursor: pointer;display: block;width: 100%;margin-bottom: 0;padding: 0.3em;box-sizing: border-box;text-align: center;}#sk-container-id-1 label.sk-toggleable__label-arrow:before {content: \"▸\";float: left;margin-right: 0.25em;color: #696969;}#sk-container-id-1 label.sk-toggleable__label-arrow:hover:before {color: black;}#sk-container-id-1 div.sk-estimator:hover label.sk-toggleable__label-arrow:before {color: black;}#sk-container-id-1 div.sk-toggleable__content {max-height: 0;max-width: 0;overflow: hidden;text-align: left;background-color: #f0f8ff;}#sk-container-id-1 div.sk-toggleable__content pre {margin: 0.2em;color: black;border-radius: 0.25em;background-color: #f0f8ff;}#sk-container-id-1 input.sk-toggleable__control:checked~div.sk-toggleable__content {max-height: 200px;max-width: 100%;overflow: auto;}#sk-container-id-1 input.sk-toggleable__control:checked~label.sk-toggleable__label-arrow:before {content: \"▾\";}#sk-container-id-1 div.sk-estimator input.sk-toggleable__control:checked~label.sk-toggleable__label {background-color: #d4ebff;}#sk-container-id-1 div.sk-label input.sk-toggleable__control:checked~label.sk-toggleable__label {background-color: #d4ebff;}#sk-container-id-1 input.sk-hidden--visually {border: 0;clip: rect(1px 1px 1px 1px);clip: rect(1px, 1px, 1px, 1px);height: 1px;margin: -1px;overflow: hidden;padding: 0;position: absolute;width: 1px;}#sk-container-id-1 div.sk-estimator {font-family: monospace;background-color: #f0f8ff;border: 1px dotted black;border-radius: 0.25em;box-sizing: border-box;margin-bottom: 0.5em;}#sk-container-id-1 div.sk-estimator:hover {background-color: #d4ebff;}#sk-container-id-1 div.sk-parallel-item::after {content: \"\";width: 100%;border-bottom: 1px solid gray;flex-grow: 1;}#sk-container-id-1 div.sk-label:hover label.sk-toggleable__label {background-color: #d4ebff;}#sk-container-id-1 div.sk-serial::before {content: \"\";position: absolute;border-left: 1px solid gray;box-sizing: border-box;top: 0;bottom: 0;left: 50%;z-index: 0;}#sk-container-id-1 div.sk-serial {display: flex;flex-direction: column;align-items: center;background-color: white;padding-right: 0.2em;padding-left: 0.2em;position: relative;}#sk-container-id-1 div.sk-item {position: relative;z-index: 1;}#sk-container-id-1 div.sk-parallel {display: flex;align-items: stretch;justify-content: center;background-color: white;position: relative;}#sk-container-id-1 div.sk-item::before, #sk-container-id-1 div.sk-parallel-item::before {content: \"\";position: absolute;border-left: 1px solid gray;box-sizing: border-box;top: 0;bottom: 0;left: 50%;z-index: -1;}#sk-container-id-1 div.sk-parallel-item {display: flex;flex-direction: column;z-index: 1;position: relative;background-color: white;}#sk-container-id-1 div.sk-parallel-item:first-child::after {align-self: flex-end;width: 50%;}#sk-container-id-1 div.sk-parallel-item:last-child::after {align-self: flex-start;width: 50%;}#sk-container-id-1 div.sk-parallel-item:only-child::after {width: 0;}#sk-container-id-1 div.sk-dashed-wrapped {border: 1px dashed gray;margin: 0 0.4em 0.5em 0.4em;box-sizing: border-box;padding-bottom: 0.4em;background-color: white;}#sk-container-id-1 div.sk-label label {font-family: monospace;font-weight: bold;display: inline-block;line-height: 1.2em;}#sk-container-id-1 div.sk-label-container {text-align: center;}#sk-container-id-1 div.sk-container {/* jupyter's `normalize.less` sets `[hidden] { display: none; }` but bootstrap.min.css set `[hidden] { display: none !important; }` so we also need the `!important` here to be able to override the default hidden behavior on the sphinx rendered scikit-learn.org. See: https://github.com/scikit-learn/scikit-learn/issues/21755 */display: inline-block !important;position: relative;}#sk-container-id-1 div.sk-text-repr-fallback {display: none;}</style><div id=\"sk-container-id-1\" class=\"sk-top-container\"><div class=\"sk-text-repr-fallback\"><pre>LogisticRegression(multi_class=&#x27;ovr&#x27;)</pre><b>In a Jupyter environment, please rerun this cell to show the HTML representation or trust the notebook. <br />On GitHub, the HTML representation is unable to render, please try loading this page with nbviewer.org.</b></div><div class=\"sk-container\" hidden><div class=\"sk-item\"><div class=\"sk-estimator sk-toggleable\"><input class=\"sk-toggleable__control sk-hidden--visually\" id=\"sk-estimator-id-1\" type=\"checkbox\" checked><label for=\"sk-estimator-id-1\" class=\"sk-toggleable__label sk-toggleable__label-arrow\">LogisticRegression</label><div class=\"sk-toggleable__content\"><pre>LogisticRegression(multi_class=&#x27;ovr&#x27;)</pre></div></div></div></div></div>"
            ]
          },
          "metadata": {},
          "execution_count": 31
        }
      ]
    },
    {
      "cell_type": "markdown",
      "source": [
        "### **Problem #6: Make predictions for the standardized test data.**\n",
        "---\n",
        "\n",
        "**NOTE**: Since this is not a binary classification model, we cannot use the code we used for `y_pred_binary` the day before. Instead, we would need to look at the highest probability class for each datapoint."
      ],
      "metadata": {
        "id": "kQniEK33e4Gc"
      }
    },
    {
      "cell_type": "code",
      "source": [
        "y_pred = # COMPLETE THIS LINE\n",
        "print(y_pred)\n",
        "\n",
        "y_pred_proba = # COMPLETE THIS LINE\n",
        "print(y_pred_proba)"
      ],
      "metadata": {
        "id": "0w102G8chQGT"
      },
      "execution_count": null,
      "outputs": []
    },
    {
      "cell_type": "markdown",
      "source": [
        "###### **Solution**"
      ],
      "metadata": {
        "id": "MrORULw-hPrD"
      }
    },
    {
      "cell_type": "code",
      "source": [
        "y_pred = clf.predict(X_test_scaled)\n",
        "print(y_pred)\n",
        "\n",
        "y_pred_proba = clf.predict_proba(X_test_scaled)\n",
        "print(y_pred_proba)"
      ],
      "metadata": {
        "id": "V2nmz-GZe8Yd",
        "colab": {
          "base_uri": "https://localhost:8080/"
        },
        "outputId": "d0489848-f854-4772-aea4-7bf850b843fc"
      },
      "execution_count": null,
      "outputs": [
        {
          "output_type": "stream",
          "name": "stdout",
          "text": [
            "[ 0  2  5  2  5  5 12 13  0 14  2 16  4 14  2  5  5  2  5  5  0  2  2 14\n",
            "  0  0  5  2  2  5  6  4  2 14  0  5 14  2  2  6  5  5  0  2  2  0 13  4\n",
            "  5  2  2  5 15  2  0  2  8  2 13  2  4  5  5  0  2 15  5  2  2 14 11  8\n",
            "  0 14  0  8  5  1  2  2  5  5  5 14  5  5  2  2  0  1 13 14  2  9  9  5\n",
            " 14 15  0  4  2  5  8  0  5 14  2  2  5  5  2  0  5 17 15  2 13  2  5  2\n",
            "  0  2  0 14  2 12  0  4  2  2 15  5  2  2  4  2 17  5  2 13  5  8  5 14\n",
            "  9  2  4 14  5 13 14  2 14  5 14  2  0  5  5  5  2  0  5 12  2 13  2  2\n",
            "  2  2  2  0  5  2  5  2  5  5  1  2  5  2  2  2  5  2  1 14 14  5 13 14\n",
            " 13  5  4  5  0  2  2  2  9  5  2  2 14  4 14 12  5  2  5  5  5 14  2]\n",
            "[[1.70699378e-01 1.13903300e-01 9.23148906e-02 ... 3.47337671e-02\n",
            "  1.73496070e-02 1.44325578e-03]\n",
            " [1.31230695e-01 7.40020924e-02 1.42835823e-01 ... 2.97255549e-02\n",
            "  7.21220223e-03 8.92827916e-04]\n",
            " [2.72644498e-02 9.36837720e-03 4.09235794e-02 ... 1.80290519e-02\n",
            "  5.31647254e-02 1.04989119e-04]\n",
            " ...\n",
            " [1.29405822e-01 4.66119983e-02 1.57808329e-01 ... 1.03598416e-02\n",
            "  2.22813006e-03 2.83533348e-04]\n",
            " [2.68527473e-02 3.63089700e-03 5.01225681e-02 ... 6.17721302e-02\n",
            "  1.68347407e-02 2.08150467e-03]\n",
            " [3.71321116e-02 7.21503751e-02 1.99398885e-01 ... 3.24851053e-02\n",
            "  3.16892575e-03 3.66153919e-04]]\n"
          ]
        }
      ]
    },
    {
      "cell_type": "markdown",
      "source": [
        "### **Problem #7: Print the accuracy score.**\n",
        "---\n",
        "\n",
        "Keep in mind that there are 20 unique labels, meaning randomly guessing would achieve an accuracy score of $\\frac{1}{20} = 0.05$."
      ],
      "metadata": {
        "id": "GJxdjSNoqG1B"
      }
    },
    {
      "cell_type": "code",
      "source": [
        "accuracy = # WRITE YOUR CODE HERE\n",
        "print(f'Accuracy: {accuracy}')"
      ],
      "metadata": {
        "id": "rvVSO-lbqG1B"
      },
      "execution_count": null,
      "outputs": []
    },
    {
      "cell_type": "markdown",
      "source": [
        "###### **Solution**"
      ],
      "metadata": {
        "id": "1AvkKY0rqG1C"
      }
    },
    {
      "cell_type": "code",
      "source": [
        "accuracy = accuracy_score(y_test,y_pred)\n",
        "print(f'Accuracy: {accuracy}')"
      ],
      "metadata": {
        "colab": {
          "base_uri": "https://localhost:8080/"
        },
        "id": "nlCUrIq3pssB",
        "outputId": "919783c0-5688-4daa-fd75-9bd48589223a"
      },
      "execution_count": null,
      "outputs": [
        {
          "output_type": "stream",
          "name": "stdout",
          "text": [
            "Accuracy: 0.2\n"
          ]
        }
      ]
    },
    {
      "cell_type": "markdown",
      "source": [
        "### **Problem #8: Plot the confusion matrix.**\n",
        "---\n",
        "\n",
        "Use 'display_labels = type1_list' for `ConfusionMatrixDisplay` to see more meaningful labels."
      ],
      "metadata": {
        "id": "1nSajOFvqyGr"
      }
    },
    {
      "cell_type": "code",
      "source": [
        "cm = # WRITE YOUR CODE HERE\n",
        "disp = # WRITE YOUR CODE HERE\n",
        "disp.plot()\n",
        "plt.xticks(rotation = 90)\n",
        "plt.show()"
      ],
      "metadata": {
        "id": "X6uHrmduW4g8"
      },
      "execution_count": null,
      "outputs": []
    },
    {
      "cell_type": "markdown",
      "source": [
        "###### **Solution**"
      ],
      "metadata": {
        "id": "nwgdnD3eW5EW"
      }
    },
    {
      "cell_type": "code",
      "source": [
        "cm = confusion_matrix(y_test, y_pred, labels=clf.classes_)\n",
        "\n",
        "disp = ConfusionMatrixDisplay(confusion_matrix=cm, display_labels=type1_list)\n",
        "disp.plot()\n",
        "\n",
        "plt.xticks(rotation = 90)\n",
        "plt.show()"
      ],
      "metadata": {
        "colab": {
          "base_uri": "https://localhost:8080/"
        },
        "id": "BTigiEy0pm1i",
        "outputId": "ede5f667-594c-43cb-96ad-4519856779e3"
      },
      "execution_count": null,
      "outputs": [
        {
          "output_type": "display_data",
          "data": {
            "text/plain": [
              "<Figure size 640x480 with 2 Axes>"
            ],
            "image/png": "[encoded data removed]"
          },
          "metadata": {}
        }
      ]
    },
    {
      "cell_type": "markdown",
      "metadata": {
        "id": "oRLXej6ScwfT"
      },
      "source": [
        "### **Problem #9: Use your model**\n",
        "\n",
        "Given the following values, classify these new Pokemon.\n",
        "1.  `total = 300`,\t`hp = 50`, `attack = 40`,\t`defense = 60`,\t`sp_attack = 60`,\t`sp_defense = 67`,\t`speed = 40`,\t`generation = 6`, `type2_encoded = 3`, `legendary_encoded = 1`\n",
        "\n",
        "2.  `total = 250`,\t`hp = 40`, `attack = 60`,\t`defense = 40`,\t`sp_attack = 40`,\t`sp_defense = 30`,\t`speed = 70`,\t`generation = 8`, `type2_encoded = 14`, `legendary_encoded = 0`\n",
        "\n",
        "3. `total = 500`,\t`hp = 70`, `attack = 50`,\t`defense = 75`,\t`sp_attack = 80`,\t`sp_defense = 80`,\t`speed = 100`,\t`generation = 6`, `type2_encoded = 8`, `legendary_encoded = 1`\n",
        "\n",
        "<br>\n",
        "\n",
        "####**Remember to standardize the data with the scaler you used in Step #6 and `.transform(...)`.**\n"
      ]
    },
    {
      "cell_type": "code",
      "source": [
        "new_pokemon = pd.DataFrame([[# COMPLETE THIS LINE , columns = features.columns)\n",
        "\n",
        "new_scaled = scaler.transform(# COMPLETE THIS LINE \n",
        "predictions = # COMPLETE THIS LINE \n",
        "\n",
        "print(predictions)\n",
        "print([type1_list[predictions[i]] for i in range(3)])"
      ],
      "metadata": {
        "id": "2r6TP-3hVb6O"
      },
      "execution_count": null,
      "outputs": []
    },
    {
      "cell_type": "markdown",
      "source": [
        "#### **Solution**"
      ],
      "metadata": {
        "id": "vnJ7jE4oVajZ"
      }
    },
    {
      "cell_type": "code",
      "execution_count": null,
      "metadata": {
        "id": "GSUCXrp1c2M5",
        "colab": {
          "base_uri": "https://localhost:8080/"
        },
        "outputId": "6d5f35ac-c9c9-4fc8-e2dd-2201bcc04182"
      },
      "outputs": [
        {
          "output_type": "stream",
          "name": "stdout",
          "text": [
            "[14  6 14]\n",
            "['Psychic', 'Dark', 'Psychic']\n"
          ]
        }
      ],
      "source": [
        "new_pokemon = pd.DataFrame([[300,50,40,60,60,67,40,6,3,1],[250,40,60,40,40,30,70,8,14,0], [500,70,50,75,80,80,100,6,8,1]] , columns = features.columns)\n",
        "\n",
        "new_scaled = scaler.transform(new_pokemon)\n",
        "predictions = clf.predict(new_scaled)\n",
        "\n",
        "print(predictions)\n",
        "print([type1_list[predictions[i]] for i in range(3)])"
      ]
    },
    {
      "cell_type": "markdown",
      "source": [
        "---\n",
        "## **Back To Lecture**\n",
        "---"
      ],
      "metadata": {
        "id": "VoaiY6Wsje4Z"
      }
    },
    {
      "cell_type": "markdown",
      "metadata": {
        "id": "MSLDGNW5YVHm"
      },
      "source": [
        "<a name=\"p2\"></a>\n",
        "\n",
        "---\n",
        "## **Part 2: One-hot Encoding**\n",
        "---\n",
        "\n",
        "In this section, you will perform the same modeling process, **except using one-hot encoding instead of label encoding**."
      ]
    },
    {
      "cell_type": "markdown",
      "metadata": {
        "id": "OwQpK_SpeZhW"
      },
      "source": [
        "### **Problem #1: Encode all categorical features.**\n",
        "---\n",
        "\n",
        "Complete the code below to encode `type2` and `legendary`. However, **one-hot encode** these variables instead. We will leave the label as is to make predictions easier.\n",
        "\n",
        "<br>\n",
        "\n",
        "**NOTE**: There are a few extra lines we need to add to allow `OneHotEncoder` and `pandas` to work, so we have provided the full `type2` encoding for you."
      ]
    },
    {
      "cell_type": "code",
      "source": [
        "# Create the new dataframe\n",
        "new_pokemon_df = pokemon_df.drop(columns = ['type2', 'legendary'], axis = 1)\n",
        "\n",
        "# Create the encoder and transform the desired columns\n",
        "type2_ohe = OneHotEncoder(sparse_output = False)\n",
        "type2_ohe.set_output(transform = 'pandas')\n",
        "\n",
        "transformed = type2_ohe.fit_transform(pokemon_df[['type2']])\n",
        "\n",
        "# Create the new dataframe\n",
        "new_pokemon_df[transformed.columns] = transformed\n",
        "\n",
        "\n",
        "new_pokemon_df.head()"
      ],
      "metadata": {
        "id": "nbDGd1eUmEzw"
      },
      "execution_count": null,
      "outputs": []
    },
    {
      "cell_type": "code",
      "source": [
        "# Create the encoder and transform the desired columns\n",
        "legendary_ohe = # COMPLETE THIS LINE\n",
        "legendary_ohe.set_output(# COMPLETE THIS LINE\n",
        "\n",
        "transformed = legendary_ohe.# COMPLETE THIS LINE\n",
        "\n",
        "# Create the new dataframe\n",
        "new_pokemon_df[# COMPLETE THIS LINE\n",
        "\n",
        "\n",
        "new_pokemon_df.head()"
      ],
      "metadata": {
        "id": "7kudhZmimEzy"
      },
      "execution_count": null,
      "outputs": []
    },
    {
      "cell_type": "markdown",
      "source": [
        "#### **Solution**"
      ],
      "metadata": {
        "id": "3A6ACIx0eZhX"
      }
    },
    {
      "cell_type": "code",
      "source": [
        "# Create the new dataframe\n",
        "new_pokemon_df = pokemon_df.drop(columns = ['type2', 'legendary'], axis = 1)\n",
        "\n",
        "# Create the encoder and transform the desired columns\n",
        "type2_ohe = OneHotEncoder(sparse_output = False)\n",
        "type2_ohe.set_output(transform = 'pandas')\n",
        "\n",
        "transformed = type2_ohe.fit_transform(pokemon_df[['type2']])\n",
        "\n",
        "# Create the new dataframe\n",
        "new_pokemon_df[transformed.columns] = transformed\n",
        "\n",
        "\n",
        "new_pokemon_df.head()"
      ],
      "metadata": {
        "colab": {
          "base_uri": "https://localhost:8080/",
          "height": 334
        },
        "id": "V7kXr1dserC9",
        "outputId": "b3159bfa-c991-4d0f-f197-91e1ba717747"
      },
      "execution_count": null,
      "outputs": [
        {
          "output_type": "execute_result",
          "data": {
            "text/plain": [
              "                  name  type1  total  hp  attack  defense  sp_attack  \\\n",
              "0            Bulbasaur  Grass    318  45      49       49         65   \n",
              "1              Ivysaur  Grass    405  60      62       63         80   \n",
              "2             Venusaur  Grass    525  80      82       83        100   \n",
              "3        Mega Venusaur  Grass    625  80     100      123        122   \n",
              "4  Gigantamax Venusaur  Grass    525  80      82       83        100   \n",
              "\n",
              "   sp_defense  speed  generation  ...  type2_Grass  type2_Ground  type2_Ice  \\\n",
              "0          65     45           1  ...          0.0           0.0        0.0   \n",
              "1          80     60           1  ...          0.0           0.0        0.0   \n",
              "2         100     80           1  ...          0.0           0.0        0.0   \n",
              "3         120     80           1  ...          0.0           0.0        0.0   \n",
              "4         100     80           1  ...          0.0           0.0        0.0   \n",
              "\n",
              "   type2_Normal  type2_Poison  type2_Psychic  type2_Rock  type2_Steel  \\\n",
              "0           0.0           1.0            0.0         0.0          0.0   \n",
              "1           0.0           1.0            0.0         0.0          0.0   \n",
              "2           0.0           1.0            0.0         0.0          0.0   \n",
              "3           0.0           1.0            0.0         0.0          0.0   \n",
              "4           0.0           1.0            0.0         0.0          0.0   \n",
              "\n",
              "   type2_Water  type2_nan  \n",
              "0          0.0        0.0  \n",
              "1          0.0        0.0  \n",
              "2          0.0        0.0  \n",
              "3          0.0        0.0  \n",
              "4          0.0        0.0  \n",
              "\n",
              "[5 rows x 32 columns]"
            ],
            "text/html": [
              "\n",
              "  <div id=\"df-ef2e5444-8001-4451-9ca5-d922bc3514db\">\n",
              "    <div class=\"colab-df-container\">\n",
              "      <div>\n",
              "<style scoped>\n",
              "    .dataframe tbody tr th:only-of-type {\n",
              "        vertical-align: middle;\n",
              "    }\n",
              "\n",
              "    .dataframe tbody tr th {\n",
              "        vertical-align: top;\n",
              "    }\n",
              "\n",
              "    .dataframe thead th {\n",
              "        text-align: right;\n",
              "    }\n",
              "</style>\n",
              "<table border=\"1\" class=\"dataframe\">\n",
              "  <thead>\n",
              "    <tr style=\"text-align: right;\">\n",
              "      <th></th>\n",
              "      <th>name</th>\n",
              "      <th>type1</th>\n",
              "      <th>total</th>\n",
              "      <th>hp</th>\n",
              "      <th>attack</th>\n",
              "      <th>defense</th>\n",
              "      <th>sp_attack</th>\n",
              "      <th>sp_defense</th>\n",
              "      <th>speed</th>\n",
              "      <th>generation</th>\n",
              "      <th>...</th>\n",
              "      <th>type2_Grass</th>\n",
              "      <th>type2_Ground</th>\n",
              "      <th>type2_Ice</th>\n",
              "      <th>type2_Normal</th>\n",
              "      <th>type2_Poison</th>\n",
              "      <th>type2_Psychic</th>\n",
              "      <th>type2_Rock</th>\n",
              "      <th>type2_Steel</th>\n",
              "      <th>type2_Water</th>\n",
              "      <th>type2_nan</th>\n",
              "    </tr>\n",
              "  </thead>\n",
              "  <tbody>\n",
              "    <tr>\n",
              "      <th>0</th>\n",
              "      <td>Bulbasaur</td>\n",
              "      <td>Grass</td>\n",
              "      <td>318</td>\n",
              "      <td>45</td>\n",
              "      <td>49</td>\n",
              "      <td>49</td>\n",
              "      <td>65</td>\n",
              "      <td>65</td>\n",
              "      <td>45</td>\n",
              "      <td>1</td>\n",
              "      <td>...</td>\n",
              "      <td>0.0</td>\n",
              "      <td>0.0</td>\n",
              "      <td>0.0</td>\n",
              "      <td>0.0</td>\n",
              "      <td>1.0</td>\n",
              "      <td>0.0</td>\n",
              "      <td>0.0</td>\n",
              "      <td>0.0</td>\n",
              "      <td>0.0</td>\n",
              "      <td>0.0</td>\n",
              "    </tr>\n",
              "    <tr>\n",
              "      <th>1</th>\n",
              "      <td>Ivysaur</td>\n",
              "      <td>Grass</td>\n",
              "      <td>405</td>\n",
              "      <td>60</td>\n",
              "      <td>62</td>\n",
              "      <td>63</td>\n",
              "      <td>80</td>\n",
              "      <td>80</td>\n",
              "      <td>60</td>\n",
              "      <td>1</td>\n",
              "      <td>...</td>\n",
              "      <td>0.0</td>\n",
              "      <td>0.0</td>\n",
              "      <td>0.0</td>\n",
              "      <td>0.0</td>\n",
              "      <td>1.0</td>\n",
              "      <td>0.0</td>\n",
              "      <td>0.0</td>\n",
              "      <td>0.0</td>\n",
              "      <td>0.0</td>\n",
              "      <td>0.0</td>\n",
              "    </tr>\n",
              "    <tr>\n",
              "      <th>2</th>\n",
              "      <td>Venusaur</td>\n",
              "      <td>Grass</td>\n",
              "      <td>525</td>\n",
              "      <td>80</td>\n",
              "      <td>82</td>\n",
              "      <td>83</td>\n",
              "      <td>100</td>\n",
              "      <td>100</td>\n",
              "      <td>80</td>\n",
              "      <td>1</td>\n",
              "      <td>...</td>\n",
              "      <td>0.0</td>\n",
              "      <td>0.0</td>\n",
              "      <td>0.0</td>\n",
              "      <td>0.0</td>\n",
              "      <td>1.0</td>\n",
              "      <td>0.0</td>\n",
              "      <td>0.0</td>\n",
              "      <td>0.0</td>\n",
              "      <td>0.0</td>\n",
              "      <td>0.0</td>\n",
              "    </tr>\n",
              "    <tr>\n",
              "      <th>3</th>\n",
              "      <td>Mega Venusaur</td>\n",
              "      <td>Grass</td>\n",
              "      <td>625</td>\n",
              "      <td>80</td>\n",
              "      <td>100</td>\n",
              "      <td>123</td>\n",
              "      <td>122</td>\n",
              "      <td>120</td>\n",
              "      <td>80</td>\n",
              "      <td>1</td>\n",
              "      <td>...</td>\n",
              "      <td>0.0</td>\n",
              "      <td>0.0</td>\n",
              "      <td>0.0</td>\n",
              "      <td>0.0</td>\n",
              "      <td>1.0</td>\n",
              "      <td>0.0</td>\n",
              "      <td>0.0</td>\n",
              "      <td>0.0</td>\n",
              "      <td>0.0</td>\n",
              "      <td>0.0</td>\n",
              "    </tr>\n",
              "    <tr>\n",
              "      <th>4</th>\n",
              "      <td>Gigantamax Venusaur</td>\n",
              "      <td>Grass</td>\n",
              "      <td>525</td>\n",
              "      <td>80</td>\n",
              "      <td>82</td>\n",
              "      <td>83</td>\n",
              "      <td>100</td>\n",
              "      <td>100</td>\n",
              "      <td>80</td>\n",
              "      <td>1</td>\n",
              "      <td>...</td>\n",
              "      <td>0.0</td>\n",
              "      <td>0.0</td>\n",
              "      <td>0.0</td>\n",
              "      <td>0.0</td>\n",
              "      <td>1.0</td>\n",
              "      <td>0.0</td>\n",
              "      <td>0.0</td>\n",
              "      <td>0.0</td>\n",
              "      <td>0.0</td>\n",
              "      <td>0.0</td>\n",
              "    </tr>\n",
              "  </tbody>\n",
              "</table>\n",
              "<p>5 rows × 32 columns</p>\n",
              "</div>\n",
              "      <button class=\"colab-df-convert\" onclick=\"convertToInteractive('df-ef2e5444-8001-4451-9ca5-d922bc3514db')\"\n",
              "              title=\"Convert this dataframe to an interactive table.\"\n",
              "              style=\"display:none;\">\n",
              "        \n",
              "  <svg xmlns=\"http://www.w3.org/2000/svg\" height=\"24px\"viewBox=\"0 0 24 24\"\n",
              "       width=\"24px\">\n",
              "    <path d=\"M0 0h24v24H0V0z\" fill=\"none\"/>\n",
              "    <path d=\"M18.56 5.44l.94 2.06.94-2.06 2.06-.94-2.06-.94-.94-2.06-.94 2.06-2.06.94zm-11 1L8.5 8.5l.94-2.06 2.06-.94-2.06-.94L8.5 2.5l-.94 2.06-2.06.94zm10 10l.94 2.06.94-2.06 2.06-.94-2.06-.94-.94-2.06-.94 2.06-2.06.94z\"/><path d=\"M17.41 7.96l-1.37-1.37c-.4-.4-.92-.59-1.43-.59-.52 0-1.04.2-1.43.59L10.3 9.45l-7.72 7.72c-.78.78-.78 2.05 0 2.83L4 21.41c.39.39.9.59 1.41.59.51 0 1.02-.2 1.41-.59l7.78-7.78 2.81-2.81c.8-.78.8-2.07 0-2.86zM5.41 20L4 18.59l7.72-7.72 1.47 1.35L5.41 20z\"/>\n",
              "  </svg>\n",
              "      </button>\n",
              "      \n",
              "  <style>\n",
              "    .colab-df-container {\n",
              "      display:flex;\n",
              "      flex-wrap:wrap;\n",
              "      gap: 12px;\n",
              "    }\n",
              "\n",
              "    .colab-df-convert {\n",
              "      background-color: #E8F0FE;\n",
              "      border: none;\n",
              "      border-radius: 50%;\n",
              "      cursor: pointer;\n",
              "      display: none;\n",
              "      fill: #1967D2;\n",
              "      height: 32px;\n",
              "      padding: 0 0 0 0;\n",
              "      width: 32px;\n",
              "    }\n",
              "\n",
              "    .colab-df-convert:hover {\n",
              "      background-color: #E2EBFA;\n",
              "      box-shadow: 0px 1px 2px rgba(60, 64, 67, 0.3), 0px 1px 3px 1px rgba(60, 64, 67, 0.15);\n",
              "      fill: #174EA6;\n",
              "    }\n",
              "\n",
              "    [theme=dark] .colab-df-convert {\n",
              "      background-color: #3B4455;\n",
              "      fill: #D2E3FC;\n",
              "    }\n",
              "\n",
              "    [theme=dark] .colab-df-convert:hover {\n",
              "      background-color: #434B5C;\n",
              "      box-shadow: 0px 1px 3px 1px rgba(0, 0, 0, 0.15);\n",
              "      filter: drop-shadow(0px 1px 2px rgba(0, 0, 0, 0.3));\n",
              "      fill: #FFFFFF;\n",
              "    }\n",
              "  </style>\n",
              "\n",
              "      <script>\n",
              "        const buttonEl =\n",
              "          document.querySelector('#df-ef2e5444-8001-4451-9ca5-d922bc3514db button.colab-df-convert');\n",
              "        buttonEl.style.display =\n",
              "          google.colab.kernel.accessAllowed ? 'block' : 'none';\n",
              "\n",
              "        async function convertToInteractive(key) {\n",
              "          const element = document.querySelector('#df-ef2e5444-8001-4451-9ca5-d922bc3514db');\n",
              "          const dataTable =\n",
              "            await google.colab.kernel.invokeFunction('convertToInteractive',\n",
              "                                                     [key], {});\n",
              "          if (!dataTable) return;\n",
              "\n",
              "          const docLinkHtml = 'Like what you see? Visit the ' +\n",
              "            '<a target=\"_blank\" href=https://colab.research.google.com/notebooks/data_table.ipynb>data table notebook</a>'\n",
              "            + ' to learn more about interactive tables.';\n",
              "          element.innerHTML = '';\n",
              "          dataTable['output_type'] = 'display_data';\n",
              "          await google.colab.output.renderOutput(dataTable, element);\n",
              "          const docLink = document.createElement('div');\n",
              "          docLink.innerHTML = docLinkHtml;\n",
              "          element.appendChild(docLink);\n",
              "        }\n",
              "      </script>\n",
              "    </div>\n",
              "  </div>\n",
              "  "
            ]
          },
          "metadata": {},
          "execution_count": 35
        }
      ]
    },
    {
      "cell_type": "code",
      "source": [
        "# Create the encoder and transform the desired columns\n",
        "legendary_ohe = OneHotEncoder(sparse_output = False)\n",
        "legendary_ohe.set_output(transform = 'pandas')\n",
        "\n",
        "transformed = legendary_ohe.fit_transform(pokemon_df[['legendary']])\n",
        "\n",
        "# Create the new dataframe\n",
        "new_pokemon_df[transformed.columns] = transformed\n",
        "\n",
        "\n",
        "new_pokemon_df.head()"
      ],
      "metadata": {
        "colab": {
          "base_uri": "https://localhost:8080/",
          "height": 334
        },
        "id": "7Ca-64Rlj4DJ",
        "outputId": "8be1d5ac-1033-44a5-eea1-d7a7c72a3e84"
      },
      "execution_count": null,
      "outputs": [
        {
          "output_type": "execute_result",
          "data": {
            "text/plain": [
              "                  name  type1  total  hp  attack  defense  sp_attack  \\\n",
              "0            Bulbasaur  Grass    318  45      49       49         65   \n",
              "1              Ivysaur  Grass    405  60      62       63         80   \n",
              "2             Venusaur  Grass    525  80      82       83        100   \n",
              "3        Mega Venusaur  Grass    625  80     100      123        122   \n",
              "4  Gigantamax Venusaur  Grass    525  80      82       83        100   \n",
              "\n",
              "   sp_defense  speed  generation  ...  type2_Ice  type2_Normal  type2_Poison  \\\n",
              "0          65     45           1  ...        0.0           0.0           1.0   \n",
              "1          80     60           1  ...        0.0           0.0           1.0   \n",
              "2         100     80           1  ...        0.0           0.0           1.0   \n",
              "3         120     80           1  ...        0.0           0.0           1.0   \n",
              "4         100     80           1  ...        0.0           0.0           1.0   \n",
              "\n",
              "   type2_Psychic  type2_Rock  type2_Steel  type2_Water  type2_nan  \\\n",
              "0            0.0         0.0          0.0          0.0        0.0   \n",
              "1            0.0         0.0          0.0          0.0        0.0   \n",
              "2            0.0         0.0          0.0          0.0        0.0   \n",
              "3            0.0         0.0          0.0          0.0        0.0   \n",
              "4            0.0         0.0          0.0          0.0        0.0   \n",
              "\n",
              "   legendary_False  legendary_True  \n",
              "0              1.0             0.0  \n",
              "1              1.0             0.0  \n",
              "2              1.0             0.0  \n",
              "3              1.0             0.0  \n",
              "4              1.0             0.0  \n",
              "\n",
              "[5 rows x 34 columns]"
            ],
            "text/html": [
              "\n",
              "  <div id=\"df-6ba27115-5c1b-4e3a-a711-c350d48e6456\">\n",
              "    <div class=\"colab-df-container\">\n",
              "      <div>\n",
              "<style scoped>\n",
              "    .dataframe tbody tr th:only-of-type {\n",
              "        vertical-align: middle;\n",
              "    }\n",
              "\n",
              "    .dataframe tbody tr th {\n",
              "        vertical-align: top;\n",
              "    }\n",
              "\n",
              "    .dataframe thead th {\n",
              "        text-align: right;\n",
              "    }\n",
              "</style>\n",
              "<table border=\"1\" class=\"dataframe\">\n",
              "  <thead>\n",
              "    <tr style=\"text-align: right;\">\n",
              "      <th></th>\n",
              "      <th>name</th>\n",
              "      <th>type1</th>\n",
              "      <th>total</th>\n",
              "      <th>hp</th>\n",
              "      <th>attack</th>\n",
              "      <th>defense</th>\n",
              "      <th>sp_attack</th>\n",
              "      <th>sp_defense</th>\n",
              "      <th>speed</th>\n",
              "      <th>generation</th>\n",
              "      <th>...</th>\n",
              "      <th>type2_Ice</th>\n",
              "      <th>type2_Normal</th>\n",
              "      <th>type2_Poison</th>\n",
              "      <th>type2_Psychic</th>\n",
              "      <th>type2_Rock</th>\n",
              "      <th>type2_Steel</th>\n",
              "      <th>type2_Water</th>\n",
              "      <th>type2_nan</th>\n",
              "      <th>legendary_False</th>\n",
              "      <th>legendary_True</th>\n",
              "    </tr>\n",
              "  </thead>\n",
              "  <tbody>\n",
              "    <tr>\n",
              "      <th>0</th>\n",
              "      <td>Bulbasaur</td>\n",
              "      <td>Grass</td>\n",
              "      <td>318</td>\n",
              "      <td>45</td>\n",
              "      <td>49</td>\n",
              "      <td>49</td>\n",
              "      <td>65</td>\n",
              "      <td>65</td>\n",
              "      <td>45</td>\n",
              "      <td>1</td>\n",
              "      <td>...</td>\n",
              "      <td>0.0</td>\n",
              "      <td>0.0</td>\n",
              "      <td>1.0</td>\n",
              "      <td>0.0</td>\n",
              "      <td>0.0</td>\n",
              "      <td>0.0</td>\n",
              "      <td>0.0</td>\n",
              "      <td>0.0</td>\n",
              "      <td>1.0</td>\n",
              "      <td>0.0</td>\n",
              "    </tr>\n",
              "    <tr>\n",
              "      <th>1</th>\n",
              "      <td>Ivysaur</td>\n",
              "      <td>Grass</td>\n",
              "      <td>405</td>\n",
              "      <td>60</td>\n",
              "      <td>62</td>\n",
              "      <td>63</td>\n",
              "      <td>80</td>\n",
              "      <td>80</td>\n",
              "      <td>60</td>\n",
              "      <td>1</td>\n",
              "      <td>...</td>\n",
              "      <td>0.0</td>\n",
              "      <td>0.0</td>\n",
              "      <td>1.0</td>\n",
              "      <td>0.0</td>\n",
              "      <td>0.0</td>\n",
              "      <td>0.0</td>\n",
              "      <td>0.0</td>\n",
              "      <td>0.0</td>\n",
              "      <td>1.0</td>\n",
              "      <td>0.0</td>\n",
              "    </tr>\n",
              "    <tr>\n",
              "      <th>2</th>\n",
              "      <td>Venusaur</td>\n",
              "      <td>Grass</td>\n",
              "      <td>525</td>\n",
              "      <td>80</td>\n",
              "      <td>82</td>\n",
              "      <td>83</td>\n",
              "      <td>100</td>\n",
              "      <td>100</td>\n",
              "      <td>80</td>\n",
              "      <td>1</td>\n",
              "      <td>...</td>\n",
              "      <td>0.0</td>\n",
              "      <td>0.0</td>\n",
              "      <td>1.0</td>\n",
              "      <td>0.0</td>\n",
              "      <td>0.0</td>\n",
              "      <td>0.0</td>\n",
              "      <td>0.0</td>\n",
              "      <td>0.0</td>\n",
              "      <td>1.0</td>\n",
              "      <td>0.0</td>\n",
              "    </tr>\n",
              "    <tr>\n",
              "      <th>3</th>\n",
              "      <td>Mega Venusaur</td>\n",
              "      <td>Grass</td>\n",
              "      <td>625</td>\n",
              "      <td>80</td>\n",
              "      <td>100</td>\n",
              "      <td>123</td>\n",
              "      <td>122</td>\n",
              "      <td>120</td>\n",
              "      <td>80</td>\n",
              "      <td>1</td>\n",
              "      <td>...</td>\n",
              "      <td>0.0</td>\n",
              "      <td>0.0</td>\n",
              "      <td>1.0</td>\n",
              "      <td>0.0</td>\n",
              "      <td>0.0</td>\n",
              "      <td>0.0</td>\n",
              "      <td>0.0</td>\n",
              "      <td>0.0</td>\n",
              "      <td>1.0</td>\n",
              "      <td>0.0</td>\n",
              "    </tr>\n",
              "    <tr>\n",
              "      <th>4</th>\n",
              "      <td>Gigantamax Venusaur</td>\n",
              "      <td>Grass</td>\n",
              "      <td>525</td>\n",
              "      <td>80</td>\n",
              "      <td>82</td>\n",
              "      <td>83</td>\n",
              "      <td>100</td>\n",
              "      <td>100</td>\n",
              "      <td>80</td>\n",
              "      <td>1</td>\n",
              "      <td>...</td>\n",
              "      <td>0.0</td>\n",
              "      <td>0.0</td>\n",
              "      <td>1.0</td>\n",
              "      <td>0.0</td>\n",
              "      <td>0.0</td>\n",
              "      <td>0.0</td>\n",
              "      <td>0.0</td>\n",
              "      <td>0.0</td>\n",
              "      <td>1.0</td>\n",
              "      <td>0.0</td>\n",
              "    </tr>\n",
              "  </tbody>\n",
              "</table>\n",
              "<p>5 rows × 34 columns</p>\n",
              "</div>\n",
              "      <button class=\"colab-df-convert\" onclick=\"convertToInteractive('df-6ba27115-5c1b-4e3a-a711-c350d48e6456')\"\n",
              "              title=\"Convert this dataframe to an interactive table.\"\n",
              "              style=\"display:none;\">\n",
              "        \n",
              "  <svg xmlns=\"http://www.w3.org/2000/svg\" height=\"24px\"viewBox=\"0 0 24 24\"\n",
              "       width=\"24px\">\n",
              "    <path d=\"M0 0h24v24H0V0z\" fill=\"none\"/>\n",
              "    <path d=\"M18.56 5.44l.94 2.06.94-2.06 2.06-.94-2.06-.94-.94-2.06-.94 2.06-2.06.94zm-11 1L8.5 8.5l.94-2.06 2.06-.94-2.06-.94L8.5 2.5l-.94 2.06-2.06.94zm10 10l.94 2.06.94-2.06 2.06-.94-2.06-.94-.94-2.06-.94 2.06-2.06.94z\"/><path d=\"M17.41 7.96l-1.37-1.37c-.4-.4-.92-.59-1.43-.59-.52 0-1.04.2-1.43.59L10.3 9.45l-7.72 7.72c-.78.78-.78 2.05 0 2.83L4 21.41c.39.39.9.59 1.41.59.51 0 1.02-.2 1.41-.59l7.78-7.78 2.81-2.81c.8-.78.8-2.07 0-2.86zM5.41 20L4 18.59l7.72-7.72 1.47 1.35L5.41 20z\"/>\n",
              "  </svg>\n",
              "      </button>\n",
              "      \n",
              "  <style>\n",
              "    .colab-df-container {\n",
              "      display:flex;\n",
              "      flex-wrap:wrap;\n",
              "      gap: 12px;\n",
              "    }\n",
              "\n",
              "    .colab-df-convert {\n",
              "      background-color: #E8F0FE;\n",
              "      border: none;\n",
              "      border-radius: 50%;\n",
              "      cursor: pointer;\n",
              "      display: none;\n",
              "      fill: #1967D2;\n",
              "      height: 32px;\n",
              "      padding: 0 0 0 0;\n",
              "      width: 32px;\n",
              "    }\n",
              "\n",
              "    .colab-df-convert:hover {\n",
              "      background-color: #E2EBFA;\n",
              "      box-shadow: 0px 1px 2px rgba(60, 64, 67, 0.3), 0px 1px 3px 1px rgba(60, 64, 67, 0.15);\n",
              "      fill: #174EA6;\n",
              "    }\n",
              "\n",
              "    [theme=dark] .colab-df-convert {\n",
              "      background-color: #3B4455;\n",
              "      fill: #D2E3FC;\n",
              "    }\n",
              "\n",
              "    [theme=dark] .colab-df-convert:hover {\n",
              "      background-color: #434B5C;\n",
              "      box-shadow: 0px 1px 3px 1px rgba(0, 0, 0, 0.15);\n",
              "      filter: drop-shadow(0px 1px 2px rgba(0, 0, 0, 0.3));\n",
              "      fill: #FFFFFF;\n",
              "    }\n",
              "  </style>\n",
              "\n",
              "      <script>\n",
              "        const buttonEl =\n",
              "          document.querySelector('#df-6ba27115-5c1b-4e3a-a711-c350d48e6456 button.colab-df-convert');\n",
              "        buttonEl.style.display =\n",
              "          google.colab.kernel.accessAllowed ? 'block' : 'none';\n",
              "\n",
              "        async function convertToInteractive(key) {\n",
              "          const element = document.querySelector('#df-6ba27115-5c1b-4e3a-a711-c350d48e6456');\n",
              "          const dataTable =\n",
              "            await google.colab.kernel.invokeFunction('convertToInteractive',\n",
              "                                                     [key], {});\n",
              "          if (!dataTable) return;\n",
              "\n",
              "          const docLinkHtml = 'Like what you see? Visit the ' +\n",
              "            '<a target=\"_blank\" href=https://colab.research.google.com/notebooks/data_table.ipynb>data table notebook</a>'\n",
              "            + ' to learn more about interactive tables.';\n",
              "          element.innerHTML = '';\n",
              "          dataTable['output_type'] = 'display_data';\n",
              "          await google.colab.output.renderOutput(dataTable, element);\n",
              "          const docLink = document.createElement('div');\n",
              "          docLink.innerHTML = docLinkHtml;\n",
              "          element.appendChild(docLink);\n",
              "        }\n",
              "      </script>\n",
              "    </div>\n",
              "  </div>\n",
              "  "
            ]
          },
          "metadata": {},
          "execution_count": 36
        }
      ]
    },
    {
      "cell_type": "markdown",
      "source": [
        "### **Problem #2: Prepare the data for modeling.**\n",
        "---\n",
        "\n",
        "Specifically,\n",
        "* Decide the independent and dependent variables (only including numerical variables except `type1`, which is the label).\n",
        "* Split the data into train and test sets such that 20% is left for testing.\n",
        "* Scale your data.\n"
      ],
      "metadata": {
        "id": "tQUUdgECkl6_"
      }
    },
    {
      "cell_type": "code",
      "source": [
        "# Decide the independent and dependent variables\n",
        "features = # COMPLETE THIS LINE\n",
        "label = # COMPLETE THIS LINE\n",
        "\n",
        "# Split the data into train and test sets\n",
        "X_train, X_test, y_train, y_test = train_test_split(# COMPLETE THIS LINE\n",
        "\n",
        "# Scale your data\n",
        "scaler = # COMPLETE THIS LINE\n",
        "\n",
        "X_train_scaled = scaler.# COMPLETE THIS LINE\n",
        "X_test_scaled = scaler.# COMPLETE THIS LINE"
      ],
      "metadata": {
        "id": "HSy6sP1gleam"
      },
      "execution_count": null,
      "outputs": []
    },
    {
      "cell_type": "markdown",
      "source": [
        "#### **Solution**"
      ],
      "metadata": {
        "id": "buQN4_LOle2V"
      }
    },
    {
      "cell_type": "code",
      "source": [
        "# Decide the independent and dependent variables\n",
        "features = new_pokemon_df.drop(columns = ['name', 'type1'], axis = 1)\n",
        "label = new_pokemon_df['type1']\n",
        "\n",
        "# Split the data into train and test sets\n",
        "X_train, X_test, y_train, y_test = train_test_split(features, label, test_size=0.2, random_state=42)\n",
        "\n",
        "# Scale your data\n",
        "scaler = StandardScaler()\n",
        "\n",
        "X_train_scaled = scaler.fit_transform(X_train)\n",
        "X_test_scaled = scaler.transform(X_test)"
      ],
      "metadata": {
        "id": "kd7fYuR1lhO9"
      },
      "execution_count": null,
      "outputs": []
    },
    {
      "cell_type": "markdown",
      "source": [
        "### **Problem #3: Initialize and train your model.**\n",
        "---"
      ],
      "metadata": {
        "id": "kYR_qY4rk3OF"
      }
    },
    {
      "cell_type": "code",
      "source": [
        "clf = # COMPLETE THIS LINE\n",
        "clf. # COMPLETE THIS LINE"
      ],
      "metadata": {
        "id": "6QMUgg9uliCp"
      },
      "execution_count": null,
      "outputs": []
    },
    {
      "cell_type": "markdown",
      "source": [
        "#### **Solution**"
      ],
      "metadata": {
        "id": "EaA3mOaYliCp"
      }
    },
    {
      "cell_type": "code",
      "source": [
        "clf = LogisticRegression(multi_class='ovr')\n",
        "clf.fit(X_train_scaled, y_train)"
      ],
      "metadata": {
        "colab": {
          "base_uri": "https://localhost:8080/",
          "height": 95
        },
        "id": "GqZuoS4fliCp",
        "outputId": "64979942-4b50-4664-807d-adef58f6bd87"
      },
      "execution_count": null,
      "outputs": [
        {
          "output_type": "execute_result",
          "data": {
            "text/plain": [
              "LogisticRegression(multi_class='ovr')"
            ],
            "text/html": [
              "<style>#sk-container-id-2 {color: black;background-color: white;}#sk-container-id-2 pre{padding: 0;}#sk-container-id-2 div.sk-toggleable {background-color: white;}#sk-container-id-2 label.sk-toggleable__label {cursor: pointer;display: block;width: 100%;margin-bottom: 0;padding: 0.3em;box-sizing: border-box;text-align: center;}#sk-container-id-2 label.sk-toggleable__label-arrow:before {content: \"▸\";float: left;margin-right: 0.25em;color: #696969;}#sk-container-id-2 label.sk-toggleable__label-arrow:hover:before {color: black;}#sk-container-id-2 div.sk-estimator:hover label.sk-toggleable__label-arrow:before {color: black;}#sk-container-id-2 div.sk-toggleable__content {max-height: 0;max-width: 0;overflow: hidden;text-align: left;background-color: #f0f8ff;}#sk-container-id-2 div.sk-toggleable__content pre {margin: 0.2em;color: black;border-radius: 0.25em;background-color: #f0f8ff;}#sk-container-id-2 input.sk-toggleable__control:checked~div.sk-toggleable__content {max-height: 200px;max-width: 100%;overflow: auto;}#sk-container-id-2 input.sk-toggleable__control:checked~label.sk-toggleable__label-arrow:before {content: \"▾\";}#sk-container-id-2 div.sk-estimator input.sk-toggleable__control:checked~label.sk-toggleable__label {background-color: #d4ebff;}#sk-container-id-2 div.sk-label input.sk-toggleable__control:checked~label.sk-toggleable__label {background-color: #d4ebff;}#sk-container-id-2 input.sk-hidden--visually {border: 0;clip: rect(1px 1px 1px 1px);clip: rect(1px, 1px, 1px, 1px);height: 1px;margin: -1px;overflow: hidden;padding: 0;position: absolute;width: 1px;}#sk-container-id-2 div.sk-estimator {font-family: monospace;background-color: #f0f8ff;border: 1px dotted black;border-radius: 0.25em;box-sizing: border-box;margin-bottom: 0.5em;}#sk-container-id-2 div.sk-estimator:hover {background-color: #d4ebff;}#sk-container-id-2 div.sk-parallel-item::after {content: \"\";width: 100%;border-bottom: 1px solid gray;flex-grow: 1;}#sk-container-id-2 div.sk-label:hover label.sk-toggleable__label {background-color: #d4ebff;}#sk-container-id-2 div.sk-serial::before {content: \"\";position: absolute;border-left: 1px solid gray;box-sizing: border-box;top: 0;bottom: 0;left: 50%;z-index: 0;}#sk-container-id-2 div.sk-serial {display: flex;flex-direction: column;align-items: center;background-color: white;padding-right: 0.2em;padding-left: 0.2em;position: relative;}#sk-container-id-2 div.sk-item {position: relative;z-index: 1;}#sk-container-id-2 div.sk-parallel {display: flex;align-items: stretch;justify-content: center;background-color: white;position: relative;}#sk-container-id-2 div.sk-item::before, #sk-container-id-2 div.sk-parallel-item::before {content: \"\";position: absolute;border-left: 1px solid gray;box-sizing: border-box;top: 0;bottom: 0;left: 50%;z-index: -1;}#sk-container-id-2 div.sk-parallel-item {display: flex;flex-direction: column;z-index: 1;position: relative;background-color: white;}#sk-container-id-2 div.sk-parallel-item:first-child::after {align-self: flex-end;width: 50%;}#sk-container-id-2 div.sk-parallel-item:last-child::after {align-self: flex-start;width: 50%;}#sk-container-id-2 div.sk-parallel-item:only-child::after {width: 0;}#sk-container-id-2 div.sk-dashed-wrapped {border: 1px dashed gray;margin: 0 0.4em 0.5em 0.4em;box-sizing: border-box;padding-bottom: 0.4em;background-color: white;}#sk-container-id-2 div.sk-label label {font-family: monospace;font-weight: bold;display: inline-block;line-height: 1.2em;}#sk-container-id-2 div.sk-label-container {text-align: center;}#sk-container-id-2 div.sk-container {/* jupyter's `normalize.less` sets `[hidden] { display: none; }` but bootstrap.min.css set `[hidden] { display: none !important; }` so we also need the `!important` here to be able to override the default hidden behavior on the sphinx rendered scikit-learn.org. See: https://github.com/scikit-learn/scikit-learn/issues/21755 */display: inline-block !important;position: relative;}#sk-container-id-2 div.sk-text-repr-fallback {display: none;}</style><div id=\"sk-container-id-2\" class=\"sk-top-container\"><div class=\"sk-text-repr-fallback\"><pre>LogisticRegression(multi_class=&#x27;ovr&#x27;)</pre><b>In a Jupyter environment, please rerun this cell to show the HTML representation or trust the notebook. <br />On GitHub, the HTML representation is unable to render, please try loading this page with nbviewer.org.</b></div><div class=\"sk-container\" hidden><div class=\"sk-item\"><div class=\"sk-estimator sk-toggleable\"><input class=\"sk-toggleable__control sk-hidden--visually\" id=\"sk-estimator-id-2\" type=\"checkbox\" checked><label for=\"sk-estimator-id-2\" class=\"sk-toggleable__label sk-toggleable__label-arrow\">LogisticRegression</label><div class=\"sk-toggleable__content\"><pre>LogisticRegression(multi_class=&#x27;ovr&#x27;)</pre></div></div></div></div></div>"
            ]
          },
          "metadata": {},
          "execution_count": 38
        }
      ]
    },
    {
      "cell_type": "markdown",
      "source": [
        "### **Problem #4: Make predictions for the standardized test data.**\n",
        "---"
      ],
      "metadata": {
        "id": "FEiZnGnHk8Ny"
      }
    },
    {
      "cell_type": "code",
      "source": [
        "y_pred = # COMPLETE THIS LINE\n",
        "print(y_pred)\n",
        "\n",
        "y_pred_proba = # COMPLETE THIS LINE\n",
        "print(y_pred_proba)"
      ],
      "metadata": {
        "id": "HXRw5k0gnVkT"
      },
      "execution_count": null,
      "outputs": []
    },
    {
      "cell_type": "markdown",
      "source": [
        "###### **Solution**"
      ],
      "metadata": {
        "id": "eJ8LfnBsnVkT"
      }
    },
    {
      "cell_type": "code",
      "source": [
        "y_pred = clf.predict(X_test_scaled)\n",
        "print(y_pred)\n",
        "\n",
        "y_pred_proba = clf.predict_proba(X_test_scaled)\n",
        "print(y_pred_proba)"
      ],
      "metadata": {
        "colab": {
          "base_uri": "https://localhost:8080/"
        },
        "outputId": "499601af-644e-4281-aa3f-f668ff87b17d",
        "id": "7xQaJ-PBnVkT"
      },
      "execution_count": null,
      "outputs": [
        {
          "output_type": "stream",
          "name": "stdout",
          "text": [
            "['Grass' 'Dark' 'Psychic' 'Ice' 'Bug' 'Normal' 'Steel' 'Rock' 'Ice' 'Dark'\n",
            " 'Grass' 'Bug' 'Bug' 'Dragon' 'Psychic' 'Grass' 'Normal' 'Steel'\n",
            " 'Fighting' 'Normal' 'Bug' 'Rock' 'Dark' 'Water' 'Grass' 'Psychic' 'Water'\n",
            " 'Ghost' 'Psychic' 'Normal' 'Fire' 'Ice' 'Poison' 'Psychic' 'Ghost'\n",
            " 'Fighting' 'Water' 'Bug' 'Ground' 'Rock' 'Dark' 'Psychic' 'Electric'\n",
            " 'Rock' 'Ice' 'Ice' 'Dark' 'Rock' 'Normal' 'Water' 'Water' 'Bug' 'Steel'\n",
            " 'Electric' 'Normal' 'Electric' 'Psychic' 'Normal' 'Fighting' 'Normal'\n",
            " 'Water' 'Water' 'Water' 'Bug' 'Water' 'Steel' 'Normal' 'Bug' 'Water'\n",
            " 'Water' 'Psychic' 'Grass' 'Water' 'Dragon' 'Water' 'Psychic' 'Normal'\n",
            " 'Water' 'Normal' 'Bug' 'Normal' 'Normal' 'Bug' 'Psychic' 'Normal'\n",
            " 'Normal' 'Steel' 'Psychic' 'Steel' 'Psychic' 'Fighting' 'Grass' 'Water'\n",
            " 'Rock' 'Fighting' 'Normal' 'Psychic' 'Electric' 'Fighting' 'Water'\n",
            " 'Water' 'Electric' 'Electric' 'Poison' 'Electric' 'Psychic' 'Water'\n",
            " 'Dragon' 'Normal' 'Normal' 'Normal' 'Fighting' 'Normal' 'Rock' 'Ghost'\n",
            " 'Ice' 'Dark' 'Grass' 'Normal' 'Water' 'Normal' 'Ground' 'Grass'\n",
            " 'Electric' 'Water' 'Steel' 'Normal' 'Fighting' 'Dragon' 'Steel' 'Water'\n",
            " 'Normal' 'Dragon' 'Dragon' 'Ice' 'Water' 'Dragon' 'Water' 'Water'\n",
            " 'Fighting' 'Normal' 'Dark' 'Normal' 'Psychic' 'Water' 'Water' 'Rock'\n",
            " 'Grass' 'Normal' 'Normal' 'Psychic' 'Grass' 'Electric' 'Normal' 'Psychic'\n",
            " 'Bug' 'Ice' 'Normal' 'Normal' 'Normal' 'Bug' 'Psychic' 'Normal' 'Rock'\n",
            " 'Normal' 'Fighting' 'Water' 'Fire' 'Water' 'Fire' 'Ghost' 'Water' 'Dark'\n",
            " 'Psychic' 'Normal' 'Bug' 'Normal' 'Electric' 'Normal' 'Water' 'Normal'\n",
            " 'Bug' 'Psychic' 'Dragon' 'Water' 'Fire' 'Fire' 'Psychic' 'Psychic' 'Bug'\n",
            " 'Grass' 'Normal' 'Fighting' 'Normal' 'Ghost' 'Normal' 'Steel' 'Grass'\n",
            " 'Grass' 'Grass' 'Steel' 'Dragon' 'Water' 'Electric' 'Fairy' 'Ghost'\n",
            " 'Fairy' 'Steel' 'Dark' 'Water' 'Fighting' 'Normal' 'Psychic' 'Psychic'\n",
            " 'Dark']\n",
            "[[3.45763225e-05 4.88244037e-03 1.68905708e-01 ... 8.08654284e-05\n",
            "  1.31191812e-02 9.34762700e-02]\n",
            " [1.09783527e-04 6.57287026e-03 3.24096683e-01 ... 6.51218046e-03\n",
            "  7.22353691e-02 4.40939714e-02]\n",
            " [2.07346138e-06 5.27737940e-06 1.00838558e-02 ... 1.62834864e-03\n",
            "  1.01897850e-02 4.11583913e-04]\n",
            " ...\n",
            " [1.27278357e-05 1.39237792e-02 1.42116336e-02 ... 4.83128200e-02\n",
            "  2.11255491e-02 6.03161473e-03]\n",
            " [4.75027295e-05 3.44025972e-03 4.39667194e-03 ... 3.36763717e-02\n",
            "  3.86383428e-02 7.99903170e-03]\n",
            " [5.81280978e-04 2.22235450e-01 2.25187715e-01 ... 4.73077378e-04\n",
            "  1.70205199e-01 8.82530814e-03]]\n"
          ]
        }
      ]
    },
    {
      "cell_type": "markdown",
      "source": [
        "### **Problem #5: Evaluate your model.**\n",
        "---\n",
        "\n",
        "Specifically,\n",
        "* Print the accuracy score.\n",
        "* Plot the confusion matrix.\n",
        "\n",
        "<br>\n",
        "\n",
        "**NOTE**: Since we are using `type1` as the label directly here, we just use `display_labels=clf.classes_`. This is one good reason for using non-encoded labels."
      ],
      "metadata": {
        "id": "Exnz9EEklCSo"
      }
    },
    {
      "cell_type": "code",
      "source": [
        "# Print the accuracy score\n",
        "accuracy = # COMPLETE THIS LINE\n",
        "print(f'Accuracy: {accuracy}')\n",
        "\n",
        "# Plot the confusion matrix\n",
        "cm = confusion_matrix(# COMPLETE THIS LINE\n",
        "\n",
        "disp = ConfusionMatrixDisplay(# COMPLETE THIS LINE\n",
        "disp.plot()\n",
        "\n",
        "plt.xticks(rotation = 90)\n",
        "plt.show()"
      ],
      "metadata": {
        "id": "uHswNcpmljEv"
      },
      "execution_count": null,
      "outputs": []
    },
    {
      "cell_type": "markdown",
      "source": [
        "#### **Solution**"
      ],
      "metadata": {
        "id": "UXMu9OY5ljEv"
      }
    },
    {
      "cell_type": "code",
      "source": [
        "# Print the accuracy score\n",
        "accuracy = accuracy_score(y_test,y_pred)\n",
        "print(f'Accuracy: {accuracy}')\n",
        "\n",
        "# Plot the confusion matrix\n",
        "cm = confusion_matrix(y_test, y_pred, labels=clf.classes_)\n",
        "\n",
        "disp = ConfusionMatrixDisplay(confusion_matrix=cm, display_labels=clf.classes_)\n",
        "disp.plot()\n",
        "\n",
        "plt.xticks(rotation = 90)\n",
        "plt.show()"
      ],
      "metadata": {
        "colab": {
          "base_uri": "https://localhost:8080/",
          "height": 536
        },
        "id": "RfENNhKRljEv",
        "outputId": "85e31d1b-d26c-4b78-e696-f81f8f891c39"
      },
      "execution_count": null,
      "outputs": [
        {
          "output_type": "stream",
          "name": "stdout",
          "text": [
            "Accuracy: 0.4372093023255814\n"
          ]
        },
        {
          "output_type": "display_data",
          "data": {
            "text/plain": [
              "<Figure size 640x480 with 2 Axes>"
            ],
            "image/png": "[encoded data removed]"
          },
          "metadata": {}
        }
      ]
    },
    {
      "cell_type": "markdown",
      "source": [
        "### **Problem #6: Use your model.**\n",
        "---\n",
        "\n",
        "Specifically, make predictions for the same data points as in Part 1, Problem #9:\n",
        "\n",
        "1.  `total = 300`,\t`hp = 50`, `attack = 40`,\t`defense = 60`,\t`sp_attack = 60`,\t`sp_defense = 67`,\t`speed = 40`,\t`generation = 6`, `type2 = 'Dragon'`, `legendary = True`\n",
        "\n",
        "2.  `total = 250`,\t`hp = 40`, `attack = 60`,\t`defense = 40`,\t`sp_attack = 40`,\t`sp_defense = 30`,\t`speed = 70`,\t`generation = 8`, `type2 = 'Dark'`, `legendary = False`\n",
        "\n",
        "3. `total = 500`,\t`hp = 70`, `attack = 50`,\t`defense = 75`,\t`sp_attack = 80`,\t`sp_defense = 80`,\t`speed = 100`,\t`generation = 6`, `type2 = 'Ground'`, `legendary = True`\n",
        "\n",
        "<br>\n",
        "\n",
        "This is a little more complicated with one-hot encoding, so we will break it down into the following parts:\n",
        "1. Create an unencoded DataFrame with these points.\n",
        "2. Transform the `type2` and `legendary` columns.\n",
        "3. Create an encoded DataFrame with the transformed columns and those that did not need to be transformed.\n",
        "4. Make our predictions as usual."
      ],
      "metadata": {
        "id": "COZjhrjKlJQU"
      }
    },
    {
      "cell_type": "markdown",
      "source": [
        "#### **1. Create an unencoded DataFrame with these points.**"
      ],
      "metadata": {
        "id": "PrhZWEWNrcx8"
      }
    },
    {
      "cell_type": "code",
      "source": [
        "column_labels = ['total', 'hp', 'attack', 'defense', 'sp_attack', 'sp_defense', 'speed', 'generation', 'type2', 'legendary']\n",
        "\n",
        "tmp_df = pd.DataFrame([[# COMPLETE THIS LINE"
      ],
      "metadata": {
        "id": "bw2yGvaBpPLu"
      },
      "execution_count": null,
      "outputs": []
    },
    {
      "cell_type": "markdown",
      "source": [
        "##### **Solution**"
      ],
      "metadata": {
        "id": "rPDpnfvtljgL"
      }
    },
    {
      "cell_type": "code",
      "source": [
        "column_labels = ['total', 'hp', 'attack', 'defense', 'sp_attack', 'sp_defense', 'speed', 'generation', 'type2', 'legendary']\n",
        "\n",
        "tmp_df = pd.DataFrame([[300,50,40,60,60,67,40,6,'Dragon', True],[250,40,60,40,40,30,70,8,'Dark', False], [500,70,50,75,80,80,100,6,'Ground', True]] , columns = column_labels)"
      ],
      "metadata": {
        "id": "FZ-NvHrOrhSN"
      },
      "execution_count": null,
      "outputs": []
    },
    {
      "cell_type": "markdown",
      "source": [
        "#### **2. Transform the `type2` and `legendary` columns.**"
      ],
      "metadata": {
        "id": "BE6Cajd8rhxg"
      }
    },
    {
      "cell_type": "code",
      "source": [
        "type2_transformed = type2_ohe.transform(tmp_df[[# COMPLETE THIS LINE\n",
        "legendary_transformed = # COMPLETE THIS LINE"
      ],
      "metadata": {
        "id": "P2C7oRzBrhxg"
      },
      "execution_count": null,
      "outputs": []
    },
    {
      "cell_type": "markdown",
      "source": [
        "##### **Solution**"
      ],
      "metadata": {
        "id": "w3qVNLLcrhxg"
      }
    },
    {
      "cell_type": "code",
      "source": [
        "type2_transformed = type2_ohe.transform(tmp_df[['type2']])\n",
        "legendary_transformed = legendary_ohe.transform(tmp_df[['legendary']])"
      ],
      "metadata": {
        "id": "V1IfDLhprhxh"
      },
      "execution_count": null,
      "outputs": []
    },
    {
      "cell_type": "markdown",
      "source": [
        "#### **3. Create an encoded DataFrame with the transformed columns and those that did not need to be transformed.**"
      ],
      "metadata": {
        "id": "U7cLBXWjriBS"
      }
    },
    {
      "cell_type": "code",
      "source": [
        "new_points_df = tmp_df.drop(columns = ['type2', # COMPLETE THIS LINE\n",
        "new_points_df[type2_transformed.columns] = # COMPLETE THIS LINE\n",
        "new_points_df[# COMPLETE THIS LINE"
      ],
      "metadata": {
        "id": "t5UAdWH3riBS"
      },
      "execution_count": null,
      "outputs": []
    },
    {
      "cell_type": "markdown",
      "source": [
        "##### **Solution**"
      ],
      "metadata": {
        "id": "LvOoHLVFriBS"
      }
    },
    {
      "cell_type": "code",
      "source": [
        "new_points_df = tmp_df.drop(columns = ['type2', 'legendary'], axis = 1)\n",
        "new_points_df[type2_transformed.columns] = type2_transformed\n",
        "new_points_df[legendary_transformed.columns] = legendary_transformed"
      ],
      "metadata": {
        "id": "chRd6rasriBS"
      },
      "execution_count": null,
      "outputs": []
    },
    {
      "cell_type": "markdown",
      "source": [
        "#### **4. Make our predictions as usual.**"
      ],
      "metadata": {
        "id": "1HTEAN9lriIp"
      }
    },
    {
      "cell_type": "code",
      "source": [
        "new_scaled = # COMPLETE THIS LINE\n",
        "predictions = # COMPLETE THIS LINE\n",
        "\n",
        "print([type2_map[x] for x in predictions])\n",
        "print(predictions)"
      ],
      "metadata": {
        "id": "4z2Mv-dIriIp"
      },
      "execution_count": null,
      "outputs": []
    },
    {
      "cell_type": "markdown",
      "source": [
        "##### **Solution**"
      ],
      "metadata": {
        "id": "w_DdHiljriIp"
      }
    },
    {
      "cell_type": "code",
      "source": [
        "new_scaled = scaler.transform(new_points_df)\n",
        "predictions = clf.predict(new_scaled)\n",
        "\n",
        "print([type2_map[x] for x in predictions])\n",
        "print(predictions)"
      ],
      "metadata": {
        "colab": {
          "base_uri": "https://localhost:8080/",
          "height": 471
        },
        "id": "-cpkI4mXljgL",
        "outputId": "4fc2d12e-aa57-4bcb-ea37-571aef210352"
      },
      "execution_count": null,
      "outputs": [
        {
          "output_type": "error",
          "ename": "ValueError",
          "evalue": "ignored",
          "traceback": [
            "\u001b[0;31m---------------------------------------------------------------------------\u001b[0m",
            "\u001b[0;31mValueError\u001b[0m                                Traceback (most recent call last)",
            "\u001b[0;32m<ipython-input-45-b49ac97eb84e>\u001b[0m in \u001b[0;36m<cell line: 1>\u001b[0;34m()\u001b[0m\n\u001b[0;32m----> 1\u001b[0;31m \u001b[0mnew_scaled\u001b[0m \u001b[0;34m=\u001b[0m \u001b[0mscaler\u001b[0m\u001b[0;34m.\u001b[0m\u001b[0mtransform\u001b[0m\u001b[0;34m(\u001b[0m\u001b[0mnew_points_df\u001b[0m\u001b[0;34m)\u001b[0m\u001b[0;34m\u001b[0m\u001b[0;34m\u001b[0m\u001b[0m\n\u001b[0m\u001b[1;32m      2\u001b[0m \u001b[0mpredictions\u001b[0m \u001b[0;34m=\u001b[0m \u001b[0mclf\u001b[0m\u001b[0;34m.\u001b[0m\u001b[0mpredict\u001b[0m\u001b[0;34m(\u001b[0m\u001b[0mnew_scaled\u001b[0m\u001b[0;34m)\u001b[0m\u001b[0;34m\u001b[0m\u001b[0;34m\u001b[0m\u001b[0m\n\u001b[1;32m      3\u001b[0m \u001b[0;34m\u001b[0m\u001b[0m\n\u001b[1;32m      4\u001b[0m \u001b[0mprint\u001b[0m\u001b[0;34m(\u001b[0m\u001b[0;34m[\u001b[0m\u001b[0mtype2_map\u001b[0m\u001b[0;34m[\u001b[0m\u001b[0mx\u001b[0m\u001b[0;34m]\u001b[0m \u001b[0;32mfor\u001b[0m \u001b[0mx\u001b[0m \u001b[0;32min\u001b[0m \u001b[0mpredictions\u001b[0m\u001b[0;34m]\u001b[0m\u001b[0;34m)\u001b[0m\u001b[0;34m\u001b[0m\u001b[0;34m\u001b[0m\u001b[0m\n\u001b[1;32m      5\u001b[0m \u001b[0mprint\u001b[0m\u001b[0;34m(\u001b[0m\u001b[0mpredictions\u001b[0m\u001b[0;34m)\u001b[0m\u001b[0;34m\u001b[0m\u001b[0;34m\u001b[0m\u001b[0m\n",
            "\u001b[0;32m/usr/local/lib/python3.9/dist-packages/sklearn/utils/_set_output.py\u001b[0m in \u001b[0;36mwrapped\u001b[0;34m(self, X, *args, **kwargs)\u001b[0m\n\u001b[1;32m    138\u001b[0m     \u001b[0;34m@\u001b[0m\u001b[0mwraps\u001b[0m\u001b[0;34m(\u001b[0m\u001b[0mf\u001b[0m\u001b[0;34m)\u001b[0m\u001b[0;34m\u001b[0m\u001b[0;34m\u001b[0m\u001b[0m\n\u001b[1;32m    139\u001b[0m     \u001b[0;32mdef\u001b[0m \u001b[0mwrapped\u001b[0m\u001b[0;34m(\u001b[0m\u001b[0mself\u001b[0m\u001b[0;34m,\u001b[0m \u001b[0mX\u001b[0m\u001b[0;34m,\u001b[0m \u001b[0;34m*\u001b[0m\u001b[0margs\u001b[0m\u001b[0;34m,\u001b[0m \u001b[0;34m**\u001b[0m\u001b[0mkwargs\u001b[0m\u001b[0;34m)\u001b[0m\u001b[0;34m:\u001b[0m\u001b[0;34m\u001b[0m\u001b[0;34m\u001b[0m\u001b[0m\n\u001b[0;32m--> 140\u001b[0;31m         \u001b[0mdata_to_wrap\u001b[0m \u001b[0;34m=\u001b[0m \u001b[0mf\u001b[0m\u001b[0;34m(\u001b[0m\u001b[0mself\u001b[0m\u001b[0;34m,\u001b[0m \u001b[0mX\u001b[0m\u001b[0;34m,\u001b[0m \u001b[0;34m*\u001b[0m\u001b[0margs\u001b[0m\u001b[0;34m,\u001b[0m \u001b[0;34m**\u001b[0m\u001b[0mkwargs\u001b[0m\u001b[0;34m)\u001b[0m\u001b[0;34m\u001b[0m\u001b[0;34m\u001b[0m\u001b[0m\n\u001b[0m\u001b[1;32m    141\u001b[0m         \u001b[0;32mif\u001b[0m \u001b[0misinstance\u001b[0m\u001b[0;34m(\u001b[0m\u001b[0mdata_to_wrap\u001b[0m\u001b[0;34m,\u001b[0m \u001b[0mtuple\u001b[0m\u001b[0;34m)\u001b[0m\u001b[0;34m:\u001b[0m\u001b[0;34m\u001b[0m\u001b[0;34m\u001b[0m\u001b[0m\n\u001b[1;32m    142\u001b[0m             \u001b[0;31m# only wrap the first output for cross decomposition\u001b[0m\u001b[0;34m\u001b[0m\u001b[0;34m\u001b[0m\u001b[0m\n",
            "\u001b[0;32m/usr/local/lib/python3.9/dist-packages/sklearn/preprocessing/_data.py\u001b[0m in \u001b[0;36mtransform\u001b[0;34m(self, X, copy)\u001b[0m\n\u001b[1;32m    990\u001b[0m \u001b[0;34m\u001b[0m\u001b[0m\n\u001b[1;32m    991\u001b[0m         \u001b[0mcopy\u001b[0m \u001b[0;34m=\u001b[0m \u001b[0mcopy\u001b[0m \u001b[0;32mif\u001b[0m \u001b[0mcopy\u001b[0m \u001b[0;32mis\u001b[0m \u001b[0;32mnot\u001b[0m \u001b[0;32mNone\u001b[0m \u001b[0;32melse\u001b[0m \u001b[0mself\u001b[0m\u001b[0;34m.\u001b[0m\u001b[0mcopy\u001b[0m\u001b[0;34m\u001b[0m\u001b[0;34m\u001b[0m\u001b[0m\n\u001b[0;32m--> 992\u001b[0;31m         X = self._validate_data(\n\u001b[0m\u001b[1;32m    993\u001b[0m             \u001b[0mX\u001b[0m\u001b[0;34m,\u001b[0m\u001b[0;34m\u001b[0m\u001b[0;34m\u001b[0m\u001b[0m\n\u001b[1;32m    994\u001b[0m             \u001b[0mreset\u001b[0m\u001b[0;34m=\u001b[0m\u001b[0;32mFalse\u001b[0m\u001b[0;34m,\u001b[0m\u001b[0;34m\u001b[0m\u001b[0;34m\u001b[0m\u001b[0m\n",
            "\u001b[0;32m/usr/local/lib/python3.9/dist-packages/sklearn/base.py\u001b[0m in \u001b[0;36m_validate_data\u001b[0;34m(self, X, y, reset, validate_separately, **check_params)\u001b[0m\n\u001b[1;32m    546\u001b[0m             \u001b[0mvalidated\u001b[0m\u001b[0;34m.\u001b[0m\u001b[0;34m\u001b[0m\u001b[0;34m\u001b[0m\u001b[0m\n\u001b[1;32m    547\u001b[0m         \"\"\"\n\u001b[0;32m--> 548\u001b[0;31m         \u001b[0mself\u001b[0m\u001b[0;34m.\u001b[0m\u001b[0m_check_feature_names\u001b[0m\u001b[0;34m(\u001b[0m\u001b[0mX\u001b[0m\u001b[0;34m,\u001b[0m \u001b[0mreset\u001b[0m\u001b[0;34m=\u001b[0m\u001b[0mreset\u001b[0m\u001b[0;34m)\u001b[0m\u001b[0;34m\u001b[0m\u001b[0;34m\u001b[0m\u001b[0m\n\u001b[0m\u001b[1;32m    549\u001b[0m \u001b[0;34m\u001b[0m\u001b[0m\n\u001b[1;32m    550\u001b[0m         \u001b[0;32mif\u001b[0m \u001b[0my\u001b[0m \u001b[0;32mis\u001b[0m \u001b[0;32mNone\u001b[0m \u001b[0;32mand\u001b[0m \u001b[0mself\u001b[0m\u001b[0;34m.\u001b[0m\u001b[0m_get_tags\u001b[0m\u001b[0;34m(\u001b[0m\u001b[0;34m)\u001b[0m\u001b[0;34m[\u001b[0m\u001b[0;34m\"requires_y\"\u001b[0m\u001b[0;34m]\u001b[0m\u001b[0;34m:\u001b[0m\u001b[0;34m\u001b[0m\u001b[0;34m\u001b[0m\u001b[0m\n",
            "\u001b[0;32m/usr/local/lib/python3.9/dist-packages/sklearn/base.py\u001b[0m in \u001b[0;36m_check_feature_names\u001b[0;34m(self, X, reset)\u001b[0m\n\u001b[1;32m    479\u001b[0m                 )\n\u001b[1;32m    480\u001b[0m \u001b[0;34m\u001b[0m\u001b[0m\n\u001b[0;32m--> 481\u001b[0;31m             \u001b[0;32mraise\u001b[0m \u001b[0mValueError\u001b[0m\u001b[0;34m(\u001b[0m\u001b[0mmessage\u001b[0m\u001b[0;34m)\u001b[0m\u001b[0;34m\u001b[0m\u001b[0;34m\u001b[0m\u001b[0m\n\u001b[0m\u001b[1;32m    482\u001b[0m \u001b[0;34m\u001b[0m\u001b[0m\n\u001b[1;32m    483\u001b[0m     def _validate_data(\n",
            "\u001b[0;31mValueError\u001b[0m: The feature names should match those that were passed during fit.\nFeature names seen at fit time, yet now missing:\n- legendary_encoded\n- type1_encoded\n- type2_encoded\n"
          ]
        }
      ]
    },
    {
      "cell_type": "markdown",
      "source": [
        "---\n",
        "## **Back To Lecture**\n",
        "---"
      ],
      "metadata": {
        "id": "iaV8MNNLrTHh"
      }
    },
    {
      "cell_type": "markdown",
      "metadata": {
        "id": "IhIRk8p0tKUr"
      },
      "source": [
        "<a name=\"p3\"></a>\n",
        "\n",
        "---\n",
        "## **Part 3: Dummy Variable Encoding**\n",
        "---\n",
        "\n",
        "In this section, you will perform the same modeling process, **except using dummy variable encoding instead of label or one-hot encoding**."
      ]
    },
    {
      "cell_type": "markdown",
      "metadata": {
        "id": "DgfpRjEhtKUr"
      },
      "source": [
        "### **Problem #1: Encode all categorical features.**\n",
        "---\n",
        "\n",
        "Complete the code below to encode `type2` and `legendary`. However, **dummy variable encode** these variables instead. We will leave the label as is to make predictions easier."
      ]
    },
    {
      "cell_type": "code",
      "source": [
        "# Create the new dataframe\n",
        "\n",
        "new_pokemn_df = pd.get_dummies(pokemon_df, columns = ['type2', 'legendary'])\n",
        "\n",
        "new_pokemon_df = pokemon_df.drop(columns = ['type2', 'legendary'], axis = 1)\n",
        "\n",
        "# Create the encoder and transform the desired columns\n",
        "type2_ohe = OneHotEncoder(sparse_output = False)\n",
        "type2_ohe.set_output(transform = 'pandas')\n",
        "\n",
        "transformed = type2_ohe.fit_transform(pokemon_df[['type2']])\n",
        "\n",
        "# Create the new dataframe\n",
        "new_pokemon_df[transformed.columns] = transformed\n",
        "\n",
        "\n",
        "new_pokemon_df.head()"
      ],
      "metadata": {
        "colab": {
          "base_uri": "https://localhost:8080/",
          "height": 334
        },
        "id": "c4iq0bfltKUs",
        "outputId": "e028f8cd-7438-4dfd-ff05-182ee95e0063"
      },
      "execution_count": null,
      "outputs": [
        {
          "output_type": "execute_result",
          "data": {
            "text/plain": [
              "                  name  type1  total  hp  attack  defense  sp_attack  \\\n",
              "0            Bulbasaur  Grass    318  45      49       49         65   \n",
              "1              Ivysaur  Grass    405  60      62       63         80   \n",
              "2             Venusaur  Grass    525  80      82       83        100   \n",
              "3        Mega Venusaur  Grass    625  80     100      123        122   \n",
              "4  Gigantamax Venusaur  Grass    525  80      82       83        100   \n",
              "\n",
              "   sp_defense  speed  generation  ...  type2_Grass  type2_Ground  type2_Ice  \\\n",
              "0          65     45           1  ...          0.0           0.0        0.0   \n",
              "1          80     60           1  ...          0.0           0.0        0.0   \n",
              "2         100     80           1  ...          0.0           0.0        0.0   \n",
              "3         120     80           1  ...          0.0           0.0        0.0   \n",
              "4         100     80           1  ...          0.0           0.0        0.0   \n",
              "\n",
              "   type2_Normal  type2_Poison  type2_Psychic  type2_Rock  type2_Steel  \\\n",
              "0           0.0           1.0            0.0         0.0          0.0   \n",
              "1           0.0           1.0            0.0         0.0          0.0   \n",
              "2           0.0           1.0            0.0         0.0          0.0   \n",
              "3           0.0           1.0            0.0         0.0          0.0   \n",
              "4           0.0           1.0            0.0         0.0          0.0   \n",
              "\n",
              "   type2_Water  type2_nan  \n",
              "0          0.0        0.0  \n",
              "1          0.0        0.0  \n",
              "2          0.0        0.0  \n",
              "3          0.0        0.0  \n",
              "4          0.0        0.0  \n",
              "\n",
              "[5 rows x 32 columns]"
            ],
            "text/html": [
              "\n",
              "  <div id=\"df-fff9869e-50a5-4432-985a-7f08a4b0704d\">\n",
              "    <div class=\"colab-df-container\">\n",
              "      <div>\n",
              "<style scoped>\n",
              "    .dataframe tbody tr th:only-of-type {\n",
              "        vertical-align: middle;\n",
              "    }\n",
              "\n",
              "    .dataframe tbody tr th {\n",
              "        vertical-align: top;\n",
              "    }\n",
              "\n",
              "    .dataframe thead th {\n",
              "        text-align: right;\n",
              "    }\n",
              "</style>\n",
              "<table border=\"1\" class=\"dataframe\">\n",
              "  <thead>\n",
              "    <tr style=\"text-align: right;\">\n",
              "      <th></th>\n",
              "      <th>name</th>\n",
              "      <th>type1</th>\n",
              "      <th>total</th>\n",
              "      <th>hp</th>\n",
              "      <th>attack</th>\n",
              "      <th>defense</th>\n",
              "      <th>sp_attack</th>\n",
              "      <th>sp_defense</th>\n",
              "      <th>speed</th>\n",
              "      <th>generation</th>\n",
              "      <th>...</th>\n",
              "      <th>type2_Grass</th>\n",
              "      <th>type2_Ground</th>\n",
              "      <th>type2_Ice</th>\n",
              "      <th>type2_Normal</th>\n",
              "      <th>type2_Poison</th>\n",
              "      <th>type2_Psychic</th>\n",
              "      <th>type2_Rock</th>\n",
              "      <th>type2_Steel</th>\n",
              "      <th>type2_Water</th>\n",
              "      <th>type2_nan</th>\n",
              "    </tr>\n",
              "  </thead>\n",
              "  <tbody>\n",
              "    <tr>\n",
              "      <th>0</th>\n",
              "      <td>Bulbasaur</td>\n",
              "      <td>Grass</td>\n",
              "      <td>318</td>\n",
              "      <td>45</td>\n",
              "      <td>49</td>\n",
              "      <td>49</td>\n",
              "      <td>65</td>\n",
              "      <td>65</td>\n",
              "      <td>45</td>\n",
              "      <td>1</td>\n",
              "      <td>...</td>\n",
              "      <td>0.0</td>\n",
              "      <td>0.0</td>\n",
              "      <td>0.0</td>\n",
              "      <td>0.0</td>\n",
              "      <td>1.0</td>\n",
              "      <td>0.0</td>\n",
              "      <td>0.0</td>\n",
              "      <td>0.0</td>\n",
              "      <td>0.0</td>\n",
              "      <td>0.0</td>\n",
              "    </tr>\n",
              "    <tr>\n",
              "      <th>1</th>\n",
              "      <td>Ivysaur</td>\n",
              "      <td>Grass</td>\n",
              "      <td>405</td>\n",
              "      <td>60</td>\n",
              "      <td>62</td>\n",
              "      <td>63</td>\n",
              "      <td>80</td>\n",
              "      <td>80</td>\n",
              "      <td>60</td>\n",
              "      <td>1</td>\n",
              "      <td>...</td>\n",
              "      <td>0.0</td>\n",
              "      <td>0.0</td>\n",
              "      <td>0.0</td>\n",
              "      <td>0.0</td>\n",
              "      <td>1.0</td>\n",
              "      <td>0.0</td>\n",
              "      <td>0.0</td>\n",
              "      <td>0.0</td>\n",
              "      <td>0.0</td>\n",
              "      <td>0.0</td>\n",
              "    </tr>\n",
              "    <tr>\n",
              "      <th>2</th>\n",
              "      <td>Venusaur</td>\n",
              "      <td>Grass</td>\n",
              "      <td>525</td>\n",
              "      <td>80</td>\n",
              "      <td>82</td>\n",
              "      <td>83</td>\n",
              "      <td>100</td>\n",
              "      <td>100</td>\n",
              "      <td>80</td>\n",
              "      <td>1</td>\n",
              "      <td>...</td>\n",
              "      <td>0.0</td>\n",
              "      <td>0.0</td>\n",
              "      <td>0.0</td>\n",
              "      <td>0.0</td>\n",
              "      <td>1.0</td>\n",
              "      <td>0.0</td>\n",
              "      <td>0.0</td>\n",
              "      <td>0.0</td>\n",
              "      <td>0.0</td>\n",
              "      <td>0.0</td>\n",
              "    </tr>\n",
              "    <tr>\n",
              "      <th>3</th>\n",
              "      <td>Mega Venusaur</td>\n",
              "      <td>Grass</td>\n",
              "      <td>625</td>\n",
              "      <td>80</td>\n",
              "      <td>100</td>\n",
              "      <td>123</td>\n",
              "      <td>122</td>\n",
              "      <td>120</td>\n",
              "      <td>80</td>\n",
              "      <td>1</td>\n",
              "      <td>...</td>\n",
              "      <td>0.0</td>\n",
              "      <td>0.0</td>\n",
              "      <td>0.0</td>\n",
              "      <td>0.0</td>\n",
              "      <td>1.0</td>\n",
              "      <td>0.0</td>\n",
              "      <td>0.0</td>\n",
              "      <td>0.0</td>\n",
              "      <td>0.0</td>\n",
              "      <td>0.0</td>\n",
              "    </tr>\n",
              "    <tr>\n",
              "      <th>4</th>\n",
              "      <td>Gigantamax Venusaur</td>\n",
              "      <td>Grass</td>\n",
              "      <td>525</td>\n",
              "      <td>80</td>\n",
              "      <td>82</td>\n",
              "      <td>83</td>\n",
              "      <td>100</td>\n",
              "      <td>100</td>\n",
              "      <td>80</td>\n",
              "      <td>1</td>\n",
              "      <td>...</td>\n",
              "      <td>0.0</td>\n",
              "      <td>0.0</td>\n",
              "      <td>0.0</td>\n",
              "      <td>0.0</td>\n",
              "      <td>1.0</td>\n",
              "      <td>0.0</td>\n",
              "      <td>0.0</td>\n",
              "      <td>0.0</td>\n",
              "      <td>0.0</td>\n",
              "      <td>0.0</td>\n",
              "    </tr>\n",
              "  </tbody>\n",
              "</table>\n",
              "<p>5 rows × 32 columns</p>\n",
              "</div>\n",
              "      <button class=\"colab-df-convert\" onclick=\"convertToInteractive('df-fff9869e-50a5-4432-985a-7f08a4b0704d')\"\n",
              "              title=\"Convert this dataframe to an interactive table.\"\n",
              "              style=\"display:none;\">\n",
              "        \n",
              "  <svg xmlns=\"http://www.w3.org/2000/svg\" height=\"24px\"viewBox=\"0 0 24 24\"\n",
              "       width=\"24px\">\n",
              "    <path d=\"M0 0h24v24H0V0z\" fill=\"none\"/>\n",
              "    <path d=\"M18.56 5.44l.94 2.06.94-2.06 2.06-.94-2.06-.94-.94-2.06-.94 2.06-2.06.94zm-11 1L8.5 8.5l.94-2.06 2.06-.94-2.06-.94L8.5 2.5l-.94 2.06-2.06.94zm10 10l.94 2.06.94-2.06 2.06-.94-2.06-.94-.94-2.06-.94 2.06-2.06.94z\"/><path d=\"M17.41 7.96l-1.37-1.37c-.4-.4-.92-.59-1.43-.59-.52 0-1.04.2-1.43.59L10.3 9.45l-7.72 7.72c-.78.78-.78 2.05 0 2.83L4 21.41c.39.39.9.59 1.41.59.51 0 1.02-.2 1.41-.59l7.78-7.78 2.81-2.81c.8-.78.8-2.07 0-2.86zM5.41 20L4 18.59l7.72-7.72 1.47 1.35L5.41 20z\"/>\n",
              "  </svg>\n",
              "      </button>\n",
              "      \n",
              "  <style>\n",
              "    .colab-df-container {\n",
              "      display:flex;\n",
              "      flex-wrap:wrap;\n",
              "      gap: 12px;\n",
              "    }\n",
              "\n",
              "    .colab-df-convert {\n",
              "      background-color: #E8F0FE;\n",
              "      border: none;\n",
              "      border-radius: 50%;\n",
              "      cursor: pointer;\n",
              "      display: none;\n",
              "      fill: #1967D2;\n",
              "      height: 32px;\n",
              "      padding: 0 0 0 0;\n",
              "      width: 32px;\n",
              "    }\n",
              "\n",
              "    .colab-df-convert:hover {\n",
              "      background-color: #E2EBFA;\n",
              "      box-shadow: 0px 1px 2px rgba(60, 64, 67, 0.3), 0px 1px 3px 1px rgba(60, 64, 67, 0.15);\n",
              "      fill: #174EA6;\n",
              "    }\n",
              "\n",
              "    [theme=dark] .colab-df-convert {\n",
              "      background-color: #3B4455;\n",
              "      fill: #D2E3FC;\n",
              "    }\n",
              "\n",
              "    [theme=dark] .colab-df-convert:hover {\n",
              "      background-color: #434B5C;\n",
              "      box-shadow: 0px 1px 3px 1px rgba(0, 0, 0, 0.15);\n",
              "      filter: drop-shadow(0px 1px 2px rgba(0, 0, 0, 0.3));\n",
              "      fill: #FFFFFF;\n",
              "    }\n",
              "  </style>\n",
              "\n",
              "      <script>\n",
              "        const buttonEl =\n",
              "          document.querySelector('#df-fff9869e-50a5-4432-985a-7f08a4b0704d button.colab-df-convert');\n",
              "        buttonEl.style.display =\n",
              "          google.colab.kernel.accessAllowed ? 'block' : 'none';\n",
              "\n",
              "        async function convertToInteractive(key) {\n",
              "          const element = document.querySelector('#df-fff9869e-50a5-4432-985a-7f08a4b0704d');\n",
              "          const dataTable =\n",
              "            await google.colab.kernel.invokeFunction('convertToInteractive',\n",
              "                                                     [key], {});\n",
              "          if (!dataTable) return;\n",
              "\n",
              "          const docLinkHtml = 'Like what you see? Visit the ' +\n",
              "            '<a target=\"_blank\" href=https://colab.research.google.com/notebooks/data_table.ipynb>data table notebook</a>'\n",
              "            + ' to learn more about interactive tables.';\n",
              "          element.innerHTML = '';\n",
              "          dataTable['output_type'] = 'display_data';\n",
              "          await google.colab.output.renderOutput(dataTable, element);\n",
              "          const docLink = document.createElement('div');\n",
              "          docLink.innerHTML = docLinkHtml;\n",
              "          element.appendChild(docLink);\n",
              "        }\n",
              "      </script>\n",
              "    </div>\n",
              "  </div>\n",
              "  "
            ]
          },
          "metadata": {},
          "execution_count": 46
        }
      ]
    },
    {
      "cell_type": "code",
      "source": [
        "# Create the encoder and transform the desired columns\n",
        "legendary_ohe = # COMPLETE THIS LINE\n",
        "legendary_ohe.set_output(# COMPLETE THIS LINE\n",
        "\n",
        "transformed = legendary_ohe.# COMPLETE THIS LINE\n",
        "\n",
        "# Create the new dataframe\n",
        "new_pokemon_df[# COMPLETE THIS LINE\n",
        "\n",
        "\n",
        "new_pokemon_df.head()"
      ],
      "metadata": {
        "id": "0qjTTJvmtKUs"
      },
      "execution_count": null,
      "outputs": []
    },
    {
      "cell_type": "markdown",
      "source": [
        "#### **Solution**"
      ],
      "metadata": {
        "id": "OQ5SwuDFtKUs"
      }
    },
    {
      "cell_type": "code",
      "source": [
        "# Create the new dataframe\n",
        "new_pokemon_df = pokemon_df.drop(columns = ['type2', 'legendary'], axis = 1)\n",
        "\n",
        "# Create the encoder and transform the desired columns\n",
        "type2_ohe = OneHotEncoder(drop = 'first', sparse_output = False)\n",
        "type2_ohe.set_output(transform = 'pandas')\n",
        "\n",
        "transformed = type2_ohe.fit_transform(pokemon_df[['type2']])\n",
        "\n",
        "# Create the new dataframe\n",
        "new_pokemon_df[transformed.columns] = transformed\n",
        "\n",
        "\n",
        "new_pokemon_df.head()"
      ],
      "metadata": {
        "colab": {
          "base_uri": "https://localhost:8080/",
          "height": 334
        },
        "outputId": "65bfdc0e-0404-4413-c4c6-3c226465d255",
        "id": "pfreL-H3tKUs"
      },
      "execution_count": null,
      "outputs": [
        {
          "output_type": "execute_result",
          "data": {
            "text/plain": [
              "                  name  type1  total  hp  attack  defense  sp_attack  \\\n",
              "0            Bulbasaur  Grass    318  45      49       49         65   \n",
              "1              Ivysaur  Grass    405  60      62       63         80   \n",
              "2             Venusaur  Grass    525  80      82       83        100   \n",
              "3        Mega Venusaur  Grass    625  80     100      123        122   \n",
              "4  Gigantamax Venusaur  Grass    525  80      82       83        100   \n",
              "\n",
              "   sp_defense  speed  generation  ...  type2_Grass  type2_Ground  type2_Ice  \\\n",
              "0          65     45           1  ...          0.0           0.0        0.0   \n",
              "1          80     60           1  ...          0.0           0.0        0.0   \n",
              "2         100     80           1  ...          0.0           0.0        0.0   \n",
              "3         120     80           1  ...          0.0           0.0        0.0   \n",
              "4         100     80           1  ...          0.0           0.0        0.0   \n",
              "\n",
              "   type2_Normal  type2_Poison  type2_Psychic  type2_Rock  type2_Steel  \\\n",
              "0           0.0           1.0            0.0         0.0          0.0   \n",
              "1           0.0           1.0            0.0         0.0          0.0   \n",
              "2           0.0           1.0            0.0         0.0          0.0   \n",
              "3           0.0           1.0            0.0         0.0          0.0   \n",
              "4           0.0           1.0            0.0         0.0          0.0   \n",
              "\n",
              "   type2_Water  type2_nan  \n",
              "0          0.0        0.0  \n",
              "1          0.0        0.0  \n",
              "2          0.0        0.0  \n",
              "3          0.0        0.0  \n",
              "4          0.0        0.0  \n",
              "\n",
              "[5 rows x 31 columns]"
            ],
            "text/html": [
              "\n",
              "  <div id=\"df-a187a2a5-2e05-47d3-80f6-70c115962622\">\n",
              "    <div class=\"colab-df-container\">\n",
              "      <div>\n",
              "<style scoped>\n",
              "    .dataframe tbody tr th:only-of-type {\n",
              "        vertical-align: middle;\n",
              "    }\n",
              "\n",
              "    .dataframe tbody tr th {\n",
              "        vertical-align: top;\n",
              "    }\n",
              "\n",
              "    .dataframe thead th {\n",
              "        text-align: right;\n",
              "    }\n",
              "</style>\n",
              "<table border=\"1\" class=\"dataframe\">\n",
              "  <thead>\n",
              "    <tr style=\"text-align: right;\">\n",
              "      <th></th>\n",
              "      <th>name</th>\n",
              "      <th>type1</th>\n",
              "      <th>total</th>\n",
              "      <th>hp</th>\n",
              "      <th>attack</th>\n",
              "      <th>defense</th>\n",
              "      <th>sp_attack</th>\n",
              "      <th>sp_defense</th>\n",
              "      <th>speed</th>\n",
              "      <th>generation</th>\n",
              "      <th>...</th>\n",
              "      <th>type2_Grass</th>\n",
              "      <th>type2_Ground</th>\n",
              "      <th>type2_Ice</th>\n",
              "      <th>type2_Normal</th>\n",
              "      <th>type2_Poison</th>\n",
              "      <th>type2_Psychic</th>\n",
              "      <th>type2_Rock</th>\n",
              "      <th>type2_Steel</th>\n",
              "      <th>type2_Water</th>\n",
              "      <th>type2_nan</th>\n",
              "    </tr>\n",
              "  </thead>\n",
              "  <tbody>\n",
              "    <tr>\n",
              "      <th>0</th>\n",
              "      <td>Bulbasaur</td>\n",
              "      <td>Grass</td>\n",
              "      <td>318</td>\n",
              "      <td>45</td>\n",
              "      <td>49</td>\n",
              "      <td>49</td>\n",
              "      <td>65</td>\n",
              "      <td>65</td>\n",
              "      <td>45</td>\n",
              "      <td>1</td>\n",
              "      <td>...</td>\n",
              "      <td>0.0</td>\n",
              "      <td>0.0</td>\n",
              "      <td>0.0</td>\n",
              "      <td>0.0</td>\n",
              "      <td>1.0</td>\n",
              "      <td>0.0</td>\n",
              "      <td>0.0</td>\n",
              "      <td>0.0</td>\n",
              "      <td>0.0</td>\n",
              "      <td>0.0</td>\n",
              "    </tr>\n",
              "    <tr>\n",
              "      <th>1</th>\n",
              "      <td>Ivysaur</td>\n",
              "      <td>Grass</td>\n",
              "      <td>405</td>\n",
              "      <td>60</td>\n",
              "      <td>62</td>\n",
              "      <td>63</td>\n",
              "      <td>80</td>\n",
              "      <td>80</td>\n",
              "      <td>60</td>\n",
              "      <td>1</td>\n",
              "      <td>...</td>\n",
              "      <td>0.0</td>\n",
              "      <td>0.0</td>\n",
              "      <td>0.0</td>\n",
              "      <td>0.0</td>\n",
              "      <td>1.0</td>\n",
              "      <td>0.0</td>\n",
              "      <td>0.0</td>\n",
              "      <td>0.0</td>\n",
              "      <td>0.0</td>\n",
              "      <td>0.0</td>\n",
              "    </tr>\n",
              "    <tr>\n",
              "      <th>2</th>\n",
              "      <td>Venusaur</td>\n",
              "      <td>Grass</td>\n",
              "      <td>525</td>\n",
              "      <td>80</td>\n",
              "      <td>82</td>\n",
              "      <td>83</td>\n",
              "      <td>100</td>\n",
              "      <td>100</td>\n",
              "      <td>80</td>\n",
              "      <td>1</td>\n",
              "      <td>...</td>\n",
              "      <td>0.0</td>\n",
              "      <td>0.0</td>\n",
              "      <td>0.0</td>\n",
              "      <td>0.0</td>\n",
              "      <td>1.0</td>\n",
              "      <td>0.0</td>\n",
              "      <td>0.0</td>\n",
              "      <td>0.0</td>\n",
              "      <td>0.0</td>\n",
              "      <td>0.0</td>\n",
              "    </tr>\n",
              "    <tr>\n",
              "      <th>3</th>\n",
              "      <td>Mega Venusaur</td>\n",
              "      <td>Grass</td>\n",
              "      <td>625</td>\n",
              "      <td>80</td>\n",
              "      <td>100</td>\n",
              "      <td>123</td>\n",
              "      <td>122</td>\n",
              "      <td>120</td>\n",
              "      <td>80</td>\n",
              "      <td>1</td>\n",
              "      <td>...</td>\n",
              "      <td>0.0</td>\n",
              "      <td>0.0</td>\n",
              "      <td>0.0</td>\n",
              "      <td>0.0</td>\n",
              "      <td>1.0</td>\n",
              "      <td>0.0</td>\n",
              "      <td>0.0</td>\n",
              "      <td>0.0</td>\n",
              "      <td>0.0</td>\n",
              "      <td>0.0</td>\n",
              "    </tr>\n",
              "    <tr>\n",
              "      <th>4</th>\n",
              "      <td>Gigantamax Venusaur</td>\n",
              "      <td>Grass</td>\n",
              "      <td>525</td>\n",
              "      <td>80</td>\n",
              "      <td>82</td>\n",
              "      <td>83</td>\n",
              "      <td>100</td>\n",
              "      <td>100</td>\n",
              "      <td>80</td>\n",
              "      <td>1</td>\n",
              "      <td>...</td>\n",
              "      <td>0.0</td>\n",
              "      <td>0.0</td>\n",
              "      <td>0.0</td>\n",
              "      <td>0.0</td>\n",
              "      <td>1.0</td>\n",
              "      <td>0.0</td>\n",
              "      <td>0.0</td>\n",
              "      <td>0.0</td>\n",
              "      <td>0.0</td>\n",
              "      <td>0.0</td>\n",
              "    </tr>\n",
              "  </tbody>\n",
              "</table>\n",
              "<p>5 rows × 31 columns</p>\n",
              "</div>\n",
              "      <button class=\"colab-df-convert\" onclick=\"convertToInteractive('df-a187a2a5-2e05-47d3-80f6-70c115962622')\"\n",
              "              title=\"Convert this dataframe to an interactive table.\"\n",
              "              style=\"display:none;\">\n",
              "        \n",
              "  <svg xmlns=\"http://www.w3.org/2000/svg\" height=\"24px\"viewBox=\"0 0 24 24\"\n",
              "       width=\"24px\">\n",
              "    <path d=\"M0 0h24v24H0V0z\" fill=\"none\"/>\n",
              "    <path d=\"M18.56 5.44l.94 2.06.94-2.06 2.06-.94-2.06-.94-.94-2.06-.94 2.06-2.06.94zm-11 1L8.5 8.5l.94-2.06 2.06-.94-2.06-.94L8.5 2.5l-.94 2.06-2.06.94zm10 10l.94 2.06.94-2.06 2.06-.94-2.06-.94-.94-2.06-.94 2.06-2.06.94z\"/><path d=\"M17.41 7.96l-1.37-1.37c-.4-.4-.92-.59-1.43-.59-.52 0-1.04.2-1.43.59L10.3 9.45l-7.72 7.72c-.78.78-.78 2.05 0 2.83L4 21.41c.39.39.9.59 1.41.59.51 0 1.02-.2 1.41-.59l7.78-7.78 2.81-2.81c.8-.78.8-2.07 0-2.86zM5.41 20L4 18.59l7.72-7.72 1.47 1.35L5.41 20z\"/>\n",
              "  </svg>\n",
              "      </button>\n",
              "      \n",
              "  <style>\n",
              "    .colab-df-container {\n",
              "      display:flex;\n",
              "      flex-wrap:wrap;\n",
              "      gap: 12px;\n",
              "    }\n",
              "\n",
              "    .colab-df-convert {\n",
              "      background-color: #E8F0FE;\n",
              "      border: none;\n",
              "      border-radius: 50%;\n",
              "      cursor: pointer;\n",
              "      display: none;\n",
              "      fill: #1967D2;\n",
              "      height: 32px;\n",
              "      padding: 0 0 0 0;\n",
              "      width: 32px;\n",
              "    }\n",
              "\n",
              "    .colab-df-convert:hover {\n",
              "      background-color: #E2EBFA;\n",
              "      box-shadow: 0px 1px 2px rgba(60, 64, 67, 0.3), 0px 1px 3px 1px rgba(60, 64, 67, 0.15);\n",
              "      fill: #174EA6;\n",
              "    }\n",
              "\n",
              "    [theme=dark] .colab-df-convert {\n",
              "      background-color: #3B4455;\n",
              "      fill: #D2E3FC;\n",
              "    }\n",
              "\n",
              "    [theme=dark] .colab-df-convert:hover {\n",
              "      background-color: #434B5C;\n",
              "      box-shadow: 0px 1px 3px 1px rgba(0, 0, 0, 0.15);\n",
              "      filter: drop-shadow(0px 1px 2px rgba(0, 0, 0, 0.3));\n",
              "      fill: #FFFFFF;\n",
              "    }\n",
              "  </style>\n",
              "\n",
              "      <script>\n",
              "        const buttonEl =\n",
              "          document.querySelector('#df-a187a2a5-2e05-47d3-80f6-70c115962622 button.colab-df-convert');\n",
              "        buttonEl.style.display =\n",
              "          google.colab.kernel.accessAllowed ? 'block' : 'none';\n",
              "\n",
              "        async function convertToInteractive(key) {\n",
              "          const element = document.querySelector('#df-a187a2a5-2e05-47d3-80f6-70c115962622');\n",
              "          const dataTable =\n",
              "            await google.colab.kernel.invokeFunction('convertToInteractive',\n",
              "                                                     [key], {});\n",
              "          if (!dataTable) return;\n",
              "\n",
              "          const docLinkHtml = 'Like what you see? Visit the ' +\n",
              "            '<a target=\"_blank\" href=https://colab.research.google.com/notebooks/data_table.ipynb>data table notebook</a>'\n",
              "            + ' to learn more about interactive tables.';\n",
              "          element.innerHTML = '';\n",
              "          dataTable['output_type'] = 'display_data';\n",
              "          await google.colab.output.renderOutput(dataTable, element);\n",
              "          const docLink = document.createElement('div');\n",
              "          docLink.innerHTML = docLinkHtml;\n",
              "          element.appendChild(docLink);\n",
              "        }\n",
              "      </script>\n",
              "    </div>\n",
              "  </div>\n",
              "  "
            ]
          },
          "metadata": {},
          "execution_count": 47
        }
      ]
    },
    {
      "cell_type": "code",
      "source": [
        "# Create the encoder and transform the desired columns\n",
        "legendary_ohe = OneHotEncoder(drop = 'first', sparse_output = False)\n",
        "legendary_ohe.set_output(transform = 'pandas')\n",
        "\n",
        "transformed = legendary_ohe.fit_transform(pokemon_df[['legendary']])\n",
        "\n",
        "# Create the new dataframe\n",
        "new_pokemon_df[transformed.columns] = transformed\n",
        "\n",
        "\n",
        "new_pokemon_df"
      ],
      "metadata": {
        "colab": {
          "base_uri": "https://localhost:8080/",
          "height": 574
        },
        "outputId": "49eba376-913f-455d-c882-09c5621bf15f",
        "id": "9IF0F5H1tKUs"
      },
      "execution_count": null,
      "outputs": [
        {
          "output_type": "execute_result",
          "data": {
            "text/plain": [
              "                      name    type1  total   hp  attack  defense  sp_attack  \\\n",
              "0                Bulbasaur    Grass    318   45      49       49         65   \n",
              "1                  Ivysaur    Grass    405   60      62       63         80   \n",
              "2                 Venusaur    Grass    525   80      82       83        100   \n",
              "3            Mega Venusaur    Grass    625   80     100      123        122   \n",
              "4      Gigantamax Venusaur    Grass    525   80      82       83        100   \n",
              "...                    ...      ...    ...  ...     ...      ...        ...   \n",
              "1067             Glastrier      Ice    580  100     145      130         65   \n",
              "1068             Spectrier    Ghost    580  100      65       60        145   \n",
              "1069               Calyrex  Psychic    500  100      80       80         80   \n",
              "1070     Ice Rider Calyrex  Psychic    680  100     165      150         85   \n",
              "1071  Shadow Rider Calyrex  Psychic    680  100      85       80        165   \n",
              "\n",
              "      sp_defense  speed  generation  ...  type2_Ground  type2_Ice  \\\n",
              "0             65     45           1  ...           0.0        0.0   \n",
              "1             80     60           1  ...           0.0        0.0   \n",
              "2            100     80           1  ...           0.0        0.0   \n",
              "3            120     80           1  ...           0.0        0.0   \n",
              "4            100     80           1  ...           0.0        0.0   \n",
              "...          ...    ...         ...  ...           ...        ...   \n",
              "1067         110     30           8  ...           0.0        0.0   \n",
              "1068          80    130           8  ...           0.0        0.0   \n",
              "1069          80     80           8  ...           0.0        0.0   \n",
              "1070         130     50           8  ...           0.0        1.0   \n",
              "1071         100    150           8  ...           0.0        0.0   \n",
              "\n",
              "      type2_Normal  type2_Poison  type2_Psychic  type2_Rock  type2_Steel  \\\n",
              "0              0.0           1.0            0.0         0.0          0.0   \n",
              "1              0.0           1.0            0.0         0.0          0.0   \n",
              "2              0.0           1.0            0.0         0.0          0.0   \n",
              "3              0.0           1.0            0.0         0.0          0.0   \n",
              "4              0.0           1.0            0.0         0.0          0.0   \n",
              "...            ...           ...            ...         ...          ...   \n",
              "1067           0.0           0.0            0.0         0.0          0.0   \n",
              "1068           0.0           0.0            0.0         0.0          0.0   \n",
              "1069           0.0           0.0            0.0         0.0          0.0   \n",
              "1070           0.0           0.0            0.0         0.0          0.0   \n",
              "1071           0.0           0.0            0.0         0.0          0.0   \n",
              "\n",
              "      type2_Water  type2_nan  legendary_True  \n",
              "0             0.0        0.0             0.0  \n",
              "1             0.0        0.0             0.0  \n",
              "2             0.0        0.0             0.0  \n",
              "3             0.0        0.0             0.0  \n",
              "4             0.0        0.0             0.0  \n",
              "...           ...        ...             ...  \n",
              "1067          0.0        1.0             1.0  \n",
              "1068          0.0        1.0             1.0  \n",
              "1069          0.0        0.0             1.0  \n",
              "1070          0.0        0.0             1.0  \n",
              "1071          0.0        0.0             1.0  \n",
              "\n",
              "[1072 rows x 32 columns]"
            ],
            "text/html": [
              "\n",
              "  <div id=\"df-7261c5b7-f55c-4e13-9919-f305e0b1a3ee\">\n",
              "    <div class=\"colab-df-container\">\n",
              "      <div>\n",
              "<style scoped>\n",
              "    .dataframe tbody tr th:only-of-type {\n",
              "        vertical-align: middle;\n",
              "    }\n",
              "\n",
              "    .dataframe tbody tr th {\n",
              "        vertical-align: top;\n",
              "    }\n",
              "\n",
              "    .dataframe thead th {\n",
              "        text-align: right;\n",
              "    }\n",
              "</style>\n",
              "<table border=\"1\" class=\"dataframe\">\n",
              "  <thead>\n",
              "    <tr style=\"text-align: right;\">\n",
              "      <th></th>\n",
              "      <th>name</th>\n",
              "      <th>type1</th>\n",
              "      <th>total</th>\n",
              "      <th>hp</th>\n",
              "      <th>attack</th>\n",
              "      <th>defense</th>\n",
              "      <th>sp_attack</th>\n",
              "      <th>sp_defense</th>\n",
              "      <th>speed</th>\n",
              "      <th>generation</th>\n",
              "      <th>...</th>\n",
              "      <th>type2_Ground</th>\n",
              "      <th>type2_Ice</th>\n",
              "      <th>type2_Normal</th>\n",
              "      <th>type2_Poison</th>\n",
              "      <th>type2_Psychic</th>\n",
              "      <th>type2_Rock</th>\n",
              "      <th>type2_Steel</th>\n",
              "      <th>type2_Water</th>\n",
              "      <th>type2_nan</th>\n",
              "      <th>legendary_True</th>\n",
              "    </tr>\n",
              "  </thead>\n",
              "  <tbody>\n",
              "    <tr>\n",
              "      <th>0</th>\n",
              "      <td>Bulbasaur</td>\n",
              "      <td>Grass</td>\n",
              "      <td>318</td>\n",
              "      <td>45</td>\n",
              "      <td>49</td>\n",
              "      <td>49</td>\n",
              "      <td>65</td>\n",
              "      <td>65</td>\n",
              "      <td>45</td>\n",
              "      <td>1</td>\n",
              "      <td>...</td>\n",
              "      <td>0.0</td>\n",
              "      <td>0.0</td>\n",
              "      <td>0.0</td>\n",
              "      <td>1.0</td>\n",
              "      <td>0.0</td>\n",
              "      <td>0.0</td>\n",
              "      <td>0.0</td>\n",
              "      <td>0.0</td>\n",
              "      <td>0.0</td>\n",
              "      <td>0.0</td>\n",
              "    </tr>\n",
              "    <tr>\n",
              "      <th>1</th>\n",
              "      <td>Ivysaur</td>\n",
              "      <td>Grass</td>\n",
              "      <td>405</td>\n",
              "      <td>60</td>\n",
              "      <td>62</td>\n",
              "      <td>63</td>\n",
              "      <td>80</td>\n",
              "      <td>80</td>\n",
              "      <td>60</td>\n",
              "      <td>1</td>\n",
              "      <td>...</td>\n",
              "      <td>0.0</td>\n",
              "      <td>0.0</td>\n",
              "      <td>0.0</td>\n",
              "      <td>1.0</td>\n",
              "      <td>0.0</td>\n",
              "      <td>0.0</td>\n",
              "      <td>0.0</td>\n",
              "      <td>0.0</td>\n",
              "      <td>0.0</td>\n",
              "      <td>0.0</td>\n",
              "    </tr>\n",
              "    <tr>\n",
              "      <th>2</th>\n",
              "      <td>Venusaur</td>\n",
              "      <td>Grass</td>\n",
              "      <td>525</td>\n",
              "      <td>80</td>\n",
              "      <td>82</td>\n",
              "      <td>83</td>\n",
              "      <td>100</td>\n",
              "      <td>100</td>\n",
              "      <td>80</td>\n",
              "      <td>1</td>\n",
              "      <td>...</td>\n",
              "      <td>0.0</td>\n",
              "      <td>0.0</td>\n",
              "      <td>0.0</td>\n",
              "      <td>1.0</td>\n",
              "      <td>0.0</td>\n",
              "      <td>0.0</td>\n",
              "      <td>0.0</td>\n",
              "      <td>0.0</td>\n",
              "      <td>0.0</td>\n",
              "      <td>0.0</td>\n",
              "    </tr>\n",
              "    <tr>\n",
              "      <th>3</th>\n",
              "      <td>Mega Venusaur</td>\n",
              "      <td>Grass</td>\n",
              "      <td>625</td>\n",
              "      <td>80</td>\n",
              "      <td>100</td>\n",
              "      <td>123</td>\n",
              "      <td>122</td>\n",
              "      <td>120</td>\n",
              "      <td>80</td>\n",
              "      <td>1</td>\n",
              "      <td>...</td>\n",
              "      <td>0.0</td>\n",
              "      <td>0.0</td>\n",
              "      <td>0.0</td>\n",
              "      <td>1.0</td>\n",
              "      <td>0.0</td>\n",
              "      <td>0.0</td>\n",
              "      <td>0.0</td>\n",
              "      <td>0.0</td>\n",
              "      <td>0.0</td>\n",
              "      <td>0.0</td>\n",
              "    </tr>\n",
              "    <tr>\n",
              "      <th>4</th>\n",
              "      <td>Gigantamax Venusaur</td>\n",
              "      <td>Grass</td>\n",
              "      <td>525</td>\n",
              "      <td>80</td>\n",
              "      <td>82</td>\n",
              "      <td>83</td>\n",
              "      <td>100</td>\n",
              "      <td>100</td>\n",
              "      <td>80</td>\n",
              "      <td>1</td>\n",
              "      <td>...</td>\n",
              "      <td>0.0</td>\n",
              "      <td>0.0</td>\n",
              "      <td>0.0</td>\n",
              "      <td>1.0</td>\n",
              "      <td>0.0</td>\n",
              "      <td>0.0</td>\n",
              "      <td>0.0</td>\n",
              "      <td>0.0</td>\n",
              "      <td>0.0</td>\n",
              "      <td>0.0</td>\n",
              "    </tr>\n",
              "    <tr>\n",
              "      <th>...</th>\n",
              "      <td>...</td>\n",
              "      <td>...</td>\n",
              "      <td>...</td>\n",
              "      <td>...</td>\n",
              "      <td>...</td>\n",
              "      <td>...</td>\n",
              "      <td>...</td>\n",
              "      <td>...</td>\n",
              "      <td>...</td>\n",
              "      <td>...</td>\n",
              "      <td>...</td>\n",
              "      <td>...</td>\n",
              "      <td>...</td>\n",
              "      <td>...</td>\n",
              "      <td>...</td>\n",
              "      <td>...</td>\n",
              "      <td>...</td>\n",
              "      <td>...</td>\n",
              "      <td>...</td>\n",
              "      <td>...</td>\n",
              "      <td>...</td>\n",
              "    </tr>\n",
              "    <tr>\n",
              "      <th>1067</th>\n",
              "      <td>Glastrier</td>\n",
              "      <td>Ice</td>\n",
              "      <td>580</td>\n",
              "      <td>100</td>\n",
              "      <td>145</td>\n",
              "      <td>130</td>\n",
              "      <td>65</td>\n",
              "      <td>110</td>\n",
              "      <td>30</td>\n",
              "      <td>8</td>\n",
              "      <td>...</td>\n",
              "      <td>0.0</td>\n",
              "      <td>0.0</td>\n",
              "      <td>0.0</td>\n",
              "      <td>0.0</td>\n",
              "      <td>0.0</td>\n",
              "      <td>0.0</td>\n",
              "      <td>0.0</td>\n",
              "      <td>0.0</td>\n",
              "      <td>1.0</td>\n",
              "      <td>1.0</td>\n",
              "    </tr>\n",
              "    <tr>\n",
              "      <th>1068</th>\n",
              "      <td>Spectrier</td>\n",
              "      <td>Ghost</td>\n",
              "      <td>580</td>\n",
              "      <td>100</td>\n",
              "      <td>65</td>\n",
              "      <td>60</td>\n",
              "      <td>145</td>\n",
              "      <td>80</td>\n",
              "      <td>130</td>\n",
              "      <td>8</td>\n",
              "      <td>...</td>\n",
              "      <td>0.0</td>\n",
              "      <td>0.0</td>\n",
              "      <td>0.0</td>\n",
              "      <td>0.0</td>\n",
              "      <td>0.0</td>\n",
              "      <td>0.0</td>\n",
              "      <td>0.0</td>\n",
              "      <td>0.0</td>\n",
              "      <td>1.0</td>\n",
              "      <td>1.0</td>\n",
              "    </tr>\n",
              "    <tr>\n",
              "      <th>1069</th>\n",
              "      <td>Calyrex</td>\n",
              "      <td>Psychic</td>\n",
              "      <td>500</td>\n",
              "      <td>100</td>\n",
              "      <td>80</td>\n",
              "      <td>80</td>\n",
              "      <td>80</td>\n",
              "      <td>80</td>\n",
              "      <td>80</td>\n",
              "      <td>8</td>\n",
              "      <td>...</td>\n",
              "      <td>0.0</td>\n",
              "      <td>0.0</td>\n",
              "      <td>0.0</td>\n",
              "      <td>0.0</td>\n",
              "      <td>0.0</td>\n",
              "      <td>0.0</td>\n",
              "      <td>0.0</td>\n",
              "      <td>0.0</td>\n",
              "      <td>0.0</td>\n",
              "      <td>1.0</td>\n",
              "    </tr>\n",
              "    <tr>\n",
              "      <th>1070</th>\n",
              "      <td>Ice Rider Calyrex</td>\n",
              "      <td>Psychic</td>\n",
              "      <td>680</td>\n",
              "      <td>100</td>\n",
              "      <td>165</td>\n",
              "      <td>150</td>\n",
              "      <td>85</td>\n",
              "      <td>130</td>\n",
              "      <td>50</td>\n",
              "      <td>8</td>\n",
              "      <td>...</td>\n",
              "      <td>0.0</td>\n",
              "      <td>1.0</td>\n",
              "      <td>0.0</td>\n",
              "      <td>0.0</td>\n",
              "      <td>0.0</td>\n",
              "      <td>0.0</td>\n",
              "      <td>0.0</td>\n",
              "      <td>0.0</td>\n",
              "      <td>0.0</td>\n",
              "      <td>1.0</td>\n",
              "    </tr>\n",
              "    <tr>\n",
              "      <th>1071</th>\n",
              "      <td>Shadow Rider Calyrex</td>\n",
              "      <td>Psychic</td>\n",
              "      <td>680</td>\n",
              "      <td>100</td>\n",
              "      <td>85</td>\n",
              "      <td>80</td>\n",
              "      <td>165</td>\n",
              "      <td>100</td>\n",
              "      <td>150</td>\n",
              "      <td>8</td>\n",
              "      <td>...</td>\n",
              "      <td>0.0</td>\n",
              "      <td>0.0</td>\n",
              "      <td>0.0</td>\n",
              "      <td>0.0</td>\n",
              "      <td>0.0</td>\n",
              "      <td>0.0</td>\n",
              "      <td>0.0</td>\n",
              "      <td>0.0</td>\n",
              "      <td>0.0</td>\n",
              "      <td>1.0</td>\n",
              "    </tr>\n",
              "  </tbody>\n",
              "</table>\n",
              "<p>1072 rows × 32 columns</p>\n",
              "</div>\n",
              "      <button class=\"colab-df-convert\" onclick=\"convertToInteractive('df-7261c5b7-f55c-4e13-9919-f305e0b1a3ee')\"\n",
              "              title=\"Convert this dataframe to an interactive table.\"\n",
              "              style=\"display:none;\">\n",
              "        \n",
              "  <svg xmlns=\"http://www.w3.org/2000/svg\" height=\"24px\"viewBox=\"0 0 24 24\"\n",
              "       width=\"24px\">\n",
              "    <path d=\"M0 0h24v24H0V0z\" fill=\"none\"/>\n",
              "    <path d=\"M18.56 5.44l.94 2.06.94-2.06 2.06-.94-2.06-.94-.94-2.06-.94 2.06-2.06.94zm-11 1L8.5 8.5l.94-2.06 2.06-.94-2.06-.94L8.5 2.5l-.94 2.06-2.06.94zm10 10l.94 2.06.94-2.06 2.06-.94-2.06-.94-.94-2.06-.94 2.06-2.06.94z\"/><path d=\"M17.41 7.96l-1.37-1.37c-.4-.4-.92-.59-1.43-.59-.52 0-1.04.2-1.43.59L10.3 9.45l-7.72 7.72c-.78.78-.78 2.05 0 2.83L4 21.41c.39.39.9.59 1.41.59.51 0 1.02-.2 1.41-.59l7.78-7.78 2.81-2.81c.8-.78.8-2.07 0-2.86zM5.41 20L4 18.59l7.72-7.72 1.47 1.35L5.41 20z\"/>\n",
              "  </svg>\n",
              "      </button>\n",
              "      \n",
              "  <style>\n",
              "    .colab-df-container {\n",
              "      display:flex;\n",
              "      flex-wrap:wrap;\n",
              "      gap: 12px;\n",
              "    }\n",
              "\n",
              "    .colab-df-convert {\n",
              "      background-color: #E8F0FE;\n",
              "      border: none;\n",
              "      border-radius: 50%;\n",
              "      cursor: pointer;\n",
              "      display: none;\n",
              "      fill: #1967D2;\n",
              "      height: 32px;\n",
              "      padding: 0 0 0 0;\n",
              "      width: 32px;\n",
              "    }\n",
              "\n",
              "    .colab-df-convert:hover {\n",
              "      background-color: #E2EBFA;\n",
              "      box-shadow: 0px 1px 2px rgba(60, 64, 67, 0.3), 0px 1px 3px 1px rgba(60, 64, 67, 0.15);\n",
              "      fill: #174EA6;\n",
              "    }\n",
              "\n",
              "    [theme=dark] .colab-df-convert {\n",
              "      background-color: #3B4455;\n",
              "      fill: #D2E3FC;\n",
              "    }\n",
              "\n",
              "    [theme=dark] .colab-df-convert:hover {\n",
              "      background-color: #434B5C;\n",
              "      box-shadow: 0px 1px 3px 1px rgba(0, 0, 0, 0.15);\n",
              "      filter: drop-shadow(0px 1px 2px rgba(0, 0, 0, 0.3));\n",
              "      fill: #FFFFFF;\n",
              "    }\n",
              "  </style>\n",
              "\n",
              "      <script>\n",
              "        const buttonEl =\n",
              "          document.querySelector('#df-7261c5b7-f55c-4e13-9919-f305e0b1a3ee button.colab-df-convert');\n",
              "        buttonEl.style.display =\n",
              "          google.colab.kernel.accessAllowed ? 'block' : 'none';\n",
              "\n",
              "        async function convertToInteractive(key) {\n",
              "          const element = document.querySelector('#df-7261c5b7-f55c-4e13-9919-f305e0b1a3ee');\n",
              "          const dataTable =\n",
              "            await google.colab.kernel.invokeFunction('convertToInteractive',\n",
              "                                                     [key], {});\n",
              "          if (!dataTable) return;\n",
              "\n",
              "          const docLinkHtml = 'Like what you see? Visit the ' +\n",
              "            '<a target=\"_blank\" href=https://colab.research.google.com/notebooks/data_table.ipynb>data table notebook</a>'\n",
              "            + ' to learn more about interactive tables.';\n",
              "          element.innerHTML = '';\n",
              "          dataTable['output_type'] = 'display_data';\n",
              "          await google.colab.output.renderOutput(dataTable, element);\n",
              "          const docLink = document.createElement('div');\n",
              "          docLink.innerHTML = docLinkHtml;\n",
              "          element.appendChild(docLink);\n",
              "        }\n",
              "      </script>\n",
              "    </div>\n",
              "  </div>\n",
              "  "
            ]
          },
          "metadata": {},
          "execution_count": 49
        }
      ]
    },
    {
      "cell_type": "markdown",
      "source": [
        "### **Problem #2: Prepare the data for modeling.**\n",
        "---\n",
        "\n",
        "Specifically,\n",
        "* Decide the independent and dependent variables (only including numerical variables except `type1`, which is the label).\n",
        "* Split the data into train and test sets such that 20% is left for testing.\n",
        "* Scale your data.\n"
      ],
      "metadata": {
        "id": "zK9wS9JatKUs"
      }
    },
    {
      "cell_type": "code",
      "source": [
        "# Decide the independent and dependent variables\n",
        "features = # COMPLETE THIS LINE\n",
        "label = # COMPLETE THIS LINE\n",
        "\n",
        "# Split the data into train and test sets\n",
        "X_train, X_test, y_train, y_test = train_test_split(# COMPLETE THIS LINE\n",
        "\n",
        "# Scale your data\n",
        "scaler = # COMPLETE THIS LINE\n",
        "\n",
        "X_train_scaled = scaler.# COMPLETE THIS LINE\n",
        "X_test_scaled = scaler.# COMPLETE THIS LINE"
      ],
      "metadata": {
        "id": "vLtH2pD0tKUs"
      },
      "execution_count": null,
      "outputs": []
    },
    {
      "cell_type": "markdown",
      "source": [
        "#### **Solution**"
      ],
      "metadata": {
        "id": "itmy50dJtKUs"
      }
    },
    {
      "cell_type": "code",
      "source": [
        "# Decide the independent and dependent variables\n",
        "features = new_pokemon_df.drop(columns = ['name', 'type1'], axis = 1)\n",
        "label = new_pokemon_df['type1']\n",
        "\n",
        "# Split the data into train and test sets\n",
        "X_train, X_test, y_train, y_test = train_test_split(features, label, test_size=0.2, random_state=42)\n",
        "\n",
        "# Scale your data\n",
        "scaler = StandardScaler()\n",
        "\n",
        "X_train_scaled = scaler.fit_transform(X_train)\n",
        "X_test_scaled = scaler.transform(X_test)"
      ],
      "metadata": {
        "id": "Le-71pfDtKUs"
      },
      "execution_count": null,
      "outputs": []
    },
    {
      "cell_type": "markdown",
      "source": [
        "### **Problem #3: Initialize and train your model.**\n",
        "---"
      ],
      "metadata": {
        "id": "FQF2UOQktKUt"
      }
    },
    {
      "cell_type": "code",
      "source": [
        "clf = # COMPLETE THIS LINE\n",
        "clf. # COMPLETE THIS LINE"
      ],
      "metadata": {
        "id": "EM3kjM39tKUt"
      },
      "execution_count": null,
      "outputs": []
    },
    {
      "cell_type": "markdown",
      "source": [
        "#### **Solution**"
      ],
      "metadata": {
        "id": "GgGphyWftKUt"
      }
    },
    {
      "cell_type": "code",
      "source": [
        "clf = LogisticRegression(multi_class='ovr')\n",
        "clf.fit(X_train_scaled, y_train)"
      ],
      "metadata": {
        "colab": {
          "base_uri": "https://localhost:8080/",
          "height": 95
        },
        "outputId": "e8b97227-32dd-4a9b-9cd6-b064a2c84cea",
        "id": "2zggPz-CtKUt"
      },
      "execution_count": null,
      "outputs": [
        {
          "output_type": "execute_result",
          "data": {
            "text/plain": [
              "LogisticRegression(multi_class='ovr')"
            ],
            "text/html": [
              "<style>#sk-container-id-3 {color: black;background-color: white;}#sk-container-id-3 pre{padding: 0;}#sk-container-id-3 div.sk-toggleable {background-color: white;}#sk-container-id-3 label.sk-toggleable__label {cursor: pointer;display: block;width: 100%;margin-bottom: 0;padding: 0.3em;box-sizing: border-box;text-align: center;}#sk-container-id-3 label.sk-toggleable__label-arrow:before {content: \"▸\";float: left;margin-right: 0.25em;color: #696969;}#sk-container-id-3 label.sk-toggleable__label-arrow:hover:before {color: black;}#sk-container-id-3 div.sk-estimator:hover label.sk-toggleable__label-arrow:before {color: black;}#sk-container-id-3 div.sk-toggleable__content {max-height: 0;max-width: 0;overflow: hidden;text-align: left;background-color: #f0f8ff;}#sk-container-id-3 div.sk-toggleable__content pre {margin: 0.2em;color: black;border-radius: 0.25em;background-color: #f0f8ff;}#sk-container-id-3 input.sk-toggleable__control:checked~div.sk-toggleable__content {max-height: 200px;max-width: 100%;overflow: auto;}#sk-container-id-3 input.sk-toggleable__control:checked~label.sk-toggleable__label-arrow:before {content: \"▾\";}#sk-container-id-3 div.sk-estimator input.sk-toggleable__control:checked~label.sk-toggleable__label {background-color: #d4ebff;}#sk-container-id-3 div.sk-label input.sk-toggleable__control:checked~label.sk-toggleable__label {background-color: #d4ebff;}#sk-container-id-3 input.sk-hidden--visually {border: 0;clip: rect(1px 1px 1px 1px);clip: rect(1px, 1px, 1px, 1px);height: 1px;margin: -1px;overflow: hidden;padding: 0;position: absolute;width: 1px;}#sk-container-id-3 div.sk-estimator {font-family: monospace;background-color: #f0f8ff;border: 1px dotted black;border-radius: 0.25em;box-sizing: border-box;margin-bottom: 0.5em;}#sk-container-id-3 div.sk-estimator:hover {background-color: #d4ebff;}#sk-container-id-3 div.sk-parallel-item::after {content: \"\";width: 100%;border-bottom: 1px solid gray;flex-grow: 1;}#sk-container-id-3 div.sk-label:hover label.sk-toggleable__label {background-color: #d4ebff;}#sk-container-id-3 div.sk-serial::before {content: \"\";position: absolute;border-left: 1px solid gray;box-sizing: border-box;top: 0;bottom: 0;left: 50%;z-index: 0;}#sk-container-id-3 div.sk-serial {display: flex;flex-direction: column;align-items: center;background-color: white;padding-right: 0.2em;padding-left: 0.2em;position: relative;}#sk-container-id-3 div.sk-item {position: relative;z-index: 1;}#sk-container-id-3 div.sk-parallel {display: flex;align-items: stretch;justify-content: center;background-color: white;position: relative;}#sk-container-id-3 div.sk-item::before, #sk-container-id-3 div.sk-parallel-item::before {content: \"\";position: absolute;border-left: 1px solid gray;box-sizing: border-box;top: 0;bottom: 0;left: 50%;z-index: -1;}#sk-container-id-3 div.sk-parallel-item {display: flex;flex-direction: column;z-index: 1;position: relative;background-color: white;}#sk-container-id-3 div.sk-parallel-item:first-child::after {align-self: flex-end;width: 50%;}#sk-container-id-3 div.sk-parallel-item:last-child::after {align-self: flex-start;width: 50%;}#sk-container-id-3 div.sk-parallel-item:only-child::after {width: 0;}#sk-container-id-3 div.sk-dashed-wrapped {border: 1px dashed gray;margin: 0 0.4em 0.5em 0.4em;box-sizing: border-box;padding-bottom: 0.4em;background-color: white;}#sk-container-id-3 div.sk-label label {font-family: monospace;font-weight: bold;display: inline-block;line-height: 1.2em;}#sk-container-id-3 div.sk-label-container {text-align: center;}#sk-container-id-3 div.sk-container {/* jupyter's `normalize.less` sets `[hidden] { display: none; }` but bootstrap.min.css set `[hidden] { display: none !important; }` so we also need the `!important` here to be able to override the default hidden behavior on the sphinx rendered scikit-learn.org. See: https://github.com/scikit-learn/scikit-learn/issues/21755 */display: inline-block !important;position: relative;}#sk-container-id-3 div.sk-text-repr-fallback {display: none;}</style><div id=\"sk-container-id-3\" class=\"sk-top-container\"><div class=\"sk-text-repr-fallback\"><pre>LogisticRegression(multi_class=&#x27;ovr&#x27;)</pre><b>In a Jupyter environment, please rerun this cell to show the HTML representation or trust the notebook. <br />On GitHub, the HTML representation is unable to render, please try loading this page with nbviewer.org.</b></div><div class=\"sk-container\" hidden><div class=\"sk-item\"><div class=\"sk-estimator sk-toggleable\"><input class=\"sk-toggleable__control sk-hidden--visually\" id=\"sk-estimator-id-3\" type=\"checkbox\" checked><label for=\"sk-estimator-id-3\" class=\"sk-toggleable__label sk-toggleable__label-arrow\">LogisticRegression</label><div class=\"sk-toggleable__content\"><pre>LogisticRegression(multi_class=&#x27;ovr&#x27;)</pre></div></div></div></div></div>"
            ]
          },
          "metadata": {},
          "execution_count": 51
        }
      ]
    },
    {
      "cell_type": "markdown",
      "source": [
        "### **Problem #4: Make predictions for the standardized test data.**\n",
        "---"
      ],
      "metadata": {
        "id": "Qb8gPQuWtKUt"
      }
    },
    {
      "cell_type": "code",
      "source": [
        "y_pred = # COMPLETE THIS LINE\n",
        "print(y_pred)\n",
        "\n",
        "y_pred_proba = # COMPLETE THIS LINE\n",
        "print(y_pred_proba)"
      ],
      "metadata": {
        "id": "Kaqkb4SotKUt"
      },
      "execution_count": null,
      "outputs": []
    },
    {
      "cell_type": "markdown",
      "source": [
        "###### **Solution**"
      ],
      "metadata": {
        "id": "ZYZyvZHgtKUt"
      }
    },
    {
      "cell_type": "code",
      "source": [
        "y_pred = clf.predict(X_test_scaled)\n",
        "print(y_pred)\n",
        "\n",
        "y_pred_proba = clf.predict_proba(X_test_scaled)\n",
        "print(y_pred_proba)"
      ],
      "metadata": {
        "colab": {
          "base_uri": "https://localhost:8080/"
        },
        "outputId": "008bffe4-3da7-43e4-f4b2-694f92e74f3f",
        "id": "DVTZ8BNOtKUt"
      },
      "execution_count": null,
      "outputs": [
        {
          "output_type": "stream",
          "name": "stdout",
          "text": [
            "['Grass' 'Dark' 'Psychic' 'Rock' 'Bug' 'Normal' 'Steel' 'Rock' 'Ice'\n",
            " 'Dark' 'Grass' 'Bug' 'Bug' 'Dragon' 'Psychic' 'Grass' 'Normal' 'Steel'\n",
            " 'Fighting' 'Normal' 'Bug' 'Rock' 'Dark' 'Water' 'Grass' 'Psychic' 'Water'\n",
            " 'Ghost' 'Psychic' 'Normal' 'Fire' 'Ice' 'Poison' 'Psychic' 'Ghost'\n",
            " 'Fighting' 'Water' 'Bug' 'Ground' 'Rock' 'Dark' 'Psychic' 'Electric'\n",
            " 'Rock' 'Ice' 'Ice' 'Dark' 'Rock' 'Normal' 'Water' 'Water' 'Normal'\n",
            " 'Steel' 'Electric' 'Normal' 'Electric' 'Psychic' 'Normal' 'Fighting'\n",
            " 'Normal' 'Water' 'Water' 'Water' 'Bug' 'Water' 'Steel' 'Normal' 'Bug'\n",
            " 'Water' 'Water' 'Psychic' 'Grass' 'Water' 'Dragon' 'Water' 'Psychic'\n",
            " 'Normal' 'Water' 'Normal' 'Bug' 'Normal' 'Normal' 'Bug' 'Psychic'\n",
            " 'Normal' 'Normal' 'Steel' 'Psychic' 'Steel' 'Psychic' 'Fighting' 'Grass'\n",
            " 'Water' 'Rock' 'Fighting' 'Normal' 'Psychic' 'Electric' 'Fighting'\n",
            " 'Water' 'Water' 'Electric' 'Electric' 'Poison' 'Electric' 'Psychic'\n",
            " 'Water' 'Dragon' 'Normal' 'Normal' 'Normal' 'Fighting' 'Normal' 'Rock'\n",
            " 'Ghost' 'Ice' 'Dark' 'Grass' 'Normal' 'Water' 'Normal' 'Ground' 'Grass'\n",
            " 'Electric' 'Water' 'Steel' 'Normal' 'Fighting' 'Dragon' 'Steel' 'Water'\n",
            " 'Normal' 'Dragon' 'Dragon' 'Rock' 'Water' 'Dragon' 'Water' 'Water'\n",
            " 'Fighting' 'Normal' 'Dark' 'Normal' 'Psychic' 'Water' 'Water' 'Rock'\n",
            " 'Grass' 'Normal' 'Normal' 'Psychic' 'Grass' 'Electric' 'Normal' 'Psychic'\n",
            " 'Bug' 'Ice' 'Normal' 'Normal' 'Normal' 'Bug' 'Psychic' 'Normal' 'Rock'\n",
            " 'Normal' 'Fighting' 'Water' 'Fire' 'Water' 'Fire' 'Ghost' 'Water' 'Dark'\n",
            " 'Psychic' 'Normal' 'Bug' 'Normal' 'Electric' 'Normal' 'Water' 'Normal'\n",
            " 'Bug' 'Psychic' 'Dragon' 'Water' 'Fire' 'Fire' 'Psychic' 'Psychic' 'Bug'\n",
            " 'Grass' 'Normal' 'Fighting' 'Normal' 'Ghost' 'Normal' 'Steel' 'Grass'\n",
            " 'Grass' 'Grass' 'Steel' 'Dragon' 'Water' 'Electric' 'Fairy' 'Ghost'\n",
            " 'Fairy' 'Steel' 'Dark' 'Water' 'Fighting' 'Normal' 'Psychic' 'Psychic'\n",
            " 'Dark']\n",
            "[[3.18684474e-05 4.66985494e-03 1.67401931e-01 ... 7.99745980e-05\n",
            "  1.30754866e-02 9.38722453e-02]\n",
            " [1.05856216e-04 6.31204956e-03 3.22854344e-01 ... 6.46851467e-03\n",
            "  7.20487842e-02 4.42431117e-02]\n",
            " [2.59913882e-06 5.42793125e-06 1.01895573e-02 ... 1.64448148e-03\n",
            "  1.02072318e-02 4.11832347e-04]\n",
            " ...\n",
            " [1.34224091e-05 1.39214649e-02 1.43092593e-02 ... 4.82762745e-02\n",
            "  2.10772231e-02 6.04146724e-03]\n",
            " [6.27734129e-05 3.52952456e-03 4.47774919e-03 ... 3.39020981e-02\n",
            "  3.85891778e-02 7.95474378e-03]\n",
            " [5.66803979e-04 2.17072993e-01 2.22928318e-01 ... 4.57880754e-04\n",
            "  1.68503520e-01 1.02889771e-02]]\n"
          ]
        }
      ]
    },
    {
      "cell_type": "markdown",
      "source": [
        "### **Problem #5: Evaluate your model.**\n",
        "---\n",
        "\n",
        "Specifically,\n",
        "* Print the accuracy score.\n",
        "* Plot the confusion matrix.\n",
        "\n",
        "<br>\n",
        "\n",
        "**NOTE**: Since we are using `type1` as the label directly here, we just use `display_labels=clf.classes_`. This is one good reason for using non-encoded labels."
      ],
      "metadata": {
        "id": "ZPVhbERLtKUt"
      }
    },
    {
      "cell_type": "code",
      "source": [
        "# Print the accuracy score\n",
        "accuracy = # COMPLETE THIS LINE\n",
        "print(f'Accuracy: {accuracy}')\n",
        "\n",
        "# Plot the confusion matrix\n",
        "cm = confusion_matrix(# COMPLETE THIS LINE\n",
        "\n",
        "disp = ConfusionMatrixDisplay(# COMPLETE THIS LINE\n",
        "disp.plot()\n",
        "\n",
        "plt.xticks(rotation = 90)\n",
        "plt.show()"
      ],
      "metadata": {
        "id": "6nDJP4aWtKUt"
      },
      "execution_count": null,
      "outputs": []
    },
    {
      "cell_type": "markdown",
      "source": [
        "#### **Solution**"
      ],
      "metadata": {
        "id": "fWVKtzlktKUt"
      }
    },
    {
      "cell_type": "code",
      "source": [
        "# Print the accuracy score\n",
        "accuracy = accuracy_score(y_test,y_pred)\n",
        "print(f'Accuracy: {accuracy}')\n",
        "\n",
        "# Plot the confusion matrix\n",
        "cm = confusion_matrix(y_test, y_pred, labels=clf.classes_)\n",
        "\n",
        "disp = ConfusionMatrixDisplay(confusion_matrix=cm, display_labels=clf.classes_)\n",
        "disp.plot()\n",
        "\n",
        "plt.xticks(rotation = 90)\n",
        "plt.show()"
      ],
      "metadata": {
        "colab": {
          "base_uri": "https://localhost:8080/",
          "height": 536
        },
        "outputId": "718665c7-382e-4ad0-9e89-734650a53ff2",
        "id": "rHvoqAw8tKUt"
      },
      "execution_count": null,
      "outputs": [
        {
          "output_type": "stream",
          "name": "stdout",
          "text": [
            "Accuracy: 0.4418604651162791\n"
          ]
        },
        {
          "output_type": "display_data",
          "data": {
            "text/plain": [
              "<Figure size 640x480 with 2 Axes>"
            ],
            "image/png": "[encoded data removed]"
          },
          "metadata": {}
        }
      ]
    },
    {
      "cell_type": "markdown",
      "source": [
        "### **Problem #6: Use your model.**\n",
        "---\n",
        "\n",
        "Specifically, make predictions for the same data points as in Part 1, Problem #9:\n",
        "\n",
        "1.  `total = 300`,\t`hp = 50`, `attack = 40`,\t`defense = 60`,\t`sp_attack = 60`,\t`sp_defense = 67`,\t`speed = 40`,\t`generation = 6`, `type2 = 'Dragon'`, `legendary = True`\n",
        "\n",
        "2.  `total = 250`,\t`hp = 40`, `attack = 60`,\t`defense = 40`,\t`sp_attack = 40`,\t`sp_defense = 30`,\t`speed = 70`,\t`generation = 8`, `type2 = 'Dark'`, `legendary = False`\n",
        "\n",
        "3. `total = 500`,\t`hp = 70`, `attack = 50`,\t`defense = 75`,\t`sp_attack = 80`,\t`sp_defense = 80`,\t`speed = 100`,\t`generation = 6`, `type2 = 'Ground'`, `legendary = True`\n",
        "\n",
        "<br>\n",
        "\n",
        "This is a little more complicated with one-hot encoding, so we will break it down into the following parts:\n",
        "1. Create an unencoded DataFrame with these points.\n",
        "2. Transform the `type2` and `legendary` columns.\n",
        "3. Create an encoded DataFrame with the transformed columns and those that did not need to be transformed.\n",
        "4. Make our predictions as usual."
      ],
      "metadata": {
        "id": "6RdiqCbItKUt"
      }
    },
    {
      "cell_type": "markdown",
      "source": [
        "#### **1. Create an unencoded DataFrame with these points.**"
      ],
      "metadata": {
        "id": "1Bujbd_QtKUt"
      }
    },
    {
      "cell_type": "code",
      "source": [
        "column_labels = ['total', 'hp', 'attack', 'defense', 'sp_attack', 'sp_defense', 'speed', 'generation', 'type2', 'legendary']\n",
        "\n",
        "tmp_df = pd.DataFrame([[# COMPLETE THIS LINE"
      ],
      "metadata": {
        "id": "EAhO0UGutKUt"
      },
      "execution_count": null,
      "outputs": []
    },
    {
      "cell_type": "markdown",
      "source": [
        "##### **Solution**"
      ],
      "metadata": {
        "id": "dcIyzczxtKUt"
      }
    },
    {
      "cell_type": "code",
      "source": [
        "column_labels = ['total', 'hp', 'attack', 'defense', 'sp_attack', 'sp_defense', 'speed', 'generation', 'type2', 'legendary']\n",
        "\n",
        "tmp_df = pd.DataFrame([[300,50,40,60,60,67,40,6,'Dragon', True],[250,40,60,40,40,30,70,8,'Dark', False], [500,70,50,75,80,80,100,6,'Ground', True]] , columns = column_labels)"
      ],
      "metadata": {
        "id": "TqmhR4VStKUt"
      },
      "execution_count": null,
      "outputs": []
    },
    {
      "cell_type": "markdown",
      "source": [
        "#### **2. Transform the `type2` and `legendary` columns.**"
      ],
      "metadata": {
        "id": "rJGyKQSetKUt"
      }
    },
    {
      "cell_type": "code",
      "source": [
        "type2_transformed = type2_ohe.transform(tmp_df[[# COMPLETE THIS LINE\n",
        "legendary_transformed = # COMPLETE THIS LINE"
      ],
      "metadata": {
        "id": "Y749R389tKUt"
      },
      "execution_count": null,
      "outputs": []
    },
    {
      "cell_type": "markdown",
      "source": [
        "##### **Solution**"
      ],
      "metadata": {
        "id": "TRcV9MAgtKUu"
      }
    },
    {
      "cell_type": "code",
      "source": [
        "type2_transformed = type2_ohe.transform(tmp_df[['type2']])\n",
        "legendary_transformed = legendary_ohe.transform(tmp_df[['legendary']])"
      ],
      "metadata": {
        "id": "AKYcd-vttKUu"
      },
      "execution_count": null,
      "outputs": []
    },
    {
      "cell_type": "markdown",
      "source": [
        "#### **3. Create an encoded DataFrame with the transformed columns and those that did not need to be transformed.**"
      ],
      "metadata": {
        "id": "6g4cWeMstKUu"
      }
    },
    {
      "cell_type": "code",
      "source": [
        "new_points_df = tmp_df.drop(columns = ['type2', # COMPLETE THIS LINE\n",
        "new_points_df[type2_transformed.columns] = # COMPLETE THIS LINE\n",
        "new_points_df[# COMPLETE THIS LINE"
      ],
      "metadata": {
        "id": "ZLX1coEVtKUu"
      },
      "execution_count": null,
      "outputs": []
    },
    {
      "cell_type": "markdown",
      "source": [
        "##### **Solution**"
      ],
      "metadata": {
        "id": "y6dcsbXvtKUu"
      }
    },
    {
      "cell_type": "code",
      "source": [
        "new_points_df = tmp_df.drop(columns = ['type2', 'legendary'], axis = 1)\n",
        "new_points_df[type2_transformed.columns] = type2_transformed\n",
        "new_points_df[legendary_transformed.columns] = legendary_transformed"
      ],
      "metadata": {
        "id": "dADGrYistKUu"
      },
      "execution_count": null,
      "outputs": []
    },
    {
      "cell_type": "markdown",
      "source": [
        "#### **4. Make our predictions as usual.**"
      ],
      "metadata": {
        "id": "_w1dCvyJtKUu"
      }
    },
    {
      "cell_type": "code",
      "source": [
        "new_scaled = # COMPLETE THIS LINE\n",
        "predictions = # COMPLETE THIS LINE\n",
        "\n",
        "print([type2_map[x] for x in predictions])\n",
        "print(predictions)"
      ],
      "metadata": {
        "id": "RTWPS8qitKUu"
      },
      "execution_count": null,
      "outputs": []
    },
    {
      "cell_type": "markdown",
      "source": [
        "##### **Solution**"
      ],
      "metadata": {
        "id": "ryHUrOqAtKUu"
      }
    },
    {
      "cell_type": "code",
      "source": [
        "new_scaled = scaler.transform(new_points_df)\n",
        "predictions = clf.predict(new_scaled)\n",
        "\n",
        "print([type2_map[x] for x in predictions])\n",
        "print(predictions)"
      ],
      "metadata": {
        "colab": {
          "base_uri": "https://localhost:8080/"
        },
        "outputId": "7d80850f-eb58-4825-a938-46b2526876e8",
        "id": "JTDlkJ4KtKUu"
      },
      "execution_count": null,
      "outputs": [
        {
          "output_type": "stream",
          "name": "stdout",
          "text": [
            "[6, 0, 4]\n",
            "['Psychic' 'Poison' 'Water']\n"
          ]
        }
      ]
    },
    {
      "cell_type": "markdown",
      "source": [
        "---\n",
        "## **Back To Lecture**\n",
        "---"
      ],
      "metadata": {
        "id": "-1IfF45wtKUu"
      }
    },
    {
      "cell_type": "markdown",
      "metadata": {
        "id": "K4jGMPNPYWEF"
      },
      "source": [
        "<a name=\"p4\"></a>\n",
        "\n",
        "---\n",
        "## **Part 4: K-Folds**\n",
        "---"
      ]
    },
    {
      "cell_type": "markdown",
      "source": [
        "### **Problem #1: Train a 5NN Model on the Iris dataset.**\n",
        "\n",
        "To start, let's train a KNN model with K = 5 on the Iris dataset as we normally would walking through Steps #1 - 7 of implementing of an ML model:\n",
        "1. Load in the data\n",
        "2. Decide which features will be the predictors (the X values), and which feature you want to predict (the y values)\n",
        "3. Split the data into training and testing datasets\n",
        "4. Import a ML algorithm\n",
        "5. Set the model’s parameters\n",
        "6. Fit the model on the training set and test the model on the test dataset.\n",
        "7. Evaluate the model’s performance\n",
        "8. Apply your model"
      ],
      "metadata": {
        "id": "_NN7OVfSkTTG"
      }
    },
    {
      "cell_type": "markdown",
      "source": [
        "#### **Steps #1 - 2**\n",
        "\n",
        "**Run the code below to load the data and separate into dependent and independent variables.**"
      ],
      "metadata": {
        "id": "BbzJQ3tq8etO"
      }
    },
    {
      "cell_type": "code",
      "source": [
        "# Step #1\n",
        "iris = load_iris()\n",
        "\n",
        "# Step #2\n",
        "X=iris.data\n",
        "y=iris.target"
      ],
      "metadata": {
        "id": "EFYeSianyZNf"
      },
      "execution_count": null,
      "outputs": []
    },
    {
      "cell_type": "markdown",
      "source": [
        "#### **Step #3**\n",
        "\n",
        "Make sure to set aside 20% of the data for testing."
      ],
      "metadata": {
        "id": "hlzVt6xC8jwb"
      }
    },
    {
      "cell_type": "code",
      "source": [
        "X_train, X_test, y_train, y_test = sklearn.model_selection.train_test_split(# COMPLETE THIS LINE"
      ],
      "metadata": {
        "id": "XctutRcyAyiF"
      },
      "execution_count": null,
      "outputs": []
    },
    {
      "cell_type": "markdown",
      "source": [
        "##### **Solution**"
      ],
      "metadata": {
        "id": "zTUm39TWAvww"
      }
    },
    {
      "cell_type": "code",
      "source": [
        "X_train, X_test, y_train, y_test = sklearn.model_selection.train_test_split(X, y, test_size=0.2, random_state=42)"
      ],
      "metadata": {
        "id": "GChs9TbN8qy5"
      },
      "execution_count": null,
      "outputs": []
    },
    {
      "cell_type": "markdown",
      "source": [
        "#### **Steps #4 - 5**"
      ],
      "metadata": {
        "id": "_4CiF0-2AXPz"
      }
    },
    {
      "cell_type": "code",
      "source": [
        "from sklearn.neighbors import KNeighborsClassifier\n",
        "knn = KNeighborsClassifier(# COMPLETE THIS LINE"
      ],
      "metadata": {
        "id": "ZnhU3caQAzGN"
      },
      "execution_count": null,
      "outputs": []
    },
    {
      "cell_type": "markdown",
      "source": [
        "##### **Solution**"
      ],
      "metadata": {
        "id": "VLLlbpELAzGO"
      }
    },
    {
      "cell_type": "code",
      "source": [
        "from sklearn.neighbors import KNeighborsClassifier\n",
        "knn = KNeighborsClassifier(n_neighbors=5)"
      ],
      "metadata": {
        "id": "G50OHxcRAWSI"
      },
      "execution_count": null,
      "outputs": []
    },
    {
      "cell_type": "markdown",
      "source": [
        "#### **Steps #6 - 7**"
      ],
      "metadata": {
        "id": "xU_IjGRbAdHg"
      }
    },
    {
      "cell_type": "code",
      "source": [
        "# Step #6\n",
        "knn.# COMPLETE THIS LINE\n",
        "pred = # COMPLETE THIS LINE\n",
        "\n",
        "# Step #7\n",
        "accuracy = # COMPLETE THIS LINE\n",
        "print(accuracy)"
      ],
      "metadata": {
        "id": "BOl3rSvjAzbK"
      },
      "execution_count": null,
      "outputs": []
    },
    {
      "cell_type": "markdown",
      "source": [
        "##### **Solution**"
      ],
      "metadata": {
        "id": "D5fs8ASlAzbL"
      }
    },
    {
      "cell_type": "code",
      "source": [
        "# Step #6\n",
        "knn.fit(X_train, y_train)\n",
        "pred = knn.predict(X_test)\n",
        "\n",
        "# Step #7\n",
        "accuracy = accuracy_score(y_test, pred)\n",
        "print(accuracy)"
      ],
      "metadata": {
        "colab": {
          "base_uri": "https://localhost:8080/"
        },
        "id": "1yDyX0i38qHe",
        "outputId": "0ad7d8fb-1fb8-4ebd-a51b-d2f2f7df2fe6"
      },
      "execution_count": null,
      "outputs": [
        {
          "output_type": "stream",
          "name": "stdout",
          "text": [
            "1.0\n"
          ]
        }
      ]
    },
    {
      "cell_type": "markdown",
      "source": [
        "### **Problem #2: Train a 5NN Model on the Iris dataset using 5-Folds Cross Validation.**\n",
        "\n",
        "Now, model the data in the same way, **except using K-Folds during training**."
      ],
      "metadata": {
        "id": "8SXK93uRBK6E"
      }
    },
    {
      "cell_type": "markdown",
      "source": [
        "#### **Steps #1 - 2**\n",
        "\n",
        "**Run the code below to load the data and separate into dependent and independent variables.**"
      ],
      "metadata": {
        "id": "Md4194pvBK6F"
      }
    },
    {
      "cell_type": "code",
      "source": [
        "# Step #1\n",
        "iris = load_iris()\n",
        "\n",
        "# Step #2\n",
        "X=iris.data\n",
        "y=iris.target"
      ],
      "metadata": {
        "id": "urjwXarYBK6F"
      },
      "execution_count": null,
      "outputs": []
    },
    {
      "cell_type": "markdown",
      "source": [
        "#### **Step #3**\n",
        "\n",
        "Make sure to set aside 20% of the data for testing."
      ],
      "metadata": {
        "id": "uYiVqv0GBK6F"
      }
    },
    {
      "cell_type": "code",
      "source": [
        "X_train, X_test, y_train, y_test = sklearn.model_selection.train_test_split(# COMPLETE THIS LINE"
      ],
      "metadata": {
        "id": "EUGgXi4-BK6F"
      },
      "execution_count": null,
      "outputs": []
    },
    {
      "cell_type": "markdown",
      "source": [
        "##### **Solution**"
      ],
      "metadata": {
        "id": "fg70RUZGBK6F"
      }
    },
    {
      "cell_type": "code",
      "source": [
        "X_train, X_test, y_train, y_test = sklearn.model_selection.train_test_split(X, y, test_size=0.2, random_state=42)"
      ],
      "metadata": {
        "id": "SO9PrVtQBK6F"
      },
      "execution_count": null,
      "outputs": []
    },
    {
      "cell_type": "markdown",
      "source": [
        "#### **Steps #4 - 5**"
      ],
      "metadata": {
        "id": "r6WCU_6eBK6F"
      }
    },
    {
      "cell_type": "code",
      "source": [
        "from sklearn.neighbors import KNeighborsClassifier\n",
        "knn = KNeighborsClassifier(# COMPLETE THIS LINE"
      ],
      "metadata": {
        "id": "VDZE27ucBK6F"
      },
      "execution_count": null,
      "outputs": []
    },
    {
      "cell_type": "markdown",
      "source": [
        "##### **Solution**"
      ],
      "metadata": {
        "id": "2VDRlEWHBK6G"
      }
    },
    {
      "cell_type": "code",
      "source": [
        "from sklearn.neighbors import KNeighborsClassifier\n",
        "knn = KNeighborsClassifier(n_neighbors=5)"
      ],
      "metadata": {
        "id": "6Be4QG58BK6G"
      },
      "execution_count": null,
      "outputs": []
    },
    {
      "cell_type": "markdown",
      "source": [
        "#### **Steps #6 - 7**\n",
        "\n",
        "**Run the code below to perform 5-Fold Cross Validation and then train the final model.**"
      ],
      "metadata": {
        "id": "UI0NHMuLBK6G"
      }
    },
    {
      "cell_type": "code",
      "source": [
        "kf = KFold(n_splits=5)\n",
        "\n",
        "# store each score in the list \"evaluations\"\n",
        "evaluations = []\n",
        "index = 1\n",
        "\n",
        "# loop through folds and store the accuracy score\n",
        "for train_index, test_index in kf.split(X_train):\n",
        "    X_tr, X_te = X_train[train_index], X_train[test_index]\n",
        "    y_tr, y_te = y_train[train_index], y_train[test_index]\n",
        "\n",
        "    # fit model and make a prediction\n",
        "    knn.fit(X_tr, y_tr)\n",
        "    pred = knn.predict(X_te)\n",
        "\n",
        "    # get accuracy score\n",
        "    score = accuracy_score(y_te, pred)\n",
        "    print(f'Fold #{index} has an accuracy score of {score}.')\n",
        "\n",
        "    evaluations.append(score)\n",
        "    index += 1\n",
        "\n",
        "\n",
        "# Finish training\n",
        "knn.fit(X_train, y_train)\n",
        "print(f'\\n{len(evaluations)}-Folds CV demonstrated an average accuracy score of {sum(evaluations)/len(evaluations)}.')\n",
        "\n",
        "pred = knn.predict(X_test)\n",
        "print(f'Evaluating on the test set demonstrated an accuracy score of {accuracy_score(y_test, pred)}.')"
      ],
      "metadata": {
        "colab": {
          "base_uri": "https://localhost:8080/"
        },
        "outputId": "374c1988-a91d-406a-ed67-ecebb915c0c5",
        "id": "zEaYl6wWBK6G"
      },
      "execution_count": null,
      "outputs": [
        {
          "output_type": "stream",
          "name": "stdout",
          "text": [
            "Fold #1 has an accuracy score of 0.9583333333333334.\n",
            "Fold #2 has an accuracy score of 0.9583333333333334.\n",
            "Fold #3 has an accuracy score of 0.875.\n",
            "Fold #4 has an accuracy score of 0.9583333333333334.\n",
            "Fold #5 has an accuracy score of 0.9583333333333334.\n",
            "\n",
            "5-Folds CV demonstrated an average accuracy score of 0.9416666666666668.\n",
            "Evaluating on the test set demonstrated an accuracy score of 1.0.\n"
          ]
        }
      ]
    },
    {
      "cell_type": "markdown",
      "source": [
        "### **Problem #3: Train an 11NN Model on the Iris dataset using 5-Folds Cross Validation.**"
      ],
      "metadata": {
        "id": "BBZeLxeCE3FT"
      }
    },
    {
      "cell_type": "markdown",
      "source": [
        "#### **Steps #1 - 2**\n",
        "\n",
        "**Run the code below to load the data and separate into dependent and independent variables.**"
      ],
      "metadata": {
        "id": "dIOl2ZWSE3FU"
      }
    },
    {
      "cell_type": "code",
      "source": [
        "# Step #1\n",
        "iris = load_iris()\n",
        "\n",
        "# Step #2\n",
        "X=iris.data\n",
        "y=iris.target"
      ],
      "metadata": {
        "id": "n4uYBVRhE3FU"
      },
      "execution_count": null,
      "outputs": []
    },
    {
      "cell_type": "markdown",
      "source": [
        "#### **Step #3**\n",
        "\n",
        "Make sure to set aside 20% of the data for testing."
      ],
      "metadata": {
        "id": "py33zm-3E3FU"
      }
    },
    {
      "cell_type": "code",
      "source": [
        "X_train, X_test, y_train, y_test = sklearn.model_selection.train_test_split(# COMPLETE THIS LINE"
      ],
      "metadata": {
        "id": "g899_c1iE3FU"
      },
      "execution_count": null,
      "outputs": []
    },
    {
      "cell_type": "markdown",
      "source": [
        "##### **Solution**"
      ],
      "metadata": {
        "id": "LUqoOQaKE3FV"
      }
    },
    {
      "cell_type": "code",
      "source": [
        "X_train, X_test, y_train, y_test = sklearn.model_selection.train_test_split(X, y, test_size=0.2, random_state=42)"
      ],
      "metadata": {
        "id": "LzJYEuImE3FV"
      },
      "execution_count": null,
      "outputs": []
    },
    {
      "cell_type": "markdown",
      "source": [
        "#### **Steps #4 - 5**"
      ],
      "metadata": {
        "id": "QUTkpYDUE3FV"
      }
    },
    {
      "cell_type": "code",
      "source": [
        "from sklearn.neighbors import KNeighborsClassifier\n",
        "knn = KNeighborsClassifier(# COMPLETE THIS LINE"
      ],
      "metadata": {
        "id": "ll6N6YofE3FV"
      },
      "execution_count": null,
      "outputs": []
    },
    {
      "cell_type": "markdown",
      "source": [
        "##### **Solution**"
      ],
      "metadata": {
        "id": "sMO1DzBwE3FV"
      }
    },
    {
      "cell_type": "code",
      "source": [
        "from sklearn.neighbors import KNeighborsClassifier\n",
        "knn = KNeighborsClassifier(n_neighbors=11)"
      ],
      "metadata": {
        "id": "2RfhDcsQE3FV"
      },
      "execution_count": null,
      "outputs": []
    },
    {
      "cell_type": "markdown",
      "source": [
        "#### **Steps #6 - 7**\n",
        "\n",
        "**Run the code below to perform 5-Fold Cross Validation and then train the final model.**"
      ],
      "metadata": {
        "id": "zKeyC6c1E3FV"
      }
    },
    {
      "cell_type": "code",
      "source": [
        "kf = KFold(n_splits=5)\n",
        "\n",
        "# store each score in the list \"evaluations\"\n",
        "evaluations = []\n",
        "index = 1\n",
        "\n",
        "# loop through folds and store the accuracy score\n",
        "for train_index, test_index in kf.split(X_train):\n",
        "    X_tr, X_te = X_train[train_index], X_train[test_index]\n",
        "    y_tr, y_te = y_train[train_index], y_train[test_index]\n",
        "\n",
        "    # fit model and make a prediction\n",
        "    knn.fit(X_tr, y_tr)\n",
        "    pred = knn.predict(X_te)\n",
        "\n",
        "    # get accuracy score\n",
        "    score = accuracy_score(y_te, pred)\n",
        "    print(f'Fold #{index} has an accuracy score of {score}.')\n",
        "\n",
        "    evaluations.append(score)\n",
        "    index += 1\n",
        "\n",
        "\n",
        "# Finish training\n",
        "knn.fit(X_train, y_train)\n",
        "print(f'\\n{len(evaluations)}-Folds CV demonstrated an average accuracy score of {sum(evaluations)/len(evaluations)}.')\n",
        "\n",
        "pred = knn.predict(X_test)\n",
        "print(f'Evaluating on the test set demonstrated an accuracy score of {accuracy_score(y_test, pred)}.')"
      ],
      "metadata": {
        "colab": {
          "base_uri": "https://localhost:8080/"
        },
        "outputId": "88b13ca0-1384-4b2b-a531-e80b72d601d5",
        "id": "bIxW_lhEE3FV"
      },
      "execution_count": null,
      "outputs": [
        {
          "output_type": "stream",
          "name": "stdout",
          "text": [
            "Fold #1 has an accuracy score of 1.0.\n",
            "Fold #2 has an accuracy score of 0.9583333333333334.\n",
            "Fold #3 has an accuracy score of 0.875.\n",
            "Fold #4 has an accuracy score of 0.9583333333333334.\n",
            "Fold #5 has an accuracy score of 0.9583333333333334.\n",
            "\n",
            "5-Folds CV demonstrated an average accuracy score of 0.95.\n",
            "Evaluating on the test set demonstrated an accuracy score of 1.0.\n"
          ]
        }
      ]
    },
    {
      "cell_type": "markdown",
      "source": [
        "### **Problem #4: Train a Linear Regression Model on the Diabetes dataset using 5-Folds Cross Validation.**\n",
        "\n",
        "This dataset contains data from diabetic patients with features such as their BMI, age, blood pressure, and glucose levels that are useful in predicting the diabetes disease progression in patients. We will be looking at these variables that will be used to help predict disease progression in diabetic patients. \n",
        "\n",
        "<br>\n",
        "\n",
        "**NOTE:** Use $R^2$ when evaluating each fold."
      ],
      "metadata": {
        "id": "KqP9YSmxHWWw"
      }
    },
    {
      "cell_type": "markdown",
      "source": [
        "#### **Steps #1 - 2**\n",
        "\n",
        "**Run the code below to load the data and separate into dependent and independent variables.**"
      ],
      "metadata": {
        "id": "cvYfkf2rHWWx"
      }
    },
    {
      "cell_type": "code",
      "source": [],
      "metadata": {
        "id": "PhSJ9QkuI_bK"
      },
      "execution_count": null,
      "outputs": []
    },
    {
      "cell_type": "code",
      "source": [
        "# Step #1\n",
        "diabetes = datasets.load_diabetes()\n",
        "diabetes_df = pd.DataFrame(data=diabetes.data, columns=diabetes.feature_names)\n",
        "diabetes_df['TARGET'] = diabetes.target\n",
        "\n",
        "# Step #2\n",
        "X = diabetes_df[['age', 'bmi', 'bp']].values\n",
        "y = diabetes_df['TARGET'].values"
      ],
      "metadata": {
        "id": "Qd_MqycsHWWx"
      },
      "execution_count": null,
      "outputs": []
    },
    {
      "cell_type": "markdown",
      "source": [
        "#### **Step #3**\n",
        "\n",
        "Make sure to set aside 20% of the data for testing."
      ],
      "metadata": {
        "id": "2MHFZwUCHWWx"
      }
    },
    {
      "cell_type": "code",
      "source": [
        "X_train, X_test, y_train, y_test = sklearn.model_selection.train_test_split(# COMPLETE THIS LINE"
      ],
      "metadata": {
        "id": "yTzkjZI5HWWx"
      },
      "execution_count": null,
      "outputs": []
    },
    {
      "cell_type": "markdown",
      "source": [
        "##### **Solution**"
      ],
      "metadata": {
        "id": "O2o5L2P2HWWx"
      }
    },
    {
      "cell_type": "code",
      "source": [
        "X_train, X_test, y_train, y_test = sklearn.model_selection.train_test_split(X, y, test_size=0.2, random_state=42)"
      ],
      "metadata": {
        "id": "eTK9CJQ_HWWx"
      },
      "execution_count": null,
      "outputs": []
    },
    {
      "cell_type": "markdown",
      "source": [
        "#### **Steps #4 - 5**"
      ],
      "metadata": {
        "id": "hJy7QJNxHWWx"
      }
    },
    {
      "cell_type": "code",
      "source": [
        "from sklearn.linear_model import LinearRegression\n",
        "reg = # COMPLETE THIS LINE"
      ],
      "metadata": {
        "id": "FlQyP-x5HWWx"
      },
      "execution_count": null,
      "outputs": []
    },
    {
      "cell_type": "markdown",
      "source": [
        "##### **Solution**"
      ],
      "metadata": {
        "id": "ZcQoLHntHWWx"
      }
    },
    {
      "cell_type": "code",
      "source": [
        "from sklearn.linear_model import LinearRegression\n",
        "reg = LinearRegression()"
      ],
      "metadata": {
        "id": "HYIQkU8CHWWx"
      },
      "execution_count": null,
      "outputs": []
    },
    {
      "cell_type": "markdown",
      "source": [
        "#### **Steps #6 - 7**"
      ],
      "metadata": {
        "id": "3Lo5X29WHWWy"
      }
    },
    {
      "cell_type": "code",
      "source": [
        "kf = KFold(# COMPLETE THIS LINE\n",
        "\n",
        "# store each score in the list \"evaluations\"\n",
        "evaluations = []\n",
        "index = 1\n",
        "\n",
        "# loop through folds and store the accuracy score\n",
        "for train_index, test_index in kf.split(# COMPLETE THIS LINE\n",
        "    X_tr, X_te = X_train[train_index], X_train[test_index]\n",
        "    y_tr, y_te = y_train[train_index], y_train[test_index]\n",
        "\n",
        "    # fit model and make a prediction\n",
        "    reg.fit(# COMPLETE THIS LINE\n",
        "    pred = reg.predict(# COMPLETE THIS LINE\n",
        "\n",
        "    # get r2 score\n",
        "    score = # COMPLETE THIS LINE\n",
        "    print(f'Fold #{index} has an R^2 of {score}.')\n",
        "\n",
        "    evaluations.append(score)\n",
        "    index += 1\n",
        "\n",
        "# Finish training\n",
        "reg.fit(# COMPLETE THIS LINE\n",
        "print(f'\\n{len(evaluations)}-Folds CV demonstrated an average R^2 of {sum(evaluations)/len(evaluations)}.')\n",
        "\n",
        "pred = reg.predict(# COMPLETE THIS LINE\n",
        "print(f'Evaluating on the test set demonstrated an R^2 of {r2_score(y_test, pred)}.')"
      ],
      "metadata": {
        "id": "-gMZ8EoaJEpk"
      },
      "execution_count": null,
      "outputs": []
    },
    {
      "cell_type": "markdown",
      "source": [
        "##### **Solution**"
      ],
      "metadata": {
        "id": "OI7gtu0sJFQR"
      }
    },
    {
      "cell_type": "code",
      "source": [
        "kf = KFold(n_splits=5)\n",
        "\n",
        "# store each score in the list \"evaluations\"\n",
        "evaluations = []\n",
        "index = 1\n",
        "\n",
        "# loop through folds and store the accuracy score\n",
        "for train_index, test_index in kf.split(X_train):\n",
        "    X_tr, X_te = X_train[train_index], X_train[test_index]\n",
        "    y_tr, y_te = y_train[train_index], y_train[test_index]\n",
        "\n",
        "    # fit model and make a prediction\n",
        "    reg.fit(X_tr, y_tr)\n",
        "    pred = reg.predict(X_te)\n",
        "\n",
        "    # get r2 score\n",
        "    score = r2_score(y_te, pred)\n",
        "    print(f'Fold #{index} has a R^2 of {score}.')\n",
        "\n",
        "    evaluations.append(score)\n",
        "    index += 1\n",
        "\n",
        "# Finish training\n",
        "reg.fit(X_train, y_train)\n",
        "print(f'\\n{len(evaluations)}-Folds CV demonstrated an average R^2 of {sum(evaluations)/len(evaluations)}.')\n",
        "\n",
        "pred = reg.predict(X_test)\n",
        "print(f'Evaluating on the test set demonstrated a R^2 of {r2_score(y_test, pred)}.')"
      ],
      "metadata": {
        "colab": {
          "base_uri": "https://localhost:8080/"
        },
        "outputId": "92271c88-64e1-4fb1-f3a1-6979a2878817",
        "id": "tjD5gcVGHWWy"
      },
      "execution_count": null,
      "outputs": [
        {
          "output_type": "stream",
          "name": "stdout",
          "text": [
            "Fold #1 has a R^2 of 0.3825812066210206.\n",
            "Fold #2 has a R^2 of 0.24338223384036806.\n",
            "Fold #3 has a R^2 of 0.40318209956478845.\n",
            "Fold #4 has a R^2 of 0.5201073475793501.\n",
            "Fold #5 has a R^2 of 0.29751534532945545.\n",
            "\n",
            "5-Folds CV demonstrated an average R^2 of 0.36935364658699654.\n",
            "Evaluating on the test set demonstrated a R^2 of 0.2909156196410876.\n"
          ]
        }
      ]
    },
    {
      "cell_type": "markdown",
      "source": [
        "### **[OPTIONAL] Problem #5: Train a 5NN Model on the Breast Cancer dataset using 5-Folds Cross Validation.**\n",
        "\n",
        "\n",
        "The following dataset is taken from the [UCI ML Breast Cancer Wisconsin (Diagnostic) dataset](https://archive.ics.uci.edu/ml/datasets/breast+cancer+wisconsin+(diagnostic)). The dataset contains mammography exam results and whether or not cancer was detected.\n",
        "\n",
        "<br>\n",
        "\n",
        "**NOTE:** Use the accuracy score when evaluating each fold."
      ],
      "metadata": {
        "id": "WdZ2qE2PKcS_"
      }
    },
    {
      "cell_type": "markdown",
      "source": [
        "#### **Steps #1 - 2**\n",
        "\n",
        "**Run the code below to load the data and separate into dependent and independent variables.**"
      ],
      "metadata": {
        "id": "sWMyoTJkKcS_"
      }
    },
    {
      "cell_type": "code",
      "source": [
        "# Step #1\n",
        "cancer_dataset = datasets.load_breast_cancer()\n",
        "cancer_df = pd.DataFrame(data=cancer_dataset.data, columns=cancer_dataset.feature_names)\n",
        "cancer_df['TARGET'] = cancer_dataset.target\n",
        "\n",
        "# Step #2\n",
        "X = cancer_df[[\"mean radius\",\"mean texture\"]].values\n",
        "y = cancer_df[[\"TARGET\"]].values"
      ],
      "metadata": {
        "id": "Hs42oiCHKcS_"
      },
      "execution_count": null,
      "outputs": []
    },
    {
      "cell_type": "markdown",
      "source": [
        "#### **Step #3**\n",
        "\n",
        "Make sure to set aside 20% of the data for testing."
      ],
      "metadata": {
        "id": "bzXXl1-pKcS_"
      }
    },
    {
      "cell_type": "code",
      "source": [
        "X_train, X_test, y_train, y_test = sklearn.model_selection.train_test_split(# COMPLETE THIS LINE"
      ],
      "metadata": {
        "id": "EBnRGNfIKcS_"
      },
      "execution_count": null,
      "outputs": []
    },
    {
      "cell_type": "markdown",
      "source": [
        "##### **Solution**"
      ],
      "metadata": {
        "id": "BNMAwkAYKcS_"
      }
    },
    {
      "cell_type": "code",
      "source": [
        "X_train, X_test, y_train, y_test = sklearn.model_selection.train_test_split(X, y, test_size=0.2, random_state=42)"
      ],
      "metadata": {
        "id": "Cc2sMEW8KcS_"
      },
      "execution_count": null,
      "outputs": []
    },
    {
      "cell_type": "markdown",
      "source": [
        "#### **Steps #4 - 5**"
      ],
      "metadata": {
        "id": "lflhYbdEKcTA"
      }
    },
    {
      "cell_type": "code",
      "source": [
        "from sklearn.neighbors import KNeighborsClassifier\n",
        "knn = KNeighborsClassifier(# COMPLETE THIS LINE"
      ],
      "metadata": {
        "id": "Dlrvuf69KcTA"
      },
      "execution_count": null,
      "outputs": []
    },
    {
      "cell_type": "markdown",
      "source": [
        "##### **Solution**"
      ],
      "metadata": {
        "id": "J10UDMaAKcTA"
      }
    },
    {
      "cell_type": "code",
      "source": [
        "from sklearn.neighbors import KNeighborsClassifier\n",
        "knn = KNeighborsClassifier(n_neighbors=5)"
      ],
      "metadata": {
        "id": "B_pYLn9yKcTA"
      },
      "execution_count": null,
      "outputs": []
    },
    {
      "cell_type": "markdown",
      "source": [
        "#### **Steps #6 - 7**"
      ],
      "metadata": {
        "id": "g2HYP7YnKcTA"
      }
    },
    {
      "cell_type": "code",
      "source": [
        "# COMPLETE THIS CODE"
      ],
      "metadata": {
        "id": "HqEHmvjTLpZY"
      },
      "execution_count": null,
      "outputs": []
    },
    {
      "cell_type": "markdown",
      "source": [
        "##### **Solution**"
      ],
      "metadata": {
        "id": "nMkMBmzTLqA1"
      }
    },
    {
      "cell_type": "code",
      "source": [
        "kf = KFold(n_splits=5)\n",
        "\n",
        "# store each score in the list \"evaluations\"\n",
        "evaluations = []\n",
        "index = 1\n",
        "\n",
        "# loop through folds and store the accuracy score\n",
        "for train_index, test_index in kf.split(X_train):\n",
        "    X_tr, X_te = X_train[train_index], X_train[test_index]\n",
        "    y_tr, y_te = y_train[train_index], y_train[test_index]\n",
        "\n",
        "    # fit model and make a prediction\n",
        "    knn.fit(X_tr, y_tr)\n",
        "    pred = knn.predict(X_te)\n",
        "\n",
        "    # get accuracy score\n",
        "    score = accuracy_score(y_te, pred)\n",
        "    print(f'Fold #{index} has an accuracy score of {score}.')\n",
        "\n",
        "    evaluations.append(score)\n",
        "    index += 1\n",
        "\n",
        "\n",
        "# Finish training\n",
        "knn.fit(X_train, y_train)\n",
        "print(f'\\n{len(evaluations)}-Folds CV demonstrated an average accuracy score of {sum(evaluations)/len(evaluations)}.')\n",
        "\n",
        "pred = knn.predict(X_test)\n",
        "print(f'Evaluating on the test set demonstrated an accuracy score of {accuracy_score(y_test, pred)}.')"
      ],
      "metadata": {
        "colab": {
          "base_uri": "https://localhost:8080/"
        },
        "outputId": "e6cdb40d-d886-405b-f7ea-7c9b55bd14ba",
        "id": "qPDGMZoKKcTA"
      },
      "execution_count": null,
      "outputs": [
        {
          "output_type": "stream",
          "name": "stdout",
          "text": [
            "Fold #1 has an accuracy score of 0.8351648351648352.\n",
            "Fold #2 has an accuracy score of 0.8901098901098901.\n",
            "Fold #3 has an accuracy score of 0.9340659340659341.\n",
            "Fold #4 has an accuracy score of 0.8791208791208791.\n",
            "Fold #5 has an accuracy score of 0.8571428571428571.\n",
            "\n",
            "5-Folds CV demonstrated an average accuracy score of 0.8791208791208792.\n",
            "Evaluating on the test set demonstrated an accuracy score of 0.9035087719298246.\n"
          ]
        }
      ]
    },
    {
      "cell_type": "markdown",
      "metadata": {
        "id": "7dzC09dLlEhm"
      },
      "source": [
        "# End of lab\n",
        "---\n",
        "© 2023 The Coding School, All rights reserved"
      ]
    }
  ],
  "metadata": {
    "colab": {
      "provenance": [],
      "collapsed_sections": [
        "agoHgZwzEYp6",
        "CR-vjxr7eWEf",
        "rQg6Z_lTcg3e",
        "F24ferHretdr",
        "kQniEK33e4Gc",
        "GJxdjSNoqG1B",
        "1nSajOFvqyGr",
        "FEiZnGnHk8Ny",
        "Exnz9EEklCSo",
        "COZjhrjKlJQU",
        "_NN7OVfSkTTG",
        "BbzJQ3tq8etO",
        "hlzVt6xC8jwb",
        "_4CiF0-2AXPz",
        "8SXK93uRBK6E",
        "KqP9YSmxHWWw"
      ],
      "include_colab_link": true
    },
    "kernelspec": {
      "display_name": "Python 3",
      "name": "python3"
    },
    "language_info": {
      "name": "python"
    }
  },
  "nbformat": 4,
  "nbformat_minor": 0
}