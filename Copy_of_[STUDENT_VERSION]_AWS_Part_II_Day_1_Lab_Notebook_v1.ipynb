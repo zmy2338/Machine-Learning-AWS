{
  "nbformat": 4,
  "nbformat_minor": 0,
  "metadata": {
    "colab": {
      "provenance": [],
      "include_colab_link": true
    },
    "kernelspec": {
      "name": "python3",
      "display_name": "Python 3"
    },
    "language_info": {
      "name": "python"
    }
  },
  "cells": [
    {
      "cell_type": "markdown",
      "metadata": {
        "id": "view-in-github",
        "colab_type": "text"
      },
      "source": [
        "<a href=\"https://colab.research.google.com/github/zmy2338/Machine-Learning-AWS/blob/main/Copy_of_%5BSTUDENT_VERSION%5D_AWS_Part_II_Day_1_Lab_Notebook_v1.ipynb\" target=\"_parent\"><img src=\"https://colab.research.google.com/assets/colab-badge.svg\" alt=\"Open In Colab\"/></a>"
      ]
    },
    {
      "cell_type": "markdown",
      "source": [
        "# **Lab 1: Review of the Basics I**\n",
        "---\n",
        "### **Description**\n",
        "This lab provides a comprehensive overview of exploratory data analysis (EDA) techniques using Python's pandas library for data manipulation and analysis. Additionally, it explores data visualization using the matplotlib library. Throughout the notebook, you'll review how to load and manipulate datasets effectively with pandas commands and leverage matplotlib to create insightful visualizations that aid in uncovering patterns, trends, and insights within the data.\n",
        "\n",
        "\n",
        "\n",
        "### **Lab Structure**\n",
        "* **Part 1**: [Exploratory Data Analysis Review](#p1)\n",
        "\n",
        "  >  **Part 1.1**: [Basic Commands](#p1.1)\n",
        "\n",
        "  >  **Part 1.2**: [Further Exploration](#p1.2)\n",
        "\n",
        "* **Part 2**: [Data Visualization Review](#p2)\n",
        "\n",
        "  >  **Part 2.1**: [Scatter Plots](#p2.1)\n",
        "\n",
        "  >  **Part 2.2**: [Line Plots](#p2.2)\n",
        "\n",
        "  >  **Part 2.3**: [Bar Plots](#p2.3)\n",
        "\n",
        "* **Part 3**: [[OPTIONAL] Improving Visualizations](#p3)\n",
        "  >  **Part 3.1**: [Improving Scatter Plots](#p3.1)\n",
        "\n",
        "  >  **Part 3.2**: [Improving Line Plots](#p3.2)\n",
        "\n",
        "  >  **Part 3.3**: [Improving Bar Plots](#p3.3)\n",
        "\n",
        "  >  **Part 3.4**: [Enhancing Plot Aesthetics](#p3.4)\n",
        "\n",
        "* **Part 4**: [[ADDITIONAL PRACTICE] Improving Visualizations](#p4)\n",
        "\n",
        "* **Part 5**: [Modeling with sklearn](#p5)\n",
        "\n",
        "\n",
        "\n",
        "<br>\n",
        "\n",
        "### **Learning Objectives**\n",
        " By the end of this lab, we will:\n",
        "* Understand basic pandas commands for EDA.\n",
        "\n",
        "* Understand basic matplotlib commands for Data Visualization.\n",
        "\n",
        "* Understand how to implement and evaluate Linear Regression, K-Nearest Neighbors, and Logistic Regression with sklearn.\n",
        "\n",
        "\n",
        "<br>\n",
        "\n",
        "\n",
        "### **Resources**\n",
        "* [EDA with pandas](https://docs.google.com/document/d/19_Vzr_sxVOKxlvcDnCs15J-Hy6fidXDBtj16jSIhllA/edit?usp=sharing)\n",
        "* [Data Visualization with matplotlib](https://docs.google.com/document/d/1K9sb2lpcLVkQkdmF-JlCJx0k0mIiTsLk6ugsnv54mew/edit?usp=sharing)\n",
        "\n",
        "* [Linear Regression](https://docs.google.com/document/d/1Ul6ILmP-UZ9LT8iyUxM_x9uRJ_LKHDfwBPIWIQU-d3g/edit?usp=sharing)\n",
        "\n",
        "* [K-Nearest Neighbors](https://docs.google.com/document/d/1Z0Uk43jYmRPHgzIyg0s1YIU6hNIw43PFFtqbl8lbj64/edit?usp=sharing)\n",
        "\n",
        "* [Logistic Regression](https://docs.google.com/document/d/1dAlAlRI1YAKa2Od08TJ9Z7JUysxcUucZXvNMVMvLA4w/edit?usp=sharing)\n",
        "\n",
        "<br>\n",
        "\n",
        "**Before starting, run the code below to import all necessary functions and libraries.**\n"
      ],
      "metadata": {
        "id": "nvymFWiixQvT"
      }
    },
    {
      "cell_type": "code",
      "source": [
        "import warnings\n",
        "warnings.filterwarnings('ignore')\n",
        "\n",
        "import pandas as pd\n",
        "import matplotlib.pyplot as plt\n",
        "from sklearn import model_selection\n",
        "from sklearn import datasets\n",
        "from sklearn.metrics import r2_score\n",
        "from sklearn.metrics import mean_squared_error\n",
        "from sklearn.metrics import mean_absolute_error\n",
        "from sklearn.metrics import accuracy_score\n",
        "from sklearn.metrics import confusion_matrix\n",
        "from sklearn.metrics import ConfusionMatrixDisplay\n",
        "from sklearn.metrics import classification_report"
      ],
      "metadata": {
        "id": "9de72I1w8qKR"
      },
      "execution_count": null,
      "outputs": []
    },
    {
      "cell_type": "markdown",
      "source": [
        "<a name=\"p1\"></a>\n",
        "\n",
        "---\n",
        "## **Part 1: Exploratory Data Analysis Review**\n",
        "---\n",
        "\n",
        "\n"
      ],
      "metadata": {
        "id": "-l9pd5CCqVtD"
      }
    },
    {
      "cell_type": "markdown",
      "source": [
        "<a name=\"p1.1\"></a>\n",
        "\n",
        "---\n",
        "### **Part 1.1: Basic Commands**\n",
        "---\n",
        "\n",
        "\n",
        "**Run the code cell below to create the DataFrame.**"
      ],
      "metadata": {
        "id": "T9LU--mDehnn"
      }
    },
    {
      "cell_type": "code",
      "source": [
        "df = pd.DataFrame({'U.S. State': ['California', 'Florida', 'Indiana', 'Texas', 'Pennsylvania'],\n",
        "        'Population (in millions)': [38, 21, 6.5, 28, 13],\n",
        "        'Capitol': ['Sacramento', 'Tallahassee', 'Indianapolis', 'Austin', 'Harrisburg'],\n",
        "        'GDP ($ in billions)': [3700, 1070, 352, 1876, 726]})"
      ],
      "metadata": {
        "id": "iD9_DTVCzRbY"
      },
      "execution_count": null,
      "outputs": []
    },
    {
      "cell_type": "markdown",
      "source": [
        "#### **Problem #1.1.1**\n",
        "\n",
        "**Together**, let's inspect what `.head()` tells us about this DataFrame."
      ],
      "metadata": {
        "id": "hjbtt13XrE7G"
      }
    },
    {
      "cell_type": "code",
      "source": [],
      "metadata": {
        "id": "_d_m_CVn0t-z"
      },
      "execution_count": null,
      "outputs": []
    },
    {
      "cell_type": "markdown",
      "source": [
        "##### **Solution**"
      ],
      "metadata": {
        "id": "_2BcksNorJGt"
      }
    },
    {
      "cell_type": "code",
      "source": [],
      "metadata": {
        "id": "u7GLmCyorJZD"
      },
      "execution_count": null,
      "outputs": []
    },
    {
      "cell_type": "markdown",
      "source": [
        "#### **Problem #1.1.2**\n",
        "\n",
        "**Together**, let's determine what datatype `Population (in millions)` is."
      ],
      "metadata": {
        "id": "_xkLxO4drLIL"
      }
    },
    {
      "cell_type": "code",
      "source": [],
      "metadata": {
        "id": "sn1aSL4ceKOj"
      },
      "execution_count": null,
      "outputs": []
    },
    {
      "cell_type": "markdown",
      "source": [
        "##### **Solution**"
      ],
      "metadata": {
        "id": "HFtNVB9mrJs_"
      }
    },
    {
      "cell_type": "code",
      "source": [],
      "metadata": {
        "id": "Lh2YESCIrKQz"
      },
      "execution_count": null,
      "outputs": []
    },
    {
      "cell_type": "markdown",
      "source": [
        "#### **Problem #1.1.3**\n",
        "\n",
        "**Together**, let's print all of the unique values for `GDP ($ in billions)`."
      ],
      "metadata": {
        "id": "M2ZiYzdX06OR"
      }
    },
    {
      "cell_type": "code",
      "source": [],
      "metadata": {
        "id": "NTMZN8Tw07bU"
      },
      "execution_count": null,
      "outputs": []
    },
    {
      "cell_type": "markdown",
      "source": [
        "##### **Solution**"
      ],
      "metadata": {
        "id": "80UzYDTD1Ijd"
      }
    },
    {
      "cell_type": "code",
      "source": [],
      "metadata": {
        "id": "9j7NqDCn25Uj"
      },
      "execution_count": null,
      "outputs": []
    },
    {
      "cell_type": "markdown",
      "source": [
        "---\n",
        "\n",
        "#### **Now it's your turn! Try Problems #1.1.4 - 1.1.7 on your own.**\n",
        "\n",
        "---"
      ],
      "metadata": {
        "id": "IVNCVaO-9kJS"
      }
    },
    {
      "cell_type": "markdown",
      "source": [
        "#### **Problem #1.1.4**\n",
        "\n",
        "**Independently**, determine the column names in the dataset."
      ],
      "metadata": {
        "id": "Qf1t26ecTaFO"
      }
    },
    {
      "cell_type": "code",
      "source": [],
      "metadata": {
        "id": "8CKIqilfUDhr"
      },
      "execution_count": null,
      "outputs": []
    },
    {
      "cell_type": "markdown",
      "source": [
        "##### **Solution**"
      ],
      "metadata": {
        "id": "_sIqdMT1UF3c"
      }
    },
    {
      "cell_type": "code",
      "source": [],
      "metadata": {
        "id": "E0JyJbMAUGiV"
      },
      "execution_count": null,
      "outputs": []
    },
    {
      "cell_type": "markdown",
      "source": [
        "#### **Problem #1.1.5**\n",
        "\n",
        "**Independently**, determine the highest `GDP ($ in billions)` in the dataset."
      ],
      "metadata": {
        "id": "jrKxwNQFUls3"
      }
    },
    {
      "cell_type": "code",
      "source": [],
      "metadata": {
        "id": "RSmYyAeGWC4X"
      },
      "execution_count": null,
      "outputs": []
    },
    {
      "cell_type": "markdown",
      "source": [
        "##### **Solution**"
      ],
      "metadata": {
        "id": "6iq3mDgBWEHH"
      }
    },
    {
      "cell_type": "code",
      "source": [],
      "metadata": {
        "id": "zAeRtdk6WE7a"
      },
      "execution_count": null,
      "outputs": []
    },
    {
      "cell_type": "markdown",
      "source": [
        "#### **Problem #1.1.6**\n",
        "\n",
        "**Independently**, determine which states are included in this dataset."
      ],
      "metadata": {
        "id": "Z-o7V6JfVCR6"
      }
    },
    {
      "cell_type": "code",
      "source": [],
      "metadata": {
        "id": "_5G1-bSxWsAr"
      },
      "execution_count": null,
      "outputs": []
    },
    {
      "cell_type": "markdown",
      "source": [
        "##### **Solution**"
      ],
      "metadata": {
        "id": "gxrG951KWs88"
      }
    },
    {
      "cell_type": "code",
      "source": [],
      "metadata": {
        "id": "rSVFMB7AWtUC"
      },
      "execution_count": null,
      "outputs": []
    },
    {
      "cell_type": "markdown",
      "source": [
        "#### **Problem #1.1.7**\n",
        "\n",
        "**Independently**, determine the range of GDP values among the states?"
      ],
      "metadata": {
        "id": "Jb_Ob6OaVSQC"
      }
    },
    {
      "cell_type": "code",
      "source": [],
      "metadata": {
        "id": "MxnSgKfGW6YX"
      },
      "execution_count": null,
      "outputs": []
    },
    {
      "cell_type": "markdown",
      "source": [
        "##### **Solution**"
      ],
      "metadata": {
        "id": "U-4EX1ZiW7aL"
      }
    },
    {
      "cell_type": "code",
      "source": [],
      "metadata": {
        "id": "JkfghFIVW8UQ"
      },
      "execution_count": null,
      "outputs": []
    },
    {
      "cell_type": "markdown",
      "source": [
        "---\n",
        "\n",
        "<center>\n",
        "\n",
        "#### **Wait for Your Instructor to Continue**\n",
        "\n",
        "---"
      ],
      "metadata": {
        "id": "5uUNWTJ9f3rx"
      }
    },
    {
      "cell_type": "markdown",
      "source": [
        "<a name=\"p1.2\"></a>\n",
        "\n",
        "---\n",
        "### **Part 1.2: Further Exploration**\n",
        "---\n",
        "\n"
      ],
      "metadata": {
        "id": "xnbhz3EjgRGW"
      }
    },
    {
      "cell_type": "markdown",
      "source": [
        "#### **Problem #1.2.1**\n",
        "\n",
        "**Independently**, determine the average `Population (in millions)` size among the U.S. states in the dataset."
      ],
      "metadata": {
        "id": "JFzkrUYt04_4"
      }
    },
    {
      "cell_type": "code",
      "source": [],
      "metadata": {
        "id": "J3Qt_0oneJtN"
      },
      "execution_count": null,
      "outputs": []
    },
    {
      "cell_type": "markdown",
      "source": [
        "##### **Solution**"
      ],
      "metadata": {
        "id": "eGn9GtBA1HYN"
      }
    },
    {
      "cell_type": "code",
      "source": [],
      "metadata": {
        "id": "K2AhLxF_1xLC"
      },
      "execution_count": null,
      "outputs": []
    },
    {
      "cell_type": "markdown",
      "source": [
        "#### **Problem #1.2.2**\n",
        "\n",
        "**Independently,** explore rows 4 and 5. What are the U.S. States listed?"
      ],
      "metadata": {
        "id": "pCQRROJm054A"
      }
    },
    {
      "cell_type": "code",
      "source": [],
      "metadata": {
        "id": "mclhR7MJeMto"
      },
      "execution_count": null,
      "outputs": []
    },
    {
      "cell_type": "markdown",
      "source": [
        "##### **Solution**"
      ],
      "metadata": {
        "id": "icUzg8WQ1ICI"
      }
    },
    {
      "cell_type": "code",
      "source": [],
      "metadata": {
        "id": "nT4q0GJx2JPG"
      },
      "execution_count": null,
      "outputs": []
    },
    {
      "cell_type": "markdown",
      "source": [
        "#### **Problem #1.2.3**\n",
        "\n",
        "**Independently**, determine the total `Population (in millions)` across all states."
      ],
      "metadata": {
        "id": "UJwIu_cuUhFR"
      }
    },
    {
      "cell_type": "code",
      "source": [],
      "metadata": {
        "id": "8fhwGXkKV0sY"
      },
      "execution_count": null,
      "outputs": []
    },
    {
      "cell_type": "markdown",
      "source": [
        "##### **Solution**"
      ],
      "metadata": {
        "id": "eNpYQW1hV2Pe"
      }
    },
    {
      "cell_type": "code",
      "source": [],
      "metadata": {
        "id": "XKoK9Zi5V2pw"
      },
      "execution_count": null,
      "outputs": []
    },
    {
      "cell_type": "markdown",
      "source": [
        "#### **Problem #1.2.4**\n",
        "\n",
        "**Independently**, determine the average `Population (in millions)` of the states."
      ],
      "metadata": {
        "id": "1TSmsuIUUsWo"
      }
    },
    {
      "cell_type": "code",
      "source": [],
      "metadata": {
        "id": "WBDhjRUPWVvd"
      },
      "execution_count": null,
      "outputs": []
    },
    {
      "cell_type": "markdown",
      "source": [
        "##### **Solution**"
      ],
      "metadata": {
        "id": "UIHuCFsdWXgQ"
      }
    },
    {
      "cell_type": "code",
      "source": [],
      "metadata": {
        "id": "Eeg1tUi5WYH6"
      },
      "execution_count": null,
      "outputs": []
    },
    {
      "cell_type": "markdown",
      "source": [
        "#### **Problem #1.2.5**\n",
        "\n",
        "**Independently**, determine the `Population (in millions)` for the 3rd state in the dataset."
      ],
      "metadata": {
        "id": "Mt80XQ5MU9yY"
      }
    },
    {
      "cell_type": "code",
      "source": [],
      "metadata": {
        "id": "rSprvOkBWedi"
      },
      "execution_count": null,
      "outputs": []
    },
    {
      "cell_type": "markdown",
      "source": [
        "##### **Solution**"
      ],
      "metadata": {
        "id": "YzAWg5zZWgWG"
      }
    },
    {
      "cell_type": "code",
      "source": [],
      "metadata": {
        "id": "UeOdIhOMWgrm"
      },
      "execution_count": null,
      "outputs": []
    },
    {
      "cell_type": "markdown",
      "source": [
        "#### **Problem #1.2.6**\n",
        "\n",
        "**Independently**, determine how many states have a population greater than 20 million."
      ],
      "metadata": {
        "id": "Q0Fgq9OcVYeQ"
      }
    },
    {
      "cell_type": "code",
      "source": [
        "\n"
      ],
      "metadata": {
        "id": "V07n-gn_XEXc"
      },
      "execution_count": null,
      "outputs": []
    },
    {
      "cell_type": "markdown",
      "source": [
        "##### **Solution**"
      ],
      "metadata": {
        "id": "T7muTJinXKDq"
      }
    },
    {
      "cell_type": "code",
      "source": [],
      "metadata": {
        "id": "GZZN0GrIXKnP"
      },
      "execution_count": null,
      "outputs": []
    },
    {
      "cell_type": "markdown",
      "source": [
        "#### **Problem #1.2.7**\n",
        "\n",
        "**Independently**, explore the last row in the dataset."
      ],
      "metadata": {
        "id": "Drvifp0dVdVt"
      }
    },
    {
      "cell_type": "code",
      "source": [],
      "metadata": {
        "id": "iRgm79MOXUaK"
      },
      "execution_count": null,
      "outputs": []
    },
    {
      "cell_type": "markdown",
      "source": [
        "##### **Solution**"
      ],
      "metadata": {
        "id": "bEs82AF7XZn5"
      }
    },
    {
      "cell_type": "code",
      "source": [],
      "metadata": {
        "id": "hAtCCbV1XZ9A"
      },
      "execution_count": null,
      "outputs": []
    },
    {
      "cell_type": "markdown",
      "source": [
        "### **[Challenge Question] Problem #1.2.8**\n",
        "\n",
        "**Independently**, determine the average `GDP per capita` for the states.\n",
        "\n",
        "**HINT:** Divide `GDP per capita` by `Population (in millions)`."
      ],
      "metadata": {
        "id": "zl6J9CXNVqcP"
      }
    },
    {
      "cell_type": "code",
      "source": [],
      "metadata": {
        "id": "wTU7IGcnXyPZ"
      },
      "execution_count": null,
      "outputs": []
    },
    {
      "cell_type": "markdown",
      "source": [
        "##### **Solution**"
      ],
      "metadata": {
        "id": "BwlgajUfXzsD"
      }
    },
    {
      "cell_type": "code",
      "source": [],
      "metadata": {
        "id": "TlsZPCIIX0K8"
      },
      "execution_count": null,
      "outputs": []
    },
    {
      "cell_type": "markdown",
      "source": [
        "---\n",
        "\n",
        "<center>\n",
        "\n",
        "#### **Wait for Your Instructor to Continue**\n",
        "\n",
        "---"
      ],
      "metadata": {
        "id": "QSwN-lHWtIuw"
      }
    },
    {
      "cell_type": "markdown",
      "source": [
        "<a name=\"p2\"></a>\n",
        "\n",
        "---\n",
        "## **Part 2: Data Visualization Review**\n",
        "---\n",
        "\n",
        "**Run the cell below to load in the data**"
      ],
      "metadata": {
        "id": "XxQR7m6jcBOg"
      }
    },
    {
      "cell_type": "code",
      "source": [
        "url = \"https://docs.google.com/spreadsheets/d/e/2PACX-1vS9jPkeKJ8QUuAl-fFdg3nJPDP6vx1byvIBl4yW8UZZJ9QEscyALJp1eywKeAg7aAffwdKP63D9osF1/pub?gid=169291584&single=true&output=csv\"\n",
        "movie_df = pd.read_csv(url)\n",
        "\n",
        "movie_df.drop_duplicates(inplace=True)\n",
        "\n",
        "mean_runtime = movie_df['Runtime'].mean()\n",
        "movie_df['Runtime'] = movie_df['Runtime'].fillna(mean_runtime)\n",
        "\n",
        "movie_df = movie_df.rename(columns = {\"Runtime\": \"Runtime (min)\"})\n",
        "movie_df = movie_df.astype({\"Runtime (min)\": \"int64\"})\n",
        "\n",
        "movie_df.head()"
      ],
      "metadata": {
        "id": "3e2U3qBtVK-1",
        "colab": {
          "base_uri": "https://localhost:8080/",
          "height": 432
        },
        "outputId": "69e38a6f-47f1-453c-d2a2-f3bb58746032"
      },
      "execution_count": null,
      "outputs": [
        {
          "output_type": "execute_result",
          "data": {
            "text/plain": [
              "               Series_Title  Released_Year  Runtime (min)   Genre  \\\n",
              "0  The Shawshank Redemption           1994            142   Drama   \n",
              "1             The Godfather           1972            175   Crime   \n",
              "2           The Dark Knight           2008            152  Action   \n",
              "3    The Godfather: Part II           1974            202   Crime   \n",
              "4              12 Angry Men           1957             96   Crime   \n",
              "\n",
              "   IMDB_Rating                                           Overview  \\\n",
              "0          9.3  Two imprisoned men bond over a number of years...   \n",
              "1          9.2  An organized crime dynasty's aging patriarch t...   \n",
              "2          9.0  When the menace known as the Joker wreaks havo...   \n",
              "3          9.0  The early life and career of Vito Corleone in ...   \n",
              "4          9.0  A jury holdout attempts to prevent a miscarria...   \n",
              "\n",
              "               Director           Star1           Star2          Star3  \\\n",
              "0        Frank Darabont     Tim Robbins  Morgan Freeman     Bob Gunton   \n",
              "1  Francis Ford Coppola   Marlon Brando       Al Pacino     James Caan   \n",
              "2     Christopher Nolan  Christian Bale    Heath Ledger  Aaron Eckhart   \n",
              "3  Francis Ford Coppola       Al Pacino  Robert De Niro  Robert Duvall   \n",
              "4          Sidney Lumet     Henry Fonda     Lee J. Cobb  Martin Balsam   \n",
              "\n",
              "            Star4  No_of_Votes      Gross  \n",
              "0  William Sadler      2343110   28341469  \n",
              "1    Diane Keaton      1620367  134966411  \n",
              "2   Michael Caine      2303232  534858444  \n",
              "3    Diane Keaton      1129952   57300000  \n",
              "4    John Fiedler       689845    4360000  "
            ],
            "text/html": [
              "\n",
              "  <div id=\"df-d5a05f5d-3914-497b-8d8a-edbc6356ac76\" class=\"colab-df-container\">\n",
              "    <div>\n",
              "<style scoped>\n",
              "    .dataframe tbody tr th:only-of-type {\n",
              "        vertical-align: middle;\n",
              "    }\n",
              "\n",
              "    .dataframe tbody tr th {\n",
              "        vertical-align: top;\n",
              "    }\n",
              "\n",
              "    .dataframe thead th {\n",
              "        text-align: right;\n",
              "    }\n",
              "</style>\n",
              "<table border=\"1\" class=\"dataframe\">\n",
              "  <thead>\n",
              "    <tr style=\"text-align: right;\">\n",
              "      <th></th>\n",
              "      <th>Series_Title</th>\n",
              "      <th>Released_Year</th>\n",
              "      <th>Runtime (min)</th>\n",
              "      <th>Genre</th>\n",
              "      <th>IMDB_Rating</th>\n",
              "      <th>Overview</th>\n",
              "      <th>Director</th>\n",
              "      <th>Star1</th>\n",
              "      <th>Star2</th>\n",
              "      <th>Star3</th>\n",
              "      <th>Star4</th>\n",
              "      <th>No_of_Votes</th>\n",
              "      <th>Gross</th>\n",
              "    </tr>\n",
              "  </thead>\n",
              "  <tbody>\n",
              "    <tr>\n",
              "      <th>0</th>\n",
              "      <td>The Shawshank Redemption</td>\n",
              "      <td>1994</td>\n",
              "      <td>142</td>\n",
              "      <td>Drama</td>\n",
              "      <td>9.3</td>\n",
              "      <td>Two imprisoned men bond over a number of years...</td>\n",
              "      <td>Frank Darabont</td>\n",
              "      <td>Tim Robbins</td>\n",
              "      <td>Morgan Freeman</td>\n",
              "      <td>Bob Gunton</td>\n",
              "      <td>William Sadler</td>\n",
              "      <td>2343110</td>\n",
              "      <td>28341469</td>\n",
              "    </tr>\n",
              "    <tr>\n",
              "      <th>1</th>\n",
              "      <td>The Godfather</td>\n",
              "      <td>1972</td>\n",
              "      <td>175</td>\n",
              "      <td>Crime</td>\n",
              "      <td>9.2</td>\n",
              "      <td>An organized crime dynasty's aging patriarch t...</td>\n",
              "      <td>Francis Ford Coppola</td>\n",
              "      <td>Marlon Brando</td>\n",
              "      <td>Al Pacino</td>\n",
              "      <td>James Caan</td>\n",
              "      <td>Diane Keaton</td>\n",
              "      <td>1620367</td>\n",
              "      <td>134966411</td>\n",
              "    </tr>\n",
              "    <tr>\n",
              "      <th>2</th>\n",
              "      <td>The Dark Knight</td>\n",
              "      <td>2008</td>\n",
              "      <td>152</td>\n",
              "      <td>Action</td>\n",
              "      <td>9.0</td>\n",
              "      <td>When the menace known as the Joker wreaks havo...</td>\n",
              "      <td>Christopher Nolan</td>\n",
              "      <td>Christian Bale</td>\n",
              "      <td>Heath Ledger</td>\n",
              "      <td>Aaron Eckhart</td>\n",
              "      <td>Michael Caine</td>\n",
              "      <td>2303232</td>\n",
              "      <td>534858444</td>\n",
              "    </tr>\n",
              "    <tr>\n",
              "      <th>3</th>\n",
              "      <td>The Godfather: Part II</td>\n",
              "      <td>1974</td>\n",
              "      <td>202</td>\n",
              "      <td>Crime</td>\n",
              "      <td>9.0</td>\n",
              "      <td>The early life and career of Vito Corleone in ...</td>\n",
              "      <td>Francis Ford Coppola</td>\n",
              "      <td>Al Pacino</td>\n",
              "      <td>Robert De Niro</td>\n",
              "      <td>Robert Duvall</td>\n",
              "      <td>Diane Keaton</td>\n",
              "      <td>1129952</td>\n",
              "      <td>57300000</td>\n",
              "    </tr>\n",
              "    <tr>\n",
              "      <th>4</th>\n",
              "      <td>12 Angry Men</td>\n",
              "      <td>1957</td>\n",
              "      <td>96</td>\n",
              "      <td>Crime</td>\n",
              "      <td>9.0</td>\n",
              "      <td>A jury holdout attempts to prevent a miscarria...</td>\n",
              "      <td>Sidney Lumet</td>\n",
              "      <td>Henry Fonda</td>\n",
              "      <td>Lee J. Cobb</td>\n",
              "      <td>Martin Balsam</td>\n",
              "      <td>John Fiedler</td>\n",
              "      <td>689845</td>\n",
              "      <td>4360000</td>\n",
              "    </tr>\n",
              "  </tbody>\n",
              "</table>\n",
              "</div>\n",
              "    <div class=\"colab-df-buttons\">\n",
              "\n",
              "  <div class=\"colab-df-container\">\n",
              "    <button class=\"colab-df-convert\" onclick=\"convertToInteractive('df-d5a05f5d-3914-497b-8d8a-edbc6356ac76')\"\n",
              "            title=\"Convert this dataframe to an interactive table.\"\n",
              "            style=\"display:none;\">\n",
              "\n",
              "  <svg xmlns=\"http://www.w3.org/2000/svg\" height=\"24px\" viewBox=\"0 -960 960 960\">\n",
              "    <path d=\"M120-120v-720h720v720H120Zm60-500h600v-160H180v160Zm220 220h160v-160H400v160Zm0 220h160v-160H400v160ZM180-400h160v-160H180v160Zm440 0h160v-160H620v160ZM180-180h160v-160H180v160Zm440 0h160v-160H620v160Z\"/>\n",
              "  </svg>\n",
              "    </button>\n",
              "\n",
              "  <style>\n",
              "    .colab-df-container {\n",
              "      display:flex;\n",
              "      gap: 12px;\n",
              "    }\n",
              "\n",
              "    .colab-df-convert {\n",
              "      background-color: #E8F0FE;\n",
              "      border: none;\n",
              "      border-radius: 50%;\n",
              "      cursor: pointer;\n",
              "      display: none;\n",
              "      fill: #1967D2;\n",
              "      height: 32px;\n",
              "      padding: 0 0 0 0;\n",
              "      width: 32px;\n",
              "    }\n",
              "\n",
              "    .colab-df-convert:hover {\n",
              "      background-color: #E2EBFA;\n",
              "      box-shadow: 0px 1px 2px rgba(60, 64, 67, 0.3), 0px 1px 3px 1px rgba(60, 64, 67, 0.15);\n",
              "      fill: #174EA6;\n",
              "    }\n",
              "\n",
              "    .colab-df-buttons div {\n",
              "      margin-bottom: 4px;\n",
              "    }\n",
              "\n",
              "    [theme=dark] .colab-df-convert {\n",
              "      background-color: #3B4455;\n",
              "      fill: #D2E3FC;\n",
              "    }\n",
              "\n",
              "    [theme=dark] .colab-df-convert:hover {\n",
              "      background-color: #434B5C;\n",
              "      box-shadow: 0px 1px 3px 1px rgba(0, 0, 0, 0.15);\n",
              "      filter: drop-shadow(0px 1px 2px rgba(0, 0, 0, 0.3));\n",
              "      fill: #FFFFFF;\n",
              "    }\n",
              "  </style>\n",
              "\n",
              "    <script>\n",
              "      const buttonEl =\n",
              "        document.querySelector('#df-d5a05f5d-3914-497b-8d8a-edbc6356ac76 button.colab-df-convert');\n",
              "      buttonEl.style.display =\n",
              "        google.colab.kernel.accessAllowed ? 'block' : 'none';\n",
              "\n",
              "      async function convertToInteractive(key) {\n",
              "        const element = document.querySelector('#df-d5a05f5d-3914-497b-8d8a-edbc6356ac76');\n",
              "        const dataTable =\n",
              "          await google.colab.kernel.invokeFunction('convertToInteractive',\n",
              "                                                    [key], {});\n",
              "        if (!dataTable) return;\n",
              "\n",
              "        const docLinkHtml = 'Like what you see? Visit the ' +\n",
              "          '<a target=\"_blank\" href=https://colab.research.google.com/notebooks/data_table.ipynb>data table notebook</a>'\n",
              "          + ' to learn more about interactive tables.';\n",
              "        element.innerHTML = '';\n",
              "        dataTable['output_type'] = 'display_data';\n",
              "        await google.colab.output.renderOutput(dataTable, element);\n",
              "        const docLink = document.createElement('div');\n",
              "        docLink.innerHTML = docLinkHtml;\n",
              "        element.appendChild(docLink);\n",
              "      }\n",
              "    </script>\n",
              "  </div>\n",
              "\n",
              "\n",
              "<div id=\"df-3610d0cf-cb49-43fd-a9d2-38c066a2848e\">\n",
              "  <button class=\"colab-df-quickchart\" onclick=\"quickchart('df-3610d0cf-cb49-43fd-a9d2-38c066a2848e')\"\n",
              "            title=\"Suggest charts.\"\n",
              "            style=\"display:none;\">\n",
              "\n",
              "<svg xmlns=\"http://www.w3.org/2000/svg\" height=\"24px\"viewBox=\"0 0 24 24\"\n",
              "     width=\"24px\">\n",
              "    <g>\n",
              "        <path d=\"M19 3H5c-1.1 0-2 .9-2 2v14c0 1.1.9 2 2 2h14c1.1 0 2-.9 2-2V5c0-1.1-.9-2-2-2zM9 17H7v-7h2v7zm4 0h-2V7h2v10zm4 0h-2v-4h2v4z\"/>\n",
              "    </g>\n",
              "</svg>\n",
              "  </button>\n",
              "\n",
              "<style>\n",
              "  .colab-df-quickchart {\n",
              "      --bg-color: #E8F0FE;\n",
              "      --fill-color: #1967D2;\n",
              "      --hover-bg-color: #E2EBFA;\n",
              "      --hover-fill-color: #174EA6;\n",
              "      --disabled-fill-color: #AAA;\n",
              "      --disabled-bg-color: #DDD;\n",
              "  }\n",
              "\n",
              "  [theme=dark] .colab-df-quickchart {\n",
              "      --bg-color: #3B4455;\n",
              "      --fill-color: #D2E3FC;\n",
              "      --hover-bg-color: #434B5C;\n",
              "      --hover-fill-color: #FFFFFF;\n",
              "      --disabled-bg-color: #3B4455;\n",
              "      --disabled-fill-color: #666;\n",
              "  }\n",
              "\n",
              "  .colab-df-quickchart {\n",
              "    background-color: var(--bg-color);\n",
              "    border: none;\n",
              "    border-radius: 50%;\n",
              "    cursor: pointer;\n",
              "    display: none;\n",
              "    fill: var(--fill-color);\n",
              "    height: 32px;\n",
              "    padding: 0;\n",
              "    width: 32px;\n",
              "  }\n",
              "\n",
              "  .colab-df-quickchart:hover {\n",
              "    background-color: var(--hover-bg-color);\n",
              "    box-shadow: 0 1px 2px rgba(60, 64, 67, 0.3), 0 1px 3px 1px rgba(60, 64, 67, 0.15);\n",
              "    fill: var(--button-hover-fill-color);\n",
              "  }\n",
              "\n",
              "  .colab-df-quickchart-complete:disabled,\n",
              "  .colab-df-quickchart-complete:disabled:hover {\n",
              "    background-color: var(--disabled-bg-color);\n",
              "    fill: var(--disabled-fill-color);\n",
              "    box-shadow: none;\n",
              "  }\n",
              "\n",
              "  .colab-df-spinner {\n",
              "    border: 2px solid var(--fill-color);\n",
              "    border-color: transparent;\n",
              "    border-bottom-color: var(--fill-color);\n",
              "    animation:\n",
              "      spin 1s steps(1) infinite;\n",
              "  }\n",
              "\n",
              "  @keyframes spin {\n",
              "    0% {\n",
              "      border-color: transparent;\n",
              "      border-bottom-color: var(--fill-color);\n",
              "      border-left-color: var(--fill-color);\n",
              "    }\n",
              "    20% {\n",
              "      border-color: transparent;\n",
              "      border-left-color: var(--fill-color);\n",
              "      border-top-color: var(--fill-color);\n",
              "    }\n",
              "    30% {\n",
              "      border-color: transparent;\n",
              "      border-left-color: var(--fill-color);\n",
              "      border-top-color: var(--fill-color);\n",
              "      border-right-color: var(--fill-color);\n",
              "    }\n",
              "    40% {\n",
              "      border-color: transparent;\n",
              "      border-right-color: var(--fill-color);\n",
              "      border-top-color: var(--fill-color);\n",
              "    }\n",
              "    60% {\n",
              "      border-color: transparent;\n",
              "      border-right-color: var(--fill-color);\n",
              "    }\n",
              "    80% {\n",
              "      border-color: transparent;\n",
              "      border-right-color: var(--fill-color);\n",
              "      border-bottom-color: var(--fill-color);\n",
              "    }\n",
              "    90% {\n",
              "      border-color: transparent;\n",
              "      border-bottom-color: var(--fill-color);\n",
              "    }\n",
              "  }\n",
              "</style>\n",
              "\n",
              "  <script>\n",
              "    async function quickchart(key) {\n",
              "      const quickchartButtonEl =\n",
              "        document.querySelector('#' + key + ' button');\n",
              "      quickchartButtonEl.disabled = true;  // To prevent multiple clicks.\n",
              "      quickchartButtonEl.classList.add('colab-df-spinner');\n",
              "      try {\n",
              "        const charts = await google.colab.kernel.invokeFunction(\n",
              "            'suggestCharts', [key], {});\n",
              "      } catch (error) {\n",
              "        console.error('Error during call to suggestCharts:', error);\n",
              "      }\n",
              "      quickchartButtonEl.classList.remove('colab-df-spinner');\n",
              "      quickchartButtonEl.classList.add('colab-df-quickchart-complete');\n",
              "    }\n",
              "    (() => {\n",
              "      let quickchartButtonEl =\n",
              "        document.querySelector('#df-3610d0cf-cb49-43fd-a9d2-38c066a2848e button');\n",
              "      quickchartButtonEl.style.display =\n",
              "        google.colab.kernel.accessAllowed ? 'block' : 'none';\n",
              "    })();\n",
              "  </script>\n",
              "</div>\n",
              "    </div>\n",
              "  </div>\n"
            ]
          },
          "metadata": {},
          "execution_count": 3
        }
      ]
    },
    {
      "cell_type": "markdown",
      "source": [
        "<a name=\"p2.1\"></a>\n",
        "\n",
        "---\n",
        "### **Part 2.1: Scatter Plots**\n",
        "---"
      ],
      "metadata": {
        "id": "XI7Kwp4SMYb1"
      }
    },
    {
      "cell_type": "markdown",
      "source": [
        "#### **Problem #2.1.1**\n",
        "\n",
        "**Together**, let's create a scatterplot using `Runtime (min)` as the x-axis value and `Gross` as the y-axis value.\n",
        "\n",
        "Make sure to include a meaningful:\n",
        "* `Title`: \"Gross Money vs. Runtime:\n",
        "* `X-axis`: \"Gross (USD)\"\n",
        "* `Y-axis`: \"Runtime (min)\""
      ],
      "metadata": {
        "id": "TmujqDuMDmua"
      }
    },
    {
      "cell_type": "code",
      "source": [],
      "metadata": {
        "id": "4z1ytVFrDmub"
      },
      "execution_count": null,
      "outputs": []
    },
    {
      "cell_type": "markdown",
      "source": [
        "##### **Solution**"
      ],
      "metadata": {
        "id": "kh8jakeJDmuc"
      }
    },
    {
      "cell_type": "code",
      "source": [],
      "metadata": {
        "id": "WW3yEyKCDmuc"
      },
      "execution_count": null,
      "outputs": []
    },
    {
      "cell_type": "markdown",
      "source": [
        "---\n",
        "\n",
        "#### **Now it's your turn! Try Problem #2.1.2 on your own.**\n",
        "\n",
        "---"
      ],
      "metadata": {
        "id": "Kk166BM-MKBu"
      }
    },
    {
      "cell_type": "markdown",
      "source": [
        "#### **Problem #2.1.2**\n",
        "\n",
        "**Independently**, create a scatterplot using `Released_Year` as the x-axis value and `Runtime (min)` as the y-axis value.\n",
        "\n",
        "Make sure to include a meaningful:\n",
        "* `Title`: \"Runtime vs. Released_Year\"\n",
        "* `X-axis`: \"Year\"\n",
        "* `Y-axis`: \"Runtime (min)\""
      ],
      "metadata": {
        "id": "8kCYTBSCFaM9"
      }
    },
    {
      "cell_type": "code",
      "source": [],
      "metadata": {
        "id": "wAuYh9xqFaM-"
      },
      "execution_count": null,
      "outputs": []
    },
    {
      "cell_type": "markdown",
      "source": [
        "##### **Solution**"
      ],
      "metadata": {
        "id": "pP4tVkGaFaM-"
      }
    },
    {
      "cell_type": "code",
      "source": [],
      "metadata": {
        "id": "xSgj0Cp9FaM-"
      },
      "execution_count": null,
      "outputs": []
    },
    {
      "cell_type": "markdown",
      "source": [
        "---\n",
        "\n",
        "<center>\n",
        "\n",
        "#### **Wait for Your Instructor to Continue**\n",
        "\n",
        "---"
      ],
      "metadata": {
        "id": "7nmfI9CkMTlu"
      }
    },
    {
      "cell_type": "markdown",
      "source": [
        "<a name=\"p2.2\"></a>\n",
        "\n",
        "---\n",
        "### **Part 2.2: Line Plots**\n",
        "---"
      ],
      "metadata": {
        "id": "zbPcGjrAMomw"
      }
    },
    {
      "cell_type": "markdown",
      "source": [
        "#### **Problem #2.2.1**\n",
        "\n",
        "**Together**, let's create a line plot using `Runtime (min)` as the x-axis value and `Gross` as the y-axis value.\n",
        "\n",
        "Make sure to include a meaningful:\n",
        "* Title, ex: `'Gross Money vs. Runtime'`.\n",
        "* X-axis label including units `'min'`.\n",
        "* Y-axis label including units `'USD'`.\n",
        "\n",
        "<br>\n",
        "\n",
        "**NOTE**: This is not going to be a particularly helpful graph (the scatter plot is a better choice), but we oftentimes will not know this ahead of time. A lot of EDA and visualizations involves trying a number of things and seeing what is useful."
      ],
      "metadata": {
        "id": "A7ZZMz9CJQKU"
      }
    },
    {
      "cell_type": "code",
      "source": [],
      "metadata": {
        "id": "V9Nwq-BhJQKU"
      },
      "execution_count": null,
      "outputs": []
    },
    {
      "cell_type": "markdown",
      "source": [
        "##### **Solution**"
      ],
      "metadata": {
        "id": "pUB5YfGMJQKV"
      }
    },
    {
      "cell_type": "code",
      "source": [],
      "metadata": {
        "id": "n0f53-3yJQKV"
      },
      "execution_count": null,
      "outputs": []
    },
    {
      "cell_type": "markdown",
      "source": [
        "---\n",
        "\n",
        "#### **Now it's your turn! Try Problem #2.2.2 on your own.**\n",
        "\n",
        "---"
      ],
      "metadata": {
        "id": "v2rd1WnPNA3W"
      }
    },
    {
      "cell_type": "markdown",
      "source": [
        "#### **Problem #2.2.2**\n",
        "\n",
        "**Independently**, create a line plot using `Released_Year` as the x-axis value and `Average Gross in Year` as the y-axis value.\n",
        "\n",
        "Make sure to include a meaningful:\n",
        "* Title, ex: `'Average Gross Money vs. Released Year'`.\n",
        "* X-axis label.\n",
        "* Y-axis label including units `'USD'`."
      ],
      "metadata": {
        "id": "h9Xvd-tBJkja"
      }
    },
    {
      "cell_type": "code",
      "source": [
        "mean_gross = movie_df.groupby(# COMPLETE THIS LINE\n"
      ],
      "metadata": {
        "id": "Tugg473VJkjb",
        "colab": {
          "base_uri": "https://localhost:8080/",
          "height": 140
        },
        "outputId": "4c422989-4fec-48dc-ed29-645f10ed846f"
      },
      "execution_count": null,
      "outputs": [
        {
          "output_type": "error",
          "ename": "SyntaxError",
          "evalue": "ignored",
          "traceback": [
            "\u001b[0;36m  File \u001b[0;32m\"<ipython-input-4-af186fccb053>\"\u001b[0;36m, line \u001b[0;32m1\u001b[0m\n\u001b[0;31m    mean_gross = movie_df.groupby(# COMPLETE THIS LINE\u001b[0m\n\u001b[0m                                                      ^\u001b[0m\n\u001b[0;31mSyntaxError\u001b[0m\u001b[0;31m:\u001b[0m incomplete input\n"
          ]
        }
      ]
    },
    {
      "cell_type": "markdown",
      "source": [
        "##### **Solution**"
      ],
      "metadata": {
        "id": "BG0Vf_8aJkjb"
      }
    },
    {
      "cell_type": "code",
      "source": [],
      "metadata": {
        "id": "4uunTNSeJkjb"
      },
      "execution_count": null,
      "outputs": []
    },
    {
      "cell_type": "markdown",
      "source": [
        "---\n",
        "\n",
        "<center>\n",
        "\n",
        "#### **Wait for Your Instructor to Continue**\n",
        "\n",
        "---"
      ],
      "metadata": {
        "id": "431q3q7tNDH3"
      }
    },
    {
      "cell_type": "markdown",
      "source": [
        "<a name=\"p2.3\"></a>\n",
        "\n",
        "---\n",
        "### **Part 2.3: Bar Plots**\n",
        "---"
      ],
      "metadata": {
        "id": "q1YVzYILNZZ8"
      }
    },
    {
      "cell_type": "markdown",
      "source": [
        "#### **Problem #2.3.1**\n",
        "\n",
        "**Together**, let's create a bar plot of the number of movies released per year.\n",
        "\n",
        "Use the DataFrame provided, `movies_per_year` and make sure to include a meaningful:\n",
        "* Title.\n",
        "* X-axis label.\n",
        "* Y-axis label."
      ],
      "metadata": {
        "id": "ZBbQ_A7SHG84"
      }
    },
    {
      "cell_type": "code",
      "source": [
        "movies_per_year = movie_df['Released_Year'].value_counts()\n",
        "\n",
        "plt.bar(movies_per_year.index, # COMPLETE THIS CODE"
      ],
      "metadata": {
        "id": "1mgDNmnWHG85"
      },
      "execution_count": null,
      "outputs": []
    },
    {
      "cell_type": "markdown",
      "source": [
        "##### **Solution**"
      ],
      "metadata": {
        "id": "dmWvStJNHG85"
      }
    },
    {
      "cell_type": "code",
      "source": [],
      "metadata": {
        "id": "-vDPF8BEHG85"
      },
      "execution_count": null,
      "outputs": []
    },
    {
      "cell_type": "markdown",
      "source": [
        "---\n",
        "\n",
        "#### **Now it's your turn! Try Problem #2.3.2 on your own.**\n",
        "\n",
        "---"
      ],
      "metadata": {
        "id": "K0jmtGiuNRen"
      }
    },
    {
      "cell_type": "markdown",
      "source": [
        "#### **Problem #2.3.2**\n",
        "\n",
        "**Independently**, create a bar plot of the number of Dramas released per year.\n",
        "\n",
        "Use the DataFrame provided, `movies_per_year` and make sure to include a meaningful:\n",
        "* Title.\n",
        "* X-axis label.\n",
        "* Y-axis label.\n",
        "\n",
        "<br>\n",
        "\n",
        "**Hint**: Recall that you can use `.loc[CRITERIA, :]` to find all data matching given criteria and the example in Problem #6 for finding the number of movies realeased per year."
      ],
      "metadata": {
        "id": "hA9Yjy0UGHtS"
      }
    },
    {
      "cell_type": "code",
      "source": [
        "# COMPLETE THIS CODE"
      ],
      "metadata": {
        "id": "OTLvzDLNGHtT"
      },
      "execution_count": null,
      "outputs": []
    },
    {
      "cell_type": "markdown",
      "source": [
        "##### **Solution**"
      ],
      "metadata": {
        "id": "gDpMy3F0GHtT"
      }
    },
    {
      "cell_type": "code",
      "source": [],
      "metadata": {
        "id": "GTXid5xpGHtT"
      },
      "execution_count": null,
      "outputs": []
    },
    {
      "cell_type": "markdown",
      "source": [
        "---\n",
        "\n",
        "<center>\n",
        "\n",
        "#### **Wait for Your Instructor to Continue**\n",
        "\n",
        "---"
      ],
      "metadata": {
        "id": "O8DBse4cNO55"
      }
    },
    {
      "cell_type": "markdown",
      "source": [
        "<a name=\"p3\"></a>\n",
        "\n",
        "---\n",
        "## **Part 3: [OPTIONAL] Improving Visualizations**\n",
        "---\n",
        "\n",
        "In this section, we will explore several ways to improve upon the visuals we learned to make above."
      ],
      "metadata": {
        "id": "p5_an2bSV9UK"
      }
    },
    {
      "cell_type": "markdown",
      "source": [
        "<a name=\"p3.1\"></a>\n",
        "\n",
        "---\n",
        "### **Part 3.1: Improving Scatter Plots**\n",
        "---"
      ],
      "metadata": {
        "id": "8yXy7TnmVlsM"
      }
    },
    {
      "cell_type": "markdown",
      "source": [
        "#### **Problem #3.1.1**\n",
        "\n",
        "We are given average temperature values for the months of the year for two cities: `city_A` and `city_B`.\n",
        "\n",
        "**Independently**, plot each city's average temperatures. We'll need to make two scatter plots.\n",
        "\n",
        "Make `city_A` markers blue and `city_B` markers red. Add labels and a legend.\n",
        "\n",
        "From the graph, which city is most likely located in the Northeast?"
      ],
      "metadata": {
        "id": "dUqOMFqIqMGq"
      }
    },
    {
      "cell_type": "code",
      "source": [
        "city_A_temps = [60,65,67, 70, 77, 84, 94, 101, 90, 82, 62]\n",
        "city_B_temps = [-11, 14, 25, 32, 55, 73, 87, 92, 82, 66, 53]\n",
        "months = np.arange(1,12)\n",
        "\n",
        "# COMPLETE THE REST OF THE CODE"
      ],
      "metadata": {
        "id": "ZBZcgZ2trRtM"
      },
      "execution_count": null,
      "outputs": []
    },
    {
      "cell_type": "markdown",
      "source": [
        "##### **Solution**"
      ],
      "metadata": {
        "id": "TIiI6cDBsUvx"
      }
    },
    {
      "cell_type": "code",
      "source": [],
      "metadata": {
        "id": "BsLw4wdBsXPY"
      },
      "execution_count": null,
      "outputs": []
    },
    {
      "cell_type": "markdown",
      "source": [
        "#### **Problem #3.1.2**\n",
        "\n",
        "**Independently**, adjust the plot so that `city_A` markers are black and `city_B` markers are green."
      ],
      "metadata": {
        "id": "XJTJjzIdhMuF"
      }
    },
    {
      "cell_type": "code",
      "source": [
        "city_A_temps = [60,65,67, 70, 77, 84, 94, 101, 90, 82, 62]\n",
        "city_B_temps = [-11, 14, 25, 32, 55, 73, 87, 92, 82, 66, 53]\n",
        "months = np.arange(1,12)\n",
        "\n",
        "# COMPLETE THE REST OF THE CODE"
      ],
      "metadata": {
        "id": "FGyhRMmBhMuG"
      },
      "execution_count": null,
      "outputs": []
    },
    {
      "cell_type": "markdown",
      "source": [
        "##### **Solution**"
      ],
      "metadata": {
        "id": "xdptkNZ1hMuG"
      }
    },
    {
      "cell_type": "code",
      "source": [],
      "metadata": {
        "id": "mfKm4_vfhMuH"
      },
      "execution_count": null,
      "outputs": []
    },
    {
      "cell_type": "markdown",
      "source": [
        "---\n",
        "\n",
        "<center>\n",
        "\n",
        "#### **Wait for Your Instructor to Continue**\n",
        "\n",
        "---"
      ],
      "metadata": {
        "id": "fAA0_KPutL1u"
      }
    },
    {
      "cell_type": "markdown",
      "source": [
        "<a name=\"p3.2\"></a>\n",
        "\n",
        "---\n",
        "### **Part 3.2: Improving Line Plots**\n",
        "---"
      ],
      "metadata": {
        "id": "ekZX9XHgvpBh"
      }
    },
    {
      "cell_type": "markdown",
      "source": [
        "#### **Problem #3.2.1**\n",
        "\n",
        "**Independently**, create a line plot with the following features:\n",
        "\n",
        "\n",
        "* A dashed line\n",
        "* A grid\n",
        "\n",
        "\n"
      ],
      "metadata": {
        "id": "tCDKL5LXIDtm"
      }
    },
    {
      "cell_type": "code",
      "source": [
        "Year = [1920,1930,1940,1950,1960,1970,1980,1990,2000,2010]\n",
        "Unemployment_Rate = [9.8,12,8,7.2,6.9,7,6.5,6.2,5.5,6.3]\n",
        "\n",
        "# COMPLETE THE REST OF THE CODE"
      ],
      "metadata": {
        "id": "u04mZF2WYrb1"
      },
      "execution_count": null,
      "outputs": []
    },
    {
      "cell_type": "markdown",
      "source": [
        "#####**Solution**"
      ],
      "metadata": {
        "id": "hiT9yN3nYr3b"
      }
    },
    {
      "cell_type": "code",
      "source": [],
      "metadata": {
        "id": "nmDA39JKYwFz"
      },
      "execution_count": null,
      "outputs": []
    },
    {
      "cell_type": "markdown",
      "source": [
        "#### **Problem #3.2.2**\n",
        "\n",
        "**Independently**, using the following data, create a line plot. In addition:\n",
        "* Make that line dashed and dotted with `\"-.\"`\n",
        "* Add a grid to the background"
      ],
      "metadata": {
        "id": "Jf5F6kZOZFoI"
      }
    },
    {
      "cell_type": "code",
      "source": [
        "# x axis values\n",
        "x = [1,2,3]\n",
        "# corresponding y axis values\n",
        "y = [2,4,1]\n",
        "\n",
        "# COMPLETE THE REST OF THE CODE"
      ],
      "metadata": {
        "id": "jWVJ7xzZZfk1"
      },
      "execution_count": null,
      "outputs": []
    },
    {
      "cell_type": "markdown",
      "source": [
        "#####**Solution**"
      ],
      "metadata": {
        "id": "_orzK4o6ZfuM"
      }
    },
    {
      "cell_type": "code",
      "source": [],
      "metadata": {
        "id": "TDVHmQmlZh3_"
      },
      "execution_count": null,
      "outputs": []
    },
    {
      "cell_type": "markdown",
      "source": [
        "---\n",
        "\n",
        "<center>\n",
        "\n",
        "#### **Wait for Your Instructor to Continue**\n",
        "\n",
        "---"
      ],
      "metadata": {
        "id": "eQPilPXst0CC"
      }
    },
    {
      "cell_type": "markdown",
      "source": [
        "<a name=\"p3.3\"></a>\n",
        "\n",
        "---\n",
        "### **Part 3.3: Improving Bar Plots**\n",
        "---"
      ],
      "metadata": {
        "id": "n0zfv749v-qj"
      }
    },
    {
      "cell_type": "markdown",
      "source": [
        "#### **Problem #3.3.1**\n",
        "\n",
        "**Independently**, make a bar plot with each bar as a different color."
      ],
      "metadata": {
        "id": "MsZMPksXamGz"
      }
    },
    {
      "cell_type": "code",
      "source": [
        "langs = ['English', 'French', 'Spanish', 'Chinese', 'Arabic']\n",
        "students = [23,17,35,29,12]\n",
        "\n",
        "# COMPLETE THE REST OF THE CODE"
      ],
      "metadata": {
        "id": "tun4npXIUqH9"
      },
      "execution_count": null,
      "outputs": []
    },
    {
      "cell_type": "markdown",
      "source": [
        "##### **Solution**"
      ],
      "metadata": {
        "id": "rytnFzJXUqky"
      }
    },
    {
      "cell_type": "code",
      "source": [],
      "metadata": {
        "id": "EmKrpoIBamf0"
      },
      "execution_count": null,
      "outputs": []
    },
    {
      "cell_type": "markdown",
      "source": [
        "#### **Problem #3.3.2**\n",
        "\n",
        "**Independently**, use the following data to create a simple bar plot. Make all of the bars blue except bar `E`; make bar `E` red."
      ],
      "metadata": {
        "id": "UBfUrUZBa0jQ"
      }
    },
    {
      "cell_type": "code",
      "source": [
        "height = [3, 12, 5, 18, 45]       # y\n",
        "bars = ['A', 'B', 'C', 'D', 'E']  # x\n",
        "\n",
        "# COMPLETE THE REST OF THE CODE"
      ],
      "metadata": {
        "id": "0WAX4X4wbGnS"
      },
      "execution_count": null,
      "outputs": []
    },
    {
      "cell_type": "markdown",
      "source": [
        "#####**Solution**"
      ],
      "metadata": {
        "id": "oLNMFKJybGw6"
      }
    },
    {
      "cell_type": "code",
      "source": [],
      "metadata": {
        "id": "4TOocQLDbJuN"
      },
      "execution_count": null,
      "outputs": []
    },
    {
      "cell_type": "markdown",
      "source": [
        "---\n",
        "\n",
        "<center>\n",
        "\n",
        "#### **Wait for Your Instructor to Continue**\n",
        "\n",
        "---"
      ],
      "metadata": {
        "id": "H2YkMkpwuogS"
      }
    },
    {
      "cell_type": "markdown",
      "source": [
        "<a name=\"p3.4\"></a>\n",
        "\n",
        "---\n",
        "### **Part 3.4: Enhancing Plot Aesthetics**\n",
        "---"
      ],
      "metadata": {
        "id": "XgDJRJ2zuwQa"
      }
    },
    {
      "cell_type": "markdown",
      "source": [
        "#### **Run the cell below to import the data for the following problems.**\n",
        "\n",
        "This dataset contains information on U.S. agricultural exports in 2011."
      ],
      "metadata": {
        "id": "v52xBX4hPYcF"
      }
    },
    {
      "cell_type": "code",
      "source": [
        "url = 'https://raw.githubusercontent.com/plotly/datasets/master/2011_us_ag_exports.csv'\n",
        "export_df = pd.read_csv(url)\n",
        "export_df.head()"
      ],
      "metadata": {
        "id": "7ltA47zfPiTN"
      },
      "execution_count": null,
      "outputs": []
    },
    {
      "cell_type": "markdown",
      "source": [
        "#### **Problem #3.4.1**\n",
        "\n",
        "**Together**, let's compare beef export of different states using a bar plot. Adjust the size of the plot so that the graph and its labels are legible.\n",
        "\n",
        "\n",
        "\n",
        "**NOTE**: To use a DataFrame for a graph, here is the syntax:\n",
        "```\n",
        "plt.bar(DF_NAME['x_variable'],export_df['y_variable'])\n",
        "```"
      ],
      "metadata": {
        "id": "nN0tkLl8PoT4"
      }
    },
    {
      "cell_type": "code",
      "source": [],
      "metadata": {
        "id": "0JArGmUYP2jQ"
      },
      "execution_count": null,
      "outputs": []
    },
    {
      "cell_type": "markdown",
      "source": [
        "##### **Solution**"
      ],
      "metadata": {
        "id": "ao1fgH8SP1A0"
      }
    },
    {
      "cell_type": "code",
      "source": [],
      "metadata": {
        "id": "4T_YFt7WP1tn"
      },
      "execution_count": null,
      "outputs": []
    },
    {
      "cell_type": "markdown",
      "source": [
        "---\n",
        "\n",
        "#### **Now it's your turn! Try Problem #3.4.2 on your own.**\n",
        "\n",
        "---"
      ],
      "metadata": {
        "id": "muZVIuDQvHkB"
      }
    },
    {
      "cell_type": "markdown",
      "source": [
        "#### **Problem #3.4.2**\n",
        "\n",
        "**Independently**, compare the export of corn from different states using a bar plot. Make sure you adjust the size of the plot."
      ],
      "metadata": {
        "id": "_TtWLwGvQS7U"
      }
    },
    {
      "cell_type": "code",
      "source": [],
      "metadata": {
        "id": "aRIt-71SQTvy"
      },
      "execution_count": null,
      "outputs": []
    },
    {
      "cell_type": "markdown",
      "source": [
        "##### **Solution**"
      ],
      "metadata": {
        "id": "sAUpg9RiQLUw"
      }
    },
    {
      "cell_type": "code",
      "source": [],
      "metadata": {
        "id": "oEERQHoeQLuQ"
      },
      "execution_count": null,
      "outputs": []
    },
    {
      "cell_type": "markdown",
      "source": [
        "---\n",
        "\n",
        "<center>\n",
        "\n",
        "#### **Wait for Your Instructor to Continue**\n",
        "\n",
        "---"
      ],
      "metadata": {
        "id": "x0uDq88CvDoX"
      }
    },
    {
      "cell_type": "markdown",
      "source": [
        "<a name=\"p4\"></a>\n",
        "\n",
        "---\n",
        "## **[ADDITIONAL PRACTICE] Part 4: Improving Visualizations**\n",
        "---"
      ],
      "metadata": {
        "id": "NDtjzSxflNul"
      }
    },
    {
      "cell_type": "markdown",
      "source": [
        "#### **Problem #4.1**\n",
        "\n",
        "Using the following data, create a line plot.\n",
        "\n",
        "**Hint:** Your graph should have three distinct lines corresponding to `y1`, `y2`, and `y3`.\n",
        "\n",
        "In addition:\n",
        "* Make sure each line is a different color\n",
        "* Make `y1` a dashed line\n",
        "* Add a grid to the background and make the background color black\n",
        "* Add a legend"
      ],
      "metadata": {
        "id": "N2s15JrL54G8"
      }
    },
    {
      "cell_type": "code",
      "source": [
        "# x axis values\n",
        "x = [1,2,3,4,5]\n",
        "# corresponding y axis values\n",
        "y1 = [2,4,6,8,10] # y = 2x\n",
        "y2 = [0.5,1,1.5,2,2.5] # y = 0.5x\n",
        "y3 = [1,4,9,16,25] # y = x^2\n",
        "\n",
        "# COMPLETE THE REST OF THE CODE"
      ],
      "metadata": {
        "id": "n_wxFXOn54HF"
      },
      "execution_count": null,
      "outputs": []
    },
    {
      "cell_type": "markdown",
      "source": [
        "##### **Solution**"
      ],
      "metadata": {
        "id": "ty6Z-gaU54HG"
      }
    },
    {
      "cell_type": "code",
      "source": [],
      "metadata": {
        "id": "GfVhVVa754HG"
      },
      "execution_count": null,
      "outputs": []
    },
    {
      "cell_type": "markdown",
      "source": [
        "#### **Problem #4.2**\n",
        "\n",
        "Using the following data, create a scatter plot. In addition:\n",
        "* Make the data points green\n",
        "* Change the transparency to 0.6\n",
        "* Make the x-label `Temperature (Fahrenheit)` and in the font `fantasy`\n",
        "* Make the y-label `Number of People` and in the font `fantasy`\n",
        "* Make the title `Number of People at the Beach` and in the font `fantasy`"
      ],
      "metadata": {
        "id": "1zi19lH88t_L"
      }
    },
    {
      "cell_type": "code",
      "source": [
        "# x axis values\n",
        "x = [87, 94, 98, 102, 96, 90, 92, 93, 85, 82, 96, 80, 90, 91]\n",
        "# corresponding y axis values\n",
        "y = [204, 375, 522, 731, 439, 302, 317, 346, 268, 197, 649, 158, 327, 353]\n",
        "\n",
        "# COMPLETE THE REST OF THE CODE"
      ],
      "metadata": {
        "id": "HzKR7meU8t_W"
      },
      "execution_count": null,
      "outputs": []
    },
    {
      "cell_type": "markdown",
      "source": [
        "##### **Solution**"
      ],
      "metadata": {
        "id": "dH-PGrA08t_W"
      }
    },
    {
      "cell_type": "code",
      "source": [],
      "metadata": {
        "id": "bxri54a-8t_W"
      },
      "execution_count": null,
      "outputs": []
    },
    {
      "cell_type": "markdown",
      "source": [
        "#### **Problem #4.3**\n",
        "\n",
        "Using the following data, create a bar plot. In addition:\n",
        "* Make each bar's color the same as the color name\n",
        "* Make the x-label `Favorite Color` and with a font size of 12\n",
        "* Make the y-label `Number of People` and with a font size of 12\n",
        "* Make the title `Number of People vs Favorite Color` and with a font size of 20\n",
        "* Make the bar width 0.6"
      ],
      "metadata": {
        "id": "y-ILZBA-8ukB"
      }
    },
    {
      "cell_type": "code",
      "source": [
        "# x axis values\n",
        "x = [1,2,3,4,5]\n",
        "# corresponding y axis values\n",
        "y1 = [2,4,6,8,10]\n",
        "y2 = [0.5,1,1.5,2,2.5]\n",
        "y3 = [1,4,9,16,25]\n",
        "\n",
        "# COMPLETE THE REST OF THE CODE"
      ],
      "metadata": {
        "id": "C-PM-Uc18ukC"
      },
      "execution_count": null,
      "outputs": []
    },
    {
      "cell_type": "markdown",
      "source": [
        "#####**Solution**"
      ],
      "metadata": {
        "id": "HCq373OY8ukC"
      }
    },
    {
      "cell_type": "code",
      "source": [],
      "metadata": {
        "id": "21DJHL0-8ukD"
      },
      "execution_count": null,
      "outputs": []
    },
    {
      "cell_type": "markdown",
      "source": [
        "#### **Problem #4.4**\n",
        "\n",
        "Using the following data, create a line plot. In addition:\n",
        "* Make line y1 brown and dashed, and make line y2 pink\n",
        "* Add a grid to the background\n",
        "* Add a legend\n",
        "* Make the title `X vs Y` in font `monospace` and in size 18\n"
      ],
      "metadata": {
        "id": "CArAIjgv8vLv"
      }
    },
    {
      "cell_type": "code",
      "source": [
        "# x axis values\n",
        "x = [1,2,3,4,5,6,7]\n",
        "# corresponding y axis values\n",
        "y1 = [9, 4, 6, 8, 22, 17, 13]\n",
        "y2 = [3, 5, 8, 12, 17, 23, 30]\n",
        "\n",
        "# COMPLETE THE REST OF THE CODE"
      ],
      "metadata": {
        "id": "FwFLRWyN8vLw"
      },
      "execution_count": null,
      "outputs": []
    },
    {
      "cell_type": "markdown",
      "source": [
        "#####**Solution**"
      ],
      "metadata": {
        "id": "Vh6L8Sql8vLx"
      }
    },
    {
      "cell_type": "code",
      "source": [],
      "metadata": {
        "id": "FvqPMGpS8vLx"
      },
      "execution_count": null,
      "outputs": []
    },
    {
      "cell_type": "markdown",
      "source": [
        "#### **Problem #4.5**\n",
        "\n",
        "Create a bar plot for the following data with the following:\n",
        "* One bar showing the number of females in the dataset and another bar showing the number of males in the dataset.\n",
        "* Bars labeled 'Female' and 'Male'.\n",
        "* The y-axis labeled 'Number in Dataset' with extra large font.\n",
        "* A title called \"Number of Males and Females in the Dataset\" with extra large font.\n",
        "\n",
        "<br>\n",
        "\n",
        "**Hint**: You will need to use pandas functions to get the count of males and females in the data frame."
      ],
      "metadata": {
        "id": "wtniW7m3xIw8"
      }
    },
    {
      "cell_type": "code",
      "source": [
        "url = 'https://docs.google.com/spreadsheets/d/e/2PACX-1vSa0metcKBFqn-MHLn05vVGWONMlzljcWa-xIM1wJPXIa5kbrmIzGqmWcMh8eKG_ntByF9qqn6Mx3MT/pub?gid=1052859518&single=true&output=csv'\n",
        "df = pd.read_csv(url)\n",
        "df.head()\n",
        "\n",
        "# COMPLETE THE REST OF THE CODE"
      ],
      "metadata": {
        "id": "sIlQ3hR5yXJE"
      },
      "execution_count": null,
      "outputs": []
    },
    {
      "cell_type": "markdown",
      "source": [
        "##### **Solution**"
      ],
      "metadata": {
        "id": "C-TOPVtwyXkb"
      }
    },
    {
      "cell_type": "code",
      "source": [],
      "metadata": {
        "id": "_xpc6Ny8wVKg"
      },
      "execution_count": null,
      "outputs": []
    },
    {
      "cell_type": "markdown",
      "source": [
        "#### **Problem #4.6**\n",
        "\n",
        "Create a *grouped* bar plot for the following data with the following:\n",
        "* One bar graph showing the number of females with heart attacks and without in the dataset.\n",
        "* This bar graph should be labeled 'Female' for the legend.\n",
        "* Another bar graph showing the number of males with heart attacks and without in the dataset.\n",
        "* This bar graph should be labeled 'Male' for the legend.\n",
        "* Both bar graphs should be located on the x-axis and given a width to make the graph readable.\n",
        "* The y-axis labeled 'Number in Dataset' with extra large font.\n",
        "* A title called \"Breakdown of Heart Attacks by Sex\" with extra large font.\n",
        "\n",
        "<br>\n",
        "\n",
        "**Hint**: You will need to use pandas functions and comparisons to get the count of males and females with and without heart attacks in the data frame."
      ],
      "metadata": {
        "id": "dWREWbsVykUC"
      }
    },
    {
      "cell_type": "code",
      "source": [
        "df_female = df[# COMPLETE THIS LINE\n",
        "df_male = df[# COMPLETE THIS LINE\n",
        "\n",
        "# COMPLETE THE REST OF THIS CODE\n",
        "\n",
        "plt.xticks(ticks = [0, 1], labels = ['No Heart Attack', 'Heart Attack'], fontsize = 'x-large')\n",
        "\n",
        "plt.# COMPLETE THIS LINE"
      ],
      "metadata": {
        "id": "FIMkkvVizT58"
      },
      "execution_count": null,
      "outputs": []
    },
    {
      "cell_type": "markdown",
      "source": [
        "##### **Solution**"
      ],
      "metadata": {
        "id": "4YTlSMDBzUMV"
      }
    },
    {
      "cell_type": "code",
      "source": [],
      "metadata": {
        "id": "Q_8ppRKEwqSx"
      },
      "execution_count": null,
      "outputs": []
    },
    {
      "cell_type": "markdown",
      "source": [
        "#### **Comment on this Dataset**\n",
        "\n",
        "This is an unfortunately common case of biased data, specifically *unbalanced data*, leading to potentially harmful results. We could attempt removing `'Sex'` as a feature to blind any ML models to the sex of the patient. However, bias often runs deeper than the most superficial variables and may be correlated with others in ways that humans and especially advanced ML algorithms can still pick up on. Consider some of the following ideas for improving on these results:\n",
        "\n",
        "* Using statistical methods for balancing the data. For instance, upsampling and downsampling are common first approaches to tackling this problem.\n",
        "\n",
        "* Find a dataset that is more balanced to begin with. In an ideal world, we would make sure that the data is balanced (representative) upon collection."
      ],
      "metadata": {
        "id": "8Y87uet9b5qb"
      }
    },
    {
      "cell_type": "markdown",
      "source": [
        "<a name=\"p5\"></a>\n",
        "\n",
        "---\n",
        "## **Part 5: Modeling with sklearn**\n",
        "---"
      ],
      "metadata": {
        "id": "_Q7eDW_l0pPn"
      }
    },
    {
      "cell_type": "markdown",
      "metadata": {
        "id": "XKlXLctJMfWM"
      },
      "source": [
        "### **Part 5.1: Linear Regression**\n",
        "\n",
        "\n",
        "---\n",
        "\n",
        "This dataset contains data related to wine properties, including chemical characteristics like acidity, pH, and alcohol content. The target variable (label) represents a quality rating for each wine, which is a quantitative measure of wine quality.\n",
        "\n",
        "\n",
        "In Part 5.1, we will implement a linear regression model aimed at predicting the quality rating of wines based on their chemical properties and characteristics."
      ]
    },
    {
      "cell_type": "markdown",
      "metadata": {
        "id": "OqjbzvZ9OUWe"
      },
      "source": [
        "#### **Step #1: Load in Data**\n",
        "\n",
        "**Run the code below to load the data.**"
      ]
    },
    {
      "cell_type": "code",
      "execution_count": null,
      "metadata": {
        "id": "rYraPZuAOSX6",
        "tags": []
      },
      "outputs": [],
      "source": [
        "url = \"https://archive.ics.uci.edu/ml/machine-learning-databases/wine-quality/winequality-white.csv\"\n",
        "data = pd.read_csv(url, sep=';')"
      ]
    },
    {
      "cell_type": "markdown",
      "metadata": {
        "id": "_-Un9iSRFNKP"
      },
      "source": [
        "#### **Step #2: Choose your Variables**\n",
        "\n"
      ]
    },
    {
      "cell_type": "code",
      "execution_count": null,
      "metadata": {
        "id": "3w6YlXTflYLC"
      },
      "outputs": [],
      "source": [
        "inputs = df.drop(\"quality\", axis = 1)\n",
        "output = df[# COMPLETE THIS CODE"
      ]
    },
    {
      "cell_type": "markdown",
      "metadata": {
        "id": "Rz-RWKb0lYin"
      },
      "source": [
        "##### **Solution**"
      ]
    },
    {
      "cell_type": "code",
      "execution_count": null,
      "metadata": {
        "id": "XbEAUTUnFRBq",
        "tags": []
      },
      "outputs": [],
      "source": []
    },
    {
      "cell_type": "markdown",
      "metadata": {
        "id": "TqCPAlJmlNUv"
      },
      "source": [
        "#### **Step #3: Split your Data**\n"
      ]
    },
    {
      "cell_type": "code",
      "execution_count": null,
      "metadata": {
        "id": "9Sm_Dda4lMS_",
        "tags": []
      },
      "outputs": [],
      "source": [
        "X_train, X_test, y_train, y_test = # COMPLETE THIS CODE"
      ]
    },
    {
      "cell_type": "markdown",
      "source": [
        "##### **Solution**"
      ],
      "metadata": {
        "id": "h6qzfSW72USP"
      }
    },
    {
      "cell_type": "code",
      "source": [],
      "metadata": {
        "id": "R6FSWsQM2VR7"
      },
      "execution_count": null,
      "outputs": []
    },
    {
      "cell_type": "markdown",
      "metadata": {
        "id": "AR4pT5pjFOYI"
      },
      "source": [
        "#### **Step #4: Import an ML Algorithm**\n",
        "\n",
        "\n"
      ]
    },
    {
      "cell_type": "code",
      "source": [],
      "metadata": {
        "id": "04ZAKnPJ2lc3"
      },
      "execution_count": null,
      "outputs": []
    },
    {
      "cell_type": "markdown",
      "source": [
        "##### **Solution**"
      ],
      "metadata": {
        "id": "RX9OxAD52joL"
      }
    },
    {
      "cell_type": "code",
      "execution_count": null,
      "metadata": {
        "id": "mJwLHdydmHTB",
        "tags": []
      },
      "outputs": [],
      "source": []
    },
    {
      "cell_type": "markdown",
      "metadata": {
        "id": "7vxxRybDl-6h"
      },
      "source": [
        "#### **Step #5: Initialize the Model**\n"
      ]
    },
    {
      "cell_type": "code",
      "execution_count": null,
      "metadata": {
        "id": "7Lg_OTRlmOdQ"
      },
      "outputs": [],
      "source": [
        "model = # COMPLETE THIS LINE"
      ]
    },
    {
      "cell_type": "markdown",
      "metadata": {
        "id": "hTYp-p67mVQV"
      },
      "source": [
        "##### **Solution**"
      ]
    },
    {
      "cell_type": "code",
      "execution_count": null,
      "metadata": {
        "id": "2zhHsTWbmNdp",
        "tags": []
      },
      "outputs": [],
      "source": []
    },
    {
      "cell_type": "markdown",
      "metadata": {
        "id": "QGjMGgtol_GV"
      },
      "source": [
        "#### **Step #6: Fit, Test, and Visualize**\n"
      ]
    },
    {
      "cell_type": "code",
      "execution_count": null,
      "metadata": {
        "id": "zXrul7JxmZCr"
      },
      "outputs": [],
      "source": [
        "model.fit(X_train, # COMPLETE THIS LINE"
      ]
    },
    {
      "cell_type": "code",
      "source": [
        "predictions = # COMPLETE THIS LINE"
      ],
      "metadata": {
        "id": "SJT-4r673-V3"
      },
      "execution_count": null,
      "outputs": []
    },
    {
      "cell_type": "code",
      "source": [
        "plt.figure(figsize=(8, 8))\n",
        "plt.scatter(y_test, predictions)\n",
        "plt.plot([y_test.min(), y_test.max()], [y_test.min(), y_test.max()], color = 'black', label=\"Correct prediction\")\n",
        "\n",
        "\n",
        "plt.xlabel('True Quality', fontsize = 'x-large')\n",
        "plt.ylabel('Predicted Quality', fontsize = 'x-large')\n",
        "plt.title(\"Real vs predicted wine quality\", fontsize = 'x-large')\n",
        "plt.legend()\n",
        "\n",
        "plt.show()"
      ],
      "metadata": {
        "id": "UjMtzl7L4MYf"
      },
      "execution_count": null,
      "outputs": []
    },
    {
      "cell_type": "markdown",
      "metadata": {
        "id": "expMvvS_mZVA"
      },
      "source": [
        "##### **Solution**"
      ]
    },
    {
      "cell_type": "code",
      "execution_count": null,
      "metadata": {
        "id": "P6TxLLFzFRdD",
        "tags": []
      },
      "outputs": [],
      "source": []
    },
    {
      "cell_type": "code",
      "source": [],
      "metadata": {
        "id": "cWUUVJ7P4BgM"
      },
      "execution_count": null,
      "outputs": []
    },
    {
      "cell_type": "code",
      "source": [],
      "metadata": {
        "id": "Y9QFheBu3J2C"
      },
      "execution_count": null,
      "outputs": []
    },
    {
      "cell_type": "markdown",
      "metadata": {
        "id": "tEjc9FYpFPXe"
      },
      "source": [
        "#### **Step #7: Evaluate**\n",
        "\n",
        "Let's evaluate this model and put it to the test! Specifically, evaluate the model using our standard regression metrics: $R^2$, MSE, and MAE.\n"
      ]
    },
    {
      "cell_type": "code",
      "source": [],
      "metadata": {
        "id": "I3-wwjqQ4kGe"
      },
      "execution_count": null,
      "outputs": []
    },
    {
      "cell_type": "markdown",
      "metadata": {
        "id": "tgKXw-1KmoYW"
      },
      "source": [
        "###### **Solution**"
      ]
    },
    {
      "cell_type": "code",
      "execution_count": null,
      "metadata": {
        "id": "yLawsX5Al9mG",
        "tags": []
      },
      "outputs": [],
      "source": []
    },
    {
      "cell_type": "markdown",
      "metadata": {
        "id": "ZSVrwR_HFScR"
      },
      "source": [
        "#### **Step #8: Apply your Model**\n",
        "\n",
        "You are provided with data from two new wines, and you want to assess the predicted quality ratings for each of them. The goal is to determine whether either wine is likely to have a higher quality rating based on the model's predictions.\n",
        "\n",
        "Here is the data for the two wines:\n",
        "\n",
        "**Wine 1:**\n",
        "* Fixed Acidity = 12.5\n",
        "* Volatile Acidity = 0.3\n",
        "* Citric Acid = 0.6\n",
        "* Residual Sugar = 1.2\n",
        "* Chlorides = 0.07\n",
        "* Free Sulfur Dioxide = 15.0\n",
        "* Total Sulfur Dioxide = 50.0\n",
        "* Density = 0.998\n",
        "* pH = 3.2\n",
        "* Sulphates = 0.68\n",
        "* Alcohol Content = 11.5\n",
        "\n",
        "**Wine 2:**\n",
        "\n",
        "* Fixed Acidity = 13.2\n",
        "* Volatile Acidity = 0.28\n",
        "* Citric Acid = 0.45\n",
        "* Residual Sugar = 2.0\n",
        "* Chlorides = 0.09\n",
        "* Free Sulfur Dioxide = 12.0\n",
        "* Total Sulfur Dioxide = 65.0\n",
        "* Density = 0.995\n",
        "* pH = 3.3\n",
        "* Sulphates = 0.55\n",
        "* Alcohol Content = 12.0\n",
        "\n",
        "You will use your linear regression model to predict the quality ratings for these wines and assess their relative quality based on the predictions."
      ]
    },
    {
      "cell_type": "markdown",
      "metadata": {
        "id": "TNEz28GzPsza"
      },
      "source": [
        "##### **1. Predict the quality of Wine 1**\n"
      ]
    },
    {
      "cell_type": "code",
      "execution_count": null,
      "metadata": {
        "id": "qdlzRN3PFUXe",
        "tags": []
      },
      "outputs": [],
      "source": []
    },
    {
      "cell_type": "markdown",
      "source": [
        "###### **Solution**"
      ],
      "metadata": {
        "id": "NMrEt2EG6xgK"
      }
    },
    {
      "cell_type": "code",
      "source": [],
      "metadata": {
        "id": "IaQC_DM16y3D"
      },
      "execution_count": null,
      "outputs": []
    },
    {
      "cell_type": "markdown",
      "metadata": {
        "id": "mOVjEiDIPvKc"
      },
      "source": [
        "##### **2. Predict the quality of Wine 2**"
      ]
    },
    {
      "cell_type": "code",
      "execution_count": null,
      "metadata": {
        "id": "6OGtnxjUnJ3Q"
      },
      "outputs": [],
      "source": []
    },
    {
      "cell_type": "markdown",
      "metadata": {
        "id": "ILJcHhaQnKH6"
      },
      "source": [
        "###### **Solution**"
      ]
    },
    {
      "cell_type": "code",
      "execution_count": null,
      "metadata": {
        "id": "jYkXVorPPxHc",
        "tags": []
      },
      "outputs": [],
      "source": []
    },
    {
      "cell_type": "markdown",
      "metadata": {
        "id": "OGa6OZCpfJPh"
      },
      "source": [
        "### **Part 5.2: K-Nearest Neighbors**\n",
        "\n",
        "\n",
        "---\n",
        "\n",
        "This dataset contains crucial information related to breast cancer, including various features such as mean radius, mean texture, and mean smoothness. The target variable (label) indicates the diagnosis, distinguishing between malignant and benign cases.\n",
        "\n",
        "In Part 5.2, we will implement a K-Nearest Neighbors (KNN) model aimed at predicting the diagnosis of breast cancer samples. The goal is to classify new samples as either malignant or benign based on their feature characteristics."
      ]
    },
    {
      "cell_type": "markdown",
      "metadata": {
        "id": "p5tQtCwufJPr"
      },
      "source": [
        "#### **Step #1: Load in Data**\n",
        "\n",
        "**Run the code below to load the data.**"
      ]
    },
    {
      "cell_type": "code",
      "execution_count": null,
      "metadata": {
        "tags": [],
        "id": "WtSg7z-3fJPr"
      },
      "outputs": [],
      "source": [
        "from sklearn.datasets import load_breast_cancer\n",
        "data = load_breast_cancer()\n",
        "selected_features = [\"mean radius\", \"mean texture\", \"mean perimeter\", \"mean area\", \"mean smoothness\", \"mean compactness\", \"mean concavity\", \"mean concave points\", \"mean symmetry\", \"mean fractal dimension\"]\n",
        "df = pd.DataFrame(data.data, columns=data.feature_names)\n",
        "df = df[selected_features]\n",
        "df['Target'] = data.target"
      ]
    },
    {
      "cell_type": "markdown",
      "metadata": {
        "id": "QFGDY2skfJPs"
      },
      "source": [
        "#### **Step #2: Choose your Variables**\n",
        "\n"
      ]
    },
    {
      "cell_type": "code",
      "execution_count": null,
      "metadata": {
        "id": "k-JjG229fJPs"
      },
      "outputs": [],
      "source": [
        "inputs = # COMPLETE THIS CODE\n",
        "output = # COMPLETE THIS CODE"
      ]
    },
    {
      "cell_type": "markdown",
      "metadata": {
        "id": "0vUdHqtlfJPs"
      },
      "source": [
        "##### **Solution**"
      ]
    },
    {
      "cell_type": "code",
      "execution_count": null,
      "metadata": {
        "tags": [],
        "id": "iuCeraA4fJPs"
      },
      "outputs": [],
      "source": []
    },
    {
      "cell_type": "markdown",
      "metadata": {
        "id": "HbEr0TBEfJPs"
      },
      "source": [
        "#### **Step #3: Split your Data**\n"
      ]
    },
    {
      "cell_type": "code",
      "execution_count": null,
      "metadata": {
        "tags": [],
        "id": "BiI_7n98fJPs"
      },
      "outputs": [],
      "source": [
        "X_train, X_test, y_train, y_test = # COMPLETE THIS CODE"
      ]
    },
    {
      "cell_type": "markdown",
      "source": [
        "##### **Solution**"
      ],
      "metadata": {
        "id": "y7FL0z9nfJPs"
      }
    },
    {
      "cell_type": "code",
      "source": [],
      "metadata": {
        "id": "6B-tTBzAfJPs"
      },
      "execution_count": null,
      "outputs": []
    },
    {
      "cell_type": "markdown",
      "metadata": {
        "id": "AyBDIqqGfJPs"
      },
      "source": [
        "#### **Step #4: Import an ML Algorithm**\n",
        "\n",
        "\n"
      ]
    },
    {
      "cell_type": "code",
      "source": [],
      "metadata": {
        "id": "3zUWy-C-fJPs"
      },
      "execution_count": null,
      "outputs": []
    },
    {
      "cell_type": "markdown",
      "source": [
        "##### **Solution**"
      ],
      "metadata": {
        "id": "acGVxH7qfJPt"
      }
    },
    {
      "cell_type": "code",
      "execution_count": null,
      "metadata": {
        "tags": [],
        "id": "4AadQb1ffJPt"
      },
      "outputs": [],
      "source": []
    },
    {
      "cell_type": "markdown",
      "metadata": {
        "id": "q4tlM_dQfJPt"
      },
      "source": [
        "#### **Step #5: Initialize the Model**\n"
      ]
    },
    {
      "cell_type": "code",
      "execution_count": null,
      "metadata": {
        "id": "NrqbrvqmfJPt"
      },
      "outputs": [],
      "source": [
        "model = # COMPLETE THIS LINE"
      ]
    },
    {
      "cell_type": "markdown",
      "metadata": {
        "id": "fY5ZBtJHfJPt"
      },
      "source": [
        "##### **Solution**"
      ]
    },
    {
      "cell_type": "code",
      "execution_count": null,
      "metadata": {
        "tags": [],
        "id": "6GmklFr8fJPt"
      },
      "outputs": [],
      "source": []
    },
    {
      "cell_type": "markdown",
      "metadata": {
        "id": "dwsTR3NBfJPt"
      },
      "source": [
        "#### **Step #6: Fit and Test**\n"
      ]
    },
    {
      "cell_type": "code",
      "execution_count": null,
      "metadata": {
        "id": "nFEKlifHfJPt"
      },
      "outputs": [],
      "source": [
        "model.fit(X_train, # COMPLETE THIS LINE"
      ]
    },
    {
      "cell_type": "code",
      "source": [
        "predictions = # COMPLETE THIS LINE"
      ],
      "metadata": {
        "id": "lBki9dH1fJPt"
      },
      "execution_count": null,
      "outputs": []
    },
    {
      "cell_type": "markdown",
      "metadata": {
        "id": "06MG6EVQfJPt"
      },
      "source": [
        "##### **Solution**"
      ]
    },
    {
      "cell_type": "code",
      "execution_count": null,
      "metadata": {
        "tags": [],
        "id": "5ZJTxTxffJPu"
      },
      "outputs": [],
      "source": []
    },
    {
      "cell_type": "code",
      "source": [],
      "metadata": {
        "id": "cM0SXqSOfJPu"
      },
      "execution_count": null,
      "outputs": []
    },
    {
      "cell_type": "markdown",
      "metadata": {
        "id": "GOjuQCV6fJPu"
      },
      "source": [
        "#### **Step #7: Evaluate**\n",
        "\n",
        "Let's evaluate this model and put it to the test! Specifically, use the accuracy score to get a simple overall picture of your model's performance, and the confusion matrix to get a more nuanced view of where the model is performing the best and worst\n"
      ]
    },
    {
      "cell_type": "code",
      "source": [
        "print(accuracy_score(# COMPLETE THIS CODE"
      ],
      "metadata": {
        "id": "7iYRgB9yfJPu"
      },
      "execution_count": null,
      "outputs": []
    },
    {
      "cell_type": "code",
      "source": [
        "cm = confusion_matrix(# COMPLETE THIS CODE\n",
        "disp = ConfusionMatrixDisplay(# COMPLETE THIS CODE\n",
        "disp.plot()\n",
        "plt.show()"
      ],
      "metadata": {
        "id": "bF9jaTzyhAjy"
      },
      "execution_count": null,
      "outputs": []
    },
    {
      "cell_type": "markdown",
      "metadata": {
        "id": "m9Nz8xmMfJPu"
      },
      "source": [
        "###### **Solution**"
      ]
    },
    {
      "cell_type": "code",
      "execution_count": null,
      "metadata": {
        "tags": [],
        "id": "sbxwbyEafJPu"
      },
      "outputs": [],
      "source": []
    },
    {
      "cell_type": "code",
      "source": [],
      "metadata": {
        "id": "VOJWcwpfhgYP"
      },
      "execution_count": null,
      "outputs": []
    },
    {
      "cell_type": "markdown",
      "metadata": {
        "id": "BPKZh2EsfJPu"
      },
      "source": [
        "#### **Step #8: Apply your Model**\n",
        "\n",
        "You are provided with data from two new breast cancer samples, and you want to assess the predicted class labels (Malignant or Benign) for each of them. The goal is to determine whether either sample is likely to be malignant or benign based on the model's predictions.\n",
        "\n",
        "Here is the data for the two samples:\n",
        "\n",
        "**Sample 1:**\n",
        "\n",
        "* Mean Radius = 12.5\n",
        "* Mean Texture = 18.2\n",
        "* Mean Perimeter = 80.3\n",
        "* Mean Area = 490.2\n",
        "* Mean Smoothness = 0.09\n",
        "* Mean Compactness = 0.08\n",
        "* Mean Concavity = 0.05\n",
        "* Mean Concave Points = 0.03\n",
        "* Mean Symmetry = 0.18\n",
        "* Mean Fractal Dimension = 0.06\n",
        "\n",
        "**Sample 2:**\n",
        "\n",
        "* Mean Radius = 14.3\n",
        "* Mean Texture = 20.8\n",
        "* Mean Perimeter = 92.6\n",
        "* Mean Area = 650.9\n",
        "* Mean Smoothness = 0.1\n",
        "* Mean Compactness = 0.12\n",
        "* Mean Concavity = 0.09\n",
        "* Mean Concave Points = 0.05\n",
        "* Mean Symmetry = 0.2\n",
        "* Mean Fractal Dimension = 0.07\n",
        "\n",
        "You will use your KNN (k-nearest neighbors) model to predict the class labels for these samples and assess their relative likelihood of being malignant or benign based on the predictions."
      ]
    },
    {
      "cell_type": "markdown",
      "metadata": {
        "id": "fIqwMPFIfJPu"
      },
      "source": [
        "##### **1. Predict the diagnosis of Sample 1**\n"
      ]
    },
    {
      "cell_type": "code",
      "execution_count": null,
      "metadata": {
        "tags": [],
        "id": "JwdKPvv7fJPu"
      },
      "outputs": [],
      "source": [
        "sample_1_features = pd.DataFrame([[# COMPLETE THIS CODE\n",
        "\n",
        "prediction_sample_1 = model.predict(# COMPLETE THIS CODE\n",
        "\n",
        "print(\"Predicted label for Sample 1:\", \"Malignant\" if prediction_sample_1[0] == 1 else \"Benign\")"
      ]
    },
    {
      "cell_type": "markdown",
      "source": [
        "###### **Solution**"
      ],
      "metadata": {
        "id": "Rxbjgp2VfJPu"
      }
    },
    {
      "cell_type": "code",
      "source": [],
      "metadata": {
        "id": "dBy6ELnffJPu"
      },
      "execution_count": null,
      "outputs": []
    },
    {
      "cell_type": "markdown",
      "metadata": {
        "id": "3fqNDBVcfJPu"
      },
      "source": [
        "##### **2. Predict the diagnosis of Sample 2**"
      ]
    },
    {
      "cell_type": "code",
      "execution_count": null,
      "metadata": {
        "id": "Y-WGCnEMfJPv"
      },
      "outputs": [],
      "source": [
        "sample_2_features = pd.DataFrame([[# COMPLETE THIS CODE\n",
        "\n",
        "prediction_sample_2 = model.predict(# COMPLETE THIS CODE\n",
        "\n",
        "print(\"Predicted label for Sample 2:\", \"Malignant\" if prediction_sample_1[0] == 1 else \"Benign\")"
      ]
    },
    {
      "cell_type": "markdown",
      "metadata": {
        "id": "qBHEAYLafJPv"
      },
      "source": [
        "###### **Solution**"
      ]
    },
    {
      "cell_type": "code",
      "execution_count": null,
      "metadata": {
        "tags": [],
        "id": "V6qT4-ZrfJPv"
      },
      "outputs": [],
      "source": []
    },
    {
      "cell_type": "markdown",
      "metadata": {
        "id": "gkXRnTVEnSHG"
      },
      "source": [
        "### **Part 5.3: Logistic Regression**\n",
        "\n",
        "\n",
        "---\n",
        "\n",
        "The Pima Indians Diabetes dataset is an essential collection of medical records related to diabetes diagnoses among women of Pima Indian heritage. It comprises various attributes, including the number of times pregnant, plasma glucose concentration, diastolic blood pressure, triceps skinfold thickness, and several others. The target variable (label) indicates whether an individual has diabetes.\n",
        "\n",
        "In Part 5.3, we will develop a Logistic Regression model to predict diabetes diagnoses based on these features. The primary objective is to classify new individuals as either having diabetes or not, based on the provided attribute values."
      ]
    },
    {
      "cell_type": "markdown",
      "metadata": {
        "id": "obpWexZhnSHT"
      },
      "source": [
        "#### **Step #1: Load in Data**\n",
        "\n",
        "**Run the code below to load the data.**"
      ]
    },
    {
      "cell_type": "code",
      "execution_count": null,
      "metadata": {
        "tags": [],
        "id": "4TNtHcwPnSHT"
      },
      "outputs": [],
      "source": [
        "url = \"https://raw.githubusercontent.com/jbrownlee/Datasets/master/pima-indians-diabetes.data.csv\"\n",
        "\n",
        "column_names = [\n",
        "    \"Number of times pregnant\",\n",
        "    \"Plasma glucose concentration\",\n",
        "    \"Diastolic blood pressure\",\n",
        "    \"Triceps skinfold thickness\",\n",
        "    \"2-Hour serum insulin\",\n",
        "    \"BMI\",\n",
        "    \"Diabetes pedigree function\",\n",
        "    \"Age\",\n",
        "    \"Class\"\n",
        "]\n",
        "\n",
        "df = pd.read_csv(url, names=column_names)"
      ]
    },
    {
      "cell_type": "markdown",
      "metadata": {
        "id": "dZOzjuQYnSHT"
      },
      "source": [
        "#### **Step #2: Choose your Variables**\n",
        "\n"
      ]
    },
    {
      "cell_type": "code",
      "execution_count": null,
      "metadata": {
        "id": "nQ1aruUcnSHT"
      },
      "outputs": [],
      "source": [
        "inputs = # COMPLETE THIS CODE\n",
        "output = # COMPLETE THIS CODE"
      ]
    },
    {
      "cell_type": "markdown",
      "metadata": {
        "id": "VwzkD_z7nSHT"
      },
      "source": [
        "##### **Solution**"
      ]
    },
    {
      "cell_type": "code",
      "execution_count": null,
      "metadata": {
        "tags": [],
        "id": "jxvQltxAnSHT"
      },
      "outputs": [],
      "source": []
    },
    {
      "cell_type": "markdown",
      "metadata": {
        "id": "lFhN2PG7nSHT"
      },
      "source": [
        "#### **Step #3: Split your Data**\n"
      ]
    },
    {
      "cell_type": "code",
      "execution_count": null,
      "metadata": {
        "tags": [],
        "id": "cgVOTNhunSHT"
      },
      "outputs": [],
      "source": [
        "X_train, X_test, y_train, y_test = # COMPLETE THIS CODE"
      ]
    },
    {
      "cell_type": "markdown",
      "source": [
        "##### **Solution**"
      ],
      "metadata": {
        "id": "kZ1zaVnwnSHT"
      }
    },
    {
      "cell_type": "code",
      "source": [],
      "metadata": {
        "id": "jSAqEeKXnSHU"
      },
      "execution_count": null,
      "outputs": []
    },
    {
      "cell_type": "markdown",
      "metadata": {
        "id": "R1mAbSPJnSHU"
      },
      "source": [
        "#### **Step #4: Import an ML Algorithm**\n",
        "\n",
        "\n"
      ]
    },
    {
      "cell_type": "code",
      "source": [],
      "metadata": {
        "id": "T6k09y0RnSHU"
      },
      "execution_count": null,
      "outputs": []
    },
    {
      "cell_type": "markdown",
      "source": [
        "##### **Solution**"
      ],
      "metadata": {
        "id": "BclM5STrnSHU"
      }
    },
    {
      "cell_type": "code",
      "execution_count": null,
      "metadata": {
        "tags": [],
        "id": "4-Lce8f3nSHU"
      },
      "outputs": [],
      "source": []
    },
    {
      "cell_type": "markdown",
      "metadata": {
        "id": "UwQlk0rEnSHU"
      },
      "source": [
        "#### **Step #5: Initialize the Model**\n"
      ]
    },
    {
      "cell_type": "code",
      "execution_count": null,
      "metadata": {
        "id": "tzfvA-wwnSHU"
      },
      "outputs": [],
      "source": [
        "model = # COMPLETE THIS LINE"
      ]
    },
    {
      "cell_type": "markdown",
      "metadata": {
        "id": "wpHtKEEpnSHU"
      },
      "source": [
        "##### **Solution**"
      ]
    },
    {
      "cell_type": "code",
      "execution_count": null,
      "metadata": {
        "tags": [],
        "id": "BroU76wRnSHU"
      },
      "outputs": [],
      "source": []
    },
    {
      "cell_type": "markdown",
      "metadata": {
        "id": "feAKw7nQnSHU"
      },
      "source": [
        "#### **Step #6: Fit and Test**\n"
      ]
    },
    {
      "cell_type": "code",
      "execution_count": null,
      "metadata": {
        "id": "8cgiV-7XnSHU"
      },
      "outputs": [],
      "source": [
        "model.fit(X_train, # COMPLETE THIS LINE"
      ]
    },
    {
      "cell_type": "code",
      "source": [
        "predictions = # COMPLETE THIS LINE"
      ],
      "metadata": {
        "id": "hgsNstQxnSHU"
      },
      "execution_count": null,
      "outputs": []
    },
    {
      "cell_type": "markdown",
      "metadata": {
        "id": "IFDp2UHQnSHU"
      },
      "source": [
        "##### **Solution**"
      ]
    },
    {
      "cell_type": "code",
      "execution_count": null,
      "metadata": {
        "tags": [],
        "id": "n49QxvLFnSHV"
      },
      "outputs": [],
      "source": []
    },
    {
      "cell_type": "code",
      "source": [],
      "metadata": {
        "id": "o4KEbitfnSHV"
      },
      "execution_count": null,
      "outputs": []
    },
    {
      "cell_type": "markdown",
      "metadata": {
        "id": "uoTw3CNknSHV"
      },
      "source": [
        "#### **Step #7: Evaluate**\n",
        "\n",
        "Let's evaluate this model and put it to the test! Specifically, use the accuracy score to get a simple overall picture of your model's performance, and the confusion matrix to get a more nuanced view of where the model is performing the best and worst\n"
      ]
    },
    {
      "cell_type": "code",
      "source": [
        "report = classification_report(# COMPLETE THIS LINE\n",
        "print('Classification report ' + str(report))"
      ],
      "metadata": {
        "id": "5mAr35L5nSHV"
      },
      "execution_count": null,
      "outputs": []
    },
    {
      "cell_type": "code",
      "source": [
        "cm = confusion_matrix(# COMPLETE THIS CODE\n",
        "disp = ConfusionMatrixDisplay(# COMPLETE THIS CODE\n",
        "disp.plot()\n",
        "plt.show()"
      ],
      "metadata": {
        "id": "Ns0bP7uFnSHV"
      },
      "execution_count": null,
      "outputs": []
    },
    {
      "cell_type": "markdown",
      "metadata": {
        "id": "ZwS6A4S2nSHV"
      },
      "source": [
        "###### **Solution**"
      ]
    },
    {
      "cell_type": "code",
      "execution_count": null,
      "metadata": {
        "tags": [],
        "id": "9RD41SYDnSHV"
      },
      "outputs": [],
      "source": []
    },
    {
      "cell_type": "code",
      "source": [],
      "metadata": {
        "id": "uFPszd7inSHV"
      },
      "execution_count": null,
      "outputs": []
    },
    {
      "cell_type": "markdown",
      "metadata": {
        "id": "F-4xbYWTnSHV"
      },
      "source": [
        "#### **Step #8: Apply your Model**\n",
        "\n",
        "You are provided with data from two new Pima Indian individuals, and you want to assess the predicted class labels (Diabetes or No Diabetes) for each of them. The goal is to determine whether either individual is likely to have diabetes based on the model's predictions.\n",
        "\n",
        "Here is the data for the two individuals:\n",
        "\n",
        "**Individual 1:**\n",
        "\n",
        "* Number of times pregnant: 2\n",
        "* Plasma glucose concentration: 85\n",
        "* Diastolic blood pressure: 66\n",
        "* Triceps skinfold thickness: 29\n",
        "* 2-Hour serum insulin: 0\n",
        "* BMI: 26.6\n",
        "* Diabetes pedigree function: 0.351\n",
        "* Age: 31\n",
        "\n",
        "**Individual 2:**\n",
        "\n",
        "* Number of times pregnant: 8\n",
        "* Plasma glucose concentration: 183\n",
        "* Diastolic blood pressure: 64\n",
        "* Triceps skinfold thickness: 0\n",
        "* 2-Hour serum insulin: 0\n",
        "* BMI: 23.3\n",
        "* Diabetes pedigree function: 0.672\n",
        "* Age: 32\n",
        "\n",
        "You will use your logistic regression model to predict the class labels for these individuals and assess their relative likelihood of having diabetes based on the predictions."
      ]
    },
    {
      "cell_type": "markdown",
      "metadata": {
        "id": "wp9LzzmCnSHV"
      },
      "source": [
        "##### **1. Predict the diagnoses for Individual 1**\n"
      ]
    },
    {
      "cell_type": "code",
      "execution_count": null,
      "metadata": {
        "tags": [],
        "id": "LBd94pe5nSHV"
      },
      "outputs": [],
      "source": [
        "individual_1_features = pd.DataFrame([[# COMPLETE THIS CODE\n",
        "\n",
        "prediction_individual_1 = model.predict(# COMPLETE THIS CODE\n",
        "\n",
        "print(\"Predicted label for Individual 1:\", \"Diabetes\" if prediction_individual_1[0] == 1 else \"No Diabetes\")"
      ]
    },
    {
      "cell_type": "markdown",
      "source": [
        "###### **Solution**"
      ],
      "metadata": {
        "id": "kdVh0KjdnSHW"
      }
    },
    {
      "cell_type": "code",
      "source": [],
      "metadata": {
        "id": "mlR1cCWTnSHX"
      },
      "execution_count": null,
      "outputs": []
    },
    {
      "cell_type": "markdown",
      "metadata": {
        "id": "h6x1HKs0nSHX"
      },
      "source": [
        "##### **2. Predict the diagnosis of Sample 2**"
      ]
    },
    {
      "cell_type": "code",
      "execution_count": null,
      "metadata": {
        "id": "N6Rm2L2GnSHX"
      },
      "outputs": [],
      "source": [
        "individual_2_features = pd.DataFrame([[# COMPLETE THIS CODE\n",
        "\n",
        "prediction_individual_2 = model.predict(# COMPLETE THIS CODE\n",
        "\n",
        "print(\"Predicted label for Individual 2:\", \"Diabetes\" if prediction_individual_2[0] == 1 else \"No Diabetes\")"
      ]
    },
    {
      "cell_type": "markdown",
      "metadata": {
        "id": "97GBdNnunSHX"
      },
      "source": [
        "###### **Solution**"
      ]
    },
    {
      "cell_type": "code",
      "execution_count": null,
      "metadata": {
        "tags": [],
        "id": "Q_WbdhM-nSHX"
      },
      "outputs": [],
      "source": []
    },
    {
      "cell_type": "markdown",
      "source": [
        "---\n",
        "\n",
        "# End of Notebook\n",
        "\n",
        "© 2023 The Coding School, All rights reserved"
      ],
      "metadata": {
        "id": "75g0yrIewirj"
      }
    }
  ]
}