{
  "nbformat": 4,
  "nbformat_minor": 0,
  "metadata": {
    "colab": {
      "provenance": [],
      "include_colab_link": true
    },
    "kernelspec": {
      "name": "python3",
      "display_name": "Python 3"
    },
    "language_info": {
      "name": "python"
    }
  },
  "cells": [
    {
      "cell_type": "markdown",
      "metadata": {
        "id": "view-in-github",
        "colab_type": "text"
      },
      "source": [
        "<a href=\"https://colab.research.google.com/github/zmy2338/Machine-Learning-AWS/blob/main/TRAIN_AWS_P1_Lecture_3_%5BSTUDENT%5D.ipynb\" target=\"_parent\"><img src=\"https://colab.research.google.com/assets/colab-badge.svg\" alt=\"Open In Colab\"/></a>"
      ]
    },
    {
      "cell_type": "markdown",
      "source": [
        "# **Lecture #3: Data Wrangling for Machine Learning**\n",
        "---\n",
        "**Description:** This lecture notebook will provide practice data wrangling Pandas commands while revisiting the Iris dataset from Day 1.\n",
        "\n",
        "**About the dataset:** The Iris Dataset is one of the best known datasets in pattern recognition. The dataset consists of several types of Iris flowers and their respective petal and sepal dimensions, that we are going to use to classify the type of Iris flower.\n",
        "\n",
        "**Goals:** By the end of this notebok, you will:\n",
        "* Be able to create and encode features to enhance the features available in a given dataset.\n",
        "* Bet able to select the top *k* features using sklearn's `SelectKBest(...)`.\n",
        "\n",
        "<br>\n",
        "\n",
        "### **Lab Structure**\n",
        "**Part 1**: [Feature Engineering](#p1)\n",
        "\n",
        "> **Part 1.1**: [Feature Creation](#p11)\n",
        "\n",
        "> **Part 1.2**: [Feature Encoding](#p12)\n",
        "\n",
        "**Part 2**: [Feature Selection](#p2)\n",
        "\n",
        "**Part 3**: [[OPTIONAL] Addition Practice](#p3)\n",
        "\n",
        "\n",
        "<br>\n",
        "\n",
        "\n",
        "### **Cheat Sheets**\n",
        "* [Feature Engineering and Selection with Pandas](https://docs.google.com/document/d/191CH-X6zf4lESuThrdIGH6ovzpHK6nb9NRlqSIl30Ig/edit?usp=sharing)\n",
        "\n",
        "* [Pandas Commands](https://docs.google.com/document/d/1v-MZCgoZJGRcK-69OOu5fYhm58x2G0JUWyi2H53j8Ls/edit)\n",
        "\n",
        "<br>\n",
        "\n",
        "**Before beginning the practice problems, run the code below to import and install the necessary libraries, as well as to read the data.**"
      ],
      "metadata": {
        "id": "VmbS0drqZVLW"
      }
    },
    {
      "cell_type": "code",
      "source": [
        "!pip install scikit-learn\n",
        "\n",
        "# import pandas as pd \n",
        "import pandas as pd\n",
        "\n",
        "# Import datasets submodule\n",
        "from sklearn import datasets\n",
        "from sklearn.feature_selection import SelectKBest\n",
        "\n",
        "# Load dataset (actual data with associated documentation)\n",
        "iris = datasets.load_iris()\n",
        "\n",
        "# Create dataframe\n",
        "iris_df = pd.DataFrame(data=iris.data,columns=iris.feature_names)\n",
        "\n",
        "# Add target to dataset\n",
        "iris_df['target'] = iris.target_names[iris.target]"
      ],
      "metadata": {
        "id": "dw6gI95Veo1E"
      },
      "execution_count": null,
      "outputs": []
    },
    {
      "cell_type": "markdown",
      "metadata": {
        "id": "XvDIuw6vlsKN"
      },
      "source": [
        "<a name=\"p1\"></a>\n",
        "\n",
        "---\n",
        "## **Part 1: Feature Engineering**\n",
        "---"
      ]
    },
    {
      "cell_type": "markdown",
      "metadata": {
        "id": "ezrqtNt5WgTz"
      },
      "source": [
        "<a name=\"p11\"></a>\n",
        "\n",
        "---\n",
        "### **Part 1.1: Feature Creation**\n",
        "---"
      ]
    },
    {
      "cell_type": "markdown",
      "source": [
        "#### **Exercise #1: Create a new feature `sepal length (s, m, l)`.**\n",
        "---\n",
        "\n",
        "Create new feature called `sepal length (s, m, l)` that designates any flows with a sepal length:\n",
        "* Under 5 cm as `'s'` (for small).\n",
        "* Between 5 and 6 cm as `'m'` (for medium).\n",
        "* Over 6 cm as `'l'` (for large)."
      ],
      "metadata": {
        "id": "-KWx9geR0RM3"
      }
    },
    {
      "cell_type": "code",
      "source": [
        "# sepal length (s, m, l)\n",
        "iris_df.loc[iris_df['sepal length (cm)'] < 5, 'sepal length (s, m, l)'] = # COMPLETE THIS LINE\n",
        "iris_df.loc[(iris_df['sepal length (cm)'] >= 5) & # COMPLETE THIS LINE), 'sepal length (s, m, l)'] = 'm'\n",
        "iris_df.# COMPLETE THIS LINE\n",
        "\n",
        "iris_df.head()"
      ],
      "metadata": {
        "id": "4GuYgii4SgMW"
      },
      "execution_count": null,
      "outputs": []
    },
    {
      "cell_type": "markdown",
      "source": [
        "#### **Exercise #2: Create a new feature `sepal area (cm^2)`.**\n",
        "---\n",
        "\n",
        "Create new feature called `sepal area (cm^2)` that calculates a rough estimate of the sepal area as follows: `sepal area (cm^2)` = `sepal length (cm)` * `sepal width (cm)`."
      ],
      "metadata": {
        "id": "--QMXmAUZF-H"
      }
    },
    {
      "cell_type": "code",
      "source": [
        "# sepal area (cm^2)\n",
        "iris_df['sepal area (cm^2)'] = # COMPLETE THIS LINE\n",
        "\n",
        "iris_df.head()"
      ],
      "metadata": {
        "id": "zoEIjIJPZF-I"
      },
      "execution_count": null,
      "outputs": []
    },
    {
      "cell_type": "markdown",
      "source": [
        "#### **Exercise #3: Create a new feature `sepal width (s, m, l)`.**\n",
        "---\n",
        "\n",
        "Create new feature called `sepal width (s, m, l)` that divides this column into 3 buckets, `'s'`, `'m'`, `'l'`, using `qdcut(...)`."
      ],
      "metadata": {
        "id": "Q7CSHh8BZ9PY"
      }
    },
    {
      "cell_type": "code",
      "source": [
        "iris_df['sepal width (s, m, l)'] = pd.qcut(iris_df['sepal width (cm)'], # COMPLETE THIS LINE\n",
        "                                           \n",
        "iris_df.head()"
      ],
      "metadata": {
        "id": "gu_P5MpIaen8"
      },
      "execution_count": null,
      "outputs": []
    },
    {
      "cell_type": "markdown",
      "source": [
        "#### **Exercise #4: Create a new feature `petal length (s, m, l)`.**\n",
        "---\n",
        "\n",
        "Create new feature called `petal length (s, m, l)` that designates any flows with a petal length:\n",
        "* Under 3 cm as `'s'` (for small).\n",
        "* Between 3 and 5 cm as `'m'` (for medium).\n",
        "* Over 5 cm as `'l'` (for large)."
      ],
      "metadata": {
        "id": "blD58fdsbCcu"
      }
    },
    {
      "cell_type": "code",
      "source": [
        "# petal length (s, m, l)\n",
        "# COMPLETE THIS CODE\n",
        "\n",
        "iris_df.head()"
      ],
      "metadata": {
        "id": "8vbW0IOabCcv"
      },
      "execution_count": null,
      "outputs": []
    },
    {
      "cell_type": "markdown",
      "source": [
        "#### **Exercise #5: Create a new feature `petal area (cm^2)`.**\n",
        "---\n",
        "\n",
        "Create new feature called `petal area (cm^2)` that calculates a rough estimate of the petal area as follows: `petal area (cm^2)` = `petal length (cm)` * `petal width (cm)`."
      ],
      "metadata": {
        "id": "pWrjtufFbCcv"
      }
    },
    {
      "cell_type": "code",
      "source": [
        "# petal area (cm^2)\n",
        "# COMPLETE THIS CODE\n",
        "\n",
        "iris_df.head()"
      ],
      "metadata": {
        "id": "DJy8nF4jbCcv"
      },
      "execution_count": null,
      "outputs": []
    },
    {
      "cell_type": "markdown",
      "source": [
        "#### **Exercise #6: Create a new feature `petal width (s, m, l, xl)`.**\n",
        "---\n",
        "\n",
        "Create new feature called `petal width (s, m, l, xl)` that divides this column into 4 buckets, `'s'`, `'m'`, `'l'`, `'xl'`, using `qdcut(...)`."
      ],
      "metadata": {
        "id": "kexg1AmnbCcv"
      }
    },
    {
      "cell_type": "code",
      "source": [
        "# COMPLETE THIS CODE\n",
        "\n",
        "iris_df.head()"
      ],
      "metadata": {
        "id": "BwI-_zqYbCcv"
      },
      "execution_count": null,
      "outputs": []
    },
    {
      "cell_type": "markdown",
      "metadata": {
        "id": "w3-2RNAlWiM6"
      },
      "source": [
        "<a name=\"p12\"></a>\n",
        "\n",
        "---\n",
        "### **Part 1.2: Feature Encoding**\n",
        "---"
      ]
    },
    {
      "cell_type": "markdown",
      "source": [
        "#### **Exercise #1: Create an encoded version of the categorical feature `sepal length (s, m, l)`.**\n",
        "---\n",
        "\n",
        "Call the feature `sepal length encoded`."
      ],
      "metadata": {
        "id": "oZyNFWe_cbi2"
      }
    },
    {
      "cell_type": "code",
      "source": [
        "size_map = {'s': 0, 'm': 1, 'l': 2}\n",
        "iris_df['sepal length encoded'] = iris_df['sepal length (s, m, l)'].# COMPLETE THIS LINE\n",
        "\n",
        "iris_df.head()"
      ],
      "metadata": {
        "id": "_WqprTJmcbi2"
      },
      "execution_count": null,
      "outputs": []
    },
    {
      "cell_type": "markdown",
      "source": [
        "#### **Exercise #2: Create an encoded version of the categorical feature `sepal width (s, m, l)`.**\n",
        "---\n",
        "\n",
        "\n",
        "Call the feature `sepal width encoded`."
      ],
      "metadata": {
        "id": "bCPzU3ubc7Tc"
      }
    },
    {
      "cell_type": "code",
      "source": [
        "size_map = # COMPLETE THIS LINE\n",
        "iris_df['sepal width encoded'] = iris_df['sepal width (s, m, l)'].# COMPLETE THIS LINE\n",
        "\n",
        "iris_df.head()"
      ],
      "metadata": {
        "id": "4hgU7VUMc7Td"
      },
      "execution_count": null,
      "outputs": []
    },
    {
      "cell_type": "markdown",
      "source": [
        "#### **Exercise #3: Create an encoded version of the categorical feature `petal width (s, m, l, xl)`.**\n",
        "---\n",
        "\n",
        "\n",
        "Call the feature `petal width encoded`. **NOTE**: This requires having completed Exercise #6 of the previous part."
      ],
      "metadata": {
        "id": "jVTUups7eFFe"
      }
    },
    {
      "cell_type": "code",
      "source": [],
      "metadata": {
        "id": "AODALRT0eFFf"
      },
      "execution_count": null,
      "outputs": []
    },
    {
      "cell_type": "markdown",
      "source": [
        "#### **Exercise #4: Create an encoded version of the *label* `target`.**\n",
        "---\n",
        "\n",
        "Sometimes it is also useful to encode the label using the same methods. Create a new label called `target encoded` such that:\n",
        "* `'setosa'` goes to 0\n",
        "* `'versicolor'` goes to 1\n",
        "* `'virginica'` goes to 2"
      ],
      "metadata": {
        "id": "COSQGS2-dV9E"
      }
    },
    {
      "cell_type": "code",
      "source": [
        "target_map = {# COMPLETE THIS LINE\n",
        "iris_df['target encoded'] = iris_df['target'].map(target_map)\n",
        "\n",
        "iris_df.head()"
      ],
      "metadata": {
        "id": "1dLKomEBdV9E"
      },
      "execution_count": null,
      "outputs": []
    },
    {
      "cell_type": "markdown",
      "metadata": {
        "id": "J54Qpa_NWcJ8"
      },
      "source": [
        "<a name=\"p2\"></a>\n",
        "\n",
        "---\n",
        "## **Part 2: Feature Selection**\n",
        "---\n",
        "\n",
        "**Run the code below to organize our data into numerical features and the label.**"
      ]
    },
    {
      "cell_type": "code",
      "source": [
        "features = iris_df.select_dtypes('number')\n",
        "features = features.drop('target encoded', axis = 1)\n",
        "\n",
        "label = iris_df['target']"
      ],
      "metadata": {
        "id": "JkYX9S3ufVZq"
      },
      "execution_count": null,
      "outputs": []
    },
    {
      "cell_type": "markdown",
      "source": [
        "#### **Exercise #1: Select the 3 best features using `SelectKBest(...)`.**\n",
        "---"
      ],
      "metadata": {
        "id": "PZcSzCBSetM7"
      }
    },
    {
      "cell_type": "code",
      "source": [
        "feature_selector = SelectKBest(k = # COMPLETE THIS LINE\n",
        "feature_selector.fit_transform(features, label)\n",
        "\n",
        "best_features = iris_df[feature_selector.get_feature_names_out()]\n",
        "\n",
        "best_features.head()"
      ],
      "metadata": {
        "id": "J3q560HfetM8"
      },
      "execution_count": null,
      "outputs": []
    },
    {
      "cell_type": "markdown",
      "source": [
        "#### **Exercise #2: Select the 5 best features using `SelectKBest(...)`.**\n",
        "---"
      ],
      "metadata": {
        "id": "c-6dAoZShKJW"
      }
    },
    {
      "cell_type": "code",
      "source": [
        "# COMPLETE THIS LINE\n",
        "feature_selector.fit_transform(features, label)\n",
        "\n",
        "best_features = iris_df[feature_selector.get_feature_names_out()]\n",
        "\n",
        "best_features.head()"
      ],
      "metadata": {
        "id": "QxuoGz8yhKJX"
      },
      "execution_count": null,
      "outputs": []
    },
    {
      "cell_type": "markdown",
      "source": [
        "#### **Exercise #3: Select the single best feature using `SelectKBest(...)`.**\n",
        "---"
      ],
      "metadata": {
        "id": "vUswRTtAhSCr"
      }
    },
    {
      "cell_type": "code",
      "source": [
        "# COMPLETE THIS LINE\n",
        "feature_selector.fit_transform(features, label)\n",
        "\n",
        "best_features = iris_df[feature_selector.get_feature_names_out()]\n",
        "\n",
        "best_features.head()"
      ],
      "metadata": {
        "id": "SF4WilmNhSCr"
      },
      "execution_count": null,
      "outputs": []
    },
    {
      "cell_type": "markdown",
      "metadata": {
        "id": "rLXowFQoZkox"
      },
      "source": [
        "<a name=\"p3\"></a>\n",
        "\n",
        "---\n",
        "## **Part 3: [OPTIONAL] Additional Practice**\n",
        "---\n",
        "\n",
        "You can continue practicing these skills using a dataset containing the top hit for each year from 1999 - 2019 according to Spotify. This dataset contains many features, so it would likely need a lot of feature engineering and selection for any task you are trying to perform.\n",
        "\n",
        "<br>\n",
        "\n",
        "**NOTE**: We will practicing all of this more tomorrow, so do not worry if you don't have time for these problems.\n",
        "\n",
        "<br>\n",
        "\n",
        "**Run the code below to load in our data.**"
      ]
    },
    {
      "cell_type": "code",
      "source": [
        "url = 'https://docs.google.com/spreadsheets/d/e/2PACX-1vQ_8wL6mLc01IFXWqv8i4fkVcnaeB0ipMCkKrCKjbKVwM4xCbsSesX7J5aF4k_4lWa6lTEqGxHR9-9A/pub?gid=1132556054&single=true&output=csv'\n",
        "\n",
        "spotify_df = pd.read_csv(url)\n",
        "\n",
        "spotify_df.head()"
      ],
      "metadata": {
        "id": "4qbHdyxvaOwI"
      },
      "execution_count": null,
      "outputs": []
    },
    {
      "cell_type": "markdown",
      "source": [
        "#### **Exercise #1: Create a new feature `duration_s`.**\n",
        "---\n",
        "\n",
        "Create new feature called `duration_s` that converts the `duration_ms` column from milliseconds to seconds. **NOTE**: 1 millisecond is a thousandth of a second."
      ],
      "metadata": {
        "id": "E9aqh3Vea7O3"
      }
    },
    {
      "cell_type": "code",
      "source": [
        "spotify_df['duration_s'] = # COMPLETE THIS LINE\n",
        "\n",
        "spotify_df.head()"
      ],
      "metadata": {
        "id": "8PGXeR3ja7O4"
      },
      "execution_count": null,
      "outputs": []
    },
    {
      "cell_type": "markdown",
      "source": [
        "#### **Exercise #2: Create a new feature `dance energy`.**\n",
        "---\n",
        "\n",
        "Create new feature called `dance energy` that adds the `danceability` and `energy` columns together."
      ],
      "metadata": {
        "id": "DhCWNOTtcr_F"
      }
    },
    {
      "cell_type": "code",
      "source": [
        "# COMPLETE THIS CODE"
      ],
      "metadata": {
        "id": "mHIw1sbTcr_G"
      },
      "execution_count": null,
      "outputs": []
    },
    {
      "cell_type": "markdown",
      "source": [
        "#### **Exercise #3: Create a new feature `early or late 2000s`.**\n",
        "---\n",
        "\n",
        "Create new feature called `early or late 2000s` such that:\n",
        "* Any rows where `year` is less than 2005 has the value `'early'`.\n",
        "* Any rows where `year` is greater than or equal to 2005 has the value `'late'`."
      ],
      "metadata": {
        "id": "_w6LiEmudWmY"
      }
    },
    {
      "cell_type": "code",
      "source": [
        "# COMPLETE THIS CODE"
      ],
      "metadata": {
        "id": "hj5kYBsrdWmZ"
      },
      "execution_count": null,
      "outputs": []
    },
    {
      "cell_type": "markdown",
      "source": [
        "#### **Exercise #4: Create a new feature `popularity (low, medium, high)`.**\n",
        "---\n",
        "\n",
        "Create new feature called `popularity (low, medium, high)` such that:\n",
        "* Any rows where `popularity` is less than 25 has the value `'low'`.\n",
        "* Any rows where `popularity` is between 25 and 75 has the value `'medium'`.\n",
        "* Any rows where `popularity` is greater than 75 has the value `'high'`.\n",
        "\n",
        "<br>\n",
        "\n",
        "\n",
        "**NOTE**: When specifying multiple conditions, it's important to include parentheses to make them very clear. Refer to Part 1.1 for an example of how to do this."
      ],
      "metadata": {
        "id": "EyFLYe64eOAb"
      }
    },
    {
      "cell_type": "code",
      "source": [
        "# COMPLETE THIS CODE"
      ],
      "metadata": {
        "id": "WAQre427eOAc"
      },
      "execution_count": null,
      "outputs": []
    },
    {
      "cell_type": "markdown",
      "source": [
        "#### **Exercise #5: Create an encoded version of the categorical feature `explicit`.**\n",
        "---\n",
        "\n",
        "\n",
        "Call the feature `explicit encoded` such that `False` becomes 0 and `True` becomes 1."
      ],
      "metadata": {
        "id": "enVxmgBNfLna"
      }
    },
    {
      "cell_type": "code",
      "source": [
        "explicit_map = {False: 0 # COMPLETE THIS CODE"
      ],
      "metadata": {
        "id": "EwtfjITOfLni"
      },
      "execution_count": null,
      "outputs": []
    },
    {
      "cell_type": "markdown",
      "source": [
        "#### **Exercise #6: Create an encoded version of the categorical feature `popularity (low, medium, high)`.**\n",
        "---\n",
        "\n",
        "\n",
        "Call the feature `popularity encoded`."
      ],
      "metadata": {
        "id": "hQOmL8j-f6Kn"
      }
    },
    {
      "cell_type": "code",
      "source": [
        "# COMPLETE THIS CODE"
      ],
      "metadata": {
        "id": "0DHV_sznf6Kx"
      },
      "execution_count": null,
      "outputs": []
    },
    {
      "cell_type": "markdown",
      "source": [
        "#### **Run the code below to separate our data into numerical features and a label.**\n",
        "\n",
        "**NOTE**: We are using the `popularity encoded` column as our label, meaning we are selecting the best features to predict this variable."
      ],
      "metadata": {
        "id": "18V-y7iegkiR"
      }
    },
    {
      "cell_type": "code",
      "source": [
        "features = spotify_df.select_dtypes('number')\n",
        "features = features.drop('popularity encoded', axis = 1)\n",
        "\n",
        "label = spotify_df['popularity encoded']"
      ],
      "metadata": {
        "id": "DyX64etkgsT_"
      },
      "execution_count": null,
      "outputs": []
    },
    {
      "cell_type": "markdown",
      "source": [
        "#### **Exercise #7: Select the single best feature using `SelectKBest(...)`.**\n",
        "---"
      ],
      "metadata": {
        "id": "H0A0uBOUgefj"
      }
    },
    {
      "cell_type": "code",
      "source": [],
      "metadata": {
        "id": "TPfMtwidgefk"
      },
      "execution_count": null,
      "outputs": []
    },
    {
      "cell_type": "markdown",
      "source": [
        "#### **Exercise #8: Drop the `popularity` column.**\n",
        "\n",
        "\n",
        "You should have seen that `popularity` is the single best feature for predicting `popularity encoded`. This should make sense since we *made* the `popularity encoded` column from `popularity` ultimately. So actually, it's really not meaningful for us to say that `popularity` is a useful feature at all!\n",
        "\n",
        "So, drop the `popularity` column from the features DataFrame before continuing.\n",
        "\n",
        "---"
      ],
      "metadata": {
        "id": "FBmyuZlEhJcZ"
      }
    },
    {
      "cell_type": "code",
      "source": [
        "features = features.drop(# COMPLETE THIS LINE)"
      ],
      "metadata": {
        "id": "OX20TqBBivuI"
      },
      "execution_count": null,
      "outputs": []
    },
    {
      "cell_type": "markdown",
      "source": [
        "#### **Exercise #9: Select the 3 best features using `SelectKBest(...)`.**\n",
        "---"
      ],
      "metadata": {
        "id": "nJ7rUIkui4qx"
      }
    },
    {
      "cell_type": "code",
      "source": [],
      "metadata": {
        "id": "IkQu5-37i4qx"
      },
      "execution_count": null,
      "outputs": []
    },
    {
      "cell_type": "markdown",
      "source": [
        "#End of notebook\n",
        "---\n",
        "© 2023 The Coding School, All rights reserved"
      ],
      "metadata": {
        "id": "7dzC09dLlEhm"
      }
    }
  ]
}