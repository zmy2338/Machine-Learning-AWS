{
  "nbformat": 4,
  "nbformat_minor": 0,
  "metadata": {
    "colab": {
      "provenance": [],
      "include_colab_link": true
    },
    "kernelspec": {
      "name": "python3",
      "display_name": "Python 3"
    },
    "language_info": {
      "name": "python"
    }
  },
  "cells": [
    {
      "cell_type": "markdown",
      "metadata": {
        "id": "view-in-github",
        "colab_type": "text"
      },
      "source": [
        "<a href=\"https://colab.research.google.com/github/zmy2338/Machine-Learning-AWS/blob/main/TRAIN_AWS_P1_Lab_2_%5BSTUDENTS%5D.ipynb\" target=\"_parent\"><img src=\"https://colab.research.google.com/assets/colab-badge.svg\" alt=\"Open In Colab\"/></a>"
      ]
    },
    {
      "cell_type": "markdown",
      "source": [
        "# **Lab #2: Exploratory Data Analysis (EDA)**\n",
        "---\n",
        "### **Description:**  Exploratory Data Analysis (EDA) is a crucial step in the data analysis process that involves exploring and understanding the data to gain insights, identify patterns, and detect anomalies. EDA allows us to understand the underlying structure of the data, test assumptions, and prepare the data for further analysis. This lab will provide practice utilizing basic Pandas commands to explore different datasets, utilizing rows, columns and calculating the mean, median and sum, as part of the EDA process.\n",
        "<br>\n",
        "\n",
        "\n",
        "### **Lab Structure**\n",
        "**Part 1**: [Review: Basic Pandas Commands](#p1)\n",
        "\n",
        "**Part 2**: [Data Wrangling Practice](#p2)\n",
        "\n",
        "**Part 3**: [[OPTIONAL] Data Cleaning Practice](#p3)\n",
        "\n",
        "**Part 4**: [[Additional Practice] Exploratory Data Analysis (EDA) with Gapminder Data](#p4)\n",
        "\n",
        "\n",
        "</br>\n",
        "\n",
        "\n",
        "**Goals:** By the end of this lab, you will:\n",
        "* Be able to use basic Pandas commands.\n",
        "* Be able to explore basic information about datasets.\n",
        "* Know how to explore columns, rows, values, outliers, and more.\n",
        "* Be able to remove missing values, or incorrect values.\n",
        "* Practice data cleaning on real-world datasets.\n",
        "\n",
        "</br> \n",
        "\n",
        "### **Cheat Sheets**\n",
        "[EDA cheatsheet](https://drive.google.com/file/d/1ZZnIzgcT8dYcGwWVAR9DDFIwGXTGbIiU/view?usp=sharing)\n",
        "\n",
        "[Pandas cheatsheet](https://docs.google.com/document/d/1v-MZCgoZJGRcK-69OOu5fYhm58x2G0JUWyi2H53j8Ls/edit)"
      ],
      "metadata": {
        "id": "VmbS0drqZVLW"
      }
    },
    {
      "cell_type": "markdown",
      "source": [
        "<a name=\"p1\"></a>\n",
        "## **Part 1: Review: Basic Pandas Commands**\n",
        "\n",
        "---\n",
        "Let's practice a few of the Pandas commands we learned in the previous lab. \n",
        "\n",
        "**About the dataset:** The dataset is a small example dataset containing information about 5 individuals, including their name, age, gender, country of residence, and salary. \n",
        "\n",
        "**Run the code below to create a dictionary of sample data.**"
      ],
      "metadata": {
        "id": "zAgv0uKdER-t"
      }
    },
    {
      "cell_type": "code",
      "source": [
        " # import pandas as pd \n",
        "import pandas as pd\n",
        "\n",
        "# Create a dictionary of sample data\n",
        "data = {'Name': ['Alice', 'Bob', 'Charlie', 'David', 'Emily'],\n",
        "        'Age': [25, 30, 35, 40, 45],\n",
        "        'Gender': ['Female', 'Male', 'Male', 'Male', 'Female'],\n",
        "        'Country': ['USA', 'Canada', 'UK', 'Australia', 'USA'],\n",
        "        'Salary': [50000, 60000, 70000, 80000, 90000]}\n",
        "\n",
        "# Create a Pandas dataframe from the dictionary\n",
        "df = pd.DataFrame(data)"
      ],
      "metadata": {
        "id": "ErPYLC7IFOR9"
      },
      "execution_count": null,
      "outputs": []
    },
    {
      "cell_type": "markdown",
      "source": [
        "### **Exercise #1:** Print the first 5 rows of the dataframe.\n"
      ],
      "metadata": {
        "id": "bSmXNl8cFREu"
      }
    },
    {
      "cell_type": "code",
      "source": [
        "# Print the first 5 rows of the dataframe\n"
      ],
      "metadata": {
        "id": "Wuy7XXyXFa2j"
      },
      "execution_count": null,
      "outputs": []
    },
    {
      "cell_type": "markdown",
      "source": [
        "### **Exercise #2:** Print the column headers and data types of the dataframe."
      ],
      "metadata": {
        "id": "BUmrUc0EFcxY"
      }
    },
    {
      "cell_type": "code",
      "source": [
        "# Print the column headers and data types of the dataframe\n"
      ],
      "metadata": {
        "id": "kEm8-shrFi2W"
      },
      "execution_count": null,
      "outputs": []
    },
    {
      "cell_type": "markdown",
      "source": [
        "### **Exercise #3:** Print the column headings."
      ],
      "metadata": {
        "id": "bNM3Qe7eFmlA"
      }
    },
    {
      "cell_type": "code",
      "source": [
        "# Print the column headings\n",
        "print(df.columns)"
      ],
      "metadata": {
        "id": "PSp379HBHSwV"
      },
      "execution_count": null,
      "outputs": []
    },
    {
      "cell_type": "markdown",
      "source": [
        "### **Exercise #4:** What is the shape (dimensions) of the dataframe?\n"
      ],
      "metadata": {
        "id": "tZDV0YC6He9G"
      }
    },
    {
      "cell_type": "code",
      "source": [
        "# Print the shape of the dataframe\n"
      ],
      "metadata": {
        "id": "8ZFPkfgSHkGd"
      },
      "execution_count": null,
      "outputs": []
    },
    {
      "cell_type": "markdown",
      "source": [
        "### **Exercise #5:** What is the dimension of the dataframe?"
      ],
      "metadata": {
        "id": "YuvRDNzkHpGn"
      }
    },
    {
      "cell_type": "code",
      "source": [
        "# Print the dimension of the dataframe\n"
      ],
      "metadata": {
        "id": "AgFilSZ2H646"
      },
      "execution_count": null,
      "outputs": []
    },
    {
      "cell_type": "markdown",
      "source": [
        "### **Exercise #6:** Print basic statistical data for the dataset (mean, standard deviation, etc)."
      ],
      "metadata": {
        "id": "ui2jkTB4IAZR"
      }
    },
    {
      "cell_type": "code",
      "source": [],
      "metadata": {
        "id": "O6Us1AdLIJOa"
      },
      "execution_count": null,
      "outputs": []
    },
    {
      "cell_type": "markdown",
      "source": [
        "### **Exercise #7:** How many counts of unique values are there in the 'Gender' column?\n"
      ],
      "metadata": {
        "id": "d1i4UdMLINg4"
      }
    },
    {
      "cell_type": "code",
      "source": [
        "# Print counts of unique values in the 'Gender' column\n",
        "print(df['Gender'].value_counts())"
      ],
      "metadata": {
        "id": "3J6NmT8CIalP"
      },
      "execution_count": null,
      "outputs": []
    },
    {
      "cell_type": "markdown",
      "source": [
        "### **Exercise #8:** Print all unique values in the 'Country' column.\n"
      ],
      "metadata": {
        "id": "7RvaT7KvIdB8"
      }
    },
    {
      "cell_type": "code",
      "source": [
        "# Unique values in 'Country'"
      ],
      "metadata": {
        "id": "kAJ682GIIitV"
      },
      "execution_count": null,
      "outputs": []
    },
    {
      "cell_type": "markdown",
      "source": [
        "---\n",
        "\n",
        "<center>\n",
        "\n",
        "#### **Back to lecture**\n",
        "\n",
        "---"
      ],
      "metadata": {
        "id": "whgpzo-SWRqv"
      }
    },
    {
      "cell_type": "markdown",
      "source": [
        "<a name=\"p2\"></a>\n",
        "## **Part 2: Data Wrangling Practice**\n",
        "---\n",
        "\n",
        "Use the DataFrame below on NBA basketball players to answer Problems #1-2. Take a moment to explore the created dataframe in the cell below, which contains the names of famous NBA players, ages, heights and their respective teams. \n",
        "\n",
        "**Remember to run the cell below to load the DataFrame before continuing onto the problems.**"
      ],
      "metadata": {
        "id": "VRWhnEk5XMJZ"
      }
    },
    {
      "cell_type": "code",
      "source": [
        "#import numpy\n",
        "import numpy as np\n",
        "import pandas as pd\n",
        "\n",
        "# create dataframe\n",
        "df = pd.DataFrame(\n",
        "  {'Name':['Giannis Antetokounmpo','Kevin Durant','Stephen Curry','Nikola Jokic', 'Joel Embiid'],\n",
        "  'Age':[28, 34, 34, 27, np.nan],\n",
        "  'Height (in)':[83, 82, 74, 83, np.nan],\n",
        "  'Team':['Milwaukee Bucks', np.nan, 'Golden State Warriors', 'Denver Nuggets', np.nan] })\n",
        "df"
      ],
      "metadata": {
        "id": "T7pt9cd_aWry"
      },
      "execution_count": null,
      "outputs": []
    },
    {
      "cell_type": "markdown",
      "source": [
        "### **Exercise #1:** Use `isnull()` to see which values are missing."
      ],
      "metadata": {
        "id": "1t4gLFwXaWyT"
      }
    },
    {
      "cell_type": "code",
      "source": [],
      "metadata": {
        "id": "PZf7PoFEuYqW"
      },
      "execution_count": null,
      "outputs": []
    },
    {
      "cell_type": "markdown",
      "source": [
        "### **Exercise #2:** Since Joel Embiid's data is missing, drop the row. "
      ],
      "metadata": {
        "id": "2uT8xHdzadL_"
      }
    },
    {
      "cell_type": "code",
      "source": [],
      "metadata": {
        "id": "nqV0jh1FuaKR"
      },
      "execution_count": null,
      "outputs": []
    },
    {
      "cell_type": "markdown",
      "source": [
        "**Question:** What are the variables that we're working with in the above dataset?"
      ],
      "metadata": {
        "id": "pO1DlhH06M6K"
      }
    },
    {
      "cell_type": "markdown",
      "source": [
        "### **Exercise #3:** Create a new dataframe that only includes rows with players who are over 30 years old."
      ],
      "metadata": {
        "id": "0Q7OFXzrqSY0"
      }
    },
    {
      "cell_type": "code",
      "source": [],
      "metadata": {
        "id": "0Q2teUmuqZnZ"
      },
      "execution_count": null,
      "outputs": []
    },
    {
      "cell_type": "code",
      "source": [
        "# create dataframe\n",
        "students_df = pd.DataFrame(\n",
        "  {'name':['Jen','Akiro','Jamil','Benny', 'Aster', 'Raj', 'Alisha'],\n",
        "  'age':[19, 18, 21, 23, 26, np.nan, 30],\n",
        "   'gpa':[np.nan, 4.0, 3.0, 2.3, np.nan, 3.9, 3.8],\n",
        "   'year':['Freshman', 'Freshman', 'Junior', 'Junior', 'Senior', 'Sophomore', 'Senior'] })\n",
        "students_df"
      ],
      "metadata": {
        "id": "J_maZf2Takqr"
      },
      "execution_count": null,
      "outputs": []
    },
    {
      "cell_type": "markdown",
      "source": [
        "### **Exercise #4:** Add a new column called \"Salary\" with values `[$35,000, $42,000, $38,000, $40,000, $28,000]` and display the updated dataframe."
      ],
      "metadata": {
        "id": "JaCrF19Pq1Jn"
      }
    },
    {
      "cell_type": "code",
      "source": [],
      "metadata": {
        "id": "E0BHUKqGq7gA"
      },
      "execution_count": null,
      "outputs": []
    },
    {
      "cell_type": "markdown",
      "source": [
        "**New Dataset Alert!**\n",
        "\n",
        "The following students have applied for an on-campus university job as a Research Assistant. However, some data is missing. It is your job to fix the missing data. Use this data to answer Problems #3-6.\n",
        "\n",
        "**Remember to run the cell below to load the DataFrame before continuing onto the problems.**"
      ],
      "metadata": {
        "id": "XXeqYqj6agY5"
      }
    },
    {
      "cell_type": "markdown",
      "source": [
        "### **Exercise #5:** Raj's age is missing. Use the mean for the non-missing values in the column `age` to replace the missing value with the mean. "
      ],
      "metadata": {
        "id": "7mF1zMSLakiC"
      }
    },
    {
      "cell_type": "code",
      "source": [],
      "metadata": {
        "id": "OgZ_S_bWubCG"
      },
      "execution_count": null,
      "outputs": []
    },
    {
      "cell_type": "markdown",
      "source": [
        "### **Exercise #6:** Jen and Aster's GPA are missing. Use the median value of `gpa` to replace these missing values."
      ],
      "metadata": {
        "id": "XCI_QGcIatSc"
      }
    },
    {
      "cell_type": "code",
      "source": [],
      "metadata": {
        "id": "h6UZskUMubxP"
      },
      "execution_count": null,
      "outputs": []
    },
    {
      "cell_type": "markdown",
      "source": [
        "### **Exercise #7:** Use the `students_df` DataFrame and rename `gpa` to `GPA`. "
      ],
      "metadata": {
        "id": "io9fvuRVayfS"
      }
    },
    {
      "cell_type": "code",
      "source": [],
      "metadata": {
        "id": "fnvR7yYHuc-Q"
      },
      "execution_count": null,
      "outputs": []
    },
    {
      "cell_type": "markdown",
      "source": [
        "### **Exercise #8:** Rename the rest of columns so all column names begin with a capital letter."
      ],
      "metadata": {
        "id": "mRgM1dWPa5En"
      }
    },
    {
      "cell_type": "code",
      "source": [],
      "metadata": {
        "id": "bF06TpYrudtD"
      },
      "execution_count": null,
      "outputs": []
    },
    {
      "cell_type": "markdown",
      "metadata": {
        "id": "XvDIuw6vlsKN"
      },
      "source": [
        "<a name=\"p3\"></a>\n",
        "## [OPTIONAL] **Part #3: Data Cleaning Practice**\n",
        "---\n",
        "#### **Exercise #1: Remove the missing values from the following DataFrame:**\n"
      ]
    },
    {
      "cell_type": "code",
      "execution_count": null,
      "metadata": {
        "id": "ewyh-wrBFKmO"
      },
      "outputs": [],
      "source": [
        "# create dataframe\n",
        "df = pd.DataFrame(\n",
        "  {'Company':['Google','Amazon','Infosys','Directi'],\n",
        "  'Age':['21','23','38','22'],\n",
        "  'NaNetWorth ($ bn)':[300, np.nan, np.nan, 1.3],\n",
        "  'Founder':[np.nan, np.nan, np.nan, np.nan],\n",
        "  'Headquarter-Country':['United States', np.nan, 'India', 'India'] })\n",
        "df"
      ]
    },
    {
      "cell_type": "code",
      "source": [
        "# Remove Founder Feature\n",
        "\n",
        "# Remove row 1 and 2\n",
        "\n"
      ],
      "metadata": {
        "id": "cz5aFJjpIKRZ"
      },
      "execution_count": null,
      "outputs": []
    },
    {
      "cell_type": "markdown",
      "source": [
        "<a name=\"p4\"></a>\n",
        "## [Additional Practice] **Part #4: Exploratory Data Analysis (EDA) using the Gapminder dataset**\n",
        "---\n",
        "\n",
        "## **Part 4.1: EDA**\n",
        "This part focuses on Exploratory Data Analysis (EDA) using the Gapminder dataset, which contains socio-economic indicators for different countries over time.\n",
        "\n",
        "First, we need to install the gapminder package to access the dataset. **Run the next cell to install the packages and create the dataframe.**"
      ],
      "metadata": {
        "id": "hNhIAiHiKPqL"
      }
    },
    {
      "cell_type": "code",
      "source": [
        "!pip install gapminder\n",
        "\n",
        "from gapminder import gapminder\n",
        "\n",
        "# Create dataframe\n",
        "gapminder_df = pd.DataFrame(gapminder)\n",
        "gapminder_df.head()"
      ],
      "metadata": {
        "id": "u7JWvCtXP1Q4"
      },
      "execution_count": null,
      "outputs": []
    },
    {
      "cell_type": "markdown",
      "source": [
        "### **Exercise #1:** How many countries are there in the dataset?"
      ],
      "metadata": {
        "id": "Fr2EVO21QZiq"
      }
    },
    {
      "cell_type": "code",
      "source": [
        "unique_countries = # YOUR CODE HERE #\n",
        "\n",
        "print(f\"There are {unique_countries} countries in the dataset.\")"
      ],
      "metadata": {
        "id": "r3wRnRKQSy15"
      },
      "execution_count": null,
      "outputs": []
    },
    {
      "cell_type": "markdown",
      "source": [
        "### **Exercise 2:** What is the time range?"
      ],
      "metadata": {
        "id": "G4R1MXRkS5Xh"
      }
    },
    {
      "cell_type": "code",
      "source": [
        "\n",
        "print(f\"The time range is from {time_range[0]} to {time_range[1]}.\")"
      ],
      "metadata": {
        "id": "4zczUPUUTRoN"
      },
      "execution_count": null,
      "outputs": []
    },
    {
      "cell_type": "markdown",
      "source": [
        "### **Exercise #3:**  What is the average life expectancy for Japan in 2007?"
      ],
      "metadata": {
        "id": "43OosutBT-Xh"
      }
    },
    {
      "cell_type": "code",
      "source": [],
      "metadata": {
        "id": "L0T6xhErUFrK"
      },
      "execution_count": null,
      "outputs": []
    },
    {
      "cell_type": "markdown",
      "source": [
        "### **Exercise #4:** Print the entire row for the United States in 1962."
      ],
      "metadata": {
        "id": "PyZHbYnDUQiB"
      }
    },
    {
      "cell_type": "code",
      "source": [],
      "metadata": {
        "id": "mTJNUrXKUjFJ"
      },
      "execution_count": null,
      "outputs": []
    },
    {
      "cell_type": "markdown",
      "source": [
        "### **Exercise #5:** What is the global mean life expectancy in 1997?"
      ],
      "metadata": {
        "id": "Zl8f5BqaUk9l"
      }
    },
    {
      "cell_type": "code",
      "source": [],
      "metadata": {
        "id": "XS9Dg2JMVIrw"
      },
      "execution_count": null,
      "outputs": []
    },
    {
      "cell_type": "markdown",
      "source": [
        "### **Exercise #6:** What is the median GDP per capita globally in 1982?"
      ],
      "metadata": {
        "id": "BIPTFuyqVMG5"
      }
    },
    {
      "cell_type": "code",
      "source": [],
      "metadata": {
        "id": "DqNBRPF5VTSz"
      },
      "execution_count": null,
      "outputs": []
    },
    {
      "cell_type": "markdown",
      "source": [
        "### **Exercise #7:** What is the total population of Asia in 1957?"
      ],
      "metadata": {
        "id": "gRyaB3WXVYFC"
      }
    },
    {
      "cell_type": "code",
      "source": [],
      "metadata": {
        "id": "Sx4o4zvtVd1o"
      },
      "execution_count": null,
      "outputs": []
    },
    {
      "cell_type": "markdown",
      "source": [
        "### [OPTIONAL] **Exercise #8:** What is the correlation between GDP per capita and life expectancy globally in 2007?"
      ],
      "metadata": {
        "id": "6VGbcQ8NV1g8"
      }
    },
    {
      "cell_type": "code",
      "source": [],
      "metadata": {
        "id": "YCGhuOVzV4w5"
      },
      "execution_count": null,
      "outputs": []
    },
    {
      "cell_type": "markdown",
      "source": [
        "### [OPTIONAL] **Exercise #9:**  What is the correlation between population and GDP per capita in Asia in 2002?"
      ],
      "metadata": {
        "id": "7jzrvI_rWDMH"
      }
    },
    {
      "cell_type": "code",
      "source": [],
      "metadata": {
        "id": "77ytZ7aFWS8a"
      },
      "execution_count": null,
      "outputs": []
    },
    {
      "cell_type": "markdown",
      "source": [
        "### [OPTIONAL] **Exercise #10:** Which country had the highest GDP per capita in 1952, and what was its value?"
      ],
      "metadata": {
        "id": "nHBYTE4MWLbl"
      }
    },
    {
      "cell_type": "code",
      "source": [],
      "metadata": {
        "id": "l8VlYYnQWQPS"
      },
      "execution_count": null,
      "outputs": []
    },
    {
      "cell_type": "markdown",
      "source": [
        "## **Part 4.2: Insights from the EDA on the Gapminder dataset.**\n",
        "---\n",
        "The analysis of the Gapminder dataset provides valuable insights into various aspects of the socio-economic conditions of countries across different parts of the world. We learned that the dataset includes 142 unique countries and covers a time range from 1952 to 2007. We investigated correlations between different variables, such as GDP per capita and life expectancy, and found that in 2007, there was a positive correlation between the two variables globally, indicating that higher GDP per capita was generally associated with higher life expectancy.\n",
        "\n",
        "**Reflection question: How can the insights gained from analyzing the Gapminder dataset inform decision-making processes in the future?**\n",
        "\n",
        "**Enter your answer in the below code cell.**"
      ],
      "metadata": {
        "id": "Ltw5GnTxZLWA"
      }
    },
    {
      "cell_type": "code",
      "source": [
        "\"\"\"\n",
        "\n",
        "WRITE YOUR ANSWER HERE\n",
        "\n",
        "\"\"\";"
      ],
      "metadata": {
        "id": "MbJSl1waZbpL"
      },
      "execution_count": null,
      "outputs": []
    },
    {
      "cell_type": "markdown",
      "source": [
        "**Congratulations on finishing the notebook!** In this lab, you practiced `Pandas` commands you learned yesterday and worked with columns, rows, and explored the mean, median, and sum to further get instights into the data. Additionally, you learned to analyse diverse datasets by utilizing data cleaning techniques to clear missing or incorrect values and gain valuable insights."
      ],
      "metadata": {
        "id": "Y_WlpURk5Tr0"
      }
    },
    {
      "cell_type": "markdown",
      "source": [
        "---\n",
        "© 2023 The Coding School, All rights reserved"
      ],
      "metadata": {
        "id": "JuL_St8cbJHQ"
      }
    }
  ]
}