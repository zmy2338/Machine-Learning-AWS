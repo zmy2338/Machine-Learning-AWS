{
  "cells": [
    {
      "cell_type": "markdown",
      "metadata": {
        "id": "view-in-github",
        "colab_type": "text"
      },
      "source": [
        "<a href=\"https://colab.research.google.com/github/zmy2338/Machine-Learning-AWS/blob/main/TRAIN_AWS_P1_Lab_10_%5BSOLUTIONS%5D_v2.ipynb\" target=\"_parent\"><img src=\"https://colab.research.google.com/assets/colab-badge.svg\" alt=\"Open In Colab\"/></a>"
      ]
    },
    {
      "cell_type": "markdown",
      "metadata": {
        "id": "mbZXQ3rA3NwL"
      },
      "source": [
        "# **Lab #10: ML Ethics - Analyzing UCI's Adult Data Set** \n",
        "---\n",
        "\n",
        "### **Description**: \n",
        "In this lab, we will analyze UCI's Adult Data set and explore ethical issues with the dataset and models created from it, as well as attempt to mitigate any bias we find. Then, we will explore Amazon's Clarify.\n",
        "\n",
        "\n",
        "### **Lab Structure**\n",
        "**Part 1**: [Using Visualizations to Identify Bias](#p1)\n",
        "**Part 2**: [Using AWS Clarify to Identify Bias](#p2)\n",
        "**Part 3**: [Mitigating Bias](#p3)\n",
        "\n",
        "\n",
        "</br>\n",
        "\n",
        "\n",
        "### **Goals:** \n",
        "By the end of this lab, you will be able to:\n",
        "* Explain why imbalanced data can lead to bias in models.\n",
        "* You will be able to identify bias through different means like data exploration and using AWS Clarify.\n",
        "* Mitigate bias in data once you have found it using several different approaches.\n",
        "\n",
        "\n",
        "<br>\n",
        "\n",
        "**Before starting, run the code below to import all necessary functions and libraries.**\n"
      ]
    },
    {
      "cell_type": "code",
      "source": [
        "#!pip install scikit-learn\n",
        "!pip install --quiet smclarify\n",
        "\n",
        "import warnings\n",
        "warnings.filterwarnings('ignore')\n",
        "\n",
        "import pandas as pd\n",
        "import numpy as np\n",
        "import matplotlib.pyplot as plt\n",
        "\n",
        "from smclarify.bias.report import *\n",
        "\n",
        "from sklearn.preprocessing import OneHotEncoder, StandardScaler\n",
        "from sklearn.neighbors import KNeighborsClassifier\n",
        "from sklearn.model_selection import train_test_split\n",
        "from sklearn.metrics import accuracy_score, confusion_matrix, ConfusionMatrixDisplay"
      ],
      "metadata": {
        "id": "lOtzKrWQL9aH"
      },
      "execution_count": null,
      "outputs": []
    },
    {
      "cell_type": "markdown",
      "metadata": {
        "id": "oQSANzasIUX3"
      },
      "source": [
        "<a name=\"p1\"></a>\n",
        "\n",
        "---\n",
        "## **Part 1: Using Visualizations to Identify Bias**\n",
        "---\n",
        "\n",
        "We will be exploring UCI's [Adult Data Set](https://archive-beta.ics.uci.edu/ml/datasets/adult) and the bias inherent within it. This data was intended to inspect incomes over $50K based on census data in 1994, but as we will discover, there are some pitfalls with this data set. The following table will provide a description of what each column in the data set represents.\n",
        "\n",
        "<br>\n",
        "\n",
        "**NOTE:** This data set was derived from 'Census Data'. For this project, we are assuming this refers to the US Census Data for the year 1994. Our comparisons for visualizations reflect this assumption.\n",
        "\n",
        "<br>\n",
        "\n",
        "**Run the cell below to load the data.**"
      ]
    },
    {
      "cell_type": "code",
      "execution_count": null,
      "metadata": {
        "id": "MvEtVccZzaDl",
        "colab": {
          "base_uri": "https://localhost:8080/",
          "height": 392
        },
        "outputId": "75ad535f-8bdc-4ede-d68e-b409d8fbbd67"
      },
      "outputs": [
        {
          "output_type": "execute_result",
          "data": {
            "text/plain": [
              "   Age          Workclass  Final-Weight   Education  \\\n",
              "0   39          State-gov         77516   Bachelors   \n",
              "1   50   Self-emp-not-inc         83311   Bachelors   \n",
              "2   38            Private        215646     HS-grad   \n",
              "3   53            Private        234721        11th   \n",
              "4   28            Private        338409   Bachelors   \n",
              "\n",
              "   Education-number-of-years       Marital-status          Occupation  \\\n",
              "0                         13        Never-married        Adm-clerical   \n",
              "1                         13   Married-civ-spouse     Exec-managerial   \n",
              "2                          9             Divorced   Handlers-cleaners   \n",
              "3                          7   Married-civ-spouse   Handlers-cleaners   \n",
              "4                         13   Married-civ-spouse      Prof-specialty   \n",
              "\n",
              "     Relationship    Race      Sex  Capital-gain  Capital-loss  \\\n",
              "0   Not-in-family   White     Male          2174             0   \n",
              "1         Husband   White     Male             0             0   \n",
              "2   Not-in-family   White     Male             0             0   \n",
              "3         Husband   Black     Male             0             0   \n",
              "4            Wife   Black   Female             0             0   \n",
              "\n",
              "   Hours-per-week  Native-country  Target  \n",
              "0              40   United-States   <=50K  \n",
              "1              13   United-States   <=50K  \n",
              "2              40   United-States   <=50K  \n",
              "3              40   United-States   <=50K  \n",
              "4              40            Cuba   <=50K  "
            ],
            "text/html": [
              "\n",
              "  <div id=\"df-33b76d78-385f-4f6a-9dd1-c13326567a6f\">\n",
              "    <div class=\"colab-df-container\">\n",
              "      <div>\n",
              "<style scoped>\n",
              "    .dataframe tbody tr th:only-of-type {\n",
              "        vertical-align: middle;\n",
              "    }\n",
              "\n",
              "    .dataframe tbody tr th {\n",
              "        vertical-align: top;\n",
              "    }\n",
              "\n",
              "    .dataframe thead th {\n",
              "        text-align: right;\n",
              "    }\n",
              "</style>\n",
              "<table border=\"1\" class=\"dataframe\">\n",
              "  <thead>\n",
              "    <tr style=\"text-align: right;\">\n",
              "      <th></th>\n",
              "      <th>Age</th>\n",
              "      <th>Workclass</th>\n",
              "      <th>Final-Weight</th>\n",
              "      <th>Education</th>\n",
              "      <th>Education-number-of-years</th>\n",
              "      <th>Marital-status</th>\n",
              "      <th>Occupation</th>\n",
              "      <th>Relationship</th>\n",
              "      <th>Race</th>\n",
              "      <th>Sex</th>\n",
              "      <th>Capital-gain</th>\n",
              "      <th>Capital-loss</th>\n",
              "      <th>Hours-per-week</th>\n",
              "      <th>Native-country</th>\n",
              "      <th>Target</th>\n",
              "    </tr>\n",
              "  </thead>\n",
              "  <tbody>\n",
              "    <tr>\n",
              "      <th>0</th>\n",
              "      <td>39</td>\n",
              "      <td>State-gov</td>\n",
              "      <td>77516</td>\n",
              "      <td>Bachelors</td>\n",
              "      <td>13</td>\n",
              "      <td>Never-married</td>\n",
              "      <td>Adm-clerical</td>\n",
              "      <td>Not-in-family</td>\n",
              "      <td>White</td>\n",
              "      <td>Male</td>\n",
              "      <td>2174</td>\n",
              "      <td>0</td>\n",
              "      <td>40</td>\n",
              "      <td>United-States</td>\n",
              "      <td>&lt;=50K</td>\n",
              "    </tr>\n",
              "    <tr>\n",
              "      <th>1</th>\n",
              "      <td>50</td>\n",
              "      <td>Self-emp-not-inc</td>\n",
              "      <td>83311</td>\n",
              "      <td>Bachelors</td>\n",
              "      <td>13</td>\n",
              "      <td>Married-civ-spouse</td>\n",
              "      <td>Exec-managerial</td>\n",
              "      <td>Husband</td>\n",
              "      <td>White</td>\n",
              "      <td>Male</td>\n",
              "      <td>0</td>\n",
              "      <td>0</td>\n",
              "      <td>13</td>\n",
              "      <td>United-States</td>\n",
              "      <td>&lt;=50K</td>\n",
              "    </tr>\n",
              "    <tr>\n",
              "      <th>2</th>\n",
              "      <td>38</td>\n",
              "      <td>Private</td>\n",
              "      <td>215646</td>\n",
              "      <td>HS-grad</td>\n",
              "      <td>9</td>\n",
              "      <td>Divorced</td>\n",
              "      <td>Handlers-cleaners</td>\n",
              "      <td>Not-in-family</td>\n",
              "      <td>White</td>\n",
              "      <td>Male</td>\n",
              "      <td>0</td>\n",
              "      <td>0</td>\n",
              "      <td>40</td>\n",
              "      <td>United-States</td>\n",
              "      <td>&lt;=50K</td>\n",
              "    </tr>\n",
              "    <tr>\n",
              "      <th>3</th>\n",
              "      <td>53</td>\n",
              "      <td>Private</td>\n",
              "      <td>234721</td>\n",
              "      <td>11th</td>\n",
              "      <td>7</td>\n",
              "      <td>Married-civ-spouse</td>\n",
              "      <td>Handlers-cleaners</td>\n",
              "      <td>Husband</td>\n",
              "      <td>Black</td>\n",
              "      <td>Male</td>\n",
              "      <td>0</td>\n",
              "      <td>0</td>\n",
              "      <td>40</td>\n",
              "      <td>United-States</td>\n",
              "      <td>&lt;=50K</td>\n",
              "    </tr>\n",
              "    <tr>\n",
              "      <th>4</th>\n",
              "      <td>28</td>\n",
              "      <td>Private</td>\n",
              "      <td>338409</td>\n",
              "      <td>Bachelors</td>\n",
              "      <td>13</td>\n",
              "      <td>Married-civ-spouse</td>\n",
              "      <td>Prof-specialty</td>\n",
              "      <td>Wife</td>\n",
              "      <td>Black</td>\n",
              "      <td>Female</td>\n",
              "      <td>0</td>\n",
              "      <td>0</td>\n",
              "      <td>40</td>\n",
              "      <td>Cuba</td>\n",
              "      <td>&lt;=50K</td>\n",
              "    </tr>\n",
              "  </tbody>\n",
              "</table>\n",
              "</div>\n",
              "      <button class=\"colab-df-convert\" onclick=\"convertToInteractive('df-33b76d78-385f-4f6a-9dd1-c13326567a6f')\"\n",
              "              title=\"Convert this dataframe to an interactive table.\"\n",
              "              style=\"display:none;\">\n",
              "        \n",
              "  <svg xmlns=\"http://www.w3.org/2000/svg\" height=\"24px\"viewBox=\"0 0 24 24\"\n",
              "       width=\"24px\">\n",
              "    <path d=\"M0 0h24v24H0V0z\" fill=\"none\"/>\n",
              "    <path d=\"M18.56 5.44l.94 2.06.94-2.06 2.06-.94-2.06-.94-.94-2.06-.94 2.06-2.06.94zm-11 1L8.5 8.5l.94-2.06 2.06-.94-2.06-.94L8.5 2.5l-.94 2.06-2.06.94zm10 10l.94 2.06.94-2.06 2.06-.94-2.06-.94-.94-2.06-.94 2.06-2.06.94z\"/><path d=\"M17.41 7.96l-1.37-1.37c-.4-.4-.92-.59-1.43-.59-.52 0-1.04.2-1.43.59L10.3 9.45l-7.72 7.72c-.78.78-.78 2.05 0 2.83L4 21.41c.39.39.9.59 1.41.59.51 0 1.02-.2 1.41-.59l7.78-7.78 2.81-2.81c.8-.78.8-2.07 0-2.86zM5.41 20L4 18.59l7.72-7.72 1.47 1.35L5.41 20z\"/>\n",
              "  </svg>\n",
              "      </button>\n",
              "      \n",
              "  <style>\n",
              "    .colab-df-container {\n",
              "      display:flex;\n",
              "      flex-wrap:wrap;\n",
              "      gap: 12px;\n",
              "    }\n",
              "\n",
              "    .colab-df-convert {\n",
              "      background-color: #E8F0FE;\n",
              "      border: none;\n",
              "      border-radius: 50%;\n",
              "      cursor: pointer;\n",
              "      display: none;\n",
              "      fill: #1967D2;\n",
              "      height: 32px;\n",
              "      padding: 0 0 0 0;\n",
              "      width: 32px;\n",
              "    }\n",
              "\n",
              "    .colab-df-convert:hover {\n",
              "      background-color: #E2EBFA;\n",
              "      box-shadow: 0px 1px 2px rgba(60, 64, 67, 0.3), 0px 1px 3px 1px rgba(60, 64, 67, 0.15);\n",
              "      fill: #174EA6;\n",
              "    }\n",
              "\n",
              "    [theme=dark] .colab-df-convert {\n",
              "      background-color: #3B4455;\n",
              "      fill: #D2E3FC;\n",
              "    }\n",
              "\n",
              "    [theme=dark] .colab-df-convert:hover {\n",
              "      background-color: #434B5C;\n",
              "      box-shadow: 0px 1px 3px 1px rgba(0, 0, 0, 0.15);\n",
              "      filter: drop-shadow(0px 1px 2px rgba(0, 0, 0, 0.3));\n",
              "      fill: #FFFFFF;\n",
              "    }\n",
              "  </style>\n",
              "\n",
              "      <script>\n",
              "        const buttonEl =\n",
              "          document.querySelector('#df-33b76d78-385f-4f6a-9dd1-c13326567a6f button.colab-df-convert');\n",
              "        buttonEl.style.display =\n",
              "          google.colab.kernel.accessAllowed ? 'block' : 'none';\n",
              "\n",
              "        async function convertToInteractive(key) {\n",
              "          const element = document.querySelector('#df-33b76d78-385f-4f6a-9dd1-c13326567a6f');\n",
              "          const dataTable =\n",
              "            await google.colab.kernel.invokeFunction('convertToInteractive',\n",
              "                                                     [key], {});\n",
              "          if (!dataTable) return;\n",
              "\n",
              "          const docLinkHtml = 'Like what you see? Visit the ' +\n",
              "            '<a target=\"_blank\" href=https://colab.research.google.com/notebooks/data_table.ipynb>data table notebook</a>'\n",
              "            + ' to learn more about interactive tables.';\n",
              "          element.innerHTML = '';\n",
              "          dataTable['output_type'] = 'display_data';\n",
              "          await google.colab.output.renderOutput(dataTable, element);\n",
              "          const docLink = document.createElement('div');\n",
              "          docLink.innerHTML = docLinkHtml;\n",
              "          element.appendChild(docLink);\n",
              "        }\n",
              "      </script>\n",
              "    </div>\n",
              "  </div>\n",
              "  "
            ]
          },
          "metadata": {},
          "execution_count": 23
        }
      ],
      "source": [
        "url = \"https://raw.githubusercontent.com/batuhansahincanel/UCIsAdultDataset/main/adult.data\" #\"https://raw.githubusercontent.com/batuhansahincanel/UCIsAdultDataset/main/adult.data\" \n",
        "names=[\"Age\", \"Workclass\", \"Final-Weight\", \"Education\", \"Education-number-of-years\", \"Marital-status\",\n",
        "        \"Occupation\", \"Relationship\", \"Race\", \"Sex\", \"Capital-gain\", \"Capital-loss\",\n",
        "        \"Hours-per-week\", \"Native-country\", \"Target\"]\n",
        "        \n",
        "adult = pd.read_csv(url, names = names)\n",
        "adult = adult.dropna()\n",
        "adult.head()"
      ]
    },
    {
      "cell_type": "markdown",
      "metadata": {
        "id": "12SLuFwL7HRF"
      },
      "source": [
        "### **Problem #1: Sex Distribution**\n",
        "---\n",
        "Complete the code below to create a bar graph for the sex distribution in this dataset. What do you notice in the visualization?"
      ]
    },
    {
      "cell_type": "code",
      "source": [
        "sex_labels = adult[\"Sex\"].# COMPLETE THIS LINE\n",
        "sex_counts = adult[\"Sex\"].# COMPLETE THIS LINE\n",
        "\n",
        "plt.# COMPLETE THIS LINE\n",
        "\n",
        "plt.title('Sex Distribution in the Data', fontweight = 'bold')\n",
        "plt.xlabel('Sex', fontweight = 'bold')\n",
        "plt.ylabel('Number of Adults', fontweight = 'bold')\n",
        "\n",
        "plt.show()"
      ],
      "metadata": {
        "id": "5BtRPrnnNe06"
      },
      "execution_count": null,
      "outputs": []
    },
    {
      "cell_type": "markdown",
      "source": [
        "#### **Solution**"
      ],
      "metadata": {
        "id": "-VGVitK3NfIK"
      }
    },
    {
      "cell_type": "code",
      "source": [
        "sex_labels = adult[\"Sex\"].unique()\n",
        "sex_counts = adult[\"Sex\"].value_counts()\n",
        "\n",
        "plt.bar(sex_labels, sex_counts, color = 'darkblue')\n",
        "\n",
        "plt.title('Sex Distribution in the Data', fontweight = 'bold')\n",
        "plt.xlabel('Sex', fontweight = 'bold')\n",
        "plt.ylabel('Number of Adults', fontweight = 'bold')\n",
        "\n",
        "plt.show()"
      ],
      "metadata": {
        "colab": {
          "base_uri": "https://localhost:8080/",
          "height": 472
        },
        "id": "vifH0MWnNfci",
        "outputId": "99167ab5-c451-44b2-ee4d-0e0e53a1ddc1"
      },
      "execution_count": null,
      "outputs": [
        {
          "output_type": "display_data",
          "data": {
            "text/plain": [
              "<Figure size 640x480 with 1 Axes>"
            ],
            "image/png": "[encoded data removed]"
          },
          "metadata": {}
        }
      ]
    },
    {
      "cell_type": "markdown",
      "metadata": {
        "id": "hjV36iXJ6FCZ"
      },
      "source": [
        "***You may have noticed that there is approximately double the amount of males than females in our data. This is a big red flag. If the data were truly representative of the US population in 1994, there would actually be 50.9% females compared to the 49.1% of males.***"
      ]
    },
    {
      "cell_type": "markdown",
      "metadata": {
        "id": "PekvfD-8OTFD"
      },
      "source": [
        "### **Problem #2: Race Distribution**\n",
        "---\n",
        "Complete the code below to create a bar graph for the race distribution in this dataset. What do you notice in the visualization?\n",
        "\n",
        "<br>\n",
        "\n",
        "Consider using the following when creating your graph to make the x-ticks more readable: `plt.xticks(rotation = 45)`."
      ]
    },
    {
      "cell_type": "code",
      "source": [
        "race_labels = # COMPLETE THIS LINE\n",
        "race_counts = # COMPLETE THIS LINE\n",
        "\n",
        "plt.# COMPLETE THIS LINE\n",
        "\n",
        "plt.title(# COMPLETE THIS LINE\n",
        "plt.xlabel(# COMPLETE THIS LINE\n",
        "plt.ylabel(# COMPLETE THIS LINE\n",
        "plt.xticks(# COMPLETE THIS LINE\n",
        "\n",
        "plt.show()"
      ],
      "metadata": {
        "id": "NDY7T73QOTFE"
      },
      "execution_count": null,
      "outputs": []
    },
    {
      "cell_type": "markdown",
      "source": [
        "#### **Solution**"
      ],
      "metadata": {
        "id": "yB4hh3rrOTFE"
      }
    },
    {
      "cell_type": "code",
      "source": [
        "race_labels = adult[\"Race\"].unique()\n",
        "race_counts = adult[\"Race\"].value_counts()\n",
        "\n",
        "plt.bar(race_labels, race_counts, color = 'red')\n",
        "\n",
        "plt.title('Demographics in the Data', fontweight = 'bold')\n",
        "plt.xlabel('Ethnicity', fontweight = 'bold')\n",
        "plt.ylabel('Number of Adults', fontweight = 'bold')\n",
        "plt.xticks(rotation = 45)\n",
        "\n",
        "plt.show()"
      ],
      "metadata": {
        "colab": {
          "base_uri": "https://localhost:8080/",
          "height": 569
        },
        "outputId": "aaf589d8-068b-467f-f5fc-b3612ddf2ff7",
        "id": "RSkznddsOTFF"
      },
      "execution_count": null,
      "outputs": [
        {
          "output_type": "display_data",
          "data": {
            "text/plain": [
              "<Figure size 640x480 with 1 Axes>"
            ],
            "image/png": "[encoded data removed]"
          },
          "metadata": {}
        }
      ]
    },
    {
      "cell_type": "markdown",
      "metadata": {
        "id": "iP_Yn0Ms7Ox9"
      },
      "source": [
        "***This part of the data is also off! In the 1990s, approximately 80% of the population was white; 12% black; 1% American Indian, Eskimo, and Aleut; 3% Asian Pacific Islander; and the final 4% falling under the 'other' category. Our visual shows approximately 85% white, 10% black, and the remainder other minorities. While this ratio is not off by as large of amount as it was for the sex distribution, this data is still misrepresenting the US population.***"
      ]
    },
    {
      "cell_type": "markdown",
      "metadata": {
        "id": "Mxs_wHnWPTBj"
      },
      "source": [
        "### **Problem #3: Education Distribution**\n",
        "---\n",
        "Create a bar graph for the education distribution in this dataset. What do you notice in the visualization?"
      ]
    },
    {
      "cell_type": "code",
      "source": [
        "# COMPLETE THIS CODE"
      ],
      "metadata": {
        "id": "2vCbiuyQPTBk"
      },
      "execution_count": null,
      "outputs": []
    },
    {
      "cell_type": "markdown",
      "source": [
        "#### **Solution**"
      ],
      "metadata": {
        "id": "sErHjnwMPTBk"
      }
    },
    {
      "cell_type": "code",
      "source": [
        "education_labels = adult[\"Education\"].unique()\n",
        "education_counts = adult[\"Education\"].value_counts()\n",
        "\n",
        "plt.bar(education_labels, education_counts, color = 'lightblue')\n",
        "\n",
        "plt.title('Education Levels in the Data', fontweight = 'bold')\n",
        "plt.xlabel('Education Level', fontweight = 'bold')\n",
        "plt.ylabel('Number of Adults', fontweight = 'bold')\n",
        "plt.xticks(rotation = 45)\n",
        "\n",
        "plt.show()"
      ],
      "metadata": {
        "colab": {
          "base_uri": "https://localhost:8080/",
          "height": 537
        },
        "id": "OqfbBXuvQCa-",
        "outputId": "00a1622c-a84a-452d-a78f-d7e53c6877d7"
      },
      "execution_count": null,
      "outputs": [
        {
          "output_type": "display_data",
          "data": {
            "text/plain": [
              "<Figure size 640x480 with 1 Axes>"
            ],
            "image/png": "[encoded data removed]"
          },
          "metadata": {}
        }
      ]
    },
    {
      "cell_type": "markdown",
      "source": [
        "***The number of highschool graduates is more than 33% compared to college graduates and almost 50% more compared to individuals with bachelor's degrees***"
      ],
      "metadata": {
        "id": "yKZJf8KkdlgD"
      }
    },
    {
      "cell_type": "markdown",
      "metadata": {
        "id": "wmS3l9rYQUjr"
      },
      "source": [
        "### **[OPTIONAL] Problem #4: Education Distribution Revised**\n",
        "---\n",
        "\n",
        "Modify your solution from above so that the counts for:\n",
        "* `1st-4th` and `5th-6th` are grouped under a new label: `Elementary`.\n",
        "* `9th`, `10th`, `11th`, `12th` are grouped under a new label: `High School`."
      ]
    },
    {
      "cell_type": "code",
      "source": [
        "# COMPLETE THIS CODE"
      ],
      "metadata": {
        "id": "keR6Z5sgQUjr"
      },
      "execution_count": null,
      "outputs": []
    },
    {
      "cell_type": "markdown",
      "source": [
        "#### **Solution**"
      ],
      "metadata": {
        "id": "PB4OPLqrQUjr"
      }
    },
    {
      "cell_type": "code",
      "source": [
        "education_dict = adult[\"Education\"].value_counts().to_dict()\n",
        "\n",
        "# Group all elementary\n",
        "education_dict[\"Elementary\"] = 0\n",
        "for value in [' 1st-4th', ' 5th-6th']:\n",
        "    education_dict[\"Elementary\"] += education_dict.pop(value)\n",
        "\n",
        "# Group all High School\n",
        "education_dict[\"High School\"] = 0\n",
        "for value in [' 9th', ' 10th', ' 11th', ' 12th']:\n",
        "    education_dict[\"High School\"] += education_dict.pop(value)\n",
        "\n",
        "education_labels = education_dict.keys()\n",
        "education_counts = education_dict.values()\n",
        "\n",
        "\n",
        "plt.bar(education_labels, education_counts, color = 'lightblue')\n",
        "\n",
        "plt.title('Education Levels in the Data', fontweight = 'bold')\n",
        "plt.xlabel('Education Level', fontweight = 'bold')\n",
        "plt.ylabel('Number of Adults', fontweight = 'bold')\n",
        "plt.xticks(rotation = 45)\n",
        "\n",
        "plt.show()"
      ],
      "metadata": {
        "colab": {
          "base_uri": "https://localhost:8080/",
          "height": 537
        },
        "id": "cL-NQyKyPgzZ",
        "outputId": "053b9bcd-a9d5-4762-ddad-8a5745a69c94"
      },
      "execution_count": null,
      "outputs": [
        {
          "output_type": "display_data",
          "data": {
            "text/plain": [
              "<Figure size 640x480 with 1 Axes>"
            ],
            "image/png": "[encoded data removed]"
          },
          "metadata": {}
        }
      ]
    },
    {
      "cell_type": "markdown",
      "metadata": {
        "id": "mAzN3_hNRA89"
      },
      "source": [
        "### **Problem #5: Income Distribution**\n",
        "---\n",
        "\n",
        "Create a bar graph for the target (income above or below 50K). What do you notice?"
      ]
    },
    {
      "cell_type": "code",
      "source": [
        "# COMPLETE THIS CODE"
      ],
      "metadata": {
        "id": "HRjQ9u6VRA8-"
      },
      "execution_count": null,
      "outputs": []
    },
    {
      "cell_type": "markdown",
      "source": [
        "#### **Solution**"
      ],
      "metadata": {
        "id": "4GTCPRKjRA8-"
      }
    },
    {
      "cell_type": "code",
      "source": [
        "target_labels = adult[\"Target\"].unique()\n",
        "target_counts = adult[\"Target\"].value_counts()\n",
        "\n",
        "plt.bar(target_labels, target_counts, color = 'darkblue')\n",
        "\n",
        "plt.title('Income Levels in the Data', fontweight = 'bold')\n",
        "plt.xlabel('Income Level', fontweight = 'bold')\n",
        "plt.ylabel('Number of Adults', fontweight = 'bold')\n",
        "\n",
        "plt.show()"
      ],
      "metadata": {
        "colab": {
          "base_uri": "https://localhost:8080/",
          "height": 472
        },
        "outputId": "a7346a76-4aa1-4d8b-bae8-1ae414ccb3a6",
        "id": "euqwIGv_RA8-"
      },
      "execution_count": null,
      "outputs": [
        {
          "output_type": "display_data",
          "data": {
            "text/plain": [
              "<Figure size 640x480 with 1 Axes>"
            ],
            "image/png": "[encoded data removed]"
          },
          "metadata": {}
        }
      ]
    },
    {
      "cell_type": "markdown",
      "metadata": {
        "id": "HK_twNzlCUEh"
      },
      "source": [
        "***While we do not have as much information about the exact values of earnings for the year 1994, we must remember that this is our target data. It would be ideal to have equal amounts of both categories for our model.***"
      ]
    },
    {
      "cell_type": "markdown",
      "metadata": {
        "id": "gJ8eXh9WRT9Y"
      },
      "source": [
        "### **Problem #6: Target by Sex**\n",
        "---\n",
        "\n",
        "Create a new feature, `Target by Sex`, that designates any person with:\n",
        "* `Target` of `' <=50K'` and `Sex` of `' Male'` as `'Male <=50K'`.\n",
        "* `Target` of `' <=50K'` and `Sex` of `' Female'` as `'Female <=50K'`.\n",
        "* `Target` of `' >50K'` and `Sex` of `' Male'` as `'Male >50K'`.\n",
        "* `Target` of `' >50K'` and `Sex` of `' Female'` as `'Female >50K'`.\n",
        "\n",
        "\n",
        "Then create a bar plot of this feature."
      ]
    },
    {
      "cell_type": "code",
      "source": [
        "# COMPLETE THIS CODE"
      ],
      "metadata": {
        "id": "JJHRFj6wRT9Y"
      },
      "execution_count": null,
      "outputs": []
    },
    {
      "cell_type": "markdown",
      "source": [
        "#### **Solution**"
      ],
      "metadata": {
        "id": "L9L7nfRxRT9Z"
      }
    },
    {
      "cell_type": "code",
      "source": [
        "adult.loc[(adult['Target'] == ' <=50K') & (adult['Sex'] == ' Male'), 'Target by Sex'] = 'Male <=50K'\n",
        "adult.loc[(adult['Target'] == ' <=50K') & (adult['Sex'] == ' Female'), 'Target by Sex'] = 'Female <=50K'\n",
        "adult.loc[(adult['Target'] == ' >50K') & (adult['Sex'] == ' Male'), 'Target by Sex'] = 'Male >50K'\n",
        "adult.loc[(adult['Target'] == ' >50K') & (adult['Sex'] == ' Female'), 'Target by Sex'] = 'Female >50K'\n",
        "\n",
        "target_by_sex_labels = adult[\"Target by Sex\"].unique()\n",
        "target_by_sex_counts = adult[\"Target by Sex\"].value_counts()\n",
        "\n",
        "plt.bar(target_by_sex_labels, target_by_sex_counts, color = 'darkblue')\n",
        "\n",
        "plt.title('Income Levels by Sex in the Data', fontweight = 'bold')\n",
        "plt.xlabel('Income Level', fontweight = 'bold')\n",
        "plt.ylabel('Number of Adults', fontweight = 'bold')\n",
        "plt.xticks(rotation = 45)\n",
        "\n",
        "plt.show()"
      ],
      "metadata": {
        "colab": {
          "base_uri": "https://localhost:8080/",
          "height": 541
        },
        "outputId": "10ac11b9-a258-4430-bc2c-6577d4414126",
        "id": "D0BA2AS4RT9Z"
      },
      "execution_count": null,
      "outputs": [
        {
          "output_type": "display_data",
          "data": {
            "text/plain": [
              "<Figure size 640x480 with 1 Axes>"
            ],
            "image/png": "[encoded data removed]"
          },
          "metadata": {}
        }
      ]
    },
    {
      "cell_type": "markdown",
      "metadata": {
        "id": "hsTVopIGCoUW"
      },
      "source": [
        "***This visual is extremely important. If we were to use sex in our model, we could easily be overfitting to the female population since our dataset for that section is much smaller than the rest of the data. Furthermore, there is not even 2,000 data points for females earning over 50K (less than 6% of our data).***"
      ]
    },
    {
      "cell_type": "markdown",
      "metadata": {
        "id": "DmqbxTGdIXlV"
      },
      "source": [
        "<a name=\"p2\"></a>\n",
        "\n",
        "---\n",
        "## **Part 2: Using AWS Clarify to Identify Bias**\n",
        "---\n",
        "\n",
        "In this section, we are going to use Clarify to identify bias. This method is *much faster* than creating bar graphs for every column.\n",
        "\n",
        "Here is a AWS Clarify [cheatsheet](https://docs.google.com/document/d/1SPnA_Bqewm3tG2gLF_SmG2DIKdm9Jinm1cRBoURv1yw/edit?usp=sharing) for interpretting results.\n",
        "\n",
        "<br>\n",
        "\n",
        "**NOTE**: Steps #1 - 2 have already been taken care of above."
      ]
    },
    {
      "cell_type": "markdown",
      "source": [
        "### **Step #3: Denote the facet column, the label column, and the group variable.**\n",
        "---\n",
        "\n",
        "Set the:\n",
        "* Facet column as `Sex`.\n",
        "* Label column with `Target` as the target column and `' >50K'` as the positive label.\n",
        "* `Sex` as the group variable."
      ],
      "metadata": {
        "id": "Oz1fxr_Ho2M9"
      }
    },
    {
      "cell_type": "code",
      "source": [
        "facet_column = FacetColumn(# COMPLETE THIS LINE\n",
        "label_column = LabelColumn(# COMPLETE THIS LINE\n",
        "group_variable = # COMPLETE THIS LINE"
      ],
      "metadata": {
        "id": "5T211wR_WOmh"
      },
      "execution_count": null,
      "outputs": []
    },
    {
      "cell_type": "markdown",
      "source": [
        "#### **Solution**"
      ],
      "metadata": {
        "id": "1x_0-PiLWO-7"
      }
    },
    {
      "cell_type": "code",
      "execution_count": null,
      "metadata": {
        "id": "GzqF5TwC5V0i"
      },
      "outputs": [],
      "source": [
        "facet_column = FacetColumn('Sex')\n",
        "label_column = LabelColumn('Target', adult['Target'], [' >50K'])\n",
        "group_variable = adult['Sex']"
      ]
    },
    {
      "cell_type": "markdown",
      "source": [
        "### **Step #4: Generate bias report.**\n",
        "---\n",
        "Check out this [cheatsheet](https://docs.google.com/document/d/1SPnA_Bqewm3tG2gLF_SmG2DIKdm9Jinm1cRBoURv1yw/edit?usp=sharing) for how to interpret pre-training metrics. Using this page, interpret what the following report is saying.\n",
        "\n",
        "<br>\n",
        "\n",
        "**Run the cell below to generate your bias report.**"
      ],
      "metadata": {
        "id": "heQjrb8ko7hV"
      }
    },
    {
      "cell_type": "code",
      "execution_count": null,
      "metadata": {
        "id": "BUmS-Ol_5V0i",
        "colab": {
          "base_uri": "https://localhost:8080/"
        },
        "outputId": "b1716d1e-cbe0-40c0-ff83-dab9252f0b67"
      },
      "outputs": [
        {
          "output_type": "stream",
          "name": "stdout",
          "text": [
            "\n",
            "\n",
            " -----------------------------------\n",
            "---------------  Male ---------------\n",
            "Conditional Demographic Disparity in Labels (CDDL): 0.0\n",
            "Class Imbalance (CI): -0.33841098246368356\n",
            "Difference in Positive Proportions in Labels (DPL): -0.19627598779361352\n",
            "Jensen-Shannon Divergence (JS): 0.030241092804852217\n",
            "Kullback-Liebler Divergence (KL): 0.10928938730742264\n",
            "Kolmogorov-Smirnov Distance (KS): 0.19627598779361355\n",
            "L-p Norm (LP): 0.27757616390590434\n",
            "Total Variation Distance (TVD): 0.19627598779361355\n",
            "\n",
            "\n",
            " -----------------------------------\n",
            "---------------  Female ---------------\n",
            "Conditional Demographic Disparity in Labels (CDDL): 0.0\n",
            "Class Imbalance (CI): 0.33841098246368356\n",
            "Difference in Positive Proportions in Labels (DPL): 0.19627598779361352\n",
            "Jensen-Shannon Divergence (JS): 0.030241092804852217\n",
            "Kullback-Liebler Divergence (KL): 0.14118531053076427\n",
            "Kolmogorov-Smirnov Distance (KS): 0.19627598779361355\n",
            "L-p Norm (LP): 0.27757616390590434\n",
            "Total Variation Distance (TVD): 0.19627598779361355\n"
          ]
        }
      ],
      "source": [
        "report = bias_report(adult, facet_column, label_column, stage_type=StageType.PRE_TRAINING, group_variable=group_variable)\n",
        "\n",
        "# use this to print your report - call it \"report\" for the code to work\n",
        "for cl in report:\n",
        "    print(\"\\n\\n\",\"-\"*35)\n",
        "    print(\"-\"*15, cl[\"value_or_threshold\"], \"-\"*15)\n",
        "    for metric in cl['metrics']:\n",
        "        print(f\"{metric['description']}: {metric['value']}\")"
      ]
    },
    {
      "cell_type": "markdown",
      "metadata": {
        "id": "DDBZLr4m5V0i"
      },
      "source": [
        "### **Step #5 Look at the imbalance.**\n",
        "---\n",
        "\n",
        "Use the [cheatsheet](https://docs.google.com/document/d/1SPnA_Bqewm3tG2gLF_SmG2DIKdm9Jinm1cRBoURv1yw/edit?usp=sharing) provided to interpret what the bias report is telling you. "
      ]
    },
    {
      "cell_type": "code",
      "source": [
        "# Write Male Results here"
      ],
      "metadata": {
        "id": "R-nNr8AaEP1u"
      },
      "execution_count": null,
      "outputs": []
    },
    {
      "cell_type": "code",
      "source": [
        "# Write Female Results"
      ],
      "metadata": {
        "id": "Vbb4ZiyEXTzj"
      },
      "execution_count": null,
      "outputs": []
    },
    {
      "cell_type": "markdown",
      "source": [
        "####**Solution**"
      ],
      "metadata": {
        "id": "Xm4Kcg2pEQBp"
      }
    },
    {
      "cell_type": "markdown",
      "source": [
        "**Male**\n",
        "* CDD - no demographic disparity\n",
        "* CI - has more training samples\n",
        "* DPL - higher proportion of positive outcomes\n",
        "* JS - similarly distributed labels\n",
        "* KL - diverge (but not by a lot)\n",
        "* KS - relative imbalance\n",
        "* LP - diverge\n",
        "* TVD - not very similarly distributed\n",
        "\n",
        "<br>\n",
        "\n",
        "**Female**\n",
        "* CDD - no demographic disparity\n",
        "* CI - has fewer training samples\n",
        "* DPL - lower proportion of positive outcomes\n",
        "* JS - similarly distributed labels\n",
        "* KL - diverge (but not by a lot)\n",
        "* KS - relative imbalance\n",
        "* LP - diverge\n",
        "* TVD - not very similarly distributed"
      ],
      "metadata": {
        "id": "xSj2tmVTEReq"
      }
    },
    {
      "cell_type": "markdown",
      "source": [
        "<a name=\"p3\"></a>\n",
        "\n",
        "---\n",
        "## **Part 3: Mitigating Bias**\n",
        "---\n",
        "In this section, we will implement a KNN model before and after using different techniques for mitigating bias."
      ],
      "metadata": {
        "id": "wt9l2sGtF7ZG"
      }
    },
    {
      "cell_type": "markdown",
      "source": [
        "### **Problem #1: Convert `Sex` to numerical values.**\n",
        "\n",
        "We need to convert any non-numerical binary values into numerical ones that can be used by our model. Specifically convert,\n",
        "* `Sex` from `' Female'` and `' Male'` to 0 and 1 respectively.\n",
        "\n",
        "<br>\n",
        "\n",
        "**NOTE**: There are several ways you could do this that you have learned, including label encoding."
      ],
      "metadata": {
        "id": "ovgPUZBwjOAe"
      }
    },
    {
      "cell_type": "code",
      "source": [
        "# COMPLETE THIS CODE"
      ],
      "metadata": {
        "id": "RGOrRb7Cazwj"
      },
      "execution_count": null,
      "outputs": []
    },
    {
      "cell_type": "markdown",
      "source": [
        "#### **Solution**"
      ],
      "metadata": {
        "id": "ERlVQhnSZ6NY"
      }
    },
    {
      "cell_type": "code",
      "source": [
        "sex_map = {' Female': 0, ' Male': 1}\n",
        "\n",
        "adult['Sex'] = adult['Sex'].map(sex_map)\n",
        "\n",
        "adult.head()"
      ],
      "metadata": {
        "colab": {
          "base_uri": "https://localhost:8080/",
          "height": 392
        },
        "id": "yIHrUwGYauTj",
        "outputId": "1d71869e-1c4c-4623-b09a-c99d82c02fb8"
      },
      "execution_count": null,
      "outputs": [
        {
          "output_type": "execute_result",
          "data": {
            "text/plain": [
              "   Age          Workclass  Final-Weight   Education  \\\n",
              "0   39          State-gov         77516   Bachelors   \n",
              "1   50   Self-emp-not-inc         83311   Bachelors   \n",
              "2   38            Private        215646     HS-grad   \n",
              "3   53            Private        234721        11th   \n",
              "4   28            Private        338409   Bachelors   \n",
              "\n",
              "   Education-number-of-years       Marital-status          Occupation  \\\n",
              "0                         13        Never-married        Adm-clerical   \n",
              "1                         13   Married-civ-spouse     Exec-managerial   \n",
              "2                          9             Divorced   Handlers-cleaners   \n",
              "3                          7   Married-civ-spouse   Handlers-cleaners   \n",
              "4                         13   Married-civ-spouse      Prof-specialty   \n",
              "\n",
              "     Relationship    Race  Sex  Capital-gain  Capital-loss  Hours-per-week  \\\n",
              "0   Not-in-family   White    1          2174             0              40   \n",
              "1         Husband   White    1             0             0              13   \n",
              "2   Not-in-family   White    1             0             0              40   \n",
              "3         Husband   Black    1             0             0              40   \n",
              "4            Wife   Black    0             0             0              40   \n",
              "\n",
              "   Native-country  Target  \n",
              "0   United-States   <=50K  \n",
              "1   United-States   <=50K  \n",
              "2   United-States   <=50K  \n",
              "3   United-States   <=50K  \n",
              "4            Cuba   <=50K  "
            ],
            "text/html": [
              "\n",
              "  <div id=\"df-474d4946-a34c-4f70-bf45-d2abec32cfc9\">\n",
              "    <div class=\"colab-df-container\">\n",
              "      <div>\n",
              "<style scoped>\n",
              "    .dataframe tbody tr th:only-of-type {\n",
              "        vertical-align: middle;\n",
              "    }\n",
              "\n",
              "    .dataframe tbody tr th {\n",
              "        vertical-align: top;\n",
              "    }\n",
              "\n",
              "    .dataframe thead th {\n",
              "        text-align: right;\n",
              "    }\n",
              "</style>\n",
              "<table border=\"1\" class=\"dataframe\">\n",
              "  <thead>\n",
              "    <tr style=\"text-align: right;\">\n",
              "      <th></th>\n",
              "      <th>Age</th>\n",
              "      <th>Workclass</th>\n",
              "      <th>Final-Weight</th>\n",
              "      <th>Education</th>\n",
              "      <th>Education-number-of-years</th>\n",
              "      <th>Marital-status</th>\n",
              "      <th>Occupation</th>\n",
              "      <th>Relationship</th>\n",
              "      <th>Race</th>\n",
              "      <th>Sex</th>\n",
              "      <th>Capital-gain</th>\n",
              "      <th>Capital-loss</th>\n",
              "      <th>Hours-per-week</th>\n",
              "      <th>Native-country</th>\n",
              "      <th>Target</th>\n",
              "    </tr>\n",
              "  </thead>\n",
              "  <tbody>\n",
              "    <tr>\n",
              "      <th>0</th>\n",
              "      <td>39</td>\n",
              "      <td>State-gov</td>\n",
              "      <td>77516</td>\n",
              "      <td>Bachelors</td>\n",
              "      <td>13</td>\n",
              "      <td>Never-married</td>\n",
              "      <td>Adm-clerical</td>\n",
              "      <td>Not-in-family</td>\n",
              "      <td>White</td>\n",
              "      <td>1</td>\n",
              "      <td>2174</td>\n",
              "      <td>0</td>\n",
              "      <td>40</td>\n",
              "      <td>United-States</td>\n",
              "      <td>&lt;=50K</td>\n",
              "    </tr>\n",
              "    <tr>\n",
              "      <th>1</th>\n",
              "      <td>50</td>\n",
              "      <td>Self-emp-not-inc</td>\n",
              "      <td>83311</td>\n",
              "      <td>Bachelors</td>\n",
              "      <td>13</td>\n",
              "      <td>Married-civ-spouse</td>\n",
              "      <td>Exec-managerial</td>\n",
              "      <td>Husband</td>\n",
              "      <td>White</td>\n",
              "      <td>1</td>\n",
              "      <td>0</td>\n",
              "      <td>0</td>\n",
              "      <td>13</td>\n",
              "      <td>United-States</td>\n",
              "      <td>&lt;=50K</td>\n",
              "    </tr>\n",
              "    <tr>\n",
              "      <th>2</th>\n",
              "      <td>38</td>\n",
              "      <td>Private</td>\n",
              "      <td>215646</td>\n",
              "      <td>HS-grad</td>\n",
              "      <td>9</td>\n",
              "      <td>Divorced</td>\n",
              "      <td>Handlers-cleaners</td>\n",
              "      <td>Not-in-family</td>\n",
              "      <td>White</td>\n",
              "      <td>1</td>\n",
              "      <td>0</td>\n",
              "      <td>0</td>\n",
              "      <td>40</td>\n",
              "      <td>United-States</td>\n",
              "      <td>&lt;=50K</td>\n",
              "    </tr>\n",
              "    <tr>\n",
              "      <th>3</th>\n",
              "      <td>53</td>\n",
              "      <td>Private</td>\n",
              "      <td>234721</td>\n",
              "      <td>11th</td>\n",
              "      <td>7</td>\n",
              "      <td>Married-civ-spouse</td>\n",
              "      <td>Handlers-cleaners</td>\n",
              "      <td>Husband</td>\n",
              "      <td>Black</td>\n",
              "      <td>1</td>\n",
              "      <td>0</td>\n",
              "      <td>0</td>\n",
              "      <td>40</td>\n",
              "      <td>United-States</td>\n",
              "      <td>&lt;=50K</td>\n",
              "    </tr>\n",
              "    <tr>\n",
              "      <th>4</th>\n",
              "      <td>28</td>\n",
              "      <td>Private</td>\n",
              "      <td>338409</td>\n",
              "      <td>Bachelors</td>\n",
              "      <td>13</td>\n",
              "      <td>Married-civ-spouse</td>\n",
              "      <td>Prof-specialty</td>\n",
              "      <td>Wife</td>\n",
              "      <td>Black</td>\n",
              "      <td>0</td>\n",
              "      <td>0</td>\n",
              "      <td>0</td>\n",
              "      <td>40</td>\n",
              "      <td>Cuba</td>\n",
              "      <td>&lt;=50K</td>\n",
              "    </tr>\n",
              "  </tbody>\n",
              "</table>\n",
              "</div>\n",
              "      <button class=\"colab-df-convert\" onclick=\"convertToInteractive('df-474d4946-a34c-4f70-bf45-d2abec32cfc9')\"\n",
              "              title=\"Convert this dataframe to an interactive table.\"\n",
              "              style=\"display:none;\">\n",
              "        \n",
              "  <svg xmlns=\"http://www.w3.org/2000/svg\" height=\"24px\"viewBox=\"0 0 24 24\"\n",
              "       width=\"24px\">\n",
              "    <path d=\"M0 0h24v24H0V0z\" fill=\"none\"/>\n",
              "    <path d=\"M18.56 5.44l.94 2.06.94-2.06 2.06-.94-2.06-.94-.94-2.06-.94 2.06-2.06.94zm-11 1L8.5 8.5l.94-2.06 2.06-.94-2.06-.94L8.5 2.5l-.94 2.06-2.06.94zm10 10l.94 2.06.94-2.06 2.06-.94-2.06-.94-.94-2.06-.94 2.06-2.06.94z\"/><path d=\"M17.41 7.96l-1.37-1.37c-.4-.4-.92-.59-1.43-.59-.52 0-1.04.2-1.43.59L10.3 9.45l-7.72 7.72c-.78.78-.78 2.05 0 2.83L4 21.41c.39.39.9.59 1.41.59.51 0 1.02-.2 1.41-.59l7.78-7.78 2.81-2.81c.8-.78.8-2.07 0-2.86zM5.41 20L4 18.59l7.72-7.72 1.47 1.35L5.41 20z\"/>\n",
              "  </svg>\n",
              "      </button>\n",
              "      \n",
              "  <style>\n",
              "    .colab-df-container {\n",
              "      display:flex;\n",
              "      flex-wrap:wrap;\n",
              "      gap: 12px;\n",
              "    }\n",
              "\n",
              "    .colab-df-convert {\n",
              "      background-color: #E8F0FE;\n",
              "      border: none;\n",
              "      border-radius: 50%;\n",
              "      cursor: pointer;\n",
              "      display: none;\n",
              "      fill: #1967D2;\n",
              "      height: 32px;\n",
              "      padding: 0 0 0 0;\n",
              "      width: 32px;\n",
              "    }\n",
              "\n",
              "    .colab-df-convert:hover {\n",
              "      background-color: #E2EBFA;\n",
              "      box-shadow: 0px 1px 2px rgba(60, 64, 67, 0.3), 0px 1px 3px 1px rgba(60, 64, 67, 0.15);\n",
              "      fill: #174EA6;\n",
              "    }\n",
              "\n",
              "    [theme=dark] .colab-df-convert {\n",
              "      background-color: #3B4455;\n",
              "      fill: #D2E3FC;\n",
              "    }\n",
              "\n",
              "    [theme=dark] .colab-df-convert:hover {\n",
              "      background-color: #434B5C;\n",
              "      box-shadow: 0px 1px 3px 1px rgba(0, 0, 0, 0.15);\n",
              "      filter: drop-shadow(0px 1px 2px rgba(0, 0, 0, 0.3));\n",
              "      fill: #FFFFFF;\n",
              "    }\n",
              "  </style>\n",
              "\n",
              "      <script>\n",
              "        const buttonEl =\n",
              "          document.querySelector('#df-474d4946-a34c-4f70-bf45-d2abec32cfc9 button.colab-df-convert');\n",
              "        buttonEl.style.display =\n",
              "          google.colab.kernel.accessAllowed ? 'block' : 'none';\n",
              "\n",
              "        async function convertToInteractive(key) {\n",
              "          const element = document.querySelector('#df-474d4946-a34c-4f70-bf45-d2abec32cfc9');\n",
              "          const dataTable =\n",
              "            await google.colab.kernel.invokeFunction('convertToInteractive',\n",
              "                                                     [key], {});\n",
              "          if (!dataTable) return;\n",
              "\n",
              "          const docLinkHtml = 'Like what you see? Visit the ' +\n",
              "            '<a target=\"_blank\" href=https://colab.research.google.com/notebooks/data_table.ipynb>data table notebook</a>'\n",
              "            + ' to learn more about interactive tables.';\n",
              "          element.innerHTML = '';\n",
              "          dataTable['output_type'] = 'display_data';\n",
              "          await google.colab.output.renderOutput(dataTable, element);\n",
              "          const docLink = document.createElement('div');\n",
              "          docLink.innerHTML = docLinkHtml;\n",
              "          element.appendChild(docLink);\n",
              "        }\n",
              "      </script>\n",
              "    </div>\n",
              "  </div>\n",
              "  "
            ]
          },
          "metadata": {},
          "execution_count": 24
        }
      ]
    },
    {
      "cell_type": "markdown",
      "metadata": {
        "id": "zzuVpJmTaop7"
      },
      "source": [
        "### **Problem #2: Dummy variable encode non-numerical categorical variables.**\n",
        "\n",
        "Dummy variable encode the following non-numerical categorical variables:\n",
        "* `Workclass`\n",
        "* `Education`\n",
        "* `Marital-status`\n",
        "* `Occupation`\n",
        "* `Relationship`\n",
        "* `Race`\n",
        "* `Native-country`\n",
        "\n",
        "<br>\n",
        "\n",
        "**NOTE**: Now that you have seen how to do this in yesterday's lab, you can use just one `OneHotEncoder` to transform all these variables at once."
      ]
    },
    {
      "cell_type": "code",
      "source": [
        "# Create the new dataframe\n",
        "new_adult = adult.drop(columns = ['Workclass', 'Education', 'Marital-status', 'Occupation', 'Relationship', 'Race', 'Native-country', 'Target by Sex'], axis = 1)\n",
        "\n",
        "# Create the encoder and transform the desired columns\n",
        "ohe = OneHotEncoder(drop = 'first', sparse_output = False)\n",
        "ohe.set_output(transform = 'pandas')\n",
        "\n",
        "transformed = ohe.fit_transform(adult[[# COMPLETE THIS LINE BY LISTING ALL COLUMNS TO ENCODE\n",
        "\n",
        "# Create the new dataframe\n",
        "new_adult[# COMPLETE THIS LINE\n",
        "\n",
        "\n",
        "new_adult.head()"
      ],
      "metadata": {
        "id": "cC59NltvcnPI"
      },
      "execution_count": null,
      "outputs": []
    },
    {
      "cell_type": "markdown",
      "source": [
        "#### **Solution**"
      ],
      "metadata": {
        "id": "LNt6_OX6cn4x"
      }
    },
    {
      "cell_type": "code",
      "source": [
        "# Create the new dataframe\n",
        "new_adult = adult.drop(columns = ['Workclass', 'Education', 'Marital-status', 'Occupation', 'Relationship', 'Race', 'Native-country', 'Target by Sex'], axis = 1)\n",
        "\n",
        "# Create the encoder and transform the desired columns\n",
        "ohe = OneHotEncoder(drop = 'first', sparse_output = False)\n",
        "ohe.set_output(transform = 'pandas')\n",
        "\n",
        "transformed = ohe.fit_transform(adult[['Workclass', 'Education', 'Marital-status', 'Occupation', 'Relationship', 'Race', 'Native-country']])\n",
        "\n",
        "# Create the new dataframe\n",
        "new_adult[transformed.columns] = transformed\n",
        "\n",
        "\n",
        "new_adult.head()"
      ],
      "metadata": {
        "colab": {
          "base_uri": "https://localhost:8080/",
          "height": 314
        },
        "id": "UE8uqxdFbqNO",
        "outputId": "d70952a7-e653-446e-aff6-2c8c6cfac830"
      },
      "execution_count": null,
      "outputs": [
        {
          "output_type": "execute_result",
          "data": {
            "text/plain": [
              "   Age  Final-Weight  Education-number-of-years  Sex  Capital-gain  \\\n",
              "0   39         77516                         13    1          2174   \n",
              "1   50         83311                         13    1             0   \n",
              "2   38        215646                          9    1             0   \n",
              "3   53        234721                          7    1             0   \n",
              "4   28        338409                         13    0             0   \n",
              "\n",
              "   Capital-loss  Hours-per-week  Target  Workclass_ Federal-gov  \\\n",
              "0             0              40   <=50K                     0.0   \n",
              "1             0              13   <=50K                     0.0   \n",
              "2             0              40   <=50K                     0.0   \n",
              "3             0              40   <=50K                     0.0   \n",
              "4             0              40   <=50K                     0.0   \n",
              "\n",
              "   Workclass_ Local-gov  ...  Native-country_ Portugal  \\\n",
              "0                   0.0  ...                       0.0   \n",
              "1                   0.0  ...                       0.0   \n",
              "2                   0.0  ...                       0.0   \n",
              "3                   0.0  ...                       0.0   \n",
              "4                   0.0  ...                       0.0   \n",
              "\n",
              "   Native-country_ Puerto-Rico  Native-country_ Scotland  \\\n",
              "0                          0.0                       0.0   \n",
              "1                          0.0                       0.0   \n",
              "2                          0.0                       0.0   \n",
              "3                          0.0                       0.0   \n",
              "4                          0.0                       0.0   \n",
              "\n",
              "   Native-country_ South  Native-country_ Taiwan  Native-country_ Thailand  \\\n",
              "0                    0.0                     0.0                       0.0   \n",
              "1                    0.0                     0.0                       0.0   \n",
              "2                    0.0                     0.0                       0.0   \n",
              "3                    0.0                     0.0                       0.0   \n",
              "4                    0.0                     0.0                       0.0   \n",
              "\n",
              "   Native-country_ Trinadad&Tobago  Native-country_ United-States  \\\n",
              "0                              0.0                            1.0   \n",
              "1                              0.0                            1.0   \n",
              "2                              0.0                            1.0   \n",
              "3                              0.0                            1.0   \n",
              "4                              0.0                            0.0   \n",
              "\n",
              "   Native-country_ Vietnam  Native-country_ Yugoslavia  \n",
              "0                      0.0                         0.0  \n",
              "1                      0.0                         0.0  \n",
              "2                      0.0                         0.0  \n",
              "3                      0.0                         0.0  \n",
              "4                      0.0                         0.0  \n",
              "\n",
              "[5 rows x 101 columns]"
            ],
            "text/html": [
              "\n",
              "  <div id=\"df-2556dcab-a623-463f-b636-e0bc4bae424a\">\n",
              "    <div class=\"colab-df-container\">\n",
              "      <div>\n",
              "<style scoped>\n",
              "    .dataframe tbody tr th:only-of-type {\n",
              "        vertical-align: middle;\n",
              "    }\n",
              "\n",
              "    .dataframe tbody tr th {\n",
              "        vertical-align: top;\n",
              "    }\n",
              "\n",
              "    .dataframe thead th {\n",
              "        text-align: right;\n",
              "    }\n",
              "</style>\n",
              "<table border=\"1\" class=\"dataframe\">\n",
              "  <thead>\n",
              "    <tr style=\"text-align: right;\">\n",
              "      <th></th>\n",
              "      <th>Age</th>\n",
              "      <th>Final-Weight</th>\n",
              "      <th>Education-number-of-years</th>\n",
              "      <th>Sex</th>\n",
              "      <th>Capital-gain</th>\n",
              "      <th>Capital-loss</th>\n",
              "      <th>Hours-per-week</th>\n",
              "      <th>Target</th>\n",
              "      <th>Workclass_ Federal-gov</th>\n",
              "      <th>Workclass_ Local-gov</th>\n",
              "      <th>...</th>\n",
              "      <th>Native-country_ Portugal</th>\n",
              "      <th>Native-country_ Puerto-Rico</th>\n",
              "      <th>Native-country_ Scotland</th>\n",
              "      <th>Native-country_ South</th>\n",
              "      <th>Native-country_ Taiwan</th>\n",
              "      <th>Native-country_ Thailand</th>\n",
              "      <th>Native-country_ Trinadad&amp;Tobago</th>\n",
              "      <th>Native-country_ United-States</th>\n",
              "      <th>Native-country_ Vietnam</th>\n",
              "      <th>Native-country_ Yugoslavia</th>\n",
              "    </tr>\n",
              "  </thead>\n",
              "  <tbody>\n",
              "    <tr>\n",
              "      <th>0</th>\n",
              "      <td>39</td>\n",
              "      <td>77516</td>\n",
              "      <td>13</td>\n",
              "      <td>1</td>\n",
              "      <td>2174</td>\n",
              "      <td>0</td>\n",
              "      <td>40</td>\n",
              "      <td>&lt;=50K</td>\n",
              "      <td>0.0</td>\n",
              "      <td>0.0</td>\n",
              "      <td>...</td>\n",
              "      <td>0.0</td>\n",
              "      <td>0.0</td>\n",
              "      <td>0.0</td>\n",
              "      <td>0.0</td>\n",
              "      <td>0.0</td>\n",
              "      <td>0.0</td>\n",
              "      <td>0.0</td>\n",
              "      <td>1.0</td>\n",
              "      <td>0.0</td>\n",
              "      <td>0.0</td>\n",
              "    </tr>\n",
              "    <tr>\n",
              "      <th>1</th>\n",
              "      <td>50</td>\n",
              "      <td>83311</td>\n",
              "      <td>13</td>\n",
              "      <td>1</td>\n",
              "      <td>0</td>\n",
              "      <td>0</td>\n",
              "      <td>13</td>\n",
              "      <td>&lt;=50K</td>\n",
              "      <td>0.0</td>\n",
              "      <td>0.0</td>\n",
              "      <td>...</td>\n",
              "      <td>0.0</td>\n",
              "      <td>0.0</td>\n",
              "      <td>0.0</td>\n",
              "      <td>0.0</td>\n",
              "      <td>0.0</td>\n",
              "      <td>0.0</td>\n",
              "      <td>0.0</td>\n",
              "      <td>1.0</td>\n",
              "      <td>0.0</td>\n",
              "      <td>0.0</td>\n",
              "    </tr>\n",
              "    <tr>\n",
              "      <th>2</th>\n",
              "      <td>38</td>\n",
              "      <td>215646</td>\n",
              "      <td>9</td>\n",
              "      <td>1</td>\n",
              "      <td>0</td>\n",
              "      <td>0</td>\n",
              "      <td>40</td>\n",
              "      <td>&lt;=50K</td>\n",
              "      <td>0.0</td>\n",
              "      <td>0.0</td>\n",
              "      <td>...</td>\n",
              "      <td>0.0</td>\n",
              "      <td>0.0</td>\n",
              "      <td>0.0</td>\n",
              "      <td>0.0</td>\n",
              "      <td>0.0</td>\n",
              "      <td>0.0</td>\n",
              "      <td>0.0</td>\n",
              "      <td>1.0</td>\n",
              "      <td>0.0</td>\n",
              "      <td>0.0</td>\n",
              "    </tr>\n",
              "    <tr>\n",
              "      <th>3</th>\n",
              "      <td>53</td>\n",
              "      <td>234721</td>\n",
              "      <td>7</td>\n",
              "      <td>1</td>\n",
              "      <td>0</td>\n",
              "      <td>0</td>\n",
              "      <td>40</td>\n",
              "      <td>&lt;=50K</td>\n",
              "      <td>0.0</td>\n",
              "      <td>0.0</td>\n",
              "      <td>...</td>\n",
              "      <td>0.0</td>\n",
              "      <td>0.0</td>\n",
              "      <td>0.0</td>\n",
              "      <td>0.0</td>\n",
              "      <td>0.0</td>\n",
              "      <td>0.0</td>\n",
              "      <td>0.0</td>\n",
              "      <td>1.0</td>\n",
              "      <td>0.0</td>\n",
              "      <td>0.0</td>\n",
              "    </tr>\n",
              "    <tr>\n",
              "      <th>4</th>\n",
              "      <td>28</td>\n",
              "      <td>338409</td>\n",
              "      <td>13</td>\n",
              "      <td>0</td>\n",
              "      <td>0</td>\n",
              "      <td>0</td>\n",
              "      <td>40</td>\n",
              "      <td>&lt;=50K</td>\n",
              "      <td>0.0</td>\n",
              "      <td>0.0</td>\n",
              "      <td>...</td>\n",
              "      <td>0.0</td>\n",
              "      <td>0.0</td>\n",
              "      <td>0.0</td>\n",
              "      <td>0.0</td>\n",
              "      <td>0.0</td>\n",
              "      <td>0.0</td>\n",
              "      <td>0.0</td>\n",
              "      <td>0.0</td>\n",
              "      <td>0.0</td>\n",
              "      <td>0.0</td>\n",
              "    </tr>\n",
              "  </tbody>\n",
              "</table>\n",
              "<p>5 rows × 101 columns</p>\n",
              "</div>\n",
              "      <button class=\"colab-df-convert\" onclick=\"convertToInteractive('df-2556dcab-a623-463f-b636-e0bc4bae424a')\"\n",
              "              title=\"Convert this dataframe to an interactive table.\"\n",
              "              style=\"display:none;\">\n",
              "        \n",
              "  <svg xmlns=\"http://www.w3.org/2000/svg\" height=\"24px\"viewBox=\"0 0 24 24\"\n",
              "       width=\"24px\">\n",
              "    <path d=\"M0 0h24v24H0V0z\" fill=\"none\"/>\n",
              "    <path d=\"M18.56 5.44l.94 2.06.94-2.06 2.06-.94-2.06-.94-.94-2.06-.94 2.06-2.06.94zm-11 1L8.5 8.5l.94-2.06 2.06-.94-2.06-.94L8.5 2.5l-.94 2.06-2.06.94zm10 10l.94 2.06.94-2.06 2.06-.94-2.06-.94-.94-2.06-.94 2.06-2.06.94z\"/><path d=\"M17.41 7.96l-1.37-1.37c-.4-.4-.92-.59-1.43-.59-.52 0-1.04.2-1.43.59L10.3 9.45l-7.72 7.72c-.78.78-.78 2.05 0 2.83L4 21.41c.39.39.9.59 1.41.59.51 0 1.02-.2 1.41-.59l7.78-7.78 2.81-2.81c.8-.78.8-2.07 0-2.86zM5.41 20L4 18.59l7.72-7.72 1.47 1.35L5.41 20z\"/>\n",
              "  </svg>\n",
              "      </button>\n",
              "      \n",
              "  <style>\n",
              "    .colab-df-container {\n",
              "      display:flex;\n",
              "      flex-wrap:wrap;\n",
              "      gap: 12px;\n",
              "    }\n",
              "\n",
              "    .colab-df-convert {\n",
              "      background-color: #E8F0FE;\n",
              "      border: none;\n",
              "      border-radius: 50%;\n",
              "      cursor: pointer;\n",
              "      display: none;\n",
              "      fill: #1967D2;\n",
              "      height: 32px;\n",
              "      padding: 0 0 0 0;\n",
              "      width: 32px;\n",
              "    }\n",
              "\n",
              "    .colab-df-convert:hover {\n",
              "      background-color: #E2EBFA;\n",
              "      box-shadow: 0px 1px 2px rgba(60, 64, 67, 0.3), 0px 1px 3px 1px rgba(60, 64, 67, 0.15);\n",
              "      fill: #174EA6;\n",
              "    }\n",
              "\n",
              "    [theme=dark] .colab-df-convert {\n",
              "      background-color: #3B4455;\n",
              "      fill: #D2E3FC;\n",
              "    }\n",
              "\n",
              "    [theme=dark] .colab-df-convert:hover {\n",
              "      background-color: #434B5C;\n",
              "      box-shadow: 0px 1px 3px 1px rgba(0, 0, 0, 0.15);\n",
              "      filter: drop-shadow(0px 1px 2px rgba(0, 0, 0, 0.3));\n",
              "      fill: #FFFFFF;\n",
              "    }\n",
              "  </style>\n",
              "\n",
              "      <script>\n",
              "        const buttonEl =\n",
              "          document.querySelector('#df-2556dcab-a623-463f-b636-e0bc4bae424a button.colab-df-convert');\n",
              "        buttonEl.style.display =\n",
              "          google.colab.kernel.accessAllowed ? 'block' : 'none';\n",
              "\n",
              "        async function convertToInteractive(key) {\n",
              "          const element = document.querySelector('#df-2556dcab-a623-463f-b636-e0bc4bae424a');\n",
              "          const dataTable =\n",
              "            await google.colab.kernel.invokeFunction('convertToInteractive',\n",
              "                                                     [key], {});\n",
              "          if (!dataTable) return;\n",
              "\n",
              "          const docLinkHtml = 'Like what you see? Visit the ' +\n",
              "            '<a target=\"_blank\" href=https://colab.research.google.com/notebooks/data_table.ipynb>data table notebook</a>'\n",
              "            + ' to learn more about interactive tables.';\n",
              "          element.innerHTML = '';\n",
              "          dataTable['output_type'] = 'display_data';\n",
              "          await google.colab.output.renderOutput(dataTable, element);\n",
              "          const docLink = document.createElement('div');\n",
              "          docLink.innerHTML = docLinkHtml;\n",
              "          element.appendChild(docLink);\n",
              "        }\n",
              "      </script>\n",
              "    </div>\n",
              "  </div>\n",
              "  "
            ]
          },
          "metadata": {},
          "execution_count": 13
        }
      ]
    },
    {
      "cell_type": "markdown",
      "source": [
        "### **Problem #3: Prepare the data for modeling.**\n",
        "---\n",
        "\n",
        "Specifically,\n",
        "* Decide the independent and dependent variables (only including numerical variables).\n",
        "* Split the data into train and test sets such that 20% is left for testing.\n",
        "* Scale your data.\n"
      ],
      "metadata": {
        "id": "zK9wS9JatKUs"
      }
    },
    {
      "cell_type": "code",
      "source": [
        "# Decide the independent and dependent variables\n",
        "features = # COMPLETE THIS LINE\n",
        "label = # COMPLETE THIS LINE\n",
        "\n",
        "# Split the data into train and test sets\n",
        "X_train, X_test, y_train, y_test = train_test_split(# COMPLETE THIS LINE\n",
        "\n",
        "# Scale your data\n",
        "scaler = # COMPLETE THIS LINE\n",
        "\n",
        "X_train_scaled = scaler.# COMPLETE THIS LINE\n",
        "X_test_scaled = scaler.# COMPLETE THIS LINE"
      ],
      "metadata": {
        "id": "vLtH2pD0tKUs"
      },
      "execution_count": null,
      "outputs": []
    },
    {
      "cell_type": "markdown",
      "source": [
        "#### **Solution**"
      ],
      "metadata": {
        "id": "itmy50dJtKUs"
      }
    },
    {
      "cell_type": "code",
      "source": [
        "# Decide the independent and dependent variables\n",
        "features = new_adult.drop(columns = ['Target'], axis = 1)\n",
        "label = new_adult['Target']\n",
        "\n",
        "# Split the data into train and test sets\n",
        "X_train, X_test, y_train, y_test = train_test_split(features, label, test_size=0.2, random_state=42)\n",
        "\n",
        "# Scale your data\n",
        "scaler = StandardScaler()\n",
        "\n",
        "X_train_scaled = scaler.fit_transform(X_train)\n",
        "X_test_scaled = scaler.transform(X_test)"
      ],
      "metadata": {
        "id": "Le-71pfDtKUs"
      },
      "execution_count": null,
      "outputs": []
    },
    {
      "cell_type": "markdown",
      "source": [
        "### **Problem #3: Initialize and train your model.**\n",
        "---\n",
        "\n",
        "Use a KNN model with K = 5."
      ],
      "metadata": {
        "id": "FQF2UOQktKUt"
      }
    },
    {
      "cell_type": "code",
      "source": [
        "knn = # COMPLETE THIS LINE\n",
        "knn. # COMPLETE THIS LINE"
      ],
      "metadata": {
        "id": "EM3kjM39tKUt"
      },
      "execution_count": null,
      "outputs": []
    },
    {
      "cell_type": "markdown",
      "source": [
        "#### **Solution**"
      ],
      "metadata": {
        "id": "GgGphyWftKUt"
      }
    },
    {
      "cell_type": "code",
      "source": [
        "knn = KNeighborsClassifier(n_neighbors = 5)\n",
        "knn.fit(X_train_scaled, y_train)"
      ],
      "metadata": {
        "colab": {
          "base_uri": "https://localhost:8080/",
          "height": 74
        },
        "outputId": "c42a2029-35cd-41fb-e173-5bbab02a1779",
        "id": "2zggPz-CtKUt"
      },
      "execution_count": null,
      "outputs": [
        {
          "output_type": "execute_result",
          "data": {
            "text/plain": [
              "KNeighborsClassifier()"
            ],
            "text/html": [
              "<style>#sk-container-id-1 {color: black;background-color: white;}#sk-container-id-1 pre{padding: 0;}#sk-container-id-1 div.sk-toggleable {background-color: white;}#sk-container-id-1 label.sk-toggleable__label {cursor: pointer;display: block;width: 100%;margin-bottom: 0;padding: 0.3em;box-sizing: border-box;text-align: center;}#sk-container-id-1 label.sk-toggleable__label-arrow:before {content: \"▸\";float: left;margin-right: 0.25em;color: #696969;}#sk-container-id-1 label.sk-toggleable__label-arrow:hover:before {color: black;}#sk-container-id-1 div.sk-estimator:hover label.sk-toggleable__label-arrow:before {color: black;}#sk-container-id-1 div.sk-toggleable__content {max-height: 0;max-width: 0;overflow: hidden;text-align: left;background-color: #f0f8ff;}#sk-container-id-1 div.sk-toggleable__content pre {margin: 0.2em;color: black;border-radius: 0.25em;background-color: #f0f8ff;}#sk-container-id-1 input.sk-toggleable__control:checked~div.sk-toggleable__content {max-height: 200px;max-width: 100%;overflow: auto;}#sk-container-id-1 input.sk-toggleable__control:checked~label.sk-toggleable__label-arrow:before {content: \"▾\";}#sk-container-id-1 div.sk-estimator input.sk-toggleable__control:checked~label.sk-toggleable__label {background-color: #d4ebff;}#sk-container-id-1 div.sk-label input.sk-toggleable__control:checked~label.sk-toggleable__label {background-color: #d4ebff;}#sk-container-id-1 input.sk-hidden--visually {border: 0;clip: rect(1px 1px 1px 1px);clip: rect(1px, 1px, 1px, 1px);height: 1px;margin: -1px;overflow: hidden;padding: 0;position: absolute;width: 1px;}#sk-container-id-1 div.sk-estimator {font-family: monospace;background-color: #f0f8ff;border: 1px dotted black;border-radius: 0.25em;box-sizing: border-box;margin-bottom: 0.5em;}#sk-container-id-1 div.sk-estimator:hover {background-color: #d4ebff;}#sk-container-id-1 div.sk-parallel-item::after {content: \"\";width: 100%;border-bottom: 1px solid gray;flex-grow: 1;}#sk-container-id-1 div.sk-label:hover label.sk-toggleable__label {background-color: #d4ebff;}#sk-container-id-1 div.sk-serial::before {content: \"\";position: absolute;border-left: 1px solid gray;box-sizing: border-box;top: 0;bottom: 0;left: 50%;z-index: 0;}#sk-container-id-1 div.sk-serial {display: flex;flex-direction: column;align-items: center;background-color: white;padding-right: 0.2em;padding-left: 0.2em;position: relative;}#sk-container-id-1 div.sk-item {position: relative;z-index: 1;}#sk-container-id-1 div.sk-parallel {display: flex;align-items: stretch;justify-content: center;background-color: white;position: relative;}#sk-container-id-1 div.sk-item::before, #sk-container-id-1 div.sk-parallel-item::before {content: \"\";position: absolute;border-left: 1px solid gray;box-sizing: border-box;top: 0;bottom: 0;left: 50%;z-index: -1;}#sk-container-id-1 div.sk-parallel-item {display: flex;flex-direction: column;z-index: 1;position: relative;background-color: white;}#sk-container-id-1 div.sk-parallel-item:first-child::after {align-self: flex-end;width: 50%;}#sk-container-id-1 div.sk-parallel-item:last-child::after {align-self: flex-start;width: 50%;}#sk-container-id-1 div.sk-parallel-item:only-child::after {width: 0;}#sk-container-id-1 div.sk-dashed-wrapped {border: 1px dashed gray;margin: 0 0.4em 0.5em 0.4em;box-sizing: border-box;padding-bottom: 0.4em;background-color: white;}#sk-container-id-1 div.sk-label label {font-family: monospace;font-weight: bold;display: inline-block;line-height: 1.2em;}#sk-container-id-1 div.sk-label-container {text-align: center;}#sk-container-id-1 div.sk-container {/* jupyter's `normalize.less` sets `[hidden] { display: none; }` but bootstrap.min.css set `[hidden] { display: none !important; }` so we also need the `!important` here to be able to override the default hidden behavior on the sphinx rendered scikit-learn.org. See: https://github.com/scikit-learn/scikit-learn/issues/21755 */display: inline-block !important;position: relative;}#sk-container-id-1 div.sk-text-repr-fallback {display: none;}</style><div id=\"sk-container-id-1\" class=\"sk-top-container\"><div class=\"sk-text-repr-fallback\"><pre>KNeighborsClassifier()</pre><b>In a Jupyter environment, please rerun this cell to show the HTML representation or trust the notebook. <br />On GitHub, the HTML representation is unable to render, please try loading this page with nbviewer.org.</b></div><div class=\"sk-container\" hidden><div class=\"sk-item\"><div class=\"sk-estimator sk-toggleable\"><input class=\"sk-toggleable__control sk-hidden--visually\" id=\"sk-estimator-id-1\" type=\"checkbox\" checked><label for=\"sk-estimator-id-1\" class=\"sk-toggleable__label sk-toggleable__label-arrow\">KNeighborsClassifier</label><div class=\"sk-toggleable__content\"><pre>KNeighborsClassifier()</pre></div></div></div></div></div>"
            ]
          },
          "metadata": {},
          "execution_count": 15
        }
      ]
    },
    {
      "cell_type": "markdown",
      "source": [
        "### **Problem #4: Make predictions for the standardized test data.**\n",
        "---"
      ],
      "metadata": {
        "id": "Qb8gPQuWtKUt"
      }
    },
    {
      "cell_type": "code",
      "source": [
        "y_pred = # COMPLETE THIS LINE"
      ],
      "metadata": {
        "id": "Kaqkb4SotKUt"
      },
      "execution_count": null,
      "outputs": []
    },
    {
      "cell_type": "markdown",
      "source": [
        "###### **Solution**"
      ],
      "metadata": {
        "id": "ZYZyvZHgtKUt"
      }
    },
    {
      "cell_type": "code",
      "source": [
        "y_pred = knn.predict(X_test_scaled)"
      ],
      "metadata": {
        "id": "DVTZ8BNOtKUt"
      },
      "execution_count": null,
      "outputs": []
    },
    {
      "cell_type": "markdown",
      "source": [
        "### **Problem #5: Evaluate your model.**\n",
        "---\n",
        "\n",
        "Specifically,\n",
        "* Print the accuracy score.\n",
        "* Plot the confusion matrix.\n",
        "\n",
        "<br>\n",
        "\n",
        "**NOTE**: Since we are using `type1` as the label directly here, we just use `display_labels=clf.classes_`. This is one good reason for using non-encoded labels."
      ],
      "metadata": {
        "id": "ZPVhbERLtKUt"
      }
    },
    {
      "cell_type": "code",
      "source": [
        "# Print the accuracy score\n",
        "accuracy = # COMPLETE THIS LINE\n",
        "print(f'Accuracy: {accuracy}')\n",
        "\n",
        "# Plot the confusion matrix\n",
        "cm = confusion_matrix(# COMPLETE THIS LINE\n",
        "\n",
        "disp = ConfusionMatrixDisplay(# COMPLETE THIS LINE\n",
        "disp.plot()\n",
        "\n",
        "plt.xticks(rotation = 90)\n",
        "plt.show()"
      ],
      "metadata": {
        "id": "6nDJP4aWtKUt"
      },
      "execution_count": null,
      "outputs": []
    },
    {
      "cell_type": "markdown",
      "source": [
        "#### **Solution**"
      ],
      "metadata": {
        "id": "fWVKtzlktKUt"
      }
    },
    {
      "cell_type": "code",
      "source": [
        "# Print the accuracy score\n",
        "accuracy = accuracy_score(y_test,y_pred)\n",
        "print(f'Accuracy: {accuracy}')\n",
        "\n",
        "# Plot the confusion matrix\n",
        "cm = confusion_matrix(y_test, y_pred, labels=knn.classes_)\n",
        "\n",
        "disp = ConfusionMatrixDisplay(confusion_matrix=cm, display_labels=knn.classes_)\n",
        "disp.plot()\n",
        "\n",
        "plt.xticks(rotation = 90)\n",
        "plt.show()"
      ],
      "metadata": {
        "colab": {
          "base_uri": "https://localhost:8080/",
          "height": 507
        },
        "outputId": "03dc4a8f-dc23-49fe-a943-6521a41c015b",
        "id": "rHvoqAw8tKUt"
      },
      "execution_count": null,
      "outputs": [
        {
          "output_type": "stream",
          "name": "stdout",
          "text": [
            "Accuracy: 0.8223552894211577\n"
          ]
        },
        {
          "output_type": "display_data",
          "data": {
            "text/plain": [
              "<Figure size 640x480 with 2 Axes>"
            ],
            "image/png": "[encoded data removed]"
          },
          "metadata": {}
        }
      ]
    },
    {
      "cell_type": "markdown",
      "metadata": {
        "id": "PEmRSIJYcrMF"
      },
      "source": [
        "### **Problem #6: Mitigating bias by blinding.**\n",
        "---\n",
        "\n",
        "This method involves just *removing* sex as an input for our model. The hope is that by blinding our model to a feature we have explicitly shown to be biased in the previous Parts, we can remove this bias.\n",
        "\n",
        "<br>\n",
        "\n",
        "**NOTE**: Although it is often one of the first thoughts, blinding to bias is not considered good practice! There are patterns in the data correlated to the removed features that mean we have not really removed the bias. In fact, this can be even more problematic since we believe we have mitigated the bias and take the results more seriously, when in fact the results still reflect biases."
      ]
    },
    {
      "cell_type": "code",
      "source": [
        "# Decide the independent and dependent variables\n",
        "features = new_adult.drop(# COMPLETE THIS LINE SUCH THAT 'Sex' IS NOT A FEATURE\n",
        "label = new_adult['Target']\n",
        "\n",
        "# Split the data into train and test sets\n",
        "X_train, X_test, y_train, y_test = train_test_split(# COMPLETE THIS LINE\n",
        "\n",
        "# Scale your data\n",
        "scaler = # COMPLETE THIS LINE\n",
        "\n",
        "X_train_scaled = # COMPLETE THIS LINE\n",
        "X_test_scaled = # COMPLETE THIS LINE\n",
        "\n",
        "\n",
        "# Initialize and train your model\n",
        "knn = # COMPLETE THIS LINE\n",
        "knn.# COMPLETE THIS LINE\n",
        "\n",
        "\n",
        "# Make predictions for the standardized test data\n",
        "y_pred = knn.# COMPLETE THIS LINE\n",
        "\n",
        "\n",
        "# Evaluate your model\n",
        "# Print the accuracy score\n",
        "accuracy = # COMPLETE THIS LINE\n",
        "print(f'Accuracy: {accuracy}')\n",
        "\n",
        "# Plot the confusion matrix\n",
        "cm = confusion_matrix(# COMPLETE THIS LINE\n",
        "\n",
        "disp = ConfusionMatrixDisplay(# COMPLETE THIS LINE\n",
        "disp.plot()\n",
        "\n",
        "plt.xticks(rotation = 90)\n",
        "plt.show()"
      ],
      "metadata": {
        "id": "kPmODkhUgrqo"
      },
      "execution_count": null,
      "outputs": []
    },
    {
      "cell_type": "markdown",
      "source": [
        "#### **Solution**"
      ],
      "metadata": {
        "id": "snqUiVDxgtex"
      }
    },
    {
      "cell_type": "code",
      "source": [
        "# Decide the independent and dependent variables\n",
        "features = new_adult.drop(columns = ['Target', 'Sex'], axis = 1)\n",
        "label = new_adult['Target']\n",
        "\n",
        "# Split the data into train and test sets\n",
        "X_train, X_test, y_train, y_test = train_test_split(features, label, test_size=0.2, random_state=42)\n",
        "\n",
        "# Scale your data\n",
        "scaler = StandardScaler()\n",
        "\n",
        "X_train_scaled = scaler.fit_transform(X_train)\n",
        "X_test_scaled = scaler.transform(X_test)\n",
        "\n",
        "\n",
        "# Initialize and train your model\n",
        "knn = KNeighborsClassifier(n_neighbors = 5)\n",
        "knn.fit(X_train_scaled, y_train)\n",
        "\n",
        "\n",
        "# Make predictions for the standardized test data\n",
        "y_pred = knn.predict(X_test_scaled)\n",
        "\n",
        "\n",
        "# Evaluate your model\n",
        "# Print the accuracy score\n",
        "accuracy = accuracy_score(y_test,y_pred)\n",
        "print(f'Accuracy: {accuracy}')\n",
        "\n",
        "# Plot the confusion matrix\n",
        "cm = confusion_matrix(y_test, y_pred, labels=knn.classes_)\n",
        "\n",
        "disp = ConfusionMatrixDisplay(confusion_matrix=cm, display_labels=knn.classes_)\n",
        "disp.plot()\n",
        "\n",
        "plt.xticks(rotation = 90)\n",
        "plt.show()"
      ],
      "metadata": {
        "colab": {
          "base_uri": "https://localhost:8080/",
          "height": 507
        },
        "id": "txj4t_ahgJI1",
        "outputId": "da931ade-b2ec-4e2f-9a7f-45db7fb391ca"
      },
      "execution_count": null,
      "outputs": [
        {
          "output_type": "stream",
          "name": "stdout",
          "text": [
            "Accuracy: 0.8194380469829572\n"
          ]
        },
        {
          "output_type": "display_data",
          "data": {
            "text/plain": [
              "<Figure size 640x480 with 2 Axes>"
            ],
            "image/png": "[encoded data removed]"
          },
          "metadata": {}
        }
      ]
    },
    {
      "cell_type": "markdown",
      "metadata": {
        "id": "f0m1V4vthEvu"
      },
      "source": [
        "### **Problem #7: Mitigate bias by balancing.**\n",
        "---\n",
        "\n",
        "This method involves making the data distribution more equal. In this step, we will balance the sex distribtuion by ensuring there are equal amount of data points for male and female entries being used in our model.\n",
        "\n",
        "<br>\n",
        "\n",
        "**Run the cell below to create this balanced dataset.**"
      ]
    },
    {
      "cell_type": "code",
      "source": [
        "# get two data frames by sex\n",
        "females, males = new_adult.query(\"Sex == 0\"), new_adult.query(\"Sex == 1\")\n",
        "\n",
        "# make the males the minimum between females and males\n",
        "sampled_males = males.sample(n=int(min(females.shape[0], males.shape[0]))).reset_index(drop=True)\n",
        "\n",
        "# combine\n",
        "balanced_adult = pd.concat([sampled_males, females]).sample(frac=1).reset_index(drop=True)"
      ],
      "metadata": {
        "id": "WSIxkl-yhajv"
      },
      "execution_count": null,
      "outputs": []
    },
    {
      "cell_type": "code",
      "source": [
        "# Decide the independent and dependent variables\n",
        "features = balanced_adult.drop(# COMPLETE THIS LINE\n",
        "label = balanced_adult['Target']\n",
        "\n",
        "# Split the data into train and test sets\n",
        "X_train, X_test, y_train, y_test = train_test_split(# COMPLETE THIS LINE\n",
        "\n",
        "# Scale your data\n",
        "scaler = # COMPLETE THIS LINE\n",
        "\n",
        "X_train_scaled = # COMPLETE THIS LINE\n",
        "X_test_scaled = # COMPLETE THIS LINE\n",
        "\n",
        "\n",
        "# Initialize and train your model\n",
        "knn = # COMPLETE THIS LINE\n",
        "knn.# COMPLETE THIS LINE\n",
        "\n",
        "\n",
        "# Make predictions for the standardized test data\n",
        "y_pred = knn.# COMPLETE THIS LINE\n",
        "\n",
        "\n",
        "# Evaluate your model\n",
        "# Print the accuracy score\n",
        "accuracy = # COMPLETE THIS LINE\n",
        "print(f'Accuracy: {accuracy}')\n",
        "\n",
        "# Plot the confusion matrix\n",
        "cm = confusion_matrix(# COMPLETE THIS LINE\n",
        "\n",
        "disp = ConfusionMatrixDisplay(# COMPLETE THIS LINE\n",
        "disp.plot()\n",
        "\n",
        "plt.xticks(rotation = 90)\n",
        "plt.show()"
      ],
      "metadata": {
        "id": "SKCF09s3hEvu"
      },
      "execution_count": null,
      "outputs": []
    },
    {
      "cell_type": "markdown",
      "source": [
        "#### **Solution**"
      ],
      "metadata": {
        "id": "x_FfQbBXhEvu"
      }
    },
    {
      "cell_type": "code",
      "source": [
        "# Decide the independent and dependent variables\n",
        "features = balanced_adult.drop(columns = ['Target', 'Sex'], axis = 1)\n",
        "label = balanced_adult['Target']\n",
        "\n",
        "# Split the data into train and test sets\n",
        "X_train, X_test, y_train, y_test = train_test_split(features, label, test_size=0.2, random_state=42)\n",
        "\n",
        "# Scale your data\n",
        "scaler = StandardScaler()\n",
        "\n",
        "X_train_scaled = scaler.fit_transform(X_train)\n",
        "X_test_scaled = scaler.transform(X_test)\n",
        "\n",
        "\n",
        "# Initialize and train your model\n",
        "knn = KNeighborsClassifier(n_neighbors = 5)\n",
        "knn.fit(X_train_scaled, y_train)\n",
        "\n",
        "\n",
        "# Make predictions for the standardized test data\n",
        "y_pred = knn.predict(X_test_scaled)\n",
        "\n",
        "\n",
        "# Evaluate your model\n",
        "# Print the accuracy score\n",
        "accuracy = accuracy_score(y_test,y_pred)\n",
        "print(f'Accuracy: {accuracy}')\n",
        "\n",
        "# Plot the confusion matrix\n",
        "cm = confusion_matrix(y_test, y_pred, labels=knn.classes_)\n",
        "\n",
        "disp = ConfusionMatrixDisplay(confusion_matrix=cm, display_labels=knn.classes_)\n",
        "disp.plot()\n",
        "\n",
        "plt.xticks(rotation = 90)\n",
        "plt.show()"
      ],
      "metadata": {
        "colab": {
          "base_uri": "https://localhost:8080/",
          "height": 507
        },
        "outputId": "09afb4a9-c3a0-4d21-9f39-c6ba9c06fb19",
        "id": "anvueshYhEvu"
      },
      "execution_count": null,
      "outputs": [
        {
          "output_type": "stream",
          "name": "stdout",
          "text": [
            "Accuracy: 0.8396379670457182\n"
          ]
        },
        {
          "output_type": "display_data",
          "data": {
            "text/plain": [
              "<Figure size 640x480 with 2 Axes>"
            ],
            "image/png": "[encoded data removed]"
          },
          "metadata": {}
        }
      ]
    },
    {
      "cell_type": "markdown",
      "metadata": {
        "id": "c2_-TYBr-bhs"
      },
      "source": [
        "**This should have been your most accurate model and it has made an honest attempt to mitigate (instead of blinding ourselves to) bias.**"
      ]
    },
    {
      "cell_type": "markdown",
      "source": [
        "# End of Lab\n",
        "\n",
        "---\n",
        "© 2023 The Coding School, All rights reserved"
      ],
      "metadata": {
        "id": "nD5aj7Um5k-S"
      }
    }
  ],
  "metadata": {
    "colab": {
      "provenance": [],
      "collapsed_sections": [
        "PEmRSIJYcrMF"
      ],
      "include_colab_link": true
    },
    "kernelspec": {
      "display_name": "default:Python",
      "language": "python",
      "name": "conda-env-default-py"
    },
    "language_info": {
      "codemirror_mode": {
        "name": "ipython",
        "version": 3
      },
      "file_extension": ".py",
      "mimetype": "text/x-python",
      "name": "python",
      "nbconvert_exporter": "python",
      "pygments_lexer": "ipython3",
      "version": "3.9.13"
    }
  },
  "nbformat": 4,
  "nbformat_minor": 0
}