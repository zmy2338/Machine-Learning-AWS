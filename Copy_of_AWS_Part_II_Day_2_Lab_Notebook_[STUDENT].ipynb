{
  "nbformat": 4,
  "nbformat_minor": 0,
  "metadata": {
    "colab": {
      "provenance": [],
      "collapsed_sections": [
        "mNRDLM5pXPxT",
        "Lz4Z837iYmMx",
        "jLIXb88MZGHb",
        "2vmG75AAZlQ-",
        "Rl_2JhsDZ_I_",
        "vjAgF3aPaMDa",
        "_PlhSOPRahgK",
        "RwQj_FpxVVPR"
      ],
      "include_colab_link": true
    },
    "kernelspec": {
      "name": "python3",
      "display_name": "Python 3"
    },
    "language_info": {
      "name": "python"
    }
  },
  "cells": [
    {
      "cell_type": "markdown",
      "metadata": {
        "id": "view-in-github",
        "colab_type": "text"
      },
      "source": [
        "<a href=\"https://colab.research.google.com/github/zmy2338/Machine-Learning-AWS/blob/main/Copy_of_AWS_Part_II_Day_2_Lab_Notebook_%5BSTUDENT%5D.ipynb\" target=\"_parent\"><img src=\"https://colab.research.google.com/assets/colab-badge.svg\" alt=\"Open In Colab\"/></a>"
      ]
    },
    {
      "cell_type": "markdown",
      "metadata": {
        "id": "mbZXQ3rA3NwL"
      },
      "source": [
        "# **Day 2: Review II - Advanced Topics**\n",
        "---\n",
        "\n",
        "### **Description**\n",
        "In this lab, you will practice implementing advanced ML techniques including: standardization and normalization; ordinal, one hot, and dummy variable encodings; GridSearchCV, K-Folds Cross Validation; and regularization.\n",
        "\n",
        "\n",
        "### **Lab Structure**\n",
        "**Part 1**: [Investigating Scaling](#p1)\n",
        "\n",
        "**Part 2**: [Investigating Feature Encoding](#p2)\n",
        "\n",
        "\n",
        "**Part 3**: [Optimizing K with GridSearchCV](#p3)\n",
        "\n",
        "**Part 4**: [K-Folds Cross Validation](#p4)\n",
        "\n",
        "**Part 5**: [[OPTIONAL] Investigating Regularization](#p5)\n",
        "\n",
        "\n",
        "\n",
        "</br>\n",
        "\n",
        "\n",
        "### **Goals**\n",
        "By the end of this lab, you will be able to:\n",
        "* Scale data using sklearn's `StandardScaler(...)` and `Normalizer(...)`.\n",
        "* Encode categorical data using ordinal encoding, one-hot encoding, and dummy variable encoding.\n",
        "* Evaluate a model's ability to handle unseen data by using K-Folds Cross Validation.\n",
        "\n",
        "</br>\n",
        "\n",
        "### **Cheat Sheets**\n",
        "* [Advanced ML Techniques](https://docs.google.com/document/d/1IngTBMQSV65iybpEI-WAN1wIZtijxfO5dpM0TBwqQo8/edit?usp=sharing)\n",
        "\n",
        "* [Logistic Regression](https://docs.google.com/document/d/1dAlAlRI1YAKa2Od08TJ9Z7JUysxcUucZXvNMVMvLA4w/edit?usp=share_link)\n",
        "\n",
        "* [K-Nearest Neighbors](https://docs.google.com/document/d/1Z0Uk43jYmRPHgzIyg0s1YIU6hNIw43PFFtqbl8lbj64/edit?usp=share_link)\n",
        "\n",
        "\n",
        "<br>\n",
        "\n",
        "**Before starting, run the code below to import all necessary functions and libraries.**\n"
      ]
    },
    {
      "cell_type": "code",
      "source": [
        "import warnings\n",
        "warnings.filterwarnings('ignore')\n",
        "\n",
        "import pandas as pd\n",
        "import numpy as np\n",
        "import matplotlib.pyplot as plt\n",
        "\n",
        "from sklearn import datasets\n",
        "from sklearn.model_selection import train_test_split, KFold\n",
        "from sklearn.preprocessing import StandardScaler, Normalizer\n",
        "from sklearn.preprocessing import OrdinalEncoder, OneHotEncoder\n",
        "\n",
        "from sklearn.linear_model import LogisticRegression\n",
        "from sklearn.neighbors import KNeighborsClassifier\n",
        "\n",
        "from sklearn import metrics\n",
        "from sklearn.metrics import accuracy_score, r2_score, classification_report\n",
        "from sklearn.metrics import confusion_matrix, ConfusionMatrixDisplay\n",
        "from sklearn.model_selection import cross_val_score"
      ],
      "metadata": {
        "id": "RJXqn4ZQOaFD"
      },
      "execution_count": null,
      "outputs": []
    },
    {
      "cell_type": "markdown",
      "source": [
        "<a name=\"p1\"></a>\n",
        "\n",
        "---\n",
        "## **Part 1: Investigating Scaling**\n",
        "---\n",
        "\n",
        "In this section, we will investigate the role that no scaling versus standardization versus normalization can have on a model's performance. Specifically, we will use logistic regression to predict the type of crop that will grow the most successfully in a given set of conditions.\n",
        "\n",
        "**Run the cell below to load and view the data frame we will be using this section.**"
      ],
      "metadata": {
        "id": "mNRDLM5pXPxT"
      }
    },
    {
      "cell_type": "code",
      "execution_count": null,
      "metadata": {
        "colab": {
          "base_uri": "https://localhost:8080/",
          "height": 206
        },
        "id": "p9UtLBEkOUtS",
        "outputId": "3bf15a8a-5b7b-4d81-c7db-165020f05ee2"
      },
      "outputs": [
        {
          "output_type": "execute_result",
          "data": {
            "text/plain": [
              "   nitrogen  phosphorus  potassium  temperature   humidity        ph  \\\n",
              "0        90          42         43    20.879744  82.002744  6.502985   \n",
              "1        85          58         41    21.770462  80.319644  7.038096   \n",
              "2        60          55         44    23.004459  82.320763  7.840207   \n",
              "3        74          35         40    26.491096  80.158363  6.980401   \n",
              "4        78          42         42    20.130175  81.604873  7.628473   \n",
              "\n",
              "     rainfall  crop  \n",
              "0  202.935536  rice  \n",
              "1  226.655537  rice  \n",
              "2  263.964248  rice  \n",
              "3  242.864034  rice  \n",
              "4  262.717340  rice  "
            ],
            "text/html": [
              "\n",
              "\n",
              "  <div id=\"df-cecdad3e-7655-4c67-bb00-f84071fac292\">\n",
              "    <div class=\"colab-df-container\">\n",
              "      <div>\n",
              "<style scoped>\n",
              "    .dataframe tbody tr th:only-of-type {\n",
              "        vertical-align: middle;\n",
              "    }\n",
              "\n",
              "    .dataframe tbody tr th {\n",
              "        vertical-align: top;\n",
              "    }\n",
              "\n",
              "    .dataframe thead th {\n",
              "        text-align: right;\n",
              "    }\n",
              "</style>\n",
              "<table border=\"1\" class=\"dataframe\">\n",
              "  <thead>\n",
              "    <tr style=\"text-align: right;\">\n",
              "      <th></th>\n",
              "      <th>nitrogen</th>\n",
              "      <th>phosphorus</th>\n",
              "      <th>potassium</th>\n",
              "      <th>temperature</th>\n",
              "      <th>humidity</th>\n",
              "      <th>ph</th>\n",
              "      <th>rainfall</th>\n",
              "      <th>crop</th>\n",
              "    </tr>\n",
              "  </thead>\n",
              "  <tbody>\n",
              "    <tr>\n",
              "      <th>0</th>\n",
              "      <td>90</td>\n",
              "      <td>42</td>\n",
              "      <td>43</td>\n",
              "      <td>20.879744</td>\n",
              "      <td>82.002744</td>\n",
              "      <td>6.502985</td>\n",
              "      <td>202.935536</td>\n",
              "      <td>rice</td>\n",
              "    </tr>\n",
              "    <tr>\n",
              "      <th>1</th>\n",
              "      <td>85</td>\n",
              "      <td>58</td>\n",
              "      <td>41</td>\n",
              "      <td>21.770462</td>\n",
              "      <td>80.319644</td>\n",
              "      <td>7.038096</td>\n",
              "      <td>226.655537</td>\n",
              "      <td>rice</td>\n",
              "    </tr>\n",
              "    <tr>\n",
              "      <th>2</th>\n",
              "      <td>60</td>\n",
              "      <td>55</td>\n",
              "      <td>44</td>\n",
              "      <td>23.004459</td>\n",
              "      <td>82.320763</td>\n",
              "      <td>7.840207</td>\n",
              "      <td>263.964248</td>\n",
              "      <td>rice</td>\n",
              "    </tr>\n",
              "    <tr>\n",
              "      <th>3</th>\n",
              "      <td>74</td>\n",
              "      <td>35</td>\n",
              "      <td>40</td>\n",
              "      <td>26.491096</td>\n",
              "      <td>80.158363</td>\n",
              "      <td>6.980401</td>\n",
              "      <td>242.864034</td>\n",
              "      <td>rice</td>\n",
              "    </tr>\n",
              "    <tr>\n",
              "      <th>4</th>\n",
              "      <td>78</td>\n",
              "      <td>42</td>\n",
              "      <td>42</td>\n",
              "      <td>20.130175</td>\n",
              "      <td>81.604873</td>\n",
              "      <td>7.628473</td>\n",
              "      <td>262.717340</td>\n",
              "      <td>rice</td>\n",
              "    </tr>\n",
              "  </tbody>\n",
              "</table>\n",
              "</div>\n",
              "      <button class=\"colab-df-convert\" onclick=\"convertToInteractive('df-cecdad3e-7655-4c67-bb00-f84071fac292')\"\n",
              "              title=\"Convert this dataframe to an interactive table.\"\n",
              "              style=\"display:none;\">\n",
              "\n",
              "  <svg xmlns=\"http://www.w3.org/2000/svg\" height=\"24px\"viewBox=\"0 0 24 24\"\n",
              "       width=\"24px\">\n",
              "    <path d=\"M0 0h24v24H0V0z\" fill=\"none\"/>\n",
              "    <path d=\"M18.56 5.44l.94 2.06.94-2.06 2.06-.94-2.06-.94-.94-2.06-.94 2.06-2.06.94zm-11 1L8.5 8.5l.94-2.06 2.06-.94-2.06-.94L8.5 2.5l-.94 2.06-2.06.94zm10 10l.94 2.06.94-2.06 2.06-.94-2.06-.94-.94-2.06-.94 2.06-2.06.94z\"/><path d=\"M17.41 7.96l-1.37-1.37c-.4-.4-.92-.59-1.43-.59-.52 0-1.04.2-1.43.59L10.3 9.45l-7.72 7.72c-.78.78-.78 2.05 0 2.83L4 21.41c.39.39.9.59 1.41.59.51 0 1.02-.2 1.41-.59l7.78-7.78 2.81-2.81c.8-.78.8-2.07 0-2.86zM5.41 20L4 18.59l7.72-7.72 1.47 1.35L5.41 20z\"/>\n",
              "  </svg>\n",
              "      </button>\n",
              "\n",
              "\n",
              "\n",
              "    <div id=\"df-e88dbfbc-e0eb-434b-af46-98c1e539668d\">\n",
              "      <button class=\"colab-df-quickchart\" onclick=\"quickchart('df-e88dbfbc-e0eb-434b-af46-98c1e539668d')\"\n",
              "              title=\"Suggest charts.\"\n",
              "              style=\"display:none;\">\n",
              "\n",
              "<svg xmlns=\"http://www.w3.org/2000/svg\" height=\"24px\"viewBox=\"0 0 24 24\"\n",
              "     width=\"24px\">\n",
              "    <g>\n",
              "        <path d=\"M19 3H5c-1.1 0-2 .9-2 2v14c0 1.1.9 2 2 2h14c1.1 0 2-.9 2-2V5c0-1.1-.9-2-2-2zM9 17H7v-7h2v7zm4 0h-2V7h2v10zm4 0h-2v-4h2v4z\"/>\n",
              "    </g>\n",
              "</svg>\n",
              "      </button>\n",
              "    </div>\n",
              "\n",
              "<style>\n",
              "  .colab-df-quickchart {\n",
              "    background-color: #E8F0FE;\n",
              "    border: none;\n",
              "    border-radius: 50%;\n",
              "    cursor: pointer;\n",
              "    display: none;\n",
              "    fill: #1967D2;\n",
              "    height: 32px;\n",
              "    padding: 0 0 0 0;\n",
              "    width: 32px;\n",
              "  }\n",
              "\n",
              "  .colab-df-quickchart:hover {\n",
              "    background-color: #E2EBFA;\n",
              "    box-shadow: 0px 1px 2px rgba(60, 64, 67, 0.3), 0px 1px 3px 1px rgba(60, 64, 67, 0.15);\n",
              "    fill: #174EA6;\n",
              "  }\n",
              "\n",
              "  [theme=dark] .colab-df-quickchart {\n",
              "    background-color: #3B4455;\n",
              "    fill: #D2E3FC;\n",
              "  }\n",
              "\n",
              "  [theme=dark] .colab-df-quickchart:hover {\n",
              "    background-color: #434B5C;\n",
              "    box-shadow: 0px 1px 3px 1px rgba(0, 0, 0, 0.15);\n",
              "    filter: drop-shadow(0px 1px 2px rgba(0, 0, 0, 0.3));\n",
              "    fill: #FFFFFF;\n",
              "  }\n",
              "</style>\n",
              "\n",
              "    <script>\n",
              "      async function quickchart(key) {\n",
              "        const containerElement = document.querySelector('#' + key);\n",
              "        const charts = await google.colab.kernel.invokeFunction(\n",
              "            'suggestCharts', [key], {});\n",
              "      }\n",
              "    </script>\n",
              "\n",
              "      <script>\n",
              "\n",
              "function displayQuickchartButton(domScope) {\n",
              "  let quickchartButtonEl =\n",
              "    domScope.querySelector('#df-e88dbfbc-e0eb-434b-af46-98c1e539668d button.colab-df-quickchart');\n",
              "  quickchartButtonEl.style.display =\n",
              "    google.colab.kernel.accessAllowed ? 'block' : 'none';\n",
              "}\n",
              "\n",
              "        displayQuickchartButton(document);\n",
              "      </script>\n",
              "      <style>\n",
              "    .colab-df-container {\n",
              "      display:flex;\n",
              "      flex-wrap:wrap;\n",
              "      gap: 12px;\n",
              "    }\n",
              "\n",
              "    .colab-df-convert {\n",
              "      background-color: #E8F0FE;\n",
              "      border: none;\n",
              "      border-radius: 50%;\n",
              "      cursor: pointer;\n",
              "      display: none;\n",
              "      fill: #1967D2;\n",
              "      height: 32px;\n",
              "      padding: 0 0 0 0;\n",
              "      width: 32px;\n",
              "    }\n",
              "\n",
              "    .colab-df-convert:hover {\n",
              "      background-color: #E2EBFA;\n",
              "      box-shadow: 0px 1px 2px rgba(60, 64, 67, 0.3), 0px 1px 3px 1px rgba(60, 64, 67, 0.15);\n",
              "      fill: #174EA6;\n",
              "    }\n",
              "\n",
              "    [theme=dark] .colab-df-convert {\n",
              "      background-color: #3B4455;\n",
              "      fill: #D2E3FC;\n",
              "    }\n",
              "\n",
              "    [theme=dark] .colab-df-convert:hover {\n",
              "      background-color: #434B5C;\n",
              "      box-shadow: 0px 1px 3px 1px rgba(0, 0, 0, 0.15);\n",
              "      filter: drop-shadow(0px 1px 2px rgba(0, 0, 0, 0.3));\n",
              "      fill: #FFFFFF;\n",
              "    }\n",
              "  </style>\n",
              "\n",
              "      <script>\n",
              "        const buttonEl =\n",
              "          document.querySelector('#df-cecdad3e-7655-4c67-bb00-f84071fac292 button.colab-df-convert');\n",
              "        buttonEl.style.display =\n",
              "          google.colab.kernel.accessAllowed ? 'block' : 'none';\n",
              "\n",
              "        async function convertToInteractive(key) {\n",
              "          const element = document.querySelector('#df-cecdad3e-7655-4c67-bb00-f84071fac292');\n",
              "          const dataTable =\n",
              "            await google.colab.kernel.invokeFunction('convertToInteractive',\n",
              "                                                     [key], {});\n",
              "          if (!dataTable) return;\n",
              "\n",
              "          const docLinkHtml = 'Like what you see? Visit the ' +\n",
              "            '<a target=\"_blank\" href=https://colab.research.google.com/notebooks/data_table.ipynb>data table notebook</a>'\n",
              "            + ' to learn more about interactive tables.';\n",
              "          element.innerHTML = '';\n",
              "          dataTable['output_type'] = 'display_data';\n",
              "          await google.colab.output.renderOutput(dataTable, element);\n",
              "          const docLink = document.createElement('div');\n",
              "          docLink.innerHTML = docLinkHtml;\n",
              "          element.appendChild(docLink);\n",
              "        }\n",
              "      </script>\n",
              "    </div>\n",
              "  </div>\n"
            ]
          },
          "metadata": {},
          "execution_count": 3
        }
      ],
      "source": [
        "url = 'https://raw.githubusercontent.com/the-codingschool/TRAIN-datasets/main/crop%20recommendation%20clean.csv'\n",
        "df = pd.read_csv(url)\n",
        "\n",
        "df.head()"
      ]
    },
    {
      "cell_type": "markdown",
      "source": [
        "#### **Problem #1.1**\n",
        "\n",
        "Define the features and label given that we are attempting to predict the type of crop based on environmental conditions."
      ],
      "metadata": {
        "id": "GDbj6uYAXsz_"
      }
    },
    {
      "cell_type": "code",
      "source": [
        "features = # COMPLETE THIS LINE\n",
        "label = # COMPLETE THIS LINE"
      ],
      "metadata": {
        "id": "c61WoA7kYU8V"
      },
      "execution_count": null,
      "outputs": []
    },
    {
      "cell_type": "markdown",
      "source": [
        "#### **Problem #1.2**\n",
        "\n",
        "Split the data into training and test sets such that 20% of the data is reserved for testing."
      ],
      "metadata": {
        "id": "rvRAuI3oYcEi"
      }
    },
    {
      "cell_type": "code",
      "source": [
        "X_train, X_test, y_train, y_test = # COMPLETE THIS LINE"
      ],
      "metadata": {
        "id": "G2cw8AV-Yh6o"
      },
      "execution_count": null,
      "outputs": []
    },
    {
      "cell_type": "markdown",
      "source": [
        "#### **Problem #1.3**\n",
        "\n",
        "Now, create a *standardized* version of the training and testing data using sklearn's `StandardScaler()`. We will use this to compare to the original training and test sets."
      ],
      "metadata": {
        "id": "Lz4Z837iYmMx"
      }
    },
    {
      "cell_type": "code",
      "source": [
        "std_scaler = StandardScaler()\n",
        "X_train_std = std_scaler.# COMPLETE THIS LINE\n",
        "X_test_std = std_scaler.# COMPLETE THIS LINE"
      ],
      "metadata": {
        "id": "gBObc0FuYx4k",
        "colab": {
          "base_uri": "https://localhost:8080/",
          "height": 132
        },
        "outputId": "1186ebb4-29ab-418f-b8e7-7258fe414602"
      },
      "execution_count": null,
      "outputs": [
        {
          "output_type": "error",
          "ename": "SyntaxError",
          "evalue": "ignored",
          "traceback": [
            "\u001b[0;36m  File \u001b[0;32m\"<ipython-input-8-16ae135b7c11>\"\u001b[0;36m, line \u001b[0;32m2\u001b[0m\n\u001b[0;31m    X_train_std = std_scaler.# COMPLETE THIS LINE\u001b[0m\n\u001b[0m                             ^\u001b[0m\n\u001b[0;31mSyntaxError\u001b[0m\u001b[0;31m:\u001b[0m invalid syntax\n"
          ]
        }
      ]
    },
    {
      "cell_type": "markdown",
      "source": [
        "#### **Problem #1.4**\n",
        "\n",
        "Now, create a *normalized* version of the training and testing data using sklearn's `Normalizer()`. We will use this to compare to the original training and test sets and to the standardized versions."
      ],
      "metadata": {
        "id": "C8y841ctY8QO"
      }
    },
    {
      "cell_type": "code",
      "source": [
        "norm_scaler = Normalizer()\n",
        "X_train_norm = norm_scaler.# COMPLETE THIS LINE\n",
        "X_test_norm = norm_scaler.# COMPLETE THIS LINE"
      ],
      "metadata": {
        "id": "_wIRB6uXY8QP",
        "colab": {
          "base_uri": "https://localhost:8080/",
          "height": 132
        },
        "outputId": "7e61537d-c63d-45c5-d54b-2bc15defc30d"
      },
      "execution_count": null,
      "outputs": [
        {
          "output_type": "error",
          "ename": "SyntaxError",
          "evalue": "ignored",
          "traceback": [
            "\u001b[0;36m  File \u001b[0;32m\"<ipython-input-7-c96157b1571d>\"\u001b[0;36m, line \u001b[0;32m2\u001b[0m\n\u001b[0;31m    X_train_norm = norm_scaler.# COMPLETE THIS LINE\u001b[0m\n\u001b[0m                               ^\u001b[0m\n\u001b[0;31mSyntaxError\u001b[0m\u001b[0;31m:\u001b[0m invalid syntax\n"
          ]
        }
      ]
    },
    {
      "cell_type": "markdown",
      "source": [
        "#### **Problem #1.5**\n",
        "\n",
        "Before moving onto modeling, let's see if we can visually detect any differences between these types of scaling. Specifically, create three scatter plots as follows:\n",
        "1. One comparing the original training data's 0th column to the *standardized* data's 0th column.\n",
        "2. Another comparing the original training data's 0th column to the *normalized* data's 0th column.\n",
        "3. A third one comparing the *standardized* training data's 0th column to the *normalized* data's 0th column."
      ],
      "metadata": {
        "id": "jLIXb88MZGHb"
      }
    },
    {
      "cell_type": "markdown",
      "source": [
        "##### **1. Create a scatter plot comparing the original training data's 0th column to the *standardized* data's 0th column.**\n",
        "\n",
        "**Run the code below to accomplish this task.**"
      ],
      "metadata": {
        "id": "2vmG75AAZlQ-"
      }
    },
    {
      "cell_type": "code",
      "source": [
        "plt.scatter(X_train.iloc[:, 0], X_train_std[:, 0])\n",
        "\n",
        "plt.xlabel('Unscaled Feature 0')\n",
        "plt.ylabel('Standardized Feature 0')\n",
        "plt.title('Comparing Unscaled to Standardized Feature 0')\n",
        "\n",
        "plt.show()"
      ],
      "metadata": {
        "colab": {
          "base_uri": "https://localhost:8080/"
        },
        "id": "2sfVNQb2TsQj",
        "outputId": "16661aa0-71a9-403c-d227-7c5844982eab"
      },
      "execution_count": null,
      "outputs": [
        {
          "output_type": "display_data",
          "data": {
            "text/plain": [
              "<Figure size 640x480 with 1 Axes>"
            ],
            "image/png": "[encoded data removed]"
          },
          "metadata": {}
        }
      ]
    },
    {
      "cell_type": "markdown",
      "source": [
        "##### **2. Create a scatter plot comparing the original training data's 0th column to the *normalized* data's 0th column.**"
      ],
      "metadata": {
        "id": "Rl_2JhsDZ_I_"
      }
    },
    {
      "cell_type": "code",
      "source": [
        "# COMPLETE THIS CODE"
      ],
      "metadata": {
        "id": "k7F84ZrGaDWc"
      },
      "execution_count": null,
      "outputs": []
    },
    {
      "cell_type": "markdown",
      "source": [
        "##### **3. Create a scatter plot comparing the *standardized* data's 0th column to the *normalized* data's 0th column.**"
      ],
      "metadata": {
        "id": "vjAgF3aPaMDa"
      }
    },
    {
      "cell_type": "code",
      "source": [
        "# COMPLETE THIS CODE"
      ],
      "metadata": {
        "id": "vvVz7M7YaMDb"
      },
      "execution_count": null,
      "outputs": []
    },
    {
      "cell_type": "markdown",
      "source": [
        "#### **Problem #1.6**\n",
        "\n",
        "**Discussion Questions**: Based on the visualizations above, does normalization or standardization seem to cause a larger change in the distribution of data? How might this affect a model's ability to make predictions?"
      ],
      "metadata": {
        "id": "_PlhSOPRahgK"
      }
    },
    {
      "cell_type": "markdown",
      "source": [
        "#### **Problem #1.7**\n",
        "\n",
        "Now it's time to model our data. Specifically, create three logistic regression models as follows:\n",
        "\n",
        "1. Modeling with the original, unscaled training data and testing on the test set using a classifcation report and confusion matrix.\n",
        "\n",
        "2. Modeling with the *standardized* training data and testing on the test set using a classifcation report and confusion matrix.\n",
        "\n",
        "3. Modeling with the *normalized* training data and testing on the test set using a classifcation report and confusion matrix."
      ],
      "metadata": {
        "id": "ebdkHYYIbh_X"
      }
    },
    {
      "cell_type": "markdown",
      "source": [
        "##### **1. Create a logistic regression model with the original, unscaled training data and test it on the test set using a classifcation report and confusion matrix.**"
      ],
      "metadata": {
        "id": "fIv1gvXYcFtR"
      }
    },
    {
      "cell_type": "code",
      "source": [
        "model_unscaled = # COMPLETE LINE\n",
        "\n",
        "model_unscaled.fit(# COMPLETE LINE\n",
        "\n",
        "\n",
        "pred_unscaled = model_unscaled.# COMPLETE LINE\n",
        "\n",
        "print(classification_report(y_test, pred_unscaled, labels = model_unscaled.classes_))"
      ],
      "metadata": {
        "id": "JLC6EFmacMTX"
      },
      "execution_count": null,
      "outputs": []
    },
    {
      "cell_type": "code",
      "source": [
        "cm = confusion_matrix(y_test, pred_unscaled, labels=model_unscaled.classes_)\n",
        "\n",
        "disp = ConfusionMatrixDisplay(confusion_matrix=cm, display_labels=model_unscaled.classes_)\n",
        "disp.plot()\n",
        "\n",
        "plt.xticks(rotation = 90)\n",
        "plt.show()"
      ],
      "metadata": {
        "id": "8urBAsyhcYIL"
      },
      "execution_count": null,
      "outputs": []
    },
    {
      "cell_type": "markdown",
      "source": [
        "##### **2. Create a logistic regression model with the *standardized* training data and test it on the test set using a classifcation report and confusion matrix.**"
      ],
      "metadata": {
        "id": "UVhqBYvQcb8R"
      }
    },
    {
      "cell_type": "code",
      "source": [
        "model_std = # COMPLETE THIS LINE\n",
        "\n",
        "model_std.fit(# COMPLETE THIS LINE\n",
        "\n",
        "pred_std =  # COMPLETE THIS LINE\n",
        "\n",
        "print(classification_report(# COMPLETE THIS LINE"
      ],
      "metadata": {
        "id": "v8WO792qch_m"
      },
      "execution_count": null,
      "outputs": []
    },
    {
      "cell_type": "code",
      "source": [
        "cm = confusion_matrix(# COMPLETE THIS LINE\n",
        "\n",
        "disp = ConfusionMatrixDisplay(confusion_matrix=cm, display_labels=# COMPLETE THIS LINE\n",
        "disp.plot()\n",
        "\n",
        "plt.xticks(rotation = 90)\n",
        "plt.show()"
      ],
      "metadata": {
        "id": "JHYwWU7achgt"
      },
      "execution_count": null,
      "outputs": []
    },
    {
      "cell_type": "markdown",
      "source": [
        "##### **3. Create a logistic regression model with the *normalized* training data and test it on the test set using a classifcation report and confusion matrix.**"
      ],
      "metadata": {
        "id": "BuFM3HfkcwzK"
      }
    },
    {
      "cell_type": "code",
      "source": [
        "model_norm = # COMPLETE THIS LINE\n",
        "\n",
        "# COMPLETE THIS CODE"
      ],
      "metadata": {
        "id": "pUTHpSHcczW6"
      },
      "execution_count": null,
      "outputs": []
    },
    {
      "cell_type": "code",
      "source": [
        "# COMPLETE THIS CODE"
      ],
      "metadata": {
        "id": "oXi2Igtpczwn"
      },
      "execution_count": null,
      "outputs": []
    },
    {
      "cell_type": "markdown",
      "source": [
        "#### **Reflection questions**\n",
        "Answer the following questions:\n",
        "\n",
        "1. Which of the three models had the highest performance?\n",
        "\n",
        "2. Which of the three models had the lowest performance?\n",
        "\n",
        "3. For the highest performing model, what two classes did it struggle with the most according to the f1-score.\n",
        "\n",
        "4. Using the confusion matrix, can you explain what the model may be struggling with for these two classes?\n",
        "\n",
        "5. What might this struggle to identify these two classes reveal about them?"
      ],
      "metadata": {
        "id": "omgegSJa9dR9"
      }
    },
    {
      "cell_type": "markdown",
      "source": [
        "<a name=\"p2\"></a>\n",
        "\n",
        "---\n",
        "## **Part 2: Investigating Feature Encoding**\n",
        "---\n",
        "\n",
        "In this section, we will investigate the role that different forms of encoding have on a model's performance. Specifically, we will use logistic regression to predict a high school student's final grade according to a discrete category of 0 - 20. This dataset contains many features, as described below:\n",
        "\n",
        "* `school`: `GP` or `MS` are two different schools in Portugal where the data was collected.\n",
        "\n",
        "* `sex`: `F` or `M` as the students identified.\n",
        "\n",
        "* `age`: ranging from 15 - 22.\n",
        "\n",
        "* `address`: `U` for urban and `R` for rural.\n",
        "\n",
        "* `famsize`: `GT3` for greater than 3 family members and `LE3` for less than or equal to 3 family members.\n",
        "\n",
        "* `Pstatus`: `T` if parents are living together and `A` if parents are living apart.\n",
        "\n",
        "* `Medu`: Mother's education status. 'none' for no education, 'primary' for through 4th grade, 'middleschool' for through 9th grade, 'highschool' for through 12th grade, 'higher' for anything over 12th grade.\n",
        "\n",
        "* `Fedu`: Father's education status. Same categories as `Medu`.\n",
        "\n",
        "* `Mjob`: Mother's job.\n",
        "\n",
        "* `Fjob`: Father's job.\n",
        "\n",
        "* `reason`: Reason parents chose this school, which can be close to `home`, school `reputation`, `course` preference or `other`.\n",
        "\n",
        "* `guardian`: Student's main guardian, which can be `father`, `mother`, or `other`.\n",
        "\n",
        "* `traveltime`: How many minutes the student has to travel to get to school.\n",
        "\n",
        "* `studytime`: How many hours the student studies per week.\n",
        "\n",
        "* `failures`: How many classes the student has failed in the past.\n",
        "\n",
        "* `schoolsup`: Whether the student is receiving any extra educational support.\n",
        "\n",
        "* `famsup`: Whether the student is receiving any family educational support.\n",
        "\n",
        "* `paid`: Whether the student is taking any extra paid courses within a course subject.\n",
        "\n",
        "* `activities`: Whether the student is engaged in any extra-curricular activities.\n",
        "\n",
        "* `nursery`: Whether the student attended nursery school.\n",
        "\n",
        "* `higher`: Whether the student has expressed interested in taking higher education after graduating high school.\n",
        "\n",
        "* `internet`: Whether the student has internet access at home.\n",
        "\n",
        "* `romantic`: Whether the student has said they are engaged in a romantic relationship.\n",
        "\n",
        "* `famrel`: How the student has rated the quality of their family relationships on a scale from 1 (very bad) to 5 (excellent).\n",
        "\n",
        "* `freetime`: How the student has rated the amount of free time after school on a scale from 1 (very low) to 5 (very high).\n",
        "\n",
        "* `goout`: How the student has rated how often they go out with friends on a scale from 1 (very low) to 5 (very high).\n",
        "\n",
        "* `Dalc`: How the student has rated their weekday alcohol consumption on a scale from 1 (very low) to 5 (very high).\n",
        "\n",
        "* `Walc`: How the student has rated their weekend alcohol consumption on a scale from 1 (very low) to 5 (very high).\n",
        "\n",
        "* `health`: How the student's health ranks on a scale from 1 (very bady) to 5 (very good).\n",
        "\n",
        "* `absences`: The number of days the student has been absent.\n",
        "\n",
        "* `G1`: Grade in first period.\n",
        "\n",
        "* `G2`: Grade in second period.\n",
        "\n",
        "* `G3`: The overall grade of the student at the end of the year."
      ],
      "metadata": {
        "id": "oNjVGclegfzH"
      }
    },
    {
      "cell_type": "code",
      "source": [
        "import pandas as pd\n",
        "url = 'https://raw.githubusercontent.com/the-codingschool/TRAIN-datasets/main/student-por.csv'\n",
        "df = pd.read_csv(url)\n",
        "\n",
        "edu_map = {0: 'none', 1: 'primary', 2: 'middleschool', 3: 'highschool', 4: 'higher'}\n",
        "df['Medu'] = df['Medu'].map(edu_map)\n",
        "df['Fedu'] = df['Fedu'].map(edu_map)\n",
        "\n",
        "df['traveltime'] *= 15\n",
        "df['studytime'] *= 2.5\n",
        "\n",
        "\n",
        "df.head()\n",
        "df.describe()"
      ],
      "metadata": {
        "colab": {
          "base_uri": "https://localhost:8080/",
          "height": 364
        },
        "id": "StWl7r2jl84-",
        "outputId": "9b70d737-df35-4fea-de1c-5980893cc0f2"
      },
      "execution_count": null,
      "outputs": [
        {
          "output_type": "execute_result",
          "data": {
            "text/plain": [
              "              age  traveltime   studytime    failures      famrel    freetime  \\\n",
              "count  649.000000  649.000000  649.000000  649.000000  649.000000  649.000000   \n",
              "mean    16.744222   23.528505    4.826656    0.221880    3.930663    3.180277   \n",
              "std      1.218138   11.229901    2.073774    0.593235    0.955717    1.051093   \n",
              "min     15.000000   15.000000    2.500000    0.000000    1.000000    1.000000   \n",
              "25%     16.000000   15.000000    2.500000    0.000000    4.000000    3.000000   \n",
              "50%     17.000000   15.000000    5.000000    0.000000    4.000000    3.000000   \n",
              "75%     18.000000   30.000000    5.000000    0.000000    5.000000    4.000000   \n",
              "max     22.000000   60.000000   10.000000    3.000000    5.000000    5.000000   \n",
              "\n",
              "            goout        Dalc        Walc      health    absences          G1  \\\n",
              "count  649.000000  649.000000  649.000000  649.000000  649.000000  649.000000   \n",
              "mean     3.184900    1.502311    2.280431    3.536210    3.659476   11.399076   \n",
              "std      1.175766    0.924834    1.284380    1.446259    4.640759    2.745265   \n",
              "min      1.000000    1.000000    1.000000    1.000000    0.000000    0.000000   \n",
              "25%      2.000000    1.000000    1.000000    2.000000    0.000000   10.000000   \n",
              "50%      3.000000    1.000000    2.000000    4.000000    2.000000   11.000000   \n",
              "75%      4.000000    2.000000    3.000000    5.000000    6.000000   13.000000   \n",
              "max      5.000000    5.000000    5.000000    5.000000   32.000000   19.000000   \n",
              "\n",
              "               G2          G3  \n",
              "count  649.000000  649.000000  \n",
              "mean    11.570108   11.906009  \n",
              "std      2.913639    3.230656  \n",
              "min      0.000000    0.000000  \n",
              "25%     10.000000   10.000000  \n",
              "50%     11.000000   12.000000  \n",
              "75%     13.000000   14.000000  \n",
              "max     19.000000   19.000000  "
            ],
            "text/html": [
              "\n",
              "\n",
              "  <div id=\"df-1c1124d1-a467-487c-9531-f5445b37e4c2\">\n",
              "    <div class=\"colab-df-container\">\n",
              "      <div>\n",
              "<style scoped>\n",
              "    .dataframe tbody tr th:only-of-type {\n",
              "        vertical-align: middle;\n",
              "    }\n",
              "\n",
              "    .dataframe tbody tr th {\n",
              "        vertical-align: top;\n",
              "    }\n",
              "\n",
              "    .dataframe thead th {\n",
              "        text-align: right;\n",
              "    }\n",
              "</style>\n",
              "<table border=\"1\" class=\"dataframe\">\n",
              "  <thead>\n",
              "    <tr style=\"text-align: right;\">\n",
              "      <th></th>\n",
              "      <th>age</th>\n",
              "      <th>traveltime</th>\n",
              "      <th>studytime</th>\n",
              "      <th>failures</th>\n",
              "      <th>famrel</th>\n",
              "      <th>freetime</th>\n",
              "      <th>goout</th>\n",
              "      <th>Dalc</th>\n",
              "      <th>Walc</th>\n",
              "      <th>health</th>\n",
              "      <th>absences</th>\n",
              "      <th>G1</th>\n",
              "      <th>G2</th>\n",
              "      <th>G3</th>\n",
              "    </tr>\n",
              "  </thead>\n",
              "  <tbody>\n",
              "    <tr>\n",
              "      <th>count</th>\n",
              "      <td>649.000000</td>\n",
              "      <td>649.000000</td>\n",
              "      <td>649.000000</td>\n",
              "      <td>649.000000</td>\n",
              "      <td>649.000000</td>\n",
              "      <td>649.000000</td>\n",
              "      <td>649.000000</td>\n",
              "      <td>649.000000</td>\n",
              "      <td>649.000000</td>\n",
              "      <td>649.000000</td>\n",
              "      <td>649.000000</td>\n",
              "      <td>649.000000</td>\n",
              "      <td>649.000000</td>\n",
              "      <td>649.000000</td>\n",
              "    </tr>\n",
              "    <tr>\n",
              "      <th>mean</th>\n",
              "      <td>16.744222</td>\n",
              "      <td>23.528505</td>\n",
              "      <td>4.826656</td>\n",
              "      <td>0.221880</td>\n",
              "      <td>3.930663</td>\n",
              "      <td>3.180277</td>\n",
              "      <td>3.184900</td>\n",
              "      <td>1.502311</td>\n",
              "      <td>2.280431</td>\n",
              "      <td>3.536210</td>\n",
              "      <td>3.659476</td>\n",
              "      <td>11.399076</td>\n",
              "      <td>11.570108</td>\n",
              "      <td>11.906009</td>\n",
              "    </tr>\n",
              "    <tr>\n",
              "      <th>std</th>\n",
              "      <td>1.218138</td>\n",
              "      <td>11.229901</td>\n",
              "      <td>2.073774</td>\n",
              "      <td>0.593235</td>\n",
              "      <td>0.955717</td>\n",
              "      <td>1.051093</td>\n",
              "      <td>1.175766</td>\n",
              "      <td>0.924834</td>\n",
              "      <td>1.284380</td>\n",
              "      <td>1.446259</td>\n",
              "      <td>4.640759</td>\n",
              "      <td>2.745265</td>\n",
              "      <td>2.913639</td>\n",
              "      <td>3.230656</td>\n",
              "    </tr>\n",
              "    <tr>\n",
              "      <th>min</th>\n",
              "      <td>15.000000</td>\n",
              "      <td>15.000000</td>\n",
              "      <td>2.500000</td>\n",
              "      <td>0.000000</td>\n",
              "      <td>1.000000</td>\n",
              "      <td>1.000000</td>\n",
              "      <td>1.000000</td>\n",
              "      <td>1.000000</td>\n",
              "      <td>1.000000</td>\n",
              "      <td>1.000000</td>\n",
              "      <td>0.000000</td>\n",
              "      <td>0.000000</td>\n",
              "      <td>0.000000</td>\n",
              "      <td>0.000000</td>\n",
              "    </tr>\n",
              "    <tr>\n",
              "      <th>25%</th>\n",
              "      <td>16.000000</td>\n",
              "      <td>15.000000</td>\n",
              "      <td>2.500000</td>\n",
              "      <td>0.000000</td>\n",
              "      <td>4.000000</td>\n",
              "      <td>3.000000</td>\n",
              "      <td>2.000000</td>\n",
              "      <td>1.000000</td>\n",
              "      <td>1.000000</td>\n",
              "      <td>2.000000</td>\n",
              "      <td>0.000000</td>\n",
              "      <td>10.000000</td>\n",
              "      <td>10.000000</td>\n",
              "      <td>10.000000</td>\n",
              "    </tr>\n",
              "    <tr>\n",
              "      <th>50%</th>\n",
              "      <td>17.000000</td>\n",
              "      <td>15.000000</td>\n",
              "      <td>5.000000</td>\n",
              "      <td>0.000000</td>\n",
              "      <td>4.000000</td>\n",
              "      <td>3.000000</td>\n",
              "      <td>3.000000</td>\n",
              "      <td>1.000000</td>\n",
              "      <td>2.000000</td>\n",
              "      <td>4.000000</td>\n",
              "      <td>2.000000</td>\n",
              "      <td>11.000000</td>\n",
              "      <td>11.000000</td>\n",
              "      <td>12.000000</td>\n",
              "    </tr>\n",
              "    <tr>\n",
              "      <th>75%</th>\n",
              "      <td>18.000000</td>\n",
              "      <td>30.000000</td>\n",
              "      <td>5.000000</td>\n",
              "      <td>0.000000</td>\n",
              "      <td>5.000000</td>\n",
              "      <td>4.000000</td>\n",
              "      <td>4.000000</td>\n",
              "      <td>2.000000</td>\n",
              "      <td>3.000000</td>\n",
              "      <td>5.000000</td>\n",
              "      <td>6.000000</td>\n",
              "      <td>13.000000</td>\n",
              "      <td>13.000000</td>\n",
              "      <td>14.000000</td>\n",
              "    </tr>\n",
              "    <tr>\n",
              "      <th>max</th>\n",
              "      <td>22.000000</td>\n",
              "      <td>60.000000</td>\n",
              "      <td>10.000000</td>\n",
              "      <td>3.000000</td>\n",
              "      <td>5.000000</td>\n",
              "      <td>5.000000</td>\n",
              "      <td>5.000000</td>\n",
              "      <td>5.000000</td>\n",
              "      <td>5.000000</td>\n",
              "      <td>5.000000</td>\n",
              "      <td>32.000000</td>\n",
              "      <td>19.000000</td>\n",
              "      <td>19.000000</td>\n",
              "      <td>19.000000</td>\n",
              "    </tr>\n",
              "  </tbody>\n",
              "</table>\n",
              "</div>\n",
              "      <button class=\"colab-df-convert\" onclick=\"convertToInteractive('df-1c1124d1-a467-487c-9531-f5445b37e4c2')\"\n",
              "              title=\"Convert this dataframe to an interactive table.\"\n",
              "              style=\"display:none;\">\n",
              "\n",
              "  <svg xmlns=\"http://www.w3.org/2000/svg\" height=\"24px\"viewBox=\"0 0 24 24\"\n",
              "       width=\"24px\">\n",
              "    <path d=\"M0 0h24v24H0V0z\" fill=\"none\"/>\n",
              "    <path d=\"M18.56 5.44l.94 2.06.94-2.06 2.06-.94-2.06-.94-.94-2.06-.94 2.06-2.06.94zm-11 1L8.5 8.5l.94-2.06 2.06-.94-2.06-.94L8.5 2.5l-.94 2.06-2.06.94zm10 10l.94 2.06.94-2.06 2.06-.94-2.06-.94-.94-2.06-.94 2.06-2.06.94z\"/><path d=\"M17.41 7.96l-1.37-1.37c-.4-.4-.92-.59-1.43-.59-.52 0-1.04.2-1.43.59L10.3 9.45l-7.72 7.72c-.78.78-.78 2.05 0 2.83L4 21.41c.39.39.9.59 1.41.59.51 0 1.02-.2 1.41-.59l7.78-7.78 2.81-2.81c.8-.78.8-2.07 0-2.86zM5.41 20L4 18.59l7.72-7.72 1.47 1.35L5.41 20z\"/>\n",
              "  </svg>\n",
              "      </button>\n",
              "\n",
              "\n",
              "\n",
              "    <div id=\"df-25495cff-e0e9-4f0d-8f60-5cd5aa0ab1b8\">\n",
              "      <button class=\"colab-df-quickchart\" onclick=\"quickchart('df-25495cff-e0e9-4f0d-8f60-5cd5aa0ab1b8')\"\n",
              "              title=\"Suggest charts.\"\n",
              "              style=\"display:none;\">\n",
              "\n",
              "<svg xmlns=\"http://www.w3.org/2000/svg\" height=\"24px\"viewBox=\"0 0 24 24\"\n",
              "     width=\"24px\">\n",
              "    <g>\n",
              "        <path d=\"M19 3H5c-1.1 0-2 .9-2 2v14c0 1.1.9 2 2 2h14c1.1 0 2-.9 2-2V5c0-1.1-.9-2-2-2zM9 17H7v-7h2v7zm4 0h-2V7h2v10zm4 0h-2v-4h2v4z\"/>\n",
              "    </g>\n",
              "</svg>\n",
              "      </button>\n",
              "    </div>\n",
              "\n",
              "<style>\n",
              "  .colab-df-quickchart {\n",
              "    background-color: #E8F0FE;\n",
              "    border: none;\n",
              "    border-radius: 50%;\n",
              "    cursor: pointer;\n",
              "    display: none;\n",
              "    fill: #1967D2;\n",
              "    height: 32px;\n",
              "    padding: 0 0 0 0;\n",
              "    width: 32px;\n",
              "  }\n",
              "\n",
              "  .colab-df-quickchart:hover {\n",
              "    background-color: #E2EBFA;\n",
              "    box-shadow: 0px 1px 2px rgba(60, 64, 67, 0.3), 0px 1px 3px 1px rgba(60, 64, 67, 0.15);\n",
              "    fill: #174EA6;\n",
              "  }\n",
              "\n",
              "  [theme=dark] .colab-df-quickchart {\n",
              "    background-color: #3B4455;\n",
              "    fill: #D2E3FC;\n",
              "  }\n",
              "\n",
              "  [theme=dark] .colab-df-quickchart:hover {\n",
              "    background-color: #434B5C;\n",
              "    box-shadow: 0px 1px 3px 1px rgba(0, 0, 0, 0.15);\n",
              "    filter: drop-shadow(0px 1px 2px rgba(0, 0, 0, 0.3));\n",
              "    fill: #FFFFFF;\n",
              "  }\n",
              "</style>\n",
              "\n",
              "    <script>\n",
              "      async function quickchart(key) {\n",
              "        const containerElement = document.querySelector('#' + key);\n",
              "        const charts = await google.colab.kernel.invokeFunction(\n",
              "            'suggestCharts', [key], {});\n",
              "      }\n",
              "    </script>\n",
              "\n",
              "      <script>\n",
              "\n",
              "function displayQuickchartButton(domScope) {\n",
              "  let quickchartButtonEl =\n",
              "    domScope.querySelector('#df-25495cff-e0e9-4f0d-8f60-5cd5aa0ab1b8 button.colab-df-quickchart');\n",
              "  quickchartButtonEl.style.display =\n",
              "    google.colab.kernel.accessAllowed ? 'block' : 'none';\n",
              "}\n",
              "\n",
              "        displayQuickchartButton(document);\n",
              "      </script>\n",
              "      <style>\n",
              "    .colab-df-container {\n",
              "      display:flex;\n",
              "      flex-wrap:wrap;\n",
              "      gap: 12px;\n",
              "    }\n",
              "\n",
              "    .colab-df-convert {\n",
              "      background-color: #E8F0FE;\n",
              "      border: none;\n",
              "      border-radius: 50%;\n",
              "      cursor: pointer;\n",
              "      display: none;\n",
              "      fill: #1967D2;\n",
              "      height: 32px;\n",
              "      padding: 0 0 0 0;\n",
              "      width: 32px;\n",
              "    }\n",
              "\n",
              "    .colab-df-convert:hover {\n",
              "      background-color: #E2EBFA;\n",
              "      box-shadow: 0px 1px 2px rgba(60, 64, 67, 0.3), 0px 1px 3px 1px rgba(60, 64, 67, 0.15);\n",
              "      fill: #174EA6;\n",
              "    }\n",
              "\n",
              "    [theme=dark] .colab-df-convert {\n",
              "      background-color: #3B4455;\n",
              "      fill: #D2E3FC;\n",
              "    }\n",
              "\n",
              "    [theme=dark] .colab-df-convert:hover {\n",
              "      background-color: #434B5C;\n",
              "      box-shadow: 0px 1px 3px 1px rgba(0, 0, 0, 0.15);\n",
              "      filter: drop-shadow(0px 1px 2px rgba(0, 0, 0, 0.3));\n",
              "      fill: #FFFFFF;\n",
              "    }\n",
              "  </style>\n",
              "\n",
              "      <script>\n",
              "        const buttonEl =\n",
              "          document.querySelector('#df-1c1124d1-a467-487c-9531-f5445b37e4c2 button.colab-df-convert');\n",
              "        buttonEl.style.display =\n",
              "          google.colab.kernel.accessAllowed ? 'block' : 'none';\n",
              "\n",
              "        async function convertToInteractive(key) {\n",
              "          const element = document.querySelector('#df-1c1124d1-a467-487c-9531-f5445b37e4c2');\n",
              "          const dataTable =\n",
              "            await google.colab.kernel.invokeFunction('convertToInteractive',\n",
              "                                                     [key], {});\n",
              "          if (!dataTable) return;\n",
              "\n",
              "          const docLinkHtml = 'Like what you see? Visit the ' +\n",
              "            '<a target=\"_blank\" href=https://colab.research.google.com/notebooks/data_table.ipynb>data table notebook</a>'\n",
              "            + ' to learn more about interactive tables.';\n",
              "          element.innerHTML = '';\n",
              "          dataTable['output_type'] = 'display_data';\n",
              "          await google.colab.output.renderOutput(dataTable, element);\n",
              "          const docLink = document.createElement('div');\n",
              "          docLink.innerHTML = docLinkHtml;\n",
              "          element.appendChild(docLink);\n",
              "        }\n",
              "      </script>\n",
              "    </div>\n",
              "  </div>\n"
            ]
          },
          "metadata": {},
          "execution_count": 1
        }
      ]
    },
    {
      "cell_type": "markdown",
      "source": [
        "#### **Problem #2.1**\n",
        "\n",
        "Just like with scaling, we must first split our training and test data *before* encoding to ensure there is no possible way for information to be exchanged between the training and test sets.\n",
        "\n",
        "In particular, use `G3` as the label and split the data using the conventional 80/20 train/test split."
      ],
      "metadata": {
        "id": "oeVy_kNhBOI2"
      }
    },
    {
      "cell_type": "code",
      "source": [
        "features = # COMPLETE THIS LINE\n",
        "label = # COMPLETE THIS LINE\n",
        "\n",
        "X_train, X_test, y_train, y_test = train_test_split(# COMPLETE THIS LINE"
      ],
      "metadata": {
        "id": "vevQUihBBj3J"
      },
      "execution_count": null,
      "outputs": []
    },
    {
      "cell_type": "markdown",
      "source": [
        "#### **Problem #2.2**\n",
        "\n",
        "To motivate why we need encodings, attempt training a logistic regression model on the raw training set below."
      ],
      "metadata": {
        "id": "aYBVI7quB-OB"
      }
    },
    {
      "cell_type": "code",
      "source": [
        "model = LogisticRegression()\n",
        "\n",
        "model.fit(# COMPLETE THIS LINE"
      ],
      "metadata": {
        "id": "GN1rmeThCFNd"
      },
      "execution_count": null,
      "outputs": []
    },
    {
      "cell_type": "markdown",
      "source": [
        "#### **Problem #2.3**\n",
        "\n",
        "\n",
        "Now, let's create 4 versions of the training and test sets to compare how different approaches to dealing with categorical variables work. Specifically,\n",
        "\n",
        "1. Create a version of `X_train` and `X_test` where the unencoded categorical variables are just dropped.\n",
        "\n",
        "2. Create a version of `X_train` and `X_test` where the unencoded categorical variables are encoded using ordinal encoding.\n",
        "\n",
        "3. Create a version of `X_train` and `X_test` where the unencoded categorical variables are one hot encoded.\n",
        "\n",
        "4. Create a version of `X_train` and `X_test` where the unencoded categorical variables are dummy variable encoded.\n",
        "\n",
        "<br>\n",
        "\n",
        "**Run the cell below to see the subset of all categorical (`object` type) columns in this data frame.**"
      ],
      "metadata": {
        "id": "fT__nIpQ8Qz-"
      }
    },
    {
      "cell_type": "code",
      "source": [
        "columns_to_encode = df.select_dtypes(include = object).columns\n",
        "\n",
        "print(columns_to_encode)"
      ],
      "metadata": {
        "colab": {
          "base_uri": "https://localhost:8080/"
        },
        "id": "8qWdlGJT8T8H",
        "outputId": "bf3171aa-22c0-4060-9e81-dee8e4225a59"
      },
      "execution_count": null,
      "outputs": [
        {
          "output_type": "stream",
          "name": "stdout",
          "text": [
            "Index(['school', 'sex', 'address', 'famsize', 'Pstatus', 'Medu', 'Fedu',\n",
            "       'Mjob', 'Fjob', 'reason', 'guardian', 'schoolsup', 'famsup', 'paid',\n",
            "       'activities', 'nursery', 'higher', 'internet', 'romantic'],\n",
            "      dtype='object')\n"
          ]
        }
      ]
    },
    {
      "cell_type": "markdown",
      "source": [
        "##### **1. Create a version of `X_train` and `X_test` where the unencoded categorical variables are just dropped.**"
      ],
      "metadata": {
        "id": "2zQOnPaMDBDl"
      }
    },
    {
      "cell_type": "code",
      "source": [
        "X_train_drop = X_train.drop(# COMPLETE THIS LINE\n",
        "X_test_drop = # COMPLETE THIS LINE\n",
        "\n",
        "X_train_drop.head()"
      ],
      "metadata": {
        "id": "W5ywJHjwDFLA"
      },
      "execution_count": null,
      "outputs": []
    },
    {
      "cell_type": "markdown",
      "source": [
        "##### **2. Create a version of `X_train` and `X_test` where the unencoded categorical variables are encoded using ordinal encoding.**\n",
        "\n",
        "**NOTE**: We must make copies of the original training and test sets using `.copy()` so that any modifications we make to these training and test sets do not modify the original ones."
      ],
      "metadata": {
        "id": "X9W647w_DVyn"
      }
    },
    {
      "cell_type": "code",
      "source": [
        "X_train_ord = X_train.copy()\n",
        "X_test_ord = X_test.copy()\n",
        "\n",
        "\n",
        "ord_enc = OrdinalEncoder()\n",
        "\n",
        "X_train_ord[columns_to_encode] = ord_enc.fit_transform(# COMPLETE THIS LINE\n",
        "X_test_ord[columns_to_encode] = ord_enc.transform(# COMPLETE THIS LINE\n",
        "\n",
        "X_train_ord.head()"
      ],
      "metadata": {
        "id": "BdAWJhVKDhZr"
      },
      "execution_count": null,
      "outputs": []
    },
    {
      "cell_type": "markdown",
      "source": [
        "##### **3. Create a version of `X_train` and `X_test` where the unencoded categorical variables are one hot encoded.**\n",
        "\n",
        "Since one hot encoding creates a new feature for every possible value of categorical features, the number of columns will grow dramatically. To account for this, we will break this process into two steps:\n",
        "\n",
        "1. Fit the one hot encoder to the training data and determine the new features.\n",
        "\n",
        "2. Transform (encode) the training and test sets accordingly."
      ],
      "metadata": {
        "id": "ImN_jRh_Dbt-"
      }
    },
    {
      "cell_type": "code",
      "source": [
        "X_train_ohe = X_train_drop.copy()\n",
        "X_test_ohe = X_test_drop.copy()\n",
        "\n",
        "\n",
        "ohe_enc = OneHotEncoder(sparse_output = False)\n",
        "ohe_enc.set_output(transform = 'pandas')\n",
        "\n",
        "ohe_enc.fit(X_train[# COMPLETE THIS LINE\n",
        "\n",
        "ohe_columns = ohe_enc.get_feature_names_out()\n",
        "print(ohe_columns)"
      ],
      "metadata": {
        "id": "BknQMiiIHPZB"
      },
      "execution_count": null,
      "outputs": []
    },
    {
      "cell_type": "code",
      "source": [
        "X_train_ohe[ohe_columns] = ohe_enc.transform(X_train[# COMPLETE THIS LINE\n",
        "X_test_ohe[# COMPLETE THIS LINE\n",
        "\n",
        "X_train_ohe.head()"
      ],
      "metadata": {
        "id": "Cj_Iwf7LHPZD"
      },
      "execution_count": null,
      "outputs": []
    },
    {
      "cell_type": "markdown",
      "source": [
        "##### **4. Create a version of `X_train` and `X_test` where the unencoded categorical variables are dummy variable encoded.**\n",
        "\n",
        "Since dummy variable encoding is very similar to one hot encoding, we will follow the same process as above:\n",
        "\n",
        "1. Fit the one hot encoder to the training data and determine the new features.\n",
        "\n",
        "2. Transform (encode) the training and test sets accordingly."
      ],
      "metadata": {
        "id": "l_893EzuHzLi"
      }
    },
    {
      "cell_type": "code",
      "source": [
        "X_train_ohe = X_train_drop.copy()\n",
        "X_test_ohe = X_test_drop.copy()\n",
        "\n",
        "\n",
        "ohe_enc = OneHotEncoder(sparse_output = False)\n",
        "ohe_enc.set_output(transform = 'pandas')\n",
        "\n",
        "ohe_enc.fit(X_train[# COMPLETE THIS LINE\n",
        "\n",
        "ohe_columns = ohe_enc.get_feature_names_out()\n",
        "print(ohe_columns)"
      ],
      "metadata": {
        "id": "JWJ4Z2k0HzLr"
      },
      "execution_count": null,
      "outputs": []
    },
    {
      "cell_type": "code",
      "source": [
        "X_train_ohe[ohe_columns] = ohe_enc.transform(X_train[# COMPLETE THIS LINE\n",
        "X_test_ohe[# COMPLETE THIS LINE\n",
        "\n",
        "X_train_ohe.head()"
      ],
      "metadata": {
        "id": "_9_jDxEzHzLs"
      },
      "execution_count": null,
      "outputs": []
    },
    {
      "cell_type": "markdown",
      "source": [
        "#### **Problem #2.4**\n",
        "\n",
        "We now have 4 distinct datasets to train models on:\n",
        "1. `X_train_drop` and `X_test_drop`\n",
        "2. `X_train_ord` and `X_test_ord`\n",
        "3. `X_train_ohe` and `X_test_ohe`\n",
        "4. `X_train_dv` and `X_test_dv`\n",
        "\n",
        "To understand the effect that these different approaches can have, fit a logistic regression model to each dataset and evaluate it using the classification report and confusion matrix."
      ],
      "metadata": {
        "id": "xj3Q2f5QIlJF"
      }
    },
    {
      "cell_type": "markdown",
      "source": [
        "##### **1. `X_train_drop` and `X_test_drop`**"
      ],
      "metadata": {
        "id": "CvKDemYSJQKy"
      }
    },
    {
      "cell_type": "code",
      "source": [
        "model_drop = LogisticRegression()\n",
        "\n",
        "model_drop.fit(# COMPLETE THIS LINE\n",
        "\n",
        "pred_drop = model_drop.predict(# COMPLETE THIS LINE\n",
        "\n",
        "print(classification_report(y_test, pred_drop, labels = model_drop.classes_))"
      ],
      "metadata": {
        "id": "Hw1r72JkJa5x"
      },
      "execution_count": null,
      "outputs": []
    },
    {
      "cell_type": "code",
      "source": [
        "cm = confusion_matrix(y_test, pred_drop, labels=model_drop.classes_)\n",
        "\n",
        "disp = ConfusionMatrixDisplay(confusion_matrix=cm, display_labels=model_drop.classes_)\n",
        "disp.plot()\n",
        "\n",
        "plt.xticks(rotation = 90)\n",
        "plt.show()"
      ],
      "metadata": {
        "id": "T-h-4STBKQTB"
      },
      "execution_count": null,
      "outputs": []
    },
    {
      "cell_type": "markdown",
      "source": [
        "##### **2. `X_train_ord` and `X_test_ord`**"
      ],
      "metadata": {
        "id": "IX1m8f_LJWhy"
      }
    },
    {
      "cell_type": "code",
      "source": [],
      "metadata": {
        "id": "HwmjME43KYuw"
      },
      "execution_count": null,
      "outputs": []
    },
    {
      "cell_type": "code",
      "source": [],
      "metadata": {
        "id": "g6F26AODKYux"
      },
      "execution_count": null,
      "outputs": []
    },
    {
      "cell_type": "markdown",
      "source": [
        "##### **3. `X_train_ohe` and `X_test_ohe`**"
      ],
      "metadata": {
        "id": "SRSUyJi9JXYR"
      }
    },
    {
      "cell_type": "code",
      "source": [],
      "metadata": {
        "id": "9inzm51nJeVD"
      },
      "execution_count": null,
      "outputs": []
    },
    {
      "cell_type": "markdown",
      "source": [
        "##### **4. `X_train_dv` and `X_test_dv`**"
      ],
      "metadata": {
        "id": "LDGbr8vgJYR6"
      }
    },
    {
      "cell_type": "code",
      "source": [],
      "metadata": {
        "id": "rxUBCW8mJfDS"
      },
      "execution_count": null,
      "outputs": []
    },
    {
      "cell_type": "markdown",
      "source": [
        "### **Reflection questions**\n",
        "Answer the following questions:\n",
        "\n",
        "1. Which of the four models had the highest performance?\n",
        "\n",
        "2. Which of the four models had the lowest performance?\n",
        "\n",
        "3. How does the highest performing model compare to randomly guessing the grade (from 0 - 19)? **NOTE**: We can use the model's weighted avg f1-score as a comparison."
      ],
      "metadata": {
        "id": "Td0fDPyION-7"
      }
    },
    {
      "cell_type": "markdown",
      "source": [
        "<a name=\"p3\"></a>\n",
        "\n",
        "---\n",
        "## **Part 3: GridSearchCV**\n",
        "---"
      ],
      "metadata": {
        "id": "Wc0iVDLoJBoZ"
      }
    },
    {
      "cell_type": "markdown",
      "source": [
        "#### **Problem #3.1**\n",
        "\n",
        "Run the code below to determine the performance of your KNN model for many K values.\n",
        "\n",
        "<br>\n"
      ],
      "metadata": {
        "id": "muOIF3KiJI2t"
      }
    },
    {
      "cell_type": "code",
      "source": [
        "url = \"https://docs.google.com/spreadsheets/d/e/2PACX-1vQgXRAZvBDRckm_Ll_LGXM7NTSHgBmoZA93QUDI6PBP37gMtq98ZNEE6PNf-WwUx1SGWT0diVo8JgGb/pub?gid=23834121&single=true&output=csv\"\n",
        "rainfall_df = pd.read_csv(url)\n",
        "\n",
        "rainfall_df.head()\n",
        "\n",
        "features = rainfall_df[[\"WindSpeed\", \"Temp\"]]\n",
        "label = rainfall_df[\"RainToday\"]\n",
        "\n",
        "X_train, X_test, y_train, y_test = train_test_split(features, label, test_size=0.2, random_state=42)\n",
        "\n",
        "scaler = StandardScaler()\n",
        "scaler.fit(X_train)\n",
        "\n",
        "X_train_scaled = scaler.transform(X_train)\n",
        "X_test_scaled = scaler.transform(X_test)\n",
        "\n",
        "from sklearn.neighbors import KNeighborsClassifier\n",
        "\n",
        "model = KNeighborsClassifier(n_neighbors = 5)\n",
        "model_scaled = KNeighborsClassifier(n_neighbors = 5)\n",
        "\n",
        "model.fit(X_train, y_train)\n",
        "\n",
        "model_scaled.fit(X_train_scaled, y_train)\n",
        "\n",
        "predictions = model.predict(X_test)\n",
        "metrics.accuracy_score(y_test, predictions)\n",
        "\n",
        "predictions_scaled = model_scaled.predict(X_test_scaled)\n",
        "metrics.accuracy_score(y_test, predictions_scaled)\n"
      ],
      "metadata": {
        "id": "EdsQmkXLHSX8"
      },
      "execution_count": null,
      "outputs": []
    },
    {
      "cell_type": "code",
      "source": [
        "from sklearn.model_selection import GridSearchCV\n",
        "\n",
        "# defining range of ks\n",
        "ks = list(range(1, 50, 2))\n",
        "param_grid = dict(n_neighbors=ks)\n",
        "\n",
        "\n",
        "# creating grid searcher for KNN Classifier\n",
        "knn = KNeighborsClassifier()\n",
        "grid = GridSearchCV(knn, param_grid)\n",
        "\n",
        "\n",
        "# fitting the model for grid search\n",
        "grid_search = grid.fit(X_train, y_train)\n",
        "\n",
        "\n",
        "# looking at the scores for this range\n",
        "print(grid_search.cv_results_['mean_test_score'])\n",
        "\n",
        "\n",
        "# looking at the best k value\n",
        "print(grid_search.best_params_)\n",
        "\n",
        "# plotting results\n",
        "plt.scatter(ks, grid_search.cv_results_['mean_test_score'])\n",
        "\n",
        "plt.title(\"Accuracy vs. K Value\")\n",
        "plt.xlabel(\"K\")\n",
        "plt.ylabel(\"Accuracy\")\n",
        "plt.show()"
      ],
      "metadata": {
        "id": "UAsB8rKBI0NE",
        "colab": {
          "base_uri": "https://localhost:8080/",
          "height": 579
        },
        "outputId": "ec2f5c46-0a44-4a63-e38d-cd0b250c28ac"
      },
      "execution_count": null,
      "outputs": [
        {
          "output_type": "stream",
          "name": "stdout",
          "text": [
            "[0.66942771 0.71762264 0.74259914 0.75414509 0.76078296 0.76549426\n",
            " 0.76763192 0.77013516 0.7717384  0.77334162 0.77415729 0.77466359\n",
            " 0.77540893 0.77563393 0.77550737 0.77581676 0.77615426 0.77618238\n",
            " 0.77616832 0.77654803 0.77674492 0.7765621  0.77682929 0.77649177\n",
            " 0.7767449 ]\n",
            "{'n_neighbors': 45}\n"
          ]
        },
        {
          "output_type": "display_data",
          "data": {
            "text/plain": [
              "<Figure size 640x480 with 1 Axes>"
            ],
            "image/png": "[encoded data removed]"
          },
          "metadata": {}
        }
      ]
    },
    {
      "cell_type": "markdown",
      "source": [
        "#### **Problem #3.2**\n",
        "\n",
        "Using the best K value found above, create a KNN model. Then look at its accuracy. Compare to the previous results."
      ],
      "metadata": {
        "id": "NEG4PIqsJpq5"
      }
    },
    {
      "cell_type": "code",
      "source": [
        "model = KNeighborsClassifier(n_neighbors = #COMPLETE THIS CODE)\n",
        "model.fit(X_train, y_train)\n",
        "\n",
        "predictions = model.predict(X_test)\n",
        "metrics.accuracy_score(y_test, predictions)"
      ],
      "metadata": {
        "id": "82SNiJV8J1Pz"
      },
      "execution_count": null,
      "outputs": []
    },
    {
      "cell_type": "markdown",
      "source": [
        "---\n",
        "### **Try Problems #3.3 - 3.4 on your own!**\n",
        "---"
      ],
      "metadata": {
        "id": "o-9dYWRYK7q2"
      }
    },
    {
      "cell_type": "markdown",
      "source": [
        "#### **Problem #3.3**\n",
        "\n",
        "Now, run the code below to perform the same grid search but with the *scaled data*."
      ],
      "metadata": {
        "id": "FTZZ9HRGrbXx"
      }
    },
    {
      "cell_type": "code",
      "source": [
        "from sklearn.model_selection import GridSearchCV\n",
        "\n",
        "# defining range of ks\n",
        "ks = list(range(1, 50, 2))\n",
        "param_grid = dict(n_neighbors=ks)\n",
        "\n",
        "\n",
        "# creating grid searcher for KNN Classifier\n",
        "knn = KNeighborsClassifier()\n",
        "grid = GridSearchCV(knn, param_grid)\n",
        "\n",
        "\n",
        "# fitting the model for grid search\n",
        "grid_search_scaled = grid.fit(X_train_scaled, y_train)\n",
        "\n",
        "\n",
        "# looking at the scores for this range\n",
        "print(grid_search_scaled.cv_results_['mean_test_score'])\n",
        "\n",
        "\n",
        "# looking at the best k value\n",
        "print(grid_search_scaled.best_params_)\n",
        "\n",
        "# plotting results\n",
        "plt.scatter(ks, grid_search_scaled.cv_results_['mean_test_score'])\n",
        "\n",
        "plt.title(\"Accuracy vs. K Value\")\n",
        "plt.xlabel(\"K\")\n",
        "plt.ylabel(\"Accuracy\")\n",
        "plt.show()"
      ],
      "metadata": {
        "colab": {
          "base_uri": "https://localhost:8080/",
          "height": 579
        },
        "id": "n7vgDlNwqg9B",
        "outputId": "d251ec31-75bd-4dc6-9bca-fdb04377d7e2"
      },
      "execution_count": null,
      "outputs": [
        {
          "output_type": "stream",
          "name": "stdout",
          "text": [
            "[0.66830255 0.71646949 0.74326014 0.75458108 0.76010796 0.76528328\n",
            " 0.76777254 0.77038832 0.77190717 0.77280722 0.77415731 0.77483233\n",
            " 0.775648   0.77592925 0.77576051 0.77622459 0.77605582 0.77664648\n",
            " 0.77654803 0.77670274 0.77702619 0.77674492 0.77651991 0.77653396\n",
            " 0.77642145]\n",
            "{'n_neighbors': 41}\n"
          ]
        },
        {
          "output_type": "display_data",
          "data": {
            "text/plain": [
              "<Figure size 640x480 with 1 Axes>"
            ],
            "image/png": "[encoded data removed]"
          },
          "metadata": {}
        }
      ]
    },
    {
      "cell_type": "markdown",
      "source": [
        "#### **Problem #3.4**\n",
        "\n",
        "Using the best K value found above, create a KNN model. Then look at its accuracy. Compare to the previous results."
      ],
      "metadata": {
        "id": "Nwcz2AAerT9V"
      }
    },
    {
      "cell_type": "code",
      "source": [
        "model = KNeighborsClassifier(n_neighbors = #COMPLETE THIS CODE)\n",
        "model.fit(X_train_scaled, y_train)\n",
        "\n",
        "predictions_scaled = model.predict(X_test_scaled)\n",
        "metrics.accuracy_score(y_test, predictions_scaled)"
      ],
      "metadata": {
        "id": "rQONiyKnrT9i"
      },
      "execution_count": null,
      "outputs": []
    },
    {
      "cell_type": "markdown",
      "metadata": {
        "id": "K4jGMPNPYWEF"
      },
      "source": [
        "<a name=\"p4\"></a>\n",
        "\n",
        "---\n",
        "## **Part 4: K-Folds**\n",
        "---\n",
        "\n",
        "In this section, we will explore how to use K-Folds to evaluate and compare models before deciding on the final model we will use. Only once we have selected our final model should we evaluate it on the test set.\n",
        "\n",
        "In particular, we will use K-Folds Cross Validation to determine the best model for several datasets."
      ]
    },
    {
      "cell_type": "markdown",
      "source": [
        "#### **Problem #4.1**\n",
        "\n",
        "To start, let's train and evaluate a 5NN model on the Iris dataset as usual. This is *bad practice*, but will help motivate why we should use cross validation."
      ],
      "metadata": {
        "id": "cogaXgg3Q5VY"
      }
    },
    {
      "cell_type": "code",
      "source": [
        "iris = load_iris()\n",
        "\n",
        "features = iris.data\n",
        "label = iris.target\n",
        "\n",
        "X_train, X_test, y_train, y_test = sklearn.model_selection.train_test_split(features, label, test_size=0.2, random_state=42)\n",
        "\n",
        "scaler = StandardScaler()\n",
        "X_train = scaler.fit_transform(X_train)\n",
        "X_test = scaler.transform(X_test)"
      ],
      "metadata": {
        "id": "2FJoen-OUOFP"
      },
      "execution_count": null,
      "outputs": []
    },
    {
      "cell_type": "code",
      "source": [
        "knn_5 = KNeighborsClassifier(n_neighbors = # COMPLETE THIS LINE\n",
        "\n",
        "knn_5.fit(# COMPLETE THIS LINE\n",
        "\n",
        "pred = knn_5.predict(# COMPLETE THIS LINE\n",
        "\n",
        "print(classification_report(# COMPLETE THIS LINE"
      ],
      "metadata": {
        "id": "JMBI1bI6UOFb"
      },
      "execution_count": null,
      "outputs": []
    },
    {
      "cell_type": "markdown",
      "source": [
        "#### **Problem #4.2**\n",
        "\n",
        "Now, let's take the proper and more insightful approach: evaluating the model using K-Folds Cross Validation. Complete the code below to evaluate a 5NN model using 10-Folds Cross Validation."
      ],
      "metadata": {
        "id": "qNQCuzYCUKuU"
      }
    },
    {
      "cell_type": "code",
      "source": [
        "knn_5 = KNeighborsClassifier(n_neighbors = 5)\n",
        "\n",
        "scores_5 = cross_val_score(knn_5, X_train, y_train, cv = # COMPLETE THIS LINE\n",
        "print(\"10-Folds CV Scores: \" + str(scores_5.mean()) + \" +/- \" + str(scores_5.std()))"
      ],
      "metadata": {
        "id": "blo0EzUvVIFo"
      },
      "execution_count": null,
      "outputs": []
    },
    {
      "cell_type": "markdown",
      "source": [
        "#### **Visualize the scores by running the cell below.**"
      ],
      "metadata": {
        "id": "_Ww2gbWnVOEz"
      }
    },
    {
      "cell_type": "code",
      "source": [
        "plt.plot(scores_5, label = '5NN')\n",
        "plt.plot([scores_5.mean() for i in range(10)], label = 'average')\n",
        "\n",
        "plt.xlabel('Fold')\n",
        "plt.ylabel('Accuracy')\n",
        "plt.legend()\n",
        "\n",
        "plt.show()"
      ],
      "metadata": {
        "colab": {
          "base_uri": "https://localhost:8080/",
          "height": 449
        },
        "id": "MyVEIW62SBA1",
        "outputId": "780d7237-20e0-4d74-9eb9-a9bdd8d03a69"
      },
      "execution_count": null,
      "outputs": [
        {
          "output_type": "display_data",
          "data": {
            "text/plain": [
              "<Figure size 640x480 with 1 Axes>"
            ],
            "image/png": "[encoded data removed]"
          },
          "metadata": {}
        }
      ]
    },
    {
      "cell_type": "markdown",
      "source": [
        "#### **Problem #4.3**\n",
        "\n",
        "Now, use 10-Folds Cross Validation to evaluate and compare to the following models:\n",
        "1. 1NN\n",
        "2. 11NN (**NOTE**: $\\sqrt{\\text{length of training data}} \\approx 11$)\n",
        "3. 99NN\n",
        "4. Logistic Regression\n",
        "\n",
        "<br>\n",
        "\n",
        "**NOTE**: There is code at the end that will visualize all of these results together.\n"
      ],
      "metadata": {
        "id": "RwQj_FpxVVPR"
      }
    },
    {
      "cell_type": "markdown",
      "source": [
        "#### **1. 1NN**"
      ],
      "metadata": {
        "id": "M37J6c2uV5WI"
      }
    },
    {
      "cell_type": "code",
      "source": [
        "knn_1 = KNeighborsClassifier(# COMPLETE THIS LINE\n",
        "\n",
        "scores_1 = cross_val_score(# COMPLETE THIS LINE\n",
        "print(\"10-Folds CV Scores: \" + str(scores_1.mean()) + \" +/- \" + str(scores_1.std()))"
      ],
      "metadata": {
        "id": "zbnadEPuVVPR"
      },
      "execution_count": null,
      "outputs": []
    },
    {
      "cell_type": "markdown",
      "source": [
        "#### **2. 11NN (**NOTE**: $\\sqrt{\\text{length of training data}} \\approx 11$)**"
      ],
      "metadata": {
        "id": "_hI7TFXtV--B"
      }
    },
    {
      "cell_type": "code",
      "source": [
        "knn_11 = # COMPLETE THIS LINE\n",
        "\n",
        "# COMPLETE THIS CODE"
      ],
      "metadata": {
        "id": "EjxzPIpgWee2"
      },
      "execution_count": null,
      "outputs": []
    },
    {
      "cell_type": "markdown",
      "source": [
        "#### **3. 99NN**"
      ],
      "metadata": {
        "id": "m7Eil1tOWFCF"
      }
    },
    {
      "cell_type": "code",
      "source": [
        "knn_99 = # COMPLETE THIS LINE\n",
        "\n",
        "# COMPLETE THIS CODE"
      ],
      "metadata": {
        "id": "QenmHDIPW8Bq"
      },
      "execution_count": null,
      "outputs": []
    },
    {
      "cell_type": "markdown",
      "source": [
        "#### **4. Logistic Regression**"
      ],
      "metadata": {
        "id": "cCTC9HWuWGl7"
      }
    },
    {
      "cell_type": "code",
      "source": [
        "log = # COMPLETE THIS LINE\n",
        "\n",
        "# COMPLETE THIS CODE"
      ],
      "metadata": {
        "id": "lYg9lpVGXC2S"
      },
      "execution_count": null,
      "outputs": []
    },
    {
      "cell_type": "markdown",
      "source": [
        "#### **Visualize the scores by running the cell below.**"
      ],
      "metadata": {
        "id": "rczz1JAsVVPS"
      }
    },
    {
      "cell_type": "code",
      "source": [
        "plt.plot(scores_1, label = '1NN')\n",
        "plt.plot(scores_5, label = '5NN')\n",
        "plt.plot(scores_11, label = '11NN')\n",
        "plt.plot(scores_99, label = '99NN')\n",
        "plt.plot(scores_log, label = 'Logistic Regression')\n",
        "\n",
        "plt.xlabel('Fold')\n",
        "plt.ylabel('Accuracy')\n",
        "plt.legend()\n",
        "\n",
        "plt.show()"
      ],
      "metadata": {
        "colab": {
          "base_uri": "https://localhost:8080/",
          "height": 449
        },
        "outputId": "621372c8-81af-4771-e8b8-2c59a7a01690",
        "id": "hb1UMa1FVVPS"
      },
      "execution_count": null,
      "outputs": [
        {
          "output_type": "display_data",
          "data": {
            "text/plain": [
              "<Figure size 640x480 with 1 Axes>"
            ],
            "image/png": "[encoded data removed]"
          },
          "metadata": {}
        }
      ]
    },
    {
      "cell_type": "markdown",
      "source": [
        "#### **Problem #4.4**\n",
        "\n",
        "Assuming we do not plan to try out any other models, we can safely train our final model and evaluate it on the test set. Consider the average, standard deviation, and individual scores we visualized to pick one of the models from above and:\n",
        "* Train it on the entire training set.\n",
        "* Evaluate it on the test set with a classification report.\n"
      ],
      "metadata": {
        "id": "3fecx0jaX0bT"
      }
    },
    {
      "cell_type": "code",
      "source": [],
      "metadata": {
        "id": "6D1RoOmymV9W"
      },
      "execution_count": null,
      "outputs": []
    },
    {
      "cell_type": "markdown",
      "source": [
        "### **Reflection questions**\n",
        "Answer the following questions:\n",
        "\n",
        "1. Which of the five models had the highest performance during cross validation?\n",
        "\n",
        "2. Which of the five models had the lowest performance during cross validation?\n",
        "\n",
        "3. How do the top performing model's cross validation metrics compare to the test metrics? In other words, how does this model perform in Problem #3.3 versus #3.4?"
      ],
      "metadata": {
        "id": "lLpAXtV5Xs20"
      }
    },
    {
      "cell_type": "markdown",
      "metadata": {
        "id": "Ivwj6LpqbD78"
      },
      "source": [
        "<a name=\"p5\"></a>\n",
        "\n",
        "---\n",
        "## **Part 5: Regularization**\n",
        "---\n",
        "\n",
        "In this section, we will see how regularization can affect model performance. Regularization attempts to reduce overfitting by trying to make the coefficients as small as possible. This is done through a \"penalty term\" that needs to be made as small as possible during training in addition to finding a good fit for the training data.\n",
        "\n",
        "We will use the techniques we have learned throughout this notebook to properly compare logistic regression models using three of the regularization or `penalty` options provided by sklearn:\n",
        "\n",
        "* `None`: no penalty is added.\n",
        "* `'l2'` (Ridge): add a L2 penalty term and it is the default choice. (This equals $\\text{coefficient}_1^2 + \\text{coefficient}_2^2 + \\text{coefficient}_3^2 + ...$.)\n",
        "* `'l1'` (Lasso): add a L1 penalty term. (This equals $|\\text{coefficient}_1| + |\\text{coefficient}_2| + |\\text{coefficient}_3| + ...$.)\n",
        "\n",
        "\n",
        "\n",
        "<br>\n",
        "\n",
        "In particular, we will attempt to find the best possible model for detecting breast cancer based on the [UCI ML Breast Cancer Wisconsin (Diagnostic) dataset](https://archive.ics.uci.edu/ml/datasets/breast+cancer+wisconsin+(diagnostic)). The dataset contains mammography exam results and whether or not cancer was detected."
      ]
    },
    {
      "cell_type": "code",
      "source": [
        "cancer_dataset = datasets.load_breast_cancer()\n",
        "cancer_df = pd.DataFrame(data=cancer_dataset.data, columns=cancer_dataset.feature_names)\n",
        "cancer_df['TARGET'] = cancer_dataset.target\n",
        "\n",
        "features = cancer_df[[\"mean radius\",\"mean texture\"]].values\n",
        "label = cancer_df[[\"TARGET\"]].values\n",
        "\n",
        "X_train, X_test, y_train, y_test = train_test_split(features, label, test_size=0.2, random_state=42)\n",
        "\n",
        "scaler = StandardScaler()\n",
        "X_train = scaler.fit_transform(X_train)\n",
        "X_test = scaler.transform(X_test)"
      ],
      "metadata": {
        "id": "PLb1I2XmcX-K"
      },
      "execution_count": null,
      "outputs": []
    },
    {
      "cell_type": "markdown",
      "source": [
        "#### **Problem #5.1**\n",
        "\n",
        "Let's use 10-Folds Cross Validation to evaluate and compare to the following models:\n",
        "1. Logistic Regression with `penalty = None`.\n",
        "2. Logistic Regression with `penalty = 'l2'`.\n",
        "3. Logistic Regression with `penalty = 'l1'`.\n",
        "\n",
        "<br>\n",
        "\n",
        "**NOTE**: There is code at the end that will visualize all of these results together.\n"
      ],
      "metadata": {
        "id": "YtO-sIpbcM8V"
      }
    },
    {
      "cell_type": "markdown",
      "source": [
        "##### **1. Logistic Regression with `penalty = None`.**\n",
        "\n",
        "**NOTE**: There are different \"solvers\" available to find the best logistic function. We will specify `solver = 'saga'` since this one works with all penalties available. You can read more in the [sklearn Logistic Regression documentation](https://scikit-learn.org/stable/modules/generated/sklearn.linear_model.LogisticRegression.html) if you would like.\n",
        "\n",
        "<br>\n",
        "\n",
        "**Run the code below to accomplish this task.**"
      ],
      "metadata": {
        "id": "2GfrrfNIcM8f"
      }
    },
    {
      "cell_type": "code",
      "source": [
        "model_none = LogisticRegression(solver = 'saga', penalty = None)\n",
        "\n",
        "scores_none = cross_val_score(model_none, X_train, y_train, cv=10)\n",
        "print(\"10-Folds CV Scores: \" + str(scores_none.mean()) + \" +/- \" + str(scores_none.std()))"
      ],
      "metadata": {
        "colab": {
          "base_uri": "https://localhost:8080/"
        },
        "outputId": "c06f44f7-6d31-4229-b6ab-3c87f00c04f5",
        "id": "HAHGapZycM8g"
      },
      "execution_count": null,
      "outputs": [
        {
          "output_type": "stream",
          "name": "stdout",
          "text": [
            "10-Folds CV Scores: 0.8833816425120773 +/- 0.04882344629880826\n"
          ]
        }
      ]
    },
    {
      "cell_type": "markdown",
      "source": [
        "##### **2. Logistic Regression with `penalty = 'l2'`.**\n",
        "\n",
        "**NOTE**: This is the default."
      ],
      "metadata": {
        "id": "k-Vw-k1NcM8g"
      }
    },
    {
      "cell_type": "code",
      "source": [
        "model_l2 = # COMPLETE THIS CODE"
      ],
      "metadata": {
        "id": "EXl0UCGpcM8g"
      },
      "execution_count": null,
      "outputs": []
    },
    {
      "cell_type": "markdown",
      "source": [
        "##### **3. Logistic Regression with `penalty = 'l1'`.**"
      ],
      "metadata": {
        "id": "k2fSA-p4cM8g"
      }
    },
    {
      "cell_type": "code",
      "source": [
        "model_l1 = # COMPLETE THIS LINE\n",
        "\n",
        "# COMPLETE THIS CODE"
      ],
      "metadata": {
        "id": "QH9JsK_DcM8g"
      },
      "execution_count": null,
      "outputs": []
    },
    {
      "cell_type": "markdown",
      "source": [
        "##### **Visualize the scores by running the cell below.**"
      ],
      "metadata": {
        "id": "RFKJaFb0cM8h"
      }
    },
    {
      "cell_type": "code",
      "source": [
        "model_none = LogisticRegression(solver = 'saga', penalty = None)\n",
        "model_l2 = LogisticRegression(solver = 'saga', penalty = 'l2')\n",
        "model_l1 = LogisticRegression(solver = 'saga', penalty = 'l1')\n",
        "\n",
        "model_none.fit(X_train, y_train)\n",
        "model_l2.fit(X_train, y_train)\n",
        "model_l1.fit(X_train, y_train)\n",
        "\n",
        "model_none_params = [str(round(model_none.coef_[0][0], 2)), str(round(model_none.coef_[0][1], 2)), str(round(model_none.intercept_[0], 2))]\n",
        "model_l2_params = [str(round(model_l2.coef_[0][0], 2)), str(round(model_l2.coef_[0][1], 2)), str(round(model_l2.intercept_[0], 2))]\n",
        "model_l1_params = [str(round(model_l1.coef_[0][0], 2)), str(round(model_l1.coef_[0][1], 2)), str(round(model_l1.intercept_[0], 2))]\n",
        "\n",
        "plt.plot(scores_none, label = 'No penalty: ' + model_none_params[0] + '*mean radius + ' + model_none_params[1] + '*mean texture + ' + model_none_params[2])\n",
        "plt.plot(scores_l2, label = 'L2 penalty/Ridge: ' + model_l2_params[0] + '*mean radius + ' + model_l2_params[1] + '*mean texture + ' + model_l2_params[2])\n",
        "plt.plot(scores_l1, label = 'L1 penalty/Lasso: ' + model_l1_params[0] + '*mean radius + ' + model_l1_params[1] + '*mean texture + ' + model_l1_params[2])\n",
        "\n",
        "plt.xlabel('Fold')\n",
        "plt.ylabel('Accuracy')\n",
        "plt.legend(bbox_to_anchor=(1.1, 1.05))\n",
        "\n",
        "plt.show()"
      ],
      "metadata": {
        "colab": {
          "base_uri": "https://localhost:8080/",
          "height": 418
        },
        "outputId": "4c721e9d-f237-411f-c654-dc391fc96303",
        "id": "7YwynrarcM8h"
      },
      "execution_count": null,
      "outputs": [
        {
          "output_type": "display_data",
          "data": {
            "text/plain": [
              "<Figure size 640x480 with 1 Axes>"
            ],
            "image/png": "[encoded data removed]"
          },
          "metadata": {}
        }
      ]
    },
    {
      "cell_type": "markdown",
      "source": [
        "#### **Problem #5.2**\n",
        "\n",
        "Consider the average, standard deviation, and individual scores we visualized to pick one of the models from above and evaluate it on the test set with a classification report."
      ],
      "metadata": {
        "id": "If4mKhASmP9G"
      }
    },
    {
      "cell_type": "code",
      "source": [],
      "metadata": {
        "id": "LGrFj5udmZqG"
      },
      "execution_count": null,
      "outputs": []
    },
    {
      "cell_type": "markdown",
      "source": [
        "#### **Reflection questions**\n",
        "Answer the following questions:\n",
        "\n",
        "1. Which of the three models had the highest performance during cross validation?\n",
        "\n",
        "2. Which of the three models had the lowest performance during cross validation?\n",
        "\n",
        "3. How do the top performing model's cross validation metrics compare to the test metrics?"
      ],
      "metadata": {
        "id": "f7n-YNEomP9H"
      }
    },
    {
      "cell_type": "markdown",
      "metadata": {
        "id": "7dzC09dLlEhm"
      },
      "source": [
        "---\n",
        "#End of Notebook\n",
        "\n",
        "© 2023 The Coding School, All rights reserved"
      ]
    }
  ]
}