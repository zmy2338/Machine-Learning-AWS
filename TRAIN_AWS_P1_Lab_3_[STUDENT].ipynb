{
  "nbformat": 4,
  "nbformat_minor": 0,
  "metadata": {
    "colab": {
      "provenance": [],
      "include_colab_link": true
    },
    "kernelspec": {
      "name": "python3",
      "display_name": "Python 3"
    },
    "language_info": {
      "name": "python"
    }
  },
  "cells": [
    {
      "cell_type": "markdown",
      "metadata": {
        "id": "view-in-github",
        "colab_type": "text"
      },
      "source": [
        "<a href=\"https://colab.research.google.com/github/zmy2338/Machine-Learning-AWS/blob/main/TRAIN_AWS_P1_Lab_3_%5BSTUDENT%5D.ipynb\" target=\"_parent\"><img src=\"https://colab.research.google.com/assets/colab-badge.svg\" alt=\"Open In Colab\"/></a>"
      ]
    },
    {
      "cell_type": "markdown",
      "source": [
        "# **Lab #3: Introduction to Data Visualizations**\n",
        "---\n",
        "\n",
        "**Description:**  In this notebook, you will be introduced to an essential step of the Exploratory Data Analysis (EDA) process: Data Visualization. We will explore different types of visualizations including scatter plots, line plots and bar plots and techniques to improve them to better receive insights from raw data and make informed decisions.\n",
        "<br>\n",
        "\n",
        "\n",
        "### **Lab Structure**\n",
        "\n",
        "**Part 0**: [Pandas Review](#p1) [OPTIONAL]\n",
        "\n",
        "**Part 1**: [Basics of data visualizations](#p2)\n",
        "\n",
        "**Part 2**: [Independent Practice](#p3)\n",
        "\n",
        "**Part 3**: [Improving data visualizations](#p4) [OPTIONAL]\n",
        "\n",
        "</br>\n",
        "\n",
        "\n",
        "**Goals:** By the end of this lab, you will:\n",
        "* Be able to identify different types of visualizations\n",
        "* Be able to implement scatter plots, line plots, and bar plots\n",
        "* Be able to improve visualizations through different techniques\n",
        "\n",
        "</br> \n",
        "\n",
        "### **Cheat Sheets**\n",
        "[Data Visualizations](https://docs.google.com/document/d/1EC3tTjRRL5ruNjc1n8UmJNGvN82_S-7rx7LLkMvv1Qk/edit?usp=share_link)\n",
        "\n",
        "**Before starting, run the code below.**"
      ],
      "metadata": {
        "id": "JbBCapRlQ8Yu"
      }
    },
    {
      "cell_type": "code",
      "execution_count": null,
      "metadata": {
        "id": "YCin5p2tQ2tw"
      },
      "outputs": [],
      "source": [
        "#install libraries\n",
        "!pip install matplotlib\n",
        "!pip install pandas \n",
        "\n",
        "#import libraries\n",
        "import matplotlib.pyplot as plt\n",
        "import pandas as pd\n",
        "import numpy as np\n",
        "\n",
        "# ignore seaborn import... this is just for some datasets\n",
        "! pip install seaborn\n",
        "import seaborn as sns"
      ]
    },
    {
      "cell_type": "markdown",
      "source": [
        "<a name=\"p1\"></a>\n",
        "## **Part 0: EDA Review**\n",
        "---\n",
        "Use the dataset below for Exercises #1-5.\n",
        "\n",
        "**Run the code below to create your DataFrame.**"
      ],
      "metadata": {
        "id": "-l9pd5CCqVtD"
      }
    },
    {
      "cell_type": "code",
      "source": [
        " # import pandas as pd \n",
        "import pandas as pd\n",
        "\n",
        "# Create a dictionary of sample data\n",
        "data = {'U.S. State': ['California', 'Florida', 'Indiana', 'Texas', 'Pennsylvania'],\n",
        "        'Population (in millions)': [38, 21, 6.5, 28, 13],\n",
        "        'Capitol': ['Sacramento', 'Tallahassee', 'Indianapolis', 'Austin', 'Harrisburg'],\n",
        "        'GDP ($ in billions)': [3700, 1070, 352, 1876, 726]}\n",
        "\n",
        "# Create a Pandas dataframe from the dictionary\n",
        "df = pd.DataFrame(data)"
      ],
      "metadata": {
        "id": "iD9_DTVCzRbY"
      },
      "execution_count": null,
      "outputs": []
    },
    {
      "cell_type": "markdown",
      "source": [
        "### **Exercise #1**\n",
        "---\n",
        "Print the first 3 rows of the datarame."
      ],
      "metadata": {
        "id": "hjbtt13XrE7G"
      }
    },
    {
      "cell_type": "code",
      "source": [],
      "metadata": {
        "id": "_d_m_CVn0t-z"
      },
      "execution_count": null,
      "outputs": []
    },
    {
      "cell_type": "markdown",
      "source": [
        "### **Exercise #2**\n",
        "---\n",
        "What is the datatype of `Population (in millions)`?"
      ],
      "metadata": {
        "id": "_xkLxO4drLIL"
      }
    },
    {
      "cell_type": "markdown",
      "source": [
        "### **Exercise #3**\n",
        "---\n",
        "What is the average population size among the U.S. states in the dataset?"
      ],
      "metadata": {
        "id": "JFzkrUYt04_4"
      }
    },
    {
      "cell_type": "markdown",
      "source": [
        "### **Exercise #4**\n",
        "---\n",
        "Explore rows 4 and 5. What are the U.S. States listed?"
      ],
      "metadata": {
        "id": "pCQRROJm054A"
      }
    },
    {
      "cell_type": "markdown",
      "source": [
        "### **Exercise #5**\n",
        "---\n",
        "Print all of the unique values for `GDP ($ in billions)'."
      ],
      "metadata": {
        "id": "M2ZiYzdX06OR"
      }
    },
    {
      "cell_type": "code",
      "source": [],
      "metadata": {
        "id": "NTMZN8Tw07bU"
      },
      "execution_count": null,
      "outputs": []
    },
    {
      "cell_type": "markdown",
      "source": [
        "---\n",
        "\n",
        "<center>\n",
        "\n",
        "#### **Back to lecture**\n",
        "\n",
        "---"
      ],
      "metadata": {
        "id": "0EJpxiyx3USx"
      }
    },
    {
      "cell_type": "markdown",
      "source": [
        "Use the following dataset for Exercises #6-10.\n",
        "\n",
        "**Run the code below to create your DataFrame.**"
      ],
      "metadata": {
        "id": "aWbXcJ0F3Va1"
      }
    },
    {
      "cell_type": "code",
      "source": [
        "# import numpy\n",
        "import numpy as np\n",
        "\n",
        "# Create a dictionary of sample data\n",
        "data = {'Student': ['Carlos', 'Ashley', 'Jarred', 'Isabel', 'Luis', 'Duante', 'Jose', 'Carolina', 'Caleb', 'Jayden'],\n",
        "        'SAT Score': [np.nan, 1600, 1360, 1400, 900, 1570, 1600, 1100, 700, 740],\n",
        "        'GPA': [3.0, 4.6, 3.8, np.nan, 3.2, 4.5, 4.4, 3.2, np.nan, 2.2],\n",
        "        'Siblings': [np.nan, 0, 6, 4, 5, 2, 1, 3, 2, np.nan]}\n",
        "\n",
        "# Create a Pandas dataframe from the dictionary\n",
        "df = pd.DataFrame(data)"
      ],
      "metadata": {
        "id": "y3sdtwf23dGa"
      },
      "execution_count": null,
      "outputs": []
    },
    {
      "cell_type": "markdown",
      "source": [
        "### **Exercise #6**\n",
        "---\n",
        "\n",
        "Explore the dataset using `head()`. How many students are in the dataset?"
      ],
      "metadata": {
        "id": "YpcKY-T606iX"
      }
    },
    {
      "cell_type": "code",
      "source": [],
      "metadata": {
        "id": "0PM3Jtyw_B6Z"
      },
      "execution_count": null,
      "outputs": []
    },
    {
      "cell_type": "markdown",
      "source": [
        "### **Exercise #7**\n",
        "---\n",
        "How many missing values are there? "
      ],
      "metadata": {
        "id": "hFNUQhN8061u"
      }
    },
    {
      "cell_type": "code",
      "source": [],
      "metadata": {
        "id": "Pw6VvQBN_CXQ"
      },
      "execution_count": null,
      "outputs": []
    },
    {
      "cell_type": "markdown",
      "source": [
        "### **Exercise #8**\n",
        "---\n",
        "Since Carlos is missing both his SAT Score and number of siblings, drow him from the dataset. \n",
        "\n",
        "Make sure to save the new DataFrame; call the new DataFrame `df_new`."
      ],
      "metadata": {
        "id": "EE7D5kco07Kc"
      }
    },
    {
      "cell_type": "markdown",
      "source": [
        "### **Exercise #9**\n",
        "---\n",
        "Using `df_new`, use the mean for `GPA` and replace any missing values in `GPA` with the mean. "
      ],
      "metadata": {
        "id": "bvLNHEVf3JRF"
      }
    },
    {
      "cell_type": "markdown",
      "source": [
        "### **Exercise #10**\n",
        "---\n",
        "Go back to the original DataFrame, `dr`. You should have at least 5 missing values. Use `dropna()` to drop any rows that have a missing value. \n",
        "\n",
        "How many instances do you have left?"
      ],
      "metadata": {
        "id": "CBxIfVzi3KHn"
      }
    },
    {
      "cell_type": "code",
      "source": [],
      "metadata": {
        "id": "oCqnG7ZW_FYu"
      },
      "execution_count": null,
      "outputs": []
    },
    {
      "cell_type": "markdown",
      "source": [
        "---\n",
        "\n",
        "<center>\n",
        "\n",
        "#### **Back to lecture**\n",
        "\n",
        "---"
      ],
      "metadata": {
        "id": "4PgLNzAw3TVp"
      }
    },
    {
      "cell_type": "markdown",
      "source": [
        "<a name=\"p2\"></a>\n",
        "## **Part 1: Basics of data visualizations**\n",
        "---\n",
        "Generally, creating plots involves following the sequential steps: \n",
        "1. Creating dataframe or importing dataset\n",
        "2. Choosing which visualization to use, and selecting the values for x-axis, and y-axis\n",
        "3. Adding the title\n",
        "4. Adding the x-label and y-label"
      ],
      "metadata": {
        "id": "35kCNtZbRXbC"
      }
    },
    {
      "cell_type": "markdown",
      "source": [
        "### **Exercise #1: Scatter Plots**\n",
        "---\n",
        "\n",
        "**Run the code below to create your dataframe called `df`.**"
      ],
      "metadata": {
        "id": "A9yCEWGndMPX"
      }
    },
    {
      "cell_type": "code",
      "source": [
        "# create variables\n",
        "patientID = [101, 102, 103, 104, 105, 106, 107, 108, 109, 110, 111, 112, 113, 114, 115] \n",
        "weight = [125, 101, 165, 187, 144, 202, 113, 191, 223, 303, 166, 150, 108, 217, 191] \n",
        "gender = ['F', 'F', 'M', 'M', 'F', 'M', 'F', 'M', 'M', 'F', 'F', 'M', 'F', 'M', 'M'] \n",
        "height = [64, 59, 70, 72, 66, 72, 61, 71, 74, 69, 69, 67, 60, 70, 65] \n",
        "\n",
        "# create dictionary\n",
        "df_dict = {\"ID\": patientID, \"Weight\": weight, \"Gender\": gender, \"Height (in)\": height} \n",
        "\n",
        "# create dataframe\n",
        "df = pd.DataFrame.from_dict(df_dict)\n",
        "\n",
        "# reorganize columns\n",
        "df = df[['ID', 'Gender', 'Height (in)', 'Weight']]\n",
        "\n",
        "print(df)"
      ],
      "metadata": {
        "id": "N8MJgw3qR3vy"
      },
      "execution_count": null,
      "outputs": []
    },
    {
      "cell_type": "markdown",
      "source": [
        "#### **Step #1: Create a scatterplot using `weight` as the x-axis value and `height` as the y-axis value.**"
      ],
      "metadata": {
        "id": "Sn8pkut_R79Z"
      }
    },
    {
      "cell_type": "code",
      "source": [],
      "metadata": {
        "id": "N4o6jn2trYPS"
      },
      "execution_count": null,
      "outputs": []
    },
    {
      "cell_type": "markdown",
      "source": [
        "#### **Solution**"
      ],
      "metadata": {
        "id": "arIiRap5rWr6"
      }
    },
    {
      "cell_type": "code",
      "source": [
        "plt.scatter(weight, height)\n",
        "plt.show()"
      ],
      "metadata": {
        "id": "Pma3sHoyR-tT"
      },
      "execution_count": null,
      "outputs": []
    },
    {
      "cell_type": "markdown",
      "source": [
        "#### **Step #2: Add a title called \"The relationship between height and weight in patients\".**"
      ],
      "metadata": {
        "id": "r4EsM8qjSBXk"
      }
    },
    {
      "cell_type": "code",
      "source": [],
      "metadata": {
        "id": "vthOOLkIrYll"
      },
      "execution_count": null,
      "outputs": []
    },
    {
      "cell_type": "markdown",
      "source": [
        "##### **Solution**"
      ],
      "metadata": {
        "id": "uSOLfRLJrY3R"
      }
    },
    {
      "cell_type": "code",
      "source": [
        "plt.scatter(weight, height)\n",
        "plt.title(\"The relationship between height and weight in patients\")\n",
        "plt.show()"
      ],
      "metadata": {
        "id": "7C2F6WBuSEKn"
      },
      "execution_count": null,
      "outputs": []
    },
    {
      "cell_type": "markdown",
      "source": [
        "#### **Step #3: Add a x-axis label called \"Weight (lbs)\" and a y-axis label called \"Height (in)\".**"
      ],
      "metadata": {
        "id": "YHpZG9f_SEw6"
      }
    },
    {
      "cell_type": "code",
      "source": [],
      "metadata": {
        "id": "ucy2CbbnrbTU"
      },
      "execution_count": null,
      "outputs": []
    },
    {
      "cell_type": "markdown",
      "source": [
        "#### **Solution**"
      ],
      "metadata": {
        "id": "-iiwZvserazR"
      }
    },
    {
      "cell_type": "code",
      "source": [
        "plt.scatter(weight, height)\n",
        "plt.title(\"The relationship between height and weight in patients\")\n",
        "plt.xlabel('Weight (lbs)')\n",
        "plt.ylabel('Height (in)')\n",
        "plt.show()"
      ],
      "metadata": {
        "id": "2K3KxC7QSJjH"
      },
      "execution_count": null,
      "outputs": []
    },
    {
      "cell_type": "markdown",
      "source": [
        "### **Exercise #2: Your turn: Scatter Plots**\n",
        "---"
      ],
      "metadata": {
        "id": "gJM55cc_SMyx"
      }
    },
    {
      "cell_type": "markdown",
      "source": [
        "#### **Step #1: Graph the `x` and `y` data in the code below as a scatter plot.**"
      ],
      "metadata": {
        "id": "4-h9Kp9uSPtv"
      }
    },
    {
      "cell_type": "code",
      "source": [
        "import matplotlib.pyplot as plt\n",
        "import numpy as np\n",
        "\n",
        "x = np.array([5,7,8,7,2,17,2,9,4,11,12,9,6])\n",
        "y = np.array([99,86,87,88,111,86,103,87,94,78,77,85,86])\n",
        "\n",
        "# create your scatter plot here"
      ],
      "metadata": {
        "id": "ZShMfqUNSQI-"
      },
      "execution_count": null,
      "outputs": []
    },
    {
      "cell_type": "markdown",
      "source": [
        "#### **Step #2: Add a title.**\n",
        "The above information is from recording the age of cars and the speed at which they passed by. Add a title saying \"Speed of cars passing by vs. how many years old the car is\"."
      ],
      "metadata": {
        "id": "1aWeWYuMSYx2"
      }
    },
    {
      "cell_type": "code",
      "source": [],
      "metadata": {
        "id": "A_1iMdvacO-S"
      },
      "execution_count": null,
      "outputs": []
    },
    {
      "cell_type": "markdown",
      "source": [
        "#### **Step #3: Add the x-axis label: \"Age of car (years)\".**"
      ],
      "metadata": {
        "id": "h8Z8uvGISdXj"
      }
    },
    {
      "cell_type": "code",
      "source": [],
      "metadata": {
        "id": "Ty7fAI_ecSxw"
      },
      "execution_count": null,
      "outputs": []
    },
    {
      "cell_type": "markdown",
      "source": [
        "#### **Step #4: Add the y-axis label: \"Speed of car when it passes (mph)\"**."
      ],
      "metadata": {
        "id": "T_9VfHRMSh-Y"
      }
    },
    {
      "cell_type": "code",
      "source": [],
      "metadata": {
        "id": "H9htdHbicUtW"
      },
      "execution_count": null,
      "outputs": []
    },
    {
      "cell_type": "markdown",
      "source": [
        "---\n",
        "\n",
        "<center>\n",
        "\n",
        "#### **Back to lecture**\n",
        "\n",
        "---"
      ],
      "metadata": {
        "id": "Psup7LtEgOMT"
      }
    },
    {
      "cell_type": "markdown",
      "source": [
        "### **Exercise #3: Line Plots**\n",
        "---\n",
        "Let's say we want to create a line plot showing a patient's height over time. First, let's create a simple dataframe with two columns–age and height (in inches). Run the code segment below."
      ],
      "metadata": {
        "id": "-AgTMHaeSth3"
      }
    },
    {
      "cell_type": "code",
      "source": [
        "import pandas as pd\n",
        "\n",
        "#create variables\n",
        "age = [0, 1, 2, 3, 4, 5, 6, 7, 8, 9, 10, 11, 12, 13, 14, 15, 16, 17, 18]\n",
        "height = [12, 18, 24, 30, 34, 38, 42, 45, 47, 50, 53, 56, 59, 62, 67, 68, 69, 70, 70]\n",
        "\n",
        "#create dictionary\n",
        "df_data = {\"age\": age, \"Height (in)\": height}\n",
        "\n",
        "#create dataframe\n",
        "heights = pd.DataFrame.from_dict(df_data)\n",
        "heights"
      ],
      "metadata": {
        "id": "LXeV9SWOSzq3"
      },
      "execution_count": null,
      "outputs": []
    },
    {
      "cell_type": "markdown",
      "source": [
        "#### **Step #1: Create a line plot using `age` as the x-axis value and `height` as the y-axis value.**"
      ],
      "metadata": {
        "id": "_vsuIIQzSyJm"
      }
    },
    {
      "cell_type": "code",
      "source": [],
      "metadata": {
        "id": "EQAyQ7IXZy9O"
      },
      "execution_count": null,
      "outputs": []
    },
    {
      "cell_type": "markdown",
      "source": [
        "##### **Solution**"
      ],
      "metadata": {
        "id": "5ORhfVFUZzQ9"
      }
    },
    {
      "cell_type": "code",
      "source": [
        "plt.plot(age, height)\n",
        "plt.show()"
      ],
      "metadata": {
        "id": "1CavxVvzS2C9"
      },
      "execution_count": null,
      "outputs": []
    },
    {
      "cell_type": "markdown",
      "source": [
        "#### **Step #2: Add in labels and a title.**"
      ],
      "metadata": {
        "id": "EnQzQgOLS3sY"
      }
    },
    {
      "cell_type": "code",
      "source": [],
      "metadata": {
        "id": "Abe7GHjAZ3RA"
      },
      "execution_count": null,
      "outputs": []
    },
    {
      "cell_type": "markdown",
      "source": [
        "#### **Solution**"
      ],
      "metadata": {
        "id": "4WaWBVG0Z3q5"
      }
    },
    {
      "cell_type": "code",
      "source": [
        "plt.plot(age,height)\n",
        "plt.title(\"Graph showing patients height over time\")\n",
        "plt.xlabel(\"Age\")\n",
        "plt.ylabel(\"Height\")\n",
        "plt.show()"
      ],
      "metadata": {
        "id": "BOnobpN7S6O7"
      },
      "execution_count": null,
      "outputs": []
    },
    {
      "cell_type": "markdown",
      "source": [
        "### **Exercise #4: Your turn: Line plots**\n",
        "---"
      ],
      "metadata": {
        "id": "cli6KeMRS86H"
      }
    },
    {
      "cell_type": "markdown",
      "source": [
        "#### **Step #1: Create a line plot out of the following data.**"
      ],
      "metadata": {
        "id": "dOq0DuwNTAvz"
      }
    },
    {
      "cell_type": "code",
      "source": [
        "y = [1, 5, 3, 5, 7, 8]\n",
        "x = [1, 2, 3, 4, 5, 20]\n",
        "\n",
        "# add graph here"
      ],
      "metadata": {
        "id": "k3VmfD-AS-3I"
      },
      "execution_count": null,
      "outputs": []
    },
    {
      "cell_type": "markdown",
      "source": [
        "#### **Step #2: Add a title and labels.**\n",
        "\n",
        "Let's assume the graph and data is representative of a stock on the market. Add a title, x-label, and y-label as follows: \n",
        "* `x: Month` \n",
        "* `y: Price (in thousands)`\n",
        "* `title:` \"Stock price over time\" "
      ],
      "metadata": {
        "id": "GKNkBQDtTISi"
      }
    },
    {
      "cell_type": "code",
      "source": [],
      "metadata": {
        "id": "Gfjdc9HFa4Ew"
      },
      "execution_count": null,
      "outputs": []
    },
    {
      "cell_type": "markdown",
      "source": [
        "---\n",
        "\n",
        "<center>\n",
        "\n",
        "#### **Back to lecture**\n",
        "\n",
        "---"
      ],
      "metadata": {
        "id": "ShfBv1zdTNsz"
      }
    },
    {
      "cell_type": "markdown",
      "source": [
        "### **Exercise #5: Bar Plots**\n",
        "---\n",
        "\n",
        "We want to create a bar plot of the information below, which shows 4 courses and the number of students enrolled in each course.\n",
        "\n",
        "**Before continuing, run the code below.**"
      ],
      "metadata": {
        "id": "IMHC6e1aTQJZ"
      }
    },
    {
      "cell_type": "code",
      "source": [
        "courses=['Maths', 'English','Science','Music']\n",
        "students=[35,15,30,50]"
      ],
      "metadata": {
        "id": "uns-Cu9yTb6F"
      },
      "execution_count": null,
      "outputs": []
    },
    {
      "cell_type": "markdown",
      "source": [
        "#### **Step #1: Create a bar plot using `courses` as the x-axis value and number of students enrolled as the y-axis value.**\n",
        "\n"
      ],
      "metadata": {
        "id": "c08SgzqqTdk4"
      }
    },
    {
      "cell_type": "code",
      "source": [
        "# creating the bar plot\n",
        "plt.bar(courses, students)\n",
        "plt.show()"
      ],
      "metadata": {
        "id": "wTjmO9YYTfh6"
      },
      "execution_count": null,
      "outputs": []
    },
    {
      "cell_type": "markdown",
      "source": [
        "#### **Step #2: Add in labels and title.**"
      ],
      "metadata": {
        "id": "kRMfghzDThOY"
      }
    },
    {
      "cell_type": "code",
      "source": [
        "plt.bar(courses, students)\n",
        "\n",
        "plt.xlabel(\"Courses offered\")\n",
        "plt.ylabel(\"Number of students enrolled\")\n",
        "plt.title(\"Students enrolled in different courses\")\n",
        "\n",
        "plt.show()"
      ],
      "metadata": {
        "id": "nerY503dTinl"
      },
      "execution_count": null,
      "outputs": []
    },
    {
      "cell_type": "markdown",
      "source": [
        "### **Exercise #6: Your turn: Bar Plots**\n",
        "---\n",
        "\n",
        "#### **Step #1: Create a bar plot out of the following data.** \n",
        "\n",
        "`langs` refers to different programming classes, and `students` refers to the number of students enrolled in each one."
      ],
      "metadata": {
        "id": "5GNtcXXqTkEr"
      }
    },
    {
      "cell_type": "code",
      "source": [
        "langs = ['C', 'C++', 'Java', 'Python', 'PHP']\n",
        "students = [23,17,35,29,12]\n",
        "# create bar here"
      ],
      "metadata": {
        "id": "VD1AoLbhTpOj"
      },
      "execution_count": null,
      "outputs": []
    },
    {
      "cell_type": "markdown",
      "source": [
        "#### **Step #2: Add in the following labels and title.**\n",
        "* `x`: Programming classes\n",
        "* `y`: Number of students\n",
        "* `Title`: \"Number of students in different programming classes\"\n"
      ],
      "metadata": {
        "id": "evtYp9HkTrlq"
      }
    },
    {
      "cell_type": "code",
      "source": [],
      "metadata": {
        "id": "PM5Cnu1Tc-Mq"
      },
      "execution_count": null,
      "outputs": []
    },
    {
      "cell_type": "markdown",
      "source": [
        "---\n",
        "\n",
        "<center>\n",
        "\n",
        "#### **Back to lecture**\n",
        "\n",
        "---"
      ],
      "metadata": {
        "id": "F4tHXoc4TvaM"
      }
    },
    {
      "cell_type": "markdown",
      "source": [
        "### **Exercise #7: Grouped Bar Charts [OPTIONAL]**\n",
        "---\n",
        "\n",
        "Create a multiple bar plot with multiple x's. The multiple bars are three courses: Maths, English and Music.\n",
        "\n",
        "Plot multiple bars with:\n",
        "* `years` as x-axis values \n",
        "* `students passed` as y-axis values. \n"
      ],
      "metadata": {
        "id": "tvrdZRdpTxfY"
      }
    },
    {
      "cell_type": "code",
      "source": [
        "# set height of bar\n",
        "Maths = [12, 30, 1, 8, 22]\n",
        "English = [28, 6, 16, 5, 10]\n",
        "Music = [29, 3, 24, 25, 17]\n",
        "X=['2015', '2016', '2017', '2018', '2019']"
      ],
      "metadata": {
        "id": "G0IUhhGVT-E_"
      },
      "execution_count": null,
      "outputs": []
    },
    {
      "cell_type": "code",
      "source": [
        "# Set position of bar on X axis\n",
        "bar1 = np.arange(len(Maths))\n",
        " \n",
        "# Make the plot\n",
        "plt.bar(bar1, Maths,  width = 0.25, label ='Maths')\n",
        "plt.bar(bar1+0.25, English,  width = 0.25, label ='English')\n",
        "plt.bar(bar1+0.5, Music,  width = 0.25, label ='Music')\n",
        "plt.show()\n",
        "\n",
        "# Make the plot\n",
        "plt.bar(bar1, Maths,  width = 0.25, label ='Maths')\n",
        "plt.bar(bar1+0.25, English,  width = 0.25, label ='English')\n",
        "plt.bar(bar1+0.5, Music,  width = 0.25, label ='Music')\n",
        "\n",
        "# Adding Xticks\n",
        "plt.xlabel('Branch', fontweight ='bold')\n",
        "plt.ylabel('Number of Students Enrolled', fontweight ='bold')\n",
        "plt.xticks(bar1,X)\n",
        " \n",
        "plt.show()"
      ],
      "metadata": {
        "id": "iUyZdir-T_9k"
      },
      "execution_count": null,
      "outputs": []
    },
    {
      "cell_type": "markdown",
      "source": [
        "### **Exercise #8: Your turn: Grouped Bar Charts [OPTIONAL]**\n",
        "---\n",
        "The data below shows money spent each month (August - December) for different categories: Food, Medical, Personal, and Utilities.\n",
        "\n",
        "Plot the multiple bars. Make the width of the bar `0.2`. Add a title and x and y labels."
      ],
      "metadata": {
        "id": "C-0A6jxTd7Py"
      }
    },
    {
      "cell_type": "code",
      "source": [
        "# DATA\n",
        "Food = [120, 300, 100, 80, 220]\n",
        "Medical = [250, 50, 50, 50, 100]\n",
        "Personal = [290, 30, 240, 250, 170]\n",
        "Utilities = [150, 150, 150, 150, 150]\n",
        "xticks = ['August', 'September', 'October', 'November', 'December']"
      ],
      "metadata": {
        "id": "MUp2i12qMAuw"
      },
      "execution_count": null,
      "outputs": []
    },
    {
      "cell_type": "code",
      "source": [],
      "metadata": {
        "id": "-Vnee83G_WrM"
      },
      "execution_count": null,
      "outputs": []
    },
    {
      "cell_type": "markdown",
      "source": [
        "---\n",
        "\n",
        "<center>\n",
        "\n",
        "#### **Back to lecture**\n",
        "\n",
        "---"
      ],
      "metadata": {
        "id": "G7uRoFPTUH_h"
      }
    },
    {
      "cell_type": "markdown",
      "source": [
        "<a name=\"p3\"></a>\n",
        "## **Part 2: Independent Work**<a name=\"p3\"></a>\n",
        "\n",
        "---"
      ],
      "metadata": {
        "id": "mAK42sxbULSD"
      }
    },
    {
      "cell_type": "markdown",
      "source": [
        "### **Exercise #1: Line Plots**\n",
        "---\n",
        "\n",
        "Complete the following:\n",
        "\n",
        "1. Create a line plot with the given data\n",
        "2. Add labels and a title to the graph"
      ],
      "metadata": {
        "id": "IBZZO8zpN0y7"
      }
    },
    {
      "cell_type": "code",
      "source": [
        "# RUN THIS CELL\n",
        "Year = [1920,1930,1940,1950,1960,1970,1980,1990,2000,2010] # x axis\n",
        "Unemployment_Rate = [9.8,12,8,7.2,6.9,7,6.5,6.2,5.5,6.3] # y axis"
      ],
      "metadata": {
        "id": "LhSxS3JIUL6Z"
      },
      "execution_count": null,
      "outputs": []
    },
    {
      "cell_type": "code",
      "source": [],
      "metadata": {
        "id": "VjdrRa5fUJrm"
      },
      "execution_count": null,
      "outputs": []
    },
    {
      "cell_type": "markdown",
      "source": [
        "###**Exercise #2: Scatter Plots**\n",
        "---\n",
        "\n",
        "Given the following scatter plot, add the following: x-axis label,  y-axis label, and a title."
      ],
      "metadata": {
        "id": "6S8fsll0UQXt"
      }
    },
    {
      "cell_type": "code",
      "source": [
        "workout = {\"date\": [\"10/17/21\", \"11/04/21\", \"11/18/21\", \"11/23/21\", \"11/28/21\", \"11/29/21\"],\n",
        "           \"distance_km\": [4.3, 1.9, 1.9, 1.9, 2.3, 2.8],\n",
        "           \"duration_min\": [21.58, 9.25, 9.0, 8.93, 11.94, 14.05],\n",
        "           \"delta_last_workout\":[1, 18, 14, 5, 5, 1],\n",
        "           \"day_category\": [0, 1, 1, 0, 0, 0]}\n",
        "\n",
        "import pandas as pd\n",
        "import matplotlib.pyplot as plt\n",
        "#loading dataset\n",
        "workout_df = pd.DataFrame(workout)\n",
        "\n",
        "# creating scatter\n",
        "x = workout_df['distance_km']\n",
        "y = workout_df['duration_min']\n",
        "plt.scatter(x, y)\n",
        "plt.show()        "
      ],
      "metadata": {
        "id": "8_s7i36wH5qM"
      },
      "execution_count": null,
      "outputs": []
    },
    {
      "cell_type": "markdown",
      "source": [
        "###**Exercise #3: Bar Plots**\n",
        "---\n",
        "\n",
        "Create a bar plot using the DataFrame below. Add labels: `Innovative companies` for the title, `Countries` for the x-axis label, and `Number of Companies` for the y-axis label."
      ],
      "metadata": {
        "id": "9pyY5MuXUX1R"
      }
    },
    {
      "cell_type": "code",
      "source": [
        "companies = {\"countries\": [\"USA\", \"South Korea\", \"China\", \"Japan\", \"Germany\", \"Netherlands\", \"India\", \"France\", \"London\", \"Switzerland\", \"Sweden\", \"Italy\"],\n",
        "             \"companies\": [25, 2, 3, 3, 6, 1, 3, 1, 1, 2, 2, 1]}\n",
        "companies_df = pd.DataFrame(companies)\n",
        "companies_df"
      ],
      "metadata": {
        "id": "i0sk0NKfUYYo"
      },
      "execution_count": null,
      "outputs": []
    },
    {
      "cell_type": "markdown",
      "source": [
        "## **Part 2.1: Additional Practice [Optional]**\n",
        "\n",
        "---"
      ],
      "metadata": {
        "id": "vLNdkkSURW0K"
      }
    },
    {
      "cell_type": "markdown",
      "source": [
        "### **Exercise #4: Scatterplots**\n",
        "---\n",
        "Create a scatterplot given the array `x_range` and array `y_range`. Add a title called `Random Variable Vs. Random Variable` to the graph. And add x- and y-labels that say `Random X` and `Random Y`, respectively."
      ],
      "metadata": {
        "id": "eWlYktNOVEVu"
      }
    },
    {
      "cell_type": "code",
      "source": [
        "x_range = np.random.randint(400, size=50)\n",
        "y_range = np.random.randint(400, size=50)\n",
        "\n",
        "# add scatterplot"
      ],
      "metadata": {
        "id": "3xGZ60jKVFBk"
      },
      "execution_count": null,
      "outputs": []
    },
    {
      "cell_type": "code",
      "source": [
        "#  Scatterplot \n",
        "\n"
      ],
      "metadata": {
        "id": "w_UyYWWeOKbV"
      },
      "execution_count": null,
      "outputs": []
    },
    {
      "cell_type": "markdown",
      "source": [
        "### **Exercise #5: Line Plots**\n",
        "---\n",
        "\n",
        "Create a line plot for the following data. Add a title called `Unemployment rate over the years` with x-axis and y-axis labels called `Year` and `Unemployment`, respectively."
      ],
      "metadata": {
        "id": "fQ0i35FMVMXq"
      }
    },
    {
      "cell_type": "code",
      "source": [
        "Year = [1920,1930,1940,1950,1960,1970,1980,1990,2000,2010]\n",
        "Unemployment_Rate = [9.8,12,8,7.2,6.9,7,6.5,6.2,5.5,6.3]"
      ],
      "metadata": {
        "id": "TEXIY336VQt6"
      },
      "execution_count": null,
      "outputs": []
    },
    {
      "cell_type": "code",
      "source": [
        "# Line Plot\n"
      ],
      "metadata": {
        "id": "rGEQAClLOJ6X"
      },
      "execution_count": null,
      "outputs": []
    },
    {
      "cell_type": "markdown",
      "source": [
        "### **Exercise #6: Bar Plots**\n",
        "---\n",
        "The information below contains data related to how many people have visited Disney Parks globally. Create a bar plot to show how the number of visits have changed between 2017 to 2020. Make sure you add in helpful labels and a title.\n",
        "\n",
        "**Note:** Visitors is in millions. Example: for 2017, 150 million people visited Disney Parks globally."
      ],
      "metadata": {
        "id": "e45I8G5DVUsf"
      }
    },
    {
      "cell_type": "code",
      "source": [
        "year = ['2017', '2018', '2019', '2020']\n",
        "visitors = [150, 157, 155.991, 43.525]\n"
      ],
      "metadata": {
        "id": "-FTYemlJVZtO"
      },
      "execution_count": null,
      "outputs": []
    },
    {
      "cell_type": "code",
      "source": [
        "# Bar Plot\n"
      ],
      "metadata": {
        "id": "2xGNI2UzOIM_"
      },
      "execution_count": null,
      "outputs": []
    },
    {
      "cell_type": "markdown",
      "source": [
        "### **Exercise #7: Grouped Bar Plots [OPTIONAL]**\n",
        "---\n",
        "For this problem, we will focus on fishery data. The fishery has 2 different types of fish, and corresponding to each fish, we have groups with mean weights. The task is to compare the mean weights of each species of fish using a bar chart. \n",
        "\n",
        "Make sure you:\n",
        "* Add in a legend (You can do this with the command `plt.legend()`)\n",
        "* Add in labels"
      ],
      "metadata": {
        "id": "CYGKreZd_jIl"
      }
    },
    {
      "cell_type": "code",
      "source": [
        "# Data\n",
        "groups = ['G1', 'G2', 'G3', 'G4', 'G5']\n",
        "salmon_weights = [60.9, 70.8, 72.3, 62.8, 64.9]\n",
        "herring_weights = [25, 32, 34, 20, 25]"
      ],
      "metadata": {
        "id": "VUoojz8_VidY"
      },
      "execution_count": null,
      "outputs": []
    },
    {
      "cell_type": "code",
      "source": [
        "# Bar Plot\n"
      ],
      "metadata": {
        "id": "-rJvahcpOGA6"
      },
      "execution_count": null,
      "outputs": []
    },
    {
      "cell_type": "markdown",
      "source": [
        "---\n",
        "\n",
        "<center>\n",
        "\n",
        "#### **Back to lecture**\n",
        "\n",
        "---"
      ],
      "metadata": {
        "id": "fhMRrH6my9Gq"
      }
    },
    {
      "cell_type": "markdown",
      "source": [
        "<a name=\"p4\"></a>\n",
        "\n",
        "## **Part 3: Improving Visualizations**\n",
        "---"
      ],
      "metadata": {
        "id": "8yXy7TnmVlsM"
      }
    },
    {
      "cell_type": "markdown",
      "source": [
        "### **Exercise #1: Improving Scatter Plots**\n",
        "---\n",
        "\n",
        "You are given average temperature values for the months of the year for two cities `city_A` and `city_B`. Plot each cities' average temperatures (hint: you'll need to make two scatterplots). Make `city_A` markers blue squares and `city_B` markers red stars. Add labels and a legend.\n",
        "\n",
        "From the graph, which city is most likely located in the Northeast?"
      ],
      "metadata": {
        "id": "dUqOMFqIqMGq"
      }
    },
    {
      "cell_type": "code",
      "source": [
        "city_A_temps: [60,65,67, 70, 77, 84, 94, 101, 90, 82, 62]\n",
        "city_B_temps: [-11, 14, 25, 32, 55, 73, 87, 92, 82, 66, 53]\n",
        "months = np.arange(1,12)"
      ],
      "metadata": {
        "id": "ZBZcgZ2trRtM"
      },
      "execution_count": null,
      "outputs": []
    },
    {
      "cell_type": "code",
      "source": [
        "# Plot here\n",
        "\n"
      ],
      "metadata": {
        "id": "B6nuqGlIOWDU"
      },
      "execution_count": null,
      "outputs": []
    },
    {
      "cell_type": "markdown",
      "source": [
        "#### **Potential Solution**"
      ],
      "metadata": {
        "id": "TIiI6cDBsUvx"
      }
    },
    {
      "cell_type": "code",
      "source": [
        "city_A_temps = [60,65,67, 70, 77, 84, 94, 101, 90, 82, 66]\n",
        "city_B_temps = [-6, 5, 25, 32, 55, 73, 83, 89, 72, 59, 43]\n",
        "months = np.arange(1,12)\n",
        "\n",
        "plt.scatter(months, city_A_temps, label='city_A',color='blue', marker='*')\n",
        "plt.scatter(months, city_B_temps, label='city_B',color='red',marker='s')\n",
        "\n",
        "plt.title('Temperatures in Different Cities')\n",
        "plt.xlabel('Month')\n",
        "plt.ylabel('Temperature')\n",
        "plt.legend()\n",
        "plt.show()"
      ],
      "metadata": {
        "id": "BsLw4wdBsXPY"
      },
      "execution_count": null,
      "outputs": []
    },
    {
      "cell_type": "markdown",
      "source": [
        "### **Exercise #2: Improving Scatter Plots**\n",
        "---\n",
        "\n",
        "Now, adjust the plot so that `city_A` markers are black diamonds and `city_B` markers are green octagons. You can find all the marker options [here](https://matplotlib.org/stable/api/markers_api.html)."
      ],
      "metadata": {
        "id": "XJTJjzIdhMuF"
      }
    },
    {
      "cell_type": "code",
      "source": [
        "city_A_temps = [60,65,67, 70, 77, 84, 94, 101, 90, 82, 62]\n",
        "city_B_temps = [-11, 14, 25, 32, 55, 73, 87, 92, 82, 66, 53]\n",
        "months = np.arange(1,12)"
      ],
      "metadata": {
        "id": "FGyhRMmBhMuG"
      },
      "execution_count": null,
      "outputs": []
    },
    {
      "cell_type": "code",
      "source": [
        "# Plot here \n",
        "\n"
      ],
      "metadata": {
        "id": "tDc50XjYOZ-g"
      },
      "execution_count": null,
      "outputs": []
    },
    {
      "cell_type": "markdown",
      "source": [
        "### **Exercise #3: Changing transparency [OPTIONAL]**\n",
        "---\n",
        "\n",
        "Run the following cell to see the given scatter plot. As you can see, there is a lot of overlap of the points. So, let's set the transparency (`alpha`) to 0.5."
      ],
      "metadata": {
        "id": "D8fNYzcGUV3O"
      }
    },
    {
      "cell_type": "code",
      "source": [
        "# get data (ignore the sns part)\n",
        "tips_df = sns.load_dataset('tips')\n",
        "total_bill = tips_df.total_bill.to_numpy()\n",
        "tip = tips_df.tip.to_numpy()\n",
        "\n",
        "# plot data\n",
        "plt.scatter(total_bill, tip)\n",
        "plt.title('Total Bill vs Tip')\n",
        "plt.xlabel('Total Bill ($)')\n",
        "plt.ylabel('Tip ($)')\n",
        "plt.show()"
      ],
      "metadata": {
        "id": "ecevoMqiUb9p"
      },
      "execution_count": null,
      "outputs": []
    },
    {
      "cell_type": "code",
      "source": [
        "# Change transparency \n",
        "\n",
        "\n"
      ],
      "metadata": {
        "id": "7jPR8UfIOdym"
      },
      "execution_count": null,
      "outputs": []
    },
    {
      "cell_type": "markdown",
      "source": [
        "### **Exercise #4: Changing the size of scatter points [OPTIONAL]**\n",
        "---\n",
        "\n",
        "Using the scatter plot from Problem #3, change the size of the scatter points using the variable `size_table_scaled`."
      ],
      "metadata": {
        "id": "EhK1ndAGms-O"
      }
    },
    {
      "cell_type": "code",
      "source": [
        "# use size_table_scaled for size\n",
        "size_table = tips_df['size'].to_numpy()\n",
        "size_table_scaled = [3*s**2 for s in size_table]\n",
        "\n",
        "print(size_table_scaled)\n",
        "# update plot\n"
      ],
      "metadata": {
        "id": "t2MCTEgcV0_b"
      },
      "execution_count": null,
      "outputs": []
    },
    {
      "cell_type": "code",
      "source": [
        "# Change size \n",
        "\n"
      ],
      "metadata": {
        "id": "NHaL6w0nOgBY"
      },
      "execution_count": null,
      "outputs": []
    },
    {
      "cell_type": "markdown",
      "source": [
        "### **Exercise #5: Improving line plots**\n",
        "---\n",
        "Create a line plot with the following features:\n",
        "\n",
        "\n",
        "* A dashed line\n",
        "* Make the dashed line and markers purple\n",
        "* A legend\n",
        "\n"
      ],
      "metadata": {
        "id": "tCDKL5LXIDtm"
      }
    },
    {
      "cell_type": "code",
      "source": [
        "Year = [1920,1930,1940,1950,1960,1970,1980,1990,2000,2010]\n",
        "Unemployment_Rate = [9.8,12,8,7.2,6.9,7,6.5,6.2,5.5,6.3]"
      ],
      "metadata": {
        "id": "u04mZF2WYrb1"
      },
      "execution_count": null,
      "outputs": []
    },
    {
      "cell_type": "code",
      "source": [
        "# Making further improvements\n",
        "\n",
        "\n"
      ],
      "metadata": {
        "id": "NYq809wfOiUe"
      },
      "execution_count": null,
      "outputs": []
    },
    {
      "cell_type": "markdown",
      "source": [
        "### **Exercise #6: Improving line plots**\n",
        "---\n",
        "Using the following data, create a line plot. In addition: \n",
        "* Make that line dashed and dotted with `\"-.\"`\n",
        "* Add a gride to the background"
      ],
      "metadata": {
        "id": "Jf5F6kZOZFoI"
      }
    },
    {
      "cell_type": "code",
      "source": [
        "# x axis values \n",
        "x = [1,2,3] \n",
        "# corresponding y axis values \n",
        "y = [2,4,1] "
      ],
      "metadata": {
        "id": "jWVJ7xzZZfk1"
      },
      "execution_count": null,
      "outputs": []
    },
    {
      "cell_type": "code",
      "source": [
        "# Making improvements\n",
        "\n",
        "\n"
      ],
      "metadata": {
        "id": "J2vGRGAHOk1Y"
      },
      "execution_count": null,
      "outputs": []
    },
    {
      "cell_type": "markdown",
      "source": [
        "### **Exercise #7: Improving bar graphs**\n",
        "---\n",
        "\n",
        "Using the same data from Section #1.3 which shows the number of students in diferent language classes, make a bar plot with each bar as a different color."
      ],
      "metadata": {
        "id": "MsZMPksXamGz"
      }
    },
    {
      "cell_type": "code",
      "source": [
        "langs = ['English', 'French', 'Spanish', 'Chinese', 'Arabic']\n",
        "students = [23,17,35,29,12]"
      ],
      "metadata": {
        "id": "tun4npXIUqH9"
      },
      "execution_count": null,
      "outputs": []
    },
    {
      "cell_type": "code",
      "source": [
        "# Bar plot\n",
        "\n"
      ],
      "metadata": {
        "id": "AeG2wGZBOm-I"
      },
      "execution_count": null,
      "outputs": []
    },
    {
      "cell_type": "markdown",
      "source": [
        "### **Exercise #8: Improving bar graphs**\n",
        "---\n",
        "\n",
        "Use the following data to create a simple bar plot. Make all of the bars blue except bar `E`; make bar `E` red."
      ],
      "metadata": {
        "id": "UBfUrUZBa0jQ"
      }
    },
    {
      "cell_type": "code",
      "source": [
        "height = [3, 12, 5, 18, 45]       # y\n",
        "bars = ['A', 'B', 'C', 'D', 'E']  # x"
      ],
      "metadata": {
        "id": "0WAX4X4wbGnS"
      },
      "execution_count": null,
      "outputs": []
    },
    {
      "cell_type": "code",
      "source": [
        "# Bar plot modifications\n",
        "\n"
      ],
      "metadata": {
        "id": "lcI6wXQEOqPs"
      },
      "execution_count": null,
      "outputs": []
    },
    {
      "cell_type": "markdown",
      "source": [
        "### **Exercise #9: Changing size of graphs**\n",
        "---\n",
        "\n",
        "For Exercises #9.1-2, we'll be using the following DataFrame, which contains information on U.S. agricultural exports in 2011."
      ],
      "metadata": {
        "id": "v52xBX4hPYcF"
      }
    },
    {
      "cell_type": "code",
      "source": [
        "#import dataset\n",
        "url = 'https://raw.githubusercontent.com/plotly/datasets/master/2011_us_ag_exports.csv'\n",
        "export_df = pd.read_csv(url)\n",
        "export_df"
      ],
      "metadata": {
        "id": "7ltA47zfPiTN"
      },
      "execution_count": null,
      "outputs": []
    },
    {
      "cell_type": "markdown",
      "source": [
        "### **Exercise #9.1** \n",
        "---\n",
        "Compare beef export of different states using a bar plot. Adjust the size of the plot so that the graph and its labels are legible."
      ],
      "metadata": {
        "id": "nN0tkLl8PoT4"
      }
    },
    {
      "cell_type": "markdown",
      "source": [
        "\n",
        "\n",
        "Note: to use a dataframe for a graph, here is the syntax:\n",
        "```\n",
        "plt.bar(DF_NAME['x_variable'],export_df['y_variable'])\n",
        "```"
      ],
      "metadata": {
        "id": "OJti-ZwmPqm8"
      }
    },
    {
      "cell_type": "code",
      "source": [
        "# Adjusting size of the graph plot\n",
        "\n"
      ],
      "metadata": {
        "id": "0JArGmUYP2jQ"
      },
      "execution_count": null,
      "outputs": []
    },
    {
      "cell_type": "markdown",
      "source": [
        "### **Exercise #9.2**\n",
        "---\n",
        "Compare the export of corn from different states using a bar plot. Make sure you adjust the size of the plot."
      ],
      "metadata": {
        "id": "_TtWLwGvQS7U"
      }
    },
    {
      "cell_type": "code",
      "source": [],
      "metadata": {
        "id": "aRIt-71SQTvy"
      },
      "execution_count": null,
      "outputs": []
    },
    {
      "cell_type": "markdown",
      "source": [
        "### **Exercise #9.3: Challenge Problem [Optional]**\n",
        "---\n",
        "Compare beef and corn exports from Arizona, Arkansas, California and Colorado using a grouped bar chart. Make sure you adjust the size of the plot.\n",
        "\n",
        "The data has already been filtered to only include Arizona, Arkansas, California and Colorado using the starter code below. "
      ],
      "metadata": {
        "id": "M3ZqKr_zQbIJ"
      }
    },
    {
      "cell_type": "code",
      "source": [
        "#Export of beef and corn for Arizona, Arkansas, California, Colorado\n",
        "x_axis = np.arange(len(export_df[\"code\"][2:6]))\n",
        "\n",
        "#add code here"
      ],
      "metadata": {
        "id": "Yr0n_fXtQn6t"
      },
      "execution_count": null,
      "outputs": []
    },
    {
      "cell_type": "markdown",
      "source": [
        "### **Exercise #10: Styling Titles and Labels**\n",
        "---\n",
        "\n",
        "Update your line plot from Part 2 to include the following:\n",
        "\n",
        "* Make the title bold and the font `serif`\n",
        "* Make the x- and y-labels large and in the font `serif`"
      ],
      "metadata": {
        "id": "DrsWeKWtGs8d"
      }
    },
    {
      "cell_type": "code",
      "source": [
        "Year = [1920,1930,1940,1950,1960,1970,1980,1990,2000,2010]\n",
        "Unemployment_Rate = [9.8,12,8,7.2,6.9,7,6.5,6.2,5.5,6.3]\n",
        "\n",
        "plt.plot(Year, Unemployment_Rate, color = \"purple\", marker = \".\", label = \"Unemp. Rate\", ls = \"--\")\n",
        "plt.xlabel(\"Year\")\n",
        "plt.ylabel(\"Unemployment Rate\")\n",
        "plt.title(\"Unemployment rate over the years\")\n",
        "plt.grid()\n",
        "plt.legend()\n",
        "plt.show()"
      ],
      "metadata": {
        "id": "90dZKCTGcjFr",
        "colab": {
          "base_uri": "https://localhost:8080/",
          "height": 295
        },
        "outputId": "91ccb6e6-dc0c-4c27-e071-45b0d29d508f"
      },
      "execution_count": null,
      "outputs": [
        {
          "output_type": "display_data",
          "data": {
            "text/plain": [
              "<Figure size 432x288 with 1 Axes>"
            ],
            "image/png": "[encoded data removed]"
          },
          "metadata": {
            "needs_background": "light"
          }
        }
      ]
    },
    {
      "cell_type": "code",
      "source": [
        "# YOUR CODE HERE\n",
        "\n",
        "\n"
      ],
      "metadata": {
        "id": "ocg6jRm7OyUA"
      },
      "execution_count": null,
      "outputs": []
    },
    {
      "cell_type": "markdown",
      "source": [
        "---\n",
        "© 2023 The Coding School, All rights reserved"
      ],
      "metadata": {
        "id": "_HyK3MU03rBY"
      }
    }
  ]
}