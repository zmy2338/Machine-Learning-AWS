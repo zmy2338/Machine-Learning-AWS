{
  "nbformat": 4,
  "nbformat_minor": 0,
  "metadata": {
    "colab": {
      "provenance": [],
      "include_colab_link": true
    },
    "kernelspec": {
      "name": "python3",
      "display_name": "Python 3"
    },
    "language_info": {
      "name": "python"
    }
  },
  "cells": [
    {
      "cell_type": "markdown",
      "metadata": {
        "id": "view-in-github",
        "colab_type": "text"
      },
      "source": [
        "<a href=\"https://colab.research.google.com/github/zmy2338/Machine-Learning-AWS/blob/main/Copy_of_AWS_Part_II_Day_1_Lab_Notebook_%5BSOLUTIONS%5D_v1.ipynb\" target=\"_parent\"><img src=\"https://colab.research.google.com/assets/colab-badge.svg\" alt=\"Open In Colab\"/></a>"
      ]
    },
    {
      "cell_type": "markdown",
      "source": [
        "# **Lab 1: Review of the Basics I**\n",
        "---\n",
        "### **Description**\n",
        "This lab provides a comprehensive overview of exploratory data analysis (EDA) techniques using Python's pandas library for data manipulation and analysis. Additionally, it explores data visualization using the matplotlib library. Throughout the notebook, you'll review how to load and manipulate datasets effectively with pandas commands and leverage matplotlib to create insightful visualizations that aid in uncovering patterns, trends, and insights within the data.\n",
        "\n",
        "\n",
        "\n",
        "### **Lab Structure**\n",
        "* **Part 1**: [Exploratory Data Analysis Review](#p1)\n",
        "\n",
        "  >  **Part 1.1**: [Basic Commands](#p1.1)\n",
        "\n",
        "  >  **Part 1.2**: [Further Exploration](#p1.2)\n",
        "\n",
        "* **Part 2**: [Data Visualization Review](#p2)\n",
        "\n",
        "  >  **Part 2.1**: [Scatter Plots](#p2.1)\n",
        "\n",
        "  >  **Part 2.2**: [Line Plots](#p2.2)\n",
        "\n",
        "  >  **Part 2.3**: [Bar Plots](#p2.3)\n",
        "\n",
        "* **Part 3**: [[OPTIONAL] Improving Visualizations](#p3)\n",
        "  >  **Part 3.1**: [Improving Scatter Plots](#p3.1)\n",
        "\n",
        "  >  **Part 3.2**: [Improving Line Plots](#p3.2)\n",
        "\n",
        "  >  **Part 3.3**: [Improving Bar Plots](#p3.3)\n",
        "\n",
        "  >  **Part 3.4**: [Enhancing Plot Aesthetics](#p3.4)\n",
        "\n",
        "* **Part 4**: [[ADDITIONAL PRACTICE] Improving Visualizations](#p4)\n",
        "\n",
        "* **Part 5**: [Modeling with sklearn](#p5)\n",
        "\n",
        "\n",
        "\n",
        "<br>\n",
        "\n",
        "### **Learning Objectives**\n",
        " By the end of this lab, we will:\n",
        "* Understand basic pandas commands for EDA.\n",
        "\n",
        "* Understand basic matplotlib commands for Data Visualization.\n",
        "\n",
        "* Understand how to implement and evaluate Linear Regression, K-Nearest Neighbors, and Logistic Regression with sklearn.\n",
        "\n",
        "\n",
        "<br>\n",
        "\n",
        "\n",
        "### **Resources**\n",
        "* [EDA with pandas](https://docs.google.com/document/d/19_Vzr_sxVOKxlvcDnCs15J-Hy6fidXDBtj16jSIhllA/edit?usp=sharing)\n",
        "* [Data Visualization with matplotlib](https://docs.google.com/document/d/1K9sb2lpcLVkQkdmF-JlCJx0k0mIiTsLk6ugsnv54mew/edit?usp=sharing)\n",
        "\n",
        "* [Linear Regression](https://docs.google.com/document/d/1Ul6ILmP-UZ9LT8iyUxM_x9uRJ_LKHDfwBPIWIQU-d3g/edit?usp=sharing)\n",
        "\n",
        "* [K-Nearest Neighbors](https://docs.google.com/document/d/1Z0Uk43jYmRPHgzIyg0s1YIU6hNIw43PFFtqbl8lbj64/edit?usp=sharing)\n",
        "\n",
        "* [Logistic Regression](https://docs.google.com/document/d/1dAlAlRI1YAKa2Od08TJ9Z7JUysxcUucZXvNMVMvLA4w/edit?usp=sharing)\n",
        "\n",
        "<br>\n",
        "\n",
        "**Before starting, run the code below to import all necessary functions and libraries.**\n"
      ],
      "metadata": {
        "id": "nvymFWiixQvT"
      }
    },
    {
      "cell_type": "code",
      "source": [
        "import warnings\n",
        "warnings.filterwarnings('ignore')\n",
        "\n",
        "import pandas as pd\n",
        "import matplotlib.pyplot as plt\n",
        "from sklearn import model_selection\n",
        "from sklearn import datasets\n",
        "from sklearn.metrics import r2_score\n",
        "from sklearn.metrics import mean_squared_error\n",
        "from sklearn.metrics import mean_absolute_error\n",
        "from sklearn.metrics import accuracy_score\n",
        "from sklearn.metrics import confusion_matrix\n",
        "from sklearn.metrics import ConfusionMatrixDisplay\n",
        "from sklearn.metrics import classification_report"
      ],
      "metadata": {
        "id": "9de72I1w8qKR"
      },
      "execution_count": null,
      "outputs": []
    },
    {
      "cell_type": "markdown",
      "source": [
        "<a name=\"p1\"></a>\n",
        "\n",
        "---\n",
        "## **Part 1: Exploratory Data Analysis Review**\n",
        "---\n",
        "\n",
        "\n"
      ],
      "metadata": {
        "id": "-l9pd5CCqVtD"
      }
    },
    {
      "cell_type": "markdown",
      "source": [
        "<a name=\"p1.1\"></a>\n",
        "\n",
        "---\n",
        "### **Part 1.1: Basic Commands**\n",
        "---\n",
        "\n",
        "\n",
        "**Run the code cell below to create the DataFrame.**"
      ],
      "metadata": {
        "id": "T9LU--mDehnn"
      }
    },
    {
      "cell_type": "code",
      "source": [
        "df = pd.DataFrame({'U.S. State': ['California', 'Florida', 'Indiana', 'Texas', 'Pennsylvania'],\n",
        "        'Population (in millions)': [38, 21, 6.5, 28, 13],\n",
        "        'Capitol': ['Sacramento', 'Tallahassee', 'Indianapolis', 'Austin', 'Harrisburg'],\n",
        "        'GDP ($ in billions)': [3700, 1070, 352, 1876, 726]})"
      ],
      "metadata": {
        "id": "iD9_DTVCzRbY"
      },
      "execution_count": null,
      "outputs": []
    },
    {
      "cell_type": "markdown",
      "source": [
        "#### **Problem #1.1.1**\n",
        "\n",
        "**Together**, let's inspect what `.head()` tells us about this DataFrame."
      ],
      "metadata": {
        "id": "hjbtt13XrE7G"
      }
    },
    {
      "cell_type": "code",
      "source": [],
      "metadata": {
        "id": "_d_m_CVn0t-z"
      },
      "execution_count": null,
      "outputs": []
    },
    {
      "cell_type": "markdown",
      "source": [
        "##### **Solution**"
      ],
      "metadata": {
        "id": "_2BcksNorJGt"
      }
    },
    {
      "cell_type": "code",
      "source": [
        "df.head(3)"
      ],
      "metadata": {
        "colab": {
          "base_uri": "https://localhost:8080/",
          "height": 143
        },
        "id": "u7GLmCyorJZD",
        "outputId": "9d2a644d-eb71-418f-f45a-b8a8c4cb8132"
      },
      "execution_count": null,
      "outputs": [
        {
          "output_type": "execute_result",
          "data": {
            "text/plain": [
              "   U.S. State  Population (in millions)       Capitol  GDP ($ in billions)\n",
              "0  California                      38.0    Sacramento                 3700\n",
              "1     Florida                      21.0   Tallahassee                 1070\n",
              "2     Indiana                       6.5  Indianapolis                  352"
            ],
            "text/html": [
              "\n",
              "  <div id=\"df-1148a4f0-d46f-4e64-a257-adf67dc6b10c\">\n",
              "    <div class=\"colab-df-container\">\n",
              "      <div>\n",
              "<style scoped>\n",
              "    .dataframe tbody tr th:only-of-type {\n",
              "        vertical-align: middle;\n",
              "    }\n",
              "\n",
              "    .dataframe tbody tr th {\n",
              "        vertical-align: top;\n",
              "    }\n",
              "\n",
              "    .dataframe thead th {\n",
              "        text-align: right;\n",
              "    }\n",
              "</style>\n",
              "<table border=\"1\" class=\"dataframe\">\n",
              "  <thead>\n",
              "    <tr style=\"text-align: right;\">\n",
              "      <th></th>\n",
              "      <th>U.S. State</th>\n",
              "      <th>Population (in millions)</th>\n",
              "      <th>Capitol</th>\n",
              "      <th>GDP ($ in billions)</th>\n",
              "    </tr>\n",
              "  </thead>\n",
              "  <tbody>\n",
              "    <tr>\n",
              "      <th>0</th>\n",
              "      <td>California</td>\n",
              "      <td>38.0</td>\n",
              "      <td>Sacramento</td>\n",
              "      <td>3700</td>\n",
              "    </tr>\n",
              "    <tr>\n",
              "      <th>1</th>\n",
              "      <td>Florida</td>\n",
              "      <td>21.0</td>\n",
              "      <td>Tallahassee</td>\n",
              "      <td>1070</td>\n",
              "    </tr>\n",
              "    <tr>\n",
              "      <th>2</th>\n",
              "      <td>Indiana</td>\n",
              "      <td>6.5</td>\n",
              "      <td>Indianapolis</td>\n",
              "      <td>352</td>\n",
              "    </tr>\n",
              "  </tbody>\n",
              "</table>\n",
              "</div>\n",
              "      <button class=\"colab-df-convert\" onclick=\"convertToInteractive('df-1148a4f0-d46f-4e64-a257-adf67dc6b10c')\"\n",
              "              title=\"Convert this dataframe to an interactive table.\"\n",
              "              style=\"display:none;\">\n",
              "        \n",
              "  <svg xmlns=\"http://www.w3.org/2000/svg\" height=\"24px\"viewBox=\"0 0 24 24\"\n",
              "       width=\"24px\">\n",
              "    <path d=\"M0 0h24v24H0V0z\" fill=\"none\"/>\n",
              "    <path d=\"M18.56 5.44l.94 2.06.94-2.06 2.06-.94-2.06-.94-.94-2.06-.94 2.06-2.06.94zm-11 1L8.5 8.5l.94-2.06 2.06-.94-2.06-.94L8.5 2.5l-.94 2.06-2.06.94zm10 10l.94 2.06.94-2.06 2.06-.94-2.06-.94-.94-2.06-.94 2.06-2.06.94z\"/><path d=\"M17.41 7.96l-1.37-1.37c-.4-.4-.92-.59-1.43-.59-.52 0-1.04.2-1.43.59L10.3 9.45l-7.72 7.72c-.78.78-.78 2.05 0 2.83L4 21.41c.39.39.9.59 1.41.59.51 0 1.02-.2 1.41-.59l7.78-7.78 2.81-2.81c.8-.78.8-2.07 0-2.86zM5.41 20L4 18.59l7.72-7.72 1.47 1.35L5.41 20z\"/>\n",
              "  </svg>\n",
              "      </button>\n",
              "      \n",
              "  <style>\n",
              "    .colab-df-container {\n",
              "      display:flex;\n",
              "      flex-wrap:wrap;\n",
              "      gap: 12px;\n",
              "    }\n",
              "\n",
              "    .colab-df-convert {\n",
              "      background-color: #E8F0FE;\n",
              "      border: none;\n",
              "      border-radius: 50%;\n",
              "      cursor: pointer;\n",
              "      display: none;\n",
              "      fill: #1967D2;\n",
              "      height: 32px;\n",
              "      padding: 0 0 0 0;\n",
              "      width: 32px;\n",
              "    }\n",
              "\n",
              "    .colab-df-convert:hover {\n",
              "      background-color: #E2EBFA;\n",
              "      box-shadow: 0px 1px 2px rgba(60, 64, 67, 0.3), 0px 1px 3px 1px rgba(60, 64, 67, 0.15);\n",
              "      fill: #174EA6;\n",
              "    }\n",
              "\n",
              "    [theme=dark] .colab-df-convert {\n",
              "      background-color: #3B4455;\n",
              "      fill: #D2E3FC;\n",
              "    }\n",
              "\n",
              "    [theme=dark] .colab-df-convert:hover {\n",
              "      background-color: #434B5C;\n",
              "      box-shadow: 0px 1px 3px 1px rgba(0, 0, 0, 0.15);\n",
              "      filter: drop-shadow(0px 1px 2px rgba(0, 0, 0, 0.3));\n",
              "      fill: #FFFFFF;\n",
              "    }\n",
              "  </style>\n",
              "\n",
              "      <script>\n",
              "        const buttonEl =\n",
              "          document.querySelector('#df-1148a4f0-d46f-4e64-a257-adf67dc6b10c button.colab-df-convert');\n",
              "        buttonEl.style.display =\n",
              "          google.colab.kernel.accessAllowed ? 'block' : 'none';\n",
              "\n",
              "        async function convertToInteractive(key) {\n",
              "          const element = document.querySelector('#df-1148a4f0-d46f-4e64-a257-adf67dc6b10c');\n",
              "          const dataTable =\n",
              "            await google.colab.kernel.invokeFunction('convertToInteractive',\n",
              "                                                     [key], {});\n",
              "          if (!dataTable) return;\n",
              "\n",
              "          const docLinkHtml = 'Like what you see? Visit the ' +\n",
              "            '<a target=\"_blank\" href=https://colab.research.google.com/notebooks/data_table.ipynb>data table notebook</a>'\n",
              "            + ' to learn more about interactive tables.';\n",
              "          element.innerHTML = '';\n",
              "          dataTable['output_type'] = 'display_data';\n",
              "          await google.colab.output.renderOutput(dataTable, element);\n",
              "          const docLink = document.createElement('div');\n",
              "          docLink.innerHTML = docLinkHtml;\n",
              "          element.appendChild(docLink);\n",
              "        }\n",
              "      </script>\n",
              "    </div>\n",
              "  </div>\n",
              "  "
            ]
          },
          "metadata": {},
          "execution_count": 45
        }
      ]
    },
    {
      "cell_type": "markdown",
      "source": [
        "#### **Problem #1.1.2**\n",
        "\n",
        "**Together**, let's determine what datatype `Population (in millions)` is."
      ],
      "metadata": {
        "id": "_xkLxO4drLIL"
      }
    },
    {
      "cell_type": "code",
      "source": [],
      "metadata": {
        "id": "sn1aSL4ceKOj"
      },
      "execution_count": null,
      "outputs": []
    },
    {
      "cell_type": "markdown",
      "source": [
        "##### **Solution**"
      ],
      "metadata": {
        "id": "HFtNVB9mrJs_"
      }
    },
    {
      "cell_type": "code",
      "source": [
        "# float\n",
        "df.dtypes"
      ],
      "metadata": {
        "id": "Lh2YESCIrKQz"
      },
      "execution_count": null,
      "outputs": []
    },
    {
      "cell_type": "markdown",
      "source": [
        "#### **Problem #1.1.3**\n",
        "\n",
        "**Together**, let's print all of the unique values for `GDP ($ in billions)`."
      ],
      "metadata": {
        "id": "M2ZiYzdX06OR"
      }
    },
    {
      "cell_type": "code",
      "source": [],
      "metadata": {
        "id": "NTMZN8Tw07bU"
      },
      "execution_count": null,
      "outputs": []
    },
    {
      "cell_type": "markdown",
      "source": [
        "##### **Solution**"
      ],
      "metadata": {
        "id": "80UzYDTD1Ijd"
      }
    },
    {
      "cell_type": "code",
      "source": [
        "df['GDP ($ in billions)'].unique()"
      ],
      "metadata": {
        "id": "9j7NqDCn25Uj",
        "colab": {
          "base_uri": "https://localhost:8080/"
        },
        "outputId": "3fa00513-f78b-45e7-fa1f-b9ae37233d99"
      },
      "execution_count": null,
      "outputs": [
        {
          "output_type": "execute_result",
          "data": {
            "text/plain": [
              "array([3700, 1070,  352, 1876,  726])"
            ]
          },
          "metadata": {},
          "execution_count": 49
        }
      ]
    },
    {
      "cell_type": "markdown",
      "source": [
        "---\n",
        "\n",
        "#### **Now it's your turn! Try Problems #1.1.4 - 1.1.7 on your own.**\n",
        "\n",
        "---"
      ],
      "metadata": {
        "id": "IVNCVaO-9kJS"
      }
    },
    {
      "cell_type": "markdown",
      "source": [
        "#### **Problem #1.1.4**\n",
        "\n",
        "**Independently**, determine the column names in the dataset."
      ],
      "metadata": {
        "id": "Qf1t26ecTaFO"
      }
    },
    {
      "cell_type": "code",
      "source": [],
      "metadata": {
        "id": "8CKIqilfUDhr"
      },
      "execution_count": null,
      "outputs": []
    },
    {
      "cell_type": "markdown",
      "source": [
        "##### **Solution**"
      ],
      "metadata": {
        "id": "_sIqdMT1UF3c"
      }
    },
    {
      "cell_type": "code",
      "source": [
        "df.columns"
      ],
      "metadata": {
        "colab": {
          "base_uri": "https://localhost:8080/"
        },
        "id": "E0JyJbMAUGiV",
        "outputId": "356da3db-4012-4406-dccb-7241d9fe304c"
      },
      "execution_count": null,
      "outputs": [
        {
          "output_type": "execute_result",
          "data": {
            "text/plain": [
              "Index(['U.S. State', 'Population (in millions)', 'Capitol',\n",
              "       'GDP ($ in billions)'],\n",
              "      dtype='object')"
            ]
          },
          "metadata": {},
          "execution_count": 51
        }
      ]
    },
    {
      "cell_type": "markdown",
      "source": [
        "#### **Problem #1.1.5**\n",
        "\n",
        "**Independently**, determine the highest `GDP ($ in billions)` in the dataset."
      ],
      "metadata": {
        "id": "jrKxwNQFUls3"
      }
    },
    {
      "cell_type": "code",
      "source": [],
      "metadata": {
        "id": "RSmYyAeGWC4X"
      },
      "execution_count": null,
      "outputs": []
    },
    {
      "cell_type": "markdown",
      "source": [
        "##### **Solution**"
      ],
      "metadata": {
        "id": "6iq3mDgBWEHH"
      }
    },
    {
      "cell_type": "code",
      "source": [
        "# 3.7 trillion\n",
        "df['GDP ($ in billions)'].describe()"
      ],
      "metadata": {
        "colab": {
          "base_uri": "https://localhost:8080/"
        },
        "id": "zAeRtdk6WE7a",
        "outputId": "c37bcf66-20cf-4885-d621-b23f94db2ab0"
      },
      "execution_count": null,
      "outputs": [
        {
          "output_type": "execute_result",
          "data": {
            "text/plain": [
              "count       5.000000\n",
              "mean     1544.800000\n",
              "std      1329.776372\n",
              "min       352.000000\n",
              "25%       726.000000\n",
              "50%      1070.000000\n",
              "75%      1876.000000\n",
              "max      3700.000000\n",
              "Name: GDP ($ in billions), dtype: float64"
            ]
          },
          "metadata": {},
          "execution_count": 55
        }
      ]
    },
    {
      "cell_type": "markdown",
      "source": [
        "#### **Problem #1.1.6**\n",
        "\n",
        "**Independently**, determine which states are included in this dataset."
      ],
      "metadata": {
        "id": "Z-o7V6JfVCR6"
      }
    },
    {
      "cell_type": "code",
      "source": [],
      "metadata": {
        "id": "_5G1-bSxWsAr"
      },
      "execution_count": null,
      "outputs": []
    },
    {
      "cell_type": "markdown",
      "source": [
        "##### **Solution**"
      ],
      "metadata": {
        "id": "gxrG951KWs88"
      }
    },
    {
      "cell_type": "code",
      "source": [
        "# California, Florida, Indiana, Texas, Pennsylvania\n",
        "df['U.S. State'].unique()"
      ],
      "metadata": {
        "colab": {
          "base_uri": "https://localhost:8080/"
        },
        "id": "rSVFMB7AWtUC",
        "outputId": "c7c63808-5d8b-42b0-8150-09b5788c0af7"
      },
      "execution_count": null,
      "outputs": [
        {
          "output_type": "execute_result",
          "data": {
            "text/plain": [
              "array(['California', 'Florida', 'Indiana', 'Texas', 'Pennsylvania'],\n",
              "      dtype=object)"
            ]
          },
          "metadata": {},
          "execution_count": 61
        }
      ]
    },
    {
      "cell_type": "markdown",
      "source": [
        "#### **Problem #1.1.7**\n",
        "\n",
        "**Independently**, determine the range of GDP values among the states?"
      ],
      "metadata": {
        "id": "Jb_Ob6OaVSQC"
      }
    },
    {
      "cell_type": "code",
      "source": [],
      "metadata": {
        "id": "MxnSgKfGW6YX"
      },
      "execution_count": null,
      "outputs": []
    },
    {
      "cell_type": "markdown",
      "source": [
        "##### **Solution**"
      ],
      "metadata": {
        "id": "U-4EX1ZiW7aL"
      }
    },
    {
      "cell_type": "code",
      "source": [
        "# 352 billion to 3.7 trillion\n",
        "df['GDP ($ in billions)'].describe()"
      ],
      "metadata": {
        "colab": {
          "base_uri": "https://localhost:8080/"
        },
        "id": "JkfghFIVW8UQ",
        "outputId": "6bd0f5ad-15e0-429b-dfef-7fb4279d5ca1"
      },
      "execution_count": null,
      "outputs": [
        {
          "output_type": "execute_result",
          "data": {
            "text/plain": [
              "count       5.000000\n",
              "mean     1544.800000\n",
              "std      1329.776372\n",
              "min       352.000000\n",
              "25%       726.000000\n",
              "50%      1070.000000\n",
              "75%      1876.000000\n",
              "max      3700.000000\n",
              "Name: GDP ($ in billions), dtype: float64"
            ]
          },
          "metadata": {},
          "execution_count": 63
        }
      ]
    },
    {
      "cell_type": "markdown",
      "source": [
        "---\n",
        "\n",
        "<center>\n",
        "\n",
        "#### **Wait for Your Instructor to Continue**\n",
        "\n",
        "---"
      ],
      "metadata": {
        "id": "5uUNWTJ9f3rx"
      }
    },
    {
      "cell_type": "markdown",
      "source": [
        "<a name=\"p1.2\"></a>\n",
        "\n",
        "---\n",
        "### **Part 1.2: Further Exploration**\n",
        "---\n",
        "\n"
      ],
      "metadata": {
        "id": "xnbhz3EjgRGW"
      }
    },
    {
      "cell_type": "markdown",
      "source": [
        "#### **Problem #1.2.1**\n",
        "\n",
        "**Independently**, determine the average `Population (in millions)` size among the U.S. states in the dataset."
      ],
      "metadata": {
        "id": "JFzkrUYt04_4"
      }
    },
    {
      "cell_type": "code",
      "source": [],
      "metadata": {
        "id": "J3Qt_0oneJtN"
      },
      "execution_count": null,
      "outputs": []
    },
    {
      "cell_type": "markdown",
      "source": [
        "##### **Solution**"
      ],
      "metadata": {
        "id": "eGn9GtBA1HYN"
      }
    },
    {
      "cell_type": "code",
      "source": [
        "#21.3 million\n",
        "df['Population (in millions)'].mean()\n",
        "\n",
        "#OR\n",
        "\n",
        "df.describe()"
      ],
      "metadata": {
        "id": "K2AhLxF_1xLC"
      },
      "execution_count": null,
      "outputs": []
    },
    {
      "cell_type": "markdown",
      "source": [
        "#### **Problem #1.2.2**\n",
        "\n",
        "**Independently,** explore rows 4 and 5. What are the U.S. States listed?"
      ],
      "metadata": {
        "id": "pCQRROJm054A"
      }
    },
    {
      "cell_type": "code",
      "source": [],
      "metadata": {
        "id": "mclhR7MJeMto"
      },
      "execution_count": null,
      "outputs": []
    },
    {
      "cell_type": "markdown",
      "source": [
        "##### **Solution**"
      ],
      "metadata": {
        "id": "icUzg8WQ1ICI"
      }
    },
    {
      "cell_type": "code",
      "source": [
        "#Texas and Pennsylvania\n",
        "\n",
        "df.iloc[3:5]"
      ],
      "metadata": {
        "id": "nT4q0GJx2JPG",
        "colab": {
          "base_uri": "https://localhost:8080/",
          "height": 112
        },
        "outputId": "b8719f2a-97b6-4570-be0a-572533db7dc8"
      },
      "execution_count": null,
      "outputs": [
        {
          "output_type": "execute_result",
          "data": {
            "text/plain": [
              "     U.S. State  Population (in millions)     Capitol  GDP ($ in billions)\n",
              "3         Texas                      28.0      Austin                 1876\n",
              "4  Pennsylvania                      13.0  Harrisburg                  726"
            ],
            "text/html": [
              "\n",
              "  <div id=\"df-87de0b98-2b7c-4e4e-8480-5a869f84dce1\">\n",
              "    <div class=\"colab-df-container\">\n",
              "      <div>\n",
              "<style scoped>\n",
              "    .dataframe tbody tr th:only-of-type {\n",
              "        vertical-align: middle;\n",
              "    }\n",
              "\n",
              "    .dataframe tbody tr th {\n",
              "        vertical-align: top;\n",
              "    }\n",
              "\n",
              "    .dataframe thead th {\n",
              "        text-align: right;\n",
              "    }\n",
              "</style>\n",
              "<table border=\"1\" class=\"dataframe\">\n",
              "  <thead>\n",
              "    <tr style=\"text-align: right;\">\n",
              "      <th></th>\n",
              "      <th>U.S. State</th>\n",
              "      <th>Population (in millions)</th>\n",
              "      <th>Capitol</th>\n",
              "      <th>GDP ($ in billions)</th>\n",
              "    </tr>\n",
              "  </thead>\n",
              "  <tbody>\n",
              "    <tr>\n",
              "      <th>3</th>\n",
              "      <td>Texas</td>\n",
              "      <td>28.0</td>\n",
              "      <td>Austin</td>\n",
              "      <td>1876</td>\n",
              "    </tr>\n",
              "    <tr>\n",
              "      <th>4</th>\n",
              "      <td>Pennsylvania</td>\n",
              "      <td>13.0</td>\n",
              "      <td>Harrisburg</td>\n",
              "      <td>726</td>\n",
              "    </tr>\n",
              "  </tbody>\n",
              "</table>\n",
              "</div>\n",
              "      <button class=\"colab-df-convert\" onclick=\"convertToInteractive('df-87de0b98-2b7c-4e4e-8480-5a869f84dce1')\"\n",
              "              title=\"Convert this dataframe to an interactive table.\"\n",
              "              style=\"display:none;\">\n",
              "        \n",
              "  <svg xmlns=\"http://www.w3.org/2000/svg\" height=\"24px\"viewBox=\"0 0 24 24\"\n",
              "       width=\"24px\">\n",
              "    <path d=\"M0 0h24v24H0V0z\" fill=\"none\"/>\n",
              "    <path d=\"M18.56 5.44l.94 2.06.94-2.06 2.06-.94-2.06-.94-.94-2.06-.94 2.06-2.06.94zm-11 1L8.5 8.5l.94-2.06 2.06-.94-2.06-.94L8.5 2.5l-.94 2.06-2.06.94zm10 10l.94 2.06.94-2.06 2.06-.94-2.06-.94-.94-2.06-.94 2.06-2.06.94z\"/><path d=\"M17.41 7.96l-1.37-1.37c-.4-.4-.92-.59-1.43-.59-.52 0-1.04.2-1.43.59L10.3 9.45l-7.72 7.72c-.78.78-.78 2.05 0 2.83L4 21.41c.39.39.9.59 1.41.59.51 0 1.02-.2 1.41-.59l7.78-7.78 2.81-2.81c.8-.78.8-2.07 0-2.86zM5.41 20L4 18.59l7.72-7.72 1.47 1.35L5.41 20z\"/>\n",
              "  </svg>\n",
              "      </button>\n",
              "      \n",
              "  <style>\n",
              "    .colab-df-container {\n",
              "      display:flex;\n",
              "      flex-wrap:wrap;\n",
              "      gap: 12px;\n",
              "    }\n",
              "\n",
              "    .colab-df-convert {\n",
              "      background-color: #E8F0FE;\n",
              "      border: none;\n",
              "      border-radius: 50%;\n",
              "      cursor: pointer;\n",
              "      display: none;\n",
              "      fill: #1967D2;\n",
              "      height: 32px;\n",
              "      padding: 0 0 0 0;\n",
              "      width: 32px;\n",
              "    }\n",
              "\n",
              "    .colab-df-convert:hover {\n",
              "      background-color: #E2EBFA;\n",
              "      box-shadow: 0px 1px 2px rgba(60, 64, 67, 0.3), 0px 1px 3px 1px rgba(60, 64, 67, 0.15);\n",
              "      fill: #174EA6;\n",
              "    }\n",
              "\n",
              "    [theme=dark] .colab-df-convert {\n",
              "      background-color: #3B4455;\n",
              "      fill: #D2E3FC;\n",
              "    }\n",
              "\n",
              "    [theme=dark] .colab-df-convert:hover {\n",
              "      background-color: #434B5C;\n",
              "      box-shadow: 0px 1px 3px 1px rgba(0, 0, 0, 0.15);\n",
              "      filter: drop-shadow(0px 1px 2px rgba(0, 0, 0, 0.3));\n",
              "      fill: #FFFFFF;\n",
              "    }\n",
              "  </style>\n",
              "\n",
              "      <script>\n",
              "        const buttonEl =\n",
              "          document.querySelector('#df-87de0b98-2b7c-4e4e-8480-5a869f84dce1 button.colab-df-convert');\n",
              "        buttonEl.style.display =\n",
              "          google.colab.kernel.accessAllowed ? 'block' : 'none';\n",
              "\n",
              "        async function convertToInteractive(key) {\n",
              "          const element = document.querySelector('#df-87de0b98-2b7c-4e4e-8480-5a869f84dce1');\n",
              "          const dataTable =\n",
              "            await google.colab.kernel.invokeFunction('convertToInteractive',\n",
              "                                                     [key], {});\n",
              "          if (!dataTable) return;\n",
              "\n",
              "          const docLinkHtml = 'Like what you see? Visit the ' +\n",
              "            '<a target=\"_blank\" href=https://colab.research.google.com/notebooks/data_table.ipynb>data table notebook</a>'\n",
              "            + ' to learn more about interactive tables.';\n",
              "          element.innerHTML = '';\n",
              "          dataTable['output_type'] = 'display_data';\n",
              "          await google.colab.output.renderOutput(dataTable, element);\n",
              "          const docLink = document.createElement('div');\n",
              "          docLink.innerHTML = docLinkHtml;\n",
              "          element.appendChild(docLink);\n",
              "        }\n",
              "      </script>\n",
              "    </div>\n",
              "  </div>\n",
              "  "
            ]
          },
          "metadata": {},
          "execution_count": 48
        }
      ]
    },
    {
      "cell_type": "markdown",
      "source": [
        "#### **Problem #1.2.3**\n",
        "\n",
        "**Independently**, determine the total `Population (in millions)` across all states."
      ],
      "metadata": {
        "id": "UJwIu_cuUhFR"
      }
    },
    {
      "cell_type": "code",
      "source": [],
      "metadata": {
        "id": "8fhwGXkKV0sY"
      },
      "execution_count": null,
      "outputs": []
    },
    {
      "cell_type": "markdown",
      "source": [
        "##### **Solution**"
      ],
      "metadata": {
        "id": "eNpYQW1hV2Pe"
      }
    },
    {
      "cell_type": "code",
      "source": [
        "# 106.5 million\n",
        "df['Population (in millions)'].sum()"
      ],
      "metadata": {
        "colab": {
          "base_uri": "https://localhost:8080/"
        },
        "id": "XKoK9Zi5V2pw",
        "outputId": "573cd391-d768-4725-c995-21f3ccc27573"
      },
      "execution_count": null,
      "outputs": [
        {
          "output_type": "execute_result",
          "data": {
            "text/plain": [
              "106.5"
            ]
          },
          "metadata": {},
          "execution_count": 53
        }
      ]
    },
    {
      "cell_type": "markdown",
      "source": [
        "#### **Problem #1.2.4**\n",
        "\n",
        "**Independently**, determine the average `Population (in millions)` of the states."
      ],
      "metadata": {
        "id": "1TSmsuIUUsWo"
      }
    },
    {
      "cell_type": "code",
      "source": [],
      "metadata": {
        "id": "WBDhjRUPWVvd"
      },
      "execution_count": null,
      "outputs": []
    },
    {
      "cell_type": "markdown",
      "source": [
        "##### **Solution**"
      ],
      "metadata": {
        "id": "UIHuCFsdWXgQ"
      }
    },
    {
      "cell_type": "code",
      "source": [
        "# 21.3 million\n",
        "df['Population (in millions)'].mean()"
      ],
      "metadata": {
        "colab": {
          "base_uri": "https://localhost:8080/"
        },
        "id": "Eeg1tUi5WYH6",
        "outputId": "9691cb32-9bde-4135-eda9-0d35f28ae297"
      },
      "execution_count": null,
      "outputs": [
        {
          "output_type": "execute_result",
          "data": {
            "text/plain": [
              "21.3"
            ]
          },
          "metadata": {},
          "execution_count": 57
        }
      ]
    },
    {
      "cell_type": "markdown",
      "source": [
        "#### **Problem #1.2.5**\n",
        "\n",
        "**Independently**, determine the `Population (in millions)` for the 3rd state in the dataset."
      ],
      "metadata": {
        "id": "Mt80XQ5MU9yY"
      }
    },
    {
      "cell_type": "code",
      "source": [],
      "metadata": {
        "id": "rSprvOkBWedi"
      },
      "execution_count": null,
      "outputs": []
    },
    {
      "cell_type": "markdown",
      "source": [
        "##### **Solution**"
      ],
      "metadata": {
        "id": "YzAWg5zZWgWG"
      }
    },
    {
      "cell_type": "code",
      "source": [
        "# 6.5 million\n",
        "df.iloc[2]"
      ],
      "metadata": {
        "colab": {
          "base_uri": "https://localhost:8080/"
        },
        "id": "UeOdIhOMWgrm",
        "outputId": "708d87af-ea5a-4d7e-8de2-9ca84289afbc"
      },
      "execution_count": null,
      "outputs": [
        {
          "output_type": "execute_result",
          "data": {
            "text/plain": [
              "U.S. State                       Indiana\n",
              "Population (in millions)             6.5\n",
              "Capitol                     Indianapolis\n",
              "GDP ($ in billions)                  352\n",
              "Name: 2, dtype: object"
            ]
          },
          "metadata": {},
          "execution_count": 59
        }
      ]
    },
    {
      "cell_type": "markdown",
      "source": [
        "#### **Problem #1.2.6**\n",
        "\n",
        "**Independently**, determine how many states have a population greater than 20 million."
      ],
      "metadata": {
        "id": "Q0Fgq9OcVYeQ"
      }
    },
    {
      "cell_type": "code",
      "source": [
        "\n"
      ],
      "metadata": {
        "id": "V07n-gn_XEXc"
      },
      "execution_count": null,
      "outputs": []
    },
    {
      "cell_type": "markdown",
      "source": [
        "##### **Solution**"
      ],
      "metadata": {
        "id": "T7muTJinXKDq"
      }
    },
    {
      "cell_type": "code",
      "source": [
        "# California, Florida, Texas\n",
        "df.loc[df['Population (in millions)'] > 20]"
      ],
      "metadata": {
        "colab": {
          "base_uri": "https://localhost:8080/",
          "height": 143
        },
        "id": "GZZN0GrIXKnP",
        "outputId": "c190ee05-c5e1-49b2-ec24-d8d7dd3e42b5"
      },
      "execution_count": null,
      "outputs": [
        {
          "output_type": "execute_result",
          "data": {
            "text/plain": [
              "   U.S. State  Population (in millions)      Capitol  GDP ($ in billions)\n",
              "0  California                      38.0   Sacramento                 3700\n",
              "1     Florida                      21.0  Tallahassee                 1070\n",
              "3       Texas                      28.0       Austin                 1876"
            ],
            "text/html": [
              "\n",
              "  <div id=\"df-25ad87df-466d-4507-aa7e-5dd8a7001955\">\n",
              "    <div class=\"colab-df-container\">\n",
              "      <div>\n",
              "<style scoped>\n",
              "    .dataframe tbody tr th:only-of-type {\n",
              "        vertical-align: middle;\n",
              "    }\n",
              "\n",
              "    .dataframe tbody tr th {\n",
              "        vertical-align: top;\n",
              "    }\n",
              "\n",
              "    .dataframe thead th {\n",
              "        text-align: right;\n",
              "    }\n",
              "</style>\n",
              "<table border=\"1\" class=\"dataframe\">\n",
              "  <thead>\n",
              "    <tr style=\"text-align: right;\">\n",
              "      <th></th>\n",
              "      <th>U.S. State</th>\n",
              "      <th>Population (in millions)</th>\n",
              "      <th>Capitol</th>\n",
              "      <th>GDP ($ in billions)</th>\n",
              "    </tr>\n",
              "  </thead>\n",
              "  <tbody>\n",
              "    <tr>\n",
              "      <th>0</th>\n",
              "      <td>California</td>\n",
              "      <td>38.0</td>\n",
              "      <td>Sacramento</td>\n",
              "      <td>3700</td>\n",
              "    </tr>\n",
              "    <tr>\n",
              "      <th>1</th>\n",
              "      <td>Florida</td>\n",
              "      <td>21.0</td>\n",
              "      <td>Tallahassee</td>\n",
              "      <td>1070</td>\n",
              "    </tr>\n",
              "    <tr>\n",
              "      <th>3</th>\n",
              "      <td>Texas</td>\n",
              "      <td>28.0</td>\n",
              "      <td>Austin</td>\n",
              "      <td>1876</td>\n",
              "    </tr>\n",
              "  </tbody>\n",
              "</table>\n",
              "</div>\n",
              "      <button class=\"colab-df-convert\" onclick=\"convertToInteractive('df-25ad87df-466d-4507-aa7e-5dd8a7001955')\"\n",
              "              title=\"Convert this dataframe to an interactive table.\"\n",
              "              style=\"display:none;\">\n",
              "        \n",
              "  <svg xmlns=\"http://www.w3.org/2000/svg\" height=\"24px\"viewBox=\"0 0 24 24\"\n",
              "       width=\"24px\">\n",
              "    <path d=\"M0 0h24v24H0V0z\" fill=\"none\"/>\n",
              "    <path d=\"M18.56 5.44l.94 2.06.94-2.06 2.06-.94-2.06-.94-.94-2.06-.94 2.06-2.06.94zm-11 1L8.5 8.5l.94-2.06 2.06-.94-2.06-.94L8.5 2.5l-.94 2.06-2.06.94zm10 10l.94 2.06.94-2.06 2.06-.94-2.06-.94-.94-2.06-.94 2.06-2.06.94z\"/><path d=\"M17.41 7.96l-1.37-1.37c-.4-.4-.92-.59-1.43-.59-.52 0-1.04.2-1.43.59L10.3 9.45l-7.72 7.72c-.78.78-.78 2.05 0 2.83L4 21.41c.39.39.9.59 1.41.59.51 0 1.02-.2 1.41-.59l7.78-7.78 2.81-2.81c.8-.78.8-2.07 0-2.86zM5.41 20L4 18.59l7.72-7.72 1.47 1.35L5.41 20z\"/>\n",
              "  </svg>\n",
              "      </button>\n",
              "      \n",
              "  <style>\n",
              "    .colab-df-container {\n",
              "      display:flex;\n",
              "      flex-wrap:wrap;\n",
              "      gap: 12px;\n",
              "    }\n",
              "\n",
              "    .colab-df-convert {\n",
              "      background-color: #E8F0FE;\n",
              "      border: none;\n",
              "      border-radius: 50%;\n",
              "      cursor: pointer;\n",
              "      display: none;\n",
              "      fill: #1967D2;\n",
              "      height: 32px;\n",
              "      padding: 0 0 0 0;\n",
              "      width: 32px;\n",
              "    }\n",
              "\n",
              "    .colab-df-convert:hover {\n",
              "      background-color: #E2EBFA;\n",
              "      box-shadow: 0px 1px 2px rgba(60, 64, 67, 0.3), 0px 1px 3px 1px rgba(60, 64, 67, 0.15);\n",
              "      fill: #174EA6;\n",
              "    }\n",
              "\n",
              "    [theme=dark] .colab-df-convert {\n",
              "      background-color: #3B4455;\n",
              "      fill: #D2E3FC;\n",
              "    }\n",
              "\n",
              "    [theme=dark] .colab-df-convert:hover {\n",
              "      background-color: #434B5C;\n",
              "      box-shadow: 0px 1px 3px 1px rgba(0, 0, 0, 0.15);\n",
              "      filter: drop-shadow(0px 1px 2px rgba(0, 0, 0, 0.3));\n",
              "      fill: #FFFFFF;\n",
              "    }\n",
              "  </style>\n",
              "\n",
              "      <script>\n",
              "        const buttonEl =\n",
              "          document.querySelector('#df-25ad87df-466d-4507-aa7e-5dd8a7001955 button.colab-df-convert');\n",
              "        buttonEl.style.display =\n",
              "          google.colab.kernel.accessAllowed ? 'block' : 'none';\n",
              "\n",
              "        async function convertToInteractive(key) {\n",
              "          const element = document.querySelector('#df-25ad87df-466d-4507-aa7e-5dd8a7001955');\n",
              "          const dataTable =\n",
              "            await google.colab.kernel.invokeFunction('convertToInteractive',\n",
              "                                                     [key], {});\n",
              "          if (!dataTable) return;\n",
              "\n",
              "          const docLinkHtml = 'Like what you see? Visit the ' +\n",
              "            '<a target=\"_blank\" href=https://colab.research.google.com/notebooks/data_table.ipynb>data table notebook</a>'\n",
              "            + ' to learn more about interactive tables.';\n",
              "          element.innerHTML = '';\n",
              "          dataTable['output_type'] = 'display_data';\n",
              "          await google.colab.output.renderOutput(dataTable, element);\n",
              "          const docLink = document.createElement('div');\n",
              "          docLink.innerHTML = docLinkHtml;\n",
              "          element.appendChild(docLink);\n",
              "        }\n",
              "      </script>\n",
              "    </div>\n",
              "  </div>\n",
              "  "
            ]
          },
          "metadata": {},
          "execution_count": 65
        }
      ]
    },
    {
      "cell_type": "markdown",
      "source": [
        "#### **Problem #1.2.7**\n",
        "\n",
        "**Independently**, explore the last row in the dataset."
      ],
      "metadata": {
        "id": "Drvifp0dVdVt"
      }
    },
    {
      "cell_type": "code",
      "source": [],
      "metadata": {
        "id": "iRgm79MOXUaK"
      },
      "execution_count": null,
      "outputs": []
    },
    {
      "cell_type": "markdown",
      "source": [
        "##### **Solution**"
      ],
      "metadata": {
        "id": "bEs82AF7XZn5"
      }
    },
    {
      "cell_type": "code",
      "source": [
        "df.iloc[4]"
      ],
      "metadata": {
        "colab": {
          "base_uri": "https://localhost:8080/"
        },
        "id": "hAtCCbV1XZ9A",
        "outputId": "9b514fcb-ee32-4547-c74f-3f8212f85405"
      },
      "execution_count": null,
      "outputs": [
        {
          "output_type": "execute_result",
          "data": {
            "text/plain": [
              "U.S. State                  Pennsylvania\n",
              "Population (in millions)            13.0\n",
              "Capitol                       Harrisburg\n",
              "GDP ($ in billions)                  726\n",
              "Name: 4, dtype: object"
            ]
          },
          "metadata": {},
          "execution_count": 67
        }
      ]
    },
    {
      "cell_type": "markdown",
      "source": [
        "### **[Challenge Question] Problem #1.2.8**\n",
        "\n",
        "**Independently**, determine the average `GDP per capita` for the states.\n",
        "\n",
        "**HINT:** Divide `GDP per capita` by `Population (in millions)`."
      ],
      "metadata": {
        "id": "zl6J9CXNVqcP"
      }
    },
    {
      "cell_type": "code",
      "source": [],
      "metadata": {
        "id": "wTU7IGcnXyPZ"
      },
      "execution_count": null,
      "outputs": []
    },
    {
      "cell_type": "markdown",
      "source": [
        "##### **Solution**"
      ],
      "metadata": {
        "id": "BwlgajUfXzsD"
      }
    },
    {
      "cell_type": "code",
      "source": [
        "# 65.06\n",
        "df['GDP per capita'] = df['GDP ($ in billions)'] / df['Population (in millions)']\n",
        "df['GDP per capita'].mean()"
      ],
      "metadata": {
        "colab": {
          "base_uri": "https://localhost:8080/"
        },
        "id": "TlsZPCIIX0K8",
        "outputId": "f201f48e-78bc-4998-8808-c87aa143b593"
      },
      "execution_count": null,
      "outputs": [
        {
          "output_type": "execute_result",
          "data": {
            "text/plain": [
              "65.06416040100251"
            ]
          },
          "metadata": {},
          "execution_count": 69
        }
      ]
    },
    {
      "cell_type": "markdown",
      "source": [
        "---\n",
        "\n",
        "<center>\n",
        "\n",
        "#### **Wait for Your Instructor to Continue**\n",
        "\n",
        "---"
      ],
      "metadata": {
        "id": "QSwN-lHWtIuw"
      }
    },
    {
      "cell_type": "markdown",
      "source": [
        "<a name=\"p2\"></a>\n",
        "\n",
        "---\n",
        "## **Part 2: Data Visualization Review**\n",
        "---\n",
        "\n",
        "**Run the cell below to load in the data**"
      ],
      "metadata": {
        "id": "XxQR7m6jcBOg"
      }
    },
    {
      "cell_type": "code",
      "source": [
        "url = \"https://docs.google.com/spreadsheets/d/e/2PACX-1vS9jPkeKJ8QUuAl-fFdg3nJPDP6vx1byvIBl4yW8UZZJ9QEscyALJp1eywKeAg7aAffwdKP63D9osF1/pub?gid=169291584&single=true&output=csv\"\n",
        "movie_df = pd.read_csv(url)\n",
        "\n",
        "movie_df.drop_duplicates(inplace=True)\n",
        "\n",
        "mean_runtime = movie_df['Runtime'].mean()\n",
        "movie_df['Runtime'] = movie_df['Runtime'].fillna(mean_runtime)\n",
        "\n",
        "movie_df = movie_df.rename(columns = {\"Runtime\": \"Runtime (min)\"})\n",
        "movie_df = movie_df.astype({\"Runtime (min)\": \"int64\"})\n",
        "\n",
        "movie_df.head()"
      ],
      "metadata": {
        "id": "3e2U3qBtVK-1"
      },
      "execution_count": null,
      "outputs": []
    },
    {
      "cell_type": "markdown",
      "source": [
        "<a name=\"p2.1\"></a>\n",
        "\n",
        "---\n",
        "### **Part 2.1: Scatter Plots**\n",
        "---"
      ],
      "metadata": {
        "id": "XI7Kwp4SMYb1"
      }
    },
    {
      "cell_type": "markdown",
      "source": [
        "#### **Problem #2.1.1**\n",
        "\n",
        "**Together**, let's create a scatterplot using `Runtime (min)` as the x-axis value and `Gross` as the y-axis value.\n",
        "\n",
        "Make sure to include a meaningful:\n",
        "* `Title`: \"Gross Money vs. Runtime:\n",
        "* `X-axis`: \"Gross (USD)\"\n",
        "* `Y-axis`: \"Runtime (min)\""
      ],
      "metadata": {
        "id": "TmujqDuMDmua"
      }
    },
    {
      "cell_type": "code",
      "source": [],
      "metadata": {
        "id": "4z1ytVFrDmub"
      },
      "execution_count": null,
      "outputs": []
    },
    {
      "cell_type": "markdown",
      "source": [
        "##### **Solution**"
      ],
      "metadata": {
        "id": "kh8jakeJDmuc"
      }
    },
    {
      "cell_type": "code",
      "source": [
        "plt.scatter(movie_df['Runtime (min)'], movie_df['Gross'])\n",
        "\n",
        "plt.title(\"Gross Money vs. Runtime\")\n",
        "plt.xlabel('Runtime (min)')\n",
        "plt.ylabel('Gross (USD)')\n",
        "\n",
        "plt.show()"
      ],
      "metadata": {
        "id": "WW3yEyKCDmuc"
      },
      "execution_count": null,
      "outputs": []
    },
    {
      "cell_type": "markdown",
      "source": [
        "---\n",
        "\n",
        "#### **Now it's your turn! Try Problem #2.1.2 on your own.**\n",
        "\n",
        "---"
      ],
      "metadata": {
        "id": "Kk166BM-MKBu"
      }
    },
    {
      "cell_type": "markdown",
      "source": [
        "#### **Problem #2.1.2**\n",
        "\n",
        "**Independently**, create a scatterplot using `Released_Year` as the x-axis value and `Runtime (min)` as the y-axis value.\n",
        "\n",
        "Make sure to include a meaningful:\n",
        "* `Title`: \"Runtime vs. Released_Year\"\n",
        "* `X-axis`: \"Year\"\n",
        "* `Y-axis`: \"Runtime (min)\""
      ],
      "metadata": {
        "id": "8kCYTBSCFaM9"
      }
    },
    {
      "cell_type": "code",
      "source": [],
      "metadata": {
        "id": "wAuYh9xqFaM-"
      },
      "execution_count": null,
      "outputs": []
    },
    {
      "cell_type": "markdown",
      "source": [
        "##### **Solution**"
      ],
      "metadata": {
        "id": "pP4tVkGaFaM-"
      }
    },
    {
      "cell_type": "code",
      "source": [
        "plt.scatter(movie_df['Released_Year'], movie_df['Runtime (min)'])\n",
        "\n",
        "plt.title(\"Gross Money vs. Runtime\")\n",
        "plt.xlabel('Year')\n",
        "plt.ylabel('Runtime (min)')\n",
        "\n",
        "plt.show()"
      ],
      "metadata": {
        "id": "xSgj0Cp9FaM-"
      },
      "execution_count": null,
      "outputs": []
    },
    {
      "cell_type": "markdown",
      "source": [
        "---\n",
        "\n",
        "<center>\n",
        "\n",
        "#### **Wait for Your Instructor to Continue**\n",
        "\n",
        "---"
      ],
      "metadata": {
        "id": "7nmfI9CkMTlu"
      }
    },
    {
      "cell_type": "markdown",
      "source": [
        "<a name=\"p2.2\"></a>\n",
        "\n",
        "---\n",
        "### **Part 2.2: Line Plots**\n",
        "---"
      ],
      "metadata": {
        "id": "zbPcGjrAMomw"
      }
    },
    {
      "cell_type": "markdown",
      "source": [
        "#### **Problem #2.2.1**\n",
        "\n",
        "**Together**, let's create a line plot using `Runtime (min)` as the x-axis value and `Gross` as the y-axis value.\n",
        "\n",
        "Make sure to include a meaningful:\n",
        "* Title, ex: `'Gross Money vs. Runtime'`.\n",
        "* X-axis label including units `'min'`.\n",
        "* Y-axis label including units `'USD'`.\n",
        "\n",
        "<br>\n",
        "\n",
        "**NOTE**: This is not going to be a particularly helpful graph (the scatter plot is a better choice), but we oftentimes will not know this ahead of time. A lot of EDA and visualizations involves trying a number of things and seeing what is useful."
      ],
      "metadata": {
        "id": "A7ZZMz9CJQKU"
      }
    },
    {
      "cell_type": "code",
      "source": [],
      "metadata": {
        "id": "V9Nwq-BhJQKU"
      },
      "execution_count": null,
      "outputs": []
    },
    {
      "cell_type": "markdown",
      "source": [
        "##### **Solution**"
      ],
      "metadata": {
        "id": "pUB5YfGMJQKV"
      }
    },
    {
      "cell_type": "code",
      "source": [
        "plt.plot(movie_df['Runtime (min)'], movie_df['Gross'])\n",
        "\n",
        "plt.title(\"Gross Money vs. Runtime\")\n",
        "plt.xlabel('Runtime (min)')\n",
        "plt.ylabel('Gross (USD)')\n",
        "\n",
        "plt.show()"
      ],
      "metadata": {
        "id": "n0f53-3yJQKV"
      },
      "execution_count": null,
      "outputs": []
    },
    {
      "cell_type": "markdown",
      "source": [
        "---\n",
        "\n",
        "#### **Now it's your turn! Try Problem #2.2.2 on your own.**\n",
        "\n",
        "---"
      ],
      "metadata": {
        "id": "v2rd1WnPNA3W"
      }
    },
    {
      "cell_type": "markdown",
      "source": [
        "#### **Problem #2.2.2**\n",
        "\n",
        "**Independently**, create a line plot using `Released_Year` as the x-axis value and `Average Gross in Year` as the y-axis value.\n",
        "\n",
        "Make sure to include a meaningful:\n",
        "* Title, ex: `'Average Gross Money vs. Released Year'`.\n",
        "* X-axis label.\n",
        "* Y-axis label including units `'USD'`."
      ],
      "metadata": {
        "id": "h9Xvd-tBJkja"
      }
    },
    {
      "cell_type": "code",
      "source": [
        "mean_gross = movie_df.groupby(# COMPLETE THIS LINE\n"
      ],
      "metadata": {
        "id": "Tugg473VJkjb"
      },
      "execution_count": null,
      "outputs": []
    },
    {
      "cell_type": "markdown",
      "source": [
        "##### **Solution**"
      ],
      "metadata": {
        "id": "BG0Vf_8aJkjb"
      }
    },
    {
      "cell_type": "code",
      "source": [
        "mean_gross = movie_df.groupby('Released_Year')['Gross'].mean()\n",
        "\n",
        "plt.plot(mean_gross.index, mean_gross)\n",
        "\n",
        "plt.title(\"Gross Money vs. Released Year\")\n",
        "plt.xlabel('Released Year')\n",
        "plt.ylabel('Gross (USD)')\n",
        "\n",
        "plt.show()"
      ],
      "metadata": {
        "id": "4uunTNSeJkjb"
      },
      "execution_count": null,
      "outputs": []
    },
    {
      "cell_type": "markdown",
      "source": [
        "---\n",
        "\n",
        "<center>\n",
        "\n",
        "#### **Wait for Your Instructor to Continue**\n",
        "\n",
        "---"
      ],
      "metadata": {
        "id": "431q3q7tNDH3"
      }
    },
    {
      "cell_type": "markdown",
      "source": [
        "<a name=\"p2.3\"></a>\n",
        "\n",
        "---\n",
        "### **Part 2.3: Bar Plots**\n",
        "---"
      ],
      "metadata": {
        "id": "q1YVzYILNZZ8"
      }
    },
    {
      "cell_type": "markdown",
      "source": [
        "#### **Problem #2.3.1**\n",
        "\n",
        "**Together**, let's create a bar plot of the number of movies released per year.\n",
        "\n",
        "Use the DataFrame provided, `movies_per_year` and make sure to include a meaningful:\n",
        "* Title.\n",
        "* X-axis label.\n",
        "* Y-axis label."
      ],
      "metadata": {
        "id": "ZBbQ_A7SHG84"
      }
    },
    {
      "cell_type": "code",
      "source": [
        "movies_per_year = movie_df['Released_Year'].value_counts()\n",
        "\n",
        "plt.bar(movies_per_year.index, # COMPLETE THIS CODE"
      ],
      "metadata": {
        "id": "1mgDNmnWHG85"
      },
      "execution_count": null,
      "outputs": []
    },
    {
      "cell_type": "markdown",
      "source": [
        "##### **Solution**"
      ],
      "metadata": {
        "id": "dmWvStJNHG85"
      }
    },
    {
      "cell_type": "code",
      "source": [
        "movies_per_year = movie_df['Released_Year'].value_counts()\n",
        "\n",
        "plt.bar(movies_per_year.index, movies_per_year)\n",
        "\n",
        "plt.title('Movies Released per Year')\n",
        "plt.xlabel('Year')\n",
        "plt.ylabel('Number of Movies')\n",
        "\n",
        "plt.show()"
      ],
      "metadata": {
        "id": "-vDPF8BEHG85"
      },
      "execution_count": null,
      "outputs": []
    },
    {
      "cell_type": "markdown",
      "source": [
        "---\n",
        "\n",
        "#### **Now it's your turn! Try Problem #2.3.2 on your own.**\n",
        "\n",
        "---"
      ],
      "metadata": {
        "id": "K0jmtGiuNRen"
      }
    },
    {
      "cell_type": "markdown",
      "source": [
        "#### **Problem #2.3.2**\n",
        "\n",
        "**Independently**, create a bar plot of the number of Dramas released per year.\n",
        "\n",
        "Use the DataFrame provided, `movies_per_year` and make sure to include a meaningful:\n",
        "* Title.\n",
        "* X-axis label.\n",
        "* Y-axis label.\n",
        "\n",
        "<br>\n",
        "\n",
        "**Hint**: Recall that you can use `.loc[CRITERIA, :]` to find all data matching given criteria and the example in Problem #6 for finding the number of movies realeased per year."
      ],
      "metadata": {
        "id": "hA9Yjy0UGHtS"
      }
    },
    {
      "cell_type": "code",
      "source": [
        "# COMPLETE THIS CODE"
      ],
      "metadata": {
        "id": "OTLvzDLNGHtT"
      },
      "execution_count": null,
      "outputs": []
    },
    {
      "cell_type": "markdown",
      "source": [
        "##### **Solution**"
      ],
      "metadata": {
        "id": "gDpMy3F0GHtT"
      }
    },
    {
      "cell_type": "code",
      "source": [
        "drama_df = movie_df.loc[movie_df[\"Genre\"] == \"Drama\", :]\n",
        "dramas_per_year = drama_df['Released_Year'].value_counts()\n",
        "\n",
        "plt.bar(dramas_per_year.index, dramas_per_year)\n",
        "\n",
        "plt.title('Dramas Released per Year')\n",
        "plt.xlabel('Year')\n",
        "plt.ylabel('Number of Dramas')\n",
        "\n",
        "plt.show()"
      ],
      "metadata": {
        "id": "GTXid5xpGHtT"
      },
      "execution_count": null,
      "outputs": []
    },
    {
      "cell_type": "markdown",
      "source": [
        "---\n",
        "\n",
        "<center>\n",
        "\n",
        "#### **Wait for Your Instructor to Continue**\n",
        "\n",
        "---"
      ],
      "metadata": {
        "id": "O8DBse4cNO55"
      }
    },
    {
      "cell_type": "markdown",
      "source": [
        "<a name=\"p3\"></a>\n",
        "\n",
        "---\n",
        "## **Part 3: [OPTIONAL] Improving Visualizations**\n",
        "---\n",
        "\n",
        "In this section, we will explore several ways to improve upon the visuals we learned to make above."
      ],
      "metadata": {
        "id": "p5_an2bSV9UK"
      }
    },
    {
      "cell_type": "markdown",
      "source": [
        "<a name=\"p3.1\"></a>\n",
        "\n",
        "---\n",
        "### **Part 3.1: Improving Scatter Plots**\n",
        "---"
      ],
      "metadata": {
        "id": "8yXy7TnmVlsM"
      }
    },
    {
      "cell_type": "markdown",
      "source": [
        "#### **Problem #3.1.1**\n",
        "\n",
        "We are given average temperature values for the months of the year for two cities: `city_A` and `city_B`.\n",
        "\n",
        "**Independently**, plot each city's average temperatures. We'll need to make two scatter plots.\n",
        "\n",
        "Make `city_A` markers blue and `city_B` markers red. Add labels and a legend.\n",
        "\n",
        "From the graph, which city is most likely located in the Northeast?"
      ],
      "metadata": {
        "id": "dUqOMFqIqMGq"
      }
    },
    {
      "cell_type": "code",
      "source": [
        "city_A_temps = [60,65,67, 70, 77, 84, 94, 101, 90, 82, 62]\n",
        "city_B_temps = [-11, 14, 25, 32, 55, 73, 87, 92, 82, 66, 53]\n",
        "months = np.arange(1,12)\n",
        "\n",
        "# COMPLETE THE REST OF THE CODE"
      ],
      "metadata": {
        "id": "ZBZcgZ2trRtM"
      },
      "execution_count": null,
      "outputs": []
    },
    {
      "cell_type": "markdown",
      "source": [
        "##### **Solution**"
      ],
      "metadata": {
        "id": "TIiI6cDBsUvx"
      }
    },
    {
      "cell_type": "code",
      "source": [
        "city_A_temps = [60,65,67, 70, 77, 84, 94, 101, 90, 82, 66]\n",
        "city_B_temps = [-6, 5, 25, 32, 55, 73, 83, 89, 72, 59, 43]\n",
        "months = np.arange(1,12)\n",
        "\n",
        "plt.scatter(months, city_A_temps, label='city_A',color='blue')\n",
        "plt.scatter(months, city_B_temps, label='city_B',color='red')\n",
        "\n",
        "plt.title('Temperatures in Different Cities')\n",
        "plt.xlabel('Month')\n",
        "plt.ylabel('Temperature')\n",
        "plt.legend()\n",
        "plt.show()"
      ],
      "metadata": {
        "id": "BsLw4wdBsXPY"
      },
      "execution_count": null,
      "outputs": []
    },
    {
      "cell_type": "markdown",
      "source": [
        "#### **Problem #3.1.2**\n",
        "\n",
        "**Independently**, adjust the plot so that `city_A` markers are black and `city_B` markers are green."
      ],
      "metadata": {
        "id": "XJTJjzIdhMuF"
      }
    },
    {
      "cell_type": "code",
      "source": [
        "city_A_temps = [60,65,67, 70, 77, 84, 94, 101, 90, 82, 62]\n",
        "city_B_temps = [-11, 14, 25, 32, 55, 73, 87, 92, 82, 66, 53]\n",
        "months = np.arange(1,12)\n",
        "\n",
        "# COMPLETE THE REST OF THE CODE"
      ],
      "metadata": {
        "id": "FGyhRMmBhMuG"
      },
      "execution_count": null,
      "outputs": []
    },
    {
      "cell_type": "markdown",
      "source": [
        "##### **Solution**"
      ],
      "metadata": {
        "id": "xdptkNZ1hMuG"
      }
    },
    {
      "cell_type": "code",
      "source": [
        "city_A_temps = [60,65,67, 70, 77, 84, 94, 101, 90, 82, 66]\n",
        "city_B_temps = [-6, 5, 25, 32, 55, 73, 83, 89, 72, 59, 43]\n",
        "months = np.arange(1,12)\n",
        "\n",
        "plt.scatter(months, city_A_temps, label='city_A',color='black')\n",
        "plt.scatter(months, city_B_temps, label='city_B',color='green')\n",
        "\n",
        "plt.title('Temperatures in Different Cities')\n",
        "plt.xlabel('Month')\n",
        "plt.ylabel('Temperature')\n",
        "plt.legend()\n",
        "\n",
        "plt.show()"
      ],
      "metadata": {
        "id": "mfKm4_vfhMuH"
      },
      "execution_count": null,
      "outputs": []
    },
    {
      "cell_type": "markdown",
      "source": [
        "---\n",
        "\n",
        "<center>\n",
        "\n",
        "#### **Wait for Your Instructor to Continue**\n",
        "\n",
        "---"
      ],
      "metadata": {
        "id": "fAA0_KPutL1u"
      }
    },
    {
      "cell_type": "markdown",
      "source": [
        "<a name=\"p3.2\"></a>\n",
        "\n",
        "---\n",
        "### **Part 3.2: Improving Line Plots**\n",
        "---"
      ],
      "metadata": {
        "id": "ekZX9XHgvpBh"
      }
    },
    {
      "cell_type": "markdown",
      "source": [
        "#### **Problem #3.2.1**\n",
        "\n",
        "**Independently**, create a line plot with the following features:\n",
        "\n",
        "\n",
        "* A dashed line\n",
        "* A grid\n",
        "\n",
        "\n"
      ],
      "metadata": {
        "id": "tCDKL5LXIDtm"
      }
    },
    {
      "cell_type": "code",
      "source": [
        "Year = [1920,1930,1940,1950,1960,1970,1980,1990,2000,2010]\n",
        "Unemployment_Rate = [9.8,12,8,7.2,6.9,7,6.5,6.2,5.5,6.3]\n",
        "\n",
        "# COMPLETE THE REST OF THE CODE"
      ],
      "metadata": {
        "id": "u04mZF2WYrb1"
      },
      "execution_count": null,
      "outputs": []
    },
    {
      "cell_type": "markdown",
      "source": [
        "#####**Solution**"
      ],
      "metadata": {
        "id": "hiT9yN3nYr3b"
      }
    },
    {
      "cell_type": "code",
      "source": [
        "Year = [1920,1930,1940,1950,1960,1970,1980,1990,2000,2010]\n",
        "Unemployment_Rate = [9.8,12,8,7.2,6.9,7,6.5,6.2,5.5,6.3]\n",
        "\n",
        "plt.plot(Year, Unemployment_Rate, label = \"Unemp. Rate\", ls = \"--\")\n",
        "plt.xlabel(\"Year\")\n",
        "plt.ylabel(\"Unemployment Rate\")\n",
        "plt.title(\"Unemployment rate over the years\")\n",
        "plt.grid()\n",
        "plt.show()"
      ],
      "metadata": {
        "id": "nmDA39JKYwFz",
        "colab": {
          "base_uri": "https://localhost:8080/",
          "height": 472
        },
        "outputId": "1cd2fb49-56a8-49e3-c8b9-2f2e51c724a4"
      },
      "execution_count": null,
      "outputs": [
        {
          "output_type": "display_data",
          "data": {
            "text/plain": [
              "<Figure size 640x480 with 1 Axes>"
            ],
            "image/png": "[encoded data removed]"
          },
          "metadata": {}
        }
      ]
    },
    {
      "cell_type": "markdown",
      "source": [
        "#### **Problem #3.2.2**\n",
        "\n",
        "**Independently**, using the following data, create a line plot. In addition:\n",
        "* Make that line dashed and dotted with `\"-.\"`\n",
        "* Add a grid to the background"
      ],
      "metadata": {
        "id": "Jf5F6kZOZFoI"
      }
    },
    {
      "cell_type": "code",
      "source": [
        "# x axis values\n",
        "x = [1,2,3]\n",
        "# corresponding y axis values\n",
        "y = [2,4,1]\n",
        "\n",
        "# COMPLETE THE REST OF THE CODE"
      ],
      "metadata": {
        "id": "jWVJ7xzZZfk1"
      },
      "execution_count": null,
      "outputs": []
    },
    {
      "cell_type": "markdown",
      "source": [
        "#####**Solution**"
      ],
      "metadata": {
        "id": "_orzK4o6ZfuM"
      }
    },
    {
      "cell_type": "code",
      "source": [
        "# x axis values\n",
        "x = [1,2,3]\n",
        "# corresponding y axis values\n",
        "y = [2,4,1]\n",
        "\n",
        "# plotting the points\n",
        "plt.plot(x, y, ls = '-.')\n",
        "# add a grid\n",
        "plt.grid()\n",
        "\n",
        "# naming the x axis\n",
        "plt.xlabel('x - axis')\n",
        "# naming the y axis\n",
        "plt.ylabel('y - axis')\n",
        "\n",
        "# giving a title to my graph\n",
        "plt.title('Cool line plot')\n",
        "\n",
        "# function to show the plot\n",
        "plt.show()"
      ],
      "metadata": {
        "id": "TDVHmQmlZh3_"
      },
      "execution_count": null,
      "outputs": []
    },
    {
      "cell_type": "markdown",
      "source": [
        "---\n",
        "\n",
        "<center>\n",
        "\n",
        "#### **Wait for Your Instructor to Continue**\n",
        "\n",
        "---"
      ],
      "metadata": {
        "id": "eQPilPXst0CC"
      }
    },
    {
      "cell_type": "markdown",
      "source": [
        "<a name=\"p3.3\"></a>\n",
        "\n",
        "---\n",
        "### **Part 3.3: Improving Bar Plots**\n",
        "---"
      ],
      "metadata": {
        "id": "n0zfv749v-qj"
      }
    },
    {
      "cell_type": "markdown",
      "source": [
        "#### **Problem #3.3.1**\n",
        "\n",
        "**Independently**, make a bar plot with each bar as a different color."
      ],
      "metadata": {
        "id": "MsZMPksXamGz"
      }
    },
    {
      "cell_type": "code",
      "source": [
        "langs = ['English', 'French', 'Spanish', 'Chinese', 'Arabic']\n",
        "students = [23,17,35,29,12]\n",
        "\n",
        "# COMPLETE THE REST OF THE CODE"
      ],
      "metadata": {
        "id": "tun4npXIUqH9"
      },
      "execution_count": null,
      "outputs": []
    },
    {
      "cell_type": "markdown",
      "source": [
        "##### **Solution**"
      ],
      "metadata": {
        "id": "rytnFzJXUqky"
      }
    },
    {
      "cell_type": "code",
      "source": [
        "langs = ['English', 'French', 'Spanish', 'Chinese', 'Arabic']\n",
        "students = [23,17,35,29,12]\n",
        "plt.bar(langs,students, color=[\"red\", \"orange\", \"blue\", \"purple\", \"black\"], width = .8)\n",
        "plt.xlabel(\"Language\")\n",
        "plt.ylabel(\"Number of Students\")\n",
        "plt.show()"
      ],
      "metadata": {
        "id": "EmKrpoIBamf0"
      },
      "execution_count": null,
      "outputs": []
    },
    {
      "cell_type": "markdown",
      "source": [
        "#### **Problem #3.3.2**\n",
        "\n",
        "**Independently**, use the following data to create a simple bar plot. Make all of the bars blue except bar `E`; make bar `E` red."
      ],
      "metadata": {
        "id": "UBfUrUZBa0jQ"
      }
    },
    {
      "cell_type": "code",
      "source": [
        "height = [3, 12, 5, 18, 45]       # y\n",
        "bars = ['A', 'B', 'C', 'D', 'E']  # x\n",
        "\n",
        "# COMPLETE THE REST OF THE CODE"
      ],
      "metadata": {
        "id": "0WAX4X4wbGnS"
      },
      "execution_count": null,
      "outputs": []
    },
    {
      "cell_type": "markdown",
      "source": [
        "#####**Solution**"
      ],
      "metadata": {
        "id": "oLNMFKJybGw6"
      }
    },
    {
      "cell_type": "code",
      "source": [
        "height = [3, 12, 5, 18, 45]\n",
        "bars = ['A', 'B', 'C', 'D', 'E']\n",
        "\n",
        "# Create bars\n",
        "plt.bar(bars, height, color = [\"blue\", \"blue\", \"blue\", \"blue\", \"red\"])\n",
        "\n",
        "# Show graphic\n",
        "plt.show()"
      ],
      "metadata": {
        "id": "4TOocQLDbJuN"
      },
      "execution_count": null,
      "outputs": []
    },
    {
      "cell_type": "markdown",
      "source": [
        "---\n",
        "\n",
        "<center>\n",
        "\n",
        "#### **Wait for Your Instructor to Continue**\n",
        "\n",
        "---"
      ],
      "metadata": {
        "id": "H2YkMkpwuogS"
      }
    },
    {
      "cell_type": "markdown",
      "source": [
        "<a name=\"p3.4\"></a>\n",
        "\n",
        "---\n",
        "### **Part 3.4: Enhancing Plot Aesthetics**\n",
        "---"
      ],
      "metadata": {
        "id": "XgDJRJ2zuwQa"
      }
    },
    {
      "cell_type": "markdown",
      "source": [
        "#### **Run the cell below to import the data for the following problems.**\n",
        "\n",
        "This dataset contains information on U.S. agricultural exports in 2011."
      ],
      "metadata": {
        "id": "v52xBX4hPYcF"
      }
    },
    {
      "cell_type": "code",
      "source": [
        "url = 'https://raw.githubusercontent.com/plotly/datasets/master/2011_us_ag_exports.csv'\n",
        "export_df = pd.read_csv(url)\n",
        "export_df.head()"
      ],
      "metadata": {
        "id": "7ltA47zfPiTN"
      },
      "execution_count": null,
      "outputs": []
    },
    {
      "cell_type": "markdown",
      "source": [
        "#### **Problem #3.4.1**\n",
        "\n",
        "**Together**, let's compare beef export of different states using a bar plot. Adjust the size of the plot so that the graph and its labels are legible.\n",
        "\n",
        "\n",
        "\n",
        "**NOTE**: To use a DataFrame for a graph, here is the syntax:\n",
        "```\n",
        "plt.bar(DF_NAME['x_variable'],export_df['y_variable'])\n",
        "```"
      ],
      "metadata": {
        "id": "nN0tkLl8PoT4"
      }
    },
    {
      "cell_type": "code",
      "source": [],
      "metadata": {
        "id": "0JArGmUYP2jQ"
      },
      "execution_count": null,
      "outputs": []
    },
    {
      "cell_type": "markdown",
      "source": [
        "##### **Solution**"
      ],
      "metadata": {
        "id": "ao1fgH8SP1A0"
      }
    },
    {
      "cell_type": "code",
      "source": [
        "plt.figure(figsize=(15,5))\n",
        "plt.bar(export_df['code'], export_df['beef'])\n",
        "plt.xlabel(\"States\")\n",
        "plt.ylabel(\"Beef export\")\n",
        "plt.show()"
      ],
      "metadata": {
        "id": "4T_YFt7WP1tn"
      },
      "execution_count": null,
      "outputs": []
    },
    {
      "cell_type": "markdown",
      "source": [
        "---\n",
        "\n",
        "#### **Now it's your turn! Try Problem #3.4.2 on your own.**\n",
        "\n",
        "---"
      ],
      "metadata": {
        "id": "muZVIuDQvHkB"
      }
    },
    {
      "cell_type": "markdown",
      "source": [
        "#### **Problem #3.4.2**\n",
        "\n",
        "**Independently**, compare the export of corn from different states using a bar plot. Make sure you adjust the size of the plot."
      ],
      "metadata": {
        "id": "_TtWLwGvQS7U"
      }
    },
    {
      "cell_type": "code",
      "source": [],
      "metadata": {
        "id": "aRIt-71SQTvy"
      },
      "execution_count": null,
      "outputs": []
    },
    {
      "cell_type": "markdown",
      "source": [
        "##### **Solution**"
      ],
      "metadata": {
        "id": "sAUpg9RiQLUw"
      }
    },
    {
      "cell_type": "code",
      "source": [
        "#corn export\n",
        "plt.figure(figsize=(15,5))\n",
        "plt.bar(export_df['code'],export_df['corn'])\n",
        "plt.xlabel(\"States\")\n",
        "plt.ylabel(\"corn export\")\n",
        "plt.show()"
      ],
      "metadata": {
        "id": "oEERQHoeQLuQ"
      },
      "execution_count": null,
      "outputs": []
    },
    {
      "cell_type": "markdown",
      "source": [
        "---\n",
        "\n",
        "<center>\n",
        "\n",
        "#### **Wait for Your Instructor to Continue**\n",
        "\n",
        "---"
      ],
      "metadata": {
        "id": "x0uDq88CvDoX"
      }
    },
    {
      "cell_type": "markdown",
      "source": [
        "<a name=\"p4\"></a>\n",
        "\n",
        "---\n",
        "## **[ADDITIONAL PRACTICE] Part 4: Improving Visualizations**\n",
        "---"
      ],
      "metadata": {
        "id": "NDtjzSxflNul"
      }
    },
    {
      "cell_type": "markdown",
      "source": [
        "#### **Problem #4.1**\n",
        "\n",
        "Using the following data, create a line plot.\n",
        "\n",
        "**Hint:** Your graph should have three distinct lines corresponding to `y1`, `y2`, and `y3`.\n",
        "\n",
        "In addition:\n",
        "* Make sure each line is a different color\n",
        "* Make `y1` a dashed line\n",
        "* Add a grid to the background and make the background color black\n",
        "* Add a legend"
      ],
      "metadata": {
        "id": "N2s15JrL54G8"
      }
    },
    {
      "cell_type": "code",
      "source": [
        "# x axis values\n",
        "x = [1,2,3,4,5]\n",
        "# corresponding y axis values\n",
        "y1 = [2,4,6,8,10] # y = 2x\n",
        "y2 = [0.5,1,1.5,2,2.5] # y = 0.5x\n",
        "y3 = [1,4,9,16,25] # y = x^2\n",
        "\n",
        "# COMPLETE THE REST OF THE CODE"
      ],
      "metadata": {
        "id": "n_wxFXOn54HF"
      },
      "execution_count": null,
      "outputs": []
    },
    {
      "cell_type": "markdown",
      "source": [
        "##### **Solution**"
      ],
      "metadata": {
        "id": "ty6Z-gaU54HG"
      }
    },
    {
      "cell_type": "code",
      "source": [
        "# x axis values\n",
        "x = [1,2,3,4,5]\n",
        "# corresponding y axis values\n",
        "y1 = [2,4,6,8,10] # y = 2x\n",
        "y2 = [0.5,1,1.5,2,2.5] # y = 0.5x\n",
        "y3 = [1,4,9,16,25] # y = x^2\n",
        "\n",
        "# plotting the points\n",
        "plt.figure(facecolor = 'grey')\n",
        "plt.bar(x, y1, label = \"y = 2x\")\n",
        "plt.bar(x, y2, label = \"y = 0.5x\")\n",
        "plt.bar(x, y3, label = \"y = x^2\")\n",
        "plt.xlabel('x', color = 'white')\n",
        "plt.ylabel('y', color = 'white')\n",
        "\n",
        "# add a grid\n",
        "plt.grid()\n",
        "\n",
        "# background color\n",
        "\n",
        "#add legend\n",
        "plt.legend()\n",
        "\n",
        "# function to show the plot\n",
        "plt.show()"
      ],
      "metadata": {
        "id": "GfVhVVa754HG",
        "colab": {
          "base_uri": "https://localhost:8080/",
          "height": 449
        },
        "outputId": "017dae23-1c31-43f5-a5b7-67ce9d6db6e3"
      },
      "execution_count": null,
      "outputs": [
        {
          "output_type": "display_data",
          "data": {
            "text/plain": [
              "<Figure size 640x480 with 1 Axes>"
            ],
            "image/png": "[encoded data removed]"
          },
          "metadata": {}
        }
      ]
    },
    {
      "cell_type": "markdown",
      "source": [
        "#### **Problem #4.2**\n",
        "\n",
        "Using the following data, create a scatter plot. In addition:\n",
        "* Make the data points green\n",
        "* Change the transparency to 0.6\n",
        "* Make the x-label `Temperature (Fahrenheit)` and in the font `fantasy`\n",
        "* Make the y-label `Number of People` and in the font `fantasy`\n",
        "* Make the title `Number of People at the Beach` and in the font `fantasy`"
      ],
      "metadata": {
        "id": "1zi19lH88t_L"
      }
    },
    {
      "cell_type": "code",
      "source": [
        "# x axis values\n",
        "x = [87, 94, 98, 102, 96, 90, 92, 93, 85, 82, 96, 80, 90, 91]\n",
        "# corresponding y axis values\n",
        "y = [204, 375, 522, 731, 439, 302, 317, 346, 268, 197, 649, 158, 327, 353]\n",
        "\n",
        "# COMPLETE THE REST OF THE CODE"
      ],
      "metadata": {
        "id": "HzKR7meU8t_W"
      },
      "execution_count": null,
      "outputs": []
    },
    {
      "cell_type": "markdown",
      "source": [
        "##### **Solution**"
      ],
      "metadata": {
        "id": "dH-PGrA08t_W"
      }
    },
    {
      "cell_type": "code",
      "source": [
        "# x axis values\n",
        "x = [87, 94, 98, 102, 96, 90, 92, 93, 85, 82, 96, 80, 90, 91]\n",
        "# corresponding y axis values\n",
        "y = [204, 375, 522, 731, 439, 302, 317, 346, 268, 197, 649, 158, 327, 353]\n",
        "\n",
        "# plotting the points\n",
        "plt.scatter(x, y, color=\"green\", alpha=0.6)\n",
        "\n",
        "# add labels and title\n",
        "plt.xlabel('Temperature (Fahrenheit)', family=\"fantasy\")\n",
        "plt.ylabel('Number of People', family=\"fantasy\")\n",
        "plt.title(\"Number of People at the Beach\", family=\"fantasy\")\n",
        "\n",
        "# function to show the plot\n",
        "plt.show()"
      ],
      "metadata": {
        "colab": {
          "base_uri": "https://localhost:8080/",
          "height": 466
        },
        "outputId": "baf03234-aec8-431e-d25d-9b191728e229",
        "id": "bxri54a-8t_W"
      },
      "execution_count": null,
      "outputs": [
        {
          "output_type": "display_data",
          "data": {
            "text/plain": [
              "<Figure size 640x480 with 1 Axes>"
            ],
            "image/png": "[encoded data removed]"
          },
          "metadata": {}
        }
      ]
    },
    {
      "cell_type": "markdown",
      "source": [
        "#### **Problem #4.3**\n",
        "\n",
        "Using the following data, create a bar plot. In addition:\n",
        "* Make each bar's color the same as the color name\n",
        "* Make the x-label `Favorite Color` and with a font size of 12\n",
        "* Make the y-label `Number of People` and with a font size of 12\n",
        "* Make the title `Number of People vs Favorite Color` and with a font size of 20\n",
        "* Make the bar width 0.6"
      ],
      "metadata": {
        "id": "y-ILZBA-8ukB"
      }
    },
    {
      "cell_type": "code",
      "source": [
        "# x axis values\n",
        "x = [1,2,3,4,5]\n",
        "# corresponding y axis values\n",
        "y1 = [2,4,6,8,10]\n",
        "y2 = [0.5,1,1.5,2,2.5]\n",
        "y3 = [1,4,9,16,25]\n",
        "\n",
        "# COMPLETE THE REST OF THE CODE"
      ],
      "metadata": {
        "id": "C-PM-Uc18ukC"
      },
      "execution_count": null,
      "outputs": []
    },
    {
      "cell_type": "markdown",
      "source": [
        "#####**Solution**"
      ],
      "metadata": {
        "id": "HCq373OY8ukC"
      }
    },
    {
      "cell_type": "code",
      "source": [
        "# x axis values\n",
        "x = [\"red\", \"orange\", \"yellow\", \"green\", \"blue\", \"purple\"]\n",
        "# corresponding y axis values\n",
        "y = [27, 13, 6, 31, 52, 25]\n",
        "\n",
        "# plotting the points\n",
        "plt.bar(x, y, width=0.6, color = [\"red\", \"orange\", \"yellow\", \"green\", \"blue\", \"purple\"])\n",
        "\n",
        "# add labels and title\n",
        "plt.xlabel('Favorite Color', fontsize = 12)\n",
        "plt.ylabel('Number of People', fontsize = 12)\n",
        "plt.title(\"Number of People vs Favorite Color\", fontsize = 20)\n",
        "\n",
        "# function to show the plot\n",
        "plt.show()"
      ],
      "metadata": {
        "colab": {
          "base_uri": "https://localhost:8080/",
          "height": 484
        },
        "outputId": "7a973e5c-723c-4be1-e2fa-694a0d5a61e6",
        "id": "21DJHL0-8ukD"
      },
      "execution_count": null,
      "outputs": [
        {
          "output_type": "display_data",
          "data": {
            "text/plain": [
              "<Figure size 640x480 with 1 Axes>"
            ],
            "image/png": "[encoded data removed]"
          },
          "metadata": {}
        }
      ]
    },
    {
      "cell_type": "markdown",
      "source": [
        "#### **Problem #4.4**\n",
        "\n",
        "Using the following data, create a line plot. In addition:\n",
        "* Make line y1 brown and dashed, and make line y2 pink\n",
        "* Add a grid to the background\n",
        "* Add a legend\n",
        "* Make the title `X vs Y` in font `monospace` and in size 18\n"
      ],
      "metadata": {
        "id": "CArAIjgv8vLv"
      }
    },
    {
      "cell_type": "code",
      "source": [
        "# x axis values\n",
        "x = [1,2,3,4,5,6,7]\n",
        "# corresponding y axis values\n",
        "y1 = [9, 4, 6, 8, 22, 17, 13]\n",
        "y2 = [3, 5, 8, 12, 17, 23, 30]\n",
        "\n",
        "# COMPLETE THE REST OF THE CODE"
      ],
      "metadata": {
        "id": "FwFLRWyN8vLw"
      },
      "execution_count": null,
      "outputs": []
    },
    {
      "cell_type": "markdown",
      "source": [
        "#####**Solution**"
      ],
      "metadata": {
        "id": "Vh6L8Sql8vLx"
      }
    },
    {
      "cell_type": "code",
      "source": [
        "# x axis values\n",
        "x = [1,2,3,4,5,6,7]\n",
        "# corresponding y axis values\n",
        "y1 = [9, 4, 6, 8, 22, 17, 13]\n",
        "y2 = [3, 5, 8, 12, 17, 23, 30]\n",
        "\n",
        "# plotting the points\n",
        "plt.plot(x, y1, label = \"y1\", ls = \"--\", color = \"brown\")\n",
        "plt.plot(x, y2, label = \"y2\", color = \"pink\")\n",
        "\n",
        "# add a title\n",
        "plt.title(\"X vs Y\", family = \"monospace\", fontsize = 18)\n",
        "\n",
        "# add a grid\n",
        "plt.grid()\n",
        "\n",
        "#add legend\n",
        "plt.legend()\n",
        "\n",
        "# function to show the plot\n",
        "plt.show()"
      ],
      "metadata": {
        "id": "FvqPMGpS8vLx"
      },
      "execution_count": null,
      "outputs": []
    },
    {
      "cell_type": "markdown",
      "source": [
        "#### **Problem #4.5**\n",
        "\n",
        "Create a bar plot for the following data with the following:\n",
        "* One bar showing the number of females in the dataset and another bar showing the number of males in the dataset.\n",
        "* Bars labeled 'Female' and 'Male'.\n",
        "* The y-axis labeled 'Number in Dataset' with extra large font.\n",
        "* A title called \"Number of Males and Females in the Dataset\" with extra large font.\n",
        "\n",
        "<br>\n",
        "\n",
        "**Hint**: You will need to use pandas functions to get the count of males and females in the data frame."
      ],
      "metadata": {
        "id": "wtniW7m3xIw8"
      }
    },
    {
      "cell_type": "code",
      "source": [
        "url = 'https://docs.google.com/spreadsheets/d/e/2PACX-1vSa0metcKBFqn-MHLn05vVGWONMlzljcWa-xIM1wJPXIa5kbrmIzGqmWcMh8eKG_ntByF9qqn6Mx3MT/pub?gid=1052859518&single=true&output=csv'\n",
        "df = pd.read_csv(url)\n",
        "df.head()\n",
        "\n",
        "# COMPLETE THE REST OF THE CODE"
      ],
      "metadata": {
        "id": "sIlQ3hR5yXJE",
        "colab": {
          "base_uri": "https://localhost:8080/",
          "height": 206
        },
        "outputId": "aac53548-10ea-4f2a-da14-0d9977262e6b"
      },
      "execution_count": null,
      "outputs": [
        {
          "output_type": "execute_result",
          "data": {
            "text/plain": [
              "   age  sex  cp  trestbps  chol  fbs  restecg  thalach  exang  oldpeak  \\\n",
              "0   28    1   2       130   132    0        2      185      0      0.0   \n",
              "1   29    1   2       120   243    0        0      160      0      0.0   \n",
              "2   30    0   1       170   237    0        1      170      0      0.0   \n",
              "3   31    0   2       100   219    0        1      150      0      0.0   \n",
              "4   32    0   2       105   198    0        0      165      0      0.0   \n",
              "\n",
              "   heart attack  \n",
              "0             0  \n",
              "1             0  \n",
              "2             0  \n",
              "3             0  \n",
              "4             0  "
            ],
            "text/html": [
              "\n",
              "  <div id=\"df-623fac5e-d370-4f1c-ade7-a73cac42de2b\">\n",
              "    <div class=\"colab-df-container\">\n",
              "      <div>\n",
              "<style scoped>\n",
              "    .dataframe tbody tr th:only-of-type {\n",
              "        vertical-align: middle;\n",
              "    }\n",
              "\n",
              "    .dataframe tbody tr th {\n",
              "        vertical-align: top;\n",
              "    }\n",
              "\n",
              "    .dataframe thead th {\n",
              "        text-align: right;\n",
              "    }\n",
              "</style>\n",
              "<table border=\"1\" class=\"dataframe\">\n",
              "  <thead>\n",
              "    <tr style=\"text-align: right;\">\n",
              "      <th></th>\n",
              "      <th>age</th>\n",
              "      <th>sex</th>\n",
              "      <th>cp</th>\n",
              "      <th>trestbps</th>\n",
              "      <th>chol</th>\n",
              "      <th>fbs</th>\n",
              "      <th>restecg</th>\n",
              "      <th>thalach</th>\n",
              "      <th>exang</th>\n",
              "      <th>oldpeak</th>\n",
              "      <th>heart attack</th>\n",
              "    </tr>\n",
              "  </thead>\n",
              "  <tbody>\n",
              "    <tr>\n",
              "      <th>0</th>\n",
              "      <td>28</td>\n",
              "      <td>1</td>\n",
              "      <td>2</td>\n",
              "      <td>130</td>\n",
              "      <td>132</td>\n",
              "      <td>0</td>\n",
              "      <td>2</td>\n",
              "      <td>185</td>\n",
              "      <td>0</td>\n",
              "      <td>0.0</td>\n",
              "      <td>0</td>\n",
              "    </tr>\n",
              "    <tr>\n",
              "      <th>1</th>\n",
              "      <td>29</td>\n",
              "      <td>1</td>\n",
              "      <td>2</td>\n",
              "      <td>120</td>\n",
              "      <td>243</td>\n",
              "      <td>0</td>\n",
              "      <td>0</td>\n",
              "      <td>160</td>\n",
              "      <td>0</td>\n",
              "      <td>0.0</td>\n",
              "      <td>0</td>\n",
              "    </tr>\n",
              "    <tr>\n",
              "      <th>2</th>\n",
              "      <td>30</td>\n",
              "      <td>0</td>\n",
              "      <td>1</td>\n",
              "      <td>170</td>\n",
              "      <td>237</td>\n",
              "      <td>0</td>\n",
              "      <td>1</td>\n",
              "      <td>170</td>\n",
              "      <td>0</td>\n",
              "      <td>0.0</td>\n",
              "      <td>0</td>\n",
              "    </tr>\n",
              "    <tr>\n",
              "      <th>3</th>\n",
              "      <td>31</td>\n",
              "      <td>0</td>\n",
              "      <td>2</td>\n",
              "      <td>100</td>\n",
              "      <td>219</td>\n",
              "      <td>0</td>\n",
              "      <td>1</td>\n",
              "      <td>150</td>\n",
              "      <td>0</td>\n",
              "      <td>0.0</td>\n",
              "      <td>0</td>\n",
              "    </tr>\n",
              "    <tr>\n",
              "      <th>4</th>\n",
              "      <td>32</td>\n",
              "      <td>0</td>\n",
              "      <td>2</td>\n",
              "      <td>105</td>\n",
              "      <td>198</td>\n",
              "      <td>0</td>\n",
              "      <td>0</td>\n",
              "      <td>165</td>\n",
              "      <td>0</td>\n",
              "      <td>0.0</td>\n",
              "      <td>0</td>\n",
              "    </tr>\n",
              "  </tbody>\n",
              "</table>\n",
              "</div>\n",
              "      <button class=\"colab-df-convert\" onclick=\"convertToInteractive('df-623fac5e-d370-4f1c-ade7-a73cac42de2b')\"\n",
              "              title=\"Convert this dataframe to an interactive table.\"\n",
              "              style=\"display:none;\">\n",
              "        \n",
              "  <svg xmlns=\"http://www.w3.org/2000/svg\" height=\"24px\"viewBox=\"0 0 24 24\"\n",
              "       width=\"24px\">\n",
              "    <path d=\"M0 0h24v24H0V0z\" fill=\"none\"/>\n",
              "    <path d=\"M18.56 5.44l.94 2.06.94-2.06 2.06-.94-2.06-.94-.94-2.06-.94 2.06-2.06.94zm-11 1L8.5 8.5l.94-2.06 2.06-.94-2.06-.94L8.5 2.5l-.94 2.06-2.06.94zm10 10l.94 2.06.94-2.06 2.06-.94-2.06-.94-.94-2.06-.94 2.06-2.06.94z\"/><path d=\"M17.41 7.96l-1.37-1.37c-.4-.4-.92-.59-1.43-.59-.52 0-1.04.2-1.43.59L10.3 9.45l-7.72 7.72c-.78.78-.78 2.05 0 2.83L4 21.41c.39.39.9.59 1.41.59.51 0 1.02-.2 1.41-.59l7.78-7.78 2.81-2.81c.8-.78.8-2.07 0-2.86zM5.41 20L4 18.59l7.72-7.72 1.47 1.35L5.41 20z\"/>\n",
              "  </svg>\n",
              "      </button>\n",
              "      \n",
              "  <style>\n",
              "    .colab-df-container {\n",
              "      display:flex;\n",
              "      flex-wrap:wrap;\n",
              "      gap: 12px;\n",
              "    }\n",
              "\n",
              "    .colab-df-convert {\n",
              "      background-color: #E8F0FE;\n",
              "      border: none;\n",
              "      border-radius: 50%;\n",
              "      cursor: pointer;\n",
              "      display: none;\n",
              "      fill: #1967D2;\n",
              "      height: 32px;\n",
              "      padding: 0 0 0 0;\n",
              "      width: 32px;\n",
              "    }\n",
              "\n",
              "    .colab-df-convert:hover {\n",
              "      background-color: #E2EBFA;\n",
              "      box-shadow: 0px 1px 2px rgba(60, 64, 67, 0.3), 0px 1px 3px 1px rgba(60, 64, 67, 0.15);\n",
              "      fill: #174EA6;\n",
              "    }\n",
              "\n",
              "    [theme=dark] .colab-df-convert {\n",
              "      background-color: #3B4455;\n",
              "      fill: #D2E3FC;\n",
              "    }\n",
              "\n",
              "    [theme=dark] .colab-df-convert:hover {\n",
              "      background-color: #434B5C;\n",
              "      box-shadow: 0px 1px 3px 1px rgba(0, 0, 0, 0.15);\n",
              "      filter: drop-shadow(0px 1px 2px rgba(0, 0, 0, 0.3));\n",
              "      fill: #FFFFFF;\n",
              "    }\n",
              "  </style>\n",
              "\n",
              "      <script>\n",
              "        const buttonEl =\n",
              "          document.querySelector('#df-623fac5e-d370-4f1c-ade7-a73cac42de2b button.colab-df-convert');\n",
              "        buttonEl.style.display =\n",
              "          google.colab.kernel.accessAllowed ? 'block' : 'none';\n",
              "\n",
              "        async function convertToInteractive(key) {\n",
              "          const element = document.querySelector('#df-623fac5e-d370-4f1c-ade7-a73cac42de2b');\n",
              "          const dataTable =\n",
              "            await google.colab.kernel.invokeFunction('convertToInteractive',\n",
              "                                                     [key], {});\n",
              "          if (!dataTable) return;\n",
              "\n",
              "          const docLinkHtml = 'Like what you see? Visit the ' +\n",
              "            '<a target=\"_blank\" href=https://colab.research.google.com/notebooks/data_table.ipynb>data table notebook</a>'\n",
              "            + ' to learn more about interactive tables.';\n",
              "          element.innerHTML = '';\n",
              "          dataTable['output_type'] = 'display_data';\n",
              "          await google.colab.output.renderOutput(dataTable, element);\n",
              "          const docLink = document.createElement('div');\n",
              "          docLink.innerHTML = docLinkHtml;\n",
              "          element.appendChild(docLink);\n",
              "        }\n",
              "      </script>\n",
              "    </div>\n",
              "  </div>\n",
              "  "
            ]
          },
          "metadata": {},
          "execution_count": 29
        }
      ]
    },
    {
      "cell_type": "markdown",
      "source": [
        "##### **Solution**"
      ],
      "metadata": {
        "id": "C-TOPVtwyXkb"
      }
    },
    {
      "cell_type": "code",
      "source": [
        "url = 'https://docs.google.com/spreadsheets/d/e/2PACX-1vSa0metcKBFqn-MHLn05vVGWONMlzljcWa-xIM1wJPXIa5kbrmIzGqmWcMh8eKG_ntByF9qqn6Mx3MT/pub?gid=1052859518&single=true&output=csv'\n",
        "df = pd.read_csv(url)\n",
        "\n",
        "plt.bar(['Male', 'Female'], df['sex'].value_counts())\n",
        "\n",
        "plt.ylabel('Number in Dataset', fontsize = 'x-large')\n",
        "plt.title('Number of Males and Females in the Dataset', fontsize = 'x-large')\n",
        "plt.show()"
      ],
      "metadata": {
        "colab": {
          "base_uri": "https://localhost:8080/",
          "height": 453
        },
        "id": "_xpc6Ny8wVKg",
        "outputId": "d0d10495-da2b-43ce-c878-86fa09027639"
      },
      "execution_count": null,
      "outputs": [
        {
          "output_type": "display_data",
          "data": {
            "text/plain": [
              "<Figure size 640x480 with 1 Axes>"
            ],
            "image/png": "[encoded data removed]"
          },
          "metadata": {}
        }
      ]
    },
    {
      "cell_type": "markdown",
      "source": [
        "#### **Problem #4.6**\n",
        "\n",
        "Create a *grouped* bar plot for the following data with the following:\n",
        "* One bar graph showing the number of females with heart attacks and without in the dataset.\n",
        "* This bar graph should be labeled 'Female' for the legend.\n",
        "* Another bar graph showing the number of males with heart attacks and without in the dataset.\n",
        "* This bar graph should be labeled 'Male' for the legend.\n",
        "* Both bar graphs should be located on the x-axis and given a width to make the graph readable.\n",
        "* The y-axis labeled 'Number in Dataset' with extra large font.\n",
        "* A title called \"Breakdown of Heart Attacks by Sex\" with extra large font.\n",
        "\n",
        "<br>\n",
        "\n",
        "**Hint**: You will need to use pandas functions and comparisons to get the count of males and females with and without heart attacks in the data frame."
      ],
      "metadata": {
        "id": "dWREWbsVykUC"
      }
    },
    {
      "cell_type": "code",
      "source": [
        "df_female = df[# COMPLETE THIS LINE\n",
        "df_male = df[# COMPLETE THIS LINE\n",
        "\n",
        "# COMPLETE THE REST OF THIS CODE\n",
        "\n",
        "plt.xticks(ticks = [0, 1], labels = ['No Heart Attack', 'Heart Attack'], fontsize = 'x-large')\n",
        "\n",
        "plt.# COMPLETE THIS LINE"
      ],
      "metadata": {
        "id": "FIMkkvVizT58"
      },
      "execution_count": null,
      "outputs": []
    },
    {
      "cell_type": "markdown",
      "source": [
        "##### **Solution**"
      ],
      "metadata": {
        "id": "4YTlSMDBzUMV"
      }
    },
    {
      "cell_type": "code",
      "source": [
        "df_female = df[df['sex'] == 0]\n",
        "df_male = df[df['sex'] == 1]\n",
        "\n",
        "plt.bar([-0.1, 0.9], df_female['heart attack'].value_counts(), label = 'Female', width = 0.2)\n",
        "plt.bar([0.1, 1.1], df_male['heart attack'].value_counts(), label = 'Male', width = 0.2)\n",
        "\n",
        "plt.legend()\n",
        "plt.ylabel('Number in Dataset', fontsize = 'x-large')\n",
        "plt.title('Breakdown of Heart Attacks by Sex', fontsize = 'x-large')\n",
        "plt.xticks(ticks = [0, 1], labels = ['No Heart Attack', 'Heart Attack'], fontsize = 'x-large')\n",
        "\n",
        "plt.show()"
      ],
      "metadata": {
        "colab": {
          "base_uri": "https://localhost:8080/",
          "height": 458
        },
        "id": "Q_8ppRKEwqSx",
        "outputId": "38fa412d-8b33-45fc-bafd-335a9220e347"
      },
      "execution_count": null,
      "outputs": [
        {
          "output_type": "display_data",
          "data": {
            "text/plain": [
              "<Figure size 640x480 with 1 Axes>"
            ],
            "image/png": "[encoded data removed]"
          },
          "metadata": {}
        }
      ]
    },
    {
      "cell_type": "markdown",
      "source": [
        "#### **Comment on this Dataset**\n",
        "\n",
        "This is an unfortunately common case of biased data, specifically *unbalanced data*, leading to potentially harmful results. We could attempt removing `'Sex'` as a feature to blind any ML models to the sex of the patient. However, bias often runs deeper than the most superficial variables and may be correlated with others in ways that humans and especially advanced ML algorithms can still pick up on. Consider some of the following ideas for improving on these results:\n",
        "\n",
        "* Using statistical methods for balancing the data. For instance, upsampling and downsampling are common first approaches to tackling this problem.\n",
        "\n",
        "* Find a dataset that is more balanced to begin with. In an ideal world, we would make sure that the data is balanced (representative) upon collection."
      ],
      "metadata": {
        "id": "8Y87uet9b5qb"
      }
    },
    {
      "cell_type": "markdown",
      "source": [
        "<a name=\"p5\"></a>\n",
        "\n",
        "---\n",
        "## **Part 5: Modeling with sklearn**\n",
        "---"
      ],
      "metadata": {
        "id": "_Q7eDW_l0pPn"
      }
    },
    {
      "cell_type": "markdown",
      "metadata": {
        "id": "XKlXLctJMfWM"
      },
      "source": [
        "### **Part 5.1: Linear Regression**\n",
        "\n",
        "\n",
        "---\n",
        "\n",
        "This dataset contains data related to wine properties, including chemical characteristics like acidity, pH, and alcohol content. The target variable (label) represents a quality rating for each wine, which is a quantitative measure of wine quality.\n",
        "\n",
        "\n",
        "In Part 5.1, we will implement a linear regression model aimed at predicting the quality rating of wines based on their chemical properties and characteristics."
      ]
    },
    {
      "cell_type": "markdown",
      "metadata": {
        "id": "OqjbzvZ9OUWe"
      },
      "source": [
        "#### **Step #1: Load in Data**\n",
        "\n",
        "**Run the code below to load the data.**"
      ]
    },
    {
      "cell_type": "code",
      "execution_count": null,
      "metadata": {
        "id": "rYraPZuAOSX6",
        "tags": []
      },
      "outputs": [],
      "source": [
        "url = \"https://archive.ics.uci.edu/ml/machine-learning-databases/wine-quality/winequality-white.csv\"\n",
        "data = pd.read_csv(url, sep=';')"
      ]
    },
    {
      "cell_type": "markdown",
      "metadata": {
        "id": "_-Un9iSRFNKP"
      },
      "source": [
        "#### **Step #2: Choose your Variables**\n",
        "\n"
      ]
    },
    {
      "cell_type": "code",
      "execution_count": null,
      "metadata": {
        "id": "3w6YlXTflYLC"
      },
      "outputs": [],
      "source": [
        "inputs = df.drop(\"quality\", axis = 1)\n",
        "output = df[# COMPLETE THIS CODE"
      ]
    },
    {
      "cell_type": "markdown",
      "metadata": {
        "id": "Rz-RWKb0lYin"
      },
      "source": [
        "##### **Solution**"
      ]
    },
    {
      "cell_type": "code",
      "execution_count": null,
      "metadata": {
        "id": "XbEAUTUnFRBq",
        "tags": []
      },
      "outputs": [],
      "source": [
        "inputs = data.drop('quality', axis=1)\n",
        "output = data['quality']"
      ]
    },
    {
      "cell_type": "markdown",
      "metadata": {
        "id": "TqCPAlJmlNUv"
      },
      "source": [
        "#### **Step #3: Split your Data**\n"
      ]
    },
    {
      "cell_type": "code",
      "execution_count": null,
      "metadata": {
        "id": "9Sm_Dda4lMS_",
        "tags": []
      },
      "outputs": [],
      "source": [
        "X_train, X_test, y_train, y_test = # COMPLETE THIS CODE"
      ]
    },
    {
      "cell_type": "markdown",
      "source": [
        "##### **Solution**"
      ],
      "metadata": {
        "id": "h6qzfSW72USP"
      }
    },
    {
      "cell_type": "code",
      "source": [
        "X_train, X_test, y_train, y_test = model_selection.train_test_split(inputs, output, test_size = 0.2, random_state = 42)"
      ],
      "metadata": {
        "id": "R6FSWsQM2VR7"
      },
      "execution_count": null,
      "outputs": []
    },
    {
      "cell_type": "markdown",
      "metadata": {
        "id": "AR4pT5pjFOYI"
      },
      "source": [
        "#### **Step #4: Import an ML Algorithm**\n",
        "\n",
        "\n"
      ]
    },
    {
      "cell_type": "code",
      "source": [],
      "metadata": {
        "id": "04ZAKnPJ2lc3"
      },
      "execution_count": null,
      "outputs": []
    },
    {
      "cell_type": "markdown",
      "source": [
        "##### **Solution**"
      ],
      "metadata": {
        "id": "RX9OxAD52joL"
      }
    },
    {
      "cell_type": "code",
      "execution_count": null,
      "metadata": {
        "id": "mJwLHdydmHTB",
        "tags": []
      },
      "outputs": [],
      "source": [
        "from sklearn.linear_model import LinearRegression"
      ]
    },
    {
      "cell_type": "markdown",
      "metadata": {
        "id": "7vxxRybDl-6h"
      },
      "source": [
        "#### **Step #5: Initialize the Model**\n"
      ]
    },
    {
      "cell_type": "code",
      "execution_count": null,
      "metadata": {
        "id": "7Lg_OTRlmOdQ"
      },
      "outputs": [],
      "source": [
        "model = # COMPLETE THIS LINE"
      ]
    },
    {
      "cell_type": "markdown",
      "metadata": {
        "id": "hTYp-p67mVQV"
      },
      "source": [
        "##### **Solution**"
      ]
    },
    {
      "cell_type": "code",
      "execution_count": null,
      "metadata": {
        "id": "2zhHsTWbmNdp",
        "tags": []
      },
      "outputs": [],
      "source": [
        "model = LinearRegression()"
      ]
    },
    {
      "cell_type": "markdown",
      "metadata": {
        "id": "QGjMGgtol_GV"
      },
      "source": [
        "#### **Step #6: Fit, Test, and Visualize**\n"
      ]
    },
    {
      "cell_type": "code",
      "execution_count": null,
      "metadata": {
        "id": "zXrul7JxmZCr"
      },
      "outputs": [],
      "source": [
        "model.fit(X_train, # COMPLETE THIS LINE"
      ]
    },
    {
      "cell_type": "code",
      "source": [
        "predictions = # COMPLETE THIS LINE"
      ],
      "metadata": {
        "id": "SJT-4r673-V3"
      },
      "execution_count": null,
      "outputs": []
    },
    {
      "cell_type": "code",
      "source": [
        "plt.figure(figsize=(8, 8))\n",
        "plt.scatter(y_test, predictions)\n",
        "plt.plot([y_test.min(), y_test.max()], [y_test.min(), y_test.max()], color = 'black', label=\"Correct prediction\")\n",
        "\n",
        "\n",
        "plt.xlabel('True Quality', fontsize = 'x-large')\n",
        "plt.ylabel('Predicted Quality', fontsize = 'x-large')\n",
        "plt.title(\"Real vs predicted wine quality\", fontsize = 'x-large')\n",
        "plt.legend()\n",
        "\n",
        "plt.show()"
      ],
      "metadata": {
        "colab": {
          "base_uri": "https://localhost:8080/",
          "height": 724
        },
        "id": "UjMtzl7L4MYf",
        "outputId": "6c750b11-2502-4e5a-c450-aa65292de9fc"
      },
      "execution_count": null,
      "outputs": [
        {
          "output_type": "display_data",
          "data": {
            "text/plain": [
              "<Figure size 800x800 with 1 Axes>"
            ],
            "image/png": "[encoded data removed]"
          },
          "metadata": {}
        }
      ]
    },
    {
      "cell_type": "markdown",
      "metadata": {
        "id": "expMvvS_mZVA"
      },
      "source": [
        "##### **Solution**"
      ]
    },
    {
      "cell_type": "code",
      "execution_count": null,
      "metadata": {
        "id": "P6TxLLFzFRdD",
        "tags": [],
        "outputId": "dceed7d2-7fe7-4437-ff68-7e03edcfc564",
        "colab": {
          "base_uri": "https://localhost:8080/",
          "height": 74
        }
      },
      "outputs": [
        {
          "output_type": "execute_result",
          "data": {
            "text/plain": [
              "LinearRegression()"
            ],
            "text/html": [
              "<style>#sk-container-id-4 {color: black;background-color: white;}#sk-container-id-4 pre{padding: 0;}#sk-container-id-4 div.sk-toggleable {background-color: white;}#sk-container-id-4 label.sk-toggleable__label {cursor: pointer;display: block;width: 100%;margin-bottom: 0;padding: 0.3em;box-sizing: border-box;text-align: center;}#sk-container-id-4 label.sk-toggleable__label-arrow:before {content: \"▸\";float: left;margin-right: 0.25em;color: #696969;}#sk-container-id-4 label.sk-toggleable__label-arrow:hover:before {color: black;}#sk-container-id-4 div.sk-estimator:hover label.sk-toggleable__label-arrow:before {color: black;}#sk-container-id-4 div.sk-toggleable__content {max-height: 0;max-width: 0;overflow: hidden;text-align: left;background-color: #f0f8ff;}#sk-container-id-4 div.sk-toggleable__content pre {margin: 0.2em;color: black;border-radius: 0.25em;background-color: #f0f8ff;}#sk-container-id-4 input.sk-toggleable__control:checked~div.sk-toggleable__content {max-height: 200px;max-width: 100%;overflow: auto;}#sk-container-id-4 input.sk-toggleable__control:checked~label.sk-toggleable__label-arrow:before {content: \"▾\";}#sk-container-id-4 div.sk-estimator input.sk-toggleable__control:checked~label.sk-toggleable__label {background-color: #d4ebff;}#sk-container-id-4 div.sk-label input.sk-toggleable__control:checked~label.sk-toggleable__label {background-color: #d4ebff;}#sk-container-id-4 input.sk-hidden--visually {border: 0;clip: rect(1px 1px 1px 1px);clip: rect(1px, 1px, 1px, 1px);height: 1px;margin: -1px;overflow: hidden;padding: 0;position: absolute;width: 1px;}#sk-container-id-4 div.sk-estimator {font-family: monospace;background-color: #f0f8ff;border: 1px dotted black;border-radius: 0.25em;box-sizing: border-box;margin-bottom: 0.5em;}#sk-container-id-4 div.sk-estimator:hover {background-color: #d4ebff;}#sk-container-id-4 div.sk-parallel-item::after {content: \"\";width: 100%;border-bottom: 1px solid gray;flex-grow: 1;}#sk-container-id-4 div.sk-label:hover label.sk-toggleable__label {background-color: #d4ebff;}#sk-container-id-4 div.sk-serial::before {content: \"\";position: absolute;border-left: 1px solid gray;box-sizing: border-box;top: 0;bottom: 0;left: 50%;z-index: 0;}#sk-container-id-4 div.sk-serial {display: flex;flex-direction: column;align-items: center;background-color: white;padding-right: 0.2em;padding-left: 0.2em;position: relative;}#sk-container-id-4 div.sk-item {position: relative;z-index: 1;}#sk-container-id-4 div.sk-parallel {display: flex;align-items: stretch;justify-content: center;background-color: white;position: relative;}#sk-container-id-4 div.sk-item::before, #sk-container-id-4 div.sk-parallel-item::before {content: \"\";position: absolute;border-left: 1px solid gray;box-sizing: border-box;top: 0;bottom: 0;left: 50%;z-index: -1;}#sk-container-id-4 div.sk-parallel-item {display: flex;flex-direction: column;z-index: 1;position: relative;background-color: white;}#sk-container-id-4 div.sk-parallel-item:first-child::after {align-self: flex-end;width: 50%;}#sk-container-id-4 div.sk-parallel-item:last-child::after {align-self: flex-start;width: 50%;}#sk-container-id-4 div.sk-parallel-item:only-child::after {width: 0;}#sk-container-id-4 div.sk-dashed-wrapped {border: 1px dashed gray;margin: 0 0.4em 0.5em 0.4em;box-sizing: border-box;padding-bottom: 0.4em;background-color: white;}#sk-container-id-4 div.sk-label label {font-family: monospace;font-weight: bold;display: inline-block;line-height: 1.2em;}#sk-container-id-4 div.sk-label-container {text-align: center;}#sk-container-id-4 div.sk-container {/* jupyter's `normalize.less` sets `[hidden] { display: none; }` but bootstrap.min.css set `[hidden] { display: none !important; }` so we also need the `!important` here to be able to override the default hidden behavior on the sphinx rendered scikit-learn.org. See: https://github.com/scikit-learn/scikit-learn/issues/21755 */display: inline-block !important;position: relative;}#sk-container-id-4 div.sk-text-repr-fallback {display: none;}</style><div id=\"sk-container-id-4\" class=\"sk-top-container\"><div class=\"sk-text-repr-fallback\"><pre>LinearRegression()</pre><b>In a Jupyter environment, please rerun this cell to show the HTML representation or trust the notebook. <br />On GitHub, the HTML representation is unable to render, please try loading this page with nbviewer.org.</b></div><div class=\"sk-container\" hidden><div class=\"sk-item\"><div class=\"sk-estimator sk-toggleable\"><input class=\"sk-toggleable__control sk-hidden--visually\" id=\"sk-estimator-id-4\" type=\"checkbox\" checked><label for=\"sk-estimator-id-4\" class=\"sk-toggleable__label sk-toggleable__label-arrow\">LinearRegression</label><div class=\"sk-toggleable__content\"><pre>LinearRegression()</pre></div></div></div></div></div>"
            ]
          },
          "metadata": {},
          "execution_count": 35
        }
      ],
      "source": [
        "model.fit(X_train, y_train)"
      ]
    },
    {
      "cell_type": "code",
      "source": [
        "predictions = model.predict(X_test)"
      ],
      "metadata": {
        "id": "cWUUVJ7P4BgM"
      },
      "execution_count": null,
      "outputs": []
    },
    {
      "cell_type": "code",
      "source": [
        "plt.figure(figsize=(8, 8))\n",
        "plt.scatter(y_test, predictions)\n",
        "plt.plot([y_test.min(), y_test.max()], [y_test.min(), y_test.max()], color = 'black', label=\"Correct prediction\")\n",
        "\n",
        "\n",
        "plt.xlabel('True Progression', fontsize = 'x-large')\n",
        "plt.ylabel('Predicted Progression', fontsize = 'x-large')\n",
        "plt.title(\"Real vs predicted progression of diabetes\", fontsize = 'x-large')\n",
        "plt.legend()\n",
        "\n",
        "plt.show()"
      ],
      "metadata": {
        "colab": {
          "base_uri": "https://localhost:8080/",
          "height": 724
        },
        "id": "Y9QFheBu3J2C",
        "outputId": "b0a7ea2e-23fc-46b0-e790-eea903e18ce3"
      },
      "execution_count": null,
      "outputs": [
        {
          "output_type": "display_data",
          "data": {
            "text/plain": [
              "<Figure size 800x800 with 1 Axes>"
            ],
            "image/png": "[encoded data removed]"
          },
          "metadata": {}
        }
      ]
    },
    {
      "cell_type": "markdown",
      "metadata": {
        "id": "tEjc9FYpFPXe"
      },
      "source": [
        "#### **Step #7: Evaluate**\n",
        "\n",
        "Let's evaluate this model and put it to the test! Specifically, evaluate the model using our standard regression metrics: $R^2$, MSE, and MAE.\n"
      ]
    },
    {
      "cell_type": "code",
      "source": [],
      "metadata": {
        "id": "I3-wwjqQ4kGe"
      },
      "execution_count": null,
      "outputs": []
    },
    {
      "cell_type": "markdown",
      "metadata": {
        "id": "tgKXw-1KmoYW"
      },
      "source": [
        "###### **Solution**"
      ]
    },
    {
      "cell_type": "code",
      "execution_count": null,
      "metadata": {
        "id": "yLawsX5Al9mG",
        "tags": [],
        "outputId": "bdff6cdd-bade-45aa-e576-065bffd076b1",
        "colab": {
          "base_uri": "https://localhost:8080/"
        }
      },
      "outputs": [
        {
          "output_type": "stream",
          "name": "stdout",
          "text": [
            "R-squared: 0.2652750042179125\n",
            "Mean Squared Error: 0.5690247717229278\n",
            "Mean Absolute Error: 0.5862665383250473\n"
          ]
        }
      ],
      "source": [
        "print(\"R-squared: \" + str(r2_score(y_test, predictions)))\n",
        "print(\"Mean Squared Error: \" + str(mean_squared_error(y_test, predictions)))\n",
        "print(\"Mean Absolute Error: \" + str(mean_absolute_error(y_test, predictions)))"
      ]
    },
    {
      "cell_type": "markdown",
      "metadata": {
        "id": "ZSVrwR_HFScR"
      },
      "source": [
        "#### **Step #8: Apply your Model**\n",
        "\n",
        "You are provided with data from two new wines, and you want to assess the predicted quality ratings for each of them. The goal is to determine whether either wine is likely to have a higher quality rating based on the model's predictions.\n",
        "\n",
        "Here is the data for the two wines:\n",
        "\n",
        "**Wine 1:**\n",
        "* Fixed Acidity = 12.5\n",
        "* Volatile Acidity = 0.3\n",
        "* Citric Acid = 0.6\n",
        "* Residual Sugar = 1.2\n",
        "* Chlorides = 0.07\n",
        "* Free Sulfur Dioxide = 15.0\n",
        "* Total Sulfur Dioxide = 50.0\n",
        "* Density = 0.998\n",
        "* pH = 3.2\n",
        "* Sulphates = 0.68\n",
        "* Alcohol Content = 11.5\n",
        "\n",
        "**Wine 2:**\n",
        "\n",
        "* Fixed Acidity = 13.2\n",
        "* Volatile Acidity = 0.28\n",
        "* Citric Acid = 0.45\n",
        "* Residual Sugar = 2.0\n",
        "* Chlorides = 0.09\n",
        "* Free Sulfur Dioxide = 12.0\n",
        "* Total Sulfur Dioxide = 65.0\n",
        "* Density = 0.995\n",
        "* pH = 3.3\n",
        "* Sulphates = 0.55\n",
        "* Alcohol Content = 12.0\n",
        "\n",
        "You will use your linear regression model to predict the quality ratings for these wines and assess their relative quality based on the predictions."
      ]
    },
    {
      "cell_type": "markdown",
      "metadata": {
        "id": "TNEz28GzPsza"
      },
      "source": [
        "##### **1. Predict the quality of Wine 1**\n"
      ]
    },
    {
      "cell_type": "code",
      "execution_count": null,
      "metadata": {
        "id": "qdlzRN3PFUXe",
        "tags": []
      },
      "outputs": [],
      "source": []
    },
    {
      "cell_type": "markdown",
      "source": [
        "###### **Solution**"
      ],
      "metadata": {
        "id": "NMrEt2EG6xgK"
      }
    },
    {
      "cell_type": "code",
      "source": [
        "wine_1_features = pd.DataFrame([[12.5, 0.3, 0.6, 1.2, 0.07, 15.0, 50.0, 0.998, 3.2, 0.68, 11.5]], columns=X_train.columns)\n",
        "\n",
        "prediction_wine_1 = model.predict(wine_1_features)\n",
        "\n",
        "print(prediction_wine_1)"
      ],
      "metadata": {
        "colab": {
          "base_uri": "https://localhost:8080/"
        },
        "id": "IaQC_DM16y3D",
        "outputId": "f892fb22-56a4-4f68-c045-5fcca438a720"
      },
      "execution_count": null,
      "outputs": [
        {
          "output_type": "stream",
          "name": "stdout",
          "text": [
            "[5.48643855]\n"
          ]
        }
      ]
    },
    {
      "cell_type": "markdown",
      "metadata": {
        "id": "mOVjEiDIPvKc"
      },
      "source": [
        "##### **2. Predict the quality of Wine 2**"
      ]
    },
    {
      "cell_type": "code",
      "execution_count": null,
      "metadata": {
        "id": "6OGtnxjUnJ3Q"
      },
      "outputs": [],
      "source": []
    },
    {
      "cell_type": "markdown",
      "metadata": {
        "id": "ILJcHhaQnKH6"
      },
      "source": [
        "###### **Solution**"
      ]
    },
    {
      "cell_type": "code",
      "execution_count": null,
      "metadata": {
        "id": "jYkXVorPPxHc",
        "tags": [],
        "outputId": "816cd857-a0e7-4e6d-a8f6-e696473cebb0",
        "colab": {
          "base_uri": "https://localhost:8080/"
        }
      },
      "outputs": [
        {
          "output_type": "stream",
          "name": "stdout",
          "text": [
            "[6.06652553]\n"
          ]
        }
      ],
      "source": [
        "wine_2_features = pd.DataFrame([[13.2, 0.28, 0.45, 2.0, 0.09, 12.0, 65.0, 0.995, 3.3, 0.55, 12.0]], columns=X_train.columns)\n",
        "\n",
        "\n",
        "prediction_wine_2 = model.predict(wine_2_features)\n",
        "\n",
        "\n",
        "print(prediction_wine_2)"
      ]
    },
    {
      "cell_type": "markdown",
      "metadata": {
        "id": "OGa6OZCpfJPh"
      },
      "source": [
        "### **Part 5.2: K-Nearest Neighbors**\n",
        "\n",
        "\n",
        "---\n",
        "\n",
        "This dataset contains crucial information related to breast cancer, including various features such as mean radius, mean texture, and mean smoothness. The target variable (label) indicates the diagnosis, distinguishing between malignant and benign cases.\n",
        "\n",
        "In Part 5.2, we will implement a K-Nearest Neighbors (KNN) model aimed at predicting the diagnosis of breast cancer samples. The goal is to classify new samples as either malignant or benign based on their feature characteristics."
      ]
    },
    {
      "cell_type": "markdown",
      "metadata": {
        "id": "p5tQtCwufJPr"
      },
      "source": [
        "#### **Step #1: Load in Data**\n",
        "\n",
        "**Run the code below to load the data.**"
      ]
    },
    {
      "cell_type": "code",
      "execution_count": null,
      "metadata": {
        "tags": [],
        "id": "WtSg7z-3fJPr"
      },
      "outputs": [],
      "source": [
        "from sklearn.datasets import load_breast_cancer\n",
        "data = load_breast_cancer()\n",
        "selected_features = [\"mean radius\", \"mean texture\", \"mean perimeter\", \"mean area\", \"mean smoothness\", \"mean compactness\", \"mean concavity\", \"mean concave points\", \"mean symmetry\", \"mean fractal dimension\"]\n",
        "df = pd.DataFrame(data.data, columns=data.feature_names)\n",
        "df = df[selected_features]\n",
        "df['Target'] = data.target"
      ]
    },
    {
      "cell_type": "markdown",
      "metadata": {
        "id": "QFGDY2skfJPs"
      },
      "source": [
        "#### **Step #2: Choose your Variables**\n",
        "\n"
      ]
    },
    {
      "cell_type": "code",
      "execution_count": null,
      "metadata": {
        "id": "k-JjG229fJPs"
      },
      "outputs": [],
      "source": [
        "inputs = # COMPLETE THIS CODE\n",
        "output = # COMPLETE THIS CODE"
      ]
    },
    {
      "cell_type": "markdown",
      "metadata": {
        "id": "0vUdHqtlfJPs"
      },
      "source": [
        "##### **Solution**"
      ]
    },
    {
      "cell_type": "code",
      "execution_count": null,
      "metadata": {
        "tags": [],
        "id": "iuCeraA4fJPs"
      },
      "outputs": [],
      "source": [
        "inputs = df.drop('Target', axis=1)\n",
        "output = df['Target']"
      ]
    },
    {
      "cell_type": "markdown",
      "metadata": {
        "id": "HbEr0TBEfJPs"
      },
      "source": [
        "#### **Step #3: Split your Data**\n"
      ]
    },
    {
      "cell_type": "code",
      "execution_count": null,
      "metadata": {
        "tags": [],
        "id": "BiI_7n98fJPs"
      },
      "outputs": [],
      "source": [
        "X_train, X_test, y_train, y_test = # COMPLETE THIS CODE"
      ]
    },
    {
      "cell_type": "markdown",
      "source": [
        "##### **Solution**"
      ],
      "metadata": {
        "id": "y7FL0z9nfJPs"
      }
    },
    {
      "cell_type": "code",
      "source": [
        "X_train, X_test, y_train, y_test = model_selection.train_test_split(inputs, output, test_size = 0.2, random_state = 42)"
      ],
      "metadata": {
        "id": "6B-tTBzAfJPs"
      },
      "execution_count": null,
      "outputs": []
    },
    {
      "cell_type": "markdown",
      "metadata": {
        "id": "AyBDIqqGfJPs"
      },
      "source": [
        "#### **Step #4: Import an ML Algorithm**\n",
        "\n",
        "\n"
      ]
    },
    {
      "cell_type": "code",
      "source": [],
      "metadata": {
        "id": "3zUWy-C-fJPs"
      },
      "execution_count": null,
      "outputs": []
    },
    {
      "cell_type": "markdown",
      "source": [
        "##### **Solution**"
      ],
      "metadata": {
        "id": "acGVxH7qfJPt"
      }
    },
    {
      "cell_type": "code",
      "execution_count": null,
      "metadata": {
        "tags": [],
        "id": "4AadQb1ffJPt"
      },
      "outputs": [],
      "source": [
        "from sklearn.neighbors import KNeighborsClassifier"
      ]
    },
    {
      "cell_type": "markdown",
      "metadata": {
        "id": "q4tlM_dQfJPt"
      },
      "source": [
        "#### **Step #5: Initialize the Model**\n"
      ]
    },
    {
      "cell_type": "code",
      "execution_count": null,
      "metadata": {
        "id": "NrqbrvqmfJPt"
      },
      "outputs": [],
      "source": [
        "model = # COMPLETE THIS LINE"
      ]
    },
    {
      "cell_type": "markdown",
      "metadata": {
        "id": "fY5ZBtJHfJPt"
      },
      "source": [
        "##### **Solution**"
      ]
    },
    {
      "cell_type": "code",
      "execution_count": null,
      "metadata": {
        "tags": [],
        "id": "6GmklFr8fJPt"
      },
      "outputs": [],
      "source": [
        "model = KNeighborsClassifier()"
      ]
    },
    {
      "cell_type": "markdown",
      "metadata": {
        "id": "dwsTR3NBfJPt"
      },
      "source": [
        "#### **Step #6: Fit and Test**\n"
      ]
    },
    {
      "cell_type": "code",
      "execution_count": null,
      "metadata": {
        "id": "nFEKlifHfJPt"
      },
      "outputs": [],
      "source": [
        "model.fit(X_train, # COMPLETE THIS LINE"
      ]
    },
    {
      "cell_type": "code",
      "source": [
        "predictions = # COMPLETE THIS LINE"
      ],
      "metadata": {
        "id": "lBki9dH1fJPt"
      },
      "execution_count": null,
      "outputs": []
    },
    {
      "cell_type": "markdown",
      "metadata": {
        "id": "06MG6EVQfJPt"
      },
      "source": [
        "##### **Solution**"
      ]
    },
    {
      "cell_type": "code",
      "execution_count": null,
      "metadata": {
        "tags": [],
        "outputId": "c04ecea8-c0aa-45ac-ecb9-94784ed4967e",
        "colab": {
          "base_uri": "https://localhost:8080/",
          "height": 74
        },
        "id": "5ZJTxTxffJPu"
      },
      "outputs": [
        {
          "output_type": "execute_result",
          "data": {
            "text/plain": [
              "KNeighborsClassifier()"
            ],
            "text/html": [
              "<style>#sk-container-id-8 {color: black;background-color: white;}#sk-container-id-8 pre{padding: 0;}#sk-container-id-8 div.sk-toggleable {background-color: white;}#sk-container-id-8 label.sk-toggleable__label {cursor: pointer;display: block;width: 100%;margin-bottom: 0;padding: 0.3em;box-sizing: border-box;text-align: center;}#sk-container-id-8 label.sk-toggleable__label-arrow:before {content: \"▸\";float: left;margin-right: 0.25em;color: #696969;}#sk-container-id-8 label.sk-toggleable__label-arrow:hover:before {color: black;}#sk-container-id-8 div.sk-estimator:hover label.sk-toggleable__label-arrow:before {color: black;}#sk-container-id-8 div.sk-toggleable__content {max-height: 0;max-width: 0;overflow: hidden;text-align: left;background-color: #f0f8ff;}#sk-container-id-8 div.sk-toggleable__content pre {margin: 0.2em;color: black;border-radius: 0.25em;background-color: #f0f8ff;}#sk-container-id-8 input.sk-toggleable__control:checked~div.sk-toggleable__content {max-height: 200px;max-width: 100%;overflow: auto;}#sk-container-id-8 input.sk-toggleable__control:checked~label.sk-toggleable__label-arrow:before {content: \"▾\";}#sk-container-id-8 div.sk-estimator input.sk-toggleable__control:checked~label.sk-toggleable__label {background-color: #d4ebff;}#sk-container-id-8 div.sk-label input.sk-toggleable__control:checked~label.sk-toggleable__label {background-color: #d4ebff;}#sk-container-id-8 input.sk-hidden--visually {border: 0;clip: rect(1px 1px 1px 1px);clip: rect(1px, 1px, 1px, 1px);height: 1px;margin: -1px;overflow: hidden;padding: 0;position: absolute;width: 1px;}#sk-container-id-8 div.sk-estimator {font-family: monospace;background-color: #f0f8ff;border: 1px dotted black;border-radius: 0.25em;box-sizing: border-box;margin-bottom: 0.5em;}#sk-container-id-8 div.sk-estimator:hover {background-color: #d4ebff;}#sk-container-id-8 div.sk-parallel-item::after {content: \"\";width: 100%;border-bottom: 1px solid gray;flex-grow: 1;}#sk-container-id-8 div.sk-label:hover label.sk-toggleable__label {background-color: #d4ebff;}#sk-container-id-8 div.sk-serial::before {content: \"\";position: absolute;border-left: 1px solid gray;box-sizing: border-box;top: 0;bottom: 0;left: 50%;z-index: 0;}#sk-container-id-8 div.sk-serial {display: flex;flex-direction: column;align-items: center;background-color: white;padding-right: 0.2em;padding-left: 0.2em;position: relative;}#sk-container-id-8 div.sk-item {position: relative;z-index: 1;}#sk-container-id-8 div.sk-parallel {display: flex;align-items: stretch;justify-content: center;background-color: white;position: relative;}#sk-container-id-8 div.sk-item::before, #sk-container-id-8 div.sk-parallel-item::before {content: \"\";position: absolute;border-left: 1px solid gray;box-sizing: border-box;top: 0;bottom: 0;left: 50%;z-index: -1;}#sk-container-id-8 div.sk-parallel-item {display: flex;flex-direction: column;z-index: 1;position: relative;background-color: white;}#sk-container-id-8 div.sk-parallel-item:first-child::after {align-self: flex-end;width: 50%;}#sk-container-id-8 div.sk-parallel-item:last-child::after {align-self: flex-start;width: 50%;}#sk-container-id-8 div.sk-parallel-item:only-child::after {width: 0;}#sk-container-id-8 div.sk-dashed-wrapped {border: 1px dashed gray;margin: 0 0.4em 0.5em 0.4em;box-sizing: border-box;padding-bottom: 0.4em;background-color: white;}#sk-container-id-8 div.sk-label label {font-family: monospace;font-weight: bold;display: inline-block;line-height: 1.2em;}#sk-container-id-8 div.sk-label-container {text-align: center;}#sk-container-id-8 div.sk-container {/* jupyter's `normalize.less` sets `[hidden] { display: none; }` but bootstrap.min.css set `[hidden] { display: none !important; }` so we also need the `!important` here to be able to override the default hidden behavior on the sphinx rendered scikit-learn.org. See: https://github.com/scikit-learn/scikit-learn/issues/21755 */display: inline-block !important;position: relative;}#sk-container-id-8 div.sk-text-repr-fallback {display: none;}</style><div id=\"sk-container-id-8\" class=\"sk-top-container\"><div class=\"sk-text-repr-fallback\"><pre>KNeighborsClassifier()</pre><b>In a Jupyter environment, please rerun this cell to show the HTML representation or trust the notebook. <br />On GitHub, the HTML representation is unable to render, please try loading this page with nbviewer.org.</b></div><div class=\"sk-container\" hidden><div class=\"sk-item\"><div class=\"sk-estimator sk-toggleable\"><input class=\"sk-toggleable__control sk-hidden--visually\" id=\"sk-estimator-id-8\" type=\"checkbox\" checked><label for=\"sk-estimator-id-8\" class=\"sk-toggleable__label sk-toggleable__label-arrow\">KNeighborsClassifier</label><div class=\"sk-toggleable__content\"><pre>KNeighborsClassifier()</pre></div></div></div></div></div>"
            ]
          },
          "metadata": {},
          "execution_count": 93
        }
      ],
      "source": [
        "model.fit(X_train, y_train)"
      ]
    },
    {
      "cell_type": "code",
      "source": [
        "predictions = model.predict(X_test)"
      ],
      "metadata": {
        "id": "cM0SXqSOfJPu"
      },
      "execution_count": null,
      "outputs": []
    },
    {
      "cell_type": "markdown",
      "metadata": {
        "id": "GOjuQCV6fJPu"
      },
      "source": [
        "#### **Step #7: Evaluate**\n",
        "\n",
        "Let's evaluate this model and put it to the test! Specifically, use the accuracy score to get a simple overall picture of your model's performance, and the confusion matrix to get a more nuanced view of where the model is performing the best and worst\n"
      ]
    },
    {
      "cell_type": "code",
      "source": [
        "print(accuracy_score(# COMPLETE THIS CODE"
      ],
      "metadata": {
        "id": "7iYRgB9yfJPu"
      },
      "execution_count": null,
      "outputs": []
    },
    {
      "cell_type": "code",
      "source": [
        "cm = confusion_matrix(# COMPLETE THIS CODE\n",
        "disp = ConfusionMatrixDisplay(# COMPLETE THIS CODE\n",
        "disp.plot()\n",
        "plt.show()"
      ],
      "metadata": {
        "id": "bF9jaTzyhAjy"
      },
      "execution_count": null,
      "outputs": []
    },
    {
      "cell_type": "markdown",
      "metadata": {
        "id": "m9Nz8xmMfJPu"
      },
      "source": [
        "###### **Solution**"
      ]
    },
    {
      "cell_type": "code",
      "execution_count": null,
      "metadata": {
        "tags": [],
        "outputId": "e79bc21a-dd25-4be6-9b6c-668caa0de9e1",
        "colab": {
          "base_uri": "https://localhost:8080/"
        },
        "id": "sbxwbyEafJPu"
      },
      "outputs": [
        {
          "output_type": "stream",
          "name": "stdout",
          "text": [
            "0.9385964912280702\n"
          ]
        }
      ],
      "source": [
        "print(accuracy_score(y_test, predictions))"
      ]
    },
    {
      "cell_type": "code",
      "source": [
        "cm = confusion_matrix(y_test, predictions, labels=model.classes_)\n",
        "disp = ConfusionMatrixDisplay(confusion_matrix=cm, display_labels=model.classes_)\n",
        "disp.plot()\n",
        "plt.show()"
      ],
      "metadata": {
        "colab": {
          "base_uri": "https://localhost:8080/",
          "height": 455
        },
        "id": "VOJWcwpfhgYP",
        "outputId": "e2901f8c-4929-4b52-ba50-2738863927a5"
      },
      "execution_count": null,
      "outputs": [
        {
          "output_type": "display_data",
          "data": {
            "text/plain": [
              "<Figure size 640x480 with 2 Axes>"
            ],
            "image/png": "[encoded data removed]"
          },
          "metadata": {}
        }
      ]
    },
    {
      "cell_type": "markdown",
      "metadata": {
        "id": "BPKZh2EsfJPu"
      },
      "source": [
        "#### **Step #8: Apply your Model**\n",
        "\n",
        "You are provided with data from two new breast cancer samples, and you want to assess the predicted class labels (Malignant or Benign) for each of them. The goal is to determine whether either sample is likely to be malignant or benign based on the model's predictions.\n",
        "\n",
        "Here is the data for the two samples:\n",
        "\n",
        "**Sample 1:**\n",
        "\n",
        "* Mean Radius = 12.5\n",
        "* Mean Texture = 18.2\n",
        "* Mean Perimeter = 80.3\n",
        "* Mean Area = 490.2\n",
        "* Mean Smoothness = 0.09\n",
        "* Mean Compactness = 0.08\n",
        "* Mean Concavity = 0.05\n",
        "* Mean Concave Points = 0.03\n",
        "* Mean Symmetry = 0.18\n",
        "* Mean Fractal Dimension = 0.06\n",
        "\n",
        "**Sample 2:**\n",
        "\n",
        "* Mean Radius = 14.3\n",
        "* Mean Texture = 20.8\n",
        "* Mean Perimeter = 92.6\n",
        "* Mean Area = 650.9\n",
        "* Mean Smoothness = 0.1\n",
        "* Mean Compactness = 0.12\n",
        "* Mean Concavity = 0.09\n",
        "* Mean Concave Points = 0.05\n",
        "* Mean Symmetry = 0.2\n",
        "* Mean Fractal Dimension = 0.07\n",
        "\n",
        "You will use your KNN (k-nearest neighbors) model to predict the class labels for these samples and assess their relative likelihood of being malignant or benign based on the predictions."
      ]
    },
    {
      "cell_type": "markdown",
      "metadata": {
        "id": "fIqwMPFIfJPu"
      },
      "source": [
        "##### **1. Predict the diagnosis of Sample 1**\n"
      ]
    },
    {
      "cell_type": "code",
      "execution_count": null,
      "metadata": {
        "tags": [],
        "id": "JwdKPvv7fJPu"
      },
      "outputs": [],
      "source": [
        "sample_1_features = pd.DataFrame([[# COMPLETE THIS CODE\n",
        "\n",
        "prediction_sample_1 = model.predict(# COMPLETE THIS CODE\n",
        "\n",
        "print(\"Predicted label for Sample 1:\", \"Malignant\" if prediction_sample_1[0] == 1 else \"Benign\")"
      ]
    },
    {
      "cell_type": "markdown",
      "source": [
        "###### **Solution**"
      ],
      "metadata": {
        "id": "Rxbjgp2VfJPu"
      }
    },
    {
      "cell_type": "code",
      "source": [
        "sample_1_features = pd.DataFrame([[12.5, 18.2, 80.3, 490.2, 0.09, 0.08, 0.05, 0.03, 0.18, 0.06]], columns=X_train.columns)\n",
        "\n",
        "prediction_sample_1 = model.predict(sample_1_features)\n",
        "\n",
        "print(\"Predicted label for Sample 1:\", \"Malignant\" if prediction_sample_1[0] == 1 else \"Benign\")"
      ],
      "metadata": {
        "colab": {
          "base_uri": "https://localhost:8080/"
        },
        "outputId": "dbf70b80-43e8-44ed-ccf3-d95c257f73fe",
        "id": "dBy6ELnffJPu"
      },
      "execution_count": null,
      "outputs": [
        {
          "output_type": "stream",
          "name": "stdout",
          "text": [
            "Predicted label for Sample 1: Malignant\n"
          ]
        }
      ]
    },
    {
      "cell_type": "markdown",
      "metadata": {
        "id": "3fqNDBVcfJPu"
      },
      "source": [
        "##### **2. Predict the diagnosis of Sample 2**"
      ]
    },
    {
      "cell_type": "code",
      "execution_count": null,
      "metadata": {
        "id": "Y-WGCnEMfJPv"
      },
      "outputs": [],
      "source": [
        "sample_2_features = pd.DataFrame([[# COMPLETE THIS CODE\n",
        "\n",
        "prediction_sample_2 = model.predict(# COMPLETE THIS CODE\n",
        "\n",
        "print(\"Predicted label for Sample 2:\", \"Malignant\" if prediction_sample_1[0] == 1 else \"Benign\")"
      ]
    },
    {
      "cell_type": "markdown",
      "metadata": {
        "id": "qBHEAYLafJPv"
      },
      "source": [
        "###### **Solution**"
      ]
    },
    {
      "cell_type": "code",
      "execution_count": null,
      "metadata": {
        "tags": [],
        "outputId": "7d70289c-430c-4d35-e59b-7d82eb12590f",
        "colab": {
          "base_uri": "https://localhost:8080/"
        },
        "id": "V6qT4-ZrfJPv"
      },
      "outputs": [
        {
          "output_type": "stream",
          "name": "stdout",
          "text": [
            "Predicted label for Sample 2: Malignant\n"
          ]
        }
      ],
      "source": [
        "sample_2_features = pd.DataFrame([[14.3, 20.8, 92.6, 650.9, 0.1, 0.12, 0.09, 0.05, 0.2, 0.07]], columns=X_train.columns)\n",
        "\n",
        "prediction_sample_2 = model.predict(sample_2_features)\n",
        "\n",
        "print(\"Predicted label for Sample 2:\", \"Malignant\" if prediction_sample_2[0] == 1 else \"Benign\")"
      ]
    },
    {
      "cell_type": "markdown",
      "metadata": {
        "id": "gkXRnTVEnSHG"
      },
      "source": [
        "### **Part 5.3: Logistic Regression**\n",
        "\n",
        "\n",
        "---\n",
        "\n",
        "The Pima Indians Diabetes dataset is an essential collection of medical records related to diabetes diagnoses among women of Pima Indian heritage. It comprises various attributes, including the number of times pregnant, plasma glucose concentration, diastolic blood pressure, triceps skinfold thickness, and several others. The target variable (label) indicates whether an individual has diabetes.\n",
        "\n",
        "In Part 5.3, we will develop a Logistic Regression model to predict diabetes diagnoses based on these features. The primary objective is to classify new individuals as either having diabetes or not, based on the provided attribute values."
      ]
    },
    {
      "cell_type": "markdown",
      "metadata": {
        "id": "obpWexZhnSHT"
      },
      "source": [
        "#### **Step #1: Load in Data**\n",
        "\n",
        "**Run the code below to load the data.**"
      ]
    },
    {
      "cell_type": "code",
      "execution_count": null,
      "metadata": {
        "tags": [],
        "id": "4TNtHcwPnSHT"
      },
      "outputs": [],
      "source": [
        "url = \"https://raw.githubusercontent.com/jbrownlee/Datasets/master/pima-indians-diabetes.data.csv\"\n",
        "\n",
        "column_names = [\n",
        "    \"Number of times pregnant\",\n",
        "    \"Plasma glucose concentration\",\n",
        "    \"Diastolic blood pressure\",\n",
        "    \"Triceps skinfold thickness\",\n",
        "    \"2-Hour serum insulin\",\n",
        "    \"BMI\",\n",
        "    \"Diabetes pedigree function\",\n",
        "    \"Age\",\n",
        "    \"Class\"\n",
        "]\n",
        "\n",
        "df = pd.read_csv(url, names=column_names)"
      ]
    },
    {
      "cell_type": "markdown",
      "metadata": {
        "id": "dZOzjuQYnSHT"
      },
      "source": [
        "#### **Step #2: Choose your Variables**\n",
        "\n"
      ]
    },
    {
      "cell_type": "code",
      "execution_count": null,
      "metadata": {
        "id": "nQ1aruUcnSHT"
      },
      "outputs": [],
      "source": [
        "inputs = # COMPLETE THIS CODE\n",
        "output = # COMPLETE THIS CODE"
      ]
    },
    {
      "cell_type": "markdown",
      "metadata": {
        "id": "VwzkD_z7nSHT"
      },
      "source": [
        "##### **Solution**"
      ]
    },
    {
      "cell_type": "code",
      "execution_count": null,
      "metadata": {
        "tags": [],
        "id": "jxvQltxAnSHT"
      },
      "outputs": [],
      "source": [
        "inputs = df.drop('Class', axis=1)\n",
        "output = df['Class']"
      ]
    },
    {
      "cell_type": "markdown",
      "metadata": {
        "id": "lFhN2PG7nSHT"
      },
      "source": [
        "#### **Step #3: Split your Data**\n"
      ]
    },
    {
      "cell_type": "code",
      "execution_count": null,
      "metadata": {
        "tags": [],
        "id": "cgVOTNhunSHT"
      },
      "outputs": [],
      "source": [
        "X_train, X_test, y_train, y_test = # COMPLETE THIS CODE"
      ]
    },
    {
      "cell_type": "markdown",
      "source": [
        "##### **Solution**"
      ],
      "metadata": {
        "id": "kZ1zaVnwnSHT"
      }
    },
    {
      "cell_type": "code",
      "source": [
        "X_train, X_test, y_train, y_test = model_selection.train_test_split(inputs, output, test_size = 0.2, random_state = 42)"
      ],
      "metadata": {
        "id": "jSAqEeKXnSHU"
      },
      "execution_count": null,
      "outputs": []
    },
    {
      "cell_type": "markdown",
      "metadata": {
        "id": "R1mAbSPJnSHU"
      },
      "source": [
        "#### **Step #4: Import an ML Algorithm**\n",
        "\n",
        "\n"
      ]
    },
    {
      "cell_type": "code",
      "source": [],
      "metadata": {
        "id": "T6k09y0RnSHU"
      },
      "execution_count": null,
      "outputs": []
    },
    {
      "cell_type": "markdown",
      "source": [
        "##### **Solution**"
      ],
      "metadata": {
        "id": "BclM5STrnSHU"
      }
    },
    {
      "cell_type": "code",
      "execution_count": null,
      "metadata": {
        "tags": [],
        "id": "4-Lce8f3nSHU"
      },
      "outputs": [],
      "source": [
        "from sklearn.linear_model import LogisticRegression"
      ]
    },
    {
      "cell_type": "markdown",
      "metadata": {
        "id": "UwQlk0rEnSHU"
      },
      "source": [
        "#### **Step #5: Initialize the Model**\n"
      ]
    },
    {
      "cell_type": "code",
      "execution_count": null,
      "metadata": {
        "id": "tzfvA-wwnSHU"
      },
      "outputs": [],
      "source": [
        "model = # COMPLETE THIS LINE"
      ]
    },
    {
      "cell_type": "markdown",
      "metadata": {
        "id": "wpHtKEEpnSHU"
      },
      "source": [
        "##### **Solution**"
      ]
    },
    {
      "cell_type": "code",
      "execution_count": null,
      "metadata": {
        "tags": [],
        "id": "BroU76wRnSHU"
      },
      "outputs": [],
      "source": [
        "model = LogisticRegression()"
      ]
    },
    {
      "cell_type": "markdown",
      "metadata": {
        "id": "feAKw7nQnSHU"
      },
      "source": [
        "#### **Step #6: Fit and Test**\n"
      ]
    },
    {
      "cell_type": "code",
      "execution_count": null,
      "metadata": {
        "id": "8cgiV-7XnSHU"
      },
      "outputs": [],
      "source": [
        "model.fit(X_train, # COMPLETE THIS LINE"
      ]
    },
    {
      "cell_type": "code",
      "source": [
        "predictions = # COMPLETE THIS LINE"
      ],
      "metadata": {
        "id": "hgsNstQxnSHU"
      },
      "execution_count": null,
      "outputs": []
    },
    {
      "cell_type": "markdown",
      "metadata": {
        "id": "IFDp2UHQnSHU"
      },
      "source": [
        "##### **Solution**"
      ]
    },
    {
      "cell_type": "code",
      "execution_count": null,
      "metadata": {
        "tags": [],
        "outputId": "21e0559d-a126-4998-b4a3-78c8fc09ae27",
        "colab": {
          "base_uri": "https://localhost:8080/",
          "height": 74
        },
        "id": "n49QxvLFnSHV"
      },
      "outputs": [
        {
          "output_type": "execute_result",
          "data": {
            "text/plain": [
              "LogisticRegression()"
            ],
            "text/html": [
              "<style>#sk-container-id-9 {color: black;background-color: white;}#sk-container-id-9 pre{padding: 0;}#sk-container-id-9 div.sk-toggleable {background-color: white;}#sk-container-id-9 label.sk-toggleable__label {cursor: pointer;display: block;width: 100%;margin-bottom: 0;padding: 0.3em;box-sizing: border-box;text-align: center;}#sk-container-id-9 label.sk-toggleable__label-arrow:before {content: \"▸\";float: left;margin-right: 0.25em;color: #696969;}#sk-container-id-9 label.sk-toggleable__label-arrow:hover:before {color: black;}#sk-container-id-9 div.sk-estimator:hover label.sk-toggleable__label-arrow:before {color: black;}#sk-container-id-9 div.sk-toggleable__content {max-height: 0;max-width: 0;overflow: hidden;text-align: left;background-color: #f0f8ff;}#sk-container-id-9 div.sk-toggleable__content pre {margin: 0.2em;color: black;border-radius: 0.25em;background-color: #f0f8ff;}#sk-container-id-9 input.sk-toggleable__control:checked~div.sk-toggleable__content {max-height: 200px;max-width: 100%;overflow: auto;}#sk-container-id-9 input.sk-toggleable__control:checked~label.sk-toggleable__label-arrow:before {content: \"▾\";}#sk-container-id-9 div.sk-estimator input.sk-toggleable__control:checked~label.sk-toggleable__label {background-color: #d4ebff;}#sk-container-id-9 div.sk-label input.sk-toggleable__control:checked~label.sk-toggleable__label {background-color: #d4ebff;}#sk-container-id-9 input.sk-hidden--visually {border: 0;clip: rect(1px 1px 1px 1px);clip: rect(1px, 1px, 1px, 1px);height: 1px;margin: -1px;overflow: hidden;padding: 0;position: absolute;width: 1px;}#sk-container-id-9 div.sk-estimator {font-family: monospace;background-color: #f0f8ff;border: 1px dotted black;border-radius: 0.25em;box-sizing: border-box;margin-bottom: 0.5em;}#sk-container-id-9 div.sk-estimator:hover {background-color: #d4ebff;}#sk-container-id-9 div.sk-parallel-item::after {content: \"\";width: 100%;border-bottom: 1px solid gray;flex-grow: 1;}#sk-container-id-9 div.sk-label:hover label.sk-toggleable__label {background-color: #d4ebff;}#sk-container-id-9 div.sk-serial::before {content: \"\";position: absolute;border-left: 1px solid gray;box-sizing: border-box;top: 0;bottom: 0;left: 50%;z-index: 0;}#sk-container-id-9 div.sk-serial {display: flex;flex-direction: column;align-items: center;background-color: white;padding-right: 0.2em;padding-left: 0.2em;position: relative;}#sk-container-id-9 div.sk-item {position: relative;z-index: 1;}#sk-container-id-9 div.sk-parallel {display: flex;align-items: stretch;justify-content: center;background-color: white;position: relative;}#sk-container-id-9 div.sk-item::before, #sk-container-id-9 div.sk-parallel-item::before {content: \"\";position: absolute;border-left: 1px solid gray;box-sizing: border-box;top: 0;bottom: 0;left: 50%;z-index: -1;}#sk-container-id-9 div.sk-parallel-item {display: flex;flex-direction: column;z-index: 1;position: relative;background-color: white;}#sk-container-id-9 div.sk-parallel-item:first-child::after {align-self: flex-end;width: 50%;}#sk-container-id-9 div.sk-parallel-item:last-child::after {align-self: flex-start;width: 50%;}#sk-container-id-9 div.sk-parallel-item:only-child::after {width: 0;}#sk-container-id-9 div.sk-dashed-wrapped {border: 1px dashed gray;margin: 0 0.4em 0.5em 0.4em;box-sizing: border-box;padding-bottom: 0.4em;background-color: white;}#sk-container-id-9 div.sk-label label {font-family: monospace;font-weight: bold;display: inline-block;line-height: 1.2em;}#sk-container-id-9 div.sk-label-container {text-align: center;}#sk-container-id-9 div.sk-container {/* jupyter's `normalize.less` sets `[hidden] { display: none; }` but bootstrap.min.css set `[hidden] { display: none !important; }` so we also need the `!important` here to be able to override the default hidden behavior on the sphinx rendered scikit-learn.org. See: https://github.com/scikit-learn/scikit-learn/issues/21755 */display: inline-block !important;position: relative;}#sk-container-id-9 div.sk-text-repr-fallback {display: none;}</style><div id=\"sk-container-id-9\" class=\"sk-top-container\"><div class=\"sk-text-repr-fallback\"><pre>LogisticRegression()</pre><b>In a Jupyter environment, please rerun this cell to show the HTML representation or trust the notebook. <br />On GitHub, the HTML representation is unable to render, please try loading this page with nbviewer.org.</b></div><div class=\"sk-container\" hidden><div class=\"sk-item\"><div class=\"sk-estimator sk-toggleable\"><input class=\"sk-toggleable__control sk-hidden--visually\" id=\"sk-estimator-id-9\" type=\"checkbox\" checked><label for=\"sk-estimator-id-9\" class=\"sk-toggleable__label sk-toggleable__label-arrow\">LogisticRegression</label><div class=\"sk-toggleable__content\"><pre>LogisticRegression()</pre></div></div></div></div></div>"
            ]
          },
          "metadata": {},
          "execution_count": 105
        }
      ],
      "source": [
        "model.fit(X_train, y_train)"
      ]
    },
    {
      "cell_type": "code",
      "source": [
        "predictions = model.predict(X_test)"
      ],
      "metadata": {
        "id": "o4KEbitfnSHV"
      },
      "execution_count": null,
      "outputs": []
    },
    {
      "cell_type": "markdown",
      "metadata": {
        "id": "uoTw3CNknSHV"
      },
      "source": [
        "#### **Step #7: Evaluate**\n",
        "\n",
        "Let's evaluate this model and put it to the test! Specifically, use the accuracy score to get a simple overall picture of your model's performance, and the confusion matrix to get a more nuanced view of where the model is performing the best and worst\n"
      ]
    },
    {
      "cell_type": "code",
      "source": [
        "report = classification_report(# COMPLETE THIS LINE\n",
        "print('Classification report ' + str(report))"
      ],
      "metadata": {
        "id": "5mAr35L5nSHV"
      },
      "execution_count": null,
      "outputs": []
    },
    {
      "cell_type": "code",
      "source": [
        "cm = confusion_matrix(# COMPLETE THIS CODE\n",
        "disp = ConfusionMatrixDisplay(# COMPLETE THIS CODE\n",
        "disp.plot()\n",
        "plt.show()"
      ],
      "metadata": {
        "id": "Ns0bP7uFnSHV"
      },
      "execution_count": null,
      "outputs": []
    },
    {
      "cell_type": "markdown",
      "metadata": {
        "id": "ZwS6A4S2nSHV"
      },
      "source": [
        "###### **Solution**"
      ]
    },
    {
      "cell_type": "code",
      "execution_count": null,
      "metadata": {
        "tags": [],
        "outputId": "bc6e684c-f401-44a0-dcef-6e5fa838c16b",
        "colab": {
          "base_uri": "https://localhost:8080/"
        },
        "id": "9RD41SYDnSHV"
      },
      "outputs": [
        {
          "output_type": "stream",
          "name": "stdout",
          "text": [
            "Classification report               precision    recall  f1-score   support\n",
            "\n",
            "           0       0.81      0.79      0.80        99\n",
            "           1       0.64      0.67      0.65        55\n",
            "\n",
            "    accuracy                           0.75       154\n",
            "   macro avg       0.73      0.73      0.73       154\n",
            "weighted avg       0.75      0.75      0.75       154\n",
            "\n"
          ]
        }
      ],
      "source": [
        "report = classification_report(y_test,predictions)\n",
        "print('Classification report ' + str(report))"
      ]
    },
    {
      "cell_type": "code",
      "source": [
        "cm = confusion_matrix(y_test, predictions, labels=model.classes_)\n",
        "disp = ConfusionMatrixDisplay(confusion_matrix=cm, display_labels=model.classes_)\n",
        "disp.plot()\n",
        "plt.show()"
      ],
      "metadata": {
        "colab": {
          "base_uri": "https://localhost:8080/",
          "height": 449
        },
        "outputId": "dd2905ba-8d07-4941-cc3f-5f5052bbdebd",
        "id": "uFPszd7inSHV"
      },
      "execution_count": null,
      "outputs": [
        {
          "output_type": "display_data",
          "data": {
            "text/plain": [
              "<Figure size 640x480 with 2 Axes>"
            ],
            "image/png": "[encoded data removed]"
          },
          "metadata": {}
        }
      ]
    },
    {
      "cell_type": "markdown",
      "metadata": {
        "id": "F-4xbYWTnSHV"
      },
      "source": [
        "#### **Step #8: Apply your Model**\n",
        "\n",
        "You are provided with data from two new Pima Indian individuals, and you want to assess the predicted class labels (Diabetes or No Diabetes) for each of them. The goal is to determine whether either individual is likely to have diabetes based on the model's predictions.\n",
        "\n",
        "Here is the data for the two individuals:\n",
        "\n",
        "**Individual 1:**\n",
        "\n",
        "* Number of times pregnant: 2\n",
        "* Plasma glucose concentration: 85\n",
        "* Diastolic blood pressure: 66\n",
        "* Triceps skinfold thickness: 29\n",
        "* 2-Hour serum insulin: 0\n",
        "* BMI: 26.6\n",
        "* Diabetes pedigree function: 0.351\n",
        "* Age: 31\n",
        "\n",
        "**Individual 2:**\n",
        "\n",
        "* Number of times pregnant: 8\n",
        "* Plasma glucose concentration: 183\n",
        "* Diastolic blood pressure: 64\n",
        "* Triceps skinfold thickness: 0\n",
        "* 2-Hour serum insulin: 0\n",
        "* BMI: 23.3\n",
        "* Diabetes pedigree function: 0.672\n",
        "* Age: 32\n",
        "\n",
        "You will use your logistic regression model to predict the class labels for these individuals and assess their relative likelihood of having diabetes based on the predictions."
      ]
    },
    {
      "cell_type": "markdown",
      "metadata": {
        "id": "wp9LzzmCnSHV"
      },
      "source": [
        "##### **1. Predict the diagnoses for Individual 1**\n"
      ]
    },
    {
      "cell_type": "code",
      "execution_count": null,
      "metadata": {
        "tags": [],
        "id": "LBd94pe5nSHV"
      },
      "outputs": [],
      "source": [
        "individual_1_features = pd.DataFrame([[# COMPLETE THIS CODE\n",
        "\n",
        "prediction_individual_1 = model.predict(# COMPLETE THIS CODE\n",
        "\n",
        "print(\"Predicted label for Individual 1:\", \"Diabetes\" if prediction_individual_1[0] == 1 else \"No Diabetes\")"
      ]
    },
    {
      "cell_type": "markdown",
      "source": [
        "###### **Solution**"
      ],
      "metadata": {
        "id": "kdVh0KjdnSHW"
      }
    },
    {
      "cell_type": "code",
      "source": [
        "individual_1_features = pd.DataFrame([[2, 85, 66, 29, 0, 26.6, 0.351, 31]], columns=inputs.columns)\n",
        "\n",
        "prediction_individual_1 = model.predict(individual_1_features)\n",
        "\n",
        "print(\"Predicted label for Individual 1:\", \"Diabetes\" if prediction_individual_1[0] == 1 else \"No Diabetes\")"
      ],
      "metadata": {
        "colab": {
          "base_uri": "https://localhost:8080/"
        },
        "outputId": "568ee872-30dd-40bf-c988-e7ecaf5774af",
        "id": "mlR1cCWTnSHX"
      },
      "execution_count": null,
      "outputs": [
        {
          "output_type": "stream",
          "name": "stdout",
          "text": [
            "Predicted label for Individual 1: No Diabetes\n"
          ]
        }
      ]
    },
    {
      "cell_type": "markdown",
      "metadata": {
        "id": "h6x1HKs0nSHX"
      },
      "source": [
        "##### **2. Predict the diagnosis of Sample 2**"
      ]
    },
    {
      "cell_type": "code",
      "execution_count": null,
      "metadata": {
        "id": "N6Rm2L2GnSHX"
      },
      "outputs": [],
      "source": [
        "individual_2_features = pd.DataFrame([[# COMPLETE THIS CODE\n",
        "\n",
        "prediction_individual_2 = model.predict(# COMPLETE THIS CODE\n",
        "\n",
        "print(\"Predicted label for Individual 2:\", \"Diabetes\" if prediction_individual_2[0] == 1 else \"No Diabetes\")"
      ]
    },
    {
      "cell_type": "markdown",
      "metadata": {
        "id": "97GBdNnunSHX"
      },
      "source": [
        "###### **Solution**"
      ]
    },
    {
      "cell_type": "code",
      "execution_count": null,
      "metadata": {
        "tags": [],
        "outputId": "2a9df856-8a4a-4009-8225-4d26415b9e7b",
        "colab": {
          "base_uri": "https://localhost:8080/"
        },
        "id": "Q_WbdhM-nSHX"
      },
      "outputs": [
        {
          "output_type": "stream",
          "name": "stdout",
          "text": [
            "Predicted label for Individual 2: Diabetes\n"
          ]
        }
      ],
      "source": [
        "individual_2_features = pd.DataFrame([[8, 183, 64, 0, 0, 23.3, 0.672, 32]], columns=inputs.columns)\n",
        "\n",
        "prediction_individual_2 = model.predict(individual_2_features)\n",
        "\n",
        "print(\"Predicted label for Individual 2:\", \"Diabetes\" if prediction_individual_2[0] == 1 else \"No Diabetes\")"
      ]
    },
    {
      "cell_type": "markdown",
      "source": [
        "---\n",
        "\n",
        "# End of Notebook\n",
        "\n",
        "© 2023 The Coding School, All rights reserved"
      ],
      "metadata": {
        "id": "75g0yrIewirj"
      }
    }
  ]
}