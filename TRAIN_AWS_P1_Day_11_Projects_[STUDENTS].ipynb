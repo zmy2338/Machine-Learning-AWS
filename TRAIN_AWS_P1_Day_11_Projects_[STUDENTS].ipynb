{
  "nbformat": 4,
  "nbformat_minor": 0,
  "metadata": {
    "colab": {
      "provenance": [],
      "include_colab_link": true
    },
    "kernelspec": {
      "name": "python3",
      "display_name": "Python 3"
    },
    "language_info": {
      "name": "python"
    }
  },
  "cells": [
    {
      "cell_type": "markdown",
      "metadata": {
        "id": "view-in-github",
        "colab_type": "text"
      },
      "source": [
        "<a href=\"https://colab.research.google.com/github/zmy2338/Machine-Learning-AWS/blob/main/TRAIN_AWS_P1_Day_11_Projects_%5BSTUDENTS%5D.ipynb\" target=\"_parent\"><img src=\"https://colab.research.google.com/assets/colab-badge.svg\" alt=\"Open In Colab\"/></a>"
      ]
    },
    {
      "cell_type": "markdown",
      "source": [
        "# **Day #11 Project: Analysis of Palmer Archipelago (Antarctica) Penguins**\n",
        "---\n",
        "\n",
        "### **Description** \n",
        "In this notebook, you will apply everything you have learned to process, explore, and model a dataset collected on penguin species in Antarctica using pandas, matplotlib, and sklearn as well as advanced techniques such as specialized encodings and K-Folds Cross Validation.\n",
        "\n",
        "<br>\n",
        "\n",
        "### **Overview**\n",
        "You will analyze a dataset containing information on the Palmer Archipelago Penguins in Antarctica. In particular, you will wrangle and explore this dataset. You will then train ML models to classify penguins by species and predict their mass. This is real data collected by biologists as part of the [Long Term Ecological Research Network](https://lternet.edu/).\n",
        "\n",
        "*Thank you to Dr. Gorman, Palmer Station LTER, the LTER Network, and Marty Downs—Director, LTER Network Office.*\n",
        "\n",
        "<br>\n",
        "\n",
        "**Codebook:**\n",
        "\n",
        "Below is a list of variables in this dataset. Unless you are a biologist familiar with penguins, you will likely not understand the meaning of every single variable. It is typical for ML practitioners to go into a project unaware of the full context within which their data lives. As you go through this Part, consider if it would be helpful to learn more about any information you are unfamiliar with.\n",
        "* `studyName`: name of the specific study for which the data was collected\n",
        "* `Sample Number`: unique number identifying each data point\n",
        "* `Species`: the species of each\n",
        "*\t`Region`: the region where this data was collected\n",
        "* `Island`: the island in this region where this data was collected\n",
        "* `Stage`: the stage of life that the penguin was in that was sampled\n",
        "* `Individual_ID`: unique label identifying each penguin\n",
        "* `Clutch Completion`: whether or not the nest had a \"full clutch\", meaning 2 eggs\n",
        "* `Date Egg`: date of data collection\n",
        "* `Culmen_Length (mm)`: length of the dorsal ridge of a bird's bill\n",
        "* `Culmen_Depth (mm)`: depth of the dorsal ridge of a bird's bill\n",
        "* `Flipper Length (mm)`: length of the flipper\n",
        "* `Body Mass (g)`: mass of the penguin\n",
        "* `Sex`: the sex of the penguin, labeled as MALE or FEMALE\n",
        "* `Delta 15 N (o/oo)`: ratio of stable isotopes 15N:14N\n",
        "* `Delta 13 C (o/oo)`: ratio of stable isotopes 13C:12C\n",
        "* `Comments`: any extra information provided by the researchers\n",
        "\n",
        "<br>\n",
        "\n",
        "### **Key questions to answer:**\n",
        "1. What features most strongly predict a penguin's body mass?\n",
        "2. What features most strongly predict a penguin's island of origin?\n",
        "3. How do KNN and Logistic Regression compare when both used?\n",
        "\n",
        "<br>\n",
        "\n",
        "### **Goals:**\n",
        "By the end of these projects, you will have:\n",
        "1. Visualized relationships between various variables in the data.\n",
        "2. Visualized the behavior of variables across features (e.g. grouped bar graphs, etc.).\n",
        "3. Implemented linear regression, KNN, and logistic regression models tuned to best fit this dataset for a variety of tasks.\n",
        "\n",
        "<br>\n",
        "\n",
        "### **Lab Structure**\n",
        "**Part 1**:  [Data Exploration, Wrangling, and Visualization](#p1)\n",
        "\n",
        "**Part 2**:  [Predicting Body Mass](#p2)\n",
        "\n",
        "> **Part 2.1**:  [Using All Numerical Features and Label Encodings](#p2.1)\n",
        "\n",
        "> **Part 2.2**:  [Using All Numerical Features and Dummy Variable Encodings](#p2.2)\n",
        "\n",
        "> **Part 2.3**:  [Using the 4 Best Numerical Features and the Best Encodings Where Relevant](#p2.3)\n",
        "\n",
        "> **Part 2**:  [Wrapup](#p2w)\n",
        "\n",
        "**Part 3**:  [Predicting Island of Origin](#p3)\n",
        "\n",
        "> **Part 3.1**:  [Using All Numerical Features and Label Encodings](#p3.1)\n",
        "\n",
        "> **Part 3.2**:  [Using All Numerical Features and Dummy Variable Encodings](#p3.2)\n",
        "\n",
        "> **Part 3.3**:  [Using the 4 Best Numerical Features and the Best Encodings Where Relevant](#p3.3)\n",
        "\n",
        "> **Part 3**:  [Wrapup](#p3w)\n",
        "\n",
        "\n",
        "\n",
        "</br>\n",
        "\n",
        "### **Cheat Sheets**\n",
        "\n",
        "* [pandas Commands](https://docs.google.com/document/d/1v-MZCgoZJGRcK-69OOu5fYhm58x2G0JUWyi2H53j8Ls/edit)\n",
        "\n",
        "* [Feature Engineering and Selection with pandas](https://docs.google.com/document/d/191CH-X6zf4lESuThrdIGH6ovzpHK6nb9NRlqSIl30Ig/edit?usp=sharing)\n",
        "\n",
        "* [Standardization, Encoding, and K-Folds with sklearn](https://docs.google.com/document/d/1wu_J33O9PooGahfrnyyN2-Mwza869Ab8GnzDypqjTaw/edit?usp=sharing)\n",
        "\n",
        "* [Data Visualizations with matplotlib](https://docs.google.com/document/d/1EC3tTjRRL5ruNjc1n8UmJNGvN82_S-7rx7LLkMvv1Qk/edit?usp=share_link)\n",
        "\n",
        "* [Linear Regression with sklearn](https://docs.google.com/document/d/1oucIbrFgNu6rYbHqCwqKh_XWM8CXreyrPdtgUJwKyk0/edit?usp=sharing)\n",
        "\n",
        "* [K-Nearest Neighbors with sklearn](https://docs.google.com/document/d/1fCZ1Gp9eM-Oxs_qb6cOiyPpwkqz155L0GMJl2oxQfXo/edit?usp=share_link)\n",
        "\n",
        "* [Logistic Regression with sklearn](https://docs.google.com/document/d/1rLTuWGgx9E-K1pgWYxUF4B1ExKKxt6MVSkgEKoUbhuE/edit?usp=sharing)\n",
        "\n",
        "\n",
        "<br>\n",
        "\n",
        "**Before starting, run the code below to import all necessary functions, libraries, and data.**"
      ],
      "metadata": {
        "id": "8Np2oa_ZijMe"
      }
    },
    {
      "cell_type": "code",
      "source": [
        "#!pip install scikit-learn\n",
        "\n",
        "import warnings\n",
        "warnings.filterwarnings('ignore')\n",
        "\n",
        "import numpy as np\n",
        "import pandas as pd\n",
        "import matplotlib.pyplot as plt\n",
        "\n",
        "from sklearn.preprocessing import StandardScaler, OneHotEncoder\n",
        "from sklearn.feature_selection import SelectKBest\n",
        "from sklearn.model_selection import train_test_split, KFold\n",
        "from sklearn.metrics import *\n",
        "\n",
        "from sklearn.linear_model import LogisticRegression, LinearRegression\n",
        "from sklearn.neighbors import KNeighborsClassifier\n",
        "\n",
        "\n",
        "\n",
        "url = 'https://docs.google.com/spreadsheets/d/e/2PACX-1vRt7krGK0b_0oRATwhWaVDxyKt2jzOQnoP7JaNmGrMgVcbXDpoyxhbXFsF1XV4GCcU1x9e-3i7-ab4p/pub?gid=828946676&single=true&output=csv'\n",
        "penguin_df = pd.read_csv(url)"
      ],
      "metadata": {
        "id": "aHMiTIsAD5Mc"
      },
      "execution_count": null,
      "outputs": []
    },
    {
      "cell_type": "markdown",
      "metadata": {
        "id": "PW6EDtnXdczv"
      },
      "source": [
        "<a name=\"p1\"></a>\n",
        "\n",
        "---\n",
        "## **Part 1: Data Exploration, Wrangling, and Visualization**\n",
        "---\n",
        "\n",
        "First, you need to explore and wrangle this dataset."
      ]
    },
    {
      "cell_type": "markdown",
      "source": [
        "### **Problem #1**\n",
        "---\n",
        "\n",
        "Using pandas functions, look at the first few rows of data."
      ],
      "metadata": {
        "id": "NhuunxzY8Sxx"
      }
    },
    {
      "cell_type": "code",
      "source": [],
      "metadata": {
        "id": "g8mizYoytew8"
      },
      "execution_count": null,
      "outputs": []
    },
    {
      "cell_type": "markdown",
      "source": [
        "### **Problem #2**\n",
        "---\n",
        "\n",
        "This data currently has no consistent naming convention for columns, which is very bad practice. So, rename each column to be of the style, `'Column Name'` or `'Column Name (unit)`' if the variable has an associated unit such as `'mm'`, where each word is separated by a space (not an underscore, slash, or anything else) and starts uppercase. Furthermore, make sure all words are spelled correctly.\n",
        "\n",
        "<br>\n",
        "\n",
        "**Hint**: It may make you life easier to quickly print the current column names here using the `.columns` attribute and then copy the names that need to be updated."
      ],
      "metadata": {
        "id": "SN4uAbT-0GLi"
      }
    },
    {
      "cell_type": "code",
      "source": [],
      "metadata": {
        "id": "T1dokwjC0GLj"
      },
      "execution_count": null,
      "outputs": []
    },
    {
      "cell_type": "markdown",
      "source": [
        "### **Problem #3**\n",
        "---\n",
        "\n",
        "Drop any duplicate rows."
      ],
      "metadata": {
        "id": "f5ZW7Yo_ypkD"
      }
    },
    {
      "cell_type": "code",
      "source": [],
      "metadata": {
        "id": "t3srgtUjypkE"
      },
      "execution_count": null,
      "outputs": []
    },
    {
      "cell_type": "markdown",
      "source": [
        "### **Problem #4**\n",
        "---\n",
        "\n",
        "Determine the datatypes and number of non-null values in each column."
      ],
      "metadata": {
        "id": "9k5LjqCxwpHa"
      }
    },
    {
      "cell_type": "code",
      "source": [],
      "metadata": {
        "id": "D9tg8YBiwpHb"
      },
      "execution_count": null,
      "outputs": []
    },
    {
      "cell_type": "markdown",
      "source": [
        "### **Problem #5**\n",
        "---\n",
        "\n",
        "You should have seen from Problem #4 that there are some data points containing null values. Decide to either drop or impute these so that there are no remaining null values.\n",
        "\n",
        "<br>\n",
        "\n",
        "For `Comments` in particular, there are only values for the data points where a researcher specifically added a comment. To make this clearer, fill out any null value with the string `'no comments`'."
      ],
      "metadata": {
        "id": "eIcT3HdYy0Tz"
      }
    },
    {
      "cell_type": "code",
      "source": [
        "# COMPLETE THIS CODE\n",
        "\n",
        "penguin_df.info()"
      ],
      "metadata": {
        "id": "X463Ho8By0Tz"
      },
      "execution_count": null,
      "outputs": []
    },
    {
      "cell_type": "markdown",
      "source": [
        "### **Problem #6**\n",
        "---\n",
        "\n",
        "Using pandas functions, determine the mean (average) and std (spread/standard deviation) of the numerical variables.\n",
        "\n",
        "<br>\n",
        "\n",
        "**Consider the results and decide if you think the data should be standardized before modeling.**"
      ],
      "metadata": {
        "id": "1pSRy496-WVf"
      }
    },
    {
      "cell_type": "code",
      "source": [],
      "metadata": {
        "id": "X-GpnCl0tkcO"
      },
      "execution_count": null,
      "outputs": []
    },
    {
      "cell_type": "markdown",
      "source": [
        "### **Problem #7**\n",
        "---\n",
        "\n",
        "Convert the following columns from string to numerical values:\n",
        "* `Sex` from `'FEMALE'` and `'MALE'` to 0 and 1 respectively.\n",
        "* `Clutch Completion` from `'No'` and '`Yes'` to 0 and 1 respectively.\n",
        "\n",
        "NOTE: recheck for NAs after converting, and if necessary, handle accordingly (refer to problem #5)"
      ],
      "metadata": {
        "id": "XsW-1_BgSxA_"
      }
    },
    {
      "cell_type": "code",
      "source": [
        "# Sex"
      ],
      "metadata": {
        "id": "VFLVW-JuSxBA"
      },
      "execution_count": null,
      "outputs": []
    },
    {
      "cell_type": "code",
      "source": [
        "# Clutch Completion"
      ],
      "metadata": {
        "id": "RvnETmRDUPs-"
      },
      "execution_count": null,
      "outputs": []
    },
    {
      "cell_type": "markdown",
      "source": [
        "### **Problem #8**\n",
        "---\n",
        "\n",
        "Using pandas functions, determine all the regions, islands, species, and stages that were included in this dataset."
      ],
      "metadata": {
        "id": "tWCgavI9-q_b"
      }
    },
    {
      "cell_type": "code",
      "source": [
        "# Region"
      ],
      "metadata": {
        "id": "2pNMjL4_t-Bh"
      },
      "execution_count": null,
      "outputs": []
    },
    {
      "cell_type": "code",
      "source": [
        "# Island"
      ],
      "metadata": {
        "id": "RTw0b7D4wulf"
      },
      "execution_count": null,
      "outputs": []
    },
    {
      "cell_type": "code",
      "source": [
        "# Species"
      ],
      "metadata": {
        "id": "szaurUy2OdPT"
      },
      "execution_count": null,
      "outputs": []
    },
    {
      "cell_type": "code",
      "source": [
        "# Stage"
      ],
      "metadata": {
        "id": "nP751nEoOdIB"
      },
      "execution_count": null,
      "outputs": []
    },
    {
      "cell_type": "markdown",
      "source": [
        "### **Problem #9**\n",
        "---\n",
        "\n",
        "Based on the results above, for each column either:\n",
        "* Encode it if it seems to offer valuable information to distinguish different data points creating both label encoding and dummy variable encoding (within the original dataset). You will try using both encodings later on.\n",
        "* Drop the column if not."
      ],
      "metadata": {
        "id": "UeiXHu1gNoRw"
      }
    },
    {
      "cell_type": "code",
      "source": [
        "# Region"
      ],
      "metadata": {
        "id": "Tj1T4bisOg_H"
      },
      "execution_count": null,
      "outputs": []
    },
    {
      "cell_type": "code",
      "source": [
        "# Island"
      ],
      "metadata": {
        "id": "IgeR6jzfwyex"
      },
      "execution_count": null,
      "outputs": []
    },
    {
      "cell_type": "code",
      "source": [
        "# Species"
      ],
      "metadata": {
        "id": "27Qi8NTyOg_I"
      },
      "execution_count": null,
      "outputs": []
    },
    {
      "cell_type": "code",
      "source": [
        "# Stage"
      ],
      "metadata": {
        "id": "hVYNmH6gOg_I"
      },
      "execution_count": null,
      "outputs": []
    },
    {
      "cell_type": "markdown",
      "source": [
        "### **Problem #10**\n",
        "---\n",
        "\n",
        "The columns listed below are purely human labels for organizing their data collection, but have nothing to do with the biological samples they collected. To avoid our models picking up on patterns that aren't there, let's drop these columns:\n",
        "* `Study Name`\n",
        "* `Sample Number`\n",
        "* `Individual ID`\n",
        "* `Date Egg`"
      ],
      "metadata": {
        "id": "bQ5ezo1eTPom"
      }
    },
    {
      "cell_type": "code",
      "source": [],
      "metadata": {
        "id": "xgLyUDPPTiQp"
      },
      "execution_count": null,
      "outputs": []
    },
    {
      "cell_type": "markdown",
      "source": [
        "### **Problem #11**\n",
        "---\n",
        "\n",
        "Create separate scatterplots for each of the following relationships:\n",
        "\n",
        "1. `Flipper Length (mm)` and `Body Mass (g)` with each `Sex` colored differently.\n",
        "2. `Culmen Depth (mm)` and `Body Mass (g)` with each `Sex` colored differently.\n",
        "3. `Culmen Depth (mm)` and `Body Mass (g)` with each `Species` colored differently.\n",
        "4. `Culmen Length (mm)` and `Body Mass (g)` with each `Species` colored differently.\n",
        "5. `Culmen Length (mm)` and `Body Mass (g)` with each `Island` colored differently.\n",
        "\n",
        "<br>\n",
        "\n",
        "**Make sure to include a meaningful title, x label, y label, and legend for all plots.**"
      ],
      "metadata": {
        "id": "Fz6fC2WfQek4"
      }
    },
    {
      "cell_type": "markdown",
      "source": [
        "#### **1. `Flipper Length (mm)` and `Body Mass (g)` with each `Sex` colored differently.**"
      ],
      "metadata": {
        "id": "x9dkj-DoVaap"
      }
    },
    {
      "cell_type": "code",
      "source": [],
      "metadata": {
        "id": "VU1Uy414UpYI"
      },
      "execution_count": null,
      "outputs": []
    },
    {
      "cell_type": "markdown",
      "source": [
        "#### **2. `Culmen Depth (mm)` and `Body Mass (g)` with each `Sex` colored differently.**"
      ],
      "metadata": {
        "id": "SCIezB4FV2Fn"
      }
    },
    {
      "cell_type": "code",
      "source": [],
      "metadata": {
        "id": "7RI3jqWEV2Fo"
      },
      "execution_count": null,
      "outputs": []
    },
    {
      "cell_type": "markdown",
      "source": [
        "#### **3. `Culmen Depth (mm)` and `Body Mass (g)` with each `Species` colored differently.**"
      ],
      "metadata": {
        "id": "piCXMk_NWDhe"
      }
    },
    {
      "cell_type": "code",
      "source": [],
      "metadata": {
        "id": "GARBmLqhWDho"
      },
      "execution_count": null,
      "outputs": []
    },
    {
      "cell_type": "markdown",
      "source": [
        "#### **4. `Culmen Length (mm)` and `Body Mass (g)` with each `Species` colored differently.**"
      ],
      "metadata": {
        "id": "l_exBliVWsdZ"
      }
    },
    {
      "cell_type": "code",
      "source": [],
      "metadata": {
        "id": "vaH8hi7vWsdj"
      },
      "execution_count": null,
      "outputs": []
    },
    {
      "cell_type": "markdown",
      "source": [
        "#### **5. `Culmen Length (mm)` and `Body Mass (g)` with each `Island` colored differently.**"
      ],
      "metadata": {
        "id": "Jgzq6ljdW4Fi"
      }
    },
    {
      "cell_type": "code",
      "source": [],
      "metadata": {
        "id": "LRVI337FW4Fi"
      },
      "execution_count": null,
      "outputs": []
    },
    {
      "cell_type": "markdown",
      "source": [
        "### **Problem #12**\n",
        "---\n",
        "\n",
        "Create either 3 bar graphs or one grouped bar graph to show how the following variables are distributed across species:\n",
        "* Average `Culmen Depth (mm)`\n",
        "* Average `Culmen Length (mm)`\n",
        "* Average `Flipper Length (mm)`\n",
        "\n",
        "<br>\n",
        "\n",
        "You will need to do this in two parts:\n",
        "1. Calculate the average of each variable by species.\n",
        "2. Plot these averages."
      ],
      "metadata": {
        "id": "CVSntEUQQr82"
      }
    },
    {
      "cell_type": "markdown",
      "source": [
        "#### **1. Calculate the average of each variable by species.**\n",
        "\n",
        "**Hint**: One approach would be to use `groupby(...)` and calculate the averages."
      ],
      "metadata": {
        "id": "f222pHM2YRob"
      }
    },
    {
      "cell_type": "code",
      "source": [],
      "metadata": {
        "id": "s8cklHiGYcQg"
      },
      "execution_count": null,
      "outputs": []
    },
    {
      "cell_type": "markdown",
      "source": [
        "#### **2. Plot these averages.**"
      ],
      "metadata": {
        "id": "JoIu5kROYZAj"
      }
    },
    {
      "cell_type": "code",
      "source": [],
      "metadata": {
        "id": "3yTIOo-IdEwd"
      },
      "execution_count": null,
      "outputs": []
    },
    {
      "cell_type": "markdown",
      "metadata": {
        "id": "tR2_M-tIYyfD"
      },
      "source": [
        "<a name=\"p2\"></a>\n",
        "\n",
        "---\n",
        "## **Part 2: Predicting Body Mass**\n",
        "---\n",
        "\n",
        "Now you will create, evaluate, and train an ML model to predict the body mass of a penguin based on the provided numerical features. It is up to you to determine if you should be using Linear Regression, KNN, or Logistic Regression here. \n",
        "\n",
        "<br>\n",
        "\n",
        "You will do this three times as follows:\n",
        "\n",
        "**Part 2.1**: Using All Numerical Features and Label Encodings\n",
        "\n",
        "**Part 2.2**: Using All Numerical Features and Dummy Variable Encodings\n",
        "\n",
        "**Part 2.3**: Using the 4 Best Numerical Features and the Best Encodings Where Relevant\n",
        "\n",
        "<br>\n",
        "\n",
        "You will follow the 8 step process for implementing ML models that we have learned this last week:\n",
        "\n",
        "1. Load in the data (**this has already been done in Part 1**)\n",
        "2. Decide independent and dependent variables\n",
        "3. Split the data into training and testing datasets\n",
        "4. Import a ML algorithm\n",
        "5. Set the model’s parameters\n",
        "6. Fit the model on the training set and test the model on the test dataset. Draw a visualization (if applicable to the model)\n",
        "7. Evaluate the model’s performance\n",
        "8. Apply your model"
      ]
    },
    {
      "cell_type": "markdown",
      "source": [
        "<a name=\"p21\"></a>\n",
        "\n",
        "---\n",
        "### **Part 2.1: Using All Numerical Features and Label Encodings**\n",
        "---"
      ],
      "metadata": {
        "id": "lAnwuc5ie4jU"
      }
    },
    {
      "cell_type": "markdown",
      "metadata": {
        "id": "Lf5OrHhNifXL"
      },
      "source": [
        "#### **Step #2: Decide independent and dependent variables**\n",
        "---\n",
        "\n",
        "Complete the code below to decide the independent and dependent variables. Make sure to only use label encodings where relevant instead of other representations of the same variable(s).\n",
        "\n",
        "<br>\n",
        "\n",
        "**NOTE**: The dependent variable (label) for all of Part 2 is `Body Mass (g)`. Using one of several pandas functions, you can determine the numerical features available and use them all as the independent variables."
      ]
    },
    {
      "cell_type": "code",
      "source": [
        "penguin_df.# COMPLETE THIS LINE"
      ],
      "metadata": {
        "id": "nt2s_Sh8gE2f"
      },
      "execution_count": null,
      "outputs": []
    },
    {
      "cell_type": "code",
      "source": [
        "x = # COMPLETE THIS LINE\n",
        "y = # COMPLETE THIS LINE"
      ],
      "metadata": {
        "id": "roZfBwfPgEiY"
      },
      "execution_count": null,
      "outputs": []
    },
    {
      "cell_type": "markdown",
      "metadata": {
        "id": "f2My4nq5gKNq"
      },
      "source": [
        "#### **Step #3: Split data into training and testing data and standardize appropriately**\n",
        "---\n",
        "\n",
        "Complete the code below to split the data, using 80% for training and 20% for testing."
      ]
    },
    {
      "cell_type": "code",
      "source": [],
      "metadata": {
        "id": "L-zVhDgvgXMD"
      },
      "execution_count": null,
      "outputs": []
    },
    {
      "cell_type": "markdown",
      "metadata": {
        "id": "CfiX_8hhg9n8"
      },
      "source": [
        "#### **Step #4: Import the algorithm**\n",
        "---"
      ]
    },
    {
      "cell_type": "code",
      "source": [],
      "metadata": {
        "id": "Cd1IkHtOg-Ig"
      },
      "execution_count": null,
      "outputs": []
    },
    {
      "cell_type": "markdown",
      "metadata": {
        "id": "g2KE3jHPhKzg"
      },
      "source": [
        "#### **Step #5:  Initialize the model and set hyperparameters**\n",
        "---\n",
        "\n",
        "Specifically,\n",
        "* For Linear Regression, there are no hyperparameters to set.\n",
        "* For KNN, choose a reasonable value for `n_neighbors`. You are encouraged to try Steps #5 - 7 for several values and picking the model with the highest performance.\n",
        "* For Logistic Regression, decide whether you need to specify `multiclass = 'ovr'` or not.\n",
        "\n",
        "<br>\n",
        "\n",
        "**NOTE**: Since both KNN and Logistic Regression are used for classification, you should always try modeling the data with *both* and seeing which one works best after hyperparameter tuning."
      ]
    },
    {
      "cell_type": "code",
      "source": [
        "model_1 = # COMPLETE THIS LINE"
      ],
      "metadata": {
        "id": "elnmJ3iBhTKR"
      },
      "execution_count": null,
      "outputs": []
    },
    {
      "cell_type": "markdown",
      "metadata": {
        "id": "0Xb5J75whk-Z"
      },
      "source": [
        "#### **Steps #6 - 7: Fit your model, evaluating using 10-Folds Cross Validation. Create a visualization if applicable**\n",
        "---\n",
        "\n",
        "Specifically,\n",
        "\n",
        "1. Fit the model to the training data, determining an average relevant evaluation metric using 10-Folds Cross Validation.\n",
        "2. Train the final model and visualize the results."
      ]
    },
    {
      "cell_type": "markdown",
      "source": [
        "##### **1. Fit the model to the training data, determining an average relevant evaluation metric using 10-Folds Cross Validation.**\n",
        "\n",
        "\n",
        "**NOTE**: The y-data in this section is still in the form of a pandas DataFrame, so to access a specific index you need to use `.iloc[...]`."
      ],
      "metadata": {
        "id": "zEVQG9nT1P_c"
      }
    },
    {
      "cell_type": "code",
      "source": [],
      "metadata": {
        "id": "1aVIi4yoieQD"
      },
      "execution_count": null,
      "outputs": []
    },
    {
      "cell_type": "markdown",
      "source": [
        "##### **2. Visualize the results.**\n",
        "\n",
        "The code is provided for both linear regression and KNN, but it is up to you to decide which one makes the most sense here."
      ],
      "metadata": {
        "id": "j6ELbxOz1dEJ"
      }
    },
    {
      "cell_type": "markdown",
      "source": [
        "###### **Regression Visualization**"
      ],
      "metadata": {
        "id": "YKvouleOv7tC"
      }
    },
    {
      "cell_type": "code",
      "source": [
        "# Visualize comparison of predictions vs. actual values\n",
        "plt.scatter(y_test, pred)\n",
        "plt.plot([y_test.min(), y_test.max()], [y_test.min(), y_test.max()], color = 'black', label='Correct Predictions')\n",
        "\n",
        "\n",
        "plt.xlabel('True Value')\n",
        "plt.ylabel('Predicted Value')\n",
        "plt.title('Real vs Value')\n",
        "plt.legend()\n",
        "\n",
        "plt.show()"
      ],
      "metadata": {
        "id": "IPaxcnXYv7tC"
      },
      "execution_count": null,
      "outputs": []
    },
    {
      "cell_type": "markdown",
      "source": [
        "###### **Classification Visualization**"
      ],
      "metadata": {
        "id": "9UHY5iqLv7tC"
      }
    },
    {
      "cell_type": "code",
      "source": [
        "feature_1_name = 'Flipper Length (mm)'\n",
        "feature_2_name = 'Culmen Length (mm)'\n",
        "\n",
        "\n",
        "# Make the same scatter plot of the training data\n",
        "fig, ax = plt.subplots(figsize=(10,6))\n",
        "\n",
        "xx, yy = np.meshgrid(np.arange(penguin_df[feature_1_name].min() - 1, penguin_df[feature_1_name].max() + 1, 10),\n",
        "                     np.arange(penguin_df[feature_2_name].min() - 1, penguin_df[feature_2_name].max() + 1, 10))\n",
        "\n",
        "means = x.mean()\n",
        "inputs = [[means[0], y, means[2], x, means[4], means[5], means[6], means[7], means[8]] for (x, y) in np.c_[xx.ravel(), yy.ravel()]]\n",
        "z = model_1.predict(scaler.transform(inputs))\n",
        "z = z.reshape(xx.shape)\n",
        "z = [[island_map[island] for island in islands] for islands in z]\n",
        "\n",
        "ax.pcolormesh(xx, yy, z, alpha=0.1)\n",
        "\n",
        "for label, data in penguin_df.groupby('Body Mass (g)'):\n",
        "  ax.scatter(data[feature_1_name], data[feature_2_name], label=label)\n",
        "\n",
        "ax.set_title(\"Decision Boundary of the Classifier\")\n",
        "ax.set_xlabel(feature_1_name)\n",
        "ax.set_ylabel(feature_2_name)\n",
        "ax.legend()\n",
        "plt.show()"
      ],
      "metadata": {
        "id": "8JS2IWhhv7tC"
      },
      "execution_count": null,
      "outputs": []
    },
    {
      "cell_type": "markdown",
      "metadata": {
        "id": "LT_lgbfTjJlO"
      },
      "source": [
        "#### **Step #8: Use the model**\n",
        "---\n",
        "\n",
        "Specifically,\n",
        "\n",
        "1. Predict the body mass of two new penguins.\n",
        "\n",
        "2. Visualize the modeled relationship between `Body Mass (g)` and `Flipper Length (mm)` to see if a qualitative relationship can be inferred.\n",
        "\n",
        "3. *If you used linear regression*, look at the coefficients and intercept to determine the modeled relationships quantitatively."
      ]
    },
    {
      "cell_type": "markdown",
      "source": [
        "##### **1. Predict the body mass of these new penguins:**\n",
        "\n",
        "**Penguin 1**\n",
        "\n",
        "* `Clutch Completion`: Yes\n",
        "* `Culmen Length (mm)`: 33\n",
        "* `Culmen Depth (mm)`: 15\n",
        "* `Flipper Length (mm)`: 250\n",
        "* `Sex`: `'MALE'`\n",
        "* `Delta 15 N (o/oo)`: 8.7\n",
        "* `Delta 13 C (o/oo)`: -25.6\n",
        "* `Species`: `'Gentoo penguin (Pygoscelis papua)'`\n",
        "* `Island`: `'Dream'`\n",
        "\n",
        "<br>\n",
        "\n",
        "**Penguin 2**\n",
        "\n",
        "* `Clutch Completion`: No\n",
        "* `Culmen Length (mm)`: 47\n",
        "* `Culmen Depth (mm)`: 18\n",
        "* `Flipper Length (mm)`: 175\n",
        "* `Sex`: `'FEMALE'`\n",
        "* `Delta 15 N (o/oo)`: 8.7\n",
        "* `Delta 13 C (o/oo)`: -25.6\n",
        "* `Species`: `'Chinstrap penguin (Pygoscelis antarctica)'`\n",
        "* `Island`: `'Torgersen'`\n",
        "\n",
        "<br>\n",
        "\n",
        "**NOTE**: You will need to use your `StandardScaler` to transform these new points *and* you will need to determine how these species are represented in this given encoding."
      ],
      "metadata": {
        "id": "APzOK_U9NcDn"
      }
    },
    {
      "cell_type": "code",
      "source": [],
      "metadata": {
        "id": "jwFQv83zlb-Q"
      },
      "execution_count": null,
      "outputs": []
    },
    {
      "cell_type": "markdown",
      "source": [
        "##### **2. Visualize the modeled relationship between `Body Mass (g)` and `Flipper Length (mm)` in the test dataset to see if a qualitative relationship can be inferred.**\n",
        "\n",
        "\n",
        "**NOTE**: Here you can use the non-standardized, and more interpretable, `X_test` since the predictions have already been made."
      ],
      "metadata": {
        "id": "oHo9E1DaNcMp"
      }
    },
    {
      "cell_type": "code",
      "source": [],
      "metadata": {
        "id": "wCcjKeGGmz5v"
      },
      "execution_count": null,
      "outputs": []
    },
    {
      "cell_type": "markdown",
      "source": [
        "##### **3. *If you used linear regression*, complete the cells below to look at the coefficients and intercept to determine the modeled relationships quantitatively.**"
      ],
      "metadata": {
        "id": "YG6QrVIrNcSr"
      }
    },
    {
      "cell_type": "code",
      "source": [
        "coefficients = model_1.# COMPLETE THIS LINE\n",
        "intercept = model_1.# COMPLETE THIS LINE\n",
        "\n",
        "coefficients = pd.DataFrame([coefficients], columns = X_test.columns)\n",
        "intercept = pd.DataFrame([intercept], columns = [\"Body Mass (g)\"])"
      ],
      "metadata": {
        "id": "1AI68Jupn6UR"
      },
      "execution_count": null,
      "outputs": []
    },
    {
      "cell_type": "code",
      "source": [
        "print(\"Coefficients:\")\n",
        "coefficients.head()"
      ],
      "metadata": {
        "id": "A4TnZL6fn6US"
      },
      "execution_count": null,
      "outputs": []
    },
    {
      "cell_type": "code",
      "source": [
        "print(\"\\nIntercept:\")\n",
        "intercept.head()"
      ],
      "metadata": {
        "id": "9MxeCWwsn6US"
      },
      "execution_count": null,
      "outputs": []
    },
    {
      "cell_type": "code",
      "source": [],
      "metadata": {
        "id": "rI1UusGEn20C"
      },
      "execution_count": null,
      "outputs": []
    },
    {
      "cell_type": "markdown",
      "source": [
        "<a name=\"p22\"></a>\n",
        "\n",
        "---\n",
        "### **Part 2.2: Using All Numerical Features and Dummy Variable Encodings**\n",
        "---"
      ],
      "metadata": {
        "id": "9vjfv-IgpGoj"
      }
    },
    {
      "cell_type": "markdown",
      "metadata": {
        "id": "vPzcQYADpGok"
      },
      "source": [
        "#### **Step #2: Decide independent and dependent variables**\n",
        "---\n",
        "\n",
        "Complete the code below to decide the independent and dependent variables. Make sure to only use dummy variable encodings where relevant instead of other representations of the same variable(s).\n",
        "\n",
        "<br>\n",
        "\n",
        "**NOTE**: The dependent variable (label) for all of Part 2 is `Body Mass (g)`. Using one of several pandas functions, you can determine the numerical features available and use them all as the independent variables."
      ]
    },
    {
      "cell_type": "code",
      "source": [
        "penguin_df.# COMPLETE THIS LINE"
      ],
      "metadata": {
        "id": "v4p7nuxwpGok"
      },
      "execution_count": null,
      "outputs": []
    },
    {
      "cell_type": "code",
      "source": [
        "x = # COMPLETE THIS LINE\n",
        "y = # COMPLETE THIS LINE"
      ],
      "metadata": {
        "id": "jb4VXRfhpGok"
      },
      "execution_count": null,
      "outputs": []
    },
    {
      "cell_type": "markdown",
      "metadata": {
        "id": "LcaC1V3IpGol"
      },
      "source": [
        "#### **Step #3: Split data into training and testing data and standardize appropriately**\n",
        "---\n",
        "\n",
        "Complete the code below to split the data, using 80% for training and 20% for testing."
      ]
    },
    {
      "cell_type": "code",
      "source": [],
      "metadata": {
        "id": "Z-nVYfsQpGol"
      },
      "execution_count": null,
      "outputs": []
    },
    {
      "cell_type": "markdown",
      "metadata": {
        "id": "wTVIUW5TpGol"
      },
      "source": [
        "#### **Step #4: Import the algorithm**\n",
        "---"
      ]
    },
    {
      "cell_type": "code",
      "source": [],
      "metadata": {
        "id": "90SQRGr1pGol"
      },
      "execution_count": null,
      "outputs": []
    },
    {
      "cell_type": "markdown",
      "metadata": {
        "id": "MAE4hJPqpGol"
      },
      "source": [
        "#### **Step #5:  Initialize the model and set hyperparameters**\n",
        "---\n",
        "\n",
        "Specifically,\n",
        "* For Linear Regression, there are no hyperparameters to set.\n",
        "* For KNN, choose a reasonable value for `n_neighbors`. You are encouraged to try Steps #5 - 7 for several values and picking the model with the highest performance.\n",
        "* For Logistic Regression, decide whether you need to specify `multiclass = 'ovr'` or not.\n",
        "\n",
        "<br>\n",
        "\n",
        "**NOTE**: Since both KNN and Logistic Regression are used for classification, you should always try modeling the data with *both* and seeing which one works best after hyperparameter tuning."
      ]
    },
    {
      "cell_type": "code",
      "source": [
        "model_2 = # COMPLETE THIS LINE"
      ],
      "metadata": {
        "id": "TmEVfWMopGol"
      },
      "execution_count": null,
      "outputs": []
    },
    {
      "cell_type": "markdown",
      "metadata": {
        "id": "A62tHiUVpGom"
      },
      "source": [
        "#### **Steps #6 - 7: Fit your model, evaluating using 10-Folds Cross Validation. Create a visualization if applicable**\n",
        "---\n",
        "\n",
        "Specifically,\n",
        "\n",
        "1. Fit the model to the training data, determining an average relevant evaluation metric using 10-Folds Cross Validation.\n",
        "2. Train the final model and visualize the results."
      ]
    },
    {
      "cell_type": "markdown",
      "source": [
        "##### **1. Fit the model to the training data, determining an average relevant evaluation metric using 10-Folds Cross Validation.**\n",
        "\n",
        "\n",
        "**NOTE**: The y-data in this section is still in the form of a pandas DataFrame, so to access a specific index you need to use `.iloc[...]`."
      ],
      "metadata": {
        "id": "JODf0ix2pGom"
      }
    },
    {
      "cell_type": "code",
      "source": [],
      "metadata": {
        "id": "2RaR96hhpGom"
      },
      "execution_count": null,
      "outputs": []
    },
    {
      "cell_type": "markdown",
      "source": [
        "##### **2. Visualize the results.**\n",
        "\n",
        "The code is provided for both linear regression and KNN, but it is up to you to decide which one makes the most sense here."
      ],
      "metadata": {
        "id": "cGLNle-dpGom"
      }
    },
    {
      "cell_type": "markdown",
      "source": [
        "###### **Regression Visualization**"
      ],
      "metadata": {
        "id": "wGZHayJEv5T-"
      }
    },
    {
      "cell_type": "code",
      "source": [
        "# Visualize comparison of predictions vs. actual values\n",
        "plt.scatter(y_test, pred)\n",
        "plt.plot([y_test.min(), y_test.max()], [y_test.min(), y_test.max()], color = 'black', label='Correct Predictions')\n",
        "\n",
        "\n",
        "plt.xlabel('True Value')\n",
        "plt.ylabel('Predicted Value')\n",
        "plt.title('Real vs Value')\n",
        "plt.legend()\n",
        "\n",
        "plt.show()"
      ],
      "metadata": {
        "id": "uk2LifUNv5T-"
      },
      "execution_count": null,
      "outputs": []
    },
    {
      "cell_type": "markdown",
      "source": [
        "###### **Classification Visualization**"
      ],
      "metadata": {
        "id": "monESK8zv5T-"
      }
    },
    {
      "cell_type": "code",
      "source": [
        "feature_1_name = 'Flipper Length (mm)'\n",
        "feature_2_name = 'Culmen Length (mm)'\n",
        "\n",
        "\n",
        "# Make the same scatter plot of the training data\n",
        "fig, ax = plt.subplots(figsize=(10,6))\n",
        "\n",
        "xx, yy = np.meshgrid(np.arange(penguin_df[feature_1_name].min() - 1, penguin_df[feature_1_name].max() + 1, 10),\n",
        "                     np.arange(penguin_df[feature_2_name].min() - 1, penguin_df[feature_2_name].max() + 1, 10))\n",
        "\n",
        "means = x.mean()\n",
        "inputs = [[means[0], y, means[2], x, means[4], means[5], means[6], means[7], means[8]] for (x, y) in np.c_[xx.ravel(), yy.ravel()]]\n",
        "z = model_1.predict(scaler.transform(inputs))\n",
        "z = z.reshape(xx.shape)\n",
        "z = [[island_map[island] for island in islands] for islands in z]\n",
        "\n",
        "ax.pcolormesh(xx, yy, z, alpha=0.1)\n",
        "\n",
        "for label, data in penguin_df.groupby('Body Mass (g)'):\n",
        "  ax.scatter(data[feature_1_name], data[feature_2_name], label=label)\n",
        "\n",
        "ax.set_title(\"Decision Boundary of the Classifier\")\n",
        "ax.set_xlabel(feature_1_name)\n",
        "ax.set_ylabel(feature_2_name)\n",
        "ax.legend()\n",
        "plt.show()"
      ],
      "metadata": {
        "id": "DW412Btdv5T-"
      },
      "execution_count": null,
      "outputs": []
    },
    {
      "cell_type": "markdown",
      "metadata": {
        "id": "8qzDR2oMpGom"
      },
      "source": [
        "#### **Step #8: Use the model**\n",
        "---\n",
        "\n",
        "Specifically,\n",
        "\n",
        "1. Predict the body mass of two new penguins.\n",
        "\n",
        "2. Visualize the modeled relationship between `Body Mass (g)` and `Flipper Length (mm)` to see if a qualitative relationship can be inferred.\n",
        "\n",
        "3. *If you used linear regression*, look at the coefficients and intercept to determine the modeled relationships quantitatively."
      ]
    },
    {
      "cell_type": "markdown",
      "source": [
        "##### **1. Predict the body mass of these new penguins:**\n",
        "\n",
        "**Penguin 1**\n",
        "\n",
        "* `Clutch Completion`: Yes\n",
        "* `Culmen Length (mm)`: 33\n",
        "* `Culmen Depth (mm)`: 15\n",
        "* `Flipper Length (mm)`: 250\n",
        "* `Sex`: `'MALE'`\n",
        "* `Delta 15 N (o/oo)`: 8.7\n",
        "* `Delta 13 C (o/oo)`: -25.6\n",
        "* `Species`: `'Gentoo penguin (Pygoscelis papua)'`\n",
        "* `Island`: `'Dream'`\n",
        "\n",
        "<br>\n",
        "\n",
        "**Penguin 2**\n",
        "\n",
        "* `Clutch Completion`: No\n",
        "* `Culmen Length (mm)`: 47\n",
        "* `Culmen Depth (mm)`: 18\n",
        "* `Flipper Length (mm)`: 175\n",
        "* `Sex`: `'FEMALE'`\n",
        "* `Delta 15 N (o/oo)`: 8.7\n",
        "* `Delta 13 C (o/oo)`: -25.6\n",
        "* `Species`: `'Chinstrap penguin (Pygoscelis antarctica)'`\n",
        "* `Island`: `'Torgersen'`\n",
        "\n",
        "<br>\n",
        "\n",
        "**NOTE**: You will need to use your `StandardScaler` to transform these new points *and* you will need to determine how these species are represented in this given encoding."
      ],
      "metadata": {
        "id": "hmIzkybUxzNK"
      }
    },
    {
      "cell_type": "code",
      "source": [],
      "metadata": {
        "id": "We9pYNnJpGom"
      },
      "execution_count": null,
      "outputs": []
    },
    {
      "cell_type": "markdown",
      "source": [
        "##### **2. Visualize the modeled relationship between `Body Mass (g)` and `Flipper Length (mm)` in the test dataset to see if a qualitative relationship can be inferred.**\n",
        "\n",
        "\n",
        "**NOTE**: Here you can use the non-standardized, and more interpretable, `X_test` since the predictions have already been made."
      ],
      "metadata": {
        "id": "YUuExWQSpGon"
      }
    },
    {
      "cell_type": "code",
      "source": [],
      "metadata": {
        "id": "B8V2fYWJpGon"
      },
      "execution_count": null,
      "outputs": []
    },
    {
      "cell_type": "markdown",
      "source": [
        "##### **3. *If you used linear regression*, complete the cells below to look at the coefficients and intercept to determine the modeled relationships quantitatively.**"
      ],
      "metadata": {
        "id": "8Bt0vfzFpGon"
      }
    },
    {
      "cell_type": "code",
      "source": [],
      "metadata": {
        "id": "e8-3Lhj4pGon"
      },
      "execution_count": null,
      "outputs": []
    },
    {
      "cell_type": "code",
      "source": [],
      "metadata": {
        "id": "AXVmWvMTpGon"
      },
      "execution_count": null,
      "outputs": []
    },
    {
      "cell_type": "code",
      "source": [],
      "metadata": {
        "id": "GI2EVLwdpGon"
      },
      "execution_count": null,
      "outputs": []
    },
    {
      "cell_type": "markdown",
      "source": [
        "<a name=\"p23\"></a>\n",
        "\n",
        "---\n",
        "### **Part 2.3: Using the 4 Best Numerical Features and the Best Encodings Where Relevant**\n",
        "---"
      ],
      "metadata": {
        "id": "b6hjsOjNqSW3"
      }
    },
    {
      "cell_type": "markdown",
      "metadata": {
        "id": "jWM7Yb7IqSW3"
      },
      "source": [
        "#### **Step #2: Decide independent and dependent variables**\n",
        "---\n",
        "\n",
        "Complete the code below to decide the independent and dependent variables, specifically choosing the 4 best features according to `SelectKBest(...)`. Make sure to only use the best performing encodings where relevant instead of other representations of the same variable(s).\n",
        "\n",
        "<br>\n",
        "\n",
        "**NOTE**: The dependent variable (label) for all of Part 2 is `Body Mass (g)`. Using one of several pandas functions, you can determine the numerical features available and use them all as the independent variables."
      ]
    },
    {
      "cell_type": "code",
      "source": [
        "penguin_df.# COMPLETE THIS LINE"
      ],
      "metadata": {
        "id": "NtPkG81eqSW3"
      },
      "execution_count": null,
      "outputs": []
    },
    {
      "cell_type": "code",
      "source": [
        "x = # COMPLETE THIS LINE\n",
        "y = # COMPLETE THIS LINE\n",
        "\n",
        "# COMPLETE THIS CODE\n",
        "\n",
        "best_features = # COMPLETE THIS CODE"
      ],
      "metadata": {
        "id": "gvH-1--SqSW3"
      },
      "execution_count": null,
      "outputs": []
    },
    {
      "cell_type": "markdown",
      "metadata": {
        "id": "Ll70TW7dqSW4"
      },
      "source": [
        "#### **Step #3: Split data into training and testing data and standardize appropriately**\n",
        "---\n",
        "\n",
        "Complete the code below to split the data, using 80% for training and 20% for testing. **Make sure to use only the best 4 features found above.**"
      ]
    },
    {
      "cell_type": "code",
      "source": [],
      "metadata": {
        "id": "Ji3D8w73qSW4"
      },
      "execution_count": null,
      "outputs": []
    },
    {
      "cell_type": "markdown",
      "metadata": {
        "id": "LYI7BCIAqSW4"
      },
      "source": [
        "#### **Step #4: Import the algorithm**\n",
        "---"
      ]
    },
    {
      "cell_type": "code",
      "source": [],
      "metadata": {
        "id": "u-DJiV7uqSW4"
      },
      "execution_count": null,
      "outputs": []
    },
    {
      "cell_type": "markdown",
      "metadata": {
        "id": "gsnGiD6MqSW4"
      },
      "source": [
        "#### **Step #5:  Initialize the model and set hyperparameters**\n",
        "---\n",
        "\n",
        "Specifically,\n",
        "* For Linear Regression, there are no hyperparameters to set.\n",
        "* For KNN, choose a reasonable value for `n_neighbors`. You are encouraged to try Steps #5 - 7 for several values and picking the model with the highest performance.\n",
        "* For Logistic Regression, decide whether you need to specify `multiclass = 'ovr'` or not.\n",
        "\n",
        "<br>\n",
        "\n",
        "**NOTE**: Since both KNN and Logistic Regression are used for classification, you should always try modeling the data with *both* and seeing which one works best after hyperparameter tuning."
      ]
    },
    {
      "cell_type": "code",
      "source": [
        "model_3 = # COMPLETE THIS LINE"
      ],
      "metadata": {
        "id": "YZWV8XBvqSW4"
      },
      "execution_count": null,
      "outputs": []
    },
    {
      "cell_type": "markdown",
      "metadata": {
        "id": "52XP7i71qSW4"
      },
      "source": [
        "#### **Steps #6 - 7: Fit your model, evaluating using 10-Folds Cross Validation. Create a visualization if applicable**\n",
        "---\n",
        "\n",
        "Specifically,\n",
        "\n",
        "1. Fit the model to the training data, determining an average relevant evaluation metric using 10-Folds Cross Validation.\n",
        "2. Train the final model and visualize the results."
      ]
    },
    {
      "cell_type": "markdown",
      "source": [
        "##### **1. Fit the model to the training data, determining an average relevant evaluation metric using 10-Folds Cross Validation.**\n",
        "\n",
        "\n",
        "**NOTE**: The y-data in this section is still in the form of a pandas DataFrame, so to access a specific index you need to use `.iloc[...]`."
      ],
      "metadata": {
        "id": "ZhxWywgTqSW5"
      }
    },
    {
      "cell_type": "code",
      "source": [],
      "metadata": {
        "id": "5IR6KPr6qSW5"
      },
      "execution_count": null,
      "outputs": []
    },
    {
      "cell_type": "markdown",
      "source": [
        "##### **2. Visualize the results.**\n",
        "\n",
        "The code is provided for both linear regression and KNN, but it is up to you to decide which one makes the most sense here."
      ],
      "metadata": {
        "id": "2t1w-950qSW5"
      }
    },
    {
      "cell_type": "markdown",
      "source": [
        "###### **Regression Visualization**"
      ],
      "metadata": {
        "id": "tQ_XrEibqSW5"
      }
    },
    {
      "cell_type": "code",
      "source": [
        "# Visualize comparison of predictions vs. actual values\n",
        "plt.scatter(y_test, pred)\n",
        "plt.plot([y_test.min(), y_test.max()], [y_test.min(), y_test.max()], color = 'black', label='Correct Predictions')\n",
        "\n",
        "\n",
        "plt.xlabel('True Value')\n",
        "plt.ylabel('Predicted Value')\n",
        "plt.title('Real vs Value')\n",
        "plt.legend()\n",
        "\n",
        "plt.show()"
      ],
      "metadata": {
        "id": "qHW-bWtqqSW5"
      },
      "execution_count": null,
      "outputs": []
    },
    {
      "cell_type": "markdown",
      "source": [
        "###### **Classification Visualization**"
      ],
      "metadata": {
        "id": "z9VW6a6HqSW5"
      }
    },
    {
      "cell_type": "code",
      "source": [
        "feature_1_name = 'Flipper Length (mm)'\n",
        "feature_2_name = 'Culmen Length (mm)'\n",
        "\n",
        "\n",
        "# Make the same scatter plot of the training data\n",
        "fig, ax = plt.subplots(figsize=(10,6))\n",
        "\n",
        "xx, yy = np.meshgrid(np.arange(penguin_df[feature_1_name].min() - 1, penguin_df[feature_1_name].max() + 1, 10),\n",
        "                     np.arange(penguin_df[feature_2_name].min() - 1, penguin_df[feature_2_name].max() + 1, 10))\n",
        "\n",
        "means = x.mean()\n",
        "inputs = [[means[0], y, means[2], x, means[4], means[5], means[6], means[7], means[8]] for (x, y) in np.c_[xx.ravel(), yy.ravel()]]\n",
        "z = model_1.predict(scaler.transform(inputs))\n",
        "z = z.reshape(xx.shape)\n",
        "z = [[island_map[island] for island in islands] for islands in z]\n",
        "\n",
        "ax.pcolormesh(xx, yy, z, alpha=0.1)\n",
        "\n",
        "for label, data in penguin_df.groupby('Body Mass (g)'):\n",
        "  ax.scatter(data[feature_1_name], data[feature_2_name], label=label)\n",
        "\n",
        "ax.set_title(\"Decision Boundary of the Classifier\")\n",
        "ax.set_xlabel(feature_1_name)\n",
        "ax.set_ylabel(feature_2_name)\n",
        "ax.legend()\n",
        "plt.show()"
      ],
      "metadata": {
        "id": "Xr7rPm87qSW5"
      },
      "execution_count": null,
      "outputs": []
    },
    {
      "cell_type": "markdown",
      "metadata": {
        "id": "S2nfgEeHqSW5"
      },
      "source": [
        "#### **Step #8: Use the model**\n",
        "---\n",
        "\n",
        "Specifically,\n",
        "\n",
        "1. Predict the body mass of two new penguins.\n",
        "\n",
        "2. Visualize the modeled relationship between `Body Mass (g)` and `Flipper Length (mm)` to see if a qualitative relationship can be inferred.\n",
        "\n",
        "3. *If you used linear regression*, look at the coefficients and intercept to determine the modeled relationships quantitatively."
      ]
    },
    {
      "cell_type": "markdown",
      "source": [
        "##### **1. Predict the body mass of these new penguins:**\n",
        "\n",
        "**Penguin 1**\n",
        "\n",
        "* `Clutch Completion`: Yes\n",
        "* `Culmen Length (mm)`: 33\n",
        "* `Culmen Depth (mm)`: 15\n",
        "* `Flipper Length (mm)`: 250\n",
        "* `Sex`: `'MALE'`\n",
        "* `Delta 15 N (o/oo)`: 8.7\n",
        "* `Delta 13 C (o/oo)`: -25.6\n",
        "* `Species`: `'Gentoo penguin (Pygoscelis papua)'`\n",
        "\n",
        "<br>\n",
        "\n",
        "**Penguin 2**\n",
        "\n",
        "* `Clutch Completion`: No\n",
        "* `Culmen Length (mm)`: 47\n",
        "* `Culmen Depth (mm)`: 18\n",
        "* `Flipper Length (mm)`: 175\n",
        "* `Sex`: `'FEMALE'`\n",
        "* `Delta 15 N (o/oo)`: 8.7\n",
        "* `Delta 13 C (o/oo)`: -25.6\n",
        "* `Species`: `'Chinstrap penguin (Pygoscelis antarctica)'`\n",
        "\n",
        "<br>\n",
        "\n",
        "**NOTE**: You will need to use your `StandardScaler` to transform these new points *and* you will need to determine how these species are represented in this given encoding."
      ],
      "metadata": {
        "id": "8V6UtHgzqSW5"
      }
    },
    {
      "cell_type": "code",
      "source": [],
      "metadata": {
        "id": "EewG-MEPqSW6"
      },
      "execution_count": null,
      "outputs": []
    },
    {
      "cell_type": "markdown",
      "source": [
        "##### **2. Visualize the modeled relationship between `Body Mass (g)` and `Flipper Length (mm)` in the test dataset to see if a qualitative relationship can be inferred.**\n",
        "\n",
        "\n",
        "**NOTE**: Here you can use the non-standardized, and more interpretable, `X_test` since the predictions have already been made."
      ],
      "metadata": {
        "id": "vfzKWD1sqSW6"
      }
    },
    {
      "cell_type": "code",
      "source": [],
      "metadata": {
        "id": "dVexhvhhqSW6"
      },
      "execution_count": null,
      "outputs": []
    },
    {
      "cell_type": "markdown",
      "source": [
        "##### **3. *If you used linear regression*, complete the cells below to look at the coefficients and intercept to determine the modeled relationships quantitatively.**"
      ],
      "metadata": {
        "id": "lN5tXFl0qSW6"
      }
    },
    {
      "cell_type": "code",
      "source": [],
      "metadata": {
        "id": "KTItZp4CqSW6"
      },
      "execution_count": null,
      "outputs": []
    },
    {
      "cell_type": "code",
      "source": [],
      "metadata": {
        "id": "-iNHaP8QqSW6"
      },
      "execution_count": null,
      "outputs": []
    },
    {
      "cell_type": "code",
      "source": [],
      "metadata": {
        "id": "g3LqK3_yqSW6"
      },
      "execution_count": null,
      "outputs": []
    },
    {
      "cell_type": "markdown",
      "source": [
        "<a name=\"p2w\"></a>\n",
        "\n",
        "---\n",
        "### **Part 2: Wrapup**\n",
        "---\n",
        "\n",
        "Now that you have trained several models to accomplish this task, answer the following questions:\n",
        "\n",
        "1. Is Linear Regression, KNN, or Logistic Regression better suited to this task? Why?\n",
        "2. Were there any hyperparameters you need to tune and, if so, what were the best values you found?\n",
        "3. Did selecting a smaller number of features improve or decrease the performance of your model?\n",
        "4. What 4 variables seem to play the largest role in determining the `Body Mass (g)` based on your work in this part?"
      ],
      "metadata": {
        "id": "4KMaFxAvBHsh"
      }
    },
    {
      "cell_type": "markdown",
      "metadata": {
        "id": "BASaZmtCsM5T"
      },
      "source": [
        "<a name=\"p3\"></a>\n",
        "\n",
        "---\n",
        "## **Part 3: Predicting Island of Origin**\n",
        "---\n",
        "\n",
        "Now you will create, evaluate, and train an ML model to predict the island of origin of a penguin based on the provided numerical features. It is up to you to determine if you should be using Linear Regression, KNN, or Logistic Regression here. \n",
        "\n",
        "<br>\n",
        "\n",
        "You will do this three times as follows:\n",
        "\n",
        "**Part 3.1**: Using All Numerical Features and Label Encodings\n",
        "\n",
        "**Part 3.2**: Using All Numerical Features and Dummy Variable Encodings\n",
        "\n",
        "**Part 3.3**: Using the 4 Best Numerical Features and the Best Encodings Where Relevant\n",
        "\n",
        "<br>\n",
        "\n",
        "You will follow the 8 step process for implementing ML models that we have learned this last week:\n",
        "\n",
        "1. Load in the data (**this has already been done in Part 1**)\n",
        "2. Decide independent and dependent variables\n",
        "3. Split the data into training and testing datasets\n",
        "4. Import a ML algorithm\n",
        "5. Set the model’s parameters\n",
        "6. Fit the model on the training set and test the model on the test dataset. Draw a visualization (if applicable to the model)\n",
        "7. Evaluate the model’s performance\n",
        "8. Apply your model"
      ]
    },
    {
      "cell_type": "markdown",
      "source": [
        "<a name=\"p31\"></a>\n",
        "\n",
        "---\n",
        "### **Part 3.1: Using All Numerical Features and Label Encodings**\n",
        "---"
      ],
      "metadata": {
        "id": "EzXz59TNsM5U"
      }
    },
    {
      "cell_type": "markdown",
      "metadata": {
        "id": "4jiW4fLKsM5U"
      },
      "source": [
        "#### **Step #2: Decide independent and dependent variables**\n",
        "---\n",
        "\n",
        "Complete the code below to decide the independent and dependent variables. Make sure to only use label encodings where relevant instead of other representations of the same variable(s). Furthermore, make sure not to include any encodings of the dependent variable (label) as features since this gives the model the answer!\n",
        "\n",
        "<br>\n",
        "\n",
        "**NOTE**: The dependent variable (label) for all of Part 3 is `Island`. Using one of several pandas functions, you can determine the numerical features available and use them all as the independent variables."
      ]
    },
    {
      "cell_type": "code",
      "source": [
        "penguin_df.# COMPLETE THIS LINE"
      ],
      "metadata": {
        "id": "A5xaDqqlsM5U"
      },
      "execution_count": null,
      "outputs": []
    },
    {
      "cell_type": "code",
      "source": [
        "x = # COMPLETE THIS LINE\n",
        "y = # COMPLETE THIS LINE"
      ],
      "metadata": {
        "id": "u2QBuwdCsM5U"
      },
      "execution_count": null,
      "outputs": []
    },
    {
      "cell_type": "markdown",
      "metadata": {
        "id": "pohiDFVhsM5U"
      },
      "source": [
        "#### **Step #3: Split data into training and testing data and standardize appropriately**\n",
        "---\n",
        "\n",
        "Complete the code below to split the data, using 80% for training and 20% for testing."
      ]
    },
    {
      "cell_type": "code",
      "source": [],
      "metadata": {
        "id": "BCnZ-S3ksM5X"
      },
      "execution_count": null,
      "outputs": []
    },
    {
      "cell_type": "markdown",
      "metadata": {
        "id": "gaievjwwsM5Y"
      },
      "source": [
        "#### **Step #4: Import the algorithm**\n",
        "---"
      ]
    },
    {
      "cell_type": "code",
      "source": [],
      "metadata": {
        "id": "VuCzPvbSsM5Y"
      },
      "execution_count": null,
      "outputs": []
    },
    {
      "cell_type": "markdown",
      "metadata": {
        "id": "dWE-QE89sM5Y"
      },
      "source": [
        "#### **Step #5:  Initialize the model and set hyperparameters**\n",
        "---\n",
        "\n",
        "Specifically,\n",
        "* For Linear Regression, there are no hyperparameters to set.\n",
        "* For KNN, choose a reasonable value for `n_neighbors`. You are encouraged to try Steps #5 - 7 for several values and picking the model with the highest performance.\n",
        "* For Logistic Regression, decide whether you need to specify `multiclass = 'ovr'` or not.\n",
        "\n",
        "<br>\n",
        "\n",
        "**NOTE**: Since both KNN and Logistic Regression are used for classification, you should always try modeling the data with *both* and seeing which one works best after hyperparameter tuning."
      ]
    },
    {
      "cell_type": "code",
      "source": [
        "model_1 = # COMPLETE THIS LINE"
      ],
      "metadata": {
        "id": "DWGDknvhsM5Y"
      },
      "execution_count": null,
      "outputs": []
    },
    {
      "cell_type": "code",
      "source": [],
      "metadata": {
        "id": "6c3wde0pt0_h"
      },
      "execution_count": null,
      "outputs": []
    },
    {
      "cell_type": "markdown",
      "metadata": {
        "id": "nAhnlVvKsM5Y"
      },
      "source": [
        "#### **Steps #6 - 7: Fit your model, evaluating using 10-Folds Cross Validation. Create a visualization if applicable**\n",
        "---\n",
        "\n",
        "Specifically,\n",
        "\n",
        "1. Fit the model to the training data, determining an average relevant evaluation metric using 10-Folds Cross Validation.\n",
        "2. Train the final model and visualize the results."
      ]
    },
    {
      "cell_type": "markdown",
      "source": [
        "##### **1. Fit the model to the training data, determining an average relevant evaluation metric using 10-Folds Cross Validation.**\n",
        "\n",
        "\n",
        "**NOTE**: The y-data in this section is still in the form of a pandas DataFrame, so to access a specific index you need to use `.iloc[...]`."
      ],
      "metadata": {
        "id": "GF1w4yMUsM5Y"
      }
    },
    {
      "cell_type": "code",
      "source": [],
      "metadata": {
        "id": "1nhEKAabsM5Y"
      },
      "execution_count": null,
      "outputs": []
    },
    {
      "cell_type": "markdown",
      "source": [
        "##### **2. Visualize the results.**\n",
        "\n",
        "The code is provided for both linear regression and KNN, but it is up to you to decide which one makes the most sense here."
      ],
      "metadata": {
        "id": "wsWi3gFvsM5Y"
      }
    },
    {
      "cell_type": "markdown",
      "source": [
        "###### **Regression Visualization**"
      ],
      "metadata": {
        "id": "5y46yhfIsM5Y"
      }
    },
    {
      "cell_type": "code",
      "source": [
        "# Visualize comparison of predictions vs. actual values\n",
        "plt.scatter(y_test, pred)\n",
        "plt.plot([y_test.min(), y_test.max()], [y_test.min(), y_test.max()], color = 'black', label='Correct Predictions')\n",
        "\n",
        "\n",
        "plt.xlabel('True Value')\n",
        "plt.ylabel('Predicted Value')\n",
        "plt.title('Real vs Value')\n",
        "plt.legend()\n",
        "\n",
        "plt.show()"
      ],
      "metadata": {
        "id": "0QbBZFfssM5Y"
      },
      "execution_count": null,
      "outputs": []
    },
    {
      "cell_type": "markdown",
      "source": [
        "###### **Classification Visualization**"
      ],
      "metadata": {
        "id": "hk_nYe0csM5Y"
      }
    },
    {
      "cell_type": "code",
      "source": [
        "feature_1_name = 'Flipper Length (mm)'\n",
        "feature_2_name = 'Culmen Length (mm)'\n",
        "\n",
        "\n",
        "# Make the same scatter plot of the training data\n",
        "fig, ax = plt.subplots(figsize=(10,6))\n",
        "\n",
        "xx, yy = np.meshgrid(np.arange(penguin_df[feature_1_name].min() - 1, penguin_df[feature_1_name].max() + 1, 0.1),\n",
        "                     np.arange(penguin_df[feature_2_name].min() - 1, penguin_df[feature_2_name].max() + 1, 0.1))\n",
        "\n",
        "means = x.mean()\n",
        "inputs = [[means[0], y, means[2], x, means[4], means[5], means[6], means[7], means[8]] for (x, y) in np.c_[xx.ravel(), yy.ravel()]]\n",
        "z = model_1.predict(scaler.transform(inputs))\n",
        "z = z.reshape(xx.shape)\n",
        "z = [[island_map[island] for island in islands] for islands in z]\n",
        "\n",
        "ax.pcolormesh(xx, yy, z, alpha=0.1)\n",
        "\n",
        "for label, data in penguin_df.groupby('Island'):\n",
        "  ax.scatter(data[feature_1_name], data[feature_2_name], label=label)\n",
        "\n",
        "ax.set_title(\"Decision Boundary of the Classifier\")\n",
        "ax.set_xlabel(feature_1_name)\n",
        "ax.set_ylabel(feature_2_name)\n",
        "ax.legend()\n",
        "plt.show()"
      ],
      "metadata": {
        "id": "AXHMLaoSsM5Y"
      },
      "execution_count": null,
      "outputs": []
    },
    {
      "cell_type": "markdown",
      "metadata": {
        "id": "_1EbyuDDsM5Z"
      },
      "source": [
        "#### **Step #8: Use the model**\n",
        "---\n",
        "\n",
        "Specifically,\n",
        "\n",
        "1. Predict the island of origin of two new penguins.\n",
        "\n",
        "2. Visualize the modeled relationship between `Island` and `Flipper Length (mm)` to see if a qualitative relationship can be inferred.\n",
        "\n",
        "3. *If you used linear regression*, look at the coefficients and intercept to determine the modeled relationships quantitatively."
      ]
    },
    {
      "cell_type": "markdown",
      "source": [
        "##### **1. Predict the island of origin of these new penguins:**\n",
        "\n",
        "**Penguin 1**\n",
        "\n",
        "* `Clutch Completion`: Yes\n",
        "* `Culmen Length (mm)`: 33\n",
        "* `Culmen Depth (mm)`: 15\n",
        "* `Flipper Length (mm)`: 250\n",
        "* `Body Mass (g)`: 4715\n",
        "* `Sex`: `'MALE'`\n",
        "* `Delta 15 N (o/oo)`: 8.7\n",
        "* `Delta 13 C (o/oo)`: -25.6\n",
        "* `Species`: `'Gentoo penguin (Pygoscelis papua)'`\n",
        "\n",
        "<br>\n",
        "\n",
        "**Penguin 2**\n",
        "\n",
        "* `Clutch Completion`: No\n",
        "* `Culmen Length (mm)`: 47\n",
        "* `Culmen Depth (mm)`: 18\n",
        "* `Flipper Length (mm)`: 175\n",
        "* `Body Mass (g)`: 3600\n",
        "* `Sex`: `'FEMALE'`\n",
        "* `Delta 15 N (o/oo)`: 8.7\n",
        "* `Delta 13 C (o/oo)`: -25.6\n",
        "* `Species`: `'Chinstrap penguin (Pygoscelis antarctica)'`\n",
        "\n",
        "<br>\n",
        "\n",
        "**NOTE**: You will need to use your `StandardScaler` to transform these new points *and* you will need to determine how these species are represented in this given encoding."
      ],
      "metadata": {
        "id": "AYTrN901sM5Z"
      }
    },
    {
      "cell_type": "code",
      "source": [],
      "metadata": {
        "id": "0CsI1yTysM5Z"
      },
      "execution_count": null,
      "outputs": []
    },
    {
      "cell_type": "markdown",
      "source": [
        "##### **2. Visualize the modeled relationship between `Island` and `Flipper Length (mm)` in the test dataset to see if a qualitative relationship can be inferred.**\n",
        "\n",
        "\n",
        "**NOTE**: Here you can use the non-standardized, and more interpretable, `X_test` since the predictions have already been made."
      ],
      "metadata": {
        "id": "L3QSlEnXsM5Z"
      }
    },
    {
      "cell_type": "code",
      "source": [],
      "metadata": {
        "id": "vLBrBaJtsM5Z"
      },
      "execution_count": null,
      "outputs": []
    },
    {
      "cell_type": "markdown",
      "source": [
        "##### **3. *If you used linear regression*, complete the cells below to look at the coefficients and intercept to determine the modeled relationships quantitatively.**"
      ],
      "metadata": {
        "id": "_fwAQJHpsM5Z"
      }
    },
    {
      "cell_type": "code",
      "source": [
        "coefficients = model_1.# COMPLETE THIS LINE\n",
        "intercept = model_1.# COMPLETE THIS LINE\n",
        "\n",
        "coefficients = pd.DataFrame([coefficients], columns = X_test.columns)\n",
        "intercept = pd.DataFrame([intercept], columns = [\"Island\"])"
      ],
      "metadata": {
        "id": "4nI_5awNsM5Z"
      },
      "execution_count": null,
      "outputs": []
    },
    {
      "cell_type": "code",
      "source": [
        "print(\"Coefficients:\")\n",
        "coefficients.head()"
      ],
      "metadata": {
        "id": "Z-YZ39WqsM5Z"
      },
      "execution_count": null,
      "outputs": []
    },
    {
      "cell_type": "code",
      "source": [
        "print(\"\\nIntercept:\")\n",
        "intercept.head()"
      ],
      "metadata": {
        "id": "cJLqW_ZcsM5Z"
      },
      "execution_count": null,
      "outputs": []
    },
    {
      "cell_type": "markdown",
      "source": [
        "<a name=\"p32\"></a>\n",
        "\n",
        "---\n",
        "### **Part 3.2: Using All Numerical Features and Dummy Variable Encodings**\n",
        "---"
      ],
      "metadata": {
        "id": "SSamCp6zsM5a"
      }
    },
    {
      "cell_type": "markdown",
      "metadata": {
        "id": "TftkD0XCsM5a"
      },
      "source": [
        "#### **Step #2: Decide independent and dependent variables**\n",
        "---\n",
        "\n",
        "Complete the code below to decide the independent and dependent variables. Make sure to only use dummy variable encodings where relevant instead of other representations of the same variable(s).\n",
        "\n",
        "<br>\n",
        "\n",
        "**NOTE**: The dependent variable (label) for all of Part 3 is `Island`. Using one of several pandas functions, you can determine the numerical features available and use them all as the independent variables."
      ]
    },
    {
      "cell_type": "code",
      "source": [
        "penguin_df.# COMPLETE THIS LINE"
      ],
      "metadata": {
        "id": "DqxFzsDbsM5a"
      },
      "execution_count": null,
      "outputs": []
    },
    {
      "cell_type": "code",
      "source": [
        "x = # COMPLETE THIS LINE\n",
        "y = # COMPLETE THIS LINE"
      ],
      "metadata": {
        "id": "wV8Nsbz5sM5a"
      },
      "execution_count": null,
      "outputs": []
    },
    {
      "cell_type": "markdown",
      "metadata": {
        "id": "6M0RZ74wsM5a"
      },
      "source": [
        "#### **Step #3: Split data into training and testing data and standardize appropriately**\n",
        "---\n",
        "\n",
        "Complete the code below to split the data, using 80% for training and 20% for testing."
      ]
    },
    {
      "cell_type": "code",
      "source": [],
      "metadata": {
        "id": "jGPqhiDNsM5a"
      },
      "execution_count": null,
      "outputs": []
    },
    {
      "cell_type": "markdown",
      "metadata": {
        "id": "-vVE84I1sM5a"
      },
      "source": [
        "#### **Step #4: Import the algorithm**\n",
        "---"
      ]
    },
    {
      "cell_type": "code",
      "source": [],
      "metadata": {
        "id": "Td3xzloIsM5a"
      },
      "execution_count": null,
      "outputs": []
    },
    {
      "cell_type": "markdown",
      "metadata": {
        "id": "pFBVBLJA47yV"
      },
      "source": [
        "#### **Step #5:  Initialize the model and set hyperparameters**\n",
        "---\n",
        "\n",
        "Specifically,\n",
        "* For Linear Regression, there are no hyperparameters to set.\n",
        "* For KNN, choose a reasonable value for `n_neighbors`. You are encouraged to try Steps #5 - 7 for several values and picking the model with the highest performance.\n",
        "* For Logistic Regression, decide whether you need to specify `multiclass = 'ovr'` or not.\n",
        "\n",
        "<br>\n",
        "\n",
        "**NOTE**: Since both KNN and Logistic Regression are used for classification, you should always try modeling the data with *both* and seeing which one works best after hyperparameter tuning."
      ]
    },
    {
      "cell_type": "code",
      "source": [
        "model_2 = # COMPLETE THIS LINE"
      ],
      "metadata": {
        "id": "03vUSP6s47yV"
      },
      "execution_count": null,
      "outputs": []
    },
    {
      "cell_type": "code",
      "source": [],
      "metadata": {
        "id": "svN09mpu47yV"
      },
      "execution_count": null,
      "outputs": []
    },
    {
      "cell_type": "markdown",
      "metadata": {
        "id": "36TbsJ0M47yV"
      },
      "source": [
        "#### **Steps #6 - 7: Fit your model, evaluating using 10-Folds Cross Validation. Create a visualization if applicable**\n",
        "---\n",
        "\n",
        "Specifically,\n",
        "\n",
        "1. Fit the model to the training data, determining an average relevant evaluation metric using 10-Folds Cross Validation.\n",
        "2. Train the final model and visualize the results."
      ]
    },
    {
      "cell_type": "markdown",
      "source": [
        "##### **1. Fit the model to the training data, determining an average relevant evaluation metric using 10-Folds Cross Validation.**\n",
        "\n",
        "\n",
        "**NOTE**: The y-data in this section is still in the form of a pandas DataFrame, so to access a specific index you need to use `.iloc[...]`."
      ],
      "metadata": {
        "id": "SgcyEjK947yV"
      }
    },
    {
      "cell_type": "code",
      "source": [],
      "metadata": {
        "id": "A88PtM9e47yV"
      },
      "execution_count": null,
      "outputs": []
    },
    {
      "cell_type": "markdown",
      "source": [
        "##### **2. Visualize the results.**\n",
        "\n",
        "The code is provided for both linear regression and KNN, but it is up to you to decide which one makes the most sense here."
      ],
      "metadata": {
        "id": "8Jwx5Sag47yW"
      }
    },
    {
      "cell_type": "markdown",
      "source": [
        "###### **Regression Visualization**"
      ],
      "metadata": {
        "id": "tDhq-gGQ47yW"
      }
    },
    {
      "cell_type": "code",
      "source": [
        "# Visualize comparison of predictions vs. actual values\n",
        "plt.scatter(y_test, pred)\n",
        "plt.plot([y_test.min(), y_test.max()], [y_test.min(), y_test.max()], color = 'black', label='Correct Predictions')\n",
        "\n",
        "\n",
        "plt.xlabel('True Value')\n",
        "plt.ylabel('Predicted Value')\n",
        "plt.title('Real vs Value')\n",
        "plt.legend()\n",
        "\n",
        "plt.show()"
      ],
      "metadata": {
        "id": "NN1VIgrQ47yW"
      },
      "execution_count": null,
      "outputs": []
    },
    {
      "cell_type": "markdown",
      "source": [
        "###### **Classification Visualization**"
      ],
      "metadata": {
        "id": "bMtOulUT47yW"
      }
    },
    {
      "cell_type": "code",
      "source": [
        "feature_1_name = 'Flipper Length (mm)'\n",
        "feature_2_name = 'Culmen Length (mm)'\n",
        "\n",
        "\n",
        "# Make the same scatter plot of the training data\n",
        "fig, ax = plt.subplots(figsize=(10,6))\n",
        "\n",
        "xx, yy = np.meshgrid(np.arange(penguin_df[feature_1_name].min() - 1, penguin_df[feature_1_name].max() + 1, 0.1),\n",
        "                     np.arange(penguin_df[feature_2_name].min() - 1, penguin_df[feature_2_name].max() + 1, 0.1))\n",
        "\n",
        "means = x.mean()\n",
        "inputs = [[means[0], y, means[2], x, means[4], means[5], means[6], means[7], means[8], means[9]] for (x, y) in np.c_[xx.ravel(), yy.ravel()]]\n",
        "z = model_2.predict(scaler.transform(inputs))\n",
        "z = z.reshape(xx.shape)\n",
        "z = [[island_map[island] for island in islands] for islands in z]\n",
        "\n",
        "ax.pcolormesh(xx, yy, z, alpha=0.1)\n",
        "\n",
        "for label, data in penguin_df.groupby('Island'):\n",
        "  ax.scatter(data[feature_1_name], data[feature_2_name], label=label)\n",
        "\n",
        "ax.set_title(\"Decision Boundary of the Classifier\")\n",
        "ax.set_xlabel(feature_1_name)\n",
        "ax.set_ylabel(feature_2_name)\n",
        "ax.legend()\n",
        "plt.show()"
      ],
      "metadata": {
        "id": "8RyeMXy247yW"
      },
      "execution_count": null,
      "outputs": []
    },
    {
      "cell_type": "markdown",
      "metadata": {
        "id": "ILdMWvit47yW"
      },
      "source": [
        "#### **Step #8: Use the model**\n",
        "---\n",
        "\n",
        "Specifically,\n",
        "\n",
        "1. Predict the island of origin of two new penguins.\n",
        "\n",
        "2. Visualize the modeled relationship between `Island` and `Flipper Length (mm)` to see if a qualitative relationship can be inferred.\n",
        "\n",
        "3. *If you used linear regression*, look at the coefficients and intercept to determine the modeled relationships quantitatively."
      ]
    },
    {
      "cell_type": "markdown",
      "source": [
        "##### **1. Predict the island of origin of these new penguins:**\n",
        "\n",
        "**Penguin 1**\n",
        "\n",
        "* `Clutch Completion`: Yes\n",
        "* `Culmen Length (mm)`: 33\n",
        "* `Culmen Depth (mm)`: 15\n",
        "* `Flipper Length (mm)`: 250\n",
        "* `Body Mass (g)`: 4715\n",
        "* `Sex`: `'MALE'`\n",
        "* `Delta 15 N (o/oo)`: 8.7\n",
        "* `Delta 13 C (o/oo)`: -25.6\n",
        "* `Species`: `'Gentoo penguin (Pygoscelis papua)'`\n",
        "\n",
        "<br>\n",
        "\n",
        "**Penguin 2**\n",
        "\n",
        "* `Clutch Completion`: No\n",
        "* `Culmen Length (mm)`: 47\n",
        "* `Culmen Depth (mm)`: 18\n",
        "* `Flipper Length (mm)`: 175\n",
        "* `Body Mass (g)`: 3600\n",
        "* `Sex`: `'FEMALE'`\n",
        "* `Delta 15 N (o/oo)`: 8.7\n",
        "* `Delta 13 C (o/oo)`: -25.6\n",
        "* `Species`: `'Chinstrap penguin (Pygoscelis antarctica)'`\n",
        "\n",
        "<br>\n",
        "\n",
        "**NOTE**: You will need to use your `StandardScaler` to transform these new points *and* you will need to determine how these species are represented in this given encoding."
      ],
      "metadata": {
        "id": "Q0fsJJwp47yW"
      }
    },
    {
      "cell_type": "code",
      "source": [],
      "metadata": {
        "id": "xEoOOLmC47yW"
      },
      "execution_count": null,
      "outputs": []
    },
    {
      "cell_type": "markdown",
      "source": [
        "##### **2. Visualize the modeled relationship between `Island` and `Flipper Length (mm)` in the test dataset to see if a qualitative relationship can be inferred.**\n",
        "\n",
        "\n",
        "**NOTE**: Here you can use the non-standardized, and more interpretable, `X_test` since the predictions have already been made."
      ],
      "metadata": {
        "id": "2T8CGdJy47yW"
      }
    },
    {
      "cell_type": "code",
      "source": [],
      "metadata": {
        "id": "3SOYTksE47yW"
      },
      "execution_count": null,
      "outputs": []
    },
    {
      "cell_type": "markdown",
      "source": [
        "##### **3. *If you used linear regression*, complete the cells below to look at the coefficients and intercept to determine the modeled relationships quantitatively.**"
      ],
      "metadata": {
        "id": "9xcZLg0H47yX"
      }
    },
    {
      "cell_type": "code",
      "source": [
        "coefficients = model_1.# COMPLETE THIS LINE\n",
        "intercept = model_1.# COMPLETE THIS LINE\n",
        "\n",
        "coefficients = pd.DataFrame([coefficients], columns = X_test.columns)\n",
        "intercept = pd.DataFrame([intercept], columns = [\"Island\"])"
      ],
      "metadata": {
        "id": "r7qGyOVc47yX"
      },
      "execution_count": null,
      "outputs": []
    },
    {
      "cell_type": "code",
      "source": [
        "print(\"Coefficients:\")\n",
        "coefficients.head()"
      ],
      "metadata": {
        "id": "FEGBhy1_47yX"
      },
      "execution_count": null,
      "outputs": []
    },
    {
      "cell_type": "code",
      "source": [
        "print(\"\\nIntercept:\")\n",
        "intercept.head()"
      ],
      "metadata": {
        "id": "UitVNWkj47yX"
      },
      "execution_count": null,
      "outputs": []
    },
    {
      "cell_type": "markdown",
      "source": [
        "<a name=\"p33\"></a>\n",
        "\n",
        "---\n",
        "### **Part 3.3: Using the 4 Best Numerical Features and the Best Encodings Where Relevant**\n",
        "---"
      ],
      "metadata": {
        "id": "V6U8XsThsM5c"
      }
    },
    {
      "cell_type": "markdown",
      "metadata": {
        "id": "PPN0aL4TsM5c"
      },
      "source": [
        "#### **Step #2: Decide independent and dependent variables**\n",
        "---\n",
        "\n",
        "Complete the code below to decide the independent and dependent variables, specifically choosing the 4 best features according to `SelectKBest(...)`. Make sure to only use the best performing encodings where relevant instead of other representations of the same variable(s).\n",
        "\n",
        "<br>\n",
        "\n",
        "**NOTE**: The dependent variable (label) for all of Part 3 is `Island`. Using one of several pandas functions, you can determine the numerical features available and use them all as the independent variables."
      ]
    },
    {
      "cell_type": "code",
      "source": [
        "penguin_df.# COMPLETE THIS LINE"
      ],
      "metadata": {
        "id": "QdS-fzDVsM5c"
      },
      "execution_count": null,
      "outputs": []
    },
    {
      "cell_type": "code",
      "source": [
        "x = # COMPLETE THIS LINE\n",
        "y = # COMPLETE THIS LINE\n",
        "\n",
        "# COMPLETE THIS CODE\n",
        "\n",
        "best_features = # COMPLETE THIS CODE"
      ],
      "metadata": {
        "id": "UP3nhNAtsM5c"
      },
      "execution_count": null,
      "outputs": []
    },
    {
      "cell_type": "markdown",
      "metadata": {
        "id": "Dib0pZTHsM5c"
      },
      "source": [
        "#### **Step #3: Split data into training and testing data and standardize appropriately**\n",
        "---\n",
        "\n",
        "Complete the code below to split the data, using 80% for training and 20% for testing. **Make sure to use only the best 4 features found above.**"
      ]
    },
    {
      "cell_type": "code",
      "source": [],
      "metadata": {
        "id": "xl2yX7nusM5c"
      },
      "execution_count": null,
      "outputs": []
    },
    {
      "cell_type": "markdown",
      "metadata": {
        "id": "MQd2eelysM5c"
      },
      "source": [
        "#### **Step #4: Import the algorithm**\n",
        "---"
      ]
    },
    {
      "cell_type": "code",
      "source": [],
      "metadata": {
        "id": "V_v1QhUksM5d"
      },
      "execution_count": null,
      "outputs": []
    },
    {
      "cell_type": "markdown",
      "metadata": {
        "id": "ir3WstL_6HDO"
      },
      "source": [
        "#### **Step #5:  Initialize the model and set hyperparameters**\n",
        "---\n",
        "\n",
        "Specifically,\n",
        "* For Linear Regression, there are no hyperparameters to set.\n",
        "* For KNN, choose a reasonable value for `n_neighbors`. You are encouraged to try Steps #5 - 7 for several values and picking the model with the highest performance.\n",
        "* For Logistic Regression, decide whether you need to specify `multiclass = 'ovr'` or not.\n",
        "\n",
        "<br>\n",
        "\n",
        "**NOTE**: Since both KNN and Logistic Regression are used for classification, you should always try modeling the data with *both* and seeing which one works best after hyperparameter tuning."
      ]
    },
    {
      "cell_type": "code",
      "source": [
        "model_3 = # COMPLETE THIS LINE"
      ],
      "metadata": {
        "id": "HA_xwUw06HDP"
      },
      "execution_count": null,
      "outputs": []
    },
    {
      "cell_type": "markdown",
      "metadata": {
        "id": "hpHYTkTy6HDP"
      },
      "source": [
        "#### **Steps #6 - 7: Fit your model, evaluating using 10-Folds Cross Validation. Create a visualization if applicable**\n",
        "---\n",
        "\n",
        "Specifically,\n",
        "\n",
        "1. Fit the model to the training data, determining an average relevant evaluation metric using 10-Folds Cross Validation.\n",
        "2. Train the final model and visualize the results."
      ]
    },
    {
      "cell_type": "markdown",
      "source": [
        "##### **1. Fit the model to the training data, determining an average relevant evaluation metric using 10-Folds Cross Validation.**\n",
        "\n",
        "\n",
        "**NOTE**: The y-data in this section is still in the form of a pandas DataFrame, so to access a specific index you need to use `.iloc[...]`."
      ],
      "metadata": {
        "id": "2h1eFTcS6HDP"
      }
    },
    {
      "cell_type": "code",
      "source": [],
      "metadata": {
        "id": "PQHrHCkx6HDP"
      },
      "execution_count": null,
      "outputs": []
    },
    {
      "cell_type": "markdown",
      "source": [
        "##### **2. Visualize the results.**\n",
        "\n",
        "The code is provided for both linear regression and KNN, but it is up to you to decide which one makes the most sense here."
      ],
      "metadata": {
        "id": "etXvojxm6HDQ"
      }
    },
    {
      "cell_type": "markdown",
      "source": [
        "###### **Regression Visualization**"
      ],
      "metadata": {
        "id": "4L3NJvN_6HDQ"
      }
    },
    {
      "cell_type": "code",
      "source": [
        "# Visualize comparison of predictions vs. actual values\n",
        "plt.scatter(y_test, pred)\n",
        "plt.plot([y_test.min(), y_test.max()], [y_test.min(), y_test.max()], color = 'black', label='Correct Predictions')\n",
        "\n",
        "\n",
        "plt.xlabel('True Value')\n",
        "plt.ylabel('Predicted Value')\n",
        "plt.title('Real vs Value')\n",
        "plt.legend()\n",
        "\n",
        "plt.show()"
      ],
      "metadata": {
        "id": "khGmF3Ev6HDQ"
      },
      "execution_count": null,
      "outputs": []
    },
    {
      "cell_type": "markdown",
      "source": [
        "###### **Classification Visualization**"
      ],
      "metadata": {
        "id": "E7Bo6P_S6HDQ"
      }
    },
    {
      "cell_type": "code",
      "source": [
        "feature_1_name = 'Body Mass (g)'\n",
        "feature_2_name = 'Delta 15 N (o/oo)'\n",
        "\n",
        "# Make the same scatter plot of the training data\n",
        "fig, ax = plt.subplots(figsize=(10,6))\n",
        "\n",
        "xx, yy = np.meshgrid(np.arange(penguin_df[feature_1_name].min() - 1, penguin_df[feature_1_name].max() + 1, 100),\n",
        "                     np.arange(penguin_df[feature_2_name].min() - 1, penguin_df[feature_2_name].max() + 1, 0.1))\n",
        "\n",
        "means = best_features.mean()\n",
        "inputs = [[x, y, means[2], means[3]] for (x, y) in np.c_[xx.ravel(), yy.ravel()]]\n",
        "z = model_3.predict(scaler.transform(inputs))\n",
        "z = z.reshape(xx.shape)\n",
        "z = [[island_map[island] for island in islands] for islands in z]\n",
        "\n",
        "ax.pcolormesh(xx, yy, z, alpha=0.1)\n",
        "\n",
        "for label, data in penguin_df.groupby('Island'):\n",
        "  ax.scatter(data[feature_1_name], data[feature_2_name], label=label)\n",
        "\n",
        "ax.set_title(\"Decision Boundary of the Classifier\")\n",
        "ax.set_xlabel(feature_1_name)\n",
        "ax.set_ylabel(feature_2_name)\n",
        "ax.legend()\n",
        "plt.show()"
      ],
      "metadata": {
        "id": "x-Jddhbi6HDQ"
      },
      "execution_count": null,
      "outputs": []
    },
    {
      "cell_type": "markdown",
      "metadata": {
        "id": "WhgH5eyu6HDQ"
      },
      "source": [
        "#### **Step #8: Use the model**\n",
        "---\n",
        "\n",
        "Specifically,\n",
        "\n",
        "1. Predict the island of origin of two new penguins.\n",
        "\n",
        "2. Visualize the modeled relationship between `Island` and `Body Mass (g)` to see if a qualitative relationship can be inferred.\n",
        "\n",
        "3. *If you used linear regression*, look at the coefficients and intercept to determine the modeled relationships quantitatively."
      ]
    },
    {
      "cell_type": "markdown",
      "source": [
        "##### **1. Predict the island of origin of these new penguins:**\n",
        "\n",
        "**Penguin 1**\n",
        "\n",
        "* `Clutch Completion`: Yes\n",
        "* `Culmen Length (mm)`: 33\n",
        "* `Culmen Depth (mm)`: 15\n",
        "* `Flipper Length (mm)`: 250\n",
        "* `Body Mass (g)`: 4715\n",
        "* `Sex`: `'MALE'`\n",
        "* `Delta 15 N (o/oo)`: 8.7\n",
        "* `Delta 13 C (o/oo)`: -25.6\n",
        "* `Species`: `'Gentoo penguin (Pygoscelis papua)'`\n",
        "\n",
        "<br>\n",
        "\n",
        "**Penguin 2**\n",
        "\n",
        "* `Clutch Completion`: No\n",
        "* `Culmen Length (mm)`: 47\n",
        "* `Culmen Depth (mm)`: 18\n",
        "* `Flipper Length (mm)`: 175\n",
        "* `Body Mass (g)`: 3600\n",
        "* `Sex`: `'FEMALE'`\n",
        "* `Delta 15 N (o/oo)`: 8.7\n",
        "* `Delta 13 C (o/oo)`: -25.6\n",
        "* `Species`: `'Chinstrap penguin (Pygoscelis antarctica)'`\n",
        "\n",
        "<br>\n",
        "\n",
        "**NOTE**: You will need to use your `StandardScaler` to transform these new points *and* you will need to determine how these species are represented in this given encoding."
      ],
      "metadata": {
        "id": "-QudIVIq6HDQ"
      }
    },
    {
      "cell_type": "code",
      "source": [
        "X_train.columns"
      ],
      "metadata": {
        "id": "x0GjeWrm6HDQ"
      },
      "execution_count": null,
      "outputs": []
    },
    {
      "cell_type": "markdown",
      "source": [
        "##### **2. Visualize the modeled relationship between `Island` and `Body Mass (g)` in the test dataset to see if a qualitative relationship can be inferred.**\n",
        "\n",
        "\n",
        "**NOTE**: Here you can use the non-standardized, and more interpretable, `X_test` since the predictions have already been made."
      ],
      "metadata": {
        "id": "_HHZF2wo6HDR"
      }
    },
    {
      "cell_type": "code",
      "source": [],
      "metadata": {
        "id": "ymtk99sp6HDR"
      },
      "execution_count": null,
      "outputs": []
    },
    {
      "cell_type": "markdown",
      "source": [
        "##### **3. *If you used linear regression*, complete the cells below to look at the coefficients and intercept to determine the modeled relationships quantitatively.**"
      ],
      "metadata": {
        "id": "VMcgVad06HDR"
      }
    },
    {
      "cell_type": "code",
      "source": [
        "coefficients = model_1.# COMPLETE THIS LINE\n",
        "intercept = model_1.# COMPLETE THIS LINE\n",
        "\n",
        "coefficients = pd.DataFrame([coefficients], columns = X_test.columns)\n",
        "intercept = pd.DataFrame([intercept], columns = [\"Island\"])"
      ],
      "metadata": {
        "id": "_RsUr47R6HDR"
      },
      "execution_count": null,
      "outputs": []
    },
    {
      "cell_type": "code",
      "source": [
        "print(\"Coefficients:\")\n",
        "coefficients.head()"
      ],
      "metadata": {
        "id": "CW3zpCFk6HDR"
      },
      "execution_count": null,
      "outputs": []
    },
    {
      "cell_type": "code",
      "source": [
        "print(\"\\nIntercept:\")\n",
        "intercept.head()"
      ],
      "metadata": {
        "id": "yh-JN9cy6HDR"
      },
      "execution_count": null,
      "outputs": []
    },
    {
      "cell_type": "markdown",
      "source": [
        "<a name=\"p3w\"></a>\n",
        "\n",
        "---\n",
        "### **Part 3: Wrapup**\n",
        "---\n",
        "\n",
        "Now that you have trained several models to accomplish this task, answer the following questions:\n",
        "\n",
        "1. Is Linear Regression, KNN, or Logistic Regression better suited to this task? Why?\n",
        "2. Were there any hyperparameters you need to tune and, if so, what were the best values you found?\n",
        "3. Did selecting a smaller number of features improve or decrease the performance of your model?\n",
        "4. What 4 variables seem to play the largest role in determining the `Island` based on your work in this part?"
      ],
      "metadata": {
        "id": "f99CjA0aE5Gd"
      }
    },
    {
      "cell_type": "markdown",
      "source": [
        "# End of Notebook\n",
        "\n",
        "---\n",
        "© 2023 The Coding School, All rights reserved"
      ],
      "metadata": {
        "id": "hWa31NPJg0wd"
      }
    }
  ]
}