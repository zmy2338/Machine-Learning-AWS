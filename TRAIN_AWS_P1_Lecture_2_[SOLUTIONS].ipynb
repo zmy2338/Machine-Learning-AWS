{
  "nbformat": 4,
  "nbformat_minor": 0,
  "metadata": {
    "colab": {
      "provenance": [],
      "include_colab_link": true
    },
    "kernelspec": {
      "name": "python3",
      "display_name": "Python 3"
    },
    "language_info": {
      "name": "python"
    }
  },
  "cells": [
    {
      "cell_type": "markdown",
      "metadata": {
        "id": "view-in-github",
        "colab_type": "text"
      },
      "source": [
        "<a href=\"https://colab.research.google.com/github/zmy2338/Machine-Learning-AWS/blob/main/TRAIN_AWS_P1_Lecture_2_%5BSOLUTIONS%5D.ipynb\" target=\"_parent\"><img src=\"https://colab.research.google.com/assets/colab-badge.svg\" alt=\"Open In Colab\"/></a>"
      ]
    },
    {
      "cell_type": "markdown",
      "source": [
        "# **Lecture #2: Exploratory Data Analysis (EDA)**\n",
        "---\n",
        "**Description:**  Exploratory Data Analysis (EDA) is a crucial step in the data analysis process that involves exploring and understanding the data to gain insights, identify patterns, and detect anomalies. EDA allows us to understand the underlying structure of the data, test assumptions, and prepare the data for further analysis. This lecture notebook will provide practice utilizing basic Pandas commands and exploring rows and columns as part of the EDA process.\n",
        "<br>\n",
        "\n",
        "**Lecture Notebook Structure:**\n",
        "\n",
        "**Part 1**: [Reviewing EDA](#p1)\n",
        "\n",
        "**Part 2**: [Exploring the mean, median and sum](#p2)\n",
        "\n",
        "**Part 3**: [Working with rows and columns on the Linnerud dataset](#p3)\n",
        "\n",
        "**Part 4**: [[OPTIONAL] Reviewing EDA](#p4)\n",
        "\n",
        "\n",
        "\n",
        "</br>\n",
        "\n",
        "\n",
        "**Goals:** By the end of this project, you will:\n",
        "* Be able to use basic Pandas commands.\n",
        "* Be able to explore basic information about datasets.\n",
        "* Know how to explore columns, rows, values, outliers, and more.\n",
        "* Be able to remove missing values, or incorrect values.\n",
        "* Practice data cleaning on real-world datasets.\n",
        "\n",
        "</br> \n",
        "\n",
        "### **Cheat Sheets**\n",
        "[EDA cheatsheet](https://drive.google.com/file/d/1ZZnIzgcT8dYcGwWVAR9DDFIwGXTGbIiU/view?usp=sharing)\n",
        "\n",
        "[Pandas cheatsheet](https://docs.google.com/document/d/1v-MZCgoZJGRcK-69OOu5fYhm58x2G0JUWyi2H53j8Ls/edit)"
      ],
      "metadata": {
        "id": "v0TX4pWV4FLr"
      }
    },
    {
      "cell_type": "markdown",
      "source": [
        "<a name=\"p1\"></a>\n",
        "\n",
        "## **Part 1: Reviewing EDA**\n",
        "---\n",
        "This dataset contains information on five students and their test scores in three subjects: math, English, and science. \n",
        "\n",
        "**Run the cell to import the dataset and create the dataframe.**"
      ],
      "metadata": {
        "id": "It4Nwgcu8ySy"
      }
    },
    {
      "cell_type": "code",
      "source": [
        "data = {'Name': ['Alice', 'Bob', 'Charlie', 'David', 'Emma'],\n",
        "'Math Score': [75, 80, 90, 70, 85],\n",
        "'English Score': [80, 70, 85, 90, 75],\n",
        "'Science Score': [90, 85, 80, 75, 95]}\n",
        "\n",
        "student_df = pd.DataFrame(data)\n",
        "student_df"
      ],
      "metadata": {
        "id": "gkG4ItWD9ALn"
      },
      "execution_count": null,
      "outputs": []
    },
    {
      "cell_type": "markdown",
      "source": [
        "### **Exercise #1:** What are the column names in the dataset?"
      ],
      "metadata": {
        "id": "G2Fwta6W9VEp"
      }
    },
    {
      "cell_type": "code",
      "source": [],
      "metadata": {
        "id": "_IJ5XA6Z9aYr"
      },
      "execution_count": null,
      "outputs": []
    },
    {
      "cell_type": "markdown",
      "source": [
        "#### **Solution**"
      ],
      "metadata": {
        "id": "ayt_eGjf9alC"
      }
    },
    {
      "cell_type": "code",
      "source": [
        "print(\"Column names:\", student_df.columns)"
      ],
      "metadata": {
        "colab": {
          "base_uri": "https://localhost:8080/"
        },
        "id": "H0IiNbBC9a5I",
        "outputId": "9cc50436-7eae-48a5-ea3f-3d6f071cf24f"
      },
      "execution_count": null,
      "outputs": [
        {
          "output_type": "stream",
          "name": "stdout",
          "text": [
            "Column names: Index(['Name', 'Math Score', 'English Score', 'Science Score'], dtype='object')\n"
          ]
        }
      ]
    },
    {
      "cell_type": "markdown",
      "source": [
        "### **Exercise #2:** Print the first three rows."
      ],
      "metadata": {
        "id": "GrzYxy_z-6Lz"
      }
    },
    {
      "cell_type": "code",
      "source": [],
      "metadata": {
        "id": "eub-M5GI-8zP"
      },
      "execution_count": null,
      "outputs": []
    },
    {
      "cell_type": "markdown",
      "source": [
        "#### **Solution**"
      ],
      "metadata": {
        "id": "DViclVl1-9BC"
      }
    },
    {
      "cell_type": "code",
      "source": [
        "student_df.head(3)"
      ],
      "metadata": {
        "colab": {
          "base_uri": "https://localhost:8080/",
          "height": 143
        },
        "id": "zHHLjvAG--Q6",
        "outputId": "233af1f8-fa7d-4ead-f26d-11bc38f32695"
      },
      "execution_count": null,
      "outputs": [
        {
          "output_type": "execute_result",
          "data": {
            "text/plain": [
              "      Name  Math Score  English Score  Science Score\n",
              "0    Alice          75             80             90\n",
              "1      Bob          80             70             85\n",
              "2  Charlie          90             85             80"
            ],
            "text/html": [
              "\n",
              "  <div id=\"df-94ffcbc9-c7fe-4443-a6d5-8d9d5d62bf10\">\n",
              "    <div class=\"colab-df-container\">\n",
              "      <div>\n",
              "<style scoped>\n",
              "    .dataframe tbody tr th:only-of-type {\n",
              "        vertical-align: middle;\n",
              "    }\n",
              "\n",
              "    .dataframe tbody tr th {\n",
              "        vertical-align: top;\n",
              "    }\n",
              "\n",
              "    .dataframe thead th {\n",
              "        text-align: right;\n",
              "    }\n",
              "</style>\n",
              "<table border=\"1\" class=\"dataframe\">\n",
              "  <thead>\n",
              "    <tr style=\"text-align: right;\">\n",
              "      <th></th>\n",
              "      <th>Name</th>\n",
              "      <th>Math Score</th>\n",
              "      <th>English Score</th>\n",
              "      <th>Science Score</th>\n",
              "    </tr>\n",
              "  </thead>\n",
              "  <tbody>\n",
              "    <tr>\n",
              "      <th>0</th>\n",
              "      <td>Alice</td>\n",
              "      <td>75</td>\n",
              "      <td>80</td>\n",
              "      <td>90</td>\n",
              "    </tr>\n",
              "    <tr>\n",
              "      <th>1</th>\n",
              "      <td>Bob</td>\n",
              "      <td>80</td>\n",
              "      <td>70</td>\n",
              "      <td>85</td>\n",
              "    </tr>\n",
              "    <tr>\n",
              "      <th>2</th>\n",
              "      <td>Charlie</td>\n",
              "      <td>90</td>\n",
              "      <td>85</td>\n",
              "      <td>80</td>\n",
              "    </tr>\n",
              "  </tbody>\n",
              "</table>\n",
              "</div>\n",
              "      <button class=\"colab-df-convert\" onclick=\"convertToInteractive('df-94ffcbc9-c7fe-4443-a6d5-8d9d5d62bf10')\"\n",
              "              title=\"Convert this dataframe to an interactive table.\"\n",
              "              style=\"display:none;\">\n",
              "        \n",
              "  <svg xmlns=\"http://www.w3.org/2000/svg\" height=\"24px\"viewBox=\"0 0 24 24\"\n",
              "       width=\"24px\">\n",
              "    <path d=\"M0 0h24v24H0V0z\" fill=\"none\"/>\n",
              "    <path d=\"M18.56 5.44l.94 2.06.94-2.06 2.06-.94-2.06-.94-.94-2.06-.94 2.06-2.06.94zm-11 1L8.5 8.5l.94-2.06 2.06-.94-2.06-.94L8.5 2.5l-.94 2.06-2.06.94zm10 10l.94 2.06.94-2.06 2.06-.94-2.06-.94-.94-2.06-.94 2.06-2.06.94z\"/><path d=\"M17.41 7.96l-1.37-1.37c-.4-.4-.92-.59-1.43-.59-.52 0-1.04.2-1.43.59L10.3 9.45l-7.72 7.72c-.78.78-.78 2.05 0 2.83L4 21.41c.39.39.9.59 1.41.59.51 0 1.02-.2 1.41-.59l7.78-7.78 2.81-2.81c.8-.78.8-2.07 0-2.86zM5.41 20L4 18.59l7.72-7.72 1.47 1.35L5.41 20z\"/>\n",
              "  </svg>\n",
              "      </button>\n",
              "      \n",
              "  <style>\n",
              "    .colab-df-container {\n",
              "      display:flex;\n",
              "      flex-wrap:wrap;\n",
              "      gap: 12px;\n",
              "    }\n",
              "\n",
              "    .colab-df-convert {\n",
              "      background-color: #E8F0FE;\n",
              "      border: none;\n",
              "      border-radius: 50%;\n",
              "      cursor: pointer;\n",
              "      display: none;\n",
              "      fill: #1967D2;\n",
              "      height: 32px;\n",
              "      padding: 0 0 0 0;\n",
              "      width: 32px;\n",
              "    }\n",
              "\n",
              "    .colab-df-convert:hover {\n",
              "      background-color: #E2EBFA;\n",
              "      box-shadow: 0px 1px 2px rgba(60, 64, 67, 0.3), 0px 1px 3px 1px rgba(60, 64, 67, 0.15);\n",
              "      fill: #174EA6;\n",
              "    }\n",
              "\n",
              "    [theme=dark] .colab-df-convert {\n",
              "      background-color: #3B4455;\n",
              "      fill: #D2E3FC;\n",
              "    }\n",
              "\n",
              "    [theme=dark] .colab-df-convert:hover {\n",
              "      background-color: #434B5C;\n",
              "      box-shadow: 0px 1px 3px 1px rgba(0, 0, 0, 0.15);\n",
              "      filter: drop-shadow(0px 1px 2px rgba(0, 0, 0, 0.3));\n",
              "      fill: #FFFFFF;\n",
              "    }\n",
              "  </style>\n",
              "\n",
              "      <script>\n",
              "        const buttonEl =\n",
              "          document.querySelector('#df-94ffcbc9-c7fe-4443-a6d5-8d9d5d62bf10 button.colab-df-convert');\n",
              "        buttonEl.style.display =\n",
              "          google.colab.kernel.accessAllowed ? 'block' : 'none';\n",
              "\n",
              "        async function convertToInteractive(key) {\n",
              "          const element = document.querySelector('#df-94ffcbc9-c7fe-4443-a6d5-8d9d5d62bf10');\n",
              "          const dataTable =\n",
              "            await google.colab.kernel.invokeFunction('convertToInteractive',\n",
              "                                                     [key], {});\n",
              "          if (!dataTable) return;\n",
              "\n",
              "          const docLinkHtml = 'Like what you see? Visit the ' +\n",
              "            '<a target=\"_blank\" href=https://colab.research.google.com/notebooks/data_table.ipynb>data table notebook</a>'\n",
              "            + ' to learn more about interactive tables.';\n",
              "          element.innerHTML = '';\n",
              "          dataTable['output_type'] = 'display_data';\n",
              "          await google.colab.output.renderOutput(dataTable, element);\n",
              "          const docLink = document.createElement('div');\n",
              "          docLink.innerHTML = docLinkHtml;\n",
              "          element.appendChild(docLink);\n",
              "        }\n",
              "      </script>\n",
              "    </div>\n",
              "  </div>\n",
              "  "
            ]
          },
          "metadata": {},
          "execution_count": 11
        }
      ]
    },
    {
      "cell_type": "markdown",
      "source": [
        "### **Exercise #3:** What is the dimension of the dataframe?"
      ],
      "metadata": {
        "id": "YuvRDNzkHpGn"
      }
    },
    {
      "cell_type": "code",
      "source": [],
      "metadata": {
        "id": "qJgfDK45-GWf"
      },
      "execution_count": null,
      "outputs": []
    },
    {
      "cell_type": "markdown",
      "source": [
        "#### **Solution**"
      ],
      "metadata": {
        "id": "HFKxOBMt-E46"
      }
    },
    {
      "cell_type": "code",
      "source": [
        "print(student_df.shape)"
      ],
      "metadata": {
        "colab": {
          "base_uri": "https://localhost:8080/"
        },
        "id": "_RW77U_I977a",
        "outputId": "e8ed9b81-7cbd-4961-912a-60103b612ea1"
      },
      "execution_count": null,
      "outputs": [
        {
          "output_type": "stream",
          "name": "stdout",
          "text": [
            "(5, 4)\n"
          ]
        }
      ]
    },
    {
      "cell_type": "markdown",
      "source": [
        "### **Exercise #4:** Print basic statistical data for the dataset (mean, standard deviation, etc)."
      ],
      "metadata": {
        "id": "O5pXaelP99pT"
      }
    },
    {
      "cell_type": "code",
      "source": [],
      "metadata": {
        "id": "3ve_vKoe_N4r"
      },
      "execution_count": null,
      "outputs": []
    },
    {
      "cell_type": "markdown",
      "source": [
        "#### **Solution**"
      ],
      "metadata": {
        "id": "8r09yr1i_Nmh"
      }
    },
    {
      "cell_type": "code",
      "source": [
        "# Print basic statistical data for the dataset\n",
        "print(student_df.describe())"
      ],
      "metadata": {
        "colab": {
          "base_uri": "https://localhost:8080/"
        },
        "id": "4fXT98fl_OI6",
        "outputId": "a6ba3664-cdeb-40a5-e753-88a856f11bc4"
      },
      "execution_count": null,
      "outputs": [
        {
          "output_type": "stream",
          "name": "stdout",
          "text": [
            "       Math Score  English Score  Science Score\n",
            "count    5.000000       5.000000       5.000000\n",
            "mean    80.000000      80.000000      85.000000\n",
            "std      7.905694       7.905694       7.905694\n",
            "min     70.000000      70.000000      75.000000\n",
            "25%     75.000000      75.000000      80.000000\n",
            "50%     80.000000      80.000000      85.000000\n",
            "75%     85.000000      85.000000      90.000000\n",
            "max     90.000000      90.000000      95.000000\n"
          ]
        }
      ]
    },
    {
      "cell_type": "markdown",
      "source": [
        "### **Exercise #5:** What is the mean for Science Score?"
      ],
      "metadata": {
        "id": "zcBND2T2_Rf1"
      }
    },
    {
      "cell_type": "code",
      "source": [
        "\"\"\"\n",
        "\n",
        "\" Answer here \"\n",
        "\n",
        "\n",
        "\"\"\""
      ],
      "metadata": {
        "id": "_SuQme8B_XzN"
      },
      "execution_count": null,
      "outputs": []
    },
    {
      "cell_type": "markdown",
      "source": [
        "#### **Solution**"
      ],
      "metadata": {
        "id": "d--0UlN-iazc"
      }
    },
    {
      "cell_type": "code",
      "source": [
        "# The mean is 85"
      ],
      "metadata": {
        "id": "4QyzUH_nzgIQ"
      },
      "execution_count": null,
      "outputs": []
    },
    {
      "cell_type": "markdown",
      "source": [
        "<a name=\"p2\"></a>\n",
        "## **Part 2: Working with rows and columns on the Linnerud dataset**\n",
        "\n",
        "---\n",
        "\n",
        "The Linnerud dataset is a small but useful dataset that consists of data on three different exercises performed by 20 middle-aged men at a fitness center. The three exercise variables included in the dataset are `chins`, `situps`, and `jumps`.\n",
        "\n",
        "- `chins`: number of chin-ups performed by each participant\n",
        "- `situps`: number of sit-ups performed by each participant\n",
        "- `jumps`: number of jumping jacks performed by each participant\n",
        "\n",
        "By analyzing the data, we can gain insights into which exercises are most effective at building strength and endurance in this population.\n",
        "\n",
        "<br>\n",
        "\n",
        "**Run the following code before answering questions.**"
      ],
      "metadata": {
        "id": "ikcUW1sva8x9"
      }
    },
    {
      "cell_type": "code",
      "source": [
        " # import pandas as pd \n",
        "import pandas as pd\n",
        "\n",
        "# Import datasets submodule\n",
        "from sklearn import datasets\n",
        "\n",
        "# Load dataset (actual data with associated documentation)\n",
        "linnerud = datasets.load_linnerud()\n",
        "\n",
        "# Create dataframe\n",
        "linnerud_df = pd.DataFrame(data=linnerud.data,columns=linnerud.feature_names)\n",
        "linnerud_df"
      ],
      "metadata": {
        "id": "Y2CMMuJNWesG"
      },
      "execution_count": null,
      "outputs": []
    },
    {
      "cell_type": "markdown",
      "source": [
        "### **Exercise #1:** What is the 16th value for `Chins`?\n",
        "\n",
        "There are numerous ways to select and display a specific value. Remember, **Python uses 0-based indexing**, so the 16th row has an index of 15. You can either access only the 16th row to retrieve the 16th value, *or* you can select the 16th row and 1st column."
      ],
      "metadata": {
        "id": "Y0jjxuXWWe8Q"
      }
    },
    {
      "cell_type": "code",
      "source": [
        "# Print the 16th value for Chins\n"
      ],
      "metadata": {
        "id": "KItXyQ1msYkF"
      },
      "execution_count": null,
      "outputs": []
    },
    {
      "cell_type": "markdown",
      "source": [
        "#### **Solution**"
      ],
      "metadata": {
        "id": "lBgbIuCEsYTM"
      }
    },
    {
      "cell_type": "code",
      "source": [
        "# first way\n",
        "print(\"way 1: \", linnerud_df[\"Chins\"][15])\n",
        "# second way\n",
        "print(\"way 2: \", linnerud_df.iloc[15, 0])"
      ],
      "metadata": {
        "id": "Wavqv5UkWmB4"
      },
      "execution_count": null,
      "outputs": []
    },
    {
      "cell_type": "markdown",
      "source": [
        "#### **Exercise #2:** What is the 9th value for `Situps`?"
      ],
      "metadata": {
        "id": "1HZCHIyAWnp0"
      }
    },
    {
      "cell_type": "code",
      "source": [
        "# Print the 9th value for Situps\n"
      ],
      "metadata": {
        "id": "8dQWp91CuLGr"
      },
      "execution_count": null,
      "outputs": []
    },
    {
      "cell_type": "markdown",
      "source": [
        "#### **Solution**"
      ],
      "metadata": {
        "id": "O0V17mT5uKoY"
      }
    },
    {
      "cell_type": "code",
      "source": [
        "# first way\n",
        "print(\"way 1: \", linnerud_df[\"Situps\"][8])\n",
        "# second way\n",
        "print(\"way 2: \", linnerud_df.iloc[8, 1])"
      ],
      "metadata": {
        "id": "yFZy2KwaWqYx"
      },
      "execution_count": null,
      "outputs": []
    },
    {
      "cell_type": "markdown",
      "source": [
        "### **Exercise #3:** Print the entire fourth row."
      ],
      "metadata": {
        "id": "rfB4f8spWqe_"
      }
    },
    {
      "cell_type": "code",
      "source": [
        "# Print the entire fourth row\n"
      ],
      "metadata": {
        "id": "kK0dY9CjuL_N"
      },
      "execution_count": null,
      "outputs": []
    },
    {
      "cell_type": "markdown",
      "source": [
        "#### **Solution**"
      ],
      "metadata": {
        "id": "fPRbRyvWuLtx"
      }
    },
    {
      "cell_type": "code",
      "source": [
        "linnerud_df.iloc[3]"
      ],
      "metadata": {
        "id": "zfVYEGiFWuTP"
      },
      "execution_count": null,
      "outputs": []
    },
    {
      "cell_type": "markdown",
      "source": [
        "### **Exercise #4:** Print the `Jumps` column."
      ],
      "metadata": {
        "id": "mHX2gQZlWuZy"
      }
    },
    {
      "cell_type": "code",
      "source": [
        "# Print the Jumps column\n"
      ],
      "metadata": {
        "id": "woGaCsK-uMzT"
      },
      "execution_count": null,
      "outputs": []
    },
    {
      "cell_type": "markdown",
      "source": [
        "#### **Solution**"
      ],
      "metadata": {
        "id": "GJ8ZWU0uuMgB"
      }
    },
    {
      "cell_type": "code",
      "source": [
        "linnerud_df[\"Jumps\"]"
      ],
      "metadata": {
        "id": "HppUPQDBWyNd"
      },
      "execution_count": null,
      "outputs": []
    },
    {
      "cell_type": "markdown",
      "source": [
        "### **Exercise #5:** Print the 12th-16th rows."
      ],
      "metadata": {
        "id": "I19hBFaUWyUi"
      }
    },
    {
      "cell_type": "code",
      "source": [
        "# Print the 12th-16th rows\n"
      ],
      "metadata": {
        "id": "UO9uhlRwuNrI"
      },
      "execution_count": null,
      "outputs": []
    },
    {
      "cell_type": "markdown",
      "source": [
        "#### **Solution**"
      ],
      "metadata": {
        "id": "QfrRIpEKuNed"
      }
    },
    {
      "cell_type": "code",
      "source": [
        "linnerud_df.iloc[11:16]"
      ],
      "metadata": {
        "id": "czK_mrLhW1wD"
      },
      "execution_count": null,
      "outputs": []
    },
    {
      "cell_type": "markdown",
      "source": [
        "<a name=\"p3\"></a>\n",
        "## **Part 3: Exploring the mean, median and sum**\n",
        "---\n",
        "We will continue with the Linnerud dataset, exploring this time the mean, median and sum for each of the variables. \n",
        "\n",
        "These statistics can provide insights into the overall distribution of the data, which can be useful in understanding the characteristics of the dataset that help researchers make data-driven decisions."
      ],
      "metadata": {
        "id": "ivRt-96jWOKR"
      }
    },
    {
      "cell_type": "markdown",
      "source": [
        "### **Exercise #1:** Find the mean  for `Jumps`.\n",
        "\n",
        "The mean and median can give an idea of the typical or central value of a variable, while the sum can indicate the total amount of a variable across all observations. These statistics can be used to summarize the data for a report or visualize the data in a chart, as well as for inferential purposes (i.e. testing hypotheses or making predictions). "
      ],
      "metadata": {
        "id": "LJghlfacN1yP"
      }
    },
    {
      "cell_type": "code",
      "source": [
        "# Mean for Jumps\n"
      ],
      "metadata": {
        "id": "b_5mEYKFuPIa"
      },
      "execution_count": null,
      "outputs": []
    },
    {
      "cell_type": "markdown",
      "source": [
        "#### **Solution**"
      ],
      "metadata": {
        "id": "Y5cDCDV1uO4Z"
      }
    },
    {
      "cell_type": "code",
      "source": [
        "print(\"mean: \", linnerud_df[\"Jumps\"].mean())\n"
      ],
      "metadata": {
        "id": "05OnQlY3OGAW"
      },
      "execution_count": null,
      "outputs": []
    },
    {
      "cell_type": "markdown",
      "source": [
        "### **Exercise #2:** Find the median  for `Jumps`.\n"
      ],
      "metadata": {
        "id": "GzeF9ws3OHg-"
      }
    },
    {
      "cell_type": "code",
      "source": [],
      "metadata": {
        "id": "lXhCRVKYOPOA"
      },
      "execution_count": null,
      "outputs": []
    },
    {
      "cell_type": "markdown",
      "source": [
        "#### **Solution**"
      ],
      "metadata": {
        "id": "mmbvnHfQOPbI"
      }
    },
    {
      "cell_type": "code",
      "source": [
        "print(\"median: \", linnerud_df[\"Jumps\"].median())\n"
      ],
      "metadata": {
        "id": "4qzHS3G-OQnU"
      },
      "execution_count": null,
      "outputs": []
    },
    {
      "cell_type": "markdown",
      "source": [
        "### **Exercise #3:** Find the sum  for `Jumps`.\n"
      ],
      "metadata": {
        "id": "chXUFMrSORJx"
      }
    },
    {
      "cell_type": "code",
      "source": [],
      "metadata": {
        "id": "ARvyYeU-OVwH"
      },
      "execution_count": null,
      "outputs": []
    },
    {
      "cell_type": "markdown",
      "source": [
        "#### **Solution**"
      ],
      "metadata": {
        "id": "AgvnzqaAOWFZ"
      }
    },
    {
      "cell_type": "code",
      "source": [
        "print(\"sum: \", linnerud_df[\"Jumps\"].sum())"
      ],
      "metadata": {
        "id": "yzrIb0NCOZyq"
      },
      "execution_count": null,
      "outputs": []
    },
    {
      "cell_type": "markdown",
      "source": [
        "---\n",
        "#### **Try Exercise #4-6 on your own!**\n",
        "---"
      ],
      "metadata": {
        "id": "I67Q5HpdZr7K"
      }
    },
    {
      "cell_type": "markdown",
      "source": [
        "### **Exercise #4:** Find the mean for `Situps`."
      ],
      "metadata": {
        "id": "ZUCPD7TeW-yg"
      }
    },
    {
      "cell_type": "code",
      "source": [
        "# Mean, median and sum for Situps\n"
      ],
      "metadata": {
        "id": "7bxc_RMNuQxX"
      },
      "execution_count": null,
      "outputs": []
    },
    {
      "cell_type": "markdown",
      "source": [
        "#### **Solution**"
      ],
      "metadata": {
        "id": "FLHs975CuQlb"
      }
    },
    {
      "cell_type": "code",
      "source": [
        "print(\"mean: \", linnerud_df[\"Situps\"].mean())"
      ],
      "metadata": {
        "id": "a2P6hCBfW-4t"
      },
      "execution_count": null,
      "outputs": []
    },
    {
      "cell_type": "markdown",
      "source": [
        "### **Exercise #5:** Find the median for `Situps`."
      ],
      "metadata": {
        "id": "qgmcQYKpOdh5"
      }
    },
    {
      "cell_type": "code",
      "source": [],
      "metadata": {
        "id": "HXRFGfljOko4"
      },
      "execution_count": null,
      "outputs": []
    },
    {
      "cell_type": "markdown",
      "source": [
        "#### **Solution**"
      ],
      "metadata": {
        "id": "CTUYN3xIOk0h"
      }
    },
    {
      "cell_type": "code",
      "source": [
        "print(\"median: \", linnerud_df[\"Situps\"].median())"
      ],
      "metadata": {
        "id": "_E0t2yWXOm65"
      },
      "execution_count": null,
      "outputs": []
    },
    {
      "cell_type": "markdown",
      "source": [
        "### **Exercise #6:** Find the sum for `Situps`."
      ],
      "metadata": {
        "id": "qksld4APOnok"
      }
    },
    {
      "cell_type": "code",
      "source": [],
      "metadata": {
        "id": "NhjRWmXUO3eT"
      },
      "execution_count": null,
      "outputs": []
    },
    {
      "cell_type": "markdown",
      "source": [
        "#### **Solution**"
      ],
      "metadata": {
        "id": "TkACZH5uO3xY"
      }
    },
    {
      "cell_type": "code",
      "source": [
        "print(\"sum: \", linnerud_df[\"Situps\"].sum())"
      ],
      "metadata": {
        "id": "KKLH4FEYO4Hh"
      },
      "execution_count": null,
      "outputs": []
    },
    {
      "cell_type": "markdown",
      "source": [
        "<a name=\"p4\"></a>\n",
        "## **Part 4: EDA Review**\n",
        "---\n",
        "This dataset was created manually using information from IMDb, Rotten Tomatoes, and Metacritic.The columns in the dataset include:\n",
        "\n",
        "- Movie: the title of the movie\n",
        "- IMDb: the rating of the movie on IMDb, on a scale from 0 to 10\n",
        "- Rotten Tomatoes: the rating of the movie on Rotten Tomatoes, on a scale from 0 to 100\n",
        "- Metacritic: the rating of the movie on Metacritic, on a scale from 0 to 100\n",
        "\n",
        "\n",
        "**Run the code cell below to import the dataframe.**"
      ],
      "metadata": {
        "id": "3Bm-8ZndbOXW"
      }
    },
    {
      "cell_type": "code",
      "source": [
        "import pandas as pd\n",
        "\n",
        "data = {'Movie': ['The Godfather', 'The Shawshank Redemption', 'The Dark Knight', 'Pulp Fiction', 'The Silence of the Lambs'],\n",
        "        'IMDb': [9.2, 9.3, 9.0, 8.9, 8.6],\n",
        "        'Rotten Tomatoes': [97, 91, 94, 94, 96],\n",
        "        'Metacritic': [100, 80, 84, 94, 85]}\n",
        "\n",
        "movies_df = pd.DataFrame(data)\n",
        "movies_df\n"
      ],
      "metadata": {
        "id": "qjdSc74Cb_EN"
      },
      "execution_count": null,
      "outputs": []
    },
    {
      "cell_type": "markdown",
      "source": [
        "### **Exercise #1:** What are the column names in the dataset?\n"
      ],
      "metadata": {
        "id": "KxXNuRqHbOXX"
      }
    },
    {
      "cell_type": "code",
      "source": [],
      "metadata": {
        "id": "D2x-b6_icFoO"
      },
      "execution_count": null,
      "outputs": []
    },
    {
      "cell_type": "markdown",
      "source": [
        "#### **Solution**"
      ],
      "metadata": {
        "id": "FlKPGaQNcF2F"
      }
    },
    {
      "cell_type": "code",
      "source": [
        "print(\"Column names:\", movies_df.columns)\n"
      ],
      "metadata": {
        "colab": {
          "base_uri": "https://localhost:8080/"
        },
        "id": "xh2AshofcEGM",
        "outputId": "475c56cd-81ea-40fa-ff5d-8193b220e316"
      },
      "execution_count": null,
      "outputs": [
        {
          "output_type": "stream",
          "name": "stdout",
          "text": [
            "Column names: Index(['Movie', 'IMDb', 'Rotten Tomatoes', 'Metacritic'], dtype='object')\n"
          ]
        }
      ]
    },
    {
      "cell_type": "markdown",
      "source": [
        "### **Exercise #2:** Print the entire third row."
      ],
      "metadata": {
        "id": "KDjkMpmfcH4u"
      }
    },
    {
      "cell_type": "code",
      "source": [],
      "metadata": {
        "id": "JFTlN0oUcOJA"
      },
      "execution_count": null,
      "outputs": []
    },
    {
      "cell_type": "markdown",
      "source": [
        "#### **Solution**"
      ],
      "metadata": {
        "id": "gj-j7R6mcOW_"
      }
    },
    {
      "cell_type": "code",
      "source": [
        "movies_df.iloc[2]\n"
      ],
      "metadata": {
        "colab": {
          "base_uri": "https://localhost:8080/"
        },
        "id": "ZiWmTDK9cHqL",
        "outputId": "01203aee-f81c-41bf-d369-e8d55214636b"
      },
      "execution_count": null,
      "outputs": [
        {
          "output_type": "execute_result",
          "data": {
            "text/plain": [
              "Movie              The Dark Knight\n",
              "IMDb                           9.0\n",
              "Rotten Tomatoes                 94\n",
              "Metacritic                      84\n",
              "Name: 2, dtype: object"
            ]
          },
          "metadata": {},
          "execution_count": 25
        }
      ]
    },
    {
      "cell_type": "markdown",
      "source": [
        "### **Exercise #3:** Print the IMDb column."
      ],
      "metadata": {
        "id": "jZPWGOzpcPsG"
      }
    },
    {
      "cell_type": "code",
      "source": [],
      "metadata": {
        "id": "bY5_xbOOcTVW"
      },
      "execution_count": null,
      "outputs": []
    },
    {
      "cell_type": "markdown",
      "source": [
        "#### **Solution**"
      ],
      "metadata": {
        "id": "wvJJLkt0cTzw"
      }
    },
    {
      "cell_type": "code",
      "source": [
        "movies_df['IMDb']\n"
      ],
      "metadata": {
        "colab": {
          "base_uri": "https://localhost:8080/"
        },
        "id": "Lg3rAiTWcUEi",
        "outputId": "40748245-3f18-4b1b-eb6d-6b9be7fc3913"
      },
      "execution_count": null,
      "outputs": [
        {
          "output_type": "execute_result",
          "data": {
            "text/plain": [
              "0    9.2\n",
              "1    9.3\n",
              "2    9.0\n",
              "3    8.9\n",
              "4    8.6\n",
              "Name: IMDb, dtype: float64"
            ]
          },
          "metadata": {},
          "execution_count": 29
        }
      ]
    },
    {
      "cell_type": "markdown",
      "source": [
        "### **Exercise #4:** Print the first five rows."
      ],
      "metadata": {
        "id": "tn5oftHPcVgy"
      }
    },
    {
      "cell_type": "code",
      "source": [],
      "metadata": {
        "id": "nCn1I-fjcZVX"
      },
      "execution_count": null,
      "outputs": []
    },
    {
      "cell_type": "markdown",
      "source": [
        "#### **Solution**"
      ],
      "metadata": {
        "id": "4XtXRUbgcZjI"
      }
    },
    {
      "cell_type": "code",
      "source": [
        "movies_df.head(5)\n"
      ],
      "metadata": {
        "colab": {
          "base_uri": "https://localhost:8080/",
          "height": 206
        },
        "id": "bDQ6Q8gmcY0y",
        "outputId": "caf6be4c-85c2-4df4-9758-0d80b05593a1"
      },
      "execution_count": null,
      "outputs": [
        {
          "output_type": "execute_result",
          "data": {
            "text/plain": [
              "                      Movie  IMDb  Rotten Tomatoes  Metacritic\n",
              "0             The Godfather   9.2               97         100\n",
              "1  The Shawshank Redemption   9.3               91          80\n",
              "2           The Dark Knight   9.0               94          84\n",
              "3              Pulp Fiction   8.9               94          94\n",
              "4  The Silence of the Lambs   8.6               96          85"
            ],
            "text/html": [
              "\n",
              "  <div id=\"df-29b5ec16-70b7-4bc6-a0ea-84ad43fc798b\">\n",
              "    <div class=\"colab-df-container\">\n",
              "      <div>\n",
              "<style scoped>\n",
              "    .dataframe tbody tr th:only-of-type {\n",
              "        vertical-align: middle;\n",
              "    }\n",
              "\n",
              "    .dataframe tbody tr th {\n",
              "        vertical-align: top;\n",
              "    }\n",
              "\n",
              "    .dataframe thead th {\n",
              "        text-align: right;\n",
              "    }\n",
              "</style>\n",
              "<table border=\"1\" class=\"dataframe\">\n",
              "  <thead>\n",
              "    <tr style=\"text-align: right;\">\n",
              "      <th></th>\n",
              "      <th>Movie</th>\n",
              "      <th>IMDb</th>\n",
              "      <th>Rotten Tomatoes</th>\n",
              "      <th>Metacritic</th>\n",
              "    </tr>\n",
              "  </thead>\n",
              "  <tbody>\n",
              "    <tr>\n",
              "      <th>0</th>\n",
              "      <td>The Godfather</td>\n",
              "      <td>9.2</td>\n",
              "      <td>97</td>\n",
              "      <td>100</td>\n",
              "    </tr>\n",
              "    <tr>\n",
              "      <th>1</th>\n",
              "      <td>The Shawshank Redemption</td>\n",
              "      <td>9.3</td>\n",
              "      <td>91</td>\n",
              "      <td>80</td>\n",
              "    </tr>\n",
              "    <tr>\n",
              "      <th>2</th>\n",
              "      <td>The Dark Knight</td>\n",
              "      <td>9.0</td>\n",
              "      <td>94</td>\n",
              "      <td>84</td>\n",
              "    </tr>\n",
              "    <tr>\n",
              "      <th>3</th>\n",
              "      <td>Pulp Fiction</td>\n",
              "      <td>8.9</td>\n",
              "      <td>94</td>\n",
              "      <td>94</td>\n",
              "    </tr>\n",
              "    <tr>\n",
              "      <th>4</th>\n",
              "      <td>The Silence of the Lambs</td>\n",
              "      <td>8.6</td>\n",
              "      <td>96</td>\n",
              "      <td>85</td>\n",
              "    </tr>\n",
              "  </tbody>\n",
              "</table>\n",
              "</div>\n",
              "      <button class=\"colab-df-convert\" onclick=\"convertToInteractive('df-29b5ec16-70b7-4bc6-a0ea-84ad43fc798b')\"\n",
              "              title=\"Convert this dataframe to an interactive table.\"\n",
              "              style=\"display:none;\">\n",
              "        \n",
              "  <svg xmlns=\"http://www.w3.org/2000/svg\" height=\"24px\"viewBox=\"0 0 24 24\"\n",
              "       width=\"24px\">\n",
              "    <path d=\"M0 0h24v24H0V0z\" fill=\"none\"/>\n",
              "    <path d=\"M18.56 5.44l.94 2.06.94-2.06 2.06-.94-2.06-.94-.94-2.06-.94 2.06-2.06.94zm-11 1L8.5 8.5l.94-2.06 2.06-.94-2.06-.94L8.5 2.5l-.94 2.06-2.06.94zm10 10l.94 2.06.94-2.06 2.06-.94-2.06-.94-.94-2.06-.94 2.06-2.06.94z\"/><path d=\"M17.41 7.96l-1.37-1.37c-.4-.4-.92-.59-1.43-.59-.52 0-1.04.2-1.43.59L10.3 9.45l-7.72 7.72c-.78.78-.78 2.05 0 2.83L4 21.41c.39.39.9.59 1.41.59.51 0 1.02-.2 1.41-.59l7.78-7.78 2.81-2.81c.8-.78.8-2.07 0-2.86zM5.41 20L4 18.59l7.72-7.72 1.47 1.35L5.41 20z\"/>\n",
              "  </svg>\n",
              "      </button>\n",
              "      \n",
              "  <style>\n",
              "    .colab-df-container {\n",
              "      display:flex;\n",
              "      flex-wrap:wrap;\n",
              "      gap: 12px;\n",
              "    }\n",
              "\n",
              "    .colab-df-convert {\n",
              "      background-color: #E8F0FE;\n",
              "      border: none;\n",
              "      border-radius: 50%;\n",
              "      cursor: pointer;\n",
              "      display: none;\n",
              "      fill: #1967D2;\n",
              "      height: 32px;\n",
              "      padding: 0 0 0 0;\n",
              "      width: 32px;\n",
              "    }\n",
              "\n",
              "    .colab-df-convert:hover {\n",
              "      background-color: #E2EBFA;\n",
              "      box-shadow: 0px 1px 2px rgba(60, 64, 67, 0.3), 0px 1px 3px 1px rgba(60, 64, 67, 0.15);\n",
              "      fill: #174EA6;\n",
              "    }\n",
              "\n",
              "    [theme=dark] .colab-df-convert {\n",
              "      background-color: #3B4455;\n",
              "      fill: #D2E3FC;\n",
              "    }\n",
              "\n",
              "    [theme=dark] .colab-df-convert:hover {\n",
              "      background-color: #434B5C;\n",
              "      box-shadow: 0px 1px 3px 1px rgba(0, 0, 0, 0.15);\n",
              "      filter: drop-shadow(0px 1px 2px rgba(0, 0, 0, 0.3));\n",
              "      fill: #FFFFFF;\n",
              "    }\n",
              "  </style>\n",
              "\n",
              "      <script>\n",
              "        const buttonEl =\n",
              "          document.querySelector('#df-29b5ec16-70b7-4bc6-a0ea-84ad43fc798b button.colab-df-convert');\n",
              "        buttonEl.style.display =\n",
              "          google.colab.kernel.accessAllowed ? 'block' : 'none';\n",
              "\n",
              "        async function convertToInteractive(key) {\n",
              "          const element = document.querySelector('#df-29b5ec16-70b7-4bc6-a0ea-84ad43fc798b');\n",
              "          const dataTable =\n",
              "            await google.colab.kernel.invokeFunction('convertToInteractive',\n",
              "                                                     [key], {});\n",
              "          if (!dataTable) return;\n",
              "\n",
              "          const docLinkHtml = 'Like what you see? Visit the ' +\n",
              "            '<a target=\"_blank\" href=https://colab.research.google.com/notebooks/data_table.ipynb>data table notebook</a>'\n",
              "            + ' to learn more about interactive tables.';\n",
              "          element.innerHTML = '';\n",
              "          dataTable['output_type'] = 'display_data';\n",
              "          await google.colab.output.renderOutput(dataTable, element);\n",
              "          const docLink = document.createElement('div');\n",
              "          docLink.innerHTML = docLinkHtml;\n",
              "          element.appendChild(docLink);\n",
              "        }\n",
              "      </script>\n",
              "    </div>\n",
              "  </div>\n",
              "  "
            ]
          },
          "metadata": {},
          "execution_count": 27
        }
      ]
    },
    {
      "cell_type": "markdown",
      "source": [
        "### **Exercise #5:** What is the dimension of the dataframe?"
      ],
      "metadata": {
        "id": "aEJmE3x9ca6F"
      }
    },
    {
      "cell_type": "code",
      "source": [],
      "metadata": {
        "id": "AxSAHINzcf0v"
      },
      "execution_count": null,
      "outputs": []
    },
    {
      "cell_type": "markdown",
      "source": [
        "#### **Solution**"
      ],
      "metadata": {
        "id": "yOwfH3U9ce_V"
      }
    },
    {
      "cell_type": "code",
      "source": [
        "print(movies_df.shape)\n"
      ],
      "metadata": {
        "colab": {
          "base_uri": "https://localhost:8080/"
        },
        "id": "4CbMuF61cesK",
        "outputId": "9ce35b0a-2b3f-4a9a-f36d-d4bc2fc10595"
      },
      "execution_count": null,
      "outputs": [
        {
          "output_type": "stream",
          "name": "stdout",
          "text": [
            "(5, 4)\n"
          ]
        }
      ]
    },
    {
      "cell_type": "markdown",
      "source": [
        "### **Exercise #6:** What is the mean for the Metacritic column?"
      ],
      "metadata": {
        "id": "ZPJMaRSwciQf"
      }
    },
    {
      "cell_type": "code",
      "source": [],
      "metadata": {
        "id": "ATpquocDcllc"
      },
      "execution_count": null,
      "outputs": []
    },
    {
      "cell_type": "markdown",
      "source": [
        "#### **Solution**"
      ],
      "metadata": {
        "id": "ThDCqd5eckoO"
      }
    },
    {
      "cell_type": "code",
      "source": [
        "print(\"Metacritic Mean:\", movies_df['Metacritic'].mean())\n"
      ],
      "metadata": {
        "colab": {
          "base_uri": "https://localhost:8080/"
        },
        "id": "gJEyB4RDcniN",
        "outputId": "a63cfa24-ed8a-4830-b9b6-790734cc8d23"
      },
      "execution_count": null,
      "outputs": [
        {
          "output_type": "stream",
          "name": "stdout",
          "text": [
            "Metacritic Mean: 88.6\n"
          ]
        }
      ]
    },
    {
      "cell_type": "markdown",
      "source": [
        "### **Exercise #7:** Print the 10th-20th rows."
      ],
      "metadata": {
        "id": "SfY0LOsGjLxm"
      }
    },
    {
      "cell_type": "code",
      "source": [],
      "metadata": {
        "id": "ejln_gGEjprg"
      },
      "execution_count": null,
      "outputs": []
    },
    {
      "cell_type": "markdown",
      "source": [
        "#### **Solution**"
      ],
      "metadata": {
        "id": "KX16i3eujqCV"
      }
    },
    {
      "cell_type": "code",
      "source": [
        "movies_df.iloc[9:20]"
      ],
      "metadata": {
        "id": "5JbzhzcUjZJ3"
      },
      "execution_count": null,
      "outputs": []
    },
    {
      "cell_type": "markdown",
      "source": [
        "### **Exercise #8:** Print the entire 7th row. "
      ],
      "metadata": {
        "id": "3joyYxAmjrup"
      }
    },
    {
      "cell_type": "code",
      "source": [],
      "metadata": {
        "id": "RscFbUXajyIm"
      },
      "execution_count": null,
      "outputs": []
    },
    {
      "cell_type": "markdown",
      "source": [
        "#### **Solution**"
      ],
      "metadata": {
        "id": "bl-RA7qhjwow"
      }
    },
    {
      "cell_type": "code",
      "source": [
        "movies_df.iloc[6]\n"
      ],
      "metadata": {
        "id": "xV0wjgF1j3G_"
      },
      "execution_count": null,
      "outputs": []
    },
    {
      "cell_type": "markdown",
      "source": [
        "---\n",
        "© 2023 The Coding School, All rights reserved"
      ],
      "metadata": {
        "id": "ZIqjH8JA4sMR"
      }
    }
  ]
}