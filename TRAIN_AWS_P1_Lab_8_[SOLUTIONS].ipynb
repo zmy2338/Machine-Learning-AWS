{
  "nbformat": 4,
  "nbformat_minor": 0,
  "metadata": {
    "colab": {
      "provenance": [],
      "collapsed_sections": [
        "3TJ6CbLh-rxa",
        "psLnGYFO-wo1",
        "ccqSCuOI-zY3"
      ],
      "include_colab_link": true
    },
    "kernelspec": {
      "name": "python3",
      "display_name": "Python 3"
    },
    "language_info": {
      "name": "python"
    }
  },
  "cells": [
    {
      "cell_type": "markdown",
      "metadata": {
        "id": "view-in-github",
        "colab_type": "text"
      },
      "source": [
        "<a href=\"https://colab.research.google.com/github/zmy2338/Machine-Learning-AWS/blob/main/TRAIN_AWS_P1_Lab_8_%5BSOLUTIONS%5D.ipynb\" target=\"_parent\"><img src=\"https://colab.research.google.com/assets/colab-badge.svg\" alt=\"Open In Colab\"/></a>"
      ]
    },
    {
      "cell_type": "markdown",
      "source": [
        "# **Lab #8 : Logistic Regression**\n",
        "---\n",
        "\n",
        "### **Description**\n",
        "In this lab, we'll learn how to use logistic regression to classify data into different categories. We'll start with binary classification, where the goal is to separate data into two categories. We'll revisit the breast cancer dataset, which consists of biopsied breast tissue samples that are classified as either malignant or benign. This is the same dataset we used in Lab 6 with the KNN model.\n",
        "\n",
        "In the second part of the lab, we'll move on to multiclass classification, where the goal is to separate data into more than two categories. We'll use the Digits dataset, which consists of images of handwritten digits, with each image represented as an 8x8 array of grayscale pixels.\n",
        "\n",
        "For both of these parts, we'll use pandas to load and preprocess the data, matplotlib to visualize it, and scikit-learn (sklearn) to build and evaluate the logistic regression model.\n",
        "\n",
        "Finally, we'll return to the Titanic dataset from Kaggle and compare the performance of KNN and Logistic Regression models to see which performs best on the dataset.\n",
        "\n",
        "<br>\n",
        "\n",
        "\n",
        "### **Datasets**\n",
        "\n",
        "> For the binary classification part of the lab, we'll use the **Breast Cancer Wisconsin (Diagnostic) dataset**, which can be loaded using scikit-learn's `load_breast_cancer` function. The dataset consists of 569 samples of biopsied breast tissue, each described by 30 features. The goal is to classify each tissue sample as either malignant (cancerous) or benign (non-cancerous).\n",
        "\n",
        "> For the multiclass classification part of the lab, we'll use the **Digits dataset**, which can be loaded using scikit-learn's `load_digits` function. The dataset consists of 1,797 images of handwritten digits, with each image represented as an 8x8 array of grayscale pixels. The goal is to classify each image into one of 10 classes, corresponding to the digits 0-9.\n",
        "\n",
        "<br>\n",
        "\n",
        "### **Lab Structure**\n",
        "**Part 1**: Binary Classification\n",
        "\n",
        "**Part 2**: Multiclass Classification\n",
        "\n",
        "**Part 3**: Titanic Project Continued: Battle of the Models\n",
        "\n",
        "> **Part 3.1:** Build, Train, and Validate Models\n",
        "\n",
        "> **Part 3.2:** [OPTIONAL] Make Predictions\n",
        "\n",
        "\n",
        "<br>\n",
        "\n",
        "### **Goals** \n",
        "By the end of this lab, you will:\n",
        "* Know how to implement logistic regression for binary classification.\n",
        "* Know how to implement logistic regression for multiclass classification.\n",
        "* Understand how to validate models by choosing an appropriate metric and using the validation dataset.\n",
        "\n",
        "<br>\n",
        "\n",
        "### **Cheat Sheets**\n",
        "[Logistic Regression with sklearn](https://docs.google.com/document/d/1rLTuWGgx9E-K1pgWYxUF4B1ExKKxt6MVSkgEKoUbhuE/edit?usp=sharing)\n",
        "\n",
        "<br>\n",
        "\n",
        "**Before starting, run the code below to import all necessary functions and libraries.**\n"
      ],
      "metadata": {
        "id": "mbZXQ3rA3NwL"
      }
    },
    {
      "cell_type": "code",
      "source": [
        "import warnings\n",
        "warnings.filterwarnings('ignore')\n",
        "\n",
        "import pandas as pd\n",
        "import matplotlib.pyplot as plt\n",
        "\n",
        "from sklearn.datasets import load_breast_cancer, load_digits\n",
        "\n",
        "from sklearn.preprocessing import StandardScaler\n",
        "from sklearn.model_selection import train_test_split\n",
        "from sklearn.neighbors import KNeighborsClassifier\n",
        "from sklearn.metrics import accuracy_score, classification_report\n",
        "from sklearn.metrics import confusion_matrix, ConfusionMatrixDisplay"
      ],
      "metadata": {
        "id": "YAvvLhRIoqYp"
      },
      "execution_count": null,
      "outputs": []
    },
    {
      "cell_type": "markdown",
      "source": [
        "---\n",
        "## **Part 1: Binary Classification**\n",
        "---\n",
        "\n",
        "In this lab, we'll learn how to use logistic regression to classify breast cancer tumors as malignant or benign. We'll use pandas to load and preprocess the data, matplotlib to visualize it, and scikit-learn (sklearn) to build and evaluate the logistic regression model."
      ],
      "metadata": {
        "id": "idga37M2FsMR"
      }
    },
    {
      "cell_type": "markdown",
      "source": [
        "**The code for loading the dataset has been provided for you. Run the cell below.**"
      ],
      "metadata": {
        "id": "tuLrNlbxoZiv"
      }
    },
    {
      "cell_type": "code",
      "source": [
        "data = load_breast_cancer()\n",
        "\n",
        "X = data.data\n",
        "y = data.target\n",
        "\n",
        "df = pd.DataFrame(data.data, columns=data.feature_names)\n",
        "df['target'] = data.target\n",
        "df"
      ],
      "metadata": {
        "id": "pdkqQq0h1TMm",
        "colab": {
          "base_uri": "https://localhost:8080/",
          "height": 526
        },
        "outputId": "3c4c2ccd-dd56-47b7-bd64-440f97b60c59"
      },
      "execution_count": null,
      "outputs": [
        {
          "output_type": "execute_result",
          "data": {
            "text/plain": [
              "     mean radius  mean texture  mean perimeter  mean area  mean smoothness  \\\n",
              "0          17.99         10.38          122.80     1001.0          0.11840   \n",
              "1          20.57         17.77          132.90     1326.0          0.08474   \n",
              "2          19.69         21.25          130.00     1203.0          0.10960   \n",
              "3          11.42         20.38           77.58      386.1          0.14250   \n",
              "4          20.29         14.34          135.10     1297.0          0.10030   \n",
              "..           ...           ...             ...        ...              ...   \n",
              "564        21.56         22.39          142.00     1479.0          0.11100   \n",
              "565        20.13         28.25          131.20     1261.0          0.09780   \n",
              "566        16.60         28.08          108.30      858.1          0.08455   \n",
              "567        20.60         29.33          140.10     1265.0          0.11780   \n",
              "568         7.76         24.54           47.92      181.0          0.05263   \n",
              "\n",
              "     mean compactness  mean concavity  mean concave points  mean symmetry  \\\n",
              "0             0.27760         0.30010              0.14710         0.2419   \n",
              "1             0.07864         0.08690              0.07017         0.1812   \n",
              "2             0.15990         0.19740              0.12790         0.2069   \n",
              "3             0.28390         0.24140              0.10520         0.2597   \n",
              "4             0.13280         0.19800              0.10430         0.1809   \n",
              "..                ...             ...                  ...            ...   \n",
              "564           0.11590         0.24390              0.13890         0.1726   \n",
              "565           0.10340         0.14400              0.09791         0.1752   \n",
              "566           0.10230         0.09251              0.05302         0.1590   \n",
              "567           0.27700         0.35140              0.15200         0.2397   \n",
              "568           0.04362         0.00000              0.00000         0.1587   \n",
              "\n",
              "     mean fractal dimension  ...  worst texture  worst perimeter  worst area  \\\n",
              "0                   0.07871  ...          17.33           184.60      2019.0   \n",
              "1                   0.05667  ...          23.41           158.80      1956.0   \n",
              "2                   0.05999  ...          25.53           152.50      1709.0   \n",
              "3                   0.09744  ...          26.50            98.87       567.7   \n",
              "4                   0.05883  ...          16.67           152.20      1575.0   \n",
              "..                      ...  ...            ...              ...         ...   \n",
              "564                 0.05623  ...          26.40           166.10      2027.0   \n",
              "565                 0.05533  ...          38.25           155.00      1731.0   \n",
              "566                 0.05648  ...          34.12           126.70      1124.0   \n",
              "567                 0.07016  ...          39.42           184.60      1821.0   \n",
              "568                 0.05884  ...          30.37            59.16       268.6   \n",
              "\n",
              "     worst smoothness  worst compactness  worst concavity  \\\n",
              "0             0.16220            0.66560           0.7119   \n",
              "1             0.12380            0.18660           0.2416   \n",
              "2             0.14440            0.42450           0.4504   \n",
              "3             0.20980            0.86630           0.6869   \n",
              "4             0.13740            0.20500           0.4000   \n",
              "..                ...                ...              ...   \n",
              "564           0.14100            0.21130           0.4107   \n",
              "565           0.11660            0.19220           0.3215   \n",
              "566           0.11390            0.30940           0.3403   \n",
              "567           0.16500            0.86810           0.9387   \n",
              "568           0.08996            0.06444           0.0000   \n",
              "\n",
              "     worst concave points  worst symmetry  worst fractal dimension  target  \n",
              "0                  0.2654          0.4601                  0.11890       0  \n",
              "1                  0.1860          0.2750                  0.08902       0  \n",
              "2                  0.2430          0.3613                  0.08758       0  \n",
              "3                  0.2575          0.6638                  0.17300       0  \n",
              "4                  0.1625          0.2364                  0.07678       0  \n",
              "..                    ...             ...                      ...     ...  \n",
              "564                0.2216          0.2060                  0.07115       0  \n",
              "565                0.1628          0.2572                  0.06637       0  \n",
              "566                0.1418          0.2218                  0.07820       0  \n",
              "567                0.2650          0.4087                  0.12400       0  \n",
              "568                0.0000          0.2871                  0.07039       1  \n",
              "\n",
              "[569 rows x 31 columns]"
            ],
            "text/html": [
              "\n",
              "  <div id=\"df-f0fc10e2-d7d7-4cba-a4f0-037918fca717\">\n",
              "    <div class=\"colab-df-container\">\n",
              "      <div>\n",
              "<style scoped>\n",
              "    .dataframe tbody tr th:only-of-type {\n",
              "        vertical-align: middle;\n",
              "    }\n",
              "\n",
              "    .dataframe tbody tr th {\n",
              "        vertical-align: top;\n",
              "    }\n",
              "\n",
              "    .dataframe thead th {\n",
              "        text-align: right;\n",
              "    }\n",
              "</style>\n",
              "<table border=\"1\" class=\"dataframe\">\n",
              "  <thead>\n",
              "    <tr style=\"text-align: right;\">\n",
              "      <th></th>\n",
              "      <th>mean radius</th>\n",
              "      <th>mean texture</th>\n",
              "      <th>mean perimeter</th>\n",
              "      <th>mean area</th>\n",
              "      <th>mean smoothness</th>\n",
              "      <th>mean compactness</th>\n",
              "      <th>mean concavity</th>\n",
              "      <th>mean concave points</th>\n",
              "      <th>mean symmetry</th>\n",
              "      <th>mean fractal dimension</th>\n",
              "      <th>...</th>\n",
              "      <th>worst texture</th>\n",
              "      <th>worst perimeter</th>\n",
              "      <th>worst area</th>\n",
              "      <th>worst smoothness</th>\n",
              "      <th>worst compactness</th>\n",
              "      <th>worst concavity</th>\n",
              "      <th>worst concave points</th>\n",
              "      <th>worst symmetry</th>\n",
              "      <th>worst fractal dimension</th>\n",
              "      <th>target</th>\n",
              "    </tr>\n",
              "  </thead>\n",
              "  <tbody>\n",
              "    <tr>\n",
              "      <th>0</th>\n",
              "      <td>17.99</td>\n",
              "      <td>10.38</td>\n",
              "      <td>122.80</td>\n",
              "      <td>1001.0</td>\n",
              "      <td>0.11840</td>\n",
              "      <td>0.27760</td>\n",
              "      <td>0.30010</td>\n",
              "      <td>0.14710</td>\n",
              "      <td>0.2419</td>\n",
              "      <td>0.07871</td>\n",
              "      <td>...</td>\n",
              "      <td>17.33</td>\n",
              "      <td>184.60</td>\n",
              "      <td>2019.0</td>\n",
              "      <td>0.16220</td>\n",
              "      <td>0.66560</td>\n",
              "      <td>0.7119</td>\n",
              "      <td>0.2654</td>\n",
              "      <td>0.4601</td>\n",
              "      <td>0.11890</td>\n",
              "      <td>0</td>\n",
              "    </tr>\n",
              "    <tr>\n",
              "      <th>1</th>\n",
              "      <td>20.57</td>\n",
              "      <td>17.77</td>\n",
              "      <td>132.90</td>\n",
              "      <td>1326.0</td>\n",
              "      <td>0.08474</td>\n",
              "      <td>0.07864</td>\n",
              "      <td>0.08690</td>\n",
              "      <td>0.07017</td>\n",
              "      <td>0.1812</td>\n",
              "      <td>0.05667</td>\n",
              "      <td>...</td>\n",
              "      <td>23.41</td>\n",
              "      <td>158.80</td>\n",
              "      <td>1956.0</td>\n",
              "      <td>0.12380</td>\n",
              "      <td>0.18660</td>\n",
              "      <td>0.2416</td>\n",
              "      <td>0.1860</td>\n",
              "      <td>0.2750</td>\n",
              "      <td>0.08902</td>\n",
              "      <td>0</td>\n",
              "    </tr>\n",
              "    <tr>\n",
              "      <th>2</th>\n",
              "      <td>19.69</td>\n",
              "      <td>21.25</td>\n",
              "      <td>130.00</td>\n",
              "      <td>1203.0</td>\n",
              "      <td>0.10960</td>\n",
              "      <td>0.15990</td>\n",
              "      <td>0.19740</td>\n",
              "      <td>0.12790</td>\n",
              "      <td>0.2069</td>\n",
              "      <td>0.05999</td>\n",
              "      <td>...</td>\n",
              "      <td>25.53</td>\n",
              "      <td>152.50</td>\n",
              "      <td>1709.0</td>\n",
              "      <td>0.14440</td>\n",
              "      <td>0.42450</td>\n",
              "      <td>0.4504</td>\n",
              "      <td>0.2430</td>\n",
              "      <td>0.3613</td>\n",
              "      <td>0.08758</td>\n",
              "      <td>0</td>\n",
              "    </tr>\n",
              "    <tr>\n",
              "      <th>3</th>\n",
              "      <td>11.42</td>\n",
              "      <td>20.38</td>\n",
              "      <td>77.58</td>\n",
              "      <td>386.1</td>\n",
              "      <td>0.14250</td>\n",
              "      <td>0.28390</td>\n",
              "      <td>0.24140</td>\n",
              "      <td>0.10520</td>\n",
              "      <td>0.2597</td>\n",
              "      <td>0.09744</td>\n",
              "      <td>...</td>\n",
              "      <td>26.50</td>\n",
              "      <td>98.87</td>\n",
              "      <td>567.7</td>\n",
              "      <td>0.20980</td>\n",
              "      <td>0.86630</td>\n",
              "      <td>0.6869</td>\n",
              "      <td>0.2575</td>\n",
              "      <td>0.6638</td>\n",
              "      <td>0.17300</td>\n",
              "      <td>0</td>\n",
              "    </tr>\n",
              "    <tr>\n",
              "      <th>4</th>\n",
              "      <td>20.29</td>\n",
              "      <td>14.34</td>\n",
              "      <td>135.10</td>\n",
              "      <td>1297.0</td>\n",
              "      <td>0.10030</td>\n",
              "      <td>0.13280</td>\n",
              "      <td>0.19800</td>\n",
              "      <td>0.10430</td>\n",
              "      <td>0.1809</td>\n",
              "      <td>0.05883</td>\n",
              "      <td>...</td>\n",
              "      <td>16.67</td>\n",
              "      <td>152.20</td>\n",
              "      <td>1575.0</td>\n",
              "      <td>0.13740</td>\n",
              "      <td>0.20500</td>\n",
              "      <td>0.4000</td>\n",
              "      <td>0.1625</td>\n",
              "      <td>0.2364</td>\n",
              "      <td>0.07678</td>\n",
              "      <td>0</td>\n",
              "    </tr>\n",
              "    <tr>\n",
              "      <th>...</th>\n",
              "      <td>...</td>\n",
              "      <td>...</td>\n",
              "      <td>...</td>\n",
              "      <td>...</td>\n",
              "      <td>...</td>\n",
              "      <td>...</td>\n",
              "      <td>...</td>\n",
              "      <td>...</td>\n",
              "      <td>...</td>\n",
              "      <td>...</td>\n",
              "      <td>...</td>\n",
              "      <td>...</td>\n",
              "      <td>...</td>\n",
              "      <td>...</td>\n",
              "      <td>...</td>\n",
              "      <td>...</td>\n",
              "      <td>...</td>\n",
              "      <td>...</td>\n",
              "      <td>...</td>\n",
              "      <td>...</td>\n",
              "      <td>...</td>\n",
              "    </tr>\n",
              "    <tr>\n",
              "      <th>564</th>\n",
              "      <td>21.56</td>\n",
              "      <td>22.39</td>\n",
              "      <td>142.00</td>\n",
              "      <td>1479.0</td>\n",
              "      <td>0.11100</td>\n",
              "      <td>0.11590</td>\n",
              "      <td>0.24390</td>\n",
              "      <td>0.13890</td>\n",
              "      <td>0.1726</td>\n",
              "      <td>0.05623</td>\n",
              "      <td>...</td>\n",
              "      <td>26.40</td>\n",
              "      <td>166.10</td>\n",
              "      <td>2027.0</td>\n",
              "      <td>0.14100</td>\n",
              "      <td>0.21130</td>\n",
              "      <td>0.4107</td>\n",
              "      <td>0.2216</td>\n",
              "      <td>0.2060</td>\n",
              "      <td>0.07115</td>\n",
              "      <td>0</td>\n",
              "    </tr>\n",
              "    <tr>\n",
              "      <th>565</th>\n",
              "      <td>20.13</td>\n",
              "      <td>28.25</td>\n",
              "      <td>131.20</td>\n",
              "      <td>1261.0</td>\n",
              "      <td>0.09780</td>\n",
              "      <td>0.10340</td>\n",
              "      <td>0.14400</td>\n",
              "      <td>0.09791</td>\n",
              "      <td>0.1752</td>\n",
              "      <td>0.05533</td>\n",
              "      <td>...</td>\n",
              "      <td>38.25</td>\n",
              "      <td>155.00</td>\n",
              "      <td>1731.0</td>\n",
              "      <td>0.11660</td>\n",
              "      <td>0.19220</td>\n",
              "      <td>0.3215</td>\n",
              "      <td>0.1628</td>\n",
              "      <td>0.2572</td>\n",
              "      <td>0.06637</td>\n",
              "      <td>0</td>\n",
              "    </tr>\n",
              "    <tr>\n",
              "      <th>566</th>\n",
              "      <td>16.60</td>\n",
              "      <td>28.08</td>\n",
              "      <td>108.30</td>\n",
              "      <td>858.1</td>\n",
              "      <td>0.08455</td>\n",
              "      <td>0.10230</td>\n",
              "      <td>0.09251</td>\n",
              "      <td>0.05302</td>\n",
              "      <td>0.1590</td>\n",
              "      <td>0.05648</td>\n",
              "      <td>...</td>\n",
              "      <td>34.12</td>\n",
              "      <td>126.70</td>\n",
              "      <td>1124.0</td>\n",
              "      <td>0.11390</td>\n",
              "      <td>0.30940</td>\n",
              "      <td>0.3403</td>\n",
              "      <td>0.1418</td>\n",
              "      <td>0.2218</td>\n",
              "      <td>0.07820</td>\n",
              "      <td>0</td>\n",
              "    </tr>\n",
              "    <tr>\n",
              "      <th>567</th>\n",
              "      <td>20.60</td>\n",
              "      <td>29.33</td>\n",
              "      <td>140.10</td>\n",
              "      <td>1265.0</td>\n",
              "      <td>0.11780</td>\n",
              "      <td>0.27700</td>\n",
              "      <td>0.35140</td>\n",
              "      <td>0.15200</td>\n",
              "      <td>0.2397</td>\n",
              "      <td>0.07016</td>\n",
              "      <td>...</td>\n",
              "      <td>39.42</td>\n",
              "      <td>184.60</td>\n",
              "      <td>1821.0</td>\n",
              "      <td>0.16500</td>\n",
              "      <td>0.86810</td>\n",
              "      <td>0.9387</td>\n",
              "      <td>0.2650</td>\n",
              "      <td>0.4087</td>\n",
              "      <td>0.12400</td>\n",
              "      <td>0</td>\n",
              "    </tr>\n",
              "    <tr>\n",
              "      <th>568</th>\n",
              "      <td>7.76</td>\n",
              "      <td>24.54</td>\n",
              "      <td>47.92</td>\n",
              "      <td>181.0</td>\n",
              "      <td>0.05263</td>\n",
              "      <td>0.04362</td>\n",
              "      <td>0.00000</td>\n",
              "      <td>0.00000</td>\n",
              "      <td>0.1587</td>\n",
              "      <td>0.05884</td>\n",
              "      <td>...</td>\n",
              "      <td>30.37</td>\n",
              "      <td>59.16</td>\n",
              "      <td>268.6</td>\n",
              "      <td>0.08996</td>\n",
              "      <td>0.06444</td>\n",
              "      <td>0.0000</td>\n",
              "      <td>0.0000</td>\n",
              "      <td>0.2871</td>\n",
              "      <td>0.07039</td>\n",
              "      <td>1</td>\n",
              "    </tr>\n",
              "  </tbody>\n",
              "</table>\n",
              "<p>569 rows × 31 columns</p>\n",
              "</div>\n",
              "      <button class=\"colab-df-convert\" onclick=\"convertToInteractive('df-f0fc10e2-d7d7-4cba-a4f0-037918fca717')\"\n",
              "              title=\"Convert this dataframe to an interactive table.\"\n",
              "              style=\"display:none;\">\n",
              "        \n",
              "  <svg xmlns=\"http://www.w3.org/2000/svg\" height=\"24px\"viewBox=\"0 0 24 24\"\n",
              "       width=\"24px\">\n",
              "    <path d=\"M0 0h24v24H0V0z\" fill=\"none\"/>\n",
              "    <path d=\"M18.56 5.44l.94 2.06.94-2.06 2.06-.94-2.06-.94-.94-2.06-.94 2.06-2.06.94zm-11 1L8.5 8.5l.94-2.06 2.06-.94-2.06-.94L8.5 2.5l-.94 2.06-2.06.94zm10 10l.94 2.06.94-2.06 2.06-.94-2.06-.94-.94-2.06-.94 2.06-2.06.94z\"/><path d=\"M17.41 7.96l-1.37-1.37c-.4-.4-.92-.59-1.43-.59-.52 0-1.04.2-1.43.59L10.3 9.45l-7.72 7.72c-.78.78-.78 2.05 0 2.83L4 21.41c.39.39.9.59 1.41.59.51 0 1.02-.2 1.41-.59l7.78-7.78 2.81-2.81c.8-.78.8-2.07 0-2.86zM5.41 20L4 18.59l7.72-7.72 1.47 1.35L5.41 20z\"/>\n",
              "  </svg>\n",
              "      </button>\n",
              "      \n",
              "  <style>\n",
              "    .colab-df-container {\n",
              "      display:flex;\n",
              "      flex-wrap:wrap;\n",
              "      gap: 12px;\n",
              "    }\n",
              "\n",
              "    .colab-df-convert {\n",
              "      background-color: #E8F0FE;\n",
              "      border: none;\n",
              "      border-radius: 50%;\n",
              "      cursor: pointer;\n",
              "      display: none;\n",
              "      fill: #1967D2;\n",
              "      height: 32px;\n",
              "      padding: 0 0 0 0;\n",
              "      width: 32px;\n",
              "    }\n",
              "\n",
              "    .colab-df-convert:hover {\n",
              "      background-color: #E2EBFA;\n",
              "      box-shadow: 0px 1px 2px rgba(60, 64, 67, 0.3), 0px 1px 3px 1px rgba(60, 64, 67, 0.15);\n",
              "      fill: #174EA6;\n",
              "    }\n",
              "\n",
              "    [theme=dark] .colab-df-convert {\n",
              "      background-color: #3B4455;\n",
              "      fill: #D2E3FC;\n",
              "    }\n",
              "\n",
              "    [theme=dark] .colab-df-convert:hover {\n",
              "      background-color: #434B5C;\n",
              "      box-shadow: 0px 1px 3px 1px rgba(0, 0, 0, 0.15);\n",
              "      filter: drop-shadow(0px 1px 2px rgba(0, 0, 0, 0.3));\n",
              "      fill: #FFFFFF;\n",
              "    }\n",
              "  </style>\n",
              "\n",
              "      <script>\n",
              "        const buttonEl =\n",
              "          document.querySelector('#df-f0fc10e2-d7d7-4cba-a4f0-037918fca717 button.colab-df-convert');\n",
              "        buttonEl.style.display =\n",
              "          google.colab.kernel.accessAllowed ? 'block' : 'none';\n",
              "\n",
              "        async function convertToInteractive(key) {\n",
              "          const element = document.querySelector('#df-f0fc10e2-d7d7-4cba-a4f0-037918fca717');\n",
              "          const dataTable =\n",
              "            await google.colab.kernel.invokeFunction('convertToInteractive',\n",
              "                                                     [key], {});\n",
              "          if (!dataTable) return;\n",
              "\n",
              "          const docLinkHtml = 'Like what you see? Visit the ' +\n",
              "            '<a target=\"_blank\" href=https://colab.research.google.com/notebooks/data_table.ipynb>data table notebook</a>'\n",
              "            + ' to learn more about interactive tables.';\n",
              "          element.innerHTML = '';\n",
              "          dataTable['output_type'] = 'display_data';\n",
              "          await google.colab.output.renderOutput(dataTable, element);\n",
              "          const docLink = document.createElement('div');\n",
              "          docLink.innerHTML = docLinkHtml;\n",
              "          element.appendChild(docLink);\n",
              "        }\n",
              "      </script>\n",
              "    </div>\n",
              "  </div>\n",
              "  "
            ]
          },
          "metadata": {},
          "execution_count": 3
        }
      ]
    },
    {
      "cell_type": "markdown",
      "source": [
        "##### **Problem #1: Print a summary of the dataset.**\n",
        "---"
      ],
      "metadata": {
        "id": "w_y6J2dod4qL"
      }
    },
    {
      "cell_type": "code",
      "source": [],
      "metadata": {
        "id": "zdrHqvXFd-8q"
      },
      "execution_count": null,
      "outputs": []
    },
    {
      "cell_type": "markdown",
      "source": [
        "###### **Solution**"
      ],
      "metadata": {
        "id": "ZE0yu9g9d9jC"
      }
    },
    {
      "cell_type": "code",
      "source": [
        "df.info()"
      ],
      "metadata": {
        "colab": {
          "base_uri": "https://localhost:8080/"
        },
        "id": "yMiZ1dGm2qK4",
        "outputId": "2fd09b1f-8fb4-4a14-f7d8-f3aa09b6b46f"
      },
      "execution_count": null,
      "outputs": [
        {
          "output_type": "stream",
          "name": "stdout",
          "text": [
            "<class 'pandas.core.frame.DataFrame'>\n",
            "RangeIndex: 569 entries, 0 to 568\n",
            "Data columns (total 31 columns):\n",
            " #   Column                   Non-Null Count  Dtype  \n",
            "---  ------                   --------------  -----  \n",
            " 0   mean radius              569 non-null    float64\n",
            " 1   mean texture             569 non-null    float64\n",
            " 2   mean perimeter           569 non-null    float64\n",
            " 3   mean area                569 non-null    float64\n",
            " 4   mean smoothness          569 non-null    float64\n",
            " 5   mean compactness         569 non-null    float64\n",
            " 6   mean concavity           569 non-null    float64\n",
            " 7   mean concave points      569 non-null    float64\n",
            " 8   mean symmetry            569 non-null    float64\n",
            " 9   mean fractal dimension   569 non-null    float64\n",
            " 10  radius error             569 non-null    float64\n",
            " 11  texture error            569 non-null    float64\n",
            " 12  perimeter error          569 non-null    float64\n",
            " 13  area error               569 non-null    float64\n",
            " 14  smoothness error         569 non-null    float64\n",
            " 15  compactness error        569 non-null    float64\n",
            " 16  concavity error          569 non-null    float64\n",
            " 17  concave points error     569 non-null    float64\n",
            " 18  symmetry error           569 non-null    float64\n",
            " 19  fractal dimension error  569 non-null    float64\n",
            " 20  worst radius             569 non-null    float64\n",
            " 21  worst texture            569 non-null    float64\n",
            " 22  worst perimeter          569 non-null    float64\n",
            " 23  worst area               569 non-null    float64\n",
            " 24  worst smoothness         569 non-null    float64\n",
            " 25  worst compactness        569 non-null    float64\n",
            " 26  worst concavity          569 non-null    float64\n",
            " 27  worst concave points     569 non-null    float64\n",
            " 28  worst symmetry           569 non-null    float64\n",
            " 29  worst fractal dimension  569 non-null    float64\n",
            " 30  target                   569 non-null    int64  \n",
            "dtypes: float64(30), int64(1)\n",
            "memory usage: 137.9 KB\n"
          ]
        }
      ]
    },
    {
      "cell_type": "markdown",
      "source": [
        "The data has been pre-cleaned so we can move on to modeling."
      ],
      "metadata": {
        "id": "dfopq4VXeN6q"
      }
    },
    {
      "cell_type": "markdown",
      "source": [
        "##### **Problem #2: Split the data into train and test sets.**\n",
        "---\n",
        "\n",
        "We are not comparing models or making changes to the model, so we will skip adding a validation set this time. Make sure the test dataset is 20% of the original dataset."
      ],
      "metadata": {
        "id": "CR-vjxr7eWEf"
      }
    },
    {
      "cell_type": "code",
      "source": [],
      "metadata": {
        "id": "TYCTFDv7hZT6"
      },
      "execution_count": null,
      "outputs": []
    },
    {
      "cell_type": "markdown",
      "source": [
        "###### **Solution**"
      ],
      "metadata": {
        "id": "eS7AwKedhYhy"
      }
    },
    {
      "cell_type": "code",
      "source": [
        "X_train, X_test, y_train, y_test = train_test_split(X, y, test_size=0.2, random_state=42)"
      ],
      "metadata": {
        "id": "pMP6RzSCeTEP"
      },
      "execution_count": null,
      "outputs": []
    },
    {
      "cell_type": "code",
      "source": [],
      "metadata": {
        "id": "5ZmxV-ud6Oe2"
      },
      "execution_count": null,
      "outputs": []
    },
    {
      "cell_type": "markdown",
      "source": [
        "##### **Problem #3: Import, initialize, and train a Logistic Regression model.**\n",
        "---\n"
      ],
      "metadata": {
        "id": "F24ferHretdr"
      }
    },
    {
      "cell_type": "code",
      "source": [],
      "metadata": {
        "id": "1br90axohZ7N"
      },
      "execution_count": null,
      "outputs": []
    },
    {
      "cell_type": "markdown",
      "source": [
        "###### **Solution**"
      ],
      "metadata": {
        "id": "awEIxFGAhXe9"
      }
    },
    {
      "cell_type": "code",
      "source": [
        "from sklearn.linear_model import LogisticRegression\n",
        "\n",
        "clf = LogisticRegression(random_state=7921723)\n",
        "clf.fit(X_train, y_train);"
      ],
      "metadata": {
        "id": "GUpvNAwx1nBJ"
      },
      "execution_count": null,
      "outputs": []
    },
    {
      "cell_type": "markdown",
      "source": [
        "##### **Problem #4: Make predictions for the test data.**\n",
        "---\n"
      ],
      "metadata": {
        "id": "kQniEK33e4Gc"
      }
    },
    {
      "cell_type": "code",
      "source": [
        "y_pred = # COMPLETE THIS LINE\n",
        "\n",
        "y_pred_proba = # COMPLETE THIS LINE\n",
        "\n",
        "y_pred_binary = # COMPLETE THIS LINE"
      ],
      "metadata": {
        "id": "0w102G8chQGT"
      },
      "execution_count": null,
      "outputs": []
    },
    {
      "cell_type": "markdown",
      "source": [
        "###### **Solution**"
      ],
      "metadata": {
        "id": "MrORULw-hPrD"
      }
    },
    {
      "cell_type": "code",
      "source": [
        "y_pred = clf.predict(X_test)\n",
        "#y_pred\n",
        "\n",
        "y_pred_proba = clf.predict_proba(X_test)\n",
        "#y_pred_proba\n",
        "\n",
        "y_pred_binary = (y_pred_proba[:, 1] > 0.5).astype(int)\n",
        "print(y_pred_proba)\n",
        "print(y_pred_binary)"
      ],
      "metadata": {
        "id": "V2nmz-GZe8Yd",
        "colab": {
          "base_uri": "https://localhost:8080/"
        },
        "outputId": "5a6d7f42-60a3-41fd-fc88-c333152661aa"
      },
      "execution_count": null,
      "outputs": [
        {
          "output_type": "stream",
          "name": "stdout",
          "text": [
            "[[1.14034087e-01 8.85965913e-01]\n",
            " [9.99999989e-01 1.08546708e-08]\n",
            " [9.92843752e-01 7.15624834e-03]\n",
            " [4.64464244e-03 9.95355358e-01]\n",
            " [1.64196571e-03 9.98358034e-01]\n",
            " [9.99999999e-01 1.00096259e-09]\n",
            " [1.00000000e+00 2.47385914e-12]\n",
            " [9.94851344e-01 5.14865588e-03]\n",
            " [4.66687396e-03 9.95333126e-01]\n",
            " [2.28582523e-02 9.77141748e-01]\n",
            " [4.05252336e-02 9.59474766e-01]\n",
            " [9.99528504e-01 4.71496245e-04]\n",
            " [1.56523156e-02 9.84347684e-01]\n",
            " [5.01010326e-01 4.98989674e-01]\n",
            " [6.79674499e-03 9.93203255e-01]\n",
            " [9.98859338e-01 1.14066179e-03]\n",
            " [5.32034070e-03 9.94679659e-01]\n",
            " [2.82554013e-04 9.99717446e-01]\n",
            " [4.73268498e-03 9.95267315e-01]\n",
            " [9.99999551e-01 4.49021842e-07]\n",
            " [1.71057688e-01 8.28942312e-01]\n",
            " [3.46252698e-02 9.65374730e-01]\n",
            " [9.99999992e-01 7.60533594e-09]\n",
            " [5.13969816e-03 9.94860302e-01]\n",
            " [8.93009254e-03 9.91069907e-01]\n",
            " [1.08258332e-03 9.98917417e-01]\n",
            " [5.57588433e-03 9.94424116e-01]\n",
            " [3.45250042e-03 9.96547500e-01]\n",
            " [8.32740855e-03 9.91672591e-01]\n",
            " [9.99999859e-01 1.40724096e-07]\n",
            " [3.56130674e-03 9.96438693e-01]\n",
            " [3.11627099e-03 9.96883729e-01]\n",
            " [1.80259953e-02 9.81974005e-01]\n",
            " [1.69068889e-02 9.83093111e-01]\n",
            " [2.00605552e-03 9.97993944e-01]\n",
            " [3.20402171e-03 9.96795978e-01]\n",
            " [9.96736266e-01 3.26373368e-03]\n",
            " [1.40389662e-02 9.85961034e-01]\n",
            " [9.99994655e-01 5.34511638e-06]\n",
            " [7.75551942e-02 9.22444806e-01]\n",
            " [1.90981360e-03 9.98090186e-01]\n",
            " [9.96993049e-01 3.00695145e-03]\n",
            " [1.12593116e-03 9.98874069e-01]\n",
            " [1.01405169e-02 9.89859483e-01]\n",
            " [1.93143227e-03 9.98068568e-01]\n",
            " [4.01824695e-02 9.59817531e-01]\n",
            " [1.78822323e-03 9.98211777e-01]\n",
            " [7.49783795e-03 9.92502162e-01]\n",
            " [7.23303890e-02 9.27669611e-01]\n",
            " [5.59296749e-03 9.94407033e-01]\n",
            " [9.99815956e-01 1.84043812e-04]\n",
            " [9.99999996e-01 4.40756182e-09]\n",
            " [4.87038924e-02 9.51296108e-01]\n",
            " [3.10698682e-03 9.96893013e-01]\n",
            " [1.21271613e-03 9.98787284e-01]\n",
            " [1.97514690e-02 9.80248531e-01]\n",
            " [2.23647153e-03 9.97763528e-01]\n",
            " [1.00000000e+00 1.23323829e-14]\n",
            " [1.76008279e-01 8.23991721e-01]\n",
            " [5.43622613e-04 9.99456377e-01]\n",
            " [2.03720607e-02 9.79627939e-01]\n",
            " [9.99998960e-01 1.03985637e-06]\n",
            " [1.00000000e+00 3.57507459e-11]\n",
            " [2.15546699e-02 9.78445330e-01]\n",
            " [1.47105601e-02 9.85289440e-01]\n",
            " [4.59973616e-02 9.54002638e-01]\n",
            " [9.99700309e-01 2.99690760e-04]\n",
            " [9.99999990e-01 1.00241474e-08]\n",
            " [7.86560475e-03 9.92134395e-01]\n",
            " [1.23617173e-02 9.87638283e-01]\n",
            " [9.88208602e-01 1.17913983e-02]\n",
            " [9.99951713e-01 4.82865613e-05]\n",
            " [1.39120660e-02 9.86087934e-01]\n",
            " [9.17009564e-01 8.29904359e-02]\n",
            " [9.72452959e-03 9.90275470e-01]\n",
            " [2.37136506e-03 9.97628635e-01]\n",
            " [8.08449609e-02 9.19155039e-01]\n",
            " [3.52017543e-01 6.47982457e-01]\n",
            " [5.50972999e-03 9.94490270e-01]\n",
            " [1.75927837e-02 9.82407216e-01]\n",
            " [9.98723930e-01 1.27607001e-03]\n",
            " [1.10214770e-02 9.88978523e-01]\n",
            " [5.40124036e-01 4.59875964e-01]\n",
            " [1.00000000e+00 4.56435861e-10]\n",
            " [9.99335414e-01 6.64585916e-04]\n",
            " [9.17174772e-01 8.28252277e-02]\n",
            " [9.90566872e-01 9.43312751e-03]\n",
            " [9.99997523e-01 2.47710810e-06]\n",
            " [5.51842677e-03 9.94481573e-01]\n",
            " [2.47059932e-02 9.75294007e-01]\n",
            " [5.10928831e-02 9.48907117e-01]\n",
            " [6.80229264e-02 9.31977074e-01]\n",
            " [7.90997712e-02 9.20900229e-01]\n",
            " [6.56463313e-03 9.93435367e-01]\n",
            " [2.15614981e-03 9.97843850e-01]\n",
            " [3.91597700e-03 9.96084023e-01]\n",
            " [9.99999965e-01 3.50718447e-08]\n",
            " [9.99998806e-01 1.19376370e-06]\n",
            " [5.66600077e-04 9.99433400e-01]\n",
            " [9.99819358e-01 1.80641784e-04]\n",
            " [9.99863710e-01 1.36290005e-04]\n",
            " [2.44083542e-04 9.99755916e-01]\n",
            " [9.99999952e-01 4.79740310e-08]\n",
            " [9.95774930e-01 4.22506950e-03]\n",
            " [9.15602772e-02 9.08439723e-01]\n",
            " [2.58046089e-01 7.41953911e-01]\n",
            " [8.93001929e-03 9.91069981e-01]\n",
            " [1.00000000e+00 7.18030257e-18]\n",
            " [6.17721074e-02 9.38227893e-01]\n",
            " [2.36325854e-01 7.63674146e-01]\n",
            " [9.99511528e-01 4.88471940e-04]\n",
            " [6.10817376e-03 9.93891826e-01]\n",
            " [7.50716483e-01 2.49283517e-01]\n",
            " [1.00000000e+00 1.45708396e-25]]\n",
            "[1 0 0 1 1 0 0 0 1 1 1 0 1 0 1 0 1 1 1 0 1 1 0 1 1 1 1 1 1 0 1 1 1 1 1 1 0\n",
            " 1 0 1 1 0 1 1 1 1 1 1 1 1 0 0 1 1 1 1 1 0 1 1 1 0 0 1 1 1 0 0 1 1 0 0 1 0\n",
            " 1 1 1 1 1 1 0 1 0 0 0 0 0 0 1 1 1 1 1 1 1 1 0 0 1 0 0 1 0 0 1 1 1 0 1 1 0\n",
            " 1 0 0]\n"
          ]
        }
      ]
    },
    {
      "cell_type": "markdown",
      "source": [
        "##### **Problem #5: Print the accuracy score.**\n",
        "---\n"
      ],
      "metadata": {
        "id": "Siq_BcV_fHH_"
      }
    },
    {
      "cell_type": "code",
      "source": [
        "accuracy = # WRITE YOUR CODE HERE\n",
        "print(f'Accuracy: {accuracy}')"
      ],
      "metadata": {
        "id": "EQ6nqybXfn4Y"
      },
      "execution_count": null,
      "outputs": []
    },
    {
      "cell_type": "markdown",
      "source": [
        "###### **Solution**"
      ],
      "metadata": {
        "id": "0gIS_ZoCfnOo"
      }
    },
    {
      "cell_type": "code",
      "source": [
        "accuracy = accuracy_score(y_test,y_pred)\n",
        "print(f'Accuracy: {accuracy}')"
      ],
      "metadata": {
        "colab": {
          "base_uri": "https://localhost:8080/"
        },
        "id": "daEtBimo13BS",
        "outputId": "b3c931f7-1630-4ab9-c2f3-ac0e46129c09"
      },
      "execution_count": null,
      "outputs": [
        {
          "output_type": "stream",
          "name": "stdout",
          "text": [
            "Accuracy: 0.9649122807017544\n"
          ]
        }
      ]
    },
    {
      "cell_type": "markdown",
      "source": [
        "##### **Problem #6: Print the classification report.**\n",
        "---"
      ],
      "metadata": {
        "id": "21mQImiffalA"
      }
    },
    {
      "cell_type": "code",
      "source": [
        "report = # WRITE YOUR CODE HERE\n",
        "print(report)"
      ],
      "metadata": {
        "id": "9ecbSIABfemd"
      },
      "execution_count": null,
      "outputs": []
    },
    {
      "cell_type": "markdown",
      "source": [
        "###### **Solution**"
      ],
      "metadata": {
        "id": "wNcfyChffe88"
      }
    },
    {
      "cell_type": "code",
      "source": [
        "report = classification_report(y_test, y_pred, target_names=['Benign', 'Malignant'])\n",
        "print(report)"
      ],
      "metadata": {
        "colab": {
          "base_uri": "https://localhost:8080/"
        },
        "id": "ZjNwNo4E5jNM",
        "outputId": "c48c1897-650b-423c-cbb0-051c18c39157"
      },
      "execution_count": null,
      "outputs": [
        {
          "output_type": "stream",
          "name": "stdout",
          "text": [
            "              precision    recall  f1-score   support\n",
            "\n",
            "      Benign       0.98      0.93      0.95        43\n",
            "   Malignant       0.96      0.99      0.97        71\n",
            "\n",
            "    accuracy                           0.96       114\n",
            "   macro avg       0.97      0.96      0.96       114\n",
            "weighted avg       0.97      0.96      0.96       114\n",
            "\n"
          ]
        }
      ]
    },
    {
      "cell_type": "markdown",
      "source": [
        "#### **Discussion Question: How did Logistic Regression perform compared to the KNN model in Lab 6?**"
      ],
      "metadata": {
        "id": "Uvy68BYrsX5-"
      }
    },
    {
      "cell_type": "markdown",
      "source": [
        "---\n",
        "\n",
        "<center>\n",
        "\n",
        "#### **Back to lecture**\n",
        "\n",
        "---"
      ],
      "metadata": {
        "id": "YJ_4mcGi-4P0"
      }
    },
    {
      "cell_type": "markdown",
      "metadata": {
        "id": "XvDIuw6vlsKN"
      },
      "source": [
        "---\n",
        "## **Part 2: Multiclass Classification**\n",
        "---\n",
        "\n",
        "In this section, we'll learn how to use logistic regression to classify handwritten digits into their respective numerical values. We'll use the digits dataset, which consists of 1797 samples of grayscale images of size 8x8 pixels, each represented as a 64-dimensional feature vector. The goal is to classify each image into one of 10 classes (corresponding to the 10 digits)."
      ]
    },
    {
      "cell_type": "markdown",
      "source": [
        "##### **Problem #7: Load and plot the data.**\n",
        "---\n",
        "\n",
        "We will provide code to load the data into a dataframe and plot a sample. Separate the data into `X` (features) and `y` (target) variables."
      ],
      "metadata": {
        "id": "h_rgwiuMwJC8"
      }
    },
    {
      "cell_type": "code",
      "source": [
        "data = load_digits()\n",
        "df = pd.DataFrame(data.data, columns=[f'pixel{i}' for i in range(64)])\n",
        "df['target'] = data.target\n",
        "\n",
        "fig, axes = plt.subplots(nrows=3, ncols=5, figsize=(8, 6))\n",
        "for i, ax in enumerate(axes.flat):\n",
        "    ax.imshow(data.images[i], cmap='binary')\n",
        "    ax.set_title(f'Target: {data.target[i]}')\n",
        "plt.show()\n",
        "\n",
        "X = # WRITE YOUR CODE HERE\n",
        "y = # WRITE YOUR CODE HERE"
      ],
      "metadata": {
        "id": "8RfDoanuwvBy"
      },
      "execution_count": null,
      "outputs": []
    },
    {
      "cell_type": "markdown",
      "source": [
        "###### **Solution**"
      ],
      "metadata": {
        "id": "fudnRM_mwvaP"
      }
    },
    {
      "cell_type": "code",
      "source": [
        "data = load_digits()\n",
        "df = pd.DataFrame(data.data, columns=[f'pixel{i}' for i in range(64)])\n",
        "df['target'] = data.target\n",
        "\n",
        "fig, axes = plt.subplots(nrows=3, ncols=5, figsize=(8, 6))\n",
        "for i, ax in enumerate(axes.flat):\n",
        "    ax.imshow(data.images[i], cmap='binary')\n",
        "    ax.set_title(f'Target: {data.target[i]}')\n",
        "plt.show()\n",
        "\n",
        "X = df.drop('target', axis=1)\n",
        "y = df['target']\n",
        "df"
      ],
      "metadata": {
        "colab": {
          "base_uri": "https://localhost:8080/",
          "height": 990
        },
        "id": "-fTuaLrIwFrx",
        "outputId": "3d4188ac-e961-469a-e041-7fb9a70d19a0"
      },
      "execution_count": null,
      "outputs": [
        {
          "output_type": "display_data",
          "data": {
            "text/plain": [
              "<Figure size 800x600 with 15 Axes>"
            ],
            "image/png": "[encoded data removed]"
          },
          "metadata": {}
        },
        {
          "output_type": "execute_result",
          "data": {
            "text/plain": [
              "      pixel0  pixel1  pixel2  pixel3  pixel4  pixel5  pixel6  pixel7  pixel8  \\\n",
              "0        0.0     0.0     5.0    13.0     9.0     1.0     0.0     0.0     0.0   \n",
              "1        0.0     0.0     0.0    12.0    13.0     5.0     0.0     0.0     0.0   \n",
              "2        0.0     0.0     0.0     4.0    15.0    12.0     0.0     0.0     0.0   \n",
              "3        0.0     0.0     7.0    15.0    13.0     1.0     0.0     0.0     0.0   \n",
              "4        0.0     0.0     0.0     1.0    11.0     0.0     0.0     0.0     0.0   \n",
              "...      ...     ...     ...     ...     ...     ...     ...     ...     ...   \n",
              "1792     0.0     0.0     4.0    10.0    13.0     6.0     0.0     0.0     0.0   \n",
              "1793     0.0     0.0     6.0    16.0    13.0    11.0     1.0     0.0     0.0   \n",
              "1794     0.0     0.0     1.0    11.0    15.0     1.0     0.0     0.0     0.0   \n",
              "1795     0.0     0.0     2.0    10.0     7.0     0.0     0.0     0.0     0.0   \n",
              "1796     0.0     0.0    10.0    14.0     8.0     1.0     0.0     0.0     0.0   \n",
              "\n",
              "      pixel9  ...  pixel55  pixel56  pixel57  pixel58  pixel59  pixel60  \\\n",
              "0        0.0  ...      0.0      0.0      0.0      6.0     13.0     10.0   \n",
              "1        0.0  ...      0.0      0.0      0.0      0.0     11.0     16.0   \n",
              "2        0.0  ...      0.0      0.0      0.0      0.0      3.0     11.0   \n",
              "3        8.0  ...      0.0      0.0      0.0      7.0     13.0     13.0   \n",
              "4        0.0  ...      0.0      0.0      0.0      0.0      2.0     16.0   \n",
              "...      ...  ...      ...      ...      ...      ...      ...      ...   \n",
              "1792     1.0  ...      0.0      0.0      0.0      2.0     14.0     15.0   \n",
              "1793     0.0  ...      0.0      0.0      0.0      6.0     16.0     14.0   \n",
              "1794     0.0  ...      0.0      0.0      0.0      2.0      9.0     13.0   \n",
              "1795     0.0  ...      0.0      0.0      0.0      5.0     12.0     16.0   \n",
              "1796     2.0  ...      0.0      0.0      1.0      8.0     12.0     14.0   \n",
              "\n",
              "      pixel61  pixel62  pixel63  target  \n",
              "0         0.0      0.0      0.0       0  \n",
              "1        10.0      0.0      0.0       1  \n",
              "2        16.0      9.0      0.0       2  \n",
              "3         9.0      0.0      0.0       3  \n",
              "4         4.0      0.0      0.0       4  \n",
              "...       ...      ...      ...     ...  \n",
              "1792      9.0      0.0      0.0       9  \n",
              "1793      6.0      0.0      0.0       0  \n",
              "1794      6.0      0.0      0.0       8  \n",
              "1795     12.0      0.0      0.0       9  \n",
              "1796     12.0      1.0      0.0       8  \n",
              "\n",
              "[1797 rows x 65 columns]"
            ],
            "text/html": [
              "\n",
              "  <div id=\"df-010d5c39-86af-42f7-8da8-44e260040eb3\">\n",
              "    <div class=\"colab-df-container\">\n",
              "      <div>\n",
              "<style scoped>\n",
              "    .dataframe tbody tr th:only-of-type {\n",
              "        vertical-align: middle;\n",
              "    }\n",
              "\n",
              "    .dataframe tbody tr th {\n",
              "        vertical-align: top;\n",
              "    }\n",
              "\n",
              "    .dataframe thead th {\n",
              "        text-align: right;\n",
              "    }\n",
              "</style>\n",
              "<table border=\"1\" class=\"dataframe\">\n",
              "  <thead>\n",
              "    <tr style=\"text-align: right;\">\n",
              "      <th></th>\n",
              "      <th>pixel0</th>\n",
              "      <th>pixel1</th>\n",
              "      <th>pixel2</th>\n",
              "      <th>pixel3</th>\n",
              "      <th>pixel4</th>\n",
              "      <th>pixel5</th>\n",
              "      <th>pixel6</th>\n",
              "      <th>pixel7</th>\n",
              "      <th>pixel8</th>\n",
              "      <th>pixel9</th>\n",
              "      <th>...</th>\n",
              "      <th>pixel55</th>\n",
              "      <th>pixel56</th>\n",
              "      <th>pixel57</th>\n",
              "      <th>pixel58</th>\n",
              "      <th>pixel59</th>\n",
              "      <th>pixel60</th>\n",
              "      <th>pixel61</th>\n",
              "      <th>pixel62</th>\n",
              "      <th>pixel63</th>\n",
              "      <th>target</th>\n",
              "    </tr>\n",
              "  </thead>\n",
              "  <tbody>\n",
              "    <tr>\n",
              "      <th>0</th>\n",
              "      <td>0.0</td>\n",
              "      <td>0.0</td>\n",
              "      <td>5.0</td>\n",
              "      <td>13.0</td>\n",
              "      <td>9.0</td>\n",
              "      <td>1.0</td>\n",
              "      <td>0.0</td>\n",
              "      <td>0.0</td>\n",
              "      <td>0.0</td>\n",
              "      <td>0.0</td>\n",
              "      <td>...</td>\n",
              "      <td>0.0</td>\n",
              "      <td>0.0</td>\n",
              "      <td>0.0</td>\n",
              "      <td>6.0</td>\n",
              "      <td>13.0</td>\n",
              "      <td>10.0</td>\n",
              "      <td>0.0</td>\n",
              "      <td>0.0</td>\n",
              "      <td>0.0</td>\n",
              "      <td>0</td>\n",
              "    </tr>\n",
              "    <tr>\n",
              "      <th>1</th>\n",
              "      <td>0.0</td>\n",
              "      <td>0.0</td>\n",
              "      <td>0.0</td>\n",
              "      <td>12.0</td>\n",
              "      <td>13.0</td>\n",
              "      <td>5.0</td>\n",
              "      <td>0.0</td>\n",
              "      <td>0.0</td>\n",
              "      <td>0.0</td>\n",
              "      <td>0.0</td>\n",
              "      <td>...</td>\n",
              "      <td>0.0</td>\n",
              "      <td>0.0</td>\n",
              "      <td>0.0</td>\n",
              "      <td>0.0</td>\n",
              "      <td>11.0</td>\n",
              "      <td>16.0</td>\n",
              "      <td>10.0</td>\n",
              "      <td>0.0</td>\n",
              "      <td>0.0</td>\n",
              "      <td>1</td>\n",
              "    </tr>\n",
              "    <tr>\n",
              "      <th>2</th>\n",
              "      <td>0.0</td>\n",
              "      <td>0.0</td>\n",
              "      <td>0.0</td>\n",
              "      <td>4.0</td>\n",
              "      <td>15.0</td>\n",
              "      <td>12.0</td>\n",
              "      <td>0.0</td>\n",
              "      <td>0.0</td>\n",
              "      <td>0.0</td>\n",
              "      <td>0.0</td>\n",
              "      <td>...</td>\n",
              "      <td>0.0</td>\n",
              "      <td>0.0</td>\n",
              "      <td>0.0</td>\n",
              "      <td>0.0</td>\n",
              "      <td>3.0</td>\n",
              "      <td>11.0</td>\n",
              "      <td>16.0</td>\n",
              "      <td>9.0</td>\n",
              "      <td>0.0</td>\n",
              "      <td>2</td>\n",
              "    </tr>\n",
              "    <tr>\n",
              "      <th>3</th>\n",
              "      <td>0.0</td>\n",
              "      <td>0.0</td>\n",
              "      <td>7.0</td>\n",
              "      <td>15.0</td>\n",
              "      <td>13.0</td>\n",
              "      <td>1.0</td>\n",
              "      <td>0.0</td>\n",
              "      <td>0.0</td>\n",
              "      <td>0.0</td>\n",
              "      <td>8.0</td>\n",
              "      <td>...</td>\n",
              "      <td>0.0</td>\n",
              "      <td>0.0</td>\n",
              "      <td>0.0</td>\n",
              "      <td>7.0</td>\n",
              "      <td>13.0</td>\n",
              "      <td>13.0</td>\n",
              "      <td>9.0</td>\n",
              "      <td>0.0</td>\n",
              "      <td>0.0</td>\n",
              "      <td>3</td>\n",
              "    </tr>\n",
              "    <tr>\n",
              "      <th>4</th>\n",
              "      <td>0.0</td>\n",
              "      <td>0.0</td>\n",
              "      <td>0.0</td>\n",
              "      <td>1.0</td>\n",
              "      <td>11.0</td>\n",
              "      <td>0.0</td>\n",
              "      <td>0.0</td>\n",
              "      <td>0.0</td>\n",
              "      <td>0.0</td>\n",
              "      <td>0.0</td>\n",
              "      <td>...</td>\n",
              "      <td>0.0</td>\n",
              "      <td>0.0</td>\n",
              "      <td>0.0</td>\n",
              "      <td>0.0</td>\n",
              "      <td>2.0</td>\n",
              "      <td>16.0</td>\n",
              "      <td>4.0</td>\n",
              "      <td>0.0</td>\n",
              "      <td>0.0</td>\n",
              "      <td>4</td>\n",
              "    </tr>\n",
              "    <tr>\n",
              "      <th>...</th>\n",
              "      <td>...</td>\n",
              "      <td>...</td>\n",
              "      <td>...</td>\n",
              "      <td>...</td>\n",
              "      <td>...</td>\n",
              "      <td>...</td>\n",
              "      <td>...</td>\n",
              "      <td>...</td>\n",
              "      <td>...</td>\n",
              "      <td>...</td>\n",
              "      <td>...</td>\n",
              "      <td>...</td>\n",
              "      <td>...</td>\n",
              "      <td>...</td>\n",
              "      <td>...</td>\n",
              "      <td>...</td>\n",
              "      <td>...</td>\n",
              "      <td>...</td>\n",
              "      <td>...</td>\n",
              "      <td>...</td>\n",
              "      <td>...</td>\n",
              "    </tr>\n",
              "    <tr>\n",
              "      <th>1792</th>\n",
              "      <td>0.0</td>\n",
              "      <td>0.0</td>\n",
              "      <td>4.0</td>\n",
              "      <td>10.0</td>\n",
              "      <td>13.0</td>\n",
              "      <td>6.0</td>\n",
              "      <td>0.0</td>\n",
              "      <td>0.0</td>\n",
              "      <td>0.0</td>\n",
              "      <td>1.0</td>\n",
              "      <td>...</td>\n",
              "      <td>0.0</td>\n",
              "      <td>0.0</td>\n",
              "      <td>0.0</td>\n",
              "      <td>2.0</td>\n",
              "      <td>14.0</td>\n",
              "      <td>15.0</td>\n",
              "      <td>9.0</td>\n",
              "      <td>0.0</td>\n",
              "      <td>0.0</td>\n",
              "      <td>9</td>\n",
              "    </tr>\n",
              "    <tr>\n",
              "      <th>1793</th>\n",
              "      <td>0.0</td>\n",
              "      <td>0.0</td>\n",
              "      <td>6.0</td>\n",
              "      <td>16.0</td>\n",
              "      <td>13.0</td>\n",
              "      <td>11.0</td>\n",
              "      <td>1.0</td>\n",
              "      <td>0.0</td>\n",
              "      <td>0.0</td>\n",
              "      <td>0.0</td>\n",
              "      <td>...</td>\n",
              "      <td>0.0</td>\n",
              "      <td>0.0</td>\n",
              "      <td>0.0</td>\n",
              "      <td>6.0</td>\n",
              "      <td>16.0</td>\n",
              "      <td>14.0</td>\n",
              "      <td>6.0</td>\n",
              "      <td>0.0</td>\n",
              "      <td>0.0</td>\n",
              "      <td>0</td>\n",
              "    </tr>\n",
              "    <tr>\n",
              "      <th>1794</th>\n",
              "      <td>0.0</td>\n",
              "      <td>0.0</td>\n",
              "      <td>1.0</td>\n",
              "      <td>11.0</td>\n",
              "      <td>15.0</td>\n",
              "      <td>1.0</td>\n",
              "      <td>0.0</td>\n",
              "      <td>0.0</td>\n",
              "      <td>0.0</td>\n",
              "      <td>0.0</td>\n",
              "      <td>...</td>\n",
              "      <td>0.0</td>\n",
              "      <td>0.0</td>\n",
              "      <td>0.0</td>\n",
              "      <td>2.0</td>\n",
              "      <td>9.0</td>\n",
              "      <td>13.0</td>\n",
              "      <td>6.0</td>\n",
              "      <td>0.0</td>\n",
              "      <td>0.0</td>\n",
              "      <td>8</td>\n",
              "    </tr>\n",
              "    <tr>\n",
              "      <th>1795</th>\n",
              "      <td>0.0</td>\n",
              "      <td>0.0</td>\n",
              "      <td>2.0</td>\n",
              "      <td>10.0</td>\n",
              "      <td>7.0</td>\n",
              "      <td>0.0</td>\n",
              "      <td>0.0</td>\n",
              "      <td>0.0</td>\n",
              "      <td>0.0</td>\n",
              "      <td>0.0</td>\n",
              "      <td>...</td>\n",
              "      <td>0.0</td>\n",
              "      <td>0.0</td>\n",
              "      <td>0.0</td>\n",
              "      <td>5.0</td>\n",
              "      <td>12.0</td>\n",
              "      <td>16.0</td>\n",
              "      <td>12.0</td>\n",
              "      <td>0.0</td>\n",
              "      <td>0.0</td>\n",
              "      <td>9</td>\n",
              "    </tr>\n",
              "    <tr>\n",
              "      <th>1796</th>\n",
              "      <td>0.0</td>\n",
              "      <td>0.0</td>\n",
              "      <td>10.0</td>\n",
              "      <td>14.0</td>\n",
              "      <td>8.0</td>\n",
              "      <td>1.0</td>\n",
              "      <td>0.0</td>\n",
              "      <td>0.0</td>\n",
              "      <td>0.0</td>\n",
              "      <td>2.0</td>\n",
              "      <td>...</td>\n",
              "      <td>0.0</td>\n",
              "      <td>0.0</td>\n",
              "      <td>1.0</td>\n",
              "      <td>8.0</td>\n",
              "      <td>12.0</td>\n",
              "      <td>14.0</td>\n",
              "      <td>12.0</td>\n",
              "      <td>1.0</td>\n",
              "      <td>0.0</td>\n",
              "      <td>8</td>\n",
              "    </tr>\n",
              "  </tbody>\n",
              "</table>\n",
              "<p>1797 rows × 65 columns</p>\n",
              "</div>\n",
              "      <button class=\"colab-df-convert\" onclick=\"convertToInteractive('df-010d5c39-86af-42f7-8da8-44e260040eb3')\"\n",
              "              title=\"Convert this dataframe to an interactive table.\"\n",
              "              style=\"display:none;\">\n",
              "        \n",
              "  <svg xmlns=\"http://www.w3.org/2000/svg\" height=\"24px\"viewBox=\"0 0 24 24\"\n",
              "       width=\"24px\">\n",
              "    <path d=\"M0 0h24v24H0V0z\" fill=\"none\"/>\n",
              "    <path d=\"M18.56 5.44l.94 2.06.94-2.06 2.06-.94-2.06-.94-.94-2.06-.94 2.06-2.06.94zm-11 1L8.5 8.5l.94-2.06 2.06-.94-2.06-.94L8.5 2.5l-.94 2.06-2.06.94zm10 10l.94 2.06.94-2.06 2.06-.94-2.06-.94-.94-2.06-.94 2.06-2.06.94z\"/><path d=\"M17.41 7.96l-1.37-1.37c-.4-.4-.92-.59-1.43-.59-.52 0-1.04.2-1.43.59L10.3 9.45l-7.72 7.72c-.78.78-.78 2.05 0 2.83L4 21.41c.39.39.9.59 1.41.59.51 0 1.02-.2 1.41-.59l7.78-7.78 2.81-2.81c.8-.78.8-2.07 0-2.86zM5.41 20L4 18.59l7.72-7.72 1.47 1.35L5.41 20z\"/>\n",
              "  </svg>\n",
              "      </button>\n",
              "      \n",
              "  <style>\n",
              "    .colab-df-container {\n",
              "      display:flex;\n",
              "      flex-wrap:wrap;\n",
              "      gap: 12px;\n",
              "    }\n",
              "\n",
              "    .colab-df-convert {\n",
              "      background-color: #E8F0FE;\n",
              "      border: none;\n",
              "      border-radius: 50%;\n",
              "      cursor: pointer;\n",
              "      display: none;\n",
              "      fill: #1967D2;\n",
              "      height: 32px;\n",
              "      padding: 0 0 0 0;\n",
              "      width: 32px;\n",
              "    }\n",
              "\n",
              "    .colab-df-convert:hover {\n",
              "      background-color: #E2EBFA;\n",
              "      box-shadow: 0px 1px 2px rgba(60, 64, 67, 0.3), 0px 1px 3px 1px rgba(60, 64, 67, 0.15);\n",
              "      fill: #174EA6;\n",
              "    }\n",
              "\n",
              "    [theme=dark] .colab-df-convert {\n",
              "      background-color: #3B4455;\n",
              "      fill: #D2E3FC;\n",
              "    }\n",
              "\n",
              "    [theme=dark] .colab-df-convert:hover {\n",
              "      background-color: #434B5C;\n",
              "      box-shadow: 0px 1px 3px 1px rgba(0, 0, 0, 0.15);\n",
              "      filter: drop-shadow(0px 1px 2px rgba(0, 0, 0, 0.3));\n",
              "      fill: #FFFFFF;\n",
              "    }\n",
              "  </style>\n",
              "\n",
              "      <script>\n",
              "        const buttonEl =\n",
              "          document.querySelector('#df-010d5c39-86af-42f7-8da8-44e260040eb3 button.colab-df-convert');\n",
              "        buttonEl.style.display =\n",
              "          google.colab.kernel.accessAllowed ? 'block' : 'none';\n",
              "\n",
              "        async function convertToInteractive(key) {\n",
              "          const element = document.querySelector('#df-010d5c39-86af-42f7-8da8-44e260040eb3');\n",
              "          const dataTable =\n",
              "            await google.colab.kernel.invokeFunction('convertToInteractive',\n",
              "                                                     [key], {});\n",
              "          if (!dataTable) return;\n",
              "\n",
              "          const docLinkHtml = 'Like what you see? Visit the ' +\n",
              "            '<a target=\"_blank\" href=https://colab.research.google.com/notebooks/data_table.ipynb>data table notebook</a>'\n",
              "            + ' to learn more about interactive tables.';\n",
              "          element.innerHTML = '';\n",
              "          dataTable['output_type'] = 'display_data';\n",
              "          await google.colab.output.renderOutput(dataTable, element);\n",
              "          const docLink = document.createElement('div');\n",
              "          docLink.innerHTML = docLinkHtml;\n",
              "          element.appendChild(docLink);\n",
              "        }\n",
              "      </script>\n",
              "    </div>\n",
              "  </div>\n",
              "  "
            ]
          },
          "metadata": {},
          "execution_count": 15
        }
      ]
    },
    {
      "cell_type": "markdown",
      "source": [
        "##### **Problem #8: Split the data into train and test sets.**\n",
        "---\n",
        "\n",
        "We are not comparing models or making changes to the model, so we will skip adding a validation set this time. Make sure the test dataset is 20% of the original dataset."
      ],
      "metadata": {
        "id": "gDcW7t2fp-ea"
      }
    },
    {
      "cell_type": "code",
      "source": [],
      "metadata": {
        "id": "UzQ0UUAFp-eb"
      },
      "execution_count": null,
      "outputs": []
    },
    {
      "cell_type": "markdown",
      "source": [
        "###### **Solution**"
      ],
      "metadata": {
        "id": "s8ualzzgp-ec"
      }
    },
    {
      "cell_type": "code",
      "source": [
        "X_train, X_test, y_train, y_test = train_test_split(X, y, test_size=0.2, random_state=42)"
      ],
      "metadata": {
        "id": "mIOMC7NXphkw"
      },
      "execution_count": null,
      "outputs": []
    },
    {
      "cell_type": "markdown",
      "source": [
        "##### **Problem #9: Initialize and train a Logistic Regression model for multiclass classification.**\n",
        "---\n",
        "\n",
        "Use the `ovr` multi-class mode."
      ],
      "metadata": {
        "id": "87lC5-chqG1A"
      }
    },
    {
      "cell_type": "code",
      "source": [],
      "metadata": {
        "id": "_sd8SVrmqG1B"
      },
      "execution_count": null,
      "outputs": []
    },
    {
      "cell_type": "markdown",
      "source": [
        "###### **Solution**"
      ],
      "metadata": {
        "id": "2t9WD2x4qG1B"
      }
    },
    {
      "cell_type": "code",
      "source": [
        "clf = LogisticRegression(random_state=7313544, multi_class='ovr')\n",
        "clf.fit(X_train, y_train);"
      ],
      "metadata": {
        "id": "7i56dmwUplUh"
      },
      "execution_count": null,
      "outputs": []
    },
    {
      "cell_type": "markdown",
      "source": [
        "##### **Problem #10: Make predictions for the test data.**\n",
        "---\n"
      ],
      "metadata": {
        "id": "9J1bN6WlqG1B"
      }
    },
    {
      "cell_type": "code",
      "source": [
        "y_pred = # COMPLETE THIS LINE\n",
        "\n",
        "y_pred_proba = # COMPLETE THIS LINE\n",
        "\n",
        "y_pred_binary = # COMPLETE THIS LINE"
      ],
      "metadata": {
        "id": "iNkDzJGPHny7"
      },
      "execution_count": null,
      "outputs": []
    },
    {
      "cell_type": "markdown",
      "source": [
        "###### **Solution**"
      ],
      "metadata": {
        "id": "YCU2SK-KHny8"
      }
    },
    {
      "cell_type": "code",
      "source": [
        "y_pred = clf.predict(X_test)\n",
        "\n",
        "y_pred_proba = clf.predict_proba(X_test)\n",
        "\n",
        "y_pred_binary = (y_pred_proba[:, 1] > 0.5).astype(int)\n",
        "\n",
        "y_pred"
      ],
      "metadata": {
        "id": "XYlCXZdfHny8",
        "colab": {
          "base_uri": "https://localhost:8080/"
        },
        "outputId": "1d5455c3-acab-449b-d176-9d2066755ed7"
      },
      "execution_count": null,
      "outputs": [
        {
          "output_type": "execute_result",
          "data": {
            "text/plain": [
              "array([6, 9, 3, 7, 2, 1, 5, 2, 5, 2, 1, 8, 4, 0, 4, 2, 3, 7, 8, 8, 4, 3,\n",
              "       9, 7, 5, 6, 3, 5, 6, 3, 4, 9, 1, 4, 4, 6, 9, 4, 7, 6, 6, 9, 1, 3,\n",
              "       6, 1, 3, 0, 6, 5, 5, 1, 9, 5, 6, 0, 9, 0, 0, 1, 0, 4, 5, 2, 4, 5,\n",
              "       7, 0, 7, 5, 9, 5, 5, 4, 7, 0, 4, 5, 5, 9, 9, 0, 2, 3, 8, 0, 6, 4,\n",
              "       4, 9, 1, 2, 8, 3, 5, 2, 9, 0, 4, 4, 4, 3, 5, 3, 1, 3, 5, 9, 4, 2,\n",
              "       7, 7, 4, 4, 1, 9, 2, 7, 8, 7, 2, 6, 9, 4, 0, 7, 2, 7, 5, 8, 7, 5,\n",
              "       7, 9, 0, 6, 6, 4, 2, 8, 0, 9, 4, 6, 9, 9, 6, 9, 0, 5, 5, 6, 6, 0,\n",
              "       6, 4, 3, 9, 3, 8, 7, 2, 9, 0, 6, 5, 3, 6, 5, 8, 9, 8, 4, 2, 1, 3,\n",
              "       7, 7, 2, 2, 3, 9, 8, 0, 3, 2, 2, 5, 6, 9, 9, 4, 1, 2, 4, 2, 3, 6,\n",
              "       4, 8, 5, 9, 5, 7, 8, 9, 4, 8, 1, 5, 4, 4, 9, 6, 1, 8, 6, 0, 4, 5,\n",
              "       2, 7, 1, 6, 4, 5, 6, 0, 3, 2, 3, 6, 7, 1, 9, 1, 4, 7, 6, 5, 1, 5,\n",
              "       5, 1, 5, 2, 8, 8, 9, 8, 7, 6, 2, 2, 2, 3, 4, 8, 8, 3, 6, 0, 9, 7,\n",
              "       7, 0, 1, 0, 4, 5, 1, 5, 3, 6, 0, 4, 1, 0, 0, 3, 6, 5, 9, 7, 3, 5,\n",
              "       5, 9, 9, 8, 5, 3, 3, 2, 0, 5, 8, 3, 4, 0, 2, 4, 6, 4, 3, 4, 5, 0,\n",
              "       5, 2, 1, 3, 1, 4, 1, 1, 7, 0, 1, 5, 2, 1, 2, 8, 7, 0, 6, 4, 8, 8,\n",
              "       5, 1, 8, 4, 5, 8, 7, 9, 8, 8, 0, 6, 2, 0, 7, 9, 1, 9, 5, 2, 7, 7,\n",
              "       1, 8, 7, 4, 3, 8, 3, 5])"
            ]
          },
          "metadata": {},
          "execution_count": 19
        }
      ]
    },
    {
      "cell_type": "markdown",
      "source": [
        "##### **Problem #11: Print the accuracy score.**\n",
        "---\n"
      ],
      "metadata": {
        "id": "GJxdjSNoqG1B"
      }
    },
    {
      "cell_type": "code",
      "source": [
        "accuracy = # WRITE YOUR CODE HERE\n",
        "print(f'Accuracy: {accuracy}')"
      ],
      "metadata": {
        "id": "rvVSO-lbqG1B"
      },
      "execution_count": null,
      "outputs": []
    },
    {
      "cell_type": "markdown",
      "source": [
        "###### **Solution**"
      ],
      "metadata": {
        "id": "1AvkKY0rqG1C"
      }
    },
    {
      "cell_type": "code",
      "source": [
        "accuracy = accuracy_score(y_test,y_pred)\n",
        "print(f'Accuracy: {accuracy}')"
      ],
      "metadata": {
        "colab": {
          "base_uri": "https://localhost:8080/"
        },
        "id": "nlCUrIq3pssB",
        "outputId": "f5097bf0-9b93-42e9-eaab-3c41ba1f5209"
      },
      "execution_count": null,
      "outputs": [
        {
          "output_type": "stream",
          "name": "stdout",
          "text": [
            "Accuracy: 0.9583333333333334\n"
          ]
        }
      ]
    },
    {
      "cell_type": "markdown",
      "source": [
        "##### **Problem #12: Plot the confusion matrix.**\n",
        "---"
      ],
      "metadata": {
        "id": "1nSajOFvqyGr"
      }
    },
    {
      "cell_type": "code",
      "source": [
        "cm = # WRITE YOUR CODE HERE\n",
        "disp = # WRITE YOUR CODE HERE\n",
        "disp.plot()\n",
        "plt.show()"
      ],
      "metadata": {
        "id": "X6uHrmduW4g8"
      },
      "execution_count": null,
      "outputs": []
    },
    {
      "cell_type": "markdown",
      "source": [
        "###### **Solution**"
      ],
      "metadata": {
        "id": "nwgdnD3eW5EW"
      }
    },
    {
      "cell_type": "code",
      "source": [
        "cm = confusion_matrix(y_test, y_pred, labels=clf.classes_)\n",
        "\n",
        "disp = ConfusionMatrixDisplay(confusion_matrix=cm, display_labels=clf.classes_)\n",
        "disp.plot()\n",
        "plt.show()\n",
        "print(clf.classes_)"
      ],
      "metadata": {
        "colab": {
          "base_uri": "https://localhost:8080/",
          "height": 487
        },
        "id": "BTigiEy0pm1i",
        "outputId": "9652238a-0a7a-4be5-9700-7e432bd13e26"
      },
      "execution_count": null,
      "outputs": [
        {
          "output_type": "display_data",
          "data": {
            "text/plain": [
              "<Figure size 640x480 with 2 Axes>"
            ],
            "image/png": "[encoded data removed]"
          },
          "metadata": {}
        },
        {
          "output_type": "stream",
          "name": "stdout",
          "text": [
            "[0 1 2 3 4 5 6 7 8 9]\n"
          ]
        }
      ]
    },
    {
      "cell_type": "markdown",
      "source": [
        "---\n",
        "\n",
        "<center>\n",
        "\n",
        "#### **Back to lecture**\n",
        "\n",
        "---"
      ],
      "metadata": {
        "id": "npMRZWB9-4_0"
      }
    },
    {
      "cell_type": "markdown",
      "source": [
        "---\n",
        "## **Part 3: Battle of the Titanic Models**\n",
        "---\n",
        "\n",
        "In this part, we will revisit the Titanic dataset from the [Titanic competition on Kaggle](https://www.kaggle.com/c/titanic). In Lab 4, you cleaned the data, created features, encoded features, and visualized the data to understand patterns and trends among passengers who survived. Here, we will take the analysis a step further and use the classification models we have learned about (KNN and Logistic Regression) to make predictions for whether or not a passenger survived. We will validate and improve the models to determine a winner that will make final predictions, which you have the option of submitting to the Kaggle competition if you want to find out the final score.\n"
      ],
      "metadata": {
        "id": "mzisnNcmztgl"
      }
    },
    {
      "cell_type": "markdown",
      "source": [
        "---\n",
        "\n",
        "### **Part 3.1: Build, Train, and Validate Models**\n",
        "\n",
        "---\n",
        "\n",
        "Recall the steps for validating and improving models:\n",
        "\n",
        "1. **Decide on a metric** as the basis for comparing the models and a target value for that metric\n",
        "2. **Train** the models on the training dataset\n",
        "3. **Evaluate** the models on the validation dataset with the chosen metric\n",
        "4. **Make changes** to the models *if improvements are needed*\n",
        "5. **Repeat** steps 2–4 until target metric is achieved by one or more models.\n",
        "\n",
        "Next lecture, we will discuss advanced methods for validating and improving models. "
      ],
      "metadata": {
        "id": "4KoPcNTgXcbA"
      }
    },
    {
      "cell_type": "markdown",
      "source": [
        "First, we'll clean and prepare the data the same way we did in Lab 4. We are creating a function that does all the data preparation. This is good practice to make sure all data is prepared the same way. We will be using the same function on the training data (which we will split further into a train/validation datasets) and the test data set (from Kaggle, we do not have the solutions for this. If you want to see the result, you'll have to submit your predictions to the competition).\n",
        "\n",
        "**This code has been provided for you. Run the cell below.**"
      ],
      "metadata": {
        "id": "mVMG7_fG13GB"
      }
    },
    {
      "cell_type": "code",
      "source": [
        "def prepare_titanic_data(input_data):\n",
        "  # We will create a copy and preserve the original dataframe\n",
        "  data = input_data.copy() \n",
        "\n",
        "  # Clean the data\n",
        "  data.drop_duplicates(inplace=True)\n",
        "  data = data.drop(['PassengerId', 'Name', 'Ticket', 'Cabin'], axis=1)\n",
        "  data['Embarked'] = data['Embarked'].fillna(data['Embarked'].mode()[0])\n",
        "  data['Age'] = data['Age'].fillna(data['Age'].median())\n",
        "\n",
        "  # Feature creation\n",
        "  data.loc[data['Age'] < 18, 'AgeGroup'] = 'Child'\n",
        "  data.loc[(data['Age'] >= 18) & (data['Age'] < 65), 'AgeGroup'] = 'Adult'\n",
        "  data.loc[data['Age'] >= 65, 'AgeGroup'] = 'Elderly'\n",
        "\n",
        "  data['FareGroup'] = pd.qcut(data['Fare'], 4, labels=['Cheap','Low','High','Expensive'])\n",
        "  data['FamilySize'] = data['SibSp'] + data['Parch'] + 1\n",
        "\n",
        "  # Feature encoding\n",
        "  label_map = {'male': 0, 'female': 1}\n",
        "  data['Sex_encoded'] = data['Sex'].map(label_map)\n",
        "\n",
        "  label_map = {'Child': 0, 'Adult': 1, 'Elderly': 2}\n",
        "  data['AgeGroup_encoded'] = data['AgeGroup'].map(label_map)\n",
        "\n",
        "  fare_map = {'Cheap': 0, 'Low': 1, 'High': 2, 'Expensive': 3}\n",
        "  data['FareGroup_encoded'] = data['FareGroup'].map(fare_map)\n",
        "\n",
        "  embark_map = {'S': 0, 'C': 1, 'Q': 2}\n",
        "  data['Embarked_encoded'] = data['Embarked'].map(embark_map)\n",
        "  \n",
        "  return data"
      ],
      "metadata": {
        "id": "jsGDf1Tg3I0h"
      },
      "execution_count": null,
      "outputs": []
    },
    {
      "cell_type": "markdown",
      "source": [
        "Next, we need to load and apply the function to preprocess the train and test data. \n",
        "\n",
        "**This code has been provided for you. Run the cell below.**"
      ],
      "metadata": {
        "id": "o4t9jLZG9aLt"
      }
    },
    {
      "cell_type": "code",
      "source": [
        "# Load Kaggle train and test data\n",
        "train_data = pd.read_csv(\"https://raw.githubusercontent.com/n-sachdeva/titanic/main/train.csv\")\n",
        "test_data = pd.read_csv(\"https://raw.githubusercontent.com/n-sachdeva/titanic/main/test.csv\")\n",
        "\n",
        "# Use preprocessing function on both train and test data\n",
        "train = prepare_titanic_data(train_data)\n",
        "test = prepare_titanic_data(test_data)\n",
        "\n",
        "# Select features to use for modeling\n",
        "features = [\"Sex_encoded\",\"Pclass\", \"FamilySize\", \n",
        "            \"AgeGroup_encoded\", \"FareGroup_encoded\", \"Embarked_encoded\"]\n",
        "\n",
        "# Separate features and target\n",
        "X = train[features]\n",
        "y = train['Survived']\n",
        "X_test = test[features]\n",
        "train\n",
        "# there is no y_test, because we do not have the truth values for the test set"
      ],
      "metadata": {
        "id": "PMSBLlM81-Mp",
        "colab": {
          "base_uri": "https://localhost:8080/",
          "height": 491
        },
        "outputId": "fe6ec7a9-d70b-4c1f-a71d-76b1bf6a638c"
      },
      "execution_count": null,
      "outputs": [
        {
          "output_type": "execute_result",
          "data": {
            "text/plain": [
              "     Survived  Pclass     Sex   Age  SibSp  Parch     Fare Embarked AgeGroup  \\\n",
              "0           0       3    male  22.0      1      0   7.2500        S    Adult   \n",
              "1           1       1  female  38.0      1      0  71.2833        C    Adult   \n",
              "2           1       3  female  26.0      0      0   7.9250        S    Adult   \n",
              "3           1       1  female  35.0      1      0  53.1000        S    Adult   \n",
              "4           0       3    male  35.0      0      0   8.0500        S    Adult   \n",
              "..        ...     ...     ...   ...    ...    ...      ...      ...      ...   \n",
              "886         0       2    male  27.0      0      0  13.0000        S    Adult   \n",
              "887         1       1  female  19.0      0      0  30.0000        S    Adult   \n",
              "888         0       3  female  28.0      1      2  23.4500        S    Adult   \n",
              "889         1       1    male  26.0      0      0  30.0000        C    Adult   \n",
              "890         0       3    male  32.0      0      0   7.7500        Q    Adult   \n",
              "\n",
              "     FareGroup  FamilySize  Sex_encoded  AgeGroup_encoded FareGroup_encoded  \\\n",
              "0        Cheap           2            0                 1                 0   \n",
              "1    Expensive           2            1                 1                 3   \n",
              "2          Low           1            1                 1                 1   \n",
              "3    Expensive           2            1                 1                 3   \n",
              "4          Low           1            0                 1                 1   \n",
              "..         ...         ...          ...               ...               ...   \n",
              "886        Low           1            0                 1                 1   \n",
              "887       High           1            1                 1                 2   \n",
              "888       High           4            1                 1                 2   \n",
              "889       High           1            0                 1                 2   \n",
              "890      Cheap           1            0                 1                 0   \n",
              "\n",
              "     Embarked_encoded  \n",
              "0                   0  \n",
              "1                   1  \n",
              "2                   0  \n",
              "3                   0  \n",
              "4                   0  \n",
              "..                ...  \n",
              "886                 0  \n",
              "887                 0  \n",
              "888                 0  \n",
              "889                 1  \n",
              "890                 2  \n",
              "\n",
              "[891 rows x 15 columns]"
            ],
            "text/html": [
              "\n",
              "  <div id=\"df-c565643c-e1f2-4848-9447-41a7c57659f8\">\n",
              "    <div class=\"colab-df-container\">\n",
              "      <div>\n",
              "<style scoped>\n",
              "    .dataframe tbody tr th:only-of-type {\n",
              "        vertical-align: middle;\n",
              "    }\n",
              "\n",
              "    .dataframe tbody tr th {\n",
              "        vertical-align: top;\n",
              "    }\n",
              "\n",
              "    .dataframe thead th {\n",
              "        text-align: right;\n",
              "    }\n",
              "</style>\n",
              "<table border=\"1\" class=\"dataframe\">\n",
              "  <thead>\n",
              "    <tr style=\"text-align: right;\">\n",
              "      <th></th>\n",
              "      <th>Survived</th>\n",
              "      <th>Pclass</th>\n",
              "      <th>Sex</th>\n",
              "      <th>Age</th>\n",
              "      <th>SibSp</th>\n",
              "      <th>Parch</th>\n",
              "      <th>Fare</th>\n",
              "      <th>Embarked</th>\n",
              "      <th>AgeGroup</th>\n",
              "      <th>FareGroup</th>\n",
              "      <th>FamilySize</th>\n",
              "      <th>Sex_encoded</th>\n",
              "      <th>AgeGroup_encoded</th>\n",
              "      <th>FareGroup_encoded</th>\n",
              "      <th>Embarked_encoded</th>\n",
              "    </tr>\n",
              "  </thead>\n",
              "  <tbody>\n",
              "    <tr>\n",
              "      <th>0</th>\n",
              "      <td>0</td>\n",
              "      <td>3</td>\n",
              "      <td>male</td>\n",
              "      <td>22.0</td>\n",
              "      <td>1</td>\n",
              "      <td>0</td>\n",
              "      <td>7.2500</td>\n",
              "      <td>S</td>\n",
              "      <td>Adult</td>\n",
              "      <td>Cheap</td>\n",
              "      <td>2</td>\n",
              "      <td>0</td>\n",
              "      <td>1</td>\n",
              "      <td>0</td>\n",
              "      <td>0</td>\n",
              "    </tr>\n",
              "    <tr>\n",
              "      <th>1</th>\n",
              "      <td>1</td>\n",
              "      <td>1</td>\n",
              "      <td>female</td>\n",
              "      <td>38.0</td>\n",
              "      <td>1</td>\n",
              "      <td>0</td>\n",
              "      <td>71.2833</td>\n",
              "      <td>C</td>\n",
              "      <td>Adult</td>\n",
              "      <td>Expensive</td>\n",
              "      <td>2</td>\n",
              "      <td>1</td>\n",
              "      <td>1</td>\n",
              "      <td>3</td>\n",
              "      <td>1</td>\n",
              "    </tr>\n",
              "    <tr>\n",
              "      <th>2</th>\n",
              "      <td>1</td>\n",
              "      <td>3</td>\n",
              "      <td>female</td>\n",
              "      <td>26.0</td>\n",
              "      <td>0</td>\n",
              "      <td>0</td>\n",
              "      <td>7.9250</td>\n",
              "      <td>S</td>\n",
              "      <td>Adult</td>\n",
              "      <td>Low</td>\n",
              "      <td>1</td>\n",
              "      <td>1</td>\n",
              "      <td>1</td>\n",
              "      <td>1</td>\n",
              "      <td>0</td>\n",
              "    </tr>\n",
              "    <tr>\n",
              "      <th>3</th>\n",
              "      <td>1</td>\n",
              "      <td>1</td>\n",
              "      <td>female</td>\n",
              "      <td>35.0</td>\n",
              "      <td>1</td>\n",
              "      <td>0</td>\n",
              "      <td>53.1000</td>\n",
              "      <td>S</td>\n",
              "      <td>Adult</td>\n",
              "      <td>Expensive</td>\n",
              "      <td>2</td>\n",
              "      <td>1</td>\n",
              "      <td>1</td>\n",
              "      <td>3</td>\n",
              "      <td>0</td>\n",
              "    </tr>\n",
              "    <tr>\n",
              "      <th>4</th>\n",
              "      <td>0</td>\n",
              "      <td>3</td>\n",
              "      <td>male</td>\n",
              "      <td>35.0</td>\n",
              "      <td>0</td>\n",
              "      <td>0</td>\n",
              "      <td>8.0500</td>\n",
              "      <td>S</td>\n",
              "      <td>Adult</td>\n",
              "      <td>Low</td>\n",
              "      <td>1</td>\n",
              "      <td>0</td>\n",
              "      <td>1</td>\n",
              "      <td>1</td>\n",
              "      <td>0</td>\n",
              "    </tr>\n",
              "    <tr>\n",
              "      <th>...</th>\n",
              "      <td>...</td>\n",
              "      <td>...</td>\n",
              "      <td>...</td>\n",
              "      <td>...</td>\n",
              "      <td>...</td>\n",
              "      <td>...</td>\n",
              "      <td>...</td>\n",
              "      <td>...</td>\n",
              "      <td>...</td>\n",
              "      <td>...</td>\n",
              "      <td>...</td>\n",
              "      <td>...</td>\n",
              "      <td>...</td>\n",
              "      <td>...</td>\n",
              "      <td>...</td>\n",
              "    </tr>\n",
              "    <tr>\n",
              "      <th>886</th>\n",
              "      <td>0</td>\n",
              "      <td>2</td>\n",
              "      <td>male</td>\n",
              "      <td>27.0</td>\n",
              "      <td>0</td>\n",
              "      <td>0</td>\n",
              "      <td>13.0000</td>\n",
              "      <td>S</td>\n",
              "      <td>Adult</td>\n",
              "      <td>Low</td>\n",
              "      <td>1</td>\n",
              "      <td>0</td>\n",
              "      <td>1</td>\n",
              "      <td>1</td>\n",
              "      <td>0</td>\n",
              "    </tr>\n",
              "    <tr>\n",
              "      <th>887</th>\n",
              "      <td>1</td>\n",
              "      <td>1</td>\n",
              "      <td>female</td>\n",
              "      <td>19.0</td>\n",
              "      <td>0</td>\n",
              "      <td>0</td>\n",
              "      <td>30.0000</td>\n",
              "      <td>S</td>\n",
              "      <td>Adult</td>\n",
              "      <td>High</td>\n",
              "      <td>1</td>\n",
              "      <td>1</td>\n",
              "      <td>1</td>\n",
              "      <td>2</td>\n",
              "      <td>0</td>\n",
              "    </tr>\n",
              "    <tr>\n",
              "      <th>888</th>\n",
              "      <td>0</td>\n",
              "      <td>3</td>\n",
              "      <td>female</td>\n",
              "      <td>28.0</td>\n",
              "      <td>1</td>\n",
              "      <td>2</td>\n",
              "      <td>23.4500</td>\n",
              "      <td>S</td>\n",
              "      <td>Adult</td>\n",
              "      <td>High</td>\n",
              "      <td>4</td>\n",
              "      <td>1</td>\n",
              "      <td>1</td>\n",
              "      <td>2</td>\n",
              "      <td>0</td>\n",
              "    </tr>\n",
              "    <tr>\n",
              "      <th>889</th>\n",
              "      <td>1</td>\n",
              "      <td>1</td>\n",
              "      <td>male</td>\n",
              "      <td>26.0</td>\n",
              "      <td>0</td>\n",
              "      <td>0</td>\n",
              "      <td>30.0000</td>\n",
              "      <td>C</td>\n",
              "      <td>Adult</td>\n",
              "      <td>High</td>\n",
              "      <td>1</td>\n",
              "      <td>0</td>\n",
              "      <td>1</td>\n",
              "      <td>2</td>\n",
              "      <td>1</td>\n",
              "    </tr>\n",
              "    <tr>\n",
              "      <th>890</th>\n",
              "      <td>0</td>\n",
              "      <td>3</td>\n",
              "      <td>male</td>\n",
              "      <td>32.0</td>\n",
              "      <td>0</td>\n",
              "      <td>0</td>\n",
              "      <td>7.7500</td>\n",
              "      <td>Q</td>\n",
              "      <td>Adult</td>\n",
              "      <td>Cheap</td>\n",
              "      <td>1</td>\n",
              "      <td>0</td>\n",
              "      <td>1</td>\n",
              "      <td>0</td>\n",
              "      <td>2</td>\n",
              "    </tr>\n",
              "  </tbody>\n",
              "</table>\n",
              "<p>891 rows × 15 columns</p>\n",
              "</div>\n",
              "      <button class=\"colab-df-convert\" onclick=\"convertToInteractive('df-c565643c-e1f2-4848-9447-41a7c57659f8')\"\n",
              "              title=\"Convert this dataframe to an interactive table.\"\n",
              "              style=\"display:none;\">\n",
              "        \n",
              "  <svg xmlns=\"http://www.w3.org/2000/svg\" height=\"24px\"viewBox=\"0 0 24 24\"\n",
              "       width=\"24px\">\n",
              "    <path d=\"M0 0h24v24H0V0z\" fill=\"none\"/>\n",
              "    <path d=\"M18.56 5.44l.94 2.06.94-2.06 2.06-.94-2.06-.94-.94-2.06-.94 2.06-2.06.94zm-11 1L8.5 8.5l.94-2.06 2.06-.94-2.06-.94L8.5 2.5l-.94 2.06-2.06.94zm10 10l.94 2.06.94-2.06 2.06-.94-2.06-.94-.94-2.06-.94 2.06-2.06.94z\"/><path d=\"M17.41 7.96l-1.37-1.37c-.4-.4-.92-.59-1.43-.59-.52 0-1.04.2-1.43.59L10.3 9.45l-7.72 7.72c-.78.78-.78 2.05 0 2.83L4 21.41c.39.39.9.59 1.41.59.51 0 1.02-.2 1.41-.59l7.78-7.78 2.81-2.81c.8-.78.8-2.07 0-2.86zM5.41 20L4 18.59l7.72-7.72 1.47 1.35L5.41 20z\"/>\n",
              "  </svg>\n",
              "      </button>\n",
              "      \n",
              "  <style>\n",
              "    .colab-df-container {\n",
              "      display:flex;\n",
              "      flex-wrap:wrap;\n",
              "      gap: 12px;\n",
              "    }\n",
              "\n",
              "    .colab-df-convert {\n",
              "      background-color: #E8F0FE;\n",
              "      border: none;\n",
              "      border-radius: 50%;\n",
              "      cursor: pointer;\n",
              "      display: none;\n",
              "      fill: #1967D2;\n",
              "      height: 32px;\n",
              "      padding: 0 0 0 0;\n",
              "      width: 32px;\n",
              "    }\n",
              "\n",
              "    .colab-df-convert:hover {\n",
              "      background-color: #E2EBFA;\n",
              "      box-shadow: 0px 1px 2px rgba(60, 64, 67, 0.3), 0px 1px 3px 1px rgba(60, 64, 67, 0.15);\n",
              "      fill: #174EA6;\n",
              "    }\n",
              "\n",
              "    [theme=dark] .colab-df-convert {\n",
              "      background-color: #3B4455;\n",
              "      fill: #D2E3FC;\n",
              "    }\n",
              "\n",
              "    [theme=dark] .colab-df-convert:hover {\n",
              "      background-color: #434B5C;\n",
              "      box-shadow: 0px 1px 3px 1px rgba(0, 0, 0, 0.15);\n",
              "      filter: drop-shadow(0px 1px 2px rgba(0, 0, 0, 0.3));\n",
              "      fill: #FFFFFF;\n",
              "    }\n",
              "  </style>\n",
              "\n",
              "      <script>\n",
              "        const buttonEl =\n",
              "          document.querySelector('#df-c565643c-e1f2-4848-9447-41a7c57659f8 button.colab-df-convert');\n",
              "        buttonEl.style.display =\n",
              "          google.colab.kernel.accessAllowed ? 'block' : 'none';\n",
              "\n",
              "        async function convertToInteractive(key) {\n",
              "          const element = document.querySelector('#df-c565643c-e1f2-4848-9447-41a7c57659f8');\n",
              "          const dataTable =\n",
              "            await google.colab.kernel.invokeFunction('convertToInteractive',\n",
              "                                                     [key], {});\n",
              "          if (!dataTable) return;\n",
              "\n",
              "          const docLinkHtml = 'Like what you see? Visit the ' +\n",
              "            '<a target=\"_blank\" href=https://colab.research.google.com/notebooks/data_table.ipynb>data table notebook</a>'\n",
              "            + ' to learn more about interactive tables.';\n",
              "          element.innerHTML = '';\n",
              "          dataTable['output_type'] = 'display_data';\n",
              "          await google.colab.output.renderOutput(dataTable, element);\n",
              "          const docLink = document.createElement('div');\n",
              "          docLink.innerHTML = docLinkHtml;\n",
              "          element.appendChild(docLink);\n",
              "        }\n",
              "      </script>\n",
              "    </div>\n",
              "  </div>\n",
              "  "
            ]
          },
          "metadata": {},
          "execution_count": 26
        }
      ]
    },
    {
      "cell_type": "markdown",
      "source": [
        "##### **Problem #13: Split the train data into a training and validation datasets.**\n",
        "\n",
        "---\n",
        "\n"
      ],
      "metadata": {
        "id": "B1sC32scyCgW"
      }
    },
    {
      "cell_type": "code",
      "source": [
        "# Split train data into train/validation data\n",
        "X_train, X_valid, y_train, y_valid = # WRITE YOUR CODE HERE"
      ],
      "metadata": {
        "id": "g1AcTFo3yCGx"
      },
      "execution_count": null,
      "outputs": []
    },
    {
      "cell_type": "markdown",
      "source": [
        "###### **Solution**"
      ],
      "metadata": {
        "id": "jSwCy_2OyK0Q"
      }
    },
    {
      "cell_type": "code",
      "source": [
        "# Split train data into train/validation data\n",
        "X_train, X_valid, y_train, y_valid = train_test_split(X, y, test_size=0.2, random_state=42)"
      ],
      "metadata": {
        "id": "dfed8zZzyQLu"
      },
      "execution_count": null,
      "outputs": []
    },
    {
      "cell_type": "markdown",
      "source": [
        "##### **Problem #14: Initialize a logistic regression model, a KNN model with k=3, and a KNN model with k=5.**\n",
        "\n",
        "---\n",
        "\n"
      ],
      "metadata": {
        "id": "yrf53VmdyZ2B"
      }
    },
    {
      "cell_type": "code",
      "source": [
        "# Create models\n",
        "logr = # WRITE YOUR CODE HERE\n",
        "knn3 = # WRITE YOUR CODE HERE\n",
        "knn5 = # WRITE YOUR CODE HERE"
      ],
      "metadata": {
        "id": "dkRTA-h6yiEF"
      },
      "execution_count": null,
      "outputs": []
    },
    {
      "cell_type": "markdown",
      "source": [
        "###### **Solution**"
      ],
      "metadata": {
        "id": "81dR3afPytAH"
      }
    },
    {
      "cell_type": "code",
      "source": [
        "# Create models\n",
        "logr = LogisticRegression(random_state=42)\n",
        "knn3 = KNeighborsClassifier(3)\n",
        "knn5 = KNeighborsClassifier(5)"
      ],
      "metadata": {
        "id": "jlD05WRyztgo"
      },
      "execution_count": null,
      "outputs": []
    },
    {
      "cell_type": "markdown",
      "source": [
        "---\n",
        "\n",
        "<center>\n",
        "\n",
        "#### **Back to lecture**\n",
        "\n",
        "---"
      ],
      "metadata": {
        "id": "1Qj3GAOUawdA"
      }
    },
    {
      "cell_type": "markdown",
      "source": [
        "#### **Step #1: Decide on a metric and target value**\n",
        "---\n",
        "\n",
        "There are many choices for metrics to use. In this case we will use accuracy, and set a target value of 0.8. These can be changed later if we learn something from the validation process that suggests this may not be the best metric or target.\n"
      ],
      "metadata": {
        "id": "3TJ6CbLh-rxa"
      }
    },
    {
      "cell_type": "markdown",
      "source": [
        "#### **Step #2: Train the models on the training set.**\n",
        "---\n",
        "\n"
      ],
      "metadata": {
        "id": "psLnGYFO-wo1"
      }
    },
    {
      "cell_type": "markdown",
      "source": [
        "##### **Problem 15: Train each of the models: `logr`, `knn3`, and `knn5`.**\n",
        "---"
      ],
      "metadata": {
        "id": "8uKTdT2ky5nd"
      }
    },
    {
      "cell_type": "code",
      "source": [],
      "metadata": {
        "id": "TY_phiPd-wo3"
      },
      "execution_count": null,
      "outputs": []
    },
    {
      "cell_type": "markdown",
      "source": [
        "###### **Solution**\n"
      ],
      "metadata": {
        "id": "A-mNQ8et-wo3"
      }
    },
    {
      "cell_type": "code",
      "source": [
        "logr.fit(X_train, y_train)\n",
        "knn3.fit(X_train, y_train)\n",
        "knn5.fit(X_train, y_train)"
      ],
      "metadata": {
        "id": "Tbc-tEvH-wo3",
        "colab": {
          "base_uri": "https://localhost:8080/",
          "height": 72
        },
        "outputId": "79a91882-fc77-4093-ddd2-595d6c3aa78b"
      },
      "execution_count": null,
      "outputs": [
        {
          "output_type": "execute_result",
          "data": {
            "text/plain": [
              "KNeighborsClassifier()"
            ],
            "text/html": [
              "<style>#sk-container-id-1 {color: black;background-color: white;}#sk-container-id-1 pre{padding: 0;}#sk-container-id-1 div.sk-toggleable {background-color: white;}#sk-container-id-1 label.sk-toggleable__label {cursor: pointer;display: block;width: 100%;margin-bottom: 0;padding: 0.3em;box-sizing: border-box;text-align: center;}#sk-container-id-1 label.sk-toggleable__label-arrow:before {content: \"▸\";float: left;margin-right: 0.25em;color: #696969;}#sk-container-id-1 label.sk-toggleable__label-arrow:hover:before {color: black;}#sk-container-id-1 div.sk-estimator:hover label.sk-toggleable__label-arrow:before {color: black;}#sk-container-id-1 div.sk-toggleable__content {max-height: 0;max-width: 0;overflow: hidden;text-align: left;background-color: #f0f8ff;}#sk-container-id-1 div.sk-toggleable__content pre {margin: 0.2em;color: black;border-radius: 0.25em;background-color: #f0f8ff;}#sk-container-id-1 input.sk-toggleable__control:checked~div.sk-toggleable__content {max-height: 200px;max-width: 100%;overflow: auto;}#sk-container-id-1 input.sk-toggleable__control:checked~label.sk-toggleable__label-arrow:before {content: \"▾\";}#sk-container-id-1 div.sk-estimator input.sk-toggleable__control:checked~label.sk-toggleable__label {background-color: #d4ebff;}#sk-container-id-1 div.sk-label input.sk-toggleable__control:checked~label.sk-toggleable__label {background-color: #d4ebff;}#sk-container-id-1 input.sk-hidden--visually {border: 0;clip: rect(1px 1px 1px 1px);clip: rect(1px, 1px, 1px, 1px);height: 1px;margin: -1px;overflow: hidden;padding: 0;position: absolute;width: 1px;}#sk-container-id-1 div.sk-estimator {font-family: monospace;background-color: #f0f8ff;border: 1px dotted black;border-radius: 0.25em;box-sizing: border-box;margin-bottom: 0.5em;}#sk-container-id-1 div.sk-estimator:hover {background-color: #d4ebff;}#sk-container-id-1 div.sk-parallel-item::after {content: \"\";width: 100%;border-bottom: 1px solid gray;flex-grow: 1;}#sk-container-id-1 div.sk-label:hover label.sk-toggleable__label {background-color: #d4ebff;}#sk-container-id-1 div.sk-serial::before {content: \"\";position: absolute;border-left: 1px solid gray;box-sizing: border-box;top: 0;bottom: 0;left: 50%;z-index: 0;}#sk-container-id-1 div.sk-serial {display: flex;flex-direction: column;align-items: center;background-color: white;padding-right: 0.2em;padding-left: 0.2em;position: relative;}#sk-container-id-1 div.sk-item {position: relative;z-index: 1;}#sk-container-id-1 div.sk-parallel {display: flex;align-items: stretch;justify-content: center;background-color: white;position: relative;}#sk-container-id-1 div.sk-item::before, #sk-container-id-1 div.sk-parallel-item::before {content: \"\";position: absolute;border-left: 1px solid gray;box-sizing: border-box;top: 0;bottom: 0;left: 50%;z-index: -1;}#sk-container-id-1 div.sk-parallel-item {display: flex;flex-direction: column;z-index: 1;position: relative;background-color: white;}#sk-container-id-1 div.sk-parallel-item:first-child::after {align-self: flex-end;width: 50%;}#sk-container-id-1 div.sk-parallel-item:last-child::after {align-self: flex-start;width: 50%;}#sk-container-id-1 div.sk-parallel-item:only-child::after {width: 0;}#sk-container-id-1 div.sk-dashed-wrapped {border: 1px dashed gray;margin: 0 0.4em 0.5em 0.4em;box-sizing: border-box;padding-bottom: 0.4em;background-color: white;}#sk-container-id-1 div.sk-label label {font-family: monospace;font-weight: bold;display: inline-block;line-height: 1.2em;}#sk-container-id-1 div.sk-label-container {text-align: center;}#sk-container-id-1 div.sk-container {/* jupyter's `normalize.less` sets `[hidden] { display: none; }` but bootstrap.min.css set `[hidden] { display: none !important; }` so we also need the `!important` here to be able to override the default hidden behavior on the sphinx rendered scikit-learn.org. See: https://github.com/scikit-learn/scikit-learn/issues/21755 */display: inline-block !important;position: relative;}#sk-container-id-1 div.sk-text-repr-fallback {display: none;}</style><div id=\"sk-container-id-1\" class=\"sk-top-container\"><div class=\"sk-text-repr-fallback\"><pre>KNeighborsClassifier()</pre><b>In a Jupyter environment, please rerun this cell to show the HTML representation or trust the notebook. <br />On GitHub, the HTML representation is unable to render, please try loading this page with nbviewer.org.</b></div><div class=\"sk-container\" hidden><div class=\"sk-item\"><div class=\"sk-estimator sk-toggleable\"><input class=\"sk-toggleable__control sk-hidden--visually\" id=\"sk-estimator-id-1\" type=\"checkbox\" checked><label for=\"sk-estimator-id-1\" class=\"sk-toggleable__label sk-toggleable__label-arrow\">KNeighborsClassifier</label><div class=\"sk-toggleable__content\"><pre>KNeighborsClassifier()</pre></div></div></div></div></div>"
            ]
          },
          "metadata": {},
          "execution_count": 30
        }
      ]
    },
    {
      "cell_type": "markdown",
      "source": [
        "#### **Step #3: Evaluate**\n",
        "---\n",
        "\n",
        "Now, we can check the accuracy of each model on the training and validation datasets.\n"
      ],
      "metadata": {
        "id": "ccqSCuOI-zY3"
      }
    },
    {
      "cell_type": "markdown",
      "source": [
        "##### **Problem 16: Evaluate and print the accuracy scores.**\n",
        "---\n",
        "\n",
        "Fill in the code where indicated to print the accuracy scores on the training and validation datasets."
      ],
      "metadata": {
        "id": "cGMTP-V9y9Z0"
      }
    },
    {
      "cell_type": "code",
      "source": [
        "# Print training and validation scores\n",
        "models = [logr, knn3, knn5]\n",
        "model_names = ['Logistic Regression', 'KNN-3', 'KNN-5']\n",
        "\n",
        "# Looping over models to print scores for each\n",
        "for model, name in zip(models, model_names):\n",
        "  train_predictions = model.predict(# FILL IN CODE HERE)\n",
        "  train_score = accuracy_score(# FILL IN CODE HERE)\n",
        "  print(name)\n",
        "  print(f'Training Accuracy: {train_score}')\n",
        "  validation_predictions = model.predict(# FILL IN CODE HERE)\n",
        "  validation_score = accuracy_score(# FILL IN CODE HERE)\n",
        "  print(f'Validation Accuracy: {validation_score}\\n')\n"
      ],
      "metadata": {
        "id": "xs7P2dURclkK"
      },
      "execution_count": null,
      "outputs": []
    },
    {
      "cell_type": "markdown",
      "source": [
        "###### **Solution**"
      ],
      "metadata": {
        "id": "zcCeToS2cmAI"
      }
    },
    {
      "cell_type": "code",
      "source": [
        "# Print training and validation scores\n",
        "models = [logr, knn3, knn5]\n",
        "model_names = ['Logistic Regression', 'KNN-3', 'KNN-5']\n",
        "\n",
        "for model, name in zip(models, model_names):\n",
        "  train_predictions = model.predict(X_train)\n",
        "  train_score = accuracy_score(y_train,train_predictions)\n",
        "  print(name)\n",
        "  print(f'Training Accuracy: {train_score}')\n",
        "  validation_predictions = model.predict(X_valid)\n",
        "  validation_score = accuracy_score(y_valid,validation_predictions)\n",
        "  print(f'Validation Accuracy: {validation_score}\\n')\n"
      ],
      "metadata": {
        "colab": {
          "base_uri": "https://localhost:8080/"
        },
        "id": "LK94WRI6-8py",
        "outputId": "526a33c0-f687-4dfe-fe63-266c3f824c5b"
      },
      "execution_count": null,
      "outputs": [
        {
          "output_type": "stream",
          "name": "stdout",
          "text": [
            "Logistic Regression\n",
            "Training Accuracy: 0.8033707865168539\n",
            "Validation Accuracy: 0.7877094972067039\n",
            "\n",
            "KNN-3\n",
            "Training Accuracy: 0.8328651685393258\n",
            "Validation Accuracy: 0.7932960893854749\n",
            "\n",
            "KNN-5\n",
            "Training Accuracy: 0.8384831460674157\n",
            "Validation Accuracy: 0.8212290502793296\n",
            "\n"
          ]
        }
      ]
    },
    {
      "cell_type": "markdown",
      "source": [
        "#### **Discussion Questions**\n",
        "\n",
        "* Did any of the models reach the target value on the validation set? \n",
        "* What trends do you notice in the results?\n",
        "* Did any models show signs of overfitting or underfitting? How so?"
      ],
      "metadata": {
        "id": "HQwbAx2sb0MP"
      }
    },
    {
      "cell_type": "markdown",
      "source": [
        "##### **Problem 17: Which model performed best?**"
      ],
      "metadata": {
        "id": "5e05aPgwcOwt"
      }
    },
    {
      "cell_type": "code",
      "source": [
        "winning_model = # ADD THE WINNING MODEL HERE"
      ],
      "metadata": {
        "id": "DiXqNt7V4xw1"
      },
      "execution_count": null,
      "outputs": []
    },
    {
      "cell_type": "markdown",
      "source": [
        "###### **Solution**"
      ],
      "metadata": {
        "id": "O8RmU27ncGVH"
      }
    },
    {
      "cell_type": "code",
      "source": [
        "winning_model = knn5"
      ],
      "metadata": {
        "id": "dGT4w84_cIvs"
      },
      "execution_count": null,
      "outputs": []
    },
    {
      "cell_type": "markdown",
      "source": [
        "---\n",
        "\n",
        "### **[OPTIONAL] Part 3.2: Make Final Predictions**  \n",
        "\n",
        "---"
      ],
      "metadata": {
        "id": "d5FBkljT-GNk"
      }
    },
    {
      "cell_type": "markdown",
      "source": [
        "Now, we can make final predictions. This dataset is from the [Kaggle Titanic competition](https://www.kaggle.com/c/titanic). There is a test dataset from the competition we can use for final predictions. **We do not have the solutions for the test data.** We will provide code to generate a submission file you can upload on Kaggle if you'd like to submit your work and see the score on Kaggle. You will need to create a Kaggle account to do so. As you progress in this course, feel free to apply your knowledge to improve the features and models in this notebook and resubmit your predictions on Kaggle.\n",
        "\n",
        "Run the cell below. The file `submission.csv` will appear in your file explorer on the left side panel. You may download it to your computer and upload it to the competition to see your score."
      ],
      "metadata": {
        "id": "L0JWmIrUSqwK"
      }
    },
    {
      "cell_type": "code",
      "source": [
        "predictions = winning_model.predict(X_test)\n",
        "\n",
        "output = pd.DataFrame({'PassengerId': test_data.PassengerId, 'Survived': predictions})\n",
        "output.to_csv('submission.csv', index=False)\n",
        "print(\"Successfully saved!\")"
      ],
      "metadata": {
        "id": "0HCFpQwcSp-F",
        "colab": {
          "base_uri": "https://localhost:8080/"
        },
        "outputId": "98a930ca-b50c-4b03-db57-c18d37b7f118"
      },
      "execution_count": null,
      "outputs": [
        {
          "output_type": "stream",
          "name": "stdout",
          "text": [
            "Successfully saved!\n"
          ]
        }
      ]
    },
    {
      "cell_type": "markdown",
      "source": [
        "#End of notebook\n",
        "---\n",
        "© 2023 The Coding School, All rights reserved"
      ],
      "metadata": {
        "id": "7dzC09dLlEhm"
      }
    }
  ]
}